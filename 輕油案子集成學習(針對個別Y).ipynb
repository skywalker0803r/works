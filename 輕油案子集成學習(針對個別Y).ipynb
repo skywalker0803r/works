{
  "nbformat": 4,
  "nbformat_minor": 0,
  "metadata": {
    "colab": {
      "name": "輕油案子集成學習(針對個別Y).ipynb",
      "provenance": [],
      "include_colab_link": true
    },
    "kernelspec": {
      "name": "python3",
      "display_name": "Python 3"
    }
  },
  "cells": [
    {
      "cell_type": "markdown",
      "metadata": {
        "id": "view-in-github",
        "colab_type": "text"
      },
      "source": [
        "<a href=\"https://colab.research.google.com/github/skywalker0803r/works/blob/master/%E8%BC%95%E6%B2%B9%E6%A1%88%E5%AD%90%E9%9B%86%E6%88%90%E5%AD%B8%E7%BF%92(%E9%87%9D%E5%B0%8D%E5%80%8B%E5%88%A5Y).ipynb\" target=\"_parent\"><img src=\"https://colab.research.google.com/assets/colab-badge.svg\" alt=\"Open In Colab\"/></a>"
      ]
    },
    {
      "cell_type": "code",
      "metadata": {
        "id": "cJPLhpytI6lU",
        "colab_type": "code",
        "colab": {
          "base_uri": "https://localhost:8080/",
          "height": 35
        },
        "outputId": "c5d4026d-9d96-4c68-d4e9-ee33b179f611"
      },
      "source": [
        "from google.colab import drive\n",
        "drive.mount('/content/drive')"
      ],
      "execution_count": 1,
      "outputs": [
        {
          "output_type": "stream",
          "text": [
            "Drive already mounted at /content/drive; to attempt to forcibly remount, call drive.mount(\"/content/drive\", force_remount=True).\n"
          ],
          "name": "stdout"
        }
      ]
    },
    {
      "cell_type": "markdown",
      "metadata": {
        "id": "bSFiHb6PJOvn",
        "colab_type": "text"
      },
      "source": [
        "# Load data"
      ]
    },
    {
      "cell_type": "code",
      "metadata": {
        "id": "Bi61rOqFI_eT",
        "colab_type": "code",
        "colab": {}
      },
      "source": [
        "import pandas as pd\n",
        "\n",
        "train = pd.read_csv('/content/drive/My Drive/台塑輕油案子/輕油實驗數據(保留大部份欄位,三個基本規則清洗過).csv')\n",
        "train.rename(columns={'N+A in Feed':'NA'},inplace=True)\n",
        "\n",
        "x_columns = ['T10','T50','T90','NA']\n",
        "y_columns = ['C5NP', 'C5IP', 'C5N', 'C6NP',\n",
        "       'C6IP', 'C6N', 'C6A', 'C7NP', 'C7IP', 'C7N', 'C7A', 'C8NP', 'C8IP',\n",
        "       'C8N', 'C8A', 'C9NP', 'C9IP', 'C9N', 'C9A', 'C10NP', 'C10IP', 'C10N',\n",
        "       'C10A']\n",
        "train = train[x_columns+y_columns]\n",
        "X_train = train[x_columns]\n",
        "y_train = train[y_columns]"
      ],
      "execution_count": 0,
      "outputs": []
    },
    {
      "cell_type": "code",
      "metadata": {
        "id": "EGYEmyPYJYso",
        "colab_type": "code",
        "colab": {}
      },
      "source": [
        "test = pd.read_csv('/content/drive/My Drive/台塑輕油案子/test_without_outlier.csv')\n",
        "test.columns = train.columns\n",
        "X_test = test[x_columns]\n",
        "y_test = test[y_columns]"
      ],
      "execution_count": 0,
      "outputs": []
    },
    {
      "cell_type": "code",
      "metadata": {
        "id": "viiVX5HmJUd-",
        "colab_type": "code",
        "colab": {
          "base_uri": "https://localhost:8080/",
          "height": 35
        },
        "outputId": "26fcf7c4-7101-4196-ed5c-39326c4f5ae9"
      },
      "source": [
        "print(X_train.shape,X_test.shape,y_train.shape,y_test.shape)"
      ],
      "execution_count": 4,
      "outputs": [
        {
          "output_type": "stream",
          "text": [
            "(4521, 4) (170, 4) (4521, 23) (170, 23)\n"
          ],
          "name": "stdout"
        }
      ]
    },
    {
      "cell_type": "markdown",
      "metadata": {
        "id": "HbSD6oggKAhg",
        "colab_type": "text"
      },
      "source": [
        "# 特徵工程"
      ]
    },
    {
      "cell_type": "code",
      "metadata": {
        "id": "_OGfIgXUJ__v",
        "colab_type": "code",
        "colab": {}
      },
      "source": [
        "def 特徵工程(df):\n",
        "  df['T90-T50'] = df['T90']-df['T50']\n",
        "  df['T50-T10'] = df['T50']-df['T10']\n",
        "  return df"
      ],
      "execution_count": 0,
      "outputs": []
    },
    {
      "cell_type": "code",
      "metadata": {
        "id": "R_B9B-XdJIH4",
        "colab_type": "code",
        "colab": {
          "base_uri": "https://localhost:8080/",
          "height": 52
        },
        "outputId": "05988181-4067-4cda-bf1f-2c5bc8c7ed23"
      },
      "source": [
        "train = 特徵工程(train)\n",
        "test = 特徵工程(test)\n",
        "print('加入特徵工程項後目前特徵有:')\n",
        "x_columns = train.drop(y_columns,axis=1).columns.tolist()\n",
        "print(x_columns)"
      ],
      "execution_count": 6,
      "outputs": [
        {
          "output_type": "stream",
          "text": [
            "加入特徵工程項後目前特徵有:\n",
            "['T10', 'T50', 'T90', 'NA', 'T90-T50', 'T50-T10']\n"
          ],
          "name": "stdout"
        }
      ]
    },
    {
      "cell_type": "code",
      "metadata": {
        "id": "5Na20JLqJNGn",
        "colab_type": "code",
        "colab": {
          "base_uri": "https://localhost:8080/",
          "height": 194
        },
        "outputId": "d5c1a869-682a-4360-bc96-0cfb66b77dd4"
      },
      "source": [
        "train.head()"
      ],
      "execution_count": 7,
      "outputs": [
        {
          "output_type": "execute_result",
          "data": {
            "text/html": [
              "<div>\n",
              "<style scoped>\n",
              "    .dataframe tbody tr th:only-of-type {\n",
              "        vertical-align: middle;\n",
              "    }\n",
              "\n",
              "    .dataframe tbody tr th {\n",
              "        vertical-align: top;\n",
              "    }\n",
              "\n",
              "    .dataframe thead th {\n",
              "        text-align: right;\n",
              "    }\n",
              "</style>\n",
              "<table border=\"1\" class=\"dataframe\">\n",
              "  <thead>\n",
              "    <tr style=\"text-align: right;\">\n",
              "      <th></th>\n",
              "      <th>T10</th>\n",
              "      <th>T50</th>\n",
              "      <th>T90</th>\n",
              "      <th>NA</th>\n",
              "      <th>C5NP</th>\n",
              "      <th>C5IP</th>\n",
              "      <th>C5N</th>\n",
              "      <th>C6NP</th>\n",
              "      <th>C6IP</th>\n",
              "      <th>C6N</th>\n",
              "      <th>C6A</th>\n",
              "      <th>C7NP</th>\n",
              "      <th>C7IP</th>\n",
              "      <th>C7N</th>\n",
              "      <th>C7A</th>\n",
              "      <th>C8NP</th>\n",
              "      <th>C8IP</th>\n",
              "      <th>C8N</th>\n",
              "      <th>C8A</th>\n",
              "      <th>C9NP</th>\n",
              "      <th>C9IP</th>\n",
              "      <th>C9N</th>\n",
              "      <th>C9A</th>\n",
              "      <th>C10NP</th>\n",
              "      <th>C10IP</th>\n",
              "      <th>C10N</th>\n",
              "      <th>C10A</th>\n",
              "      <th>T90-T50</th>\n",
              "      <th>T50-T10</th>\n",
              "    </tr>\n",
              "  </thead>\n",
              "  <tbody>\n",
              "    <tr>\n",
              "      <th>0</th>\n",
              "      <td>100.5</td>\n",
              "      <td>119.2</td>\n",
              "      <td>146.5</td>\n",
              "      <td>31.978</td>\n",
              "      <td>0.272</td>\n",
              "      <td>0.132</td>\n",
              "      <td>0.059</td>\n",
              "      <td>5.293</td>\n",
              "      <td>2.570</td>\n",
              "      <td>2.819</td>\n",
              "      <td>0.494</td>\n",
              "      <td>10.395</td>\n",
              "      <td>8.070</td>\n",
              "      <td>6.411</td>\n",
              "      <td>2.917</td>\n",
              "      <td>9.138</td>\n",
              "      <td>9.649</td>\n",
              "      <td>4.810</td>\n",
              "      <td>5.373</td>\n",
              "      <td>6.405</td>\n",
              "      <td>9.759</td>\n",
              "      <td>4.590</td>\n",
              "      <td>3.661</td>\n",
              "      <td>0.875</td>\n",
              "      <td>5.257</td>\n",
              "      <td>0.525</td>\n",
              "      <td>0.319</td>\n",
              "      <td>27.3</td>\n",
              "      <td>18.7</td>\n",
              "    </tr>\n",
              "    <tr>\n",
              "      <th>1</th>\n",
              "      <td>99.6</td>\n",
              "      <td>117.9</td>\n",
              "      <td>145.5</td>\n",
              "      <td>31.568</td>\n",
              "      <td>0.297</td>\n",
              "      <td>0.151</td>\n",
              "      <td>0.062</td>\n",
              "      <td>5.089</td>\n",
              "      <td>2.531</td>\n",
              "      <td>2.804</td>\n",
              "      <td>0.499</td>\n",
              "      <td>10.074</td>\n",
              "      <td>7.958</td>\n",
              "      <td>6.395</td>\n",
              "      <td>2.894</td>\n",
              "      <td>8.970</td>\n",
              "      <td>9.548</td>\n",
              "      <td>4.753</td>\n",
              "      <td>5.443</td>\n",
              "      <td>6.324</td>\n",
              "      <td>9.899</td>\n",
              "      <td>4.301</td>\n",
              "      <td>2.995</td>\n",
              "      <td>0.881</td>\n",
              "      <td>5.591</td>\n",
              "      <td>1.119</td>\n",
              "      <td>0.303</td>\n",
              "      <td>27.6</td>\n",
              "      <td>18.3</td>\n",
              "    </tr>\n",
              "    <tr>\n",
              "      <th>2</th>\n",
              "      <td>100.0</td>\n",
              "      <td>118.8</td>\n",
              "      <td>145.6</td>\n",
              "      <td>31.344</td>\n",
              "      <td>0.262</td>\n",
              "      <td>0.126</td>\n",
              "      <td>0.061</td>\n",
              "      <td>5.107</td>\n",
              "      <td>2.571</td>\n",
              "      <td>2.771</td>\n",
              "      <td>0.492</td>\n",
              "      <td>10.069</td>\n",
              "      <td>7.913</td>\n",
              "      <td>6.378</td>\n",
              "      <td>2.890</td>\n",
              "      <td>9.006</td>\n",
              "      <td>9.591</td>\n",
              "      <td>4.778</td>\n",
              "      <td>5.468</td>\n",
              "      <td>6.360</td>\n",
              "      <td>9.983</td>\n",
              "      <td>4.274</td>\n",
              "      <td>2.979</td>\n",
              "      <td>0.865</td>\n",
              "      <td>5.641</td>\n",
              "      <td>0.964</td>\n",
              "      <td>0.289</td>\n",
              "      <td>26.8</td>\n",
              "      <td>18.8</td>\n",
              "    </tr>\n",
              "    <tr>\n",
              "      <th>3</th>\n",
              "      <td>100.4</td>\n",
              "      <td>118.6</td>\n",
              "      <td>142.9</td>\n",
              "      <td>31.453</td>\n",
              "      <td>0.224</td>\n",
              "      <td>0.105</td>\n",
              "      <td>0.060</td>\n",
              "      <td>4.894</td>\n",
              "      <td>2.497</td>\n",
              "      <td>2.650</td>\n",
              "      <td>0.469</td>\n",
              "      <td>10.015</td>\n",
              "      <td>7.685</td>\n",
              "      <td>6.376</td>\n",
              "      <td>2.866</td>\n",
              "      <td>9.133</td>\n",
              "      <td>9.708</td>\n",
              "      <td>4.889</td>\n",
              "      <td>5.510</td>\n",
              "      <td>6.444</td>\n",
              "      <td>10.182</td>\n",
              "      <td>4.420</td>\n",
              "      <td>2.964</td>\n",
              "      <td>0.830</td>\n",
              "      <td>5.637</td>\n",
              "      <td>0.968</td>\n",
              "      <td>0.281</td>\n",
              "      <td>24.3</td>\n",
              "      <td>18.2</td>\n",
              "    </tr>\n",
              "    <tr>\n",
              "      <th>4</th>\n",
              "      <td>100.4</td>\n",
              "      <td>118.1</td>\n",
              "      <td>142.2</td>\n",
              "      <td>32.190</td>\n",
              "      <td>0.243</td>\n",
              "      <td>0.117</td>\n",
              "      <td>0.061</td>\n",
              "      <td>4.946</td>\n",
              "      <td>2.503</td>\n",
              "      <td>2.695</td>\n",
              "      <td>0.477</td>\n",
              "      <td>10.053</td>\n",
              "      <td>7.765</td>\n",
              "      <td>6.394</td>\n",
              "      <td>2.877</td>\n",
              "      <td>9.101</td>\n",
              "      <td>9.676</td>\n",
              "      <td>4.855</td>\n",
              "      <td>5.500</td>\n",
              "      <td>6.416</td>\n",
              "      <td>10.115</td>\n",
              "      <td>4.347</td>\n",
              "      <td>3.725</td>\n",
              "      <td>0.835</td>\n",
              "      <td>4.823</td>\n",
              "      <td>0.969</td>\n",
              "      <td>0.290</td>\n",
              "      <td>24.1</td>\n",
              "      <td>17.7</td>\n",
              "    </tr>\n",
              "  </tbody>\n",
              "</table>\n",
              "</div>"
            ],
            "text/plain": [
              "     T10    T50    T90      NA   C5NP  ...  C10IP   C10N   C10A  T90-T50  T50-T10\n",
              "0  100.5  119.2  146.5  31.978  0.272  ...  5.257  0.525  0.319     27.3     18.7\n",
              "1   99.6  117.9  145.5  31.568  0.297  ...  5.591  1.119  0.303     27.6     18.3\n",
              "2  100.0  118.8  145.6  31.344  0.262  ...  5.641  0.964  0.289     26.8     18.8\n",
              "3  100.4  118.6  142.9  31.453  0.224  ...  5.637  0.968  0.281     24.3     18.2\n",
              "4  100.4  118.1  142.2  32.190  0.243  ...  4.823  0.969  0.290     24.1     17.7\n",
              "\n",
              "[5 rows x 29 columns]"
            ]
          },
          "metadata": {
            "tags": []
          },
          "execution_count": 7
        }
      ]
    },
    {
      "cell_type": "code",
      "metadata": {
        "id": "TNMV1HkvKIBX",
        "colab_type": "code",
        "colab": {
          "base_uri": "https://localhost:8080/",
          "height": 194
        },
        "outputId": "1a634e0f-1ee9-4e40-e069-34933a533793"
      },
      "source": [
        "test.head()"
      ],
      "execution_count": 8,
      "outputs": [
        {
          "output_type": "execute_result",
          "data": {
            "text/html": [
              "<div>\n",
              "<style scoped>\n",
              "    .dataframe tbody tr th:only-of-type {\n",
              "        vertical-align: middle;\n",
              "    }\n",
              "\n",
              "    .dataframe tbody tr th {\n",
              "        vertical-align: top;\n",
              "    }\n",
              "\n",
              "    .dataframe thead th {\n",
              "        text-align: right;\n",
              "    }\n",
              "</style>\n",
              "<table border=\"1\" class=\"dataframe\">\n",
              "  <thead>\n",
              "    <tr style=\"text-align: right;\">\n",
              "      <th></th>\n",
              "      <th>T10</th>\n",
              "      <th>T50</th>\n",
              "      <th>T90</th>\n",
              "      <th>NA</th>\n",
              "      <th>C5NP</th>\n",
              "      <th>C5IP</th>\n",
              "      <th>C5N</th>\n",
              "      <th>C6NP</th>\n",
              "      <th>C6IP</th>\n",
              "      <th>C6N</th>\n",
              "      <th>C6A</th>\n",
              "      <th>C7NP</th>\n",
              "      <th>C7IP</th>\n",
              "      <th>C7N</th>\n",
              "      <th>C7A</th>\n",
              "      <th>C8NP</th>\n",
              "      <th>C8IP</th>\n",
              "      <th>C8N</th>\n",
              "      <th>C8A</th>\n",
              "      <th>C9NP</th>\n",
              "      <th>C9IP</th>\n",
              "      <th>C9N</th>\n",
              "      <th>C9A</th>\n",
              "      <th>C10NP</th>\n",
              "      <th>C10IP</th>\n",
              "      <th>C10N</th>\n",
              "      <th>C10A</th>\n",
              "      <th>T90-T50</th>\n",
              "      <th>T50-T10</th>\n",
              "    </tr>\n",
              "  </thead>\n",
              "  <tbody>\n",
              "    <tr>\n",
              "      <th>0</th>\n",
              "      <td>98.6</td>\n",
              "      <td>119.2</td>\n",
              "      <td>146.1</td>\n",
              "      <td>40.133</td>\n",
              "      <td>1.142</td>\n",
              "      <td>0.616</td>\n",
              "      <td>0.217</td>\n",
              "      <td>3.745</td>\n",
              "      <td>2.577</td>\n",
              "      <td>4.028</td>\n",
              "      <td>0.557</td>\n",
              "      <td>7.669</td>\n",
              "      <td>5.9900</td>\n",
              "      <td>10.206</td>\n",
              "      <td>3.075</td>\n",
              "      <td>7.920</td>\n",
              "      <td>8.036</td>\n",
              "      <td>7.039</td>\n",
              "      <td>5.438</td>\n",
              "      <td>5.263</td>\n",
              "      <td>9.537</td>\n",
              "      <td>4.877</td>\n",
              "      <td>3.481</td>\n",
              "      <td>1.088</td>\n",
              "      <td>5.652</td>\n",
              "      <td>0.618</td>\n",
              "      <td>0.597</td>\n",
              "      <td>26.9</td>\n",
              "      <td>20.6</td>\n",
              "    </tr>\n",
              "    <tr>\n",
              "      <th>1</th>\n",
              "      <td>105.4</td>\n",
              "      <td>122.2</td>\n",
              "      <td>148.2</td>\n",
              "      <td>32.175</td>\n",
              "      <td>0.122</td>\n",
              "      <td>0.078</td>\n",
              "      <td>0.029</td>\n",
              "      <td>3.955</td>\n",
              "      <td>1.563</td>\n",
              "      <td>2.407</td>\n",
              "      <td>0.400</td>\n",
              "      <td>10.016</td>\n",
              "      <td>7.2633</td>\n",
              "      <td>6.573</td>\n",
              "      <td>2.809</td>\n",
              "      <td>9.544</td>\n",
              "      <td>9.815</td>\n",
              "      <td>5.135</td>\n",
              "      <td>5.482</td>\n",
              "      <td>6.793</td>\n",
              "      <td>10.850</td>\n",
              "      <td>4.308</td>\n",
              "      <td>3.963</td>\n",
              "      <td>1.069</td>\n",
              "      <td>6.025</td>\n",
              "      <td>0.585</td>\n",
              "      <td>0.484</td>\n",
              "      <td>26.0</td>\n",
              "      <td>16.8</td>\n",
              "    </tr>\n",
              "    <tr>\n",
              "      <th>2</th>\n",
              "      <td>105.8</td>\n",
              "      <td>122.7</td>\n",
              "      <td>149.2</td>\n",
              "      <td>31.428</td>\n",
              "      <td>0.098</td>\n",
              "      <td>0.064</td>\n",
              "      <td>0.020</td>\n",
              "      <td>3.920</td>\n",
              "      <td>1.447</td>\n",
              "      <td>2.296</td>\n",
              "      <td>0.396</td>\n",
              "      <td>10.236</td>\n",
              "      <td>7.3480</td>\n",
              "      <td>6.259</td>\n",
              "      <td>2.797</td>\n",
              "      <td>9.655</td>\n",
              "      <td>9.986</td>\n",
              "      <td>4.942</td>\n",
              "      <td>5.453</td>\n",
              "      <td>6.947</td>\n",
              "      <td>10.996</td>\n",
              "      <td>4.269</td>\n",
              "      <td>3.997</td>\n",
              "      <td>1.034</td>\n",
              "      <td>6.107</td>\n",
              "      <td>0.543</td>\n",
              "      <td>0.456</td>\n",
              "      <td>26.5</td>\n",
              "      <td>16.9</td>\n",
              "    </tr>\n",
              "    <tr>\n",
              "      <th>3</th>\n",
              "      <td>105.4</td>\n",
              "      <td>122.4</td>\n",
              "      <td>147.6</td>\n",
              "      <td>31.390</td>\n",
              "      <td>0.122</td>\n",
              "      <td>0.085</td>\n",
              "      <td>0.021</td>\n",
              "      <td>3.900</td>\n",
              "      <td>1.437</td>\n",
              "      <td>2.274</td>\n",
              "      <td>0.397</td>\n",
              "      <td>10.259</td>\n",
              "      <td>7.3560</td>\n",
              "      <td>6.234</td>\n",
              "      <td>2.820</td>\n",
              "      <td>9.670</td>\n",
              "      <td>10.146</td>\n",
              "      <td>4.928</td>\n",
              "      <td>5.476</td>\n",
              "      <td>6.953</td>\n",
              "      <td>11.026</td>\n",
              "      <td>4.264</td>\n",
              "      <td>3.982</td>\n",
              "      <td>1.013</td>\n",
              "      <td>6.054</td>\n",
              "      <td>0.545</td>\n",
              "      <td>0.449</td>\n",
              "      <td>25.2</td>\n",
              "      <td>17.0</td>\n",
              "    </tr>\n",
              "    <tr>\n",
              "      <th>4</th>\n",
              "      <td>105.4</td>\n",
              "      <td>122.6</td>\n",
              "      <td>148.2</td>\n",
              "      <td>32.418</td>\n",
              "      <td>0.072</td>\n",
              "      <td>0.049</td>\n",
              "      <td>0.015</td>\n",
              "      <td>3.873</td>\n",
              "      <td>1.369</td>\n",
              "      <td>2.206</td>\n",
              "      <td>0.489</td>\n",
              "      <td>10.213</td>\n",
              "      <td>7.3190</td>\n",
              "      <td>6.009</td>\n",
              "      <td>2.968</td>\n",
              "      <td>9.564</td>\n",
              "      <td>10.052</td>\n",
              "      <td>4.769</td>\n",
              "      <td>6.584</td>\n",
              "      <td>6.866</td>\n",
              "      <td>10.892</td>\n",
              "      <td>4.169</td>\n",
              "      <td>4.227</td>\n",
              "      <td>0.930</td>\n",
              "      <td>5.828</td>\n",
              "      <td>0.519</td>\n",
              "      <td>0.463</td>\n",
              "      <td>25.6</td>\n",
              "      <td>17.2</td>\n",
              "    </tr>\n",
              "  </tbody>\n",
              "</table>\n",
              "</div>"
            ],
            "text/plain": [
              "     T10    T50    T90      NA   C5NP  ...  C10IP   C10N   C10A  T90-T50  T50-T10\n",
              "0   98.6  119.2  146.1  40.133  1.142  ...  5.652  0.618  0.597     26.9     20.6\n",
              "1  105.4  122.2  148.2  32.175  0.122  ...  6.025  0.585  0.484     26.0     16.8\n",
              "2  105.8  122.7  149.2  31.428  0.098  ...  6.107  0.543  0.456     26.5     16.9\n",
              "3  105.4  122.4  147.6  31.390  0.122  ...  6.054  0.545  0.449     25.2     17.0\n",
              "4  105.4  122.6  148.2  32.418  0.072  ...  5.828  0.519  0.463     25.6     17.2\n",
              "\n",
              "[5 rows x 29 columns]"
            ]
          },
          "metadata": {
            "tags": []
          },
          "execution_count": 8
        }
      ]
    },
    {
      "cell_type": "code",
      "metadata": {
        "id": "Er41G27uKv0v",
        "colab_type": "code",
        "colab": {}
      },
      "source": [
        "High_RMSE_index = ['C6N', 'C7N', 'C8N', 'C8A']"
      ],
      "execution_count": 0,
      "outputs": []
    },
    {
      "cell_type": "markdown",
      "metadata": {
        "id": "glO7MxZoK3HK",
        "colab_type": "text"
      },
      "source": [
        "# Ensembling & Stacking models"
      ]
    },
    {
      "cell_type": "code",
      "metadata": {
        "id": "yCdILfEQK1No",
        "colab_type": "code",
        "colab": {}
      },
      "source": [
        "from sklearn.model_selection import KFold\n",
        "from sklearn.ensemble import (RandomForestRegressor, AdaBoostRegressor, \n",
        "                              GradientBoostingRegressor,ExtraTreesRegressor)\n",
        "from sklearn.svm import SVR\n",
        "import numpy as np\n",
        "\n",
        "\n",
        "# Some useful parameters which will come in handy later on\n",
        "ntrain = train.shape[0]\n",
        "ntest = test.shape[0]\n",
        "SEED = 0 # for reproducibility\n",
        "NFOLDS = 5 # set folds for out-of-fold prediction\n",
        "kf = KFold(n_splits = NFOLDS ,random_state=SEED)\n",
        "\n",
        "# Class to extend the Sklearn classifier\n",
        "class SklearnHelper(object):\n",
        "    def __init__(self, clf,seed=0,params=None):\n",
        "        params['random_state'] = seed\n",
        "        self.clf = clf(**params)\n",
        "\n",
        "    def train(self, x_train, y_train):\n",
        "        self.clf.fit(x_train, y_train)\n",
        "\n",
        "    def predict(self, x):\n",
        "        return self.clf.predict(x)\n",
        "    \n",
        "    def fit(self,x,y):\n",
        "        return self.clf.fit(x,y)\n",
        "    \n",
        "    def feature_importances(self,x,y):\n",
        "        print(self.clf.fit(x,y).feature_importances_)\n",
        "    \n",
        "# Class to extend XGboost classifer"
      ],
      "execution_count": 0,
      "outputs": []
    },
    {
      "cell_type": "markdown",
      "metadata": {
        "id": "sEuVwHMmK_LV",
        "colab_type": "text"
      },
      "source": [
        "Out-of-Fold Predictions Now as alluded to above in the introductory section, stacking uses predictions of base classifiers as input for training to a second-level model. However one cannot simply train the base models on the full training data, generate predictions on the full test set and then output these for the second-level training. This runs the risk of your base model predictions already having \"seen\" the test set and therefore overfitting when feeding these predictions."
      ]
    },
    {
      "cell_type": "code",
      "metadata": {
        "id": "w_2RUiFWK7nv",
        "colab_type": "code",
        "colab": {}
      },
      "source": [
        "def get_oof(clf, x_train, y_train, x_test):\n",
        "    oof_train = np.zeros((ntrain,))\n",
        "    oof_test = np.zeros((ntest,))\n",
        "    oof_test_skf = np.empty((NFOLDS, ntest))\n",
        "    for i, (train_index, test_index) in enumerate(kf.split(x_train)):\n",
        "        x_tr = x_train[train_index]\n",
        "        y_tr = y_train[train_index]\n",
        "        x_te = x_train[test_index]\n",
        "\n",
        "        clf.train(x_tr, y_tr)\n",
        "\n",
        "        oof_train[test_index] = clf.predict(x_te)\n",
        "        oof_test_skf[i, :] = clf.predict(x_test)\n",
        "\n",
        "    oof_test[:] = oof_test_skf.mean(axis=0)\n",
        "    return oof_train.reshape(-1, 1), oof_test.reshape(-1, 1)"
      ],
      "execution_count": 0,
      "outputs": []
    },
    {
      "cell_type": "markdown",
      "metadata": {
        "id": "78DmDv69LCf5",
        "colab_type": "text"
      },
      "source": [
        "# Generating our Base First-Level Models"
      ]
    },
    {
      "cell_type": "code",
      "metadata": {
        "id": "x4oGTVVhK-oV",
        "colab_type": "code",
        "colab": {}
      },
      "source": [
        "# Random Forest parameters\n",
        "rf_params = {\n",
        "    'n_jobs': -1,\n",
        "    'n_estimators': 500,\n",
        "     'warm_start': True, \n",
        "     #'max_features': 0.2,\n",
        "    'max_depth': 6,\n",
        "    'min_samples_leaf': 2,\n",
        "    'max_features' : 'sqrt',\n",
        "    'verbose': 0\n",
        "}\n",
        "\n",
        "# Extra Trees Parameters\n",
        "et_params = {\n",
        "    'n_jobs': -1,\n",
        "    'n_estimators':500,\n",
        "    #'max_features': 0.5,\n",
        "    'max_depth': 8,\n",
        "    'min_samples_leaf': 2,\n",
        "    'verbose': 0\n",
        "}\n",
        "\n",
        "# AdaBoost parameters\n",
        "ada_params = {\n",
        "    'n_estimators': 500,\n",
        "    'learning_rate' : 0.75\n",
        "}\n",
        "\n",
        "# Gradient Boosting parameters\n",
        "gb_params = {\n",
        "    'n_estimators': 500,\n",
        "     #'max_features': 0.2,\n",
        "    'max_depth': 5,\n",
        "    'min_samples_leaf': 2,\n",
        "    'verbose': 0\n",
        "}"
      ],
      "execution_count": 0,
      "outputs": []
    },
    {
      "cell_type": "code",
      "metadata": {
        "id": "tK5kvpVcLD4N",
        "colab_type": "code",
        "colab": {}
      },
      "source": [
        "rf = SklearnHelper(clf=RandomForestRegressor,seed=SEED,params=rf_params)\n",
        "et = SklearnHelper(clf=ExtraTreesRegressor,seed=SEED,params=et_params)\n",
        "ada = SklearnHelper(clf=AdaBoostRegressor,seed=SEED,params=ada_params)\n",
        "gb = SklearnHelper(clf=GradientBoostingRegressor,seed=SEED,params=gb_params)"
      ],
      "execution_count": 0,
      "outputs": []
    },
    {
      "cell_type": "markdown",
      "metadata": {
        "id": "IclOfRw9LHcv",
        "colab_type": "text"
      },
      "source": [
        "# define y_name"
      ]
    },
    {
      "cell_type": "code",
      "metadata": {
        "id": "Rl3jrtktLFhI",
        "colab_type": "code",
        "colab": {
          "base_uri": "https://localhost:8080/",
          "height": 35
        },
        "outputId": "ba2bfcb9-1df0-40fb-939d-a861e049feb8"
      },
      "source": [
        "High_RMSE_index"
      ],
      "execution_count": 14,
      "outputs": [
        {
          "output_type": "execute_result",
          "data": {
            "text/plain": [
              "['C6N', 'C7N', 'C8N', 'C8A']"
            ]
          },
          "metadata": {
            "tags": []
          },
          "execution_count": 14
        }
      ]
    },
    {
      "cell_type": "code",
      "metadata": {
        "id": "ZKuvvbH5LJij",
        "colab_type": "code",
        "colab": {}
      },
      "source": [
        "y_name = 'C6N'"
      ],
      "execution_count": 0,
      "outputs": []
    },
    {
      "cell_type": "code",
      "metadata": {
        "id": "AzM8goIiLLFF",
        "colab_type": "code",
        "colab": {
          "base_uri": "https://localhost:8080/",
          "height": 35
        },
        "outputId": "2302d222-f90f-4f21-a22f-defe2bb9d91b"
      },
      "source": [
        "y_train = train[y_name].ravel()\n",
        "y_test = test[y_name].ravel()\n",
        "\n",
        "x_train = train[x_columns].values \n",
        "x_test = test[x_columns].values\n",
        "\n",
        "print(x_train.shape,x_test.shape,y_train.shape,y_test.shape)"
      ],
      "execution_count": 16,
      "outputs": [
        {
          "output_type": "stream",
          "text": [
            "(4521, 6) (170, 6) (4521,) (170,)\n"
          ],
          "name": "stdout"
        }
      ]
    },
    {
      "cell_type": "markdown",
      "metadata": {
        "id": "d2ypaqYxLOOZ",
        "colab_type": "text"
      },
      "source": [
        "# Output of the First level Predictions"
      ]
    },
    {
      "cell_type": "markdown",
      "metadata": {
        "id": "7zftgmpoLP5x",
        "colab_type": "text"
      },
      "source": [
        "We now feed the training and test data into our 5 base classifiers and use the Out-of-Fold prediction function we defined earlier to generate our first level predictions. Allow a handful of minutes for the chunk of code below to run."
      ]
    },
    {
      "cell_type": "code",
      "metadata": {
        "id": "em4LDCRoLMTL",
        "colab_type": "code",
        "colab": {
          "base_uri": "https://localhost:8080/",
          "height": 177
        },
        "outputId": "4d335318-bd8c-440a-9ccf-440b9a69efd4"
      },
      "source": [
        "et_oof_train, et_oof_test = get_oof(et, x_train, y_train, x_test) # Extra Trees\n",
        "rf_oof_train, rf_oof_test = get_oof(rf,x_train, y_train, x_test) # Random Forest\n",
        "ada_oof_train, ada_oof_test = get_oof(ada, x_train, y_train, x_test) # AdaBoost \n",
        "gb_oof_train, gb_oof_test = get_oof(gb,x_train, y_train, x_test) # Gradient Boost\n",
        "\n",
        "print(\"Training is complete\")"
      ],
      "execution_count": 17,
      "outputs": [
        {
          "output_type": "stream",
          "text": [
            "/usr/local/lib/python3.6/dist-packages/sklearn/ensemble/forest.py:307: UserWarning: Warm-start fitting without increasing n_estimators does not fit new trees.\n",
            "  warn(\"Warm-start fitting without increasing n_estimators does not \"\n",
            "/usr/local/lib/python3.6/dist-packages/sklearn/ensemble/forest.py:307: UserWarning: Warm-start fitting without increasing n_estimators does not fit new trees.\n",
            "  warn(\"Warm-start fitting without increasing n_estimators does not \"\n",
            "/usr/local/lib/python3.6/dist-packages/sklearn/ensemble/forest.py:307: UserWarning: Warm-start fitting without increasing n_estimators does not fit new trees.\n",
            "  warn(\"Warm-start fitting without increasing n_estimators does not \"\n",
            "/usr/local/lib/python3.6/dist-packages/sklearn/ensemble/forest.py:307: UserWarning: Warm-start fitting without increasing n_estimators does not fit new trees.\n",
            "  warn(\"Warm-start fitting without increasing n_estimators does not \"\n"
          ],
          "name": "stderr"
        },
        {
          "output_type": "stream",
          "text": [
            "Training is complete\n"
          ],
          "name": "stdout"
        }
      ]
    },
    {
      "cell_type": "code",
      "metadata": {
        "id": "hxuwwGvfLRiF",
        "colab_type": "code",
        "colab": {
          "base_uri": "https://localhost:8080/",
          "height": 194
        },
        "outputId": "db375db4-9a6e-4ed1-e3b0-ceb77015a6e2"
      },
      "source": [
        "base_predictions_train = pd.DataFrame( {'RandomForest': rf_oof_train.ravel(),\n",
        "     'ExtraTrees': et_oof_train.ravel(),\n",
        "     'AdaBoost': ada_oof_train.ravel(),\n",
        "      'GradientBoost': gb_oof_train.ravel()\n",
        "    })\n",
        "base_predictions_train.head()"
      ],
      "execution_count": 18,
      "outputs": [
        {
          "output_type": "execute_result",
          "data": {
            "text/html": [
              "<div>\n",
              "<style scoped>\n",
              "    .dataframe tbody tr th:only-of-type {\n",
              "        vertical-align: middle;\n",
              "    }\n",
              "\n",
              "    .dataframe tbody tr th {\n",
              "        vertical-align: top;\n",
              "    }\n",
              "\n",
              "    .dataframe thead th {\n",
              "        text-align: right;\n",
              "    }\n",
              "</style>\n",
              "<table border=\"1\" class=\"dataframe\">\n",
              "  <thead>\n",
              "    <tr style=\"text-align: right;\">\n",
              "      <th></th>\n",
              "      <th>RandomForest</th>\n",
              "      <th>ExtraTrees</th>\n",
              "      <th>AdaBoost</th>\n",
              "      <th>GradientBoost</th>\n",
              "    </tr>\n",
              "  </thead>\n",
              "  <tbody>\n",
              "    <tr>\n",
              "      <th>0</th>\n",
              "      <td>2.589772</td>\n",
              "      <td>2.654719</td>\n",
              "      <td>3.517362</td>\n",
              "      <td>2.438679</td>\n",
              "    </tr>\n",
              "    <tr>\n",
              "      <th>1</th>\n",
              "      <td>3.091172</td>\n",
              "      <td>3.005278</td>\n",
              "      <td>3.517362</td>\n",
              "      <td>3.083808</td>\n",
              "    </tr>\n",
              "    <tr>\n",
              "      <th>2</th>\n",
              "      <td>2.794150</td>\n",
              "      <td>2.736394</td>\n",
              "      <td>3.517362</td>\n",
              "      <td>2.303332</td>\n",
              "    </tr>\n",
              "    <tr>\n",
              "      <th>3</th>\n",
              "      <td>2.785535</td>\n",
              "      <td>2.725557</td>\n",
              "      <td>3.517362</td>\n",
              "      <td>2.068550</td>\n",
              "    </tr>\n",
              "    <tr>\n",
              "      <th>4</th>\n",
              "      <td>2.859695</td>\n",
              "      <td>2.906079</td>\n",
              "      <td>3.517362</td>\n",
              "      <td>2.359137</td>\n",
              "    </tr>\n",
              "  </tbody>\n",
              "</table>\n",
              "</div>"
            ],
            "text/plain": [
              "   RandomForest  ExtraTrees  AdaBoost  GradientBoost\n",
              "0      2.589772    2.654719  3.517362       2.438679\n",
              "1      3.091172    3.005278  3.517362       3.083808\n",
              "2      2.794150    2.736394  3.517362       2.303332\n",
              "3      2.785535    2.725557  3.517362       2.068550\n",
              "4      2.859695    2.906079  3.517362       2.359137"
            ]
          },
          "metadata": {
            "tags": []
          },
          "execution_count": 18
        }
      ]
    },
    {
      "cell_type": "markdown",
      "metadata": {
        "id": "kg7XoKnhLheR",
        "colab_type": "text"
      },
      "source": [
        "# Correlation Heatmap of the Second Level Training set"
      ]
    },
    {
      "cell_type": "markdown",
      "metadata": {
        "id": "y_au0u6LLjS_",
        "colab_type": "text"
      },
      "source": [
        "There have been quite a few articles and Kaggle competition winner stories about the merits of having trained models that are more uncorrelated with one another producing better scores."
      ]
    },
    {
      "cell_type": "code",
      "metadata": {
        "id": "s-4CF97gLf04",
        "colab_type": "code",
        "colab": {
          "base_uri": "https://localhost:8080/",
          "height": 287
        },
        "outputId": "4b4db49a-c77b-4549-b96b-8e44acaf3b24"
      },
      "source": [
        "import seaborn as sns\n",
        "sns.heatmap(abs(base_predictions_train.astype(float).corr()),\n",
        "            annot=True,\n",
        "            linewidths=0.1,\n",
        "            cmap=\"YlGnBu\")"
      ],
      "execution_count": 19,
      "outputs": [
        {
          "output_type": "execute_result",
          "data": {
            "text/plain": [
              "<matplotlib.axes._subplots.AxesSubplot at 0x7f6dd0e190b8>"
            ]
          },
          "metadata": {
            "tags": []
          },
          "execution_count": 19
        },
        {
          "output_type": "display_data",
          "data": {
            "image/png": "[encoded data removed]",
            "text/plain": [
              "<Figure size 432x288 with 2 Axes>"
            ]
          },
          "metadata": {
            "tags": []
          }
        }
      ]
    },
    {
      "cell_type": "code",
      "metadata": {
        "id": "SIdHunfsLkwD",
        "colab_type": "code",
        "colab": {}
      },
      "source": [
        "x_train = np.concatenate(( et_oof_train, rf_oof_train, ada_oof_train, gb_oof_train), axis=1)\n",
        "x_test = np.concatenate(( et_oof_test, rf_oof_test, ada_oof_test, gb_oof_test), axis=1)"
      ],
      "execution_count": 0,
      "outputs": []
    },
    {
      "cell_type": "markdown",
      "metadata": {
        "id": "9ZWp4TAWLpOh",
        "colab_type": "text"
      },
      "source": [
        "# Second level learning model via XGBoost"
      ]
    },
    {
      "cell_type": "code",
      "metadata": {
        "id": "LlKZBo3zLnu8",
        "colab_type": "code",
        "colab": {
          "base_uri": "https://localhost:8080/",
          "height": 35
        },
        "outputId": "36471790-c56d-4935-eb8e-3e43b36c17c0"
      },
      "source": [
        "import xgboost as xgb\n",
        "\n",
        "gbm = xgb.XGBRegressor(\n",
        "    #learning_rate = 0.02,\n",
        " n_estimators= 2000,\n",
        " max_depth= 4,\n",
        " min_child_weight= 2,\n",
        " #gamma=1,\n",
        " gamma=0.9,                        \n",
        " subsample=0.8,\n",
        " colsample_bytree=0.8,\n",
        " nthread= -1,\n",
        " scale_pos_weight=1).fit(x_train, y_train)\n",
        "predictions = gbm.predict(x_test)"
      ],
      "execution_count": 21,
      "outputs": [
        {
          "output_type": "stream",
          "text": [
            "[01:03:40] WARNING: /workspace/src/objective/regression_obj.cu:152: reg:linear is now deprecated in favor of reg:squarederror.\n"
          ],
          "name": "stdout"
        }
      ]
    },
    {
      "cell_type": "code",
      "metadata": {
        "id": "pZfpK29aLqoI",
        "colab_type": "code",
        "colab": {
          "base_uri": "https://localhost:8080/",
          "height": 194
        },
        "outputId": "8cd8bfb6-41c6-4e52-c81f-15ce16cc2963"
      },
      "source": [
        "y_pred_y_test = pd.DataFrame(zip(predictions,y_test),\n",
        "                             columns=['y_pred','y_test'])\n",
        "y_pred_y_test.head()"
      ],
      "execution_count": 22,
      "outputs": [
        {
          "output_type": "execute_result",
          "data": {
            "text/html": [
              "<div>\n",
              "<style scoped>\n",
              "    .dataframe tbody tr th:only-of-type {\n",
              "        vertical-align: middle;\n",
              "    }\n",
              "\n",
              "    .dataframe tbody tr th {\n",
              "        vertical-align: top;\n",
              "    }\n",
              "\n",
              "    .dataframe thead th {\n",
              "        text-align: right;\n",
              "    }\n",
              "</style>\n",
              "<table border=\"1\" class=\"dataframe\">\n",
              "  <thead>\n",
              "    <tr style=\"text-align: right;\">\n",
              "      <th></th>\n",
              "      <th>y_pred</th>\n",
              "      <th>y_test</th>\n",
              "    </tr>\n",
              "  </thead>\n",
              "  <tbody>\n",
              "    <tr>\n",
              "      <th>0</th>\n",
              "      <td>3.477489</td>\n",
              "      <td>4.028</td>\n",
              "    </tr>\n",
              "    <tr>\n",
              "      <th>1</th>\n",
              "      <td>2.199838</td>\n",
              "      <td>2.407</td>\n",
              "    </tr>\n",
              "    <tr>\n",
              "      <th>2</th>\n",
              "      <td>2.072766</td>\n",
              "      <td>2.296</td>\n",
              "    </tr>\n",
              "    <tr>\n",
              "      <th>3</th>\n",
              "      <td>2.125098</td>\n",
              "      <td>2.274</td>\n",
              "    </tr>\n",
              "    <tr>\n",
              "      <th>4</th>\n",
              "      <td>2.201356</td>\n",
              "      <td>2.206</td>\n",
              "    </tr>\n",
              "  </tbody>\n",
              "</table>\n",
              "</div>"
            ],
            "text/plain": [
              "     y_pred  y_test\n",
              "0  3.477489   4.028\n",
              "1  2.199838   2.407\n",
              "2  2.072766   2.296\n",
              "3  2.125098   2.274\n",
              "4  2.201356   2.206"
            ]
          },
          "metadata": {
            "tags": []
          },
          "execution_count": 22
        }
      ]
    },
    {
      "cell_type": "markdown",
      "metadata": {
        "id": "tbdH6wLrLuze",
        "colab_type": "text"
      },
      "source": [
        "# R2 RMSE MAPE"
      ]
    },
    {
      "cell_type": "code",
      "metadata": {
        "id": "_lHHgpkoLtGG",
        "colab_type": "code",
        "colab": {}
      },
      "source": [
        "from sklearn.metrics import r2_score\n",
        "import numpy as np\n",
        "\n",
        "def rmse(y_true, y_pred):\n",
        "    return np.sqrt(((y_pred - y_true) ** 2).mean())\n",
        "\n",
        "def mape(y_true, y_pred,dropinf=True):\n",
        "    y_true, y_pred = np.array(y_true), np.array(y_pred)\n",
        "    ape = np.abs((y_true - y_pred) / y_true)\n",
        "    if dropinf == True:\n",
        "      ape = ape[np.isfinite(ape)]\n",
        "    return np.mean(ape) * 100\n",
        "def evaluate(y_true,y_pred):\n",
        "  R2 = r2_score(y_true,y_pred)\n",
        "  RMSE = rmse(y_true,y_pred)\n",
        "  MAPE = mape(y_true,y_pred)\n",
        "  return pd.DataFrame({'R2':R2,\n",
        "                       'RMSE':RMSE,\n",
        "                       'MAPE':MAPE    \n",
        "  },index=[y_name])\n",
        "  "
      ],
      "execution_count": 0,
      "outputs": []
    },
    {
      "cell_type": "code",
      "metadata": {
        "id": "WSfdR9VzLwsf",
        "colab_type": "code",
        "colab": {
          "base_uri": "https://localhost:8080/",
          "height": 76
        },
        "outputId": "85794e09-cb44-4c22-d148-624b036e711d"
      },
      "source": [
        "evaluate(predictions,y_test)"
      ],
      "execution_count": 24,
      "outputs": [
        {
          "output_type": "execute_result",
          "data": {
            "text/html": [
              "<div>\n",
              "<style scoped>\n",
              "    .dataframe tbody tr th:only-of-type {\n",
              "        vertical-align: middle;\n",
              "    }\n",
              "\n",
              "    .dataframe tbody tr th {\n",
              "        vertical-align: top;\n",
              "    }\n",
              "\n",
              "    .dataframe thead th {\n",
              "        text-align: right;\n",
              "    }\n",
              "</style>\n",
              "<table border=\"1\" class=\"dataframe\">\n",
              "  <thead>\n",
              "    <tr style=\"text-align: right;\">\n",
              "      <th></th>\n",
              "      <th>R2</th>\n",
              "      <th>RMSE</th>\n",
              "      <th>MAPE</th>\n",
              "    </tr>\n",
              "  </thead>\n",
              "  <tbody>\n",
              "    <tr>\n",
              "      <th>C6N</th>\n",
              "      <td>0.768498</td>\n",
              "      <td>0.698902</td>\n",
              "      <td>8.815395</td>\n",
              "    </tr>\n",
              "  </tbody>\n",
              "</table>\n",
              "</div>"
            ],
            "text/plain": [
              "           R2      RMSE      MAPE\n",
              "C6N  0.768498  0.698902  8.815395"
            ]
          },
          "metadata": {
            "tags": []
          },
          "execution_count": 24
        }
      ]
    },
    {
      "cell_type": "code",
      "metadata": {
        "id": "mGcKtlj-LyCY",
        "colab_type": "code",
        "colab": {}
      },
      "source": [
        ""
      ],
      "execution_count": 0,
      "outputs": []
    }
  ]
}