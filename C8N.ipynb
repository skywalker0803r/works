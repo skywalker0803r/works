{
  "nbformat": 4,
  "nbformat_minor": 0,
  "metadata": {
    "colab": {
      "name": "C8N.ipynb",
      "provenance": [],
      "collapsed_sections": [],
      "include_colab_link": true
    },
    "kernelspec": {
      "name": "python3",
      "display_name": "Python 3"
    }
  },
  "cells": [
    {
      "cell_type": "markdown",
      "metadata": {
        "id": "view-in-github",
        "colab_type": "text"
      },
      "source": [
        "<a href=\"https://colab.research.google.com/github/skywalker0803r/works/blob/master/C8N.ipynb\" target=\"_parent\"><img src=\"https://colab.research.google.com/assets/colab-badge.svg\" alt=\"Open In Colab\"/></a>"
      ]
    },
    {
      "cell_type": "code",
      "metadata": {
        "id": "x4wyEqgvdxII",
        "colab_type": "code",
        "outputId": "d9863819-5948-4e79-b934-c1c201d38dde",
        "colab": {
          "base_uri": "https://localhost:8080/",
          "height": 35
        }
      },
      "source": [
        "from google.colab import drive\n",
        "drive.mount('/content/drive')\n",
        "import warnings \n",
        "warnings.simplefilter('ignore')"
      ],
      "execution_count": 1,
      "outputs": [
        {
          "output_type": "stream",
          "text": [
            "Drive already mounted at /content/drive; to attempt to forcibly remount, call drive.mount(\"/content/drive\", force_remount=True).\n"
          ],
          "name": "stdout"
        }
      ]
    },
    {
      "cell_type": "markdown",
      "metadata": {
        "id": "1insKjCbQliM",
        "colab_type": "text"
      },
      "source": [
        "# Load data"
      ]
    },
    {
      "cell_type": "code",
      "metadata": {
        "id": "zYzX34f9dyBW",
        "colab_type": "code",
        "colab": {
          "base_uri": "https://localhost:8080/",
          "height": 52
        },
        "outputId": "3c5750aa-cec5-4688-bd11-c621289b2eb7"
      },
      "source": [
        "import pandas as pd\n",
        "import seaborn as sns\n",
        "import matplotlib.pyplot as plt\n",
        "\n",
        "train = pd.read_csv('/content/drive/My Drive/台塑輕油案子/data/train_4521.csv',index_col=0).reset_index(drop=True)\n",
        "test = pd.read_csv('/content/drive/My Drive/台塑輕油案子/data/test_250.csv',index_col=0).reset_index(drop=True)\n",
        "mod  = test.index % 5\n",
        "test_add = test.loc[ mod != 0 ,:]\n",
        "test_50 = test.loc[ mod == 0 ,:]\n",
        "train = train.append(test_add)\n",
        "test = test_50\n",
        "print(train.shape)\n",
        "print(test.shape)"
      ],
      "execution_count": 2,
      "outputs": [
        {
          "output_type": "stream",
          "text": [
            "(4721, 27)\n",
            "(50, 27)\n"
          ],
          "name": "stdout"
        }
      ]
    },
    {
      "cell_type": "code",
      "metadata": {
        "id": "lD8X93BM3Fow",
        "colab_type": "code",
        "colab": {}
      },
      "source": [
        "y_name = 'C8N'"
      ],
      "execution_count": 0,
      "outputs": []
    },
    {
      "cell_type": "markdown",
      "metadata": {
        "id": "E0bpRt9A5Sp6",
        "colab_type": "text"
      },
      "source": [
        "# C8A與原始特徵相關係數"
      ]
    },
    {
      "cell_type": "code",
      "metadata": {
        "id": "ieT09-Pp49dX",
        "colab_type": "code",
        "colab": {
          "base_uri": "https://localhost:8080/",
          "height": 76
        },
        "outputId": "0762cc31-5dd3-46c5-8b2c-4ba35a99080c"
      },
      "source": [
        "train.iloc[:,:4].join(train[y_name]).corr().loc[[y_name]]"
      ],
      "execution_count": 4,
      "outputs": [
        {
          "output_type": "execute_result",
          "data": {
            "text/html": [
              "<div>\n",
              "<style scoped>\n",
              "    .dataframe tbody tr th:only-of-type {\n",
              "        vertical-align: middle;\n",
              "    }\n",
              "\n",
              "    .dataframe tbody tr th {\n",
              "        vertical-align: top;\n",
              "    }\n",
              "\n",
              "    .dataframe thead th {\n",
              "        text-align: right;\n",
              "    }\n",
              "</style>\n",
              "<table border=\"1\" class=\"dataframe\">\n",
              "  <thead>\n",
              "    <tr style=\"text-align: right;\">\n",
              "      <th></th>\n",
              "      <th>T10</th>\n",
              "      <th>T50</th>\n",
              "      <th>T90</th>\n",
              "      <th>N+A</th>\n",
              "      <th>C8N</th>\n",
              "    </tr>\n",
              "  </thead>\n",
              "  <tbody>\n",
              "    <tr>\n",
              "      <th>C8N</th>\n",
              "      <td>-0.046063</td>\n",
              "      <td>-0.076231</td>\n",
              "      <td>-0.077099</td>\n",
              "      <td>0.676677</td>\n",
              "      <td>1.0</td>\n",
              "    </tr>\n",
              "  </tbody>\n",
              "</table>\n",
              "</div>"
            ],
            "text/plain": [
              "          T10       T50       T90       N+A  C8N\n",
              "C8N -0.046063 -0.076231 -0.077099  0.676677  1.0"
            ]
          },
          "metadata": {
            "tags": []
          },
          "execution_count": 4
        }
      ]
    },
    {
      "cell_type": "markdown",
      "metadata": {
        "id": "FE9yNZBM5XWk",
        "colab_type": "text"
      },
      "source": [
        "# C8A與其他Y相關係數"
      ]
    },
    {
      "cell_type": "code",
      "metadata": {
        "id": "aMEnVFO33I5-",
        "colab_type": "code",
        "colab": {
          "base_uri": "https://localhost:8080/",
          "height": 76
        },
        "outputId": "3bc797b9-860d-4cd0-d95d-b14ed22acfaa"
      },
      "source": [
        "corr_res = abs(train.iloc[:,4:].corr())[[y_name]].sort_values(by=y_name,ascending=False)\n",
        "corr_res.head(5).T"
      ],
      "execution_count": 5,
      "outputs": [
        {
          "output_type": "execute_result",
          "data": {
            "text/html": [
              "<div>\n",
              "<style scoped>\n",
              "    .dataframe tbody tr th:only-of-type {\n",
              "        vertical-align: middle;\n",
              "    }\n",
              "\n",
              "    .dataframe tbody tr th {\n",
              "        vertical-align: top;\n",
              "    }\n",
              "\n",
              "    .dataframe thead th {\n",
              "        text-align: right;\n",
              "    }\n",
              "</style>\n",
              "<table border=\"1\" class=\"dataframe\">\n",
              "  <thead>\n",
              "    <tr style=\"text-align: right;\">\n",
              "      <th></th>\n",
              "      <th>C8N</th>\n",
              "      <th>C7N</th>\n",
              "      <th>C7NP</th>\n",
              "      <th>C9NP</th>\n",
              "      <th>C7IP</th>\n",
              "    </tr>\n",
              "  </thead>\n",
              "  <tbody>\n",
              "    <tr>\n",
              "      <th>C8N</th>\n",
              "      <td>1.0</td>\n",
              "      <td>0.77208</td>\n",
              "      <td>0.639215</td>\n",
              "      <td>0.554186</td>\n",
              "      <td>0.552947</td>\n",
              "    </tr>\n",
              "  </tbody>\n",
              "</table>\n",
              "</div>"
            ],
            "text/plain": [
              "     C8N      C7N      C7NP      C9NP      C7IP\n",
              "C8N  1.0  0.77208  0.639215  0.554186  0.552947"
            ]
          },
          "metadata": {
            "tags": []
          },
          "execution_count": 5
        }
      ]
    },
    {
      "cell_type": "markdown",
      "metadata": {
        "id": "wXFokip03MgF",
        "colab_type": "text"
      },
      "source": [
        "# def features & y_columns"
      ]
    },
    {
      "cell_type": "code",
      "metadata": {
        "id": "3t-rR7UM3M7P",
        "colab_type": "code",
        "colab": {
          "base_uri": "https://localhost:8080/",
          "height": 52
        },
        "outputId": "b6676636-5fba-4a29-a695-df152965a8af"
      },
      "source": [
        "features = ['T10','T50','T90','N+A']\n",
        "y_columns = list(corr_res[corr_res[y_name]>0.8].index)\n",
        "print(features)\n",
        "print(y_columns)"
      ],
      "execution_count": 6,
      "outputs": [
        {
          "output_type": "stream",
          "text": [
            "['T10', 'T50', 'T90', 'N+A']\n",
            "['C8N']\n"
          ],
          "name": "stdout"
        }
      ]
    },
    {
      "cell_type": "markdown",
      "metadata": {
        "id": "5Gs8wVOB3UTu",
        "colab_type": "text"
      },
      "source": [
        "# PCA y_columns"
      ]
    },
    {
      "cell_type": "code",
      "metadata": {
        "id": "RNwCj61-3Uwe",
        "colab_type": "code",
        "colab": {}
      },
      "source": [
        "from sklearn.decomposition import PCA\n",
        "from sklearn.preprocessing import StandardScaler\n",
        "\n",
        "scaler_y = StandardScaler()\n",
        "pca = PCA(n_components=1)\n",
        "\n",
        "train['PCA'] = pca.fit_transform(scaler_y.fit_transform(train[y_columns]))\n",
        "test['PCA'] = pca.transform(scaler_y.transform(test[y_columns]))"
      ],
      "execution_count": 0,
      "outputs": []
    },
    {
      "cell_type": "markdown",
      "metadata": {
        "id": "K0oV3Qou3ZbR",
        "colab_type": "text"
      },
      "source": [
        "# scaler features"
      ]
    },
    {
      "cell_type": "code",
      "metadata": {
        "id": "Odxmvlov3Z7A",
        "colab_type": "code",
        "colab": {}
      },
      "source": [
        "from sklearn.preprocessing import StandardScaler\n",
        "\n",
        "scaler_x = StandardScaler()\n",
        "\n",
        "train[features] = scaler_x.fit_transform(train[features])\n",
        "test[features] = scaler_x.transform(test[features])"
      ],
      "execution_count": 0,
      "outputs": []
    },
    {
      "cell_type": "markdown",
      "metadata": {
        "id": "rUhK5DLe4YrG",
        "colab_type": "text"
      },
      "source": [
        "# corr"
      ]
    },
    {
      "cell_type": "code",
      "metadata": {
        "id": "aXccLsJx4Y0n",
        "colab_type": "code",
        "colab": {
          "base_uri": "https://localhost:8080/",
          "height": 194
        },
        "outputId": "47db0bc8-5981-4065-f267-053af771bb80"
      },
      "source": [
        "train[features+['PCA']].corr()"
      ],
      "execution_count": 9,
      "outputs": [
        {
          "output_type": "execute_result",
          "data": {
            "text/html": [
              "<div>\n",
              "<style scoped>\n",
              "    .dataframe tbody tr th:only-of-type {\n",
              "        vertical-align: middle;\n",
              "    }\n",
              "\n",
              "    .dataframe tbody tr th {\n",
              "        vertical-align: top;\n",
              "    }\n",
              "\n",
              "    .dataframe thead th {\n",
              "        text-align: right;\n",
              "    }\n",
              "</style>\n",
              "<table border=\"1\" class=\"dataframe\">\n",
              "  <thead>\n",
              "    <tr style=\"text-align: right;\">\n",
              "      <th></th>\n",
              "      <th>T10</th>\n",
              "      <th>T50</th>\n",
              "      <th>T90</th>\n",
              "      <th>N+A</th>\n",
              "      <th>PCA</th>\n",
              "    </tr>\n",
              "  </thead>\n",
              "  <tbody>\n",
              "    <tr>\n",
              "      <th>T10</th>\n",
              "      <td>1.000000</td>\n",
              "      <td>0.895238</td>\n",
              "      <td>0.222087</td>\n",
              "      <td>-0.262210</td>\n",
              "      <td>-0.067388</td>\n",
              "    </tr>\n",
              "    <tr>\n",
              "      <th>T50</th>\n",
              "      <td>0.895238</td>\n",
              "      <td>1.000000</td>\n",
              "      <td>0.533778</td>\n",
              "      <td>-0.371996</td>\n",
              "      <td>-0.106584</td>\n",
              "    </tr>\n",
              "    <tr>\n",
              "      <th>T90</th>\n",
              "      <td>0.222087</td>\n",
              "      <td>0.533778</td>\n",
              "      <td>1.000000</td>\n",
              "      <td>-0.217989</td>\n",
              "      <td>-0.085853</td>\n",
              "    </tr>\n",
              "    <tr>\n",
              "      <th>N+A</th>\n",
              "      <td>-0.262210</td>\n",
              "      <td>-0.371996</td>\n",
              "      <td>-0.217989</td>\n",
              "      <td>1.000000</td>\n",
              "      <td>0.795104</td>\n",
              "    </tr>\n",
              "    <tr>\n",
              "      <th>PCA</th>\n",
              "      <td>-0.067388</td>\n",
              "      <td>-0.106584</td>\n",
              "      <td>-0.085853</td>\n",
              "      <td>0.795104</td>\n",
              "      <td>1.000000</td>\n",
              "    </tr>\n",
              "  </tbody>\n",
              "</table>\n",
              "</div>"
            ],
            "text/plain": [
              "          T10       T50       T90       N+A       PCA\n",
              "T10  1.000000  0.895238  0.222087 -0.262210 -0.067388\n",
              "T50  0.895238  1.000000  0.533778 -0.371996 -0.106584\n",
              "T90  0.222087  0.533778  1.000000 -0.217989 -0.085853\n",
              "N+A -0.262210 -0.371996 -0.217989  1.000000  0.795104\n",
              "PCA -0.067388 -0.106584 -0.085853  0.795104  1.000000"
            ]
          },
          "metadata": {
            "tags": []
          },
          "execution_count": 9
        }
      ]
    },
    {
      "cell_type": "markdown",
      "metadata": {
        "id": "UZ6DD5tKSRtP",
        "colab_type": "text"
      },
      "source": [
        "# scatter"
      ]
    },
    {
      "cell_type": "code",
      "metadata": {
        "id": "C6eShoSceLx2",
        "colab_type": "code",
        "outputId": "2e4f0594-66e2-4a69-934b-121b26cbc97f",
        "colab": {
          "base_uri": "https://localhost:8080/",
          "height": 1000
        }
      },
      "source": [
        "for x_col in features:\n",
        "  sns.scatterplot(x=x_col,y='PCA',data=train,label='train')\n",
        "  sns.scatterplot(x=x_col,y='PCA',data=test,label='test')\n",
        "  plt.legend()\n",
        "  plt.show()"
      ],
      "execution_count": 10,
      "outputs": [
        {
          "output_type": "display_data",
          "data": {
            "image/png": "[encoded data removed]",
            "text/plain": [
              "<Figure size 432x288 with 1 Axes>"
            ]
          },
          "metadata": {
            "tags": []
          }
        },
        {
          "output_type": "display_data",
          "data": {
            "image/png": "[encoded data removed]",
            "text/plain": [
              "<Figure size 432x288 with 1 Axes>"
            ]
          },
          "metadata": {
            "tags": []
          }
        },
        {
          "output_type": "display_data",
          "data": {
            "image/png": "[encoded data removed]",
            "text/plain": [
              "<Figure size 432x288 with 1 Axes>"
            ]
          },
          "metadata": {
            "tags": []
          }
        },
        {
          "output_type": "display_data",
          "data": {
            "image/png": "[encoded data removed]",
            "text/plain": [
              "<Figure size 432x288 with 1 Axes>"
            ]
          },
          "metadata": {
            "tags": []
          }
        }
      ]
    },
    {
      "cell_type": "markdown",
      "metadata": {
        "id": "yxJxYE61T88r",
        "colab_type": "text"
      },
      "source": [
        "# features select"
      ]
    },
    {
      "cell_type": "code",
      "metadata": {
        "id": "SP81zh7eT_AE",
        "colab_type": "code",
        "colab": {}
      },
      "source": [
        "features = ['N+A']"
      ],
      "execution_count": 0,
      "outputs": []
    },
    {
      "cell_type": "markdown",
      "metadata": {
        "id": "wz0liy4Aqj8W",
        "colab_type": "text"
      },
      "source": [
        "# features scaling"
      ]
    },
    {
      "cell_type": "code",
      "metadata": {
        "id": "tX7hiKQGlDif",
        "colab_type": "code",
        "outputId": "8c60a5a7-18fe-4c22-ff96-9afbac3692aa",
        "colab": {
          "base_uri": "https://localhost:8080/",
          "height": 35
        }
      },
      "source": [
        "from sklearn.preprocessing import StandardScaler\n",
        "\n",
        "scaler = StandardScaler()\n",
        "scaler.fit(train[features].append(test[features]))"
      ],
      "execution_count": 12,
      "outputs": [
        {
          "output_type": "execute_result",
          "data": {
            "text/plain": [
              "StandardScaler(copy=True, with_mean=True, with_std=True)"
            ]
          },
          "metadata": {
            "tags": []
          },
          "execution_count": 12
        }
      ]
    },
    {
      "cell_type": "code",
      "metadata": {
        "id": "QqtyB8zG6ElJ",
        "colab_type": "code",
        "colab": {}
      },
      "source": [
        "train[features] = scaler.transform(train[features])\n",
        "test[features] = scaler.transform(test[features])"
      ],
      "execution_count": 0,
      "outputs": []
    },
    {
      "cell_type": "code",
      "metadata": {
        "id": "CRgwm4AC6Ern",
        "colab_type": "code",
        "colab": {
          "base_uri": "https://localhost:8080/",
          "height": 283
        },
        "outputId": "2214f4e1-c11b-440e-9b05-309ac58afc80"
      },
      "source": [
        "plt.scatter(train[features[-1]],train['PCA'])"
      ],
      "execution_count": 14,
      "outputs": [
        {
          "output_type": "execute_result",
          "data": {
            "text/plain": [
              "<matplotlib.collections.PathCollection at 0x7f161f67aba8>"
            ]
          },
          "metadata": {
            "tags": []
          },
          "execution_count": 14
        },
        {
          "output_type": "display_data",
          "data": {
            "image/png": "[encoded data removed]",
            "text/plain": [
              "<Figure size 432x288 with 1 Axes>"
            ]
          },
          "metadata": {
            "tags": []
          }
        }
      ]
    },
    {
      "cell_type": "markdown",
      "metadata": {
        "id": "LdQROmroranC",
        "colab_type": "text"
      },
      "source": [
        "# metric"
      ]
    },
    {
      "cell_type": "code",
      "metadata": {
        "id": "BLVag6Db5IC_",
        "colab_type": "code",
        "colab": {}
      },
      "source": [
        "from sklearn.metrics import r2_score,mean_squared_error,mean_absolute_error\n",
        "from math import sqrt\n",
        "def metric(y_t,y_p):\n",
        "  res = {'R2':r2_score(y_t,y_p),\n",
        "         'RMSE':sqrt(mean_squared_error(y_t,y_p)),\n",
        "         'mean_absolute_error':mean_absolute_error(y_t,y_p)}\n",
        "  return pd.DataFrame(res,index=[y_t.name])"
      ],
      "execution_count": 0,
      "outputs": []
    },
    {
      "cell_type": "markdown",
      "metadata": {
        "id": "dI7Eaut3rcn6",
        "colab_type": "text"
      },
      "source": [
        "# modeling"
      ]
    },
    {
      "cell_type": "code",
      "metadata": {
        "id": "4IENvGdxlmwR",
        "colab_type": "code",
        "outputId": "b4a1379a-67d5-4f94-dec6-14fd8ae5f332",
        "colab": {
          "base_uri": "https://localhost:8080/",
          "height": 52
        }
      },
      "source": [
        "import xgboost\n",
        "from sklearn.svm import SVR\n",
        "from math import sqrt\n",
        "from lightgbm import LGBMRegressor\n",
        "from sklearn.ensemble import VotingRegressor\n",
        "from sklearn.model_selection import cross_validate\n",
        "from sklearn.linear_model import LinearRegression,ridge,Lasso\n",
        "from sklearn.tree import DecisionTreeRegressor\n",
        "import warnings \n",
        "warnings.simplefilter('ignore')\n",
        "\n",
        "#model = DecisionTreeRegressor(max_depth=1)\n",
        "#model = xgboost.XGBRegressor(objective='reg:squarederror')\n",
        "#model = SVR()\n",
        "model = LinearRegression()\n",
        "#model = ridge.Ridge()\n",
        "#model = Lasso(alpha=0.01)\n",
        "\n",
        "val_scores = cross_validate(model,train[features],train['PCA'],cv=5)\n",
        "\n",
        "print('val_scores:',val_scores['test_score'])\n",
        "print('val_scores.mean:',val_scores['test_score'].mean())\n",
        "\n",
        "# fit \n",
        "model.fit(train[features],train['PCA'])\n",
        "# predict\n",
        "test['y_pred'] = model.predict(test[features])\n",
        "train['y_pred'] = model.predict(train[features])"
      ],
      "execution_count": 16,
      "outputs": [
        {
          "output_type": "stream",
          "text": [
            "val_scores: [-0.2877775   0.69287359  0.72856017  0.71069029  0.71486606]\n",
            "val_scores.mean: 0.5118425219723048\n"
          ],
          "name": "stdout"
        }
      ]
    },
    {
      "cell_type": "code",
      "metadata": {
        "id": "ODqQhjmUv9El",
        "colab_type": "code",
        "outputId": "aba4327c-dfb8-4e08-fe63-07409b4b5286",
        "colab": {
          "base_uri": "https://localhost:8080/",
          "height": 94
        }
      },
      "source": [
        "print('train_scores:')\n",
        "metric(train['PCA'],train['y_pred'])"
      ],
      "execution_count": 17,
      "outputs": [
        {
          "output_type": "stream",
          "text": [
            "train_scores:\n"
          ],
          "name": "stdout"
        },
        {
          "output_type": "execute_result",
          "data": {
            "text/html": [
              "<div>\n",
              "<style scoped>\n",
              "    .dataframe tbody tr th:only-of-type {\n",
              "        vertical-align: middle;\n",
              "    }\n",
              "\n",
              "    .dataframe tbody tr th {\n",
              "        vertical-align: top;\n",
              "    }\n",
              "\n",
              "    .dataframe thead th {\n",
              "        text-align: right;\n",
              "    }\n",
              "</style>\n",
              "<table border=\"1\" class=\"dataframe\">\n",
              "  <thead>\n",
              "    <tr style=\"text-align: right;\">\n",
              "      <th></th>\n",
              "      <th>R2</th>\n",
              "      <th>RMSE</th>\n",
              "      <th>mean_absolute_error</th>\n",
              "    </tr>\n",
              "  </thead>\n",
              "  <tbody>\n",
              "    <tr>\n",
              "      <th>PCA</th>\n",
              "      <td>0.63219</td>\n",
              "      <td>0.606473</td>\n",
              "      <td>0.334075</td>\n",
              "    </tr>\n",
              "  </tbody>\n",
              "</table>\n",
              "</div>"
            ],
            "text/plain": [
              "          R2      RMSE  mean_absolute_error\n",
              "PCA  0.63219  0.606473             0.334075"
            ]
          },
          "metadata": {
            "tags": []
          },
          "execution_count": 17
        }
      ]
    },
    {
      "cell_type": "code",
      "metadata": {
        "id": "9bV7s0xHUhjK",
        "colab_type": "code",
        "outputId": "563183cf-47a5-4967-ce5a-3b81786eb7fe",
        "colab": {
          "base_uri": "https://localhost:8080/",
          "height": 94
        }
      },
      "source": [
        "print('test_scores:')\n",
        "metric(test['PCA'],test['y_pred'])"
      ],
      "execution_count": 18,
      "outputs": [
        {
          "output_type": "stream",
          "text": [
            "test_scores:\n"
          ],
          "name": "stdout"
        },
        {
          "output_type": "execute_result",
          "data": {
            "text/html": [
              "<div>\n",
              "<style scoped>\n",
              "    .dataframe tbody tr th:only-of-type {\n",
              "        vertical-align: middle;\n",
              "    }\n",
              "\n",
              "    .dataframe tbody tr th {\n",
              "        vertical-align: top;\n",
              "    }\n",
              "\n",
              "    .dataframe thead th {\n",
              "        text-align: right;\n",
              "    }\n",
              "</style>\n",
              "<table border=\"1\" class=\"dataframe\">\n",
              "  <thead>\n",
              "    <tr style=\"text-align: right;\">\n",
              "      <th></th>\n",
              "      <th>R2</th>\n",
              "      <th>RMSE</th>\n",
              "      <th>mean_absolute_error</th>\n",
              "    </tr>\n",
              "  </thead>\n",
              "  <tbody>\n",
              "    <tr>\n",
              "      <th>PCA</th>\n",
              "      <td>0.622839</td>\n",
              "      <td>0.848882</td>\n",
              "      <td>0.654211</td>\n",
              "    </tr>\n",
              "  </tbody>\n",
              "</table>\n",
              "</div>"
            ],
            "text/plain": [
              "           R2      RMSE  mean_absolute_error\n",
              "PCA  0.622839  0.848882             0.654211"
            ]
          },
          "metadata": {
            "tags": []
          },
          "execution_count": 18
        }
      ]
    },
    {
      "cell_type": "markdown",
      "metadata": {
        "id": "R3qtwcKqsKt6",
        "colab_type": "text"
      },
      "source": [
        "# line plot"
      ]
    },
    {
      "cell_type": "code",
      "metadata": {
        "id": "ql86a67LmV_2",
        "colab_type": "code",
        "outputId": "ee16a755-59a0-4571-d4af-829e1f63cbe1",
        "colab": {
          "base_uri": "https://localhost:8080/",
          "height": 354
        }
      },
      "source": [
        "by_col = 'N+A'\n",
        "fig = plt.figure(figsize=(30,5))\n",
        "test_point = test.sort_values(by = by_col)\n",
        "train_sample_point = train.sample(1000).sort_values(by = by_col)\n",
        "\n",
        "plt.plot(train_sample_point[by_col],train_sample_point['y_pred'],label='train pred line',color='blue')\n",
        "plt.scatter(train_sample_point[by_col],train_sample_point['PCA'],label='train point',color='blue')\n",
        "\n",
        "plt.plot(test_point[by_col],test_point['y_pred'],label='test pred line',color='red')\n",
        "plt.scatter(test_point[by_col],test_point['PCA'],label='test point',color='red')\n",
        "\n",
        "plt.xlabel(by_col)\n",
        "plt.ylabel('PCA')\n",
        "plt.legend()\n",
        "plt.show()"
      ],
      "execution_count": 19,
      "outputs": [
        {
          "output_type": "display_data",
          "data": {
            "image/png": "[encoded data removed]",
            "text/plain": [
              "<Figure size 2160x360 with 1 Axes>"
            ]
          },
          "metadata": {
            "tags": []
          }
        }
      ]
    },
    {
      "cell_type": "markdown",
      "metadata": {
        "id": "NPtNvdptjTC4",
        "colab_type": "text"
      },
      "source": [
        "# check out"
      ]
    },
    {
      "cell_type": "code",
      "metadata": {
        "id": "-a3vUedX87t8",
        "colab_type": "code",
        "outputId": "2c538580-5b57-4d1e-92a8-eb54378c255d",
        "colab": {
          "base_uri": "https://localhost:8080/",
          "height": 124
        }
      },
      "source": [
        "loss = (test_point['PCA'] - test_point['y_pred'])**2 # 平方誤差\n",
        "loss = loss.sort_values(ascending=False)\n",
        "loss.head(5)"
      ],
      "execution_count": 20,
      "outputs": [
        {
          "output_type": "execute_result",
          "data": {
            "text/plain": [
              "150    8.065890\n",
              "235    2.498080\n",
              "75     2.374362\n",
              "225    2.166129\n",
              "25     2.029526\n",
              "dtype: float64"
            ]
          },
          "metadata": {
            "tags": []
          },
          "execution_count": 20
        }
      ]
    },
    {
      "cell_type": "code",
      "metadata": {
        "id": "-WqVscx97vBE",
        "colab_type": "code",
        "colab": {
          "base_uri": "https://localhost:8080/",
          "height": 35
        },
        "outputId": "43954b16-07ae-47b0-cb78-090452ca0d3b"
      },
      "source": [
        "ub = loss.mean() + 1 * loss.std()\n",
        "ub"
      ],
      "execution_count": 21,
      "outputs": [
        {
          "output_type": "execute_result",
          "data": {
            "text/plain": [
              "1.995266117474912"
            ]
          },
          "metadata": {
            "tags": []
          },
          "execution_count": 21
        }
      ]
    },
    {
      "cell_type": "code",
      "metadata": {
        "id": "CT3L-nND7xnz",
        "colab_type": "code",
        "colab": {
          "base_uri": "https://localhost:8080/",
          "height": 35
        },
        "outputId": "451cc7fc-b6d6-4af0-8484-b2b6e9fd793b"
      },
      "source": [
        "out_index = list(loss[loss>ub].index)\n",
        "out_index"
      ],
      "execution_count": 22,
      "outputs": [
        {
          "output_type": "execute_result",
          "data": {
            "text/plain": [
              "[150, 235, 75, 225, 25]"
            ]
          },
          "metadata": {
            "tags": []
          },
          "execution_count": 22
        }
      ]
    },
    {
      "cell_type": "markdown",
      "metadata": {
        "id": "F5brTol1kMLj",
        "colab_type": "text"
      },
      "source": [
        "# del out"
      ]
    },
    {
      "cell_type": "code",
      "metadata": {
        "id": "srF0nApphw1q",
        "colab_type": "code",
        "outputId": "b53b2cd9-d43a-4bdf-ec9d-fe52c057f4ed",
        "colab": {
          "base_uri": "https://localhost:8080/",
          "height": 354
        }
      },
      "source": [
        "import numpy as np\n",
        "\n",
        "#add out columns\n",
        "test_point['out'] = False\n",
        "test_point.loc[out_index,'out'] = True\n",
        "\n",
        "#fig\n",
        "fig = plt.figure(figsize=(30,5))\n",
        "\n",
        "#sort test point\n",
        "test_point = test_point.sort_values(by=by_col)\n",
        "\n",
        "#def out_point\n",
        "out_point = test_point[test_point['out'] == True]\n",
        "\n",
        "#y_pred line\n",
        "plt.plot(test_point[by_col],test_point['y_pred'],label='pred line',color='red')\n",
        "\n",
        "#test point\n",
        "plt.scatter(test_point[by_col],test_point['PCA'],label='test point',color='red')\n",
        "\n",
        "#out point\n",
        "plt.scatter(out_point[by_col],out_point['PCA'],label='out point',color='black')\n",
        "\n",
        "plt.xlabel(by_col)\n",
        "plt.ylabel('PCA')\n",
        "plt.legend()\n",
        "plt.show()"
      ],
      "execution_count": 23,
      "outputs": [
        {
          "output_type": "display_data",
          "data": {
            "image/png": "[encoded data removed]",
            "text/plain": [
              "<Figure size 2160x360 with 1 Axes>"
            ]
          },
          "metadata": {
            "tags": []
          }
        }
      ]
    },
    {
      "cell_type": "markdown",
      "metadata": {
        "id": "aNWy702t0W0f",
        "colab_type": "text"
      },
      "source": [
        "# del_out_point_scores:"
      ]
    },
    {
      "cell_type": "code",
      "metadata": {
        "id": "_ZxrRO1HiXyi",
        "colab_type": "code",
        "outputId": "b261f711-af95-449d-8df4-3c5d9de0c5c3",
        "colab": {
          "base_uri": "https://localhost:8080/",
          "height": 94
        }
      },
      "source": [
        "print('del_out_point_scores:')\n",
        "metric(test_point.loc[test_point['out'] == False ,'PCA'],test_point.loc[test_point['out'] == False ,'y_pred'])"
      ],
      "execution_count": 24,
      "outputs": [
        {
          "output_type": "stream",
          "text": [
            "del_out_point_scores:\n"
          ],
          "name": "stdout"
        },
        {
          "output_type": "execute_result",
          "data": {
            "text/html": [
              "<div>\n",
              "<style scoped>\n",
              "    .dataframe tbody tr th:only-of-type {\n",
              "        vertical-align: middle;\n",
              "    }\n",
              "\n",
              "    .dataframe tbody tr th {\n",
              "        vertical-align: top;\n",
              "    }\n",
              "\n",
              "    .dataframe thead th {\n",
              "        text-align: right;\n",
              "    }\n",
              "</style>\n",
              "<table border=\"1\" class=\"dataframe\">\n",
              "  <thead>\n",
              "    <tr style=\"text-align: right;\">\n",
              "      <th></th>\n",
              "      <th>R2</th>\n",
              "      <th>RMSE</th>\n",
              "      <th>mean_absolute_error</th>\n",
              "    </tr>\n",
              "  </thead>\n",
              "  <tbody>\n",
              "    <tr>\n",
              "      <th>PCA</th>\n",
              "      <td>0.7343</td>\n",
              "      <td>0.648006</td>\n",
              "      <td>0.53006</td>\n",
              "    </tr>\n",
              "  </tbody>\n",
              "</table>\n",
              "</div>"
            ],
            "text/plain": [
              "         R2      RMSE  mean_absolute_error\n",
              "PCA  0.7343  0.648006              0.53006"
            ]
          },
          "metadata": {
            "tags": []
          },
          "execution_count": 24
        }
      ]
    },
    {
      "cell_type": "markdown",
      "metadata": {
        "id": "Jc-MF5Rb7lIp",
        "colab_type": "text"
      },
      "source": [
        "# all scores"
      ]
    },
    {
      "cell_type": "code",
      "metadata": {
        "id": "qx253QjM7lq7",
        "colab_type": "code",
        "colab": {}
      },
      "source": [
        "y_pred_all = pd.DataFrame(scaler_y.inverse_transform(pca.inverse_transform(test[['y_pred']])),index=test.index,columns=y_columns)\n",
        "y_test_all = test[y_columns]"
      ],
      "execution_count": 0,
      "outputs": []
    },
    {
      "cell_type": "code",
      "metadata": {
        "id": "876wubfg8HFp",
        "colab_type": "code",
        "colab": {
          "base_uri": "https://localhost:8080/",
          "height": 106
        },
        "outputId": "4f4ed897-d841-4c82-aac1-67b3712a3276"
      },
      "source": [
        "res = pd.DataFrame()\n",
        "for i in y_columns:\n",
        "  res = res.append(metric(y_test_all[i],y_pred_all[i]))\n",
        "res.loc['AVG'] = res.mean()\n",
        "res"
      ],
      "execution_count": 26,
      "outputs": [
        {
          "output_type": "execute_result",
          "data": {
            "text/html": [
              "<div>\n",
              "<style scoped>\n",
              "    .dataframe tbody tr th:only-of-type {\n",
              "        vertical-align: middle;\n",
              "    }\n",
              "\n",
              "    .dataframe tbody tr th {\n",
              "        vertical-align: top;\n",
              "    }\n",
              "\n",
              "    .dataframe thead th {\n",
              "        text-align: right;\n",
              "    }\n",
              "</style>\n",
              "<table border=\"1\" class=\"dataframe\">\n",
              "  <thead>\n",
              "    <tr style=\"text-align: right;\">\n",
              "      <th></th>\n",
              "      <th>R2</th>\n",
              "      <th>RMSE</th>\n",
              "      <th>mean_absolute_error</th>\n",
              "    </tr>\n",
              "  </thead>\n",
              "  <tbody>\n",
              "    <tr>\n",
              "      <th>C8N</th>\n",
              "      <td>0.622839</td>\n",
              "      <td>1.976682</td>\n",
              "      <td>1.523378</td>\n",
              "    </tr>\n",
              "    <tr>\n",
              "      <th>AVG</th>\n",
              "      <td>0.622839</td>\n",
              "      <td>1.976682</td>\n",
              "      <td>1.523378</td>\n",
              "    </tr>\n",
              "  </tbody>\n",
              "</table>\n",
              "</div>"
            ],
            "text/plain": [
              "           R2      RMSE  mean_absolute_error\n",
              "C8N  0.622839  1.976682             1.523378\n",
              "AVG  0.622839  1.976682             1.523378"
            ]
          },
          "metadata": {
            "tags": []
          },
          "execution_count": 26
        }
      ]
    },
    {
      "cell_type": "markdown",
      "metadata": {
        "id": "h0HVlPrB8Lbv",
        "colab_type": "text"
      },
      "source": [
        "# del out all scores"
      ]
    },
    {
      "cell_type": "code",
      "metadata": {
        "id": "yPTD2hmq8L6I",
        "colab_type": "code",
        "colab": {
          "base_uri": "https://localhost:8080/",
          "height": 35
        },
        "outputId": "a85d3bf2-aa50-4d54-8ac4-31a8da7ed328"
      },
      "source": [
        "print(out_index)\n",
        "y_pred_all = y_pred_all.drop(out_index,axis=0)\n",
        "y_test_all = y_test_all.drop(out_index,axis=0)"
      ],
      "execution_count": 27,
      "outputs": [
        {
          "output_type": "stream",
          "text": [
            "[150, 235, 75, 225, 25]\n"
          ],
          "name": "stdout"
        }
      ]
    },
    {
      "cell_type": "code",
      "metadata": {
        "id": "b3PkHU6h8PLv",
        "colab_type": "code",
        "colab": {
          "base_uri": "https://localhost:8080/",
          "height": 106
        },
        "outputId": "5fe25d86-36d1-41fa-d4d6-d148c2ef133c"
      },
      "source": [
        "res = pd.DataFrame()\n",
        "for i in y_columns:\n",
        "  res = res.append(metric(y_test_all[i],y_pred_all[i]))\n",
        "res.loc['AVG'] = res.mean()\n",
        "res"
      ],
      "execution_count": 28,
      "outputs": [
        {
          "output_type": "execute_result",
          "data": {
            "text/html": [
              "<div>\n",
              "<style scoped>\n",
              "    .dataframe tbody tr th:only-of-type {\n",
              "        vertical-align: middle;\n",
              "    }\n",
              "\n",
              "    .dataframe tbody tr th {\n",
              "        vertical-align: top;\n",
              "    }\n",
              "\n",
              "    .dataframe thead th {\n",
              "        text-align: right;\n",
              "    }\n",
              "</style>\n",
              "<table border=\"1\" class=\"dataframe\">\n",
              "  <thead>\n",
              "    <tr style=\"text-align: right;\">\n",
              "      <th></th>\n",
              "      <th>R2</th>\n",
              "      <th>RMSE</th>\n",
              "      <th>mean_absolute_error</th>\n",
              "    </tr>\n",
              "  </thead>\n",
              "  <tbody>\n",
              "    <tr>\n",
              "      <th>C8N</th>\n",
              "      <td>0.7343</td>\n",
              "      <td>1.508928</td>\n",
              "      <td>1.234282</td>\n",
              "    </tr>\n",
              "    <tr>\n",
              "      <th>AVG</th>\n",
              "      <td>0.7343</td>\n",
              "      <td>1.508928</td>\n",
              "      <td>1.234282</td>\n",
              "    </tr>\n",
              "  </tbody>\n",
              "</table>\n",
              "</div>"
            ],
            "text/plain": [
              "         R2      RMSE  mean_absolute_error\n",
              "C8N  0.7343  1.508928             1.234282\n",
              "AVG  0.7343  1.508928             1.234282"
            ]
          },
          "metadata": {
            "tags": []
          },
          "execution_count": 28
        }
      ]
    },
    {
      "cell_type": "markdown",
      "metadata": {
        "id": "2cj3H_dq8tt0",
        "colab_type": "text"
      },
      "source": [
        "# plot"
      ]
    },
    {
      "cell_type": "code",
      "metadata": {
        "id": "3n40kCJx8t3L",
        "colab_type": "code",
        "colab": {
          "base_uri": "https://localhost:8080/",
          "height": 354
        },
        "outputId": "291da63f-db42-4a80-e83f-41eb46c81a3f"
      },
      "source": [
        "test_point = y_test_all.join(test['N+A']).sort_values(by='N+A')\n",
        "pred_point = y_pred_all.join(test['N+A']).sort_values(by='N+A')\n",
        "for i in y_columns:\n",
        "  fig = plt.figure(figsize=(30,5))\n",
        "  plt.scatter(test_point['N+A'],test_point[i])\n",
        "  plt.plot(pred_point['N+A'],pred_point[i],color='red')\n",
        "  plt.xlabel('N+A')\n",
        "  plt.ylabel(i)\n",
        "  plt.show()"
      ],
      "execution_count": 29,
      "outputs": [
        {
          "output_type": "display_data",
          "data": {
            "image/png": "[encoded data removed]",
            "text/plain": [
              "<Figure size 2160x360 with 1 Axes>"
            ]
          },
          "metadata": {
            "tags": []
          }
        }
      ]
    },
    {
      "cell_type": "markdown",
      "metadata": {
        "id": "hWCXkAD7SEiU",
        "colab_type": "text"
      },
      "source": [
        "# dump model"
      ]
    },
    {
      "cell_type": "code",
      "metadata": {
        "id": "CEUQGHiYj-ko",
        "colab_type": "code",
        "outputId": "2f34638a-c37e-4597-dff1-759ae2be58d9",
        "colab": {
          "base_uri": "https://localhost:8080/",
          "height": 35
        }
      },
      "source": [
        "from sklearn.externals import joblib\n",
        "\n",
        "joblib.dump(model, 'model.pkl')"
      ],
      "execution_count": 30,
      "outputs": [
        {
          "output_type": "execute_result",
          "data": {
            "text/plain": [
              "['model.pkl']"
            ]
          },
          "metadata": {
            "tags": []
          },
          "execution_count": 30
        }
      ]
    },
    {
      "cell_type": "markdown",
      "metadata": {
        "id": "uDKeh1RVC_X1",
        "colab_type": "text"
      },
      "source": [
        "# 查看權重"
      ]
    },
    {
      "cell_type": "code",
      "metadata": {
        "id": "fr1AqZ8rXzWg",
        "colab_type": "code",
        "colab": {
          "base_uri": "https://localhost:8080/",
          "height": 35
        },
        "outputId": "5dff8b41-334c-438f-b025-6bb24101e135"
      },
      "source": [
        "model.coef_[0],model.intercept_"
      ],
      "execution_count": 36,
      "outputs": [
        {
          "output_type": "execute_result",
          "data": {
            "text/plain": [
              "(0.7989996159685813, 0.007088172226973821)"
            ]
          },
          "metadata": {
            "tags": []
          },
          "execution_count": 36
        }
      ]
    },
    {
      "cell_type": "code",
      "metadata": {
        "id": "nlG3z-XkDC7K",
        "colab_type": "code",
        "colab": {}
      },
      "source": [
        ""
      ],
      "execution_count": 0,
      "outputs": []
    }
  ]
}