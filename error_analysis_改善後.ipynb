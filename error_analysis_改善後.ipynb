{
  "nbformat": 4,
  "nbformat_minor": 0,
  "metadata": {
    "colab": {
      "name": "error analysis.ipynb",
      "provenance": [],
      "include_colab_link": true
    },
    "kernelspec": {
      "name": "python3",
      "display_name": "Python 3"
    }
  },
  "cells": [
    {
      "cell_type": "markdown",
      "metadata": {
        "id": "view-in-github",
        "colab_type": "text"
      },
      "source": [
        "<a href=\"https://colab.research.google.com/github/skywalker0803r/works/blob/master/error_analysis_%E6%94%B9%E5%96%84%E5%BE%8C.ipynb\" target=\"_parent\"><img src=\"https://colab.research.google.com/assets/colab-badge.svg\" alt=\"Open In Colab\"/></a>"
      ]
    },
    {
      "cell_type": "code",
      "metadata": {
        "id": "R42lkJbSIydA",
        "colab_type": "code",
        "outputId": "99691180-deec-465d-b1e3-661d111d8038",
        "colab": {
          "base_uri": "https://localhost:8080/",
          "height": 35
        }
      },
      "source": [
        "#!pip install catboost\n",
        "from google.colab import drive\n",
        "drive.mount('/content/drive')\n",
        "from sklearn.multioutput import MultiOutputRegressor\n",
        "import pandas as pd\n",
        "from sklearn.model_selection import train_test_split\n",
        "import numpy as np\n",
        "import warnings;warnings.simplefilter('ignore')\n",
        "from sklearn.model_selection import cross_validate\n",
        "from sklearn.linear_model import BayesianRidge, LinearRegression,Lasso,Ridge\n",
        "from sklearn.neural_network import MLPRegressor\n",
        "from xgboost import XGBRegressor\n",
        "from sklearn.svm import SVR\n",
        "from catboost import CatBoostRegressor\n",
        "from sklearn.preprocessing import StandardScaler,MinMaxScaler\n",
        "from sklearn.metrics import r2_score,mean_squared_error,mean_absolute_error\n",
        "from sklearn.model_selection import train_test_split\n",
        "from sklearn.metrics.scorer import make_scorer\n",
        "import plotly.express as px\n",
        "import seaborn as sns"
      ],
      "execution_count": 1,
      "outputs": [
        {
          "output_type": "stream",
          "text": [
            "Drive already mounted at /content/drive; to attempt to forcibly remount, call drive.mount(\"/content/drive\", force_remount=True).\n"
          ],
          "name": "stdout"
        }
      ]
    },
    {
      "cell_type": "code",
      "metadata": {
        "id": "6ks-bin8JLvd",
        "colab_type": "code",
        "colab": {}
      },
      "source": [
        "def mape(a, b):\n",
        "    a ,b = np.array(a) ,np.array(b)\n",
        "    mask = a != 0\n",
        "    return (np.fabs(a - b)/a)[mask].mean()\n",
        "\n",
        "def rmse(y_t,y_p):\n",
        "  return np.sqrt(mean_squared_error(y_t,y_p))\n",
        "\n",
        "def metric(y_t,y_p,name):\n",
        "  res = {'R2':np.clip(r2_score(y_t,y_p),0,1),\n",
        "         'RMSE':rmse(y_t,y_p),\n",
        "         'MAPE':mape(y_t,y_p)}\n",
        "  return pd.DataFrame(res,index=[name])\n",
        "\n",
        "def clean(df):\n",
        "  condition = (df['N+A']>=36)\n",
        "  return df.loc[condition]\n",
        "\n",
        "def std_filter(df,num,cols=None):\n",
        "  if cols == None:\n",
        "    cols = df.columns\n",
        "  for col in cols:\n",
        "    ub = df[col].median() + num*df[col].std()\n",
        "    lb = df[col].median() - num*df[col].std()\n",
        "    df = df[(df[col] > lb)&(df[col] < ub)]\n",
        "  df = df.dropna()\n",
        "  return df\n",
        "\n",
        "def get_result(y_test,y_pred):\n",
        "  res = pd.DataFrame()\n",
        "  for y_name in y_columns:\n",
        "    row = metric(y_test[y_name],y_pred[y_name],y_name)\n",
        "    res = res.append(row)\n",
        "  res.loc['AVG'] = res.mean()\n",
        "  return res\n",
        "\n",
        "def softmax(x):\n",
        "    e_x = np.exp(x - np.max(x))\n",
        "    return e_x / e_x.sum(axis=0)"
      ],
      "execution_count": 0,
      "outputs": []
    },
    {
      "cell_type": "markdown",
      "metadata": {
        "id": "aLs1QEH2n5TJ",
        "colab_type": "text"
      },
      "source": [
        "# load"
      ]
    },
    {
      "cell_type": "code",
      "metadata": {
        "id": "Hw4Hv1amJ2Bq",
        "colab_type": "code",
        "colab": {}
      },
      "source": [
        "train_4521 = pd.read_csv('/content/drive/My Drive/台塑輕油案子/data/train_4521.csv',index_col=0)\n",
        "test_170 = pd.read_csv('/content/drive/My Drive/台塑輕油案子/data/test_170.csv',index_col=0)\n",
        "test_250 = pd.read_csv('/content/drive/My Drive/台塑輕油案子/data/test_250.csv',index_col=0).drop(95)"
      ],
      "execution_count": 0,
      "outputs": []
    },
    {
      "cell_type": "markdown",
      "metadata": {
        "id": "bvwyy5AoGrI_",
        "colab_type": "text"
      },
      "source": [
        "# merge"
      ]
    },
    {
      "cell_type": "code",
      "metadata": {
        "id": "IwT8GJF3GrTM",
        "colab_type": "code",
        "outputId": "8c994604-117c-439b-fa43-918924e0f03b",
        "colab": {
          "base_uri": "https://localhost:8080/",
          "height": 35
        }
      },
      "source": [
        "full = train_4521.append(test_170).append(test_250)\n",
        "full = full.reset_index(drop=True)\n",
        "full.shape"
      ],
      "execution_count": 4,
      "outputs": [
        {
          "output_type": "execute_result",
          "data": {
            "text/plain": [
              "(4940, 27)"
            ]
          },
          "metadata": {
            "tags": []
          },
          "execution_count": 4
        }
      ]
    },
    {
      "cell_type": "markdown",
      "metadata": {
        "id": "00s1C6-9n7uL",
        "colab_type": "text"
      },
      "source": [
        "# clean and drop duplicates"
      ]
    },
    {
      "cell_type": "code",
      "metadata": {
        "id": "CMR2o4E5KBwK",
        "colab_type": "code",
        "outputId": "5189dd65-11ea-4a45-df85-9a220e8ea665",
        "colab": {
          "base_uri": "https://localhost:8080/",
          "height": 53
        }
      },
      "source": [
        "# select N+A>36\n",
        "full = clean(full)\n",
        "print(full.shape)\n",
        "\n",
        "# use std filter\n",
        "full = std_filter(full,3)\n",
        "print(full.shape)"
      ],
      "execution_count": 5,
      "outputs": [
        {
          "output_type": "stream",
          "text": [
            "(2892, 27)\n",
            "(2181, 27)\n"
          ],
          "name": "stdout"
        }
      ]
    },
    {
      "cell_type": "markdown",
      "metadata": {
        "id": "nNS6zKrvn_vj",
        "colab_type": "text"
      },
      "source": [
        "# define columns"
      ]
    },
    {
      "cell_type": "code",
      "metadata": {
        "id": "CRwqWdZbKGn8",
        "colab_type": "code",
        "colab": {}
      },
      "source": [
        "cols = full.columns.tolist()\n",
        "features = cols[:4]\n",
        "y_columns = cols[4:]"
      ],
      "execution_count": 0,
      "outputs": []
    },
    {
      "cell_type": "markdown",
      "metadata": {
        "id": "UUtZqX5ioCbc",
        "colab_type": "text"
      },
      "source": [
        "# reset_index"
      ]
    },
    {
      "cell_type": "code",
      "metadata": {
        "id": "u1Txexi2V7PY",
        "colab_type": "code",
        "outputId": "582f3e40-2093-42b6-d5c2-5e96cbdbd5bf",
        "colab": {
          "base_uri": "https://localhost:8080/",
          "height": 204
        }
      },
      "source": [
        "full = full.reset_index(drop=True)\n",
        "full.head()"
      ],
      "execution_count": 7,
      "outputs": [
        {
          "output_type": "execute_result",
          "data": {
            "text/html": [
              "<div>\n",
              "<style scoped>\n",
              "    .dataframe tbody tr th:only-of-type {\n",
              "        vertical-align: middle;\n",
              "    }\n",
              "\n",
              "    .dataframe tbody tr th {\n",
              "        vertical-align: top;\n",
              "    }\n",
              "\n",
              "    .dataframe thead th {\n",
              "        text-align: right;\n",
              "    }\n",
              "</style>\n",
              "<table border=\"1\" class=\"dataframe\">\n",
              "  <thead>\n",
              "    <tr style=\"text-align: right;\">\n",
              "      <th></th>\n",
              "      <th>T10</th>\n",
              "      <th>T50</th>\n",
              "      <th>T90</th>\n",
              "      <th>N+A</th>\n",
              "      <th>C5NP</th>\n",
              "      <th>C5IP</th>\n",
              "      <th>C5N</th>\n",
              "      <th>C6NP</th>\n",
              "      <th>C6IP</th>\n",
              "      <th>C6N</th>\n",
              "      <th>C6A</th>\n",
              "      <th>C7NP</th>\n",
              "      <th>C7IP</th>\n",
              "      <th>C7N</th>\n",
              "      <th>C7A</th>\n",
              "      <th>C8NP</th>\n",
              "      <th>C8IP</th>\n",
              "      <th>C8N</th>\n",
              "      <th>C8A</th>\n",
              "      <th>C9NP</th>\n",
              "      <th>C9IP</th>\n",
              "      <th>C9N</th>\n",
              "      <th>C9A</th>\n",
              "      <th>C10NP</th>\n",
              "      <th>C10IP</th>\n",
              "      <th>C10N</th>\n",
              "      <th>C10A</th>\n",
              "    </tr>\n",
              "  </thead>\n",
              "  <tbody>\n",
              "    <tr>\n",
              "      <th>0</th>\n",
              "      <td>103.3</td>\n",
              "      <td>118.9</td>\n",
              "      <td>143.1</td>\n",
              "      <td>36.592</td>\n",
              "      <td>0.002</td>\n",
              "      <td>0.000</td>\n",
              "      <td>0.000</td>\n",
              "      <td>3.032</td>\n",
              "      <td>0.536</td>\n",
              "      <td>4.599</td>\n",
              "      <td>0.437</td>\n",
              "      <td>10.119</td>\n",
              "      <td>8.158</td>\n",
              "      <td>8.066</td>\n",
              "      <td>3.144</td>\n",
              "      <td>8.824</td>\n",
              "      <td>9.438</td>\n",
              "      <td>5.356</td>\n",
              "      <td>5.727</td>\n",
              "      <td>6.099</td>\n",
              "      <td>9.952</td>\n",
              "      <td>4.479</td>\n",
              "      <td>3.780</td>\n",
              "      <td>0.849</td>\n",
              "      <td>5.160</td>\n",
              "      <td>0.636</td>\n",
              "      <td>0.368</td>\n",
              "    </tr>\n",
              "    <tr>\n",
              "      <th>1</th>\n",
              "      <td>101.5</td>\n",
              "      <td>123.6</td>\n",
              "      <td>146.9</td>\n",
              "      <td>36.315</td>\n",
              "      <td>1.602</td>\n",
              "      <td>1.121</td>\n",
              "      <td>0.144</td>\n",
              "      <td>2.885</td>\n",
              "      <td>2.105</td>\n",
              "      <td>2.205</td>\n",
              "      <td>0.432</td>\n",
              "      <td>7.131</td>\n",
              "      <td>5.531</td>\n",
              "      <td>6.829</td>\n",
              "      <td>3.049</td>\n",
              "      <td>8.318</td>\n",
              "      <td>8.747</td>\n",
              "      <td>6.361</td>\n",
              "      <td>6.053</td>\n",
              "      <td>6.185</td>\n",
              "      <td>10.905</td>\n",
              "      <td>5.935</td>\n",
              "      <td>3.510</td>\n",
              "      <td>1.391</td>\n",
              "      <td>6.873</td>\n",
              "      <td>1.145</td>\n",
              "      <td>0.652</td>\n",
              "    </tr>\n",
              "    <tr>\n",
              "      <th>2</th>\n",
              "      <td>102.5</td>\n",
              "      <td>120.3</td>\n",
              "      <td>145.6</td>\n",
              "      <td>36.283</td>\n",
              "      <td>0.785</td>\n",
              "      <td>0.566</td>\n",
              "      <td>0.069</td>\n",
              "      <td>3.520</td>\n",
              "      <td>1.368</td>\n",
              "      <td>2.639</td>\n",
              "      <td>0.437</td>\n",
              "      <td>10.108</td>\n",
              "      <td>8.094</td>\n",
              "      <td>7.125</td>\n",
              "      <td>3.103</td>\n",
              "      <td>8.973</td>\n",
              "      <td>6.584</td>\n",
              "      <td>7.905</td>\n",
              "      <td>5.615</td>\n",
              "      <td>6.198</td>\n",
              "      <td>9.347</td>\n",
              "      <td>4.856</td>\n",
              "      <td>3.456</td>\n",
              "      <td>0.824</td>\n",
              "      <td>5.031</td>\n",
              "      <td>0.730</td>\n",
              "      <td>0.348</td>\n",
              "    </tr>\n",
              "    <tr>\n",
              "      <th>3</th>\n",
              "      <td>105.9</td>\n",
              "      <td>125.2</td>\n",
              "      <td>147.9</td>\n",
              "      <td>37.284</td>\n",
              "      <td>2.925</td>\n",
              "      <td>2.485</td>\n",
              "      <td>0.269</td>\n",
              "      <td>3.779</td>\n",
              "      <td>3.659</td>\n",
              "      <td>3.222</td>\n",
              "      <td>1.251</td>\n",
              "      <td>6.773</td>\n",
              "      <td>5.907</td>\n",
              "      <td>7.233</td>\n",
              "      <td>3.674</td>\n",
              "      <td>7.943</td>\n",
              "      <td>8.049</td>\n",
              "      <td>6.549</td>\n",
              "      <td>6.626</td>\n",
              "      <td>5.373</td>\n",
              "      <td>9.822</td>\n",
              "      <td>4.571</td>\n",
              "      <td>2.820</td>\n",
              "      <td>0.984</td>\n",
              "      <td>3.934</td>\n",
              "      <td>0.504</td>\n",
              "      <td>0.565</td>\n",
              "    </tr>\n",
              "    <tr>\n",
              "      <th>4</th>\n",
              "      <td>94.3</td>\n",
              "      <td>121.4</td>\n",
              "      <td>146.6</td>\n",
              "      <td>40.555</td>\n",
              "      <td>0.042</td>\n",
              "      <td>0.012</td>\n",
              "      <td>0.038</td>\n",
              "      <td>3.451</td>\n",
              "      <td>2.045</td>\n",
              "      <td>5.571</td>\n",
              "      <td>1.019</td>\n",
              "      <td>7.438</td>\n",
              "      <td>5.789</td>\n",
              "      <td>8.007</td>\n",
              "      <td>3.714</td>\n",
              "      <td>8.796</td>\n",
              "      <td>9.102</td>\n",
              "      <td>6.201</td>\n",
              "      <td>7.103</td>\n",
              "      <td>5.461</td>\n",
              "      <td>11.319</td>\n",
              "      <td>4.755</td>\n",
              "      <td>2.905</td>\n",
              "      <td>0.998</td>\n",
              "      <td>4.168</td>\n",
              "      <td>0.708</td>\n",
              "      <td>0.534</td>\n",
              "    </tr>\n",
              "  </tbody>\n",
              "</table>\n",
              "</div>"
            ],
            "text/plain": [
              "     T10    T50    T90     N+A   C5NP  ...    C9A  C10NP  C10IP   C10N   C10A\n",
              "0  103.3  118.9  143.1  36.592  0.002  ...  3.780  0.849  5.160  0.636  0.368\n",
              "1  101.5  123.6  146.9  36.315  1.602  ...  3.510  1.391  6.873  1.145  0.652\n",
              "2  102.5  120.3  145.6  36.283  0.785  ...  3.456  0.824  5.031  0.730  0.348\n",
              "3  105.9  125.2  147.9  37.284  2.925  ...  2.820  0.984  3.934  0.504  0.565\n",
              "4   94.3  121.4  146.6  40.555  0.042  ...  2.905  0.998  4.168  0.708  0.534\n",
              "\n",
              "[5 rows x 27 columns]"
            ]
          },
          "metadata": {
            "tags": []
          },
          "execution_count": 7
        }
      ]
    },
    {
      "cell_type": "markdown",
      "metadata": {
        "id": "EacAyC9_oFLs",
        "colab_type": "text"
      },
      "source": [
        "# model"
      ]
    },
    {
      "cell_type": "code",
      "metadata": {
        "id": "YPjiNSoCKSh-",
        "colab_type": "code",
        "colab": {}
      },
      "source": [
        "base = CatBoostRegressor(learning_rate = 0.1,n_estimators = 100,verbose=0,objective='RMSE')\n",
        "model = MultiOutputRegressor(base)"
      ],
      "execution_count": 0,
      "outputs": []
    },
    {
      "cell_type": "markdown",
      "metadata": {
        "id": "PmDkLAsCoKKK",
        "colab_type": "text"
      },
      "source": [
        "# split and train"
      ]
    },
    {
      "cell_type": "code",
      "metadata": {
        "id": "onBr7a2MMpTa",
        "colab_type": "code",
        "outputId": "0a99ab7b-6875-4232-ff4b-db9db231f732",
        "colab": {
          "base_uri": "https://localhost:8080/",
          "height": 71
        }
      },
      "source": [
        "X = full[features]\n",
        "y = full[y_columns]\n",
        "X_train, X_test, y_train, y_test = train_test_split(X, y, test_size = 0.2 ,random_state=42)\n",
        "print(X_test.shape)\n",
        "model.fit(X_train,y_train)"
      ],
      "execution_count": 9,
      "outputs": [
        {
          "output_type": "stream",
          "text": [
            "(437, 4)\n"
          ],
          "name": "stdout"
        },
        {
          "output_type": "execute_result",
          "data": {
            "text/plain": [
              "MultiOutputRegressor(estimator=<catboost.core.CatBoostRegressor object at 0x7fdb1a019be0>,\n",
              "                     n_jobs=None)"
            ]
          },
          "metadata": {
            "tags": []
          },
          "execution_count": 9
        }
      ]
    },
    {
      "cell_type": "markdown",
      "metadata": {
        "id": "_F8yFmZ1oNTK",
        "colab_type": "text"
      },
      "source": [
        "# predict and metric"
      ]
    },
    {
      "cell_type": "code",
      "metadata": {
        "id": "ZT-FCh5bNWPu",
        "colab_type": "code",
        "outputId": "f201b79c-24c9-4565-e028-a460291b48cd",
        "colab": {
          "base_uri": "https://localhost:8080/",
          "height": 544
        }
      },
      "source": [
        "y_pred = pd.DataFrame(model.predict(X_test),columns=y_columns,index=y_test.index)\n",
        "res = get_result(y_test,y_pred)\n",
        "res.style.background_gradient()"
      ],
      "execution_count": 10,
      "outputs": [
        {
          "output_type": "execute_result",
          "data": {
            "text/html": [
              "<style  type=\"text/css\" >\n",
              "    #T_6b17d772_1cf3_11ea_a9e5_0242ac1c0002row0_col0 {\n",
              "            background-color:  #023858;\n",
              "            color:  #f1f1f1;\n",
              "        }    #T_6b17d772_1cf3_11ea_a9e5_0242ac1c0002row0_col1 {\n",
              "            background-color:  #b4c4df;\n",
              "            color:  #000000;\n",
              "        }    #T_6b17d772_1cf3_11ea_a9e5_0242ac1c0002row0_col2 {\n",
              "            background-color:  #ced0e6;\n",
              "            color:  #000000;\n",
              "        }    #T_6b17d772_1cf3_11ea_a9e5_0242ac1c0002row1_col0 {\n",
              "            background-color:  #023e62;\n",
              "            color:  #f1f1f1;\n",
              "        }    #T_6b17d772_1cf3_11ea_a9e5_0242ac1c0002row1_col1 {\n",
              "            background-color:  #d4d4e8;\n",
              "            color:  #000000;\n",
              "        }    #T_6b17d772_1cf3_11ea_a9e5_0242ac1c0002row1_col2 {\n",
              "            background-color:  #c4cbe3;\n",
              "            color:  #000000;\n",
              "        }    #T_6b17d772_1cf3_11ea_a9e5_0242ac1c0002row2_col0 {\n",
              "            background-color:  #023f64;\n",
              "            color:  #f1f1f1;\n",
              "        }    #T_6b17d772_1cf3_11ea_a9e5_0242ac1c0002row2_col1 {\n",
              "            background-color:  #fff7fb;\n",
              "            color:  #000000;\n",
              "        }    #T_6b17d772_1cf3_11ea_a9e5_0242ac1c0002row2_col2 {\n",
              "            background-color:  #d9d8ea;\n",
              "            color:  #000000;\n",
              "        }    #T_6b17d772_1cf3_11ea_a9e5_0242ac1c0002row3_col0 {\n",
              "            background-color:  #046299;\n",
              "            color:  #f1f1f1;\n",
              "        }    #T_6b17d772_1cf3_11ea_a9e5_0242ac1c0002row3_col1 {\n",
              "            background-color:  #9cb9d9;\n",
              "            color:  #000000;\n",
              "        }    #T_6b17d772_1cf3_11ea_a9e5_0242ac1c0002row3_col2 {\n",
              "            background-color:  #f0eaf4;\n",
              "            color:  #000000;\n",
              "        }    #T_6b17d772_1cf3_11ea_a9e5_0242ac1c0002row4_col0 {\n",
              "            background-color:  #034e7b;\n",
              "            color:  #f1f1f1;\n",
              "        }    #T_6b17d772_1cf3_11ea_a9e5_0242ac1c0002row4_col1 {\n",
              "            background-color:  #a2bcda;\n",
              "            color:  #000000;\n",
              "        }    #T_6b17d772_1cf3_11ea_a9e5_0242ac1c0002row4_col2 {\n",
              "            background-color:  #ebe6f2;\n",
              "            color:  #000000;\n",
              "        }    #T_6b17d772_1cf3_11ea_a9e5_0242ac1c0002row5_col0 {\n",
              "            background-color:  #1b7eb7;\n",
              "            color:  #000000;\n",
              "        }    #T_6b17d772_1cf3_11ea_a9e5_0242ac1c0002row5_col1 {\n",
              "            background-color:  #1c7fb8;\n",
              "            color:  #000000;\n",
              "        }    #T_6b17d772_1cf3_11ea_a9e5_0242ac1c0002row5_col2 {\n",
              "            background-color:  #f4edf6;\n",
              "            color:  #000000;\n",
              "        }    #T_6b17d772_1cf3_11ea_a9e5_0242ac1c0002row6_col0 {\n",
              "            background-color:  #fff7fb;\n",
              "            color:  #000000;\n",
              "        }    #T_6b17d772_1cf3_11ea_a9e5_0242ac1c0002row6_col1 {\n",
              "            background-color:  #adc1dd;\n",
              "            color:  #000000;\n",
              "        }    #T_6b17d772_1cf3_11ea_a9e5_0242ac1c0002row6_col2 {\n",
              "            background-color:  #c9cee4;\n",
              "            color:  #000000;\n",
              "        }    #T_6b17d772_1cf3_11ea_a9e5_0242ac1c0002row7_col0 {\n",
              "            background-color:  #03456c;\n",
              "            color:  #f1f1f1;\n",
              "        }    #T_6b17d772_1cf3_11ea_a9e5_0242ac1c0002row7_col1 {\n",
              "            background-color:  #8cb3d5;\n",
              "            color:  #000000;\n",
              "        }    #T_6b17d772_1cf3_11ea_a9e5_0242ac1c0002row7_col2 {\n",
              "            background-color:  #fef6fa;\n",
              "            color:  #000000;\n",
              "        }    #T_6b17d772_1cf3_11ea_a9e5_0242ac1c0002row8_col0 {\n",
              "            background-color:  #04629a;\n",
              "            color:  #f1f1f1;\n",
              "        }    #T_6b17d772_1cf3_11ea_a9e5_0242ac1c0002row8_col1 {\n",
              "            background-color:  #73a9cf;\n",
              "            color:  #000000;\n",
              "        }    #T_6b17d772_1cf3_11ea_a9e5_0242ac1c0002row8_col2 {\n",
              "            background-color:  #fbf4f9;\n",
              "            color:  #000000;\n",
              "        }    #T_6b17d772_1cf3_11ea_a9e5_0242ac1c0002row9_col0 {\n",
              "            background-color:  #023a5b;\n",
              "            color:  #f1f1f1;\n",
              "        }    #T_6b17d772_1cf3_11ea_a9e5_0242ac1c0002row9_col1 {\n",
              "            background-color:  #023858;\n",
              "            color:  #f1f1f1;\n",
              "        }    #T_6b17d772_1cf3_11ea_a9e5_0242ac1c0002row9_col2 {\n",
              "            background-color:  #fef6fa;\n",
              "            color:  #000000;\n",
              "        }    #T_6b17d772_1cf3_11ea_a9e5_0242ac1c0002row10_col0 {\n",
              "            background-color:  #2f8bbe;\n",
              "            color:  #000000;\n",
              "        }    #T_6b17d772_1cf3_11ea_a9e5_0242ac1c0002row10_col1 {\n",
              "            background-color:  #adc1dd;\n",
              "            color:  #000000;\n",
              "        }    #T_6b17d772_1cf3_11ea_a9e5_0242ac1c0002row10_col2 {\n",
              "            background-color:  #faf3f9;\n",
              "            color:  #000000;\n",
              "        }    #T_6b17d772_1cf3_11ea_a9e5_0242ac1c0002row11_col0 {\n",
              "            background-color:  #03456c;\n",
              "            color:  #f1f1f1;\n",
              "        }    #T_6b17d772_1cf3_11ea_a9e5_0242ac1c0002row11_col1 {\n",
              "            background-color:  #a8bedc;\n",
              "            color:  #000000;\n",
              "        }    #T_6b17d772_1cf3_11ea_a9e5_0242ac1c0002row11_col2 {\n",
              "            background-color:  #fff7fb;\n",
              "            color:  #000000;\n",
              "        }    #T_6b17d772_1cf3_11ea_a9e5_0242ac1c0002row12_col0 {\n",
              "            background-color:  #6da6cd;\n",
              "            color:  #000000;\n",
              "        }    #T_6b17d772_1cf3_11ea_a9e5_0242ac1c0002row12_col1 {\n",
              "            background-color:  #045e93;\n",
              "            color:  #f1f1f1;\n",
              "        }    #T_6b17d772_1cf3_11ea_a9e5_0242ac1c0002row12_col2 {\n",
              "            background-color:  #f8f1f8;\n",
              "            color:  #000000;\n",
              "        }    #T_6b17d772_1cf3_11ea_a9e5_0242ac1c0002row13_col0 {\n",
              "            background-color:  #0f76b3;\n",
              "            color:  #f1f1f1;\n",
              "        }    #T_6b17d772_1cf3_11ea_a9e5_0242ac1c0002row13_col1 {\n",
              "            background-color:  #045585;\n",
              "            color:  #f1f1f1;\n",
              "        }    #T_6b17d772_1cf3_11ea_a9e5_0242ac1c0002row13_col2 {\n",
              "            background-color:  #f9f2f8;\n",
              "            color:  #000000;\n",
              "        }    #T_6b17d772_1cf3_11ea_a9e5_0242ac1c0002row14_col0 {\n",
              "            background-color:  #83afd3;\n",
              "            color:  #000000;\n",
              "        }    #T_6b17d772_1cf3_11ea_a9e5_0242ac1c0002row14_col1 {\n",
              "            background-color:  #4697c4;\n",
              "            color:  #000000;\n",
              "        }    #T_6b17d772_1cf3_11ea_a9e5_0242ac1c0002row14_col2 {\n",
              "            background-color:  #fbf3f9;\n",
              "            color:  #000000;\n",
              "        }    #T_6b17d772_1cf3_11ea_a9e5_0242ac1c0002row15_col0 {\n",
              "            background-color:  #023c5f;\n",
              "            color:  #f1f1f1;\n",
              "        }    #T_6b17d772_1cf3_11ea_a9e5_0242ac1c0002row15_col1 {\n",
              "            background-color:  #d1d2e6;\n",
              "            color:  #000000;\n",
              "        }    #T_6b17d772_1cf3_11ea_a9e5_0242ac1c0002row15_col2 {\n",
              "            background-color:  #fcf4fa;\n",
              "            color:  #000000;\n",
              "        }    #T_6b17d772_1cf3_11ea_a9e5_0242ac1c0002row16_col0 {\n",
              "            background-color:  #0569a5;\n",
              "            color:  #f1f1f1;\n",
              "        }    #T_6b17d772_1cf3_11ea_a9e5_0242ac1c0002row16_col1 {\n",
              "            background-color:  #3b92c1;\n",
              "            color:  #000000;\n",
              "        }    #T_6b17d772_1cf3_11ea_a9e5_0242ac1c0002row16_col2 {\n",
              "            background-color:  #fcf4fa;\n",
              "            color:  #000000;\n",
              "        }    #T_6b17d772_1cf3_11ea_a9e5_0242ac1c0002row17_col0 {\n",
              "            background-color:  #d1d2e6;\n",
              "            color:  #000000;\n",
              "        }    #T_6b17d772_1cf3_11ea_a9e5_0242ac1c0002row17_col1 {\n",
              "            background-color:  #3b92c1;\n",
              "            color:  #000000;\n",
              "        }    #T_6b17d772_1cf3_11ea_a9e5_0242ac1c0002row17_col2 {\n",
              "            background-color:  #f7f0f7;\n",
              "            color:  #000000;\n",
              "        }    #T_6b17d772_1cf3_11ea_a9e5_0242ac1c0002row18_col0 {\n",
              "            background-color:  #2383ba;\n",
              "            color:  #000000;\n",
              "        }    #T_6b17d772_1cf3_11ea_a9e5_0242ac1c0002row18_col1 {\n",
              "            background-color:  #b9c6e0;\n",
              "            color:  #000000;\n",
              "        }    #T_6b17d772_1cf3_11ea_a9e5_0242ac1c0002row18_col2 {\n",
              "            background-color:  #f5eff6;\n",
              "            color:  #000000;\n",
              "        }    #T_6b17d772_1cf3_11ea_a9e5_0242ac1c0002row19_col0 {\n",
              "            background-color:  #b5c4df;\n",
              "            color:  #000000;\n",
              "        }    #T_6b17d772_1cf3_11ea_a9e5_0242ac1c0002row19_col1 {\n",
              "            background-color:  #cccfe5;\n",
              "            color:  #000000;\n",
              "        }    #T_6b17d772_1cf3_11ea_a9e5_0242ac1c0002row19_col2 {\n",
              "            background-color:  #023858;\n",
              "            color:  #f1f1f1;\n",
              "        }    #T_6b17d772_1cf3_11ea_a9e5_0242ac1c0002row20_col0 {\n",
              "            background-color:  #3991c1;\n",
              "            color:  #000000;\n",
              "        }    #T_6b17d772_1cf3_11ea_a9e5_0242ac1c0002row20_col1 {\n",
              "            background-color:  #78abd0;\n",
              "            color:  #000000;\n",
              "        }    #T_6b17d772_1cf3_11ea_a9e5_0242ac1c0002row20_col2 {\n",
              "            background-color:  #f6eff7;\n",
              "            color:  #000000;\n",
              "        }    #T_6b17d772_1cf3_11ea_a9e5_0242ac1c0002row21_col0 {\n",
              "            background-color:  #eee9f3;\n",
              "            color:  #000000;\n",
              "        }    #T_6b17d772_1cf3_11ea_a9e5_0242ac1c0002row21_col1 {\n",
              "            background-color:  #e7e3f0;\n",
              "            color:  #000000;\n",
              "        }    #T_6b17d772_1cf3_11ea_a9e5_0242ac1c0002row21_col2 {\n",
              "            background-color:  #dddbec;\n",
              "            color:  #000000;\n",
              "        }    #T_6b17d772_1cf3_11ea_a9e5_0242ac1c0002row22_col0 {\n",
              "            background-color:  #7bacd1;\n",
              "            color:  #000000;\n",
              "        }    #T_6b17d772_1cf3_11ea_a9e5_0242ac1c0002row22_col1 {\n",
              "            background-color:  #d8d7e9;\n",
              "            color:  #000000;\n",
              "        }    #T_6b17d772_1cf3_11ea_a9e5_0242ac1c0002row22_col2 {\n",
              "            background-color:  #a5bddb;\n",
              "            color:  #000000;\n",
              "        }    #T_6b17d772_1cf3_11ea_a9e5_0242ac1c0002row23_col0 {\n",
              "            background-color:  #2081b9;\n",
              "            color:  #000000;\n",
              "        }    #T_6b17d772_1cf3_11ea_a9e5_0242ac1c0002row23_col1 {\n",
              "            background-color:  #89b1d4;\n",
              "            color:  #000000;\n",
              "        }    #T_6b17d772_1cf3_11ea_a9e5_0242ac1c0002row23_col2 {\n",
              "            background-color:  #e8e4f0;\n",
              "            color:  #000000;\n",
              "        }</style><table id=\"T_6b17d772_1cf3_11ea_a9e5_0242ac1c0002\" ><thead>    <tr>        <th class=\"blank level0\" ></th>        <th class=\"col_heading level0 col0\" >R2</th>        <th class=\"col_heading level0 col1\" >RMSE</th>        <th class=\"col_heading level0 col2\" >MAPE</th>    </tr></thead><tbody>\n",
              "                <tr>\n",
              "                        <th id=\"T_6b17d772_1cf3_11ea_a9e5_0242ac1c0002level0_row0\" class=\"row_heading level0 row0\" >C5NP</th>\n",
              "                        <td id=\"T_6b17d772_1cf3_11ea_a9e5_0242ac1c0002row0_col0\" class=\"data row0 col0\" >0.957095</td>\n",
              "                        <td id=\"T_6b17d772_1cf3_11ea_a9e5_0242ac1c0002row0_col1\" class=\"data row0 col1\" >0.30576</td>\n",
              "                        <td id=\"T_6b17d772_1cf3_11ea_a9e5_0242ac1c0002row0_col2\" class=\"data row0 col2\" >0.221734</td>\n",
              "            </tr>\n",
              "            <tr>\n",
              "                        <th id=\"T_6b17d772_1cf3_11ea_a9e5_0242ac1c0002level0_row1\" class=\"row_heading level0 row1\" >C5IP</th>\n",
              "                        <td id=\"T_6b17d772_1cf3_11ea_a9e5_0242ac1c0002row1_col0\" class=\"data row1 col0\" >0.941737</td>\n",
              "                        <td id=\"T_6b17d772_1cf3_11ea_a9e5_0242ac1c0002row1_col1\" class=\"data row1 col1\" >0.224721</td>\n",
              "                        <td id=\"T_6b17d772_1cf3_11ea_a9e5_0242ac1c0002row1_col2\" class=\"data row1 col2\" >0.243709</td>\n",
              "            </tr>\n",
              "            <tr>\n",
              "                        <th id=\"T_6b17d772_1cf3_11ea_a9e5_0242ac1c0002level0_row2\" class=\"row_heading level0 row2\" >C5N</th>\n",
              "                        <td id=\"T_6b17d772_1cf3_11ea_a9e5_0242ac1c0002row2_col0\" class=\"data row2 col0\" >0.94067</td>\n",
              "                        <td id=\"T_6b17d772_1cf3_11ea_a9e5_0242ac1c0002row2_col1\" class=\"data row2 col1\" >0.0335359</td>\n",
              "                        <td id=\"T_6b17d772_1cf3_11ea_a9e5_0242ac1c0002row2_col2\" class=\"data row2 col2\" >0.190533</td>\n",
              "            </tr>\n",
              "            <tr>\n",
              "                        <th id=\"T_6b17d772_1cf3_11ea_a9e5_0242ac1c0002level0_row3\" class=\"row_heading level0 row3\" >C6NP</th>\n",
              "                        <td id=\"T_6b17d772_1cf3_11ea_a9e5_0242ac1c0002row3_col0\" class=\"data row3 col0\" >0.860843</td>\n",
              "                        <td id=\"T_6b17d772_1cf3_11ea_a9e5_0242ac1c0002row3_col1\" class=\"data row3 col1\" >0.360006</td>\n",
              "                        <td id=\"T_6b17d772_1cf3_11ea_a9e5_0242ac1c0002row3_col2\" class=\"data row3 col2\" >0.109403</td>\n",
              "            </tr>\n",
              "            <tr>\n",
              "                        <th id=\"T_6b17d772_1cf3_11ea_a9e5_0242ac1c0002level0_row4\" class=\"row_heading level0 row4\" >C6IP</th>\n",
              "                        <td id=\"T_6b17d772_1cf3_11ea_a9e5_0242ac1c0002row4_col0\" class=\"data row4 col0\" >0.909357</td>\n",
              "                        <td id=\"T_6b17d772_1cf3_11ea_a9e5_0242ac1c0002row4_col1\" class=\"data row4 col1\" >0.347963</td>\n",
              "                        <td id=\"T_6b17d772_1cf3_11ea_a9e5_0242ac1c0002row4_col2\" class=\"data row4 col2\" >0.132512</td>\n",
              "            </tr>\n",
              "            <tr>\n",
              "                        <th id=\"T_6b17d772_1cf3_11ea_a9e5_0242ac1c0002level0_row5\" class=\"row_heading level0 row5\" >C6N</th>\n",
              "                        <td id=\"T_6b17d772_1cf3_11ea_a9e5_0242ac1c0002row5_col0\" class=\"data row5 col0\" >0.783527</td>\n",
              "                        <td id=\"T_6b17d772_1cf3_11ea_a9e5_0242ac1c0002row5_col1\" class=\"data row5 col1\" >0.596992</td>\n",
              "                        <td id=\"T_6b17d772_1cf3_11ea_a9e5_0242ac1c0002row5_col2\" class=\"data row5 col2\" >0.0923572</td>\n",
              "            </tr>\n",
              "            <tr>\n",
              "                        <th id=\"T_6b17d772_1cf3_11ea_a9e5_0242ac1c0002level0_row6\" class=\"row_heading level0 row6\" >C6A</th>\n",
              "                        <td id=\"T_6b17d772_1cf3_11ea_a9e5_0242ac1c0002row6_col0\" class=\"data row6 col0\" >0.389438</td>\n",
              "                        <td id=\"T_6b17d772_1cf3_11ea_a9e5_0242ac1c0002row6_col1\" class=\"data row6 col1\" >0.320951</td>\n",
              "                        <td id=\"T_6b17d772_1cf3_11ea_a9e5_0242ac1c0002row6_col2\" class=\"data row6 col2\" >0.2325</td>\n",
              "            </tr>\n",
              "            <tr>\n",
              "                        <th id=\"T_6b17d772_1cf3_11ea_a9e5_0242ac1c0002level0_row7\" class=\"row_heading level0 row7\" >C7NP</th>\n",
              "                        <td id=\"T_6b17d772_1cf3_11ea_a9e5_0242ac1c0002row7_col0\" class=\"data row7 col0\" >0.929293</td>\n",
              "                        <td id=\"T_6b17d772_1cf3_11ea_a9e5_0242ac1c0002row7_col1\" class=\"data row7 col1\" >0.391574</td>\n",
              "                        <td id=\"T_6b17d772_1cf3_11ea_a9e5_0242ac1c0002row7_col2\" class=\"data row7 col2\" >0.0473225</td>\n",
              "            </tr>\n",
              "            <tr>\n",
              "                        <th id=\"T_6b17d772_1cf3_11ea_a9e5_0242ac1c0002level0_row8\" class=\"row_heading level0 row8\" >C7IP</th>\n",
              "                        <td id=\"T_6b17d772_1cf3_11ea_a9e5_0242ac1c0002row8_col0\" class=\"data row8 col0\" >0.858551</td>\n",
              "                        <td id=\"T_6b17d772_1cf3_11ea_a9e5_0242ac1c0002row8_col1\" class=\"data row8 col1\" >0.441771</td>\n",
              "                        <td id=\"T_6b17d772_1cf3_11ea_a9e5_0242ac1c0002row8_col2\" class=\"data row8 col2\" >0.0569813</td>\n",
              "            </tr>\n",
              "            <tr>\n",
              "                        <th id=\"T_6b17d772_1cf3_11ea_a9e5_0242ac1c0002level0_row9\" class=\"row_heading level0 row9\" >C7N</th>\n",
              "                        <td id=\"T_6b17d772_1cf3_11ea_a9e5_0242ac1c0002row9_col0\" class=\"data row9 col0\" >0.951204</td>\n",
              "                        <td id=\"T_6b17d772_1cf3_11ea_a9e5_0242ac1c0002row9_col1\" class=\"data row9 col1\" >0.849596</td>\n",
              "                        <td id=\"T_6b17d772_1cf3_11ea_a9e5_0242ac1c0002row9_col2\" class=\"data row9 col2\" >0.0471254</td>\n",
              "            </tr>\n",
              "            <tr>\n",
              "                        <th id=\"T_6b17d772_1cf3_11ea_a9e5_0242ac1c0002level0_row10\" class=\"row_heading level0 row10\" >C7A</th>\n",
              "                        <td id=\"T_6b17d772_1cf3_11ea_a9e5_0242ac1c0002row10_col0\" class=\"data row10 col0\" >0.754194</td>\n",
              "                        <td id=\"T_6b17d772_1cf3_11ea_a9e5_0242ac1c0002row10_col1\" class=\"data row10 col1\" >0.322632</td>\n",
              "                        <td id=\"T_6b17d772_1cf3_11ea_a9e5_0242ac1c0002row10_col2\" class=\"data row10 col2\" >0.0627386</td>\n",
              "            </tr>\n",
              "            <tr>\n",
              "                        <th id=\"T_6b17d772_1cf3_11ea_a9e5_0242ac1c0002level0_row11\" class=\"row_heading level0 row11\" >C8NP</th>\n",
              "                        <td id=\"T_6b17d772_1cf3_11ea_a9e5_0242ac1c0002row11_col0\" class=\"data row11 col0\" >0.929292</td>\n",
              "                        <td id=\"T_6b17d772_1cf3_11ea_a9e5_0242ac1c0002row11_col1\" class=\"data row11 col1\" >0.333867</td>\n",
              "                        <td id=\"T_6b17d772_1cf3_11ea_a9e5_0242ac1c0002row11_col2\" class=\"data row11 col2\" >0.0390249</td>\n",
              "            </tr>\n",
              "            <tr>\n",
              "                        <th id=\"T_6b17d772_1cf3_11ea_a9e5_0242ac1c0002level0_row12\" class=\"row_heading level0 row12\" >C8IP</th>\n",
              "                        <td id=\"T_6b17d772_1cf3_11ea_a9e5_0242ac1c0002row12_col0\" class=\"data row12 col0\" >0.680678</td>\n",
              "                        <td id=\"T_6b17d772_1cf3_11ea_a9e5_0242ac1c0002row12_col1\" class=\"data row12 col1\" >0.731553</td>\n",
              "                        <td id=\"T_6b17d772_1cf3_11ea_a9e5_0242ac1c0002row12_col2\" class=\"data row12 col2\" >0.074088</td>\n",
              "            </tr>\n",
              "            <tr>\n",
              "                        <th id=\"T_6b17d772_1cf3_11ea_a9e5_0242ac1c0002level0_row13\" class=\"row_heading level0 row13\" >C8N</th>\n",
              "                        <td id=\"T_6b17d772_1cf3_11ea_a9e5_0242ac1c0002row13_col0\" class=\"data row13 col0\" >0.799885</td>\n",
              "                        <td id=\"T_6b17d772_1cf3_11ea_a9e5_0242ac1c0002row13_col1\" class=\"data row13 col1\" >0.760353</td>\n",
              "                        <td id=\"T_6b17d772_1cf3_11ea_a9e5_0242ac1c0002row13_col2\" class=\"data row13 col2\" >0.06723</td>\n",
              "            </tr>\n",
              "            <tr>\n",
              "                        <th id=\"T_6b17d772_1cf3_11ea_a9e5_0242ac1c0002level0_row14\" class=\"row_heading level0 row14\" >C8A</th>\n",
              "                        <td id=\"T_6b17d772_1cf3_11ea_a9e5_0242ac1c0002row14_col0\" class=\"data row14 col0\" >0.652593</td>\n",
              "                        <td id=\"T_6b17d772_1cf3_11ea_a9e5_0242ac1c0002row14_col1\" class=\"data row14 col1\" >0.51639</td>\n",
              "                        <td id=\"T_6b17d772_1cf3_11ea_a9e5_0242ac1c0002row14_col2\" class=\"data row14 col2\" >0.0614073</td>\n",
              "            </tr>\n",
              "            <tr>\n",
              "                        <th id=\"T_6b17d772_1cf3_11ea_a9e5_0242ac1c0002level0_row15\" class=\"row_heading level0 row15\" >C9NP</th>\n",
              "                        <td id=\"T_6b17d772_1cf3_11ea_a9e5_0242ac1c0002row15_col0\" class=\"data row15 col0\" >0.947381</td>\n",
              "                        <td id=\"T_6b17d772_1cf3_11ea_a9e5_0242ac1c0002row15_col1\" class=\"data row15 col1\" >0.237254</td>\n",
              "                        <td id=\"T_6b17d772_1cf3_11ea_a9e5_0242ac1c0002row15_col2\" class=\"data row15 col2\" >0.0547828</td>\n",
              "            </tr>\n",
              "            <tr>\n",
              "                        <th id=\"T_6b17d772_1cf3_11ea_a9e5_0242ac1c0002level0_row16\" class=\"row_heading level0 row16\" >C9IP</th>\n",
              "                        <td id=\"T_6b17d772_1cf3_11ea_a9e5_0242ac1c0002row16_col0\" class=\"data row16 col0\" >0.836825</td>\n",
              "                        <td id=\"T_6b17d772_1cf3_11ea_a9e5_0242ac1c0002row16_col1\" class=\"data row16 col1\" >0.534327</td>\n",
              "                        <td id=\"T_6b17d772_1cf3_11ea_a9e5_0242ac1c0002row16_col2\" class=\"data row16 col2\" >0.0539895</td>\n",
              "            </tr>\n",
              "            <tr>\n",
              "                        <th id=\"T_6b17d772_1cf3_11ea_a9e5_0242ac1c0002level0_row17\" class=\"row_heading level0 row17\" >C9N</th>\n",
              "                        <td id=\"T_6b17d772_1cf3_11ea_a9e5_0242ac1c0002row17_col0\" class=\"data row17 col0\" >0.531281</td>\n",
              "                        <td id=\"T_6b17d772_1cf3_11ea_a9e5_0242ac1c0002row17_col1\" class=\"data row17 col1\" >0.535779</td>\n",
              "                        <td id=\"T_6b17d772_1cf3_11ea_a9e5_0242ac1c0002row17_col2\" class=\"data row17 col2\" >0.0766141</td>\n",
              "            </tr>\n",
              "            <tr>\n",
              "                        <th id=\"T_6b17d772_1cf3_11ea_a9e5_0242ac1c0002level0_row18\" class=\"row_heading level0 row18\" >C9A</th>\n",
              "                        <td id=\"T_6b17d772_1cf3_11ea_a9e5_0242ac1c0002row18_col0\" class=\"data row18 col0\" >0.771445</td>\n",
              "                        <td id=\"T_6b17d772_1cf3_11ea_a9e5_0242ac1c0002row18_col1\" class=\"data row18 col1\" >0.292201</td>\n",
              "                        <td id=\"T_6b17d772_1cf3_11ea_a9e5_0242ac1c0002row18_col2\" class=\"data row18 col2\" >0.0840878</td>\n",
              "            </tr>\n",
              "            <tr>\n",
              "                        <th id=\"T_6b17d772_1cf3_11ea_a9e5_0242ac1c0002level0_row19\" class=\"row_heading level0 row19\" >C10NP</th>\n",
              "                        <td id=\"T_6b17d772_1cf3_11ea_a9e5_0242ac1c0002row19_col0\" class=\"data row19 col0\" >0.5764</td>\n",
              "                        <td id=\"T_6b17d772_1cf3_11ea_a9e5_0242ac1c0002row19_col1\" class=\"data row19 col1\" >0.249766</td>\n",
              "                        <td id=\"T_6b17d772_1cf3_11ea_a9e5_0242ac1c0002row19_col2\" class=\"data row19 col2\" >0.755831</td>\n",
              "            </tr>\n",
              "            <tr>\n",
              "                        <th id=\"T_6b17d772_1cf3_11ea_a9e5_0242ac1c0002level0_row20\" class=\"row_heading level0 row20\" >C10IP</th>\n",
              "                        <td id=\"T_6b17d772_1cf3_11ea_a9e5_0242ac1c0002row20_col0\" class=\"data row20 col0\" >0.739864</td>\n",
              "                        <td id=\"T_6b17d772_1cf3_11ea_a9e5_0242ac1c0002row20_col1\" class=\"data row20 col1\" >0.434198</td>\n",
              "                        <td id=\"T_6b17d772_1cf3_11ea_a9e5_0242ac1c0002row20_col2\" class=\"data row20 col2\" >0.0837808</td>\n",
              "            </tr>\n",
              "            <tr>\n",
              "                        <th id=\"T_6b17d772_1cf3_11ea_a9e5_0242ac1c0002level0_row21\" class=\"row_heading level0 row21\" >C10N</th>\n",
              "                        <td id=\"T_6b17d772_1cf3_11ea_a9e5_0242ac1c0002row21_col0\" class=\"data row21 col0\" >0.452218</td>\n",
              "                        <td id=\"T_6b17d772_1cf3_11ea_a9e5_0242ac1c0002row21_col1\" class=\"data row21 col1\" >0.155271</td>\n",
              "                        <td id=\"T_6b17d772_1cf3_11ea_a9e5_0242ac1c0002row21_col2\" class=\"data row21 col2\" >0.178187</td>\n",
              "            </tr>\n",
              "            <tr>\n",
              "                        <th id=\"T_6b17d772_1cf3_11ea_a9e5_0242ac1c0002level0_row22\" class=\"row_heading level0 row22\" >C10A</th>\n",
              "                        <td id=\"T_6b17d772_1cf3_11ea_a9e5_0242ac1c0002row22_col0\" class=\"data row22 col0\" >0.664363</td>\n",
              "                        <td id=\"T_6b17d772_1cf3_11ea_a9e5_0242ac1c0002row22_col1\" class=\"data row22 col1\" >0.209969</td>\n",
              "                        <td id=\"T_6b17d772_1cf3_11ea_a9e5_0242ac1c0002row22_col2\" class=\"data row22 col2\" >0.308017</td>\n",
              "            </tr>\n",
              "            <tr>\n",
              "                        <th id=\"T_6b17d772_1cf3_11ea_a9e5_0242ac1c0002level0_row23\" class=\"row_heading level0 row23\" >AVG</th>\n",
              "                        <td id=\"T_6b17d772_1cf3_11ea_a9e5_0242ac1c0002row23_col0\" class=\"data row23 col0\" >0.776441</td>\n",
              "                        <td id=\"T_6b17d772_1cf3_11ea_a9e5_0242ac1c0002row23_col1\" class=\"data row23 col1\" >0.39941</td>\n",
              "                        <td id=\"T_6b17d772_1cf3_11ea_a9e5_0242ac1c0002row23_col2\" class=\"data row23 col2\" >0.142346</td>\n",
              "            </tr>\n",
              "    </tbody></table>"
            ],
            "text/plain": [
              "<pandas.io.formats.style.Styler at 0x7fdb19fd9f98>"
            ]
          },
          "metadata": {
            "tags": []
          },
          "execution_count": 10
        }
      ]
    },
    {
      "cell_type": "markdown",
      "metadata": {
        "id": "AxZiClHwoQFX",
        "colab_type": "text"
      },
      "source": [
        "# count loss"
      ]
    },
    {
      "cell_type": "code",
      "metadata": {
        "id": "53kw2CJqe9yR",
        "colab_type": "code",
        "colab": {}
      },
      "source": [
        "loss = np.sqrt(np.square(y_test-y_pred))"
      ],
      "execution_count": 0,
      "outputs": []
    },
    {
      "cell_type": "markdown",
      "metadata": {
        "id": "hN86i3EeoRuq",
        "colab_type": "text"
      },
      "source": [
        "# plot loss"
      ]
    },
    {
      "cell_type": "code",
      "metadata": {
        "id": "antEhcGxQQsT",
        "colab_type": "code",
        "outputId": "ab1d9f28-e9c4-4dc2-edc2-e7defebc9d9b",
        "colab": {
          "base_uri": "https://localhost:8080/",
          "height": 617
        }
      },
      "source": [
        "y_name = 'C7N'\n",
        "plot_data = X_test\n",
        "plot_data[y_name] = y_test[y_name]\n",
        "plot_data[y_name+'_pred'] = y_pred[y_name]\n",
        "plot_data['loss'] = loss[y_name]\n",
        "plot_data['index'] = X_test.index\n",
        "fig = px.scatter(plot_data, x = y_name , y = \"loss\" ,color = \"loss\",size = \"loss\",hover_data=plot_data.columns)\n",
        "fig.show()"
      ],
      "execution_count": 12,
      "outputs": [
        {
          "output_type": "display_data",
          "data": {
            "text/html": [
              "<html>\n",
              "<head><meta charset=\"utf-8\" /></head>\n",
              "<body>\n",
              "    <div>\n",
              "            <script src=\"https://cdnjs.cloudflare.com/ajax/libs/mathjax/2.7.5/MathJax.js?config=TeX-AMS-MML_SVG\"></script><script type=\"text/javascript\">if (window.MathJax) {MathJax.Hub.Config({SVG: {font: \"STIX-Web\"}});}</script>\n",
              "                <script type=\"text/javascript\">window.PlotlyConfig = {MathJaxConfig: 'local'};</script>\n",
              "        <script src=\"https://cdn.plot.ly/plotly-latest.min.js\"></script>    \n",
              "            <div id=\"4c18ff5e-ef50-4e23-b29b-d8be33464f6c\" class=\"plotly-graph-div\" style=\"height:600px; width:100%;\"></div>\n",
              "            <script type=\"text/javascript\">\n",
              "                \n",
              "                    window.PLOTLYENV=window.PLOTLYENV || {};\n",
              "                    \n",
              "                if (document.getElementById(\"4c18ff5e-ef50-4e23-b29b-d8be33464f6c\")) {\n",
              "                    Plotly.newPlot(\n",
              "                        '4c18ff5e-ef50-4e23-b29b-d8be33464f6c',\n",
              "                        [{\"customdata\": [[102.4, 114.7, 143.8, 53.702, 20.472, 19.48129997491751, 0.9907000250824929, 282.0], [96.7, 117.4, 152.2, 50.65600000000001, 13.87, 14.827096528418782, 0.9570965284187825, 479.0], [94.7, 115.7, 143.8, 53.095, 16.088, 16.338481770318374, 0.25048177031837326, 1064.0], [95.8, 116.9, 144.0, 48.54299999999999, 14.078, 14.142066793529178, 0.06406679352917877, 1255.0], [78.7, 105.9, 137.2, 44.46100000000001, 13.68, 13.050442858144322, 0.6295571418556776, 507.0], [91.1, 112.3, 145.9, 48.487, 17.21, 15.879278086427634, 1.3307219135723667, 495.0], [84.8, 107.7, 141.7, 50.556999999999995, 18.905, 18.214878476298832, 0.6901215237011691, 416.0], [94.2, 112.4, 142.1, 50.102, 16.2, 16.33597358723216, 0.13597358723216146, 2011.0], [94.5, 115.2, 141.4, 50.975, 15.458, 15.525050898753728, 0.0670508987537275, 1071.0], [89.8, 110.9, 145.1, 52.486000000000004, 17.250999999999998, 18.312599205334283, 1.0615992053342858, 1151.0], [96.7, 117.3, 144.0, 50.098, 14.057, 14.525746703923101, 0.4687467039231006, 1988.0], [106.5, 121.8, 147.1, 39.96, 7.977, 8.815728239550442, 0.8387282395504414, 96.0], [100.2, 117.5, 145.2, 39.19, 10.313, 10.048264007710557, 0.26473599228944344, 585.0], [97.3, 116.8, 143.9, 52.459, 15.377, 15.499925516120857, 0.12292551612085667, 1946.0], [100.8, 118.2, 146.8, 37.991, 9.648, 9.246568991668312, 0.4014310083316879, 590.0], [87.4, 111.9, 145.1, 46.39300000000001, 14.387, 13.803626934013135, 0.5833730659868657, 1720.0], [98.4, 115.7, 145.0, 50.7394, 16.012999999999998, 16.130954999506017, 0.11795499950601851, 552.0], [75.3, 101.1, 136.2, 46.063, 14.639, 14.751133363012014, 0.11213336301201515, 254.0], [93.3, 107.0, 132.7, 55.533140688992574, 26.15673949287078, 22.34354908212896, 3.8131904107418215, 2105.0], [91.5, 112.5, 145.9, 52.403, 17.316, 17.617563606589194, 0.3015636065891947, 746.0], [89.5, 111.2, 144.2, 52.62300000000001, 17.178, 18.063050653730453, 0.8850506537304526, 1128.0], [84.7, 108.6, 134.2, 41.88399999999999, 11.952, 11.548338875907659, 0.40366112409234134, 387.0], [94.0, 113.1, 145.6, 53.47599999999999, 18.159, 17.99835310320137, 0.1606468967986281, 721.0], [97.9, 117.5, 144.4, 36.378, 8.558, 8.211755173349117, 0.3462448266508833, 29.0], [91.9, 110.9, 136.7, 40.424, 11.179, 11.468402705683596, 0.28940270568359594, 368.0], [75.3, 111.6, 151.1, 40.916, 11.857, 11.385865896894854, 0.47113410310514503, 865.0], [95.1, 114.5, 139.9, 52.61600000000001, 16.512, 15.94206520218297, 0.5699347978170302, 1910.0], [90.2, 109.6, 140.3, 50.45199999999999, 19.923, 18.130177104832335, 1.7928228951676637, 519.0], [102.9, 119.5, 146.3, 36.899, 8.632, 8.26255130704965, 0.36944869295034977, 111.0], [95.7, 111.7, 139.7, 59.699442514341115, 22.263068594974555, 23.38146379250441, 1.1183951975298534, 2176.0], [94.4, 117.2, 152.5, 51.102, 15.268, 14.908587312438886, 0.35941268756111455, 486.0], [75.0, 100.5, 136.4, 48.898, 17.973, 17.286050919441283, 0.6869490805587155, 240.0], [94.9, 116.7, 149.5, 48.977, 14.419, 14.325544769519668, 0.09345523048033222, 808.0], [86.9, 113.6, 145.8, 48.854, 14.942, 14.810635365378173, 0.13136463462182668, 859.0], [90.5, 115.7, 147.0, 38.814, 8.798, 9.388245326209807, 0.5902453262098071, 134.0], [96.8, 118.0, 146.9, 48.365, 14.14, 13.779266602818927, 0.36073339718107356, 1641.0], [97.1, 112.7, 144.3, 57.614, 22.072, 21.59192679268267, 0.4800732073173286, 841.0], [99.0, 112.6, 137.1, 56.953, 21.548, 22.835694282693623, 1.287694282693625, 73.0], [94.0, 114.7, 141.8, 49.084, 15.115, 14.860778520088765, 0.25422147991123545, 1814.0], [89.9, 113.5, 144.6, 42.901, 12.698, 11.633333714472727, 1.0646662855272737, 1731.0], [81.0, 113.6, 152.8, 41.67699999999999, 10.976, 11.109588558730985, 0.13358855873098463, 1242.0], [101.2, 118.0, 144.4, 39.364000000000004, 10.49, 10.137141873403133, 0.35285812659686755, 829.0], [94.2, 114.6, 143.5, 49.918000000000006, 15.249, 15.363804120066414, 0.11480412006641316, 1112.0], [83.8, 108.7, 142.1, 50.312, 18.22, 17.901671125520163, 0.3183288744798354, 819.0], [95.9, 114.3, 139.5, 46.359, 14.245, 13.628688269226723, 0.6163117307732762, 1541.0], [88.4, 115.0, 146.7, 49.17800000000001, 14.58, 14.596437906198048, 0.01643790619804797, 907.0], [77.0, 111.3, 148.6, 37.122, 9.341, 9.347899139921934, 0.00689913992193425, 383.0], [85.8, 106.2, 145.4, 54.457, 18.861, 19.97757838334777, 1.1165783833477683, 1189.0], [92.9, 113.7, 139.3, 52.398, 15.75, 16.89502599956017, 1.1450259995601684, 1780.0], [94.6, 113.9, 147.1, 50.63800000000001, 15.862, 16.781386982971377, 0.9193869829713766, 1110.0], [99.8, 120.3, 146.7, 38.527, 8.899, 8.75220698141306, 0.14679301858693883, 2050.0], [101.0, 112.2, 143.5, 56.06800000000001, 21.968000000000004, 22.36803266071557, 0.4000326607155671, 637.0], [94.1, 114.6, 141.0, 51.972, 15.45, 15.601875392020625, 0.15187539202062617, 1785.0], [97.0, 116.2, 142.6, 49.699, 15.216, 14.660993209734933, 0.5550067902650664, 1284.0], [90.1, 107.6, 136.4, 56.38800000000001, 23.5, 21.9745136192581, 1.5254863807418992, 231.0], [95.2, 113.7, 139.0, 48.53100000000001, 15.269, 15.340429840858144, 0.07142984085814419, 1542.0], [92.9, 114.8, 143.1, 45.447, 13.403, 13.166453210623988, 0.23654678937601226, 1221.0], [95.0, 115.8, 143.1, 49.137, 14.253, 14.687421842406254, 0.4344218424062536, 1290.0], [106.4, 120.8, 144.5, 37.224, 8.72, 8.11726809535283, 0.60273190464717, 1536.0], [97.3, 118.8, 147.8, 47.790000000000006, 13.727, 13.29823592671503, 0.42876407328497024, 1646.0], [102.4, 116.0, 144.4, 48.499, 16.570999999999998, 15.962219959745461, 0.6087800402545369, 307.0], [106.4, 122.2, 148.8, 38.063, 8.581, 8.15125206638443, 0.4297479336155696, 100.0], [81.9, 112.0, 148.8, 41.434, 12.039, 11.279168584604513, 0.759831415395487, 432.0], [76.0, 103.1, 138.8, 48.703, 17.204, 16.983921449467452, 0.22007855053254843, 233.0], [92.0, 111.8, 137.8, 40.237, 10.869000000000002, 11.028042245061386, 0.15904224506138398, 367.0], [87.7, 113.5, 146.3, 47.682, 14.718, 14.415168153132894, 0.3028318468671056, 1043.0], [76.0, 101.3, 139.1, 46.49099999999999, 15.027, 14.638415762019013, 0.38858423798098585, 259.0], [94.6, 113.2, 146.4, 53.638999999999996, 19.458, 18.200486382594438, 1.2575136174055608, 705.0], [93.9, 114.4, 142.2, 52.817, 15.897, 16.175611577146142, 0.27861157714614215, 1790.0], [95.8, 115.0, 141.9, 51.648, 15.684, 15.737141699587756, 0.05314169958775672, 1919.0], [99.8, 117.8, 143.5, 36.417, 7.033, 8.440231556086271, 1.4072315560862707, 990.0], [96.4, 116.7, 146.3, 51.334, 15.3, 15.312161820081336, 0.01216182008133515, 1029.0], [89.4, 105.2, 134.9, 61.205237005755045, 24.73164881018373, 24.962780546125828, 0.23113173594209613, 2178.0], [93.0, 114.6, 145.0, 49.64700000000001, 15.33, 15.330557024631032, 0.0005570246310320215, 1114.0], [101.0, 112.3, 144.3, 55.675, 21.55, 22.383652103448583, 0.833652103448582, 636.0], [96.7, 117.5, 145.9, 49.612, 14.545, 14.374971233078004, 0.17002876692199642, 1251.0], [80.2, 113.0, 145.7, 36.118, 7.961, 8.526438140517891, 0.565438140517891, 188.0], [104.0, 121.0, 150.5, 36.18600000000001, 8.306000000000001, 7.828286706003413, 0.4777132939965876, 109.0], [92.3, 110.3, 135.8, 40.285, 10.447, 11.53541707345806, 1.0884170734580607, 353.0], [99.1, 116.8, 142.9, 42.129, 11.353, 11.364315044222893, 0.011315044222893533, 1566.0], [101.5, 117.8, 144.2, 38.605, 9.944, 9.622812709454443, 0.3211872905455575, 582.0], [107.4, 119.7, 143.8, 48.83926883438834, 14.320318621054854, 14.981329148556615, 0.6610105275017606, 2149.0], [92.0, 112.0, 145.6, 53.748999999999995, 20.81, 19.173769690743782, 1.6362303092562165, 1706.0], [100.4, 119.4, 144.9, 39.899, 9.728, 9.716537699950802, 0.011462300049197793, 1460.0], [94.2, 113.0, 146.1, 51.889429037274255, 19.877608296359874, 17.206794251414635, 2.6708140449452387, 2112.0], [95.3, 115.5, 143.5, 45.935, 13.717, 13.1428192004162, 0.5741807995838002, 1967.0], [82.0, 108.5, 141.7, 42.306, 13.668, 11.531801903699892, 2.1361980963001077, 409.0], [96.4, 112.7, 140.1, 57.625, 21.121, 21.72505865051602, 0.6040586505160199, 70.0], [101.8, 115.0, 145.1, 51.611000000000004, 17.208, 18.177569095985962, 0.969569095985964, 610.0], [75.6, 106.4, 146.1, 40.643, 12.912, 11.72466897144109, 1.1873310285589103, 406.0], [75.4, 109.3, 144.0, 37.955, 8.465, 9.767036061916045, 1.302036061916045, 184.0], [93.4, 115.3, 144.4, 51.372, 15.883, 15.668887355186968, 0.2141126448130315, 973.0], [95.0, 114.8, 144.9, 45.29, 12.724, 12.91454482477543, 0.19054482477542933, 1370.0], [96.5, 112.5, 139.3, 50.063, 15.907, 16.64308236271434, 0.7360823627143382, 1073.0], [88.9, 107.3, 140.9, 54.03758111083084, 23.915276148910646, 19.70096470123717, 4.214311447673477, 2102.0], [89.2, 110.5, 140.9, 46.849, 15.032, 14.432948397926204, 0.5990516020737964, 2022.0], [102.2, 114.9, 140.2, 50.328, 18.021, 17.421854203753366, 0.5991457962466349, 297.0], [96.5, 117.8, 142.3, 49.749, 13.99, 14.122842976679681, 0.13284297667968126, 1994.0], [101.8, 113.3, 140.7, 55.056, 21.509, 21.20559754639582, 0.30340245360418194, 281.0], [94.2, 115.4, 143.3, 53.19600000000001, 15.841, 16.287186147099202, 0.446186147099203, 999.0], [89.3, 107.8, 133.9, 49.83, 15.884, 17.20604452748832, 1.3220445274883197, 67.0], [93.3, 116.2, 151.7, 52.46600000000001, 15.86, 15.540554637588121, 0.31944536241187826, 485.0], [94.1, 114.5, 140.9, 52.463, 15.947, 15.714737480214314, 0.23226251978568513, 1804.0], [95.4, 114.3, 141.9, 47.909, 15.419, 14.566586894932126, 0.8524131050678747, 1480.0], [97.0, 118.4, 149.8, 48.271, 14.13, 13.545622951568458, 0.5843770484315431, 1639.0], [101.4, 112.5, 144.4, 58.712487198754474, 22.960371000602628, 23.516967354590914, 0.5565963539882866, 2110.0], [92.6, 113.7, 147.0, 52.863, 16.887, 17.33410119873858, 0.44710119873857934, 450.0], [95.9, 117.7, 146.2, 48.04299999999999, 14.081, 13.584295569988546, 0.49670443001145337, 1642.0], [94.1, 114.8, 146.3, 51.791, 16.396, 15.97344119079406, 0.42255880920594, 772.0], [102.1, 114.1, 142.8, 53.16, 20.251, 19.909580066276718, 0.3414199337232837, 303.0], [100.6, 117.5, 144.3, 37.852, 9.711, 9.56296789544376, 0.14803210455623983, 588.0], [93.4, 115.2, 143.7, 51.226000000000006, 15.811, 15.69078044180821, 0.1202195581917902, 994.0], [85.7, 107.0, 137.7, 50.90000000000001, 19.66, 18.49825701540722, 1.161742984592781, 410.0], [78.1, 111.1, 147.3, 36.302, 8.842, 9.328014631227425, 0.48601463122742494, 196.0], [93.8, 114.9, 143.0, 51.917, 15.507, 15.771219506699454, 0.2642195066994546, 1809.0], [97.7, 115.2, 143.9, 50.532, 16.849, 15.930583642986212, 0.918416357013788, 1965.0], [93.6, 116.1, 142.8, 44.944, 12.803, 11.962506292897459, 0.8404937071025422, 1670.0], [95.0, 117.0, 145.8, 50.609, 14.477, 14.93191209691492, 0.45491209691491896, 2000.0], [96.4, 115.8, 145.5, 39.119, 9.948, 9.776091126505737, 0.17190887349426376, 1405.0], [94.3, 115.7, 146.3, 40.093, 10.348, 10.710147603400271, 0.3621476034002704, 1381.0], [106.3, 121.3, 146.3, 36.598, 7.851, 7.891488456741447, 0.04048845674144719, 168.0], [96.9, 117.7, 145.7, 47.201, 13.550999999999998, 13.216735430080659, 0.3342645699193394, 1261.0], [85.7, 115.0, 150.7, 46.261, 13.11, 12.776815361818793, 0.3331846381812067, 874.0], [79.4, 109.2, 143.0, 39.339, 9.835, 10.673772352652724, 0.8387723526527235, 211.0], [97.5, 117.0, 142.7, 55.80725599440205, 17.285345370445945, 16.901824432869457, 0.3835209375764883, 2170.0], [96.5, 115.3, 142.1, 52.79399999999999, 15.648, 16.070155500678446, 0.4221555006784463, 1854.0], [95.4, 117.1, 144.3, 50.32, 14.287, 14.728381290580646, 0.44138129058064557, 1999.0], [102.3, 115.0, 141.7, 50.011, 17.852, 17.18205110535168, 0.6699488946483214, 306.0], [90.1, 112.6, 145.8, 47.87999999999999, 15.667, 15.093395075019636, 0.5736049249803639, 1618.0], [95.9, 115.3, 142.0, 52.097, 15.232, 15.718682088866542, 0.48668208886654263, 1318.0], [94.0, 116.0, 146.6, 49.76900000000001, 15.15, 14.695194650319259, 0.4548053496807416, 1871.0], [71.6, 107.9, 150.5, 37.90600000000001, 10.061, 10.315910367937196, 0.254910367937196, 382.0], [94.5, 115.5, 144.4, 51.38399999999999, 15.872, 15.79101646641962, 0.08098353358037969, 974.0], [95.2, 116.0, 142.5, 49.891999999999996, 14.338, 14.615597140000984, 0.2775971400009851, 1931.0], [91.1, 112.2, 146.0, 51.682, 18.111, 17.400461598621828, 0.710538401378173, 695.0], [101.0, 119.3, 147.0, 40.118, 9.604, 9.714196203294705, 0.1101962032947057, 135.0], [87.3, 108.1, 141.1, 51.74, 18.332, 18.26137732844144, 0.07062267155856006, 1075.0], [83.3, 113.7, 148.2, 45.74500000000001, 12.209, 12.939465567939449, 0.730465567939449, 1018.0], [97.3, 119.3, 146.1, 45.113, 11.347, 11.23102763799102, 0.11597236200898031, 1990.0], [105.4, 120.7, 144.0, 40.39, 9.641, 9.611955250016633, 0.029044749983366813, 1501.0], [96.2, 116.1, 143.8, 42.375, 12.338, 11.321645290753612, 1.0163547092463876, 831.0], [101.8, 119.0, 145.7, 37.705, 9.285, 8.817159620482528, 0.46784037951747237, 1491.0], [97.2, 115.8, 140.3, 52.192, 15.114, 15.706413627327736, 0.5924136273277352, 1138.0], [89.9, 114.0, 146.2, 43.036, 12.74, 11.886765957820668, 0.8532340421793325, 1732.0], [103.6, 116.3, 144.0, 49.053, 16.898, 16.585175647839495, 0.3128243521605043, 275.0], [93.8, 114.7, 144.4, 50.681000000000004, 15.833, 15.719809865271538, 0.11319013472846251, 798.0], [102.1, 119.6, 147.0, 36.668, 8.267999999999999, 8.04431362336752, 0.2236863766324788, 128.0], [90.1, 112.8, 145.6, 44.15, 12.841, 12.882609082232705, 0.04160908223270532, 1196.0], [104.0, 120.1, 147.2, 38.586, 9.589, 8.38353208446759, 1.2054679155324113, 767.0], [103.2, 121.1, 145.6, 37.155, 8.49, 8.130304538262337, 0.35969546173766354, 1824.0], [94.8, 116.3, 143.4, 49.718, 14.986, 14.671127970601088, 0.3148720293989129, 1211.0], [99.5, 114.3, 142.8, 51.678, 18.22, 17.665772161507856, 0.5542278384921424, 535.0], [102.0, 118.9, 146.5, 38.339, 9.268, 8.702180950555002, 0.5658190494449986, 51.0], [79.9, 103.4, 139.5, 47.92600000000001, 15.974, 15.859380663390553, 0.11461933660944723, 471.0], [101.5, 113.8, 142.9, 53.643, 20.486, 20.39105129384644, 0.09494870615355921, 299.0], [94.3, 112.9, 140.8, 50.48, 17.191, 16.77270882144933, 0.41829117855066755, 1464.0], [87.2, 118.2, 148.0, 46.597, 10.324000000000002, 11.376683220417616, 1.0526832204176149, 361.0], [96.1, 113.8, 140.4, 51.533, 17.274, 16.72872355779646, 0.5452764422035408, 1963.0], [69.7, 106.6, 144.4, 38.816, 10.751, 10.354051893876393, 0.396948106123606, 925.0], [95.3, 114.0, 139.0, 53.631, 16.659000000000002, 17.26122438594155, 0.6022243859415468, 1907.0], [95.8, 115.4, 141.8, 53.226410292966825, 17.609916769415506, 16.223010370415587, 1.386906398999919, 2166.0], [91.2, 114.1, 144.9, 45.992, 14.29, 13.846101066415367, 0.4438989335846326, 1672.0], [83.2, 108.7, 141.7, 47.7, 15.42, 15.411310703462457, 0.008689296537543356, 514.0], [80.4, 113.9, 153.2, 42.235, 11.29, 11.469675618756927, 0.17967561875692795, 1226.0], [94.5, 116.5, 143.2, 46.523, 12.728, 13.209613073370686, 0.4816130733706867, 1302.0], [95.3, 116.5, 149.3, 48.44500000000001, 14.521, 13.989124602661878, 0.5318753973381227, 807.0], [92.4, 113.7, 143.4, 45.923, 13.515, 13.661731766795114, 0.14673176679511357, 2018.0], [103.7, 121.4, 151.3, 36.20099999999999, 8.228, 7.746914452863425, 0.4810855471365745, 538.0], [99.3, 117.3, 145.5, 39.855, 12.28, 10.509130311723903, 1.7708696882760968, 1694.0], [86.3, 105.9, 140.9, 55.283, 19.768, 20.650197995544787, 0.8821979955447858, 1190.0], [94.8, 113.4, 142.2, 47.82899999999999, 13.668, 15.074703924962881, 1.4067039249628817, 1382.0], [95.7, 115.5, 143.7, 51.159000000000006, 15.998, 15.717462167290421, 0.28053783270957844, 1270.0], [93.2, 113.1, 141.1, 49.073, 16.298, 15.65614724352911, 0.6418527564708878, 1608.0], [95.4, 114.3, 141.2, 49.778, 15.568, 15.249620039648276, 0.31837996035172367, 1471.0], [97.2, 117.7, 146.0, 47.911, 12.959, 13.566731911352353, 0.6077319113523529, 1951.0], [90.3, 113.8, 145.3, 43.87300000000001, 13.503, 12.599892764543332, 0.9031072354566678, 1699.0], [74.3, 107.4, 140.4, 40.338, 8.975, 10.943291908555198, 1.968291908555198, 247.0], [93.9, 114.8, 139.3, 48.983000000000004, 14.333, 14.795451025807397, 0.46245102580739683, 1298.0], [96.4, 113.8, 142.3, 50.178999999999995, 17.248, 16.081640976605804, 1.1663590233941967, 321.0], [102.6, 118.5, 145.7, 36.492, 8.806000000000003, 8.464975419623604, 0.3410245803763985, 571.0], [94.1, 116.2, 148.3, 45.511, 11.773, 13.063801282424976, 1.290801282424976, 1754.0], [93.1, 112.1, 140.4, 52.914, 18.441, 18.63273027768088, 0.19173027768088247, 1444.0], [86.1, 108.5, 142.9, 47.053, 13.817, 14.572687583587976, 0.7556875835879762, 480.0], [99.4, 118.6, 146.8, 37.749, 8.423, 9.135344044489598, 0.7123440444895976, 1352.0], [87.9, 110.4, 143.8, 50.585, 17.557000000000002, 17.644388399006115, 0.0873883990061124, 1058.0], [89.9, 113.7, 142.3, 44.164, 11.015, 12.559078184752082, 1.544078184752081, 1336.0], [91.9, 112.9, 144.9, 52.908, 17.542, 18.19429518731546, 0.6522951873154597, 741.0], [99.7, 119.9, 149.1, 38.80199999999999, 10.309, 8.900924785633595, 1.408075214366404, 1626.0], [94.3, 115.2, 143.7, 51.27, 15.788, 15.780538193051841, 0.007461806948159122, 1004.0], [90.4, 110.4, 139.4, 47.567, 17.477999999999998, 15.513164671494813, 1.9648353285051847, 494.0], [95.1, 114.7, 141.2, 49.56400000000001, 15.548, 15.013177878227562, 0.5348221217724376, 1486.0], [84.1, 114.2, 142.7, 51.07100000000001, 16.090999999999998, 15.124752340225687, 0.9662476597743108, 1413.0], [91.1, 113.2, 145.3, 48.062, 15.882, 15.159573393057048, 0.7224266069429515, 1614.0], [102.1, 119.8, 148.1, 41.03100000000001, 8.932, 9.54551293004368, 0.6135129300436795, 120.0], [94.7, 116.3, 149.8, 47.532, 12.02, 13.521087968841288, 1.5010879688412881, 1765.0], [80.6, 112.0, 150.4, 40.589, 11.841, 11.121358415447276, 0.7196415845527238, 461.0], [100.2, 114.5, 142.8, 47.50100000000001, 16.392, 14.7356761495413, 1.6563238504586995, 650.0], [93.3, 110.5, 133.3, 52.699, 19.306, 20.196045852493917, 0.8900458524939161, 56.0], [97.5, 117.3, 145.3, 55.88004606788536, 17.195655291309563, 16.93099971519728, 0.26465557611228263, 2172.0], [102.1, 119.5, 146.8, 36.16199999999999, 7.26, 8.045220209823682, 0.7852202098236827, 686.0], [91.9, 112.6, 146.6, 52.891999999999996, 17.525, 17.882626188668763, 0.35762618866876394, 742.0], [93.87, 113.2, 146.7, 52.636, 17.822, 17.26076303262433, 0.5612369673756703, 647.0], [90.7, 116.1, 146.4, 45.964, 12.64, 12.884091191134756, 0.2440911911347552, 2039.0], [94.2, 114.4, 146.6, 54.21100000000001, 17.006, 17.17814183669409, 0.1721418366940881, 1165.0], [86.7, 112.3, 145.8, 45.971000000000004, 14.323, 13.740753699910004, 0.5822463000899969, 1718.0], [92.3, 115.5, 146.2, 46.282, 13.634, 13.372781019291688, 0.2612189807083123, 1681.0], [94.9, 115.3, 142.6, 48.101000000000006, 14.203, 14.349731103550992, 0.14673110355099261, 1902.0], [96.1, 115.7, 142.4, 36.616, 7.42, 8.156454627398498, 0.7364546273984978, 986.0], [95.3, 115.2, 141.6, 49.154, 14.287, 14.861630482031163, 0.5746304820311625, 1898.0], [102.4, 115.3, 145.1, 52.69300000000001, 19.555, 18.447263277275248, 1.107736722724752, 289.0], [96.0, 116.8, 145.7, 53.35900000000001, 15.834, 16.065799177888934, 0.23179917788893434, 1000.0], [92.8, 112.0, 141.3, 53.80799999999999, 19.041, 19.324233058269186, 0.283233058269186, 1448.0], [103.4, 121.8, 146.7, 38.791, 8.346, 8.423926220447424, 0.07792622044742359, 1821.0], [92.4, 114.1, 144.9, 46.18600000000001, 12.683, 13.771711025808361, 1.0887110258083617, 1977.0], [94.8, 114.5, 140.8, 53.708, 15.667, 16.62229426606994, 0.9552942660699397, 1851.0], [91.1, 111.6, 145.2, 52.05600000000001, 17.567999999999998, 18.10682014008098, 0.5388201400809827, 1161.0], [94.3, 115.2, 143.8, 51.289, 15.823, 15.780538193051841, 0.042461806948159264, 979.0], [96.2, 111.8, 143.0, 57.276, 22.795, 21.946486495493268, 0.8485135045067338, 817.0], [103.8, 112.6, 137.7, 63.11470457932257, 25.372548229892463, 24.12222174346013, 1.250326486432332, 2179.0], [101.4, 118.4, 145.1, 39.995, 9.423, 9.973512198825835, 0.5505121988258352, 44.0], [96.5, 116.0, 146.8, 48.989, 14.878, 14.79595799970877, 0.08204200029122966, 771.0], [99.8, 117.4, 143.6, 36.141, 6.617000000000001, 8.51110671703762, 1.8941067170376193, 1310.0], [94.9, 115.0, 143.7, 52.527, 15.584, 16.146901004610218, 0.5629010046102181, 1861.0], [90.5, 113.7, 147.8, 51.82699999999999, 14.992, 16.19664649758763, 1.2046464975876283, 556.0], [96.1, 115.7, 142.4, 36.616, 7.42, 8.156454627398498, 0.7364546273984978, 964.0], [99.4, 117.8, 145.2, 44.701, 11.341, 11.855003990926525, 0.5140039909265255, 1134.0], [95.8, 116.2, 145.0, 48.599, 14.161, 14.346464983910323, 0.1854649839103235, 2014.0], [99.2, 115.1, 144.4, 50.483000000000004, 16.284000000000002, 16.96656285781689, 0.6825628578168867, 543.0], [92.5, 114.9, 142.2, 41.929, 10.731, 11.085998328877176, 0.3549983288771763, 1337.0], [99.2, 117.3, 147.4, 41.774, 11.447, 10.608234555849595, 0.838765444150404, 596.0], [98.1, 118.5, 147.4, 36.13800000000001, 8.471, 8.334602315275045, 0.13639768472495462, 1378.0], [86.3, 107.9, 136.0, 50.077, 18.551, 17.722560488166277, 0.8284395118337216, 420.0], [92.3, 109.4, 135.0, 51.71699999999999, 17.56, 19.297969865305735, 1.737969865305736, 69.0], [103.5, 120.7, 144.3, 36.89700000000001, 8.216000000000001, 8.219065327427751, 0.0030653274277501197, 1857.0], [89.0, 112.8, 145.1, 41.118, 10.962, 11.081009139623223, 0.11900913962322335, 1366.0], [96.1, 115.7, 144.8, 39.694, 10.159, 10.708536597839915, 0.5495365978399143, 1359.0], [81.5, 112.4, 150.6, 39.37000000000001, 11.329, 10.340934198035052, 0.9880658019649484, 1225.0], [73.7, 100.5, 136.8, 48.82599999999999, 17.778, 17.215501697413952, 0.5624983025860466, 230.0], [80.8, 106.0, 140.7, 43.775, 12.972, 12.747406234708578, 0.22459376529142183, 251.0], [96.0, 115.1, 145.7, 51.292, 16.156, 16.097692742145384, 0.0583072578546151, 564.0], [93.5, 113.9, 146.1, 54.195, 17.122, 17.788036269917953, 0.666036269917953, 1163.0], [94.6, 115.0, 141.5, 50.05500000000001, 15.795, 15.138003633524026, 0.6569963664759744, 1521.0], [103.9, 119.4, 145.0, 39.474, 9.596, 9.332539878930438, 0.26346012106956174, 602.0], [96.1, 114.7, 146.2, 51.401, 17.351, 16.201942163538618, 1.149057836461381, 617.0], [96.2, 116.3, 142.2, 40.719, 9.771, 10.536312461115834, 0.7653124611158333, 1334.0], [83.5, 110.3, 141.7, 44.994, 13.797, 12.511306782071841, 1.2856932179281593, 342.0], [104.8, 121.6, 149.2, 37.661, 7.269, 8.103733080975738, 0.8347330809757381, 781.0], [93.6, 114.8, 141.4, 52.477, 15.729, 15.705031103107856, 0.023968896892142766, 1807.0], [102.4, 115.6, 142.2, 49.346, 17.125999999999998, 16.74820187888768, 0.3777981211123169, 298.0], [88.2, 115.9, 146.7, 43.82100000000001, 11.566, 11.454611998156729, 0.11138800184327202, 351.0], [74.6, 109.6, 143.7, 42.235, 12.039, 11.875874155630068, 0.16312584436993127, 916.0], [105.8, 122.8, 150.6, 38.165, 6.53, 7.977622019475776, 1.4476220194757756, 780.0], [96.2, 116.9, 143.6, 51.984, 15.004, 15.291029531498706, 0.2870295314987068, 2031.0], [96.9, 114.2, 143.5, 52.067, 17.372, 16.954672604451954, 0.4173273955480461, 755.0], [76.5, 105.9, 142.4, 39.909, 12.726, 11.161026915198015, 1.564973084801986, 528.0], [94.8, 114.1, 140.3, 54.29651342039039, 18.195842125553785, 17.603367315556035, 0.5924748099977499, 2141.0], [72.5, 98.3, 134.8, 50.284, 18.943, 18.50030783731189, 0.44269216268811107, 239.0], [105.9, 121.5, 148.3, 38.375, 8.607000000000001, 8.178866811193695, 0.42813318880630646, 99.0], [93.7, 114.5, 141.6, 52.728, 15.849, 15.876423488112588, 0.027423488112587435, 1791.0], [81.5, 109.7, 144.3, 45.76600000000001, 13.517, 13.788876204399138, 0.2718762043991383, 350.0], [90.7, 113.2, 144.3, 48.248999999999995, 14.317, 15.11904144461328, 0.8020414446132804, 445.0], [96.3, 115.8, 143.3, 47.501999999999995, 11.88, 13.910797121286299, 2.030797121286298, 1869.0], [94.1, 113.4, 141.1, 51.515, 17.449, 16.413802970580463, 1.035197029419539, 1446.0], [82.6, 109.9, 140.0, 45.804, 14.202, 13.371894095978995, 0.8301059040210053, 952.0], [101.7, 113.8, 143.7, 55.19499999999999, 21.615, 21.523872845375923, 0.0911271546240755, 290.0], [100.0, 119.6, 149.5, 36.645, 8.342, 8.259651459067394, 0.0823485409326068, 124.0], [93.6, 114.7, 143.4, 52.923, 15.943, 16.569994029739178, 0.6269940297391781, 1798.0], [80.2, 113.0, 145.7, 36.118, 7.961, 8.526438140517891, 0.565438140517891, 185.0], [92.3, 114.9, 145.4, 45.81, 12.958, 13.30363759745464, 0.3456375974546404, 1200.0], [94.9, 113.6, 145.5, 52.94800000000001, 17.582, 18.14203223889859, 0.5600322388985894, 332.0], [90.5, 109.0, 136.1, 50.118, 16.29, 17.7605684350191, 1.4705684350191, 65.0], [92.4, 116.0, 154.4, 52.643, 16.285, 15.535619508312577, 0.7493804916874236, 482.0], [78.8, 109.7, 151.4, 36.907, 9.825, 9.658794820881525, 0.16620517911847443, 1411.0], [80.4, 112.9, 154.4, 43.286, 11.9, 12.330149639695566, 0.43014963969556597, 873.0], [93.6, 113.9, 139.8, 48.88800000000001, 15.129, 14.907475373147365, 0.2215246268526343, 1483.0], [106.1, 120.8, 144.4, 36.53, 8.65, 8.05394731396077, 0.596052686039231, 1537.0], [83.1, 110.3, 143.7, 47.223, 15.173, 14.803159342903172, 0.36984065709682845, 1053.0], [91.0, 112.0, 143.8, 52.36300000000001, 17.483, 18.08688253121294, 0.603882531212939, 1057.0], [98.4, 118.1, 144.8, 46.505, 13.380999999999998, 13.055266921480792, 0.32573307851920674, 1208.0], [88.3, 109.6, 142.3, 47.738, 16.01, 15.680752219600468, 0.32924778039953395, 2025.0], [95.3, 112.8, 142.1, 48.258, 15.339, 15.578285790471714, 0.2392857904717136, 2013.0], [87.2, 114.5, 146.6, 49.176, 14.588, 14.599774225246158, 0.011774225246158565, 906.0], [73.9, 106.1, 145.5, 39.924, 11.754, 11.493905832715427, 0.26009416728457246, 408.0], [97.1, 117.7, 146.1, 47.788, 13.755999999999998, 13.527056094430161, 0.22894390556983701, 1258.0], [87.4, 113.6, 145.3, 36.69300000000001, 8.732000000000001, 8.428588689251347, 0.303411310748654, 212.0], [93.8, 114.3, 136.1, 50.495, 15.034, 15.28389663596488, 0.24989663596487866, 2084.0], [94.4, 114.2, 145.3, 51.389, 15.803, 16.484169568330035, 0.6811695683300343, 1176.0], [95.5, 116.8, 146.5, 51.994, 15.052, 15.392549552590252, 0.340549552590252, 1972.0], [94.9, 113.6, 141.9, 50.262, 16.551, 15.93109316369736, 0.6199068363026381, 1449.0], [92.2, 110.2, 134.7, 39.105, 9.971, 10.773252507671296, 0.8022525076712963, 354.0], [101.5, 115.5, 144.8, 48.32899999999999, 17.198, 15.842047926221444, 1.3559520737785569, 838.0], [95.8, 117.7, 146.6, 51.64100000000001, 15.015999999999998, 15.096661459141469, 0.08066145914147071, 1962.0], [101.1, 110.8, 137.9, 59.25700000000001, 24.091, 24.589679191771992, 0.49867919177199127, 680.0], [94.7, 116.1, 148.1, 47.50899999999999, 12.017, 13.84735029776365, 1.8303502977636512, 1764.0], [74.9, 105.3, 141.5, 44.203, 11.327, 13.139216869230726, 1.812216869230726, 210.0], [94.5, 114.5, 144.2, 48.753, 16.54, 15.10942972693146, 1.4305702730685397, 1427.0], [83.4, 109.2, 136.0, 46.62800000000001, 15.1, 14.606498958334273, 0.49350104166572706, 948.0], [94.1, 114.8, 140.9, 51.30800000000001, 15.246, 15.559244263696066, 0.31324426369606506, 1811.0], [81.4, 112.9, 148.6, 42.865, 11.365, 11.885036646222987, 0.5200366462229873, 1241.0], [94.5, 108.6, 137.1, 59.053, 25.889, 25.594764169964183, 0.29423583003581655, 220.0], [96.7, 113.4, 142.7, 52.055, 15.909, 17.236322804551076, 1.3273228045510752, 1175.0], [73.0, 98.7, 131.4, 49.25399999999999, 18.084, 17.947605291441235, 0.13639470855876468, 237.0], [94.5, 115.5, 147.9, 51.1, 16.025, 15.820053605014019, 0.20494639498597955, 786.0], [81.8, 109.9, 146.5, 46.95, 15.186, 14.29639307668501, 0.8896069233149895, 1061.0], [91.4, 114.0, 143.8, 47.6, 13.956, 14.670192100235937, 0.7141921002359375, 1775.0], [97.5, 116.1, 146.1, 48.479, 14.937, 14.377044487314421, 0.559955512685578, 620.0], [93.9, 114.1, 141.7, 51.541000000000004, 16.602, 15.91972678004331, 0.6822732199566897, 1436.0], [85.1, 108.4, 143.3, 48.887, 16.569000000000006, 16.192164131850824, 0.3768358681491826, 1080.0], [97.9, 116.6, 142.3, 49.26, 14.285, 14.658609170026994, 0.37360917002699345, 1288.0], [83.6, 111.7, 140.8, 47.666, 14.231, 14.29832408624783, 0.06732408624782948, 944.0], [90.1, 114.0, 148.0, 46.548, 13.599, 13.625171124918387, 0.026171124918386468, 427.0], [90.5, 114.9, 145.7, 41.516999999999996, 9.012, 10.446913064634582, 1.434913064634582, 13.0], [86.1, 105.7, 139.8, 52.883, 19.357, 19.14825281142816, 0.20874718857183794, 1157.0], [102.2, 114.8, 140.9, 50.908, 18.436, 17.85585126141479, 0.5801487385852084, 296.0], [92.6, 109.9, 139.3, 55.588, 18.67, 21.728978971165443, 3.058978971165441, 2082.0], [101.8, 115.8, 142.5, 45.13400000000001, 13.935, 12.963342417107858, 0.9716575828921421, 599.0], [94.5, 115.4, 147.1, 51.17999999999999, 16.02, 15.923527529281728, 0.09647247071827181, 785.0], [94.6, 116.1, 149.1, 47.008, 12.011, 13.414616789780396, 1.403616789780397, 1763.0], [97.6, 118.4, 146.9, 45.734, 12.86, 12.306607860211553, 0.5533921397884463, 1210.0], [95.8, 113.4, 142.1, 49.95400000000001, 17.287, 16.031284260921687, 1.2557157390783118, 324.0], [93.4, 113.8, 140.2, 53.01600000000001, 16.398, 17.147830331787556, 0.7498303317875568, 1578.0], [89.6, 112.6, 145.9, 48.182, 15.555, 15.09292575937617, 0.4620742406238296, 1619.0], [97.4, 118.0, 147.2, 51.929, 15.55, 15.251043820118033, 0.29895617988196754, 1232.0], [96.6, 115.9, 142.4, 51.71100000000001, 15.424, 15.499485942467071, 0.07548594246707196, 1281.0], [87.4, 108.4, 142.3, 51.363, 17.646, 18.285769670951343, 0.6397696709513419, 1084.0], [96.5, 116.5, 147.4, 45.371, 12.939, 12.804726356994912, 0.1342736430050877, 567.0], [85.7, 112.7, 140.1, 48.331, 14.217, 14.73705651164805, 0.5200565116480487, 940.0], [74.8, 109.6, 145.4, 42.037000000000006, 11.965, 11.919534790121483, 0.04546520987851643, 921.0], [92.0, 113.9, 145.6, 48.93458577899335, 17.507818830831358, 15.31854982694673, 2.189269003884627, 2150.0], [101.1, 116.8, 142.3, 37.811, 8.84, 9.589643689541079, 0.7496436895410792, 693.0], [87.3, 110.1, 142.0, 45.962, 13.515999999999998, 14.062064397927209, 0.5460643979272106, 527.0], [100.3, 118.0, 143.3, 38.793, 7.302, 9.673988910456414, 2.3719889104564142, 1330.0], [92.3, 118.4, 153.4, 42.197, 10.108, 10.321654038917936, 0.21365403891793555, 440.0], [90.3, 110.0, 144.6, 53.64500000000001, 17.3, 19.764193349931844, 2.4641933499318434, 1182.0], [95.6, 119.4, 149.2, 44.215, 11.046, 11.127818844313413, 0.08181884431341402, 1993.0], [95.9, 113.5, 139.4, 48.457, 16.034000000000002, 15.3816988245792, 0.6523011754208028, 316.0], [104.1, 122.7, 149.3, 36.088, 7.269, 7.773400240538714, 0.5044002405387138, 1593.0], [104.3, 121.2, 148.0, 39.153, 7.85, 8.503097288669231, 0.6530972886692314, 105.0], [91.9, 111.6, 144.1, 53.04199999999999, 21.136, 19.795089179605192, 1.3409108203948072, 1709.0], [102.3, 120.1, 148.1, 41.157, 8.931000000000003, 9.35902883041103, 0.42802883041102646, 121.0], [85.2, 106.6, 134.9, 50.69800000000001, 18.992, 18.38950754891487, 0.6024924510851299, 414.0], [93.0, 113.1, 146.9, 52.368, 16.555, 17.601692146573264, 1.046692146573264, 1164.0], [92.1, 113.5, 143.1, 50.185, 15.624, 15.986961788949642, 0.36296178894964193, 1113.0], [95.8, 115.5, 144.0, 36.846, 7.563, 8.32809568288672, 0.765095682886721, 965.0], [97.7, 117.4, 143.4, 40.54599999999999, 7.877000000000002, 10.5471737371085, 2.670173737108498, 1331.0], [70.3, 106.3, 146.5, 40.355, 10.664, 11.737163128702969, 1.0731631287029693, 931.0], [102.4, 119.6, 148.2, 37.92, 9.144, 8.504497813647435, 0.6395021863525656, 115.0], [99.0, 112.8, 137.4, 57.751999999999995, 20.991, 23.201309749943924, 2.2103097499439244, 76.0], [95.3, 115.1, 141.2, 51.431999999999995, 15.588, 15.644373413190724, 0.056373413190724975, 1916.0], [97.0, 116.8, 145.7, 39.24500000000001, 9.927, 9.674971894278986, 0.2520281057210134, 1957.0], [94.0, 113.6, 144.4, 53.498999999999995, 16.848, 17.66936870813916, 0.8213687081391612, 1170.0], [95.9, 115.1, 140.2, 49.537, 14.373, 14.938416779246152, 0.5654167792461529, 1938.0], [90.5, 114.5, 149.5, 52.027, 15.173, 15.376005075439766, 0.20300507543976565, 554.0], [95.6, 113.9, 141.7, 46.05900000000001, 13.229, 13.87879376900266, 0.6497937690026614, 1386.0], [101.0, 118.9, 145.6, 36.503, 6.8679999999999986, 8.401797295169763, 1.533797295169764, 1040.0], [96.6, 115.9, 141.7, 53.442, 15.640999999999998, 16.158559729015867, 0.5175597290158684, 2091.0], [89.3, 113.2, 147.2, 47.958, 15.501, 14.647056407730558, 0.8539435922694416, 1620.0], [88.7, 111.9, 142.4, 47.10799999999999, 12.934, 14.041706069398401, 1.107706069398402, 1323.0], [97.8, 116.4, 141.8, 49.794, 14.934, 14.667903524351637, 0.2660964756483626, 1285.0], [96.3, 115.5, 147.0, 49.49800000000001, 15.54, 15.120187820931235, 0.41981217906876367, 621.0], [93.6, 112.4, 138.9, 51.286, 17.709, 17.14330701060574, 0.565692989394261, 1463.0], [91.1, 112.7, 143.6, 49.463, 15.681, 16.143528765466904, 0.4625287654669048, 1612.0], [94.5, 114.8, 144.7, 42.38820000000001, 11.795, 11.557484450103457, 0.23751554989654267, 1380.0], [92.8, 114.8, 141.6, 53.12, 16.808, 16.383431582096296, 0.4245684179037035, 1569.0], [87.6, 113.5, 144.4, 47.791000000000004, 14.783, 14.448687990012761, 0.3343120099872383, 1037.0], [104.3, 121.0, 145.0, 36.775, 8.333, 8.130779412113538, 0.2022205878864618, 1826.0], [79.4, 112.9, 150.7, 43.074, 11.094, 12.288354766165408, 1.194354766165409, 1023.0], [97.5, 121.2, 148.8, 41.499, 9.311, 9.893923193628439, 0.5829231936284387, 2002.0], [72.3, 110.4, 151.0, 39.911, 11.563, 11.389367196614863, 0.17363280338513754, 867.0], [71.9, 110.4, 156.2, 38.294, 10.166, 10.146985213747715, 0.01901478625228492, 886.0], [95.6, 115.4, 144.8, 47.313, 13.423, 14.112964800487983, 0.6899648004879833, 561.0], [104.9, 122.2, 146.5, 36.848, 6.987, 8.026520690348804, 1.0395206903488035, 1543.0], [95.1, 115.9, 148.2, 47.369, 11.993, 13.886443995360345, 1.8934439953603448, 1762.0], [94.2, 115.0, 143.1, 53.96700000000001, 15.851, 16.55370738502016, 0.70270738502016, 997.0], [103.6, 120.9, 145.1, 37.278, 8.461, 8.15609893207806, 0.30490106792194105, 1823.0], [95.6, 116.4, 144.0, 51.742, 15.166, 15.395468431571288, 0.22946843157128782, 2085.0], [95.0, 115.3, 147.0, 46.04632186112642, 12.324581639718325, 13.583062348941755, 1.2584807092234307, 2158.0], [96.9, 114.4, 144.7, 52.576, 17.692999999999994, 16.852083775700553, 0.8409162242994412, 618.0], [94.1, 114.3, 139.7, 48.618, 14.249, 14.632940503696455, 0.38394050369645427, 1900.0], [91.5, 114.6, 149.1, 46.574, 13.887, 13.672273908732077, 0.21472609126792364, 430.0], [92.5, 120.1, 151.6, 43.87000000000001, 9.526, 10.484499168792713, 0.9584991687927129, 426.0], [98.6, 117.8, 145.5, 36.219, 7.032, 8.431552688764139, 1.399552688764139, 1204.0], [100.6, 115.4, 142.9, 46.17999999999999, 14.584, 13.938858338500284, 0.6451416614997161, 613.0], [82.6, 113.5, 147.7, 41.62, 12.173, 10.735015667290842, 1.4379843327091582, 857.0], [90.7, 114.2, 141.4, 46.5, 13.202, 13.54036770373273, 0.3383677037327306, 1304.0], [91.2, 109.4, 134.7, 50.99800000000001, 17.274, 19.03298610213671, 1.75898610213671, 63.0], [85.3, 107.2, 134.2, 47.524, 16.695, 15.948317377581747, 0.7466826224182537, 422.0], [101.6, 111.1, 141.9, 60.13900000000001, 24.367, 24.282846451646073, 0.08415354835392819, 630.0], [96.8, 116.9, 142.8, 52.581, 15.284, 15.40485443982115, 0.12085443982114974, 1996.0], [94.3, 114.4, 142.9, 50.666, 16.179000000000002, 15.752026271698643, 0.42697372830135905, 1106.0], [92.6, 114.3, 144.0, 48.828573712795794, 17.54488226504, 15.017025284482267, 2.527856980557731, 2151.0], [101.0, 111.6, 142.4, 57.21900000000001, 22.629, 23.42537299573372, 0.7963729957337193, 632.0], [97.8, 116.8, 143.3, 51.938, 15.108, 15.54304554383329, 0.4350455438332901, 1948.0], [97.1, 119.1, 146.3, 40.159, 9.6, 9.782804020411346, 0.18280402041134636, 1929.0], [99.6, 117.8, 144.7, 41.362, 10.499, 10.739981302908406, 0.24098130290840558, 1090.0], [98.5, 113.1, 142.3, 52.124, 19.302, 18.36257416515303, 0.9394258348469684, 651.0], [99.1, 114.2, 142.9, 46.705, 14.168, 14.191031122462203, 0.023031122462203513, 1361.0], [101.1, 117.6, 141.0, 39.177, 9.771, 9.899723069254682, 0.12872306925468102, 900.0], [90.9, 112.8, 147.6, 52.51, 18.109, 17.43207937223489, 0.6769206277651101, 694.0], [79.2, 106.0, 138.0, 45.466, 11.696, 13.767439032759214, 2.071439032759214, 205.0], [101.3, 114.4, 141.2, 50.208, 16.758, 17.02810322133371, 0.27010322133370934, 611.0], [96.3, 115.5, 144.3, 47.93299999999999, 14.479, 14.468096153810237, 0.01090384618976259, 1488.0], [79.9, 111.1, 146.3, 39.89, 11.379, 10.92156997286166, 0.45743002713834, 433.0], [99.3, 113.1, 142.8, 59.082, 21.09, 23.12589621669168, 2.035896216691679, 532.0], [94.4, 115.0, 141.6, 50.1752, 14.538, 15.062154574337633, 0.5241545743376328, 1922.0], [94.1, 111.8, 136.9, 48.143, 15.181, 15.573634848540145, 0.39263484854014585, 1559.0], [94.8, 114.3, 140.8, 49.924, 15.151, 15.39870552248959, 0.247705522489591, 1111.0], [101.0, 113.5, 141.7, 54.247, 18.945, 20.58741947060494, 1.6424194706049384, 605.0], [107.3, 120.8, 146.5, 41.837, 9.272, 9.494239655247023, 0.22223965524702294, 23.0], [98.2, 118.0, 146.8, 47.584, 13.224, 13.853526895428596, 0.6295268954285955, 1831.0], [95.0, 114.6, 140.3, 52.333999999999996, 16.034000000000002, 15.969697098082108, 0.06430290191789467, 1911.0], [76.0, 108.7, 143.2, 39.899, 11.701, 11.25187901969346, 0.4491209803065406, 438.0], [104.9, 119.5, 144.7, 37.389, 8.89, 8.48085837538565, 0.40914162461435133, 198.0], [94.1, 116.2, 144.2, 39.194, 9.582, 9.627391914449, 0.045391914448998705, 49.0], [101.4, 120.0, 144.3, 40.760999999999996, 9.709, 9.637146212773255, 0.07185378722674507, 173.0], [99.4, 120.1, 145.8, 38.941, 9.026, 9.105000776447422, 0.07900077644742254, 2054.0], [94.0, 116.2, 149.6, 53.09500000000001, 15.064, 16.07489963729566, 1.0108996372956582, 478.0], [73.5, 109.2, 143.6, 37.231, 9.526, 9.367175632999915, 0.15882436700008462, 937.0], [98.6, 114.5, 141.8, 49.295, 16.749000000000002, 15.96778039403225, 0.7812196059677525, 308.0], [97.2, 116.85, 142.2, 49.181000000000004, 14.236, 14.424427767243953, 0.18842776724395272, 1289.0], [104.6, 119.5, 145.2, 36.678, 8.959, 8.288051220826636, 0.6709487791733633, 601.0], [91.3, 110.3, 136.3, 51.452, 17.899, 19.05663992308771, 1.1576399230877108, 59.0], [101.2, 113.3, 137.2, 57.986000000000004, 22.555, 22.501011788353992, 0.053988211646007755, 71.0], [91.7, 113.0, 141.5, 47.235, 14.512, 14.64414098496852, 0.1321409849685189, 2074.0], [97.4, 117.0, 141.9, 44.34, 12.431, 11.688025361783781, 0.7429746382162179, 1924.0], [94.7, 116.6, 145.9, 50.104, 14.205, 14.729780633930782, 0.5247806339307814, 1974.0], [96.7, 117.6, 146.0, 51.215, 14.607, 15.118778892886985, 0.5117788928869853, 1198.0], [95.1, 114.8, 140.5, 47.74100000000002, 14.767, 14.352258570801792, 0.414741429198207, 1508.0], [99.0, 116.5, 140.4, 42.898, 12.534, 11.458874264219974, 1.075125735780027, 1456.0], [94.5, 115.4, 142.3, 41.643, 10.186, 10.725477937662806, 0.5394779376628058, 1335.0], [102.0, 114.0, 143.5, 58.930496894012784, 22.228273462344408, 21.825937626154886, 0.40233583618952196, 2107.0], [106.3, 121.3, 145.4, 38.383, 8.421, 8.37802809387641, 0.04297190612359003, 162.0], [102.6, 120.1, 145.4, 37.31500000000001, 9.026, 8.235435122969236, 0.7905648770307643, 1858.0], [100.6, 117.5, 142.4, 37.93000000000001, 9.191, 9.436458127937664, 0.2454581279376633, 1087.0], [97.9, 114.4, 143.0, 55.19199999999999, 17.214000000000002, 18.337263887710552, 1.12326388771055, 548.0], [100.9, 111.7, 139.5, 56.2, 21.953000000000007, 22.97330447563182, 1.0203044756318143, 634.0], [94.4, 113.8, 140.5, 50.965, 16.846, 16.352813501033918, 0.49318649896608235, 1435.0]], \"hoverlabel\": {\"namelength\": 0}, \"hovertemplate\": \"C7N=%{customdata[4]}<br>loss=%{marker.color}<br>T10=%{customdata[0]}<br>T50=%{customdata[1]}<br>T90=%{customdata[2]}<br>N+A=%{customdata[3]}<br>C7N_pred=%{customdata[5]}<br>index=%{customdata[7]}\", \"legendgroup\": \"\", \"marker\": {\"color\": [0.9907000250824929, 0.9570965284187825, 0.25048177031837326, 0.06406679352917877, 0.6295571418556776, 1.3307219135723667, 0.6901215237011691, 0.13597358723216146, 0.0670508987537275, 1.0615992053342858, 0.4687467039231006, 0.8387282395504414, 0.26473599228944344, 0.12292551612085667, 0.4014310083316879, 0.5833730659868657, 0.11795499950601851, 0.11213336301201515, 3.8131904107418215, 0.3015636065891947, 0.8850506537304526, 0.40366112409234134, 0.1606468967986281, 0.3462448266508833, 0.28940270568359594, 0.47113410310514503, 0.5699347978170302, 1.7928228951676637, 0.36944869295034977, 1.1183951975298534, 0.35941268756111455, 0.6869490805587155, 0.09345523048033222, 0.13136463462182668, 0.5902453262098071, 0.36073339718107356, 0.4800732073173286, 1.287694282693625, 0.25422147991123545, 1.0646662855272737, 0.13358855873098463, 0.35285812659686755, 0.11480412006641316, 0.3183288744798354, 0.6163117307732762, 0.01643790619804797, 0.00689913992193425, 1.1165783833477683, 1.1450259995601684, 0.9193869829713766, 0.14679301858693883, 0.4000326607155671, 0.15187539202062617, 0.5550067902650664, 1.5254863807418992, 0.07142984085814419, 0.23654678937601226, 0.4344218424062536, 0.60273190464717, 0.42876407328497024, 0.6087800402545369, 0.4297479336155696, 0.759831415395487, 0.22007855053254843, 0.15904224506138398, 0.3028318468671056, 0.38858423798098585, 1.2575136174055608, 0.27861157714614215, 0.05314169958775672, 1.4072315560862707, 0.01216182008133515, 0.23113173594209613, 0.0005570246310320215, 0.833652103448582, 0.17002876692199642, 0.565438140517891, 0.4777132939965876, 1.0884170734580607, 0.011315044222893533, 0.3211872905455575, 0.6610105275017606, 1.6362303092562165, 0.011462300049197793, 2.6708140449452387, 0.5741807995838002, 2.1361980963001077, 0.6040586505160199, 0.969569095985964, 1.1873310285589103, 1.302036061916045, 0.2141126448130315, 0.19054482477542933, 0.7360823627143382, 4.214311447673477, 0.5990516020737964, 0.5991457962466349, 0.13284297667968126, 0.30340245360418194, 0.446186147099203, 1.3220445274883197, 0.31944536241187826, 0.23226251978568513, 0.8524131050678747, 0.5843770484315431, 0.5565963539882866, 0.44710119873857934, 0.49670443001145337, 0.42255880920594, 0.3414199337232837, 0.14803210455623983, 0.1202195581917902, 1.161742984592781, 0.48601463122742494, 0.2642195066994546, 0.918416357013788, 0.8404937071025422, 0.45491209691491896, 0.17190887349426376, 0.3621476034002704, 0.04048845674144719, 0.3342645699193394, 0.3331846381812067, 0.8387723526527235, 0.3835209375764883, 0.4221555006784463, 0.44138129058064557, 0.6699488946483214, 0.5736049249803639, 0.48668208886654263, 0.4548053496807416, 0.254910367937196, 0.08098353358037969, 0.2775971400009851, 0.710538401378173, 0.1101962032947057, 0.07062267155856006, 0.730465567939449, 0.11597236200898031, 0.029044749983366813, 1.0163547092463876, 0.46784037951747237, 0.5924136273277352, 0.8532340421793325, 0.3128243521605043, 0.11319013472846251, 0.2236863766324788, 0.04160908223270532, 1.2054679155324113, 0.35969546173766354, 0.3148720293989129, 0.5542278384921424, 0.5658190494449986, 0.11461933660944723, 0.09494870615355921, 0.41829117855066755, 1.0526832204176149, 0.5452764422035408, 0.396948106123606, 0.6022243859415468, 1.386906398999919, 0.4438989335846326, 0.008689296537543356, 0.17967561875692795, 0.4816130733706867, 0.5318753973381227, 0.14673176679511357, 0.4810855471365745, 1.7708696882760968, 0.8821979955447858, 1.4067039249628817, 0.28053783270957844, 0.6418527564708878, 0.31837996035172367, 0.6077319113523529, 0.9031072354566678, 1.968291908555198, 0.46245102580739683, 1.1663590233941967, 0.3410245803763985, 1.290801282424976, 0.19173027768088247, 0.7556875835879762, 0.7123440444895976, 0.0873883990061124, 1.544078184752081, 0.6522951873154597, 1.408075214366404, 0.007461806948159122, 1.9648353285051847, 0.5348221217724376, 0.9662476597743108, 0.7224266069429515, 0.6135129300436795, 1.5010879688412881, 0.7196415845527238, 1.6563238504586995, 0.8900458524939161, 0.26465557611228263, 0.7852202098236827, 0.35762618866876394, 0.5612369673756703, 0.2440911911347552, 0.1721418366940881, 0.5822463000899969, 0.2612189807083123, 0.14673110355099261, 0.7364546273984978, 0.5746304820311625, 1.107736722724752, 0.23179917788893434, 0.283233058269186, 0.07792622044742359, 1.0887110258083617, 0.9552942660699397, 0.5388201400809827, 0.042461806948159264, 0.8485135045067338, 1.250326486432332, 0.5505121988258352, 0.08204200029122966, 1.8941067170376193, 0.5629010046102181, 1.2046464975876283, 0.7364546273984978, 0.5140039909265255, 0.1854649839103235, 0.6825628578168867, 0.3549983288771763, 0.838765444150404, 0.13639768472495462, 0.8284395118337216, 1.737969865305736, 0.0030653274277501197, 0.11900913962322335, 0.5495365978399143, 0.9880658019649484, 0.5624983025860466, 0.22459376529142183, 0.0583072578546151, 0.666036269917953, 0.6569963664759744, 0.26346012106956174, 1.149057836461381, 0.7653124611158333, 1.2856932179281593, 0.8347330809757381, 0.023968896892142766, 0.3777981211123169, 0.11138800184327202, 0.16312584436993127, 1.4476220194757756, 0.2870295314987068, 0.4173273955480461, 1.564973084801986, 0.5924748099977499, 0.44269216268811107, 0.42813318880630646, 0.027423488112587435, 0.2718762043991383, 0.8020414446132804, 2.030797121286298, 1.035197029419539, 0.8301059040210053, 0.0911271546240755, 0.0823485409326068, 0.6269940297391781, 0.565438140517891, 0.3456375974546404, 0.5600322388985894, 1.4705684350191, 0.7493804916874236, 0.16620517911847443, 0.43014963969556597, 0.2215246268526343, 0.596052686039231, 0.36984065709682845, 0.603882531212939, 0.32573307851920674, 0.32924778039953395, 0.2392857904717136, 0.011774225246158565, 0.26009416728457246, 0.22894390556983701, 0.303411310748654, 0.24989663596487866, 0.6811695683300343, 0.340549552590252, 0.6199068363026381, 0.8022525076712963, 1.3559520737785569, 0.08066145914147071, 0.49867919177199127, 1.8303502977636512, 1.812216869230726, 1.4305702730685397, 0.49350104166572706, 0.31324426369606506, 0.5200366462229873, 0.29423583003581655, 1.3273228045510752, 0.13639470855876468, 0.20494639498597955, 0.8896069233149895, 0.7141921002359375, 0.559955512685578, 0.6822732199566897, 0.3768358681491826, 0.37360917002699345, 0.06732408624782948, 0.026171124918386468, 1.434913064634582, 0.20874718857183794, 0.5801487385852084, 3.058978971165441, 0.9716575828921421, 0.09647247071827181, 1.403616789780397, 0.5533921397884463, 1.2557157390783118, 0.7498303317875568, 0.4620742406238296, 0.29895617988196754, 0.07548594246707196, 0.6397696709513419, 0.1342736430050877, 0.5200565116480487, 0.04546520987851643, 2.189269003884627, 0.7496436895410792, 0.5460643979272106, 2.3719889104564142, 0.21365403891793555, 2.4641933499318434, 0.08181884431341402, 0.6523011754208028, 0.5044002405387138, 0.6530972886692314, 1.3409108203948072, 0.42802883041102646, 0.6024924510851299, 1.046692146573264, 0.36296178894964193, 0.765095682886721, 2.670173737108498, 1.0731631287029693, 0.6395021863525656, 2.2103097499439244, 0.056373413190724975, 0.2520281057210134, 0.8213687081391612, 0.5654167792461529, 0.20300507543976565, 0.6497937690026614, 1.533797295169764, 0.5175597290158684, 0.8539435922694416, 1.107706069398402, 0.2660964756483626, 0.41981217906876367, 0.565692989394261, 0.4625287654669048, 0.23751554989654267, 0.4245684179037035, 0.3343120099872383, 0.2022205878864618, 1.194354766165409, 0.5829231936284387, 0.17363280338513754, 0.01901478625228492, 0.6899648004879833, 1.0395206903488035, 1.8934439953603448, 0.70270738502016, 0.30490106792194105, 0.22946843157128782, 1.2584807092234307, 0.8409162242994412, 0.38394050369645427, 0.21472609126792364, 0.9584991687927129, 1.399552688764139, 0.6451416614997161, 1.4379843327091582, 0.3383677037327306, 1.75898610213671, 0.7466826224182537, 0.08415354835392819, 0.12085443982114974, 0.42697372830135905, 2.527856980557731, 0.7963729957337193, 0.4350455438332901, 0.18280402041134636, 0.24098130290840558, 0.9394258348469684, 0.023031122462203513, 0.12872306925468102, 0.6769206277651101, 2.071439032759214, 0.27010322133370934, 0.01090384618976259, 0.45743002713834, 2.035896216691679, 0.5241545743376328, 0.39263484854014585, 0.247705522489591, 1.6424194706049384, 0.22223965524702294, 0.6295268954285955, 0.06430290191789467, 0.4491209803065406, 0.40914162461435133, 0.045391914448998705, 0.07185378722674507, 0.07900077644742254, 1.0108996372956582, 0.15882436700008462, 0.7812196059677525, 0.18842776724395272, 0.6709487791733633, 1.1576399230877108, 0.053988211646007755, 0.1321409849685189, 0.7429746382162179, 0.5247806339307814, 0.5117788928869853, 0.414741429198207, 1.075125735780027, 0.5394779376628058, 0.40233583618952196, 0.04297190612359003, 0.7905648770307643, 0.2454581279376633, 1.12326388771055, 1.0203044756318143, 0.49318649896608235], \"coloraxis\": \"coloraxis\", \"size\": [0.9907000250824929, 0.9570965284187825, 0.25048177031837326, 0.06406679352917877, 0.6295571418556776, 1.3307219135723667, 0.6901215237011691, 0.13597358723216146, 0.0670508987537275, 1.0615992053342858, 0.4687467039231006, 0.8387282395504414, 0.26473599228944344, 0.12292551612085667, 0.4014310083316879, 0.5833730659868657, 0.11795499950601851, 0.11213336301201515, 3.8131904107418215, 0.3015636065891947, 0.8850506537304526, 0.40366112409234134, 0.1606468967986281, 0.3462448266508833, 0.28940270568359594, 0.47113410310514503, 0.5699347978170302, 1.7928228951676637, 0.36944869295034977, 1.1183951975298534, 0.35941268756111455, 0.6869490805587155, 0.09345523048033222, 0.13136463462182668, 0.5902453262098071, 0.36073339718107356, 0.4800732073173286, 1.287694282693625, 0.25422147991123545, 1.0646662855272737, 0.13358855873098463, 0.35285812659686755, 0.11480412006641316, 0.3183288744798354, 0.6163117307732762, 0.01643790619804797, 0.00689913992193425, 1.1165783833477683, 1.1450259995601684, 0.9193869829713766, 0.14679301858693883, 0.4000326607155671, 0.15187539202062617, 0.5550067902650664, 1.5254863807418992, 0.07142984085814419, 0.23654678937601226, 0.4344218424062536, 0.60273190464717, 0.42876407328497024, 0.6087800402545369, 0.4297479336155696, 0.759831415395487, 0.22007855053254843, 0.15904224506138398, 0.3028318468671056, 0.38858423798098585, 1.2575136174055608, 0.27861157714614215, 0.05314169958775672, 1.4072315560862707, 0.01216182008133515, 0.23113173594209613, 0.0005570246310320215, 0.833652103448582, 0.17002876692199642, 0.565438140517891, 0.4777132939965876, 1.0884170734580607, 0.011315044222893533, 0.3211872905455575, 0.6610105275017606, 1.6362303092562165, 0.011462300049197793, 2.6708140449452387, 0.5741807995838002, 2.1361980963001077, 0.6040586505160199, 0.969569095985964, 1.1873310285589103, 1.302036061916045, 0.2141126448130315, 0.19054482477542933, 0.7360823627143382, 4.214311447673477, 0.5990516020737964, 0.5991457962466349, 0.13284297667968126, 0.30340245360418194, 0.446186147099203, 1.3220445274883197, 0.31944536241187826, 0.23226251978568513, 0.8524131050678747, 0.5843770484315431, 0.5565963539882866, 0.44710119873857934, 0.49670443001145337, 0.42255880920594, 0.3414199337232837, 0.14803210455623983, 0.1202195581917902, 1.161742984592781, 0.48601463122742494, 0.2642195066994546, 0.918416357013788, 0.8404937071025422, 0.45491209691491896, 0.17190887349426376, 0.3621476034002704, 0.04048845674144719, 0.3342645699193394, 0.3331846381812067, 0.8387723526527235, 0.3835209375764883, 0.4221555006784463, 0.44138129058064557, 0.6699488946483214, 0.5736049249803639, 0.48668208886654263, 0.4548053496807416, 0.254910367937196, 0.08098353358037969, 0.2775971400009851, 0.710538401378173, 0.1101962032947057, 0.07062267155856006, 0.730465567939449, 0.11597236200898031, 0.029044749983366813, 1.0163547092463876, 0.46784037951747237, 0.5924136273277352, 0.8532340421793325, 0.3128243521605043, 0.11319013472846251, 0.2236863766324788, 0.04160908223270532, 1.2054679155324113, 0.35969546173766354, 0.3148720293989129, 0.5542278384921424, 0.5658190494449986, 0.11461933660944723, 0.09494870615355921, 0.41829117855066755, 1.0526832204176149, 0.5452764422035408, 0.396948106123606, 0.6022243859415468, 1.386906398999919, 0.4438989335846326, 0.008689296537543356, 0.17967561875692795, 0.4816130733706867, 0.5318753973381227, 0.14673176679511357, 0.4810855471365745, 1.7708696882760968, 0.8821979955447858, 1.4067039249628817, 0.28053783270957844, 0.6418527564708878, 0.31837996035172367, 0.6077319113523529, 0.9031072354566678, 1.968291908555198, 0.46245102580739683, 1.1663590233941967, 0.3410245803763985, 1.290801282424976, 0.19173027768088247, 0.7556875835879762, 0.7123440444895976, 0.0873883990061124, 1.544078184752081, 0.6522951873154597, 1.408075214366404, 0.007461806948159122, 1.9648353285051847, 0.5348221217724376, 0.9662476597743108, 0.7224266069429515, 0.6135129300436795, 1.5010879688412881, 0.7196415845527238, 1.6563238504586995, 0.8900458524939161, 0.26465557611228263, 0.7852202098236827, 0.35762618866876394, 0.5612369673756703, 0.2440911911347552, 0.1721418366940881, 0.5822463000899969, 0.2612189807083123, 0.14673110355099261, 0.7364546273984978, 0.5746304820311625, 1.107736722724752, 0.23179917788893434, 0.283233058269186, 0.07792622044742359, 1.0887110258083617, 0.9552942660699397, 0.5388201400809827, 0.042461806948159264, 0.8485135045067338, 1.250326486432332, 0.5505121988258352, 0.08204200029122966, 1.8941067170376193, 0.5629010046102181, 1.2046464975876283, 0.7364546273984978, 0.5140039909265255, 0.1854649839103235, 0.6825628578168867, 0.3549983288771763, 0.838765444150404, 0.13639768472495462, 0.8284395118337216, 1.737969865305736, 0.0030653274277501197, 0.11900913962322335, 0.5495365978399143, 0.9880658019649484, 0.5624983025860466, 0.22459376529142183, 0.0583072578546151, 0.666036269917953, 0.6569963664759744, 0.26346012106956174, 1.149057836461381, 0.7653124611158333, 1.2856932179281593, 0.8347330809757381, 0.023968896892142766, 0.3777981211123169, 0.11138800184327202, 0.16312584436993127, 1.4476220194757756, 0.2870295314987068, 0.4173273955480461, 1.564973084801986, 0.5924748099977499, 0.44269216268811107, 0.42813318880630646, 0.027423488112587435, 0.2718762043991383, 0.8020414446132804, 2.030797121286298, 1.035197029419539, 0.8301059040210053, 0.0911271546240755, 0.0823485409326068, 0.6269940297391781, 0.565438140517891, 0.3456375974546404, 0.5600322388985894, 1.4705684350191, 0.7493804916874236, 0.16620517911847443, 0.43014963969556597, 0.2215246268526343, 0.596052686039231, 0.36984065709682845, 0.603882531212939, 0.32573307851920674, 0.32924778039953395, 0.2392857904717136, 0.011774225246158565, 0.26009416728457246, 0.22894390556983701, 0.303411310748654, 0.24989663596487866, 0.6811695683300343, 0.340549552590252, 0.6199068363026381, 0.8022525076712963, 1.3559520737785569, 0.08066145914147071, 0.49867919177199127, 1.8303502977636512, 1.812216869230726, 1.4305702730685397, 0.49350104166572706, 0.31324426369606506, 0.5200366462229873, 0.29423583003581655, 1.3273228045510752, 0.13639470855876468, 0.20494639498597955, 0.8896069233149895, 0.7141921002359375, 0.559955512685578, 0.6822732199566897, 0.3768358681491826, 0.37360917002699345, 0.06732408624782948, 0.026171124918386468, 1.434913064634582, 0.20874718857183794, 0.5801487385852084, 3.058978971165441, 0.9716575828921421, 0.09647247071827181, 1.403616789780397, 0.5533921397884463, 1.2557157390783118, 0.7498303317875568, 0.4620742406238296, 0.29895617988196754, 0.07548594246707196, 0.6397696709513419, 0.1342736430050877, 0.5200565116480487, 0.04546520987851643, 2.189269003884627, 0.7496436895410792, 0.5460643979272106, 2.3719889104564142, 0.21365403891793555, 2.4641933499318434, 0.08181884431341402, 0.6523011754208028, 0.5044002405387138, 0.6530972886692314, 1.3409108203948072, 0.42802883041102646, 0.6024924510851299, 1.046692146573264, 0.36296178894964193, 0.765095682886721, 2.670173737108498, 1.0731631287029693, 0.6395021863525656, 2.2103097499439244, 0.056373413190724975, 0.2520281057210134, 0.8213687081391612, 0.5654167792461529, 0.20300507543976565, 0.6497937690026614, 1.533797295169764, 0.5175597290158684, 0.8539435922694416, 1.107706069398402, 0.2660964756483626, 0.41981217906876367, 0.565692989394261, 0.4625287654669048, 0.23751554989654267, 0.4245684179037035, 0.3343120099872383, 0.2022205878864618, 1.194354766165409, 0.5829231936284387, 0.17363280338513754, 0.01901478625228492, 0.6899648004879833, 1.0395206903488035, 1.8934439953603448, 0.70270738502016, 0.30490106792194105, 0.22946843157128782, 1.2584807092234307, 0.8409162242994412, 0.38394050369645427, 0.21472609126792364, 0.9584991687927129, 1.399552688764139, 0.6451416614997161, 1.4379843327091582, 0.3383677037327306, 1.75898610213671, 0.7466826224182537, 0.08415354835392819, 0.12085443982114974, 0.42697372830135905, 2.527856980557731, 0.7963729957337193, 0.4350455438332901, 0.18280402041134636, 0.24098130290840558, 0.9394258348469684, 0.023031122462203513, 0.12872306925468102, 0.6769206277651101, 2.071439032759214, 0.27010322133370934, 0.01090384618976259, 0.45743002713834, 2.035896216691679, 0.5241545743376328, 0.39263484854014585, 0.247705522489591, 1.6424194706049384, 0.22223965524702294, 0.6295268954285955, 0.06430290191789467, 0.4491209803065406, 0.40914162461435133, 0.045391914448998705, 0.07185378722674507, 0.07900077644742254, 1.0108996372956582, 0.15882436700008462, 0.7812196059677525, 0.18842776724395272, 0.6709487791733633, 1.1576399230877108, 0.053988211646007755, 0.1321409849685189, 0.7429746382162179, 0.5247806339307814, 0.5117788928869853, 0.414741429198207, 1.075125735780027, 0.5394779376628058, 0.40233583618952196, 0.04297190612359003, 0.7905648770307643, 0.2454581279376633, 1.12326388771055, 1.0203044756318143, 0.49318649896608235], \"sizemode\": \"area\", \"sizeref\": 0.010535778619183693, \"symbol\": \"circle\"}, \"mode\": \"markers\", \"name\": \"\", \"showlegend\": false, \"type\": \"scatter\", \"x\": [20.472, 13.87, 16.088, 14.078, 13.68, 17.21, 18.905, 16.2, 15.458, 17.250999999999998, 14.057, 7.977, 10.313, 15.377, 9.648, 14.387, 16.012999999999998, 14.639, 26.15673949287078, 17.316, 17.178, 11.952, 18.159, 8.558, 11.179, 11.857, 16.512, 19.923, 8.632, 22.263068594974555, 15.268, 17.973, 14.419, 14.942, 8.798, 14.14, 22.072, 21.548, 15.115, 12.698, 10.976, 10.49, 15.249, 18.22, 14.245, 14.58, 9.341, 18.861, 15.75, 15.862, 8.899, 21.968000000000004, 15.45, 15.216, 23.5, 15.269, 13.403, 14.253, 8.72, 13.727, 16.570999999999998, 8.581, 12.039, 17.204, 10.869000000000002, 14.718, 15.027, 19.458, 15.897, 15.684, 7.033, 15.3, 24.73164881018373, 15.33, 21.55, 14.545, 7.961, 8.306000000000001, 10.447, 11.353, 9.944, 14.320318621054854, 20.81, 9.728, 19.877608296359874, 13.717, 13.668, 21.121, 17.208, 12.912, 8.465, 15.883, 12.724, 15.907, 23.915276148910646, 15.032, 18.021, 13.99, 21.509, 15.841, 15.884, 15.86, 15.947, 15.419, 14.13, 22.960371000602628, 16.887, 14.081, 16.396, 20.251, 9.711, 15.811, 19.66, 8.842, 15.507, 16.849, 12.803, 14.477, 9.948, 10.348, 7.851, 13.550999999999998, 13.11, 9.835, 17.285345370445945, 15.648, 14.287, 17.852, 15.667, 15.232, 15.15, 10.061, 15.872, 14.338, 18.111, 9.604, 18.332, 12.209, 11.347, 9.641, 12.338, 9.285, 15.114, 12.74, 16.898, 15.833, 8.267999999999999, 12.841, 9.589, 8.49, 14.986, 18.22, 9.268, 15.974, 20.486, 17.191, 10.324000000000002, 17.274, 10.751, 16.659000000000002, 17.609916769415506, 14.29, 15.42, 11.29, 12.728, 14.521, 13.515, 8.228, 12.28, 19.768, 13.668, 15.998, 16.298, 15.568, 12.959, 13.503, 8.975, 14.333, 17.248, 8.806000000000003, 11.773, 18.441, 13.817, 8.423, 17.557000000000002, 11.015, 17.542, 10.309, 15.788, 17.477999999999998, 15.548, 16.090999999999998, 15.882, 8.932, 12.02, 11.841, 16.392, 19.306, 17.195655291309563, 7.26, 17.525, 17.822, 12.64, 17.006, 14.323, 13.634, 14.203, 7.42, 14.287, 19.555, 15.834, 19.041, 8.346, 12.683, 15.667, 17.567999999999998, 15.823, 22.795, 25.372548229892463, 9.423, 14.878, 6.617000000000001, 15.584, 14.992, 7.42, 11.341, 14.161, 16.284000000000002, 10.731, 11.447, 8.471, 18.551, 17.56, 8.216000000000001, 10.962, 10.159, 11.329, 17.778, 12.972, 16.156, 17.122, 15.795, 9.596, 17.351, 9.771, 13.797, 7.269, 15.729, 17.125999999999998, 11.566, 12.039, 6.53, 15.004, 17.372, 12.726, 18.195842125553785, 18.943, 8.607000000000001, 15.849, 13.517, 14.317, 11.88, 17.449, 14.202, 21.615, 8.342, 15.943, 7.961, 12.958, 17.582, 16.29, 16.285, 9.825, 11.9, 15.129, 8.65, 15.173, 17.483, 13.380999999999998, 16.01, 15.339, 14.588, 11.754, 13.755999999999998, 8.732000000000001, 15.034, 15.803, 15.052, 16.551, 9.971, 17.198, 15.015999999999998, 24.091, 12.017, 11.327, 16.54, 15.1, 15.246, 11.365, 25.889, 15.909, 18.084, 16.025, 15.186, 13.956, 14.937, 16.602, 16.569000000000006, 14.285, 14.231, 13.599, 9.012, 19.357, 18.436, 18.67, 13.935, 16.02, 12.011, 12.86, 17.287, 16.398, 15.555, 15.55, 15.424, 17.646, 12.939, 14.217, 11.965, 17.507818830831358, 8.84, 13.515999999999998, 7.302, 10.108, 17.3, 11.046, 16.034000000000002, 7.269, 7.85, 21.136, 8.931000000000003, 18.992, 16.555, 15.624, 7.563, 7.877000000000002, 10.664, 9.144, 20.991, 15.588, 9.927, 16.848, 14.373, 15.173, 13.229, 6.8679999999999986, 15.640999999999998, 15.501, 12.934, 14.934, 15.54, 17.709, 15.681, 11.795, 16.808, 14.783, 8.333, 11.094, 9.311, 11.563, 10.166, 13.423, 6.987, 11.993, 15.851, 8.461, 15.166, 12.324581639718325, 17.692999999999994, 14.249, 13.887, 9.526, 7.032, 14.584, 12.173, 13.202, 17.274, 16.695, 24.367, 15.284, 16.179000000000002, 17.54488226504, 22.629, 15.108, 9.6, 10.499, 19.302, 14.168, 9.771, 18.109, 11.696, 16.758, 14.479, 11.379, 21.09, 14.538, 15.181, 15.151, 18.945, 9.272, 13.224, 16.034000000000002, 11.701, 8.89, 9.582, 9.709, 9.026, 15.064, 9.526, 16.749000000000002, 14.236, 8.959, 17.899, 22.555, 14.512, 12.431, 14.205, 14.607, 14.767, 12.534, 10.186, 22.228273462344408, 8.421, 9.026, 9.191, 17.214000000000002, 21.953000000000007, 16.846], \"xaxis\": \"x\", \"y\": [0.9907000250824929, 0.9570965284187825, 0.25048177031837326, 0.06406679352917877, 0.6295571418556776, 1.3307219135723667, 0.6901215237011691, 0.13597358723216146, 0.0670508987537275, 1.0615992053342858, 0.4687467039231006, 0.8387282395504414, 0.26473599228944344, 0.12292551612085667, 0.4014310083316879, 0.5833730659868657, 0.11795499950601851, 0.11213336301201515, 3.8131904107418215, 0.3015636065891947, 0.8850506537304526, 0.40366112409234134, 0.1606468967986281, 0.3462448266508833, 0.28940270568359594, 0.47113410310514503, 0.5699347978170302, 1.7928228951676637, 0.36944869295034977, 1.1183951975298534, 0.35941268756111455, 0.6869490805587155, 0.09345523048033222, 0.13136463462182668, 0.5902453262098071, 0.36073339718107356, 0.4800732073173286, 1.287694282693625, 0.25422147991123545, 1.0646662855272737, 0.13358855873098463, 0.35285812659686755, 0.11480412006641316, 0.3183288744798354, 0.6163117307732762, 0.01643790619804797, 0.00689913992193425, 1.1165783833477683, 1.1450259995601684, 0.9193869829713766, 0.14679301858693883, 0.4000326607155671, 0.15187539202062617, 0.5550067902650664, 1.5254863807418992, 0.07142984085814419, 0.23654678937601226, 0.4344218424062536, 0.60273190464717, 0.42876407328497024, 0.6087800402545369, 0.4297479336155696, 0.759831415395487, 0.22007855053254843, 0.15904224506138398, 0.3028318468671056, 0.38858423798098585, 1.2575136174055608, 0.27861157714614215, 0.05314169958775672, 1.4072315560862707, 0.01216182008133515, 0.23113173594209613, 0.0005570246310320215, 0.833652103448582, 0.17002876692199642, 0.565438140517891, 0.4777132939965876, 1.0884170734580607, 0.011315044222893533, 0.3211872905455575, 0.6610105275017606, 1.6362303092562165, 0.011462300049197793, 2.6708140449452387, 0.5741807995838002, 2.1361980963001077, 0.6040586505160199, 0.969569095985964, 1.1873310285589103, 1.302036061916045, 0.2141126448130315, 0.19054482477542933, 0.7360823627143382, 4.214311447673477, 0.5990516020737964, 0.5991457962466349, 0.13284297667968126, 0.30340245360418194, 0.446186147099203, 1.3220445274883197, 0.31944536241187826, 0.23226251978568513, 0.8524131050678747, 0.5843770484315431, 0.5565963539882866, 0.44710119873857934, 0.49670443001145337, 0.42255880920594, 0.3414199337232837, 0.14803210455623983, 0.1202195581917902, 1.161742984592781, 0.48601463122742494, 0.2642195066994546, 0.918416357013788, 0.8404937071025422, 0.45491209691491896, 0.17190887349426376, 0.3621476034002704, 0.04048845674144719, 0.3342645699193394, 0.3331846381812067, 0.8387723526527235, 0.3835209375764883, 0.4221555006784463, 0.44138129058064557, 0.6699488946483214, 0.5736049249803639, 0.48668208886654263, 0.4548053496807416, 0.254910367937196, 0.08098353358037969, 0.2775971400009851, 0.710538401378173, 0.1101962032947057, 0.07062267155856006, 0.730465567939449, 0.11597236200898031, 0.029044749983366813, 1.0163547092463876, 0.46784037951747237, 0.5924136273277352, 0.8532340421793325, 0.3128243521605043, 0.11319013472846251, 0.2236863766324788, 0.04160908223270532, 1.2054679155324113, 0.35969546173766354, 0.3148720293989129, 0.5542278384921424, 0.5658190494449986, 0.11461933660944723, 0.09494870615355921, 0.41829117855066755, 1.0526832204176149, 0.5452764422035408, 0.396948106123606, 0.6022243859415468, 1.386906398999919, 0.4438989335846326, 0.008689296537543356, 0.17967561875692795, 0.4816130733706867, 0.5318753973381227, 0.14673176679511357, 0.4810855471365745, 1.7708696882760968, 0.8821979955447858, 1.4067039249628817, 0.28053783270957844, 0.6418527564708878, 0.31837996035172367, 0.6077319113523529, 0.9031072354566678, 1.968291908555198, 0.46245102580739683, 1.1663590233941967, 0.3410245803763985, 1.290801282424976, 0.19173027768088247, 0.7556875835879762, 0.7123440444895976, 0.0873883990061124, 1.544078184752081, 0.6522951873154597, 1.408075214366404, 0.007461806948159122, 1.9648353285051847, 0.5348221217724376, 0.9662476597743108, 0.7224266069429515, 0.6135129300436795, 1.5010879688412881, 0.7196415845527238, 1.6563238504586995, 0.8900458524939161, 0.26465557611228263, 0.7852202098236827, 0.35762618866876394, 0.5612369673756703, 0.2440911911347552, 0.1721418366940881, 0.5822463000899969, 0.2612189807083123, 0.14673110355099261, 0.7364546273984978, 0.5746304820311625, 1.107736722724752, 0.23179917788893434, 0.283233058269186, 0.07792622044742359, 1.0887110258083617, 0.9552942660699397, 0.5388201400809827, 0.042461806948159264, 0.8485135045067338, 1.250326486432332, 0.5505121988258352, 0.08204200029122966, 1.8941067170376193, 0.5629010046102181, 1.2046464975876283, 0.7364546273984978, 0.5140039909265255, 0.1854649839103235, 0.6825628578168867, 0.3549983288771763, 0.838765444150404, 0.13639768472495462, 0.8284395118337216, 1.737969865305736, 0.0030653274277501197, 0.11900913962322335, 0.5495365978399143, 0.9880658019649484, 0.5624983025860466, 0.22459376529142183, 0.0583072578546151, 0.666036269917953, 0.6569963664759744, 0.26346012106956174, 1.149057836461381, 0.7653124611158333, 1.2856932179281593, 0.8347330809757381, 0.023968896892142766, 0.3777981211123169, 0.11138800184327202, 0.16312584436993127, 1.4476220194757756, 0.2870295314987068, 0.4173273955480461, 1.564973084801986, 0.5924748099977499, 0.44269216268811107, 0.42813318880630646, 0.027423488112587435, 0.2718762043991383, 0.8020414446132804, 2.030797121286298, 1.035197029419539, 0.8301059040210053, 0.0911271546240755, 0.0823485409326068, 0.6269940297391781, 0.565438140517891, 0.3456375974546404, 0.5600322388985894, 1.4705684350191, 0.7493804916874236, 0.16620517911847443, 0.43014963969556597, 0.2215246268526343, 0.596052686039231, 0.36984065709682845, 0.603882531212939, 0.32573307851920674, 0.32924778039953395, 0.2392857904717136, 0.011774225246158565, 0.26009416728457246, 0.22894390556983701, 0.303411310748654, 0.24989663596487866, 0.6811695683300343, 0.340549552590252, 0.6199068363026381, 0.8022525076712963, 1.3559520737785569, 0.08066145914147071, 0.49867919177199127, 1.8303502977636512, 1.812216869230726, 1.4305702730685397, 0.49350104166572706, 0.31324426369606506, 0.5200366462229873, 0.29423583003581655, 1.3273228045510752, 0.13639470855876468, 0.20494639498597955, 0.8896069233149895, 0.7141921002359375, 0.559955512685578, 0.6822732199566897, 0.3768358681491826, 0.37360917002699345, 0.06732408624782948, 0.026171124918386468, 1.434913064634582, 0.20874718857183794, 0.5801487385852084, 3.058978971165441, 0.9716575828921421, 0.09647247071827181, 1.403616789780397, 0.5533921397884463, 1.2557157390783118, 0.7498303317875568, 0.4620742406238296, 0.29895617988196754, 0.07548594246707196, 0.6397696709513419, 0.1342736430050877, 0.5200565116480487, 0.04546520987851643, 2.189269003884627, 0.7496436895410792, 0.5460643979272106, 2.3719889104564142, 0.21365403891793555, 2.4641933499318434, 0.08181884431341402, 0.6523011754208028, 0.5044002405387138, 0.6530972886692314, 1.3409108203948072, 0.42802883041102646, 0.6024924510851299, 1.046692146573264, 0.36296178894964193, 0.765095682886721, 2.670173737108498, 1.0731631287029693, 0.6395021863525656, 2.2103097499439244, 0.056373413190724975, 0.2520281057210134, 0.8213687081391612, 0.5654167792461529, 0.20300507543976565, 0.6497937690026614, 1.533797295169764, 0.5175597290158684, 0.8539435922694416, 1.107706069398402, 0.2660964756483626, 0.41981217906876367, 0.565692989394261, 0.4625287654669048, 0.23751554989654267, 0.4245684179037035, 0.3343120099872383, 0.2022205878864618, 1.194354766165409, 0.5829231936284387, 0.17363280338513754, 0.01901478625228492, 0.6899648004879833, 1.0395206903488035, 1.8934439953603448, 0.70270738502016, 0.30490106792194105, 0.22946843157128782, 1.2584807092234307, 0.8409162242994412, 0.38394050369645427, 0.21472609126792364, 0.9584991687927129, 1.399552688764139, 0.6451416614997161, 1.4379843327091582, 0.3383677037327306, 1.75898610213671, 0.7466826224182537, 0.08415354835392819, 0.12085443982114974, 0.42697372830135905, 2.527856980557731, 0.7963729957337193, 0.4350455438332901, 0.18280402041134636, 0.24098130290840558, 0.9394258348469684, 0.023031122462203513, 0.12872306925468102, 0.6769206277651101, 2.071439032759214, 0.27010322133370934, 0.01090384618976259, 0.45743002713834, 2.035896216691679, 0.5241545743376328, 0.39263484854014585, 0.247705522489591, 1.6424194706049384, 0.22223965524702294, 0.6295268954285955, 0.06430290191789467, 0.4491209803065406, 0.40914162461435133, 0.045391914448998705, 0.07185378722674507, 0.07900077644742254, 1.0108996372956582, 0.15882436700008462, 0.7812196059677525, 0.18842776724395272, 0.6709487791733633, 1.1576399230877108, 0.053988211646007755, 0.1321409849685189, 0.7429746382162179, 0.5247806339307814, 0.5117788928869853, 0.414741429198207, 1.075125735780027, 0.5394779376628058, 0.40233583618952196, 0.04297190612359003, 0.7905648770307643, 0.2454581279376633, 1.12326388771055, 1.0203044756318143, 0.49318649896608235], \"yaxis\": \"y\"}],\n",
              "                        {\"coloraxis\": {\"colorbar\": {\"title\": {\"text\": \"loss\"}}, \"colorscale\": [[0.0, \"#0d0887\"], [0.1111111111111111, \"#46039f\"], [0.2222222222222222, \"#7201a8\"], [0.3333333333333333, \"#9c179e\"], [0.4444444444444444, \"#bd3786\"], [0.5555555555555556, \"#d8576b\"], [0.6666666666666666, \"#ed7953\"], [0.7777777777777778, \"#fb9f3a\"], [0.8888888888888888, \"#fdca26\"], [1.0, \"#f0f921\"]]}, \"height\": 600, \"legend\": {\"itemsizing\": \"constant\", \"tracegroupgap\": 0}, \"margin\": {\"t\": 60}, \"template\": {\"data\": {\"bar\": [{\"error_x\": {\"color\": \"#2a3f5f\"}, \"error_y\": {\"color\": \"#2a3f5f\"}, \"marker\": {\"line\": {\"color\": \"#E5ECF6\", \"width\": 0.5}}, \"type\": \"bar\"}], \"barpolar\": [{\"marker\": {\"line\": {\"color\": \"#E5ECF6\", \"width\": 0.5}}, \"type\": \"barpolar\"}], \"carpet\": [{\"aaxis\": {\"endlinecolor\": \"#2a3f5f\", \"gridcolor\": \"white\", \"linecolor\": \"white\", \"minorgridcolor\": \"white\", \"startlinecolor\": \"#2a3f5f\"}, \"baxis\": {\"endlinecolor\": \"#2a3f5f\", \"gridcolor\": \"white\", \"linecolor\": \"white\", \"minorgridcolor\": \"white\", \"startlinecolor\": \"#2a3f5f\"}, \"type\": \"carpet\"}], \"choropleth\": [{\"colorbar\": {\"outlinewidth\": 0, \"ticks\": \"\"}, \"type\": \"choropleth\"}], \"contour\": [{\"colorbar\": {\"outlinewidth\": 0, \"ticks\": \"\"}, \"colorscale\": [[0.0, \"#0d0887\"], [0.1111111111111111, \"#46039f\"], [0.2222222222222222, \"#7201a8\"], [0.3333333333333333, \"#9c179e\"], [0.4444444444444444, \"#bd3786\"], [0.5555555555555556, \"#d8576b\"], [0.6666666666666666, \"#ed7953\"], [0.7777777777777778, \"#fb9f3a\"], [0.8888888888888888, \"#fdca26\"], [1.0, \"#f0f921\"]], \"type\": \"contour\"}], \"contourcarpet\": [{\"colorbar\": {\"outlinewidth\": 0, \"ticks\": \"\"}, \"type\": \"contourcarpet\"}], \"heatmap\": [{\"colorbar\": {\"outlinewidth\": 0, \"ticks\": \"\"}, \"colorscale\": [[0.0, \"#0d0887\"], [0.1111111111111111, \"#46039f\"], [0.2222222222222222, \"#7201a8\"], [0.3333333333333333, \"#9c179e\"], [0.4444444444444444, \"#bd3786\"], [0.5555555555555556, \"#d8576b\"], [0.6666666666666666, \"#ed7953\"], [0.7777777777777778, \"#fb9f3a\"], [0.8888888888888888, \"#fdca26\"], [1.0, \"#f0f921\"]], \"type\": \"heatmap\"}], \"heatmapgl\": [{\"colorbar\": {\"outlinewidth\": 0, \"ticks\": \"\"}, \"colorscale\": [[0.0, \"#0d0887\"], [0.1111111111111111, \"#46039f\"], [0.2222222222222222, \"#7201a8\"], [0.3333333333333333, \"#9c179e\"], [0.4444444444444444, \"#bd3786\"], [0.5555555555555556, \"#d8576b\"], [0.6666666666666666, \"#ed7953\"], [0.7777777777777778, \"#fb9f3a\"], [0.8888888888888888, \"#fdca26\"], [1.0, \"#f0f921\"]], \"type\": \"heatmapgl\"}], \"histogram\": [{\"marker\": {\"colorbar\": {\"outlinewidth\": 0, \"ticks\": \"\"}}, \"type\": \"histogram\"}], \"histogram2d\": [{\"colorbar\": {\"outlinewidth\": 0, \"ticks\": \"\"}, \"colorscale\": [[0.0, \"#0d0887\"], [0.1111111111111111, \"#46039f\"], [0.2222222222222222, \"#7201a8\"], [0.3333333333333333, \"#9c179e\"], [0.4444444444444444, \"#bd3786\"], [0.5555555555555556, \"#d8576b\"], [0.6666666666666666, \"#ed7953\"], [0.7777777777777778, \"#fb9f3a\"], [0.8888888888888888, \"#fdca26\"], [1.0, \"#f0f921\"]], \"type\": \"histogram2d\"}], \"histogram2dcontour\": [{\"colorbar\": {\"outlinewidth\": 0, \"ticks\": \"\"}, \"colorscale\": [[0.0, \"#0d0887\"], [0.1111111111111111, \"#46039f\"], [0.2222222222222222, \"#7201a8\"], [0.3333333333333333, \"#9c179e\"], [0.4444444444444444, \"#bd3786\"], [0.5555555555555556, \"#d8576b\"], [0.6666666666666666, \"#ed7953\"], [0.7777777777777778, \"#fb9f3a\"], [0.8888888888888888, \"#fdca26\"], [1.0, \"#f0f921\"]], \"type\": \"histogram2dcontour\"}], \"mesh3d\": [{\"colorbar\": {\"outlinewidth\": 0, \"ticks\": \"\"}, \"type\": \"mesh3d\"}], \"parcoords\": [{\"line\": {\"colorbar\": {\"outlinewidth\": 0, \"ticks\": \"\"}}, \"type\": \"parcoords\"}], \"scatter\": [{\"marker\": {\"colorbar\": {\"outlinewidth\": 0, \"ticks\": \"\"}}, \"type\": \"scatter\"}], \"scatter3d\": [{\"line\": {\"colorbar\": {\"outlinewidth\": 0, \"ticks\": \"\"}}, \"marker\": {\"colorbar\": {\"outlinewidth\": 0, \"ticks\": \"\"}}, \"type\": \"scatter3d\"}], \"scattercarpet\": [{\"marker\": {\"colorbar\": {\"outlinewidth\": 0, \"ticks\": \"\"}}, \"type\": \"scattercarpet\"}], \"scattergeo\": [{\"marker\": {\"colorbar\": {\"outlinewidth\": 0, \"ticks\": \"\"}}, \"type\": \"scattergeo\"}], \"scattergl\": [{\"marker\": {\"colorbar\": {\"outlinewidth\": 0, \"ticks\": \"\"}}, \"type\": \"scattergl\"}], \"scattermapbox\": [{\"marker\": {\"colorbar\": {\"outlinewidth\": 0, \"ticks\": \"\"}}, \"type\": \"scattermapbox\"}], \"scatterpolar\": [{\"marker\": {\"colorbar\": {\"outlinewidth\": 0, \"ticks\": \"\"}}, \"type\": \"scatterpolar\"}], \"scatterpolargl\": [{\"marker\": {\"colorbar\": {\"outlinewidth\": 0, \"ticks\": \"\"}}, \"type\": \"scatterpolargl\"}], \"scatterternary\": [{\"marker\": {\"colorbar\": {\"outlinewidth\": 0, \"ticks\": \"\"}}, \"type\": \"scatterternary\"}], \"surface\": [{\"colorbar\": {\"outlinewidth\": 0, \"ticks\": \"\"}, \"colorscale\": [[0.0, \"#0d0887\"], [0.1111111111111111, \"#46039f\"], [0.2222222222222222, \"#7201a8\"], [0.3333333333333333, \"#9c179e\"], [0.4444444444444444, \"#bd3786\"], [0.5555555555555556, \"#d8576b\"], [0.6666666666666666, \"#ed7953\"], [0.7777777777777778, \"#fb9f3a\"], [0.8888888888888888, \"#fdca26\"], [1.0, \"#f0f921\"]], \"type\": \"surface\"}], \"table\": [{\"cells\": {\"fill\": {\"color\": \"#EBF0F8\"}, \"line\": {\"color\": \"white\"}}, \"header\": {\"fill\": {\"color\": \"#C8D4E3\"}, \"line\": {\"color\": \"white\"}}, \"type\": \"table\"}]}, \"layout\": {\"annotationdefaults\": {\"arrowcolor\": \"#2a3f5f\", \"arrowhead\": 0, \"arrowwidth\": 1}, \"colorscale\": {\"diverging\": [[0, \"#8e0152\"], [0.1, \"#c51b7d\"], [0.2, \"#de77ae\"], [0.3, \"#f1b6da\"], [0.4, \"#fde0ef\"], [0.5, \"#f7f7f7\"], [0.6, \"#e6f5d0\"], [0.7, \"#b8e186\"], [0.8, \"#7fbc41\"], [0.9, \"#4d9221\"], [1, \"#276419\"]], \"sequential\": [[0.0, \"#0d0887\"], [0.1111111111111111, \"#46039f\"], [0.2222222222222222, \"#7201a8\"], [0.3333333333333333, \"#9c179e\"], [0.4444444444444444, \"#bd3786\"], [0.5555555555555556, \"#d8576b\"], [0.6666666666666666, \"#ed7953\"], [0.7777777777777778, \"#fb9f3a\"], [0.8888888888888888, \"#fdca26\"], [1.0, \"#f0f921\"]], \"sequentialminus\": [[0.0, \"#0d0887\"], [0.1111111111111111, \"#46039f\"], [0.2222222222222222, \"#7201a8\"], [0.3333333333333333, \"#9c179e\"], [0.4444444444444444, \"#bd3786\"], [0.5555555555555556, \"#d8576b\"], [0.6666666666666666, \"#ed7953\"], [0.7777777777777778, \"#fb9f3a\"], [0.8888888888888888, \"#fdca26\"], [1.0, \"#f0f921\"]]}, \"colorway\": [\"#636efa\", \"#EF553B\", \"#00cc96\", \"#ab63fa\", \"#FFA15A\", \"#19d3f3\", \"#FF6692\", \"#B6E880\", \"#FF97FF\", \"#FECB52\"], \"font\": {\"color\": \"#2a3f5f\"}, \"geo\": {\"bgcolor\": \"white\", \"lakecolor\": \"white\", \"landcolor\": \"#E5ECF6\", \"showlakes\": true, \"showland\": true, \"subunitcolor\": \"white\"}, \"hoverlabel\": {\"align\": \"left\"}, \"hovermode\": \"closest\", \"mapbox\": {\"style\": \"light\"}, \"paper_bgcolor\": \"white\", \"plot_bgcolor\": \"#E5ECF6\", \"polar\": {\"angularaxis\": {\"gridcolor\": \"white\", \"linecolor\": \"white\", \"ticks\": \"\"}, \"bgcolor\": \"#E5ECF6\", \"radialaxis\": {\"gridcolor\": \"white\", \"linecolor\": \"white\", \"ticks\": \"\"}}, \"scene\": {\"xaxis\": {\"backgroundcolor\": \"#E5ECF6\", \"gridcolor\": \"white\", \"gridwidth\": 2, \"linecolor\": \"white\", \"showbackground\": true, \"ticks\": \"\", \"zerolinecolor\": \"white\"}, \"yaxis\": {\"backgroundcolor\": \"#E5ECF6\", \"gridcolor\": \"white\", \"gridwidth\": 2, \"linecolor\": \"white\", \"showbackground\": true, \"ticks\": \"\", \"zerolinecolor\": \"white\"}, \"zaxis\": {\"backgroundcolor\": \"#E5ECF6\", \"gridcolor\": \"white\", \"gridwidth\": 2, \"linecolor\": \"white\", \"showbackground\": true, \"ticks\": \"\", \"zerolinecolor\": \"white\"}}, \"shapedefaults\": {\"line\": {\"color\": \"#2a3f5f\"}}, \"ternary\": {\"aaxis\": {\"gridcolor\": \"white\", \"linecolor\": \"white\", \"ticks\": \"\"}, \"baxis\": {\"gridcolor\": \"white\", \"linecolor\": \"white\", \"ticks\": \"\"}, \"bgcolor\": \"#E5ECF6\", \"caxis\": {\"gridcolor\": \"white\", \"linecolor\": \"white\", \"ticks\": \"\"}}, \"title\": {\"x\": 0.05}, \"xaxis\": {\"automargin\": true, \"gridcolor\": \"white\", \"linecolor\": \"white\", \"ticks\": \"\", \"zerolinecolor\": \"white\", \"zerolinewidth\": 2}, \"yaxis\": {\"automargin\": true, \"gridcolor\": \"white\", \"linecolor\": \"white\", \"ticks\": \"\", \"zerolinecolor\": \"white\", \"zerolinewidth\": 2}}}, \"xaxis\": {\"anchor\": \"y\", \"domain\": [0.0, 0.98], \"title\": {\"text\": \"C7N\"}}, \"yaxis\": {\"anchor\": \"x\", \"domain\": [0.0, 1.0], \"title\": {\"text\": \"loss\"}}},\n",
              "                        {\"responsive\": true}\n",
              "                    ).then(function(){\n",
              "                            \n",
              "var gd = document.getElementById('4c18ff5e-ef50-4e23-b29b-d8be33464f6c');\n",
              "var x = new MutationObserver(function (mutations, observer) {{\n",
              "        var display = window.getComputedStyle(gd).display;\n",
              "        if (!display || display === 'none') {{\n",
              "            console.log([gd, 'removed!']);\n",
              "            Plotly.purge(gd);\n",
              "            observer.disconnect();\n",
              "        }}\n",
              "}});\n",
              "\n",
              "// Listen for the removal of the full notebook cells\n",
              "var notebookContainer = gd.closest('#notebook-container');\n",
              "if (notebookContainer) {{\n",
              "    x.observe(notebookContainer, {childList: true});\n",
              "}}\n",
              "\n",
              "// Listen for the clearing of the current output cell\n",
              "var outputEl = gd.closest('.output');\n",
              "if (outputEl) {{\n",
              "    x.observe(outputEl, {childList: true});\n",
              "}}\n",
              "\n",
              "                        })\n",
              "                };\n",
              "                \n",
              "            </script>\n",
              "        </div>\n",
              "</body>\n",
              "</html>"
            ]
          },
          "metadata": {
            "tags": []
          }
        }
      ]
    },
    {
      "cell_type": "code",
      "metadata": {
        "id": "7HuU1WJUr9c9",
        "colab_type": "code",
        "outputId": "c8219220-59a6-4805-bf5e-facf978011db",
        "colab": {
          "base_uri": "https://localhost:8080/",
          "height": 35
        }
      },
      "source": [
        "high_loss_index = plot_data['loss'].sort_values(ascending=False).index\n",
        "high_loss_index[:10]"
      ],
      "execution_count": 13,
      "outputs": [
        {
          "output_type": "execute_result",
          "data": {
            "text/plain": [
              "Int64Index([2102, 2105, 2082, 2112, 1331, 2151, 1182, 1330, 76, 2150], dtype='int64')"
            ]
          },
          "metadata": {
            "tags": []
          },
          "execution_count": 13
        }
      ]
    },
    {
      "cell_type": "code",
      "metadata": {
        "id": "7BPE1ZNUmsKK",
        "colab_type": "code",
        "colab": {}
      },
      "source": [
        "higlight_index = high_loss_index[0]\n",
        "pred_like_index = list(abs(plot_data[y_name+'_pred'] - plot_data.loc[higlight_index,y_name+'_pred']).sort_values().index[1:4])\n",
        "test_like_index = list(abs(plot_data[y_name] - plot_data.loc[higlight_index,y_name]).sort_values().index[1:4])"
      ],
      "execution_count": 0,
      "outputs": []
    },
    {
      "cell_type": "code",
      "metadata": {
        "id": "JhA5iszmi0xk",
        "colab_type": "code",
        "outputId": "9df48998-9fa4-4bb9-87e5-4fedc6f60ed3",
        "colab": {
          "base_uri": "https://localhost:8080/",
          "height": 266
        }
      },
      "source": [
        "round(plot_data.loc[[higlight_index]+test_like_index+pred_like_index],2)"
      ],
      "execution_count": 15,
      "outputs": [
        {
          "output_type": "execute_result",
          "data": {
            "text/html": [
              "<div>\n",
              "<style scoped>\n",
              "    .dataframe tbody tr th:only-of-type {\n",
              "        vertical-align: middle;\n",
              "    }\n",
              "\n",
              "    .dataframe tbody tr th {\n",
              "        vertical-align: top;\n",
              "    }\n",
              "\n",
              "    .dataframe thead th {\n",
              "        text-align: right;\n",
              "    }\n",
              "</style>\n",
              "<table border=\"1\" class=\"dataframe\">\n",
              "  <thead>\n",
              "    <tr style=\"text-align: right;\">\n",
              "      <th></th>\n",
              "      <th>T10</th>\n",
              "      <th>T50</th>\n",
              "      <th>T90</th>\n",
              "      <th>N+A</th>\n",
              "      <th>C7N</th>\n",
              "      <th>C7N_pred</th>\n",
              "      <th>loss</th>\n",
              "      <th>index</th>\n",
              "    </tr>\n",
              "  </thead>\n",
              "  <tbody>\n",
              "    <tr>\n",
              "      <th>2102</th>\n",
              "      <td>88.9</td>\n",
              "      <td>107.3</td>\n",
              "      <td>140.9</td>\n",
              "      <td>54.04</td>\n",
              "      <td>23.92</td>\n",
              "      <td>19.70</td>\n",
              "      <td>4.21</td>\n",
              "      <td>2102</td>\n",
              "    </tr>\n",
              "    <tr>\n",
              "      <th>680</th>\n",
              "      <td>101.1</td>\n",
              "      <td>110.8</td>\n",
              "      <td>137.9</td>\n",
              "      <td>59.26</td>\n",
              "      <td>24.09</td>\n",
              "      <td>24.59</td>\n",
              "      <td>0.50</td>\n",
              "      <td>680</td>\n",
              "    </tr>\n",
              "    <tr>\n",
              "      <th>231</th>\n",
              "      <td>90.1</td>\n",
              "      <td>107.6</td>\n",
              "      <td>136.4</td>\n",
              "      <td>56.39</td>\n",
              "      <td>23.50</td>\n",
              "      <td>21.97</td>\n",
              "      <td>1.53</td>\n",
              "      <td>231</td>\n",
              "    </tr>\n",
              "    <tr>\n",
              "      <th>630</th>\n",
              "      <td>101.6</td>\n",
              "      <td>111.1</td>\n",
              "      <td>141.9</td>\n",
              "      <td>60.14</td>\n",
              "      <td>24.37</td>\n",
              "      <td>24.28</td>\n",
              "      <td>0.08</td>\n",
              "      <td>630</td>\n",
              "    </tr>\n",
              "    <tr>\n",
              "      <th>1182</th>\n",
              "      <td>90.3</td>\n",
              "      <td>110.0</td>\n",
              "      <td>144.6</td>\n",
              "      <td>53.65</td>\n",
              "      <td>17.30</td>\n",
              "      <td>19.76</td>\n",
              "      <td>2.46</td>\n",
              "      <td>1182</td>\n",
              "    </tr>\n",
              "    <tr>\n",
              "      <th>1709</th>\n",
              "      <td>91.9</td>\n",
              "      <td>111.6</td>\n",
              "      <td>144.1</td>\n",
              "      <td>53.04</td>\n",
              "      <td>21.14</td>\n",
              "      <td>19.80</td>\n",
              "      <td>1.34</td>\n",
              "      <td>1709</td>\n",
              "    </tr>\n",
              "    <tr>\n",
              "      <th>303</th>\n",
              "      <td>102.1</td>\n",
              "      <td>114.1</td>\n",
              "      <td>142.8</td>\n",
              "      <td>53.16</td>\n",
              "      <td>20.25</td>\n",
              "      <td>19.91</td>\n",
              "      <td>0.34</td>\n",
              "      <td>303</td>\n",
              "    </tr>\n",
              "  </tbody>\n",
              "</table>\n",
              "</div>"
            ],
            "text/plain": [
              "        T10    T50    T90    N+A    C7N  C7N_pred  loss  index\n",
              "2102   88.9  107.3  140.9  54.04  23.92     19.70  4.21   2102\n",
              "680   101.1  110.8  137.9  59.26  24.09     24.59  0.50    680\n",
              "231    90.1  107.6  136.4  56.39  23.50     21.97  1.53    231\n",
              "630   101.6  111.1  141.9  60.14  24.37     24.28  0.08    630\n",
              "1182   90.3  110.0  144.6  53.65  17.30     19.76  2.46   1182\n",
              "1709   91.9  111.6  144.1  53.04  21.14     19.80  1.34   1709\n",
              "303   102.1  114.1  142.8  53.16  20.25     19.91  0.34    303"
            ]
          },
          "metadata": {
            "tags": []
          },
          "execution_count": 15
        }
      ]
    },
    {
      "cell_type": "code",
      "metadata": {
        "id": "XArMMZvI2W25",
        "colab_type": "code",
        "outputId": "48ff0557-8616-4627-b733-779698869911",
        "colab": {
          "base_uri": "https://localhost:8080/",
          "height": 297
        }
      },
      "source": [
        "sns.distplot(full[y_name])"
      ],
      "execution_count": 16,
      "outputs": [
        {
          "output_type": "execute_result",
          "data": {
            "text/plain": [
              "<matplotlib.axes._subplots.AxesSubplot at 0x7fdb18562a90>"
            ]
          },
          "metadata": {
            "tags": []
          },
          "execution_count": 16
        },
        {
          "output_type": "display_data",
          "data": {
            "image/png": "[encoded data removed]",
            "text/plain": [
              "<Figure size 432x288 with 1 Axes>"
            ]
          },
          "metadata": {
            "tags": []
          }
        }
      ]
    },
    {
      "cell_type": "code",
      "metadata": {
        "id": "IZIDFTTt07nB",
        "colab_type": "code",
        "colab": {}
      },
      "source": [
        ""
      ],
      "execution_count": 0,
      "outputs": []
    }
  ]
}