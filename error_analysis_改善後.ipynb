{
  "nbformat": 4,
  "nbformat_minor": 0,
  "metadata": {
    "colab": {
      "name": "error analysis.ipynb",
      "provenance": [],
      "include_colab_link": true
    },
    "kernelspec": {
      "name": "python3",
      "display_name": "Python 3"
    }
  },
  "cells": [
    {
      "cell_type": "markdown",
      "metadata": {
        "id": "view-in-github",
        "colab_type": "text"
      },
      "source": [
        "<a href=\"https://colab.research.google.com/github/skywalker0803r/works/blob/master/error_analysis_%E6%94%B9%E5%96%84%E5%BE%8C.ipynb\" target=\"_parent\"><img src=\"https://colab.research.google.com/assets/colab-badge.svg\" alt=\"Open In Colab\"/></a>"
      ]
    },
    {
      "cell_type": "code",
      "metadata": {
        "id": "R42lkJbSIydA",
        "colab_type": "code",
        "colab": {
          "base_uri": "https://localhost:8080/",
          "height": 35
        },
        "outputId": "6c8b1698-dca6-4c30-b44b-ffeab37b95d9"
      },
      "source": [
        "#!pip install catboost\n",
        "from google.colab import drive\n",
        "drive.mount('/content/drive')\n",
        "from sklearn.multioutput import MultiOutputRegressor\n",
        "import pandas as pd\n",
        "from sklearn.model_selection import train_test_split\n",
        "import numpy as np\n",
        "import warnings;warnings.simplefilter('ignore')\n",
        "from sklearn.model_selection import cross_validate\n",
        "from sklearn.linear_model import BayesianRidge, LinearRegression,Lasso,Ridge\n",
        "from sklearn.neural_network import MLPRegressor\n",
        "from xgboost import XGBRegressor\n",
        "from sklearn.svm import SVR\n",
        "from catboost import CatBoostRegressor\n",
        "from sklearn.preprocessing import StandardScaler,MinMaxScaler\n",
        "from sklearn.metrics import r2_score,mean_squared_error,mean_absolute_error\n",
        "from sklearn.model_selection import train_test_split\n",
        "from sklearn.metrics.scorer import make_scorer\n",
        "import plotly.express as px\n",
        "import seaborn as sns"
      ],
      "execution_count": 1,
      "outputs": [
        {
          "output_type": "stream",
          "text": [
            "Drive already mounted at /content/drive; to attempt to forcibly remount, call drive.mount(\"/content/drive\", force_remount=True).\n"
          ],
          "name": "stdout"
        }
      ]
    },
    {
      "cell_type": "code",
      "metadata": {
        "id": "6ks-bin8JLvd",
        "colab_type": "code",
        "colab": {}
      },
      "source": [
        "def mape(a, b):\n",
        "    a ,b = np.array(a) ,np.array(b)\n",
        "    mask = a != 0\n",
        "    return (np.fabs(a - b)/a)[mask].mean()\n",
        "\n",
        "def rmse(y_t,y_p):\n",
        "  return np.sqrt(mean_squared_error(y_t,y_p))\n",
        "\n",
        "def metric(y_t,y_p,name):\n",
        "  res = {'R2':np.clip(r2_score(y_t,y_p),0,1),\n",
        "         'RMSE':rmse(y_t,y_p),\n",
        "         'MAPE':mape(y_t,y_p)}\n",
        "  return pd.DataFrame(res,index=[name])\n",
        "\n",
        "def clean(df):\n",
        "  condition = (df['N+A']>=36)\n",
        "  return df.loc[condition]\n",
        "\n",
        "def std_filter(df,num):\n",
        "  for col in df.columns:\n",
        "    ub = df[col].median() + num*df[col].std()\n",
        "    lb = df[col].median() - num*df[col].std()\n",
        "    df = df[(df[col] > lb)&(df[col] < ub)]\n",
        "  df = df.dropna()\n",
        "  return df\n",
        "\n",
        "def get_result(y_test,y_pred):\n",
        "  res = pd.DataFrame()\n",
        "  for y_name in y_columns:\n",
        "    row = metric(y_test[y_name],y_pred[y_name],y_name)\n",
        "    res = res.append(row)\n",
        "  res.loc['AVG'] = res.mean()\n",
        "  return res\n",
        "\n",
        "def softmax(x):\n",
        "    e_x = np.exp(x - np.max(x))\n",
        "    return e_x / e_x.sum(axis=0)"
      ],
      "execution_count": 0,
      "outputs": []
    },
    {
      "cell_type": "markdown",
      "metadata": {
        "id": "aLs1QEH2n5TJ",
        "colab_type": "text"
      },
      "source": [
        "# load"
      ]
    },
    {
      "cell_type": "code",
      "metadata": {
        "id": "Hw4Hv1amJ2Bq",
        "colab_type": "code",
        "colab": {}
      },
      "source": [
        "train_4521 = pd.read_csv('/content/drive/My Drive/台塑輕油案子/data/train_4521.csv',index_col=0)\n",
        "test_170 = pd.read_csv('/content/drive/My Drive/台塑輕油案子/data/test_170.csv',index_col=0)\n",
        "test_250 = pd.read_csv('/content/drive/My Drive/台塑輕油案子/data/test_250.csv',index_col=0).drop(95)"
      ],
      "execution_count": 0,
      "outputs": []
    },
    {
      "cell_type": "markdown",
      "metadata": {
        "id": "bvwyy5AoGrI_",
        "colab_type": "text"
      },
      "source": [
        "# merge"
      ]
    },
    {
      "cell_type": "code",
      "metadata": {
        "id": "IwT8GJF3GrTM",
        "colab_type": "code",
        "colab": {
          "base_uri": "https://localhost:8080/",
          "height": 35
        },
        "outputId": "46614cd7-d961-430f-babe-a9eed1f2da66"
      },
      "source": [
        "full = train_4521.append(test_170).append(test_250)\n",
        "full = full.reset_index(drop=True)\n",
        "full.shape"
      ],
      "execution_count": 4,
      "outputs": [
        {
          "output_type": "execute_result",
          "data": {
            "text/plain": [
              "(4940, 27)"
            ]
          },
          "metadata": {
            "tags": []
          },
          "execution_count": 4
        }
      ]
    },
    {
      "cell_type": "markdown",
      "metadata": {
        "id": "00s1C6-9n7uL",
        "colab_type": "text"
      },
      "source": [
        "# clean and drop duplicates"
      ]
    },
    {
      "cell_type": "code",
      "metadata": {
        "id": "CMR2o4E5KBwK",
        "colab_type": "code",
        "colab": {
          "base_uri": "https://localhost:8080/",
          "height": 53
        },
        "outputId": "2a76568d-ec16-457f-adb9-220a1b9b8f8a"
      },
      "source": [
        "# select N+A>36\n",
        "full = clean(full)\n",
        "print(full.shape)\n",
        "\n",
        "# use std filter\n",
        "full = std_filter(full,3)\n",
        "print(full.shape)"
      ],
      "execution_count": 5,
      "outputs": [
        {
          "output_type": "stream",
          "text": [
            "(2892, 27)\n",
            "(2181, 27)\n"
          ],
          "name": "stdout"
        }
      ]
    },
    {
      "cell_type": "markdown",
      "metadata": {
        "id": "nNS6zKrvn_vj",
        "colab_type": "text"
      },
      "source": [
        "# define columns"
      ]
    },
    {
      "cell_type": "code",
      "metadata": {
        "id": "CRwqWdZbKGn8",
        "colab_type": "code",
        "colab": {}
      },
      "source": [
        "cols = full.columns.tolist()\n",
        "features = cols[:4]\n",
        "y_columns = cols[4:]"
      ],
      "execution_count": 0,
      "outputs": []
    },
    {
      "cell_type": "markdown",
      "metadata": {
        "id": "UUtZqX5ioCbc",
        "colab_type": "text"
      },
      "source": [
        "# reset_index"
      ]
    },
    {
      "cell_type": "code",
      "metadata": {
        "id": "u1Txexi2V7PY",
        "colab_type": "code",
        "colab": {
          "base_uri": "https://localhost:8080/",
          "height": 204
        },
        "outputId": "13919354-cf0e-4696-fb2d-3fff18fd5cf0"
      },
      "source": [
        "full = full.reset_index(drop=True)\n",
        "full.head()"
      ],
      "execution_count": 7,
      "outputs": [
        {
          "output_type": "execute_result",
          "data": {
            "text/html": [
              "<div>\n",
              "<style scoped>\n",
              "    .dataframe tbody tr th:only-of-type {\n",
              "        vertical-align: middle;\n",
              "    }\n",
              "\n",
              "    .dataframe tbody tr th {\n",
              "        vertical-align: top;\n",
              "    }\n",
              "\n",
              "    .dataframe thead th {\n",
              "        text-align: right;\n",
              "    }\n",
              "</style>\n",
              "<table border=\"1\" class=\"dataframe\">\n",
              "  <thead>\n",
              "    <tr style=\"text-align: right;\">\n",
              "      <th></th>\n",
              "      <th>T10</th>\n",
              "      <th>T50</th>\n",
              "      <th>T90</th>\n",
              "      <th>N+A</th>\n",
              "      <th>C5NP</th>\n",
              "      <th>C5IP</th>\n",
              "      <th>C5N</th>\n",
              "      <th>C6NP</th>\n",
              "      <th>C6IP</th>\n",
              "      <th>C6N</th>\n",
              "      <th>C6A</th>\n",
              "      <th>C7NP</th>\n",
              "      <th>C7IP</th>\n",
              "      <th>C7N</th>\n",
              "      <th>C7A</th>\n",
              "      <th>C8NP</th>\n",
              "      <th>C8IP</th>\n",
              "      <th>C8N</th>\n",
              "      <th>C8A</th>\n",
              "      <th>C9NP</th>\n",
              "      <th>C9IP</th>\n",
              "      <th>C9N</th>\n",
              "      <th>C9A</th>\n",
              "      <th>C10NP</th>\n",
              "      <th>C10IP</th>\n",
              "      <th>C10N</th>\n",
              "      <th>C10A</th>\n",
              "    </tr>\n",
              "  </thead>\n",
              "  <tbody>\n",
              "    <tr>\n",
              "      <th>0</th>\n",
              "      <td>103.3</td>\n",
              "      <td>118.9</td>\n",
              "      <td>143.1</td>\n",
              "      <td>36.592</td>\n",
              "      <td>0.002</td>\n",
              "      <td>0.000</td>\n",
              "      <td>0.000</td>\n",
              "      <td>3.032</td>\n",
              "      <td>0.536</td>\n",
              "      <td>4.599</td>\n",
              "      <td>0.437</td>\n",
              "      <td>10.119</td>\n",
              "      <td>8.158</td>\n",
              "      <td>8.066</td>\n",
              "      <td>3.144</td>\n",
              "      <td>8.824</td>\n",
              "      <td>9.438</td>\n",
              "      <td>5.356</td>\n",
              "      <td>5.727</td>\n",
              "      <td>6.099</td>\n",
              "      <td>9.952</td>\n",
              "      <td>4.479</td>\n",
              "      <td>3.780</td>\n",
              "      <td>0.849</td>\n",
              "      <td>5.160</td>\n",
              "      <td>0.636</td>\n",
              "      <td>0.368</td>\n",
              "    </tr>\n",
              "    <tr>\n",
              "      <th>1</th>\n",
              "      <td>101.5</td>\n",
              "      <td>123.6</td>\n",
              "      <td>146.9</td>\n",
              "      <td>36.315</td>\n",
              "      <td>1.602</td>\n",
              "      <td>1.121</td>\n",
              "      <td>0.144</td>\n",
              "      <td>2.885</td>\n",
              "      <td>2.105</td>\n",
              "      <td>2.205</td>\n",
              "      <td>0.432</td>\n",
              "      <td>7.131</td>\n",
              "      <td>5.531</td>\n",
              "      <td>6.829</td>\n",
              "      <td>3.049</td>\n",
              "      <td>8.318</td>\n",
              "      <td>8.747</td>\n",
              "      <td>6.361</td>\n",
              "      <td>6.053</td>\n",
              "      <td>6.185</td>\n",
              "      <td>10.905</td>\n",
              "      <td>5.935</td>\n",
              "      <td>3.510</td>\n",
              "      <td>1.391</td>\n",
              "      <td>6.873</td>\n",
              "      <td>1.145</td>\n",
              "      <td>0.652</td>\n",
              "    </tr>\n",
              "    <tr>\n",
              "      <th>2</th>\n",
              "      <td>102.5</td>\n",
              "      <td>120.3</td>\n",
              "      <td>145.6</td>\n",
              "      <td>36.283</td>\n",
              "      <td>0.785</td>\n",
              "      <td>0.566</td>\n",
              "      <td>0.069</td>\n",
              "      <td>3.520</td>\n",
              "      <td>1.368</td>\n",
              "      <td>2.639</td>\n",
              "      <td>0.437</td>\n",
              "      <td>10.108</td>\n",
              "      <td>8.094</td>\n",
              "      <td>7.125</td>\n",
              "      <td>3.103</td>\n",
              "      <td>8.973</td>\n",
              "      <td>6.584</td>\n",
              "      <td>7.905</td>\n",
              "      <td>5.615</td>\n",
              "      <td>6.198</td>\n",
              "      <td>9.347</td>\n",
              "      <td>4.856</td>\n",
              "      <td>3.456</td>\n",
              "      <td>0.824</td>\n",
              "      <td>5.031</td>\n",
              "      <td>0.730</td>\n",
              "      <td>0.348</td>\n",
              "    </tr>\n",
              "    <tr>\n",
              "      <th>3</th>\n",
              "      <td>105.9</td>\n",
              "      <td>125.2</td>\n",
              "      <td>147.9</td>\n",
              "      <td>37.284</td>\n",
              "      <td>2.925</td>\n",
              "      <td>2.485</td>\n",
              "      <td>0.269</td>\n",
              "      <td>3.779</td>\n",
              "      <td>3.659</td>\n",
              "      <td>3.222</td>\n",
              "      <td>1.251</td>\n",
              "      <td>6.773</td>\n",
              "      <td>5.907</td>\n",
              "      <td>7.233</td>\n",
              "      <td>3.674</td>\n",
              "      <td>7.943</td>\n",
              "      <td>8.049</td>\n",
              "      <td>6.549</td>\n",
              "      <td>6.626</td>\n",
              "      <td>5.373</td>\n",
              "      <td>9.822</td>\n",
              "      <td>4.571</td>\n",
              "      <td>2.820</td>\n",
              "      <td>0.984</td>\n",
              "      <td>3.934</td>\n",
              "      <td>0.504</td>\n",
              "      <td>0.565</td>\n",
              "    </tr>\n",
              "    <tr>\n",
              "      <th>4</th>\n",
              "      <td>94.3</td>\n",
              "      <td>121.4</td>\n",
              "      <td>146.6</td>\n",
              "      <td>40.555</td>\n",
              "      <td>0.042</td>\n",
              "      <td>0.012</td>\n",
              "      <td>0.038</td>\n",
              "      <td>3.451</td>\n",
              "      <td>2.045</td>\n",
              "      <td>5.571</td>\n",
              "      <td>1.019</td>\n",
              "      <td>7.438</td>\n",
              "      <td>5.789</td>\n",
              "      <td>8.007</td>\n",
              "      <td>3.714</td>\n",
              "      <td>8.796</td>\n",
              "      <td>9.102</td>\n",
              "      <td>6.201</td>\n",
              "      <td>7.103</td>\n",
              "      <td>5.461</td>\n",
              "      <td>11.319</td>\n",
              "      <td>4.755</td>\n",
              "      <td>2.905</td>\n",
              "      <td>0.998</td>\n",
              "      <td>4.168</td>\n",
              "      <td>0.708</td>\n",
              "      <td>0.534</td>\n",
              "    </tr>\n",
              "  </tbody>\n",
              "</table>\n",
              "</div>"
            ],
            "text/plain": [
              "     T10    T50    T90     N+A   C5NP  ...    C9A  C10NP  C10IP   C10N   C10A\n",
              "0  103.3  118.9  143.1  36.592  0.002  ...  3.780  0.849  5.160  0.636  0.368\n",
              "1  101.5  123.6  146.9  36.315  1.602  ...  3.510  1.391  6.873  1.145  0.652\n",
              "2  102.5  120.3  145.6  36.283  0.785  ...  3.456  0.824  5.031  0.730  0.348\n",
              "3  105.9  125.2  147.9  37.284  2.925  ...  2.820  0.984  3.934  0.504  0.565\n",
              "4   94.3  121.4  146.6  40.555  0.042  ...  2.905  0.998  4.168  0.708  0.534\n",
              "\n",
              "[5 rows x 27 columns]"
            ]
          },
          "metadata": {
            "tags": []
          },
          "execution_count": 7
        }
      ]
    },
    {
      "cell_type": "markdown",
      "metadata": {
        "id": "EacAyC9_oFLs",
        "colab_type": "text"
      },
      "source": [
        "# model"
      ]
    },
    {
      "cell_type": "code",
      "metadata": {
        "id": "YPjiNSoCKSh-",
        "colab_type": "code",
        "colab": {}
      },
      "source": [
        "base = CatBoostRegressor(learning_rate = 0.1,n_estimators = 100,verbose=0,objective='RMSE')\n",
        "model = MultiOutputRegressor(base)"
      ],
      "execution_count": 0,
      "outputs": []
    },
    {
      "cell_type": "markdown",
      "metadata": {
        "id": "PmDkLAsCoKKK",
        "colab_type": "text"
      },
      "source": [
        "# split and train"
      ]
    },
    {
      "cell_type": "code",
      "metadata": {
        "id": "onBr7a2MMpTa",
        "colab_type": "code",
        "colab": {
          "base_uri": "https://localhost:8080/",
          "height": 71
        },
        "outputId": "2a90bd1a-ee51-4c2d-efee-1fa008c8a617"
      },
      "source": [
        "X = full[features]\n",
        "y = full[y_columns]\n",
        "X_train, X_test, y_train, y_test = train_test_split(X, y, test_size = 170/len(full) ,random_state=42)\n",
        "print(X_test.shape)\n",
        "model.fit(X_train,y_train)"
      ],
      "execution_count": 9,
      "outputs": [
        {
          "output_type": "stream",
          "text": [
            "(170, 4)\n"
          ],
          "name": "stdout"
        },
        {
          "output_type": "execute_result",
          "data": {
            "text/plain": [
              "MultiOutputRegressor(estimator=<catboost.core.CatBoostRegressor object at 0x7f563a209ba8>,\n",
              "                     n_jobs=None)"
            ]
          },
          "metadata": {
            "tags": []
          },
          "execution_count": 9
        }
      ]
    },
    {
      "cell_type": "markdown",
      "metadata": {
        "id": "_F8yFmZ1oNTK",
        "colab_type": "text"
      },
      "source": [
        "# predict and metric"
      ]
    },
    {
      "cell_type": "code",
      "metadata": {
        "id": "ZT-FCh5bNWPu",
        "colab_type": "code",
        "colab": {
          "base_uri": "https://localhost:8080/",
          "height": 544
        },
        "outputId": "79e4e2c6-fe67-454f-cd12-80b3ce9a89ca"
      },
      "source": [
        "y_pred = pd.DataFrame(model.predict(X_test),columns=y_columns,index=y_test.index)\n",
        "res = get_result(y_test,y_pred)\n",
        "res.style.background_gradient()"
      ],
      "execution_count": 10,
      "outputs": [
        {
          "output_type": "execute_result",
          "data": {
            "text/html": [
              "<style  type=\"text/css\" >\n",
              "    #T_70bdfc52_1b08_11ea_9ab0_0242ac1c0002row0_col0 {\n",
              "            background-color:  #023858;\n",
              "            color:  #f1f1f1;\n",
              "        }    #T_70bdfc52_1b08_11ea_9ab0_0242ac1c0002row0_col1 {\n",
              "            background-color:  #b7c5df;\n",
              "            color:  #000000;\n",
              "        }    #T_70bdfc52_1b08_11ea_9ab0_0242ac1c0002row0_col2 {\n",
              "            background-color:  #e2dfee;\n",
              "            color:  #000000;\n",
              "        }    #T_70bdfc52_1b08_11ea_9ab0_0242ac1c0002row1_col0 {\n",
              "            background-color:  #023c5f;\n",
              "            color:  #f1f1f1;\n",
              "        }    #T_70bdfc52_1b08_11ea_9ab0_0242ac1c0002row1_col1 {\n",
              "            background-color:  #d7d6e9;\n",
              "            color:  #000000;\n",
              "        }    #T_70bdfc52_1b08_11ea_9ab0_0242ac1c0002row1_col2 {\n",
              "            background-color:  #dedcec;\n",
              "            color:  #000000;\n",
              "        }    #T_70bdfc52_1b08_11ea_9ab0_0242ac1c0002row2_col0 {\n",
              "            background-color:  #023e62;\n",
              "            color:  #f1f1f1;\n",
              "        }    #T_70bdfc52_1b08_11ea_9ab0_0242ac1c0002row2_col1 {\n",
              "            background-color:  #fff7fb;\n",
              "            color:  #000000;\n",
              "        }    #T_70bdfc52_1b08_11ea_9ab0_0242ac1c0002row2_col2 {\n",
              "            background-color:  #e3e0ee;\n",
              "            color:  #000000;\n",
              "        }    #T_70bdfc52_1b08_11ea_9ab0_0242ac1c0002row3_col0 {\n",
              "            background-color:  #045f95;\n",
              "            color:  #f1f1f1;\n",
              "        }    #T_70bdfc52_1b08_11ea_9ab0_0242ac1c0002row3_col1 {\n",
              "            background-color:  #91b5d6;\n",
              "            color:  #000000;\n",
              "        }    #T_70bdfc52_1b08_11ea_9ab0_0242ac1c0002row3_col2 {\n",
              "            background-color:  #ede8f3;\n",
              "            color:  #000000;\n",
              "        }    #T_70bdfc52_1b08_11ea_9ab0_0242ac1c0002row4_col0 {\n",
              "            background-color:  #034973;\n",
              "            color:  #f1f1f1;\n",
              "        }    #T_70bdfc52_1b08_11ea_9ab0_0242ac1c0002row4_col1 {\n",
              "            background-color:  #a4bcda;\n",
              "            color:  #000000;\n",
              "        }    #T_70bdfc52_1b08_11ea_9ab0_0242ac1c0002row4_col2 {\n",
              "            background-color:  #eee9f3;\n",
              "            color:  #000000;\n",
              "        }    #T_70bdfc52_1b08_11ea_9ab0_0242ac1c0002row5_col0 {\n",
              "            background-color:  #0d75b3;\n",
              "            color:  #f1f1f1;\n",
              "        }    #T_70bdfc52_1b08_11ea_9ab0_0242ac1c0002row5_col1 {\n",
              "            background-color:  #056faf;\n",
              "            color:  #f1f1f1;\n",
              "        }    #T_70bdfc52_1b08_11ea_9ab0_0242ac1c0002row5_col2 {\n",
              "            background-color:  #f2ecf5;\n",
              "            color:  #000000;\n",
              "        }    #T_70bdfc52_1b08_11ea_9ab0_0242ac1c0002row6_col0 {\n",
              "            background-color:  #80aed2;\n",
              "            color:  #000000;\n",
              "        }    #T_70bdfc52_1b08_11ea_9ab0_0242ac1c0002row6_col1 {\n",
              "            background-color:  #d8d7e9;\n",
              "            color:  #000000;\n",
              "        }    #T_70bdfc52_1b08_11ea_9ab0_0242ac1c0002row6_col2 {\n",
              "            background-color:  #d1d2e6;\n",
              "            color:  #000000;\n",
              "        }    #T_70bdfc52_1b08_11ea_9ab0_0242ac1c0002row7_col0 {\n",
              "            background-color:  #03446a;\n",
              "            color:  #f1f1f1;\n",
              "        }    #T_70bdfc52_1b08_11ea_9ab0_0242ac1c0002row7_col1 {\n",
              "            background-color:  #93b5d6;\n",
              "            color:  #000000;\n",
              "        }    #T_70bdfc52_1b08_11ea_9ab0_0242ac1c0002row7_col2 {\n",
              "            background-color:  #fef6fb;\n",
              "            color:  #000000;\n",
              "        }    #T_70bdfc52_1b08_11ea_9ab0_0242ac1c0002row8_col0 {\n",
              "            background-color:  #045c90;\n",
              "            color:  #f1f1f1;\n",
              "        }    #T_70bdfc52_1b08_11ea_9ab0_0242ac1c0002row8_col1 {\n",
              "            background-color:  #69a5cc;\n",
              "            color:  #000000;\n",
              "        }    #T_70bdfc52_1b08_11ea_9ab0_0242ac1c0002row8_col2 {\n",
              "            background-color:  #fbf4f9;\n",
              "            color:  #000000;\n",
              "        }    #T_70bdfc52_1b08_11ea_9ab0_0242ac1c0002row9_col0 {\n",
              "            background-color:  #023a5b;\n",
              "            color:  #f1f1f1;\n",
              "        }    #T_70bdfc52_1b08_11ea_9ab0_0242ac1c0002row9_col1 {\n",
              "            background-color:  #023858;\n",
              "            color:  #f1f1f1;\n",
              "        }    #T_70bdfc52_1b08_11ea_9ab0_0242ac1c0002row9_col2 {\n",
              "            background-color:  #fff7fb;\n",
              "            color:  #000000;\n",
              "        }    #T_70bdfc52_1b08_11ea_9ab0_0242ac1c0002row10_col0 {\n",
              "            background-color:  #2685bb;\n",
              "            color:  #000000;\n",
              "        }    #T_70bdfc52_1b08_11ea_9ab0_0242ac1c0002row10_col1 {\n",
              "            background-color:  #a7bddb;\n",
              "            color:  #000000;\n",
              "        }    #T_70bdfc52_1b08_11ea_9ab0_0242ac1c0002row10_col2 {\n",
              "            background-color:  #fbf4f9;\n",
              "            color:  #000000;\n",
              "        }    #T_70bdfc52_1b08_11ea_9ab0_0242ac1c0002row11_col0 {\n",
              "            background-color:  #034c78;\n",
              "            color:  #f1f1f1;\n",
              "        }    #T_70bdfc52_1b08_11ea_9ab0_0242ac1c0002row11_col1 {\n",
              "            background-color:  #8fb4d6;\n",
              "            color:  #000000;\n",
              "        }    #T_70bdfc52_1b08_11ea_9ab0_0242ac1c0002row11_col2 {\n",
              "            background-color:  #fff7fb;\n",
              "            color:  #000000;\n",
              "        }    #T_70bdfc52_1b08_11ea_9ab0_0242ac1c0002row12_col0 {\n",
              "            background-color:  #67a4cc;\n",
              "            color:  #000000;\n",
              "        }    #T_70bdfc52_1b08_11ea_9ab0_0242ac1c0002row12_col1 {\n",
              "            background-color:  #034b76;\n",
              "            color:  #f1f1f1;\n",
              "        }    #T_70bdfc52_1b08_11ea_9ab0_0242ac1c0002row12_col2 {\n",
              "            background-color:  #faf2f8;\n",
              "            color:  #000000;\n",
              "        }    #T_70bdfc52_1b08_11ea_9ab0_0242ac1c0002row13_col0 {\n",
              "            background-color:  #056dac;\n",
              "            color:  #f1f1f1;\n",
              "        }    #T_70bdfc52_1b08_11ea_9ab0_0242ac1c0002row13_col1 {\n",
              "            background-color:  #045b8e;\n",
              "            color:  #f1f1f1;\n",
              "        }    #T_70bdfc52_1b08_11ea_9ab0_0242ac1c0002row13_col2 {\n",
              "            background-color:  #fbf3f9;\n",
              "            color:  #000000;\n",
              "        }    #T_70bdfc52_1b08_11ea_9ab0_0242ac1c0002row14_col0 {\n",
              "            background-color:  #0a73b2;\n",
              "            color:  #f1f1f1;\n",
              "        }    #T_70bdfc52_1b08_11ea_9ab0_0242ac1c0002row14_col1 {\n",
              "            background-color:  #8fb4d6;\n",
              "            color:  #000000;\n",
              "        }    #T_70bdfc52_1b08_11ea_9ab0_0242ac1c0002row14_col2 {\n",
              "            background-color:  #fcf4fa;\n",
              "            color:  #000000;\n",
              "        }    #T_70bdfc52_1b08_11ea_9ab0_0242ac1c0002row15_col0 {\n",
              "            background-color:  #023e62;\n",
              "            color:  #f1f1f1;\n",
              "        }    #T_70bdfc52_1b08_11ea_9ab0_0242ac1c0002row15_col1 {\n",
              "            background-color:  #cccfe5;\n",
              "            color:  #000000;\n",
              "        }    #T_70bdfc52_1b08_11ea_9ab0_0242ac1c0002row15_col2 {\n",
              "            background-color:  #fcf4fa;\n",
              "            color:  #000000;\n",
              "        }    #T_70bdfc52_1b08_11ea_9ab0_0242ac1c0002row16_col0 {\n",
              "            background-color:  #0566a0;\n",
              "            color:  #f1f1f1;\n",
              "        }    #T_70bdfc52_1b08_11ea_9ab0_0242ac1c0002row16_col1 {\n",
              "            background-color:  #1e80b8;\n",
              "            color:  #000000;\n",
              "        }    #T_70bdfc52_1b08_11ea_9ab0_0242ac1c0002row16_col2 {\n",
              "            background-color:  #fbf4f9;\n",
              "            color:  #000000;\n",
              "        }    #T_70bdfc52_1b08_11ea_9ab0_0242ac1c0002row17_col0 {\n",
              "            background-color:  #bcc7e1;\n",
              "            color:  #000000;\n",
              "        }    #T_70bdfc52_1b08_11ea_9ab0_0242ac1c0002row17_col1 {\n",
              "            background-color:  #2987bc;\n",
              "            color:  #000000;\n",
              "        }    #T_70bdfc52_1b08_11ea_9ab0_0242ac1c0002row17_col2 {\n",
              "            background-color:  #f7f0f7;\n",
              "            color:  #000000;\n",
              "        }    #T_70bdfc52_1b08_11ea_9ab0_0242ac1c0002row18_col0 {\n",
              "            background-color:  #2182b9;\n",
              "            color:  #000000;\n",
              "        }    #T_70bdfc52_1b08_11ea_9ab0_0242ac1c0002row18_col1 {\n",
              "            background-color:  #adc1dd;\n",
              "            color:  #000000;\n",
              "        }    #T_70bdfc52_1b08_11ea_9ab0_0242ac1c0002row18_col2 {\n",
              "            background-color:  #f5eef6;\n",
              "            color:  #000000;\n",
              "        }    #T_70bdfc52_1b08_11ea_9ab0_0242ac1c0002row19_col0 {\n",
              "            background-color:  #b4c4df;\n",
              "            color:  #000000;\n",
              "        }    #T_70bdfc52_1b08_11ea_9ab0_0242ac1c0002row19_col1 {\n",
              "            background-color:  #c9cee4;\n",
              "            color:  #000000;\n",
              "        }    #T_70bdfc52_1b08_11ea_9ab0_0242ac1c0002row19_col2 {\n",
              "            background-color:  #023858;\n",
              "            color:  #f1f1f1;\n",
              "        }    #T_70bdfc52_1b08_11ea_9ab0_0242ac1c0002row20_col0 {\n",
              "            background-color:  #348ebf;\n",
              "            color:  #000000;\n",
              "        }    #T_70bdfc52_1b08_11ea_9ab0_0242ac1c0002row20_col1 {\n",
              "            background-color:  #69a5cc;\n",
              "            color:  #000000;\n",
              "        }    #T_70bdfc52_1b08_11ea_9ab0_0242ac1c0002row20_col2 {\n",
              "            background-color:  #f5eef6;\n",
              "            color:  #000000;\n",
              "        }    #T_70bdfc52_1b08_11ea_9ab0_0242ac1c0002row21_col0 {\n",
              "            background-color:  #fff7fb;\n",
              "            color:  #000000;\n",
              "        }    #T_70bdfc52_1b08_11ea_9ab0_0242ac1c0002row21_col1 {\n",
              "            background-color:  #e5e1ef;\n",
              "            color:  #000000;\n",
              "        }    #T_70bdfc52_1b08_11ea_9ab0_0242ac1c0002row21_col2 {\n",
              "            background-color:  #e0deed;\n",
              "            color:  #000000;\n",
              "        }    #T_70bdfc52_1b08_11ea_9ab0_0242ac1c0002row22_col0 {\n",
              "            background-color:  #86b0d3;\n",
              "            color:  #000000;\n",
              "        }    #T_70bdfc52_1b08_11ea_9ab0_0242ac1c0002row22_col1 {\n",
              "            background-color:  #d6d6e9;\n",
              "            color:  #000000;\n",
              "        }    #T_70bdfc52_1b08_11ea_9ab0_0242ac1c0002row22_col2 {\n",
              "            background-color:  #b0c2de;\n",
              "            color:  #000000;\n",
              "        }    #T_70bdfc52_1b08_11ea_9ab0_0242ac1c0002row23_col0 {\n",
              "            background-color:  #1077b4;\n",
              "            color:  #f1f1f1;\n",
              "        }    #T_70bdfc52_1b08_11ea_9ab0_0242ac1c0002row23_col1 {\n",
              "            background-color:  #86b0d3;\n",
              "            color:  #000000;\n",
              "        }    #T_70bdfc52_1b08_11ea_9ab0_0242ac1c0002row23_col2 {\n",
              "            background-color:  #ebe6f2;\n",
              "            color:  #000000;\n",
              "        }</style><table id=\"T_70bdfc52_1b08_11ea_9ab0_0242ac1c0002\" ><thead>    <tr>        <th class=\"blank level0\" ></th>        <th class=\"col_heading level0 col0\" >R2</th>        <th class=\"col_heading level0 col1\" >RMSE</th>        <th class=\"col_heading level0 col2\" >MAPE</th>    </tr></thead><tbody>\n",
              "                <tr>\n",
              "                        <th id=\"T_70bdfc52_1b08_11ea_9ab0_0242ac1c0002level0_row0\" class=\"row_heading level0 row0\" >C5NP</th>\n",
              "                        <td id=\"T_70bdfc52_1b08_11ea_9ab0_0242ac1c0002row0_col0\" class=\"data row0 col0\" >0.962642</td>\n",
              "                        <td id=\"T_70bdfc52_1b08_11ea_9ab0_0242ac1c0002row0_col1\" class=\"data row0 col1\" >0.285726</td>\n",
              "                        <td id=\"T_70bdfc52_1b08_11ea_9ab0_0242ac1c0002row0_col2\" class=\"data row0 col2\" >0.162576</td>\n",
              "            </tr>\n",
              "            <tr>\n",
              "                        <th id=\"T_70bdfc52_1b08_11ea_9ab0_0242ac1c0002level0_row1\" class=\"row_heading level0 row1\" >C5IP</th>\n",
              "                        <td id=\"T_70bdfc52_1b08_11ea_9ab0_0242ac1c0002row1_col0\" class=\"data row1 col0\" >0.951671</td>\n",
              "                        <td id=\"T_70bdfc52_1b08_11ea_9ab0_0242ac1c0002row1_col1\" class=\"data row1 col1\" >0.204262</td>\n",
              "                        <td id=\"T_70bdfc52_1b08_11ea_9ab0_0242ac1c0002row1_col2\" class=\"data row1 col2\" >0.177954</td>\n",
              "            </tr>\n",
              "            <tr>\n",
              "                        <th id=\"T_70bdfc52_1b08_11ea_9ab0_0242ac1c0002level0_row2\" class=\"row_heading level0 row2\" >C5N</th>\n",
              "                        <td id=\"T_70bdfc52_1b08_11ea_9ab0_0242ac1c0002row2_col0\" class=\"data row2 col0\" >0.947093</td>\n",
              "                        <td id=\"T_70bdfc52_1b08_11ea_9ab0_0242ac1c0002row2_col1\" class=\"data row2 col1\" >0.0324</td>\n",
              "                        <td id=\"T_70bdfc52_1b08_11ea_9ab0_0242ac1c0002row2_col2\" class=\"data row2 col2\" >0.158896</td>\n",
              "            </tr>\n",
              "            <tr>\n",
              "                        <th id=\"T_70bdfc52_1b08_11ea_9ab0_0242ac1c0002level0_row3\" class=\"row_heading level0 row3\" >C6NP</th>\n",
              "                        <td id=\"T_70bdfc52_1b08_11ea_9ab0_0242ac1c0002row3_col0\" class=\"data row3 col0\" >0.870799</td>\n",
              "                        <td id=\"T_70bdfc52_1b08_11ea_9ab0_0242ac1c0002row3_col1\" class=\"data row3 col1\" >0.361632</td>\n",
              "                        <td id=\"T_70bdfc52_1b08_11ea_9ab0_0242ac1c0002row3_col2\" class=\"data row3 col2\" >0.124802</td>\n",
              "            </tr>\n",
              "            <tr>\n",
              "                        <th id=\"T_70bdfc52_1b08_11ea_9ab0_0242ac1c0002level0_row4\" class=\"row_heading level0 row4\" >C6IP</th>\n",
              "                        <td id=\"T_70bdfc52_1b08_11ea_9ab0_0242ac1c0002row4_col0\" class=\"data row4 col0\" >0.923981</td>\n",
              "                        <td id=\"T_70bdfc52_1b08_11ea_9ab0_0242ac1c0002row4_col1\" class=\"data row4 col1\" >0.325318</td>\n",
              "                        <td id=\"T_70bdfc52_1b08_11ea_9ab0_0242ac1c0002row4_col2\" class=\"data row4 col2\" >0.121322</td>\n",
              "            </tr>\n",
              "            <tr>\n",
              "                        <th id=\"T_70bdfc52_1b08_11ea_9ab0_0242ac1c0002level0_row5\" class=\"row_heading level0 row5\" >C6N</th>\n",
              "                        <td id=\"T_70bdfc52_1b08_11ea_9ab0_0242ac1c0002row5_col0\" class=\"data row5 col0\" >0.803266</td>\n",
              "                        <td id=\"T_70bdfc52_1b08_11ea_9ab0_0242ac1c0002row5_col1\" class=\"data row5 col1\" >0.614815</td>\n",
              "                        <td id=\"T_70bdfc52_1b08_11ea_9ab0_0242ac1c0002row5_col2\" class=\"data row5 col2\" >0.0995004</td>\n",
              "            </tr>\n",
              "            <tr>\n",
              "                        <th id=\"T_70bdfc52_1b08_11ea_9ab0_0242ac1c0002level0_row6\" class=\"row_heading level0 row6\" >C6A</th>\n",
              "                        <td id=\"T_70bdfc52_1b08_11ea_9ab0_0242ac1c0002row6_col0\" class=\"data row6 col0\" >0.649764</td>\n",
              "                        <td id=\"T_70bdfc52_1b08_11ea_9ab0_0242ac1c0002row6_col1\" class=\"data row6 col1\" >0.201147</td>\n",
              "                        <td id=\"T_70bdfc52_1b08_11ea_9ab0_0242ac1c0002row6_col2\" class=\"data row6 col2\" >0.220891</td>\n",
              "            </tr>\n",
              "            <tr>\n",
              "                        <th id=\"T_70bdfc52_1b08_11ea_9ab0_0242ac1c0002level0_row7\" class=\"row_heading level0 row7\" >C7NP</th>\n",
              "                        <td id=\"T_70bdfc52_1b08_11ea_9ab0_0242ac1c0002row7_col0\" class=\"data row7 col0\" >0.936729</td>\n",
              "                        <td id=\"T_70bdfc52_1b08_11ea_9ab0_0242ac1c0002row7_col1\" class=\"data row7 col1\" >0.358733</td>\n",
              "                        <td id=\"T_70bdfc52_1b08_11ea_9ab0_0242ac1c0002row7_col2\" class=\"data row7 col2\" >0.0430925</td>\n",
              "            </tr>\n",
              "            <tr>\n",
              "                        <th id=\"T_70bdfc52_1b08_11ea_9ab0_0242ac1c0002level0_row8\" class=\"row_heading level0 row8\" >C7IP</th>\n",
              "                        <td id=\"T_70bdfc52_1b08_11ea_9ab0_0242ac1c0002row8_col0\" class=\"data row8 col0\" >0.881148</td>\n",
              "                        <td id=\"T_70bdfc52_1b08_11ea_9ab0_0242ac1c0002row8_col1\" class=\"data row8 col1\" >0.434929</td>\n",
              "                        <td id=\"T_70bdfc52_1b08_11ea_9ab0_0242ac1c0002row8_col2\" class=\"data row8 col2\" >0.0561273</td>\n",
              "            </tr>\n",
              "            <tr>\n",
              "                        <th id=\"T_70bdfc52_1b08_11ea_9ab0_0242ac1c0002level0_row9\" class=\"row_heading level0 row9\" >C7N</th>\n",
              "                        <td id=\"T_70bdfc52_1b08_11ea_9ab0_0242ac1c0002row9_col0\" class=\"data row9 col0\" >0.957131</td>\n",
              "                        <td id=\"T_70bdfc52_1b08_11ea_9ab0_0242ac1c0002row9_col1\" class=\"data row9 col1\" >0.804994</td>\n",
              "                        <td id=\"T_70bdfc52_1b08_11ea_9ab0_0242ac1c0002row9_col2\" class=\"data row9 col2\" >0.0389311</td>\n",
              "            </tr>\n",
              "            <tr>\n",
              "                        <th id=\"T_70bdfc52_1b08_11ea_9ab0_0242ac1c0002level0_row10\" class=\"row_heading level0 row10\" >C7A</th>\n",
              "                        <td id=\"T_70bdfc52_1b08_11ea_9ab0_0242ac1c0002row10_col0\" class=\"data row10 col0\" >0.764545</td>\n",
              "                        <td id=\"T_70bdfc52_1b08_11ea_9ab0_0242ac1c0002row10_col1\" class=\"data row10 col1\" >0.319442</td>\n",
              "                        <td id=\"T_70bdfc52_1b08_11ea_9ab0_0242ac1c0002row10_col2\" class=\"data row10 col2\" >0.0575767</td>\n",
              "            </tr>\n",
              "            <tr>\n",
              "                        <th id=\"T_70bdfc52_1b08_11ea_9ab0_0242ac1c0002level0_row11\" class=\"row_heading level0 row11\" >C8NP</th>\n",
              "                        <td id=\"T_70bdfc52_1b08_11ea_9ab0_0242ac1c0002row11_col0\" class=\"data row11 col0\" >0.918069</td>\n",
              "                        <td id=\"T_70bdfc52_1b08_11ea_9ab0_0242ac1c0002row11_col1\" class=\"data row11 col1\" >0.364973</td>\n",
              "                        <td id=\"T_70bdfc52_1b08_11ea_9ab0_0242ac1c0002row11_col2\" class=\"data row11 col2\" >0.041152</td>\n",
              "            </tr>\n",
              "            <tr>\n",
              "                        <th id=\"T_70bdfc52_1b08_11ea_9ab0_0242ac1c0002level0_row12\" class=\"row_heading level0 row12\" >C8IP</th>\n",
              "                        <td id=\"T_70bdfc52_1b08_11ea_9ab0_0242ac1c0002row12_col0\" class=\"data row12 col0\" >0.681431</td>\n",
              "                        <td id=\"T_70bdfc52_1b08_11ea_9ab0_0242ac1c0002row12_col1\" class=\"data row12 col1\" >0.747707</td>\n",
              "                        <td id=\"T_70bdfc52_1b08_11ea_9ab0_0242ac1c0002row12_col2\" class=\"data row12 col2\" >0.0673945</td>\n",
              "            </tr>\n",
              "            <tr>\n",
              "                        <th id=\"T_70bdfc52_1b08_11ea_9ab0_0242ac1c0002level0_row13\" class=\"row_heading level0 row13\" >C8N</th>\n",
              "                        <td id=\"T_70bdfc52_1b08_11ea_9ab0_0242ac1c0002row13_col0\" class=\"data row13 col0\" >0.823711</td>\n",
              "                        <td id=\"T_70bdfc52_1b08_11ea_9ab0_0242ac1c0002row13_col1\" class=\"data row13 col1\" >0.703359</td>\n",
              "                        <td id=\"T_70bdfc52_1b08_11ea_9ab0_0242ac1c0002row13_col2\" class=\"data row13 col2\" >0.0599646</td>\n",
              "            </tr>\n",
              "            <tr>\n",
              "                        <th id=\"T_70bdfc52_1b08_11ea_9ab0_0242ac1c0002level0_row14\" class=\"row_heading level0 row14\" >C8A</th>\n",
              "                        <td id=\"T_70bdfc52_1b08_11ea_9ab0_0242ac1c0002row14_col0\" class=\"data row14 col0\" >0.80771</td>\n",
              "                        <td id=\"T_70bdfc52_1b08_11ea_9ab0_0242ac1c0002row14_col1\" class=\"data row14 col1\" >0.364554</td>\n",
              "                        <td id=\"T_70bdfc52_1b08_11ea_9ab0_0242ac1c0002row14_col2\" class=\"data row14 col2\" >0.053695</td>\n",
              "            </tr>\n",
              "            <tr>\n",
              "                        <th id=\"T_70bdfc52_1b08_11ea_9ab0_0242ac1c0002level0_row15\" class=\"row_heading level0 row15\" >C9NP</th>\n",
              "                        <td id=\"T_70bdfc52_1b08_11ea_9ab0_0242ac1c0002row15_col0\" class=\"data row15 col0\" >0.946501</td>\n",
              "                        <td id=\"T_70bdfc52_1b08_11ea_9ab0_0242ac1c0002row15_col1\" class=\"data row15 col1\" >0.23473</td>\n",
              "                        <td id=\"T_70bdfc52_1b08_11ea_9ab0_0242ac1c0002row15_col2\" class=\"data row15 col2\" >0.0541901</td>\n",
              "            </tr>\n",
              "            <tr>\n",
              "                        <th id=\"T_70bdfc52_1b08_11ea_9ab0_0242ac1c0002level0_row16\" class=\"row_heading level0 row16\" >C9IP</th>\n",
              "                        <td id=\"T_70bdfc52_1b08_11ea_9ab0_0242ac1c0002row16_col0\" class=\"data row16 col0\" >0.847393</td>\n",
              "                        <td id=\"T_70bdfc52_1b08_11ea_9ab0_0242ac1c0002row16_col1\" class=\"data row16 col1\" >0.560544</td>\n",
              "                        <td id=\"T_70bdfc52_1b08_11ea_9ab0_0242ac1c0002row16_col2\" class=\"data row16 col2\" >0.0566447</td>\n",
              "            </tr>\n",
              "            <tr>\n",
              "                        <th id=\"T_70bdfc52_1b08_11ea_9ab0_0242ac1c0002level0_row17\" class=\"row_heading level0 row17\" >C9N</th>\n",
              "                        <td id=\"T_70bdfc52_1b08_11ea_9ab0_0242ac1c0002row17_col0\" class=\"data row17 col0\" >0.556179</td>\n",
              "                        <td id=\"T_70bdfc52_1b08_11ea_9ab0_0242ac1c0002row17_col1\" class=\"data row17 col1\" >0.539842</td>\n",
              "                        <td id=\"T_70bdfc52_1b08_11ea_9ab0_0242ac1c0002row17_col2\" class=\"data row17 col2\" >0.0770482</td>\n",
              "            </tr>\n",
              "            <tr>\n",
              "                        <th id=\"T_70bdfc52_1b08_11ea_9ab0_0242ac1c0002level0_row18\" class=\"row_heading level0 row18\" >C9A</th>\n",
              "                        <td id=\"T_70bdfc52_1b08_11ea_9ab0_0242ac1c0002row18_col0\" class=\"data row18 col0\" >0.771711</td>\n",
              "                        <td id=\"T_70bdfc52_1b08_11ea_9ab0_0242ac1c0002row18_col1\" class=\"data row18 col1\" >0.30426</td>\n",
              "                        <td id=\"T_70bdfc52_1b08_11ea_9ab0_0242ac1c0002row18_col2\" class=\"data row18 col2\" >0.0897675</td>\n",
              "            </tr>\n",
              "            <tr>\n",
              "                        <th id=\"T_70bdfc52_1b08_11ea_9ab0_0242ac1c0002level0_row19\" class=\"row_heading level0 row19\" >C10NP</th>\n",
              "                        <td id=\"T_70bdfc52_1b08_11ea_9ab0_0242ac1c0002row19_col0\" class=\"data row19 col0\" >0.570243</td>\n",
              "                        <td id=\"T_70bdfc52_1b08_11ea_9ab0_0242ac1c0002row19_col1\" class=\"data row19 col1\" >0.240947</td>\n",
              "                        <td id=\"T_70bdfc52_1b08_11ea_9ab0_0242ac1c0002row19_col2\" class=\"data row19 col2\" >0.768441</td>\n",
              "            </tr>\n",
              "            <tr>\n",
              "                        <th id=\"T_70bdfc52_1b08_11ea_9ab0_0242ac1c0002level0_row20\" class=\"row_heading level0 row20\" >C10IP</th>\n",
              "                        <td id=\"T_70bdfc52_1b08_11ea_9ab0_0242ac1c0002row20_col0\" class=\"data row20 col0\" >0.744427</td>\n",
              "                        <td id=\"T_70bdfc52_1b08_11ea_9ab0_0242ac1c0002row20_col1\" class=\"data row20 col1\" >0.4359</td>\n",
              "                        <td id=\"T_70bdfc52_1b08_11ea_9ab0_0242ac1c0002row20_col2\" class=\"data row20 col2\" >0.0883478</td>\n",
              "            </tr>\n",
              "            <tr>\n",
              "                        <th id=\"T_70bdfc52_1b08_11ea_9ab0_0242ac1c0002level0_row21\" class=\"row_heading level0 row21\" >C10N</th>\n",
              "                        <td id=\"T_70bdfc52_1b08_11ea_9ab0_0242ac1c0002row21_col0\" class=\"data row21 col0\" >0.37192</td>\n",
              "                        <td id=\"T_70bdfc52_1b08_11ea_9ab0_0242ac1c0002row21_col1\" class=\"data row21 col1\" >0.155612</td>\n",
              "                        <td id=\"T_70bdfc52_1b08_11ea_9ab0_0242ac1c0002row21_col2\" class=\"data row21 col2\" >0.168924</td>\n",
              "            </tr>\n",
              "            <tr>\n",
              "                        <th id=\"T_70bdfc52_1b08_11ea_9ab0_0242ac1c0002level0_row22\" class=\"row_heading level0 row22\" >C10A</th>\n",
              "                        <td id=\"T_70bdfc52_1b08_11ea_9ab0_0242ac1c0002row22_col0\" class=\"data row22 col0\" >0.640328</td>\n",
              "                        <td id=\"T_70bdfc52_1b08_11ea_9ab0_0242ac1c0002row22_col1\" class=\"data row22 col1\" >0.20578</td>\n",
              "                        <td id=\"T_70bdfc52_1b08_11ea_9ab0_0242ac1c0002row22_col2\" class=\"data row22 col2\" >0.291702</td>\n",
              "            </tr>\n",
              "            <tr>\n",
              "                        <th id=\"T_70bdfc52_1b08_11ea_9ab0_0242ac1c0002level0_row23\" class=\"row_heading level0 row23\" >AVG</th>\n",
              "                        <td id=\"T_70bdfc52_1b08_11ea_9ab0_0242ac1c0002row23_col0\" class=\"data row23 col0\" >0.796887</td>\n",
              "                        <td id=\"T_70bdfc52_1b08_11ea_9ab0_0242ac1c0002row23_col1\" class=\"data row23 col1\" >0.382679</td>\n",
              "                        <td id=\"T_70bdfc52_1b08_11ea_9ab0_0242ac1c0002row23_col2\" class=\"data row23 col2\" >0.133867</td>\n",
              "            </tr>\n",
              "    </tbody></table>"
            ],
            "text/plain": [
              "<pandas.io.formats.style.Styler at 0x7f563a209400>"
            ]
          },
          "metadata": {
            "tags": []
          },
          "execution_count": 10
        }
      ]
    },
    {
      "cell_type": "markdown",
      "metadata": {
        "id": "AxZiClHwoQFX",
        "colab_type": "text"
      },
      "source": [
        "# count loss"
      ]
    },
    {
      "cell_type": "code",
      "metadata": {
        "id": "53kw2CJqe9yR",
        "colab_type": "code",
        "colab": {}
      },
      "source": [
        "loss = np.sqrt(np.square(y_test-y_pred))"
      ],
      "execution_count": 0,
      "outputs": []
    },
    {
      "cell_type": "markdown",
      "metadata": {
        "id": "hN86i3EeoRuq",
        "colab_type": "text"
      },
      "source": [
        "# plot loss"
      ]
    },
    {
      "cell_type": "code",
      "metadata": {
        "id": "antEhcGxQQsT",
        "colab_type": "code",
        "colab": {
          "base_uri": "https://localhost:8080/",
          "height": 617
        },
        "outputId": "003859e3-f8be-480d-d9a4-0fcbe2ee298b"
      },
      "source": [
        "y_name = 'C7N'\n",
        "plot_data = X_test\n",
        "plot_data[y_name] = y_test[y_name]\n",
        "plot_data[y_name+'_pred'] = y_pred[y_name]\n",
        "plot_data['loss'] = loss[y_name]\n",
        "plot_data['index'] = X_test.index\n",
        "fig = px.scatter(plot_data, x = y_name , y = \"loss\" ,color = \"loss\",size = \"loss\",hover_data=plot_data.columns)\n",
        "fig.show()"
      ],
      "execution_count": 12,
      "outputs": [
        {
          "output_type": "display_data",
          "data": {
            "text/html": [
              "<html>\n",
              "<head><meta charset=\"utf-8\" /></head>\n",
              "<body>\n",
              "    <div>\n",
              "            <script src=\"https://cdnjs.cloudflare.com/ajax/libs/mathjax/2.7.5/MathJax.js?config=TeX-AMS-MML_SVG\"></script><script type=\"text/javascript\">if (window.MathJax) {MathJax.Hub.Config({SVG: {font: \"STIX-Web\"}});}</script>\n",
              "                <script type=\"text/javascript\">window.PlotlyConfig = {MathJaxConfig: 'local'};</script>\n",
              "        <script src=\"https://cdn.plot.ly/plotly-latest.min.js\"></script>    \n",
              "            <div id=\"8b153814-8685-4ad9-ad94-2d1c52d2848f\" class=\"plotly-graph-div\" style=\"height:600px; width:100%;\"></div>\n",
              "            <script type=\"text/javascript\">\n",
              "                \n",
              "                    window.PLOTLYENV=window.PLOTLYENV || {};\n",
              "                    \n",
              "                if (document.getElementById(\"8b153814-8685-4ad9-ad94-2d1c52d2848f\")) {\n",
              "                    Plotly.newPlot(\n",
              "                        '8b153814-8685-4ad9-ad94-2d1c52d2848f',\n",
              "                        [{\"customdata\": [[102.4, 114.7, 143.8, 53.702, 20.472, 19.375358938494507, 1.096641061505494, 282.0], [96.7, 117.4, 152.2, 50.65600000000001, 13.87, 14.808051254981923, 0.9380512549819233, 479.0], [94.7, 115.7, 143.8, 53.095, 16.088, 15.993471673451328, 0.09452832654867294, 1064.0], [95.8, 116.9, 144.0, 48.54299999999999, 14.078, 14.046203742861103, 0.03179625713889678, 1255.0], [78.7, 105.9, 137.2, 44.46100000000001, 13.68, 13.37340308790602, 0.30659691209397977, 507.0], [91.1, 112.3, 145.9, 48.487, 17.21, 16.03376058231111, 1.1762394176888904, 495.0], [84.8, 107.7, 141.7, 50.556999999999995, 18.905, 18.077198446621125, 0.8278015533788761, 416.0], [94.2, 112.4, 142.1, 50.102, 16.2, 16.70831279973956, 0.50831279973956, 2011.0], [94.5, 115.2, 141.4, 50.975, 15.458, 15.372400426003292, 0.08559957399670814, 1071.0], [89.8, 110.9, 145.1, 52.486000000000004, 17.250999999999998, 18.39639569456651, 1.1453956945665134, 1151.0], [96.7, 117.3, 144.0, 50.098, 14.057, 14.500927923047994, 0.443927923047994, 1988.0], [106.5, 121.8, 147.1, 39.96, 7.977, 8.772959750409504, 0.7959597504095033, 96.0], [100.2, 117.5, 145.2, 39.19, 10.313, 9.861275349111029, 0.4517246508889716, 585.0], [97.3, 116.8, 143.9, 52.459, 15.377, 15.50909783532539, 0.1320978353253892, 1946.0], [100.8, 118.2, 146.8, 37.991, 9.648, 8.975554772335295, 0.6724452276647046, 590.0], [87.4, 111.9, 145.1, 46.39300000000001, 14.387, 13.674360082543465, 0.712639917456535, 1720.0], [98.4, 115.7, 145.0, 50.7394, 16.012999999999998, 15.909207249207249, 0.10379275079274919, 552.0], [75.3, 101.1, 136.2, 46.063, 14.639, 14.647827271204422, 0.008827271204422615, 254.0], [93.3, 107.0, 132.7, 55.533140688992574, 26.15673949287078, 22.092402055286392, 4.064337437584388, 2105.0], [91.5, 112.5, 145.9, 52.403, 17.316, 17.72106619212888, 0.4050661921288814, 746.0], [89.5, 111.2, 144.2, 52.62300000000001, 17.178, 18.45300033294882, 1.2750003329488209, 1128.0], [84.7, 108.6, 134.2, 41.88399999999999, 11.952, 11.634106443374511, 0.31789355662548857, 387.0], [94.0, 113.1, 145.6, 53.47599999999999, 18.159, 17.90019472192095, 0.2588052780790484, 721.0], [97.9, 117.5, 144.4, 36.378, 8.558, 7.868046551018646, 0.6899534489813535, 29.0], [91.9, 110.9, 136.7, 40.424, 11.179, 11.200234322725956, 0.021234322725955934, 368.0], [75.3, 111.6, 151.1, 40.916, 11.857, 11.519327659834374, 0.337672340165625, 865.0], [95.1, 114.5, 139.9, 52.61600000000001, 16.512, 16.0280498310265, 0.4839501689735002, 1910.0], [90.2, 109.6, 140.3, 50.45199999999999, 19.923, 18.15307843123938, 1.7699215687606191, 519.0], [102.9, 119.5, 146.3, 36.899, 8.632, 8.269263885532315, 0.36273611446768506, 111.0], [95.7, 111.7, 139.7, 59.699442514341115, 22.263068594974555, 23.59059858002236, 1.3275299850478035, 2176.0], [94.4, 117.2, 152.5, 51.102, 15.268, 14.91185846533629, 0.35614153466371157, 486.0], [75.0, 100.5, 136.4, 48.898, 17.973, 17.375614335930983, 0.5973856640690158, 240.0], [94.9, 116.7, 149.5, 48.977, 14.419, 14.083916494449962, 0.3350835055500383, 808.0], [86.9, 113.6, 145.8, 48.854, 14.942, 14.897890676895301, 0.04410932310469917, 859.0], [90.5, 115.7, 147.0, 38.814, 8.798, 9.27864298853538, 0.48064298853537935, 134.0], [96.8, 118.0, 146.9, 48.365, 14.14, 14.068240292598034, 0.07175970740196647, 1641.0], [97.1, 112.7, 144.3, 57.614, 22.072, 21.725763371661863, 0.3462366283381364, 841.0], [99.0, 112.6, 137.1, 56.953, 21.548, 21.90917099758721, 0.3611709975872124, 73.0], [94.0, 114.7, 141.8, 49.084, 15.115, 14.809242064526856, 0.3057579354731441, 1814.0], [89.9, 113.5, 144.6, 42.901, 12.698, 11.522036023735083, 1.1759639762649172, 1731.0], [81.0, 113.6, 152.8, 41.67699999999999, 10.976, 11.29694907982319, 0.32094907982318865, 1242.0], [101.2, 118.0, 144.4, 39.364000000000004, 10.49, 10.06453141727162, 0.42546858272837973, 829.0], [94.2, 114.6, 143.5, 49.918000000000006, 15.249, 15.27754035749549, 0.028540357495488777, 1112.0], [83.8, 108.7, 142.1, 50.312, 18.22, 17.6970423495152, 0.5229576504847984, 819.0], [95.9, 114.3, 139.5, 46.359, 14.245, 13.601137299464998, 0.643862700535001, 1541.0], [88.4, 115.0, 146.7, 49.17800000000001, 14.58, 14.503676686404733, 0.07632331359526745, 907.0], [77.0, 111.3, 148.6, 37.122, 9.341, 9.614341142148746, 0.2733411421487464, 383.0], [85.8, 106.2, 145.4, 54.457, 18.861, 19.758771847395234, 0.8977718473952336, 1189.0], [92.9, 113.7, 139.3, 52.398, 15.75, 16.74002690797647, 0.9900269079764712, 1780.0], [94.6, 113.9, 147.1, 50.63800000000001, 15.862, 16.421995539129053, 0.5599955391290532, 1110.0], [99.8, 120.3, 146.7, 38.527, 8.899, 8.71328360960047, 0.18571639039952892, 2050.0], [101.0, 112.2, 143.5, 56.06800000000001, 21.968000000000004, 22.366187456224303, 0.3981874562242993, 637.0], [94.1, 114.6, 141.0, 51.972, 15.45, 15.677067540012684, 0.22706754001268514, 1785.0], [97.0, 116.2, 142.6, 49.699, 15.216, 14.743468379491121, 0.4725316205088781, 1284.0], [90.1, 107.6, 136.4, 56.38800000000001, 23.5, 22.24062511425117, 1.25937488574883, 231.0], [95.2, 113.7, 139.0, 48.53100000000001, 15.269, 15.291603161784684, 0.02260316178468358, 1542.0], [92.9, 114.8, 143.1, 45.447, 13.403, 13.048065322960609, 0.35493467703939174, 1221.0], [95.0, 115.8, 143.1, 49.137, 14.253, 14.58847224586984, 0.33547224586983937, 1290.0], [106.4, 120.8, 144.5, 37.224, 8.72, 8.183648418937919, 0.5363515810620818, 1536.0], [97.3, 118.8, 147.8, 47.790000000000006, 13.727, 13.53782026146349, 0.1891797385365095, 1646.0], [102.4, 116.0, 144.4, 48.499, 16.570999999999998, 16.38539277289008, 0.1856072271099194, 307.0], [106.4, 122.2, 148.8, 38.063, 8.581, 7.945092633776983, 0.6359073662230168, 100.0], [81.9, 112.0, 148.8, 41.434, 12.039, 11.577077676808738, 0.4619223231912617, 432.0], [76.0, 103.1, 138.8, 48.703, 17.204, 17.174335465197384, 0.02966453480261677, 233.0], [92.0, 111.8, 137.8, 40.237, 10.869000000000002, 11.178793137056152, 0.3097931370561504, 367.0], [87.7, 113.5, 146.3, 47.682, 14.718, 14.608240929623129, 0.10975907037687094, 1043.0], [76.0, 101.3, 139.1, 46.49099999999999, 15.027, 14.445233757175528, 0.5817662428244716, 259.0], [94.6, 113.2, 146.4, 53.638999999999996, 19.458, 18.553235160642195, 0.9047648393578029, 705.0], [93.9, 114.4, 142.2, 52.817, 15.897, 16.463467681856947, 0.5664676818569472, 1790.0], [95.8, 115.0, 141.9, 51.648, 15.684, 15.888977071210455, 0.20497707121045572, 1919.0], [99.8, 117.8, 143.5, 36.417, 7.033, 8.165391184613192, 1.1323911846131915, 990.0], [96.4, 116.7, 146.3, 51.334, 15.3, 15.293174727697508, 0.006825272302492635, 1029.0], [89.4, 105.2, 134.9, 61.205237005755045, 24.73164881018373, 25.062267528499383, 0.3306187183156517, 2178.0], [93.0, 114.6, 145.0, 49.64700000000001, 15.33, 15.193609536133952, 0.13639046386604825, 1114.0], [101.0, 112.3, 144.3, 55.675, 21.55, 21.99372439620314, 0.44372439620314097, 636.0], [96.7, 117.5, 145.9, 49.612, 14.545, 14.40219743963489, 0.1428025603651104, 1251.0], [80.2, 113.0, 145.7, 36.118, 7.961, 8.23377849882479, 0.2727784988247901, 188.0], [104.0, 121.0, 150.5, 36.18600000000001, 8.306000000000001, 7.623913179322819, 0.6820868206771822, 109.0], [92.3, 110.3, 135.8, 40.285, 10.447, 10.992371136628945, 0.5453711366289458, 353.0], [99.1, 116.8, 142.9, 42.129, 11.353, 11.130005178718529, 0.2229948212814712, 1566.0], [101.5, 117.8, 144.2, 38.605, 9.944, 9.655163626758604, 0.28883637324139677, 582.0], [107.4, 119.7, 143.8, 48.83926883438834, 14.320318621054854, 15.402970094958748, 1.0826514739038942, 2149.0], [92.0, 112.0, 145.6, 53.748999999999995, 20.81, 19.182089631594636, 1.627910368405363, 1706.0], [100.4, 119.4, 144.9, 39.899, 9.728, 9.720527575047452, 0.00747242495254774, 1460.0], [94.2, 113.0, 146.1, 51.889429037274255, 19.877608296359874, 17.43757411472632, 2.4400341816335533, 2112.0], [95.3, 115.5, 143.5, 45.935, 13.717, 13.09293260843696, 0.6240673915630399, 1967.0], [82.0, 108.5, 141.7, 42.306, 13.668, 11.737748041912623, 1.9302519580873767, 409.0], [96.4, 112.7, 140.1, 57.625, 21.121, 21.788134397204786, 0.6671343972047872, 70.0], [101.8, 115.0, 145.1, 51.611000000000004, 17.208, 18.627943402495834, 1.4199434024958357, 610.0], [75.6, 106.4, 146.1, 40.643, 12.912, 11.623989012456612, 1.2880109875433892, 406.0], [75.4, 109.3, 144.0, 37.955, 8.465, 9.711706736694298, 1.246706736694298, 184.0], [93.4, 115.3, 144.4, 51.372, 15.883, 15.660457617640388, 0.22254238235961132, 973.0], [95.0, 114.8, 144.9, 45.29, 12.724, 12.692523828819471, 0.03147617118052892, 1370.0], [96.5, 112.5, 139.3, 50.063, 15.907, 16.655082713732178, 0.7480827137321775, 1073.0], [88.9, 107.3, 140.9, 54.03758111083084, 23.915276148910646, 19.730806506806175, 4.184469642104471, 2102.0], [89.2, 110.5, 140.9, 46.849, 15.032, 14.74438524243696, 0.28761475756303945, 2022.0], [102.2, 114.9, 140.2, 50.328, 18.021, 17.564099528140567, 0.4569004718594343, 297.0], [96.5, 117.8, 142.3, 49.749, 13.99, 14.284302606245156, 0.2943026062451555, 1994.0], [101.8, 113.3, 140.7, 55.056, 21.509, 21.325973883342044, 0.1830261166579561, 281.0], [94.2, 115.4, 143.3, 53.19600000000001, 15.841, 16.135785566977397, 0.29478556697739755, 999.0], [89.3, 107.8, 133.9, 49.83, 15.884, 17.22415109849815, 1.3401510984981506, 67.0], [93.3, 116.2, 151.7, 52.46600000000001, 15.86, 15.678264515546044, 0.18173548445395582, 485.0], [94.1, 114.5, 140.9, 52.463, 15.947, 15.857820799219617, 0.08917920078038222, 1804.0], [95.4, 114.3, 141.9, 47.909, 15.419, 14.856478198080975, 0.5625218019190257, 1480.0], [97.0, 118.4, 149.8, 48.271, 14.13, 13.609329183372834, 0.5206708166271667, 1639.0], [101.4, 112.5, 144.4, 58.712487198754474, 22.960371000602628, 23.47223172677875, 0.5118607261761241, 2110.0], [92.6, 113.7, 147.0, 52.863, 16.887, 17.53419710272203, 0.6471971027220285, 450.0], [95.9, 117.7, 146.2, 48.04299999999999, 14.081, 13.731698598268077, 0.3493014017319229, 1642.0], [94.1, 114.8, 146.3, 51.791, 16.396, 16.012946804552303, 0.38305319544769745, 772.0], [102.1, 114.1, 142.8, 53.16, 20.251, 19.746288364640645, 0.5047116353593566, 303.0], [100.6, 117.5, 144.3, 37.852, 9.711, 9.200707362628126, 0.5102926373718741, 588.0], [93.4, 115.2, 143.7, 51.226000000000006, 15.811, 15.702928451029422, 0.10807154897057814, 994.0], [85.7, 107.0, 137.7, 50.90000000000001, 19.66, 18.612177720843714, 1.0478222791562857, 410.0], [78.1, 111.1, 147.3, 36.302, 8.842, 9.217165263333735, 0.37516526333373434, 196.0], [93.8, 114.9, 143.0, 51.917, 15.507, 15.91575060885037, 0.4087506088503705, 1809.0], [97.7, 115.2, 143.9, 50.532, 16.849, 15.74405523261765, 1.1049447673823494, 1965.0], [93.6, 116.1, 142.8, 44.944, 12.803, 12.202771604412183, 0.600228395587818, 1670.0], [95.0, 117.0, 145.8, 50.609, 14.477, 14.8162513582774, 0.3392513582773997, 2000.0], [96.4, 115.8, 145.5, 39.119, 9.948, 9.808927197666254, 0.13907280233374664, 1405.0], [94.3, 115.7, 146.3, 40.093, 10.348, 10.271363183318869, 0.0766368166811322, 1381.0], [106.3, 121.3, 146.3, 36.598, 7.851, 7.9366011420426545, 0.08560114204265457, 168.0], [96.9, 117.7, 145.7, 47.201, 13.550999999999998, 13.266182963986733, 0.2848170360132656, 1261.0], [85.7, 115.0, 150.7, 46.261, 13.11, 12.523130712821478, 0.586869287178521, 874.0], [79.4, 109.2, 143.0, 39.339, 9.835, 10.72158575659065, 0.8865857565906499, 211.0], [97.5, 117.0, 142.7, 55.80725599440205, 17.285345370445945, 17.207609103506076, 0.07773626693986913, 2170.0], [96.5, 115.3, 142.1, 52.79399999999999, 15.648, 16.00694653048428, 0.3589465304842818, 1854.0], [95.4, 117.1, 144.3, 50.32, 14.287, 14.609409756634857, 0.3224097566348565, 1999.0], [102.3, 115.0, 141.7, 50.011, 17.852, 17.42796258863611, 0.4240374113638907, 306.0], [90.1, 112.6, 145.8, 47.87999999999999, 15.667, 15.198853397960372, 0.4681466020396279, 1618.0], [95.9, 115.3, 142.0, 52.097, 15.232, 15.800664044297626, 0.568664044297627, 1318.0], [94.0, 116.0, 146.6, 49.76900000000001, 15.15, 14.653484699335856, 0.49651530066414473, 1871.0], [71.6, 107.9, 150.5, 37.90600000000001, 10.061, 10.295610288628275, 0.23461028862827504, 382.0], [94.5, 115.5, 144.4, 51.38399999999999, 15.872, 15.73431502214473, 0.13768497785527067, 974.0], [95.2, 116.0, 142.5, 49.891999999999996, 14.338, 14.769260594262223, 0.4312605942622234, 1931.0], [91.1, 112.2, 146.0, 51.682, 18.111, 17.616063929687815, 0.49493607031218545, 695.0], [101.0, 119.3, 147.0, 40.118, 9.604, 9.53793071192895, 0.0660692880710485, 135.0], [87.3, 108.1, 141.1, 51.74, 18.332, 18.338127495034353, 0.006127495034352393, 1075.0], [83.3, 113.7, 148.2, 45.74500000000001, 12.209, 12.931679141521622, 0.7226791415216223, 1018.0], [97.3, 119.3, 146.1, 45.113, 11.347, 11.575325250752003, 0.22832525075200394, 1990.0], [105.4, 120.7, 144.0, 40.39, 9.641, 9.383581179396819, 0.25741882060318133, 1501.0], [96.2, 116.1, 143.8, 42.375, 12.338, 11.298689373361618, 1.0393106266383807, 831.0], [101.8, 119.0, 145.7, 37.705, 9.285, 8.874475702127421, 0.4105242978725787, 1491.0], [97.2, 115.8, 140.3, 52.192, 15.114, 15.562182012819942, 0.44818201281994163, 1138.0], [89.9, 114.0, 146.2, 43.036, 12.74, 11.367538589575174, 1.372461410424826, 1732.0], [103.6, 116.3, 144.0, 49.053, 16.898, 16.48327961273586, 0.41472038726413984, 275.0], [93.8, 114.7, 144.4, 50.681000000000004, 15.833, 15.523066282338634, 0.3099337176613659, 798.0], [102.1, 119.6, 147.0, 36.668, 8.267999999999999, 8.005937559072082, 0.26206244092791664, 128.0], [90.1, 112.8, 145.6, 44.15, 12.841, 12.953576176799192, 0.11257617679919285, 1196.0], [104.0, 120.1, 147.2, 38.586, 9.589, 8.43788927224886, 1.1511107277511403, 767.0], [103.2, 121.1, 145.6, 37.155, 8.49, 8.157036147544668, 0.33296385245533244, 1824.0], [94.8, 116.3, 143.4, 49.718, 14.986, 14.579161572802295, 0.40683842719770524, 1211.0], [99.5, 114.3, 142.8, 51.678, 18.22, 17.84710204641659, 0.3728979535834078, 535.0], [102.0, 118.9, 146.5, 38.339, 9.268, 8.851526492818664, 0.4164735071813368, 51.0], [79.9, 103.4, 139.5, 47.92600000000001, 15.974, 16.15800047529517, 0.18400047529517138, 471.0], [101.5, 113.8, 142.9, 53.643, 20.486, 20.358072536393692, 0.12792746360630858, 299.0], [94.3, 112.9, 140.8, 50.48, 17.191, 16.677296930016936, 0.5137030699830625, 1464.0], [87.2, 118.2, 148.0, 46.597, 10.324000000000002, 11.186968473955389, 0.8629684739553873, 361.0], [96.1, 113.8, 140.4, 51.533, 17.274, 16.619231506468914, 0.6547684935310869, 1963.0], [69.7, 106.6, 144.4, 38.816, 10.751, 10.243268957929578, 0.5077310420704215, 925.0], [95.3, 114.0, 139.0, 53.631, 16.659000000000002, 17.153065145580893, 0.49406514558089043, 1907.0], [95.8, 115.4, 141.8, 53.226410292966825, 17.609916769415506, 16.057161307375463, 1.552755462040043, 2166.0], [91.2, 114.1, 144.9, 45.992, 14.29, 13.569810508240591, 0.7201894917594078, 1672.0], [83.2, 108.7, 141.7, 47.7, 15.42, 15.769559069838763, 0.3495590698387634, 514.0], [80.4, 113.9, 153.2, 42.235, 11.29, 11.444823860166245, 0.15482386016624616, 1226.0], [94.5, 116.5, 143.2, 46.523, 12.728, 12.925660043127083, 0.19766004312708318, 1302.0], [95.3, 116.5, 149.3, 48.44500000000001, 14.521, 14.188802053472752, 0.33219794652724843, 807.0], [92.4, 113.7, 143.4, 45.923, 13.515, 13.766643835181918, 0.2516438351819179, 2018.0], [103.7, 121.4, 151.3, 36.20099999999999, 8.228, 7.587820722726456, 0.6401792772735435, 538.0], [99.3, 117.3, 145.5, 39.855, 12.28, 10.31360668030987, 1.9663933196901286, 1694.0], [86.3, 105.9, 140.9, 55.283, 19.768, 20.6786952273958, 0.9106952273957987, 1190.0]], \"hoverlabel\": {\"namelength\": 0}, \"hovertemplate\": \"C7N=%{customdata[4]}<br>loss=%{marker.color}<br>T10=%{customdata[0]}<br>T50=%{customdata[1]}<br>T90=%{customdata[2]}<br>N+A=%{customdata[3]}<br>C7N_pred=%{customdata[5]}<br>index=%{customdata[7]}\", \"legendgroup\": \"\", \"marker\": {\"color\": [1.096641061505494, 0.9380512549819233, 0.09452832654867294, 0.03179625713889678, 0.30659691209397977, 1.1762394176888904, 0.8278015533788761, 0.50831279973956, 0.08559957399670814, 1.1453956945665134, 0.443927923047994, 0.7959597504095033, 0.4517246508889716, 0.1320978353253892, 0.6724452276647046, 0.712639917456535, 0.10379275079274919, 0.008827271204422615, 4.064337437584388, 0.4050661921288814, 1.2750003329488209, 0.31789355662548857, 0.2588052780790484, 0.6899534489813535, 0.021234322725955934, 0.337672340165625, 0.4839501689735002, 1.7699215687606191, 0.36273611446768506, 1.3275299850478035, 0.35614153466371157, 0.5973856640690158, 0.3350835055500383, 0.04410932310469917, 0.48064298853537935, 0.07175970740196647, 0.3462366283381364, 0.3611709975872124, 0.3057579354731441, 1.1759639762649172, 0.32094907982318865, 0.42546858272837973, 0.028540357495488777, 0.5229576504847984, 0.643862700535001, 0.07632331359526745, 0.2733411421487464, 0.8977718473952336, 0.9900269079764712, 0.5599955391290532, 0.18571639039952892, 0.3981874562242993, 0.22706754001268514, 0.4725316205088781, 1.25937488574883, 0.02260316178468358, 0.35493467703939174, 0.33547224586983937, 0.5363515810620818, 0.1891797385365095, 0.1856072271099194, 0.6359073662230168, 0.4619223231912617, 0.02966453480261677, 0.3097931370561504, 0.10975907037687094, 0.5817662428244716, 0.9047648393578029, 0.5664676818569472, 0.20497707121045572, 1.1323911846131915, 0.006825272302492635, 0.3306187183156517, 0.13639046386604825, 0.44372439620314097, 0.1428025603651104, 0.2727784988247901, 0.6820868206771822, 0.5453711366289458, 0.2229948212814712, 0.28883637324139677, 1.0826514739038942, 1.627910368405363, 0.00747242495254774, 2.4400341816335533, 0.6240673915630399, 1.9302519580873767, 0.6671343972047872, 1.4199434024958357, 1.2880109875433892, 1.246706736694298, 0.22254238235961132, 0.03147617118052892, 0.7480827137321775, 4.184469642104471, 0.28761475756303945, 0.4569004718594343, 0.2943026062451555, 0.1830261166579561, 0.29478556697739755, 1.3401510984981506, 0.18173548445395582, 0.08917920078038222, 0.5625218019190257, 0.5206708166271667, 0.5118607261761241, 0.6471971027220285, 0.3493014017319229, 0.38305319544769745, 0.5047116353593566, 0.5102926373718741, 0.10807154897057814, 1.0478222791562857, 0.37516526333373434, 0.4087506088503705, 1.1049447673823494, 0.600228395587818, 0.3392513582773997, 0.13907280233374664, 0.0766368166811322, 0.08560114204265457, 0.2848170360132656, 0.586869287178521, 0.8865857565906499, 0.07773626693986913, 0.3589465304842818, 0.3224097566348565, 0.4240374113638907, 0.4681466020396279, 0.568664044297627, 0.49651530066414473, 0.23461028862827504, 0.13768497785527067, 0.4312605942622234, 0.49493607031218545, 0.0660692880710485, 0.006127495034352393, 0.7226791415216223, 0.22832525075200394, 0.25741882060318133, 1.0393106266383807, 0.4105242978725787, 0.44818201281994163, 1.372461410424826, 0.41472038726413984, 0.3099337176613659, 0.26206244092791664, 0.11257617679919285, 1.1511107277511403, 0.33296385245533244, 0.40683842719770524, 0.3728979535834078, 0.4164735071813368, 0.18400047529517138, 0.12792746360630858, 0.5137030699830625, 0.8629684739553873, 0.6547684935310869, 0.5077310420704215, 0.49406514558089043, 1.552755462040043, 0.7201894917594078, 0.3495590698387634, 0.15482386016624616, 0.19766004312708318, 0.33219794652724843, 0.2516438351819179, 0.6401792772735435, 1.9663933196901286, 0.9106952273957987], \"coloraxis\": \"coloraxis\", \"size\": [1.096641061505494, 0.9380512549819233, 0.09452832654867294, 0.03179625713889678, 0.30659691209397977, 1.1762394176888904, 0.8278015533788761, 0.50831279973956, 0.08559957399670814, 1.1453956945665134, 0.443927923047994, 0.7959597504095033, 0.4517246508889716, 0.1320978353253892, 0.6724452276647046, 0.712639917456535, 0.10379275079274919, 0.008827271204422615, 4.064337437584388, 0.4050661921288814, 1.2750003329488209, 0.31789355662548857, 0.2588052780790484, 0.6899534489813535, 0.021234322725955934, 0.337672340165625, 0.4839501689735002, 1.7699215687606191, 0.36273611446768506, 1.3275299850478035, 0.35614153466371157, 0.5973856640690158, 0.3350835055500383, 0.04410932310469917, 0.48064298853537935, 0.07175970740196647, 0.3462366283381364, 0.3611709975872124, 0.3057579354731441, 1.1759639762649172, 0.32094907982318865, 0.42546858272837973, 0.028540357495488777, 0.5229576504847984, 0.643862700535001, 0.07632331359526745, 0.2733411421487464, 0.8977718473952336, 0.9900269079764712, 0.5599955391290532, 0.18571639039952892, 0.3981874562242993, 0.22706754001268514, 0.4725316205088781, 1.25937488574883, 0.02260316178468358, 0.35493467703939174, 0.33547224586983937, 0.5363515810620818, 0.1891797385365095, 0.1856072271099194, 0.6359073662230168, 0.4619223231912617, 0.02966453480261677, 0.3097931370561504, 0.10975907037687094, 0.5817662428244716, 0.9047648393578029, 0.5664676818569472, 0.20497707121045572, 1.1323911846131915, 0.006825272302492635, 0.3306187183156517, 0.13639046386604825, 0.44372439620314097, 0.1428025603651104, 0.2727784988247901, 0.6820868206771822, 0.5453711366289458, 0.2229948212814712, 0.28883637324139677, 1.0826514739038942, 1.627910368405363, 0.00747242495254774, 2.4400341816335533, 0.6240673915630399, 1.9302519580873767, 0.6671343972047872, 1.4199434024958357, 1.2880109875433892, 1.246706736694298, 0.22254238235961132, 0.03147617118052892, 0.7480827137321775, 4.184469642104471, 0.28761475756303945, 0.4569004718594343, 0.2943026062451555, 0.1830261166579561, 0.29478556697739755, 1.3401510984981506, 0.18173548445395582, 0.08917920078038222, 0.5625218019190257, 0.5206708166271667, 0.5118607261761241, 0.6471971027220285, 0.3493014017319229, 0.38305319544769745, 0.5047116353593566, 0.5102926373718741, 0.10807154897057814, 1.0478222791562857, 0.37516526333373434, 0.4087506088503705, 1.1049447673823494, 0.600228395587818, 0.3392513582773997, 0.13907280233374664, 0.0766368166811322, 0.08560114204265457, 0.2848170360132656, 0.586869287178521, 0.8865857565906499, 0.07773626693986913, 0.3589465304842818, 0.3224097566348565, 0.4240374113638907, 0.4681466020396279, 0.568664044297627, 0.49651530066414473, 0.23461028862827504, 0.13768497785527067, 0.4312605942622234, 0.49493607031218545, 0.0660692880710485, 0.006127495034352393, 0.7226791415216223, 0.22832525075200394, 0.25741882060318133, 1.0393106266383807, 0.4105242978725787, 0.44818201281994163, 1.372461410424826, 0.41472038726413984, 0.3099337176613659, 0.26206244092791664, 0.11257617679919285, 1.1511107277511403, 0.33296385245533244, 0.40683842719770524, 0.3728979535834078, 0.4164735071813368, 0.18400047529517138, 0.12792746360630858, 0.5137030699830625, 0.8629684739553873, 0.6547684935310869, 0.5077310420704215, 0.49406514558089043, 1.552755462040043, 0.7201894917594078, 0.3495590698387634, 0.15482386016624616, 0.19766004312708318, 0.33219794652724843, 0.2516438351819179, 0.6401792772735435, 1.9663933196901286, 0.9106952273957987], \"sizemode\": \"area\", \"sizeref\": 0.010461174105261177, \"symbol\": \"circle\"}, \"mode\": \"markers\", \"name\": \"\", \"showlegend\": false, \"type\": \"scatter\", \"x\": [20.472, 13.87, 16.088, 14.078, 13.68, 17.21, 18.905, 16.2, 15.458, 17.250999999999998, 14.057, 7.977, 10.313, 15.377, 9.648, 14.387, 16.012999999999998, 14.639, 26.15673949287078, 17.316, 17.178, 11.952, 18.159, 8.558, 11.179, 11.857, 16.512, 19.923, 8.632, 22.263068594974555, 15.268, 17.973, 14.419, 14.942, 8.798, 14.14, 22.072, 21.548, 15.115, 12.698, 10.976, 10.49, 15.249, 18.22, 14.245, 14.58, 9.341, 18.861, 15.75, 15.862, 8.899, 21.968000000000004, 15.45, 15.216, 23.5, 15.269, 13.403, 14.253, 8.72, 13.727, 16.570999999999998, 8.581, 12.039, 17.204, 10.869000000000002, 14.718, 15.027, 19.458, 15.897, 15.684, 7.033, 15.3, 24.73164881018373, 15.33, 21.55, 14.545, 7.961, 8.306000000000001, 10.447, 11.353, 9.944, 14.320318621054854, 20.81, 9.728, 19.877608296359874, 13.717, 13.668, 21.121, 17.208, 12.912, 8.465, 15.883, 12.724, 15.907, 23.915276148910646, 15.032, 18.021, 13.99, 21.509, 15.841, 15.884, 15.86, 15.947, 15.419, 14.13, 22.960371000602628, 16.887, 14.081, 16.396, 20.251, 9.711, 15.811, 19.66, 8.842, 15.507, 16.849, 12.803, 14.477, 9.948, 10.348, 7.851, 13.550999999999998, 13.11, 9.835, 17.285345370445945, 15.648, 14.287, 17.852, 15.667, 15.232, 15.15, 10.061, 15.872, 14.338, 18.111, 9.604, 18.332, 12.209, 11.347, 9.641, 12.338, 9.285, 15.114, 12.74, 16.898, 15.833, 8.267999999999999, 12.841, 9.589, 8.49, 14.986, 18.22, 9.268, 15.974, 20.486, 17.191, 10.324000000000002, 17.274, 10.751, 16.659000000000002, 17.609916769415506, 14.29, 15.42, 11.29, 12.728, 14.521, 13.515, 8.228, 12.28, 19.768], \"xaxis\": \"x\", \"y\": [1.096641061505494, 0.9380512549819233, 0.09452832654867294, 0.03179625713889678, 0.30659691209397977, 1.1762394176888904, 0.8278015533788761, 0.50831279973956, 0.08559957399670814, 1.1453956945665134, 0.443927923047994, 0.7959597504095033, 0.4517246508889716, 0.1320978353253892, 0.6724452276647046, 0.712639917456535, 0.10379275079274919, 0.008827271204422615, 4.064337437584388, 0.4050661921288814, 1.2750003329488209, 0.31789355662548857, 0.2588052780790484, 0.6899534489813535, 0.021234322725955934, 0.337672340165625, 0.4839501689735002, 1.7699215687606191, 0.36273611446768506, 1.3275299850478035, 0.35614153466371157, 0.5973856640690158, 0.3350835055500383, 0.04410932310469917, 0.48064298853537935, 0.07175970740196647, 0.3462366283381364, 0.3611709975872124, 0.3057579354731441, 1.1759639762649172, 0.32094907982318865, 0.42546858272837973, 0.028540357495488777, 0.5229576504847984, 0.643862700535001, 0.07632331359526745, 0.2733411421487464, 0.8977718473952336, 0.9900269079764712, 0.5599955391290532, 0.18571639039952892, 0.3981874562242993, 0.22706754001268514, 0.4725316205088781, 1.25937488574883, 0.02260316178468358, 0.35493467703939174, 0.33547224586983937, 0.5363515810620818, 0.1891797385365095, 0.1856072271099194, 0.6359073662230168, 0.4619223231912617, 0.02966453480261677, 0.3097931370561504, 0.10975907037687094, 0.5817662428244716, 0.9047648393578029, 0.5664676818569472, 0.20497707121045572, 1.1323911846131915, 0.006825272302492635, 0.3306187183156517, 0.13639046386604825, 0.44372439620314097, 0.1428025603651104, 0.2727784988247901, 0.6820868206771822, 0.5453711366289458, 0.2229948212814712, 0.28883637324139677, 1.0826514739038942, 1.627910368405363, 0.00747242495254774, 2.4400341816335533, 0.6240673915630399, 1.9302519580873767, 0.6671343972047872, 1.4199434024958357, 1.2880109875433892, 1.246706736694298, 0.22254238235961132, 0.03147617118052892, 0.7480827137321775, 4.184469642104471, 0.28761475756303945, 0.4569004718594343, 0.2943026062451555, 0.1830261166579561, 0.29478556697739755, 1.3401510984981506, 0.18173548445395582, 0.08917920078038222, 0.5625218019190257, 0.5206708166271667, 0.5118607261761241, 0.6471971027220285, 0.3493014017319229, 0.38305319544769745, 0.5047116353593566, 0.5102926373718741, 0.10807154897057814, 1.0478222791562857, 0.37516526333373434, 0.4087506088503705, 1.1049447673823494, 0.600228395587818, 0.3392513582773997, 0.13907280233374664, 0.0766368166811322, 0.08560114204265457, 0.2848170360132656, 0.586869287178521, 0.8865857565906499, 0.07773626693986913, 0.3589465304842818, 0.3224097566348565, 0.4240374113638907, 0.4681466020396279, 0.568664044297627, 0.49651530066414473, 0.23461028862827504, 0.13768497785527067, 0.4312605942622234, 0.49493607031218545, 0.0660692880710485, 0.006127495034352393, 0.7226791415216223, 0.22832525075200394, 0.25741882060318133, 1.0393106266383807, 0.4105242978725787, 0.44818201281994163, 1.372461410424826, 0.41472038726413984, 0.3099337176613659, 0.26206244092791664, 0.11257617679919285, 1.1511107277511403, 0.33296385245533244, 0.40683842719770524, 0.3728979535834078, 0.4164735071813368, 0.18400047529517138, 0.12792746360630858, 0.5137030699830625, 0.8629684739553873, 0.6547684935310869, 0.5077310420704215, 0.49406514558089043, 1.552755462040043, 0.7201894917594078, 0.3495590698387634, 0.15482386016624616, 0.19766004312708318, 0.33219794652724843, 0.2516438351819179, 0.6401792772735435, 1.9663933196901286, 0.9106952273957987], \"yaxis\": \"y\"}],\n",
              "                        {\"coloraxis\": {\"colorbar\": {\"title\": {\"text\": \"loss\"}}, \"colorscale\": [[0.0, \"#0d0887\"], [0.1111111111111111, \"#46039f\"], [0.2222222222222222, \"#7201a8\"], [0.3333333333333333, \"#9c179e\"], [0.4444444444444444, \"#bd3786\"], [0.5555555555555556, \"#d8576b\"], [0.6666666666666666, \"#ed7953\"], [0.7777777777777778, \"#fb9f3a\"], [0.8888888888888888, \"#fdca26\"], [1.0, \"#f0f921\"]]}, \"height\": 600, \"legend\": {\"itemsizing\": \"constant\", \"tracegroupgap\": 0}, \"margin\": {\"t\": 60}, \"template\": {\"data\": {\"bar\": [{\"error_x\": {\"color\": \"#2a3f5f\"}, \"error_y\": {\"color\": \"#2a3f5f\"}, \"marker\": {\"line\": {\"color\": \"#E5ECF6\", \"width\": 0.5}}, \"type\": \"bar\"}], \"barpolar\": [{\"marker\": {\"line\": {\"color\": \"#E5ECF6\", \"width\": 0.5}}, \"type\": \"barpolar\"}], \"carpet\": [{\"aaxis\": {\"endlinecolor\": \"#2a3f5f\", \"gridcolor\": \"white\", \"linecolor\": \"white\", \"minorgridcolor\": \"white\", \"startlinecolor\": \"#2a3f5f\"}, \"baxis\": {\"endlinecolor\": \"#2a3f5f\", \"gridcolor\": \"white\", \"linecolor\": \"white\", \"minorgridcolor\": \"white\", \"startlinecolor\": \"#2a3f5f\"}, \"type\": \"carpet\"}], \"choropleth\": [{\"colorbar\": {\"outlinewidth\": 0, \"ticks\": \"\"}, \"type\": \"choropleth\"}], \"contour\": [{\"colorbar\": {\"outlinewidth\": 0, \"ticks\": \"\"}, \"colorscale\": [[0.0, \"#0d0887\"], [0.1111111111111111, \"#46039f\"], [0.2222222222222222, \"#7201a8\"], [0.3333333333333333, \"#9c179e\"], [0.4444444444444444, \"#bd3786\"], [0.5555555555555556, \"#d8576b\"], [0.6666666666666666, \"#ed7953\"], [0.7777777777777778, \"#fb9f3a\"], [0.8888888888888888, \"#fdca26\"], [1.0, \"#f0f921\"]], \"type\": \"contour\"}], \"contourcarpet\": [{\"colorbar\": {\"outlinewidth\": 0, \"ticks\": \"\"}, \"type\": \"contourcarpet\"}], \"heatmap\": [{\"colorbar\": {\"outlinewidth\": 0, \"ticks\": \"\"}, \"colorscale\": [[0.0, \"#0d0887\"], [0.1111111111111111, \"#46039f\"], [0.2222222222222222, \"#7201a8\"], [0.3333333333333333, \"#9c179e\"], [0.4444444444444444, \"#bd3786\"], [0.5555555555555556, \"#d8576b\"], [0.6666666666666666, \"#ed7953\"], [0.7777777777777778, \"#fb9f3a\"], [0.8888888888888888, \"#fdca26\"], [1.0, \"#f0f921\"]], \"type\": \"heatmap\"}], \"heatmapgl\": [{\"colorbar\": {\"outlinewidth\": 0, \"ticks\": \"\"}, \"colorscale\": [[0.0, \"#0d0887\"], [0.1111111111111111, \"#46039f\"], [0.2222222222222222, \"#7201a8\"], [0.3333333333333333, \"#9c179e\"], [0.4444444444444444, \"#bd3786\"], [0.5555555555555556, \"#d8576b\"], [0.6666666666666666, \"#ed7953\"], [0.7777777777777778, \"#fb9f3a\"], [0.8888888888888888, \"#fdca26\"], [1.0, \"#f0f921\"]], \"type\": \"heatmapgl\"}], \"histogram\": [{\"marker\": {\"colorbar\": {\"outlinewidth\": 0, \"ticks\": \"\"}}, \"type\": \"histogram\"}], \"histogram2d\": [{\"colorbar\": {\"outlinewidth\": 0, \"ticks\": \"\"}, \"colorscale\": [[0.0, \"#0d0887\"], [0.1111111111111111, \"#46039f\"], [0.2222222222222222, \"#7201a8\"], [0.3333333333333333, \"#9c179e\"], [0.4444444444444444, \"#bd3786\"], [0.5555555555555556, \"#d8576b\"], [0.6666666666666666, \"#ed7953\"], [0.7777777777777778, \"#fb9f3a\"], [0.8888888888888888, \"#fdca26\"], [1.0, \"#f0f921\"]], \"type\": \"histogram2d\"}], \"histogram2dcontour\": [{\"colorbar\": {\"outlinewidth\": 0, \"ticks\": \"\"}, \"colorscale\": [[0.0, \"#0d0887\"], [0.1111111111111111, \"#46039f\"], [0.2222222222222222, \"#7201a8\"], [0.3333333333333333, \"#9c179e\"], [0.4444444444444444, \"#bd3786\"], [0.5555555555555556, \"#d8576b\"], [0.6666666666666666, \"#ed7953\"], [0.7777777777777778, \"#fb9f3a\"], [0.8888888888888888, \"#fdca26\"], [1.0, \"#f0f921\"]], \"type\": \"histogram2dcontour\"}], \"mesh3d\": [{\"colorbar\": {\"outlinewidth\": 0, \"ticks\": \"\"}, \"type\": \"mesh3d\"}], \"parcoords\": [{\"line\": {\"colorbar\": {\"outlinewidth\": 0, \"ticks\": \"\"}}, \"type\": \"parcoords\"}], \"scatter\": [{\"marker\": {\"colorbar\": {\"outlinewidth\": 0, \"ticks\": \"\"}}, \"type\": \"scatter\"}], \"scatter3d\": [{\"line\": {\"colorbar\": {\"outlinewidth\": 0, \"ticks\": \"\"}}, \"marker\": {\"colorbar\": {\"outlinewidth\": 0, \"ticks\": \"\"}}, \"type\": \"scatter3d\"}], \"scattercarpet\": [{\"marker\": {\"colorbar\": {\"outlinewidth\": 0, \"ticks\": \"\"}}, \"type\": \"scattercarpet\"}], \"scattergeo\": [{\"marker\": {\"colorbar\": {\"outlinewidth\": 0, \"ticks\": \"\"}}, \"type\": \"scattergeo\"}], \"scattergl\": [{\"marker\": {\"colorbar\": {\"outlinewidth\": 0, \"ticks\": \"\"}}, \"type\": \"scattergl\"}], \"scattermapbox\": [{\"marker\": {\"colorbar\": {\"outlinewidth\": 0, \"ticks\": \"\"}}, \"type\": \"scattermapbox\"}], \"scatterpolar\": [{\"marker\": {\"colorbar\": {\"outlinewidth\": 0, \"ticks\": \"\"}}, \"type\": \"scatterpolar\"}], \"scatterpolargl\": [{\"marker\": {\"colorbar\": {\"outlinewidth\": 0, \"ticks\": \"\"}}, \"type\": \"scatterpolargl\"}], \"scatterternary\": [{\"marker\": {\"colorbar\": {\"outlinewidth\": 0, \"ticks\": \"\"}}, \"type\": \"scatterternary\"}], \"surface\": [{\"colorbar\": {\"outlinewidth\": 0, \"ticks\": \"\"}, \"colorscale\": [[0.0, \"#0d0887\"], [0.1111111111111111, \"#46039f\"], [0.2222222222222222, \"#7201a8\"], [0.3333333333333333, \"#9c179e\"], [0.4444444444444444, \"#bd3786\"], [0.5555555555555556, \"#d8576b\"], [0.6666666666666666, \"#ed7953\"], [0.7777777777777778, \"#fb9f3a\"], [0.8888888888888888, \"#fdca26\"], [1.0, \"#f0f921\"]], \"type\": \"surface\"}], \"table\": [{\"cells\": {\"fill\": {\"color\": \"#EBF0F8\"}, \"line\": {\"color\": \"white\"}}, \"header\": {\"fill\": {\"color\": \"#C8D4E3\"}, \"line\": {\"color\": \"white\"}}, \"type\": \"table\"}]}, \"layout\": {\"annotationdefaults\": {\"arrowcolor\": \"#2a3f5f\", \"arrowhead\": 0, \"arrowwidth\": 1}, \"colorscale\": {\"diverging\": [[0, \"#8e0152\"], [0.1, \"#c51b7d\"], [0.2, \"#de77ae\"], [0.3, \"#f1b6da\"], [0.4, \"#fde0ef\"], [0.5, \"#f7f7f7\"], [0.6, \"#e6f5d0\"], [0.7, \"#b8e186\"], [0.8, \"#7fbc41\"], [0.9, \"#4d9221\"], [1, \"#276419\"]], \"sequential\": [[0.0, \"#0d0887\"], [0.1111111111111111, \"#46039f\"], [0.2222222222222222, \"#7201a8\"], [0.3333333333333333, \"#9c179e\"], [0.4444444444444444, \"#bd3786\"], [0.5555555555555556, \"#d8576b\"], [0.6666666666666666, \"#ed7953\"], [0.7777777777777778, \"#fb9f3a\"], [0.8888888888888888, \"#fdca26\"], [1.0, \"#f0f921\"]], \"sequentialminus\": [[0.0, \"#0d0887\"], [0.1111111111111111, \"#46039f\"], [0.2222222222222222, \"#7201a8\"], [0.3333333333333333, \"#9c179e\"], [0.4444444444444444, \"#bd3786\"], [0.5555555555555556, \"#d8576b\"], [0.6666666666666666, \"#ed7953\"], [0.7777777777777778, \"#fb9f3a\"], [0.8888888888888888, \"#fdca26\"], [1.0, \"#f0f921\"]]}, \"colorway\": [\"#636efa\", \"#EF553B\", \"#00cc96\", \"#ab63fa\", \"#FFA15A\", \"#19d3f3\", \"#FF6692\", \"#B6E880\", \"#FF97FF\", \"#FECB52\"], \"font\": {\"color\": \"#2a3f5f\"}, \"geo\": {\"bgcolor\": \"white\", \"lakecolor\": \"white\", \"landcolor\": \"#E5ECF6\", \"showlakes\": true, \"showland\": true, \"subunitcolor\": \"white\"}, \"hoverlabel\": {\"align\": \"left\"}, \"hovermode\": \"closest\", \"mapbox\": {\"style\": \"light\"}, \"paper_bgcolor\": \"white\", \"plot_bgcolor\": \"#E5ECF6\", \"polar\": {\"angularaxis\": {\"gridcolor\": \"white\", \"linecolor\": \"white\", \"ticks\": \"\"}, \"bgcolor\": \"#E5ECF6\", \"radialaxis\": {\"gridcolor\": \"white\", \"linecolor\": \"white\", \"ticks\": \"\"}}, \"scene\": {\"xaxis\": {\"backgroundcolor\": \"#E5ECF6\", \"gridcolor\": \"white\", \"gridwidth\": 2, \"linecolor\": \"white\", \"showbackground\": true, \"ticks\": \"\", \"zerolinecolor\": \"white\"}, \"yaxis\": {\"backgroundcolor\": \"#E5ECF6\", \"gridcolor\": \"white\", \"gridwidth\": 2, \"linecolor\": \"white\", \"showbackground\": true, \"ticks\": \"\", \"zerolinecolor\": \"white\"}, \"zaxis\": {\"backgroundcolor\": \"#E5ECF6\", \"gridcolor\": \"white\", \"gridwidth\": 2, \"linecolor\": \"white\", \"showbackground\": true, \"ticks\": \"\", \"zerolinecolor\": \"white\"}}, \"shapedefaults\": {\"line\": {\"color\": \"#2a3f5f\"}}, \"ternary\": {\"aaxis\": {\"gridcolor\": \"white\", \"linecolor\": \"white\", \"ticks\": \"\"}, \"baxis\": {\"gridcolor\": \"white\", \"linecolor\": \"white\", \"ticks\": \"\"}, \"bgcolor\": \"#E5ECF6\", \"caxis\": {\"gridcolor\": \"white\", \"linecolor\": \"white\", \"ticks\": \"\"}}, \"title\": {\"x\": 0.05}, \"xaxis\": {\"automargin\": true, \"gridcolor\": \"white\", \"linecolor\": \"white\", \"ticks\": \"\", \"zerolinecolor\": \"white\", \"zerolinewidth\": 2}, \"yaxis\": {\"automargin\": true, \"gridcolor\": \"white\", \"linecolor\": \"white\", \"ticks\": \"\", \"zerolinecolor\": \"white\", \"zerolinewidth\": 2}}}, \"xaxis\": {\"anchor\": \"y\", \"domain\": [0.0, 0.98], \"title\": {\"text\": \"C7N\"}}, \"yaxis\": {\"anchor\": \"x\", \"domain\": [0.0, 1.0], \"title\": {\"text\": \"loss\"}}},\n",
              "                        {\"responsive\": true}\n",
              "                    ).then(function(){\n",
              "                            \n",
              "var gd = document.getElementById('8b153814-8685-4ad9-ad94-2d1c52d2848f');\n",
              "var x = new MutationObserver(function (mutations, observer) {{\n",
              "        var display = window.getComputedStyle(gd).display;\n",
              "        if (!display || display === 'none') {{\n",
              "            console.log([gd, 'removed!']);\n",
              "            Plotly.purge(gd);\n",
              "            observer.disconnect();\n",
              "        }}\n",
              "}});\n",
              "\n",
              "// Listen for the removal of the full notebook cells\n",
              "var notebookContainer = gd.closest('#notebook-container');\n",
              "if (notebookContainer) {{\n",
              "    x.observe(notebookContainer, {childList: true});\n",
              "}}\n",
              "\n",
              "// Listen for the clearing of the current output cell\n",
              "var outputEl = gd.closest('.output');\n",
              "if (outputEl) {{\n",
              "    x.observe(outputEl, {childList: true});\n",
              "}}\n",
              "\n",
              "                        })\n",
              "                };\n",
              "                \n",
              "            </script>\n",
              "        </div>\n",
              "</body>\n",
              "</html>"
            ]
          },
          "metadata": {
            "tags": []
          }
        }
      ]
    },
    {
      "cell_type": "code",
      "metadata": {
        "id": "7HuU1WJUr9c9",
        "colab_type": "code",
        "colab": {
          "base_uri": "https://localhost:8080/",
          "height": 35
        },
        "outputId": "1b54144f-d61c-41a5-d460-af7900868b6d"
      },
      "source": [
        "high_loss_index = plot_data['loss'].sort_values(ascending=False).index\n",
        "high_loss_index[:10]"
      ],
      "execution_count": 13,
      "outputs": [
        {
          "output_type": "execute_result",
          "data": {
            "text/plain": [
              "Int64Index([2102, 2105, 2112, 1694, 409, 519, 1706, 2166, 610, 1732], dtype='int64')"
            ]
          },
          "metadata": {
            "tags": []
          },
          "execution_count": 13
        }
      ]
    },
    {
      "cell_type": "code",
      "metadata": {
        "id": "7BPE1ZNUmsKK",
        "colab_type": "code",
        "colab": {}
      },
      "source": [
        "higlight_index = high_loss_index[0]\n",
        "pred_like_index = list(abs(plot_data[y_name+'_pred'] - plot_data.loc[higlight_index,y_name+'_pred']).sort_values().index[1:4])\n",
        "test_like_index = list(abs(plot_data[y_name] - plot_data.loc[higlight_index,y_name]).sort_values().index[1:4])"
      ],
      "execution_count": 0,
      "outputs": []
    },
    {
      "cell_type": "code",
      "metadata": {
        "id": "JhA5iszmi0xk",
        "colab_type": "code",
        "colab": {
          "base_uri": "https://localhost:8080/",
          "height": 266
        },
        "outputId": "e15c4f0a-34e2-4058-84a4-dac3302812f3"
      },
      "source": [
        "round(plot_data.loc[[higlight_index]+test_like_index+pred_like_index],2)"
      ],
      "execution_count": 15,
      "outputs": [
        {
          "output_type": "execute_result",
          "data": {
            "text/html": [
              "<div>\n",
              "<style scoped>\n",
              "    .dataframe tbody tr th:only-of-type {\n",
              "        vertical-align: middle;\n",
              "    }\n",
              "\n",
              "    .dataframe tbody tr th {\n",
              "        vertical-align: top;\n",
              "    }\n",
              "\n",
              "    .dataframe thead th {\n",
              "        text-align: right;\n",
              "    }\n",
              "</style>\n",
              "<table border=\"1\" class=\"dataframe\">\n",
              "  <thead>\n",
              "    <tr style=\"text-align: right;\">\n",
              "      <th></th>\n",
              "      <th>T10</th>\n",
              "      <th>T50</th>\n",
              "      <th>T90</th>\n",
              "      <th>N+A</th>\n",
              "      <th>C7N</th>\n",
              "      <th>C7N_pred</th>\n",
              "      <th>loss</th>\n",
              "      <th>index</th>\n",
              "    </tr>\n",
              "  </thead>\n",
              "  <tbody>\n",
              "    <tr>\n",
              "      <th>2102</th>\n",
              "      <td>88.9</td>\n",
              "      <td>107.3</td>\n",
              "      <td>140.9</td>\n",
              "      <td>54.04</td>\n",
              "      <td>23.92</td>\n",
              "      <td>19.73</td>\n",
              "      <td>4.18</td>\n",
              "      <td>2102</td>\n",
              "    </tr>\n",
              "    <tr>\n",
              "      <th>231</th>\n",
              "      <td>90.1</td>\n",
              "      <td>107.6</td>\n",
              "      <td>136.4</td>\n",
              "      <td>56.39</td>\n",
              "      <td>23.50</td>\n",
              "      <td>22.24</td>\n",
              "      <td>1.26</td>\n",
              "      <td>231</td>\n",
              "    </tr>\n",
              "    <tr>\n",
              "      <th>2178</th>\n",
              "      <td>89.4</td>\n",
              "      <td>105.2</td>\n",
              "      <td>134.9</td>\n",
              "      <td>61.21</td>\n",
              "      <td>24.73</td>\n",
              "      <td>25.06</td>\n",
              "      <td>0.33</td>\n",
              "      <td>2178</td>\n",
              "    </tr>\n",
              "    <tr>\n",
              "      <th>2110</th>\n",
              "      <td>101.4</td>\n",
              "      <td>112.5</td>\n",
              "      <td>144.4</td>\n",
              "      <td>58.71</td>\n",
              "      <td>22.96</td>\n",
              "      <td>23.47</td>\n",
              "      <td>0.51</td>\n",
              "      <td>2110</td>\n",
              "    </tr>\n",
              "    <tr>\n",
              "      <th>303</th>\n",
              "      <td>102.1</td>\n",
              "      <td>114.1</td>\n",
              "      <td>142.8</td>\n",
              "      <td>53.16</td>\n",
              "      <td>20.25</td>\n",
              "      <td>19.75</td>\n",
              "      <td>0.50</td>\n",
              "      <td>303</td>\n",
              "    </tr>\n",
              "    <tr>\n",
              "      <th>1189</th>\n",
              "      <td>85.8</td>\n",
              "      <td>106.2</td>\n",
              "      <td>145.4</td>\n",
              "      <td>54.46</td>\n",
              "      <td>18.86</td>\n",
              "      <td>19.76</td>\n",
              "      <td>0.90</td>\n",
              "      <td>1189</td>\n",
              "    </tr>\n",
              "    <tr>\n",
              "      <th>282</th>\n",
              "      <td>102.4</td>\n",
              "      <td>114.7</td>\n",
              "      <td>143.8</td>\n",
              "      <td>53.70</td>\n",
              "      <td>20.47</td>\n",
              "      <td>19.38</td>\n",
              "      <td>1.10</td>\n",
              "      <td>282</td>\n",
              "    </tr>\n",
              "  </tbody>\n",
              "</table>\n",
              "</div>"
            ],
            "text/plain": [
              "        T10    T50    T90    N+A    C7N  C7N_pred  loss  index\n",
              "2102   88.9  107.3  140.9  54.04  23.92     19.73  4.18   2102\n",
              "231    90.1  107.6  136.4  56.39  23.50     22.24  1.26    231\n",
              "2178   89.4  105.2  134.9  61.21  24.73     25.06  0.33   2178\n",
              "2110  101.4  112.5  144.4  58.71  22.96     23.47  0.51   2110\n",
              "303   102.1  114.1  142.8  53.16  20.25     19.75  0.50    303\n",
              "1189   85.8  106.2  145.4  54.46  18.86     19.76  0.90   1189\n",
              "282   102.4  114.7  143.8  53.70  20.47     19.38  1.10    282"
            ]
          },
          "metadata": {
            "tags": []
          },
          "execution_count": 15
        }
      ]
    },
    {
      "cell_type": "code",
      "metadata": {
        "id": "XArMMZvI2W25",
        "colab_type": "code",
        "colab": {
          "base_uri": "https://localhost:8080/",
          "height": 297
        },
        "outputId": "95fb5c10-7510-4a08-c530-cc45943eb066"
      },
      "source": [
        "sns.distplot(full[y_name])"
      ],
      "execution_count": 16,
      "outputs": [
        {
          "output_type": "execute_result",
          "data": {
            "text/plain": [
              "<matplotlib.axes._subplots.AxesSubplot at 0x7f5675bf05f8>"
            ]
          },
          "metadata": {
            "tags": []
          },
          "execution_count": 16
        },
        {
          "output_type": "display_data",
          "data": {
            "image/png": "[encoded data removed]",
            "text/plain": [
              "<Figure size 432x288 with 1 Axes>"
            ]
          },
          "metadata": {
            "tags": []
          }
        }
      ]
    },
    {
      "cell_type": "code",
      "metadata": {
        "id": "IZIDFTTt07nB",
        "colab_type": "code",
        "colab": {}
      },
      "source": [
        ""
      ],
      "execution_count": 0,
      "outputs": []
    }
  ]
}