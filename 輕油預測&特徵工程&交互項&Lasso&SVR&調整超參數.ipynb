{
  "nbformat": 4,
  "nbformat_minor": 0,
  "metadata": {
    "colab": {
      "name": "輕油預測&特徵工程&交互項&Lasso&SVR&調整超參數.ipynb",
      "provenance": [],
      "collapsed_sections": [],
      "include_colab_link": true
    },
    "kernelspec": {
      "name": "python3",
      "display_name": "Python 3"
    },
    "accelerator": "GPU"
  },
  "cells": [
    {
      "cell_type": "markdown",
      "metadata": {
        "id": "view-in-github",
        "colab_type": "text"
      },
      "source": [
        "<a href=\"https://colab.research.google.com/github/skywalker0803r/works/blob/master/%E8%BC%95%E6%B2%B9%E9%A0%90%E6%B8%AC%26%E7%89%B9%E5%BE%B5%E5%B7%A5%E7%A8%8B%26%E4%BA%A4%E4%BA%92%E9%A0%85%26Lasso%26SVR%26%E8%AA%BF%E6%95%B4%E8%B6%85%E5%8F%83%E6%95%B8.ipynb\" target=\"_parent\"><img src=\"https://colab.research.google.com/assets/colab-badge.svg\" alt=\"Open In Colab\"/></a>"
      ]
    },
    {
      "cell_type": "code",
      "metadata": {
        "id": "cjj-Ubf_ZNwe",
        "colab_type": "code",
        "outputId": "c8f4afee-f9c6-4247-f422-ab552640ad9a",
        "colab": {
          "base_uri": "https://localhost:8080/",
          "height": 35
        }
      },
      "source": [
        "from google.colab import drive\n",
        "drive.mount('/content/drive')"
      ],
      "execution_count": 1,
      "outputs": [
        {
          "output_type": "stream",
          "text": [
            "Drive already mounted at /content/drive; to attempt to forcibly remount, call drive.mount(\"/content/drive\", force_remount=True).\n"
          ],
          "name": "stdout"
        }
      ]
    },
    {
      "cell_type": "markdown",
      "metadata": {
        "id": "ItJnKim1qVVY",
        "colab_type": "text"
      },
      "source": [
        "# 訓練資料"
      ]
    },
    {
      "cell_type": "code",
      "metadata": {
        "id": "-xtIxddoZOp6",
        "colab_type": "code",
        "outputId": "6c807ec0-4162-4b05-c3a4-0132c2861da1",
        "colab": {
          "base_uri": "https://localhost:8080/",
          "height": 212
        }
      },
      "source": [
        "import pandas as pd\n",
        "\n",
        "train = pd.read_csv('/content/drive/My Drive/台塑輕油案子/輕油實驗數據(保留大部份欄位,三個基本規則清洗過).csv')\n",
        "train.rename(columns={'N+A in Feed':'NA'},inplace=True)\n",
        "\n",
        "x_columns = ['T10','T50','T90','NA']\n",
        "y_columns = ['C5NP', 'C5IP', 'C5N', 'C6NP',\n",
        "       'C6IP', 'C6N', 'C6A', 'C7NP', 'C7IP', 'C7N', 'C7A', 'C8NP', 'C8IP',\n",
        "       'C8N', 'C8A', 'C9NP', 'C9IP', 'C9N', 'C9A', 'C10NP', 'C10IP', 'C10N',\n",
        "       'C10A']\n",
        "train = train[x_columns+y_columns]\n",
        "print(train.shape)\n",
        "train.head()"
      ],
      "execution_count": 2,
      "outputs": [
        {
          "output_type": "stream",
          "text": [
            "(4521, 27)\n"
          ],
          "name": "stdout"
        },
        {
          "output_type": "execute_result",
          "data": {
            "text/html": [
              "<div>\n",
              "<style scoped>\n",
              "    .dataframe tbody tr th:only-of-type {\n",
              "        vertical-align: middle;\n",
              "    }\n",
              "\n",
              "    .dataframe tbody tr th {\n",
              "        vertical-align: top;\n",
              "    }\n",
              "\n",
              "    .dataframe thead th {\n",
              "        text-align: right;\n",
              "    }\n",
              "</style>\n",
              "<table border=\"1\" class=\"dataframe\">\n",
              "  <thead>\n",
              "    <tr style=\"text-align: right;\">\n",
              "      <th></th>\n",
              "      <th>T10</th>\n",
              "      <th>T50</th>\n",
              "      <th>T90</th>\n",
              "      <th>NA</th>\n",
              "      <th>C5NP</th>\n",
              "      <th>C5IP</th>\n",
              "      <th>C5N</th>\n",
              "      <th>C6NP</th>\n",
              "      <th>C6IP</th>\n",
              "      <th>C6N</th>\n",
              "      <th>C6A</th>\n",
              "      <th>C7NP</th>\n",
              "      <th>C7IP</th>\n",
              "      <th>C7N</th>\n",
              "      <th>C7A</th>\n",
              "      <th>C8NP</th>\n",
              "      <th>C8IP</th>\n",
              "      <th>C8N</th>\n",
              "      <th>C8A</th>\n",
              "      <th>C9NP</th>\n",
              "      <th>C9IP</th>\n",
              "      <th>C9N</th>\n",
              "      <th>C9A</th>\n",
              "      <th>C10NP</th>\n",
              "      <th>C10IP</th>\n",
              "      <th>C10N</th>\n",
              "      <th>C10A</th>\n",
              "    </tr>\n",
              "  </thead>\n",
              "  <tbody>\n",
              "    <tr>\n",
              "      <th>0</th>\n",
              "      <td>100.5</td>\n",
              "      <td>119.2</td>\n",
              "      <td>146.5</td>\n",
              "      <td>31.978</td>\n",
              "      <td>0.272</td>\n",
              "      <td>0.132</td>\n",
              "      <td>0.059</td>\n",
              "      <td>5.293</td>\n",
              "      <td>2.570</td>\n",
              "      <td>2.819</td>\n",
              "      <td>0.494</td>\n",
              "      <td>10.395</td>\n",
              "      <td>8.070</td>\n",
              "      <td>6.411</td>\n",
              "      <td>2.917</td>\n",
              "      <td>9.138</td>\n",
              "      <td>9.649</td>\n",
              "      <td>4.810</td>\n",
              "      <td>5.373</td>\n",
              "      <td>6.405</td>\n",
              "      <td>9.759</td>\n",
              "      <td>4.590</td>\n",
              "      <td>3.661</td>\n",
              "      <td>0.875</td>\n",
              "      <td>5.257</td>\n",
              "      <td>0.525</td>\n",
              "      <td>0.319</td>\n",
              "    </tr>\n",
              "    <tr>\n",
              "      <th>1</th>\n",
              "      <td>99.6</td>\n",
              "      <td>117.9</td>\n",
              "      <td>145.5</td>\n",
              "      <td>31.568</td>\n",
              "      <td>0.297</td>\n",
              "      <td>0.151</td>\n",
              "      <td>0.062</td>\n",
              "      <td>5.089</td>\n",
              "      <td>2.531</td>\n",
              "      <td>2.804</td>\n",
              "      <td>0.499</td>\n",
              "      <td>10.074</td>\n",
              "      <td>7.958</td>\n",
              "      <td>6.395</td>\n",
              "      <td>2.894</td>\n",
              "      <td>8.970</td>\n",
              "      <td>9.548</td>\n",
              "      <td>4.753</td>\n",
              "      <td>5.443</td>\n",
              "      <td>6.324</td>\n",
              "      <td>9.899</td>\n",
              "      <td>4.301</td>\n",
              "      <td>2.995</td>\n",
              "      <td>0.881</td>\n",
              "      <td>5.591</td>\n",
              "      <td>1.119</td>\n",
              "      <td>0.303</td>\n",
              "    </tr>\n",
              "    <tr>\n",
              "      <th>2</th>\n",
              "      <td>100.0</td>\n",
              "      <td>118.8</td>\n",
              "      <td>145.6</td>\n",
              "      <td>31.344</td>\n",
              "      <td>0.262</td>\n",
              "      <td>0.126</td>\n",
              "      <td>0.061</td>\n",
              "      <td>5.107</td>\n",
              "      <td>2.571</td>\n",
              "      <td>2.771</td>\n",
              "      <td>0.492</td>\n",
              "      <td>10.069</td>\n",
              "      <td>7.913</td>\n",
              "      <td>6.378</td>\n",
              "      <td>2.890</td>\n",
              "      <td>9.006</td>\n",
              "      <td>9.591</td>\n",
              "      <td>4.778</td>\n",
              "      <td>5.468</td>\n",
              "      <td>6.360</td>\n",
              "      <td>9.983</td>\n",
              "      <td>4.274</td>\n",
              "      <td>2.979</td>\n",
              "      <td>0.865</td>\n",
              "      <td>5.641</td>\n",
              "      <td>0.964</td>\n",
              "      <td>0.289</td>\n",
              "    </tr>\n",
              "    <tr>\n",
              "      <th>3</th>\n",
              "      <td>100.4</td>\n",
              "      <td>118.6</td>\n",
              "      <td>142.9</td>\n",
              "      <td>31.453</td>\n",
              "      <td>0.224</td>\n",
              "      <td>0.105</td>\n",
              "      <td>0.060</td>\n",
              "      <td>4.894</td>\n",
              "      <td>2.497</td>\n",
              "      <td>2.650</td>\n",
              "      <td>0.469</td>\n",
              "      <td>10.015</td>\n",
              "      <td>7.685</td>\n",
              "      <td>6.376</td>\n",
              "      <td>2.866</td>\n",
              "      <td>9.133</td>\n",
              "      <td>9.708</td>\n",
              "      <td>4.889</td>\n",
              "      <td>5.510</td>\n",
              "      <td>6.444</td>\n",
              "      <td>10.182</td>\n",
              "      <td>4.420</td>\n",
              "      <td>2.964</td>\n",
              "      <td>0.830</td>\n",
              "      <td>5.637</td>\n",
              "      <td>0.968</td>\n",
              "      <td>0.281</td>\n",
              "    </tr>\n",
              "    <tr>\n",
              "      <th>4</th>\n",
              "      <td>100.4</td>\n",
              "      <td>118.1</td>\n",
              "      <td>142.2</td>\n",
              "      <td>32.190</td>\n",
              "      <td>0.243</td>\n",
              "      <td>0.117</td>\n",
              "      <td>0.061</td>\n",
              "      <td>4.946</td>\n",
              "      <td>2.503</td>\n",
              "      <td>2.695</td>\n",
              "      <td>0.477</td>\n",
              "      <td>10.053</td>\n",
              "      <td>7.765</td>\n",
              "      <td>6.394</td>\n",
              "      <td>2.877</td>\n",
              "      <td>9.101</td>\n",
              "      <td>9.676</td>\n",
              "      <td>4.855</td>\n",
              "      <td>5.500</td>\n",
              "      <td>6.416</td>\n",
              "      <td>10.115</td>\n",
              "      <td>4.347</td>\n",
              "      <td>3.725</td>\n",
              "      <td>0.835</td>\n",
              "      <td>4.823</td>\n",
              "      <td>0.969</td>\n",
              "      <td>0.290</td>\n",
              "    </tr>\n",
              "  </tbody>\n",
              "</table>\n",
              "</div>"
            ],
            "text/plain": [
              "     T10    T50    T90      NA   C5NP  ...    C9A  C10NP  C10IP   C10N   C10A\n",
              "0  100.5  119.2  146.5  31.978  0.272  ...  3.661  0.875  5.257  0.525  0.319\n",
              "1   99.6  117.9  145.5  31.568  0.297  ...  2.995  0.881  5.591  1.119  0.303\n",
              "2  100.0  118.8  145.6  31.344  0.262  ...  2.979  0.865  5.641  0.964  0.289\n",
              "3  100.4  118.6  142.9  31.453  0.224  ...  2.964  0.830  5.637  0.968  0.281\n",
              "4  100.4  118.1  142.2  32.190  0.243  ...  3.725  0.835  4.823  0.969  0.290\n",
              "\n",
              "[5 rows x 27 columns]"
            ]
          },
          "metadata": {
            "tags": []
          },
          "execution_count": 2
        }
      ]
    },
    {
      "cell_type": "markdown",
      "metadata": {
        "id": "2ms3ye7PntOv",
        "colab_type": "text"
      },
      "source": [
        "# 特徵工程(訓練資料)"
      ]
    },
    {
      "cell_type": "code",
      "metadata": {
        "id": "u9sSvlZrntWD",
        "colab_type": "code",
        "colab": {}
      },
      "source": [
        "def 特徵工程(df):\n",
        "  df['T90-T50'] = df['T90']-df['T50']\n",
        "  df['T50-T10'] = df['T50']-df['T10']\n",
        "  return df"
      ],
      "execution_count": 0,
      "outputs": []
    },
    {
      "cell_type": "code",
      "metadata": {
        "id": "56lg1f7koDhW",
        "colab_type": "code",
        "outputId": "384006f7-a310-48fe-c1d9-1df638cc251e",
        "colab": {
          "base_uri": "https://localhost:8080/",
          "height": 194
        }
      },
      "source": [
        "train = 特徵工程(train)\n",
        "train.head()"
      ],
      "execution_count": 4,
      "outputs": [
        {
          "output_type": "execute_result",
          "data": {
            "text/html": [
              "<div>\n",
              "<style scoped>\n",
              "    .dataframe tbody tr th:only-of-type {\n",
              "        vertical-align: middle;\n",
              "    }\n",
              "\n",
              "    .dataframe tbody tr th {\n",
              "        vertical-align: top;\n",
              "    }\n",
              "\n",
              "    .dataframe thead th {\n",
              "        text-align: right;\n",
              "    }\n",
              "</style>\n",
              "<table border=\"1\" class=\"dataframe\">\n",
              "  <thead>\n",
              "    <tr style=\"text-align: right;\">\n",
              "      <th></th>\n",
              "      <th>T10</th>\n",
              "      <th>T50</th>\n",
              "      <th>T90</th>\n",
              "      <th>NA</th>\n",
              "      <th>C5NP</th>\n",
              "      <th>C5IP</th>\n",
              "      <th>C5N</th>\n",
              "      <th>C6NP</th>\n",
              "      <th>C6IP</th>\n",
              "      <th>C6N</th>\n",
              "      <th>C6A</th>\n",
              "      <th>C7NP</th>\n",
              "      <th>C7IP</th>\n",
              "      <th>C7N</th>\n",
              "      <th>C7A</th>\n",
              "      <th>C8NP</th>\n",
              "      <th>C8IP</th>\n",
              "      <th>C8N</th>\n",
              "      <th>C8A</th>\n",
              "      <th>C9NP</th>\n",
              "      <th>C9IP</th>\n",
              "      <th>C9N</th>\n",
              "      <th>C9A</th>\n",
              "      <th>C10NP</th>\n",
              "      <th>C10IP</th>\n",
              "      <th>C10N</th>\n",
              "      <th>C10A</th>\n",
              "      <th>T90-T50</th>\n",
              "      <th>T50-T10</th>\n",
              "    </tr>\n",
              "  </thead>\n",
              "  <tbody>\n",
              "    <tr>\n",
              "      <th>0</th>\n",
              "      <td>100.5</td>\n",
              "      <td>119.2</td>\n",
              "      <td>146.5</td>\n",
              "      <td>31.978</td>\n",
              "      <td>0.272</td>\n",
              "      <td>0.132</td>\n",
              "      <td>0.059</td>\n",
              "      <td>5.293</td>\n",
              "      <td>2.570</td>\n",
              "      <td>2.819</td>\n",
              "      <td>0.494</td>\n",
              "      <td>10.395</td>\n",
              "      <td>8.070</td>\n",
              "      <td>6.411</td>\n",
              "      <td>2.917</td>\n",
              "      <td>9.138</td>\n",
              "      <td>9.649</td>\n",
              "      <td>4.810</td>\n",
              "      <td>5.373</td>\n",
              "      <td>6.405</td>\n",
              "      <td>9.759</td>\n",
              "      <td>4.590</td>\n",
              "      <td>3.661</td>\n",
              "      <td>0.875</td>\n",
              "      <td>5.257</td>\n",
              "      <td>0.525</td>\n",
              "      <td>0.319</td>\n",
              "      <td>27.3</td>\n",
              "      <td>18.7</td>\n",
              "    </tr>\n",
              "    <tr>\n",
              "      <th>1</th>\n",
              "      <td>99.6</td>\n",
              "      <td>117.9</td>\n",
              "      <td>145.5</td>\n",
              "      <td>31.568</td>\n",
              "      <td>0.297</td>\n",
              "      <td>0.151</td>\n",
              "      <td>0.062</td>\n",
              "      <td>5.089</td>\n",
              "      <td>2.531</td>\n",
              "      <td>2.804</td>\n",
              "      <td>0.499</td>\n",
              "      <td>10.074</td>\n",
              "      <td>7.958</td>\n",
              "      <td>6.395</td>\n",
              "      <td>2.894</td>\n",
              "      <td>8.970</td>\n",
              "      <td>9.548</td>\n",
              "      <td>4.753</td>\n",
              "      <td>5.443</td>\n",
              "      <td>6.324</td>\n",
              "      <td>9.899</td>\n",
              "      <td>4.301</td>\n",
              "      <td>2.995</td>\n",
              "      <td>0.881</td>\n",
              "      <td>5.591</td>\n",
              "      <td>1.119</td>\n",
              "      <td>0.303</td>\n",
              "      <td>27.6</td>\n",
              "      <td>18.3</td>\n",
              "    </tr>\n",
              "    <tr>\n",
              "      <th>2</th>\n",
              "      <td>100.0</td>\n",
              "      <td>118.8</td>\n",
              "      <td>145.6</td>\n",
              "      <td>31.344</td>\n",
              "      <td>0.262</td>\n",
              "      <td>0.126</td>\n",
              "      <td>0.061</td>\n",
              "      <td>5.107</td>\n",
              "      <td>2.571</td>\n",
              "      <td>2.771</td>\n",
              "      <td>0.492</td>\n",
              "      <td>10.069</td>\n",
              "      <td>7.913</td>\n",
              "      <td>6.378</td>\n",
              "      <td>2.890</td>\n",
              "      <td>9.006</td>\n",
              "      <td>9.591</td>\n",
              "      <td>4.778</td>\n",
              "      <td>5.468</td>\n",
              "      <td>6.360</td>\n",
              "      <td>9.983</td>\n",
              "      <td>4.274</td>\n",
              "      <td>2.979</td>\n",
              "      <td>0.865</td>\n",
              "      <td>5.641</td>\n",
              "      <td>0.964</td>\n",
              "      <td>0.289</td>\n",
              "      <td>26.8</td>\n",
              "      <td>18.8</td>\n",
              "    </tr>\n",
              "    <tr>\n",
              "      <th>3</th>\n",
              "      <td>100.4</td>\n",
              "      <td>118.6</td>\n",
              "      <td>142.9</td>\n",
              "      <td>31.453</td>\n",
              "      <td>0.224</td>\n",
              "      <td>0.105</td>\n",
              "      <td>0.060</td>\n",
              "      <td>4.894</td>\n",
              "      <td>2.497</td>\n",
              "      <td>2.650</td>\n",
              "      <td>0.469</td>\n",
              "      <td>10.015</td>\n",
              "      <td>7.685</td>\n",
              "      <td>6.376</td>\n",
              "      <td>2.866</td>\n",
              "      <td>9.133</td>\n",
              "      <td>9.708</td>\n",
              "      <td>4.889</td>\n",
              "      <td>5.510</td>\n",
              "      <td>6.444</td>\n",
              "      <td>10.182</td>\n",
              "      <td>4.420</td>\n",
              "      <td>2.964</td>\n",
              "      <td>0.830</td>\n",
              "      <td>5.637</td>\n",
              "      <td>0.968</td>\n",
              "      <td>0.281</td>\n",
              "      <td>24.3</td>\n",
              "      <td>18.2</td>\n",
              "    </tr>\n",
              "    <tr>\n",
              "      <th>4</th>\n",
              "      <td>100.4</td>\n",
              "      <td>118.1</td>\n",
              "      <td>142.2</td>\n",
              "      <td>32.190</td>\n",
              "      <td>0.243</td>\n",
              "      <td>0.117</td>\n",
              "      <td>0.061</td>\n",
              "      <td>4.946</td>\n",
              "      <td>2.503</td>\n",
              "      <td>2.695</td>\n",
              "      <td>0.477</td>\n",
              "      <td>10.053</td>\n",
              "      <td>7.765</td>\n",
              "      <td>6.394</td>\n",
              "      <td>2.877</td>\n",
              "      <td>9.101</td>\n",
              "      <td>9.676</td>\n",
              "      <td>4.855</td>\n",
              "      <td>5.500</td>\n",
              "      <td>6.416</td>\n",
              "      <td>10.115</td>\n",
              "      <td>4.347</td>\n",
              "      <td>3.725</td>\n",
              "      <td>0.835</td>\n",
              "      <td>4.823</td>\n",
              "      <td>0.969</td>\n",
              "      <td>0.290</td>\n",
              "      <td>24.1</td>\n",
              "      <td>17.7</td>\n",
              "    </tr>\n",
              "  </tbody>\n",
              "</table>\n",
              "</div>"
            ],
            "text/plain": [
              "     T10    T50    T90      NA   C5NP  ...  C10IP   C10N   C10A  T90-T50  T50-T10\n",
              "0  100.5  119.2  146.5  31.978  0.272  ...  5.257  0.525  0.319     27.3     18.7\n",
              "1   99.6  117.9  145.5  31.568  0.297  ...  5.591  1.119  0.303     27.6     18.3\n",
              "2  100.0  118.8  145.6  31.344  0.262  ...  5.641  0.964  0.289     26.8     18.8\n",
              "3  100.4  118.6  142.9  31.453  0.224  ...  5.637  0.968  0.281     24.3     18.2\n",
              "4  100.4  118.1  142.2  32.190  0.243  ...  4.823  0.969  0.290     24.1     17.7\n",
              "\n",
              "[5 rows x 29 columns]"
            ]
          },
          "metadata": {
            "tags": []
          },
          "execution_count": 4
        }
      ]
    },
    {
      "cell_type": "markdown",
      "metadata": {
        "id": "J4sZU6c5qNNK",
        "colab_type": "text"
      },
      "source": [
        "# 加入新特徵至x_columns"
      ]
    },
    {
      "cell_type": "code",
      "metadata": {
        "id": "71ap6gShqNWY",
        "colab_type": "code",
        "outputId": "25bc6a58-6295-446f-c754-2601c141d43a",
        "colab": {
          "base_uri": "https://localhost:8080/",
          "height": 35
        }
      },
      "source": [
        "x_columns = x_columns+['T90-T50','T50-T10']\n",
        "print(x_columns)"
      ],
      "execution_count": 5,
      "outputs": [
        {
          "output_type": "stream",
          "text": [
            "['T10', 'T50', 'T90', 'NA', 'T90-T50', 'T50-T10']\n"
          ],
          "name": "stdout"
        }
      ]
    },
    {
      "cell_type": "markdown",
      "metadata": {
        "id": "CWiLU_E0cm1v",
        "colab_type": "text"
      },
      "source": [
        "# Lasso特徵篩選器"
      ]
    },
    {
      "cell_type": "code",
      "metadata": {
        "id": "_SShv6HKbw3-",
        "colab_type": "code",
        "colab": {}
      },
      "source": [
        "from sklearn.base import TransformerMixin\n",
        "from sklearn.linear_model import Lasso\n",
        "import numpy as np\n",
        "\n",
        "class LassoTransformer(TransformerMixin):  \n",
        "  def __init__(self):#初始化首先建立一個Lasso model\n",
        "    self.model = Lasso()\n",
        "  \n",
        "  def set_params(self,alpha):#設置alpha參數會影響選擇變數多寡\n",
        "    self.model.set_params(alpha=alpha)\n",
        "  \n",
        "  def fit(self,X,y):#對資料做訓練得到coef_\n",
        "    self.model.fit(X,y)\n",
        "    return self\n",
        "  \n",
        "  def transform(self,X):#呼叫此方法可過濾掉冗餘特徵\n",
        "    SelectColumn = (abs(self.model.coef_)!=0)\n",
        "    return X[:,SelectColumn]"
      ],
      "execution_count": 0,
      "outputs": []
    },
    {
      "cell_type": "markdown",
      "metadata": {
        "id": "7Ouh6e_bPT2y",
        "colab_type": "text"
      },
      "source": [
        "功能測試"
      ]
    },
    {
      "cell_type": "code",
      "metadata": {
        "id": "Bijg5scPcuze",
        "colab_type": "code",
        "outputId": "02e9585c-a566-49d7-939e-4378744cc7cf",
        "colab": {
          "base_uri": "https://localhost:8080/",
          "height": 70
        }
      },
      "source": [
        "y_name = 'C5NP'\n",
        "\n",
        "X_train = np.array(train[x_columns])\n",
        "y_train = np.array(train[y_name])\n",
        "\n",
        "LassoTR = LassoTransformer()#建立LassoTR\n",
        "LassoTR.set_params(alpha=0.5)#設定alpha\n",
        "LassoTR.fit(X_train,y_train)#fit\n",
        "\n",
        "print(X_train.shape)#LassoTR轉換前\n",
        "print(\"==After Lasso==\")\n",
        "print(LassoTR.transform(X_train).shape)#LassoTR轉換後"
      ],
      "execution_count": 7,
      "outputs": [
        {
          "output_type": "stream",
          "text": [
            "(4521, 6)\n",
            "==After Lasso==\n",
            "(4521, 2)\n"
          ],
          "name": "stdout"
        }
      ]
    },
    {
      "cell_type": "markdown",
      "metadata": {
        "id": "d6MfK8QifCJa",
        "colab_type": "text"
      },
      "source": [
        "# 交互項特徵產生器"
      ]
    },
    {
      "cell_type": "code",
      "metadata": {
        "id": "F0S25Eb7c3XJ",
        "colab_type": "code",
        "colab": {}
      },
      "source": [
        "from sklearn.preprocessing import PolynomialFeatures\n",
        "\n",
        "class featuresGenerator(TransformerMixin):\n",
        "  def __init__(self):#初始化建立一個交互項產生器,只兩兩相乘,不包括bias\n",
        "    self.model = PolynomialFeatures(2,interaction_only=True,include_bias=False)\n",
        "  \n",
        "  def fit(self,X,y):\n",
        "    return self\n",
        "  \n",
        "  def transform(self,X): \n",
        "    return  self.model.fit_transform(X) "
      ],
      "execution_count": 0,
      "outputs": []
    },
    {
      "cell_type": "markdown",
      "metadata": {
        "id": "zMXhxhi1PQx3",
        "colab_type": "text"
      },
      "source": [
        "功能測試"
      ]
    },
    {
      "cell_type": "code",
      "metadata": {
        "id": "KsIHfsA8fh_f",
        "colab_type": "code",
        "outputId": "be2af8b8-2748-4b92-8a8c-0f06f5695935",
        "colab": {
          "base_uri": "https://localhost:8080/",
          "height": 70
        }
      },
      "source": [
        "print(X_train.shape)\n",
        "f_tr = featuresGenerator()\n",
        "print('==after features generator==')\n",
        "print(f_tr.transform(X_train).shape)"
      ],
      "execution_count": 9,
      "outputs": [
        {
          "output_type": "stream",
          "text": [
            "(4521, 6)\n",
            "==after features generator==\n",
            "(4521, 21)\n"
          ],
          "name": "stdout"
        }
      ]
    },
    {
      "cell_type": "markdown",
      "metadata": {
        "id": "ViBy2Afag2h8",
        "colab_type": "text"
      },
      "source": [
        "# pipeline流程 input -> StandardScaler -> featuresGenerator -> Lasso -> svr "
      ]
    },
    {
      "cell_type": "code",
      "metadata": {
        "id": "eYW8q-pbgAUv",
        "colab_type": "code",
        "colab": {}
      },
      "source": [
        "from sklearn.pipeline import Pipeline\n",
        "from sklearn import svm\n",
        "from sklearn.preprocessing import StandardScaler\n",
        "from xgboost import XGBRegressor\n",
        "\n",
        "scaler = StandardScaler() #特徵縮放\n",
        "f_tr = featuresGenerator() #產生交互項\n",
        "LassoTR = LassoTransformer() #篩選因子\n",
        "svr = svm.SVR()#svr回歸模型\n",
        "xgb = XGBRegressor()\n",
        "\n",
        "pipeline = Pipeline([('scaler',scaler),\n",
        "                     ('f_tr',f_tr),\n",
        "                     ('LassoTR',LassoTR),\n",
        "                     ('svr',svr)])"
      ],
      "execution_count": 0,
      "outputs": []
    },
    {
      "cell_type": "markdown",
      "metadata": {
        "id": "L6eXrOA2h0vs",
        "colab_type": "text"
      },
      "source": [
        "# 評分工具"
      ]
    },
    {
      "cell_type": "code",
      "metadata": {
        "id": "s5JRrSSJhSm6",
        "colab_type": "code",
        "colab": {}
      },
      "source": [
        "from sklearn.metrics import r2_score\n",
        "import numpy as np\n",
        "\n",
        "def rmse(y_true, y_pred):\n",
        "    return np.sqrt(((y_pred - y_true) ** 2).mean())\n",
        "\n",
        "def mape(y_true, y_pred,dropinf=True):\n",
        "    y_true, y_pred = np.array(y_true), np.array(y_pred)\n",
        "    ape = np.abs((y_true - y_pred) / y_true)\n",
        "    if dropinf == True:\n",
        "      ape = ape[np.isfinite(ape)]\n",
        "    return np.mean(ape) * 100\n",
        "\n",
        "def metric(y_true,y_pred):\n",
        "  R2 = r2_score(y_true,y_pred)\n",
        "  RMSE = rmse(y_true,y_pred)\n",
        "  MAPE = mape(y_true,y_pred)\n",
        "  return {'R2':R2,'RMSE':RMSE,'MAPE':MAPE}"
      ],
      "execution_count": 0,
      "outputs": []
    },
    {
      "cell_type": "markdown",
      "metadata": {
        "id": "CzPmdSF5iiBk",
        "colab_type": "text"
      },
      "source": [
        "# train test資料準備"
      ]
    },
    {
      "cell_type": "code",
      "metadata": {
        "id": "ODPrfAN2ieaX",
        "colab_type": "code",
        "outputId": "6056a214-e0c9-4bac-8e5c-32ea42ada37a",
        "colab": {
          "base_uri": "https://localhost:8080/",
          "height": 52
        }
      },
      "source": [
        "#訓練資料\n",
        "X_train = train[x_columns]\n",
        "y_train = train[y_columns]\n",
        "print(X_train.shape)\n",
        "print(y_train.shape)"
      ],
      "execution_count": 12,
      "outputs": [
        {
          "output_type": "stream",
          "text": [
            "(4521, 6)\n",
            "(4521, 23)\n"
          ],
          "name": "stdout"
        }
      ]
    },
    {
      "cell_type": "code",
      "metadata": {
        "id": "nLcq3b8OMv7_",
        "colab_type": "code",
        "outputId": "404cd569-1a0f-476f-ec33-5dfb6eea6fbd",
        "colab": {
          "base_uri": "https://localhost:8080/",
          "height": 52
        }
      },
      "source": [
        "#讀取測試資料170筆\n",
        "test = pd.read_csv('/content/drive/My Drive/台塑輕油案子/test_without_outlier.csv')\n",
        "#rename columns\n",
        "test.columns = train.columns[:-2]\n",
        "#特徵工程\n",
        "test = 特徵工程(test)\n",
        "#測試資料\n",
        "X_test = test[x_columns]\n",
        "y_test = test[y_columns]\n",
        "print(X_test.shape)\n",
        "print(y_test.shape)"
      ],
      "execution_count": 13,
      "outputs": [
        {
          "output_type": "stream",
          "text": [
            "(170, 6)\n",
            "(170, 23)\n"
          ],
          "name": "stdout"
        }
      ]
    },
    {
      "cell_type": "markdown",
      "metadata": {
        "id": "wjqmUt0LRIw_",
        "colab_type": "text"
      },
      "source": [
        "#調整超參數"
      ]
    },
    {
      "cell_type": "code",
      "metadata": {
        "id": "61_sR0emnMQ0",
        "colab_type": "code",
        "outputId": "29a4c343-1b22-43ac-ef5d-5767bc2ffaca",
        "colab": {
          "base_uri": "https://localhost:8080/",
          "height": 769
        }
      },
      "source": [
        "import warnings \n",
        "warnings.simplefilter('ignore')\n",
        "from sklearn.model_selection import RandomizedSearchCV\n",
        "from tqdm import tqdm_notebook as tqdm\n",
        "\n",
        "table = pd.DataFrame()\n",
        "\n",
        "#人工定義超參數\n",
        "ALPHA = 0.04\n",
        "C = 1\n",
        "GAMMA = 'scale'\n",
        "\n",
        "#對23個y建模\n",
        "for y_name in tqdm(y_columns):\n",
        "  model = pipeline.set_params(LassoTR__alpha = ALPHA,\n",
        "                              svr__C = C,\n",
        "                              svr__gamma=GAMMA)\n",
        "  model.fit(X_train,y_train[y_name])#訓練\n",
        "  y_pred = model.predict(X_test)#預測\n",
        "  table = table.append(pd.DataFrame(metric(y_test[y_name],y_pred),index=[y_name]))#append結果至\"table\"\n",
        "\n",
        "#table平均\n",
        "table.loc['AVG',:] = table.mean(axis=0)\n",
        "table"
      ],
      "execution_count": 14,
      "outputs": [
        {
          "output_type": "display_data",
          "data": {
            "application/vnd.jupyter.widget-view+json": {
              "model_id": "e34b9946aa914cb38b924d8f5700a9b2",
              "version_minor": 0,
              "version_major": 2
            },
            "text/plain": [
              "HBox(children=(IntProgress(value=0, max=23), HTML(value='')))"
            ]
          },
          "metadata": {
            "tags": []
          }
        },
        {
          "output_type": "stream",
          "text": [
            "\n"
          ],
          "name": "stdout"
        },
        {
          "output_type": "execute_result",
          "data": {
            "text/html": [
              "<div>\n",
              "<style scoped>\n",
              "    .dataframe tbody tr th:only-of-type {\n",
              "        vertical-align: middle;\n",
              "    }\n",
              "\n",
              "    .dataframe tbody tr th {\n",
              "        vertical-align: top;\n",
              "    }\n",
              "\n",
              "    .dataframe thead th {\n",
              "        text-align: right;\n",
              "    }\n",
              "</style>\n",
              "<table border=\"1\" class=\"dataframe\">\n",
              "  <thead>\n",
              "    <tr style=\"text-align: right;\">\n",
              "      <th></th>\n",
              "      <th>R2</th>\n",
              "      <th>RMSE</th>\n",
              "      <th>MAPE</th>\n",
              "    </tr>\n",
              "  </thead>\n",
              "  <tbody>\n",
              "    <tr>\n",
              "      <th>C5NP</th>\n",
              "      <td>0.884713</td>\n",
              "      <td>0.290165</td>\n",
              "      <td>27.219357</td>\n",
              "    </tr>\n",
              "    <tr>\n",
              "      <th>C5IP</th>\n",
              "      <td>0.738117</td>\n",
              "      <td>0.261873</td>\n",
              "      <td>41.651664</td>\n",
              "    </tr>\n",
              "    <tr>\n",
              "      <th>C5N</th>\n",
              "      <td>0.785770</td>\n",
              "      <td>0.063363</td>\n",
              "      <td>225.162305</td>\n",
              "    </tr>\n",
              "    <tr>\n",
              "      <th>C6NP</th>\n",
              "      <td>0.088396</td>\n",
              "      <td>0.386282</td>\n",
              "      <td>6.601181</td>\n",
              "    </tr>\n",
              "    <tr>\n",
              "      <th>C6IP</th>\n",
              "      <td>0.866548</td>\n",
              "      <td>0.381845</td>\n",
              "      <td>9.492352</td>\n",
              "    </tr>\n",
              "    <tr>\n",
              "      <th>C6N</th>\n",
              "      <td>0.879682</td>\n",
              "      <td>0.574429</td>\n",
              "      <td>5.500986</td>\n",
              "    </tr>\n",
              "    <tr>\n",
              "      <th>C6A</th>\n",
              "      <td>0.533583</td>\n",
              "      <td>0.116681</td>\n",
              "      <td>17.532331</td>\n",
              "    </tr>\n",
              "    <tr>\n",
              "      <th>C7NP</th>\n",
              "      <td>0.980630</td>\n",
              "      <td>0.306088</td>\n",
              "      <td>2.941694</td>\n",
              "    </tr>\n",
              "    <tr>\n",
              "      <th>C7IP</th>\n",
              "      <td>0.859847</td>\n",
              "      <td>0.413681</td>\n",
              "      <td>4.421077</td>\n",
              "    </tr>\n",
              "    <tr>\n",
              "      <th>C7N</th>\n",
              "      <td>0.980959</td>\n",
              "      <td>0.575045</td>\n",
              "      <td>3.406385</td>\n",
              "    </tr>\n",
              "    <tr>\n",
              "      <th>C7A</th>\n",
              "      <td>0.668932</td>\n",
              "      <td>0.267391</td>\n",
              "      <td>4.546158</td>\n",
              "    </tr>\n",
              "    <tr>\n",
              "      <th>C8NP</th>\n",
              "      <td>0.979137</td>\n",
              "      <td>0.249634</td>\n",
              "      <td>2.982344</td>\n",
              "    </tr>\n",
              "    <tr>\n",
              "      <th>C8IP</th>\n",
              "      <td>0.963542</td>\n",
              "      <td>0.298119</td>\n",
              "      <td>2.630530</td>\n",
              "    </tr>\n",
              "    <tr>\n",
              "      <th>C8N</th>\n",
              "      <td>0.922814</td>\n",
              "      <td>0.506990</td>\n",
              "      <td>5.029191</td>\n",
              "    </tr>\n",
              "    <tr>\n",
              "      <th>C8A</th>\n",
              "      <td>0.573901</td>\n",
              "      <td>0.530609</td>\n",
              "      <td>5.308529</td>\n",
              "    </tr>\n",
              "    <tr>\n",
              "      <th>C9NP</th>\n",
              "      <td>0.993738</td>\n",
              "      <td>0.126502</td>\n",
              "      <td>2.352211</td>\n",
              "    </tr>\n",
              "    <tr>\n",
              "      <th>C9IP</th>\n",
              "      <td>0.955219</td>\n",
              "      <td>0.334674</td>\n",
              "      <td>3.181164</td>\n",
              "    </tr>\n",
              "    <tr>\n",
              "      <th>C9N</th>\n",
              "      <td>0.712920</td>\n",
              "      <td>0.432675</td>\n",
              "      <td>7.114782</td>\n",
              "    </tr>\n",
              "    <tr>\n",
              "      <th>C9A</th>\n",
              "      <td>0.607714</td>\n",
              "      <td>0.379527</td>\n",
              "      <td>9.465164</td>\n",
              "    </tr>\n",
              "    <tr>\n",
              "      <th>C10NP</th>\n",
              "      <td>0.486961</td>\n",
              "      <td>0.151430</td>\n",
              "      <td>12.764387</td>\n",
              "    </tr>\n",
              "    <tr>\n",
              "      <th>C10IP</th>\n",
              "      <td>0.869019</td>\n",
              "      <td>0.369772</td>\n",
              "      <td>6.564476</td>\n",
              "    </tr>\n",
              "    <tr>\n",
              "      <th>C10N</th>\n",
              "      <td>0.682184</td>\n",
              "      <td>0.073610</td>\n",
              "      <td>8.620746</td>\n",
              "    </tr>\n",
              "    <tr>\n",
              "      <th>C10A</th>\n",
              "      <td>0.419422</td>\n",
              "      <td>0.177600</td>\n",
              "      <td>20.274436</td>\n",
              "    </tr>\n",
              "    <tr>\n",
              "      <th>AVG</th>\n",
              "      <td>0.757989</td>\n",
              "      <td>0.315999</td>\n",
              "      <td>18.902759</td>\n",
              "    </tr>\n",
              "  </tbody>\n",
              "</table>\n",
              "</div>"
            ],
            "text/plain": [
              "             R2      RMSE        MAPE\n",
              "C5NP   0.884713  0.290165   27.219357\n",
              "C5IP   0.738117  0.261873   41.651664\n",
              "C5N    0.785770  0.063363  225.162305\n",
              "C6NP   0.088396  0.386282    6.601181\n",
              "C6IP   0.866548  0.381845    9.492352\n",
              "C6N    0.879682  0.574429    5.500986\n",
              "C6A    0.533583  0.116681   17.532331\n",
              "C7NP   0.980630  0.306088    2.941694\n",
              "C7IP   0.859847  0.413681    4.421077\n",
              "C7N    0.980959  0.575045    3.406385\n",
              "C7A    0.668932  0.267391    4.546158\n",
              "C8NP   0.979137  0.249634    2.982344\n",
              "C8IP   0.963542  0.298119    2.630530\n",
              "C8N    0.922814  0.506990    5.029191\n",
              "C8A    0.573901  0.530609    5.308529\n",
              "C9NP   0.993738  0.126502    2.352211\n",
              "C9IP   0.955219  0.334674    3.181164\n",
              "C9N    0.712920  0.432675    7.114782\n",
              "C9A    0.607714  0.379527    9.465164\n",
              "C10NP  0.486961  0.151430   12.764387\n",
              "C10IP  0.869019  0.369772    6.564476\n",
              "C10N   0.682184  0.073610    8.620746\n",
              "C10A   0.419422  0.177600   20.274436\n",
              "AVG    0.757989  0.315999   18.902759"
            ]
          },
          "metadata": {
            "tags": []
          },
          "execution_count": 14
        }
      ]
    },
    {
      "cell_type": "markdown",
      "metadata": {
        "id": "RvdsTOIJV9-g",
        "colab_type": "text"
      },
      "source": [
        "# 檢查目前最大RMSE"
      ]
    },
    {
      "cell_type": "code",
      "metadata": {
        "id": "mLY76M7SV4Qp",
        "colab_type": "code",
        "outputId": "f13055ec-102c-4d3e-ea31-6d7127babab7",
        "colab": {
          "base_uri": "https://localhost:8080/",
          "height": 76
        }
      },
      "source": [
        "table[table.RMSE==table.RMSE.max()]"
      ],
      "execution_count": 15,
      "outputs": [
        {
          "output_type": "execute_result",
          "data": {
            "text/html": [
              "<div>\n",
              "<style scoped>\n",
              "    .dataframe tbody tr th:only-of-type {\n",
              "        vertical-align: middle;\n",
              "    }\n",
              "\n",
              "    .dataframe tbody tr th {\n",
              "        vertical-align: top;\n",
              "    }\n",
              "\n",
              "    .dataframe thead th {\n",
              "        text-align: right;\n",
              "    }\n",
              "</style>\n",
              "<table border=\"1\" class=\"dataframe\">\n",
              "  <thead>\n",
              "    <tr style=\"text-align: right;\">\n",
              "      <th></th>\n",
              "      <th>R2</th>\n",
              "      <th>RMSE</th>\n",
              "      <th>MAPE</th>\n",
              "    </tr>\n",
              "  </thead>\n",
              "  <tbody>\n",
              "    <tr>\n",
              "      <th>C7N</th>\n",
              "      <td>0.980959</td>\n",
              "      <td>0.575045</td>\n",
              "      <td>3.406385</td>\n",
              "    </tr>\n",
              "  </tbody>\n",
              "</table>\n",
              "</div>"
            ],
            "text/plain": [
              "           R2      RMSE      MAPE\n",
              "C7N  0.980959  0.575045  3.406385"
            ]
          },
          "metadata": {
            "tags": []
          },
          "execution_count": 15
        }
      ]
    },
    {
      "cell_type": "markdown",
      "metadata": {
        "id": "Wd4WmOMDVOpV",
        "colab_type": "text"
      },
      "source": [
        "# 結論:已達驗收標準,無清洗資料,平均RMSE:0.315,個別最大RMSE不超過0.6"
      ]
    },
    {
      "cell_type": "markdown",
      "metadata": {
        "id": "_sgKX4Tz8l30",
        "colab_type": "text"
      },
      "source": [
        "# 嘗試針對RMSE大於0.50以上的加入集成學習,另寫一份文件"
      ]
    },
    {
      "cell_type": "code",
      "metadata": {
        "id": "AIE5sOkXUbjv",
        "colab_type": "code",
        "colab": {
          "base_uri": "https://localhost:8080/",
          "height": 35
        },
        "outputId": "40391414-3448-473d-8ed3-94a41f326069"
      },
      "source": [
        "High_RMSE_index = table[table['RMSE']>0.50].index.tolist()\n",
        "High_RMSE_index"
      ],
      "execution_count": 16,
      "outputs": [
        {
          "output_type": "execute_result",
          "data": {
            "text/plain": [
              "['C6N', 'C7N', 'C8N', 'C8A']"
            ]
          },
          "metadata": {
            "tags": []
          },
          "execution_count": 16
        }
      ]
    },
    {
      "cell_type": "code",
      "metadata": {
        "id": "RbtZ2K06GiWC",
        "colab_type": "code",
        "colab": {}
      },
      "source": [
        ""
      ],
      "execution_count": 0,
      "outputs": []
    }
  ]
}