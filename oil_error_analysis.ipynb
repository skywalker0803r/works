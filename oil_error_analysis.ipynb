{
  "nbformat": 4,
  "nbformat_minor": 0,
  "metadata": {
    "colab": {
      "name": "error analysis.ipynb",
      "provenance": [],
      "include_colab_link": true
    },
    "kernelspec": {
      "name": "python3",
      "display_name": "Python 3"
    }
  },
  "cells": [
    {
      "cell_type": "markdown",
      "metadata": {
        "id": "view-in-github",
        "colab_type": "text"
      },
      "source": [
        "<a href=\"https://colab.research.google.com/github/skywalker0803r/works/blob/master/oil_error_analysis.ipynb\" target=\"_parent\"><img src=\"https://colab.research.google.com/assets/colab-badge.svg\" alt=\"Open In Colab\"/></a>"
      ]
    },
    {
      "cell_type": "code",
      "metadata": {
        "id": "R42lkJbSIydA",
        "colab_type": "code",
        "colab": {
          "base_uri": "https://localhost:8080/",
          "height": 35
        },
        "outputId": "cc67eec2-b227-4b82-d2bb-8ad5467d2332"
      },
      "source": [
        "#!pip install catboost\n",
        "from google.colab import drive\n",
        "drive.mount('/content/drive')\n",
        "from sklearn.multioutput import MultiOutputRegressor\n",
        "import pandas as pd\n",
        "from sklearn.model_selection import train_test_split\n",
        "import numpy as np\n",
        "import warnings;warnings.simplefilter('ignore')\n",
        "from sklearn.model_selection import cross_validate\n",
        "from sklearn.linear_model import BayesianRidge, LinearRegression,Lasso,Ridge\n",
        "from sklearn.neural_network import MLPRegressor\n",
        "from xgboost import XGBRegressor\n",
        "from sklearn.svm import SVR\n",
        "from catboost import CatBoostRegressor\n",
        "from sklearn.preprocessing import StandardScaler,MinMaxScaler\n",
        "from sklearn.metrics import r2_score,mean_squared_error,mean_absolute_error\n",
        "from sklearn.model_selection import train_test_split\n",
        "from sklearn.metrics.scorer import make_scorer\n",
        "import plotly.express as px\n",
        "import seaborn as sns"
      ],
      "execution_count": 1,
      "outputs": [
        {
          "output_type": "stream",
          "text": [
            "Drive already mounted at /content/drive; to attempt to forcibly remount, call drive.mount(\"/content/drive\", force_remount=True).\n"
          ],
          "name": "stdout"
        }
      ]
    },
    {
      "cell_type": "code",
      "metadata": {
        "id": "6ks-bin8JLvd",
        "colab_type": "code",
        "colab": {}
      },
      "source": [
        "def mape(a, b):\n",
        "    a ,b = np.array(a) ,np.array(b)\n",
        "    mask = a != 0\n",
        "    return (np.fabs(a - b)/a)[mask].mean()\n",
        "\n",
        "def rmse(y_t,y_p):\n",
        "  return np.sqrt(mean_squared_error(y_t,y_p))\n",
        "\n",
        "def metric(y_t,y_p,name):\n",
        "  res = {'R2':np.clip(r2_score(y_t,y_p),0,1),\n",
        "         'RMSE':rmse(y_t,y_p),\n",
        "         'MAPE':mape(y_t,y_p)}\n",
        "  return pd.DataFrame(res,index=[name])\n",
        "\n",
        "def clean(df):\n",
        "  condition = (df['N+A']>=36)\n",
        "  return df.loc[condition]\n",
        "\n",
        "def get_result(y_test,y_pred):\n",
        "  res = pd.DataFrame()\n",
        "  for y_name in y_columns:\n",
        "    row = metric(y_test[y_name],y_pred[y_name],y_name)\n",
        "    res = res.append(row)\n",
        "  res.loc['AVG'] = res.mean()\n",
        "  return res\n",
        "\n",
        "def softmax(x):\n",
        "    e_x = np.exp(x - np.max(x))\n",
        "    return e_x / e_x.sum(axis=0)"
      ],
      "execution_count": 0,
      "outputs": []
    },
    {
      "cell_type": "markdown",
      "metadata": {
        "id": "aLs1QEH2n5TJ",
        "colab_type": "text"
      },
      "source": [
        "# load"
      ]
    },
    {
      "cell_type": "code",
      "metadata": {
        "id": "Hw4Hv1amJ2Bq",
        "colab_type": "code",
        "colab": {
          "base_uri": "https://localhost:8080/",
          "height": 35
        },
        "outputId": "c33b75ee-03ca-43e3-c7ab-f2887c5ca0cc"
      },
      "source": [
        "train_4521 = pd.read_csv('/content/drive/My Drive/台塑輕油案子/data/train_4521.csv',index_col=0)\n",
        "test_170 = pd.read_csv('/content/drive/My Drive/台塑輕油案子/data/test_170.csv',index_col=0)\n",
        "test_250 = pd.read_csv('/content/drive/My Drive/台塑輕油案子/data/test_250.csv',index_col=0)\n",
        "full = train_4521.append(test_170).append(test_250)\n",
        "full.shape"
      ],
      "execution_count": 3,
      "outputs": [
        {
          "output_type": "execute_result",
          "data": {
            "text/plain": [
              "(4941, 27)"
            ]
          },
          "metadata": {
            "tags": []
          },
          "execution_count": 3
        }
      ]
    },
    {
      "cell_type": "markdown",
      "metadata": {
        "id": "00s1C6-9n7uL",
        "colab_type": "text"
      },
      "source": [
        "# clean and drop duplicates"
      ]
    },
    {
      "cell_type": "code",
      "metadata": {
        "id": "CMR2o4E5KBwK",
        "colab_type": "code",
        "colab": {
          "base_uri": "https://localhost:8080/",
          "height": 53
        },
        "outputId": "4ff3c274-9777-47d0-bac0-ab3ad8aa1efc"
      },
      "source": [
        "full = clean(full)\n",
        "print(full.shape)\n",
        "full = full.drop_duplicates()\n",
        "full.shape"
      ],
      "execution_count": 4,
      "outputs": [
        {
          "output_type": "stream",
          "text": [
            "(2892, 27)\n"
          ],
          "name": "stdout"
        },
        {
          "output_type": "execute_result",
          "data": {
            "text/plain": [
              "(2863, 27)"
            ]
          },
          "metadata": {
            "tags": []
          },
          "execution_count": 4
        }
      ]
    },
    {
      "cell_type": "markdown",
      "metadata": {
        "id": "nNS6zKrvn_vj",
        "colab_type": "text"
      },
      "source": [
        "# define columns"
      ]
    },
    {
      "cell_type": "code",
      "metadata": {
        "id": "CRwqWdZbKGn8",
        "colab_type": "code",
        "colab": {}
      },
      "source": [
        "cols = full.columns.tolist()\n",
        "features = cols[:4]\n",
        "y_columns = cols[4:]"
      ],
      "execution_count": 0,
      "outputs": []
    },
    {
      "cell_type": "markdown",
      "metadata": {
        "id": "UUtZqX5ioCbc",
        "colab_type": "text"
      },
      "source": [
        "# reset_index"
      ]
    },
    {
      "cell_type": "code",
      "metadata": {
        "id": "u1Txexi2V7PY",
        "colab_type": "code",
        "colab": {
          "base_uri": "https://localhost:8080/",
          "height": 204
        },
        "outputId": "cb1ec7de-a317-4775-996d-5877a21a76c2"
      },
      "source": [
        "full = full.reset_index(drop=True)\n",
        "full.head()"
      ],
      "execution_count": 6,
      "outputs": [
        {
          "output_type": "execute_result",
          "data": {
            "text/html": [
              "<div>\n",
              "<style scoped>\n",
              "    .dataframe tbody tr th:only-of-type {\n",
              "        vertical-align: middle;\n",
              "    }\n",
              "\n",
              "    .dataframe tbody tr th {\n",
              "        vertical-align: top;\n",
              "    }\n",
              "\n",
              "    .dataframe thead th {\n",
              "        text-align: right;\n",
              "    }\n",
              "</style>\n",
              "<table border=\"1\" class=\"dataframe\">\n",
              "  <thead>\n",
              "    <tr style=\"text-align: right;\">\n",
              "      <th></th>\n",
              "      <th>T10</th>\n",
              "      <th>T50</th>\n",
              "      <th>T90</th>\n",
              "      <th>N+A</th>\n",
              "      <th>C5NP</th>\n",
              "      <th>C5IP</th>\n",
              "      <th>C5N</th>\n",
              "      <th>C6NP</th>\n",
              "      <th>C6IP</th>\n",
              "      <th>C6N</th>\n",
              "      <th>C6A</th>\n",
              "      <th>C7NP</th>\n",
              "      <th>C7IP</th>\n",
              "      <th>C7N</th>\n",
              "      <th>C7A</th>\n",
              "      <th>C8NP</th>\n",
              "      <th>C8IP</th>\n",
              "      <th>C8N</th>\n",
              "      <th>C8A</th>\n",
              "      <th>C9NP</th>\n",
              "      <th>C9IP</th>\n",
              "      <th>C9N</th>\n",
              "      <th>C9A</th>\n",
              "      <th>C10NP</th>\n",
              "      <th>C10IP</th>\n",
              "      <th>C10N</th>\n",
              "      <th>C10A</th>\n",
              "    </tr>\n",
              "  </thead>\n",
              "  <tbody>\n",
              "    <tr>\n",
              "      <th>0</th>\n",
              "      <td>103.3</td>\n",
              "      <td>118.9</td>\n",
              "      <td>143.1</td>\n",
              "      <td>36.592</td>\n",
              "      <td>0.002</td>\n",
              "      <td>0.000</td>\n",
              "      <td>0.000</td>\n",
              "      <td>3.032</td>\n",
              "      <td>0.536</td>\n",
              "      <td>4.599</td>\n",
              "      <td>0.437</td>\n",
              "      <td>10.119</td>\n",
              "      <td>8.158</td>\n",
              "      <td>8.066</td>\n",
              "      <td>3.144</td>\n",
              "      <td>8.824</td>\n",
              "      <td>9.438</td>\n",
              "      <td>5.356</td>\n",
              "      <td>5.727</td>\n",
              "      <td>6.099</td>\n",
              "      <td>9.952</td>\n",
              "      <td>4.479</td>\n",
              "      <td>3.780</td>\n",
              "      <td>0.849</td>\n",
              "      <td>5.160</td>\n",
              "      <td>0.636</td>\n",
              "      <td>0.368</td>\n",
              "    </tr>\n",
              "    <tr>\n",
              "      <th>1</th>\n",
              "      <td>112.8</td>\n",
              "      <td>128.5</td>\n",
              "      <td>150.3</td>\n",
              "      <td>36.880</td>\n",
              "      <td>0.139</td>\n",
              "      <td>0.067</td>\n",
              "      <td>0.030</td>\n",
              "      <td>1.655</td>\n",
              "      <td>0.864</td>\n",
              "      <td>1.434</td>\n",
              "      <td>0.272</td>\n",
              "      <td>6.580</td>\n",
              "      <td>4.713</td>\n",
              "      <td>5.622</td>\n",
              "      <td>3.304</td>\n",
              "      <td>9.068</td>\n",
              "      <td>9.336</td>\n",
              "      <td>6.021</td>\n",
              "      <td>7.713</td>\n",
              "      <td>7.156</td>\n",
              "      <td>12.958</td>\n",
              "      <td>6.091</td>\n",
              "      <td>4.367</td>\n",
              "      <td>1.753</td>\n",
              "      <td>7.137</td>\n",
              "      <td>0.938</td>\n",
              "      <td>1.088</td>\n",
              "    </tr>\n",
              "    <tr>\n",
              "      <th>2</th>\n",
              "      <td>113.2</td>\n",
              "      <td>129.8</td>\n",
              "      <td>150.4</td>\n",
              "      <td>37.194</td>\n",
              "      <td>0.136</td>\n",
              "      <td>0.065</td>\n",
              "      <td>0.030</td>\n",
              "      <td>1.677</td>\n",
              "      <td>0.852</td>\n",
              "      <td>1.452</td>\n",
              "      <td>0.271</td>\n",
              "      <td>6.664</td>\n",
              "      <td>4.785</td>\n",
              "      <td>5.626</td>\n",
              "      <td>3.285</td>\n",
              "      <td>9.086</td>\n",
              "      <td>9.348</td>\n",
              "      <td>6.082</td>\n",
              "      <td>7.677</td>\n",
              "      <td>7.197</td>\n",
              "      <td>12.997</td>\n",
              "      <td>6.360</td>\n",
              "      <td>4.376</td>\n",
              "      <td>1.739</td>\n",
              "      <td>7.112</td>\n",
              "      <td>1.020</td>\n",
              "      <td>1.015</td>\n",
              "    </tr>\n",
              "    <tr>\n",
              "      <th>3</th>\n",
              "      <td>109.5</td>\n",
              "      <td>126.7</td>\n",
              "      <td>151.9</td>\n",
              "      <td>36.013</td>\n",
              "      <td>0.366</td>\n",
              "      <td>0.227</td>\n",
              "      <td>0.043</td>\n",
              "      <td>2.104</td>\n",
              "      <td>0.989</td>\n",
              "      <td>1.771</td>\n",
              "      <td>0.305</td>\n",
              "      <td>7.723</td>\n",
              "      <td>5.726</td>\n",
              "      <td>6.251</td>\n",
              "      <td>3.193</td>\n",
              "      <td>9.063</td>\n",
              "      <td>9.453</td>\n",
              "      <td>6.081</td>\n",
              "      <td>6.863</td>\n",
              "      <td>6.898</td>\n",
              "      <td>12.019</td>\n",
              "      <td>5.742</td>\n",
              "      <td>4.164</td>\n",
              "      <td>1.423</td>\n",
              "      <td>6.630</td>\n",
              "      <td>0.831</td>\n",
              "      <td>0.769</td>\n",
              "    </tr>\n",
              "    <tr>\n",
              "      <th>4</th>\n",
              "      <td>104.1</td>\n",
              "      <td>126.3</td>\n",
              "      <td>150.8</td>\n",
              "      <td>36.640</td>\n",
              "      <td>1.334</td>\n",
              "      <td>0.906</td>\n",
              "      <td>0.118</td>\n",
              "      <td>2.618</td>\n",
              "      <td>1.824</td>\n",
              "      <td>1.924</td>\n",
              "      <td>0.379</td>\n",
              "      <td>6.957</td>\n",
              "      <td>5.263</td>\n",
              "      <td>6.529</td>\n",
              "      <td>3.012</td>\n",
              "      <td>8.460</td>\n",
              "      <td>8.822</td>\n",
              "      <td>6.301</td>\n",
              "      <td>6.201</td>\n",
              "      <td>6.389</td>\n",
              "      <td>11.240</td>\n",
              "      <td>6.283</td>\n",
              "      <td>4.162</td>\n",
              "      <td>1.491</td>\n",
              "      <td>6.982</td>\n",
              "      <td>1.013</td>\n",
              "      <td>0.718</td>\n",
              "    </tr>\n",
              "  </tbody>\n",
              "</table>\n",
              "</div>"
            ],
            "text/plain": [
              "     T10    T50    T90     N+A   C5NP  ...    C9A  C10NP  C10IP   C10N   C10A\n",
              "0  103.3  118.9  143.1  36.592  0.002  ...  3.780  0.849  5.160  0.636  0.368\n",
              "1  112.8  128.5  150.3  36.880  0.139  ...  4.367  1.753  7.137  0.938  1.088\n",
              "2  113.2  129.8  150.4  37.194  0.136  ...  4.376  1.739  7.112  1.020  1.015\n",
              "3  109.5  126.7  151.9  36.013  0.366  ...  4.164  1.423  6.630  0.831  0.769\n",
              "4  104.1  126.3  150.8  36.640  1.334  ...  4.162  1.491  6.982  1.013  0.718\n",
              "\n",
              "[5 rows x 27 columns]"
            ]
          },
          "metadata": {
            "tags": []
          },
          "execution_count": 6
        }
      ]
    },
    {
      "cell_type": "markdown",
      "metadata": {
        "id": "EacAyC9_oFLs",
        "colab_type": "text"
      },
      "source": [
        "# model"
      ]
    },
    {
      "cell_type": "code",
      "metadata": {
        "id": "YPjiNSoCKSh-",
        "colab_type": "code",
        "colab": {}
      },
      "source": [
        "base = CatBoostRegressor(learning_rate = 0.1,n_estimators = 100,verbose=0)\n",
        "model = MultiOutputRegressor(base)"
      ],
      "execution_count": 0,
      "outputs": []
    },
    {
      "cell_type": "markdown",
      "metadata": {
        "id": "PmDkLAsCoKKK",
        "colab_type": "text"
      },
      "source": [
        "# split and train"
      ]
    },
    {
      "cell_type": "code",
      "metadata": {
        "id": "onBr7a2MMpTa",
        "colab_type": "code",
        "colab": {
          "base_uri": "https://localhost:8080/",
          "height": 53
        },
        "outputId": "8e81578d-1758-4276-c108-6eb70c0f4fc6"
      },
      "source": [
        "X = full[features]\n",
        "y = full[y_columns]\n",
        "X_train, X_test, y_train, y_test = train_test_split(X, y, test_size = 0.2 ,random_state=42)\n",
        "model.fit(X_train,y_train)"
      ],
      "execution_count": 8,
      "outputs": [
        {
          "output_type": "execute_result",
          "data": {
            "text/plain": [
              "MultiOutputRegressor(estimator=<catboost.core.CatBoostRegressor object at 0x7f61bf5889b0>,\n",
              "                     n_jobs=None)"
            ]
          },
          "metadata": {
            "tags": []
          },
          "execution_count": 8
        }
      ]
    },
    {
      "cell_type": "markdown",
      "metadata": {
        "id": "_F8yFmZ1oNTK",
        "colab_type": "text"
      },
      "source": [
        "# predict and metric"
      ]
    },
    {
      "cell_type": "code",
      "metadata": {
        "id": "ZT-FCh5bNWPu",
        "colab_type": "code",
        "colab": {
          "base_uri": "https://localhost:8080/",
          "height": 544
        },
        "outputId": "69a268fe-9053-4ae4-b6c2-e020d1c06b40"
      },
      "source": [
        "y_pred = pd.DataFrame(model.predict(X_test),columns=y_columns,index=y_test.index)\n",
        "res = get_result(y_test,y_pred)\n",
        "res.style.background_gradient()"
      ],
      "execution_count": 9,
      "outputs": [
        {
          "output_type": "execute_result",
          "data": {
            "text/html": [
              "<style  type=\"text/css\" >\n",
              "    #T_15cb3184_1afe_11ea_9d72_0242ac1c0002row0_col0 {\n",
              "            background-color:  #023858;\n",
              "            color:  #f1f1f1;\n",
              "        }    #T_15cb3184_1afe_11ea_9d72_0242ac1c0002row0_col1 {\n",
              "            background-color:  #cacee5;\n",
              "            color:  #000000;\n",
              "        }    #T_15cb3184_1afe_11ea_9d72_0242ac1c0002row0_col2 {\n",
              "            background-color:  #d0d1e6;\n",
              "            color:  #000000;\n",
              "        }    #T_15cb3184_1afe_11ea_9d72_0242ac1c0002row1_col0 {\n",
              "            background-color:  #034369;\n",
              "            color:  #f1f1f1;\n",
              "        }    #T_15cb3184_1afe_11ea_9d72_0242ac1c0002row1_col1 {\n",
              "            background-color:  #d6d6e9;\n",
              "            color:  #000000;\n",
              "        }    #T_15cb3184_1afe_11ea_9d72_0242ac1c0002row1_col2 {\n",
              "            background-color:  #1379b5;\n",
              "            color:  #f1f1f1;\n",
              "        }    #T_15cb3184_1afe_11ea_9d72_0242ac1c0002row2_col0 {\n",
              "            background-color:  #fff7fb;\n",
              "            color:  #000000;\n",
              "        }    #T_15cb3184_1afe_11ea_9d72_0242ac1c0002row2_col1 {\n",
              "            background-color:  #fff7fb;\n",
              "            color:  #000000;\n",
              "        }    #T_15cb3184_1afe_11ea_9d72_0242ac1c0002row2_col2 {\n",
              "            background-color:  #b1c2de;\n",
              "            color:  #000000;\n",
              "        }    #T_15cb3184_1afe_11ea_9d72_0242ac1c0002row3_col0 {\n",
              "            background-color:  #034c78;\n",
              "            color:  #f1f1f1;\n",
              "        }    #T_15cb3184_1afe_11ea_9d72_0242ac1c0002row3_col1 {\n",
              "            background-color:  #dfddec;\n",
              "            color:  #000000;\n",
              "        }    #T_15cb3184_1afe_11ea_9d72_0242ac1c0002row3_col2 {\n",
              "            background-color:  #e7e3f0;\n",
              "            color:  #000000;\n",
              "        }    #T_15cb3184_1afe_11ea_9d72_0242ac1c0002row4_col0 {\n",
              "            background-color:  #03446a;\n",
              "            color:  #f1f1f1;\n",
              "        }    #T_15cb3184_1afe_11ea_9d72_0242ac1c0002row4_col1 {\n",
              "            background-color:  #d5d5e8;\n",
              "            color:  #000000;\n",
              "        }    #T_15cb3184_1afe_11ea_9d72_0242ac1c0002row4_col2 {\n",
              "            background-color:  #e9e5f1;\n",
              "            color:  #000000;\n",
              "        }    #T_15cb3184_1afe_11ea_9d72_0242ac1c0002row5_col0 {\n",
              "            background-color:  #045b8f;\n",
              "            color:  #f1f1f1;\n",
              "        }    #T_15cb3184_1afe_11ea_9d72_0242ac1c0002row5_col1 {\n",
              "            background-color:  #a1bbda;\n",
              "            color:  #000000;\n",
              "        }    #T_15cb3184_1afe_11ea_9d72_0242ac1c0002row5_col2 {\n",
              "            background-color:  #cccfe5;\n",
              "            color:  #000000;\n",
              "        }    #T_15cb3184_1afe_11ea_9d72_0242ac1c0002row6_col0 {\n",
              "            background-color:  #034b76;\n",
              "            color:  #f1f1f1;\n",
              "        }    #T_15cb3184_1afe_11ea_9d72_0242ac1c0002row6_col1 {\n",
              "            background-color:  #79abd0;\n",
              "            color:  #000000;\n",
              "        }    #T_15cb3184_1afe_11ea_9d72_0242ac1c0002row6_col2 {\n",
              "            background-color:  #bfc9e1;\n",
              "            color:  #000000;\n",
              "        }    #T_15cb3184_1afe_11ea_9d72_0242ac1c0002row7_col0 {\n",
              "            background-color:  #045a8d;\n",
              "            color:  #f1f1f1;\n",
              "        }    #T_15cb3184_1afe_11ea_9d72_0242ac1c0002row7_col1 {\n",
              "            background-color:  #cccfe5;\n",
              "            color:  #000000;\n",
              "        }    #T_15cb3184_1afe_11ea_9d72_0242ac1c0002row7_col2 {\n",
              "            background-color:  #fff7fb;\n",
              "            color:  #000000;\n",
              "        }    #T_15cb3184_1afe_11ea_9d72_0242ac1c0002row8_col0 {\n",
              "            background-color:  #056caa;\n",
              "            color:  #f1f1f1;\n",
              "        }    #T_15cb3184_1afe_11ea_9d72_0242ac1c0002row8_col1 {\n",
              "            background-color:  #d1d2e6;\n",
              "            color:  #000000;\n",
              "        }    #T_15cb3184_1afe_11ea_9d72_0242ac1c0002row8_col2 {\n",
              "            background-color:  #fef6fb;\n",
              "            color:  #000000;\n",
              "        }    #T_15cb3184_1afe_11ea_9d72_0242ac1c0002row9_col0 {\n",
              "            background-color:  #045280;\n",
              "            color:  #f1f1f1;\n",
              "        }    #T_15cb3184_1afe_11ea_9d72_0242ac1c0002row9_col1 {\n",
              "            background-color:  #023858;\n",
              "            color:  #f1f1f1;\n",
              "        }    #T_15cb3184_1afe_11ea_9d72_0242ac1c0002row9_col2 {\n",
              "            background-color:  #faf2f8;\n",
              "            color:  #000000;\n",
              "        }    #T_15cb3184_1afe_11ea_9d72_0242ac1c0002row10_col0 {\n",
              "            background-color:  #2685bb;\n",
              "            color:  #000000;\n",
              "        }    #T_15cb3184_1afe_11ea_9d72_0242ac1c0002row10_col1 {\n",
              "            background-color:  #2f8bbe;\n",
              "            color:  #000000;\n",
              "        }    #T_15cb3184_1afe_11ea_9d72_0242ac1c0002row10_col2 {\n",
              "            background-color:  #f8f1f8;\n",
              "            color:  #000000;\n",
              "        }    #T_15cb3184_1afe_11ea_9d72_0242ac1c0002row11_col0 {\n",
              "            background-color:  #034e7b;\n",
              "            color:  #f1f1f1;\n",
              "        }    #T_15cb3184_1afe_11ea_9d72_0242ac1c0002row11_col1 {\n",
              "            background-color:  #d9d8ea;\n",
              "            color:  #000000;\n",
              "        }    #T_15cb3184_1afe_11ea_9d72_0242ac1c0002row11_col2 {\n",
              "            background-color:  #fdf5fa;\n",
              "            color:  #000000;\n",
              "        }    #T_15cb3184_1afe_11ea_9d72_0242ac1c0002row12_col0 {\n",
              "            background-color:  #197db7;\n",
              "            color:  #000000;\n",
              "        }    #T_15cb3184_1afe_11ea_9d72_0242ac1c0002row12_col1 {\n",
              "            background-color:  #80aed2;\n",
              "            color:  #000000;\n",
              "        }    #T_15cb3184_1afe_11ea_9d72_0242ac1c0002row12_col2 {\n",
              "            background-color:  #fbf3f9;\n",
              "            color:  #000000;\n",
              "        }    #T_15cb3184_1afe_11ea_9d72_0242ac1c0002row13_col0 {\n",
              "            background-color:  #197db7;\n",
              "            color:  #000000;\n",
              "        }    #T_15cb3184_1afe_11ea_9d72_0242ac1c0002row13_col1 {\n",
              "            background-color:  #1379b5;\n",
              "            color:  #f1f1f1;\n",
              "        }    #T_15cb3184_1afe_11ea_9d72_0242ac1c0002row13_col2 {\n",
              "            background-color:  #faf2f8;\n",
              "            color:  #000000;\n",
              "        }    #T_15cb3184_1afe_11ea_9d72_0242ac1c0002row14_col0 {\n",
              "            background-color:  #2383ba;\n",
              "            color:  #000000;\n",
              "        }    #T_15cb3184_1afe_11ea_9d72_0242ac1c0002row14_col1 {\n",
              "            background-color:  #2081b9;\n",
              "            color:  #000000;\n",
              "        }    #T_15cb3184_1afe_11ea_9d72_0242ac1c0002row14_col2 {\n",
              "            background-color:  #fbf4f9;\n",
              "            color:  #000000;\n",
              "        }    #T_15cb3184_1afe_11ea_9d72_0242ac1c0002row15_col0 {\n",
              "            background-color:  #034b76;\n",
              "            color:  #f1f1f1;\n",
              "        }    #T_15cb3184_1afe_11ea_9d72_0242ac1c0002row15_col1 {\n",
              "            background-color:  #ece7f2;\n",
              "            color:  #000000;\n",
              "        }    #T_15cb3184_1afe_11ea_9d72_0242ac1c0002row15_col2 {\n",
              "            background-color:  #fdf5fa;\n",
              "            color:  #000000;\n",
              "        }    #T_15cb3184_1afe_11ea_9d72_0242ac1c0002row16_col0 {\n",
              "            background-color:  #045483;\n",
              "            color:  #f1f1f1;\n",
              "        }    #T_15cb3184_1afe_11ea_9d72_0242ac1c0002row16_col1 {\n",
              "            background-color:  #bcc7e1;\n",
              "            color:  #000000;\n",
              "        }    #T_15cb3184_1afe_11ea_9d72_0242ac1c0002row16_col2 {\n",
              "            background-color:  #f8f1f8;\n",
              "            color:  #000000;\n",
              "        }    #T_15cb3184_1afe_11ea_9d72_0242ac1c0002row17_col0 {\n",
              "            background-color:  #3f93c2;\n",
              "            color:  #000000;\n",
              "        }    #T_15cb3184_1afe_11ea_9d72_0242ac1c0002row17_col1 {\n",
              "            background-color:  #a8bedc;\n",
              "            color:  #000000;\n",
              "        }    #T_15cb3184_1afe_11ea_9d72_0242ac1c0002row17_col2 {\n",
              "            background-color:  #faf2f8;\n",
              "            color:  #000000;\n",
              "        }    #T_15cb3184_1afe_11ea_9d72_0242ac1c0002row18_col0 {\n",
              "            background-color:  #2081b9;\n",
              "            color:  #000000;\n",
              "        }    #T_15cb3184_1afe_11ea_9d72_0242ac1c0002row18_col1 {\n",
              "            background-color:  #d9d8ea;\n",
              "            color:  #000000;\n",
              "        }    #T_15cb3184_1afe_11ea_9d72_0242ac1c0002row18_col2 {\n",
              "            background-color:  #f9f2f8;\n",
              "            color:  #000000;\n",
              "        }    #T_15cb3184_1afe_11ea_9d72_0242ac1c0002row19_col0 {\n",
              "            background-color:  #81aed2;\n",
              "            color:  #000000;\n",
              "        }    #T_15cb3184_1afe_11ea_9d72_0242ac1c0002row19_col1 {\n",
              "            background-color:  #efe9f3;\n",
              "            color:  #000000;\n",
              "        }    #T_15cb3184_1afe_11ea_9d72_0242ac1c0002row19_col2 {\n",
              "            background-color:  #023858;\n",
              "            color:  #f1f1f1;\n",
              "        }    #T_15cb3184_1afe_11ea_9d72_0242ac1c0002row20_col0 {\n",
              "            background-color:  #157ab5;\n",
              "            color:  #000000;\n",
              "        }    #T_15cb3184_1afe_11ea_9d72_0242ac1c0002row20_col1 {\n",
              "            background-color:  #b4c4df;\n",
              "            color:  #000000;\n",
              "        }    #T_15cb3184_1afe_11ea_9d72_0242ac1c0002row20_col2 {\n",
              "            background-color:  #f8f1f8;\n",
              "            color:  #000000;\n",
              "        }    #T_15cb3184_1afe_11ea_9d72_0242ac1c0002row21_col0 {\n",
              "            background-color:  #e3e0ee;\n",
              "            color:  #000000;\n",
              "        }    #T_15cb3184_1afe_11ea_9d72_0242ac1c0002row21_col1 {\n",
              "            background-color:  #f0eaf4;\n",
              "            color:  #000000;\n",
              "        }    #T_15cb3184_1afe_11ea_9d72_0242ac1c0002row21_col2 {\n",
              "            background-color:  #dcdaeb;\n",
              "            color:  #000000;\n",
              "        }    #T_15cb3184_1afe_11ea_9d72_0242ac1c0002row22_col0 {\n",
              "            background-color:  #509ac6;\n",
              "            color:  #000000;\n",
              "        }    #T_15cb3184_1afe_11ea_9d72_0242ac1c0002row22_col1 {\n",
              "            background-color:  #f0eaf4;\n",
              "            color:  #000000;\n",
              "        }    #T_15cb3184_1afe_11ea_9d72_0242ac1c0002row22_col2 {\n",
              "            background-color:  #bfc9e1;\n",
              "            color:  #000000;\n",
              "        }    #T_15cb3184_1afe_11ea_9d72_0242ac1c0002row23_col0 {\n",
              "            background-color:  #0c74b2;\n",
              "            color:  #f1f1f1;\n",
              "        }    #T_15cb3184_1afe_11ea_9d72_0242ac1c0002row23_col1 {\n",
              "            background-color:  #b4c4df;\n",
              "            color:  #000000;\n",
              "        }    #T_15cb3184_1afe_11ea_9d72_0242ac1c0002row23_col2 {\n",
              "            background-color:  #e0deed;\n",
              "            color:  #000000;\n",
              "        }</style><table id=\"T_15cb3184_1afe_11ea_9d72_0242ac1c0002\" ><thead>    <tr>        <th class=\"blank level0\" ></th>        <th class=\"col_heading level0 col0\" >R2</th>        <th class=\"col_heading level0 col1\" >RMSE</th>        <th class=\"col_heading level0 col2\" >MAPE</th>    </tr></thead><tbody>\n",
              "                <tr>\n",
              "                        <th id=\"T_15cb3184_1afe_11ea_9d72_0242ac1c0002level0_row0\" class=\"row_heading level0 row0\" >C5NP</th>\n",
              "                        <td id=\"T_15cb3184_1afe_11ea_9d72_0242ac1c0002row0_col0\" class=\"data row0 col0\" >0.938494</td>\n",
              "                        <td id=\"T_15cb3184_1afe_11ea_9d72_0242ac1c0002row0_col1\" class=\"data row0 col1\" >0.621567</td>\n",
              "                        <td id=\"T_15cb3184_1afe_11ea_9d72_0242ac1c0002row0_col2\" class=\"data row0 col2\" >0.398196</td>\n",
              "            </tr>\n",
              "            <tr>\n",
              "                        <th id=\"T_15cb3184_1afe_11ea_9d72_0242ac1c0002level0_row1\" class=\"row_heading level0 row1\" >C5IP</th>\n",
              "                        <td id=\"T_15cb3184_1afe_11ea_9d72_0242ac1c0002row1_col0\" class=\"data row1 col0\" >0.902514</td>\n",
              "                        <td id=\"T_15cb3184_1afe_11ea_9d72_0242ac1c0002row1_col1\" class=\"data row1 col1\" >0.560025</td>\n",
              "                        <td id=\"T_15cb3184_1afe_11ea_9d72_0242ac1c0002row1_col2\" class=\"data row1 col2\" >1.01008</td>\n",
              "            </tr>\n",
              "            <tr>\n",
              "                        <th id=\"T_15cb3184_1afe_11ea_9d72_0242ac1c0002level0_row2\" class=\"row_heading level0 row2\" >C5N</th>\n",
              "                        <td id=\"T_15cb3184_1afe_11ea_9d72_0242ac1c0002row2_col0\" class=\"data row2 col0\" >0.0412632</td>\n",
              "                        <td id=\"T_15cb3184_1afe_11ea_9d72_0242ac1c0002row2_col1\" class=\"data row2 col1\" >0.217926</td>\n",
              "                        <td id=\"T_15cb3184_1afe_11ea_9d72_0242ac1c0002row2_col2\" class=\"data row2 col2\" >0.517409</td>\n",
              "            </tr>\n",
              "            <tr>\n",
              "                        <th id=\"T_15cb3184_1afe_11ea_9d72_0242ac1c0002level0_row3\" class=\"row_heading level0 row3\" >C6NP</th>\n",
              "                        <td id=\"T_15cb3184_1afe_11ea_9d72_0242ac1c0002row3_col0\" class=\"data row3 col0\" >0.868869</td>\n",
              "                        <td id=\"T_15cb3184_1afe_11ea_9d72_0242ac1c0002row3_col1\" class=\"data row3 col1\" >0.496899</td>\n",
              "                        <td id=\"T_15cb3184_1afe_11ea_9d72_0242ac1c0002row3_col2\" class=\"data row3 col2\" >0.265918</td>\n",
              "            </tr>\n",
              "            <tr>\n",
              "                        <th id=\"T_15cb3184_1afe_11ea_9d72_0242ac1c0002level0_row4\" class=\"row_heading level0 row4\" >C6IP</th>\n",
              "                        <td id=\"T_15cb3184_1afe_11ea_9d72_0242ac1c0002row4_col0\" class=\"data row4 col0\" >0.898023</td>\n",
              "                        <td id=\"T_15cb3184_1afe_11ea_9d72_0242ac1c0002row4_col1\" class=\"data row4 col1\" >0.56174</td>\n",
              "                        <td id=\"T_15cb3184_1afe_11ea_9d72_0242ac1c0002row4_col2\" class=\"data row4 col2\" >0.252485</td>\n",
              "            </tr>\n",
              "            <tr>\n",
              "                        <th id=\"T_15cb3184_1afe_11ea_9d72_0242ac1c0002level0_row5\" class=\"row_heading level0 row5\" >C6N</th>\n",
              "                        <td id=\"T_15cb3184_1afe_11ea_9d72_0242ac1c0002row5_col0\" class=\"data row5 col0\" >0.817438</td>\n",
              "                        <td id=\"T_15cb3184_1afe_11ea_9d72_0242ac1c0002row5_col1\" class=\"data row5 col1\" >0.8054</td>\n",
              "                        <td id=\"T_15cb3184_1afe_11ea_9d72_0242ac1c0002row5_col2\" class=\"data row5 col2\" >0.41673</td>\n",
              "            </tr>\n",
              "            <tr>\n",
              "                        <th id=\"T_15cb3184_1afe_11ea_9d72_0242ac1c0002level0_row6\" class=\"row_heading level0 row6\" >C6A</th>\n",
              "                        <td id=\"T_15cb3184_1afe_11ea_9d72_0242ac1c0002row6_col0\" class=\"data row6 col0\" >0.874873</td>\n",
              "                        <td id=\"T_15cb3184_1afe_11ea_9d72_0242ac1c0002row6_col1\" class=\"data row6 col1\" >0.953071</td>\n",
              "                        <td id=\"T_15cb3184_1afe_11ea_9d72_0242ac1c0002row6_col2\" class=\"data row6 col2\" >0.467615</td>\n",
              "            </tr>\n",
              "            <tr>\n",
              "                        <th id=\"T_15cb3184_1afe_11ea_9d72_0242ac1c0002level0_row7\" class=\"row_heading level0 row7\" >C7NP</th>\n",
              "                        <td id=\"T_15cb3184_1afe_11ea_9d72_0242ac1c0002row7_col0\" class=\"data row7 col0\" >0.824712</td>\n",
              "                        <td id=\"T_15cb3184_1afe_11ea_9d72_0242ac1c0002row7_col1\" class=\"data row7 col1\" >0.617731</td>\n",
              "                        <td id=\"T_15cb3184_1afe_11ea_9d72_0242ac1c0002row7_col2\" class=\"data row7 col2\" >0.0669877</td>\n",
              "            </tr>\n",
              "            <tr>\n",
              "                        <th id=\"T_15cb3184_1afe_11ea_9d72_0242ac1c0002level0_row8\" class=\"row_heading level0 row8\" >C7IP</th>\n",
              "                        <td id=\"T_15cb3184_1afe_11ea_9d72_0242ac1c0002row8_col0\" class=\"data row8 col0\" >0.732129</td>\n",
              "                        <td id=\"T_15cb3184_1afe_11ea_9d72_0242ac1c0002row8_col1\" class=\"data row8 col1\" >0.595014</td>\n",
              "                        <td id=\"T_15cb3184_1afe_11ea_9d72_0242ac1c0002row8_col2\" class=\"data row8 col2\" >0.0761022</td>\n",
              "            </tr>\n",
              "            <tr>\n",
              "                        <th id=\"T_15cb3184_1afe_11ea_9d72_0242ac1c0002level0_row9\" class=\"row_heading level0 row9\" >C7N</th>\n",
              "                        <td id=\"T_15cb3184_1afe_11ea_9d72_0242ac1c0002row9_col0\" class=\"data row9 col0\" >0.852075</td>\n",
              "                        <td id=\"T_15cb3184_1afe_11ea_9d72_0242ac1c0002row9_col1\" class=\"data row9 col1\" >1.7333</td>\n",
              "                        <td id=\"T_15cb3184_1afe_11ea_9d72_0242ac1c0002row9_col2\" class=\"data row9 col2\" >0.117209</td>\n",
              "            </tr>\n",
              "            <tr>\n",
              "                        <th id=\"T_15cb3184_1afe_11ea_9d72_0242ac1c0002level0_row10\" class=\"row_heading level0 row10\" >C7A</th>\n",
              "                        <td id=\"T_15cb3184_1afe_11ea_9d72_0242ac1c0002row10_col0\" class=\"data row10 col0\" >0.638878</td>\n",
              "                        <td id=\"T_15cb3184_1afe_11ea_9d72_0242ac1c0002row10_col1\" class=\"data row10 col1\" >1.19146</td>\n",
              "                        <td id=\"T_15cb3184_1afe_11ea_9d72_0242ac1c0002row10_col2\" class=\"data row10 col2\" >0.132919</td>\n",
              "            </tr>\n",
              "            <tr>\n",
              "                        <th id=\"T_15cb3184_1afe_11ea_9d72_0242ac1c0002level0_row11\" class=\"row_heading level0 row11\" >C8NP</th>\n",
              "                        <td id=\"T_15cb3184_1afe_11ea_9d72_0242ac1c0002row11_col0\" class=\"data row11 col0\" >0.863493</td>\n",
              "                        <td id=\"T_15cb3184_1afe_11ea_9d72_0242ac1c0002row11_col1\" class=\"data row11 col1\" >0.53245</td>\n",
              "                        <td id=\"T_15cb3184_1afe_11ea_9d72_0242ac1c0002row11_col2\" class=\"data row11 col2\" >0.0841287</td>\n",
              "            </tr>\n",
              "            <tr>\n",
              "                        <th id=\"T_15cb3184_1afe_11ea_9d72_0242ac1c0002level0_row12\" class=\"row_heading level0 row12\" >C8IP</th>\n",
              "                        <td id=\"T_15cb3184_1afe_11ea_9d72_0242ac1c0002row12_col0\" class=\"data row12 col0\" >0.666378</td>\n",
              "                        <td id=\"T_15cb3184_1afe_11ea_9d72_0242ac1c0002row12_col1\" class=\"data row12 col1\" >0.929174</td>\n",
              "                        <td id=\"T_15cb3184_1afe_11ea_9d72_0242ac1c0002row12_col2\" class=\"data row12 col2\" >0.104061</td>\n",
              "            </tr>\n",
              "            <tr>\n",
              "                        <th id=\"T_15cb3184_1afe_11ea_9d72_0242ac1c0002level0_row13\" class=\"row_heading level0 row13\" >C8N</th>\n",
              "                        <td id=\"T_15cb3184_1afe_11ea_9d72_0242ac1c0002row13_col0\" class=\"data row13 col0\" >0.665343</td>\n",
              "                        <td id=\"T_15cb3184_1afe_11ea_9d72_0242ac1c0002row13_col1\" class=\"data row13 col1\" >1.30002</td>\n",
              "                        <td id=\"T_15cb3184_1afe_11ea_9d72_0242ac1c0002row13_col2\" class=\"data row13 col2\" >0.117499</td>\n",
              "            </tr>\n",
              "            <tr>\n",
              "                        <th id=\"T_15cb3184_1afe_11ea_9d72_0242ac1c0002level0_row14\" class=\"row_heading level0 row14\" >C8A</th>\n",
              "                        <td id=\"T_15cb3184_1afe_11ea_9d72_0242ac1c0002row14_col0\" class=\"data row14 col0\" >0.646608</td>\n",
              "                        <td id=\"T_15cb3184_1afe_11ea_9d72_0242ac1c0002row14_col1\" class=\"data row14 col1\" >1.24975</td>\n",
              "                        <td id=\"T_15cb3184_1afe_11ea_9d72_0242ac1c0002row14_col2\" class=\"data row14 col2\" >0.0995371</td>\n",
              "            </tr>\n",
              "            <tr>\n",
              "                        <th id=\"T_15cb3184_1afe_11ea_9d72_0242ac1c0002level0_row15\" class=\"row_heading level0 row15\" >C9NP</th>\n",
              "                        <td id=\"T_15cb3184_1afe_11ea_9d72_0242ac1c0002row15_col0\" class=\"data row15 col0\" >0.872889</td>\n",
              "                        <td id=\"T_15cb3184_1afe_11ea_9d72_0242ac1c0002row15_col1\" class=\"data row15 col1\" >0.408843</td>\n",
              "                        <td id=\"T_15cb3184_1afe_11ea_9d72_0242ac1c0002row15_col2\" class=\"data row15 col2\" >0.0903503</td>\n",
              "            </tr>\n",
              "            <tr>\n",
              "                        <th id=\"T_15cb3184_1afe_11ea_9d72_0242ac1c0002level0_row16\" class=\"row_heading level0 row16\" >C9IP</th>\n",
              "                        <td id=\"T_15cb3184_1afe_11ea_9d72_0242ac1c0002row16_col0\" class=\"data row16 col0\" >0.847156</td>\n",
              "                        <td id=\"T_15cb3184_1afe_11ea_9d72_0242ac1c0002row16_col1\" class=\"data row16 col1\" >0.689729</td>\n",
              "                        <td id=\"T_15cb3184_1afe_11ea_9d72_0242ac1c0002row16_col2\" class=\"data row16 col2\" >0.132658</td>\n",
              "            </tr>\n",
              "            <tr>\n",
              "                        <th id=\"T_15cb3184_1afe_11ea_9d72_0242ac1c0002level0_row17\" class=\"row_heading level0 row17\" >C9N</th>\n",
              "                        <td id=\"T_15cb3184_1afe_11ea_9d72_0242ac1c0002row17_col0\" class=\"data row17 col0\" >0.58523</td>\n",
              "                        <td id=\"T_15cb3184_1afe_11ea_9d72_0242ac1c0002row17_col1\" class=\"data row17 col1\" >0.779169</td>\n",
              "                        <td id=\"T_15cb3184_1afe_11ea_9d72_0242ac1c0002row17_col2\" class=\"data row17 col2\" >0.114143</td>\n",
              "            </tr>\n",
              "            <tr>\n",
              "                        <th id=\"T_15cb3184_1afe_11ea_9d72_0242ac1c0002level0_row18\" class=\"row_heading level0 row18\" >C9A</th>\n",
              "                        <td id=\"T_15cb3184_1afe_11ea_9d72_0242ac1c0002row18_col0\" class=\"data row18 col0\" >0.651907</td>\n",
              "                        <td id=\"T_15cb3184_1afe_11ea_9d72_0242ac1c0002row18_col1\" class=\"data row18 col1\" >0.532174</td>\n",
              "                        <td id=\"T_15cb3184_1afe_11ea_9d72_0242ac1c0002row18_col2\" class=\"data row18 col2\" >0.120698</td>\n",
              "            </tr>\n",
              "            <tr>\n",
              "                        <th id=\"T_15cb3184_1afe_11ea_9d72_0242ac1c0002level0_row19\" class=\"row_heading level0 row19\" >C10NP</th>\n",
              "                        <td id=\"T_15cb3184_1afe_11ea_9d72_0242ac1c0002row19_col0\" class=\"data row19 col0\" >0.460527</td>\n",
              "                        <td id=\"T_15cb3184_1afe_11ea_9d72_0242ac1c0002row19_col1\" class=\"data row19 col1\" >0.377815</td>\n",
              "                        <td id=\"T_15cb3184_1afe_11ea_9d72_0242ac1c0002row19_col2\" class=\"data row19 col2\" >1.38774</td>\n",
              "            </tr>\n",
              "            <tr>\n",
              "                        <th id=\"T_15cb3184_1afe_11ea_9d72_0242ac1c0002level0_row20\" class=\"row_heading level0 row20\" >C10IP</th>\n",
              "                        <td id=\"T_15cb3184_1afe_11ea_9d72_0242ac1c0002row20_col0\" class=\"data row20 col0\" >0.678657</td>\n",
              "                        <td id=\"T_15cb3184_1afe_11ea_9d72_0242ac1c0002row20_col1\" class=\"data row20 col1\" >0.722295</td>\n",
              "                        <td id=\"T_15cb3184_1afe_11ea_9d72_0242ac1c0002row20_col2\" class=\"data row20 col2\" >0.13112</td>\n",
              "            </tr>\n",
              "            <tr>\n",
              "                        <th id=\"T_15cb3184_1afe_11ea_9d72_0242ac1c0002level0_row21\" class=\"row_heading level0 row21\" >C10N</th>\n",
              "                        <td id=\"T_15cb3184_1afe_11ea_9d72_0242ac1c0002row21_col0\" class=\"data row21 col0\" >0.190221</td>\n",
              "                        <td id=\"T_15cb3184_1afe_11ea_9d72_0242ac1c0002row21_col1\" class=\"data row21 col1\" >0.372455</td>\n",
              "                        <td id=\"T_15cb3184_1afe_11ea_9d72_0242ac1c0002row21_col2\" class=\"data row21 col2\" >0.327924</td>\n",
              "            </tr>\n",
              "            <tr>\n",
              "                        <th id=\"T_15cb3184_1afe_11ea_9d72_0242ac1c0002level0_row22\" class=\"row_heading level0 row22\" >C10A</th>\n",
              "                        <td id=\"T_15cb3184_1afe_11ea_9d72_0242ac1c0002row22_col0\" class=\"data row22 col0\" >0.55456</td>\n",
              "                        <td id=\"T_15cb3184_1afe_11ea_9d72_0242ac1c0002row22_col1\" class=\"data row22 col1\" >0.369059</td>\n",
              "                        <td id=\"T_15cb3184_1afe_11ea_9d72_0242ac1c0002row22_col2\" class=\"data row22 col2\" >0.46865</td>\n",
              "            </tr>\n",
              "            <tr>\n",
              "                        <th id=\"T_15cb3184_1afe_11ea_9d72_0242ac1c0002level0_row23\" class=\"row_heading level0 row23\" >AVG</th>\n",
              "                        <td id=\"T_15cb3184_1afe_11ea_9d72_0242ac1c0002row23_col0\" class=\"data row23 col0\" >0.698793</td>\n",
              "                        <td id=\"T_15cb3184_1afe_11ea_9d72_0242ac1c0002row23_col1\" class=\"data row23 col1\" >0.722481</td>\n",
              "                        <td id=\"T_15cb3184_1afe_11ea_9d72_0242ac1c0002row23_col2\" class=\"data row23 col2\" >0.300007</td>\n",
              "            </tr>\n",
              "    </tbody></table>"
            ],
            "text/plain": [
              "<pandas.io.formats.style.Styler at 0x7f619a48aba8>"
            ]
          },
          "metadata": {
            "tags": []
          },
          "execution_count": 9
        }
      ]
    },
    {
      "cell_type": "markdown",
      "metadata": {
        "id": "AxZiClHwoQFX",
        "colab_type": "text"
      },
      "source": [
        "# count loss"
      ]
    },
    {
      "cell_type": "code",
      "metadata": {
        "id": "53kw2CJqe9yR",
        "colab_type": "code",
        "colab": {}
      },
      "source": [
        "loss = np.sqrt(np.square(y_test-y_pred))"
      ],
      "execution_count": 0,
      "outputs": []
    },
    {
      "cell_type": "markdown",
      "metadata": {
        "id": "hN86i3EeoRuq",
        "colab_type": "text"
      },
      "source": [
        "# plot loss"
      ]
    },
    {
      "cell_type": "code",
      "metadata": {
        "id": "antEhcGxQQsT",
        "colab_type": "code",
        "colab": {
          "base_uri": "https://localhost:8080/",
          "height": 617
        },
        "outputId": "e5308e97-19f4-43d8-c6c2-9c56309952a2"
      },
      "source": [
        "y_name = 'C8A'\n",
        "plot_data = X_test\n",
        "plot_data[y_name] = y_test[y_name]\n",
        "plot_data[y_name+'_pred'] = y_pred[y_name]\n",
        "plot_data['loss'] = loss[y_name]\n",
        "plot_data['index'] = X_test.index\n",
        "fig = px.scatter(plot_data, x = y_name , y = \"loss\" ,color = \"loss\",size = \"loss\",hover_data=plot_data.columns)\n",
        "fig.show()"
      ],
      "execution_count": 11,
      "outputs": [
        {
          "output_type": "display_data",
          "data": {
            "text/html": [
              "<html>\n",
              "<head><meta charset=\"utf-8\" /></head>\n",
              "<body>\n",
              "    <div>\n",
              "            <script src=\"https://cdnjs.cloudflare.com/ajax/libs/mathjax/2.7.5/MathJax.js?config=TeX-AMS-MML_SVG\"></script><script type=\"text/javascript\">if (window.MathJax) {MathJax.Hub.Config({SVG: {font: \"STIX-Web\"}});}</script>\n",
              "                <script type=\"text/javascript\">window.PlotlyConfig = {MathJaxConfig: 'local'};</script>\n",
              "        <script src=\"https://cdn.plot.ly/plotly-latest.min.js\"></script>    \n",
              "            <div id=\"87ce4d38-2a07-4b3a-b3f7-b3a76b4f2f9c\" class=\"plotly-graph-div\" style=\"height:600px; width:100%;\"></div>\n",
              "            <script type=\"text/javascript\">\n",
              "                \n",
              "                    window.PLOTLYENV=window.PLOTLYENV || {};\n",
              "                    \n",
              "                if (document.getElementById(\"87ce4d38-2a07-4b3a-b3f7-b3a76b4f2f9c\")) {\n",
              "                    Plotly.newPlot(\n",
              "                        '87ce4d38-2a07-4b3a-b3f7-b3a76b4f2f9c',\n",
              "                        [{\"customdata\": [[88.2, 109.5, 141.8, 52.606, 4.678, 4.531680708818713, 0.14631929118128717, 1587.0], [91.6, 110.1, 142.2, 51.70399999999999, 4.434, 4.767974603007688, 0.3339746030076878, 2549.0], [76.0, 108.7, 143.2, 39.899, 3.401, 4.1779055785042285, 0.7769055785042287, 772.0], [93.3, 114.7, 141.5, 49.349, 6.1320000000000014, 5.891121587786012, 0.24087841221398953, 1732.0], [72.6, 98.4, 135.5, 50.29299999999999, 3.088, 3.63386982054735, 0.5458698205473498, 387.0], [64.0, 97.8, 137.2, 37.872, 3.257, 3.8301551829459126, 0.5731551829459125, 407.0], [97.0, 113.3, 139.3, 46.327, 6.148, 5.604341381611324, 0.543658618388676, 2298.0], [93.0, 111.6, 131.3, 52.47061169464337, 4.764237721964486, 5.885020122383451, 1.1207824004189648, 2750.0], [95.8, 115.0, 141.9, 51.648, 6.16, 6.012945216155749, 0.14705478384425152, 2452.0], [94.2, 108.2, 140.9, 61.692127416940345, 3.190617125944886, 4.29819998558722, 1.107582859642334, 2759.0], [99.8, 119.3, 146.4, 39.536, 7.035, 5.935709607092656, 1.0992903929073439, 2601.0], [94.2, 115.4, 143.3, 53.19600000000001, 5.955, 5.904046209069668, 0.0509537909303317, 1419.0], [100.4, 118.2, 144.3, 43.726000000000006, 5.862, 6.013782080793292, 0.15178208079329192, 1578.0], [85.7, 112.7, 140.1, 48.331, 5.419, 5.185716101854567, 0.23328389814543282, 1366.0], [93.6, 114.7, 145.9, 46.608000000000004, 4.807, 5.34846766315849, 0.5414676631584898, 1551.0], [82.1, 105.5, 137.2, 52.415000000000006, 4.191, 4.188460637584678, 0.002539362415322266, 368.0], [94.6, 115.6, 146.7, 50.09, 5.396, 5.436956597686455, 0.04095659768645543, 1159.0], [79.6, 108.4, 142.1, 40.072, 4.339, 4.435784209781686, 0.09678420978168578, 678.0], [75.1, 109.8, 144.4, 42.237, 4.257, 4.272018531336611, 0.015018531336611574, 1334.0], [77.8, 92.1, 134.7, 55.976000000000006, 3.07, 3.084528403115759, 0.014528403115759314, 450.0], [94.8, 116.7, 150.0, 48.628, 5.404, 5.277147936984241, 0.12685206301575924, 1213.0], [101.0, 118.9, 145.6, 36.503, 5.957999999999998, 5.692712677714457, 0.2652873222855412, 1467.0], [100.5, 118.3, 145.1, 43.272, 6.077000000000001, 5.866842219488129, 0.21015778051187173, 1565.0], [80.2, 96.2, 132.2, 50.966, 3.7, 3.6668816749142756, 0.03311832508572454, 495.0], [96.3, 116.2, 142.2, 55.59419825744948, 6.657934730443128, 6.779325104228634, 0.12139037378550555, 2836.0], [104.5, 122.8, 147.5, 46.973, 15.967, 10.630215271802019, 5.336784728197982, 1885.0], [102.9, 117.1, 138.7, 50.716, 8.026, 6.179740208108423, 1.846259791891577, 2292.0], [93.9, 113.2, 143.9, 53.113, 4.204, 5.291775549444064, 1.0877755494440642, 1102.0], [92.0, 112.4, 141.3, 51.093, 5.353, 5.328436483016001, 0.02456351698399839, 1948.0], [97.8, 117.1, 144.5, 53.841, 6.535, 6.329827932289688, 0.20517206771031216, 2632.0], [94.2, 115.6, 144.4, 51.203, 5.915, 5.7885791675356755, 0.12642083246432456, 1425.0], [97.4, 115.6, 143.3, 36.655, 5.329, 5.248849178511345, 0.0801508214886546, 1099.0], [101.5, 113.8, 142.5, 53.605, 5.084, 5.5762437618812175, 0.4922437618812179, 572.0], [94.8, 114.3, 140.8, 49.924, 5.702000000000001, 5.969622636870232, 0.26762263687023147, 1543.0], [94.7, 116.6, 147.4, 36.844, 4.756, 4.998295028959506, 0.2422950289595054, 1832.0], [62.0, 96.5, 138.5, 38.76600000000001, 4.095, 3.906647001468814, 0.1883529985311858, 318.0], [95.3, 115.5, 143.5, 51.692, 6.125, 5.885634099347304, 0.2393659006526958, 2196.0], [94.2, 112.4, 141.7, 54.26600000000001, 5.412000000000001, 5.299035915995344, 0.1129640840046564, 1088.0], [86.3, 109.6, 138.1, 40.129, 4.882, 4.966439361107783, 0.08443936110778338, 677.0], [99.0, 122.3, 159.6, 50.383, 5.647, 5.965495454066928, 0.3184954540669276, 1187.0], [95.2, 113.8, 142.4, 48.263999999999996, 5.9270000000000005, 5.644901267133664, 0.2820987328663369, 1837.0], [100.7, 111.2, 141.2, 57.88500000000001, 4.962, 4.564639923646751, 0.397360076353249, 999.0], [75.2, 109.7, 144.4, 42.143, 4.245, 4.285847850424338, 0.04084785042433747, 1340.0], [107.8, 122.8, 144.9, 37.241, 10.687, 8.869327916765517, 1.8176720832344824, 2063.0], [57.5, 86.9, 126.3, 44.19821770508678, 3.8018099095045237, 3.6969725078958247, 0.10483740160869903, 2686.0], [74.3, 101.2, 137.2, 44.246, 3.914, 4.135970589358734, 0.2219705893587336, 527.0], [76.4, 110.2, 145.8, 42.137, 4.251, 4.188103063161247, 0.06289693683875353, 1336.0], [96.6, 116.7, 148.8, 45.426, 5.345, 5.3671259657305335, 0.022125965730533714, 930.0], [103.9, 117.6, 145.2, 47.375, 5.043, 5.9101647858805935, 0.8671647858805933, 557.0], [96.4, 113.8, 142.3, 50.178999999999995, 4.92, 5.772245504211205, 0.8522455042112052, 602.0], [74.2, 111.3, 156.9, 39.33, 3.42, 3.32545414545426, 0.09454585454574005, 1292.0], [100.3, 118.6, 142.6, 42.223, 5.877999999999999, 6.27994631086967, 0.40194631086967103, 1967.0], [60.8, 99.2, 147.4, 36.313182824394175, 4.16520861036403, 3.912951948095924, 0.25225666226810617, 2655.0], [97.1, 117.4, 144.6, 51.646, 6.455, 6.193733943433885, 0.26126605656611535, 2523.0], [67.5, 94.0, 126.8, 41.45163386606592, 2.98291051268462, 3.623955572022757, 0.6410450593381372, 2849.0], [98.0, 116.4, 142.6, 45.756, 6.129, 5.920370605667345, 0.2086293943326547, 1566.0], [96.6, 117.3, 144.3, 46.726000000000006, 6.042000000000002, 5.93700578770654, 0.10499421229346151, 1703.0], [99.0, 114.5, 144.7, 50.633, 5.434, 5.587599864048839, 0.15359986404883852, 907.0], [61.6, 97.9, 143.1, 39.438, 3.995, 4.099954632876999, 0.10495463287699902, 321.0], [93.0, 113.4, 141.3, 50.733999999999995, 6.167000000000002, 5.780577099874009, 0.3864229001259929, 1902.0], [100.5, 113.3, 140.5, 57.69, 6.089, 5.480798792212931, 0.6082012077870695, 141.0], [94.7, 115.9, 149.7, 49.559, 5.402, 5.257803882604785, 0.14419611739521532, 1211.0], [94.0, 116.3, 143.7, 50.99100000000001, 6.335, 6.02963080352047, 0.3053691964795302, 2161.0], [95.8, 113.4, 142.1, 49.95400000000001, 4.839, 5.746084866964015, 0.9070848669640146, 605.0], [101.3, 112.4, 139.8, 56.29899999999999, 4.28, 4.90856228886052, 0.62856228886052, 581.0], [84.1, 105.9, 142.3, 52.40800000000001, 3.474, 4.013539517020648, 0.5395395170206481, 1451.0], [93.3, 114.7, 142.3, 52.06600000000001, 6.081, 5.908157260809335, 0.17284273919066528, 2304.0], [106.2, 121.8, 148.2, 38.35900000000001, 5.858, 6.699069279214389, 0.8410692792143895, 194.0], [100.3, 118.0, 143.3, 38.793, 8.417, 5.798436558336858, 2.6185634416631416, 1771.0], [79.1, 96.9, 134.1, 50.309, 3.728, 3.613663686622218, 0.11433631337778216, 535.0], [76.7, 102.3, 140.9, 45.867, 3.698, 4.2653657506986296, 0.5673657506986296, 521.0], [67.2, 104.5, 143.7, 37.696, 3.397, 3.953769567650549, 0.5567695676505493, 1361.0], [107.1, 124.3, 150.5, 41.233000000000004, 5.086, 7.32906637046916, 2.24306637046916, 544.0], [64.1, 99.1, 142.8, 37.95400000000001, 3.286, 4.040108498411713, 0.7541084984117128, 408.0], [94.2, 115.1, 144.2, 51.237, 5.933, 5.714373469112048, 0.2186265308879518, 1422.0], [95.6, 114.9, 147.2, 52.19600000000001, 5.892, 5.367121371314756, 0.5248786286852445, 1868.0], [74.9, 105.3, 141.5, 44.203, 5.434, 4.409644970918588, 1.0243550290814118, 354.0], [84.4, 114.9, 151.0, 46.32899999999999, 4.729, 4.822136247535171, 0.09313624753517047, 1436.0], [93.6, 112.8, 143.1, 52.199, 5.3279999999999985, 5.306772517479508, 0.02122748252049078, 1910.0], [90.5, 111.3, 143.1, 45.614, 5.112, 4.99525627715759, 0.11674372284241041, 834.0], [98.4, 118.1, 144.8, 46.505, 6.1610000000000005, 5.991974983319828, 0.16902501668017234, 1644.0], [65.1, 100.1, 145.1, 37.725, 3.58, 3.9474614271219144, 0.3674614271219143, 433.0], [87.5, 112.4, 145.7, 47.749, 4.649, 4.6368042086058425, 0.012195791394157496, 2119.0], [86.3, 106.8, 146.4, 55.12600000000001, 3.964, 3.9953085873927114, 0.03130858739271147, 1620.0], [95.0, 113.4, 142.7, 46.02199999999999, 4.971, 5.438140698594539, 0.4671406985945392, 942.0], [93.0, 113.0, 145.0, 51.297, 4.99, 5.149266780479028, 0.15926678047902776, 1103.0], [100.5, 119.6, 144.5, 37.465, 5.629, 6.0503073852323235, 0.4213073852323239, 2588.0], [97.0, 117.9, 146.1, 47.65600000000001, 5.346, 5.8435320967352755, 0.49753209673527543, 2149.0], [105.4, 121.4, 146.5, 43.493, 6.037000000000001, 8.13754479322152, 2.1005447932215198, 2493.0], [60.9, 88.1, 133.1, 40.673564557645605, 3.5946764791168793, 3.7487320391108927, 0.15405555999401344, 2684.0], [101.6, 119.4, 144.1, 37.28, 5.745, 6.002680714332247, 0.25768071433224726, 2315.0], [80.8, 109.7, 144.6, 39.39, 4.828, 4.450352522731072, 0.377647477268928, 32.0], [98.8, 113.5, 144.0, 51.592, 4.803, 5.5185471085391775, 0.7155471085391776, 1023.0], [62.5, 94.5, 133.4, 39.637, 3.984, 3.7545507564474487, 0.22944924355255125, 67.0], [72.7, 102.0, 131.9, 47.163000000000004, 4.1610000000000005, 3.883783316657676, 0.27721668334232463, 642.0], [97.4, 117.1, 146.3, 51.02300000000001, 5.931, 5.854511931767344, 0.0764880682326563, 1457.0], [66.0, 101.5, 145.3, 36.543, 3.542, 3.9256477942500743, 0.38364779425007445, 420.0], [97.4, 117.6, 148.4, 51.748999999999995, 6.4929999999999986, 5.9763323900211205, 0.5166676099788781, 1672.0], [72.9, 110.2, 157.0, 39.385999999999996, 3.324, 3.2649954361006484, 0.05900456389935149, 1288.0], [80.5, 112.7, 146.2, 45.486000000000004, 4.631, 5.025781608900515, 0.39478160890051495, 1322.0], [75.3, 111.6, 151.1, 40.916, 3.797, 3.7035410671528206, 0.09345893284717954, 1283.0], [97.5, 121.2, 148.8, 41.499, 6.39, 6.334643107068875, 0.055356892931124335, 2544.0], [62.4, 97.9, 141.5, 38.292, 4.043, 4.009161261344925, 0.03383873865507514, 322.0], [72.2, 97.2, 132.5, 51.27312049857449, 2.9205619157126423, 3.493678911661184, 0.5731169959485416, 2714.0], [92.1, 108.1, 133.2, 53.532, 4.6560000000000015, 4.897914872102565, 0.2419148721025639, 695.0], [94.3, 115.7, 146.3, 40.093, 5.103, 5.136800352872521, 0.03380035287252081, 1835.0], [95.1, 115.8, 142.2, 51.72099999999999, 6.034, 6.1461339680209335, 0.11213396802093367, 2340.0], [104.4, 121.9, 146.4, 36.124, 3.394, 6.82775604922843, 3.43375604922843, 2131.0], [94.6, 115.5, 147.3, 51.04899999999999, 5.447, 5.446217317247855, 0.0007826827521446589, 1189.0], [95.6, 117.2, 144.4, 51.00899999999999, 6.204, 6.095125868260999, 0.10887413173900118, 1684.0], [65.1, 102.3, 142.7, 36.364000000000004, 3.849, 4.014497666497612, 0.165497666497612, 331.0], [97.3, 116.2, 145.3, 48.724, 6.007999999999999, 5.68336401925797, 0.3246359807420287, 2365.0], [78.8, 109.7, 151.4, 36.907, 3.585, 3.407255734950451, 0.1777442650495491, 1866.0], [95.6, 115.2, 140.8, 52.23700000000001, 6.3679999999999986, 6.078372620957023, 0.289627379042976, 1746.0], [79.8, 104.9, 139.0, 44.288, 4.044, 4.40915256696863, 0.3651525669686304, 518.0], [105.8, 120.6, 144.1, 38.634, 7.002999999999999, 6.605275190153171, 0.397724809846828, 2013.0], [83.6, 111.7, 140.8, 47.666, 5.272, 4.934427597641161, 0.33757240235883934, 1370.0], [96.2, 111.8, 143.0, 57.276, 5.539, 4.775182292629899, 0.7638177073701007, 1229.0], [94.3, 117.4, 146.9, 43.706, 5.462999999999999, 5.539748545030343, 0.07674854503034378, 2548.0], [92.0, 114.5, 142.7, 52.398999999999994, 5.89, 5.7075151136645275, 0.18248488633547222, 1788.0], [106.0, 121.6, 144.5, 44.06399999999999, 10.658, 9.658995747253204, 0.9990042527467953, 2010.0], [86.1, 107.2, 140.6, 52.85000000000001, 3.2460000000000004, 4.175903866001427, 0.9299038660014265, 1510.0], [101.9, 117.2, 142.9, 40.92700000000001, 5.485, 5.6975400594689205, 0.21254005946892018, 568.0], [87.0, 108.2, 148.1, 52.623999999999995, 4.065, 3.948165707656229, 0.1168342923437713, 1533.0], [83.4, 109.2, 136.0, 46.62800000000001, 4.027, 4.710797624434849, 0.6837976244348489, 1374.0], [97.4, 121.2, 155.4, 46.565, 6.324, 5.772277956937536, 0.5517220430624636, 707.0], [100.3, 112.5, 142.8, 59.547, 5.509, 4.984852711688317, 0.5241472883116831, 1080.0], [96.5, 116.2, 144.1, 38.594, 5.166, 5.44094131347129, 0.2749413134712899, 1862.0], [97.0, 120.0, 150.3, 46.861999999999995, 5.3260000000000005, 5.832534498874708, 0.5065344988747071, 2475.0], [90.5, 114.2, 144.2, 42.387, 5.39, 5.316939795286224, 0.07306020471377561, 30.0], [94.0, 112.7, 141.2, 47.87300000000001, 5.74, 5.396012422980614, 0.3439875770193863, 2565.0], [96.6, 115.5, 143.9, 41.39900000000001, 5.382999999999999, 5.433603248377156, 0.050603248377156795, 1842.0], [103.4, 119.8, 146.7, 36.453, 6.872000000000001, 5.676787286940315, 1.1952127130596857, 1239.0], [92.5, 113.2, 146.3, 54.08, 5.417999999999998, 4.878944882197601, 0.5390551178023975, 1596.0], [94.9, 115.1, 148.9, 52.76600000000001, 5.517, 5.252015948034031, 0.2649840519659694, 1539.0], [104.2, 120.9, 149.0, 39.20200000000001, 5.728, 6.204762340064523, 0.4767623400645231, 178.0], [62.5, 97.2, 141.0, 37.696999999999996, 3.612, 3.936273223058755, 0.32427322305875483, 298.0], [89.1, 114.7, 147.0, 47.517, 5.1, 5.186064867457482, 0.08606486745748221, 1497.0], [92.9, 114.8, 146.2, 49.016999999999996, 5.092, 5.330457268244296, 0.23845726824429647, 1547.0], [96.5, 112.5, 139.3, 50.063, 5.556, 5.742440591941396, 0.18644059194139562, 1505.0], [89.0, 112.8, 145.1, 41.118, 4.702, 4.799825993281037, 0.09782599328103725, 1808.0], [97.7, 112.3, 141.2, 54.927, 3.959, 5.256218659556973, 1.297218659556973, 1055.0], [91.2, 114.2, 145.3, 51.319, 5.37, 5.3565286997212525, 0.013471300278747655, 1583.0], [97.0, 108.2, 136.0, 59.43718303013182, 4.3852983522636375, 4.441730109927609, 0.05643175766397146, 2713.0], [104.3, 121.2, 148.0, 39.153, 5.497000000000001, 6.6986783540541825, 1.2016783540541818, 196.0], [102.1, 120.3, 144.3, 40.334, 5.888, 6.49577199477683, 0.6077719947768303, 1964.0], [60.5, 90.5, 129.6, 40.38, 3.781, 3.620735097748888, 0.16026490225111223, 73.0], [102.7, 119.3, 144.7, 36.835, 7.69, 5.886457358949441, 1.8035426410505595, 685.0], [63.7, 97.8, 139.8, 40.367, 4.207, 4.109505643022521, 0.09749435697747888, 63.0], [99.8, 112.7, 139.7, 57.236000000000004, 5.448, 5.495910541893652, 0.047910541893651626, 1075.0], [95.5, 117.1, 145.1, 40.264, 5.476, 5.565570412830295, 0.08957041283029543, 2247.0], [65.2, 97.3, 136.4, 37.28100000000001, 3.195, 3.702087979932591, 0.5070879799325914, 45.0], [101.2, 118.2, 145.1, 36.724000000000004, 5.401, 5.513326335848895, 0.11232633584889484, 958.0], [109.8, 126.4, 146.1, 44.723, 19.055, 14.113954176836767, 4.941045823163233, 2349.0], [91.9, 112.9, 144.9, 52.908, 4.834, 4.920391145424144, 0.08639114542414461, 1114.0], [88.0, 109.6, 154.5, 40.22780407757891, 3.6195656521217456, 3.7905863625324137, 0.17102071041066802, 2847.0], [82.6, 111.0, 142.4, 41.856, 4.805, 4.840929003379129, 0.0359290033791293, 80.0], [106.1, 120.8, 144.4, 36.53, 6.627999999999999, 6.610673171480525, 0.01732682851947409, 2015.0], [77.8, 94.1, 134.9, 53.90600000000001, 3.374, 3.4425061367917777, 0.06850613679177764, 460.0], [101.8, 118.3, 144.4, 37.052, 5.425, 5.642242474250422, 0.21724247425042176, 937.0], [104.0, 118.2, 142.8, 37.565, 5.589, 5.790406072063396, 0.20140607206339567, 986.0], [101.5, 120.0, 145.5, 37.744, 7.0939999999999985, 6.047343081595155, 1.0466569184048433, 2241.0], [97.1, 118.1, 145.7, 39.394, 3.913, 5.6223940122335785, 1.7093940122335787, 2500.0], [74.9, 105.9, 138.6, 39.08293161256421, 3.4196922276995063, 4.397866953158562, 0.978174725459056, 2638.0], [71.1, 111.1, 153.7, 37.709, 3.264, 3.3750773916787207, 0.11107739167872088, 1393.0], [103.7, 119.2, 145.6, 36.672, 5.645, 5.803892227893133, 0.1588922278931335, 900.0], [84.5, 107.7, 142.9, 46.75682393664529, 3.4344161492546266, 4.301737741120675, 0.8673215918660486, 2850.0], [70.1, 105.1, 141.5, 39.108, 4.529, 4.182438288228559, 0.34656171177144124, 309.0], [92.8, 114.2, 142.8, 55.476794726170866, 6.407167068281125, 5.679310002320355, 0.7278570659607704, 2810.0], [64.2, 101.2, 141.9, 38.449, 4.547, 4.099400775902599, 0.4475992240974005, 239.0], [95.0, 112.8, 136.7, 50.66, 4.909, 6.4329574596522905, 1.5239574596522907, 598.0], [96.6, 113.9, 145.5, 49.863, 4.987, 5.368636243197811, 0.38163624319781064, 594.0], [97.2, 121.2, 152.9, 45.789, 4.976, 5.769016443808798, 0.7930164438087983, 2476.0], [72.4, 108.3, 143.3, 39.538, 3.913, 4.1450735195917225, 0.23207351959172273, 1376.0], [100.1, 121.0, 154.0, 47.489, 5.707000000000002, 5.964247662860087, 0.2572476628600855, 2370.0], [94.1, 114.9, 142.2, 51.784000000000006, 6.072, 5.9126675050307345, 0.1593324949692656, 2309.0], [90.0, 105.6, 136.2, 54.23, 4.195, 4.533457254895023, 0.33845725489502243, 2620.0], [97.0, 116.8, 145.7, 39.24500000000001, 3.87, 5.417621753980435, 1.5476217539804349, 2498.0], [99.3, 125.2, 163.6, 50.790000000000006, 5.652, 5.630649207213357, 0.021350792786643424, 1178.0], [87.9, 113.3, 143.9, 47.802, 4.915, 5.116970959382573, 0.2019709593825727, 1465.0], [65.7, 98.0, 136.2, 37.025, 3.18, 3.7602377865435974, 0.5802377865435973, 44.0], [73.0, 110.5, 158.6, 38.227, 3.21, 3.215737124255638, 0.005737124255638104, 1289.0], [99.5, 118.9, 145.3, 39.258, 5.71, 5.936190666574582, 0.2261906665745821, 1928.0], [94.4, 115.0, 141.2, 51.839, 6.134, 6.030977636492897, 0.1030223635071037, 2332.0], [96.5, 116.3, 146.5, 45.383, 5.349, 5.454360033554755, 0.10536003355475465, 927.0], [101.8, 115.8, 142.5, 45.13400000000001, 5.565, 5.641677953687904, 0.07667795368790387, 965.0], [93.5, 113.5, 139.5, 52.883737861716874, 6.221066839974003, 5.954559536509657, 0.2665073034643459, 2829.0], [98.2, 118.0, 146.8, 47.584, 5.981, 5.787875224445417, 0.1931247755545833, 2358.0], [95.1, 117.4, 145.1, 49.185, 5.98, 5.865615609152956, 0.11438439084704477, 2579.0], [94.0, 111.6, 143.9, 56.33300000000001, 2.701, 4.7316184369742915, 2.0306184369742915, 1226.0], [97.0, 116.9, 146.8, 39.197, 5.192, 5.246664037141147, 0.05466403714114687, 1858.0], [85.2, 113.8, 145.9, 38.332, 5.085, 4.870461567063407, 0.21453843293659336, 93.0], [90.9, 118.4, 148.9, 43.93600000000001, 5.456, 5.920501641636076, 0.4645016416360752, 755.0], [67.3, 100.7, 137.2, 40.5, 4.711, 4.050977326651584, 0.6600226733484167, 175.0], [99.8, 120.3, 146.6, 41.35, 9.132, 6.118365988737603, 3.013634011262397, 2607.0], [96.12, 115.8, 142.0, 49.277, 6.209, 5.97732477229889, 0.2316752277011096, 1730.0], [77.7, 108.5, 142.1, 46.35, 4.9830000000000005, 4.571605050616299, 0.4113949493837019, 1207.0], [102.1, 119.8, 148.1, 41.03100000000001, 5.155, 5.811768974460603, 0.6567689744606025, 211.0], [80.2, 98.5, 139.1, 50.351000000000006, 3.822, 3.90302287819159, 0.08102287819159004, 533.0], [95.0, 114.4, 141.6, 54.60424022962534, 6.514218293804745, 6.210174702209585, 0.3040435915951596, 2799.0], [95.2, 115.1, 140.7, 51.687, 6.153, 6.063805055410387, 0.08919494458961275, 2447.0], [93.2, 109.6, 138.4, 51.625, 4.803, 5.304864268986751, 0.5018642689867514, 840.0], [94.0, 114.6, 141.0, 51.631, 6.075, 5.988967514057439, 0.08603248594256119, 2308.0], [91.0, 112.3, 147.3, 52.7351, 4.1110000000000015, 4.515799191818894, 0.4047991918188929, 1068.0], [90.5, 115.7, 147.3, 45.585, 5.157, 5.3205097425340275, 0.1635097425340275, 2582.0], [103.4, 115.7, 142.7, 50.793000000000006, 5.073, 5.572670947465317, 0.49967094746531693, 565.0], [90.1, 112.1, 145.9, 56.641999999999996, 4.649, 4.518059005834462, 0.13094099416553817, 1125.0], [105.4, 120.5, 144.1, 40.343, 6.859, 6.913834736280515, 0.05483473628051527, 2004.0], [99.3, 117.7, 143.8, 40.307, 5.755, 5.7788470724728995, 0.023847072472899633, 1251.0], [95.4, 115.1, 141.6, 52.126999999999995, 6.39, 6.078372620957023, 0.3116273790429771, 1745.0], [82.6, 109.9, 140.0, 45.804, 4.342, 4.859496284957418, 0.5174962849574181, 1378.0], [84.5, 113.5, 146.5, 46.449, 4.755, 4.886583130001926, 0.13158313000192567, 1431.0], [90.2, 112.2, 144.4, 56.653999999999996, 3.896, 4.465867925883873, 0.569867925883873, 1123.0], [95.4, 114.3, 141.9, 47.909, 5.724, 5.842531425030647, 0.11853142503064706, 1949.0], [92.2, 113.3, 145.3, 44.38, 4.752, 4.917280997878634, 0.16528099787863404, 869.0], [102.6, 120.5, 146.0, 38.547, 8.36, 6.27583700498991, 2.0841629950100895, 1879.0], [93.1, 115.4, 146.5, 47.827, 4.2189999999999985, 5.288400576608762, 1.0694005766087633, 2175.0], [68.5, 101.4, 139.6, 36.144, 3.739, 4.031187201082205, 0.2921872010822053, 439.0], [79.4, 98.0, 139.1, 50.414, 3.768, 3.7406440012470457, 0.027355998752954136, 532.0], [97.7, 116.3, 141.3, 53.532, 6.367000000000001, 6.452950036102778, 0.08595003610277718, 1572.0], [58.4, 87.6, 131.6, 40.4845000923199, 3.5236124026357105, 3.7382056811490876, 0.21459327851337706, 2668.0], [97.5, 113.7, 143.7, 54.925, 5.343, 5.594409587548858, 0.2514095875488582, 1261.0], [105.7, 127.5, 154.6, 44.225827343553775, 6.979371856532914, 7.3335747953443695, 0.35420293881145515, 2641.0], [101.3, 111.1, 139.0, 59.781739028355524, 5.462399136095032, 4.439144847708578, 1.023254288386454, 2792.0], [97.7, 117.3, 145.3, 47.71600000000001, 6.019, 5.792234455177303, 0.2267655448226975, 2360.0], [105.2, 113.0, 139.1, 60.960523175348854, 6.1013898610139, 5.316430920376129, 0.7849589406377717, 2752.0], [91.8, 116.0, 148.5, 44.552, 5.104, 5.345897039741983, 0.24189703974198284, 2189.0], [62.1, 95.0, 139.4, 39.392, 3.824, 3.9691615963141893, 0.14516159631418946, 70.0], [67.3, 104.7, 143.9, 38.315, 3.406, 3.962021853991494, 0.5560218539914938, 1360.0], [68.6, 102.8, 142.1, 66.053, 0.8540000000000001, 3.004105663952849, 2.150105663952849, 402.0], [94.0, 112.5, 135.7, 48.716, 5.796, 5.922627689937556, 0.12662768993755602, 2045.0], [68.4, 102.5, 141.8, 40.118, 5.83, 4.231953646788251, 1.5980463532117488, 414.0], [65.2, 97.3, 136.9, 38.63200000000001, 3.987, 3.7428373720148524, 0.24416262798514765, 56.0], [94.4, 113.0, 142.0, 50.729, 5.164, 5.525706121995962, 0.3617061219959625, 1934.0], [96.7, 113.4, 142.7, 52.055, 5.5120000000000005, 5.626588866860593, 0.11458886686059255, 1609.0], [102.6, 115.1, 143.4, 52.27500000000001, 5.0280000000000005, 5.570968833764536, 0.5429688337645358, 564.0], [90.6, 112.5, 146.4, 53.662000000000006, 4.757, 4.518999774112472, 0.23800022588752778, 1110.0], [99.1, 114.2, 142.9, 46.705, 5.648, 5.541586125812371, 0.10641387418762882, 1803.0], [61.7, 95.9, 139.7, 40.264, 4.021, 4.050243070590556, 0.029243070590555753, 324.0], [99.7, 118.2, 146.0, 42.9238, 5.754, 5.800611252020758, 0.04661125202075844, 102.0], [102.5, 119.7, 144.5, 38.032, 7.751, 6.132796271270584, 1.6182037287294166, 1410.0], [92.5, 112.8, 138.7, 52.64078027161626, 6.2152541694996595, 5.770890732141215, 0.44436343735844464, 2825.0], [66.3, 105.7, 149.4, 36.64100000000001, 3.06, 3.6567675181099166, 0.5967675181099166, 1385.0], [81.4, 112.9, 148.6, 42.865, 4.378, 4.8971438467951645, 0.5191438467951643, 1677.0], [94.5, 115.3, 143.8, 53.42499999999999, 5.962999999999999, 5.838952310331574, 0.1240476896684255, 1418.0], [73.9, 106.1, 145.5, 39.924, 3.571, 4.000990858898364, 0.42999085889836364, 727.0], [96.7, 117.4, 152.2, 50.65600000000001, 5.222, 5.238039450659352, 0.01603945065935175, 819.0], [95.6, 115.7, 147.6, 51.026, 5.465, 5.424688416111282, 0.040311583888717806, 1192.0], [96.5, 116.1, 144.4, 48.698, 6.001, 5.774889061797943, 0.22611093820205763, 2375.0], [88.3, 110.6, 139.8, 46.752, 4.625, 4.793080548791839, 0.1680805487918393, 2614.0], [61.0, 101.1, 149.6, 39.122247926466976, 4.402955970440294, 3.6911585245693788, 0.7117974458709151, 2644.0], [97.4, 113.1, 143.8, 51.434, 3.713, 5.284951755919293, 1.5719517559192928, 1027.0], [103.2, 113.5, 136.3, 58.64400000000001, 6.1789999999999985, 6.315089408674318, 0.1360894086743194, 124.0], [101.7, 110.1, 139.8, 61.3391805410262, 5.028094942910276, 4.234049140271077, 0.7940458026391992, 2721.0], [107.4, 119.7, 143.8, 48.83926883438834, 5.397082495975681, 6.645474935175078, 1.2483924391993968, 2814.0], [95.0, 113.1, 139.5, 48.205, 4.917, 5.50913940535715, 0.59213940535715, 599.0], [69.7, 106.4, 145.5, 45.547, 10.765999999999998, 4.061238522093252, 6.704761477906747, 411.0], [73.4, 99.2, 138.4, 50.258, 3.18, 3.856410958651514, 0.6764109586515139, 393.0], [62.2, 95.2, 146.5, 36.711304296110654, 1.772680917434862, 3.7751303587845078, 2.002449441349646, 2670.0], [100.5, 118.2, 142.6, 38.577, 6.495, 5.895290423476473, 0.5997095765235274, 2281.0], [91.3, 107.7, 134.0, 58.16762126468503, 3.8145803961564217, 4.310237396706651, 0.49565700055022965, 2823.0], [94.0, 114.5, 147.9, 54.11, 4.997, 5.4630639643541015, 0.4660639643541016, 1602.0], [88.3, 112.6, 144.8, 45.357, 4.652, 4.864824996038176, 0.21282499603817584, 2273.0], [68.9, 106.5, 141.9, 39.886, 3.838, 4.363785588324527, 0.5257855883245268, 1344.0], [103.9, 119.8, 142.7, 36.842, 9.814, 6.450459529845941, 3.363540470154059, 1752.0], [59.1, 88.0, 131.6, 42.89614236302303, 3.729664330210281, 3.776016654968094, 0.04635232475781281, 2689.0], [93.5, 112.4, 143.5, 54.62300000000001, 4.886, 4.9958792649584325, 0.10987926495843237, 1034.0], [84.8, 112.1, 139.7, 50.985, 5.447, 5.734963574199992, 0.28796357419999197, 1368.0], [76.1, 109.2, 144.4, 39.24800000000001, 3.618, 4.162078606418412, 0.5440786064184118, 767.0], [103.9, 120.1, 146.2, 38.663, 5.716, 6.159184805899154, 0.4431848058991541, 233.0], [71.2, 105.1, 141.2, 38.282, 5.1160000000000005, 4.172102427460522, 0.9438975725394787, 415.0], [94.9, 119.3, 154.4, 41.969670473758725, 5.151381834179898, 4.962321950087059, 0.18905988409283925, 2730.0], [78.0, 94.2, 136.2, 53.994, 3.435, 3.4221191691986084, 0.012880830801391685, 457.0], [96.4, 112.5, 137.9, 45.12600000000001, 5.55, 5.367278346452531, 0.1827216535474685, 2040.0], [96.7, 117.5, 145.9, 49.612, 6.252999999999999, 5.937047094494085, 0.31595290550591404, 1690.0], [99.9, 120.1, 145.8, 39.878, 7.4529999999999985, 6.283685082075125, 1.1693149179248739, 2603.0], [87.6, 114.1, 145.4, 47.911, 4.919, 5.080863582995276, 0.16186358299527637, 1463.0], [94.1, 112.2, 142.2, 54.407, 4.867, 5.1723751856147615, 0.3053751856147615, 1033.0], [90.2, 114.4, 147.2, 47.782, 4.589, 5.196609038565713, 0.6076090385657125, 2124.0], [64.6, 100.6, 144.2, 38.03, 3.974, 3.988007226261467, 0.014007226261466776, 296.0], [74.5, 100.9, 135.5, 45.207, 4.384, 4.060089224910346, 0.3239107750896544, 506.0], [62.4, 95.2, 134.1, 38.492, 3.65, 3.687339641247852, 0.03733964124785194, 436.0], [105.4, 120.7, 144.0, 40.39, 6.945, 7.123183269632408, 0.17818326963240771, 1973.0], [89.5, 112.8, 144.8, 43.757, 4.5360000000000005, 4.869925816588903, 0.3339258165889021, 1659.0], [94.0, 115.0, 143.5, 51.949, 6.159, 5.792700231633715, 0.366299768366285, 2319.0], [94.2, 115.0, 143.1, 53.96700000000001, 5.959, 5.9993479042527005, 0.04034790425270085, 1417.0], [100.6, 114.8, 142.6, 48.43099999999999, 5.4910000000000005, 5.677987671617984, 0.1869876716179837, 978.0], [96.5, 116.8, 142.8, 52.733, 6.532, 6.343991188267188, 0.1880088117328116, 2630.0], [101.8, 121.1, 147.1, 36.127, 6.499, 6.288301927088057, 0.21069807291194298, 2250.0], [93.3, 115.7, 145.9, 50.364, 5.769, 5.547047243246269, 0.22195275675373072, 2183.0], [66.5, 105.5, 149.9, 36.012, 2.827, 3.4633654499536264, 0.6363654499536264, 1391.0], [90.6, 114.4, 144.5, 42.553999999999995, 5.452000000000001, 5.4067611714521995, 0.04523882854780137, 29.0], [96.0, 116.0, 145.3, 39.871, 5.22, 5.352130856197017, 0.13213085619701737, 1860.0], [87.7, 109.5, 142.6, 49.903999999999996, 4.524, 4.543479323458276, 0.019479323458275744, 857.0], [74.8, 107.1, 143.6, 39.703, 3.763, 4.164273647576302, 0.4012736475763017, 742.0], [88.0, 104.3, 136.2, 62.691704112066404, 3.4694795780632885, 3.620619506134315, 0.15113992807102639, 2774.0], [88.7, 111.9, 142.4, 47.10799999999999, 5.301, 4.947734305967418, 0.353265694032582, 1764.0], [90.6, 114.2, 145.8, 43.822, 4.69, 5.195881694281966, 0.5058816942819657, 2209.0], [105.9, 121.8, 147.8, 36.306, 5.824, 6.599951482280689, 0.7759514822806892, 188.0], [81.7, 109.2, 138.8, 43.328, 5.502000000000002, 4.959402576738346, 0.5425974232616557, 170.0], [81.0, 113.0, 148.5, 44.309, 4.513, 4.929621820381015, 0.4166218203810148, 1412.0], [65.2, 96.3, 132.0, 37.542, 3.1660000000000004, 3.662657948486061, 0.4966579484860607, 43.0], [90.3, 115.4, 145.9, 41.927, 4.734, 5.2300560130123745, 0.49605601301237456, 87.0], [87.0, 112.3, 145.2, 40.653, 4.548, 4.632531133628946, 0.08453113362894626, 1809.0], [97.3, 121.0, 147.5, 40.905, 6.331, 6.5135965823902335, 0.18259658239023313, 2545.0], [81.3, 112.6, 145.8, 38.242, 5.9220000000000015, 4.9898940417352105, 0.932105958264791, 282.0], [94.3, 114.4, 142.9, 50.666, 5.655, 5.768854332895035, 0.113854332895035, 1538.0], [63.8, 97.6, 141.4, 38.488, 3.733, 3.958566651863285, 0.22556665186328484, 432.0], [99.1, 115.7, 144.7, 50.43899999999999, 5.408, 5.726794798294728, 0.3187947982947277, 911.0], [95.1, 115.4, 141.8, 48.63, 6.093, 5.894760366441344, 0.19823963355865626, 2427.0], [92.3, 117.6, 146.3, 53.283, 19.383, 6.355718967531172, 13.027281032468828, 1235.0], [99.1, 117.5, 144.5, 40.152, 5.349, 5.719988091191849, 0.3709880911918484, 2202.0], [97.8, 118.0, 147.8, 47.108000000000004, 5.9270000000000005, 5.713728173992761, 0.21327182600723926, 2342.0], [101.8, 113.5, 135.9, 60.115, 6.017, 6.102489352594258, 0.08548935259425772, 149.0], [76.6, 96.5, 136.7, 50.00700000000001, 4.012, 3.5500523220918914, 0.4619476779081082, 498.0], [80.5, 98.6, 141.6, 50.545, 3.78, 4.017689745363284, 0.23768974536328402, 511.0], [92.6, 109.9, 139.3, 55.588, 5.023, 4.577402509947275, 0.44559749005272486, 2624.0], [97.0, 118.4, 142.4, 38.581, 5.524, 5.972760462748847, 0.4487604627488473, 1950.0], [94.9, 115.3, 142.9, 51.43600000000001, 6.268, 5.836234072066772, 0.43176592793322754, 1991.0], [95.6, 115.4, 144.8, 47.313, 5.357, 5.519588470689064, 0.16258847068906412, 926.0], [90.5, 109.0, 136.1, 50.118, 5.215, 4.996421586035007, 0.2185784139649929, 134.0], [90.7, 113.2, 144.3, 48.248999999999995, 4.855, 5.136945821497537, 0.281945821497537, 783.0], [97.7, 117.6, 144.9, 54.50692340975172, 6.586802395928122, 6.456643815011947, 0.1301585809161745, 2786.0], [95.1, 114.1, 143.7, 45.901, 4.9910000000000005, 5.400092255408439, 0.40909225540843863, 941.0], [91.4, 111.1, 142.4, 53.49900000000001, 4.301, 4.718199996005301, 0.41719999600530056, 1894.0], [67.0, 105.3, 147.4, 36.747, 3.085, 3.825034263186367, 0.740034263186367, 1389.0], [94.2, 115.6, 142.8, 49.344, 6.146, 5.783080391520488, 0.3629196084795119, 1731.0], [94.7, 112.4, 138.3, 46.622, 5.416, 5.512883586747404, 0.0968835867474036, 2050.0], [86.9, 111.9, 143.5, 48.428, 5.037, 4.70494384436103, 0.33205615563896984, 2252.0], [93.1, 119.4, 149.1, 43.46, 5.631, 5.755813025299407, 0.12481302529940663, 759.0], [101.2, 111.1, 139.9, 58.979, 3.905, 4.378699626978486, 0.47369962697848633, 1053.0], [97.9, 118.9, 146.4, 39.099000000000004, 5.074, 5.7417930269865165, 0.6677930269865167, 221.0], [94.5, 116.5, 143.2, 46.523, 6.026, 5.880675174832479, 0.14532482516752054, 1741.0], [95.0, 113.6, 146.0, 53.07000000000001, 5.1, 5.2669755283468485, 0.1669755283468488, 1091.0], [60.3, 93.9, 145.2, 36.803, 2.773, 3.7502605089452357, 0.9772605089452355, 443.0], [73.0, 106.0, 140.4, 41.471000000000004, 5.032, 4.387054806292575, 0.6449451937074251, 173.0], [88.1, 110.9, 143.8, 46.773, 4.418, 4.727685443102788, 0.3096854431027882, 2610.0], [87.2, 117.7, 147.9, 39.072, 5.316, 5.46505173328216, 0.14905173328216037, 650.0], [80.1, 109.8, 144.6, 47.723, 5.0310000000000015, 4.583303356714677, 0.4476966432853242, 1206.0], [93.0, 111.4, 138.6, 52.714, 5.102, 5.442389376871906, 0.3403893768719053, 1916.0], [106.4, 114.5, 142.2, 65.50067032332987, 5.487231787549744, 12.095459279850916, 6.608227492301172, 2647.0], [94.2, 114.7, 141.4, 46.20200000000001, 5.765, 5.7858925047897625, 0.02089250478976279, 2404.0], [92.3, 112.6, 141.8, 50.92399999999999, 5.0710000000000015, 5.416821003625756, 0.34582100362575474, 785.0], [62.4, 97.5, 141.7, 38.312, 3.996, 3.9498986889129597, 0.0461013110870403, 314.0], [102.2, 114.2, 139.5, 58.797, 5.988, 5.916032206180228, 0.07196779381977247, 152.0], [78.2, 94.6, 133.9, 52.52800000000001, 3.556, 3.477756336758158, 0.07824366324184195, 463.0], [101.4, 120.0, 144.3, 40.760999999999996, 6.314, 6.374910811972801, 0.060910811972800794, 272.0], [91.9, 117.2, 144.5, 40.103, 5.907, 6.021532501098232, 0.11453250109823188, 270.0], [67.4, 101.5, 144.3, 37.562, 3.896, 3.9966337187804775, 0.10063371878047755, 430.0], [93.6, 114.7, 143.4, 52.923, 6.1960000000000015, 5.7939633360808145, 0.402036663919187, 2320.0], [94.5, 115.5, 142.0, 47.95399999999999, 5.957000000000002, 5.888062671384146, 0.06893732861585544, 1652.0], [108.0, 129.1, 150.3, 69.53999999999999, 33.813, 23.959819857797324, 9.853180142202678, 1871.0], [90.3, 113.8, 145.3, 43.87300000000001, 4.687, 5.166017147769167, 0.4790171477691665, 2210.0], [91.6, 114.2, 142.5, 52.307, 5.871, 5.776372331356927, 0.09462766864307337, 1789.0], [62.8, 104.4, 156.4, 36.587504511862114, 2.3768098552115835, 3.1243714210467446, 0.7475615658351611, 2815.0], [95.8, 114.8, 140.1, 52.185, 6.279, 6.058526057895357, 0.22047394210464333, 1754.0], [97.8, 122.2, 155.4, 45.173, 4.834, 5.7252547179547335, 0.8912547179547339, 2477.0], [106.3, 121.3, 145.4, 38.383, 6.237, 7.087438450075069, 0.8504384500750692, 257.0], [89.8, 112.6, 141.8, 49.815, 5.664, 5.294895646457501, 0.3691043535424985, 1786.0], [98.6, 113.8, 138.4, 55.905, 8.565, 6.53149524748374, 2.0335047525162597, 2035.0], [78.7, 95.3, 135.9, 52.668, 3.504, 3.5004614659599014, 0.0035385340400986287, 471.0], [102.1, 119.5, 146.8, 36.16199999999999, 5.87, 5.591640648776559, 0.27835935122344146, 1058.0], [98.2, 112.8, 144.7, 57.56500000000001, 5.212999999999999, 5.246543971593737, 0.03354397159373779, 1259.0], [104.9, 121.3, 145.8, 38.412, 6.1960000000000015, 7.181894137960847, 0.9858941379608455, 254.0], [102.6, 109.5, 136.0, 61.05869981830802, 4.928211486162216, 4.644430596955005, 0.2837808892072111, 2749.0], [104.3, 121.8, 153.1, 37.391, 7.2189999999999985, 6.0398302579954715, 1.179169742004527, 903.0], [95.6, 114.8, 144.6, 45.20200000000001, 5.077, 5.460867009164163, 0.38386700916416316, 940.0], [83.4, 109.9, 138.4, 44.903999999999996, 5.5070000000000014, 5.032999472323055, 0.4740005276769468, 168.0], [95.7, 112.7, 136.9, 46.67100000000001, 6.605, 6.025752023757913, 0.5792479762420877, 2054.0], [101.9, 119.0, 141.4, 37.802, 5.442, 6.137372854029826, 0.6953728540298254, 1961.0], [91.5, 113.8, 146.8, 49.881, 4.942, 5.254591371319122, 0.3125913713191215, 790.0], [79.4, 112.3, 148.6, 37.305, 4.772, 4.278491572987867, 0.4935084270121335, 291.0], [99.9, 119.9, 146.9, 41.307, 9.159, 5.938762752332079, 3.2202372476679217, 2606.0], [72.5, 99.1, 133.3, 45.136, 3.757, 3.972686859482136, 0.21568685948213595, 528.0], [92.4, 115.5, 146.3, 46.53100000000001, 5.658, 5.3690555041791335, 0.2889444958208669, 2181.0], [79.0, 95.0, 132.8, 52.74100000000001, 3.579, 3.4574064854051008, 0.12159351459489942, 486.0], [89.4, 108.1, 134.4, 49.918000000000006, 5.294, 4.929304091661856, 0.3646959083381436, 135.0], [97.4, 116.8, 143.9, 53.514, 6.533, 6.298057970984729, 0.23494202901527128, 2537.0], [95.8, 115.4, 141.8, 56.589622688931996, 6.733891642454281, 6.5289316752432764, 0.2049599672110043, 2857.0], [83.1, 105.1, 139.7, 48.107, 3.605, 4.3771822697632174, 0.7721822697632175, 809.0], [91.3, 107.7, 139.7, 57.126999999999995, 4.346, 4.227026128996355, 0.11897387100364476, 367.0], [101.1, 117.8, 143.0, 40.709, 6.004, 5.867777044521306, 0.13622295547869356, 1351.0], [93.5, 115.7, 146.7, 46.751999999999995, 4.166, 5.354249364949926, 1.1882493649499253, 2176.0], [90.9, 115.2, 147.0, 44.549, 5.061, 5.172782717378498, 0.11178271737849776, 2206.0], [92.8, 108.5, 140.9, 56.24099999999999, 4.606, 4.24148576898139, 0.36451423101861025, 691.0], [64.9, 99.5, 144.0, 38.34, 3.297, 4.03093228949298, 0.7339322894929796, 410.0], [96.2, 113.1, 144.4, 55.702, 5.155, 5.181805772979722, 0.02680577297972153, 912.0], [81.9, 112.0, 148.8, 41.434, 4.115, 4.367146025608515, 0.25214602560851507, 765.0], [94.2, 112.4, 142.1, 50.102, 5.91, 5.349689718912034, 0.5603102810879665, 2553.0], [94.6, 114.3, 141.6, 55.75220866506322, 6.463578012837173, 6.455030922317677, 0.008547090519495981, 2803.0], [91.3, 112.5, 143.1, 52.135, 5.008, 5.051038466081612, 0.04303846608161166, 794.0], [97.2, 113.4, 144.7, 51.404, 4.832, 5.41820567632483, 0.5862056763248304, 1025.0], [95.7, 115.5, 143.7, 51.159000000000006, 6.443, 5.831248457654616, 0.6117515423453836, 1709.0], [101.7, 119.0, 147.1, 41.294, 5.189, 5.712208865093704, 0.5232088650937037, 210.0], [103.9, 121.9, 146.3, 37.859, 9.334, 7.409007668403197, 1.924992331596803, 2026.0], [103.8, 121.7, 146.1, 41.708, 11.16, 7.860220888879262, 3.2997791111207384, 2024.0], [66.4, 97.3, 135.4, 42.173, 3.92, 3.888157477373511, 0.0318425226264889, 365.0], [103.7, 119.2, 143.3, 37.686, 5.563, 6.096220634654502, 0.5332206346545023, 2421.0], [89.0, 118.7, 149.3, 45.113, 6.84, 6.010485775641978, 0.8295142243580216, 662.0], [80.7, 109.2, 145.7, 39.43600000000001, 3.42, 4.288670623700051, 0.8686706237000514, 802.0], [94.2, 114.9, 139.7, 49.063, 6.121, 6.00639425495676, 0.1146057450432405, 2428.0], [87.2, 108.6, 141.9, 52.873999999999995, 4.215, 4.116404661518607, 0.09859533848139268, 1509.0], [95.0, 108.0, 132.0, 56.154, 4.7, 4.591559017793216, 0.10844098220678422, 693.0], [94.3, 115.4, 145.7, 47.724, 5.092, 5.433010971664882, 0.3410109716648826, 1553.0], [100.7, 118.0, 143.3, 39.047, 5.772, 5.808928792589963, 0.036928792589963066, 108.0], [94.8, 113.3, 144.7, 53.52, 5.1, 5.171518144308978, 0.0715181443089783, 1090.0], [84.1, 114.2, 142.7, 51.07100000000001, 5.966, 6.168438242082976, 0.20243824208297578, 1877.0], [91.3, 112.0, 141.4, 51.58800000000001, 4.2639999999999985, 5.211650273672985, 0.9476502736729868, 1580.0], [90.0, 113.4, 143.5, 47.58600000000001, 5.556, 5.25718445649357, 0.29881554350643036, 2261.0], [65.4, 101.7, 141.0, 36.105, 3.847, 4.0651936955726535, 0.21819369557265356, 332.0], [93.4, 113.8, 140.2, 53.01600000000001, 6.17, 5.867623877644078, 0.3023761223559216, 2073.0], [91.4, 109.1, 147.0, 58.916000000000004, 3.61, 4.314516313973616, 0.7045163139736164, 1220.0], [94.0, 113.1, 145.6, 53.47599999999999, 5.085, 4.9875007469458215, 0.0974992530541785, 1093.0], [99.0, 115.1, 144.0, 43.822, 5.608, 5.483709246535679, 0.1242907534643205, 1804.0], [78.6, 94.6, 134.6, 52.833, 3.466, 3.486168448582767, 0.020168448582766896, 478.0], [79.9, 105.7, 144.1, 41.888999999999996, 3.616, 4.172085679044767, 0.556085679044767, 847.0], [97.8, 117.7, 146.4, 50.263999999999996, 5.96, 5.886566836396108, 0.07343316360389185, 2356.0], [105.6, 121.5, 146.6, 42.952, 6.017, 8.296073927403766, 2.2790739274037657, 2494.0], [98.7, 121.6, 158.3, 53.67, 7.891, 6.153407959107271, 1.7375920408927295, 1196.0], [104.8, 121.5, 151.1, 36.312, 5.459, 5.896784062542223, 0.4377840625422236, 199.0], [98.6, 119.9, 146.7, 39.866, 5.5139999999999985, 5.987105631215703, 0.4731056312157049, 2461.0], [94.9, 113.4, 139.2, 51.19200000000001, 5.954, 6.033195545099287, 0.07919554509928695, 644.0], [82.4, 114.7, 153.4, 36.655, 4.839, 4.057997355405652, 0.7810026445943485, 289.0], [83.6, 115.5, 147.9, 40.839, 5.477, 4.965919508615199, 0.511080491384801, 246.0], [101.1, 118.8, 143.2, 37.287, 6.646, 5.984991510422002, 0.6610084895779975, 2283.0], [93.8, 114.7, 144.4, 50.681000000000004, 5.189, 5.6244407934518925, 0.43544079345189246, 1204.0], [85.3, 107.2, 134.2, 47.524, 4.48, 4.440970560605884, 0.03902943939411685, 741.0], [91.6, 113.4, 145.2, 49.827, 5.037, 5.33254659697956, 0.2955465969795599, 2635.0], [78.9, 94.5, 132.9, 52.291, 3.574, 3.455384398044119, 0.11861560195588083, 485.0], [57.0, 87.1, 137.9, 40.71137953144875, 3.4754786781982703, 3.974459742388629, 0.4989810641903589, 2708.0], [85.1, 107.9, 142.7, 50.506, 4.433, 4.2383015859375535, 0.19469841406244637, 736.0], [100.3, 118.6, 144.3, 42.365, 5.817, 6.179531204077337, 0.36253120407733697, 96.0], [94.6, 110.1, 143.0, 59.55500000000001, 4.589, 4.325025073912704, 0.2639749260872968, 1228.0], [99.7, 119.9, 149.1, 38.80199999999999, 5.053, 5.608324226219556, 0.5553242262195557, 2129.0], [98.7, 118.7, 144.7, 59.56, 14.948, 7.485182433090448, 7.4628175669095524, 612.0], [106.5, 123.4, 149.3, 41.327, 5.0710000000000015, 6.991610605405535, 1.9206106054055336, 543.0], [101.8, 113.6, 146.7, 55.50100000000001, 5.035, 5.434503165571636, 0.3995031655716357, 1005.0], [95.3, 117.7, 145.9, 48.38, 5.358, 5.846789478705562, 0.488789478705562, 2148.0], [71.2, 106.0, 143.5, 37.01821672914917, 3.9113741801311774, 3.9160120031367662, 0.004637823005588793, 2735.0], [97.0, 116.2, 143.0, 52.262, 6.3370000000000015, 6.245072033678985, 0.09192796632101619, 2470.0], [98.5, 112.7, 141.8, 49.086527127274294, 5.702144678298255, 5.4309858789386265, 0.27115879935962894, 2788.0], [94.2, 114.6, 143.5, 49.918000000000006, 5.5470000000000015, 5.702708641223659, 0.1557086412236579, 1544.0], [102.4, 119.2, 146.1, 39.147, 5.81, 5.85051342402208, 0.04051342402208036, 104.0], [87.3, 112.1, 144.7, 48.168, 4.962, 4.629720092044858, 0.33227990795514195, 2254.0], [95.4, 117.4, 145.8, 50.466, 6.265, 5.9446425815070185, 0.32035741849298116, 1688.0], [91.3, 115.2, 147.5, 48.007, 5.435, 5.2411176453733095, 0.19388235462669012, 1270.0], [94.9, 115.3, 142.6, 48.101000000000006, 6.097, 5.749840205751623, 0.34715979424837773, 2434.0], [99.7, 120.3, 146.8, 39.422, 6.9670000000000005, 6.0643482986141395, 0.902651701385861, 2600.0], [99.4, 122.9, 162.4, 53.911, 5.56, 6.299434419750085, 0.7394344197500855, 1195.0], [102.7, 119.9, 144.6, 36.7, 5.809, 5.992074674639138, 0.18307467463913785, 2389.0], [96.3, 116.5, 144.5, 48.639, 5.9910000000000005, 5.834021010172413, 0.1569789898275875, 2376.0], [91.7, 110.3, 139.2, 53.36399999999999, 4.1789999999999985, 5.011552378420525, 0.8325523784205267, 2223.0], [99.5, 119.8, 148.9, 51.945280701879504, 5.30952214300713, 6.329515586506907, 1.0199934434997768, 2756.0], [101.0, 119.3, 147.0, 40.118, 5.676, 5.830584963791194, 0.15458496379119424, 226.0], [103.8, 120.2, 146.6, 41.745, 5.69, 6.188542438767608, 0.4985424387676076, 231.0], [75.1, 109.4, 142.4, 43.166000000000004, 4.323, 4.474817011257256, 0.15181701125725588, 1337.0], [106.2, 121.5, 145.2, 38.811, 6.279, 7.242202570834025, 0.9632025708340253, 251.0], [97.9, 117.2, 143.2, 39.77, 5.997999999999998, 5.755067202908872, 0.24293279709112614, 111.0], [62.7, 93.0, 129.9, 40.81, 3.325, 3.6272614672051366, 0.30226146720513647, 51.0], [93.3, 113.0, 143.4, 50.74400000000001, 5.353, 5.312483998299113, 0.04051600170088676, 1594.0], [83.1, 106.8, 146.7, 50.65600000000001, 4.666, 4.1767420528644985, 0.48925794713550186, 879.0], [99.2, 117.3, 147.4, 41.774, 5.1389999999999985, 5.3354089712484445, 0.19640897124844603, 962.0], [104.3, 119.5, 144.3, 37.124, 8.789, 6.031687090731862, 2.757312909268138, 744.0], [88.7, 109.9, 140.4, 49.609, 4.884, 4.754740836435774, 0.1292591635642264, 831.0], [74.4, 100.3, 134.2, 45.196999999999996, 4.382, 4.03779468973613, 0.34420531026386936, 507.0], [94.9, 113.6, 141.9, 50.262, 5.357, 5.787410668138595, 0.4304106681385944, 1915.0], [94.1, 114.7, 140.7, 50.318999999999996, 6.212999999999999, 5.969622636870232, 0.24337736312976688, 2406.0], [80.0, 98.0, 140.8, 50.626999999999995, 3.774, 3.961004988934844, 0.18700498893484419, 509.0], [92.8, 112.8, 142.4, 52.367, 4.925, 5.344499130454527, 0.41949913045452725, 1011.0], [95.0, 116.0, 145.7, 37.857000000000006, 5.3260000000000005, 5.187887509986594, 0.1381124900134063, 1800.0], [81.9, 99.6, 136.3, 48.679, 3.972, 4.0915550803645235, 0.11955508036452356, 464.0], [101.8, 117.3, 142.6, 40.7, 5.4910000000000005, 5.742857956004257, 0.2518579560042564, 567.0], [98.3, 121.0, 152.4, 46.347, 6.335, 5.825573128400788, 0.5094268715992119, 705.0], [91.5, 110.8, 135.1, 40.461, 5.521, 5.307874248007905, 0.21312575199209505, 676.0], [96.1, 115.9, 142.1, 52.45, 6.348, 6.241221361211237, 0.10677863878876259, 2576.0], [95.4, 117.1, 144.3, 50.32, 6.259, 6.060839039451928, 0.19816096054807275, 2541.0], [78.3, 94.1, 131.4, 52.39, 3.5010000000000003, 3.349244703255838, 0.15175529674416222, 479.0], [91.6, 112.4, 144.7, 52.486000000000004, 4.792, 4.916334831790421, 0.1243348317904216, 1117.0], [99.0, 112.5, 145.3, 59.203, 4.791, 4.9267285791425905, 0.13572857914259018, 1241.0], [102.3, 120.1, 148.1, 41.157, 5.1370000000000005, 5.900365134431187, 0.7633651344311865, 212.0], [106.2, 120.7, 143.7, 39.547, 7.17, 6.854923322838135, 0.3150766771618647, 2012.0], [92.9, 110.0, 140.5, 51.71099999999999, 4.811, 4.898210566693178, 0.08721056669317839, 841.0], [68.1, 108.1, 154.8, 36.342, 2.943, 3.123956976993546, 0.18095697699354574, 1411.0], [66.2, 101.7, 144.7, 37.09, 3.626, 3.9718207588020586, 0.34582075880205876, 422.0], [89.9, 113.7, 142.3, 44.164, 6.902, 5.376624333363296, 1.5253756666367044, 1778.0], [62.4, 96.3, 141.7, 38.752, 3.961, 3.9593187866524615, 0.0016812133475383462, 313.0], [95.0, 113.3, 138.0, 46.380145820474645, 7.960885476033352, 5.767503500659923, 2.1933819753734287, 2824.0], [98.7, 119.6, 146.1, 39.14, 7.01, 5.986294278325008, 1.0237057216749914, 2167.0], [94.5, 114.8, 141.3, 52.573, 6.101, 5.994052493386529, 0.10694750661347108, 2338.0], [103.2, 115.4, 142.9, 51.8, 4.942, 5.454176518801511, 0.5121765188015113, 554.0], [94.9, 112.7, 140.3, 48.9, 6.047999999999999, 5.416820711463683, 0.6311792885363161, 2554.0], [92.4, 114.1, 144.9, 46.18600000000001, 4.592, 5.3347731389870905, 0.7427731389870909, 2519.0], [95.6, 120.8, 153.4, 44.983000000000004, 4.747, 5.543847320038393, 0.7968473200383928, 2479.0], [102.4, 120.8, 152.0, 39.937, 5.274, 5.434815780313949, 0.16081578031394894, 218.0], [96.6, 113.6, 140.9, 47.575, 5.017, 5.688173007845726, 0.6711730078457254, 610.0], [115.0, 130.5, 153.8, 36.836183364911726, 8.155102938676745, 7.412487091255145, 0.7426158474215994, 2700.0], [85.1, 106.4, 141.0, 51.911, 3.504, 4.203459752842653, 0.6994597528426527, 1452.0], [75.2, 105.4, 142.5, 39.847, 3.809, 4.15652785392372, 0.34752785392371965, 889.0], [95.3, 114.7, 140.5, 53.62300000000001, 6.238, 6.122856235179331, 0.11514376482066968, 2440.0], [97.5, 117.3, 145.3, 55.88004606788536, 6.7911171547698785, 6.702886628472828, 0.08823052629705064, 2848.0], [102.7, 116.3, 141.6, 45.697, 3.658, 5.688197743211174, 2.030197743211174, 700.0], [96.9, 117.7, 145.7, 47.201, 6.093, 5.864788688898966, 0.22821131110103376, 1700.0], [92.8, 113.6, 143.3, 50.742, 4.209, 5.506975973105923, 1.297975973105923, 787.0], [95.5, 115.3, 142.1, 49.11600000000001, 6.114, 5.878487836015902, 0.23551216398409824, 2431.0], [96.3, 118.2, 147.0, 51.122, 6.444, 6.004476064427008, 0.43952393557299185, 2522.0], [73.2, 106.8, 144.0, 38.733, 3.907, 4.0720916362995645, 0.16509163629956447, 679.0], [103.6, 120.7, 145.9, 37.12000000000001, 5.763, 6.3549447394264575, 0.5919447394264576, 1352.0], [100.3, 120.1, 146.4, 38.136, 6.848, 5.9407023377333195, 0.9072976622666804, 2249.0], [67.4, 104.7, 143.8, 37.745, 3.401, 3.9483963881372888, 0.547396388137289, 1359.0], [94.9, 117.0, 143.0, 36.477, 5.195, 5.494894061839911, 0.2998940618399111, 1429.0], [99.0, 109.2, 129.5, 42.23359352085975, 4.97140343158821, 5.27390754814631, 0.30250411655809994, 2804.0], [99.4, 117.2, 144.3, 36.795, 5.778, 5.464029078662021, 0.31397092133797866, 1097.0], [88.5, 112.0, 143.5, 47.005, 5.246, 4.855161170285467, 0.3908388297145331, 1769.0], [102.5, 118.3, 143.4, 36.646, 5.397, 5.655947721296881, 0.25894772129688093, 1029.0], [94.1, 113.4, 141.1, 51.515, 5.376, 5.808692592213727, 0.43269259221372636, 1911.0], [66.6, 106.4, 153.1, 36.165, 2.8280000000000003, 3.1937983234378815, 0.3657983234378812, 1392.0], [95.6, 119.4, 149.2, 44.215, 5.843, 5.768355934187211, 0.07464406581278915, 2535.0], [93.4, 115.6, 148.0, 50.17100000000001, 5.044, 5.367045285179506, 0.32304528517950626, 817.0], [94.5, 114.1, 142.1, 54.00269044339002, 6.359491240700746, 5.893508725874731, 0.46598251482601505, 2797.0], [105.4, 118.6, 142.0, 39.685, 3.907, 6.526479167267288, 2.619479167267288, 358.0], [101.1, 117.6, 141.0, 39.177, 5.894, 5.879083808274935, 0.01491619172506553, 1321.0], [105.5, 121.5, 145.0, 37.954, 6.1789999999999985, 7.3230797794664015, 1.144079779466403, 259.0], [97.3, 116.7, 141.5, 48.848, 6.2810000000000015, 6.204340381277512, 0.0766596187224895, 1726.0], [105.1, 124.0, 146.2, 38.893, 13.664, 10.749510192665348, 2.914489807334652, 2284.0], [93.87, 113.2, 146.7, 52.636, 4.93, 4.992719598422971, 0.06271959842297115, 1017.0], [81.4, 113.5, 151.8, 43.91499999999999, 4.461, 4.466955459925204, 0.005955459925203854, 1299.0], [93.4, 114.6, 142.9, 52.044, 6.107, 5.792995136240969, 0.31400486375903114, 2299.0], [104.0, 120.1, 147.2, 38.586, 5.756, 5.990001989170662, 0.23400198917066195, 1151.0], [100.5, 118.0, 142.2, 40.907, 6.045, 5.9655065881719835, 0.07949341182801639, 1350.0], [95.6, 115.9, 143.1, 51.637, 6.476, 6.057881405588309, 0.4181185944116912, 1711.0], [99.8, 120.3, 146.7, 38.527, 6.716, 5.98997357256476, 0.7260264274352402, 2592.0], [94.1, 113.9, 142.3, 52.389, 5.53, 5.821420778137077, 0.291420778137077, 2216.0], [77.8, 93.0, 130.5, 54.15600000000001, 3.427, 3.3129598122283213, 0.11404018777167879, 456.0], [78.0, 93.9, 134.5, 53.769, 3.42, 3.4434587844820634, 0.02345878448206351, 462.0], [89.3, 112.7, 145.3, 47.937, 4.672, 4.8185928972797445, 0.14659289727974478, 2118.0], [93.9, 115.0, 140.6, 49.20600000000001, 6.153, 5.90568592507007, 0.24731407492992918, 1738.0], [73.7, 100.5, 136.8, 48.82599999999999, 3.319, 3.929053862974799, 0.6100538629747989, 381.0], [65.4, 101.5, 147.4, 38.40426747710855, 4.348608625223728, 3.957448775106272, 0.39115985011745646, 2653.0], [94.0, 113.9, 139.9, 50.713, 6.178, 6.033020521441071, 0.14497947855892868, 2410.0], [91.7, 115.4, 147.5, 44.729, 5.122000000000001, 5.28767398654163, 0.1656739865416288, 2188.0], [84.2, 108.9, 144.8, 41.39100000000001, 4.427, 4.424677429687977, 0.0023225703120228758, 1784.0], [90.2, 115.1, 145.6, 46.99099999999999, 5.688, 5.320116119249668, 0.3678838807503313, 1265.0], [94.0, 115.2, 147.8, 51.69600000000001, 5.408, 5.340519484458358, 0.06748051554164203, 1161.0], [97.3, 117.5, 145.9, 45.27199999999999, 5.794, 5.751484121975812, 0.04251587802418744, 2078.0], [100.8, 118.0, 144.6, 37.219, 5.472, 5.599556497971457, 0.1275564979714563, 1061.0], [88.1, 106.0, 132.4, 54.492, 3.94, 4.443147914467934, 0.503147914467934, 807.0], [87.5, 111.9, 141.7, 48.534, 5.1560000000000015, 4.869606656433035, 0.28639334356696633, 2251.0], [93.6, 116.1, 142.8, 44.944, 6.0920000000000005, 5.792961509193797, 0.29903849080620315, 2178.0], [97.3, 116.2, 144.9, 36.625, 5.0939999999999985, 5.21824057945494, 0.12424057945494127, 1064.0], [106.4, 123.1, 149.3, 41.788000000000004, 5.007, 7.213715334115755, 2.2067153341157555, 542.0], [87.7, 112.6, 146.0, 44.58600000000001, 4.681, 4.768577742626383, 0.08757774262638307, 1815.0], [94.2, 114.4, 146.6, 54.21100000000001, 5.646, 5.537872314750299, 0.10812768524970107, 1599.0], [72.5, 111.2, 154.6, 39.93, 3.411, 3.403998135609698, 0.007001864390301815, 1444.0], [95.5, 115.5, 141.7, 53.43218187429162, 6.527020946857972, 6.17364608533238, 0.35337486152559183, 2834.0], [94.8, 114.3, 145.3, 49.283, 5.174, 5.424477394872653, 0.25047739487265286, 1613.0], [94.4, 114.0, 144.9, 49.605, 4.319, 5.453707340174751, 1.1347073401747512, 1615.0], [94.7, 114.6, 140.5, 51.93894632191329, 6.39042486176244, 6.027926120978984, 0.36249874078345634, 2763.0], [92.6, 116.6, 146.4, 52.70500000000001, 18.257, 5.993364160546404, 12.263635839453597, 1269.0], [96.1, 118.4, 149.2, 45.647, 4.931, 5.61811035176214, 0.68711035176214, 2137.0], [98.2, 116.0, 141.4, 38.944, 4.933, 5.679584216053261, 0.746584216053261, 1521.0], [96.7, 117.3, 144.0, 50.098, 6.273, 6.0913745072344065, 0.18162549276559314, 2530.0], [63.0, 94.2, 130.2, 38.439, 3.647, 3.560850095106512, 0.08614990489348795, 435.0], [92.1, 111.7, 138.5, 38.88800000000001, 5.001, 5.172292163698542, 0.17129216369854205, 655.0], [82.4, 113.3, 145.8, 36.978, 4.863, 4.7829468321905955, 0.08005316780940497, 237.0], [88.6, 114.3, 147.4, 44.537, 4.723, 5.104074885639717, 0.38107488563971703, 798.0], [99.5, 118.2, 144.8, 40.919, 6.104, 5.78622413848369, 0.31777586151631, 109.0], [94.4, 114.9, 143.0, 49.86999999999999, 5.882999999999999, 5.757549639349566, 0.1254503606504329, 1876.0], [89.0, 112.1, 140.1, 47.203, 6.312, 5.082445510318729, 1.229554489681271, 163.0], [95.2, 114.2, 141.1, 49.12, 6.01, 5.790704469836051, 0.21929553016394898, 1905.0], [105.3, 121.3, 144.5, 38.077, 6.175, 7.368842942660889, 1.193842942660889, 252.0], [96.8, 117.3, 145.6, 43.444, 7.933, 5.7107394487597976, 2.2222605512402023, 1793.0], [94.6, 114.6, 140.6, 51.056999999999995, 6.105, 5.983882834119321, 0.12111716588067978, 2334.0], [92.5, 113.5, 143.2, 49.397, 5.2639999999999985, 5.431829876496303, 0.1678298764963042, 2103.0]], \"hoverlabel\": {\"namelength\": 0}, \"hovertemplate\": \"C8A=%{customdata[4]}<br>loss=%{marker.color}<br>T10=%{customdata[0]}<br>T50=%{customdata[1]}<br>T90=%{customdata[2]}<br>N+A=%{customdata[3]}<br>C8A_pred=%{customdata[5]}<br>index=%{customdata[7]}\", \"legendgroup\": \"\", \"marker\": {\"color\": [0.14631929118128717, 0.3339746030076878, 0.7769055785042287, 0.24087841221398953, 0.5458698205473498, 0.5731551829459125, 0.543658618388676, 1.1207824004189648, 0.14705478384425152, 1.107582859642334, 1.0992903929073439, 0.0509537909303317, 0.15178208079329192, 0.23328389814543282, 0.5414676631584898, 0.002539362415322266, 0.04095659768645543, 0.09678420978168578, 0.015018531336611574, 0.014528403115759314, 0.12685206301575924, 0.2652873222855412, 0.21015778051187173, 0.03311832508572454, 0.12139037378550555, 5.336784728197982, 1.846259791891577, 1.0877755494440642, 0.02456351698399839, 0.20517206771031216, 0.12642083246432456, 0.0801508214886546, 0.4922437618812179, 0.26762263687023147, 0.2422950289595054, 0.1883529985311858, 0.2393659006526958, 0.1129640840046564, 0.08443936110778338, 0.3184954540669276, 0.2820987328663369, 0.397360076353249, 0.04084785042433747, 1.8176720832344824, 0.10483740160869903, 0.2219705893587336, 0.06289693683875353, 0.022125965730533714, 0.8671647858805933, 0.8522455042112052, 0.09454585454574005, 0.40194631086967103, 0.25225666226810617, 0.26126605656611535, 0.6410450593381372, 0.2086293943326547, 0.10499421229346151, 0.15359986404883852, 0.10495463287699902, 0.3864229001259929, 0.6082012077870695, 0.14419611739521532, 0.3053691964795302, 0.9070848669640146, 0.62856228886052, 0.5395395170206481, 0.17284273919066528, 0.8410692792143895, 2.6185634416631416, 0.11433631337778216, 0.5673657506986296, 0.5567695676505493, 2.24306637046916, 0.7541084984117128, 0.2186265308879518, 0.5248786286852445, 1.0243550290814118, 0.09313624753517047, 0.02122748252049078, 0.11674372284241041, 0.16902501668017234, 0.3674614271219143, 0.012195791394157496, 0.03130858739271147, 0.4671406985945392, 0.15926678047902776, 0.4213073852323239, 0.49753209673527543, 2.1005447932215198, 0.15405555999401344, 0.25768071433224726, 0.377647477268928, 0.7155471085391776, 0.22944924355255125, 0.27721668334232463, 0.0764880682326563, 0.38364779425007445, 0.5166676099788781, 0.05900456389935149, 0.39478160890051495, 0.09345893284717954, 0.055356892931124335, 0.03383873865507514, 0.5731169959485416, 0.2419148721025639, 0.03380035287252081, 0.11213396802093367, 3.43375604922843, 0.0007826827521446589, 0.10887413173900118, 0.165497666497612, 0.3246359807420287, 0.1777442650495491, 0.289627379042976, 0.3651525669686304, 0.397724809846828, 0.33757240235883934, 0.7638177073701007, 0.07674854503034378, 0.18248488633547222, 0.9990042527467953, 0.9299038660014265, 0.21254005946892018, 0.1168342923437713, 0.6837976244348489, 0.5517220430624636, 0.5241472883116831, 0.2749413134712899, 0.5065344988747071, 0.07306020471377561, 0.3439875770193863, 0.050603248377156795, 1.1952127130596857, 0.5390551178023975, 0.2649840519659694, 0.4767623400645231, 0.32427322305875483, 0.08606486745748221, 0.23845726824429647, 0.18644059194139562, 0.09782599328103725, 1.297218659556973, 0.013471300278747655, 0.05643175766397146, 1.2016783540541818, 0.6077719947768303, 0.16026490225111223, 1.8035426410505595, 0.09749435697747888, 0.047910541893651626, 0.08957041283029543, 0.5070879799325914, 0.11232633584889484, 4.941045823163233, 0.08639114542414461, 0.17102071041066802, 0.0359290033791293, 0.01732682851947409, 0.06850613679177764, 0.21724247425042176, 0.20140607206339567, 1.0466569184048433, 1.7093940122335787, 0.978174725459056, 0.11107739167872088, 0.1588922278931335, 0.8673215918660486, 0.34656171177144124, 0.7278570659607704, 0.4475992240974005, 1.5239574596522907, 0.38163624319781064, 0.7930164438087983, 0.23207351959172273, 0.2572476628600855, 0.1593324949692656, 0.33845725489502243, 1.5476217539804349, 0.021350792786643424, 0.2019709593825727, 0.5802377865435973, 0.005737124255638104, 0.2261906665745821, 0.1030223635071037, 0.10536003355475465, 0.07667795368790387, 0.2665073034643459, 0.1931247755545833, 0.11438439084704477, 2.0306184369742915, 0.05466403714114687, 0.21453843293659336, 0.4645016416360752, 0.6600226733484167, 3.013634011262397, 0.2316752277011096, 0.4113949493837019, 0.6567689744606025, 0.08102287819159004, 0.3040435915951596, 0.08919494458961275, 0.5018642689867514, 0.08603248594256119, 0.4047991918188929, 0.1635097425340275, 0.49967094746531693, 0.13094099416553817, 0.05483473628051527, 0.023847072472899633, 0.3116273790429771, 0.5174962849574181, 0.13158313000192567, 0.569867925883873, 0.11853142503064706, 0.16528099787863404, 2.0841629950100895, 1.0694005766087633, 0.2921872010822053, 0.027355998752954136, 0.08595003610277718, 0.21459327851337706, 0.2514095875488582, 0.35420293881145515, 1.023254288386454, 0.2267655448226975, 0.7849589406377717, 0.24189703974198284, 0.14516159631418946, 0.5560218539914938, 2.150105663952849, 0.12662768993755602, 1.5980463532117488, 0.24416262798514765, 0.3617061219959625, 0.11458886686059255, 0.5429688337645358, 0.23800022588752778, 0.10641387418762882, 0.029243070590555753, 0.04661125202075844, 1.6182037287294166, 0.44436343735844464, 0.5967675181099166, 0.5191438467951643, 0.1240476896684255, 0.42999085889836364, 0.01603945065935175, 0.040311583888717806, 0.22611093820205763, 0.1680805487918393, 0.7117974458709151, 1.5719517559192928, 0.1360894086743194, 0.7940458026391992, 1.2483924391993968, 0.59213940535715, 6.704761477906747, 0.6764109586515139, 2.002449441349646, 0.5997095765235274, 0.49565700055022965, 0.4660639643541016, 0.21282499603817584, 0.5257855883245268, 3.363540470154059, 0.04635232475781281, 0.10987926495843237, 0.28796357419999197, 0.5440786064184118, 0.4431848058991541, 0.9438975725394787, 0.18905988409283925, 0.012880830801391685, 0.1827216535474685, 0.31595290550591404, 1.1693149179248739, 0.16186358299527637, 0.3053751856147615, 0.6076090385657125, 0.014007226261466776, 0.3239107750896544, 0.03733964124785194, 0.17818326963240771, 0.3339258165889021, 0.366299768366285, 0.04034790425270085, 0.1869876716179837, 0.1880088117328116, 0.21069807291194298, 0.22195275675373072, 0.6363654499536264, 0.04523882854780137, 0.13213085619701737, 0.019479323458275744, 0.4012736475763017, 0.15113992807102639, 0.353265694032582, 0.5058816942819657, 0.7759514822806892, 0.5425974232616557, 0.4166218203810148, 0.4966579484860607, 0.49605601301237456, 0.08453113362894626, 0.18259658239023313, 0.932105958264791, 0.113854332895035, 0.22556665186328484, 0.3187947982947277, 0.19823963355865626, 13.027281032468828, 0.3709880911918484, 0.21327182600723926, 0.08548935259425772, 0.4619476779081082, 0.23768974536328402, 0.44559749005272486, 0.4487604627488473, 0.43176592793322754, 0.16258847068906412, 0.2185784139649929, 0.281945821497537, 0.1301585809161745, 0.40909225540843863, 0.41719999600530056, 0.740034263186367, 0.3629196084795119, 0.0968835867474036, 0.33205615563896984, 0.12481302529940663, 0.47369962697848633, 0.6677930269865167, 0.14532482516752054, 0.1669755283468488, 0.9772605089452355, 0.6449451937074251, 0.3096854431027882, 0.14905173328216037, 0.4476966432853242, 0.3403893768719053, 6.608227492301172, 0.02089250478976279, 0.34582100362575474, 0.0461013110870403, 0.07196779381977247, 0.07824366324184195, 0.060910811972800794, 0.11453250109823188, 0.10063371878047755, 0.402036663919187, 0.06893732861585544, 9.853180142202678, 0.4790171477691665, 0.09462766864307337, 0.7475615658351611, 0.22047394210464333, 0.8912547179547339, 0.8504384500750692, 0.3691043535424985, 2.0335047525162597, 0.0035385340400986287, 0.27835935122344146, 0.03354397159373779, 0.9858941379608455, 0.2837808892072111, 1.179169742004527, 0.38386700916416316, 0.4740005276769468, 0.5792479762420877, 0.6953728540298254, 0.3125913713191215, 0.4935084270121335, 3.2202372476679217, 0.21568685948213595, 0.2889444958208669, 0.12159351459489942, 0.3646959083381436, 0.23494202901527128, 0.2049599672110043, 0.7721822697632175, 0.11897387100364476, 0.13622295547869356, 1.1882493649499253, 0.11178271737849776, 0.36451423101861025, 0.7339322894929796, 0.02680577297972153, 0.25214602560851507, 0.5603102810879665, 0.008547090519495981, 0.04303846608161166, 0.5862056763248304, 0.6117515423453836, 0.5232088650937037, 1.924992331596803, 3.2997791111207384, 0.0318425226264889, 0.5332206346545023, 0.8295142243580216, 0.8686706237000514, 0.1146057450432405, 0.09859533848139268, 0.10844098220678422, 0.3410109716648826, 0.036928792589963066, 0.0715181443089783, 0.20243824208297578, 0.9476502736729868, 0.29881554350643036, 0.21819369557265356, 0.3023761223559216, 0.7045163139736164, 0.0974992530541785, 0.1242907534643205, 0.020168448582766896, 0.556085679044767, 0.07343316360389185, 2.2790739274037657, 1.7375920408927295, 0.4377840625422236, 0.4731056312157049, 0.07919554509928695, 0.7810026445943485, 0.511080491384801, 0.6610084895779975, 0.43544079345189246, 0.03902943939411685, 0.2955465969795599, 0.11861560195588083, 0.4989810641903589, 0.19469841406244637, 0.36253120407733697, 0.2639749260872968, 0.5553242262195557, 7.4628175669095524, 1.9206106054055336, 0.3995031655716357, 0.488789478705562, 0.004637823005588793, 0.09192796632101619, 0.27115879935962894, 0.1557086412236579, 0.04051342402208036, 0.33227990795514195, 0.32035741849298116, 0.19388235462669012, 0.34715979424837773, 0.902651701385861, 0.7394344197500855, 0.18307467463913785, 0.1569789898275875, 0.8325523784205267, 1.0199934434997768, 0.15458496379119424, 0.4985424387676076, 0.15181701125725588, 0.9632025708340253, 0.24293279709112614, 0.30226146720513647, 0.04051600170088676, 0.48925794713550186, 0.19640897124844603, 2.757312909268138, 0.1292591635642264, 0.34420531026386936, 0.4304106681385944, 0.24337736312976688, 0.18700498893484419, 0.41949913045452725, 0.1381124900134063, 0.11955508036452356, 0.2518579560042564, 0.5094268715992119, 0.21312575199209505, 0.10677863878876259, 0.19816096054807275, 0.15175529674416222, 0.1243348317904216, 0.13572857914259018, 0.7633651344311865, 0.3150766771618647, 0.08721056669317839, 0.18095697699354574, 0.34582075880205876, 1.5253756666367044, 0.0016812133475383462, 2.1933819753734287, 1.0237057216749914, 0.10694750661347108, 0.5121765188015113, 0.6311792885363161, 0.7427731389870909, 0.7968473200383928, 0.16081578031394894, 0.6711730078457254, 0.7426158474215994, 0.6994597528426527, 0.34752785392371965, 0.11514376482066968, 0.08823052629705064, 2.030197743211174, 0.22821131110103376, 1.297975973105923, 0.23551216398409824, 0.43952393557299185, 0.16509163629956447, 0.5919447394264576, 0.9072976622666804, 0.547396388137289, 0.2998940618399111, 0.30250411655809994, 0.31397092133797866, 0.3908388297145331, 0.25894772129688093, 0.43269259221372636, 0.3657983234378812, 0.07464406581278915, 0.32304528517950626, 0.46598251482601505, 2.619479167267288, 0.01491619172506553, 1.144079779466403, 0.0766596187224895, 2.914489807334652, 0.06271959842297115, 0.005955459925203854, 0.31400486375903114, 0.23400198917066195, 0.07949341182801639, 0.4181185944116912, 0.7260264274352402, 0.291420778137077, 0.11404018777167879, 0.02345878448206351, 0.14659289727974478, 0.24731407492992918, 0.6100538629747989, 0.39115985011745646, 0.14497947855892868, 0.1656739865416288, 0.0023225703120228758, 0.3678838807503313, 0.06748051554164203, 0.04251587802418744, 0.1275564979714563, 0.503147914467934, 0.28639334356696633, 0.29903849080620315, 0.12424057945494127, 2.2067153341157555, 0.08757774262638307, 0.10812768524970107, 0.007001864390301815, 0.35337486152559183, 0.25047739487265286, 1.1347073401747512, 0.36249874078345634, 12.263635839453597, 0.68711035176214, 0.746584216053261, 0.18162549276559314, 0.08614990489348795, 0.17129216369854205, 0.08005316780940497, 0.38107488563971703, 0.31777586151631, 0.1254503606504329, 1.229554489681271, 0.21929553016394898, 1.193842942660889, 2.2222605512402023, 0.12111716588067978, 0.1678298764963042], \"coloraxis\": \"coloraxis\", \"size\": [0.14631929118128717, 0.3339746030076878, 0.7769055785042287, 0.24087841221398953, 0.5458698205473498, 0.5731551829459125, 0.543658618388676, 1.1207824004189648, 0.14705478384425152, 1.107582859642334, 1.0992903929073439, 0.0509537909303317, 0.15178208079329192, 0.23328389814543282, 0.5414676631584898, 0.002539362415322266, 0.04095659768645543, 0.09678420978168578, 0.015018531336611574, 0.014528403115759314, 0.12685206301575924, 0.2652873222855412, 0.21015778051187173, 0.03311832508572454, 0.12139037378550555, 5.336784728197982, 1.846259791891577, 1.0877755494440642, 0.02456351698399839, 0.20517206771031216, 0.12642083246432456, 0.0801508214886546, 0.4922437618812179, 0.26762263687023147, 0.2422950289595054, 0.1883529985311858, 0.2393659006526958, 0.1129640840046564, 0.08443936110778338, 0.3184954540669276, 0.2820987328663369, 0.397360076353249, 0.04084785042433747, 1.8176720832344824, 0.10483740160869903, 0.2219705893587336, 0.06289693683875353, 0.022125965730533714, 0.8671647858805933, 0.8522455042112052, 0.09454585454574005, 0.40194631086967103, 0.25225666226810617, 0.26126605656611535, 0.6410450593381372, 0.2086293943326547, 0.10499421229346151, 0.15359986404883852, 0.10495463287699902, 0.3864229001259929, 0.6082012077870695, 0.14419611739521532, 0.3053691964795302, 0.9070848669640146, 0.62856228886052, 0.5395395170206481, 0.17284273919066528, 0.8410692792143895, 2.6185634416631416, 0.11433631337778216, 0.5673657506986296, 0.5567695676505493, 2.24306637046916, 0.7541084984117128, 0.2186265308879518, 0.5248786286852445, 1.0243550290814118, 0.09313624753517047, 0.02122748252049078, 0.11674372284241041, 0.16902501668017234, 0.3674614271219143, 0.012195791394157496, 0.03130858739271147, 0.4671406985945392, 0.15926678047902776, 0.4213073852323239, 0.49753209673527543, 2.1005447932215198, 0.15405555999401344, 0.25768071433224726, 0.377647477268928, 0.7155471085391776, 0.22944924355255125, 0.27721668334232463, 0.0764880682326563, 0.38364779425007445, 0.5166676099788781, 0.05900456389935149, 0.39478160890051495, 0.09345893284717954, 0.055356892931124335, 0.03383873865507514, 0.5731169959485416, 0.2419148721025639, 0.03380035287252081, 0.11213396802093367, 3.43375604922843, 0.0007826827521446589, 0.10887413173900118, 0.165497666497612, 0.3246359807420287, 0.1777442650495491, 0.289627379042976, 0.3651525669686304, 0.397724809846828, 0.33757240235883934, 0.7638177073701007, 0.07674854503034378, 0.18248488633547222, 0.9990042527467953, 0.9299038660014265, 0.21254005946892018, 0.1168342923437713, 0.6837976244348489, 0.5517220430624636, 0.5241472883116831, 0.2749413134712899, 0.5065344988747071, 0.07306020471377561, 0.3439875770193863, 0.050603248377156795, 1.1952127130596857, 0.5390551178023975, 0.2649840519659694, 0.4767623400645231, 0.32427322305875483, 0.08606486745748221, 0.23845726824429647, 0.18644059194139562, 0.09782599328103725, 1.297218659556973, 0.013471300278747655, 0.05643175766397146, 1.2016783540541818, 0.6077719947768303, 0.16026490225111223, 1.8035426410505595, 0.09749435697747888, 0.047910541893651626, 0.08957041283029543, 0.5070879799325914, 0.11232633584889484, 4.941045823163233, 0.08639114542414461, 0.17102071041066802, 0.0359290033791293, 0.01732682851947409, 0.06850613679177764, 0.21724247425042176, 0.20140607206339567, 1.0466569184048433, 1.7093940122335787, 0.978174725459056, 0.11107739167872088, 0.1588922278931335, 0.8673215918660486, 0.34656171177144124, 0.7278570659607704, 0.4475992240974005, 1.5239574596522907, 0.38163624319781064, 0.7930164438087983, 0.23207351959172273, 0.2572476628600855, 0.1593324949692656, 0.33845725489502243, 1.5476217539804349, 0.021350792786643424, 0.2019709593825727, 0.5802377865435973, 0.005737124255638104, 0.2261906665745821, 0.1030223635071037, 0.10536003355475465, 0.07667795368790387, 0.2665073034643459, 0.1931247755545833, 0.11438439084704477, 2.0306184369742915, 0.05466403714114687, 0.21453843293659336, 0.4645016416360752, 0.6600226733484167, 3.013634011262397, 0.2316752277011096, 0.4113949493837019, 0.6567689744606025, 0.08102287819159004, 0.3040435915951596, 0.08919494458961275, 0.5018642689867514, 0.08603248594256119, 0.4047991918188929, 0.1635097425340275, 0.49967094746531693, 0.13094099416553817, 0.05483473628051527, 0.023847072472899633, 0.3116273790429771, 0.5174962849574181, 0.13158313000192567, 0.569867925883873, 0.11853142503064706, 0.16528099787863404, 2.0841629950100895, 1.0694005766087633, 0.2921872010822053, 0.027355998752954136, 0.08595003610277718, 0.21459327851337706, 0.2514095875488582, 0.35420293881145515, 1.023254288386454, 0.2267655448226975, 0.7849589406377717, 0.24189703974198284, 0.14516159631418946, 0.5560218539914938, 2.150105663952849, 0.12662768993755602, 1.5980463532117488, 0.24416262798514765, 0.3617061219959625, 0.11458886686059255, 0.5429688337645358, 0.23800022588752778, 0.10641387418762882, 0.029243070590555753, 0.04661125202075844, 1.6182037287294166, 0.44436343735844464, 0.5967675181099166, 0.5191438467951643, 0.1240476896684255, 0.42999085889836364, 0.01603945065935175, 0.040311583888717806, 0.22611093820205763, 0.1680805487918393, 0.7117974458709151, 1.5719517559192928, 0.1360894086743194, 0.7940458026391992, 1.2483924391993968, 0.59213940535715, 6.704761477906747, 0.6764109586515139, 2.002449441349646, 0.5997095765235274, 0.49565700055022965, 0.4660639643541016, 0.21282499603817584, 0.5257855883245268, 3.363540470154059, 0.04635232475781281, 0.10987926495843237, 0.28796357419999197, 0.5440786064184118, 0.4431848058991541, 0.9438975725394787, 0.18905988409283925, 0.012880830801391685, 0.1827216535474685, 0.31595290550591404, 1.1693149179248739, 0.16186358299527637, 0.3053751856147615, 0.6076090385657125, 0.014007226261466776, 0.3239107750896544, 0.03733964124785194, 0.17818326963240771, 0.3339258165889021, 0.366299768366285, 0.04034790425270085, 0.1869876716179837, 0.1880088117328116, 0.21069807291194298, 0.22195275675373072, 0.6363654499536264, 0.04523882854780137, 0.13213085619701737, 0.019479323458275744, 0.4012736475763017, 0.15113992807102639, 0.353265694032582, 0.5058816942819657, 0.7759514822806892, 0.5425974232616557, 0.4166218203810148, 0.4966579484860607, 0.49605601301237456, 0.08453113362894626, 0.18259658239023313, 0.932105958264791, 0.113854332895035, 0.22556665186328484, 0.3187947982947277, 0.19823963355865626, 13.027281032468828, 0.3709880911918484, 0.21327182600723926, 0.08548935259425772, 0.4619476779081082, 0.23768974536328402, 0.44559749005272486, 0.4487604627488473, 0.43176592793322754, 0.16258847068906412, 0.2185784139649929, 0.281945821497537, 0.1301585809161745, 0.40909225540843863, 0.41719999600530056, 0.740034263186367, 0.3629196084795119, 0.0968835867474036, 0.33205615563896984, 0.12481302529940663, 0.47369962697848633, 0.6677930269865167, 0.14532482516752054, 0.1669755283468488, 0.9772605089452355, 0.6449451937074251, 0.3096854431027882, 0.14905173328216037, 0.4476966432853242, 0.3403893768719053, 6.608227492301172, 0.02089250478976279, 0.34582100362575474, 0.0461013110870403, 0.07196779381977247, 0.07824366324184195, 0.060910811972800794, 0.11453250109823188, 0.10063371878047755, 0.402036663919187, 0.06893732861585544, 9.853180142202678, 0.4790171477691665, 0.09462766864307337, 0.7475615658351611, 0.22047394210464333, 0.8912547179547339, 0.8504384500750692, 0.3691043535424985, 2.0335047525162597, 0.0035385340400986287, 0.27835935122344146, 0.03354397159373779, 0.9858941379608455, 0.2837808892072111, 1.179169742004527, 0.38386700916416316, 0.4740005276769468, 0.5792479762420877, 0.6953728540298254, 0.3125913713191215, 0.4935084270121335, 3.2202372476679217, 0.21568685948213595, 0.2889444958208669, 0.12159351459489942, 0.3646959083381436, 0.23494202901527128, 0.2049599672110043, 0.7721822697632175, 0.11897387100364476, 0.13622295547869356, 1.1882493649499253, 0.11178271737849776, 0.36451423101861025, 0.7339322894929796, 0.02680577297972153, 0.25214602560851507, 0.5603102810879665, 0.008547090519495981, 0.04303846608161166, 0.5862056763248304, 0.6117515423453836, 0.5232088650937037, 1.924992331596803, 3.2997791111207384, 0.0318425226264889, 0.5332206346545023, 0.8295142243580216, 0.8686706237000514, 0.1146057450432405, 0.09859533848139268, 0.10844098220678422, 0.3410109716648826, 0.036928792589963066, 0.0715181443089783, 0.20243824208297578, 0.9476502736729868, 0.29881554350643036, 0.21819369557265356, 0.3023761223559216, 0.7045163139736164, 0.0974992530541785, 0.1242907534643205, 0.020168448582766896, 0.556085679044767, 0.07343316360389185, 2.2790739274037657, 1.7375920408927295, 0.4377840625422236, 0.4731056312157049, 0.07919554509928695, 0.7810026445943485, 0.511080491384801, 0.6610084895779975, 0.43544079345189246, 0.03902943939411685, 0.2955465969795599, 0.11861560195588083, 0.4989810641903589, 0.19469841406244637, 0.36253120407733697, 0.2639749260872968, 0.5553242262195557, 7.4628175669095524, 1.9206106054055336, 0.3995031655716357, 0.488789478705562, 0.004637823005588793, 0.09192796632101619, 0.27115879935962894, 0.1557086412236579, 0.04051342402208036, 0.33227990795514195, 0.32035741849298116, 0.19388235462669012, 0.34715979424837773, 0.902651701385861, 0.7394344197500855, 0.18307467463913785, 0.1569789898275875, 0.8325523784205267, 1.0199934434997768, 0.15458496379119424, 0.4985424387676076, 0.15181701125725588, 0.9632025708340253, 0.24293279709112614, 0.30226146720513647, 0.04051600170088676, 0.48925794713550186, 0.19640897124844603, 2.757312909268138, 0.1292591635642264, 0.34420531026386936, 0.4304106681385944, 0.24337736312976688, 0.18700498893484419, 0.41949913045452725, 0.1381124900134063, 0.11955508036452356, 0.2518579560042564, 0.5094268715992119, 0.21312575199209505, 0.10677863878876259, 0.19816096054807275, 0.15175529674416222, 0.1243348317904216, 0.13572857914259018, 0.7633651344311865, 0.3150766771618647, 0.08721056669317839, 0.18095697699354574, 0.34582075880205876, 1.5253756666367044, 0.0016812133475383462, 2.1933819753734287, 1.0237057216749914, 0.10694750661347108, 0.5121765188015113, 0.6311792885363161, 0.7427731389870909, 0.7968473200383928, 0.16081578031394894, 0.6711730078457254, 0.7426158474215994, 0.6994597528426527, 0.34752785392371965, 0.11514376482066968, 0.08823052629705064, 2.030197743211174, 0.22821131110103376, 1.297975973105923, 0.23551216398409824, 0.43952393557299185, 0.16509163629956447, 0.5919447394264576, 0.9072976622666804, 0.547396388137289, 0.2998940618399111, 0.30250411655809994, 0.31397092133797866, 0.3908388297145331, 0.25894772129688093, 0.43269259221372636, 0.3657983234378812, 0.07464406581278915, 0.32304528517950626, 0.46598251482601505, 2.619479167267288, 0.01491619172506553, 1.144079779466403, 0.0766596187224895, 2.914489807334652, 0.06271959842297115, 0.005955459925203854, 0.31400486375903114, 0.23400198917066195, 0.07949341182801639, 0.4181185944116912, 0.7260264274352402, 0.291420778137077, 0.11404018777167879, 0.02345878448206351, 0.14659289727974478, 0.24731407492992918, 0.6100538629747989, 0.39115985011745646, 0.14497947855892868, 0.1656739865416288, 0.0023225703120228758, 0.3678838807503313, 0.06748051554164203, 0.04251587802418744, 0.1275564979714563, 0.503147914467934, 0.28639334356696633, 0.29903849080620315, 0.12424057945494127, 2.2067153341157555, 0.08757774262638307, 0.10812768524970107, 0.007001864390301815, 0.35337486152559183, 0.25047739487265286, 1.1347073401747512, 0.36249874078345634, 12.263635839453597, 0.68711035176214, 0.746584216053261, 0.18162549276559314, 0.08614990489348795, 0.17129216369854205, 0.08005316780940497, 0.38107488563971703, 0.31777586151631, 0.1254503606504329, 1.229554489681271, 0.21929553016394898, 1.193842942660889, 2.2222605512402023, 0.12111716588067978, 0.1678298764963042], \"sizemode\": \"area\", \"sizeref\": 0.03256820258117207, \"symbol\": \"circle\"}, \"mode\": \"markers\", \"name\": \"\", \"showlegend\": false, \"type\": \"scatter\", \"x\": [4.678, 4.434, 3.401, 6.1320000000000014, 3.088, 3.257, 6.148, 4.764237721964486, 6.16, 3.190617125944886, 7.035, 5.955, 5.862, 5.419, 4.807, 4.191, 5.396, 4.339, 4.257, 3.07, 5.404, 5.957999999999998, 6.077000000000001, 3.7, 6.657934730443128, 15.967, 8.026, 4.204, 5.353, 6.535, 5.915, 5.329, 5.084, 5.702000000000001, 4.756, 4.095, 6.125, 5.412000000000001, 4.882, 5.647, 5.9270000000000005, 4.962, 4.245, 10.687, 3.8018099095045237, 3.914, 4.251, 5.345, 5.043, 4.92, 3.42, 5.877999999999999, 4.16520861036403, 6.455, 2.98291051268462, 6.129, 6.042000000000002, 5.434, 3.995, 6.167000000000002, 6.089, 5.402, 6.335, 4.839, 4.28, 3.474, 6.081, 5.858, 8.417, 3.728, 3.698, 3.397, 5.086, 3.286, 5.933, 5.892, 5.434, 4.729, 5.3279999999999985, 5.112, 6.1610000000000005, 3.58, 4.649, 3.964, 4.971, 4.99, 5.629, 5.346, 6.037000000000001, 3.5946764791168793, 5.745, 4.828, 4.803, 3.984, 4.1610000000000005, 5.931, 3.542, 6.4929999999999986, 3.324, 4.631, 3.797, 6.39, 4.043, 2.9205619157126423, 4.6560000000000015, 5.103, 6.034, 3.394, 5.447, 6.204, 3.849, 6.007999999999999, 3.585, 6.3679999999999986, 4.044, 7.002999999999999, 5.272, 5.539, 5.462999999999999, 5.89, 10.658, 3.2460000000000004, 5.485, 4.065, 4.027, 6.324, 5.509, 5.166, 5.3260000000000005, 5.39, 5.74, 5.382999999999999, 6.872000000000001, 5.417999999999998, 5.517, 5.728, 3.612, 5.1, 5.092, 5.556, 4.702, 3.959, 5.37, 4.3852983522636375, 5.497000000000001, 5.888, 3.781, 7.69, 4.207, 5.448, 5.476, 3.195, 5.401, 19.055, 4.834, 3.6195656521217456, 4.805, 6.627999999999999, 3.374, 5.425, 5.589, 7.0939999999999985, 3.913, 3.4196922276995063, 3.264, 5.645, 3.4344161492546266, 4.529, 6.407167068281125, 4.547, 4.909, 4.987, 4.976, 3.913, 5.707000000000002, 6.072, 4.195, 3.87, 5.652, 4.915, 3.18, 3.21, 5.71, 6.134, 5.349, 5.565, 6.221066839974003, 5.981, 5.98, 2.701, 5.192, 5.085, 5.456, 4.711, 9.132, 6.209, 4.9830000000000005, 5.155, 3.822, 6.514218293804745, 6.153, 4.803, 6.075, 4.1110000000000015, 5.157, 5.073, 4.649, 6.859, 5.755, 6.39, 4.342, 4.755, 3.896, 5.724, 4.752, 8.36, 4.2189999999999985, 3.739, 3.768, 6.367000000000001, 3.5236124026357105, 5.343, 6.979371856532914, 5.462399136095032, 6.019, 6.1013898610139, 5.104, 3.824, 3.406, 0.8540000000000001, 5.796, 5.83, 3.987, 5.164, 5.5120000000000005, 5.0280000000000005, 4.757, 5.648, 4.021, 5.754, 7.751, 6.2152541694996595, 3.06, 4.378, 5.962999999999999, 3.571, 5.222, 5.465, 6.001, 4.625, 4.402955970440294, 3.713, 6.1789999999999985, 5.028094942910276, 5.397082495975681, 4.917, 10.765999999999998, 3.18, 1.772680917434862, 6.495, 3.8145803961564217, 4.997, 4.652, 3.838, 9.814, 3.729664330210281, 4.886, 5.447, 3.618, 5.716, 5.1160000000000005, 5.151381834179898, 3.435, 5.55, 6.252999999999999, 7.4529999999999985, 4.919, 4.867, 4.589, 3.974, 4.384, 3.65, 6.945, 4.5360000000000005, 6.159, 5.959, 5.4910000000000005, 6.532, 6.499, 5.769, 2.827, 5.452000000000001, 5.22, 4.524, 3.763, 3.4694795780632885, 5.301, 4.69, 5.824, 5.502000000000002, 4.513, 3.1660000000000004, 4.734, 4.548, 6.331, 5.9220000000000015, 5.655, 3.733, 5.408, 6.093, 19.383, 5.349, 5.9270000000000005, 6.017, 4.012, 3.78, 5.023, 5.524, 6.268, 5.357, 5.215, 4.855, 6.586802395928122, 4.9910000000000005, 4.301, 3.085, 6.146, 5.416, 5.037, 5.631, 3.905, 5.074, 6.026, 5.1, 2.773, 5.032, 4.418, 5.316, 5.0310000000000015, 5.102, 5.487231787549744, 5.765, 5.0710000000000015, 3.996, 5.988, 3.556, 6.314, 5.907, 3.896, 6.1960000000000015, 5.957000000000002, 33.813, 4.687, 5.871, 2.3768098552115835, 6.279, 4.834, 6.237, 5.664, 8.565, 3.504, 5.87, 5.212999999999999, 6.1960000000000015, 4.928211486162216, 7.2189999999999985, 5.077, 5.5070000000000014, 6.605, 5.442, 4.942, 4.772, 9.159, 3.757, 5.658, 3.579, 5.294, 6.533, 6.733891642454281, 3.605, 4.346, 6.004, 4.166, 5.061, 4.606, 3.297, 5.155, 4.115, 5.91, 6.463578012837173, 5.008, 4.832, 6.443, 5.189, 9.334, 11.16, 3.92, 5.563, 6.84, 3.42, 6.121, 4.215, 4.7, 5.092, 5.772, 5.1, 5.966, 4.2639999999999985, 5.556, 3.847, 6.17, 3.61, 5.085, 5.608, 3.466, 3.616, 5.96, 6.017, 7.891, 5.459, 5.5139999999999985, 5.954, 4.839, 5.477, 6.646, 5.189, 4.48, 5.037, 3.574, 3.4754786781982703, 4.433, 5.817, 4.589, 5.053, 14.948, 5.0710000000000015, 5.035, 5.358, 3.9113741801311774, 6.3370000000000015, 5.702144678298255, 5.5470000000000015, 5.81, 4.962, 6.265, 5.435, 6.097, 6.9670000000000005, 5.56, 5.809, 5.9910000000000005, 4.1789999999999985, 5.30952214300713, 5.676, 5.69, 4.323, 6.279, 5.997999999999998, 3.325, 5.353, 4.666, 5.1389999999999985, 8.789, 4.884, 4.382, 5.357, 6.212999999999999, 3.774, 4.925, 5.3260000000000005, 3.972, 5.4910000000000005, 6.335, 5.521, 6.348, 6.259, 3.5010000000000003, 4.792, 4.791, 5.1370000000000005, 7.17, 4.811, 2.943, 3.626, 6.902, 3.961, 7.960885476033352, 7.01, 6.101, 4.942, 6.047999999999999, 4.592, 4.747, 5.274, 5.017, 8.155102938676745, 3.504, 3.809, 6.238, 6.7911171547698785, 3.658, 6.093, 4.209, 6.114, 6.444, 3.907, 5.763, 6.848, 3.401, 5.195, 4.97140343158821, 5.778, 5.246, 5.397, 5.376, 2.8280000000000003, 5.843, 5.044, 6.359491240700746, 3.907, 5.894, 6.1789999999999985, 6.2810000000000015, 13.664, 4.93, 4.461, 6.107, 5.756, 6.045, 6.476, 6.716, 5.53, 3.427, 3.42, 4.672, 6.153, 3.319, 4.348608625223728, 6.178, 5.122000000000001, 4.427, 5.688, 5.408, 5.794, 5.472, 3.94, 5.1560000000000015, 6.0920000000000005, 5.0939999999999985, 5.007, 4.681, 5.646, 3.411, 6.527020946857972, 5.174, 4.319, 6.39042486176244, 18.257, 4.931, 4.933, 6.273, 3.647, 5.001, 4.863, 4.723, 6.104, 5.882999999999999, 6.312, 6.01, 6.175, 7.933, 6.105, 5.2639999999999985], \"xaxis\": \"x\", \"y\": [0.14631929118128717, 0.3339746030076878, 0.7769055785042287, 0.24087841221398953, 0.5458698205473498, 0.5731551829459125, 0.543658618388676, 1.1207824004189648, 0.14705478384425152, 1.107582859642334, 1.0992903929073439, 0.0509537909303317, 0.15178208079329192, 0.23328389814543282, 0.5414676631584898, 0.002539362415322266, 0.04095659768645543, 0.09678420978168578, 0.015018531336611574, 0.014528403115759314, 0.12685206301575924, 0.2652873222855412, 0.21015778051187173, 0.03311832508572454, 0.12139037378550555, 5.336784728197982, 1.846259791891577, 1.0877755494440642, 0.02456351698399839, 0.20517206771031216, 0.12642083246432456, 0.0801508214886546, 0.4922437618812179, 0.26762263687023147, 0.2422950289595054, 0.1883529985311858, 0.2393659006526958, 0.1129640840046564, 0.08443936110778338, 0.3184954540669276, 0.2820987328663369, 0.397360076353249, 0.04084785042433747, 1.8176720832344824, 0.10483740160869903, 0.2219705893587336, 0.06289693683875353, 0.022125965730533714, 0.8671647858805933, 0.8522455042112052, 0.09454585454574005, 0.40194631086967103, 0.25225666226810617, 0.26126605656611535, 0.6410450593381372, 0.2086293943326547, 0.10499421229346151, 0.15359986404883852, 0.10495463287699902, 0.3864229001259929, 0.6082012077870695, 0.14419611739521532, 0.3053691964795302, 0.9070848669640146, 0.62856228886052, 0.5395395170206481, 0.17284273919066528, 0.8410692792143895, 2.6185634416631416, 0.11433631337778216, 0.5673657506986296, 0.5567695676505493, 2.24306637046916, 0.7541084984117128, 0.2186265308879518, 0.5248786286852445, 1.0243550290814118, 0.09313624753517047, 0.02122748252049078, 0.11674372284241041, 0.16902501668017234, 0.3674614271219143, 0.012195791394157496, 0.03130858739271147, 0.4671406985945392, 0.15926678047902776, 0.4213073852323239, 0.49753209673527543, 2.1005447932215198, 0.15405555999401344, 0.25768071433224726, 0.377647477268928, 0.7155471085391776, 0.22944924355255125, 0.27721668334232463, 0.0764880682326563, 0.38364779425007445, 0.5166676099788781, 0.05900456389935149, 0.39478160890051495, 0.09345893284717954, 0.055356892931124335, 0.03383873865507514, 0.5731169959485416, 0.2419148721025639, 0.03380035287252081, 0.11213396802093367, 3.43375604922843, 0.0007826827521446589, 0.10887413173900118, 0.165497666497612, 0.3246359807420287, 0.1777442650495491, 0.289627379042976, 0.3651525669686304, 0.397724809846828, 0.33757240235883934, 0.7638177073701007, 0.07674854503034378, 0.18248488633547222, 0.9990042527467953, 0.9299038660014265, 0.21254005946892018, 0.1168342923437713, 0.6837976244348489, 0.5517220430624636, 0.5241472883116831, 0.2749413134712899, 0.5065344988747071, 0.07306020471377561, 0.3439875770193863, 0.050603248377156795, 1.1952127130596857, 0.5390551178023975, 0.2649840519659694, 0.4767623400645231, 0.32427322305875483, 0.08606486745748221, 0.23845726824429647, 0.18644059194139562, 0.09782599328103725, 1.297218659556973, 0.013471300278747655, 0.05643175766397146, 1.2016783540541818, 0.6077719947768303, 0.16026490225111223, 1.8035426410505595, 0.09749435697747888, 0.047910541893651626, 0.08957041283029543, 0.5070879799325914, 0.11232633584889484, 4.941045823163233, 0.08639114542414461, 0.17102071041066802, 0.0359290033791293, 0.01732682851947409, 0.06850613679177764, 0.21724247425042176, 0.20140607206339567, 1.0466569184048433, 1.7093940122335787, 0.978174725459056, 0.11107739167872088, 0.1588922278931335, 0.8673215918660486, 0.34656171177144124, 0.7278570659607704, 0.4475992240974005, 1.5239574596522907, 0.38163624319781064, 0.7930164438087983, 0.23207351959172273, 0.2572476628600855, 0.1593324949692656, 0.33845725489502243, 1.5476217539804349, 0.021350792786643424, 0.2019709593825727, 0.5802377865435973, 0.005737124255638104, 0.2261906665745821, 0.1030223635071037, 0.10536003355475465, 0.07667795368790387, 0.2665073034643459, 0.1931247755545833, 0.11438439084704477, 2.0306184369742915, 0.05466403714114687, 0.21453843293659336, 0.4645016416360752, 0.6600226733484167, 3.013634011262397, 0.2316752277011096, 0.4113949493837019, 0.6567689744606025, 0.08102287819159004, 0.3040435915951596, 0.08919494458961275, 0.5018642689867514, 0.08603248594256119, 0.4047991918188929, 0.1635097425340275, 0.49967094746531693, 0.13094099416553817, 0.05483473628051527, 0.023847072472899633, 0.3116273790429771, 0.5174962849574181, 0.13158313000192567, 0.569867925883873, 0.11853142503064706, 0.16528099787863404, 2.0841629950100895, 1.0694005766087633, 0.2921872010822053, 0.027355998752954136, 0.08595003610277718, 0.21459327851337706, 0.2514095875488582, 0.35420293881145515, 1.023254288386454, 0.2267655448226975, 0.7849589406377717, 0.24189703974198284, 0.14516159631418946, 0.5560218539914938, 2.150105663952849, 0.12662768993755602, 1.5980463532117488, 0.24416262798514765, 0.3617061219959625, 0.11458886686059255, 0.5429688337645358, 0.23800022588752778, 0.10641387418762882, 0.029243070590555753, 0.04661125202075844, 1.6182037287294166, 0.44436343735844464, 0.5967675181099166, 0.5191438467951643, 0.1240476896684255, 0.42999085889836364, 0.01603945065935175, 0.040311583888717806, 0.22611093820205763, 0.1680805487918393, 0.7117974458709151, 1.5719517559192928, 0.1360894086743194, 0.7940458026391992, 1.2483924391993968, 0.59213940535715, 6.704761477906747, 0.6764109586515139, 2.002449441349646, 0.5997095765235274, 0.49565700055022965, 0.4660639643541016, 0.21282499603817584, 0.5257855883245268, 3.363540470154059, 0.04635232475781281, 0.10987926495843237, 0.28796357419999197, 0.5440786064184118, 0.4431848058991541, 0.9438975725394787, 0.18905988409283925, 0.012880830801391685, 0.1827216535474685, 0.31595290550591404, 1.1693149179248739, 0.16186358299527637, 0.3053751856147615, 0.6076090385657125, 0.014007226261466776, 0.3239107750896544, 0.03733964124785194, 0.17818326963240771, 0.3339258165889021, 0.366299768366285, 0.04034790425270085, 0.1869876716179837, 0.1880088117328116, 0.21069807291194298, 0.22195275675373072, 0.6363654499536264, 0.04523882854780137, 0.13213085619701737, 0.019479323458275744, 0.4012736475763017, 0.15113992807102639, 0.353265694032582, 0.5058816942819657, 0.7759514822806892, 0.5425974232616557, 0.4166218203810148, 0.4966579484860607, 0.49605601301237456, 0.08453113362894626, 0.18259658239023313, 0.932105958264791, 0.113854332895035, 0.22556665186328484, 0.3187947982947277, 0.19823963355865626, 13.027281032468828, 0.3709880911918484, 0.21327182600723926, 0.08548935259425772, 0.4619476779081082, 0.23768974536328402, 0.44559749005272486, 0.4487604627488473, 0.43176592793322754, 0.16258847068906412, 0.2185784139649929, 0.281945821497537, 0.1301585809161745, 0.40909225540843863, 0.41719999600530056, 0.740034263186367, 0.3629196084795119, 0.0968835867474036, 0.33205615563896984, 0.12481302529940663, 0.47369962697848633, 0.6677930269865167, 0.14532482516752054, 0.1669755283468488, 0.9772605089452355, 0.6449451937074251, 0.3096854431027882, 0.14905173328216037, 0.4476966432853242, 0.3403893768719053, 6.608227492301172, 0.02089250478976279, 0.34582100362575474, 0.0461013110870403, 0.07196779381977247, 0.07824366324184195, 0.060910811972800794, 0.11453250109823188, 0.10063371878047755, 0.402036663919187, 0.06893732861585544, 9.853180142202678, 0.4790171477691665, 0.09462766864307337, 0.7475615658351611, 0.22047394210464333, 0.8912547179547339, 0.8504384500750692, 0.3691043535424985, 2.0335047525162597, 0.0035385340400986287, 0.27835935122344146, 0.03354397159373779, 0.9858941379608455, 0.2837808892072111, 1.179169742004527, 0.38386700916416316, 0.4740005276769468, 0.5792479762420877, 0.6953728540298254, 0.3125913713191215, 0.4935084270121335, 3.2202372476679217, 0.21568685948213595, 0.2889444958208669, 0.12159351459489942, 0.3646959083381436, 0.23494202901527128, 0.2049599672110043, 0.7721822697632175, 0.11897387100364476, 0.13622295547869356, 1.1882493649499253, 0.11178271737849776, 0.36451423101861025, 0.7339322894929796, 0.02680577297972153, 0.25214602560851507, 0.5603102810879665, 0.008547090519495981, 0.04303846608161166, 0.5862056763248304, 0.6117515423453836, 0.5232088650937037, 1.924992331596803, 3.2997791111207384, 0.0318425226264889, 0.5332206346545023, 0.8295142243580216, 0.8686706237000514, 0.1146057450432405, 0.09859533848139268, 0.10844098220678422, 0.3410109716648826, 0.036928792589963066, 0.0715181443089783, 0.20243824208297578, 0.9476502736729868, 0.29881554350643036, 0.21819369557265356, 0.3023761223559216, 0.7045163139736164, 0.0974992530541785, 0.1242907534643205, 0.020168448582766896, 0.556085679044767, 0.07343316360389185, 2.2790739274037657, 1.7375920408927295, 0.4377840625422236, 0.4731056312157049, 0.07919554509928695, 0.7810026445943485, 0.511080491384801, 0.6610084895779975, 0.43544079345189246, 0.03902943939411685, 0.2955465969795599, 0.11861560195588083, 0.4989810641903589, 0.19469841406244637, 0.36253120407733697, 0.2639749260872968, 0.5553242262195557, 7.4628175669095524, 1.9206106054055336, 0.3995031655716357, 0.488789478705562, 0.004637823005588793, 0.09192796632101619, 0.27115879935962894, 0.1557086412236579, 0.04051342402208036, 0.33227990795514195, 0.32035741849298116, 0.19388235462669012, 0.34715979424837773, 0.902651701385861, 0.7394344197500855, 0.18307467463913785, 0.1569789898275875, 0.8325523784205267, 1.0199934434997768, 0.15458496379119424, 0.4985424387676076, 0.15181701125725588, 0.9632025708340253, 0.24293279709112614, 0.30226146720513647, 0.04051600170088676, 0.48925794713550186, 0.19640897124844603, 2.757312909268138, 0.1292591635642264, 0.34420531026386936, 0.4304106681385944, 0.24337736312976688, 0.18700498893484419, 0.41949913045452725, 0.1381124900134063, 0.11955508036452356, 0.2518579560042564, 0.5094268715992119, 0.21312575199209505, 0.10677863878876259, 0.19816096054807275, 0.15175529674416222, 0.1243348317904216, 0.13572857914259018, 0.7633651344311865, 0.3150766771618647, 0.08721056669317839, 0.18095697699354574, 0.34582075880205876, 1.5253756666367044, 0.0016812133475383462, 2.1933819753734287, 1.0237057216749914, 0.10694750661347108, 0.5121765188015113, 0.6311792885363161, 0.7427731389870909, 0.7968473200383928, 0.16081578031394894, 0.6711730078457254, 0.7426158474215994, 0.6994597528426527, 0.34752785392371965, 0.11514376482066968, 0.08823052629705064, 2.030197743211174, 0.22821131110103376, 1.297975973105923, 0.23551216398409824, 0.43952393557299185, 0.16509163629956447, 0.5919447394264576, 0.9072976622666804, 0.547396388137289, 0.2998940618399111, 0.30250411655809994, 0.31397092133797866, 0.3908388297145331, 0.25894772129688093, 0.43269259221372636, 0.3657983234378812, 0.07464406581278915, 0.32304528517950626, 0.46598251482601505, 2.619479167267288, 0.01491619172506553, 1.144079779466403, 0.0766596187224895, 2.914489807334652, 0.06271959842297115, 0.005955459925203854, 0.31400486375903114, 0.23400198917066195, 0.07949341182801639, 0.4181185944116912, 0.7260264274352402, 0.291420778137077, 0.11404018777167879, 0.02345878448206351, 0.14659289727974478, 0.24731407492992918, 0.6100538629747989, 0.39115985011745646, 0.14497947855892868, 0.1656739865416288, 0.0023225703120228758, 0.3678838807503313, 0.06748051554164203, 0.04251587802418744, 0.1275564979714563, 0.503147914467934, 0.28639334356696633, 0.29903849080620315, 0.12424057945494127, 2.2067153341157555, 0.08757774262638307, 0.10812768524970107, 0.007001864390301815, 0.35337486152559183, 0.25047739487265286, 1.1347073401747512, 0.36249874078345634, 12.263635839453597, 0.68711035176214, 0.746584216053261, 0.18162549276559314, 0.08614990489348795, 0.17129216369854205, 0.08005316780940497, 0.38107488563971703, 0.31777586151631, 0.1254503606504329, 1.229554489681271, 0.21929553016394898, 1.193842942660889, 2.2222605512402023, 0.12111716588067978, 0.1678298764963042], \"yaxis\": \"y\"}],\n",
              "                        {\"coloraxis\": {\"colorbar\": {\"title\": {\"text\": \"loss\"}}, \"colorscale\": [[0.0, \"#0d0887\"], [0.1111111111111111, \"#46039f\"], [0.2222222222222222, \"#7201a8\"], [0.3333333333333333, \"#9c179e\"], [0.4444444444444444, \"#bd3786\"], [0.5555555555555556, \"#d8576b\"], [0.6666666666666666, \"#ed7953\"], [0.7777777777777778, \"#fb9f3a\"], [0.8888888888888888, \"#fdca26\"], [1.0, \"#f0f921\"]]}, \"height\": 600, \"legend\": {\"itemsizing\": \"constant\", \"tracegroupgap\": 0}, \"margin\": {\"t\": 60}, \"template\": {\"data\": {\"bar\": [{\"error_x\": {\"color\": \"#2a3f5f\"}, \"error_y\": {\"color\": \"#2a3f5f\"}, \"marker\": {\"line\": {\"color\": \"#E5ECF6\", \"width\": 0.5}}, \"type\": \"bar\"}], \"barpolar\": [{\"marker\": {\"line\": {\"color\": \"#E5ECF6\", \"width\": 0.5}}, \"type\": \"barpolar\"}], \"carpet\": [{\"aaxis\": {\"endlinecolor\": \"#2a3f5f\", \"gridcolor\": \"white\", \"linecolor\": \"white\", \"minorgridcolor\": \"white\", \"startlinecolor\": \"#2a3f5f\"}, \"baxis\": {\"endlinecolor\": \"#2a3f5f\", \"gridcolor\": \"white\", \"linecolor\": \"white\", \"minorgridcolor\": \"white\", \"startlinecolor\": \"#2a3f5f\"}, \"type\": \"carpet\"}], \"choropleth\": [{\"colorbar\": {\"outlinewidth\": 0, \"ticks\": \"\"}, \"type\": \"choropleth\"}], \"contour\": [{\"colorbar\": {\"outlinewidth\": 0, \"ticks\": \"\"}, \"colorscale\": [[0.0, \"#0d0887\"], [0.1111111111111111, \"#46039f\"], [0.2222222222222222, \"#7201a8\"], [0.3333333333333333, \"#9c179e\"], [0.4444444444444444, \"#bd3786\"], [0.5555555555555556, \"#d8576b\"], [0.6666666666666666, \"#ed7953\"], [0.7777777777777778, \"#fb9f3a\"], [0.8888888888888888, \"#fdca26\"], [1.0, \"#f0f921\"]], \"type\": \"contour\"}], \"contourcarpet\": [{\"colorbar\": {\"outlinewidth\": 0, \"ticks\": \"\"}, \"type\": \"contourcarpet\"}], \"heatmap\": [{\"colorbar\": {\"outlinewidth\": 0, \"ticks\": \"\"}, \"colorscale\": [[0.0, \"#0d0887\"], [0.1111111111111111, \"#46039f\"], [0.2222222222222222, \"#7201a8\"], [0.3333333333333333, \"#9c179e\"], [0.4444444444444444, \"#bd3786\"], [0.5555555555555556, \"#d8576b\"], [0.6666666666666666, \"#ed7953\"], [0.7777777777777778, \"#fb9f3a\"], [0.8888888888888888, \"#fdca26\"], [1.0, \"#f0f921\"]], \"type\": \"heatmap\"}], \"heatmapgl\": [{\"colorbar\": {\"outlinewidth\": 0, \"ticks\": \"\"}, \"colorscale\": [[0.0, \"#0d0887\"], [0.1111111111111111, \"#46039f\"], [0.2222222222222222, \"#7201a8\"], [0.3333333333333333, \"#9c179e\"], [0.4444444444444444, \"#bd3786\"], [0.5555555555555556, \"#d8576b\"], [0.6666666666666666, \"#ed7953\"], [0.7777777777777778, \"#fb9f3a\"], [0.8888888888888888, \"#fdca26\"], [1.0, \"#f0f921\"]], \"type\": \"heatmapgl\"}], \"histogram\": [{\"marker\": {\"colorbar\": {\"outlinewidth\": 0, \"ticks\": \"\"}}, \"type\": \"histogram\"}], \"histogram2d\": [{\"colorbar\": {\"outlinewidth\": 0, \"ticks\": \"\"}, \"colorscale\": [[0.0, \"#0d0887\"], [0.1111111111111111, \"#46039f\"], [0.2222222222222222, \"#7201a8\"], [0.3333333333333333, \"#9c179e\"], [0.4444444444444444, \"#bd3786\"], [0.5555555555555556, \"#d8576b\"], [0.6666666666666666, \"#ed7953\"], [0.7777777777777778, \"#fb9f3a\"], [0.8888888888888888, \"#fdca26\"], [1.0, \"#f0f921\"]], \"type\": \"histogram2d\"}], \"histogram2dcontour\": [{\"colorbar\": {\"outlinewidth\": 0, \"ticks\": \"\"}, \"colorscale\": [[0.0, \"#0d0887\"], [0.1111111111111111, \"#46039f\"], [0.2222222222222222, \"#7201a8\"], [0.3333333333333333, \"#9c179e\"], [0.4444444444444444, \"#bd3786\"], [0.5555555555555556, \"#d8576b\"], [0.6666666666666666, \"#ed7953\"], [0.7777777777777778, \"#fb9f3a\"], [0.8888888888888888, \"#fdca26\"], [1.0, \"#f0f921\"]], \"type\": \"histogram2dcontour\"}], \"mesh3d\": [{\"colorbar\": {\"outlinewidth\": 0, \"ticks\": \"\"}, \"type\": \"mesh3d\"}], \"parcoords\": [{\"line\": {\"colorbar\": {\"outlinewidth\": 0, \"ticks\": \"\"}}, \"type\": \"parcoords\"}], \"scatter\": [{\"marker\": {\"colorbar\": {\"outlinewidth\": 0, \"ticks\": \"\"}}, \"type\": \"scatter\"}], \"scatter3d\": [{\"line\": {\"colorbar\": {\"outlinewidth\": 0, \"ticks\": \"\"}}, \"marker\": {\"colorbar\": {\"outlinewidth\": 0, \"ticks\": \"\"}}, \"type\": \"scatter3d\"}], \"scattercarpet\": [{\"marker\": {\"colorbar\": {\"outlinewidth\": 0, \"ticks\": \"\"}}, \"type\": \"scattercarpet\"}], \"scattergeo\": [{\"marker\": {\"colorbar\": {\"outlinewidth\": 0, \"ticks\": \"\"}}, \"type\": \"scattergeo\"}], \"scattergl\": [{\"marker\": {\"colorbar\": {\"outlinewidth\": 0, \"ticks\": \"\"}}, \"type\": \"scattergl\"}], \"scattermapbox\": [{\"marker\": {\"colorbar\": {\"outlinewidth\": 0, \"ticks\": \"\"}}, \"type\": \"scattermapbox\"}], \"scatterpolar\": [{\"marker\": {\"colorbar\": {\"outlinewidth\": 0, \"ticks\": \"\"}}, \"type\": \"scatterpolar\"}], \"scatterpolargl\": [{\"marker\": {\"colorbar\": {\"outlinewidth\": 0, \"ticks\": \"\"}}, \"type\": \"scatterpolargl\"}], \"scatterternary\": [{\"marker\": {\"colorbar\": {\"outlinewidth\": 0, \"ticks\": \"\"}}, \"type\": \"scatterternary\"}], \"surface\": [{\"colorbar\": {\"outlinewidth\": 0, \"ticks\": \"\"}, \"colorscale\": [[0.0, \"#0d0887\"], [0.1111111111111111, \"#46039f\"], [0.2222222222222222, \"#7201a8\"], [0.3333333333333333, \"#9c179e\"], [0.4444444444444444, \"#bd3786\"], [0.5555555555555556, \"#d8576b\"], [0.6666666666666666, \"#ed7953\"], [0.7777777777777778, \"#fb9f3a\"], [0.8888888888888888, \"#fdca26\"], [1.0, \"#f0f921\"]], \"type\": \"surface\"}], \"table\": [{\"cells\": {\"fill\": {\"color\": \"#EBF0F8\"}, \"line\": {\"color\": \"white\"}}, \"header\": {\"fill\": {\"color\": \"#C8D4E3\"}, \"line\": {\"color\": \"white\"}}, \"type\": \"table\"}]}, \"layout\": {\"annotationdefaults\": {\"arrowcolor\": \"#2a3f5f\", \"arrowhead\": 0, \"arrowwidth\": 1}, \"colorscale\": {\"diverging\": [[0, \"#8e0152\"], [0.1, \"#c51b7d\"], [0.2, \"#de77ae\"], [0.3, \"#f1b6da\"], [0.4, \"#fde0ef\"], [0.5, \"#f7f7f7\"], [0.6, \"#e6f5d0\"], [0.7, \"#b8e186\"], [0.8, \"#7fbc41\"], [0.9, \"#4d9221\"], [1, \"#276419\"]], \"sequential\": [[0.0, \"#0d0887\"], [0.1111111111111111, \"#46039f\"], [0.2222222222222222, \"#7201a8\"], [0.3333333333333333, \"#9c179e\"], [0.4444444444444444, \"#bd3786\"], [0.5555555555555556, \"#d8576b\"], [0.6666666666666666, \"#ed7953\"], [0.7777777777777778, \"#fb9f3a\"], [0.8888888888888888, \"#fdca26\"], [1.0, \"#f0f921\"]], \"sequentialminus\": [[0.0, \"#0d0887\"], [0.1111111111111111, \"#46039f\"], [0.2222222222222222, \"#7201a8\"], [0.3333333333333333, \"#9c179e\"], [0.4444444444444444, \"#bd3786\"], [0.5555555555555556, \"#d8576b\"], [0.6666666666666666, \"#ed7953\"], [0.7777777777777778, \"#fb9f3a\"], [0.8888888888888888, \"#fdca26\"], [1.0, \"#f0f921\"]]}, \"colorway\": [\"#636efa\", \"#EF553B\", \"#00cc96\", \"#ab63fa\", \"#FFA15A\", \"#19d3f3\", \"#FF6692\", \"#B6E880\", \"#FF97FF\", \"#FECB52\"], \"font\": {\"color\": \"#2a3f5f\"}, \"geo\": {\"bgcolor\": \"white\", \"lakecolor\": \"white\", \"landcolor\": \"#E5ECF6\", \"showlakes\": true, \"showland\": true, \"subunitcolor\": \"white\"}, \"hoverlabel\": {\"align\": \"left\"}, \"hovermode\": \"closest\", \"mapbox\": {\"style\": \"light\"}, \"paper_bgcolor\": \"white\", \"plot_bgcolor\": \"#E5ECF6\", \"polar\": {\"angularaxis\": {\"gridcolor\": \"white\", \"linecolor\": \"white\", \"ticks\": \"\"}, \"bgcolor\": \"#E5ECF6\", \"radialaxis\": {\"gridcolor\": \"white\", \"linecolor\": \"white\", \"ticks\": \"\"}}, \"scene\": {\"xaxis\": {\"backgroundcolor\": \"#E5ECF6\", \"gridcolor\": \"white\", \"gridwidth\": 2, \"linecolor\": \"white\", \"showbackground\": true, \"ticks\": \"\", \"zerolinecolor\": \"white\"}, \"yaxis\": {\"backgroundcolor\": \"#E5ECF6\", \"gridcolor\": \"white\", \"gridwidth\": 2, \"linecolor\": \"white\", \"showbackground\": true, \"ticks\": \"\", \"zerolinecolor\": \"white\"}, \"zaxis\": {\"backgroundcolor\": \"#E5ECF6\", \"gridcolor\": \"white\", \"gridwidth\": 2, \"linecolor\": \"white\", \"showbackground\": true, \"ticks\": \"\", \"zerolinecolor\": \"white\"}}, \"shapedefaults\": {\"line\": {\"color\": \"#2a3f5f\"}}, \"ternary\": {\"aaxis\": {\"gridcolor\": \"white\", \"linecolor\": \"white\", \"ticks\": \"\"}, \"baxis\": {\"gridcolor\": \"white\", \"linecolor\": \"white\", \"ticks\": \"\"}, \"bgcolor\": \"#E5ECF6\", \"caxis\": {\"gridcolor\": \"white\", \"linecolor\": \"white\", \"ticks\": \"\"}}, \"title\": {\"x\": 0.05}, \"xaxis\": {\"automargin\": true, \"gridcolor\": \"white\", \"linecolor\": \"white\", \"ticks\": \"\", \"zerolinecolor\": \"white\", \"zerolinewidth\": 2}, \"yaxis\": {\"automargin\": true, \"gridcolor\": \"white\", \"linecolor\": \"white\", \"ticks\": \"\", \"zerolinecolor\": \"white\", \"zerolinewidth\": 2}}}, \"xaxis\": {\"anchor\": \"y\", \"domain\": [0.0, 0.98], \"title\": {\"text\": \"C8A\"}}, \"yaxis\": {\"anchor\": \"x\", \"domain\": [0.0, 1.0], \"title\": {\"text\": \"loss\"}}},\n",
              "                        {\"responsive\": true}\n",
              "                    ).then(function(){\n",
              "                            \n",
              "var gd = document.getElementById('87ce4d38-2a07-4b3a-b3f7-b3a76b4f2f9c');\n",
              "var x = new MutationObserver(function (mutations, observer) {{\n",
              "        var display = window.getComputedStyle(gd).display;\n",
              "        if (!display || display === 'none') {{\n",
              "            console.log([gd, 'removed!']);\n",
              "            Plotly.purge(gd);\n",
              "            observer.disconnect();\n",
              "        }}\n",
              "}});\n",
              "\n",
              "// Listen for the removal of the full notebook cells\n",
              "var notebookContainer = gd.closest('#notebook-container');\n",
              "if (notebookContainer) {{\n",
              "    x.observe(notebookContainer, {childList: true});\n",
              "}}\n",
              "\n",
              "// Listen for the clearing of the current output cell\n",
              "var outputEl = gd.closest('.output');\n",
              "if (outputEl) {{\n",
              "    x.observe(outputEl, {childList: true});\n",
              "}}\n",
              "\n",
              "                        })\n",
              "                };\n",
              "                \n",
              "            </script>\n",
              "        </div>\n",
              "</body>\n",
              "</html>"
            ]
          },
          "metadata": {
            "tags": []
          }
        }
      ]
    },
    {
      "cell_type": "code",
      "metadata": {
        "id": "7HuU1WJUr9c9",
        "colab_type": "code",
        "colab": {
          "base_uri": "https://localhost:8080/",
          "height": 35
        },
        "outputId": "dbd6eb3b-cd85-4f91-a4ff-3f1690ecbb77"
      },
      "source": [
        "high_loss_index = plot_data['loss'].sort_values(ascending=False).index\n",
        "high_loss_index[:10]"
      ],
      "execution_count": 12,
      "outputs": [
        {
          "output_type": "execute_result",
          "data": {
            "text/plain": [
              "Int64Index([1235, 1269, 1871, 612, 411, 2647, 1885, 2349, 2131, 1752], dtype='int64')"
            ]
          },
          "metadata": {
            "tags": []
          },
          "execution_count": 12
        }
      ]
    },
    {
      "cell_type": "code",
      "metadata": {
        "id": "7BPE1ZNUmsKK",
        "colab_type": "code",
        "colab": {}
      },
      "source": [
        "higlight_index = high_loss_index[0]\n",
        "pred_like_index = list(abs(plot_data[y_name+'_pred'] - plot_data.loc[higlight_index,y_name+'_pred']).sort_values().index[1:4])\n",
        "test_like_index = list(abs(plot_data[y_name] - plot_data.loc[higlight_index,y_name]).sort_values().index[1:4])"
      ],
      "execution_count": 0,
      "outputs": []
    },
    {
      "cell_type": "code",
      "metadata": {
        "id": "JhA5iszmi0xk",
        "colab_type": "code",
        "colab": {
          "base_uri": "https://localhost:8080/",
          "height": 266
        },
        "outputId": "5c89dd35-f38b-4951-d689-1204a12ba930"
      },
      "source": [
        "round(plot_data.loc[[higlight_index]+test_like_index+pred_like_index],2)"
      ],
      "execution_count": 14,
      "outputs": [
        {
          "output_type": "execute_result",
          "data": {
            "text/html": [
              "<div>\n",
              "<style scoped>\n",
              "    .dataframe tbody tr th:only-of-type {\n",
              "        vertical-align: middle;\n",
              "    }\n",
              "\n",
              "    .dataframe tbody tr th {\n",
              "        vertical-align: top;\n",
              "    }\n",
              "\n",
              "    .dataframe thead th {\n",
              "        text-align: right;\n",
              "    }\n",
              "</style>\n",
              "<table border=\"1\" class=\"dataframe\">\n",
              "  <thead>\n",
              "    <tr style=\"text-align: right;\">\n",
              "      <th></th>\n",
              "      <th>T10</th>\n",
              "      <th>T50</th>\n",
              "      <th>T90</th>\n",
              "      <th>N+A</th>\n",
              "      <th>C8A</th>\n",
              "      <th>C8A_pred</th>\n",
              "      <th>loss</th>\n",
              "      <th>index</th>\n",
              "    </tr>\n",
              "  </thead>\n",
              "  <tbody>\n",
              "    <tr>\n",
              "      <th>1235</th>\n",
              "      <td>92.3</td>\n",
              "      <td>117.6</td>\n",
              "      <td>146.3</td>\n",
              "      <td>53.28</td>\n",
              "      <td>19.38</td>\n",
              "      <td>6.36</td>\n",
              "      <td>13.03</td>\n",
              "      <td>1235</td>\n",
              "    </tr>\n",
              "    <tr>\n",
              "      <th>2349</th>\n",
              "      <td>109.8</td>\n",
              "      <td>126.4</td>\n",
              "      <td>146.1</td>\n",
              "      <td>44.72</td>\n",
              "      <td>19.06</td>\n",
              "      <td>14.11</td>\n",
              "      <td>4.94</td>\n",
              "      <td>2349</td>\n",
              "    </tr>\n",
              "    <tr>\n",
              "      <th>1269</th>\n",
              "      <td>92.6</td>\n",
              "      <td>116.6</td>\n",
              "      <td>146.4</td>\n",
              "      <td>52.71</td>\n",
              "      <td>18.26</td>\n",
              "      <td>5.99</td>\n",
              "      <td>12.26</td>\n",
              "      <td>1269</td>\n",
              "    </tr>\n",
              "    <tr>\n",
              "      <th>1885</th>\n",
              "      <td>104.5</td>\n",
              "      <td>122.8</td>\n",
              "      <td>147.5</td>\n",
              "      <td>46.97</td>\n",
              "      <td>15.97</td>\n",
              "      <td>10.63</td>\n",
              "      <td>5.34</td>\n",
              "      <td>1885</td>\n",
              "    </tr>\n",
              "    <tr>\n",
              "      <th>1352</th>\n",
              "      <td>103.6</td>\n",
              "      <td>120.7</td>\n",
              "      <td>145.9</td>\n",
              "      <td>37.12</td>\n",
              "      <td>5.76</td>\n",
              "      <td>6.35</td>\n",
              "      <td>0.59</td>\n",
              "      <td>1352</td>\n",
              "    </tr>\n",
              "    <tr>\n",
              "      <th>2630</th>\n",
              "      <td>96.5</td>\n",
              "      <td>116.8</td>\n",
              "      <td>142.8</td>\n",
              "      <td>52.73</td>\n",
              "      <td>6.53</td>\n",
              "      <td>6.34</td>\n",
              "      <td>0.19</td>\n",
              "      <td>2630</td>\n",
              "    </tr>\n",
              "    <tr>\n",
              "      <th>272</th>\n",
              "      <td>101.4</td>\n",
              "      <td>120.0</td>\n",
              "      <td>144.3</td>\n",
              "      <td>40.76</td>\n",
              "      <td>6.31</td>\n",
              "      <td>6.37</td>\n",
              "      <td>0.06</td>\n",
              "      <td>272</td>\n",
              "    </tr>\n",
              "  </tbody>\n",
              "</table>\n",
              "</div>"
            ],
            "text/plain": [
              "        T10    T50    T90    N+A    C8A  C8A_pred   loss  index\n",
              "1235   92.3  117.6  146.3  53.28  19.38      6.36  13.03   1235\n",
              "2349  109.8  126.4  146.1  44.72  19.06     14.11   4.94   2349\n",
              "1269   92.6  116.6  146.4  52.71  18.26      5.99  12.26   1269\n",
              "1885  104.5  122.8  147.5  46.97  15.97     10.63   5.34   1885\n",
              "1352  103.6  120.7  145.9  37.12   5.76      6.35   0.59   1352\n",
              "2630   96.5  116.8  142.8  52.73   6.53      6.34   0.19   2630\n",
              "272   101.4  120.0  144.3  40.76   6.31      6.37   0.06    272"
            ]
          },
          "metadata": {
            "tags": []
          },
          "execution_count": 14
        }
      ]
    },
    {
      "cell_type": "code",
      "metadata": {
        "id": "XArMMZvI2W25",
        "colab_type": "code",
        "colab": {
          "base_uri": "https://localhost:8080/",
          "height": 297
        },
        "outputId": "29aafb87-3170-4e86-fdf7-1fb38ffdb18c"
      },
      "source": [
        "sns.distplot(full[y_name])"
      ],
      "execution_count": 15,
      "outputs": [
        {
          "output_type": "execute_result",
          "data": {
            "text/plain": [
              "<matplotlib.axes._subplots.AxesSubplot at 0x7f61989b36a0>"
            ]
          },
          "metadata": {
            "tags": []
          },
          "execution_count": 15
        },
        {
          "output_type": "display_data",
          "data": {
            "image/png": "[encoded data removed]",
            "text/plain": [
              "<Figure size 432x288 with 1 Axes>"
            ]
          },
          "metadata": {
            "tags": []
          }
        }
      ]
    },
    {
      "cell_type": "code",
      "metadata": {
        "id": "IZIDFTTt07nB",
        "colab_type": "code",
        "colab": {}
      },
      "source": [
        ""
      ],
      "execution_count": 0,
      "outputs": []
    }
  ]
}