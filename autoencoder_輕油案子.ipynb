{
  "nbformat": 4,
  "nbformat_minor": 0,
  "metadata": {
    "colab": {
      "name": "autoencoder_輕油案子.ipynb",
      "provenance": [],
      "collapsed_sections": [],
      "include_colab_link": true
    },
    "kernelspec": {
      "name": "python3",
      "display_name": "Python 3"
    }
  },
  "cells": [
    {
      "cell_type": "markdown",
      "metadata": {
        "id": "view-in-github",
        "colab_type": "text"
      },
      "source": [
        "<a href=\"https://colab.research.google.com/github/skywalker0803r/works/blob/master/autoencoder_%E8%BC%95%E6%B2%B9%E6%A1%88%E5%AD%90.ipynb\" target=\"_parent\"><img src=\"https://colab.research.google.com/assets/colab-badge.svg\" alt=\"Open In Colab\"/></a>"
      ]
    },
    {
      "cell_type": "code",
      "metadata": {
        "id": "skNDhP3qAZSk",
        "colab_type": "code",
        "outputId": "13a74546-9554-43b3-d270-7d0783dc9a9a",
        "colab": {
          "base_uri": "https://localhost:8080/",
          "height": 35
        }
      },
      "source": [
        "from google.colab import drive\n",
        "drive.mount('/content/drive')"
      ],
      "execution_count": 1,
      "outputs": [
        {
          "output_type": "stream",
          "text": [
            "Drive already mounted at /content/drive; to attempt to forcibly remount, call drive.mount(\"/content/drive\", force_remount=True).\n"
          ],
          "name": "stdout"
        }
      ]
    },
    {
      "cell_type": "code",
      "metadata": {
        "id": "uKUGnkLLB8TH",
        "colab_type": "code",
        "outputId": "71b11889-085c-404d-9aaa-832bb87b342f",
        "colab": {
          "base_uri": "https://localhost:8080/",
          "height": 100
        }
      },
      "source": [
        "from keras.layers import Input, Dense, Conv1D, MaxPooling1D, UpSampling1D, BatchNormalization, LSTM, RepeatVector,AveragePooling1D,Flatten,Reshape\n",
        "from keras.models import Model\n",
        "from keras.models import model_from_json\n",
        "from keras import regularizers\n",
        "import datetime\n",
        "import time\n",
        "import requests as req\n",
        "import json\n",
        "import pandas as pd\n",
        "import pickle\n",
        "import os\n",
        "import numpy as np\n",
        "from sklearn.preprocessing import MinMaxScaler\n",
        "from tqdm import tqdm\n",
        "from mpl_toolkits.mplot3d import Axes3D\n",
        "import matplotlib.pyplot as plt\n",
        "%pylab inline"
      ],
      "execution_count": 2,
      "outputs": [
        {
          "output_type": "stream",
          "text": [
            "Using TensorFlow backend.\n"
          ],
          "name": "stderr"
        },
        {
          "output_type": "display_data",
          "data": {
            "text/html": [
              "<p style=\"color: red;\">\n",
              "The default version of TensorFlow in Colab will soon switch to TensorFlow 2.x.<br>\n",
              "We recommend you <a href=\"https://www.tensorflow.org/guide/migrate\" target=\"_blank\">upgrade</a> now \n",
              "or ensure your notebook will continue to use TensorFlow 1.x via the <code>%tensorflow_version 1.x</code> magic:\n",
              "<a href=\"https://colab.research.google.com/notebooks/tensorflow_version.ipynb\" target=\"_blank\">more info</a>.</p>\n"
            ],
            "text/plain": [
              "<IPython.core.display.HTML object>"
            ]
          },
          "metadata": {
            "tags": []
          }
        },
        {
          "output_type": "stream",
          "text": [
            "Populating the interactive namespace from numpy and matplotlib\n"
          ],
          "name": "stdout"
        }
      ]
    },
    {
      "cell_type": "markdown",
      "metadata": {
        "id": "bBiHLw6mlE71",
        "colab_type": "text"
      },
      "source": [
        "# metric"
      ]
    },
    {
      "cell_type": "code",
      "metadata": {
        "id": "rjugz3pZiqy2",
        "colab_type": "code",
        "colab": {}
      },
      "source": [
        "from sklearn.metrics import r2_score,mean_squared_error\n",
        "from math import sqrt\n",
        "def metric(y_test,y_pred):\n",
        "  res = pd.DataFrame(index=['score'])\n",
        "  res['R2'] = r2_score(y_test,y_pred)\n",
        "  res['RMSE'] = sqrt(mean_squared_error(y_test,y_pred))\n",
        "  res['RMSE%'] = res['RMSE'] / np.mean(y_test)\n",
        "  return res"
      ],
      "execution_count": 0,
      "outputs": []
    },
    {
      "cell_type": "markdown",
      "metadata": {
        "id": "auvz9C-IlGZ7",
        "colab_type": "text"
      },
      "source": [
        "# plot example"
      ]
    },
    {
      "cell_type": "code",
      "metadata": {
        "id": "inriWOqjiuub",
        "colab_type": "code",
        "colab": {}
      },
      "source": [
        "def plot_examples(stock_input, stock_decoded):\n",
        "  n = 5;plt.figure(figsize=(20, 5))\n",
        "  for i, idx in enumerate(list(np.arange(0, len(test), len(test)/n))):\n",
        "    #真實\n",
        "    ax = plt.subplot(2, n, i + 1)\n",
        "    if i == 0:\n",
        "      ax.set_ylabel(\"Input\", fontweight=600)\n",
        "    plt.imshow(np.array(stock_input.loc[idx]).reshape(1,stock_input.shape[1]))\n",
        "    plt.title(int(idx))   \n",
        "    #預測    \n",
        "    ax = plt.subplot(2, n, i + 1 + n)\n",
        "    if i == 0:\n",
        "      ax.set_ylabel(\"Output\", fontweight=600)\n",
        "    plt.imshow(np.array(stock_decoded.loc[idx]).reshape(1,stock_decoded.shape[1]))\n",
        "    plt.title(int(idx))    "
      ],
      "execution_count": 0,
      "outputs": []
    },
    {
      "cell_type": "markdown",
      "metadata": {
        "id": "SnZoutSoIwea",
        "colab_type": "text"
      },
      "source": [
        "# Load train"
      ]
    },
    {
      "cell_type": "code",
      "metadata": {
        "id": "X1kTwcA5AaGe",
        "colab_type": "code",
        "outputId": "4a2922b8-b4d5-460b-997b-057b9a7f6c24",
        "colab": {
          "base_uri": "https://localhost:8080/",
          "height": 194
        }
      },
      "source": [
        "import pandas as pd\n",
        "train = pd.read_csv('/content/drive/My Drive/台塑輕油案子/data/train_4521.csv',index_col=0)\n",
        "train.head()"
      ],
      "execution_count": 5,
      "outputs": [
        {
          "output_type": "execute_result",
          "data": {
            "text/html": [
              "<div>\n",
              "<style scoped>\n",
              "    .dataframe tbody tr th:only-of-type {\n",
              "        vertical-align: middle;\n",
              "    }\n",
              "\n",
              "    .dataframe tbody tr th {\n",
              "        vertical-align: top;\n",
              "    }\n",
              "\n",
              "    .dataframe thead th {\n",
              "        text-align: right;\n",
              "    }\n",
              "</style>\n",
              "<table border=\"1\" class=\"dataframe\">\n",
              "  <thead>\n",
              "    <tr style=\"text-align: right;\">\n",
              "      <th></th>\n",
              "      <th>T10</th>\n",
              "      <th>T50</th>\n",
              "      <th>T90</th>\n",
              "      <th>N+A</th>\n",
              "      <th>C5NP</th>\n",
              "      <th>C5IP</th>\n",
              "      <th>C5N</th>\n",
              "      <th>C6NP</th>\n",
              "      <th>C6IP</th>\n",
              "      <th>C6N</th>\n",
              "      <th>C6A</th>\n",
              "      <th>C7NP</th>\n",
              "      <th>C7IP</th>\n",
              "      <th>C7N</th>\n",
              "      <th>C7A</th>\n",
              "      <th>C8NP</th>\n",
              "      <th>C8IP</th>\n",
              "      <th>C8N</th>\n",
              "      <th>C8A</th>\n",
              "      <th>C9NP</th>\n",
              "      <th>C9IP</th>\n",
              "      <th>C9N</th>\n",
              "      <th>C9A</th>\n",
              "      <th>C10NP</th>\n",
              "      <th>C10IP</th>\n",
              "      <th>C10N</th>\n",
              "      <th>C10A</th>\n",
              "    </tr>\n",
              "  </thead>\n",
              "  <tbody>\n",
              "    <tr>\n",
              "      <th>0</th>\n",
              "      <td>100.5</td>\n",
              "      <td>119.2</td>\n",
              "      <td>146.5</td>\n",
              "      <td>31.978</td>\n",
              "      <td>0.272</td>\n",
              "      <td>0.132</td>\n",
              "      <td>0.059</td>\n",
              "      <td>5.293</td>\n",
              "      <td>2.570</td>\n",
              "      <td>2.819</td>\n",
              "      <td>0.494</td>\n",
              "      <td>10.395</td>\n",
              "      <td>8.070</td>\n",
              "      <td>6.411</td>\n",
              "      <td>2.917</td>\n",
              "      <td>9.138</td>\n",
              "      <td>9.649</td>\n",
              "      <td>4.810</td>\n",
              "      <td>5.373</td>\n",
              "      <td>6.405</td>\n",
              "      <td>9.759</td>\n",
              "      <td>4.590</td>\n",
              "      <td>3.661</td>\n",
              "      <td>0.875</td>\n",
              "      <td>5.257</td>\n",
              "      <td>0.525</td>\n",
              "      <td>0.319</td>\n",
              "    </tr>\n",
              "    <tr>\n",
              "      <th>1</th>\n",
              "      <td>99.6</td>\n",
              "      <td>117.9</td>\n",
              "      <td>145.5</td>\n",
              "      <td>31.568</td>\n",
              "      <td>0.297</td>\n",
              "      <td>0.151</td>\n",
              "      <td>0.062</td>\n",
              "      <td>5.089</td>\n",
              "      <td>2.531</td>\n",
              "      <td>2.804</td>\n",
              "      <td>0.499</td>\n",
              "      <td>10.074</td>\n",
              "      <td>7.958</td>\n",
              "      <td>6.395</td>\n",
              "      <td>2.894</td>\n",
              "      <td>8.970</td>\n",
              "      <td>9.548</td>\n",
              "      <td>4.753</td>\n",
              "      <td>5.443</td>\n",
              "      <td>6.324</td>\n",
              "      <td>9.899</td>\n",
              "      <td>4.301</td>\n",
              "      <td>2.995</td>\n",
              "      <td>0.881</td>\n",
              "      <td>5.591</td>\n",
              "      <td>1.119</td>\n",
              "      <td>0.303</td>\n",
              "    </tr>\n",
              "    <tr>\n",
              "      <th>2</th>\n",
              "      <td>100.0</td>\n",
              "      <td>118.8</td>\n",
              "      <td>145.6</td>\n",
              "      <td>31.344</td>\n",
              "      <td>0.262</td>\n",
              "      <td>0.126</td>\n",
              "      <td>0.061</td>\n",
              "      <td>5.107</td>\n",
              "      <td>2.571</td>\n",
              "      <td>2.771</td>\n",
              "      <td>0.492</td>\n",
              "      <td>10.069</td>\n",
              "      <td>7.913</td>\n",
              "      <td>6.378</td>\n",
              "      <td>2.890</td>\n",
              "      <td>9.006</td>\n",
              "      <td>9.591</td>\n",
              "      <td>4.778</td>\n",
              "      <td>5.468</td>\n",
              "      <td>6.360</td>\n",
              "      <td>9.983</td>\n",
              "      <td>4.274</td>\n",
              "      <td>2.979</td>\n",
              "      <td>0.865</td>\n",
              "      <td>5.641</td>\n",
              "      <td>0.964</td>\n",
              "      <td>0.289</td>\n",
              "    </tr>\n",
              "    <tr>\n",
              "      <th>3</th>\n",
              "      <td>100.4</td>\n",
              "      <td>118.6</td>\n",
              "      <td>142.9</td>\n",
              "      <td>31.453</td>\n",
              "      <td>0.224</td>\n",
              "      <td>0.105</td>\n",
              "      <td>0.060</td>\n",
              "      <td>4.894</td>\n",
              "      <td>2.497</td>\n",
              "      <td>2.650</td>\n",
              "      <td>0.469</td>\n",
              "      <td>10.015</td>\n",
              "      <td>7.685</td>\n",
              "      <td>6.376</td>\n",
              "      <td>2.866</td>\n",
              "      <td>9.133</td>\n",
              "      <td>9.708</td>\n",
              "      <td>4.889</td>\n",
              "      <td>5.510</td>\n",
              "      <td>6.444</td>\n",
              "      <td>10.182</td>\n",
              "      <td>4.420</td>\n",
              "      <td>2.964</td>\n",
              "      <td>0.830</td>\n",
              "      <td>5.637</td>\n",
              "      <td>0.968</td>\n",
              "      <td>0.281</td>\n",
              "    </tr>\n",
              "    <tr>\n",
              "      <th>4</th>\n",
              "      <td>100.4</td>\n",
              "      <td>118.1</td>\n",
              "      <td>142.2</td>\n",
              "      <td>32.190</td>\n",
              "      <td>0.243</td>\n",
              "      <td>0.117</td>\n",
              "      <td>0.061</td>\n",
              "      <td>4.946</td>\n",
              "      <td>2.503</td>\n",
              "      <td>2.695</td>\n",
              "      <td>0.477</td>\n",
              "      <td>10.053</td>\n",
              "      <td>7.765</td>\n",
              "      <td>6.394</td>\n",
              "      <td>2.877</td>\n",
              "      <td>9.101</td>\n",
              "      <td>9.676</td>\n",
              "      <td>4.855</td>\n",
              "      <td>5.500</td>\n",
              "      <td>6.416</td>\n",
              "      <td>10.115</td>\n",
              "      <td>4.347</td>\n",
              "      <td>3.725</td>\n",
              "      <td>0.835</td>\n",
              "      <td>4.823</td>\n",
              "      <td>0.969</td>\n",
              "      <td>0.290</td>\n",
              "    </tr>\n",
              "  </tbody>\n",
              "</table>\n",
              "</div>"
            ],
            "text/plain": [
              "     T10    T50    T90     N+A   C5NP  ...    C9A  C10NP  C10IP   C10N   C10A\n",
              "0  100.5  119.2  146.5  31.978  0.272  ...  3.661  0.875  5.257  0.525  0.319\n",
              "1   99.6  117.9  145.5  31.568  0.297  ...  2.995  0.881  5.591  1.119  0.303\n",
              "2  100.0  118.8  145.6  31.344  0.262  ...  2.979  0.865  5.641  0.964  0.289\n",
              "3  100.4  118.6  142.9  31.453  0.224  ...  2.964  0.830  5.637  0.968  0.281\n",
              "4  100.4  118.1  142.2  32.190  0.243  ...  3.725  0.835  4.823  0.969  0.290\n",
              "\n",
              "[5 rows x 27 columns]"
            ]
          },
          "metadata": {
            "tags": []
          },
          "execution_count": 5
        }
      ]
    },
    {
      "cell_type": "markdown",
      "metadata": {
        "id": "Uerjdh1PIzAD",
        "colab_type": "text"
      },
      "source": [
        "# Load test"
      ]
    },
    {
      "cell_type": "code",
      "metadata": {
        "id": "4iMghP4rAzkx",
        "colab_type": "code",
        "outputId": "ecf516bd-2c51-4fbe-c7fe-d44dc9927240",
        "colab": {
          "base_uri": "https://localhost:8080/",
          "height": 194
        }
      },
      "source": [
        "test = pd.read_csv('/content/drive/My Drive/台塑輕油案子/data/test_170.csv',index_col=0)\n",
        "test.head()"
      ],
      "execution_count": 6,
      "outputs": [
        {
          "output_type": "execute_result",
          "data": {
            "text/html": [
              "<div>\n",
              "<style scoped>\n",
              "    .dataframe tbody tr th:only-of-type {\n",
              "        vertical-align: middle;\n",
              "    }\n",
              "\n",
              "    .dataframe tbody tr th {\n",
              "        vertical-align: top;\n",
              "    }\n",
              "\n",
              "    .dataframe thead th {\n",
              "        text-align: right;\n",
              "    }\n",
              "</style>\n",
              "<table border=\"1\" class=\"dataframe\">\n",
              "  <thead>\n",
              "    <tr style=\"text-align: right;\">\n",
              "      <th></th>\n",
              "      <th>T10</th>\n",
              "      <th>T50</th>\n",
              "      <th>T90</th>\n",
              "      <th>N+A</th>\n",
              "      <th>C5NP</th>\n",
              "      <th>C5IP</th>\n",
              "      <th>C5N</th>\n",
              "      <th>C6NP</th>\n",
              "      <th>C6IP</th>\n",
              "      <th>C6N</th>\n",
              "      <th>C6A</th>\n",
              "      <th>C7NP</th>\n",
              "      <th>C7IP</th>\n",
              "      <th>C7N</th>\n",
              "      <th>C7A</th>\n",
              "      <th>C8NP</th>\n",
              "      <th>C8IP</th>\n",
              "      <th>C8N</th>\n",
              "      <th>C8A</th>\n",
              "      <th>C9NP</th>\n",
              "      <th>C9IP</th>\n",
              "      <th>C9N</th>\n",
              "      <th>C9A</th>\n",
              "      <th>C10NP</th>\n",
              "      <th>C10IP</th>\n",
              "      <th>C10N</th>\n",
              "      <th>C10A</th>\n",
              "    </tr>\n",
              "  </thead>\n",
              "  <tbody>\n",
              "    <tr>\n",
              "      <th>0</th>\n",
              "      <td>98.6</td>\n",
              "      <td>119.2</td>\n",
              "      <td>146.1</td>\n",
              "      <td>40.133</td>\n",
              "      <td>1.142</td>\n",
              "      <td>0.616</td>\n",
              "      <td>0.217</td>\n",
              "      <td>3.745</td>\n",
              "      <td>2.577</td>\n",
              "      <td>4.028</td>\n",
              "      <td>0.557</td>\n",
              "      <td>7.669</td>\n",
              "      <td>5.9900</td>\n",
              "      <td>10.206</td>\n",
              "      <td>3.075</td>\n",
              "      <td>7.920</td>\n",
              "      <td>8.036</td>\n",
              "      <td>7.039</td>\n",
              "      <td>5.438</td>\n",
              "      <td>5.263</td>\n",
              "      <td>9.537</td>\n",
              "      <td>4.877</td>\n",
              "      <td>3.481</td>\n",
              "      <td>1.088</td>\n",
              "      <td>5.652</td>\n",
              "      <td>0.618</td>\n",
              "      <td>0.597</td>\n",
              "    </tr>\n",
              "    <tr>\n",
              "      <th>1</th>\n",
              "      <td>105.4</td>\n",
              "      <td>122.2</td>\n",
              "      <td>148.2</td>\n",
              "      <td>32.175</td>\n",
              "      <td>0.122</td>\n",
              "      <td>0.078</td>\n",
              "      <td>0.029</td>\n",
              "      <td>3.955</td>\n",
              "      <td>1.563</td>\n",
              "      <td>2.407</td>\n",
              "      <td>0.400</td>\n",
              "      <td>10.016</td>\n",
              "      <td>7.2633</td>\n",
              "      <td>6.573</td>\n",
              "      <td>2.809</td>\n",
              "      <td>9.544</td>\n",
              "      <td>9.815</td>\n",
              "      <td>5.135</td>\n",
              "      <td>5.482</td>\n",
              "      <td>6.793</td>\n",
              "      <td>10.850</td>\n",
              "      <td>4.308</td>\n",
              "      <td>3.963</td>\n",
              "      <td>1.069</td>\n",
              "      <td>6.025</td>\n",
              "      <td>0.585</td>\n",
              "      <td>0.484</td>\n",
              "    </tr>\n",
              "    <tr>\n",
              "      <th>2</th>\n",
              "      <td>105.8</td>\n",
              "      <td>122.7</td>\n",
              "      <td>149.2</td>\n",
              "      <td>31.428</td>\n",
              "      <td>0.098</td>\n",
              "      <td>0.064</td>\n",
              "      <td>0.020</td>\n",
              "      <td>3.920</td>\n",
              "      <td>1.447</td>\n",
              "      <td>2.296</td>\n",
              "      <td>0.396</td>\n",
              "      <td>10.236</td>\n",
              "      <td>7.3480</td>\n",
              "      <td>6.259</td>\n",
              "      <td>2.797</td>\n",
              "      <td>9.655</td>\n",
              "      <td>9.986</td>\n",
              "      <td>4.942</td>\n",
              "      <td>5.453</td>\n",
              "      <td>6.947</td>\n",
              "      <td>10.996</td>\n",
              "      <td>4.269</td>\n",
              "      <td>3.997</td>\n",
              "      <td>1.034</td>\n",
              "      <td>6.107</td>\n",
              "      <td>0.543</td>\n",
              "      <td>0.456</td>\n",
              "    </tr>\n",
              "    <tr>\n",
              "      <th>3</th>\n",
              "      <td>105.4</td>\n",
              "      <td>122.4</td>\n",
              "      <td>147.6</td>\n",
              "      <td>31.390</td>\n",
              "      <td>0.122</td>\n",
              "      <td>0.085</td>\n",
              "      <td>0.021</td>\n",
              "      <td>3.900</td>\n",
              "      <td>1.437</td>\n",
              "      <td>2.274</td>\n",
              "      <td>0.397</td>\n",
              "      <td>10.259</td>\n",
              "      <td>7.3560</td>\n",
              "      <td>6.234</td>\n",
              "      <td>2.820</td>\n",
              "      <td>9.670</td>\n",
              "      <td>10.146</td>\n",
              "      <td>4.928</td>\n",
              "      <td>5.476</td>\n",
              "      <td>6.953</td>\n",
              "      <td>11.026</td>\n",
              "      <td>4.264</td>\n",
              "      <td>3.982</td>\n",
              "      <td>1.013</td>\n",
              "      <td>6.054</td>\n",
              "      <td>0.545</td>\n",
              "      <td>0.449</td>\n",
              "    </tr>\n",
              "    <tr>\n",
              "      <th>4</th>\n",
              "      <td>105.4</td>\n",
              "      <td>122.6</td>\n",
              "      <td>148.2</td>\n",
              "      <td>32.418</td>\n",
              "      <td>0.072</td>\n",
              "      <td>0.049</td>\n",
              "      <td>0.015</td>\n",
              "      <td>3.873</td>\n",
              "      <td>1.369</td>\n",
              "      <td>2.206</td>\n",
              "      <td>0.489</td>\n",
              "      <td>10.213</td>\n",
              "      <td>7.3190</td>\n",
              "      <td>6.009</td>\n",
              "      <td>2.968</td>\n",
              "      <td>9.564</td>\n",
              "      <td>10.052</td>\n",
              "      <td>4.769</td>\n",
              "      <td>6.584</td>\n",
              "      <td>6.866</td>\n",
              "      <td>10.892</td>\n",
              "      <td>4.169</td>\n",
              "      <td>4.227</td>\n",
              "      <td>0.930</td>\n",
              "      <td>5.828</td>\n",
              "      <td>0.519</td>\n",
              "      <td>0.463</td>\n",
              "    </tr>\n",
              "  </tbody>\n",
              "</table>\n",
              "</div>"
            ],
            "text/plain": [
              "     T10    T50    T90     N+A   C5NP  ...    C9A  C10NP  C10IP   C10N   C10A\n",
              "0   98.6  119.2  146.1  40.133  1.142  ...  3.481  1.088  5.652  0.618  0.597\n",
              "1  105.4  122.2  148.2  32.175  0.122  ...  3.963  1.069  6.025  0.585  0.484\n",
              "2  105.8  122.7  149.2  31.428  0.098  ...  3.997  1.034  6.107  0.543  0.456\n",
              "3  105.4  122.4  147.6  31.390  0.122  ...  3.982  1.013  6.054  0.545  0.449\n",
              "4  105.4  122.6  148.2  32.418  0.072  ...  4.227  0.930  5.828  0.519  0.463\n",
              "\n",
              "[5 rows x 27 columns]"
            ]
          },
          "metadata": {
            "tags": []
          },
          "execution_count": 6
        }
      ]
    },
    {
      "cell_type": "markdown",
      "metadata": {
        "id": "EkuxHb38BOog",
        "colab_type": "text"
      },
      "source": [
        "# features y_columns"
      ]
    },
    {
      "cell_type": "code",
      "metadata": {
        "id": "yFALkvtDBOw6",
        "colab_type": "code",
        "outputId": "2fe22aad-5805-41c4-a15a-447884a48306",
        "colab": {
          "base_uri": "https://localhost:8080/",
          "height": 52
        }
      },
      "source": [
        "features = train.columns.tolist()[:4]\n",
        "y_columns = train.columns.tolist()[4:]\n",
        "print(features)\n",
        "print(y_columns)"
      ],
      "execution_count": 7,
      "outputs": [
        {
          "output_type": "stream",
          "text": [
            "['T10', 'T50', 'T90', 'N+A']\n",
            "['C5NP', 'C5IP', 'C5N', 'C6NP', 'C6IP', 'C6N', 'C6A', 'C7NP', 'C7IP', 'C7N', 'C7A', 'C8NP', 'C8IP', 'C8N', 'C8A', 'C9NP', 'C9IP', 'C9N', 'C9A', 'C10NP', 'C10IP', 'C10N', 'C10A']\n"
          ],
          "name": "stdout"
        }
      ]
    },
    {
      "cell_type": "markdown",
      "metadata": {
        "id": "5hChcAzbBDQR",
        "colab_type": "text"
      },
      "source": [
        "# standscaler X , Normalize y"
      ]
    },
    {
      "cell_type": "code",
      "metadata": {
        "id": "lLlA5b89BDXI",
        "colab_type": "code",
        "colab": {}
      },
      "source": [
        "from sklearn.preprocessing import StandardScaler\n",
        "\n",
        "transer_x = StandardScaler()\n",
        "\n",
        "# StandScaler X\n",
        "train[features] = transer_x.fit_transform(train[features])\n",
        "test[features] = transer_x.transform(test[features])\n",
        "\n",
        "train[y_columns] = train[y_columns]/100\n",
        "test[y_columns] = test[y_columns]/100"
      ],
      "execution_count": 0,
      "outputs": []
    },
    {
      "cell_type": "code",
      "metadata": {
        "id": "RP4YcZ-cB6ad",
        "colab_type": "code",
        "outputId": "51198d33-1384-443d-f056-7fa1a3202b29",
        "colab": {
          "base_uri": "https://localhost:8080/",
          "height": 214
        }
      },
      "source": [
        "train.head()"
      ],
      "execution_count": 9,
      "outputs": [
        {
          "output_type": "execute_result",
          "data": {
            "text/html": [
              "<div>\n",
              "<style scoped>\n",
              "    .dataframe tbody tr th:only-of-type {\n",
              "        vertical-align: middle;\n",
              "    }\n",
              "\n",
              "    .dataframe tbody tr th {\n",
              "        vertical-align: top;\n",
              "    }\n",
              "\n",
              "    .dataframe thead th {\n",
              "        text-align: right;\n",
              "    }\n",
              "</style>\n",
              "<table border=\"1\" class=\"dataframe\">\n",
              "  <thead>\n",
              "    <tr style=\"text-align: right;\">\n",
              "      <th></th>\n",
              "      <th>T10</th>\n",
              "      <th>T50</th>\n",
              "      <th>T90</th>\n",
              "      <th>N+A</th>\n",
              "      <th>C5NP</th>\n",
              "      <th>C5IP</th>\n",
              "      <th>C5N</th>\n",
              "      <th>C6NP</th>\n",
              "      <th>C6IP</th>\n",
              "      <th>C6N</th>\n",
              "      <th>C6A</th>\n",
              "      <th>C7NP</th>\n",
              "      <th>C7IP</th>\n",
              "      <th>C7N</th>\n",
              "      <th>C7A</th>\n",
              "      <th>C8NP</th>\n",
              "      <th>C8IP</th>\n",
              "      <th>C8N</th>\n",
              "      <th>C8A</th>\n",
              "      <th>C9NP</th>\n",
              "      <th>C9IP</th>\n",
              "      <th>C9N</th>\n",
              "      <th>C9A</th>\n",
              "      <th>C10NP</th>\n",
              "      <th>C10IP</th>\n",
              "      <th>C10N</th>\n",
              "      <th>C10A</th>\n",
              "    </tr>\n",
              "  </thead>\n",
              "  <tbody>\n",
              "    <tr>\n",
              "      <th>0</th>\n",
              "      <td>0.435162</td>\n",
              "      <td>0.540969</td>\n",
              "      <td>0.471798</td>\n",
              "      <td>-1.028321</td>\n",
              "      <td>0.00272</td>\n",
              "      <td>0.00132</td>\n",
              "      <td>0.00059</td>\n",
              "      <td>0.05293</td>\n",
              "      <td>0.02570</td>\n",
              "      <td>0.02819</td>\n",
              "      <td>0.00494</td>\n",
              "      <td>0.10395</td>\n",
              "      <td>0.08070</td>\n",
              "      <td>0.06411</td>\n",
              "      <td>0.02917</td>\n",
              "      <td>0.09138</td>\n",
              "      <td>0.09649</td>\n",
              "      <td>0.04810</td>\n",
              "      <td>0.05373</td>\n",
              "      <td>0.06405</td>\n",
              "      <td>0.09759</td>\n",
              "      <td>0.04590</td>\n",
              "      <td>0.03661</td>\n",
              "      <td>0.00875</td>\n",
              "      <td>0.05257</td>\n",
              "      <td>0.00525</td>\n",
              "      <td>0.00319</td>\n",
              "    </tr>\n",
              "    <tr>\n",
              "      <th>1</th>\n",
              "      <td>0.353320</td>\n",
              "      <td>0.340075</td>\n",
              "      <td>0.237602</td>\n",
              "      <td>-1.077598</td>\n",
              "      <td>0.00297</td>\n",
              "      <td>0.00151</td>\n",
              "      <td>0.00062</td>\n",
              "      <td>0.05089</td>\n",
              "      <td>0.02531</td>\n",
              "      <td>0.02804</td>\n",
              "      <td>0.00499</td>\n",
              "      <td>0.10074</td>\n",
              "      <td>0.07958</td>\n",
              "      <td>0.06395</td>\n",
              "      <td>0.02894</td>\n",
              "      <td>0.08970</td>\n",
              "      <td>0.09548</td>\n",
              "      <td>0.04753</td>\n",
              "      <td>0.05443</td>\n",
              "      <td>0.06324</td>\n",
              "      <td>0.09899</td>\n",
              "      <td>0.04301</td>\n",
              "      <td>0.02995</td>\n",
              "      <td>0.00881</td>\n",
              "      <td>0.05591</td>\n",
              "      <td>0.01119</td>\n",
              "      <td>0.00303</td>\n",
              "    </tr>\n",
              "    <tr>\n",
              "      <th>2</th>\n",
              "      <td>0.389694</td>\n",
              "      <td>0.479156</td>\n",
              "      <td>0.261022</td>\n",
              "      <td>-1.104520</td>\n",
              "      <td>0.00262</td>\n",
              "      <td>0.00126</td>\n",
              "      <td>0.00061</td>\n",
              "      <td>0.05107</td>\n",
              "      <td>0.02571</td>\n",
              "      <td>0.02771</td>\n",
              "      <td>0.00492</td>\n",
              "      <td>0.10069</td>\n",
              "      <td>0.07913</td>\n",
              "      <td>0.06378</td>\n",
              "      <td>0.02890</td>\n",
              "      <td>0.09006</td>\n",
              "      <td>0.09591</td>\n",
              "      <td>0.04778</td>\n",
              "      <td>0.05468</td>\n",
              "      <td>0.06360</td>\n",
              "      <td>0.09983</td>\n",
              "      <td>0.04274</td>\n",
              "      <td>0.02979</td>\n",
              "      <td>0.00865</td>\n",
              "      <td>0.05641</td>\n",
              "      <td>0.00964</td>\n",
              "      <td>0.00289</td>\n",
              "    </tr>\n",
              "    <tr>\n",
              "      <th>3</th>\n",
              "      <td>0.426068</td>\n",
              "      <td>0.448249</td>\n",
              "      <td>-0.371307</td>\n",
              "      <td>-1.091419</td>\n",
              "      <td>0.00224</td>\n",
              "      <td>0.00105</td>\n",
              "      <td>0.00060</td>\n",
              "      <td>0.04894</td>\n",
              "      <td>0.02497</td>\n",
              "      <td>0.02650</td>\n",
              "      <td>0.00469</td>\n",
              "      <td>0.10015</td>\n",
              "      <td>0.07685</td>\n",
              "      <td>0.06376</td>\n",
              "      <td>0.02866</td>\n",
              "      <td>0.09133</td>\n",
              "      <td>0.09708</td>\n",
              "      <td>0.04889</td>\n",
              "      <td>0.05510</td>\n",
              "      <td>0.06444</td>\n",
              "      <td>0.10182</td>\n",
              "      <td>0.04420</td>\n",
              "      <td>0.02964</td>\n",
              "      <td>0.00830</td>\n",
              "      <td>0.05637</td>\n",
              "      <td>0.00968</td>\n",
              "      <td>0.00281</td>\n",
              "    </tr>\n",
              "    <tr>\n",
              "      <th>4</th>\n",
              "      <td>0.426068</td>\n",
              "      <td>0.370982</td>\n",
              "      <td>-0.535244</td>\n",
              "      <td>-1.002841</td>\n",
              "      <td>0.00243</td>\n",
              "      <td>0.00117</td>\n",
              "      <td>0.00061</td>\n",
              "      <td>0.04946</td>\n",
              "      <td>0.02503</td>\n",
              "      <td>0.02695</td>\n",
              "      <td>0.00477</td>\n",
              "      <td>0.10053</td>\n",
              "      <td>0.07765</td>\n",
              "      <td>0.06394</td>\n",
              "      <td>0.02877</td>\n",
              "      <td>0.09101</td>\n",
              "      <td>0.09676</td>\n",
              "      <td>0.04855</td>\n",
              "      <td>0.05500</td>\n",
              "      <td>0.06416</td>\n",
              "      <td>0.10115</td>\n",
              "      <td>0.04347</td>\n",
              "      <td>0.03725</td>\n",
              "      <td>0.00835</td>\n",
              "      <td>0.04823</td>\n",
              "      <td>0.00969</td>\n",
              "      <td>0.00290</td>\n",
              "    </tr>\n",
              "  </tbody>\n",
              "</table>\n",
              "</div>"
            ],
            "text/plain": [
              "        T10       T50       T90       N+A  ...    C10NP    C10IP     C10N     C10A\n",
              "0  0.435162  0.540969  0.471798 -1.028321  ...  0.00875  0.05257  0.00525  0.00319\n",
              "1  0.353320  0.340075  0.237602 -1.077598  ...  0.00881  0.05591  0.01119  0.00303\n",
              "2  0.389694  0.479156  0.261022 -1.104520  ...  0.00865  0.05641  0.00964  0.00289\n",
              "3  0.426068  0.448249 -0.371307 -1.091419  ...  0.00830  0.05637  0.00968  0.00281\n",
              "4  0.426068  0.370982 -0.535244 -1.002841  ...  0.00835  0.04823  0.00969  0.00290\n",
              "\n",
              "[5 rows x 27 columns]"
            ]
          },
          "metadata": {
            "tags": []
          },
          "execution_count": 9
        }
      ]
    },
    {
      "cell_type": "code",
      "metadata": {
        "id": "5Gr0tooRCBBG",
        "colab_type": "code",
        "outputId": "44c25993-c228-48c8-d6d7-40dcaf369146",
        "colab": {
          "base_uri": "https://localhost:8080/",
          "height": 214
        }
      },
      "source": [
        "test.head()"
      ],
      "execution_count": 10,
      "outputs": [
        {
          "output_type": "execute_result",
          "data": {
            "text/html": [
              "<div>\n",
              "<style scoped>\n",
              "    .dataframe tbody tr th:only-of-type {\n",
              "        vertical-align: middle;\n",
              "    }\n",
              "\n",
              "    .dataframe tbody tr th {\n",
              "        vertical-align: top;\n",
              "    }\n",
              "\n",
              "    .dataframe thead th {\n",
              "        text-align: right;\n",
              "    }\n",
              "</style>\n",
              "<table border=\"1\" class=\"dataframe\">\n",
              "  <thead>\n",
              "    <tr style=\"text-align: right;\">\n",
              "      <th></th>\n",
              "      <th>T10</th>\n",
              "      <th>T50</th>\n",
              "      <th>T90</th>\n",
              "      <th>N+A</th>\n",
              "      <th>C5NP</th>\n",
              "      <th>C5IP</th>\n",
              "      <th>C5N</th>\n",
              "      <th>C6NP</th>\n",
              "      <th>C6IP</th>\n",
              "      <th>C6N</th>\n",
              "      <th>C6A</th>\n",
              "      <th>C7NP</th>\n",
              "      <th>C7IP</th>\n",
              "      <th>C7N</th>\n",
              "      <th>C7A</th>\n",
              "      <th>C8NP</th>\n",
              "      <th>C8IP</th>\n",
              "      <th>C8N</th>\n",
              "      <th>C8A</th>\n",
              "      <th>C9NP</th>\n",
              "      <th>C9IP</th>\n",
              "      <th>C9N</th>\n",
              "      <th>C9A</th>\n",
              "      <th>C10NP</th>\n",
              "      <th>C10IP</th>\n",
              "      <th>C10N</th>\n",
              "      <th>C10A</th>\n",
              "    </tr>\n",
              "  </thead>\n",
              "  <tbody>\n",
              "    <tr>\n",
              "      <th>0</th>\n",
              "      <td>0.262385</td>\n",
              "      <td>0.540969</td>\n",
              "      <td>0.378120</td>\n",
              "      <td>-0.048196</td>\n",
              "      <td>0.01142</td>\n",
              "      <td>0.00616</td>\n",
              "      <td>0.00217</td>\n",
              "      <td>0.03745</td>\n",
              "      <td>0.02577</td>\n",
              "      <td>0.04028</td>\n",
              "      <td>0.00557</td>\n",
              "      <td>0.07669</td>\n",
              "      <td>0.059900</td>\n",
              "      <td>0.10206</td>\n",
              "      <td>0.03075</td>\n",
              "      <td>0.07920</td>\n",
              "      <td>0.08036</td>\n",
              "      <td>0.07039</td>\n",
              "      <td>0.05438</td>\n",
              "      <td>0.05263</td>\n",
              "      <td>0.09537</td>\n",
              "      <td>0.04877</td>\n",
              "      <td>0.03481</td>\n",
              "      <td>0.01088</td>\n",
              "      <td>0.05652</td>\n",
              "      <td>0.00618</td>\n",
              "      <td>0.00597</td>\n",
              "    </tr>\n",
              "    <tr>\n",
              "      <th>1</th>\n",
              "      <td>0.880744</td>\n",
              "      <td>1.004573</td>\n",
              "      <td>0.869931</td>\n",
              "      <td>-1.004644</td>\n",
              "      <td>0.00122</td>\n",
              "      <td>0.00078</td>\n",
              "      <td>0.00029</td>\n",
              "      <td>0.03955</td>\n",
              "      <td>0.01563</td>\n",
              "      <td>0.02407</td>\n",
              "      <td>0.00400</td>\n",
              "      <td>0.10016</td>\n",
              "      <td>0.072633</td>\n",
              "      <td>0.06573</td>\n",
              "      <td>0.02809</td>\n",
              "      <td>0.09544</td>\n",
              "      <td>0.09815</td>\n",
              "      <td>0.05135</td>\n",
              "      <td>0.05482</td>\n",
              "      <td>0.06793</td>\n",
              "      <td>0.10850</td>\n",
              "      <td>0.04308</td>\n",
              "      <td>0.03963</td>\n",
              "      <td>0.01069</td>\n",
              "      <td>0.06025</td>\n",
              "      <td>0.00585</td>\n",
              "      <td>0.00484</td>\n",
              "    </tr>\n",
              "    <tr>\n",
              "      <th>2</th>\n",
              "      <td>0.917118</td>\n",
              "      <td>1.081840</td>\n",
              "      <td>1.104127</td>\n",
              "      <td>-1.094424</td>\n",
              "      <td>0.00098</td>\n",
              "      <td>0.00064</td>\n",
              "      <td>0.00020</td>\n",
              "      <td>0.03920</td>\n",
              "      <td>0.01447</td>\n",
              "      <td>0.02296</td>\n",
              "      <td>0.00396</td>\n",
              "      <td>0.10236</td>\n",
              "      <td>0.073480</td>\n",
              "      <td>0.06259</td>\n",
              "      <td>0.02797</td>\n",
              "      <td>0.09655</td>\n",
              "      <td>0.09986</td>\n",
              "      <td>0.04942</td>\n",
              "      <td>0.05453</td>\n",
              "      <td>0.06947</td>\n",
              "      <td>0.10996</td>\n",
              "      <td>0.04269</td>\n",
              "      <td>0.03997</td>\n",
              "      <td>0.01034</td>\n",
              "      <td>0.06107</td>\n",
              "      <td>0.00543</td>\n",
              "      <td>0.00456</td>\n",
              "    </tr>\n",
              "    <tr>\n",
              "      <th>3</th>\n",
              "      <td>0.880744</td>\n",
              "      <td>1.035480</td>\n",
              "      <td>0.729414</td>\n",
              "      <td>-1.098991</td>\n",
              "      <td>0.00122</td>\n",
              "      <td>0.00085</td>\n",
              "      <td>0.00021</td>\n",
              "      <td>0.03900</td>\n",
              "      <td>0.01437</td>\n",
              "      <td>0.02274</td>\n",
              "      <td>0.00397</td>\n",
              "      <td>0.10259</td>\n",
              "      <td>0.073560</td>\n",
              "      <td>0.06234</td>\n",
              "      <td>0.02820</td>\n",
              "      <td>0.09670</td>\n",
              "      <td>0.10146</td>\n",
              "      <td>0.04928</td>\n",
              "      <td>0.05476</td>\n",
              "      <td>0.06953</td>\n",
              "      <td>0.11026</td>\n",
              "      <td>0.04264</td>\n",
              "      <td>0.03982</td>\n",
              "      <td>0.01013</td>\n",
              "      <td>0.06054</td>\n",
              "      <td>0.00545</td>\n",
              "      <td>0.00449</td>\n",
              "    </tr>\n",
              "    <tr>\n",
              "      <th>4</th>\n",
              "      <td>0.880744</td>\n",
              "      <td>1.066386</td>\n",
              "      <td>0.869931</td>\n",
              "      <td>-0.975439</td>\n",
              "      <td>0.00072</td>\n",
              "      <td>0.00049</td>\n",
              "      <td>0.00015</td>\n",
              "      <td>0.03873</td>\n",
              "      <td>0.01369</td>\n",
              "      <td>0.02206</td>\n",
              "      <td>0.00489</td>\n",
              "      <td>0.10213</td>\n",
              "      <td>0.073190</td>\n",
              "      <td>0.06009</td>\n",
              "      <td>0.02968</td>\n",
              "      <td>0.09564</td>\n",
              "      <td>0.10052</td>\n",
              "      <td>0.04769</td>\n",
              "      <td>0.06584</td>\n",
              "      <td>0.06866</td>\n",
              "      <td>0.10892</td>\n",
              "      <td>0.04169</td>\n",
              "      <td>0.04227</td>\n",
              "      <td>0.00930</td>\n",
              "      <td>0.05828</td>\n",
              "      <td>0.00519</td>\n",
              "      <td>0.00463</td>\n",
              "    </tr>\n",
              "  </tbody>\n",
              "</table>\n",
              "</div>"
            ],
            "text/plain": [
              "        T10       T50       T90       N+A  ...    C10NP    C10IP     C10N     C10A\n",
              "0  0.262385  0.540969  0.378120 -0.048196  ...  0.01088  0.05652  0.00618  0.00597\n",
              "1  0.880744  1.004573  0.869931 -1.004644  ...  0.01069  0.06025  0.00585  0.00484\n",
              "2  0.917118  1.081840  1.104127 -1.094424  ...  0.01034  0.06107  0.00543  0.00456\n",
              "3  0.880744  1.035480  0.729414 -1.098991  ...  0.01013  0.06054  0.00545  0.00449\n",
              "4  0.880744  1.066386  0.869931 -0.975439  ...  0.00930  0.05828  0.00519  0.00463\n",
              "\n",
              "[5 rows x 27 columns]"
            ]
          },
          "metadata": {
            "tags": []
          },
          "execution_count": 10
        }
      ]
    },
    {
      "cell_type": "markdown",
      "metadata": {
        "id": "7rTJp3Nj-wiX",
        "colab_type": "text"
      },
      "source": [
        "# Reshape y"
      ]
    },
    {
      "cell_type": "markdown",
      "metadata": {
        "id": "CBfkVvXo-xzf",
        "colab_type": "text"
      },
      "source": [
        "(圖片數量,長,寬,1張)"
      ]
    },
    {
      "cell_type": "code",
      "metadata": {
        "id": "UXuAnMLx-1fB",
        "colab_type": "code",
        "outputId": "6b6c291c-e05b-4f5e-da64-11a61714abec",
        "colab": {
          "base_uri": "https://localhost:8080/",
          "height": 88
        }
      },
      "source": [
        "print(train[y_columns].shape)\n",
        "print(test[y_columns].shape)\n",
        "train_y_img = np.array(train[y_columns]).reshape(-1,1,len(y_columns),1)\n",
        "test_y_img = np.array(test[y_columns]).reshape(-1,1,len(y_columns),1)\n",
        "print(train_y_img.shape)\n",
        "print(test_y_img.shape)"
      ],
      "execution_count": 11,
      "outputs": [
        {
          "output_type": "stream",
          "text": [
            "(4521, 23)\n",
            "(170, 23)\n",
            "(4521, 1, 23, 1)\n",
            "(170, 1, 23, 1)\n"
          ],
          "name": "stdout"
        }
      ]
    },
    {
      "cell_type": "markdown",
      "metadata": {
        "id": "4anXbPMW_h0L",
        "colab_type": "text"
      },
      "source": [
        "# Visualization"
      ]
    },
    {
      "cell_type": "code",
      "metadata": {
        "id": "K73TLYtC_h7z",
        "colab_type": "code",
        "outputId": "28108522-c46f-46cb-901f-aefd33777b42",
        "colab": {
          "base_uri": "https://localhost:8080/",
          "height": 183
        }
      },
      "source": [
        "import matplotlib.pyplot as plt\n",
        "import matplotlib.image as mpimg\n",
        "%matplotlib inline\n",
        "plt.figure(figsize=(10,3))\n",
        "plt.subplots_adjust(wspace =0.3, hspace =0.1)\n",
        "for i in range(0,9):\n",
        "    plt.subplot(330 + (i+1))\n",
        "    plt.imshow(train_y_img[i].reshape(1,23))\n",
        "    plt.title(i)"
      ],
      "execution_count": 12,
      "outputs": [
        {
          "output_type": "display_data",
          "data": {
            "image/png": "[encoded data removed]",
            "text/plain": [
              "<Figure size 720x216 with 9 Axes>"
            ]
          },
          "metadata": {
            "tags": []
          }
        }
      ]
    },
    {
      "cell_type": "markdown",
      "metadata": {
        "id": "JfzN-2k4glKc",
        "colab_type": "text"
      },
      "source": [
        "# 定義參數 for autoencoder"
      ]
    },
    {
      "cell_type": "code",
      "metadata": {
        "id": "FYVaPgHKglm2",
        "colab_type": "code",
        "colab": {}
      },
      "source": [
        "encoding_dim = 1\n",
        "window_length = len(y_columns)\n",
        "epochs = 300\n",
        "x_train = train[y_columns]\n",
        "x_test = test[y_columns]"
      ],
      "execution_count": 0,
      "outputs": []
    },
    {
      "cell_type": "markdown",
      "metadata": {
        "id": "hGAY8_t7An00",
        "colab_type": "text"
      },
      "source": [
        "# Simple feed-forward autoencoder"
      ]
    },
    {
      "cell_type": "code",
      "metadata": {
        "id": "0NiUf60hAodL",
        "colab_type": "code",
        "outputId": "ec7d9a4d-f4f3-4220-cd80-fd19bd8e59c1",
        "colab": {
          "base_uri": "https://localhost:8080/",
          "height": 124
        }
      },
      "source": [
        "input_window = Input(shape=(window_length,))\n",
        "encoded = Dense(encoding_dim, activation='linear')(input_window)\n",
        "decoded = Dense(window_length, activation='linear')(encoded)"
      ],
      "execution_count": 14,
      "outputs": [
        {
          "output_type": "stream",
          "text": [
            "WARNING:tensorflow:From /usr/local/lib/python3.6/dist-packages/keras/backend/tensorflow_backend.py:66: The name tf.get_default_graph is deprecated. Please use tf.compat.v1.get_default_graph instead.\n",
            "\n",
            "WARNING:tensorflow:From /usr/local/lib/python3.6/dist-packages/keras/backend/tensorflow_backend.py:541: The name tf.placeholder is deprecated. Please use tf.compat.v1.placeholder instead.\n",
            "\n",
            "WARNING:tensorflow:From /usr/local/lib/python3.6/dist-packages/keras/backend/tensorflow_backend.py:4432: The name tf.random_uniform is deprecated. Please use tf.random.uniform instead.\n",
            "\n"
          ],
          "name": "stdout"
        }
      ]
    },
    {
      "cell_type": "code",
      "metadata": {
        "id": "KjvVE3Gug7LL",
        "colab_type": "code",
        "outputId": "2c3472a2-1af5-4263-828c-7bb3749b52f3",
        "colab": {
          "base_uri": "https://localhost:8080/",
          "height": 301
        }
      },
      "source": [
        "autoencoder = Model(input_window, decoded)\n",
        "encoder = Model(input_window, encoded)\n",
        "autoencoder.compile(optimizer='adam', loss='mse')\n",
        "autoencoder.summary()"
      ],
      "execution_count": 15,
      "outputs": [
        {
          "output_type": "stream",
          "text": [
            "WARNING:tensorflow:From /usr/local/lib/python3.6/dist-packages/keras/optimizers.py:793: The name tf.train.Optimizer is deprecated. Please use tf.compat.v1.train.Optimizer instead.\n",
            "\n",
            "Model: \"model_1\"\n",
            "_________________________________________________________________\n",
            "Layer (type)                 Output Shape              Param #   \n",
            "=================================================================\n",
            "input_1 (InputLayer)         (None, 23)                0         \n",
            "_________________________________________________________________\n",
            "dense_1 (Dense)              (None, 1)                 24        \n",
            "_________________________________________________________________\n",
            "dense_2 (Dense)              (None, 23)                46        \n",
            "=================================================================\n",
            "Total params: 70\n",
            "Trainable params: 70\n",
            "Non-trainable params: 0\n",
            "_________________________________________________________________\n"
          ],
          "name": "stdout"
        }
      ]
    },
    {
      "cell_type": "code",
      "metadata": {
        "id": "eF5R2GO4g1h3",
        "colab_type": "code",
        "outputId": "3a5ef49e-04e6-4c9a-cfa3-4f9c32e2e76b",
        "colab": {
          "base_uri": "https://localhost:8080/",
          "height": 1000
        }
      },
      "source": [
        "history = autoencoder.fit(x_train,x_train,epochs=epochs,batch_size=1024,shuffle=True,validation_data=(x_test,x_test))\n",
        "train_decoded = pd.DataFrame(autoencoder.predict(x_train),index=x_train.index,columns=x_train.columns)\n",
        "test_decoded = pd.DataFrame(autoencoder.predict(x_test),index=x_test.index,columns=x_test.columns)"
      ],
      "execution_count": 16,
      "outputs": [
        {
          "output_type": "stream",
          "text": [
            "WARNING:tensorflow:From /usr/local/lib/python3.6/dist-packages/keras/backend/tensorflow_backend.py:1033: The name tf.assign_add is deprecated. Please use tf.compat.v1.assign_add instead.\n",
            "\n",
            "WARNING:tensorflow:From /usr/local/lib/python3.6/dist-packages/keras/backend/tensorflow_backend.py:1020: The name tf.assign is deprecated. Please use tf.compat.v1.assign instead.\n",
            "\n",
            "WARNING:tensorflow:From /usr/local/lib/python3.6/dist-packages/keras/backend/tensorflow_backend.py:3005: The name tf.Session is deprecated. Please use tf.compat.v1.Session instead.\n",
            "\n",
            "Train on 4521 samples, validate on 170 samples\n",
            "Epoch 1/300\n",
            "WARNING:tensorflow:From /usr/local/lib/python3.6/dist-packages/keras/backend/tensorflow_backend.py:190: The name tf.get_default_session is deprecated. Please use tf.compat.v1.get_default_session instead.\n",
            "\n",
            "WARNING:tensorflow:From /usr/local/lib/python3.6/dist-packages/keras/backend/tensorflow_backend.py:197: The name tf.ConfigProto is deprecated. Please use tf.compat.v1.ConfigProto instead.\n",
            "\n",
            "WARNING:tensorflow:From /usr/local/lib/python3.6/dist-packages/keras/backend/tensorflow_backend.py:207: The name tf.global_variables is deprecated. Please use tf.compat.v1.global_variables instead.\n",
            "\n",
            "WARNING:tensorflow:From /usr/local/lib/python3.6/dist-packages/keras/backend/tensorflow_backend.py:216: The name tf.is_variable_initialized is deprecated. Please use tf.compat.v1.is_variable_initialized instead.\n",
            "\n",
            "WARNING:tensorflow:From /usr/local/lib/python3.6/dist-packages/keras/backend/tensorflow_backend.py:223: The name tf.variables_initializer is deprecated. Please use tf.compat.v1.variables_initializer instead.\n",
            "\n",
            "4521/4521 [==============================] - 0s 40us/step - loss: 0.0029 - val_loss: 0.0025\n",
            "Epoch 2/300\n",
            "4521/4521 [==============================] - 0s 3us/step - loss: 0.0025 - val_loss: 0.0021\n",
            "Epoch 3/300\n",
            "4521/4521 [==============================] - 0s 4us/step - loss: 0.0021 - val_loss: 0.0018\n",
            "Epoch 4/300\n",
            "4521/4521 [==============================] - 0s 3us/step - loss: 0.0018 - val_loss: 0.0015\n",
            "Epoch 5/300\n",
            "4521/4521 [==============================] - 0s 3us/step - loss: 0.0015 - val_loss: 0.0013\n",
            "Epoch 6/300\n",
            "4521/4521 [==============================] - 0s 3us/step - loss: 0.0013 - val_loss: 0.0011\n",
            "Epoch 7/300\n",
            "4521/4521 [==============================] - 0s 3us/step - loss: 0.0011 - val_loss: 9.1811e-04\n",
            "Epoch 8/300\n",
            "4521/4521 [==============================] - 0s 3us/step - loss: 9.7123e-04 - val_loss: 7.8234e-04\n",
            "Epoch 9/300\n",
            "4521/4521 [==============================] - 0s 3us/step - loss: 8.4790e-04 - val_loss: 6.7183e-04\n",
            "Epoch 10/300\n",
            "4521/4521 [==============================] - 0s 3us/step - loss: 7.4792e-04 - val_loss: 5.8144e-04\n",
            "Epoch 11/300\n",
            "4521/4521 [==============================] - 0s 3us/step - loss: 6.6647e-04 - val_loss: 5.0789e-04\n",
            "Epoch 12/300\n",
            "4521/4521 [==============================] - 0s 3us/step - loss: 6.0026e-04 - val_loss: 4.4882e-04\n",
            "Epoch 13/300\n",
            "4521/4521 [==============================] - 0s 3us/step - loss: 5.4682e-04 - val_loss: 4.0099e-04\n",
            "Epoch 14/300\n",
            "4521/4521 [==============================] - 0s 3us/step - loss: 5.0346e-04 - val_loss: 3.6240e-04\n",
            "Epoch 15/300\n",
            "4521/4521 [==============================] - 0s 3us/step - loss: 4.6824e-04 - val_loss: 3.3117e-04\n",
            "Epoch 16/300\n",
            "4521/4521 [==============================] - 0s 3us/step - loss: 4.3965e-04 - val_loss: 3.0583e-04\n",
            "Epoch 17/300\n",
            "4521/4521 [==============================] - 0s 3us/step - loss: 4.1649e-04 - val_loss: 2.8514e-04\n",
            "Epoch 18/300\n",
            "4521/4521 [==============================] - 0s 3us/step - loss: 3.9763e-04 - val_loss: 2.6855e-04\n",
            "Epoch 19/300\n",
            "4521/4521 [==============================] - 0s 3us/step - loss: 3.8229e-04 - val_loss: 2.5546e-04\n",
            "Epoch 20/300\n",
            "4521/4521 [==============================] - 0s 4us/step - loss: 3.6990e-04 - val_loss: 2.4492e-04\n",
            "Epoch 21/300\n",
            "4521/4521 [==============================] - 0s 3us/step - loss: 3.6003e-04 - val_loss: 2.3597e-04\n",
            "Epoch 22/300\n",
            "4521/4521 [==============================] - 0s 3us/step - loss: 3.5208e-04 - val_loss: 2.2900e-04\n",
            "Epoch 23/300\n",
            "4521/4521 [==============================] - 0s 3us/step - loss: 3.4571e-04 - val_loss: 2.2368e-04\n",
            "Epoch 24/300\n",
            "4521/4521 [==============================] - 0s 3us/step - loss: 3.4070e-04 - val_loss: 2.1927e-04\n",
            "Epoch 25/300\n",
            "4521/4521 [==============================] - 0s 3us/step - loss: 3.3677e-04 - val_loss: 2.1587e-04\n",
            "Epoch 26/300\n",
            "4521/4521 [==============================] - 0s 4us/step - loss: 3.3359e-04 - val_loss: 2.1349e-04\n",
            "Epoch 27/300\n",
            "4521/4521 [==============================] - 0s 3us/step - loss: 3.3110e-04 - val_loss: 2.1128e-04\n",
            "Epoch 28/300\n",
            "4521/4521 [==============================] - 0s 3us/step - loss: 3.2918e-04 - val_loss: 2.0934e-04\n",
            "Epoch 29/300\n",
            "4521/4521 [==============================] - 0s 3us/step - loss: 3.2760e-04 - val_loss: 2.0820e-04\n",
            "Epoch 30/300\n",
            "4521/4521 [==============================] - 0s 3us/step - loss: 3.2638e-04 - val_loss: 2.0711e-04\n",
            "Epoch 31/300\n",
            "4521/4521 [==============================] - 0s 3us/step - loss: 3.2539e-04 - val_loss: 2.0617e-04\n",
            "Epoch 32/300\n",
            "4521/4521 [==============================] - 0s 3us/step - loss: 3.2457e-04 - val_loss: 2.0580e-04\n",
            "Epoch 33/300\n",
            "4521/4521 [==============================] - 0s 3us/step - loss: 3.2390e-04 - val_loss: 2.0548e-04\n",
            "Epoch 34/300\n",
            "4521/4521 [==============================] - 0s 4us/step - loss: 3.2333e-04 - val_loss: 2.0471e-04\n",
            "Epoch 35/300\n",
            "4521/4521 [==============================] - 0s 4us/step - loss: 3.2283e-04 - val_loss: 2.0447e-04\n",
            "Epoch 36/300\n",
            "4521/4521 [==============================] - 0s 3us/step - loss: 3.2240e-04 - val_loss: 2.0429e-04\n",
            "Epoch 37/300\n",
            "4521/4521 [==============================] - 0s 3us/step - loss: 3.2200e-04 - val_loss: 2.0366e-04\n",
            "Epoch 38/300\n",
            "4521/4521 [==============================] - 0s 3us/step - loss: 3.2164e-04 - val_loss: 2.0318e-04\n",
            "Epoch 39/300\n",
            "4521/4521 [==============================] - 0s 3us/step - loss: 3.2128e-04 - val_loss: 2.0296e-04\n",
            "Epoch 40/300\n",
            "4521/4521 [==============================] - 0s 3us/step - loss: 3.2095e-04 - val_loss: 2.0279e-04\n",
            "Epoch 41/300\n",
            "4521/4521 [==============================] - 0s 3us/step - loss: 3.2063e-04 - val_loss: 2.0253e-04\n",
            "Epoch 42/300\n",
            "4521/4521 [==============================] - 0s 3us/step - loss: 3.2031e-04 - val_loss: 2.0225e-04\n",
            "Epoch 43/300\n",
            "4521/4521 [==============================] - 0s 3us/step - loss: 3.1999e-04 - val_loss: 2.0213e-04\n",
            "Epoch 44/300\n",
            "4521/4521 [==============================] - 0s 3us/step - loss: 3.1969e-04 - val_loss: 2.0190e-04\n",
            "Epoch 45/300\n",
            "4521/4521 [==============================] - 0s 4us/step - loss: 3.1936e-04 - val_loss: 2.0167e-04\n",
            "Epoch 46/300\n",
            "4521/4521 [==============================] - 0s 3us/step - loss: 3.1904e-04 - val_loss: 2.0150e-04\n",
            "Epoch 47/300\n",
            "4521/4521 [==============================] - 0s 4us/step - loss: 3.1871e-04 - val_loss: 2.0110e-04\n",
            "Epoch 48/300\n",
            "4521/4521 [==============================] - 0s 3us/step - loss: 3.1839e-04 - val_loss: 2.0065e-04\n",
            "Epoch 49/300\n",
            "4521/4521 [==============================] - 0s 3us/step - loss: 3.1806e-04 - val_loss: 2.0070e-04\n",
            "Epoch 50/300\n",
            "4521/4521 [==============================] - 0s 3us/step - loss: 3.1773e-04 - val_loss: 2.0046e-04\n",
            "Epoch 51/300\n",
            "4521/4521 [==============================] - 0s 3us/step - loss: 3.1738e-04 - val_loss: 1.9998e-04\n",
            "Epoch 52/300\n",
            "4521/4521 [==============================] - 0s 3us/step - loss: 3.1702e-04 - val_loss: 1.9951e-04\n",
            "Epoch 53/300\n",
            "4521/4521 [==============================] - 0s 4us/step - loss: 3.1666e-04 - val_loss: 1.9931e-04\n",
            "Epoch 54/300\n",
            "4521/4521 [==============================] - 0s 3us/step - loss: 3.1630e-04 - val_loss: 1.9909e-04\n",
            "Epoch 55/300\n",
            "4521/4521 [==============================] - 0s 3us/step - loss: 3.1592e-04 - val_loss: 1.9872e-04\n",
            "Epoch 56/300\n",
            "4521/4521 [==============================] - 0s 4us/step - loss: 3.1555e-04 - val_loss: 1.9840e-04\n",
            "Epoch 57/300\n",
            "4521/4521 [==============================] - 0s 4us/step - loss: 3.1516e-04 - val_loss: 1.9803e-04\n",
            "Epoch 58/300\n",
            "4521/4521 [==============================] - 0s 4us/step - loss: 3.1475e-04 - val_loss: 1.9768e-04\n",
            "Epoch 59/300\n",
            "4521/4521 [==============================] - 0s 4us/step - loss: 3.1433e-04 - val_loss: 1.9750e-04\n",
            "Epoch 60/300\n",
            "4521/4521 [==============================] - 0s 3us/step - loss: 3.1392e-04 - val_loss: 1.9718e-04\n",
            "Epoch 61/300\n",
            "4521/4521 [==============================] - 0s 4us/step - loss: 3.1348e-04 - val_loss: 1.9658e-04\n",
            "Epoch 62/300\n",
            "4521/4521 [==============================] - 0s 5us/step - loss: 3.1305e-04 - val_loss: 1.9593e-04\n",
            "Epoch 63/300\n",
            "4521/4521 [==============================] - 0s 4us/step - loss: 3.1257e-04 - val_loss: 1.9588e-04\n",
            "Epoch 64/300\n",
            "4521/4521 [==============================] - 0s 4us/step - loss: 3.1209e-04 - val_loss: 1.9539e-04\n",
            "Epoch 65/300\n",
            "4521/4521 [==============================] - 0s 3us/step - loss: 3.1160e-04 - val_loss: 1.9482e-04\n",
            "Epoch 66/300\n",
            "4521/4521 [==============================] - 0s 3us/step - loss: 3.1111e-04 - val_loss: 1.9448e-04\n",
            "Epoch 67/300\n",
            "4521/4521 [==============================] - 0s 3us/step - loss: 3.1058e-04 - val_loss: 1.9417e-04\n",
            "Epoch 68/300\n",
            "4521/4521 [==============================] - 0s 3us/step - loss: 3.1006e-04 - val_loss: 1.9374e-04\n",
            "Epoch 69/300\n",
            "4521/4521 [==============================] - 0s 3us/step - loss: 3.0950e-04 - val_loss: 1.9299e-04\n",
            "Epoch 70/300\n",
            "4521/4521 [==============================] - 0s 3us/step - loss: 3.0894e-04 - val_loss: 1.9255e-04\n",
            "Epoch 71/300\n",
            "4521/4521 [==============================] - 0s 3us/step - loss: 3.0836e-04 - val_loss: 1.9229e-04\n",
            "Epoch 72/300\n",
            "4521/4521 [==============================] - 0s 3us/step - loss: 3.0773e-04 - val_loss: 1.9121e-04\n",
            "Epoch 73/300\n",
            "4521/4521 [==============================] - 0s 3us/step - loss: 3.0710e-04 - val_loss: 1.9067e-04\n",
            "Epoch 74/300\n",
            "4521/4521 [==============================] - 0s 3us/step - loss: 3.0647e-04 - val_loss: 1.9033e-04\n",
            "Epoch 75/300\n",
            "4521/4521 [==============================] - 0s 3us/step - loss: 3.0578e-04 - val_loss: 1.8959e-04\n",
            "Epoch 76/300\n",
            "4521/4521 [==============================] - 0s 4us/step - loss: 3.0508e-04 - val_loss: 1.8886e-04\n",
            "Epoch 77/300\n",
            "4521/4521 [==============================] - 0s 3us/step - loss: 3.0437e-04 - val_loss: 1.8801e-04\n",
            "Epoch 78/300\n",
            "4521/4521 [==============================] - 0s 3us/step - loss: 3.0360e-04 - val_loss: 1.8755e-04\n",
            "Epoch 79/300\n",
            "4521/4521 [==============================] - 0s 3us/step - loss: 3.0283e-04 - val_loss: 1.8681e-04\n",
            "Epoch 80/300\n",
            "4521/4521 [==============================] - 0s 3us/step - loss: 3.0201e-04 - val_loss: 1.8602e-04\n",
            "Epoch 81/300\n",
            "4521/4521 [==============================] - 0s 4us/step - loss: 3.0117e-04 - val_loss: 1.8533e-04\n",
            "Epoch 82/300\n",
            "4521/4521 [==============================] - 0s 3us/step - loss: 3.0030e-04 - val_loss: 1.8459e-04\n",
            "Epoch 83/300\n",
            "4521/4521 [==============================] - 0s 3us/step - loss: 2.9938e-04 - val_loss: 1.8344e-04\n",
            "Epoch 84/300\n",
            "4521/4521 [==============================] - 0s 3us/step - loss: 2.9846e-04 - val_loss: 1.8226e-04\n",
            "Epoch 85/300\n",
            "4521/4521 [==============================] - 0s 3us/step - loss: 2.9747e-04 - val_loss: 1.8147e-04\n",
            "Epoch 86/300\n",
            "4521/4521 [==============================] - 0s 3us/step - loss: 2.9645e-04 - val_loss: 1.8047e-04\n",
            "Epoch 87/300\n",
            "4521/4521 [==============================] - 0s 3us/step - loss: 2.9538e-04 - val_loss: 1.7960e-04\n",
            "Epoch 88/300\n",
            "4521/4521 [==============================] - 0s 3us/step - loss: 2.9429e-04 - val_loss: 1.7834e-04\n",
            "Epoch 89/300\n",
            "4521/4521 [==============================] - 0s 4us/step - loss: 2.9314e-04 - val_loss: 1.7713e-04\n",
            "Epoch 90/300\n",
            "4521/4521 [==============================] - 0s 4us/step - loss: 2.9195e-04 - val_loss: 1.7614e-04\n",
            "Epoch 91/300\n",
            "4521/4521 [==============================] - 0s 3us/step - loss: 2.9071e-04 - val_loss: 1.7490e-04\n",
            "Epoch 92/300\n",
            "4521/4521 [==============================] - 0s 3us/step - loss: 2.8942e-04 - val_loss: 1.7353e-04\n",
            "Epoch 93/300\n",
            "4521/4521 [==============================] - 0s 3us/step - loss: 2.8807e-04 - val_loss: 1.7261e-04\n",
            "Epoch 94/300\n",
            "4521/4521 [==============================] - 0s 9us/step - loss: 2.8669e-04 - val_loss: 1.7135e-04\n",
            "Epoch 95/300\n",
            "4521/4521 [==============================] - 0s 3us/step - loss: 2.8524e-04 - val_loss: 1.6943e-04\n",
            "Epoch 96/300\n",
            "4521/4521 [==============================] - 0s 3us/step - loss: 2.8373e-04 - val_loss: 1.6772e-04\n",
            "Epoch 97/300\n",
            "4521/4521 [==============================] - 0s 4us/step - loss: 2.8214e-04 - val_loss: 1.6641e-04\n",
            "Epoch 98/300\n",
            "4521/4521 [==============================] - 0s 4us/step - loss: 2.8049e-04 - val_loss: 1.6475e-04\n",
            "Epoch 99/300\n",
            "4521/4521 [==============================] - 0s 3us/step - loss: 2.7879e-04 - val_loss: 1.6277e-04\n",
            "Epoch 100/300\n",
            "4521/4521 [==============================] - 0s 3us/step - loss: 2.7700e-04 - val_loss: 1.6123e-04\n",
            "Epoch 101/300\n",
            "4521/4521 [==============================] - 0s 4us/step - loss: 2.7515e-04 - val_loss: 1.5907e-04\n",
            "Epoch 102/300\n",
            "4521/4521 [==============================] - 0s 3us/step - loss: 2.7326e-04 - val_loss: 1.5697e-04\n",
            "Epoch 103/300\n",
            "4521/4521 [==============================] - 0s 4us/step - loss: 2.7126e-04 - val_loss: 1.5535e-04\n",
            "Epoch 104/300\n",
            "4521/4521 [==============================] - 0s 3us/step - loss: 2.6921e-04 - val_loss: 1.5322e-04\n",
            "Epoch 105/300\n",
            "4521/4521 [==============================] - 0s 4us/step - loss: 2.6711e-04 - val_loss: 1.5105e-04\n",
            "Epoch 106/300\n",
            "4521/4521 [==============================] - 0s 3us/step - loss: 2.6491e-04 - val_loss: 1.4880e-04\n",
            "Epoch 107/300\n",
            "4521/4521 [==============================] - 0s 3us/step - loss: 2.6267e-04 - val_loss: 1.4703e-04\n",
            "Epoch 108/300\n",
            "4521/4521 [==============================] - 0s 3us/step - loss: 2.6031e-04 - val_loss: 1.4434e-04\n",
            "Epoch 109/300\n",
            "4521/4521 [==============================] - 0s 5us/step - loss: 2.5792e-04 - val_loss: 1.4201e-04\n",
            "Epoch 110/300\n",
            "4521/4521 [==============================] - 0s 3us/step - loss: 2.5546e-04 - val_loss: 1.3948e-04\n",
            "Epoch 111/300\n",
            "4521/4521 [==============================] - 0s 3us/step - loss: 2.5290e-04 - val_loss: 1.3712e-04\n",
            "Epoch 112/300\n",
            "4521/4521 [==============================] - 0s 5us/step - loss: 2.5031e-04 - val_loss: 1.3437e-04\n",
            "Epoch 113/300\n",
            "4521/4521 [==============================] - 0s 3us/step - loss: 2.4766e-04 - val_loss: 1.3171e-04\n",
            "Epoch 114/300\n",
            "4521/4521 [==============================] - 0s 4us/step - loss: 2.4495e-04 - val_loss: 1.2882e-04\n",
            "Epoch 115/300\n",
            "4521/4521 [==============================] - 0s 3us/step - loss: 2.4220e-04 - val_loss: 1.2625e-04\n",
            "Epoch 116/300\n",
            "4521/4521 [==============================] - 0s 3us/step - loss: 2.3938e-04 - val_loss: 1.2386e-04\n",
            "Epoch 117/300\n",
            "4521/4521 [==============================] - 0s 3us/step - loss: 2.3654e-04 - val_loss: 1.2112e-04\n",
            "Epoch 118/300\n",
            "4521/4521 [==============================] - 0s 3us/step - loss: 2.3367e-04 - val_loss: 1.1835e-04\n",
            "Epoch 119/300\n",
            "4521/4521 [==============================] - 0s 4us/step - loss: 2.3076e-04 - val_loss: 1.1574e-04\n",
            "Epoch 120/300\n",
            "4521/4521 [==============================] - 0s 3us/step - loss: 2.2786e-04 - val_loss: 1.1292e-04\n",
            "Epoch 121/300\n",
            "4521/4521 [==============================] - 0s 4us/step - loss: 2.2494e-04 - val_loss: 1.0981e-04\n",
            "Epoch 122/300\n",
            "4521/4521 [==============================] - 0s 3us/step - loss: 2.2199e-04 - val_loss: 1.0698e-04\n",
            "Epoch 123/300\n",
            "4521/4521 [==============================] - 0s 4us/step - loss: 2.1905e-04 - val_loss: 1.0433e-04\n",
            "Epoch 124/300\n",
            "4521/4521 [==============================] - 0s 5us/step - loss: 2.1614e-04 - val_loss: 1.0167e-04\n",
            "Epoch 125/300\n",
            "4521/4521 [==============================] - 0s 3us/step - loss: 2.1325e-04 - val_loss: 9.8626e-05\n",
            "Epoch 126/300\n",
            "4521/4521 [==============================] - 0s 3us/step - loss: 2.1033e-04 - val_loss: 9.6189e-05\n",
            "Epoch 127/300\n",
            "4521/4521 [==============================] - 0s 3us/step - loss: 2.0753e-04 - val_loss: 9.3714e-05\n",
            "Epoch 128/300\n",
            "4521/4521 [==============================] - 0s 3us/step - loss: 2.0472e-04 - val_loss: 9.0919e-05\n",
            "Epoch 129/300\n",
            "4521/4521 [==============================] - 0s 3us/step - loss: 2.0192e-04 - val_loss: 8.8295e-05\n",
            "Epoch 130/300\n",
            "4521/4521 [==============================] - 0s 4us/step - loss: 1.9922e-04 - val_loss: 8.5594e-05\n",
            "Epoch 131/300\n",
            "4521/4521 [==============================] - 0s 3us/step - loss: 1.9656e-04 - val_loss: 8.3089e-05\n",
            "Epoch 132/300\n",
            "4521/4521 [==============================] - 0s 3us/step - loss: 1.9396e-04 - val_loss: 8.0920e-05\n",
            "Epoch 133/300\n",
            "4521/4521 [==============================] - 0s 4us/step - loss: 1.9141e-04 - val_loss: 7.8470e-05\n",
            "Epoch 134/300\n",
            "4521/4521 [==============================] - 0s 4us/step - loss: 1.8898e-04 - val_loss: 7.6211e-05\n",
            "Epoch 135/300\n",
            "4521/4521 [==============================] - 0s 4us/step - loss: 1.8657e-04 - val_loss: 7.4396e-05\n",
            "Epoch 136/300\n",
            "4521/4521 [==============================] - 0s 3us/step - loss: 1.8425e-04 - val_loss: 7.2175e-05\n",
            "Epoch 137/300\n",
            "4521/4521 [==============================] - 0s 4us/step - loss: 1.8200e-04 - val_loss: 6.9909e-05\n",
            "Epoch 138/300\n",
            "4521/4521 [==============================] - 0s 3us/step - loss: 1.7984e-04 - val_loss: 6.8246e-05\n",
            "Epoch 139/300\n",
            "4521/4521 [==============================] - 0s 4us/step - loss: 1.7776e-04 - val_loss: 6.6452e-05\n",
            "Epoch 140/300\n",
            "4521/4521 [==============================] - 0s 4us/step - loss: 1.7575e-04 - val_loss: 6.4260e-05\n",
            "Epoch 141/300\n",
            "4521/4521 [==============================] - 0s 5us/step - loss: 1.7382e-04 - val_loss: 6.2684e-05\n",
            "Epoch 142/300\n",
            "4521/4521 [==============================] - 0s 4us/step - loss: 1.7197e-04 - val_loss: 6.1748e-05\n",
            "Epoch 143/300\n",
            "4521/4521 [==============================] - 0s 4us/step - loss: 1.7020e-04 - val_loss: 6.0226e-05\n",
            "Epoch 144/300\n",
            "4521/4521 [==============================] - 0s 3us/step - loss: 1.6849e-04 - val_loss: 5.8858e-05\n",
            "Epoch 145/300\n",
            "4521/4521 [==============================] - 0s 4us/step - loss: 1.6687e-04 - val_loss: 5.7305e-05\n",
            "Epoch 146/300\n",
            "4521/4521 [==============================] - 0s 3us/step - loss: 1.6530e-04 - val_loss: 5.5598e-05\n",
            "Epoch 147/300\n",
            "4521/4521 [==============================] - 0s 3us/step - loss: 1.6382e-04 - val_loss: 5.4446e-05\n",
            "Epoch 148/300\n",
            "4521/4521 [==============================] - 0s 3us/step - loss: 1.6240e-04 - val_loss: 5.3454e-05\n",
            "Epoch 149/300\n",
            "4521/4521 [==============================] - 0s 4us/step - loss: 1.6105e-04 - val_loss: 5.2263e-05\n",
            "Epoch 150/300\n",
            "4521/4521 [==============================] - 0s 4us/step - loss: 1.5976e-04 - val_loss: 5.1211e-05\n",
            "Epoch 151/300\n",
            "4521/4521 [==============================] - 0s 3us/step - loss: 1.5854e-04 - val_loss: 5.0259e-05\n",
            "Epoch 152/300\n",
            "4521/4521 [==============================] - 0s 4us/step - loss: 1.5739e-04 - val_loss: 4.9311e-05\n",
            "Epoch 153/300\n",
            "4521/4521 [==============================] - 0s 4us/step - loss: 1.5629e-04 - val_loss: 4.8254e-05\n",
            "Epoch 154/300\n",
            "4521/4521 [==============================] - 0s 4us/step - loss: 1.5524e-04 - val_loss: 4.7133e-05\n",
            "Epoch 155/300\n",
            "4521/4521 [==============================] - 0s 3us/step - loss: 1.5425e-04 - val_loss: 4.6473e-05\n",
            "Epoch 156/300\n",
            "4521/4521 [==============================] - 0s 4us/step - loss: 1.5331e-04 - val_loss: 4.5851e-05\n",
            "Epoch 157/300\n",
            "4521/4521 [==============================] - 0s 4us/step - loss: 1.5242e-04 - val_loss: 4.5032e-05\n",
            "Epoch 158/300\n",
            "4521/4521 [==============================] - 0s 3us/step - loss: 1.5157e-04 - val_loss: 4.4328e-05\n",
            "Epoch 159/300\n",
            "4521/4521 [==============================] - 0s 3us/step - loss: 1.5078e-04 - val_loss: 4.4139e-05\n",
            "Epoch 160/300\n",
            "4521/4521 [==============================] - 0s 3us/step - loss: 1.5003e-04 - val_loss: 4.3505e-05\n",
            "Epoch 161/300\n",
            "4521/4521 [==============================] - 0s 3us/step - loss: 1.4930e-04 - val_loss: 4.3229e-05\n",
            "Epoch 162/300\n",
            "4521/4521 [==============================] - 0s 3us/step - loss: 1.4864e-04 - val_loss: 4.2562e-05\n",
            "Epoch 163/300\n",
            "4521/4521 [==============================] - 0s 3us/step - loss: 1.4802e-04 - val_loss: 4.1487e-05\n",
            "Epoch 164/300\n",
            "4521/4521 [==============================] - 0s 3us/step - loss: 1.4739e-04 - val_loss: 4.1308e-05\n",
            "Epoch 165/300\n",
            "4521/4521 [==============================] - 0s 3us/step - loss: 1.4682e-04 - val_loss: 4.0796e-05\n",
            "Epoch 166/300\n",
            "4521/4521 [==============================] - 0s 3us/step - loss: 1.4628e-04 - val_loss: 4.0497e-05\n",
            "Epoch 167/300\n",
            "4521/4521 [==============================] - 0s 3us/step - loss: 1.4576e-04 - val_loss: 3.9960e-05\n",
            "Epoch 168/300\n",
            "4521/4521 [==============================] - 0s 4us/step - loss: 1.4529e-04 - val_loss: 3.9714e-05\n",
            "Epoch 169/300\n",
            "4521/4521 [==============================] - 0s 3us/step - loss: 1.4483e-04 - val_loss: 3.9347e-05\n",
            "Epoch 170/300\n",
            "4521/4521 [==============================] - 0s 3us/step - loss: 1.4443e-04 - val_loss: 3.8844e-05\n",
            "Epoch 171/300\n",
            "4521/4521 [==============================] - 0s 3us/step - loss: 1.4400e-04 - val_loss: 3.8933e-05\n",
            "Epoch 172/300\n",
            "4521/4521 [==============================] - 0s 4us/step - loss: 1.4363e-04 - val_loss: 3.8633e-05\n",
            "Epoch 173/300\n",
            "4521/4521 [==============================] - 0s 3us/step - loss: 1.4329e-04 - val_loss: 3.8476e-05\n",
            "Epoch 174/300\n",
            "4521/4521 [==============================] - 0s 3us/step - loss: 1.4293e-04 - val_loss: 3.8002e-05\n",
            "Epoch 175/300\n",
            "4521/4521 [==============================] - 0s 4us/step - loss: 1.4262e-04 - val_loss: 3.8021e-05\n",
            "Epoch 176/300\n",
            "4521/4521 [==============================] - 0s 4us/step - loss: 1.4231e-04 - val_loss: 3.7398e-05\n",
            "Epoch 177/300\n",
            "4521/4521 [==============================] - 0s 3us/step - loss: 1.4203e-04 - val_loss: 3.7342e-05\n",
            "Epoch 178/300\n",
            "4521/4521 [==============================] - 0s 4us/step - loss: 1.4175e-04 - val_loss: 3.7318e-05\n",
            "Epoch 179/300\n",
            "4521/4521 [==============================] - 0s 3us/step - loss: 1.4152e-04 - val_loss: 3.7526e-05\n",
            "Epoch 180/300\n",
            "4521/4521 [==============================] - 0s 3us/step - loss: 1.4127e-04 - val_loss: 3.7209e-05\n",
            "Epoch 181/300\n",
            "4521/4521 [==============================] - 0s 3us/step - loss: 1.4104e-04 - val_loss: 3.7081e-05\n",
            "Epoch 182/300\n",
            "4521/4521 [==============================] - 0s 3us/step - loss: 1.4083e-04 - val_loss: 3.6791e-05\n",
            "Epoch 183/300\n",
            "4521/4521 [==============================] - 0s 3us/step - loss: 1.4064e-04 - val_loss: 3.6364e-05\n",
            "Epoch 184/300\n",
            "4521/4521 [==============================] - 0s 3us/step - loss: 1.4047e-04 - val_loss: 3.6658e-05\n",
            "Epoch 185/300\n",
            "4521/4521 [==============================] - 0s 4us/step - loss: 1.4028e-04 - val_loss: 3.6590e-05\n",
            "Epoch 186/300\n",
            "4521/4521 [==============================] - 0s 4us/step - loss: 1.4011e-04 - val_loss: 3.6672e-05\n",
            "Epoch 187/300\n",
            "4521/4521 [==============================] - 0s 4us/step - loss: 1.3994e-04 - val_loss: 3.6222e-05\n",
            "Epoch 188/300\n",
            "4521/4521 [==============================] - 0s 3us/step - loss: 1.3978e-04 - val_loss: 3.5988e-05\n",
            "Epoch 189/300\n",
            "4521/4521 [==============================] - 0s 3us/step - loss: 1.3964e-04 - val_loss: 3.6218e-05\n",
            "Epoch 190/300\n",
            "4521/4521 [==============================] - 0s 3us/step - loss: 1.3951e-04 - val_loss: 3.5957e-05\n",
            "Epoch 191/300\n",
            "4521/4521 [==============================] - 0s 4us/step - loss: 1.3938e-04 - val_loss: 3.5881e-05\n",
            "Epoch 192/300\n",
            "4521/4521 [==============================] - 0s 3us/step - loss: 1.3926e-04 - val_loss: 3.5824e-05\n",
            "Epoch 193/300\n",
            "4521/4521 [==============================] - 0s 3us/step - loss: 1.3915e-04 - val_loss: 3.5970e-05\n",
            "Epoch 194/300\n",
            "4521/4521 [==============================] - 0s 3us/step - loss: 1.3904e-04 - val_loss: 3.5806e-05\n",
            "Epoch 195/300\n",
            "4521/4521 [==============================] - 0s 3us/step - loss: 1.3894e-04 - val_loss: 3.6135e-05\n",
            "Epoch 196/300\n",
            "4521/4521 [==============================] - 0s 3us/step - loss: 1.3885e-04 - val_loss: 3.5898e-05\n",
            "Epoch 197/300\n",
            "4521/4521 [==============================] - 0s 3us/step - loss: 1.3876e-04 - val_loss: 3.5716e-05\n",
            "Epoch 198/300\n",
            "4521/4521 [==============================] - 0s 4us/step - loss: 1.3868e-04 - val_loss: 3.5653e-05\n",
            "Epoch 199/300\n",
            "4521/4521 [==============================] - 0s 3us/step - loss: 1.3858e-04 - val_loss: 3.5864e-05\n",
            "Epoch 200/300\n",
            "4521/4521 [==============================] - 0s 3us/step - loss: 1.3852e-04 - val_loss: 3.5700e-05\n",
            "Epoch 201/300\n",
            "4521/4521 [==============================] - 0s 4us/step - loss: 1.3844e-04 - val_loss: 3.5648e-05\n",
            "Epoch 202/300\n",
            "4521/4521 [==============================] - 0s 4us/step - loss: 1.3837e-04 - val_loss: 3.5881e-05\n",
            "Epoch 203/300\n",
            "4521/4521 [==============================] - 0s 4us/step - loss: 1.3830e-04 - val_loss: 3.5760e-05\n",
            "Epoch 204/300\n",
            "4521/4521 [==============================] - 0s 4us/step - loss: 1.3823e-04 - val_loss: 3.5617e-05\n",
            "Epoch 205/300\n",
            "4521/4521 [==============================] - 0s 4us/step - loss: 1.3818e-04 - val_loss: 3.5623e-05\n",
            "Epoch 206/300\n",
            "4521/4521 [==============================] - 0s 3us/step - loss: 1.3812e-04 - val_loss: 3.5743e-05\n",
            "Epoch 207/300\n",
            "4521/4521 [==============================] - 0s 3us/step - loss: 1.3808e-04 - val_loss: 3.5443e-05\n",
            "Epoch 208/300\n",
            "4521/4521 [==============================] - 0s 3us/step - loss: 1.3802e-04 - val_loss: 3.5519e-05\n",
            "Epoch 209/300\n",
            "4521/4521 [==============================] - 0s 4us/step - loss: 1.3798e-04 - val_loss: 3.5494e-05\n",
            "Epoch 210/300\n",
            "4521/4521 [==============================] - 0s 3us/step - loss: 1.3793e-04 - val_loss: 3.5378e-05\n",
            "Epoch 211/300\n",
            "4521/4521 [==============================] - 0s 3us/step - loss: 1.3788e-04 - val_loss: 3.5471e-05\n",
            "Epoch 212/300\n",
            "4521/4521 [==============================] - 0s 3us/step - loss: 1.3784e-04 - val_loss: 3.5255e-05\n",
            "Epoch 213/300\n",
            "4521/4521 [==============================] - 0s 3us/step - loss: 1.3783e-04 - val_loss: 3.5078e-05\n",
            "Epoch 214/300\n",
            "4521/4521 [==============================] - 0s 3us/step - loss: 1.3776e-04 - val_loss: 3.5502e-05\n",
            "Epoch 215/300\n",
            "4521/4521 [==============================] - 0s 4us/step - loss: 1.3774e-04 - val_loss: 3.5683e-05\n",
            "Epoch 216/300\n",
            "4521/4521 [==============================] - 0s 4us/step - loss: 1.3773e-04 - val_loss: 3.5790e-05\n",
            "Epoch 217/300\n",
            "4521/4521 [==============================] - 0s 3us/step - loss: 1.3768e-04 - val_loss: 3.5124e-05\n",
            "Epoch 218/300\n",
            "4521/4521 [==============================] - 0s 3us/step - loss: 1.3764e-04 - val_loss: 3.5545e-05\n",
            "Epoch 219/300\n",
            "4521/4521 [==============================] - 0s 4us/step - loss: 1.3761e-04 - val_loss: 3.5448e-05\n",
            "Epoch 220/300\n",
            "4521/4521 [==============================] - 0s 3us/step - loss: 1.3758e-04 - val_loss: 3.5459e-05\n",
            "Epoch 221/300\n",
            "4521/4521 [==============================] - 0s 3us/step - loss: 1.3757e-04 - val_loss: 3.5405e-05\n",
            "Epoch 222/300\n",
            "4521/4521 [==============================] - 0s 4us/step - loss: 1.3752e-04 - val_loss: 3.5862e-05\n",
            "Epoch 223/300\n",
            "4521/4521 [==============================] - 0s 3us/step - loss: 1.3750e-04 - val_loss: 3.5704e-05\n",
            "Epoch 224/300\n",
            "4521/4521 [==============================] - 0s 3us/step - loss: 1.3747e-04 - val_loss: 3.5483e-05\n",
            "Epoch 225/300\n",
            "4521/4521 [==============================] - 0s 3us/step - loss: 1.3745e-04 - val_loss: 3.5315e-05\n",
            "Epoch 226/300\n",
            "4521/4521 [==============================] - 0s 3us/step - loss: 1.3743e-04 - val_loss: 3.5702e-05\n",
            "Epoch 227/300\n",
            "4521/4521 [==============================] - 0s 3us/step - loss: 1.3740e-04 - val_loss: 3.5613e-05\n",
            "Epoch 228/300\n",
            "4521/4521 [==============================] - 0s 3us/step - loss: 1.3740e-04 - val_loss: 3.5779e-05\n",
            "Epoch 229/300\n",
            "4521/4521 [==============================] - 0s 3us/step - loss: 1.3736e-04 - val_loss: 3.5293e-05\n",
            "Epoch 230/300\n",
            "4521/4521 [==============================] - 0s 4us/step - loss: 1.3737e-04 - val_loss: 3.5287e-05\n",
            "Epoch 231/300\n",
            "4521/4521 [==============================] - 0s 3us/step - loss: 1.3735e-04 - val_loss: 3.5491e-05\n",
            "Epoch 232/300\n",
            "4521/4521 [==============================] - 0s 3us/step - loss: 1.3732e-04 - val_loss: 3.5593e-05\n",
            "Epoch 233/300\n",
            "4521/4521 [==============================] - 0s 3us/step - loss: 1.3729e-04 - val_loss: 3.5794e-05\n",
            "Epoch 234/300\n",
            "4521/4521 [==============================] - 0s 4us/step - loss: 1.3728e-04 - val_loss: 3.5622e-05\n",
            "Epoch 235/300\n",
            "4521/4521 [==============================] - 0s 3us/step - loss: 1.3725e-04 - val_loss: 3.5538e-05\n",
            "Epoch 236/300\n",
            "4521/4521 [==============================] - 0s 3us/step - loss: 1.3725e-04 - val_loss: 3.5614e-05\n",
            "Epoch 237/300\n",
            "4521/4521 [==============================] - 0s 4us/step - loss: 1.3725e-04 - val_loss: 3.5732e-05\n",
            "Epoch 238/300\n",
            "4521/4521 [==============================] - 0s 4us/step - loss: 1.3722e-04 - val_loss: 3.5472e-05\n",
            "Epoch 239/300\n",
            "4521/4521 [==============================] - 0s 3us/step - loss: 1.3720e-04 - val_loss: 3.5639e-05\n",
            "Epoch 240/300\n",
            "4521/4521 [==============================] - 0s 4us/step - loss: 1.3720e-04 - val_loss: 3.5316e-05\n",
            "Epoch 241/300\n",
            "4521/4521 [==============================] - 0s 3us/step - loss: 1.3716e-04 - val_loss: 3.5232e-05\n",
            "Epoch 242/300\n",
            "4521/4521 [==============================] - 0s 3us/step - loss: 1.3717e-04 - val_loss: 3.5529e-05\n",
            "Epoch 243/300\n",
            "4521/4521 [==============================] - 0s 3us/step - loss: 1.3716e-04 - val_loss: 3.5540e-05\n",
            "Epoch 244/300\n",
            "4521/4521 [==============================] - 0s 3us/step - loss: 1.3715e-04 - val_loss: 3.6116e-05\n",
            "Epoch 245/300\n",
            "4521/4521 [==============================] - 0s 6us/step - loss: 1.3713e-04 - val_loss: 3.5578e-05\n",
            "Epoch 246/300\n",
            "4521/4521 [==============================] - 0s 3us/step - loss: 1.3714e-04 - val_loss: 3.5368e-05\n",
            "Epoch 247/300\n",
            "4521/4521 [==============================] - 0s 4us/step - loss: 1.3714e-04 - val_loss: 3.5926e-05\n",
            "Epoch 248/300\n",
            "4521/4521 [==============================] - 0s 4us/step - loss: 1.3711e-04 - val_loss: 3.5411e-05\n",
            "Epoch 249/300\n",
            "4521/4521 [==============================] - 0s 4us/step - loss: 1.3707e-04 - val_loss: 3.5725e-05\n",
            "Epoch 250/300\n",
            "4521/4521 [==============================] - 0s 4us/step - loss: 1.3707e-04 - val_loss: 3.6073e-05\n",
            "Epoch 251/300\n",
            "4521/4521 [==============================] - 0s 3us/step - loss: 1.3705e-04 - val_loss: 3.5763e-05\n",
            "Epoch 252/300\n",
            "4521/4521 [==============================] - 0s 4us/step - loss: 1.3705e-04 - val_loss: 3.5668e-05\n",
            "Epoch 253/300\n",
            "4521/4521 [==============================] - 0s 3us/step - loss: 1.3702e-04 - val_loss: 3.5635e-05\n",
            "Epoch 254/300\n",
            "4521/4521 [==============================] - 0s 3us/step - loss: 1.3702e-04 - val_loss: 3.5309e-05\n",
            "Epoch 255/300\n",
            "4521/4521 [==============================] - 0s 3us/step - loss: 1.3701e-04 - val_loss: 3.5599e-05\n",
            "Epoch 256/300\n",
            "4521/4521 [==============================] - 0s 3us/step - loss: 1.3701e-04 - val_loss: 3.5690e-05\n",
            "Epoch 257/300\n",
            "4521/4521 [==============================] - 0s 3us/step - loss: 1.3699e-04 - val_loss: 3.5696e-05\n",
            "Epoch 258/300\n",
            "4521/4521 [==============================] - 0s 3us/step - loss: 1.3702e-04 - val_loss: 3.5956e-05\n",
            "Epoch 259/300\n",
            "4521/4521 [==============================] - 0s 3us/step - loss: 1.3698e-04 - val_loss: 3.5359e-05\n",
            "Epoch 260/300\n",
            "4521/4521 [==============================] - 0s 3us/step - loss: 1.3697e-04 - val_loss: 3.5821e-05\n",
            "Epoch 261/300\n",
            "4521/4521 [==============================] - 0s 3us/step - loss: 1.3696e-04 - val_loss: 3.5690e-05\n",
            "Epoch 262/300\n",
            "4521/4521 [==============================] - 0s 3us/step - loss: 1.3694e-04 - val_loss: 3.5645e-05\n",
            "Epoch 263/300\n",
            "4521/4521 [==============================] - 0s 4us/step - loss: 1.3696e-04 - val_loss: 3.5813e-05\n",
            "Epoch 264/300\n",
            "4521/4521 [==============================] - 0s 4us/step - loss: 1.3694e-04 - val_loss: 3.5565e-05\n",
            "Epoch 265/300\n",
            "4521/4521 [==============================] - 0s 4us/step - loss: 1.3693e-04 - val_loss: 3.5835e-05\n",
            "Epoch 266/300\n",
            "4521/4521 [==============================] - 0s 3us/step - loss: 1.3694e-04 - val_loss: 3.5911e-05\n",
            "Epoch 267/300\n",
            "4521/4521 [==============================] - 0s 3us/step - loss: 1.3691e-04 - val_loss: 3.5493e-05\n",
            "Epoch 268/300\n",
            "4521/4521 [==============================] - 0s 4us/step - loss: 1.3690e-04 - val_loss: 3.5738e-05\n",
            "Epoch 269/300\n",
            "4521/4521 [==============================] - 0s 3us/step - loss: 1.3689e-04 - val_loss: 3.5348e-05\n",
            "Epoch 270/300\n",
            "4521/4521 [==============================] - 0s 3us/step - loss: 1.3690e-04 - val_loss: 3.5500e-05\n",
            "Epoch 271/300\n",
            "4521/4521 [==============================] - 0s 3us/step - loss: 1.3689e-04 - val_loss: 3.5777e-05\n",
            "Epoch 272/300\n",
            "4521/4521 [==============================] - 0s 3us/step - loss: 1.3687e-04 - val_loss: 3.5529e-05\n",
            "Epoch 273/300\n",
            "4521/4521 [==============================] - 0s 3us/step - loss: 1.3686e-04 - val_loss: 3.5798e-05\n",
            "Epoch 274/300\n",
            "4521/4521 [==============================] - 0s 4us/step - loss: 1.3686e-04 - val_loss: 3.6049e-05\n",
            "Epoch 275/300\n",
            "4521/4521 [==============================] - 0s 3us/step - loss: 1.3685e-04 - val_loss: 3.5718e-05\n",
            "Epoch 276/300\n",
            "4521/4521 [==============================] - 0s 4us/step - loss: 1.3685e-04 - val_loss: 3.5437e-05\n",
            "Epoch 277/300\n",
            "4521/4521 [==============================] - 0s 3us/step - loss: 1.3684e-04 - val_loss: 3.5673e-05\n",
            "Epoch 278/300\n",
            "4521/4521 [==============================] - 0s 5us/step - loss: 1.3685e-04 - val_loss: 3.5614e-05\n",
            "Epoch 279/300\n",
            "4521/4521 [==============================] - 0s 4us/step - loss: 1.3683e-04 - val_loss: 3.5560e-05\n",
            "Epoch 280/300\n",
            "4521/4521 [==============================] - 0s 4us/step - loss: 1.3682e-04 - val_loss: 3.5747e-05\n",
            "Epoch 281/300\n",
            "4521/4521 [==============================] - 0s 4us/step - loss: 1.3682e-04 - val_loss: 3.5918e-05\n",
            "Epoch 282/300\n",
            "4521/4521 [==============================] - 0s 3us/step - loss: 1.3681e-04 - val_loss: 3.5849e-05\n",
            "Epoch 283/300\n",
            "4521/4521 [==============================] - 0s 3us/step - loss: 1.3680e-04 - val_loss: 3.5631e-05\n",
            "Epoch 284/300\n",
            "4521/4521 [==============================] - 0s 3us/step - loss: 1.3681e-04 - val_loss: 3.5439e-05\n",
            "Epoch 285/300\n",
            "4521/4521 [==============================] - 0s 4us/step - loss: 1.3679e-04 - val_loss: 3.5825e-05\n",
            "Epoch 286/300\n",
            "4521/4521 [==============================] - 0s 3us/step - loss: 1.3679e-04 - val_loss: 3.5771e-05\n",
            "Epoch 287/300\n",
            "4521/4521 [==============================] - 0s 3us/step - loss: 1.3678e-04 - val_loss: 3.5839e-05\n",
            "Epoch 288/300\n",
            "4521/4521 [==============================] - 0s 3us/step - loss: 1.3678e-04 - val_loss: 3.5961e-05\n",
            "Epoch 289/300\n",
            "4521/4521 [==============================] - 0s 3us/step - loss: 1.3679e-04 - val_loss: 3.5519e-05\n",
            "Epoch 290/300\n",
            "4521/4521 [==============================] - 0s 4us/step - loss: 1.3676e-04 - val_loss: 3.5957e-05\n",
            "Epoch 291/300\n",
            "4521/4521 [==============================] - 0s 3us/step - loss: 1.3675e-04 - val_loss: 3.5735e-05\n",
            "Epoch 292/300\n",
            "4521/4521 [==============================] - 0s 3us/step - loss: 1.3675e-04 - val_loss: 3.5533e-05\n",
            "Epoch 293/300\n",
            "4521/4521 [==============================] - 0s 4us/step - loss: 1.3674e-04 - val_loss: 3.5822e-05\n",
            "Epoch 294/300\n",
            "4521/4521 [==============================] - 0s 4us/step - loss: 1.3674e-04 - val_loss: 3.5771e-05\n",
            "Epoch 295/300\n",
            "4521/4521 [==============================] - 0s 3us/step - loss: 1.3675e-04 - val_loss: 3.6169e-05\n",
            "Epoch 296/300\n",
            "4521/4521 [==============================] - 0s 3us/step - loss: 1.3672e-04 - val_loss: 3.5412e-05\n",
            "Epoch 297/300\n",
            "4521/4521 [==============================] - 0s 3us/step - loss: 1.3673e-04 - val_loss: 3.5254e-05\n",
            "Epoch 298/300\n",
            "4521/4521 [==============================] - 0s 3us/step - loss: 1.3673e-04 - val_loss: 3.5709e-05\n",
            "Epoch 299/300\n",
            "4521/4521 [==============================] - 0s 4us/step - loss: 1.3671e-04 - val_loss: 3.5366e-05\n",
            "Epoch 300/300\n",
            "4521/4521 [==============================] - 0s 4us/step - loss: 1.3671e-04 - val_loss: 3.5547e-05\n"
          ],
          "name": "stdout"
        }
      ]
    },
    {
      "cell_type": "markdown",
      "metadata": {
        "id": "-vlSArcaCVxk",
        "colab_type": "text"
      },
      "source": [
        "# 訓練過程"
      ]
    },
    {
      "cell_type": "code",
      "metadata": {
        "id": "UZk6ZJhfCE08",
        "colab_type": "code",
        "outputId": "3e0e29e7-9191-4c4d-805d-085421922025",
        "colab": {
          "base_uri": "https://localhost:8080/",
          "height": 283
        }
      },
      "source": [
        "plt.plot(autoencoder.history.history['loss'],label='loss')\n",
        "plt.plot(autoencoder.history.history['val_loss'],label='val_loss')\n",
        "plt.legend()"
      ],
      "execution_count": 17,
      "outputs": [
        {
          "output_type": "execute_result",
          "data": {
            "text/plain": [
              "<matplotlib.legend.Legend at 0x7fe7f37862e8>"
            ]
          },
          "metadata": {
            "tags": []
          },
          "execution_count": 17
        },
        {
          "output_type": "display_data",
          "data": {
            "image/png": "[encoded data removed]",
            "text/plain": [
              "<Figure size 432x288 with 1 Axes>"
            ]
          },
          "metadata": {
            "tags": []
          }
        }
      ]
    },
    {
      "cell_type": "markdown",
      "metadata": {
        "id": "0Ci-ZYASCzqU",
        "colab_type": "text"
      },
      "source": [
        "# 還原成效評估"
      ]
    },
    {
      "cell_type": "code",
      "metadata": {
        "id": "X4O43HKehvg5",
        "colab_type": "code",
        "outputId": "a38d00b3-3c73-45ad-fd53-45512113ef7d",
        "colab": {
          "base_uri": "https://localhost:8080/",
          "height": 221
        }
      },
      "source": [
        "plot_examples(x_train,train_decoded)"
      ],
      "execution_count": 18,
      "outputs": [
        {
          "output_type": "display_data",
          "data": {
            "image/png": "[encoded data removed]",
            "text/plain": [
              "<Figure size 1440x360 with 10 Axes>"
            ]
          },
          "metadata": {
            "tags": []
          }
        }
      ]
    },
    {
      "cell_type": "code",
      "metadata": {
        "id": "H5I8OYK6CzyA",
        "colab_type": "code",
        "outputId": "261b6cfd-6c70-415f-9e50-c529733f8a34",
        "colab": {
          "base_uri": "https://localhost:8080/",
          "height": 221
        }
      },
      "source": [
        "plot_examples(x_test,test_decoded)"
      ],
      "execution_count": 19,
      "outputs": [
        {
          "output_type": "display_data",
          "data": {
            "image/png": "[encoded data removed]",
            "text/plain": [
              "<Figure size 1440x360 with 10 Axes>"
            ]
          },
          "metadata": {
            "tags": []
          }
        }
      ]
    },
    {
      "cell_type": "markdown",
      "metadata": {
        "id": "NZWPawcdlMMS",
        "colab_type": "text"
      },
      "source": [
        "# metric評估"
      ]
    },
    {
      "cell_type": "code",
      "metadata": {
        "id": "g1oehPFOLQL7",
        "colab_type": "code",
        "outputId": "6b80342f-4e71-4031-de20-8774c5e92069",
        "colab": {
          "base_uri": "https://localhost:8080/",
          "height": 76
        }
      },
      "source": [
        "metric(x_train,train_decoded)"
      ],
      "execution_count": 20,
      "outputs": [
        {
          "output_type": "execute_result",
          "data": {
            "text/html": [
              "<div>\n",
              "<style scoped>\n",
              "    .dataframe tbody tr th:only-of-type {\n",
              "        vertical-align: middle;\n",
              "    }\n",
              "\n",
              "    .dataframe tbody tr th {\n",
              "        vertical-align: top;\n",
              "    }\n",
              "\n",
              "    .dataframe thead th {\n",
              "        text-align: right;\n",
              "    }\n",
              "</style>\n",
              "<table border=\"1\" class=\"dataframe\">\n",
              "  <thead>\n",
              "    <tr style=\"text-align: right;\">\n",
              "      <th></th>\n",
              "      <th>R2</th>\n",
              "      <th>RMSE</th>\n",
              "      <th>RMSE%</th>\n",
              "    </tr>\n",
              "  </thead>\n",
              "  <tbody>\n",
              "    <tr>\n",
              "      <th>score</th>\n",
              "      <td>0.381451</td>\n",
              "      <td>0.011692</td>\n",
              "      <td>NaN</td>\n",
              "    </tr>\n",
              "  </tbody>\n",
              "</table>\n",
              "</div>"
            ],
            "text/plain": [
              "             R2      RMSE  RMSE%\n",
              "score  0.381451  0.011692    NaN"
            ]
          },
          "metadata": {
            "tags": []
          },
          "execution_count": 20
        }
      ]
    },
    {
      "cell_type": "code",
      "metadata": {
        "id": "Ibo0dGHfLETa",
        "colab_type": "code",
        "outputId": "c56a6c8b-2563-47b0-fb6d-55fbb4a66bd3",
        "colab": {
          "base_uri": "https://localhost:8080/",
          "height": 76
        }
      },
      "source": [
        "metric(x_test,test_decoded)"
      ],
      "execution_count": 21,
      "outputs": [
        {
          "output_type": "execute_result",
          "data": {
            "text/html": [
              "<div>\n",
              "<style scoped>\n",
              "    .dataframe tbody tr th:only-of-type {\n",
              "        vertical-align: middle;\n",
              "    }\n",
              "\n",
              "    .dataframe tbody tr th {\n",
              "        vertical-align: top;\n",
              "    }\n",
              "\n",
              "    .dataframe thead th {\n",
              "        text-align: right;\n",
              "    }\n",
              "</style>\n",
              "<table border=\"1\" class=\"dataframe\">\n",
              "  <thead>\n",
              "    <tr style=\"text-align: right;\">\n",
              "      <th></th>\n",
              "      <th>R2</th>\n",
              "      <th>RMSE</th>\n",
              "      <th>RMSE%</th>\n",
              "    </tr>\n",
              "  </thead>\n",
              "  <tbody>\n",
              "    <tr>\n",
              "      <th>score</th>\n",
              "      <td>0.193224</td>\n",
              "      <td>0.005962</td>\n",
              "      <td>NaN</td>\n",
              "    </tr>\n",
              "  </tbody>\n",
              "</table>\n",
              "</div>"
            ],
            "text/plain": [
              "             R2      RMSE  RMSE%\n",
              "score  0.193224  0.005962    NaN"
            ]
          },
          "metadata": {
            "tags": []
          },
          "execution_count": 21
        }
      ]
    },
    {
      "cell_type": "markdown",
      "metadata": {
        "id": "TsXsVT03IqGx",
        "colab_type": "text"
      },
      "source": [
        "# 精隨可視化"
      ]
    },
    {
      "cell_type": "code",
      "metadata": {
        "id": "glS9ezpuiNhJ",
        "colab_type": "code",
        "outputId": "bf9d3ced-2070-4dfb-e8ef-84f703f4c458",
        "colab": {
          "base_uri": "https://localhost:8080/",
          "height": 283
        }
      },
      "source": [
        "plt.scatter(x_train.index,encoder.predict(x_train))"
      ],
      "execution_count": 22,
      "outputs": [
        {
          "output_type": "execute_result",
          "data": {
            "text/plain": [
              "<matplotlib.collections.PathCollection at 0x7fe7f9ba7748>"
            ]
          },
          "metadata": {
            "tags": []
          },
          "execution_count": 22
        },
        {
          "output_type": "display_data",
          "data": {
            "image/png": "[encoded data removed]",
            "text/plain": [
              "<Figure size 432x288 with 1 Axes>"
            ]
          },
          "metadata": {
            "tags": []
          }
        }
      ]
    },
    {
      "cell_type": "code",
      "metadata": {
        "id": "C9biAtFLIqSV",
        "colab_type": "code",
        "outputId": "6a3be2fb-3950-4379-f0a6-970ddbd95540",
        "colab": {
          "base_uri": "https://localhost:8080/",
          "height": 283
        }
      },
      "source": [
        "plt.scatter(x_test.index,encoder.predict(x_test))"
      ],
      "execution_count": 23,
      "outputs": [
        {
          "output_type": "execute_result",
          "data": {
            "text/plain": [
              "<matplotlib.collections.PathCollection at 0x7fe7f35b0f60>"
            ]
          },
          "metadata": {
            "tags": []
          },
          "execution_count": 23
        },
        {
          "output_type": "display_data",
          "data": {
            "image/png": "[encoded data removed]",
            "text/plain": [
              "<Figure size 432x288 with 1 Axes>"
            ]
          },
          "metadata": {
            "tags": []
          }
        }
      ]
    },
    {
      "cell_type": "markdown",
      "metadata": {
        "id": "FaxgHVu4M61K",
        "colab_type": "text"
      },
      "source": [
        "# Deep autoencoder"
      ]
    },
    {
      "cell_type": "code",
      "metadata": {
        "id": "KoTirwocM69H",
        "colab_type": "code",
        "colab": {}
      },
      "source": [
        "input_window = Input(shape=(23,))\n",
        "x0 = Dense(48, activation='linear')(input_window)\n",
        "x1 = Dense(24, activation='linear')(x0)\n",
        "x2 = Dense(12, activation='linear')(x1)\n",
        "#===========================================\n",
        "encoded = Dense(encoding_dim, activation='linear')(x2)\n",
        "#===========================================\n",
        "x2_ = Dense(12, activation='linear')(encoded)\n",
        "x1_ = Dense(24, activation='linear')(x2_)\n",
        "x0_ = Dense(48, activation='linear')(x1_)\n",
        "decoded = Dense(23, activation='linear')(x0_)"
      ],
      "execution_count": 0,
      "outputs": []
    },
    {
      "cell_type": "code",
      "metadata": {
        "id": "-T2Zx62e3UIf",
        "colab_type": "code",
        "colab": {}
      },
      "source": [
        "autoencoder = Model(input_window, decoded)"
      ],
      "execution_count": 0,
      "outputs": []
    },
    {
      "cell_type": "code",
      "metadata": {
        "id": "D6pTJlb93VmL",
        "colab_type": "code",
        "colab": {}
      },
      "source": [
        "encoder = Model(input_window, encoded)"
      ],
      "execution_count": 0,
      "outputs": []
    },
    {
      "cell_type": "code",
      "metadata": {
        "id": "31dTtJyfltfX",
        "colab_type": "code",
        "colab": {}
      },
      "source": [
        "encoded_input = Input(shape=(encoding_dim,))\n",
        "decoder_layer = autoencoder.layers[-4](encoded_input)\n",
        "decoder_layer = autoencoder.layers[-3](decoder_layer)\n",
        "decoder_layer = autoencoder.layers[-2](decoder_layer)\n",
        "decoder_layer = autoencoder.layers[-1](decoder_layer)\n",
        "decoder = Model(encoded_input, decoder_layer)"
      ],
      "execution_count": 0,
      "outputs": []
    },
    {
      "cell_type": "code",
      "metadata": {
        "id": "9AHjM5bi3NcQ",
        "colab_type": "code",
        "outputId": "f6a28a6b-229a-4e8d-f3b6-68cf27a5ca24",
        "colab": {
          "base_uri": "https://localhost:8080/",
          "height": 479
        }
      },
      "source": [
        "autoencoder.compile(optimizer='adam', loss='mse')\n",
        "autoencoder.summary()"
      ],
      "execution_count": 28,
      "outputs": [
        {
          "output_type": "stream",
          "text": [
            "Model: \"model_3\"\n",
            "_________________________________________________________________\n",
            "Layer (type)                 Output Shape              Param #   \n",
            "=================================================================\n",
            "input_2 (InputLayer)         (None, 23)                0         \n",
            "_________________________________________________________________\n",
            "dense_3 (Dense)              (None, 48)                1152      \n",
            "_________________________________________________________________\n",
            "dense_4 (Dense)              (None, 24)                1176      \n",
            "_________________________________________________________________\n",
            "dense_5 (Dense)              (None, 12)                300       \n",
            "_________________________________________________________________\n",
            "dense_6 (Dense)              (None, 1)                 13        \n",
            "_________________________________________________________________\n",
            "dense_7 (Dense)              (None, 12)                24        \n",
            "_________________________________________________________________\n",
            "dense_8 (Dense)              (None, 24)                312       \n",
            "_________________________________________________________________\n",
            "dense_9 (Dense)              (None, 48)                1200      \n",
            "_________________________________________________________________\n",
            "dense_10 (Dense)             (None, 23)                1127      \n",
            "=================================================================\n",
            "Total params: 5,304\n",
            "Trainable params: 5,304\n",
            "Non-trainable params: 0\n",
            "_________________________________________________________________\n"
          ],
          "name": "stdout"
        }
      ]
    },
    {
      "cell_type": "code",
      "metadata": {
        "id": "1-bga4-NJO2z",
        "colab_type": "code",
        "outputId": "feeecc32-5b67-4c43-aac0-adb6411b0027",
        "colab": {
          "base_uri": "https://localhost:8080/",
          "height": 1000
        }
      },
      "source": [
        "history = autoencoder.fit(x_train, x_train,epochs = epochs,batch_size = 1024,validation_data = (x_test, x_test) )\n",
        "train_decoded = pd.DataFrame(autoencoder.predict(x_train),index=x_train.index,columns=x_train.columns)\n",
        "test_decoded = pd.DataFrame(autoencoder.predict(x_test),index=x_test.index,columns=x_test.columns)"
      ],
      "execution_count": 29,
      "outputs": [
        {
          "output_type": "stream",
          "text": [
            "Train on 4521 samples, validate on 170 samples\n",
            "Epoch 1/300\n",
            "4521/4521 [==============================] - 0s 97us/step - loss: 0.0026 - val_loss: 0.0014\n",
            "Epoch 2/300\n",
            "4521/4521 [==============================] - 0s 5us/step - loss: 0.0012 - val_loss: 6.0086e-04\n",
            "Epoch 3/300\n",
            "4521/4521 [==============================] - 0s 5us/step - loss: 6.2183e-04 - val_loss: 3.3328e-04\n",
            "Epoch 4/300\n",
            "4521/4521 [==============================] - 0s 6us/step - loss: 4.3565e-04 - val_loss: 2.5083e-04\n",
            "Epoch 5/300\n",
            "4521/4521 [==============================] - 0s 6us/step - loss: 3.7807e-04 - val_loss: 2.5942e-04\n",
            "Epoch 6/300\n",
            "4521/4521 [==============================] - 0s 5us/step - loss: 3.7289e-04 - val_loss: 2.5152e-04\n",
            "Epoch 7/300\n",
            "4521/4521 [==============================] - 0s 5us/step - loss: 3.6275e-04 - val_loss: 2.3813e-04\n",
            "Epoch 8/300\n",
            "4521/4521 [==============================] - 0s 6us/step - loss: 3.4313e-04 - val_loss: 2.1360e-04\n",
            "Epoch 9/300\n",
            "4521/4521 [==============================] - 0s 7us/step - loss: 3.2607e-04 - val_loss: 2.0781e-04\n",
            "Epoch 10/300\n",
            "4521/4521 [==============================] - 0s 5us/step - loss: 3.1822e-04 - val_loss: 1.9907e-04\n",
            "Epoch 11/300\n",
            "4521/4521 [==============================] - 0s 6us/step - loss: 3.1280e-04 - val_loss: 1.9094e-04\n",
            "Epoch 12/300\n",
            "4521/4521 [==============================] - 0s 6us/step - loss: 3.0434e-04 - val_loss: 1.7721e-04\n",
            "Epoch 13/300\n",
            "4521/4521 [==============================] - 0s 7us/step - loss: 2.9255e-04 - val_loss: 1.6634e-04\n",
            "Epoch 14/300\n",
            "4521/4521 [==============================] - 0s 7us/step - loss: 2.7853e-04 - val_loss: 1.5177e-04\n",
            "Epoch 15/300\n",
            "4521/4521 [==============================] - 0s 6us/step - loss: 2.6291e-04 - val_loss: 1.3562e-04\n",
            "Epoch 16/300\n",
            "4521/4521 [==============================] - 0s 5us/step - loss: 2.4550e-04 - val_loss: 1.1775e-04\n",
            "Epoch 17/300\n",
            "4521/4521 [==============================] - 0s 7us/step - loss: 2.2688e-04 - val_loss: 9.9947e-05\n",
            "Epoch 18/300\n",
            "4521/4521 [==============================] - 0s 6us/step - loss: 2.0815e-04 - val_loss: 8.2181e-05\n",
            "Epoch 19/300\n",
            "4521/4521 [==============================] - 0s 5us/step - loss: 1.9088e-04 - val_loss: 6.6836e-05\n",
            "Epoch 20/300\n",
            "4521/4521 [==============================] - 0s 6us/step - loss: 1.7556e-04 - val_loss: 5.5944e-05\n",
            "Epoch 21/300\n",
            "4521/4521 [==============================] - 0s 7us/step - loss: 1.6303e-04 - val_loss: 4.8259e-05\n",
            "Epoch 22/300\n",
            "4521/4521 [==============================] - 0s 6us/step - loss: 1.5363e-04 - val_loss: 4.2178e-05\n",
            "Epoch 23/300\n",
            "4521/4521 [==============================] - 0s 6us/step - loss: 1.4730e-04 - val_loss: 3.8996e-05\n",
            "Epoch 24/300\n",
            "4521/4521 [==============================] - 0s 5us/step - loss: 1.4337e-04 - val_loss: 3.9328e-05\n",
            "Epoch 25/300\n",
            "4521/4521 [==============================] - 0s 5us/step - loss: 1.4129e-04 - val_loss: 3.8127e-05\n",
            "Epoch 26/300\n",
            "4521/4521 [==============================] - 0s 6us/step - loss: 1.4021e-04 - val_loss: 3.9386e-05\n",
            "Epoch 27/300\n",
            "4521/4521 [==============================] - 0s 6us/step - loss: 1.3956e-04 - val_loss: 3.8455e-05\n",
            "Epoch 28/300\n",
            "4521/4521 [==============================] - 0s 5us/step - loss: 1.3917e-04 - val_loss: 3.8253e-05\n",
            "Epoch 29/300\n",
            "4521/4521 [==============================] - 0s 6us/step - loss: 1.3879e-04 - val_loss: 3.8490e-05\n",
            "Epoch 30/300\n",
            "4521/4521 [==============================] - 0s 5us/step - loss: 1.3847e-04 - val_loss: 3.7395e-05\n",
            "Epoch 31/300\n",
            "4521/4521 [==============================] - 0s 6us/step - loss: 1.3818e-04 - val_loss: 3.7376e-05\n",
            "Epoch 32/300\n",
            "4521/4521 [==============================] - 0s 6us/step - loss: 1.3799e-04 - val_loss: 3.7355e-05\n",
            "Epoch 33/300\n",
            "4521/4521 [==============================] - 0s 7us/step - loss: 1.3780e-04 - val_loss: 3.6864e-05\n",
            "Epoch 34/300\n",
            "4521/4521 [==============================] - 0s 6us/step - loss: 1.3767e-04 - val_loss: 3.6781e-05\n",
            "Epoch 35/300\n",
            "4521/4521 [==============================] - 0s 7us/step - loss: 1.3755e-04 - val_loss: 3.5806e-05\n",
            "Epoch 36/300\n",
            "4521/4521 [==============================] - 0s 5us/step - loss: 1.3745e-04 - val_loss: 3.6120e-05\n",
            "Epoch 37/300\n",
            "4521/4521 [==============================] - 0s 6us/step - loss: 1.3737e-04 - val_loss: 3.5833e-05\n",
            "Epoch 38/300\n",
            "4521/4521 [==============================] - 0s 5us/step - loss: 1.3731e-04 - val_loss: 3.6070e-05\n",
            "Epoch 39/300\n",
            "4521/4521 [==============================] - 0s 5us/step - loss: 1.3722e-04 - val_loss: 3.5896e-05\n",
            "Epoch 40/300\n",
            "4521/4521 [==============================] - 0s 5us/step - loss: 1.3718e-04 - val_loss: 3.6011e-05\n",
            "Epoch 41/300\n",
            "4521/4521 [==============================] - 0s 6us/step - loss: 1.3710e-04 - val_loss: 3.6539e-05\n",
            "Epoch 42/300\n",
            "4521/4521 [==============================] - 0s 7us/step - loss: 1.3708e-04 - val_loss: 3.6019e-05\n",
            "Epoch 43/300\n",
            "4521/4521 [==============================] - 0s 6us/step - loss: 1.3701e-04 - val_loss: 3.6662e-05\n",
            "Epoch 44/300\n",
            "4521/4521 [==============================] - 0s 6us/step - loss: 1.3696e-04 - val_loss: 3.5087e-05\n",
            "Epoch 45/300\n",
            "4521/4521 [==============================] - 0s 6us/step - loss: 1.3693e-04 - val_loss: 3.6050e-05\n",
            "Epoch 46/300\n",
            "4521/4521 [==============================] - 0s 6us/step - loss: 1.3686e-04 - val_loss: 3.5691e-05\n",
            "Epoch 47/300\n",
            "4521/4521 [==============================] - 0s 7us/step - loss: 1.3690e-04 - val_loss: 3.5162e-05\n",
            "Epoch 48/300\n",
            "4521/4521 [==============================] - 0s 6us/step - loss: 1.3684e-04 - val_loss: 3.7032e-05\n",
            "Epoch 49/300\n",
            "4521/4521 [==============================] - 0s 6us/step - loss: 1.3681e-04 - val_loss: 3.5983e-05\n",
            "Epoch 50/300\n",
            "4521/4521 [==============================] - 0s 7us/step - loss: 1.3682e-04 - val_loss: 3.5731e-05\n",
            "Epoch 51/300\n",
            "4521/4521 [==============================] - 0s 5us/step - loss: 1.3679e-04 - val_loss: 3.5860e-05\n",
            "Epoch 52/300\n",
            "4521/4521 [==============================] - 0s 7us/step - loss: 1.3672e-04 - val_loss: 3.5516e-05\n",
            "Epoch 53/300\n",
            "4521/4521 [==============================] - 0s 5us/step - loss: 1.3671e-04 - val_loss: 3.5522e-05\n",
            "Epoch 54/300\n",
            "4521/4521 [==============================] - 0s 5us/step - loss: 1.3670e-04 - val_loss: 3.5202e-05\n",
            "Epoch 55/300\n",
            "4521/4521 [==============================] - 0s 6us/step - loss: 1.3672e-04 - val_loss: 3.6112e-05\n",
            "Epoch 56/300\n",
            "4521/4521 [==============================] - 0s 6us/step - loss: 1.3663e-04 - val_loss: 3.5534e-05\n",
            "Epoch 57/300\n",
            "4521/4521 [==============================] - 0s 6us/step - loss: 1.3662e-04 - val_loss: 3.5358e-05\n",
            "Epoch 58/300\n",
            "4521/4521 [==============================] - 0s 5us/step - loss: 1.3660e-04 - val_loss: 3.5373e-05\n",
            "Epoch 59/300\n",
            "4521/4521 [==============================] - 0s 5us/step - loss: 1.3656e-04 - val_loss: 3.5812e-05\n",
            "Epoch 60/300\n",
            "4521/4521 [==============================] - 0s 5us/step - loss: 1.3658e-04 - val_loss: 3.5542e-05\n",
            "Epoch 61/300\n",
            "4521/4521 [==============================] - 0s 6us/step - loss: 1.3652e-04 - val_loss: 3.5695e-05\n",
            "Epoch 62/300\n",
            "4521/4521 [==============================] - 0s 6us/step - loss: 1.3650e-04 - val_loss: 3.5434e-05\n",
            "Epoch 63/300\n",
            "4521/4521 [==============================] - 0s 6us/step - loss: 1.3649e-04 - val_loss: 3.5814e-05\n",
            "Epoch 64/300\n",
            "4521/4521 [==============================] - 0s 6us/step - loss: 1.3647e-04 - val_loss: 3.5502e-05\n",
            "Epoch 65/300\n",
            "4521/4521 [==============================] - 0s 5us/step - loss: 1.3646e-04 - val_loss: 3.5526e-05\n",
            "Epoch 66/300\n",
            "4521/4521 [==============================] - 0s 5us/step - loss: 1.3645e-04 - val_loss: 3.5181e-05\n",
            "Epoch 67/300\n",
            "4521/4521 [==============================] - 0s 6us/step - loss: 1.3643e-04 - val_loss: 3.5335e-05\n",
            "Epoch 68/300\n",
            "4521/4521 [==============================] - 0s 6us/step - loss: 1.3643e-04 - val_loss: 3.5853e-05\n",
            "Epoch 69/300\n",
            "4521/4521 [==============================] - 0s 5us/step - loss: 1.3641e-04 - val_loss: 3.4728e-05\n",
            "Epoch 70/300\n",
            "4521/4521 [==============================] - 0s 5us/step - loss: 1.3646e-04 - val_loss: 3.5373e-05\n",
            "Epoch 71/300\n",
            "4521/4521 [==============================] - 0s 5us/step - loss: 1.3651e-04 - val_loss: 3.6172e-05\n",
            "Epoch 72/300\n",
            "4521/4521 [==============================] - 0s 6us/step - loss: 1.3645e-04 - val_loss: 3.5341e-05\n",
            "Epoch 73/300\n",
            "4521/4521 [==============================] - 0s 5us/step - loss: 1.3643e-04 - val_loss: 3.5134e-05\n",
            "Epoch 74/300\n",
            "4521/4521 [==============================] - 0s 4us/step - loss: 1.3640e-04 - val_loss: 3.6070e-05\n",
            "Epoch 75/300\n",
            "4521/4521 [==============================] - 0s 5us/step - loss: 1.3638e-04 - val_loss: 3.5727e-05\n",
            "Epoch 76/300\n",
            "4521/4521 [==============================] - 0s 6us/step - loss: 1.3641e-04 - val_loss: 3.5663e-05\n",
            "Epoch 77/300\n",
            "4521/4521 [==============================] - 0s 5us/step - loss: 1.3648e-04 - val_loss: 3.5607e-05\n",
            "Epoch 78/300\n",
            "4521/4521 [==============================] - 0s 6us/step - loss: 1.3641e-04 - val_loss: 3.5728e-05\n",
            "Epoch 79/300\n",
            "4521/4521 [==============================] - 0s 6us/step - loss: 1.3638e-04 - val_loss: 3.5171e-05\n",
            "Epoch 80/300\n",
            "4521/4521 [==============================] - 0s 6us/step - loss: 1.3641e-04 - val_loss: 3.6726e-05\n",
            "Epoch 81/300\n",
            "4521/4521 [==============================] - 0s 6us/step - loss: 1.3639e-04 - val_loss: 3.5678e-05\n",
            "Epoch 82/300\n",
            "4521/4521 [==============================] - 0s 8us/step - loss: 1.3634e-04 - val_loss: 3.5652e-05\n",
            "Epoch 83/300\n",
            "4521/4521 [==============================] - 0s 6us/step - loss: 1.3633e-04 - val_loss: 3.6022e-05\n",
            "Epoch 84/300\n",
            "4521/4521 [==============================] - 0s 7us/step - loss: 1.3632e-04 - val_loss: 3.5630e-05\n",
            "Epoch 85/300\n",
            "4521/4521 [==============================] - 0s 6us/step - loss: 1.3628e-04 - val_loss: 3.5638e-05\n",
            "Epoch 86/300\n",
            "4521/4521 [==============================] - 0s 5us/step - loss: 1.3632e-04 - val_loss: 3.5749e-05\n",
            "Epoch 87/300\n",
            "4521/4521 [==============================] - 0s 5us/step - loss: 1.3629e-04 - val_loss: 3.5152e-05\n",
            "Epoch 88/300\n",
            "4521/4521 [==============================] - 0s 5us/step - loss: 1.3630e-04 - val_loss: 3.6591e-05\n",
            "Epoch 89/300\n",
            "4521/4521 [==============================] - 0s 5us/step - loss: 1.3630e-04 - val_loss: 3.5979e-05\n",
            "Epoch 90/300\n",
            "4521/4521 [==============================] - 0s 7us/step - loss: 1.3627e-04 - val_loss: 3.5585e-05\n",
            "Epoch 91/300\n",
            "4521/4521 [==============================] - 0s 7us/step - loss: 1.3627e-04 - val_loss: 3.5164e-05\n",
            "Epoch 92/300\n",
            "4521/4521 [==============================] - 0s 6us/step - loss: 1.3627e-04 - val_loss: 3.5516e-05\n",
            "Epoch 93/300\n",
            "4521/4521 [==============================] - 0s 6us/step - loss: 1.3626e-04 - val_loss: 3.6126e-05\n",
            "Epoch 94/300\n",
            "4521/4521 [==============================] - 0s 5us/step - loss: 1.3631e-04 - val_loss: 3.5136e-05\n",
            "Epoch 95/300\n",
            "4521/4521 [==============================] - 0s 5us/step - loss: 1.3628e-04 - val_loss: 3.5876e-05\n",
            "Epoch 96/300\n",
            "4521/4521 [==============================] - 0s 6us/step - loss: 1.3624e-04 - val_loss: 3.5290e-05\n",
            "Epoch 97/300\n",
            "4521/4521 [==============================] - 0s 6us/step - loss: 1.3628e-04 - val_loss: 3.5400e-05\n",
            "Epoch 98/300\n",
            "4521/4521 [==============================] - 0s 6us/step - loss: 1.3626e-04 - val_loss: 3.5956e-05\n",
            "Epoch 99/300\n",
            "4521/4521 [==============================] - 0s 6us/step - loss: 1.3627e-04 - val_loss: 3.5105e-05\n",
            "Epoch 100/300\n",
            "4521/4521 [==============================] - 0s 5us/step - loss: 1.3625e-04 - val_loss: 3.5921e-05\n",
            "Epoch 101/300\n",
            "4521/4521 [==============================] - 0s 6us/step - loss: 1.3627e-04 - val_loss: 3.5236e-05\n",
            "Epoch 102/300\n",
            "4521/4521 [==============================] - 0s 5us/step - loss: 1.3628e-04 - val_loss: 3.5231e-05\n",
            "Epoch 103/300\n",
            "4521/4521 [==============================] - 0s 6us/step - loss: 1.3629e-04 - val_loss: 3.5680e-05\n",
            "Epoch 104/300\n",
            "4521/4521 [==============================] - 0s 6us/step - loss: 1.3629e-04 - val_loss: 3.4820e-05\n",
            "Epoch 105/300\n",
            "4521/4521 [==============================] - 0s 6us/step - loss: 1.3630e-04 - val_loss: 3.7102e-05\n",
            "Epoch 106/300\n",
            "4521/4521 [==============================] - 0s 6us/step - loss: 1.3634e-04 - val_loss: 3.5143e-05\n",
            "Epoch 107/300\n",
            "4521/4521 [==============================] - 0s 6us/step - loss: 1.3624e-04 - val_loss: 3.6635e-05\n",
            "Epoch 108/300\n",
            "4521/4521 [==============================] - 0s 5us/step - loss: 1.3627e-04 - val_loss: 3.5312e-05\n",
            "Epoch 109/300\n",
            "4521/4521 [==============================] - 0s 5us/step - loss: 1.3631e-04 - val_loss: 3.6462e-05\n",
            "Epoch 110/300\n",
            "4521/4521 [==============================] - 0s 5us/step - loss: 1.3635e-04 - val_loss: 3.5237e-05\n",
            "Epoch 111/300\n",
            "4521/4521 [==============================] - 0s 5us/step - loss: 1.3630e-04 - val_loss: 3.5964e-05\n",
            "Epoch 112/300\n",
            "4521/4521 [==============================] - 0s 5us/step - loss: 1.3644e-04 - val_loss: 3.5078e-05\n",
            "Epoch 113/300\n",
            "4521/4521 [==============================] - 0s 5us/step - loss: 1.3628e-04 - val_loss: 3.5822e-05\n",
            "Epoch 114/300\n",
            "4521/4521 [==============================] - 0s 5us/step - loss: 1.3631e-04 - val_loss: 3.6122e-05\n",
            "Epoch 115/300\n",
            "4521/4521 [==============================] - 0s 5us/step - loss: 1.3627e-04 - val_loss: 3.5296e-05\n",
            "Epoch 116/300\n",
            "4521/4521 [==============================] - 0s 6us/step - loss: 1.3624e-04 - val_loss: 3.6039e-05\n",
            "Epoch 117/300\n",
            "4521/4521 [==============================] - 0s 6us/step - loss: 1.3625e-04 - val_loss: 3.4801e-05\n",
            "Epoch 118/300\n",
            "4521/4521 [==============================] - 0s 5us/step - loss: 1.3624e-04 - val_loss: 3.6317e-05\n",
            "Epoch 119/300\n",
            "4521/4521 [==============================] - 0s 5us/step - loss: 1.3627e-04 - val_loss: 3.4231e-05\n",
            "Epoch 120/300\n",
            "4521/4521 [==============================] - 0s 5us/step - loss: 1.3629e-04 - val_loss: 3.6504e-05\n",
            "Epoch 121/300\n",
            "4521/4521 [==============================] - 0s 5us/step - loss: 1.3630e-04 - val_loss: 3.4988e-05\n",
            "Epoch 122/300\n",
            "4521/4521 [==============================] - 0s 5us/step - loss: 1.3625e-04 - val_loss: 3.6046e-05\n",
            "Epoch 123/300\n",
            "4521/4521 [==============================] - 0s 6us/step - loss: 1.3623e-04 - val_loss: 3.5355e-05\n",
            "Epoch 124/300\n",
            "4521/4521 [==============================] - 0s 5us/step - loss: 1.3631e-04 - val_loss: 3.5671e-05\n",
            "Epoch 125/300\n",
            "4521/4521 [==============================] - 0s 5us/step - loss: 1.3637e-04 - val_loss: 3.5720e-05\n",
            "Epoch 126/300\n",
            "4521/4521 [==============================] - 0s 5us/step - loss: 1.3633e-04 - val_loss: 3.5988e-05\n",
            "Epoch 127/300\n",
            "4521/4521 [==============================] - 0s 5us/step - loss: 1.3632e-04 - val_loss: 3.5520e-05\n",
            "Epoch 128/300\n",
            "4521/4521 [==============================] - 0s 5us/step - loss: 1.3630e-04 - val_loss: 3.4809e-05\n",
            "Epoch 129/300\n",
            "4521/4521 [==============================] - 0s 5us/step - loss: 1.3626e-04 - val_loss: 3.6258e-05\n",
            "Epoch 130/300\n",
            "4521/4521 [==============================] - 0s 5us/step - loss: 1.3622e-04 - val_loss: 3.4708e-05\n",
            "Epoch 131/300\n",
            "4521/4521 [==============================] - 0s 6us/step - loss: 1.3627e-04 - val_loss: 3.5836e-05\n",
            "Epoch 132/300\n",
            "4521/4521 [==============================] - 0s 5us/step - loss: 1.3625e-04 - val_loss: 3.5067e-05\n",
            "Epoch 133/300\n",
            "4521/4521 [==============================] - 0s 5us/step - loss: 1.3629e-04 - val_loss: 3.4670e-05\n",
            "Epoch 134/300\n",
            "4521/4521 [==============================] - 0s 5us/step - loss: 1.3627e-04 - val_loss: 3.5895e-05\n",
            "Epoch 135/300\n",
            "4521/4521 [==============================] - 0s 6us/step - loss: 1.3627e-04 - val_loss: 3.4801e-05\n",
            "Epoch 136/300\n",
            "4521/4521 [==============================] - 0s 7us/step - loss: 1.3624e-04 - val_loss: 3.5937e-05\n",
            "Epoch 137/300\n",
            "4521/4521 [==============================] - 0s 5us/step - loss: 1.3631e-04 - val_loss: 3.4960e-05\n",
            "Epoch 138/300\n",
            "4521/4521 [==============================] - 0s 6us/step - loss: 1.3627e-04 - val_loss: 3.4914e-05\n",
            "Epoch 139/300\n",
            "4521/4521 [==============================] - 0s 5us/step - loss: 1.3627e-04 - val_loss: 3.5260e-05\n",
            "Epoch 140/300\n",
            "4521/4521 [==============================] - 0s 5us/step - loss: 1.3623e-04 - val_loss: 3.5559e-05\n",
            "Epoch 141/300\n",
            "4521/4521 [==============================] - 0s 5us/step - loss: 1.3626e-04 - val_loss: 3.5905e-05\n",
            "Epoch 142/300\n",
            "4521/4521 [==============================] - 0s 5us/step - loss: 1.3624e-04 - val_loss: 3.5580e-05\n",
            "Epoch 143/300\n",
            "4521/4521 [==============================] - 0s 5us/step - loss: 1.3621e-04 - val_loss: 3.4909e-05\n",
            "Epoch 144/300\n",
            "4521/4521 [==============================] - 0s 6us/step - loss: 1.3623e-04 - val_loss: 3.4816e-05\n",
            "Epoch 145/300\n",
            "4521/4521 [==============================] - 0s 6us/step - loss: 1.3624e-04 - val_loss: 3.5362e-05\n",
            "Epoch 146/300\n",
            "4521/4521 [==============================] - 0s 6us/step - loss: 1.3618e-04 - val_loss: 3.5562e-05\n",
            "Epoch 147/300\n",
            "4521/4521 [==============================] - 0s 5us/step - loss: 1.3620e-04 - val_loss: 3.4945e-05\n",
            "Epoch 148/300\n",
            "4521/4521 [==============================] - 0s 5us/step - loss: 1.3620e-04 - val_loss: 3.5503e-05\n",
            "Epoch 149/300\n",
            "4521/4521 [==============================] - 0s 5us/step - loss: 1.3623e-04 - val_loss: 3.5854e-05\n",
            "Epoch 150/300\n",
            "4521/4521 [==============================] - 0s 5us/step - loss: 1.3633e-04 - val_loss: 3.4131e-05\n",
            "Epoch 151/300\n",
            "4521/4521 [==============================] - 0s 5us/step - loss: 1.3631e-04 - val_loss: 3.5858e-05\n",
            "Epoch 152/300\n",
            "4521/4521 [==============================] - 0s 5us/step - loss: 1.3624e-04 - val_loss: 3.4478e-05\n",
            "Epoch 153/300\n",
            "4521/4521 [==============================] - 0s 5us/step - loss: 1.3633e-04 - val_loss: 3.5757e-05\n",
            "Epoch 154/300\n",
            "4521/4521 [==============================] - 0s 5us/step - loss: 1.3629e-04 - val_loss: 3.6463e-05\n",
            "Epoch 155/300\n",
            "4521/4521 [==============================] - 0s 6us/step - loss: 1.3625e-04 - val_loss: 3.4316e-05\n",
            "Epoch 156/300\n",
            "4521/4521 [==============================] - 0s 7us/step - loss: 1.3632e-04 - val_loss: 3.6274e-05\n",
            "Epoch 157/300\n",
            "4521/4521 [==============================] - 0s 5us/step - loss: 1.3620e-04 - val_loss: 3.5691e-05\n",
            "Epoch 158/300\n",
            "4521/4521 [==============================] - 0s 5us/step - loss: 1.3625e-04 - val_loss: 3.6473e-05\n",
            "Epoch 159/300\n",
            "4521/4521 [==============================] - 0s 5us/step - loss: 1.3627e-04 - val_loss: 3.5443e-05\n",
            "Epoch 160/300\n",
            "4521/4521 [==============================] - 0s 5us/step - loss: 1.3624e-04 - val_loss: 3.5693e-05\n",
            "Epoch 161/300\n",
            "4521/4521 [==============================] - 0s 5us/step - loss: 1.3623e-04 - val_loss: 3.5659e-05\n",
            "Epoch 162/300\n",
            "4521/4521 [==============================] - 0s 5us/step - loss: 1.3622e-04 - val_loss: 3.6238e-05\n",
            "Epoch 163/300\n",
            "4521/4521 [==============================] - 0s 5us/step - loss: 1.3621e-04 - val_loss: 3.4727e-05\n",
            "Epoch 164/300\n",
            "4521/4521 [==============================] - 0s 5us/step - loss: 1.3625e-04 - val_loss: 3.4743e-05\n",
            "Epoch 165/300\n",
            "4521/4521 [==============================] - 0s 7us/step - loss: 1.3629e-04 - val_loss: 3.6041e-05\n",
            "Epoch 166/300\n",
            "4521/4521 [==============================] - 0s 6us/step - loss: 1.3622e-04 - val_loss: 3.4777e-05\n",
            "Epoch 167/300\n",
            "4521/4521 [==============================] - 0s 6us/step - loss: 1.3628e-04 - val_loss: 3.5318e-05\n",
            "Epoch 168/300\n",
            "4521/4521 [==============================] - 0s 7us/step - loss: 1.3625e-04 - val_loss: 3.5249e-05\n",
            "Epoch 169/300\n",
            "4521/4521 [==============================] - 0s 6us/step - loss: 1.3622e-04 - val_loss: 3.5956e-05\n",
            "Epoch 170/300\n",
            "4521/4521 [==============================] - 0s 5us/step - loss: 1.3631e-04 - val_loss: 3.5062e-05\n",
            "Epoch 171/300\n",
            "4521/4521 [==============================] - 0s 5us/step - loss: 1.3626e-04 - val_loss: 3.5388e-05\n",
            "Epoch 172/300\n",
            "4521/4521 [==============================] - 0s 5us/step - loss: 1.3627e-04 - val_loss: 3.5884e-05\n",
            "Epoch 173/300\n",
            "4521/4521 [==============================] - 0s 6us/step - loss: 1.3631e-04 - val_loss: 3.5087e-05\n",
            "Epoch 174/300\n",
            "4521/4521 [==============================] - 0s 7us/step - loss: 1.3625e-04 - val_loss: 3.5277e-05\n",
            "Epoch 175/300\n",
            "4521/4521 [==============================] - 0s 6us/step - loss: 1.3618e-04 - val_loss: 3.5917e-05\n",
            "Epoch 176/300\n",
            "4521/4521 [==============================] - 0s 6us/step - loss: 1.3621e-04 - val_loss: 3.5397e-05\n",
            "Epoch 177/300\n",
            "4521/4521 [==============================] - 0s 6us/step - loss: 1.3625e-04 - val_loss: 3.5162e-05\n",
            "Epoch 178/300\n",
            "4521/4521 [==============================] - 0s 6us/step - loss: 1.3628e-04 - val_loss: 3.6100e-05\n",
            "Epoch 179/300\n",
            "4521/4521 [==============================] - 0s 5us/step - loss: 1.3629e-04 - val_loss: 3.5579e-05\n",
            "Epoch 180/300\n",
            "4521/4521 [==============================] - 0s 7us/step - loss: 1.3624e-04 - val_loss: 3.5766e-05\n",
            "Epoch 181/300\n",
            "4521/4521 [==============================] - 0s 5us/step - loss: 1.3623e-04 - val_loss: 3.5497e-05\n",
            "Epoch 182/300\n",
            "4521/4521 [==============================] - 0s 8us/step - loss: 1.3622e-04 - val_loss: 3.5213e-05\n",
            "Epoch 183/300\n",
            "4521/4521 [==============================] - 0s 6us/step - loss: 1.3620e-04 - val_loss: 3.6039e-05\n",
            "Epoch 184/300\n",
            "4521/4521 [==============================] - 0s 6us/step - loss: 1.3621e-04 - val_loss: 3.5037e-05\n",
            "Epoch 185/300\n",
            "4521/4521 [==============================] - 0s 5us/step - loss: 1.3620e-04 - val_loss: 3.6070e-05\n",
            "Epoch 186/300\n",
            "4521/4521 [==============================] - 0s 6us/step - loss: 1.3627e-04 - val_loss: 3.5414e-05\n",
            "Epoch 187/300\n",
            "4521/4521 [==============================] - 0s 6us/step - loss: 1.3626e-04 - val_loss: 3.5299e-05\n",
            "Epoch 188/300\n",
            "4521/4521 [==============================] - 0s 5us/step - loss: 1.3627e-04 - val_loss: 3.6142e-05\n",
            "Epoch 189/300\n",
            "4521/4521 [==============================] - 0s 7us/step - loss: 1.3623e-04 - val_loss: 3.4492e-05\n",
            "Epoch 190/300\n",
            "4521/4521 [==============================] - 0s 6us/step - loss: 1.3622e-04 - val_loss: 3.6002e-05\n",
            "Epoch 191/300\n",
            "4521/4521 [==============================] - 0s 6us/step - loss: 1.3621e-04 - val_loss: 3.5447e-05\n",
            "Epoch 192/300\n",
            "4521/4521 [==============================] - 0s 6us/step - loss: 1.3630e-04 - val_loss: 3.5659e-05\n",
            "Epoch 193/300\n",
            "4521/4521 [==============================] - 0s 6us/step - loss: 1.3625e-04 - val_loss: 3.5626e-05\n",
            "Epoch 194/300\n",
            "4521/4521 [==============================] - 0s 6us/step - loss: 1.3623e-04 - val_loss: 3.5039e-05\n",
            "Epoch 195/300\n",
            "4521/4521 [==============================] - 0s 6us/step - loss: 1.3621e-04 - val_loss: 3.6271e-05\n",
            "Epoch 196/300\n",
            "4521/4521 [==============================] - 0s 5us/step - loss: 1.3627e-04 - val_loss: 3.5581e-05\n",
            "Epoch 197/300\n",
            "4521/4521 [==============================] - 0s 6us/step - loss: 1.3620e-04 - val_loss: 3.5698e-05\n",
            "Epoch 198/300\n",
            "4521/4521 [==============================] - 0s 6us/step - loss: 1.3625e-04 - val_loss: 3.6855e-05\n",
            "Epoch 199/300\n",
            "4521/4521 [==============================] - 0s 6us/step - loss: 1.3631e-04 - val_loss: 3.4830e-05\n",
            "Epoch 200/300\n",
            "4521/4521 [==============================] - 0s 5us/step - loss: 1.3631e-04 - val_loss: 3.5550e-05\n",
            "Epoch 201/300\n",
            "4521/4521 [==============================] - 0s 6us/step - loss: 1.3628e-04 - val_loss: 3.5627e-05\n",
            "Epoch 202/300\n",
            "4521/4521 [==============================] - 0s 7us/step - loss: 1.3627e-04 - val_loss: 3.5220e-05\n",
            "Epoch 203/300\n",
            "4521/4521 [==============================] - 0s 5us/step - loss: 1.3626e-04 - val_loss: 3.5052e-05\n",
            "Epoch 204/300\n",
            "4521/4521 [==============================] - 0s 6us/step - loss: 1.3623e-04 - val_loss: 3.5322e-05\n",
            "Epoch 205/300\n",
            "4521/4521 [==============================] - 0s 6us/step - loss: 1.3632e-04 - val_loss: 3.5262e-05\n",
            "Epoch 206/300\n",
            "4521/4521 [==============================] - 0s 7us/step - loss: 1.3625e-04 - val_loss: 3.5598e-05\n",
            "Epoch 207/300\n",
            "4521/4521 [==============================] - 0s 6us/step - loss: 1.3632e-04 - val_loss: 3.4496e-05\n",
            "Epoch 208/300\n",
            "4521/4521 [==============================] - 0s 5us/step - loss: 1.3625e-04 - val_loss: 3.6665e-05\n",
            "Epoch 209/300\n",
            "4521/4521 [==============================] - 0s 5us/step - loss: 1.3628e-04 - val_loss: 3.5962e-05\n",
            "Epoch 210/300\n",
            "4521/4521 [==============================] - 0s 5us/step - loss: 1.3619e-04 - val_loss: 3.5404e-05\n",
            "Epoch 211/300\n",
            "4521/4521 [==============================] - 0s 6us/step - loss: 1.3626e-04 - val_loss: 3.5364e-05\n",
            "Epoch 212/300\n",
            "4521/4521 [==============================] - 0s 6us/step - loss: 1.3628e-04 - val_loss: 3.6336e-05\n",
            "Epoch 213/300\n",
            "4521/4521 [==============================] - 0s 6us/step - loss: 1.3630e-04 - val_loss: 3.6884e-05\n",
            "Epoch 214/300\n",
            "4521/4521 [==============================] - 0s 6us/step - loss: 1.3627e-04 - val_loss: 3.3923e-05\n",
            "Epoch 215/300\n",
            "4521/4521 [==============================] - 0s 7us/step - loss: 1.3656e-04 - val_loss: 3.6608e-05\n",
            "Epoch 216/300\n",
            "4521/4521 [==============================] - 0s 6us/step - loss: 1.3639e-04 - val_loss: 3.6235e-05\n",
            "Epoch 217/300\n",
            "4521/4521 [==============================] - 0s 6us/step - loss: 1.3634e-04 - val_loss: 3.5195e-05\n",
            "Epoch 218/300\n",
            "4521/4521 [==============================] - 0s 6us/step - loss: 1.3632e-04 - val_loss: 3.5636e-05\n",
            "Epoch 219/300\n",
            "4521/4521 [==============================] - 0s 6us/step - loss: 1.3633e-04 - val_loss: 3.5233e-05\n",
            "Epoch 220/300\n",
            "4521/4521 [==============================] - 0s 6us/step - loss: 1.3632e-04 - val_loss: 3.6562e-05\n",
            "Epoch 221/300\n",
            "4521/4521 [==============================] - 0s 5us/step - loss: 1.3627e-04 - val_loss: 3.6091e-05\n",
            "Epoch 222/300\n",
            "4521/4521 [==============================] - 0s 5us/step - loss: 1.3630e-04 - val_loss: 3.6823e-05\n",
            "Epoch 223/300\n",
            "4521/4521 [==============================] - 0s 7us/step - loss: 1.3626e-04 - val_loss: 3.6024e-05\n",
            "Epoch 224/300\n",
            "4521/4521 [==============================] - 0s 6us/step - loss: 1.3637e-04 - val_loss: 3.4663e-05\n",
            "Epoch 225/300\n",
            "4521/4521 [==============================] - 0s 6us/step - loss: 1.3633e-04 - val_loss: 3.6045e-05\n",
            "Epoch 226/300\n",
            "4521/4521 [==============================] - 0s 6us/step - loss: 1.3626e-04 - val_loss: 3.5117e-05\n",
            "Epoch 227/300\n",
            "4521/4521 [==============================] - 0s 6us/step - loss: 1.3635e-04 - val_loss: 3.6059e-05\n",
            "Epoch 228/300\n",
            "4521/4521 [==============================] - 0s 7us/step - loss: 1.3635e-04 - val_loss: 3.6692e-05\n",
            "Epoch 229/300\n",
            "4521/4521 [==============================] - 0s 5us/step - loss: 1.3627e-04 - val_loss: 3.5305e-05\n",
            "Epoch 230/300\n",
            "4521/4521 [==============================] - 0s 5us/step - loss: 1.3631e-04 - val_loss: 3.7061e-05\n",
            "Epoch 231/300\n",
            "4521/4521 [==============================] - 0s 7us/step - loss: 1.3629e-04 - val_loss: 3.6819e-05\n",
            "Epoch 232/300\n",
            "4521/4521 [==============================] - 0s 6us/step - loss: 1.3625e-04 - val_loss: 3.4144e-05\n",
            "Epoch 233/300\n",
            "4521/4521 [==============================] - 0s 5us/step - loss: 1.3627e-04 - val_loss: 3.5806e-05\n",
            "Epoch 234/300\n",
            "4521/4521 [==============================] - 0s 6us/step - loss: 1.3623e-04 - val_loss: 3.6163e-05\n",
            "Epoch 235/300\n",
            "4521/4521 [==============================] - 0s 7us/step - loss: 1.3625e-04 - val_loss: 3.5090e-05\n",
            "Epoch 236/300\n",
            "4521/4521 [==============================] - 0s 6us/step - loss: 1.3625e-04 - val_loss: 3.5954e-05\n",
            "Epoch 237/300\n",
            "4521/4521 [==============================] - 0s 5us/step - loss: 1.3633e-04 - val_loss: 3.6820e-05\n",
            "Epoch 238/300\n",
            "4521/4521 [==============================] - 0s 6us/step - loss: 1.3626e-04 - val_loss: 3.5166e-05\n",
            "Epoch 239/300\n",
            "4521/4521 [==============================] - 0s 5us/step - loss: 1.3636e-04 - val_loss: 3.4999e-05\n",
            "Epoch 240/300\n",
            "4521/4521 [==============================] - 0s 5us/step - loss: 1.3631e-04 - val_loss: 3.7441e-05\n",
            "Epoch 241/300\n",
            "4521/4521 [==============================] - 0s 5us/step - loss: 1.3640e-04 - val_loss: 3.5711e-05\n",
            "Epoch 242/300\n",
            "4521/4521 [==============================] - 0s 5us/step - loss: 1.3629e-04 - val_loss: 3.4807e-05\n",
            "Epoch 243/300\n",
            "4521/4521 [==============================] - 0s 6us/step - loss: 1.3625e-04 - val_loss: 3.5943e-05\n",
            "Epoch 244/300\n",
            "4521/4521 [==============================] - 0s 5us/step - loss: 1.3624e-04 - val_loss: 3.5824e-05\n",
            "Epoch 245/300\n",
            "4521/4521 [==============================] - 0s 5us/step - loss: 1.3639e-04 - val_loss: 3.5834e-05\n",
            "Epoch 246/300\n",
            "4521/4521 [==============================] - 0s 5us/step - loss: 1.3641e-04 - val_loss: 3.4431e-05\n",
            "Epoch 247/300\n",
            "4521/4521 [==============================] - 0s 5us/step - loss: 1.3630e-04 - val_loss: 3.6382e-05\n",
            "Epoch 248/300\n",
            "4521/4521 [==============================] - 0s 7us/step - loss: 1.3630e-04 - val_loss: 3.6054e-05\n",
            "Epoch 249/300\n",
            "4521/4521 [==============================] - 0s 6us/step - loss: 1.3624e-04 - val_loss: 3.5761e-05\n",
            "Epoch 250/300\n",
            "4521/4521 [==============================] - 0s 6us/step - loss: 1.3624e-04 - val_loss: 3.5985e-05\n",
            "Epoch 251/300\n",
            "4521/4521 [==============================] - 0s 6us/step - loss: 1.3621e-04 - val_loss: 3.5158e-05\n",
            "Epoch 252/300\n",
            "4521/4521 [==============================] - 0s 5us/step - loss: 1.3626e-04 - val_loss: 3.5835e-05\n",
            "Epoch 253/300\n",
            "4521/4521 [==============================] - 0s 5us/step - loss: 1.3626e-04 - val_loss: 3.5756e-05\n",
            "Epoch 254/300\n",
            "4521/4521 [==============================] - 0s 5us/step - loss: 1.3630e-04 - val_loss: 3.5517e-05\n",
            "Epoch 255/300\n",
            "4521/4521 [==============================] - 0s 5us/step - loss: 1.3638e-04 - val_loss: 3.5104e-05\n",
            "Epoch 256/300\n",
            "4521/4521 [==============================] - 0s 6us/step - loss: 1.3633e-04 - val_loss: 3.4919e-05\n",
            "Epoch 257/300\n",
            "4521/4521 [==============================] - 0s 6us/step - loss: 1.3632e-04 - val_loss: 3.6244e-05\n",
            "Epoch 258/300\n",
            "4521/4521 [==============================] - 0s 5us/step - loss: 1.3632e-04 - val_loss: 3.6104e-05\n",
            "Epoch 259/300\n",
            "4521/4521 [==============================] - 0s 5us/step - loss: 1.3628e-04 - val_loss: 3.5035e-05\n",
            "Epoch 260/300\n",
            "4521/4521 [==============================] - 0s 5us/step - loss: 1.3639e-04 - val_loss: 3.4961e-05\n",
            "Epoch 261/300\n",
            "4521/4521 [==============================] - 0s 5us/step - loss: 1.3627e-04 - val_loss: 3.5803e-05\n",
            "Epoch 262/300\n",
            "4521/4521 [==============================] - 0s 5us/step - loss: 1.3622e-04 - val_loss: 3.6703e-05\n",
            "Epoch 263/300\n",
            "4521/4521 [==============================] - 0s 5us/step - loss: 1.3621e-04 - val_loss: 3.4630e-05\n",
            "Epoch 264/300\n",
            "4521/4521 [==============================] - 0s 5us/step - loss: 1.3626e-04 - val_loss: 3.5776e-05\n",
            "Epoch 265/300\n",
            "4521/4521 [==============================] - 0s 5us/step - loss: 1.3622e-04 - val_loss: 3.6396e-05\n",
            "Epoch 266/300\n",
            "4521/4521 [==============================] - 0s 6us/step - loss: 1.3623e-04 - val_loss: 3.4783e-05\n",
            "Epoch 267/300\n",
            "4521/4521 [==============================] - 0s 5us/step - loss: 1.3626e-04 - val_loss: 3.5383e-05\n",
            "Epoch 268/300\n",
            "4521/4521 [==============================] - 0s 6us/step - loss: 1.3624e-04 - val_loss: 3.7058e-05\n",
            "Epoch 269/300\n",
            "4521/4521 [==============================] - 0s 5us/step - loss: 1.3623e-04 - val_loss: 3.5234e-05\n",
            "Epoch 270/300\n",
            "4521/4521 [==============================] - 0s 5us/step - loss: 1.3626e-04 - val_loss: 3.5932e-05\n",
            "Epoch 271/300\n",
            "4521/4521 [==============================] - 0s 6us/step - loss: 1.3628e-04 - val_loss: 3.6314e-05\n",
            "Epoch 272/300\n",
            "4521/4521 [==============================] - 0s 5us/step - loss: 1.3631e-04 - val_loss: 3.5279e-05\n",
            "Epoch 273/300\n",
            "4521/4521 [==============================] - 0s 5us/step - loss: 1.3641e-04 - val_loss: 3.6811e-05\n",
            "Epoch 274/300\n",
            "4521/4521 [==============================] - 0s 5us/step - loss: 1.3641e-04 - val_loss: 3.5678e-05\n",
            "Epoch 275/300\n",
            "4521/4521 [==============================] - 0s 6us/step - loss: 1.3620e-04 - val_loss: 3.6048e-05\n",
            "Epoch 276/300\n",
            "4521/4521 [==============================] - 0s 6us/step - loss: 1.3623e-04 - val_loss: 3.4812e-05\n",
            "Epoch 277/300\n",
            "4521/4521 [==============================] - 0s 8us/step - loss: 1.3629e-04 - val_loss: 3.6913e-05\n",
            "Epoch 278/300\n",
            "4521/4521 [==============================] - 0s 6us/step - loss: 1.3632e-04 - val_loss: 3.6386e-05\n",
            "Epoch 279/300\n",
            "4521/4521 [==============================] - 0s 6us/step - loss: 1.3624e-04 - val_loss: 3.5026e-05\n",
            "Epoch 280/300\n",
            "4521/4521 [==============================] - 0s 5us/step - loss: 1.3618e-04 - val_loss: 3.4944e-05\n",
            "Epoch 281/300\n",
            "4521/4521 [==============================] - 0s 5us/step - loss: 1.3623e-04 - val_loss: 3.6745e-05\n",
            "Epoch 282/300\n",
            "4521/4521 [==============================] - 0s 5us/step - loss: 1.3634e-04 - val_loss: 3.6567e-05\n",
            "Epoch 283/300\n",
            "4521/4521 [==============================] - 0s 5us/step - loss: 1.3637e-04 - val_loss: 3.5352e-05\n",
            "Epoch 284/300\n",
            "4521/4521 [==============================] - 0s 6us/step - loss: 1.3631e-04 - val_loss: 3.4830e-05\n",
            "Epoch 285/300\n",
            "4521/4521 [==============================] - 0s 5us/step - loss: 1.3635e-04 - val_loss: 3.4929e-05\n",
            "Epoch 286/300\n",
            "4521/4521 [==============================] - 0s 5us/step - loss: 1.3632e-04 - val_loss: 3.6097e-05\n",
            "Epoch 287/300\n",
            "4521/4521 [==============================] - 0s 5us/step - loss: 1.3635e-04 - val_loss: 3.3985e-05\n",
            "Epoch 288/300\n",
            "4521/4521 [==============================] - 0s 5us/step - loss: 1.3631e-04 - val_loss: 3.7803e-05\n",
            "Epoch 289/300\n",
            "4521/4521 [==============================] - 0s 5us/step - loss: 1.3640e-04 - val_loss: 3.7005e-05\n",
            "Epoch 290/300\n",
            "4521/4521 [==============================] - 0s 5us/step - loss: 1.3627e-04 - val_loss: 3.4624e-05\n",
            "Epoch 291/300\n",
            "4521/4521 [==============================] - 0s 5us/step - loss: 1.3631e-04 - val_loss: 3.5559e-05\n",
            "Epoch 292/300\n",
            "4521/4521 [==============================] - 0s 5us/step - loss: 1.3627e-04 - val_loss: 3.5439e-05\n",
            "Epoch 293/300\n",
            "4521/4521 [==============================] - 0s 6us/step - loss: 1.3635e-04 - val_loss: 3.7504e-05\n",
            "Epoch 294/300\n",
            "4521/4521 [==============================] - 0s 5us/step - loss: 1.3660e-04 - val_loss: 3.4346e-05\n",
            "Epoch 295/300\n",
            "4521/4521 [==============================] - 0s 6us/step - loss: 1.3641e-04 - val_loss: 3.5445e-05\n",
            "Epoch 296/300\n",
            "4521/4521 [==============================] - 0s 8us/step - loss: 1.3639e-04 - val_loss: 3.5667e-05\n",
            "Epoch 297/300\n",
            "4521/4521 [==============================] - 0s 6us/step - loss: 1.3639e-04 - val_loss: 3.5589e-05\n",
            "Epoch 298/300\n",
            "4521/4521 [==============================] - 0s 5us/step - loss: 1.3643e-04 - val_loss: 3.8004e-05\n",
            "Epoch 299/300\n",
            "4521/4521 [==============================] - 0s 6us/step - loss: 1.3665e-04 - val_loss: 3.5010e-05\n",
            "Epoch 300/300\n",
            "4521/4521 [==============================] - 0s 5us/step - loss: 1.3667e-04 - val_loss: 3.6655e-05\n"
          ],
          "name": "stdout"
        }
      ]
    },
    {
      "cell_type": "code",
      "metadata": {
        "id": "0GR0qTYVOSM0",
        "colab_type": "code",
        "outputId": "a61f6db6-a44e-4208-8843-c4fd4da5b97c",
        "colab": {
          "base_uri": "https://localhost:8080/",
          "height": 283
        }
      },
      "source": [
        "plt.plot(autoencoder.history.history['loss'],label='loss')\n",
        "plt.plot(autoencoder.history.history['val_loss'],label='val_loss')\n",
        "plt.legend()"
      ],
      "execution_count": 30,
      "outputs": [
        {
          "output_type": "execute_result",
          "data": {
            "text/plain": [
              "<matplotlib.legend.Legend at 0x7fe7f13c68d0>"
            ]
          },
          "metadata": {
            "tags": []
          },
          "execution_count": 30
        },
        {
          "output_type": "display_data",
          "data": {
            "image/png": "[encoded data removed]",
            "text/plain": [
              "<Figure size 432x288 with 1 Axes>"
            ]
          },
          "metadata": {
            "tags": []
          }
        }
      ]
    },
    {
      "cell_type": "code",
      "metadata": {
        "id": "dG4HLAuPmMK-",
        "colab_type": "code",
        "outputId": "a9f03f98-17aa-4eb9-fcb9-8822eb68a809",
        "colab": {
          "base_uri": "https://localhost:8080/",
          "height": 221
        }
      },
      "source": [
        "plot_examples(x_train,train_decoded)"
      ],
      "execution_count": 31,
      "outputs": [
        {
          "output_type": "display_data",
          "data": {
            "image/png": "[encoded data removed]",
            "text/plain": [
              "<Figure size 1440x360 with 10 Axes>"
            ]
          },
          "metadata": {
            "tags": []
          }
        }
      ]
    },
    {
      "cell_type": "code",
      "metadata": {
        "id": "c2iYnWKwNgox",
        "colab_type": "code",
        "outputId": "374f5fb5-12f9-43c6-ed7f-0498544f2e80",
        "colab": {
          "base_uri": "https://localhost:8080/",
          "height": 221
        }
      },
      "source": [
        "plot_examples(x_test,test_decoded)"
      ],
      "execution_count": 32,
      "outputs": [
        {
          "output_type": "display_data",
          "data": {
            "image/png": "[encoded data removed]",
            "text/plain": [
              "<Figure size 1440x360 with 10 Axes>"
            ]
          },
          "metadata": {
            "tags": []
          }
        }
      ]
    },
    {
      "cell_type": "code",
      "metadata": {
        "id": "TmqqLGacOAg8",
        "colab_type": "code",
        "outputId": "5aed99bf-a26c-44c5-8b15-9f79cfc9f904",
        "colab": {
          "base_uri": "https://localhost:8080/",
          "height": 76
        }
      },
      "source": [
        "metric(x_train,train_decoded)"
      ],
      "execution_count": 33,
      "outputs": [
        {
          "output_type": "execute_result",
          "data": {
            "text/html": [
              "<div>\n",
              "<style scoped>\n",
              "    .dataframe tbody tr th:only-of-type {\n",
              "        vertical-align: middle;\n",
              "    }\n",
              "\n",
              "    .dataframe tbody tr th {\n",
              "        vertical-align: top;\n",
              "    }\n",
              "\n",
              "    .dataframe thead th {\n",
              "        text-align: right;\n",
              "    }\n",
              "</style>\n",
              "<table border=\"1\" class=\"dataframe\">\n",
              "  <thead>\n",
              "    <tr style=\"text-align: right;\">\n",
              "      <th></th>\n",
              "      <th>R2</th>\n",
              "      <th>RMSE</th>\n",
              "      <th>RMSE%</th>\n",
              "    </tr>\n",
              "  </thead>\n",
              "  <tbody>\n",
              "    <tr>\n",
              "      <th>score</th>\n",
              "      <td>0.377858</td>\n",
              "      <td>0.011703</td>\n",
              "      <td>NaN</td>\n",
              "    </tr>\n",
              "  </tbody>\n",
              "</table>\n",
              "</div>"
            ],
            "text/plain": [
              "             R2      RMSE  RMSE%\n",
              "score  0.377858  0.011703    NaN"
            ]
          },
          "metadata": {
            "tags": []
          },
          "execution_count": 33
        }
      ]
    },
    {
      "cell_type": "code",
      "metadata": {
        "id": "X2rjK1BAOAmb",
        "colab_type": "code",
        "outputId": "029a10bd-872d-4878-a9d6-e13a0ea8d993",
        "colab": {
          "base_uri": "https://localhost:8080/",
          "height": 76
        }
      },
      "source": [
        "metric(x_test,test_decoded)"
      ],
      "execution_count": 34,
      "outputs": [
        {
          "output_type": "execute_result",
          "data": {
            "text/html": [
              "<div>\n",
              "<style scoped>\n",
              "    .dataframe tbody tr th:only-of-type {\n",
              "        vertical-align: middle;\n",
              "    }\n",
              "\n",
              "    .dataframe tbody tr th {\n",
              "        vertical-align: top;\n",
              "    }\n",
              "\n",
              "    .dataframe thead th {\n",
              "        text-align: right;\n",
              "    }\n",
              "</style>\n",
              "<table border=\"1\" class=\"dataframe\">\n",
              "  <thead>\n",
              "    <tr style=\"text-align: right;\">\n",
              "      <th></th>\n",
              "      <th>R2</th>\n",
              "      <th>RMSE</th>\n",
              "      <th>RMSE%</th>\n",
              "    </tr>\n",
              "  </thead>\n",
              "  <tbody>\n",
              "    <tr>\n",
              "      <th>score</th>\n",
              "      <td>0.283996</td>\n",
              "      <td>0.006054</td>\n",
              "      <td>NaN</td>\n",
              "    </tr>\n",
              "  </tbody>\n",
              "</table>\n",
              "</div>"
            ],
            "text/plain": [
              "             R2      RMSE  RMSE%\n",
              "score  0.283996  0.006054    NaN"
            ]
          },
          "metadata": {
            "tags": []
          },
          "execution_count": 34
        }
      ]
    },
    {
      "cell_type": "markdown",
      "metadata": {
        "id": "Q1iucY_iObKV",
        "colab_type": "text"
      },
      "source": [
        "# 精隨可視化"
      ]
    },
    {
      "cell_type": "code",
      "metadata": {
        "id": "eyneADKiObS8",
        "colab_type": "code",
        "outputId": "635bbbc0-db65-4189-8ae5-a260bf49f7bd",
        "colab": {
          "base_uri": "https://localhost:8080/",
          "height": 283
        }
      },
      "source": [
        "train['精隨'] = encoder.predict(x_train)\n",
        "plt.scatter(x_train.index,train['精隨'])"
      ],
      "execution_count": 35,
      "outputs": [
        {
          "output_type": "execute_result",
          "data": {
            "text/plain": [
              "<matplotlib.collections.PathCollection at 0x7fe7f9d3c4e0>"
            ]
          },
          "metadata": {
            "tags": []
          },
          "execution_count": 35
        },
        {
          "output_type": "display_data",
          "data": {
            "image/png": "[encoded data removed]",
            "text/plain": [
              "<Figure size 432x288 with 1 Axes>"
            ]
          },
          "metadata": {
            "tags": []
          }
        }
      ]
    },
    {
      "cell_type": "code",
      "metadata": {
        "id": "gFwJtokOmaEn",
        "colab_type": "code",
        "outputId": "4a27e6b7-fe17-4639-b82f-ff5fbf7d4b64",
        "colab": {
          "base_uri": "https://localhost:8080/",
          "height": 283
        }
      },
      "source": [
        "test['精隨'] = encoder.predict(x_test)\n",
        "plt.scatter(x_test.index,test['精隨'])"
      ],
      "execution_count": 36,
      "outputs": [
        {
          "output_type": "execute_result",
          "data": {
            "text/plain": [
              "<matplotlib.collections.PathCollection at 0x7fe7f9b772e8>"
            ]
          },
          "metadata": {
            "tags": []
          },
          "execution_count": 36
        },
        {
          "output_type": "display_data",
          "data": {
            "image/png": "[encoded data removed]",
            "text/plain": [
              "<Figure size 432x288 with 1 Axes>"
            ]
          },
          "metadata": {
            "tags": []
          }
        }
      ]
    },
    {
      "cell_type": "markdown",
      "metadata": {
        "id": "LAhlJfADQPss",
        "colab_type": "text"
      },
      "source": [
        "# 精隨與原始資料相關性"
      ]
    },
    {
      "cell_type": "code",
      "metadata": {
        "id": "41r7JKedR51_",
        "colab_type": "code",
        "outputId": "7f5c2aec-340e-4da0-e402-c2fd5ec9d22b",
        "colab": {
          "base_uri": "https://localhost:8080/",
          "height": 76
        }
      },
      "source": [
        "train.corr().loc[['精隨'],features]"
      ],
      "execution_count": 37,
      "outputs": [
        {
          "output_type": "execute_result",
          "data": {
            "text/html": [
              "<div>\n",
              "<style scoped>\n",
              "    .dataframe tbody tr th:only-of-type {\n",
              "        vertical-align: middle;\n",
              "    }\n",
              "\n",
              "    .dataframe tbody tr th {\n",
              "        vertical-align: top;\n",
              "    }\n",
              "\n",
              "    .dataframe thead th {\n",
              "        text-align: right;\n",
              "    }\n",
              "</style>\n",
              "<table border=\"1\" class=\"dataframe\">\n",
              "  <thead>\n",
              "    <tr style=\"text-align: right;\">\n",
              "      <th></th>\n",
              "      <th>T10</th>\n",
              "      <th>T50</th>\n",
              "      <th>T90</th>\n",
              "      <th>N+A</th>\n",
              "    </tr>\n",
              "  </thead>\n",
              "  <tbody>\n",
              "    <tr>\n",
              "      <th>精隨</th>\n",
              "      <td>0.648722</td>\n",
              "      <td>0.68303</td>\n",
              "      <td>0.259523</td>\n",
              "      <td>-0.878447</td>\n",
              "    </tr>\n",
              "  </tbody>\n",
              "</table>\n",
              "</div>"
            ],
            "text/plain": [
              "         T10      T50       T90       N+A\n",
              "精隨  0.648722  0.68303  0.259523 -0.878447"
            ]
          },
          "metadata": {
            "tags": []
          },
          "execution_count": 37
        }
      ]
    },
    {
      "cell_type": "code",
      "metadata": {
        "id": "KKfoDIRvQP2K",
        "colab_type": "code",
        "outputId": "4ca66f7f-8b91-4247-cc0f-fcc643dfc7a0",
        "colab": {
          "base_uri": "https://localhost:8080/",
          "height": 76
        }
      },
      "source": [
        "test.corr().loc[['精隨'],features]"
      ],
      "execution_count": 38,
      "outputs": [
        {
          "output_type": "execute_result",
          "data": {
            "text/html": [
              "<div>\n",
              "<style scoped>\n",
              "    .dataframe tbody tr th:only-of-type {\n",
              "        vertical-align: middle;\n",
              "    }\n",
              "\n",
              "    .dataframe tbody tr th {\n",
              "        vertical-align: top;\n",
              "    }\n",
              "\n",
              "    .dataframe thead th {\n",
              "        text-align: right;\n",
              "    }\n",
              "</style>\n",
              "<table border=\"1\" class=\"dataframe\">\n",
              "  <thead>\n",
              "    <tr style=\"text-align: right;\">\n",
              "      <th></th>\n",
              "      <th>T10</th>\n",
              "      <th>T50</th>\n",
              "      <th>T90</th>\n",
              "      <th>N+A</th>\n",
              "    </tr>\n",
              "  </thead>\n",
              "  <tbody>\n",
              "    <tr>\n",
              "      <th>精隨</th>\n",
              "      <td>0.907379</td>\n",
              "      <td>0.881749</td>\n",
              "      <td>0.664851</td>\n",
              "      <td>-0.987677</td>\n",
              "    </tr>\n",
              "  </tbody>\n",
              "</table>\n",
              "</div>"
            ],
            "text/plain": [
              "         T10       T50       T90       N+A\n",
              "精隨  0.907379  0.881749  0.664851 -0.987677"
            ]
          },
          "metadata": {
            "tags": []
          },
          "execution_count": 38
        }
      ]
    },
    {
      "cell_type": "markdown",
      "metadata": {
        "id": "FmuyYGP-RKF7",
        "colab_type": "text"
      },
      "source": [
        "# 精隨與ISOMAP特徵相關性"
      ]
    },
    {
      "cell_type": "code",
      "metadata": {
        "id": "n98ZLSccRKR4",
        "colab_type": "code",
        "colab": {}
      },
      "source": [
        "from sklearn.manifold import isomap\n",
        "iso = isomap.Isomap(n_components=1)\n",
        "train['iso_1'] = iso.fit_transform(train[['T10','N+A']])\n",
        "test['iso_1'] = iso.transform(test[['T10','N+A']])"
      ],
      "execution_count": 0,
      "outputs": []
    },
    {
      "cell_type": "code",
      "metadata": {
        "id": "8K7b5mIQTHbn",
        "colab_type": "code",
        "colab": {}
      },
      "source": [
        "from sklearn.manifold import isomap\n",
        "iso = isomap.Isomap(n_components=1)\n",
        "train['iso_2'] = iso.fit_transform(train[['T50','N+A']])\n",
        "test['iso_2'] = iso.transform(test[['T50','N+A']])"
      ],
      "execution_count": 0,
      "outputs": []
    },
    {
      "cell_type": "code",
      "metadata": {
        "id": "5CJyVRMNTkN0",
        "colab_type": "code",
        "colab": {}
      },
      "source": [
        "from sklearn.manifold import isomap\n",
        "iso = isomap.Isomap(n_components=1)\n",
        "train['iso_3'] = iso.fit_transform(train[['T90','N+A']])\n",
        "test['iso_3'] = iso.transform(test[['T90','N+A']])"
      ],
      "execution_count": 0,
      "outputs": []
    },
    {
      "cell_type": "code",
      "metadata": {
        "id": "erRLEj17TnpE",
        "colab_type": "code",
        "colab": {}
      },
      "source": [
        "from sklearn.manifold import isomap\n",
        "iso = isomap.Isomap(n_components=1)\n",
        "train['iso'] = iso.fit_transform(train[['iso_1','iso_2','iso_3']])\n",
        "test['iso'] = iso.transform(test[['iso_1','iso_2','iso_3']])"
      ],
      "execution_count": 0,
      "outputs": []
    },
    {
      "cell_type": "code",
      "metadata": {
        "id": "fqOoSN2MRrri",
        "colab_type": "code",
        "outputId": "c7973760-afa5-4af0-c762-658188176986",
        "colab": {
          "base_uri": "https://localhost:8080/",
          "height": 76
        }
      },
      "source": [
        "train.corr().loc[['精隨'],features+['iso_1','iso_2','iso_3','iso']]"
      ],
      "execution_count": 43,
      "outputs": [
        {
          "output_type": "execute_result",
          "data": {
            "text/html": [
              "<div>\n",
              "<style scoped>\n",
              "    .dataframe tbody tr th:only-of-type {\n",
              "        vertical-align: middle;\n",
              "    }\n",
              "\n",
              "    .dataframe tbody tr th {\n",
              "        vertical-align: top;\n",
              "    }\n",
              "\n",
              "    .dataframe thead th {\n",
              "        text-align: right;\n",
              "    }\n",
              "</style>\n",
              "<table border=\"1\" class=\"dataframe\">\n",
              "  <thead>\n",
              "    <tr style=\"text-align: right;\">\n",
              "      <th></th>\n",
              "      <th>T10</th>\n",
              "      <th>T50</th>\n",
              "      <th>T90</th>\n",
              "      <th>N+A</th>\n",
              "      <th>iso_1</th>\n",
              "      <th>iso_2</th>\n",
              "      <th>iso_3</th>\n",
              "      <th>iso</th>\n",
              "    </tr>\n",
              "  </thead>\n",
              "  <tbody>\n",
              "    <tr>\n",
              "      <th>精隨</th>\n",
              "      <td>0.648722</td>\n",
              "      <td>0.68303</td>\n",
              "      <td>0.259523</td>\n",
              "      <td>-0.878447</td>\n",
              "      <td>-0.939497</td>\n",
              "      <td>-0.911078</td>\n",
              "      <td>-0.740577</td>\n",
              "      <td>-0.924506</td>\n",
              "    </tr>\n",
              "  </tbody>\n",
              "</table>\n",
              "</div>"
            ],
            "text/plain": [
              "         T10      T50       T90  ...     iso_2     iso_3       iso\n",
              "精隨  0.648722  0.68303  0.259523  ... -0.911078 -0.740577 -0.924506\n",
              "\n",
              "[1 rows x 8 columns]"
            ]
          },
          "metadata": {
            "tags": []
          },
          "execution_count": 43
        }
      ]
    },
    {
      "cell_type": "code",
      "metadata": {
        "id": "j1xXm04ARjGP",
        "colab_type": "code",
        "outputId": "c091e615-23c5-4a44-9b8d-258b72ba755b",
        "colab": {
          "base_uri": "https://localhost:8080/",
          "height": 76
        }
      },
      "source": [
        "test.corr().loc[['精隨'],features+['iso_1','iso_2','iso_3','iso']]"
      ],
      "execution_count": 44,
      "outputs": [
        {
          "output_type": "execute_result",
          "data": {
            "text/html": [
              "<div>\n",
              "<style scoped>\n",
              "    .dataframe tbody tr th:only-of-type {\n",
              "        vertical-align: middle;\n",
              "    }\n",
              "\n",
              "    .dataframe tbody tr th {\n",
              "        vertical-align: top;\n",
              "    }\n",
              "\n",
              "    .dataframe thead th {\n",
              "        text-align: right;\n",
              "    }\n",
              "</style>\n",
              "<table border=\"1\" class=\"dataframe\">\n",
              "  <thead>\n",
              "    <tr style=\"text-align: right;\">\n",
              "      <th></th>\n",
              "      <th>T10</th>\n",
              "      <th>T50</th>\n",
              "      <th>T90</th>\n",
              "      <th>N+A</th>\n",
              "      <th>iso_1</th>\n",
              "      <th>iso_2</th>\n",
              "      <th>iso_3</th>\n",
              "      <th>iso</th>\n",
              "    </tr>\n",
              "  </thead>\n",
              "  <tbody>\n",
              "    <tr>\n",
              "      <th>精隨</th>\n",
              "      <td>0.907379</td>\n",
              "      <td>0.881749</td>\n",
              "      <td>0.664851</td>\n",
              "      <td>-0.987677</td>\n",
              "      <td>-0.993212</td>\n",
              "      <td>-0.988622</td>\n",
              "      <td>-0.95322</td>\n",
              "      <td>-0.990963</td>\n",
              "    </tr>\n",
              "  </tbody>\n",
              "</table>\n",
              "</div>"
            ],
            "text/plain": [
              "         T10       T50       T90  ...     iso_2    iso_3       iso\n",
              "精隨  0.907379  0.881749  0.664851  ... -0.988622 -0.95322 -0.990963\n",
              "\n",
              "[1 rows x 8 columns]"
            ]
          },
          "metadata": {
            "tags": []
          },
          "execution_count": 44
        }
      ]
    },
    {
      "cell_type": "markdown",
      "metadata": {
        "id": "N60-pLYCPwQJ",
        "colab_type": "text"
      },
      "source": [
        "# modeling"
      ]
    },
    {
      "cell_type": "code",
      "metadata": {
        "id": "12SGcCvKPYqX",
        "colab_type": "code",
        "outputId": "daff7dd1-67bb-408a-c8a9-60f7ba980e7c",
        "colab": {
          "base_uri": "https://localhost:8080/",
          "height": 283
        }
      },
      "source": [
        "plt.scatter(train['iso_1'],train['精隨'])"
      ],
      "execution_count": 55,
      "outputs": [
        {
          "output_type": "execute_result",
          "data": {
            "text/plain": [
              "<matplotlib.collections.PathCollection at 0x7fe7eb743278>"
            ]
          },
          "metadata": {
            "tags": []
          },
          "execution_count": 55
        },
        {
          "output_type": "display_data",
          "data": {
            "image/png": "[encoded data removed]",
            "text/plain": [
              "<Figure size 432x288 with 1 Axes>"
            ]
          },
          "metadata": {
            "tags": []
          }
        }
      ]
    },
    {
      "cell_type": "code",
      "metadata": {
        "id": "WMFtmDvdP3fn",
        "colab_type": "code",
        "outputId": "e0d42abb-12b0-4a0e-8bd8-76a7d5739281",
        "colab": {
          "base_uri": "https://localhost:8080/",
          "height": 283
        }
      },
      "source": [
        "plt.scatter(test['iso_1'],test['精隨'])"
      ],
      "execution_count": 56,
      "outputs": [
        {
          "output_type": "execute_result",
          "data": {
            "text/plain": [
              "<matplotlib.collections.PathCollection at 0x7fe7eb69a518>"
            ]
          },
          "metadata": {
            "tags": []
          },
          "execution_count": 56
        },
        {
          "output_type": "display_data",
          "data": {
            "image/png": "[encoded data removed]",
            "text/plain": [
              "<Figure size 432x288 with 1 Axes>"
            ]
          },
          "metadata": {
            "tags": []
          }
        }
      ]
    },
    {
      "cell_type": "code",
      "metadata": {
        "id": "FWjitc1qP8q2",
        "colab_type": "code",
        "outputId": "a0baaefa-d8cf-4eb2-a9fe-ac82c66db550",
        "colab": {
          "base_uri": "https://localhost:8080/",
          "height": 35
        }
      },
      "source": [
        "from sklearn.linear_model import LinearRegression\n",
        "model = LinearRegression()\n",
        "model.fit(train[['iso_1']],train['精隨'])"
      ],
      "execution_count": 57,
      "outputs": [
        {
          "output_type": "execute_result",
          "data": {
            "text/plain": [
              "LinearRegression(copy_X=True, fit_intercept=True, n_jobs=None, normalize=False)"
            ]
          },
          "metadata": {
            "tags": []
          },
          "execution_count": 57
        }
      ]
    },
    {
      "cell_type": "code",
      "metadata": {
        "id": "uZKGDeXOErXx",
        "colab_type": "code",
        "colab": {
          "base_uri": "https://localhost:8080/",
          "height": 76
        },
        "outputId": "6a1e657c-b8aa-4058-90a6-389cad5e6d75"
      },
      "source": [
        "train['y_pred'] = model.predict(train[['iso_1']])\n",
        "metric(train['精隨'],train['y_pred'])"
      ],
      "execution_count": 58,
      "outputs": [
        {
          "output_type": "execute_result",
          "data": {
            "text/html": [
              "<div>\n",
              "<style scoped>\n",
              "    .dataframe tbody tr th:only-of-type {\n",
              "        vertical-align: middle;\n",
              "    }\n",
              "\n",
              "    .dataframe tbody tr th {\n",
              "        vertical-align: top;\n",
              "    }\n",
              "\n",
              "    .dataframe thead th {\n",
              "        text-align: right;\n",
              "    }\n",
              "</style>\n",
              "<table border=\"1\" class=\"dataframe\">\n",
              "  <thead>\n",
              "    <tr style=\"text-align: right;\">\n",
              "      <th></th>\n",
              "      <th>R2</th>\n",
              "      <th>RMSE</th>\n",
              "      <th>RMSE%</th>\n",
              "    </tr>\n",
              "  </thead>\n",
              "  <tbody>\n",
              "    <tr>\n",
              "      <th>score</th>\n",
              "      <td>0.882655</td>\n",
              "      <td>0.017083</td>\n",
              "      <td>0.543538</td>\n",
              "    </tr>\n",
              "  </tbody>\n",
              "</table>\n",
              "</div>"
            ],
            "text/plain": [
              "             R2      RMSE     RMSE%\n",
              "score  0.882655  0.017083  0.543538"
            ]
          },
          "metadata": {
            "tags": []
          },
          "execution_count": 58
        }
      ]
    },
    {
      "cell_type": "code",
      "metadata": {
        "id": "VZRgFskXRag8",
        "colab_type": "code",
        "outputId": "29a188a2-4036-491f-8c45-d75f08c2f3cd",
        "colab": {
          "base_uri": "https://localhost:8080/",
          "height": 76
        }
      },
      "source": [
        "test['y_pred'] = model.predict(test[['iso_1']])\n",
        "metric(test['精隨'],test['y_pred'])"
      ],
      "execution_count": 59,
      "outputs": [
        {
          "output_type": "execute_result",
          "data": {
            "text/html": [
              "<div>\n",
              "<style scoped>\n",
              "    .dataframe tbody tr th:only-of-type {\n",
              "        vertical-align: middle;\n",
              "    }\n",
              "\n",
              "    .dataframe tbody tr th {\n",
              "        vertical-align: top;\n",
              "    }\n",
              "\n",
              "    .dataframe thead th {\n",
              "        text-align: right;\n",
              "    }\n",
              "</style>\n",
              "<table border=\"1\" class=\"dataframe\">\n",
              "  <thead>\n",
              "    <tr style=\"text-align: right;\">\n",
              "      <th></th>\n",
              "      <th>R2</th>\n",
              "      <th>RMSE</th>\n",
              "      <th>RMSE%</th>\n",
              "    </tr>\n",
              "  </thead>\n",
              "  <tbody>\n",
              "    <tr>\n",
              "      <th>score</th>\n",
              "      <td>0.974451</td>\n",
              "      <td>0.007604</td>\n",
              "      <td>0.245347</td>\n",
              "    </tr>\n",
              "  </tbody>\n",
              "</table>\n",
              "</div>"
            ],
            "text/plain": [
              "             R2      RMSE     RMSE%\n",
              "score  0.974451  0.007604  0.245347"
            ]
          },
          "metadata": {
            "tags": []
          },
          "execution_count": 59
        }
      ]
    },
    {
      "cell_type": "code",
      "metadata": {
        "id": "LEWI8rcEEjD-",
        "colab_type": "code",
        "colab": {
          "base_uri": "https://localhost:8080/",
          "height": 280
        },
        "outputId": "f7daa673-a88a-47bb-9209-3f3a0ac855b5"
      },
      "source": [
        "train = train.sort_values(by='iso_1')\n",
        "plt.plot(train['iso_1'],train['y_pred'],color='red',label='pred')\n",
        "plt.scatter(train['iso_1'],train['精隨'],label='true')\n",
        "plt.xlabel('iso_1')\n",
        "plt.ylabel('y')\n",
        "plt.legend()\n",
        "plt.show()"
      ],
      "execution_count": 60,
      "outputs": [
        {
          "output_type": "display_data",
          "data": {
            "image/png": "[encoded data removed]",
            "text/plain": [
              "<Figure size 432x288 with 1 Axes>"
            ]
          },
          "metadata": {
            "tags": []
          }
        }
      ]
    },
    {
      "cell_type": "code",
      "metadata": {
        "id": "03PkYv56QfPQ",
        "colab_type": "code",
        "outputId": "78273e65-cd18-4d42-da6d-8742a5ffdf36",
        "colab": {
          "base_uri": "https://localhost:8080/",
          "height": 281
        }
      },
      "source": [
        "test = test.sort_values(by='iso_1')\n",
        "plt.plot(test['iso_1'],test['y_pred'],color='red',label='pred')\n",
        "plt.scatter(test['iso_1'],test['精隨'],label='true')\n",
        "plt.xlabel('iso_1')\n",
        "plt.ylabel('y')\n",
        "plt.legend()\n",
        "plt.show()"
      ],
      "execution_count": 62,
      "outputs": [
        {
          "output_type": "display_data",
          "data": {
            "image/png": "[encoded data removed]",
            "text/plain": [
              "<Figure size 432x288 with 1 Axes>"
            ]
          },
          "metadata": {
            "tags": []
          }
        }
      ]
    },
    {
      "cell_type": "code",
      "metadata": {
        "id": "8KgTpS0AQwyO",
        "colab_type": "code",
        "outputId": "5e30ad5f-e44c-462c-ca02-531bdb7c1fef",
        "colab": {
          "base_uri": "https://localhost:8080/",
          "height": 155
        }
      },
      "source": [
        "y_pred_all = pd.DataFrame(decoder.predict(test['精隨']),index=test.index,columns=y_columns)\n",
        "y_pred_all.head(3)"
      ],
      "execution_count": 63,
      "outputs": [
        {
          "output_type": "execute_result",
          "data": {
            "text/html": [
              "<div>\n",
              "<style scoped>\n",
              "    .dataframe tbody tr th:only-of-type {\n",
              "        vertical-align: middle;\n",
              "    }\n",
              "\n",
              "    .dataframe tbody tr th {\n",
              "        vertical-align: top;\n",
              "    }\n",
              "\n",
              "    .dataframe thead th {\n",
              "        text-align: right;\n",
              "    }\n",
              "</style>\n",
              "<table border=\"1\" class=\"dataframe\">\n",
              "  <thead>\n",
              "    <tr style=\"text-align: right;\">\n",
              "      <th></th>\n",
              "      <th>C5NP</th>\n",
              "      <th>C5IP</th>\n",
              "      <th>C5N</th>\n",
              "      <th>C6NP</th>\n",
              "      <th>C6IP</th>\n",
              "      <th>C6N</th>\n",
              "      <th>C6A</th>\n",
              "      <th>C7NP</th>\n",
              "      <th>C7IP</th>\n",
              "      <th>C7N</th>\n",
              "      <th>C7A</th>\n",
              "      <th>C8NP</th>\n",
              "      <th>C8IP</th>\n",
              "      <th>C8N</th>\n",
              "      <th>C8A</th>\n",
              "      <th>C9NP</th>\n",
              "      <th>C9IP</th>\n",
              "      <th>C9N</th>\n",
              "      <th>C9A</th>\n",
              "      <th>C10NP</th>\n",
              "      <th>C10IP</th>\n",
              "      <th>C10N</th>\n",
              "      <th>C10A</th>\n",
              "    </tr>\n",
              "  </thead>\n",
              "  <tbody>\n",
              "    <tr>\n",
              "      <th>21</th>\n",
              "      <td>0.000735</td>\n",
              "      <td>0.000129</td>\n",
              "      <td>0.000355</td>\n",
              "      <td>0.036952</td>\n",
              "      <td>0.013537</td>\n",
              "      <td>0.021154</td>\n",
              "      <td>0.004357</td>\n",
              "      <td>0.108691</td>\n",
              "      <td>0.079898</td>\n",
              "      <td>0.054442</td>\n",
              "      <td>0.030677</td>\n",
              "      <td>0.098724</td>\n",
              "      <td>0.105050</td>\n",
              "      <td>0.048781</td>\n",
              "      <td>0.058793</td>\n",
              "      <td>0.067576</td>\n",
              "      <td>0.105772</td>\n",
              "      <td>0.043282</td>\n",
              "      <td>0.038304</td>\n",
              "      <td>0.009593</td>\n",
              "      <td>0.054127</td>\n",
              "      <td>0.005280</td>\n",
              "      <td>0.005665</td>\n",
              "    </tr>\n",
              "    <tr>\n",
              "      <th>72</th>\n",
              "      <td>0.001365</td>\n",
              "      <td>0.000552</td>\n",
              "      <td>0.000435</td>\n",
              "      <td>0.036979</td>\n",
              "      <td>0.014023</td>\n",
              "      <td>0.021881</td>\n",
              "      <td>0.004500</td>\n",
              "      <td>0.107671</td>\n",
              "      <td>0.079467</td>\n",
              "      <td>0.056357</td>\n",
              "      <td>0.030839</td>\n",
              "      <td>0.097859</td>\n",
              "      <td>0.104162</td>\n",
              "      <td>0.049543</td>\n",
              "      <td>0.058586</td>\n",
              "      <td>0.066830</td>\n",
              "      <td>0.104979</td>\n",
              "      <td>0.043353</td>\n",
              "      <td>0.038037</td>\n",
              "      <td>0.009579</td>\n",
              "      <td>0.053802</td>\n",
              "      <td>0.005318</td>\n",
              "      <td>0.005712</td>\n",
              "    </tr>\n",
              "    <tr>\n",
              "      <th>2</th>\n",
              "      <td>0.002232</td>\n",
              "      <td>0.001135</td>\n",
              "      <td>0.000544</td>\n",
              "      <td>0.037016</td>\n",
              "      <td>0.014692</td>\n",
              "      <td>0.022881</td>\n",
              "      <td>0.004697</td>\n",
              "      <td>0.106266</td>\n",
              "      <td>0.078874</td>\n",
              "      <td>0.058993</td>\n",
              "      <td>0.031061</td>\n",
              "      <td>0.096668</td>\n",
              "      <td>0.102940</td>\n",
              "      <td>0.050590</td>\n",
              "      <td>0.058302</td>\n",
              "      <td>0.065803</td>\n",
              "      <td>0.103889</td>\n",
              "      <td>0.043450</td>\n",
              "      <td>0.037669</td>\n",
              "      <td>0.009558</td>\n",
              "      <td>0.053355</td>\n",
              "      <td>0.005371</td>\n",
              "      <td>0.005776</td>\n",
              "    </tr>\n",
              "  </tbody>\n",
              "</table>\n",
              "</div>"
            ],
            "text/plain": [
              "        C5NP      C5IP       C5N  ...     C10IP      C10N      C10A\n",
              "21  0.000735  0.000129  0.000355  ...  0.054127  0.005280  0.005665\n",
              "72  0.001365  0.000552  0.000435  ...  0.053802  0.005318  0.005712\n",
              "2   0.002232  0.001135  0.000544  ...  0.053355  0.005371  0.005776\n",
              "\n",
              "[3 rows x 23 columns]"
            ]
          },
          "metadata": {
            "tags": []
          },
          "execution_count": 63
        }
      ]
    },
    {
      "cell_type": "markdown",
      "metadata": {
        "id": "1gf8pqSYIQGU",
        "colab_type": "text"
      },
      "source": [
        "# 看N+A準不準"
      ]
    },
    {
      "cell_type": "code",
      "metadata": {
        "id": "Z7EbzqrTGhtM",
        "colab_type": "code",
        "colab": {
          "base_uri": "https://localhost:8080/",
          "height": 212
        },
        "outputId": "5165f268-b59f-44be-cb16-957d3ea83909"
      },
      "source": [
        "na_col = [ col for col in y_columns if ('NP' not in col) and ('IP' not in col)]\n",
        "print(na_col)\n",
        "y_pred_all['N+A_pred'] = y_pred_all[na_col].sum(axis=1)*100\n",
        "y_pred_all[['N+A_pred']].head()"
      ],
      "execution_count": 83,
      "outputs": [
        {
          "output_type": "stream",
          "text": [
            "['C5N', 'C6N', 'C6A', 'C7N', 'C7A', 'C8N', 'C8A', 'C9N', 'C9A', 'C10N', 'C10A']\n"
          ],
          "name": "stdout"
        },
        {
          "output_type": "execute_result",
          "data": {
            "text/html": [
              "<div>\n",
              "<style scoped>\n",
              "    .dataframe tbody tr th:only-of-type {\n",
              "        vertical-align: middle;\n",
              "    }\n",
              "\n",
              "    .dataframe tbody tr th {\n",
              "        vertical-align: top;\n",
              "    }\n",
              "\n",
              "    .dataframe thead th {\n",
              "        text-align: right;\n",
              "    }\n",
              "</style>\n",
              "<table border=\"1\" class=\"dataframe\">\n",
              "  <thead>\n",
              "    <tr style=\"text-align: right;\">\n",
              "      <th></th>\n",
              "      <th>N+A_pred</th>\n",
              "    </tr>\n",
              "  </thead>\n",
              "  <tbody>\n",
              "    <tr>\n",
              "      <th>21</th>\n",
              "      <td>31.109016</td>\n",
              "    </tr>\n",
              "    <tr>\n",
              "      <th>72</th>\n",
              "      <td>31.456011</td>\n",
              "    </tr>\n",
              "    <tr>\n",
              "      <th>2</th>\n",
              "      <td>31.933455</td>\n",
              "    </tr>\n",
              "    <tr>\n",
              "      <th>74</th>\n",
              "      <td>31.232744</td>\n",
              "    </tr>\n",
              "    <tr>\n",
              "      <th>71</th>\n",
              "      <td>31.476957</td>\n",
              "    </tr>\n",
              "  </tbody>\n",
              "</table>\n",
              "</div>"
            ],
            "text/plain": [
              "     N+A_pred\n",
              "21  31.109016\n",
              "72  31.456011\n",
              "2   31.933455\n",
              "74  31.232744\n",
              "71  31.476957"
            ]
          },
          "metadata": {
            "tags": []
          },
          "execution_count": 83
        }
      ]
    },
    {
      "cell_type": "code",
      "metadata": {
        "id": "N_ItrxUOG_xJ",
        "colab_type": "code",
        "colab": {
          "base_uri": "https://localhost:8080/",
          "height": 194
        },
        "outputId": "e3e85e1d-f413-42fe-dcc2-5ca3584ca612"
      },
      "source": [
        "pd.DataFrame(transer_x.inverse_transform(test[features]),index=test.index,columns=features)[['N+A']].head()"
      ],
      "execution_count": 85,
      "outputs": [
        {
          "output_type": "execute_result",
          "data": {
            "text/html": [
              "<div>\n",
              "<style scoped>\n",
              "    .dataframe tbody tr th:only-of-type {\n",
              "        vertical-align: middle;\n",
              "    }\n",
              "\n",
              "    .dataframe tbody tr th {\n",
              "        vertical-align: top;\n",
              "    }\n",
              "\n",
              "    .dataframe thead th {\n",
              "        text-align: right;\n",
              "    }\n",
              "</style>\n",
              "<table border=\"1\" class=\"dataframe\">\n",
              "  <thead>\n",
              "    <tr style=\"text-align: right;\">\n",
              "      <th></th>\n",
              "      <th>N+A</th>\n",
              "    </tr>\n",
              "  </thead>\n",
              "  <tbody>\n",
              "    <tr>\n",
              "      <th>21</th>\n",
              "      <td>30.9710</td>\n",
              "    </tr>\n",
              "    <tr>\n",
              "      <th>72</th>\n",
              "      <td>31.3343</td>\n",
              "    </tr>\n",
              "    <tr>\n",
              "      <th>2</th>\n",
              "      <td>31.4280</td>\n",
              "    </tr>\n",
              "    <tr>\n",
              "      <th>74</th>\n",
              "      <td>31.2280</td>\n",
              "    </tr>\n",
              "    <tr>\n",
              "      <th>71</th>\n",
              "      <td>31.2680</td>\n",
              "    </tr>\n",
              "  </tbody>\n",
              "</table>\n",
              "</div>"
            ],
            "text/plain": [
              "        N+A\n",
              "21  30.9710\n",
              "72  31.3343\n",
              "2   31.4280\n",
              "74  31.2280\n",
              "71  31.2680"
            ]
          },
          "metadata": {
            "tags": []
          },
          "execution_count": 85
        }
      ]
    },
    {
      "cell_type": "code",
      "metadata": {
        "id": "XhsgsgLi6698",
        "colab_type": "code",
        "outputId": "03a56018-8c24-4dbf-902d-d7bf8ea503ea",
        "colab": {
          "base_uri": "https://localhost:8080/",
          "height": 135
        }
      },
      "source": [
        "test[y_columns] = test[y_columns]\n",
        "test[y_columns].head(3)"
      ],
      "execution_count": 86,
      "outputs": [
        {
          "output_type": "execute_result",
          "data": {
            "text/html": [
              "<div>\n",
              "<style scoped>\n",
              "    .dataframe tbody tr th:only-of-type {\n",
              "        vertical-align: middle;\n",
              "    }\n",
              "\n",
              "    .dataframe tbody tr th {\n",
              "        vertical-align: top;\n",
              "    }\n",
              "\n",
              "    .dataframe thead th {\n",
              "        text-align: right;\n",
              "    }\n",
              "</style>\n",
              "<table border=\"1\" class=\"dataframe\">\n",
              "  <thead>\n",
              "    <tr style=\"text-align: right;\">\n",
              "      <th></th>\n",
              "      <th>C5NP</th>\n",
              "      <th>C5IP</th>\n",
              "      <th>C5N</th>\n",
              "      <th>C6NP</th>\n",
              "      <th>C6IP</th>\n",
              "      <th>C6N</th>\n",
              "      <th>C6A</th>\n",
              "      <th>C7NP</th>\n",
              "      <th>C7IP</th>\n",
              "      <th>C7N</th>\n",
              "      <th>C7A</th>\n",
              "      <th>C8NP</th>\n",
              "      <th>C8IP</th>\n",
              "      <th>C8N</th>\n",
              "      <th>C8A</th>\n",
              "      <th>C9NP</th>\n",
              "      <th>C9IP</th>\n",
              "      <th>C9N</th>\n",
              "      <th>C9A</th>\n",
              "      <th>C10NP</th>\n",
              "      <th>C10IP</th>\n",
              "      <th>C10N</th>\n",
              "      <th>C10A</th>\n",
              "    </tr>\n",
              "  </thead>\n",
              "  <tbody>\n",
              "    <tr>\n",
              "      <th>21</th>\n",
              "      <td>0.00067</td>\n",
              "      <td>0.00049</td>\n",
              "      <td>0.00006</td>\n",
              "      <td>0.03168</td>\n",
              "      <td>0.00748</td>\n",
              "      <td>0.02106</td>\n",
              "      <td>0.00345</td>\n",
              "      <td>0.11105</td>\n",
              "      <td>0.07770</td>\n",
              "      <td>0.06383</td>\n",
              "      <td>0.02943</td>\n",
              "      <td>0.10144</td>\n",
              "      <td>0.10842</td>\n",
              "      <td>0.04955</td>\n",
              "      <td>0.05475</td>\n",
              "      <td>0.06850</td>\n",
              "      <td>0.11148</td>\n",
              "      <td>0.04175</td>\n",
              "      <td>0.03760</td>\n",
              "      <td>0.00871</td>\n",
              "      <td>0.05722</td>\n",
              "      <td>0.004910</td>\n",
              "      <td>0.00332</td>\n",
              "    </tr>\n",
              "    <tr>\n",
              "      <th>72</th>\n",
              "      <td>0.00046</td>\n",
              "      <td>0.00025</td>\n",
              "      <td>0.00011</td>\n",
              "      <td>0.03597</td>\n",
              "      <td>0.01070</td>\n",
              "      <td>0.02198</td>\n",
              "      <td>0.00383</td>\n",
              "      <td>0.10550</td>\n",
              "      <td>0.07495</td>\n",
              "      <td>0.06169</td>\n",
              "      <td>0.02868</td>\n",
              "      <td>0.09621</td>\n",
              "      <td>0.10207</td>\n",
              "      <td>0.04749</td>\n",
              "      <td>0.05509</td>\n",
              "      <td>0.06991</td>\n",
              "      <td>0.11010</td>\n",
              "      <td>0.04213</td>\n",
              "      <td>0.04207</td>\n",
              "      <td>0.01114</td>\n",
              "      <td>0.06308</td>\n",
              "      <td>0.005743</td>\n",
              "      <td>0.00453</td>\n",
              "    </tr>\n",
              "    <tr>\n",
              "      <th>2</th>\n",
              "      <td>0.00098</td>\n",
              "      <td>0.00064</td>\n",
              "      <td>0.00020</td>\n",
              "      <td>0.03920</td>\n",
              "      <td>0.01447</td>\n",
              "      <td>0.02296</td>\n",
              "      <td>0.00396</td>\n",
              "      <td>0.10236</td>\n",
              "      <td>0.07348</td>\n",
              "      <td>0.06259</td>\n",
              "      <td>0.02797</td>\n",
              "      <td>0.09655</td>\n",
              "      <td>0.09986</td>\n",
              "      <td>0.04942</td>\n",
              "      <td>0.05453</td>\n",
              "      <td>0.06947</td>\n",
              "      <td>0.10996</td>\n",
              "      <td>0.04269</td>\n",
              "      <td>0.03997</td>\n",
              "      <td>0.01034</td>\n",
              "      <td>0.06107</td>\n",
              "      <td>0.005430</td>\n",
              "      <td>0.00456</td>\n",
              "    </tr>\n",
              "  </tbody>\n",
              "</table>\n",
              "</div>"
            ],
            "text/plain": [
              "       C5NP     C5IP      C5N     C6NP  ...    C10NP    C10IP      C10N     C10A\n",
              "21  0.00067  0.00049  0.00006  0.03168  ...  0.00871  0.05722  0.004910  0.00332\n",
              "72  0.00046  0.00025  0.00011  0.03597  ...  0.01114  0.06308  0.005743  0.00453\n",
              "2   0.00098  0.00064  0.00020  0.03920  ...  0.01034  0.06107  0.005430  0.00456\n",
              "\n",
              "[3 rows x 23 columns]"
            ]
          },
          "metadata": {
            "tags": []
          },
          "execution_count": 86
        }
      ]
    },
    {
      "cell_type": "code",
      "metadata": {
        "id": "cUeNg1uK7Gey",
        "colab_type": "code",
        "outputId": "af1dded0-b6e9-48f2-c17f-563f2c695bd3",
        "colab": {
          "base_uri": "https://localhost:8080/",
          "height": 751
        }
      },
      "source": [
        "t = pd.DataFrame()\n",
        "for col in y_columns:\n",
        "  t = t.append(metric(test[col]*100,y_pred_all[col]*100))\n",
        "t.index = y_columns\n",
        "t.loc['AVG'] = t.mean(axis=0)\n",
        "t"
      ],
      "execution_count": 87,
      "outputs": [
        {
          "output_type": "execute_result",
          "data": {
            "text/html": [
              "<div>\n",
              "<style scoped>\n",
              "    .dataframe tbody tr th:only-of-type {\n",
              "        vertical-align: middle;\n",
              "    }\n",
              "\n",
              "    .dataframe tbody tr th {\n",
              "        vertical-align: top;\n",
              "    }\n",
              "\n",
              "    .dataframe thead th {\n",
              "        text-align: right;\n",
              "    }\n",
              "</style>\n",
              "<table border=\"1\" class=\"dataframe\">\n",
              "  <thead>\n",
              "    <tr style=\"text-align: right;\">\n",
              "      <th></th>\n",
              "      <th>R2</th>\n",
              "      <th>RMSE</th>\n",
              "      <th>RMSE%</th>\n",
              "    </tr>\n",
              "  </thead>\n",
              "  <tbody>\n",
              "    <tr>\n",
              "      <th>C5NP</th>\n",
              "      <td>-0.051875</td>\n",
              "      <td>0.876470</td>\n",
              "      <td>0.765699</td>\n",
              "    </tr>\n",
              "    <tr>\n",
              "      <th>C5IP</th>\n",
              "      <td>-0.586389</td>\n",
              "      <td>0.644528</td>\n",
              "      <td>0.927017</td>\n",
              "    </tr>\n",
              "    <tr>\n",
              "      <th>C5N</th>\n",
              "      <td>0.606804</td>\n",
              "      <td>0.085842</td>\n",
              "      <td>0.470366</td>\n",
              "    </tr>\n",
              "    <tr>\n",
              "      <th>C6NP</th>\n",
              "      <td>-0.610965</td>\n",
              "      <td>0.513505</td>\n",
              "      <td>0.148249</td>\n",
              "    </tr>\n",
              "    <tr>\n",
              "      <th>C6IP</th>\n",
              "      <td>0.764536</td>\n",
              "      <td>0.507209</td>\n",
              "      <td>0.213796</td>\n",
              "    </tr>\n",
              "    <tr>\n",
              "      <th>C6N</th>\n",
              "      <td>0.921670</td>\n",
              "      <td>0.463485</td>\n",
              "      <td>0.115497</td>\n",
              "    </tr>\n",
              "    <tr>\n",
              "      <th>C6A</th>\n",
              "      <td>-2.259457</td>\n",
              "      <td>0.308451</td>\n",
              "      <td>0.554791</td>\n",
              "    </tr>\n",
              "    <tr>\n",
              "      <th>C7NP</th>\n",
              "      <td>0.856228</td>\n",
              "      <td>0.833905</td>\n",
              "      <td>0.108923</td>\n",
              "    </tr>\n",
              "    <tr>\n",
              "      <th>C7IP</th>\n",
              "      <td>0.165146</td>\n",
              "      <td>1.009647</td>\n",
              "      <td>0.161165</td>\n",
              "    </tr>\n",
              "    <tr>\n",
              "      <th>C7N</th>\n",
              "      <td>0.954010</td>\n",
              "      <td>0.893703</td>\n",
              "      <td>0.081161</td>\n",
              "    </tr>\n",
              "    <tr>\n",
              "      <th>C7A</th>\n",
              "      <td>0.467139</td>\n",
              "      <td>0.339231</td>\n",
              "      <td>0.102587</td>\n",
              "    </tr>\n",
              "    <tr>\n",
              "      <th>C8NP</th>\n",
              "      <td>0.938461</td>\n",
              "      <td>0.428733</td>\n",
              "      <td>0.055814</td>\n",
              "    </tr>\n",
              "    <tr>\n",
              "      <th>C8IP</th>\n",
              "      <td>0.905903</td>\n",
              "      <td>0.478943</td>\n",
              "      <td>0.057742</td>\n",
              "    </tr>\n",
              "    <tr>\n",
              "      <th>C8N</th>\n",
              "      <td>0.840867</td>\n",
              "      <td>0.727962</td>\n",
              "      <td>0.103205</td>\n",
              "    </tr>\n",
              "    <tr>\n",
              "      <th>C8A</th>\n",
              "      <td>-0.325369</td>\n",
              "      <td>0.935811</td>\n",
              "      <td>0.161314</td>\n",
              "    </tr>\n",
              "    <tr>\n",
              "      <th>C9NP</th>\n",
              "      <td>0.971172</td>\n",
              "      <td>0.271431</td>\n",
              "      <td>0.054727</td>\n",
              "    </tr>\n",
              "    <tr>\n",
              "      <th>C9IP</th>\n",
              "      <td>0.814347</td>\n",
              "      <td>0.681437</td>\n",
              "      <td>0.074374</td>\n",
              "    </tr>\n",
              "    <tr>\n",
              "      <th>C9N</th>\n",
              "      <td>-0.173334</td>\n",
              "      <td>0.874725</td>\n",
              "      <td>0.173328</td>\n",
              "    </tr>\n",
              "    <tr>\n",
              "      <th>C9A</th>\n",
              "      <td>0.305477</td>\n",
              "      <td>0.504992</td>\n",
              "      <td>0.143650</td>\n",
              "    </tr>\n",
              "    <tr>\n",
              "      <th>C10NP</th>\n",
              "      <td>-0.068136</td>\n",
              "      <td>0.218499</td>\n",
              "      <td>0.218058</td>\n",
              "    </tr>\n",
              "    <tr>\n",
              "      <th>C10IP</th>\n",
              "      <td>0.723710</td>\n",
              "      <td>0.537046</td>\n",
              "      <td>0.110703</td>\n",
              "    </tr>\n",
              "    <tr>\n",
              "      <th>C10N</th>\n",
              "      <td>0.425351</td>\n",
              "      <td>0.098981</td>\n",
              "      <td>0.148380</td>\n",
              "    </tr>\n",
              "    <tr>\n",
              "      <th>C10A</th>\n",
              "      <td>-0.053382</td>\n",
              "      <td>0.239224</td>\n",
              "      <td>0.377094</td>\n",
              "    </tr>\n",
              "    <tr>\n",
              "      <th>AVG</th>\n",
              "      <td>0.283996</td>\n",
              "      <td>0.542337</td>\n",
              "      <td>0.231637</td>\n",
              "    </tr>\n",
              "  </tbody>\n",
              "</table>\n",
              "</div>"
            ],
            "text/plain": [
              "             R2      RMSE     RMSE%\n",
              "C5NP  -0.051875  0.876470  0.765699\n",
              "C5IP  -0.586389  0.644528  0.927017\n",
              "C5N    0.606804  0.085842  0.470366\n",
              "C6NP  -0.610965  0.513505  0.148249\n",
              "C6IP   0.764536  0.507209  0.213796\n",
              "C6N    0.921670  0.463485  0.115497\n",
              "C6A   -2.259457  0.308451  0.554791\n",
              "C7NP   0.856228  0.833905  0.108923\n",
              "C7IP   0.165146  1.009647  0.161165\n",
              "C7N    0.954010  0.893703  0.081161\n",
              "C7A    0.467139  0.339231  0.102587\n",
              "C8NP   0.938461  0.428733  0.055814\n",
              "C8IP   0.905903  0.478943  0.057742\n",
              "C8N    0.840867  0.727962  0.103205\n",
              "C8A   -0.325369  0.935811  0.161314\n",
              "C9NP   0.971172  0.271431  0.054727\n",
              "C9IP   0.814347  0.681437  0.074374\n",
              "C9N   -0.173334  0.874725  0.173328\n",
              "C9A    0.305477  0.504992  0.143650\n",
              "C10NP -0.068136  0.218499  0.218058\n",
              "C10IP  0.723710  0.537046  0.110703\n",
              "C10N   0.425351  0.098981  0.148380\n",
              "C10A  -0.053382  0.239224  0.377094\n",
              "AVG    0.283996  0.542337  0.231637"
            ]
          },
          "metadata": {
            "tags": []
          },
          "execution_count": 87
        }
      ]
    },
    {
      "cell_type": "code",
      "metadata": {
        "id": "78TMm1DC7bGJ",
        "colab_type": "code",
        "colab": {}
      },
      "source": [
        ""
      ],
      "execution_count": 0,
      "outputs": []
    }
  ]
}