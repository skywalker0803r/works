{
  "nbformat": 4,
  "nbformat_minor": 0,
  "metadata": {
    "colab": {
      "name": "輕油案nadda_36_1202.ipynb",
      "provenance": [],
      "collapsed_sections": [],
      "include_colab_link": true
    },
    "kernelspec": {
      "name": "python3",
      "display_name": "Python 3"
    }
  },
  "cells": [
    {
      "cell_type": "markdown",
      "metadata": {
        "id": "view-in-github",
        "colab_type": "text"
      },
      "source": [
        "<a href=\"https://colab.research.google.com/github/skywalker0803r/works/blob/master/%E8%BC%95%E6%B2%B9%E6%A1%88nadda_36_1202.ipynb\" target=\"_parent\"><img src=\"https://colab.research.google.com/assets/colab-badge.svg\" alt=\"Open In Colab\"/></a>"
      ]
    },
    {
      "cell_type": "code",
      "metadata": {
        "id": "VYUOVJs2tuos",
        "colab_type": "code",
        "colab": {
          "base_uri": "https://localhost:8080/",
          "height": 35
        },
        "outputId": "858fa45d-363a-4819-b2bd-800781651863"
      },
      "source": [
        "#!pip install catboost\n",
        "from google.colab import drive\n",
        "drive.mount('/content/drive')\n",
        "import warnings;warnings.simplefilter('ignore')\n",
        "import pandas as pd\n",
        "from sklearn.preprocessing import StandardScaler\n",
        "from sklearn.svm import SVR\n",
        "from catboost import CatBoostRegressor"
      ],
      "execution_count": 1,
      "outputs": [
        {
          "output_type": "stream",
          "text": [
            "Drive already mounted at /content/drive; to attempt to forcibly remount, call drive.mount(\"/content/drive\", force_remount=True).\n"
          ],
          "name": "stdout"
        }
      ]
    },
    {
      "cell_type": "markdown",
      "metadata": {
        "id": "shJRjJnezwh2",
        "colab_type": "text"
      },
      "source": [
        "# load data"
      ]
    },
    {
      "cell_type": "code",
      "metadata": {
        "id": "6bey2s-ytvk6",
        "colab_type": "code",
        "colab": {
          "base_uri": "https://localhost:8080/",
          "height": 35
        },
        "outputId": "ba2a09cd-0457-4ca4-a1b5-5d25b75bee3b"
      },
      "source": [
        "train_4521 = pd.read_csv('/content/drive/My Drive/台塑輕油案子/data/train_4521.csv',index_col=0)\n",
        "test_170 = pd.read_csv('/content/drive/My Drive/台塑輕油案子/data/test_170.csv',index_col=0)\n",
        "test_250 = pd.read_csv('/content/drive/My Drive/台塑輕油案子/data/test_250.csv',index_col=0)\n",
        "test_200 = test_250.loc[test_250.index %5 != 0]\n",
        "test_50 = test_250.loc[test_250.index %5 ==0].drop(95)\n",
        "train = train_4521.append(test_170).append(test_200)\n",
        "test = test_50\n",
        "train.shape,test.shape"
      ],
      "execution_count": 2,
      "outputs": [
        {
          "output_type": "execute_result",
          "data": {
            "text/plain": [
              "((4891, 27), (49, 27))"
            ]
          },
          "metadata": {
            "tags": []
          },
          "execution_count": 2
        }
      ]
    },
    {
      "cell_type": "markdown",
      "metadata": {
        "id": "DpBWuyfpzub4",
        "colab_type": "text"
      },
      "source": [
        "# clean data"
      ]
    },
    {
      "cell_type": "code",
      "metadata": {
        "id": "zKUvYbvJvBG8",
        "colab_type": "code",
        "colab": {}
      },
      "source": [
        "def clean(df):\n",
        "  return df.loc[df['N+A']>=36]"
      ],
      "execution_count": 0,
      "outputs": []
    },
    {
      "cell_type": "code",
      "metadata": {
        "id": "crquR2cVvSmp",
        "colab_type": "code",
        "colab": {
          "base_uri": "https://localhost:8080/",
          "height": 35
        },
        "outputId": "1608e45d-edae-4928-9405-c65ba5b941db"
      },
      "source": [
        "train = clean(train)\n",
        "test = clean(test)\n",
        "train.shape,test.shape"
      ],
      "execution_count": 4,
      "outputs": [
        {
          "output_type": "execute_result",
          "data": {
            "text/plain": [
              "((2847, 27), (45, 27))"
            ]
          },
          "metadata": {
            "tags": []
          },
          "execution_count": 4
        }
      ]
    },
    {
      "cell_type": "markdown",
      "metadata": {
        "id": "HXNmF9VKzsZ1",
        "colab_type": "text"
      },
      "source": [
        "# scaler"
      ]
    },
    {
      "cell_type": "code",
      "metadata": {
        "id": "3ZCH-so3vZ0e",
        "colab_type": "code",
        "colab": {
          "base_uri": "https://localhost:8080/",
          "height": 224
        },
        "outputId": "67c2761c-bf13-46ef-e5af-f97b8287a7bc"
      },
      "source": [
        "cols = train.columns.tolist()\n",
        "x_cols = cols[:4]\n",
        "y_cols = cols[4:]\n",
        "sc = StandardScaler()\n",
        "train.loc[:,x_cols] = sc.fit_transform(train.loc[:,x_cols])\n",
        "test.loc[:,x_cols] = sc.transform(test.loc[:,x_cols])\n",
        "train.append(test).head()"
      ],
      "execution_count": 5,
      "outputs": [
        {
          "output_type": "execute_result",
          "data": {
            "text/html": [
              "<div>\n",
              "<style scoped>\n",
              "    .dataframe tbody tr th:only-of-type {\n",
              "        vertical-align: middle;\n",
              "    }\n",
              "\n",
              "    .dataframe tbody tr th {\n",
              "        vertical-align: top;\n",
              "    }\n",
              "\n",
              "    .dataframe thead th {\n",
              "        text-align: right;\n",
              "    }\n",
              "</style>\n",
              "<table border=\"1\" class=\"dataframe\">\n",
              "  <thead>\n",
              "    <tr style=\"text-align: right;\">\n",
              "      <th></th>\n",
              "      <th>T10</th>\n",
              "      <th>T50</th>\n",
              "      <th>T90</th>\n",
              "      <th>N+A</th>\n",
              "      <th>C5NP</th>\n",
              "      <th>C5IP</th>\n",
              "      <th>C5N</th>\n",
              "      <th>C6NP</th>\n",
              "      <th>C6IP</th>\n",
              "      <th>C6N</th>\n",
              "      <th>C6A</th>\n",
              "      <th>C7NP</th>\n",
              "      <th>C7IP</th>\n",
              "      <th>C7N</th>\n",
              "      <th>C7A</th>\n",
              "      <th>C8NP</th>\n",
              "      <th>C8IP</th>\n",
              "      <th>C8N</th>\n",
              "      <th>C8A</th>\n",
              "      <th>C9NP</th>\n",
              "      <th>C9IP</th>\n",
              "      <th>C9N</th>\n",
              "      <th>C9A</th>\n",
              "      <th>C10NP</th>\n",
              "      <th>C10IP</th>\n",
              "      <th>C10N</th>\n",
              "      <th>C10A</th>\n",
              "    </tr>\n",
              "  </thead>\n",
              "  <tbody>\n",
              "    <tr>\n",
              "      <th>39</th>\n",
              "      <td>1.098378</td>\n",
              "      <td>0.864047</td>\n",
              "      <td>-0.135257</td>\n",
              "      <td>-1.557408</td>\n",
              "      <td>0.002</td>\n",
              "      <td>0.000</td>\n",
              "      <td>0.000</td>\n",
              "      <td>3.032</td>\n",
              "      <td>0.536</td>\n",
              "      <td>4.599</td>\n",
              "      <td>0.437</td>\n",
              "      <td>10.119</td>\n",
              "      <td>8.158</td>\n",
              "      <td>8.066</td>\n",
              "      <td>3.144</td>\n",
              "      <td>8.824</td>\n",
              "      <td>9.438</td>\n",
              "      <td>5.356</td>\n",
              "      <td>5.727</td>\n",
              "      <td>6.099</td>\n",
              "      <td>9.952</td>\n",
              "      <td>4.479</td>\n",
              "      <td>3.780</td>\n",
              "      <td>0.849</td>\n",
              "      <td>5.160</td>\n",
              "      <td>0.636</td>\n",
              "      <td>0.368</td>\n",
              "    </tr>\n",
              "    <tr>\n",
              "      <th>70</th>\n",
              "      <td>1.951309</td>\n",
              "      <td>2.244307</td>\n",
              "      <td>1.256639</td>\n",
              "      <td>-1.512666</td>\n",
              "      <td>0.139</td>\n",
              "      <td>0.067</td>\n",
              "      <td>0.030</td>\n",
              "      <td>1.655</td>\n",
              "      <td>0.864</td>\n",
              "      <td>1.434</td>\n",
              "      <td>0.272</td>\n",
              "      <td>6.580</td>\n",
              "      <td>4.713</td>\n",
              "      <td>5.622</td>\n",
              "      <td>3.304</td>\n",
              "      <td>9.068</td>\n",
              "      <td>9.336</td>\n",
              "      <td>6.021</td>\n",
              "      <td>7.713</td>\n",
              "      <td>7.156</td>\n",
              "      <td>12.958</td>\n",
              "      <td>6.091</td>\n",
              "      <td>4.367</td>\n",
              "      <td>1.753</td>\n",
              "      <td>7.137</td>\n",
              "      <td>0.938</td>\n",
              "      <td>1.088</td>\n",
              "    </tr>\n",
              "    <tr>\n",
              "      <th>71</th>\n",
              "      <td>1.987221</td>\n",
              "      <td>2.431217</td>\n",
              "      <td>1.275971</td>\n",
              "      <td>-1.463885</td>\n",
              "      <td>0.136</td>\n",
              "      <td>0.065</td>\n",
              "      <td>0.030</td>\n",
              "      <td>1.677</td>\n",
              "      <td>0.852</td>\n",
              "      <td>1.452</td>\n",
              "      <td>0.271</td>\n",
              "      <td>6.664</td>\n",
              "      <td>4.785</td>\n",
              "      <td>5.626</td>\n",
              "      <td>3.285</td>\n",
              "      <td>9.086</td>\n",
              "      <td>9.348</td>\n",
              "      <td>6.082</td>\n",
              "      <td>7.677</td>\n",
              "      <td>7.197</td>\n",
              "      <td>12.997</td>\n",
              "      <td>6.360</td>\n",
              "      <td>4.376</td>\n",
              "      <td>1.739</td>\n",
              "      <td>7.112</td>\n",
              "      <td>1.020</td>\n",
              "      <td>1.015</td>\n",
              "    </tr>\n",
              "    <tr>\n",
              "      <th>72</th>\n",
              "      <td>1.655028</td>\n",
              "      <td>1.985508</td>\n",
              "      <td>1.565949</td>\n",
              "      <td>-1.647357</td>\n",
              "      <td>0.366</td>\n",
              "      <td>0.227</td>\n",
              "      <td>0.043</td>\n",
              "      <td>2.104</td>\n",
              "      <td>0.989</td>\n",
              "      <td>1.771</td>\n",
              "      <td>0.305</td>\n",
              "      <td>7.723</td>\n",
              "      <td>5.726</td>\n",
              "      <td>6.251</td>\n",
              "      <td>3.193</td>\n",
              "      <td>9.063</td>\n",
              "      <td>9.453</td>\n",
              "      <td>6.081</td>\n",
              "      <td>6.863</td>\n",
              "      <td>6.898</td>\n",
              "      <td>12.019</td>\n",
              "      <td>5.742</td>\n",
              "      <td>4.164</td>\n",
              "      <td>1.423</td>\n",
              "      <td>6.630</td>\n",
              "      <td>0.831</td>\n",
              "      <td>0.769</td>\n",
              "    </tr>\n",
              "    <tr>\n",
              "      <th>92</th>\n",
              "      <td>1.170204</td>\n",
              "      <td>1.927998</td>\n",
              "      <td>1.353299</td>\n",
              "      <td>-1.549951</td>\n",
              "      <td>1.334</td>\n",
              "      <td>0.906</td>\n",
              "      <td>0.118</td>\n",
              "      <td>2.618</td>\n",
              "      <td>1.824</td>\n",
              "      <td>1.924</td>\n",
              "      <td>0.379</td>\n",
              "      <td>6.957</td>\n",
              "      <td>5.263</td>\n",
              "      <td>6.529</td>\n",
              "      <td>3.012</td>\n",
              "      <td>8.460</td>\n",
              "      <td>8.822</td>\n",
              "      <td>6.301</td>\n",
              "      <td>6.201</td>\n",
              "      <td>6.389</td>\n",
              "      <td>11.240</td>\n",
              "      <td>6.283</td>\n",
              "      <td>4.162</td>\n",
              "      <td>1.491</td>\n",
              "      <td>6.982</td>\n",
              "      <td>1.013</td>\n",
              "      <td>0.718</td>\n",
              "    </tr>\n",
              "  </tbody>\n",
              "</table>\n",
              "</div>"
            ],
            "text/plain": [
              "         T10       T50       T90       N+A  ...  C10NP  C10IP   C10N   C10A\n",
              "39  1.098378  0.864047 -0.135257 -1.557408  ...  0.849  5.160  0.636  0.368\n",
              "70  1.951309  2.244307  1.256639 -1.512666  ...  1.753  7.137  0.938  1.088\n",
              "71  1.987221  2.431217  1.275971 -1.463885  ...  1.739  7.112  1.020  1.015\n",
              "72  1.655028  1.985508  1.565949 -1.647357  ...  1.423  6.630  0.831  0.769\n",
              "92  1.170204  1.927998  1.353299 -1.549951  ...  1.491  6.982  1.013  0.718\n",
              "\n",
              "[5 rows x 27 columns]"
            ]
          },
          "metadata": {
            "tags": []
          },
          "execution_count": 5
        }
      ]
    },
    {
      "cell_type": "markdown",
      "metadata": {
        "id": "NvhQIGMrzjwO",
        "colab_type": "text"
      },
      "source": [
        "# fit and y_pred"
      ]
    },
    {
      "cell_type": "code",
      "metadata": {
        "id": "qUJq2bv6z6pN",
        "colab_type": "code",
        "colab": {}
      },
      "source": [
        "model = CatBoostRegressor(learning_rate=0.1,n_estimators=100,verbose=False)\n",
        "#model = SVR()"
      ],
      "execution_count": 0,
      "outputs": []
    },
    {
      "cell_type": "code",
      "metadata": {
        "id": "FEMXZ_A7v8GB",
        "colab_type": "code",
        "colab": {
          "base_uri": "https://localhost:8080/",
          "height": 224
        },
        "outputId": "f41bee5e-c506-4761-c8f9-50a49b159a56"
      },
      "source": [
        "y_pred = pd.DataFrame(index=test.index,columns=y_cols)\n",
        "for y_name in y_cols:\n",
        "  model.fit(train[x_cols],train[y_name])\n",
        "  y_pred[y_name] = model.predict(test[x_cols])\n",
        "y_pred.head()"
      ],
      "execution_count": 18,
      "outputs": [
        {
          "output_type": "execute_result",
          "data": {
            "text/html": [
              "<div>\n",
              "<style scoped>\n",
              "    .dataframe tbody tr th:only-of-type {\n",
              "        vertical-align: middle;\n",
              "    }\n",
              "\n",
              "    .dataframe tbody tr th {\n",
              "        vertical-align: top;\n",
              "    }\n",
              "\n",
              "    .dataframe thead th {\n",
              "        text-align: right;\n",
              "    }\n",
              "</style>\n",
              "<table border=\"1\" class=\"dataframe\">\n",
              "  <thead>\n",
              "    <tr style=\"text-align: right;\">\n",
              "      <th></th>\n",
              "      <th>C5NP</th>\n",
              "      <th>C5IP</th>\n",
              "      <th>C5N</th>\n",
              "      <th>C6NP</th>\n",
              "      <th>C6IP</th>\n",
              "      <th>C6N</th>\n",
              "      <th>C6A</th>\n",
              "      <th>C7NP</th>\n",
              "      <th>C7IP</th>\n",
              "      <th>C7N</th>\n",
              "      <th>C7A</th>\n",
              "      <th>C8NP</th>\n",
              "      <th>C8IP</th>\n",
              "      <th>C8N</th>\n",
              "      <th>C8A</th>\n",
              "      <th>C9NP</th>\n",
              "      <th>C9IP</th>\n",
              "      <th>C9N</th>\n",
              "      <th>C9A</th>\n",
              "      <th>C10NP</th>\n",
              "      <th>C10IP</th>\n",
              "      <th>C10N</th>\n",
              "      <th>C10A</th>\n",
              "    </tr>\n",
              "  </thead>\n",
              "  <tbody>\n",
              "    <tr>\n",
              "      <th>5</th>\n",
              "      <td>0.870409</td>\n",
              "      <td>0.602258</td>\n",
              "      <td>0.156949</td>\n",
              "      <td>1.357753</td>\n",
              "      <td>1.319798</td>\n",
              "      <td>5.421924</td>\n",
              "      <td>0.371123</td>\n",
              "      <td>6.545337</td>\n",
              "      <td>6.243806</td>\n",
              "      <td>18.783887</td>\n",
              "      <td>5.708903</td>\n",
              "      <td>6.134049</td>\n",
              "      <td>7.504745</td>\n",
              "      <td>10.238472</td>\n",
              "      <td>6.060105</td>\n",
              "      <td>2.949341</td>\n",
              "      <td>7.528056</td>\n",
              "      <td>5.232135</td>\n",
              "      <td>2.296209</td>\n",
              "      <td>0.467684</td>\n",
              "      <td>2.828097</td>\n",
              "      <td>0.607015</td>\n",
              "      <td>0.403004</td>\n",
              "    </tr>\n",
              "    <tr>\n",
              "      <th>10</th>\n",
              "      <td>0.933320</td>\n",
              "      <td>0.635871</td>\n",
              "      <td>0.077675</td>\n",
              "      <td>1.737631</td>\n",
              "      <td>1.493594</td>\n",
              "      <td>3.538403</td>\n",
              "      <td>0.346658</td>\n",
              "      <td>7.239634</td>\n",
              "      <td>7.476034</td>\n",
              "      <td>17.705904</td>\n",
              "      <td>5.300759</td>\n",
              "      <td>6.941247</td>\n",
              "      <td>10.729295</td>\n",
              "      <td>8.656378</td>\n",
              "      <td>6.060339</td>\n",
              "      <td>3.415713</td>\n",
              "      <td>7.820042</td>\n",
              "      <td>4.243599</td>\n",
              "      <td>2.171237</td>\n",
              "      <td>0.495067</td>\n",
              "      <td>2.450010</td>\n",
              "      <td>0.488326</td>\n",
              "      <td>0.448330</td>\n",
              "    </tr>\n",
              "    <tr>\n",
              "      <th>15</th>\n",
              "      <td>9.162535</td>\n",
              "      <td>6.616106</td>\n",
              "      <td>0.893840</td>\n",
              "      <td>6.668848</td>\n",
              "      <td>8.015762</td>\n",
              "      <td>7.878870</td>\n",
              "      <td>2.786925</td>\n",
              "      <td>6.239373</td>\n",
              "      <td>6.228739</td>\n",
              "      <td>11.057579</td>\n",
              "      <td>3.987788</td>\n",
              "      <td>4.596758</td>\n",
              "      <td>4.962510</td>\n",
              "      <td>5.161842</td>\n",
              "      <td>3.585689</td>\n",
              "      <td>2.142471</td>\n",
              "      <td>4.336591</td>\n",
              "      <td>2.139831</td>\n",
              "      <td>1.063322</td>\n",
              "      <td>0.482737</td>\n",
              "      <td>1.485973</td>\n",
              "      <td>0.218452</td>\n",
              "      <td>0.238094</td>\n",
              "    </tr>\n",
              "    <tr>\n",
              "      <th>20</th>\n",
              "      <td>11.402389</td>\n",
              "      <td>7.968611</td>\n",
              "      <td>1.104616</td>\n",
              "      <td>6.796127</td>\n",
              "      <td>8.039880</td>\n",
              "      <td>9.025126</td>\n",
              "      <td>3.363900</td>\n",
              "      <td>5.332171</td>\n",
              "      <td>4.926689</td>\n",
              "      <td>11.416270</td>\n",
              "      <td>4.296895</td>\n",
              "      <td>4.051333</td>\n",
              "      <td>4.036253</td>\n",
              "      <td>5.114593</td>\n",
              "      <td>3.630616</td>\n",
              "      <td>2.046287</td>\n",
              "      <td>3.195984</td>\n",
              "      <td>1.736312</td>\n",
              "      <td>1.138947</td>\n",
              "      <td>0.565205</td>\n",
              "      <td>1.226952</td>\n",
              "      <td>0.204300</td>\n",
              "      <td>0.268634</td>\n",
              "    </tr>\n",
              "    <tr>\n",
              "      <th>25</th>\n",
              "      <td>9.197480</td>\n",
              "      <td>7.910019</td>\n",
              "      <td>0.944140</td>\n",
              "      <td>5.676384</td>\n",
              "      <td>7.540912</td>\n",
              "      <td>6.735935</td>\n",
              "      <td>1.715210</td>\n",
              "      <td>4.937403</td>\n",
              "      <td>5.545602</td>\n",
              "      <td>10.320767</td>\n",
              "      <td>3.332323</td>\n",
              "      <td>4.300230</td>\n",
              "      <td>5.151680</td>\n",
              "      <td>4.971073</td>\n",
              "      <td>3.735929</td>\n",
              "      <td>2.715436</td>\n",
              "      <td>4.782887</td>\n",
              "      <td>2.859470</td>\n",
              "      <td>1.891369</td>\n",
              "      <td>1.309578</td>\n",
              "      <td>2.933785</td>\n",
              "      <td>0.480694</td>\n",
              "      <td>0.993090</td>\n",
              "    </tr>\n",
              "  </tbody>\n",
              "</table>\n",
              "</div>"
            ],
            "text/plain": [
              "         C5NP      C5IP       C5N  ...     C10IP      C10N      C10A\n",
              "5    0.870409  0.602258  0.156949  ...  2.828097  0.607015  0.403004\n",
              "10   0.933320  0.635871  0.077675  ...  2.450010  0.488326  0.448330\n",
              "15   9.162535  6.616106  0.893840  ...  1.485973  0.218452  0.238094\n",
              "20  11.402389  7.968611  1.104616  ...  1.226952  0.204300  0.268634\n",
              "25   9.197480  7.910019  0.944140  ...  2.933785  0.480694  0.993090\n",
              "\n",
              "[5 rows x 23 columns]"
            ]
          },
          "metadata": {
            "tags": []
          },
          "execution_count": 18
        }
      ]
    },
    {
      "cell_type": "markdown",
      "metadata": {
        "id": "rGpjxk-szlX4",
        "colab_type": "text"
      },
      "source": [
        "# loss"
      ]
    },
    {
      "cell_type": "code",
      "metadata": {
        "id": "qLNgYtaZxoCP",
        "colab_type": "code",
        "colab": {}
      },
      "source": [
        "from numpy import sqrt\n",
        "se = (y_pred[y_cols]-test[y_cols])**2\n",
        "mse = se.mean(axis=1)\n",
        "rmse = sqrt(mse)\n",
        "rmse = rmse.sort_values(ascending=False)"
      ],
      "execution_count": 0,
      "outputs": []
    },
    {
      "cell_type": "markdown",
      "metadata": {
        "id": "g_PwxwuTznWf",
        "colab_type": "text"
      },
      "source": [
        "# plot"
      ]
    },
    {
      "cell_type": "code",
      "metadata": {
        "id": "C1Pegr4EwzX2",
        "colab_type": "code",
        "colab": {
          "base_uri": "https://localhost:8080/",
          "height": 336
        },
        "outputId": "5bc0516b-0d77-4774-bf83-8dc65ea16a6f"
      },
      "source": [
        "import matplotlib.pyplot as plt\n",
        "for idx in rmse.index[:1]:\n",
        "  fig = plt.figure(figsize=(15,5))\n",
        "  plt.title('total_error: '+str(rmse[idx]))\n",
        "  plt.plot(test.loc[idx,y_cols],label='y_test')\n",
        "  plt.plot(y_pred.loc[idx,y_cols],label='y_pred')\n",
        "  plt.legend()\n",
        "  plt.show()"
      ],
      "execution_count": 20,
      "outputs": [
        {
          "output_type": "display_data",
          "data": {
            "image/png": "[encoded data removed]",
            "text/plain": [
              "<Figure size 1080x360 with 1 Axes>"
            ]
          },
          "metadata": {
            "tags": []
          }
        }
      ]
    },
    {
      "cell_type": "code",
      "metadata": {
        "id": "hI1HE_tHxWOo",
        "colab_type": "code",
        "colab": {
          "base_uri": "https://localhost:8080/",
          "height": 336
        },
        "outputId": "4199155c-0b72-4057-f486-53be44a6627b"
      },
      "source": [
        "for idx in rmse.index[-1:]:\n",
        "  fig = plt.figure(figsize=(15,5))\n",
        "  plt.title('total_error: '+str(rmse[idx]))\n",
        "  plt.plot(test.loc[idx,y_cols],label='y_test')\n",
        "  plt.plot(y_pred.loc[idx,y_cols],label='y_pred')\n",
        "  plt.legend()\n",
        "  plt.show()"
      ],
      "execution_count": 21,
      "outputs": [
        {
          "output_type": "display_data",
          "data": {
            "image/png": "[encoded data removed]",
            "text/plain": [
              "<Figure size 1080x360 with 1 Axes>"
            ]
          },
          "metadata": {
            "tags": []
          }
        }
      ]
    },
    {
      "cell_type": "code",
      "metadata": {
        "id": "LOCopjBSyU7w",
        "colab_type": "code",
        "colab": {}
      },
      "source": [
        ""
      ],
      "execution_count": 0,
      "outputs": []
    }
  ]
}