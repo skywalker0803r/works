{
  "nbformat": 4,
  "nbformat_minor": 0,
  "metadata": {
    "colab": {
      "name": "C7A.ipynb",
      "provenance": [],
      "collapsed_sections": [],
      "include_colab_link": true
    },
    "kernelspec": {
      "name": "python3",
      "display_name": "Python 3"
    }
  },
  "cells": [
    {
      "cell_type": "markdown",
      "metadata": {
        "id": "view-in-github",
        "colab_type": "text"
      },
      "source": [
        "<a href=\"https://colab.research.google.com/github/skywalker0803r/works/blob/master/C7A.ipynb\" target=\"_parent\"><img src=\"https://colab.research.google.com/assets/colab-badge.svg\" alt=\"Open In Colab\"/></a>"
      ]
    },
    {
      "cell_type": "code",
      "metadata": {
        "id": "xTX2C4HX5ZFL",
        "colab_type": "code",
        "outputId": "7ba0c984-3ca0-4fac-fe66-d9239ca73ea0",
        "colab": {
          "base_uri": "https://localhost:8080/",
          "height": 33
        }
      },
      "source": [
        "from google.colab import drive\n",
        "drive.mount('/content/drive')\n",
        "import matplotlib.pyplot as plt\n",
        "import warnings \n",
        "warnings.simplefilter('ignore')"
      ],
      "execution_count": 1,
      "outputs": [
        {
          "output_type": "stream",
          "text": [
            "Drive already mounted at /content/drive; to attempt to forcibly remount, call drive.mount(\"/content/drive\", force_remount=True).\n"
          ],
          "name": "stdout"
        }
      ]
    },
    {
      "cell_type": "markdown",
      "metadata": {
        "id": "ntB8KlJM6gEY",
        "colab_type": "text"
      },
      "source": [
        "# Load data"
      ]
    },
    {
      "cell_type": "code",
      "metadata": {
        "id": "no46PF6T5dPn",
        "colab_type": "code",
        "outputId": "025849d5-301e-4650-f2ca-9e3535a88175",
        "colab": {
          "base_uri": "https://localhost:8080/",
          "height": 67
        }
      },
      "source": [
        "import pandas as pd\n",
        "\n",
        "train = pd.read_csv('/content/drive/My Drive/台塑輕油案子/data/train_4521.csv',index_col=0).reset_index(drop=True)\n",
        "test_170 = pd.read_csv('/content/drive/My Drive/台塑輕油案子/data/test_170.csv',index_col=0).reset_index(drop=True)\n",
        "test_250 = pd.read_csv('/content/drive/My Drive/台塑輕油案子/data/test_250.csv',index_col=0).reset_index(drop=True)\n",
        "\n",
        "test_200 = test_250.loc[ test_250.index % 5 != 0 ,:]\n",
        "test_50 = test_250.loc[ test_250.index % 5 == 0 ,:]\n",
        "\n",
        "train = train.append(test_200)#加入200筆\n",
        "\n",
        "print('train',train.shape)\n",
        "print('test_170',test_170.shape)\n",
        "print('test_50',test_50.shape)"
      ],
      "execution_count": 2,
      "outputs": [
        {
          "output_type": "stream",
          "text": [
            "train (4721, 27)\n",
            "test_170 (170, 27)\n",
            "test_50 (50, 27)\n"
          ],
          "name": "stdout"
        }
      ]
    },
    {
      "cell_type": "code",
      "metadata": {
        "id": "xs44aGa_BfGC",
        "colab_type": "code",
        "outputId": "63d45dde-d3fa-463b-aa31-417160033a3c",
        "colab": {
          "base_uri": "https://localhost:8080/",
          "height": 197
        }
      },
      "source": [
        "train.head()"
      ],
      "execution_count": 3,
      "outputs": [
        {
          "output_type": "execute_result",
          "data": {
            "text/html": [
              "<div>\n",
              "<style scoped>\n",
              "    .dataframe tbody tr th:only-of-type {\n",
              "        vertical-align: middle;\n",
              "    }\n",
              "\n",
              "    .dataframe tbody tr th {\n",
              "        vertical-align: top;\n",
              "    }\n",
              "\n",
              "    .dataframe thead th {\n",
              "        text-align: right;\n",
              "    }\n",
              "</style>\n",
              "<table border=\"1\" class=\"dataframe\">\n",
              "  <thead>\n",
              "    <tr style=\"text-align: right;\">\n",
              "      <th></th>\n",
              "      <th>T10</th>\n",
              "      <th>T50</th>\n",
              "      <th>T90</th>\n",
              "      <th>N+A</th>\n",
              "      <th>C5NP</th>\n",
              "      <th>C5IP</th>\n",
              "      <th>C5N</th>\n",
              "      <th>C6NP</th>\n",
              "      <th>C6IP</th>\n",
              "      <th>C6N</th>\n",
              "      <th>C6A</th>\n",
              "      <th>C7NP</th>\n",
              "      <th>C7IP</th>\n",
              "      <th>C7N</th>\n",
              "      <th>C7A</th>\n",
              "      <th>C8NP</th>\n",
              "      <th>C8IP</th>\n",
              "      <th>C8N</th>\n",
              "      <th>C8A</th>\n",
              "      <th>C9NP</th>\n",
              "      <th>C9IP</th>\n",
              "      <th>C9N</th>\n",
              "      <th>C9A</th>\n",
              "      <th>C10NP</th>\n",
              "      <th>C10IP</th>\n",
              "      <th>C10N</th>\n",
              "      <th>C10A</th>\n",
              "    </tr>\n",
              "  </thead>\n",
              "  <tbody>\n",
              "    <tr>\n",
              "      <th>0</th>\n",
              "      <td>100.5</td>\n",
              "      <td>119.2</td>\n",
              "      <td>146.5</td>\n",
              "      <td>31.978</td>\n",
              "      <td>0.272</td>\n",
              "      <td>0.132</td>\n",
              "      <td>0.059</td>\n",
              "      <td>5.293</td>\n",
              "      <td>2.570</td>\n",
              "      <td>2.819</td>\n",
              "      <td>0.494</td>\n",
              "      <td>10.395</td>\n",
              "      <td>8.070</td>\n",
              "      <td>6.411</td>\n",
              "      <td>2.917</td>\n",
              "      <td>9.138</td>\n",
              "      <td>9.649</td>\n",
              "      <td>4.810</td>\n",
              "      <td>5.373</td>\n",
              "      <td>6.405</td>\n",
              "      <td>9.759</td>\n",
              "      <td>4.590</td>\n",
              "      <td>3.661</td>\n",
              "      <td>0.875</td>\n",
              "      <td>5.257</td>\n",
              "      <td>0.525</td>\n",
              "      <td>0.319</td>\n",
              "    </tr>\n",
              "    <tr>\n",
              "      <th>1</th>\n",
              "      <td>99.6</td>\n",
              "      <td>117.9</td>\n",
              "      <td>145.5</td>\n",
              "      <td>31.568</td>\n",
              "      <td>0.297</td>\n",
              "      <td>0.151</td>\n",
              "      <td>0.062</td>\n",
              "      <td>5.089</td>\n",
              "      <td>2.531</td>\n",
              "      <td>2.804</td>\n",
              "      <td>0.499</td>\n",
              "      <td>10.074</td>\n",
              "      <td>7.958</td>\n",
              "      <td>6.395</td>\n",
              "      <td>2.894</td>\n",
              "      <td>8.970</td>\n",
              "      <td>9.548</td>\n",
              "      <td>4.753</td>\n",
              "      <td>5.443</td>\n",
              "      <td>6.324</td>\n",
              "      <td>9.899</td>\n",
              "      <td>4.301</td>\n",
              "      <td>2.995</td>\n",
              "      <td>0.881</td>\n",
              "      <td>5.591</td>\n",
              "      <td>1.119</td>\n",
              "      <td>0.303</td>\n",
              "    </tr>\n",
              "    <tr>\n",
              "      <th>2</th>\n",
              "      <td>100.0</td>\n",
              "      <td>118.8</td>\n",
              "      <td>145.6</td>\n",
              "      <td>31.344</td>\n",
              "      <td>0.262</td>\n",
              "      <td>0.126</td>\n",
              "      <td>0.061</td>\n",
              "      <td>5.107</td>\n",
              "      <td>2.571</td>\n",
              "      <td>2.771</td>\n",
              "      <td>0.492</td>\n",
              "      <td>10.069</td>\n",
              "      <td>7.913</td>\n",
              "      <td>6.378</td>\n",
              "      <td>2.890</td>\n",
              "      <td>9.006</td>\n",
              "      <td>9.591</td>\n",
              "      <td>4.778</td>\n",
              "      <td>5.468</td>\n",
              "      <td>6.360</td>\n",
              "      <td>9.983</td>\n",
              "      <td>4.274</td>\n",
              "      <td>2.979</td>\n",
              "      <td>0.865</td>\n",
              "      <td>5.641</td>\n",
              "      <td>0.964</td>\n",
              "      <td>0.289</td>\n",
              "    </tr>\n",
              "    <tr>\n",
              "      <th>3</th>\n",
              "      <td>100.4</td>\n",
              "      <td>118.6</td>\n",
              "      <td>142.9</td>\n",
              "      <td>31.453</td>\n",
              "      <td>0.224</td>\n",
              "      <td>0.105</td>\n",
              "      <td>0.060</td>\n",
              "      <td>4.894</td>\n",
              "      <td>2.497</td>\n",
              "      <td>2.650</td>\n",
              "      <td>0.469</td>\n",
              "      <td>10.015</td>\n",
              "      <td>7.685</td>\n",
              "      <td>6.376</td>\n",
              "      <td>2.866</td>\n",
              "      <td>9.133</td>\n",
              "      <td>9.708</td>\n",
              "      <td>4.889</td>\n",
              "      <td>5.510</td>\n",
              "      <td>6.444</td>\n",
              "      <td>10.182</td>\n",
              "      <td>4.420</td>\n",
              "      <td>2.964</td>\n",
              "      <td>0.830</td>\n",
              "      <td>5.637</td>\n",
              "      <td>0.968</td>\n",
              "      <td>0.281</td>\n",
              "    </tr>\n",
              "    <tr>\n",
              "      <th>4</th>\n",
              "      <td>100.4</td>\n",
              "      <td>118.1</td>\n",
              "      <td>142.2</td>\n",
              "      <td>32.190</td>\n",
              "      <td>0.243</td>\n",
              "      <td>0.117</td>\n",
              "      <td>0.061</td>\n",
              "      <td>4.946</td>\n",
              "      <td>2.503</td>\n",
              "      <td>2.695</td>\n",
              "      <td>0.477</td>\n",
              "      <td>10.053</td>\n",
              "      <td>7.765</td>\n",
              "      <td>6.394</td>\n",
              "      <td>2.877</td>\n",
              "      <td>9.101</td>\n",
              "      <td>9.676</td>\n",
              "      <td>4.855</td>\n",
              "      <td>5.500</td>\n",
              "      <td>6.416</td>\n",
              "      <td>10.115</td>\n",
              "      <td>4.347</td>\n",
              "      <td>3.725</td>\n",
              "      <td>0.835</td>\n",
              "      <td>4.823</td>\n",
              "      <td>0.969</td>\n",
              "      <td>0.290</td>\n",
              "    </tr>\n",
              "  </tbody>\n",
              "</table>\n",
              "</div>"
            ],
            "text/plain": [
              "     T10    T50    T90     N+A   C5NP  ...    C9A  C10NP  C10IP   C10N   C10A\n",
              "0  100.5  119.2  146.5  31.978  0.272  ...  3.661  0.875  5.257  0.525  0.319\n",
              "1   99.6  117.9  145.5  31.568  0.297  ...  2.995  0.881  5.591  1.119  0.303\n",
              "2  100.0  118.8  145.6  31.344  0.262  ...  2.979  0.865  5.641  0.964  0.289\n",
              "3  100.4  118.6  142.9  31.453  0.224  ...  2.964  0.830  5.637  0.968  0.281\n",
              "4  100.4  118.1  142.2  32.190  0.243  ...  3.725  0.835  4.823  0.969  0.290\n",
              "\n",
              "[5 rows x 27 columns]"
            ]
          },
          "metadata": {
            "tags": []
          },
          "execution_count": 3
        }
      ]
    },
    {
      "cell_type": "code",
      "metadata": {
        "id": "nid60yDlCq-E",
        "colab_type": "code",
        "colab": {}
      },
      "source": [
        "features = ['T10','T50','T90','N+A']\n",
        "y_columns = train.columns.tolist()[4:]\n",
        "y_name = 'C7A'"
      ],
      "execution_count": 0,
      "outputs": []
    },
    {
      "cell_type": "markdown",
      "metadata": {
        "id": "TRBCKQB0CfzF",
        "colab_type": "text"
      },
      "source": [
        "# features scaler"
      ]
    },
    {
      "cell_type": "code",
      "metadata": {
        "id": "QexTXoC0CgAB",
        "colab_type": "code",
        "colab": {}
      },
      "source": [
        "from sklearn.preprocessing import StandardScaler\n",
        "\n",
        "scaler = StandardScaler().fit(train[features])\n",
        "\n",
        "train[features] = scaler.transform(train[features])\n",
        "test_170[features] = scaler.transform(test_170[features])\n",
        "test_50[features] = scaler.transform(test_50[features])"
      ],
      "execution_count": 0,
      "outputs": []
    },
    {
      "cell_type": "markdown",
      "metadata": {
        "id": "n23ioYhjCbL4",
        "colab_type": "text"
      },
      "source": [
        "# corr with x"
      ]
    },
    {
      "cell_type": "code",
      "metadata": {
        "id": "8iYxbyTuRkzi",
        "colab_type": "code",
        "outputId": "ae6ae949-eaf7-44f0-8853-3ba4312ae577",
        "colab": {
          "base_uri": "https://localhost:8080/",
          "height": 197
        }
      },
      "source": [
        "corrs = train[features+[y_name]].corr()\n",
        "abs(corrs)"
      ],
      "execution_count": 6,
      "outputs": [
        {
          "output_type": "execute_result",
          "data": {
            "text/html": [
              "<div>\n",
              "<style scoped>\n",
              "    .dataframe tbody tr th:only-of-type {\n",
              "        vertical-align: middle;\n",
              "    }\n",
              "\n",
              "    .dataframe tbody tr th {\n",
              "        vertical-align: top;\n",
              "    }\n",
              "\n",
              "    .dataframe thead th {\n",
              "        text-align: right;\n",
              "    }\n",
              "</style>\n",
              "<table border=\"1\" class=\"dataframe\">\n",
              "  <thead>\n",
              "    <tr style=\"text-align: right;\">\n",
              "      <th></th>\n",
              "      <th>T10</th>\n",
              "      <th>T50</th>\n",
              "      <th>T90</th>\n",
              "      <th>N+A</th>\n",
              "      <th>C7A</th>\n",
              "    </tr>\n",
              "  </thead>\n",
              "  <tbody>\n",
              "    <tr>\n",
              "      <th>T10</th>\n",
              "      <td>1.000000</td>\n",
              "      <td>0.895238</td>\n",
              "      <td>0.222087</td>\n",
              "      <td>0.262210</td>\n",
              "      <td>0.090102</td>\n",
              "    </tr>\n",
              "    <tr>\n",
              "      <th>T50</th>\n",
              "      <td>0.895238</td>\n",
              "      <td>1.000000</td>\n",
              "      <td>0.533778</td>\n",
              "      <td>0.371996</td>\n",
              "      <td>0.235107</td>\n",
              "    </tr>\n",
              "    <tr>\n",
              "      <th>T90</th>\n",
              "      <td>0.222087</td>\n",
              "      <td>0.533778</td>\n",
              "      <td>1.000000</td>\n",
              "      <td>0.217989</td>\n",
              "      <td>0.280919</td>\n",
              "    </tr>\n",
              "    <tr>\n",
              "      <th>N+A</th>\n",
              "      <td>0.262210</td>\n",
              "      <td>0.371996</td>\n",
              "      <td>0.217989</td>\n",
              "      <td>1.000000</td>\n",
              "      <td>0.458878</td>\n",
              "    </tr>\n",
              "    <tr>\n",
              "      <th>C7A</th>\n",
              "      <td>0.090102</td>\n",
              "      <td>0.235107</td>\n",
              "      <td>0.280919</td>\n",
              "      <td>0.458878</td>\n",
              "      <td>1.000000</td>\n",
              "    </tr>\n",
              "  </tbody>\n",
              "</table>\n",
              "</div>"
            ],
            "text/plain": [
              "          T10       T50       T90       N+A       C7A\n",
              "T10  1.000000  0.895238  0.222087  0.262210  0.090102\n",
              "T50  0.895238  1.000000  0.533778  0.371996  0.235107\n",
              "T90  0.222087  0.533778  1.000000  0.217989  0.280919\n",
              "N+A  0.262210  0.371996  0.217989  1.000000  0.458878\n",
              "C7A  0.090102  0.235107  0.280919  0.458878  1.000000"
            ]
          },
          "metadata": {
            "tags": []
          },
          "execution_count": 6
        }
      ]
    },
    {
      "cell_type": "markdown",
      "metadata": {
        "id": "Td3srMukCdDo",
        "colab_type": "text"
      },
      "source": [
        "# corr with y"
      ]
    },
    {
      "cell_type": "code",
      "metadata": {
        "id": "73moSg4fCdNB",
        "colab_type": "code",
        "outputId": "22b6a6f0-ae63-4443-d3c6-17bdef6d0b24",
        "colab": {
          "base_uri": "https://localhost:8080/",
          "height": 347
        }
      },
      "source": [
        "y_corrs = train[y_columns].corr()[[y_name]]\n",
        "y_corrs = abs(y_corrs).sort_values(by=y_name,ascending=False).head(10)\n",
        "y_corrs"
      ],
      "execution_count": 7,
      "outputs": [
        {
          "output_type": "execute_result",
          "data": {
            "text/html": [
              "<div>\n",
              "<style scoped>\n",
              "    .dataframe tbody tr th:only-of-type {\n",
              "        vertical-align: middle;\n",
              "    }\n",
              "\n",
              "    .dataframe tbody tr th {\n",
              "        vertical-align: top;\n",
              "    }\n",
              "\n",
              "    .dataframe thead th {\n",
              "        text-align: right;\n",
              "    }\n",
              "</style>\n",
              "<table border=\"1\" class=\"dataframe\">\n",
              "  <thead>\n",
              "    <tr style=\"text-align: right;\">\n",
              "      <th></th>\n",
              "      <th>C7A</th>\n",
              "    </tr>\n",
              "  </thead>\n",
              "  <tbody>\n",
              "    <tr>\n",
              "      <th>C7A</th>\n",
              "      <td>1.000000</td>\n",
              "    </tr>\n",
              "    <tr>\n",
              "      <th>C6A</th>\n",
              "      <td>0.427866</td>\n",
              "    </tr>\n",
              "    <tr>\n",
              "      <th>C10IP</th>\n",
              "      <td>0.385921</td>\n",
              "    </tr>\n",
              "    <tr>\n",
              "      <th>C9NP</th>\n",
              "      <td>0.340065</td>\n",
              "    </tr>\n",
              "    <tr>\n",
              "      <th>C8NP</th>\n",
              "      <td>0.327047</td>\n",
              "    </tr>\n",
              "    <tr>\n",
              "      <th>C9IP</th>\n",
              "      <td>0.316158</td>\n",
              "    </tr>\n",
              "    <tr>\n",
              "      <th>C7N</th>\n",
              "      <td>0.283721</td>\n",
              "    </tr>\n",
              "    <tr>\n",
              "      <th>C8IP</th>\n",
              "      <td>0.264058</td>\n",
              "    </tr>\n",
              "    <tr>\n",
              "      <th>C7NP</th>\n",
              "      <td>0.263354</td>\n",
              "    </tr>\n",
              "    <tr>\n",
              "      <th>C9A</th>\n",
              "      <td>0.246651</td>\n",
              "    </tr>\n",
              "  </tbody>\n",
              "</table>\n",
              "</div>"
            ],
            "text/plain": [
              "            C7A\n",
              "C7A    1.000000\n",
              "C6A    0.427866\n",
              "C10IP  0.385921\n",
              "C9NP   0.340065\n",
              "C8NP   0.327047\n",
              "C9IP   0.316158\n",
              "C7N    0.283721\n",
              "C8IP   0.264058\n",
              "C7NP   0.263354\n",
              "C9A    0.246651"
            ]
          },
          "metadata": {
            "tags": []
          },
          "execution_count": 7
        }
      ]
    },
    {
      "cell_type": "markdown",
      "metadata": {
        "id": "xd091gpaESTk",
        "colab_type": "text"
      },
      "source": [
        "# 特徵工程"
      ]
    },
    {
      "cell_type": "code",
      "metadata": {
        "id": "RcTJI_6yESdk",
        "colab_type": "code",
        "colab": {}
      },
      "source": [
        "#train['F1'] = train['N+A']\n",
        "#test_170['F1'] = test_170['N+A']\n",
        "#test_50['F1'] = test_50['N+A']"
      ],
      "execution_count": 0,
      "outputs": []
    },
    {
      "cell_type": "markdown",
      "metadata": {
        "id": "uy1szUyEERxn",
        "colab_type": "text"
      },
      "source": [
        "# isomape萃取特徵"
      ]
    },
    {
      "cell_type": "code",
      "metadata": {
        "id": "1Dr7LIYgER7W",
        "colab_type": "code",
        "colab": {
          "base_uri": "https://localhost:8080/",
          "height": 50
        },
        "outputId": "011697da-f991-4203-ed00-f13f95eb79be"
      },
      "source": [
        "from sklearn.manifold import Isomap\n",
        "iso = Isomap(n_components=1,n_neighbors=30)\n",
        "iso_col = ['T10','T50','T90','N+A']\n",
        "iso.fit(train[iso_col])"
      ],
      "execution_count": 9,
      "outputs": [
        {
          "output_type": "execute_result",
          "data": {
            "text/plain": [
              "Isomap(eigen_solver='auto', max_iter=None, n_components=1, n_jobs=None,\n",
              "       n_neighbors=30, neighbors_algorithm='auto', path_method='auto', tol=0)"
            ]
          },
          "metadata": {
            "tags": []
          },
          "execution_count": 9
        }
      ]
    },
    {
      "cell_type": "code",
      "metadata": {
        "id": "nVlQoZTZsLhZ",
        "colab_type": "code",
        "colab": {
          "base_uri": "https://localhost:8080/",
          "height": 282
        },
        "outputId": "36c00187-bd94-4b40-d163-06dab966df57"
      },
      "source": [
        "plt.scatter(iso.dist_matrix_[:,0],iso.dist_matrix_[:,1])"
      ],
      "execution_count": 10,
      "outputs": [
        {
          "output_type": "execute_result",
          "data": {
            "text/plain": [
              "<matplotlib.collections.PathCollection at 0x7f55637a3ac8>"
            ]
          },
          "metadata": {
            "tags": []
          },
          "execution_count": 10
        },
        {
          "output_type": "display_data",
          "data": {
            "image/png": "[encoded data removed]",
            "text/plain": [
              "<Figure size 432x288 with 1 Axes>"
            ]
          },
          "metadata": {
            "tags": []
          }
        }
      ]
    },
    {
      "cell_type": "code",
      "metadata": {
        "id": "cQLlOl7QTFaC",
        "colab_type": "code",
        "colab": {}
      },
      "source": [
        "train['F1'] = iso.transform(train[iso_col])\n",
        "test_170['F1'] = iso.transform(test_170[iso_col])\n",
        "test_50['F1'] = iso.transform(test_50[iso_col])"
      ],
      "execution_count": 0,
      "outputs": []
    },
    {
      "cell_type": "markdown",
      "metadata": {
        "id": "vc89062OSze6",
        "colab_type": "text"
      },
      "source": [
        "# features selected pca_col selected"
      ]
    },
    {
      "cell_type": "code",
      "metadata": {
        "id": "tIj4vt3qSzoD",
        "colab_type": "code",
        "colab": {}
      },
      "source": [
        "features = ['F1']\n",
        "pca_col = [y_name]"
      ],
      "execution_count": 0,
      "outputs": []
    },
    {
      "cell_type": "markdown",
      "metadata": {
        "id": "YwrTkRmDDb3C",
        "colab_type": "text"
      },
      "source": [
        "# PCA y_columns"
      ]
    },
    {
      "cell_type": "markdown",
      "metadata": {
        "id": "xhQEL8VufZUX",
        "colab_type": "text"
      },
      "source": [
        "尋找最佳組合"
      ]
    },
    {
      "cell_type": "code",
      "metadata": {
        "id": "r2N1XvFlDKU2",
        "colab_type": "code",
        "colab": {
          "base_uri": "https://localhost:8080/",
          "height": 50
        },
        "outputId": "8ccfae84-52b0-4bb3-9bc8-50b8e2ce89d6"
      },
      "source": [
        "from sklearn.decomposition import PCA\n",
        "from sklearn.preprocessing import StandardScaler\n",
        "\n",
        "scaler_y = StandardScaler()\n",
        "pca = PCA(n_components=1)\n",
        "best_corr = 0\n",
        "best_col = None\n",
        "for col in y_corrs.head(3).index:\n",
        "  if col in pca_col:\n",
        "    continue\n",
        "  else:\n",
        "    train['pca_1'] = pca.fit_transform(scaler_y.fit_transform(train[pca_col+[col]]))\n",
        "    r = train[['pca_1','F1']].corr().loc['pca_1','F1']\n",
        "    if abs(r) > best_corr:\n",
        "      print(col,abs(r))\n",
        "      best_corr = r\n",
        "      best_col = col"
      ],
      "execution_count": 13,
      "outputs": [
        {
          "output_type": "stream",
          "text": [
            "C6A 0.4493389551546254\n",
            "C10IP 0.6457411820989197\n"
          ],
          "name": "stdout"
        }
      ]
    },
    {
      "cell_type": "markdown",
      "metadata": {
        "id": "NCLp9dFzfbIY",
        "colab_type": "text"
      },
      "source": [
        "找到最佳組合了"
      ]
    },
    {
      "cell_type": "code",
      "metadata": {
        "id": "hxeJU98LgneQ",
        "colab_type": "code",
        "colab": {
          "base_uri": "https://localhost:8080/",
          "height": 33
        },
        "outputId": "d6c88214-c3d1-433d-9207-98bc445b9723"
      },
      "source": [
        "best_col"
      ],
      "execution_count": 14,
      "outputs": [
        {
          "output_type": "execute_result",
          "data": {
            "text/plain": [
              "'C10IP'"
            ]
          },
          "metadata": {
            "tags": []
          },
          "execution_count": 14
        }
      ]
    },
    {
      "cell_type": "code",
      "metadata": {
        "id": "amKS99WffNyy",
        "colab_type": "code",
        "colab": {
          "base_uri": "https://localhost:8080/",
          "height": 33
        },
        "outputId": "08ec8524-8149-4fdd-ff3e-e0970f92d02e"
      },
      "source": [
        "pca_col = [y_name]#+[best_col]\n",
        "pca_col"
      ],
      "execution_count": 15,
      "outputs": [
        {
          "output_type": "execute_result",
          "data": {
            "text/plain": [
              "['C7A']"
            ]
          },
          "metadata": {
            "tags": []
          },
          "execution_count": 15
        }
      ]
    },
    {
      "cell_type": "markdown",
      "metadata": {
        "id": "1CDxOSPGfc91",
        "colab_type": "text"
      },
      "source": [
        "轉換"
      ]
    },
    {
      "cell_type": "code",
      "metadata": {
        "id": "73j6RfMaengn",
        "colab_type": "code",
        "colab": {}
      },
      "source": [
        "train['pca_1'] = pca.fit_transform(scaler_y.fit_transform(train[pca_col]))\n",
        "test_170['pca_1'] = pca.transform(scaler_y.transform(test_170[pca_col]))\n",
        "test_50['pca_1'] = pca.transform(scaler_y.transform(test_50[pca_col]))"
      ],
      "execution_count": 0,
      "outputs": []
    },
    {
      "cell_type": "markdown",
      "metadata": {
        "id": "DgnbeigQEc3J",
        "colab_type": "text"
      },
      "source": [
        "# corr with x,y"
      ]
    },
    {
      "cell_type": "code",
      "metadata": {
        "id": "GecRPzzYEdFv",
        "colab_type": "code",
        "outputId": "41ac2b12-4f2d-4dee-c064-e59b8c69a9bd",
        "colab": {
          "base_uri": "https://localhost:8080/",
          "height": 279
        }
      },
      "source": [
        "import seaborn as sns\n",
        "import matplotlib.pyplot as plt\n",
        "labels = train[features+['pca_1']].corr().loc['pca_1',features][0]\n",
        "labels = round(labels,3)\n",
        "sns.scatterplot(train[features[0]],train['pca_1'],label=labels)\n",
        "plt.legend()\n",
        "plt.show()"
      ],
      "execution_count": 17,
      "outputs": [
        {
          "output_type": "display_data",
          "data": {
            "image/png": "[encoded data removed]",
            "text/plain": [
              "<Figure size 432x288 with 1 Axes>"
            ]
          },
          "metadata": {
            "tags": []
          }
        }
      ]
    },
    {
      "cell_type": "markdown",
      "metadata": {
        "id": "YGr4otLZD-NJ",
        "colab_type": "text"
      },
      "source": [
        "# metric"
      ]
    },
    {
      "cell_type": "code",
      "metadata": {
        "id": "859tAQaqD7jd",
        "colab_type": "code",
        "colab": {}
      },
      "source": [
        "from sklearn.metrics import mean_squared_error,mean_absolute_error,r2_score\n",
        "import numpy as np\n",
        "from math import sqrt\n",
        "def metric(y_t,y_p,name):\n",
        "  res = {'R2':np.max((r2_score(y_t,y_p),0)),\n",
        "         'RMSE':sqrt(mean_squared_error(y_t,y_p)),\n",
        "         'mean_absolute_error':mean_absolute_error(y_t,y_p)}\n",
        "  return pd.DataFrame(res,index=[name])"
      ],
      "execution_count": 0,
      "outputs": []
    },
    {
      "cell_type": "markdown",
      "metadata": {
        "id": "X7gtrRFVEBWa",
        "colab_type": "text"
      },
      "source": [
        "# modeling"
      ]
    },
    {
      "cell_type": "code",
      "metadata": {
        "id": "dZ1UOMrPD_3R",
        "colab_type": "code",
        "outputId": "0d044980-b4a1-4a23-de85-fdb40e5bf860",
        "colab": {
          "base_uri": "https://localhost:8080/",
          "height": 50
        }
      },
      "source": [
        "from sklearn.svm import SVR\n",
        "from sklearn.linear_model import LinearRegression\n",
        "from sklearn.model_selection import cross_validate\n",
        "import warnings \n",
        "warnings.simplefilter('ignore')\n",
        "\n",
        "#算法選擇\n",
        "model = LinearRegression()\n",
        "#model = SVR()\n",
        "\n",
        "#交叉驗證表現\n",
        "val_scores = cross_validate(model,train[features],train['pca_1'],cv=5)\n",
        "print('交叉驗證分數:',val_scores['test_score'])\n",
        "print('交叉驗證分數平均:',val_scores['test_score'].mean())\n",
        "\n",
        "#fit\n",
        "model.fit(train[features],train['pca_1'])\n",
        "\n",
        "#預測\n",
        "train['y_pred'] = model.predict(train[features])\n",
        "test_170['y_pred'] = model.predict(test_170[features])\n",
        "test_50['y_pred'] = model.predict(test_50[features])"
      ],
      "execution_count": 19,
      "outputs": [
        {
          "output_type": "stream",
          "text": [
            "交叉驗證分數: [ 0.06086829  0.02725884 -0.25058798  0.06931555  0.11820635]\n",
            "交叉驗證分數平均: 0.005012208747557123\n"
          ],
          "name": "stdout"
        }
      ]
    },
    {
      "cell_type": "markdown",
      "metadata": {
        "id": "u95rAAbRMwoH",
        "colab_type": "text"
      },
      "source": [
        "# 分數"
      ]
    },
    {
      "cell_type": "code",
      "metadata": {
        "id": "fIxf6oHFGqwq",
        "colab_type": "code",
        "outputId": "dff70745-c32d-450a-b2ea-41763d4ac470",
        "colab": {
          "base_uri": "https://localhost:8080/",
          "height": 137
        }
      },
      "source": [
        "metric(train['pca_1'],train['y_pred'],'train').append(\n",
        "    metric(test_170['pca_1'],test_170['y_pred'],'test_170')).append(\n",
        "        metric(test_50['pca_1'],test_50['y_pred'],'test_50'))"
      ],
      "execution_count": 20,
      "outputs": [
        {
          "output_type": "execute_result",
          "data": {
            "text/html": [
              "<div>\n",
              "<style scoped>\n",
              "    .dataframe tbody tr th:only-of-type {\n",
              "        vertical-align: middle;\n",
              "    }\n",
              "\n",
              "    .dataframe tbody tr th {\n",
              "        vertical-align: top;\n",
              "    }\n",
              "\n",
              "    .dataframe thead th {\n",
              "        text-align: right;\n",
              "    }\n",
              "</style>\n",
              "<table border=\"1\" class=\"dataframe\">\n",
              "  <thead>\n",
              "    <tr style=\"text-align: right;\">\n",
              "      <th></th>\n",
              "      <th>R2</th>\n",
              "      <th>RMSE</th>\n",
              "      <th>mean_absolute_error</th>\n",
              "    </tr>\n",
              "  </thead>\n",
              "  <tbody>\n",
              "    <tr>\n",
              "      <th>train</th>\n",
              "      <td>0.089313</td>\n",
              "      <td>0.954299</td>\n",
              "      <td>0.396110</td>\n",
              "    </tr>\n",
              "    <tr>\n",
              "      <th>test_170</th>\n",
              "      <td>0.613326</td>\n",
              "      <td>0.239140</td>\n",
              "      <td>0.168239</td>\n",
              "    </tr>\n",
              "    <tr>\n",
              "      <th>test_50</th>\n",
              "      <td>0.000000</td>\n",
              "      <td>1.159101</td>\n",
              "      <td>0.789879</td>\n",
              "    </tr>\n",
              "  </tbody>\n",
              "</table>\n",
              "</div>"
            ],
            "text/plain": [
              "                R2      RMSE  mean_absolute_error\n",
              "train     0.089313  0.954299             0.396110\n",
              "test_170  0.613326  0.239140             0.168239\n",
              "test_50   0.000000  1.159101             0.789879"
            ]
          },
          "metadata": {
            "tags": []
          },
          "execution_count": 20
        }
      ]
    },
    {
      "cell_type": "markdown",
      "metadata": {
        "id": "PJZMRgxBLc5V",
        "colab_type": "text"
      },
      "source": [
        "# 還原分數"
      ]
    },
    {
      "cell_type": "code",
      "metadata": {
        "id": "cBtXrcroLdEE",
        "colab_type": "code",
        "colab": {}
      },
      "source": [
        "def inverse_pca_score(df):\n",
        "  y_pred_all = pd.DataFrame(scaler_y.inverse_transform(pca.inverse_transform(df[['y_pred']])),index=df.index,columns=pca_col)\n",
        "  y_test_all = df[pca_col]\n",
        "  table = pd.DataFrame()\n",
        "  for col in pca_col:\n",
        "    table = table.append(metric(y_test_all[col],y_pred_all[col],col))\n",
        "  table.loc['AVG'] = table.mean()\n",
        "  return table"
      ],
      "execution_count": 0,
      "outputs": []
    },
    {
      "cell_type": "code",
      "metadata": {
        "id": "7_cwvEWyL8RL",
        "colab_type": "code",
        "outputId": "04d2159a-23b4-4761-b3ae-19a7f68c4f43",
        "colab": {
          "base_uri": "https://localhost:8080/",
          "height": 107
        }
      },
      "source": [
        "inverse_pca_score(train)"
      ],
      "execution_count": 22,
      "outputs": [
        {
          "output_type": "execute_result",
          "data": {
            "text/html": [
              "<div>\n",
              "<style scoped>\n",
              "    .dataframe tbody tr th:only-of-type {\n",
              "        vertical-align: middle;\n",
              "    }\n",
              "\n",
              "    .dataframe tbody tr th {\n",
              "        vertical-align: top;\n",
              "    }\n",
              "\n",
              "    .dataframe thead th {\n",
              "        text-align: right;\n",
              "    }\n",
              "</style>\n",
              "<table border=\"1\" class=\"dataframe\">\n",
              "  <thead>\n",
              "    <tr style=\"text-align: right;\">\n",
              "      <th></th>\n",
              "      <th>R2</th>\n",
              "      <th>RMSE</th>\n",
              "      <th>mean_absolute_error</th>\n",
              "    </tr>\n",
              "  </thead>\n",
              "  <tbody>\n",
              "    <tr>\n",
              "      <th>C7A</th>\n",
              "      <td>0.089313</td>\n",
              "      <td>1.153168</td>\n",
              "      <td>0.478656</td>\n",
              "    </tr>\n",
              "    <tr>\n",
              "      <th>AVG</th>\n",
              "      <td>0.089313</td>\n",
              "      <td>1.153168</td>\n",
              "      <td>0.478656</td>\n",
              "    </tr>\n",
              "  </tbody>\n",
              "</table>\n",
              "</div>"
            ],
            "text/plain": [
              "           R2      RMSE  mean_absolute_error\n",
              "C7A  0.089313  1.153168             0.478656\n",
              "AVG  0.089313  1.153168             0.478656"
            ]
          },
          "metadata": {
            "tags": []
          },
          "execution_count": 22
        }
      ]
    },
    {
      "cell_type": "code",
      "metadata": {
        "id": "KHb_j4AyOinc",
        "colab_type": "code",
        "outputId": "25154576-933b-4f21-d23d-8a44c35e944c",
        "colab": {
          "base_uri": "https://localhost:8080/",
          "height": 107
        }
      },
      "source": [
        "inverse_pca_score(test_170)"
      ],
      "execution_count": 23,
      "outputs": [
        {
          "output_type": "execute_result",
          "data": {
            "text/html": [
              "<div>\n",
              "<style scoped>\n",
              "    .dataframe tbody tr th:only-of-type {\n",
              "        vertical-align: middle;\n",
              "    }\n",
              "\n",
              "    .dataframe tbody tr th {\n",
              "        vertical-align: top;\n",
              "    }\n",
              "\n",
              "    .dataframe thead th {\n",
              "        text-align: right;\n",
              "    }\n",
              "</style>\n",
              "<table border=\"1\" class=\"dataframe\">\n",
              "  <thead>\n",
              "    <tr style=\"text-align: right;\">\n",
              "      <th></th>\n",
              "      <th>R2</th>\n",
              "      <th>RMSE</th>\n",
              "      <th>mean_absolute_error</th>\n",
              "    </tr>\n",
              "  </thead>\n",
              "  <tbody>\n",
              "    <tr>\n",
              "      <th>C7A</th>\n",
              "      <td>0.613326</td>\n",
              "      <td>0.288975</td>\n",
              "      <td>0.203299</td>\n",
              "    </tr>\n",
              "    <tr>\n",
              "      <th>AVG</th>\n",
              "      <td>0.613326</td>\n",
              "      <td>0.288975</td>\n",
              "      <td>0.203299</td>\n",
              "    </tr>\n",
              "  </tbody>\n",
              "</table>\n",
              "</div>"
            ],
            "text/plain": [
              "           R2      RMSE  mean_absolute_error\n",
              "C7A  0.613326  0.288975             0.203299\n",
              "AVG  0.613326  0.288975             0.203299"
            ]
          },
          "metadata": {
            "tags": []
          },
          "execution_count": 23
        }
      ]
    },
    {
      "cell_type": "code",
      "metadata": {
        "id": "LE_AbHJwOiwv",
        "colab_type": "code",
        "outputId": "cdac6529-9832-4da1-e7dc-7aadd82d2bfa",
        "colab": {
          "base_uri": "https://localhost:8080/",
          "height": 107
        }
      },
      "source": [
        "inverse_pca_score(test_50)"
      ],
      "execution_count": 24,
      "outputs": [
        {
          "output_type": "execute_result",
          "data": {
            "text/html": [
              "<div>\n",
              "<style scoped>\n",
              "    .dataframe tbody tr th:only-of-type {\n",
              "        vertical-align: middle;\n",
              "    }\n",
              "\n",
              "    .dataframe tbody tr th {\n",
              "        vertical-align: top;\n",
              "    }\n",
              "\n",
              "    .dataframe thead th {\n",
              "        text-align: right;\n",
              "    }\n",
              "</style>\n",
              "<table border=\"1\" class=\"dataframe\">\n",
              "  <thead>\n",
              "    <tr style=\"text-align: right;\">\n",
              "      <th></th>\n",
              "      <th>R2</th>\n",
              "      <th>RMSE</th>\n",
              "      <th>mean_absolute_error</th>\n",
              "    </tr>\n",
              "  </thead>\n",
              "  <tbody>\n",
              "    <tr>\n",
              "      <th>C7A</th>\n",
              "      <td>0.0</td>\n",
              "      <td>1.400649</td>\n",
              "      <td>0.954484</td>\n",
              "    </tr>\n",
              "    <tr>\n",
              "      <th>AVG</th>\n",
              "      <td>0.0</td>\n",
              "      <td>1.400649</td>\n",
              "      <td>0.954484</td>\n",
              "    </tr>\n",
              "  </tbody>\n",
              "</table>\n",
              "</div>"
            ],
            "text/plain": [
              "      R2      RMSE  mean_absolute_error\n",
              "C7A  0.0  1.400649             0.954484\n",
              "AVG  0.0  1.400649             0.954484"
            ]
          },
          "metadata": {
            "tags": []
          },
          "execution_count": 24
        }
      ]
    },
    {
      "cell_type": "markdown",
      "metadata": {
        "id": "Y1yEjz8fEmLj",
        "colab_type": "text"
      },
      "source": [
        "# line plot"
      ]
    },
    {
      "cell_type": "code",
      "metadata": {
        "id": "lPN3Lzt8Hqvz",
        "colab_type": "code",
        "colab": {}
      },
      "source": [
        "by_col = 'F1'\n",
        "train = train.sort_values(by=by_col)\n",
        "test_170 = test_170.sort_values(by=by_col)\n",
        "test_50 = test_50.sort_values(by=by_col)"
      ],
      "execution_count": 0,
      "outputs": []
    },
    {
      "cell_type": "code",
      "metadata": {
        "id": "2WtwhqfZITPX",
        "colab_type": "code",
        "colab": {}
      },
      "source": [
        "def pred_plot(df,name):\n",
        "  plt.plot(df[by_col],df['y_pred'],label = name+'_pred')\n",
        "  plt.scatter(df[by_col],df['pca_1'],label = name+'_data')"
      ],
      "execution_count": 0,
      "outputs": []
    },
    {
      "cell_type": "code",
      "metadata": {
        "id": "g6NpsyNGEROi",
        "colab_type": "code",
        "outputId": "689c7271-5655-472a-fe84-ff37dc37dbc7",
        "colab": {
          "base_uri": "https://localhost:8080/",
          "height": 334
        }
      },
      "source": [
        "import matplotlib.pyplot as plt\n",
        "fig = plt.figure(figsize=(10,5))\n",
        "pred_plot(train,'train')\n",
        "pred_plot(test_170,'test_170')\n",
        "pred_plot(test_50,'test_50')\n",
        "plt.legend();plt.xlabel(by_col);plt.ylabel('pca_1')\n",
        "plt.show()"
      ],
      "execution_count": 27,
      "outputs": [
        {
          "output_type": "display_data",
          "data": {
            "image/png": "[encoded data removed]",
            "text/plain": [
              "<Figure size 720x360 with 1 Axes>"
            ]
          },
          "metadata": {
            "tags": []
          }
        }
      ]
    },
    {
      "cell_type": "markdown",
      "metadata": {
        "id": "ASUEGvMQFffU",
        "colab_type": "text"
      },
      "source": [
        "# tag out"
      ]
    },
    {
      "cell_type": "code",
      "metadata": {
        "id": "zpnPjycII97h",
        "colab_type": "code",
        "colab": {}
      },
      "source": [
        "def tag_out(df,閥值=1):\n",
        "  df['out'] = False\n",
        "  loss = (df['pca_1']-df['y_pred'])**2\n",
        "  df.loc[list(loss[loss>閥值].index),'out'] = True\n",
        "  return df"
      ],
      "execution_count": 0,
      "outputs": []
    },
    {
      "cell_type": "code",
      "metadata": {
        "id": "kCgwe6ONJgI6",
        "colab_type": "code",
        "colab": {}
      },
      "source": [
        "train = tag_out(train)\n",
        "test_170 = tag_out(test_170)\n",
        "test_50 = tag_out(test_50)"
      ],
      "execution_count": 0,
      "outputs": []
    },
    {
      "cell_type": "code",
      "metadata": {
        "id": "imMbxsl9NrQF",
        "colab_type": "code",
        "outputId": "e58620e5-036e-46ec-8510-dff4dfe28b56",
        "colab": {
          "base_uri": "https://localhost:8080/",
          "height": 150
        }
      },
      "source": [
        "print(train['out'].value_counts())\n",
        "print(test_170['out'].value_counts())\n",
        "print(test_50['out'].value_counts())"
      ],
      "execution_count": 30,
      "outputs": [
        {
          "output_type": "stream",
          "text": [
            "False    4169\n",
            "True      552\n",
            "Name: out, dtype: int64\n",
            "False    170\n",
            "Name: out, dtype: int64\n",
            "False    37\n",
            "True     13\n",
            "Name: out, dtype: int64\n"
          ],
          "name": "stdout"
        }
      ]
    },
    {
      "cell_type": "markdown",
      "metadata": {
        "id": "_jpYu-nOFozd",
        "colab_type": "text"
      },
      "source": [
        "# plot out"
      ]
    },
    {
      "cell_type": "code",
      "metadata": {
        "id": "n2mHHn2-Fq9z",
        "colab_type": "code",
        "outputId": "87b2864c-c674-4a8d-dcbf-41713962d5bd",
        "colab": {
          "base_uri": "https://localhost:8080/",
          "height": 334
        }
      },
      "source": [
        "fig = plt.figure(figsize=(10,5))\n",
        "pred_plot(train,'train')\n",
        "pred_plot(train[train.out==True],'train_out')\n",
        "plt.legend();plt.xlabel(by_col);plt.ylabel('pca_1')\n",
        "plt.show()"
      ],
      "execution_count": 31,
      "outputs": [
        {
          "output_type": "display_data",
          "data": {
            "image/png": "[encoded data removed]",
            "text/plain": [
              "<Figure size 720x360 with 1 Axes>"
            ]
          },
          "metadata": {
            "tags": []
          }
        }
      ]
    },
    {
      "cell_type": "code",
      "metadata": {
        "id": "yaVPjwyPK6De",
        "colab_type": "code",
        "outputId": "7bf2b001-e031-4a4d-e190-0acc0a2d5ee9",
        "colab": {
          "base_uri": "https://localhost:8080/",
          "height": 334
        }
      },
      "source": [
        "fig = plt.figure(figsize=(10,5))\n",
        "pred_plot(test_170,'test_170')\n",
        "pred_plot(test_170[test_170.out==True],'test_170_out')\n",
        "plt.legend();plt.xlabel(by_col);plt.ylabel('pca_1')\n",
        "plt.show()"
      ],
      "execution_count": 32,
      "outputs": [
        {
          "output_type": "display_data",
          "data": {
            "image/png": "[encoded data removed]",
            "text/plain": [
              "<Figure size 720x360 with 1 Axes>"
            ]
          },
          "metadata": {
            "tags": []
          }
        }
      ]
    },
    {
      "cell_type": "code",
      "metadata": {
        "id": "pRUzzD9XK6MC",
        "colab_type": "code",
        "outputId": "352ce254-95eb-4c4e-95f1-ba48031eddfa",
        "colab": {
          "base_uri": "https://localhost:8080/",
          "height": 334
        }
      },
      "source": [
        "fig = plt.figure(figsize=(10,5))\n",
        "pred_plot(test_50,'test_50')\n",
        "pred_plot(test_50[test_50.out==True],'test_50_out')\n",
        "plt.legend();plt.xlabel(by_col);plt.ylabel('pca_1')\n",
        "plt.show()"
      ],
      "execution_count": 33,
      "outputs": [
        {
          "output_type": "display_data",
          "data": {
            "image/png": "[encoded data removed]",
            "text/plain": [
              "<Figure size 720x360 with 1 Axes>"
            ]
          },
          "metadata": {
            "tags": []
          }
        }
      ]
    },
    {
      "cell_type": "markdown",
      "metadata": {
        "id": "9waJPT5aO96f",
        "colab_type": "text"
      },
      "source": [
        "# del out"
      ]
    },
    {
      "cell_type": "code",
      "metadata": {
        "id": "uUFTOAxFO-CU",
        "colab_type": "code",
        "colab": {}
      },
      "source": [
        "train = train[train.out==False]\n",
        "test_170 = test_170[test_170.out==False]\n",
        "test_50 = test_50[test_50.out==False]"
      ],
      "execution_count": 0,
      "outputs": []
    },
    {
      "cell_type": "markdown",
      "metadata": {
        "id": "UdHltTljGP_c",
        "colab_type": "text"
      },
      "source": [
        "# del out 分數"
      ]
    },
    {
      "cell_type": "code",
      "metadata": {
        "id": "pz5LK6lwGVWh",
        "colab_type": "code",
        "outputId": "8084c8bb-7462-4501-edc7-c4f39cd3d8b4",
        "colab": {
          "base_uri": "https://localhost:8080/",
          "height": 137
        }
      },
      "source": [
        "metric(train['pca_1'],train['y_pred'],'train').append(\n",
        "    metric(test_170['pca_1'],test_170['y_pred'],'test_170')).append(\n",
        "        metric(test_50['pca_1'],test_50['y_pred'],'test_50')\n",
        "    )"
      ],
      "execution_count": 35,
      "outputs": [
        {
          "output_type": "execute_result",
          "data": {
            "text/html": [
              "<div>\n",
              "<style scoped>\n",
              "    .dataframe tbody tr th:only-of-type {\n",
              "        vertical-align: middle;\n",
              "    }\n",
              "\n",
              "    .dataframe tbody tr th {\n",
              "        vertical-align: top;\n",
              "    }\n",
              "\n",
              "    .dataframe thead th {\n",
              "        text-align: right;\n",
              "    }\n",
              "</style>\n",
              "<table border=\"1\" class=\"dataframe\">\n",
              "  <thead>\n",
              "    <tr style=\"text-align: right;\">\n",
              "      <th></th>\n",
              "      <th>R2</th>\n",
              "      <th>RMSE</th>\n",
              "      <th>mean_absolute_error</th>\n",
              "    </tr>\n",
              "  </thead>\n",
              "  <tbody>\n",
              "    <tr>\n",
              "      <th>train</th>\n",
              "      <td>0.315537</td>\n",
              "      <td>0.328819</td>\n",
              "      <td>0.235024</td>\n",
              "    </tr>\n",
              "    <tr>\n",
              "      <th>test_170</th>\n",
              "      <td>0.613326</td>\n",
              "      <td>0.239140</td>\n",
              "      <td>0.168239</td>\n",
              "    </tr>\n",
              "    <tr>\n",
              "      <th>test_50</th>\n",
              "      <td>0.000000</td>\n",
              "      <td>0.447725</td>\n",
              "      <td>0.352043</td>\n",
              "    </tr>\n",
              "  </tbody>\n",
              "</table>\n",
              "</div>"
            ],
            "text/plain": [
              "                R2      RMSE  mean_absolute_error\n",
              "train     0.315537  0.328819             0.235024\n",
              "test_170  0.613326  0.239140             0.168239\n",
              "test_50   0.000000  0.447725             0.352043"
            ]
          },
          "metadata": {
            "tags": []
          },
          "execution_count": 35
        }
      ]
    },
    {
      "cell_type": "markdown",
      "metadata": {
        "id": "RBH3LCw9OqE8",
        "colab_type": "text"
      },
      "source": [
        "# del out 還原分數"
      ]
    },
    {
      "cell_type": "code",
      "metadata": {
        "id": "cqtWaU9cNUwv",
        "colab_type": "code",
        "outputId": "bde8a04e-37de-4f33-ed1f-8f9c1c1740be",
        "colab": {
          "base_uri": "https://localhost:8080/",
          "height": 107
        }
      },
      "source": [
        "inverse_pca_score(train)"
      ],
      "execution_count": 36,
      "outputs": [
        {
          "output_type": "execute_result",
          "data": {
            "text/html": [
              "<div>\n",
              "<style scoped>\n",
              "    .dataframe tbody tr th:only-of-type {\n",
              "        vertical-align: middle;\n",
              "    }\n",
              "\n",
              "    .dataframe tbody tr th {\n",
              "        vertical-align: top;\n",
              "    }\n",
              "\n",
              "    .dataframe thead th {\n",
              "        text-align: right;\n",
              "    }\n",
              "</style>\n",
              "<table border=\"1\" class=\"dataframe\">\n",
              "  <thead>\n",
              "    <tr style=\"text-align: right;\">\n",
              "      <th></th>\n",
              "      <th>R2</th>\n",
              "      <th>RMSE</th>\n",
              "      <th>mean_absolute_error</th>\n",
              "    </tr>\n",
              "  </thead>\n",
              "  <tbody>\n",
              "    <tr>\n",
              "      <th>C7A</th>\n",
              "      <td>0.315537</td>\n",
              "      <td>0.397342</td>\n",
              "      <td>0.284002</td>\n",
              "    </tr>\n",
              "    <tr>\n",
              "      <th>AVG</th>\n",
              "      <td>0.315537</td>\n",
              "      <td>0.397342</td>\n",
              "      <td>0.284002</td>\n",
              "    </tr>\n",
              "  </tbody>\n",
              "</table>\n",
              "</div>"
            ],
            "text/plain": [
              "           R2      RMSE  mean_absolute_error\n",
              "C7A  0.315537  0.397342             0.284002\n",
              "AVG  0.315537  0.397342             0.284002"
            ]
          },
          "metadata": {
            "tags": []
          },
          "execution_count": 36
        }
      ]
    },
    {
      "cell_type": "code",
      "metadata": {
        "id": "TUCf5_-KOvl_",
        "colab_type": "code",
        "outputId": "9737fd87-c334-4b8d-db05-08f979959927",
        "colab": {
          "base_uri": "https://localhost:8080/",
          "height": 107
        }
      },
      "source": [
        "inverse_pca_score(test_170)"
      ],
      "execution_count": 37,
      "outputs": [
        {
          "output_type": "execute_result",
          "data": {
            "text/html": [
              "<div>\n",
              "<style scoped>\n",
              "    .dataframe tbody tr th:only-of-type {\n",
              "        vertical-align: middle;\n",
              "    }\n",
              "\n",
              "    .dataframe tbody tr th {\n",
              "        vertical-align: top;\n",
              "    }\n",
              "\n",
              "    .dataframe thead th {\n",
              "        text-align: right;\n",
              "    }\n",
              "</style>\n",
              "<table border=\"1\" class=\"dataframe\">\n",
              "  <thead>\n",
              "    <tr style=\"text-align: right;\">\n",
              "      <th></th>\n",
              "      <th>R2</th>\n",
              "      <th>RMSE</th>\n",
              "      <th>mean_absolute_error</th>\n",
              "    </tr>\n",
              "  </thead>\n",
              "  <tbody>\n",
              "    <tr>\n",
              "      <th>C7A</th>\n",
              "      <td>0.613326</td>\n",
              "      <td>0.288975</td>\n",
              "      <td>0.203299</td>\n",
              "    </tr>\n",
              "    <tr>\n",
              "      <th>AVG</th>\n",
              "      <td>0.613326</td>\n",
              "      <td>0.288975</td>\n",
              "      <td>0.203299</td>\n",
              "    </tr>\n",
              "  </tbody>\n",
              "</table>\n",
              "</div>"
            ],
            "text/plain": [
              "           R2      RMSE  mean_absolute_error\n",
              "C7A  0.613326  0.288975             0.203299\n",
              "AVG  0.613326  0.288975             0.203299"
            ]
          },
          "metadata": {
            "tags": []
          },
          "execution_count": 37
        }
      ]
    },
    {
      "cell_type": "code",
      "metadata": {
        "id": "UXuTB6bAOv6B",
        "colab_type": "code",
        "outputId": "f8b856cd-91e3-4b44-e01a-075f15b25946",
        "colab": {
          "base_uri": "https://localhost:8080/",
          "height": 107
        }
      },
      "source": [
        "inverse_pca_score(test_50)"
      ],
      "execution_count": 38,
      "outputs": [
        {
          "output_type": "execute_result",
          "data": {
            "text/html": [
              "<div>\n",
              "<style scoped>\n",
              "    .dataframe tbody tr th:only-of-type {\n",
              "        vertical-align: middle;\n",
              "    }\n",
              "\n",
              "    .dataframe tbody tr th {\n",
              "        vertical-align: top;\n",
              "    }\n",
              "\n",
              "    .dataframe thead th {\n",
              "        text-align: right;\n",
              "    }\n",
              "</style>\n",
              "<table border=\"1\" class=\"dataframe\">\n",
              "  <thead>\n",
              "    <tr style=\"text-align: right;\">\n",
              "      <th></th>\n",
              "      <th>R2</th>\n",
              "      <th>RMSE</th>\n",
              "      <th>mean_absolute_error</th>\n",
              "    </tr>\n",
              "  </thead>\n",
              "  <tbody>\n",
              "    <tr>\n",
              "      <th>C7A</th>\n",
              "      <td>0.0</td>\n",
              "      <td>0.541027</td>\n",
              "      <td>0.425406</td>\n",
              "    </tr>\n",
              "    <tr>\n",
              "      <th>AVG</th>\n",
              "      <td>0.0</td>\n",
              "      <td>0.541027</td>\n",
              "      <td>0.425406</td>\n",
              "    </tr>\n",
              "  </tbody>\n",
              "</table>\n",
              "</div>"
            ],
            "text/plain": [
              "      R2      RMSE  mean_absolute_error\n",
              "C7A  0.0  0.541027             0.425406\n",
              "AVG  0.0  0.541027             0.425406"
            ]
          },
          "metadata": {
            "tags": []
          },
          "execution_count": 38
        }
      ]
    },
    {
      "cell_type": "code",
      "metadata": {
        "id": "xke6E2AeOzi5",
        "colab_type": "code",
        "colab": {}
      },
      "source": [
        ""
      ],
      "execution_count": 0,
      "outputs": []
    }
  ]
}