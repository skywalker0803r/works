{
  "nbformat": 4,
  "nbformat_minor": 0,
  "metadata": {
    "colab": {
      "name": "C9A.ipynb",
      "provenance": [],
      "collapsed_sections": [],
      "include_colab_link": true
    },
    "kernelspec": {
      "name": "python3",
      "display_name": "Python 3"
    }
  },
  "cells": [
    {
      "cell_type": "markdown",
      "metadata": {
        "id": "view-in-github",
        "colab_type": "text"
      },
      "source": [
        "<a href=\"https://colab.research.google.com/github/skywalker0803r/works/blob/master/C9A.ipynb\" target=\"_parent\"><img src=\"https://colab.research.google.com/assets/colab-badge.svg\" alt=\"Open In Colab\"/></a>"
      ]
    },
    {
      "cell_type": "code",
      "metadata": {
        "id": "Gu_4_rOOcWbx",
        "colab_type": "code",
        "outputId": "86ee067a-cd20-4394-c96d-ddc6b0631718",
        "colab": {
          "base_uri": "https://localhost:8080/",
          "height": 33
        }
      },
      "source": [
        "from google.colab import drive\n",
        "drive.mount('/content/drive')\n",
        "import warnings \n",
        "warnings.simplefilter('ignore')"
      ],
      "execution_count": 1,
      "outputs": [
        {
          "output_type": "stream",
          "text": [
            "Drive already mounted at /content/drive; to attempt to forcibly remount, call drive.mount(\"/content/drive\", force_remount=True).\n"
          ],
          "name": "stdout"
        }
      ]
    },
    {
      "cell_type": "markdown",
      "metadata": {
        "id": "7Ccyt3A8erKg",
        "colab_type": "text"
      },
      "source": [
        "# LOAD"
      ]
    },
    {
      "cell_type": "code",
      "metadata": {
        "id": "h26kZtPtcXNA",
        "colab_type": "code",
        "colab": {}
      },
      "source": [
        "import pandas as pd\n",
        "import seaborn as sns\n",
        "import matplotlib.pyplot as plt\n",
        "\n",
        "train = pd.read_csv('/content/drive/My Drive/台塑輕油案子/data/train_4521.csv',index_col=0).reset_index(drop=True)\n",
        "test_250 = pd.read_csv('/content/drive/My Drive/台塑輕油案子/data/test_250.csv',index_col=0).reset_index(drop=True)\n",
        "test_170 = pd.read_csv('/content/drive/My Drive/台塑輕油案子/data/test_170.csv',index_col=0).reset_index(drop=True)"
      ],
      "execution_count": 0,
      "outputs": []
    },
    {
      "cell_type": "code",
      "metadata": {
        "id": "Mu3x3vWS8v5t",
        "colab_type": "code",
        "outputId": "6bf50948-1299-4b4c-e5f7-57abfa6105ee",
        "colab": {
          "base_uri": "https://localhost:8080/",
          "height": 197
        }
      },
      "source": [
        "train.head()"
      ],
      "execution_count": 3,
      "outputs": [
        {
          "output_type": "execute_result",
          "data": {
            "text/html": [
              "<div>\n",
              "<style scoped>\n",
              "    .dataframe tbody tr th:only-of-type {\n",
              "        vertical-align: middle;\n",
              "    }\n",
              "\n",
              "    .dataframe tbody tr th {\n",
              "        vertical-align: top;\n",
              "    }\n",
              "\n",
              "    .dataframe thead th {\n",
              "        text-align: right;\n",
              "    }\n",
              "</style>\n",
              "<table border=\"1\" class=\"dataframe\">\n",
              "  <thead>\n",
              "    <tr style=\"text-align: right;\">\n",
              "      <th></th>\n",
              "      <th>T10</th>\n",
              "      <th>T50</th>\n",
              "      <th>T90</th>\n",
              "      <th>N+A</th>\n",
              "      <th>C5NP</th>\n",
              "      <th>C5IP</th>\n",
              "      <th>C5N</th>\n",
              "      <th>C6NP</th>\n",
              "      <th>C6IP</th>\n",
              "      <th>C6N</th>\n",
              "      <th>C6A</th>\n",
              "      <th>C7NP</th>\n",
              "      <th>C7IP</th>\n",
              "      <th>C7N</th>\n",
              "      <th>C7A</th>\n",
              "      <th>C8NP</th>\n",
              "      <th>C8IP</th>\n",
              "      <th>C8N</th>\n",
              "      <th>C8A</th>\n",
              "      <th>C9NP</th>\n",
              "      <th>C9IP</th>\n",
              "      <th>C9N</th>\n",
              "      <th>C9A</th>\n",
              "      <th>C10NP</th>\n",
              "      <th>C10IP</th>\n",
              "      <th>C10N</th>\n",
              "      <th>C10A</th>\n",
              "    </tr>\n",
              "  </thead>\n",
              "  <tbody>\n",
              "    <tr>\n",
              "      <th>0</th>\n",
              "      <td>100.5</td>\n",
              "      <td>119.2</td>\n",
              "      <td>146.5</td>\n",
              "      <td>31.978</td>\n",
              "      <td>0.272</td>\n",
              "      <td>0.132</td>\n",
              "      <td>0.059</td>\n",
              "      <td>5.293</td>\n",
              "      <td>2.570</td>\n",
              "      <td>2.819</td>\n",
              "      <td>0.494</td>\n",
              "      <td>10.395</td>\n",
              "      <td>8.070</td>\n",
              "      <td>6.411</td>\n",
              "      <td>2.917</td>\n",
              "      <td>9.138</td>\n",
              "      <td>9.649</td>\n",
              "      <td>4.810</td>\n",
              "      <td>5.373</td>\n",
              "      <td>6.405</td>\n",
              "      <td>9.759</td>\n",
              "      <td>4.590</td>\n",
              "      <td>3.661</td>\n",
              "      <td>0.875</td>\n",
              "      <td>5.257</td>\n",
              "      <td>0.525</td>\n",
              "      <td>0.319</td>\n",
              "    </tr>\n",
              "    <tr>\n",
              "      <th>1</th>\n",
              "      <td>99.6</td>\n",
              "      <td>117.9</td>\n",
              "      <td>145.5</td>\n",
              "      <td>31.568</td>\n",
              "      <td>0.297</td>\n",
              "      <td>0.151</td>\n",
              "      <td>0.062</td>\n",
              "      <td>5.089</td>\n",
              "      <td>2.531</td>\n",
              "      <td>2.804</td>\n",
              "      <td>0.499</td>\n",
              "      <td>10.074</td>\n",
              "      <td>7.958</td>\n",
              "      <td>6.395</td>\n",
              "      <td>2.894</td>\n",
              "      <td>8.970</td>\n",
              "      <td>9.548</td>\n",
              "      <td>4.753</td>\n",
              "      <td>5.443</td>\n",
              "      <td>6.324</td>\n",
              "      <td>9.899</td>\n",
              "      <td>4.301</td>\n",
              "      <td>2.995</td>\n",
              "      <td>0.881</td>\n",
              "      <td>5.591</td>\n",
              "      <td>1.119</td>\n",
              "      <td>0.303</td>\n",
              "    </tr>\n",
              "    <tr>\n",
              "      <th>2</th>\n",
              "      <td>100.0</td>\n",
              "      <td>118.8</td>\n",
              "      <td>145.6</td>\n",
              "      <td>31.344</td>\n",
              "      <td>0.262</td>\n",
              "      <td>0.126</td>\n",
              "      <td>0.061</td>\n",
              "      <td>5.107</td>\n",
              "      <td>2.571</td>\n",
              "      <td>2.771</td>\n",
              "      <td>0.492</td>\n",
              "      <td>10.069</td>\n",
              "      <td>7.913</td>\n",
              "      <td>6.378</td>\n",
              "      <td>2.890</td>\n",
              "      <td>9.006</td>\n",
              "      <td>9.591</td>\n",
              "      <td>4.778</td>\n",
              "      <td>5.468</td>\n",
              "      <td>6.360</td>\n",
              "      <td>9.983</td>\n",
              "      <td>4.274</td>\n",
              "      <td>2.979</td>\n",
              "      <td>0.865</td>\n",
              "      <td>5.641</td>\n",
              "      <td>0.964</td>\n",
              "      <td>0.289</td>\n",
              "    </tr>\n",
              "    <tr>\n",
              "      <th>3</th>\n",
              "      <td>100.4</td>\n",
              "      <td>118.6</td>\n",
              "      <td>142.9</td>\n",
              "      <td>31.453</td>\n",
              "      <td>0.224</td>\n",
              "      <td>0.105</td>\n",
              "      <td>0.060</td>\n",
              "      <td>4.894</td>\n",
              "      <td>2.497</td>\n",
              "      <td>2.650</td>\n",
              "      <td>0.469</td>\n",
              "      <td>10.015</td>\n",
              "      <td>7.685</td>\n",
              "      <td>6.376</td>\n",
              "      <td>2.866</td>\n",
              "      <td>9.133</td>\n",
              "      <td>9.708</td>\n",
              "      <td>4.889</td>\n",
              "      <td>5.510</td>\n",
              "      <td>6.444</td>\n",
              "      <td>10.182</td>\n",
              "      <td>4.420</td>\n",
              "      <td>2.964</td>\n",
              "      <td>0.830</td>\n",
              "      <td>5.637</td>\n",
              "      <td>0.968</td>\n",
              "      <td>0.281</td>\n",
              "    </tr>\n",
              "    <tr>\n",
              "      <th>4</th>\n",
              "      <td>100.4</td>\n",
              "      <td>118.1</td>\n",
              "      <td>142.2</td>\n",
              "      <td>32.190</td>\n",
              "      <td>0.243</td>\n",
              "      <td>0.117</td>\n",
              "      <td>0.061</td>\n",
              "      <td>4.946</td>\n",
              "      <td>2.503</td>\n",
              "      <td>2.695</td>\n",
              "      <td>0.477</td>\n",
              "      <td>10.053</td>\n",
              "      <td>7.765</td>\n",
              "      <td>6.394</td>\n",
              "      <td>2.877</td>\n",
              "      <td>9.101</td>\n",
              "      <td>9.676</td>\n",
              "      <td>4.855</td>\n",
              "      <td>5.500</td>\n",
              "      <td>6.416</td>\n",
              "      <td>10.115</td>\n",
              "      <td>4.347</td>\n",
              "      <td>3.725</td>\n",
              "      <td>0.835</td>\n",
              "      <td>4.823</td>\n",
              "      <td>0.969</td>\n",
              "      <td>0.290</td>\n",
              "    </tr>\n",
              "  </tbody>\n",
              "</table>\n",
              "</div>"
            ],
            "text/plain": [
              "     T10    T50    T90     N+A   C5NP  ...    C9A  C10NP  C10IP   C10N   C10A\n",
              "0  100.5  119.2  146.5  31.978  0.272  ...  3.661  0.875  5.257  0.525  0.319\n",
              "1   99.6  117.9  145.5  31.568  0.297  ...  2.995  0.881  5.591  1.119  0.303\n",
              "2  100.0  118.8  145.6  31.344  0.262  ...  2.979  0.865  5.641  0.964  0.289\n",
              "3  100.4  118.6  142.9  31.453  0.224  ...  2.964  0.830  5.637  0.968  0.281\n",
              "4  100.4  118.1  142.2  32.190  0.243  ...  3.725  0.835  4.823  0.969  0.290\n",
              "\n",
              "[5 rows x 27 columns]"
            ]
          },
          "metadata": {
            "tags": []
          },
          "execution_count": 3
        }
      ]
    },
    {
      "cell_type": "markdown",
      "metadata": {
        "id": "m9YcMTAdepcM",
        "colab_type": "text"
      },
      "source": [
        "# 整理資料"
      ]
    },
    {
      "cell_type": "code",
      "metadata": {
        "id": "psvyukgQczo9",
        "colab_type": "code",
        "outputId": "7567ec0d-0759-45a4-c94a-70bb08405dd0",
        "colab": {
          "base_uri": "https://localhost:8080/",
          "height": 67
        }
      },
      "source": [
        "test_200 = test_250.loc[ test_250.index % 5 != 0 ,:]#5不可整除\n",
        "test_50 = test_250.loc[ test_250.index % 5 == 0 ,:]#5可以整除\n",
        "train = train.append(test_200)#200筆加入train\n",
        "print(train.shape)#4721\n",
        "print(test_170.shape)#170\n",
        "print(test_50.shape)#50"
      ],
      "execution_count": 4,
      "outputs": [
        {
          "output_type": "stream",
          "text": [
            "(4721, 27)\n",
            "(170, 27)\n",
            "(50, 27)\n"
          ],
          "name": "stdout"
        }
      ]
    },
    {
      "cell_type": "markdown",
      "metadata": {
        "id": "1siqb5STetJ8",
        "colab_type": "text"
      },
      "source": [
        "# def features y_name"
      ]
    },
    {
      "cell_type": "code",
      "metadata": {
        "id": "gcb1TzlPdLqt",
        "colab_type": "code",
        "colab": {}
      },
      "source": [
        "features = ['T10','T50','T90','N+A']\n",
        "y_name = 'C9A'"
      ],
      "execution_count": 0,
      "outputs": []
    },
    {
      "cell_type": "markdown",
      "metadata": {
        "id": "NV57oi9nePTE",
        "colab_type": "text"
      },
      "source": [
        "# features scaler"
      ]
    },
    {
      "cell_type": "code",
      "metadata": {
        "id": "1htHboYzePcD",
        "colab_type": "code",
        "outputId": "1e6cef4f-3cb6-4559-bae9-e5b6edacf6a1",
        "colab": {
          "base_uri": "https://localhost:8080/",
          "height": 217
        }
      },
      "source": [
        "from sklearn.preprocessing import StandardScaler\n",
        "\n",
        "scaler = StandardScaler().fit(train[features])\n",
        "\n",
        "train[features] = scaler.transform(train[features])\n",
        "test_170[features] = scaler.transform(test_170[features])\n",
        "test_50[features] = scaler.transform(test_50[features])\n",
        "\n",
        "train.head()"
      ],
      "execution_count": 6,
      "outputs": [
        {
          "output_type": "execute_result",
          "data": {
            "text/html": [
              "<div>\n",
              "<style scoped>\n",
              "    .dataframe tbody tr th:only-of-type {\n",
              "        vertical-align: middle;\n",
              "    }\n",
              "\n",
              "    .dataframe tbody tr th {\n",
              "        vertical-align: top;\n",
              "    }\n",
              "\n",
              "    .dataframe thead th {\n",
              "        text-align: right;\n",
              "    }\n",
              "</style>\n",
              "<table border=\"1\" class=\"dataframe\">\n",
              "  <thead>\n",
              "    <tr style=\"text-align: right;\">\n",
              "      <th></th>\n",
              "      <th>T10</th>\n",
              "      <th>T50</th>\n",
              "      <th>T90</th>\n",
              "      <th>N+A</th>\n",
              "      <th>C5NP</th>\n",
              "      <th>C5IP</th>\n",
              "      <th>C5N</th>\n",
              "      <th>C6NP</th>\n",
              "      <th>C6IP</th>\n",
              "      <th>C6N</th>\n",
              "      <th>C6A</th>\n",
              "      <th>C7NP</th>\n",
              "      <th>C7IP</th>\n",
              "      <th>C7N</th>\n",
              "      <th>C7A</th>\n",
              "      <th>C8NP</th>\n",
              "      <th>C8IP</th>\n",
              "      <th>C8N</th>\n",
              "      <th>C8A</th>\n",
              "      <th>C9NP</th>\n",
              "      <th>C9IP</th>\n",
              "      <th>C9N</th>\n",
              "      <th>C9A</th>\n",
              "      <th>C10NP</th>\n",
              "      <th>C10IP</th>\n",
              "      <th>C10N</th>\n",
              "      <th>C10A</th>\n",
              "    </tr>\n",
              "  </thead>\n",
              "  <tbody>\n",
              "    <tr>\n",
              "      <th>0</th>\n",
              "      <td>0.457444</td>\n",
              "      <td>0.556351</td>\n",
              "      <td>0.439809</td>\n",
              "      <td>-1.047568</td>\n",
              "      <td>0.272</td>\n",
              "      <td>0.132</td>\n",
              "      <td>0.059</td>\n",
              "      <td>5.293</td>\n",
              "      <td>2.570</td>\n",
              "      <td>2.819</td>\n",
              "      <td>0.494</td>\n",
              "      <td>10.395</td>\n",
              "      <td>8.070</td>\n",
              "      <td>6.411</td>\n",
              "      <td>2.917</td>\n",
              "      <td>9.138</td>\n",
              "      <td>9.649</td>\n",
              "      <td>4.810</td>\n",
              "      <td>5.373</td>\n",
              "      <td>6.405</td>\n",
              "      <td>9.759</td>\n",
              "      <td>4.590</td>\n",
              "      <td>3.661</td>\n",
              "      <td>0.875</td>\n",
              "      <td>5.257</td>\n",
              "      <td>0.525</td>\n",
              "      <td>0.319</td>\n",
              "    </tr>\n",
              "    <tr>\n",
              "      <th>1</th>\n",
              "      <td>0.379525</td>\n",
              "      <td>0.366234</td>\n",
              "      <td>0.226254</td>\n",
              "      <td>-1.096167</td>\n",
              "      <td>0.297</td>\n",
              "      <td>0.151</td>\n",
              "      <td>0.062</td>\n",
              "      <td>5.089</td>\n",
              "      <td>2.531</td>\n",
              "      <td>2.804</td>\n",
              "      <td>0.499</td>\n",
              "      <td>10.074</td>\n",
              "      <td>7.958</td>\n",
              "      <td>6.395</td>\n",
              "      <td>2.894</td>\n",
              "      <td>8.970</td>\n",
              "      <td>9.548</td>\n",
              "      <td>4.753</td>\n",
              "      <td>5.443</td>\n",
              "      <td>6.324</td>\n",
              "      <td>9.899</td>\n",
              "      <td>4.301</td>\n",
              "      <td>2.995</td>\n",
              "      <td>0.881</td>\n",
              "      <td>5.591</td>\n",
              "      <td>1.119</td>\n",
              "      <td>0.303</td>\n",
              "    </tr>\n",
              "    <tr>\n",
              "      <th>2</th>\n",
              "      <td>0.414156</td>\n",
              "      <td>0.497854</td>\n",
              "      <td>0.247610</td>\n",
              "      <td>-1.122719</td>\n",
              "      <td>0.262</td>\n",
              "      <td>0.126</td>\n",
              "      <td>0.061</td>\n",
              "      <td>5.107</td>\n",
              "      <td>2.571</td>\n",
              "      <td>2.771</td>\n",
              "      <td>0.492</td>\n",
              "      <td>10.069</td>\n",
              "      <td>7.913</td>\n",
              "      <td>6.378</td>\n",
              "      <td>2.890</td>\n",
              "      <td>9.006</td>\n",
              "      <td>9.591</td>\n",
              "      <td>4.778</td>\n",
              "      <td>5.468</td>\n",
              "      <td>6.360</td>\n",
              "      <td>9.983</td>\n",
              "      <td>4.274</td>\n",
              "      <td>2.979</td>\n",
              "      <td>0.865</td>\n",
              "      <td>5.641</td>\n",
              "      <td>0.964</td>\n",
              "      <td>0.289</td>\n",
              "    </tr>\n",
              "    <tr>\n",
              "      <th>3</th>\n",
              "      <td>0.448786</td>\n",
              "      <td>0.468605</td>\n",
              "      <td>-0.328987</td>\n",
              "      <td>-1.109799</td>\n",
              "      <td>0.224</td>\n",
              "      <td>0.105</td>\n",
              "      <td>0.060</td>\n",
              "      <td>4.894</td>\n",
              "      <td>2.497</td>\n",
              "      <td>2.650</td>\n",
              "      <td>0.469</td>\n",
              "      <td>10.015</td>\n",
              "      <td>7.685</td>\n",
              "      <td>6.376</td>\n",
              "      <td>2.866</td>\n",
              "      <td>9.133</td>\n",
              "      <td>9.708</td>\n",
              "      <td>4.889</td>\n",
              "      <td>5.510</td>\n",
              "      <td>6.444</td>\n",
              "      <td>10.182</td>\n",
              "      <td>4.420</td>\n",
              "      <td>2.964</td>\n",
              "      <td>0.830</td>\n",
              "      <td>5.637</td>\n",
              "      <td>0.968</td>\n",
              "      <td>0.281</td>\n",
              "    </tr>\n",
              "    <tr>\n",
              "      <th>4</th>\n",
              "      <td>0.448786</td>\n",
              "      <td>0.395483</td>\n",
              "      <td>-0.478475</td>\n",
              "      <td>-1.022438</td>\n",
              "      <td>0.243</td>\n",
              "      <td>0.117</td>\n",
              "      <td>0.061</td>\n",
              "      <td>4.946</td>\n",
              "      <td>2.503</td>\n",
              "      <td>2.695</td>\n",
              "      <td>0.477</td>\n",
              "      <td>10.053</td>\n",
              "      <td>7.765</td>\n",
              "      <td>6.394</td>\n",
              "      <td>2.877</td>\n",
              "      <td>9.101</td>\n",
              "      <td>9.676</td>\n",
              "      <td>4.855</td>\n",
              "      <td>5.500</td>\n",
              "      <td>6.416</td>\n",
              "      <td>10.115</td>\n",
              "      <td>4.347</td>\n",
              "      <td>3.725</td>\n",
              "      <td>0.835</td>\n",
              "      <td>4.823</td>\n",
              "      <td>0.969</td>\n",
              "      <td>0.290</td>\n",
              "    </tr>\n",
              "  </tbody>\n",
              "</table>\n",
              "</div>"
            ],
            "text/plain": [
              "        T10       T50       T90       N+A  ...  C10NP  C10IP   C10N   C10A\n",
              "0  0.457444  0.556351  0.439809 -1.047568  ...  0.875  5.257  0.525  0.319\n",
              "1  0.379525  0.366234  0.226254 -1.096167  ...  0.881  5.591  1.119  0.303\n",
              "2  0.414156  0.497854  0.247610 -1.122719  ...  0.865  5.641  0.964  0.289\n",
              "3  0.448786  0.468605 -0.328987 -1.109799  ...  0.830  5.637  0.968  0.281\n",
              "4  0.448786  0.395483 -0.478475 -1.022438  ...  0.835  4.823  0.969  0.290\n",
              "\n",
              "[5 rows x 27 columns]"
            ]
          },
          "metadata": {
            "tags": []
          },
          "execution_count": 6
        }
      ]
    },
    {
      "cell_type": "markdown",
      "metadata": {
        "id": "DM89dDVNdyxj",
        "colab_type": "text"
      },
      "source": [
        "# CORR WITH X"
      ]
    },
    {
      "cell_type": "markdown",
      "metadata": {
        "id": "9dUcvQgyqUhF",
        "colab_type": "text"
      },
      "source": [
        "找找高相關特徵"
      ]
    },
    {
      "cell_type": "code",
      "metadata": {
        "id": "76L-I9CZdtwB",
        "colab_type": "code",
        "outputId": "f1967d78-4efb-4b9c-c76a-f69ce9841327",
        "colab": {
          "base_uri": "https://localhost:8080/",
          "height": 197
        }
      },
      "source": [
        "corr_x = train[features+[y_name]].corr()\n",
        "corr_x"
      ],
      "execution_count": 7,
      "outputs": [
        {
          "output_type": "execute_result",
          "data": {
            "text/html": [
              "<div>\n",
              "<style scoped>\n",
              "    .dataframe tbody tr th:only-of-type {\n",
              "        vertical-align: middle;\n",
              "    }\n",
              "\n",
              "    .dataframe tbody tr th {\n",
              "        vertical-align: top;\n",
              "    }\n",
              "\n",
              "    .dataframe thead th {\n",
              "        text-align: right;\n",
              "    }\n",
              "</style>\n",
              "<table border=\"1\" class=\"dataframe\">\n",
              "  <thead>\n",
              "    <tr style=\"text-align: right;\">\n",
              "      <th></th>\n",
              "      <th>T10</th>\n",
              "      <th>T50</th>\n",
              "      <th>T90</th>\n",
              "      <th>N+A</th>\n",
              "      <th>C9A</th>\n",
              "    </tr>\n",
              "  </thead>\n",
              "  <tbody>\n",
              "    <tr>\n",
              "      <th>T10</th>\n",
              "      <td>1.000000</td>\n",
              "      <td>0.895238</td>\n",
              "      <td>0.222087</td>\n",
              "      <td>-0.262210</td>\n",
              "      <td>0.610578</td>\n",
              "    </tr>\n",
              "    <tr>\n",
              "      <th>T50</th>\n",
              "      <td>0.895238</td>\n",
              "      <td>1.000000</td>\n",
              "      <td>0.533778</td>\n",
              "      <td>-0.371996</td>\n",
              "      <td>0.716435</td>\n",
              "    </tr>\n",
              "    <tr>\n",
              "      <th>T90</th>\n",
              "      <td>0.222087</td>\n",
              "      <td>0.533778</td>\n",
              "      <td>1.000000</td>\n",
              "      <td>-0.217989</td>\n",
              "      <td>0.424822</td>\n",
              "    </tr>\n",
              "    <tr>\n",
              "      <th>N+A</th>\n",
              "      <td>-0.262210</td>\n",
              "      <td>-0.371996</td>\n",
              "      <td>-0.217989</td>\n",
              "      <td>1.000000</td>\n",
              "      <td>-0.386677</td>\n",
              "    </tr>\n",
              "    <tr>\n",
              "      <th>C9A</th>\n",
              "      <td>0.610578</td>\n",
              "      <td>0.716435</td>\n",
              "      <td>0.424822</td>\n",
              "      <td>-0.386677</td>\n",
              "      <td>1.000000</td>\n",
              "    </tr>\n",
              "  </tbody>\n",
              "</table>\n",
              "</div>"
            ],
            "text/plain": [
              "          T10       T50       T90       N+A       C9A\n",
              "T10  1.000000  0.895238  0.222087 -0.262210  0.610578\n",
              "T50  0.895238  1.000000  0.533778 -0.371996  0.716435\n",
              "T90  0.222087  0.533778  1.000000 -0.217989  0.424822\n",
              "N+A -0.262210 -0.371996 -0.217989  1.000000 -0.386677\n",
              "C9A  0.610578  0.716435  0.424822 -0.386677  1.000000"
            ]
          },
          "metadata": {
            "tags": []
          },
          "execution_count": 7
        }
      ]
    },
    {
      "cell_type": "markdown",
      "metadata": {
        "id": "lwoksfZ6d2sy",
        "colab_type": "text"
      },
      "source": [
        "# CORR WITH Y"
      ]
    },
    {
      "cell_type": "markdown",
      "metadata": {
        "id": "P0mvM1SvqXcu",
        "colab_type": "text"
      },
      "source": [
        "找找高相關y"
      ]
    },
    {
      "cell_type": "code",
      "metadata": {
        "id": "wtaThFKPdxzh",
        "colab_type": "code",
        "outputId": "2438995b-bfef-4523-d48e-3943db4b26ac",
        "colab": {
          "base_uri": "https://localhost:8080/",
          "height": 97
        }
      },
      "source": [
        "corr_y = abs(train.iloc[:,4:].corr())[[y_name]].sort_values(by=y_name,ascending=False).T\n",
        "corr_y"
      ],
      "execution_count": 8,
      "outputs": [
        {
          "output_type": "execute_result",
          "data": {
            "text/html": [
              "<div>\n",
              "<style scoped>\n",
              "    .dataframe tbody tr th:only-of-type {\n",
              "        vertical-align: middle;\n",
              "    }\n",
              "\n",
              "    .dataframe tbody tr th {\n",
              "        vertical-align: top;\n",
              "    }\n",
              "\n",
              "    .dataframe thead th {\n",
              "        text-align: right;\n",
              "    }\n",
              "</style>\n",
              "<table border=\"1\" class=\"dataframe\">\n",
              "  <thead>\n",
              "    <tr style=\"text-align: right;\">\n",
              "      <th></th>\n",
              "      <th>C9A</th>\n",
              "      <th>C10IP</th>\n",
              "      <th>C9NP</th>\n",
              "      <th>C6N</th>\n",
              "      <th>C9IP</th>\n",
              "      <th>C8NP</th>\n",
              "      <th>C5NP</th>\n",
              "      <th>C6IP</th>\n",
              "      <th>C5IP</th>\n",
              "      <th>C8A</th>\n",
              "      <th>C7N</th>\n",
              "      <th>C8IP</th>\n",
              "      <th>C5N</th>\n",
              "      <th>C7NP</th>\n",
              "      <th>C6NP</th>\n",
              "      <th>C8N</th>\n",
              "      <th>C10NP</th>\n",
              "      <th>C6A</th>\n",
              "      <th>C7A</th>\n",
              "      <th>C9N</th>\n",
              "      <th>C10N</th>\n",
              "      <th>C7IP</th>\n",
              "      <th>C10A</th>\n",
              "    </tr>\n",
              "  </thead>\n",
              "  <tbody>\n",
              "    <tr>\n",
              "      <th>C9A</th>\n",
              "      <td>1.0</td>\n",
              "      <td>0.693838</td>\n",
              "      <td>0.673552</td>\n",
              "      <td>0.658641</td>\n",
              "      <td>0.631929</td>\n",
              "      <td>0.593739</td>\n",
              "      <td>0.586489</td>\n",
              "      <td>0.572449</td>\n",
              "      <td>0.56059</td>\n",
              "      <td>0.544554</td>\n",
              "      <td>0.520934</td>\n",
              "      <td>0.517533</td>\n",
              "      <td>0.493729</td>\n",
              "      <td>0.475753</td>\n",
              "      <td>0.334802</td>\n",
              "      <td>0.280199</td>\n",
              "      <td>0.254551</td>\n",
              "      <td>0.248043</td>\n",
              "      <td>0.246651</td>\n",
              "      <td>0.212347</td>\n",
              "      <td>0.191085</td>\n",
              "      <td>0.174022</td>\n",
              "      <td>0.151667</td>\n",
              "    </tr>\n",
              "  </tbody>\n",
              "</table>\n",
              "</div>"
            ],
            "text/plain": [
              "     C9A     C10IP      C9NP       C6N  ...       C9N      C10N      C7IP      C10A\n",
              "C9A  1.0  0.693838  0.673552  0.658641  ...  0.212347  0.191085  0.174022  0.151667\n",
              "\n",
              "[1 rows x 23 columns]"
            ]
          },
          "metadata": {
            "tags": []
          },
          "execution_count": 8
        }
      ]
    },
    {
      "cell_type": "markdown",
      "metadata": {
        "id": "JD4OJOIPeGJL",
        "colab_type": "text"
      },
      "source": [
        "# 特徵萃取"
      ]
    },
    {
      "cell_type": "code",
      "metadata": {
        "id": "F51J02h9Pc-P",
        "colab_type": "code",
        "colab": {}
      },
      "source": [
        "from sklearn.manifold import Isomap\n",
        "iso_col = ['T50','N+A']\n",
        "iso = Isomap(n_components=1).fit(train[iso_col])"
      ],
      "execution_count": 0,
      "outputs": []
    },
    {
      "cell_type": "code",
      "metadata": {
        "id": "THC4gAT9Lp-4",
        "colab_type": "code",
        "colab": {}
      },
      "source": [
        "train['F1'] = iso.transform(train[iso_col])\n",
        "test_170['F1'] = iso.transform(test_170[iso_col])\n",
        "test_50['F1'] = iso.transform(test_50[iso_col])"
      ],
      "execution_count": 0,
      "outputs": []
    },
    {
      "cell_type": "markdown",
      "metadata": {
        "id": "ZkM34rwcjcmq",
        "colab_type": "text"
      },
      "source": [
        "# 檢查相關性"
      ]
    },
    {
      "cell_type": "markdown",
      "metadata": {
        "id": "LRyjmSlgqemi",
        "colab_type": "text"
      },
      "source": [
        "這裡希望看到是漂亮的線性相關"
      ]
    },
    {
      "cell_type": "code",
      "metadata": {
        "id": "klofDmm-gY-g",
        "colab_type": "code",
        "outputId": "09bdb1d9-6260-4990-9ad5-f5af6b765313",
        "colab": {
          "base_uri": "https://localhost:8080/",
          "height": 370
        }
      },
      "source": [
        "sns.scatterplot(x='F1',y=y_name,data=train)\n",
        "plt.show()\n",
        "train.corr().loc[['F1',y_name],['F1',y_name]]"
      ],
      "execution_count": 11,
      "outputs": [
        {
          "output_type": "display_data",
          "data": {
            "image/png": "[encoded data removed]",
            "text/plain": [
              "<Figure size 432x288 with 1 Axes>"
            ]
          },
          "metadata": {
            "tags": []
          }
        },
        {
          "output_type": "execute_result",
          "data": {
            "text/html": [
              "<div>\n",
              "<style scoped>\n",
              "    .dataframe tbody tr th:only-of-type {\n",
              "        vertical-align: middle;\n",
              "    }\n",
              "\n",
              "    .dataframe tbody tr th {\n",
              "        vertical-align: top;\n",
              "    }\n",
              "\n",
              "    .dataframe thead th {\n",
              "        text-align: right;\n",
              "    }\n",
              "</style>\n",
              "<table border=\"1\" class=\"dataframe\">\n",
              "  <thead>\n",
              "    <tr style=\"text-align: right;\">\n",
              "      <th></th>\n",
              "      <th>F1</th>\n",
              "      <th>C9A</th>\n",
              "    </tr>\n",
              "  </thead>\n",
              "  <tbody>\n",
              "    <tr>\n",
              "      <th>F1</th>\n",
              "      <td>1.00000</td>\n",
              "      <td>-0.68452</td>\n",
              "    </tr>\n",
              "    <tr>\n",
              "      <th>C9A</th>\n",
              "      <td>-0.68452</td>\n",
              "      <td>1.00000</td>\n",
              "    </tr>\n",
              "  </tbody>\n",
              "</table>\n",
              "</div>"
            ],
            "text/plain": [
              "          F1      C9A\n",
              "F1   1.00000 -0.68452\n",
              "C9A -0.68452  1.00000"
            ]
          },
          "metadata": {
            "tags": []
          },
          "execution_count": 11
        }
      ]
    },
    {
      "cell_type": "markdown",
      "metadata": {
        "id": "ISwKDxU9kLtA",
        "colab_type": "text"
      },
      "source": [
        "# modeling"
      ]
    },
    {
      "cell_type": "markdown",
      "metadata": {
        "id": "mPIja4ebqvMv",
        "colab_type": "text"
      },
      "source": [
        "評分指標"
      ]
    },
    {
      "cell_type": "code",
      "metadata": {
        "id": "nsTlh6H3lW9l",
        "colab_type": "code",
        "colab": {}
      },
      "source": [
        "from sklearn.metrics import r2_score,mean_squared_error,mean_absolute_error\n",
        "from math import sqrt\n",
        "def metric(y_t,y_p,name):\n",
        "  res = {'R2':r2_score(y_t,y_p),\n",
        "         'RMSE':sqrt(mean_squared_error(y_t,y_p)),\n",
        "         'mean_absolute_error':mean_absolute_error(y_t,y_p)}\n",
        "  return pd.DataFrame(res,index=[name])"
      ],
      "execution_count": 0,
      "outputs": []
    },
    {
      "cell_type": "code",
      "metadata": {
        "id": "fQMyc1UIjuVg",
        "colab_type": "code",
        "outputId": "c7223364-033c-4229-f3bb-a199e44b8248",
        "colab": {
          "base_uri": "https://localhost:8080/",
          "height": 50
        }
      },
      "source": [
        "import xgboost\n",
        "from sklearn.svm import SVR\n",
        "from math import sqrt\n",
        "from lightgbm import LGBMRegressor\n",
        "from sklearn.ensemble import VotingRegressor\n",
        "from sklearn.model_selection import cross_validate\n",
        "from sklearn.linear_model import LinearRegression\n",
        "from sklearn.tree import DecisionTreeRegressor\n",
        "import warnings \n",
        "warnings.simplefilter('ignore')\n",
        "\n",
        "#選擇模型\n",
        "#model = DecisionTreeRegressor(max_depth=2)\n",
        "#model = xgboost.XGBRegressor(objective='reg:squarederror')\n",
        "#model = SVR()\n",
        "model = LinearRegression()\n",
        "\n",
        "#交叉驗證\n",
        "val_scores = cross_validate(model,train[['F1']],train[y_name],cv=5)\n",
        "\n",
        "#交叉驗證結果\n",
        "print('交叉驗證分數:',val_scores['test_score'])\n",
        "print('交叉驗證平均分數:',val_scores['test_score'].mean())"
      ],
      "execution_count": 13,
      "outputs": [
        {
          "output_type": "stream",
          "text": [
            "交叉驗證分數: [0.73226583 0.22928256 0.42193367 0.32813043 0.49189238]\n",
            "交叉驗證平均分數: 0.44070097581513057\n"
          ],
          "name": "stdout"
        }
      ]
    },
    {
      "cell_type": "markdown",
      "metadata": {
        "id": "UPBI1r7uk7j3",
        "colab_type": "text"
      },
      "source": [
        "# fit & predict"
      ]
    },
    {
      "cell_type": "code",
      "metadata": {
        "id": "T5LAaXc4kSAr",
        "colab_type": "code",
        "colab": {}
      },
      "source": [
        "# fit \n",
        "model.fit(train[['F1']],train[y_name])\n",
        "# predict\n",
        "train['y_pred'] = model.predict(train[['F1']])\n",
        "test_170['y_pred'] = model.predict(test_170[['F1']])\n",
        "test_50['y_pred'] = model.predict(test_50[['F1']])"
      ],
      "execution_count": 0,
      "outputs": []
    },
    {
      "cell_type": "markdown",
      "metadata": {
        "id": "_4GSs_xZoQOF",
        "colab_type": "text"
      },
      "source": [
        "# plot"
      ]
    },
    {
      "cell_type": "markdown",
      "metadata": {
        "id": "9rs_qDerpq3e",
        "colab_type": "text"
      },
      "source": [
        "data for plot"
      ]
    },
    {
      "cell_type": "code",
      "metadata": {
        "id": "iCIJO39Rob_L",
        "colab_type": "code",
        "colab": {}
      },
      "source": [
        "by_col = 'F1'\n",
        "train_sample_point = train.sample(1000).sort_values(by = by_col)\n",
        "test_170_point = test_170.sort_values(by = by_col)\n",
        "test_50_point = test_50.sort_values(by = by_col)"
      ],
      "execution_count": 0,
      "outputs": []
    },
    {
      "cell_type": "markdown",
      "metadata": {
        "id": "jG-FvtFfpsTA",
        "colab_type": "text"
      },
      "source": [
        "plot function"
      ]
    },
    {
      "cell_type": "code",
      "metadata": {
        "id": "z8gcWE__o409",
        "colab_type": "code",
        "colab": {}
      },
      "source": [
        "def pred_plot(df,by_col,name):\n",
        "  plt.plot(df[by_col],df['y_pred'],label= name+'_pred',color='red')\n",
        "  plt.scatter(df[by_col],df[y_name],label= name+'_point')\n",
        "  plt.xlabel(by_col)\n",
        "  plt.ylabel(y_name)\n",
        "  plt.legend()"
      ],
      "execution_count": 0,
      "outputs": []
    },
    {
      "cell_type": "code",
      "metadata": {
        "id": "6YKTx82XpdM_",
        "colab_type": "code",
        "outputId": "f2ffea51-1b6d-4a4c-c941-bcd424d11600",
        "colab": {
          "base_uri": "https://localhost:8080/",
          "height": 455
        }
      },
      "source": [
        "fig = plt.figure(figsize=(10,5))\n",
        "\n",
        "pred_plot(train_sample_point,by_col,name='train')\n",
        "pred_plot(test_170_point,by_col,name='test170')\n",
        "pred_plot(test_50_point,by_col,name='test50')\n",
        "plt.show()\n",
        "\n",
        "metric(train[y_name],train['y_pred'],name='train').append(\n",
        "metric(test_170[y_name],test_170['y_pred'],name='test170')).append(\n",
        "metric(test_50[y_name],test_50['y_pred'],name='test50'))"
      ],
      "execution_count": 17,
      "outputs": [
        {
          "output_type": "display_data",
          "data": {
            "image/png": "[encoded data removed]",
            "text/plain": [
              "<Figure size 720x360 with 1 Axes>"
            ]
          },
          "metadata": {
            "tags": []
          }
        },
        {
          "output_type": "execute_result",
          "data": {
            "text/html": [
              "<div>\n",
              "<style scoped>\n",
              "    .dataframe tbody tr th:only-of-type {\n",
              "        vertical-align: middle;\n",
              "    }\n",
              "\n",
              "    .dataframe tbody tr th {\n",
              "        vertical-align: top;\n",
              "    }\n",
              "\n",
              "    .dataframe thead th {\n",
              "        text-align: right;\n",
              "    }\n",
              "</style>\n",
              "<table border=\"1\" class=\"dataframe\">\n",
              "  <thead>\n",
              "    <tr style=\"text-align: right;\">\n",
              "      <th></th>\n",
              "      <th>R2</th>\n",
              "      <th>RMSE</th>\n",
              "      <th>mean_absolute_error</th>\n",
              "    </tr>\n",
              "  </thead>\n",
              "  <tbody>\n",
              "    <tr>\n",
              "      <th>train</th>\n",
              "      <td>0.468567</td>\n",
              "      <td>0.647337</td>\n",
              "      <td>0.375826</td>\n",
              "    </tr>\n",
              "    <tr>\n",
              "      <th>test170</th>\n",
              "      <td>0.221733</td>\n",
              "      <td>0.534571</td>\n",
              "      <td>0.460965</td>\n",
              "    </tr>\n",
              "    <tr>\n",
              "      <th>test50</th>\n",
              "      <td>0.454181</td>\n",
              "      <td>0.714996</td>\n",
              "      <td>0.531733</td>\n",
              "    </tr>\n",
              "  </tbody>\n",
              "</table>\n",
              "</div>"
            ],
            "text/plain": [
              "               R2      RMSE  mean_absolute_error\n",
              "train    0.468567  0.647337             0.375826\n",
              "test170  0.221733  0.534571             0.460965\n",
              "test50   0.454181  0.714996             0.531733"
            ]
          },
          "metadata": {
            "tags": []
          },
          "execution_count": 17
        }
      ]
    },
    {
      "cell_type": "markdown",
      "metadata": {
        "id": "pfQ1yPb5rFgU",
        "colab_type": "text"
      },
      "source": [
        "# check outliers"
      ]
    },
    {
      "cell_type": "code",
      "metadata": {
        "id": "J2VOBltdngwI",
        "colab_type": "code",
        "outputId": "d3d725a7-4c8b-440f-be58-15ff92eb5edc",
        "colab": {
          "base_uri": "https://localhost:8080/",
          "height": 117
        }
      },
      "source": [
        "loss = (test_170_point[y_name] - test_170_point['y_pred'])**2 # 平方誤差\n",
        "loss = loss.sort_values(ascending=False)#排序\n",
        "#新增out欄位\n",
        "test_170_point['out'] = False \n",
        "test_170_point.loc[loss[loss>0.4].index,'out'] = True\n",
        "print(loss.head(5))"
      ],
      "execution_count": 18,
      "outputs": [
        {
          "output_type": "stream",
          "text": [
            "48    1.728730\n",
            "47    1.618398\n",
            "36    1.514550\n",
            "37    1.325023\n",
            "35    1.174383\n",
            "dtype: float64\n"
          ],
          "name": "stdout"
        }
      ]
    },
    {
      "cell_type": "code",
      "metadata": {
        "id": "OR23J1k4rRgD",
        "colab_type": "code",
        "outputId": "a5d6a996-e069-457e-c8db-72e3cc5b3929",
        "colab": {
          "base_uri": "https://localhost:8080/",
          "height": 117
        }
      },
      "source": [
        "loss = (test_50_point[y_name] - test_50_point['y_pred'])**2 # 平方誤差\n",
        "loss = loss.sort_values(ascending=False)#排序\n",
        "#新增out欄位\n",
        "test_50_point['out'] = False\n",
        "test_50_point.loc[loss[loss>0.4].index,'out'] = True\n",
        "print(loss.head(5))"
      ],
      "execution_count": 19,
      "outputs": [
        {
          "output_type": "stream",
          "text": [
            "5      3.295165\n",
            "55     3.154517\n",
            "0      2.517985\n",
            "150    2.343044\n",
            "35     1.387568\n",
            "dtype: float64\n"
          ],
          "name": "stdout"
        }
      ]
    },
    {
      "cell_type": "markdown",
      "metadata": {
        "id": "zB8CpMfRryC7",
        "colab_type": "text"
      },
      "source": [
        "# plot out"
      ]
    },
    {
      "cell_type": "code",
      "metadata": {
        "id": "ubjWpaOUxTl7",
        "colab_type": "code",
        "colab": {}
      },
      "source": [
        "def d_out_score(df,name):\n",
        "  df = df.loc[df['out'] == False]\n",
        "  return metric(df[y_name],df['y_pred'],name)"
      ],
      "execution_count": 0,
      "outputs": []
    },
    {
      "cell_type": "code",
      "metadata": {
        "id": "4Q8A2DEjsuZO",
        "colab_type": "code",
        "colab": {}
      },
      "source": [
        "def plot_out(df):\n",
        "  fig = plt.figure(figsize=(20,5))\n",
        "  out_point = df[df['out'] == True]\n",
        "  plt.plot(df[by_col],df['y_pred'],label='pred line',color='red')\n",
        "  plt.scatter(df[by_col],df[y_name],label='test point')\n",
        "  plt.scatter(out_point[by_col],out_point[y_name],label='out point',color='orange')\n",
        "  plt.xlabel(by_col)\n",
        "  plt.ylabel(y_name)\n",
        "  plt.legend()\n",
        "  plt.show()"
      ],
      "execution_count": 0,
      "outputs": []
    },
    {
      "cell_type": "code",
      "metadata": {
        "id": "wv_MWV1QrvcR",
        "colab_type": "code",
        "outputId": "8ba14466-2743-4130-ce81-43942a386638",
        "colab": {
          "base_uri": "https://localhost:8080/",
          "height": 395
        }
      },
      "source": [
        "plot_out(test_170_point)\n",
        "plt.show()\n",
        "d_out_score(test_170_point,'test170')"
      ],
      "execution_count": 22,
      "outputs": [
        {
          "output_type": "display_data",
          "data": {
            "image/png": "[encoded data removed]",
            "text/plain": [
              "<Figure size 1440x360 with 1 Axes>"
            ]
          },
          "metadata": {
            "tags": []
          }
        },
        {
          "output_type": "execute_result",
          "data": {
            "text/html": [
              "<div>\n",
              "<style scoped>\n",
              "    .dataframe tbody tr th:only-of-type {\n",
              "        vertical-align: middle;\n",
              "    }\n",
              "\n",
              "    .dataframe tbody tr th {\n",
              "        vertical-align: top;\n",
              "    }\n",
              "\n",
              "    .dataframe thead th {\n",
              "        text-align: right;\n",
              "    }\n",
              "</style>\n",
              "<table border=\"1\" class=\"dataframe\">\n",
              "  <thead>\n",
              "    <tr style=\"text-align: right;\">\n",
              "      <th></th>\n",
              "      <th>R2</th>\n",
              "      <th>RMSE</th>\n",
              "      <th>mean_absolute_error</th>\n",
              "    </tr>\n",
              "  </thead>\n",
              "  <tbody>\n",
              "    <tr>\n",
              "      <th>test170</th>\n",
              "      <td>0.674475</td>\n",
              "      <td>0.366199</td>\n",
              "      <td>0.329042</td>\n",
              "    </tr>\n",
              "  </tbody>\n",
              "</table>\n",
              "</div>"
            ],
            "text/plain": [
              "               R2      RMSE  mean_absolute_error\n",
              "test170  0.674475  0.366199             0.329042"
            ]
          },
          "metadata": {
            "tags": []
          },
          "execution_count": 22
        }
      ]
    },
    {
      "cell_type": "code",
      "metadata": {
        "id": "nVOFZy5GsBr4",
        "colab_type": "code",
        "outputId": "70395f08-fccf-4a0a-d8a6-5f87d4a0b589",
        "colab": {
          "base_uri": "https://localhost:8080/",
          "height": 395
        }
      },
      "source": [
        "plot_out(test_50_point)\n",
        "plt.show()\n",
        "d_out_score(test_50_point,'test50')"
      ],
      "execution_count": 23,
      "outputs": [
        {
          "output_type": "display_data",
          "data": {
            "image/png": "[encoded data removed]",
            "text/plain": [
              "<Figure size 1440x360 with 1 Axes>"
            ]
          },
          "metadata": {
            "tags": []
          }
        },
        {
          "output_type": "execute_result",
          "data": {
            "text/html": [
              "<div>\n",
              "<style scoped>\n",
              "    .dataframe tbody tr th:only-of-type {\n",
              "        vertical-align: middle;\n",
              "    }\n",
              "\n",
              "    .dataframe tbody tr th {\n",
              "        vertical-align: top;\n",
              "    }\n",
              "\n",
              "    .dataframe thead th {\n",
              "        text-align: right;\n",
              "    }\n",
              "</style>\n",
              "<table border=\"1\" class=\"dataframe\">\n",
              "  <thead>\n",
              "    <tr style=\"text-align: right;\">\n",
              "      <th></th>\n",
              "      <th>R2</th>\n",
              "      <th>RMSE</th>\n",
              "      <th>mean_absolute_error</th>\n",
              "    </tr>\n",
              "  </thead>\n",
              "  <tbody>\n",
              "    <tr>\n",
              "      <th>test50</th>\n",
              "      <td>0.819337</td>\n",
              "      <td>0.334041</td>\n",
              "      <td>0.269273</td>\n",
              "    </tr>\n",
              "  </tbody>\n",
              "</table>\n",
              "</div>"
            ],
            "text/plain": [
              "              R2      RMSE  mean_absolute_error\n",
              "test50  0.819337  0.334041             0.269273"
            ]
          },
          "metadata": {
            "tags": []
          },
          "execution_count": 23
        }
      ]
    },
    {
      "cell_type": "code",
      "metadata": {
        "id": "v6hoOC43vaIQ",
        "colab_type": "code",
        "colab": {}
      },
      "source": [
        ""
      ],
      "execution_count": 0,
      "outputs": []
    }
  ]
}