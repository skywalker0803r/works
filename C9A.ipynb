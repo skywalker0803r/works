{
  "nbformat": 4,
  "nbformat_minor": 0,
  "metadata": {
    "colab": {
      "name": "C9A.ipynb",
      "provenance": [],
      "collapsed_sections": [],
      "include_colab_link": true
    },
    "kernelspec": {
      "name": "python3",
      "display_name": "Python 3"
    }
  },
  "cells": [
    {
      "cell_type": "markdown",
      "metadata": {
        "id": "view-in-github",
        "colab_type": "text"
      },
      "source": [
        "<a href=\"https://colab.research.google.com/github/skywalker0803r/works/blob/master/C9A.ipynb\" target=\"_parent\"><img src=\"https://colab.research.google.com/assets/colab-badge.svg\" alt=\"Open In Colab\"/></a>"
      ]
    },
    {
      "cell_type": "code",
      "metadata": {
        "id": "Gu_4_rOOcWbx",
        "colab_type": "code",
        "outputId": "8bc70cc7-6f5e-4c5e-e4aa-a5879e2b399c",
        "colab": {
          "base_uri": "https://localhost:8080/",
          "height": 35
        }
      },
      "source": [
        "from google.colab import drive\n",
        "drive.mount('/content/drive')\n",
        "import warnings \n",
        "warnings.simplefilter('ignore')"
      ],
      "execution_count": 1,
      "outputs": [
        {
          "output_type": "stream",
          "text": [
            "Drive already mounted at /content/drive; to attempt to forcibly remount, call drive.mount(\"/content/drive\", force_remount=True).\n"
          ],
          "name": "stdout"
        }
      ]
    },
    {
      "cell_type": "markdown",
      "metadata": {
        "id": "7Ccyt3A8erKg",
        "colab_type": "text"
      },
      "source": [
        "# LOAD"
      ]
    },
    {
      "cell_type": "code",
      "metadata": {
        "id": "h26kZtPtcXNA",
        "colab_type": "code",
        "colab": {}
      },
      "source": [
        "import pandas as pd\n",
        "import seaborn as sns\n",
        "import matplotlib.pyplot as plt\n",
        "\n",
        "train = pd.read_csv('/content/drive/My Drive/台塑輕油案子/data/train_4521.csv',index_col=0).reset_index(drop=True)\n",
        "test_250 = pd.read_csv('/content/drive/My Drive/台塑輕油案子/data/test_250.csv',index_col=0).reset_index(drop=True)\n",
        "test_170 = pd.read_csv('/content/drive/My Drive/台塑輕油案子/data/test_170.csv',index_col=0).reset_index(drop=True)"
      ],
      "execution_count": 0,
      "outputs": []
    },
    {
      "cell_type": "code",
      "metadata": {
        "id": "Mu3x3vWS8v5t",
        "colab_type": "code",
        "colab": {
          "base_uri": "https://localhost:8080/",
          "height": 194
        },
        "outputId": "4528bfab-d644-435e-e403-22e9f31591e7"
      },
      "source": [
        "train.head()"
      ],
      "execution_count": 3,
      "outputs": [
        {
          "output_type": "execute_result",
          "data": {
            "text/html": [
              "<div>\n",
              "<style scoped>\n",
              "    .dataframe tbody tr th:only-of-type {\n",
              "        vertical-align: middle;\n",
              "    }\n",
              "\n",
              "    .dataframe tbody tr th {\n",
              "        vertical-align: top;\n",
              "    }\n",
              "\n",
              "    .dataframe thead th {\n",
              "        text-align: right;\n",
              "    }\n",
              "</style>\n",
              "<table border=\"1\" class=\"dataframe\">\n",
              "  <thead>\n",
              "    <tr style=\"text-align: right;\">\n",
              "      <th></th>\n",
              "      <th>T10</th>\n",
              "      <th>T50</th>\n",
              "      <th>T90</th>\n",
              "      <th>N+A</th>\n",
              "      <th>C5NP</th>\n",
              "      <th>C5IP</th>\n",
              "      <th>C5N</th>\n",
              "      <th>C6NP</th>\n",
              "      <th>C6IP</th>\n",
              "      <th>C6N</th>\n",
              "      <th>C6A</th>\n",
              "      <th>C7NP</th>\n",
              "      <th>C7IP</th>\n",
              "      <th>C7N</th>\n",
              "      <th>C7A</th>\n",
              "      <th>C8NP</th>\n",
              "      <th>C8IP</th>\n",
              "      <th>C8N</th>\n",
              "      <th>C8A</th>\n",
              "      <th>C9NP</th>\n",
              "      <th>C9IP</th>\n",
              "      <th>C9N</th>\n",
              "      <th>C9A</th>\n",
              "      <th>C10NP</th>\n",
              "      <th>C10IP</th>\n",
              "      <th>C10N</th>\n",
              "      <th>C10A</th>\n",
              "    </tr>\n",
              "  </thead>\n",
              "  <tbody>\n",
              "    <tr>\n",
              "      <th>0</th>\n",
              "      <td>100.5</td>\n",
              "      <td>119.2</td>\n",
              "      <td>146.5</td>\n",
              "      <td>31.978</td>\n",
              "      <td>0.272</td>\n",
              "      <td>0.132</td>\n",
              "      <td>0.059</td>\n",
              "      <td>5.293</td>\n",
              "      <td>2.570</td>\n",
              "      <td>2.819</td>\n",
              "      <td>0.494</td>\n",
              "      <td>10.395</td>\n",
              "      <td>8.070</td>\n",
              "      <td>6.411</td>\n",
              "      <td>2.917</td>\n",
              "      <td>9.138</td>\n",
              "      <td>9.649</td>\n",
              "      <td>4.810</td>\n",
              "      <td>5.373</td>\n",
              "      <td>6.405</td>\n",
              "      <td>9.759</td>\n",
              "      <td>4.590</td>\n",
              "      <td>3.661</td>\n",
              "      <td>0.875</td>\n",
              "      <td>5.257</td>\n",
              "      <td>0.525</td>\n",
              "      <td>0.319</td>\n",
              "    </tr>\n",
              "    <tr>\n",
              "      <th>1</th>\n",
              "      <td>99.6</td>\n",
              "      <td>117.9</td>\n",
              "      <td>145.5</td>\n",
              "      <td>31.568</td>\n",
              "      <td>0.297</td>\n",
              "      <td>0.151</td>\n",
              "      <td>0.062</td>\n",
              "      <td>5.089</td>\n",
              "      <td>2.531</td>\n",
              "      <td>2.804</td>\n",
              "      <td>0.499</td>\n",
              "      <td>10.074</td>\n",
              "      <td>7.958</td>\n",
              "      <td>6.395</td>\n",
              "      <td>2.894</td>\n",
              "      <td>8.970</td>\n",
              "      <td>9.548</td>\n",
              "      <td>4.753</td>\n",
              "      <td>5.443</td>\n",
              "      <td>6.324</td>\n",
              "      <td>9.899</td>\n",
              "      <td>4.301</td>\n",
              "      <td>2.995</td>\n",
              "      <td>0.881</td>\n",
              "      <td>5.591</td>\n",
              "      <td>1.119</td>\n",
              "      <td>0.303</td>\n",
              "    </tr>\n",
              "    <tr>\n",
              "      <th>2</th>\n",
              "      <td>100.0</td>\n",
              "      <td>118.8</td>\n",
              "      <td>145.6</td>\n",
              "      <td>31.344</td>\n",
              "      <td>0.262</td>\n",
              "      <td>0.126</td>\n",
              "      <td>0.061</td>\n",
              "      <td>5.107</td>\n",
              "      <td>2.571</td>\n",
              "      <td>2.771</td>\n",
              "      <td>0.492</td>\n",
              "      <td>10.069</td>\n",
              "      <td>7.913</td>\n",
              "      <td>6.378</td>\n",
              "      <td>2.890</td>\n",
              "      <td>9.006</td>\n",
              "      <td>9.591</td>\n",
              "      <td>4.778</td>\n",
              "      <td>5.468</td>\n",
              "      <td>6.360</td>\n",
              "      <td>9.983</td>\n",
              "      <td>4.274</td>\n",
              "      <td>2.979</td>\n",
              "      <td>0.865</td>\n",
              "      <td>5.641</td>\n",
              "      <td>0.964</td>\n",
              "      <td>0.289</td>\n",
              "    </tr>\n",
              "    <tr>\n",
              "      <th>3</th>\n",
              "      <td>100.4</td>\n",
              "      <td>118.6</td>\n",
              "      <td>142.9</td>\n",
              "      <td>31.453</td>\n",
              "      <td>0.224</td>\n",
              "      <td>0.105</td>\n",
              "      <td>0.060</td>\n",
              "      <td>4.894</td>\n",
              "      <td>2.497</td>\n",
              "      <td>2.650</td>\n",
              "      <td>0.469</td>\n",
              "      <td>10.015</td>\n",
              "      <td>7.685</td>\n",
              "      <td>6.376</td>\n",
              "      <td>2.866</td>\n",
              "      <td>9.133</td>\n",
              "      <td>9.708</td>\n",
              "      <td>4.889</td>\n",
              "      <td>5.510</td>\n",
              "      <td>6.444</td>\n",
              "      <td>10.182</td>\n",
              "      <td>4.420</td>\n",
              "      <td>2.964</td>\n",
              "      <td>0.830</td>\n",
              "      <td>5.637</td>\n",
              "      <td>0.968</td>\n",
              "      <td>0.281</td>\n",
              "    </tr>\n",
              "    <tr>\n",
              "      <th>4</th>\n",
              "      <td>100.4</td>\n",
              "      <td>118.1</td>\n",
              "      <td>142.2</td>\n",
              "      <td>32.190</td>\n",
              "      <td>0.243</td>\n",
              "      <td>0.117</td>\n",
              "      <td>0.061</td>\n",
              "      <td>4.946</td>\n",
              "      <td>2.503</td>\n",
              "      <td>2.695</td>\n",
              "      <td>0.477</td>\n",
              "      <td>10.053</td>\n",
              "      <td>7.765</td>\n",
              "      <td>6.394</td>\n",
              "      <td>2.877</td>\n",
              "      <td>9.101</td>\n",
              "      <td>9.676</td>\n",
              "      <td>4.855</td>\n",
              "      <td>5.500</td>\n",
              "      <td>6.416</td>\n",
              "      <td>10.115</td>\n",
              "      <td>4.347</td>\n",
              "      <td>3.725</td>\n",
              "      <td>0.835</td>\n",
              "      <td>4.823</td>\n",
              "      <td>0.969</td>\n",
              "      <td>0.290</td>\n",
              "    </tr>\n",
              "  </tbody>\n",
              "</table>\n",
              "</div>"
            ],
            "text/plain": [
              "     T10    T50    T90     N+A   C5NP  ...    C9A  C10NP  C10IP   C10N   C10A\n",
              "0  100.5  119.2  146.5  31.978  0.272  ...  3.661  0.875  5.257  0.525  0.319\n",
              "1   99.6  117.9  145.5  31.568  0.297  ...  2.995  0.881  5.591  1.119  0.303\n",
              "2  100.0  118.8  145.6  31.344  0.262  ...  2.979  0.865  5.641  0.964  0.289\n",
              "3  100.4  118.6  142.9  31.453  0.224  ...  2.964  0.830  5.637  0.968  0.281\n",
              "4  100.4  118.1  142.2  32.190  0.243  ...  3.725  0.835  4.823  0.969  0.290\n",
              "\n",
              "[5 rows x 27 columns]"
            ]
          },
          "metadata": {
            "tags": []
          },
          "execution_count": 3
        }
      ]
    },
    {
      "cell_type": "markdown",
      "metadata": {
        "id": "m9YcMTAdepcM",
        "colab_type": "text"
      },
      "source": [
        "# 整理資料"
      ]
    },
    {
      "cell_type": "code",
      "metadata": {
        "id": "psvyukgQczo9",
        "colab_type": "code",
        "outputId": "f06bc371-a8f4-4b7c-f38d-e577660e0194",
        "colab": {
          "base_uri": "https://localhost:8080/",
          "height": 70
        }
      },
      "source": [
        "test_200 = test_250.loc[ test_250.index % 5 != 0 ,:]#5不可整除\n",
        "test_50 = test_250.loc[ test_250.index % 5 == 0 ,:]#5可以整除\n",
        "train = train.append(test_200)#200筆加入train\n",
        "print(train.shape)\n",
        "print(test_170.shape)\n",
        "print(test_50.shape)"
      ],
      "execution_count": 4,
      "outputs": [
        {
          "output_type": "stream",
          "text": [
            "(4721, 27)\n",
            "(170, 27)\n",
            "(50, 27)\n"
          ],
          "name": "stdout"
        }
      ]
    },
    {
      "cell_type": "markdown",
      "metadata": {
        "id": "1siqb5STetJ8",
        "colab_type": "text"
      },
      "source": [
        "# def features y_name"
      ]
    },
    {
      "cell_type": "code",
      "metadata": {
        "id": "gcb1TzlPdLqt",
        "colab_type": "code",
        "colab": {}
      },
      "source": [
        "features = ['T10','T50','T90','N+A']\n",
        "y_name = 'C9A'"
      ],
      "execution_count": 0,
      "outputs": []
    },
    {
      "cell_type": "markdown",
      "metadata": {
        "id": "NV57oi9nePTE",
        "colab_type": "text"
      },
      "source": [
        "# features scaler"
      ]
    },
    {
      "cell_type": "code",
      "metadata": {
        "id": "1htHboYzePcD",
        "colab_type": "code",
        "colab": {
          "base_uri": "https://localhost:8080/",
          "height": 194
        },
        "outputId": "beb6b855-83c4-4d93-f4d6-6e9404c89c09"
      },
      "source": [
        "from sklearn.preprocessing import StandardScaler\n",
        "\n",
        "scaler = StandardScaler().fit(train[features])\n",
        "\n",
        "train[features] = scaler.transform(train[features])\n",
        "test_170[features] = scaler.transform(test_170[features])\n",
        "test_50[features] = scaler.transform(test_50[features])\n",
        "\n",
        "train.head()"
      ],
      "execution_count": 6,
      "outputs": [
        {
          "output_type": "execute_result",
          "data": {
            "text/html": [
              "<div>\n",
              "<style scoped>\n",
              "    .dataframe tbody tr th:only-of-type {\n",
              "        vertical-align: middle;\n",
              "    }\n",
              "\n",
              "    .dataframe tbody tr th {\n",
              "        vertical-align: top;\n",
              "    }\n",
              "\n",
              "    .dataframe thead th {\n",
              "        text-align: right;\n",
              "    }\n",
              "</style>\n",
              "<table border=\"1\" class=\"dataframe\">\n",
              "  <thead>\n",
              "    <tr style=\"text-align: right;\">\n",
              "      <th></th>\n",
              "      <th>T10</th>\n",
              "      <th>T50</th>\n",
              "      <th>T90</th>\n",
              "      <th>N+A</th>\n",
              "      <th>C5NP</th>\n",
              "      <th>C5IP</th>\n",
              "      <th>C5N</th>\n",
              "      <th>C6NP</th>\n",
              "      <th>C6IP</th>\n",
              "      <th>C6N</th>\n",
              "      <th>C6A</th>\n",
              "      <th>C7NP</th>\n",
              "      <th>C7IP</th>\n",
              "      <th>C7N</th>\n",
              "      <th>C7A</th>\n",
              "      <th>C8NP</th>\n",
              "      <th>C8IP</th>\n",
              "      <th>C8N</th>\n",
              "      <th>C8A</th>\n",
              "      <th>C9NP</th>\n",
              "      <th>C9IP</th>\n",
              "      <th>C9N</th>\n",
              "      <th>C9A</th>\n",
              "      <th>C10NP</th>\n",
              "      <th>C10IP</th>\n",
              "      <th>C10N</th>\n",
              "      <th>C10A</th>\n",
              "    </tr>\n",
              "  </thead>\n",
              "  <tbody>\n",
              "    <tr>\n",
              "      <th>0</th>\n",
              "      <td>0.457444</td>\n",
              "      <td>0.556351</td>\n",
              "      <td>0.439809</td>\n",
              "      <td>-1.047568</td>\n",
              "      <td>0.272</td>\n",
              "      <td>0.132</td>\n",
              "      <td>0.059</td>\n",
              "      <td>5.293</td>\n",
              "      <td>2.570</td>\n",
              "      <td>2.819</td>\n",
              "      <td>0.494</td>\n",
              "      <td>10.395</td>\n",
              "      <td>8.070</td>\n",
              "      <td>6.411</td>\n",
              "      <td>2.917</td>\n",
              "      <td>9.138</td>\n",
              "      <td>9.649</td>\n",
              "      <td>4.810</td>\n",
              "      <td>5.373</td>\n",
              "      <td>6.405</td>\n",
              "      <td>9.759</td>\n",
              "      <td>4.590</td>\n",
              "      <td>3.661</td>\n",
              "      <td>0.875</td>\n",
              "      <td>5.257</td>\n",
              "      <td>0.525</td>\n",
              "      <td>0.319</td>\n",
              "    </tr>\n",
              "    <tr>\n",
              "      <th>1</th>\n",
              "      <td>0.379525</td>\n",
              "      <td>0.366234</td>\n",
              "      <td>0.226254</td>\n",
              "      <td>-1.096167</td>\n",
              "      <td>0.297</td>\n",
              "      <td>0.151</td>\n",
              "      <td>0.062</td>\n",
              "      <td>5.089</td>\n",
              "      <td>2.531</td>\n",
              "      <td>2.804</td>\n",
              "      <td>0.499</td>\n",
              "      <td>10.074</td>\n",
              "      <td>7.958</td>\n",
              "      <td>6.395</td>\n",
              "      <td>2.894</td>\n",
              "      <td>8.970</td>\n",
              "      <td>9.548</td>\n",
              "      <td>4.753</td>\n",
              "      <td>5.443</td>\n",
              "      <td>6.324</td>\n",
              "      <td>9.899</td>\n",
              "      <td>4.301</td>\n",
              "      <td>2.995</td>\n",
              "      <td>0.881</td>\n",
              "      <td>5.591</td>\n",
              "      <td>1.119</td>\n",
              "      <td>0.303</td>\n",
              "    </tr>\n",
              "    <tr>\n",
              "      <th>2</th>\n",
              "      <td>0.414156</td>\n",
              "      <td>0.497854</td>\n",
              "      <td>0.247610</td>\n",
              "      <td>-1.122719</td>\n",
              "      <td>0.262</td>\n",
              "      <td>0.126</td>\n",
              "      <td>0.061</td>\n",
              "      <td>5.107</td>\n",
              "      <td>2.571</td>\n",
              "      <td>2.771</td>\n",
              "      <td>0.492</td>\n",
              "      <td>10.069</td>\n",
              "      <td>7.913</td>\n",
              "      <td>6.378</td>\n",
              "      <td>2.890</td>\n",
              "      <td>9.006</td>\n",
              "      <td>9.591</td>\n",
              "      <td>4.778</td>\n",
              "      <td>5.468</td>\n",
              "      <td>6.360</td>\n",
              "      <td>9.983</td>\n",
              "      <td>4.274</td>\n",
              "      <td>2.979</td>\n",
              "      <td>0.865</td>\n",
              "      <td>5.641</td>\n",
              "      <td>0.964</td>\n",
              "      <td>0.289</td>\n",
              "    </tr>\n",
              "    <tr>\n",
              "      <th>3</th>\n",
              "      <td>0.448786</td>\n",
              "      <td>0.468605</td>\n",
              "      <td>-0.328987</td>\n",
              "      <td>-1.109799</td>\n",
              "      <td>0.224</td>\n",
              "      <td>0.105</td>\n",
              "      <td>0.060</td>\n",
              "      <td>4.894</td>\n",
              "      <td>2.497</td>\n",
              "      <td>2.650</td>\n",
              "      <td>0.469</td>\n",
              "      <td>10.015</td>\n",
              "      <td>7.685</td>\n",
              "      <td>6.376</td>\n",
              "      <td>2.866</td>\n",
              "      <td>9.133</td>\n",
              "      <td>9.708</td>\n",
              "      <td>4.889</td>\n",
              "      <td>5.510</td>\n",
              "      <td>6.444</td>\n",
              "      <td>10.182</td>\n",
              "      <td>4.420</td>\n",
              "      <td>2.964</td>\n",
              "      <td>0.830</td>\n",
              "      <td>5.637</td>\n",
              "      <td>0.968</td>\n",
              "      <td>0.281</td>\n",
              "    </tr>\n",
              "    <tr>\n",
              "      <th>4</th>\n",
              "      <td>0.448786</td>\n",
              "      <td>0.395483</td>\n",
              "      <td>-0.478475</td>\n",
              "      <td>-1.022438</td>\n",
              "      <td>0.243</td>\n",
              "      <td>0.117</td>\n",
              "      <td>0.061</td>\n",
              "      <td>4.946</td>\n",
              "      <td>2.503</td>\n",
              "      <td>2.695</td>\n",
              "      <td>0.477</td>\n",
              "      <td>10.053</td>\n",
              "      <td>7.765</td>\n",
              "      <td>6.394</td>\n",
              "      <td>2.877</td>\n",
              "      <td>9.101</td>\n",
              "      <td>9.676</td>\n",
              "      <td>4.855</td>\n",
              "      <td>5.500</td>\n",
              "      <td>6.416</td>\n",
              "      <td>10.115</td>\n",
              "      <td>4.347</td>\n",
              "      <td>3.725</td>\n",
              "      <td>0.835</td>\n",
              "      <td>4.823</td>\n",
              "      <td>0.969</td>\n",
              "      <td>0.290</td>\n",
              "    </tr>\n",
              "  </tbody>\n",
              "</table>\n",
              "</div>"
            ],
            "text/plain": [
              "        T10       T50       T90       N+A  ...  C10NP  C10IP   C10N   C10A\n",
              "0  0.457444  0.556351  0.439809 -1.047568  ...  0.875  5.257  0.525  0.319\n",
              "1  0.379525  0.366234  0.226254 -1.096167  ...  0.881  5.591  1.119  0.303\n",
              "2  0.414156  0.497854  0.247610 -1.122719  ...  0.865  5.641  0.964  0.289\n",
              "3  0.448786  0.468605 -0.328987 -1.109799  ...  0.830  5.637  0.968  0.281\n",
              "4  0.448786  0.395483 -0.478475 -1.022438  ...  0.835  4.823  0.969  0.290\n",
              "\n",
              "[5 rows x 27 columns]"
            ]
          },
          "metadata": {
            "tags": []
          },
          "execution_count": 6
        }
      ]
    },
    {
      "cell_type": "markdown",
      "metadata": {
        "id": "DM89dDVNdyxj",
        "colab_type": "text"
      },
      "source": [
        "# CORR WITH X"
      ]
    },
    {
      "cell_type": "markdown",
      "metadata": {
        "id": "9dUcvQgyqUhF",
        "colab_type": "text"
      },
      "source": [
        "找找高相關特徵"
      ]
    },
    {
      "cell_type": "code",
      "metadata": {
        "id": "76L-I9CZdtwB",
        "colab_type": "code",
        "outputId": "892d43c9-3f1e-4ad9-dd79-ab69843fffbb",
        "colab": {
          "base_uri": "https://localhost:8080/",
          "height": 194
        }
      },
      "source": [
        "corr_x = abs(train.iloc[:,:4].join(train[y_name]).corr()).T.sort_values(by=y_name,ascending=False).T\n",
        "corr_x"
      ],
      "execution_count": 7,
      "outputs": [
        {
          "output_type": "execute_result",
          "data": {
            "text/html": [
              "<div>\n",
              "<style scoped>\n",
              "    .dataframe tbody tr th:only-of-type {\n",
              "        vertical-align: middle;\n",
              "    }\n",
              "\n",
              "    .dataframe tbody tr th {\n",
              "        vertical-align: top;\n",
              "    }\n",
              "\n",
              "    .dataframe thead th {\n",
              "        text-align: right;\n",
              "    }\n",
              "</style>\n",
              "<table border=\"1\" class=\"dataframe\">\n",
              "  <thead>\n",
              "    <tr style=\"text-align: right;\">\n",
              "      <th></th>\n",
              "      <th>C9A</th>\n",
              "      <th>T50</th>\n",
              "      <th>T10</th>\n",
              "      <th>T90</th>\n",
              "      <th>N+A</th>\n",
              "    </tr>\n",
              "  </thead>\n",
              "  <tbody>\n",
              "    <tr>\n",
              "      <th>T10</th>\n",
              "      <td>0.501186</td>\n",
              "      <td>0.898455</td>\n",
              "      <td>1.000000</td>\n",
              "      <td>0.226889</td>\n",
              "      <td>0.230598</td>\n",
              "    </tr>\n",
              "    <tr>\n",
              "      <th>T50</th>\n",
              "      <td>0.590573</td>\n",
              "      <td>1.000000</td>\n",
              "      <td>0.898455</td>\n",
              "      <td>0.536613</td>\n",
              "      <td>0.338216</td>\n",
              "    </tr>\n",
              "    <tr>\n",
              "      <th>T90</th>\n",
              "      <td>0.367192</td>\n",
              "      <td>0.536613</td>\n",
              "      <td>0.226889</td>\n",
              "      <td>1.000000</td>\n",
              "      <td>0.202460</td>\n",
              "    </tr>\n",
              "    <tr>\n",
              "      <th>N+A</th>\n",
              "      <td>0.315115</td>\n",
              "      <td>0.338216</td>\n",
              "      <td>0.230598</td>\n",
              "      <td>0.202460</td>\n",
              "      <td>1.000000</td>\n",
              "    </tr>\n",
              "    <tr>\n",
              "      <th>C9A</th>\n",
              "      <td>1.000000</td>\n",
              "      <td>0.590573</td>\n",
              "      <td>0.501186</td>\n",
              "      <td>0.367192</td>\n",
              "      <td>0.315115</td>\n",
              "    </tr>\n",
              "  </tbody>\n",
              "</table>\n",
              "</div>"
            ],
            "text/plain": [
              "          C9A       T50       T10       T90       N+A\n",
              "T10  0.501186  0.898455  1.000000  0.226889  0.230598\n",
              "T50  0.590573  1.000000  0.898455  0.536613  0.338216\n",
              "T90  0.367192  0.536613  0.226889  1.000000  0.202460\n",
              "N+A  0.315115  0.338216  0.230598  0.202460  1.000000\n",
              "C9A  1.000000  0.590573  0.501186  0.367192  0.315115"
            ]
          },
          "metadata": {
            "tags": []
          },
          "execution_count": 7
        }
      ]
    },
    {
      "cell_type": "markdown",
      "metadata": {
        "id": "lwoksfZ6d2sy",
        "colab_type": "text"
      },
      "source": [
        "# CORR WITH Y"
      ]
    },
    {
      "cell_type": "markdown",
      "metadata": {
        "id": "P0mvM1SvqXcu",
        "colab_type": "text"
      },
      "source": [
        "找找高相關y"
      ]
    },
    {
      "cell_type": "code",
      "metadata": {
        "id": "wtaThFKPdxzh",
        "colab_type": "code",
        "outputId": "707557af-9494-4d80-f652-c38485b32c3d",
        "colab": {
          "base_uri": "https://localhost:8080/",
          "height": 96
        }
      },
      "source": [
        "corr_y = abs(train.iloc[:,4:].corr())[[y_name]].sort_values(by=y_name,ascending=False).T\n",
        "corr_y"
      ],
      "execution_count": 8,
      "outputs": [
        {
          "output_type": "execute_result",
          "data": {
            "text/html": [
              "<div>\n",
              "<style scoped>\n",
              "    .dataframe tbody tr th:only-of-type {\n",
              "        vertical-align: middle;\n",
              "    }\n",
              "\n",
              "    .dataframe tbody tr th {\n",
              "        vertical-align: top;\n",
              "    }\n",
              "\n",
              "    .dataframe thead th {\n",
              "        text-align: right;\n",
              "    }\n",
              "</style>\n",
              "<table border=\"1\" class=\"dataframe\">\n",
              "  <thead>\n",
              "    <tr style=\"text-align: right;\">\n",
              "      <th></th>\n",
              "      <th>C9A</th>\n",
              "      <th>C10IP</th>\n",
              "      <th>C9NP</th>\n",
              "      <th>C6N</th>\n",
              "      <th>C9IP</th>\n",
              "      <th>C8NP</th>\n",
              "      <th>C5NP</th>\n",
              "      <th>C6IP</th>\n",
              "      <th>C5IP</th>\n",
              "      <th>C8A</th>\n",
              "      <th>C7N</th>\n",
              "      <th>C8IP</th>\n",
              "      <th>C5N</th>\n",
              "      <th>C7NP</th>\n",
              "      <th>C6NP</th>\n",
              "      <th>C8N</th>\n",
              "      <th>C10NP</th>\n",
              "      <th>C6A</th>\n",
              "      <th>C7A</th>\n",
              "      <th>C9N</th>\n",
              "      <th>C10N</th>\n",
              "      <th>C7IP</th>\n",
              "      <th>C10A</th>\n",
              "    </tr>\n",
              "  </thead>\n",
              "  <tbody>\n",
              "    <tr>\n",
              "      <th>C9A</th>\n",
              "      <td>1.0</td>\n",
              "      <td>0.693838</td>\n",
              "      <td>0.673552</td>\n",
              "      <td>0.658641</td>\n",
              "      <td>0.631929</td>\n",
              "      <td>0.593739</td>\n",
              "      <td>0.586489</td>\n",
              "      <td>0.572449</td>\n",
              "      <td>0.56059</td>\n",
              "      <td>0.544554</td>\n",
              "      <td>0.520934</td>\n",
              "      <td>0.517533</td>\n",
              "      <td>0.493729</td>\n",
              "      <td>0.475753</td>\n",
              "      <td>0.334802</td>\n",
              "      <td>0.280199</td>\n",
              "      <td>0.254551</td>\n",
              "      <td>0.248043</td>\n",
              "      <td>0.246651</td>\n",
              "      <td>0.212347</td>\n",
              "      <td>0.191085</td>\n",
              "      <td>0.174022</td>\n",
              "      <td>0.151667</td>\n",
              "    </tr>\n",
              "  </tbody>\n",
              "</table>\n",
              "</div>"
            ],
            "text/plain": [
              "     C9A     C10IP      C9NP       C6N  ...       C9N      C10N      C7IP      C10A\n",
              "C9A  1.0  0.693838  0.673552  0.658641  ...  0.212347  0.191085  0.174022  0.151667\n",
              "\n",
              "[1 rows x 23 columns]"
            ]
          },
          "metadata": {
            "tags": []
          },
          "execution_count": 8
        }
      ]
    },
    {
      "cell_type": "markdown",
      "metadata": {
        "id": "JD4OJOIPeGJL",
        "colab_type": "text"
      },
      "source": [
        "# 特徵萃取"
      ]
    },
    {
      "cell_type": "code",
      "metadata": {
        "id": "OiOUgsf9d4kt",
        "colab_type": "code",
        "colab": {}
      },
      "source": [
        "from sklearn.manifold import isomap\n",
        "iso_col = ['T50','N+A']\n",
        "iso = isomap.Isomap(n_components=1).fit(train[iso_col])\n",
        "#轉換\n",
        "train['iso_x'] = iso.transform(train[iso_col])\n",
        "test_170['iso_x'] = iso.transform(test_170[iso_col])\n",
        "test_50['iso_x'] = iso.transform(test_50[iso_col])"
      ],
      "execution_count": 0,
      "outputs": []
    },
    {
      "cell_type": "markdown",
      "metadata": {
        "id": "8uTL8DwTgNWE",
        "colab_type": "text"
      },
      "source": [
        "# 目標萃取"
      ]
    },
    {
      "cell_type": "code",
      "metadata": {
        "id": "hRT12hD6gIx6",
        "colab_type": "code",
        "colab": {}
      },
      "source": [
        "from sklearn.decomposition import pca\n",
        "pca_col = ['C9A']\n",
        "pca = pca.PCA(n_components=1).fit(train[pca_col])\n",
        "#轉換\n",
        "train['pca_y'] = pca.transform(train[pca_col])\n",
        "test_170['pca_y'] = pca.transform(test_170[pca_col])\n",
        "test_50['pca_y'] = pca.transform(test_50[pca_col])"
      ],
      "execution_count": 0,
      "outputs": []
    },
    {
      "cell_type": "markdown",
      "metadata": {
        "id": "ZkM34rwcjcmq",
        "colab_type": "text"
      },
      "source": [
        "# 檢查相關性"
      ]
    },
    {
      "cell_type": "markdown",
      "metadata": {
        "id": "LRyjmSlgqemi",
        "colab_type": "text"
      },
      "source": [
        "這裡希望看到是漂亮的線性相關"
      ]
    },
    {
      "cell_type": "code",
      "metadata": {
        "id": "klofDmm-gY-g",
        "colab_type": "code",
        "outputId": "73472565-1c57-4222-9878-634b208bd1ef",
        "colab": {
          "base_uri": "https://localhost:8080/",
          "height": 398
        }
      },
      "source": [
        "sns.scatterplot(x='iso_x',y='pca_y',data=train)\n",
        "plt.show()\n",
        "train.corr().loc[['iso_x','pca_y',y_name],['iso_x','pca_y',y_name]]"
      ],
      "execution_count": 11,
      "outputs": [
        {
          "output_type": "display_data",
          "data": {
            "image/png": "[encoded data removed]",
            "text/plain": [
              "<Figure size 432x288 with 1 Axes>"
            ]
          },
          "metadata": {
            "tags": []
          }
        },
        {
          "output_type": "execute_result",
          "data": {
            "text/html": [
              "<div>\n",
              "<style scoped>\n",
              "    .dataframe tbody tr th:only-of-type {\n",
              "        vertical-align: middle;\n",
              "    }\n",
              "\n",
              "    .dataframe tbody tr th {\n",
              "        vertical-align: top;\n",
              "    }\n",
              "\n",
              "    .dataframe thead th {\n",
              "        text-align: right;\n",
              "    }\n",
              "</style>\n",
              "<table border=\"1\" class=\"dataframe\">\n",
              "  <thead>\n",
              "    <tr style=\"text-align: right;\">\n",
              "      <th></th>\n",
              "      <th>iso_x</th>\n",
              "      <th>pca_y</th>\n",
              "      <th>C9A</th>\n",
              "    </tr>\n",
              "  </thead>\n",
              "  <tbody>\n",
              "    <tr>\n",
              "      <th>iso_x</th>\n",
              "      <td>1.00000</td>\n",
              "      <td>-0.68452</td>\n",
              "      <td>-0.68452</td>\n",
              "    </tr>\n",
              "    <tr>\n",
              "      <th>pca_y</th>\n",
              "      <td>-0.68452</td>\n",
              "      <td>1.00000</td>\n",
              "      <td>1.00000</td>\n",
              "    </tr>\n",
              "    <tr>\n",
              "      <th>C9A</th>\n",
              "      <td>-0.68452</td>\n",
              "      <td>1.00000</td>\n",
              "      <td>1.00000</td>\n",
              "    </tr>\n",
              "  </tbody>\n",
              "</table>\n",
              "</div>"
            ],
            "text/plain": [
              "         iso_x    pca_y      C9A\n",
              "iso_x  1.00000 -0.68452 -0.68452\n",
              "pca_y -0.68452  1.00000  1.00000\n",
              "C9A   -0.68452  1.00000  1.00000"
            ]
          },
          "metadata": {
            "tags": []
          },
          "execution_count": 11
        }
      ]
    },
    {
      "cell_type": "markdown",
      "metadata": {
        "id": "ISwKDxU9kLtA",
        "colab_type": "text"
      },
      "source": [
        "# modeling"
      ]
    },
    {
      "cell_type": "markdown",
      "metadata": {
        "id": "mPIja4ebqvMv",
        "colab_type": "text"
      },
      "source": [
        "評分指標"
      ]
    },
    {
      "cell_type": "code",
      "metadata": {
        "id": "nsTlh6H3lW9l",
        "colab_type": "code",
        "colab": {}
      },
      "source": [
        "from sklearn.metrics import r2_score,mean_squared_error,mean_absolute_error\n",
        "from math import sqrt\n",
        "def metric(y_t,y_p):\n",
        "  res = {'R2':r2_score(y_t,y_p),\n",
        "         'RMSE':sqrt(mean_squared_error(y_t,y_p)),\n",
        "         'mean_absolute_error':mean_absolute_error(y_t,y_p)}\n",
        "  return pd.DataFrame(res,index=['score'])"
      ],
      "execution_count": 0,
      "outputs": []
    },
    {
      "cell_type": "code",
      "metadata": {
        "id": "fQMyc1UIjuVg",
        "colab_type": "code",
        "outputId": "355753ca-0039-4f23-f12b-13922d34d9c0",
        "colab": {
          "base_uri": "https://localhost:8080/",
          "height": 52
        }
      },
      "source": [
        "import xgboost\n",
        "from sklearn.svm import SVR\n",
        "from math import sqrt\n",
        "from lightgbm import LGBMRegressor\n",
        "from sklearn.ensemble import VotingRegressor\n",
        "from sklearn.model_selection import cross_validate\n",
        "from sklearn.linear_model import LinearRegression\n",
        "from sklearn.tree import DecisionTreeRegressor\n",
        "import warnings \n",
        "warnings.simplefilter('ignore')\n",
        "\n",
        "#選擇模型\n",
        "#model = DecisionTreeRegressor(max_depth=1)\n",
        "#model = xgboost.XGBRegressor(objective='reg:squarederror')\n",
        "model = SVR()\n",
        "#model = LinearRegression()\n",
        "\n",
        "#交叉驗證\n",
        "val_scores = cross_validate(model,train[['iso_x']],train['pca_y'],cv=5)\n",
        "\n",
        "#交叉驗證結果\n",
        "print('交叉驗證分數:',val_scores['test_score'])\n",
        "print('交叉驗證平均分數:',val_scores['test_score'].mean())"
      ],
      "execution_count": 13,
      "outputs": [
        {
          "output_type": "stream",
          "text": [
            "交叉驗證分數: [0.7015944  0.23182358 0.43735832 0.31251373 0.48624498]\n",
            "交叉驗證平均分數: 0.4339070024126981\n"
          ],
          "name": "stdout"
        }
      ]
    },
    {
      "cell_type": "markdown",
      "metadata": {
        "id": "UPBI1r7uk7j3",
        "colab_type": "text"
      },
      "source": [
        "# fit & predict"
      ]
    },
    {
      "cell_type": "code",
      "metadata": {
        "id": "T5LAaXc4kSAr",
        "colab_type": "code",
        "colab": {}
      },
      "source": [
        "# fit \n",
        "model.fit(train[['iso_x']],train['pca_y'])\n",
        "# predict\n",
        "train['y_pred'] = model.predict(train[['iso_x']])\n",
        "test_170['y_pred'] = model.predict(test_170[['iso_x']])\n",
        "test_50['y_pred'] = model.predict(test_50[['iso_x']])"
      ],
      "execution_count": 0,
      "outputs": []
    },
    {
      "cell_type": "markdown",
      "metadata": {
        "id": "_4GSs_xZoQOF",
        "colab_type": "text"
      },
      "source": [
        "# plot"
      ]
    },
    {
      "cell_type": "markdown",
      "metadata": {
        "id": "9rs_qDerpq3e",
        "colab_type": "text"
      },
      "source": [
        "data for plot"
      ]
    },
    {
      "cell_type": "code",
      "metadata": {
        "id": "iCIJO39Rob_L",
        "colab_type": "code",
        "colab": {}
      },
      "source": [
        "by_col = 'iso_x'\n",
        "train_sample_point = train.sample(1000).sort_values(by = by_col)\n",
        "test_170_point = test_170.sort_values(by = by_col)\n",
        "test_50_point = test_50.sort_values(by = by_col)"
      ],
      "execution_count": 0,
      "outputs": []
    },
    {
      "cell_type": "markdown",
      "metadata": {
        "id": "jG-FvtFfpsTA",
        "colab_type": "text"
      },
      "source": [
        "plot function"
      ]
    },
    {
      "cell_type": "code",
      "metadata": {
        "id": "z8gcWE__o409",
        "colab_type": "code",
        "colab": {}
      },
      "source": [
        "def pred_plot(df,by_col):\n",
        "  fig = plt.figure(figsize=(20,5))\n",
        "  plt.plot(df[by_col],df['y_pred'],label='pred line',color='red')\n",
        "  plt.scatter(df[by_col],df['pca_y'],label='data point')\n",
        "  plt.xlabel(by_col)\n",
        "  plt.ylabel('pca_y')\n",
        "  plt.legend()\n",
        "  plt.show()"
      ],
      "execution_count": 0,
      "outputs": []
    },
    {
      "cell_type": "code",
      "metadata": {
        "id": "6YKTx82XpdM_",
        "colab_type": "code",
        "outputId": "180ecf32-0213-4f19-f67a-f7cb63083675",
        "colab": {
          "base_uri": "https://localhost:8080/",
          "height": 412
        }
      },
      "source": [
        "pred_plot(train_sample_point,by_col)\n",
        "plt.show()\n",
        "print('train_scores:')\n",
        "metric(train['pca_y'],train['y_pred'])"
      ],
      "execution_count": 17,
      "outputs": [
        {
          "output_type": "display_data",
          "data": {
            "image/png": "[encoded data removed]",
            "text/plain": [
              "<Figure size 1440x360 with 1 Axes>"
            ]
          },
          "metadata": {
            "tags": []
          }
        },
        {
          "output_type": "stream",
          "text": [
            "train_scores:\n"
          ],
          "name": "stdout"
        },
        {
          "output_type": "execute_result",
          "data": {
            "text/html": [
              "<div>\n",
              "<style scoped>\n",
              "    .dataframe tbody tr th:only-of-type {\n",
              "        vertical-align: middle;\n",
              "    }\n",
              "\n",
              "    .dataframe tbody tr th {\n",
              "        vertical-align: top;\n",
              "    }\n",
              "\n",
              "    .dataframe thead th {\n",
              "        text-align: right;\n",
              "    }\n",
              "</style>\n",
              "<table border=\"1\" class=\"dataframe\">\n",
              "  <thead>\n",
              "    <tr style=\"text-align: right;\">\n",
              "      <th></th>\n",
              "      <th>R2</th>\n",
              "      <th>RMSE</th>\n",
              "      <th>mean_absolute_error</th>\n",
              "    </tr>\n",
              "  </thead>\n",
              "  <tbody>\n",
              "    <tr>\n",
              "      <th>score</th>\n",
              "      <td>0.481697</td>\n",
              "      <td>0.63929</td>\n",
              "      <td>0.354368</td>\n",
              "    </tr>\n",
              "  </tbody>\n",
              "</table>\n",
              "</div>"
            ],
            "text/plain": [
              "             R2     RMSE  mean_absolute_error\n",
              "score  0.481697  0.63929             0.354368"
            ]
          },
          "metadata": {
            "tags": []
          },
          "execution_count": 17
        }
      ]
    },
    {
      "cell_type": "code",
      "metadata": {
        "id": "b_PDhJ74pjLP",
        "colab_type": "code",
        "outputId": "7cd10b50-ea6d-4c8a-82c0-6c6a15b93866",
        "colab": {
          "base_uri": "https://localhost:8080/",
          "height": 412
        }
      },
      "source": [
        "pred_plot(test_170_point,by_col)\n",
        "plt.show()\n",
        "print('test_170_scores:')\n",
        "metric(test_170['pca_y'],test_170['y_pred'])"
      ],
      "execution_count": 18,
      "outputs": [
        {
          "output_type": "display_data",
          "data": {
            "image/png": "[encoded data removed]",
            "text/plain": [
              "<Figure size 1440x360 with 1 Axes>"
            ]
          },
          "metadata": {
            "tags": []
          }
        },
        {
          "output_type": "stream",
          "text": [
            "test_170_scores:\n"
          ],
          "name": "stdout"
        },
        {
          "output_type": "execute_result",
          "data": {
            "text/html": [
              "<div>\n",
              "<style scoped>\n",
              "    .dataframe tbody tr th:only-of-type {\n",
              "        vertical-align: middle;\n",
              "    }\n",
              "\n",
              "    .dataframe tbody tr th {\n",
              "        vertical-align: top;\n",
              "    }\n",
              "\n",
              "    .dataframe thead th {\n",
              "        text-align: right;\n",
              "    }\n",
              "</style>\n",
              "<table border=\"1\" class=\"dataframe\">\n",
              "  <thead>\n",
              "    <tr style=\"text-align: right;\">\n",
              "      <th></th>\n",
              "      <th>R2</th>\n",
              "      <th>RMSE</th>\n",
              "      <th>mean_absolute_error</th>\n",
              "    </tr>\n",
              "  </thead>\n",
              "  <tbody>\n",
              "    <tr>\n",
              "      <th>score</th>\n",
              "      <td>0.331857</td>\n",
              "      <td>0.495309</td>\n",
              "      <td>0.416872</td>\n",
              "    </tr>\n",
              "  </tbody>\n",
              "</table>\n",
              "</div>"
            ],
            "text/plain": [
              "             R2      RMSE  mean_absolute_error\n",
              "score  0.331857  0.495309             0.416872"
            ]
          },
          "metadata": {
            "tags": []
          },
          "execution_count": 18
        }
      ]
    },
    {
      "cell_type": "code",
      "metadata": {
        "id": "HwM1x4dhpjSH",
        "colab_type": "code",
        "outputId": "94df3067-9512-4fa4-e7c6-b0b6a5254f39",
        "colab": {
          "base_uri": "https://localhost:8080/",
          "height": 412
        }
      },
      "source": [
        "pred_plot(test_50_point,by_col)\n",
        "plt.show()\n",
        "print('test_50_scores:')\n",
        "metric(test_50['pca_y'],test_50['y_pred'])"
      ],
      "execution_count": 19,
      "outputs": [
        {
          "output_type": "display_data",
          "data": {
            "image/png": "[encoded data removed]",
            "text/plain": [
              "<Figure size 1440x360 with 1 Axes>"
            ]
          },
          "metadata": {
            "tags": []
          }
        },
        {
          "output_type": "stream",
          "text": [
            "test_50_scores:\n"
          ],
          "name": "stdout"
        },
        {
          "output_type": "execute_result",
          "data": {
            "text/html": [
              "<div>\n",
              "<style scoped>\n",
              "    .dataframe tbody tr th:only-of-type {\n",
              "        vertical-align: middle;\n",
              "    }\n",
              "\n",
              "    .dataframe tbody tr th {\n",
              "        vertical-align: top;\n",
              "    }\n",
              "\n",
              "    .dataframe thead th {\n",
              "        text-align: right;\n",
              "    }\n",
              "</style>\n",
              "<table border=\"1\" class=\"dataframe\">\n",
              "  <thead>\n",
              "    <tr style=\"text-align: right;\">\n",
              "      <th></th>\n",
              "      <th>R2</th>\n",
              "      <th>RMSE</th>\n",
              "      <th>mean_absolute_error</th>\n",
              "    </tr>\n",
              "  </thead>\n",
              "  <tbody>\n",
              "    <tr>\n",
              "      <th>score</th>\n",
              "      <td>0.496912</td>\n",
              "      <td>0.686437</td>\n",
              "      <td>0.497377</td>\n",
              "    </tr>\n",
              "  </tbody>\n",
              "</table>\n",
              "</div>"
            ],
            "text/plain": [
              "             R2      RMSE  mean_absolute_error\n",
              "score  0.496912  0.686437             0.497377"
            ]
          },
          "metadata": {
            "tags": []
          },
          "execution_count": 19
        }
      ]
    },
    {
      "cell_type": "markdown",
      "metadata": {
        "id": "aA0-VU1imD_H",
        "colab_type": "text"
      },
      "source": [
        "# 預測表現(還原)"
      ]
    },
    {
      "cell_type": "code",
      "metadata": {
        "id": "tGgyHzUslorp",
        "colab_type": "code",
        "outputId": "c9ec2abe-7794-4db5-801e-5da835cc37d3",
        "colab": {
          "base_uri": "https://localhost:8080/",
          "height": 106
        }
      },
      "source": [
        "train_pred_all = pd.DataFrame(pca.inverse_transform(train[['y_pred']]),columns=pca_col)\n",
        "res = pd.DataFrame()\n",
        "for col in pca_col:\n",
        "  res = res.append(metric(train[col],train_pred_all[col]))\n",
        "res.index = pca_col\n",
        "res.loc['AVG'] = res.mean()\n",
        "res"
      ],
      "execution_count": 20,
      "outputs": [
        {
          "output_type": "execute_result",
          "data": {
            "text/html": [
              "<div>\n",
              "<style scoped>\n",
              "    .dataframe tbody tr th:only-of-type {\n",
              "        vertical-align: middle;\n",
              "    }\n",
              "\n",
              "    .dataframe tbody tr th {\n",
              "        vertical-align: top;\n",
              "    }\n",
              "\n",
              "    .dataframe thead th {\n",
              "        text-align: right;\n",
              "    }\n",
              "</style>\n",
              "<table border=\"1\" class=\"dataframe\">\n",
              "  <thead>\n",
              "    <tr style=\"text-align: right;\">\n",
              "      <th></th>\n",
              "      <th>R2</th>\n",
              "      <th>RMSE</th>\n",
              "      <th>mean_absolute_error</th>\n",
              "    </tr>\n",
              "  </thead>\n",
              "  <tbody>\n",
              "    <tr>\n",
              "      <th>C9A</th>\n",
              "      <td>0.481697</td>\n",
              "      <td>0.63929</td>\n",
              "      <td>0.354368</td>\n",
              "    </tr>\n",
              "    <tr>\n",
              "      <th>AVG</th>\n",
              "      <td>0.481697</td>\n",
              "      <td>0.63929</td>\n",
              "      <td>0.354368</td>\n",
              "    </tr>\n",
              "  </tbody>\n",
              "</table>\n",
              "</div>"
            ],
            "text/plain": [
              "           R2     RMSE  mean_absolute_error\n",
              "C9A  0.481697  0.63929             0.354368\n",
              "AVG  0.481697  0.63929             0.354368"
            ]
          },
          "metadata": {
            "tags": []
          },
          "execution_count": 20
        }
      ]
    },
    {
      "cell_type": "code",
      "metadata": {
        "id": "Mg66L10Kmlil",
        "colab_type": "code",
        "outputId": "47923a31-f34d-4ba2-a1e1-fdbae3ed80bf",
        "colab": {
          "base_uri": "https://localhost:8080/",
          "height": 106
        }
      },
      "source": [
        "test_170_pred_all = pd.DataFrame(pca.inverse_transform(test_170[['y_pred']]),columns=pca_col)\n",
        "res = pd.DataFrame()\n",
        "for col in pca_col:\n",
        "  res = res.append(metric(test_170[col],test_170_pred_all[col]))\n",
        "res.index = pca_col\n",
        "res.loc['AVG'] = res.mean()\n",
        "res"
      ],
      "execution_count": 21,
      "outputs": [
        {
          "output_type": "execute_result",
          "data": {
            "text/html": [
              "<div>\n",
              "<style scoped>\n",
              "    .dataframe tbody tr th:only-of-type {\n",
              "        vertical-align: middle;\n",
              "    }\n",
              "\n",
              "    .dataframe tbody tr th {\n",
              "        vertical-align: top;\n",
              "    }\n",
              "\n",
              "    .dataframe thead th {\n",
              "        text-align: right;\n",
              "    }\n",
              "</style>\n",
              "<table border=\"1\" class=\"dataframe\">\n",
              "  <thead>\n",
              "    <tr style=\"text-align: right;\">\n",
              "      <th></th>\n",
              "      <th>R2</th>\n",
              "      <th>RMSE</th>\n",
              "      <th>mean_absolute_error</th>\n",
              "    </tr>\n",
              "  </thead>\n",
              "  <tbody>\n",
              "    <tr>\n",
              "      <th>C9A</th>\n",
              "      <td>0.331857</td>\n",
              "      <td>0.495309</td>\n",
              "      <td>0.416872</td>\n",
              "    </tr>\n",
              "    <tr>\n",
              "      <th>AVG</th>\n",
              "      <td>0.331857</td>\n",
              "      <td>0.495309</td>\n",
              "      <td>0.416872</td>\n",
              "    </tr>\n",
              "  </tbody>\n",
              "</table>\n",
              "</div>"
            ],
            "text/plain": [
              "           R2      RMSE  mean_absolute_error\n",
              "C9A  0.331857  0.495309             0.416872\n",
              "AVG  0.331857  0.495309             0.416872"
            ]
          },
          "metadata": {
            "tags": []
          },
          "execution_count": 21
        }
      ]
    },
    {
      "cell_type": "code",
      "metadata": {
        "id": "9oqj_hi-nPnn",
        "colab_type": "code",
        "outputId": "ce7006a2-aa92-4858-d6b6-983288f10604",
        "colab": {
          "base_uri": "https://localhost:8080/",
          "height": 106
        }
      },
      "source": [
        "test_50_pred_all = pd.DataFrame(pca.inverse_transform(test_50[['y_pred']]),columns=pca_col)\n",
        "res = pd.DataFrame()\n",
        "for col in pca_col:\n",
        "  res = res.append(metric(test_50[col],test_50_pred_all[col]))\n",
        "res.index = pca_col\n",
        "res.loc['AVG'] = res.mean()\n",
        "res"
      ],
      "execution_count": 22,
      "outputs": [
        {
          "output_type": "execute_result",
          "data": {
            "text/html": [
              "<div>\n",
              "<style scoped>\n",
              "    .dataframe tbody tr th:only-of-type {\n",
              "        vertical-align: middle;\n",
              "    }\n",
              "\n",
              "    .dataframe tbody tr th {\n",
              "        vertical-align: top;\n",
              "    }\n",
              "\n",
              "    .dataframe thead th {\n",
              "        text-align: right;\n",
              "    }\n",
              "</style>\n",
              "<table border=\"1\" class=\"dataframe\">\n",
              "  <thead>\n",
              "    <tr style=\"text-align: right;\">\n",
              "      <th></th>\n",
              "      <th>R2</th>\n",
              "      <th>RMSE</th>\n",
              "      <th>mean_absolute_error</th>\n",
              "    </tr>\n",
              "  </thead>\n",
              "  <tbody>\n",
              "    <tr>\n",
              "      <th>C9A</th>\n",
              "      <td>0.496912</td>\n",
              "      <td>0.686437</td>\n",
              "      <td>0.497377</td>\n",
              "    </tr>\n",
              "    <tr>\n",
              "      <th>AVG</th>\n",
              "      <td>0.496912</td>\n",
              "      <td>0.686437</td>\n",
              "      <td>0.497377</td>\n",
              "    </tr>\n",
              "  </tbody>\n",
              "</table>\n",
              "</div>"
            ],
            "text/plain": [
              "           R2      RMSE  mean_absolute_error\n",
              "C9A  0.496912  0.686437             0.497377\n",
              "AVG  0.496912  0.686437             0.497377"
            ]
          },
          "metadata": {
            "tags": []
          },
          "execution_count": 22
        }
      ]
    },
    {
      "cell_type": "markdown",
      "metadata": {
        "id": "pfQ1yPb5rFgU",
        "colab_type": "text"
      },
      "source": [
        "# check outliers"
      ]
    },
    {
      "cell_type": "code",
      "metadata": {
        "id": "J2VOBltdngwI",
        "colab_type": "code",
        "outputId": "c2a272c2-4634-441a-ab7f-336d50c1e380",
        "colab": {
          "base_uri": "https://localhost:8080/",
          "height": 124
        }
      },
      "source": [
        "loss = (test_170_point['pca_y'] - test_170_point['y_pred'])**2 # 平方誤差\n",
        "loss = loss.sort_values(ascending=False)\n",
        "test_170_point['out'] = False\n",
        "test_170_point.loc[loss.head(5).index,'out'] = True\n",
        "print(loss.head(5))"
      ],
      "execution_count": 23,
      "outputs": [
        {
          "output_type": "stream",
          "text": [
            "48    1.603037\n",
            "47    1.462437\n",
            "36    1.255072\n",
            "35    1.100143\n",
            "37    1.083767\n",
            "dtype: float64\n"
          ],
          "name": "stdout"
        }
      ]
    },
    {
      "cell_type": "code",
      "metadata": {
        "id": "OR23J1k4rRgD",
        "colab_type": "code",
        "outputId": "eb73b521-9542-4195-a502-74de86da310f",
        "colab": {
          "base_uri": "https://localhost:8080/",
          "height": 124
        }
      },
      "source": [
        "loss = (test_50_point['pca_y'] - test_50_point['y_pred'])**2 # 平方誤差\n",
        "loss = loss.sort_values(ascending=False)\n",
        "test_50_point['out'] = False\n",
        "test_50_point.loc[loss.head(5).index,'out'] = True\n",
        "print(loss.head(5))"
      ],
      "execution_count": 24,
      "outputs": [
        {
          "output_type": "stream",
          "text": [
            "5      3.599609\n",
            "150    2.553476\n",
            "55     2.502765\n",
            "0      1.959203\n",
            "35     1.616193\n",
            "dtype: float64\n"
          ],
          "name": "stdout"
        }
      ]
    },
    {
      "cell_type": "markdown",
      "metadata": {
        "id": "zB8CpMfRryC7",
        "colab_type": "text"
      },
      "source": [
        "# plot out"
      ]
    },
    {
      "cell_type": "code",
      "metadata": {
        "id": "ubjWpaOUxTl7",
        "colab_type": "code",
        "colab": {}
      },
      "source": [
        "def d_out_score(df):\n",
        "  df = df.loc[df['out'] == False]\n",
        "  return metric(df['pca_y'],df['y_pred'])"
      ],
      "execution_count": 0,
      "outputs": []
    },
    {
      "cell_type": "code",
      "metadata": {
        "id": "9T2P7nzOxWdh",
        "colab_type": "code",
        "colab": {}
      },
      "source": [
        "def d_out_all_score(df):\n",
        "  df = df.loc[df['out'] == False]\n",
        "  df_pred_all = pd.DataFrame(pca.inverse_transform(df[['y_pred']]),columns=pca_col)\n",
        "  res = pd.DataFrame()\n",
        "  for col in pca_col:\n",
        "    res = res.append(metric(df[col],df_pred_all[col]))\n",
        "  res.index = pca_col\n",
        "  res.loc['AVG'] = res.mean()\n",
        "  return res"
      ],
      "execution_count": 0,
      "outputs": []
    },
    {
      "cell_type": "code",
      "metadata": {
        "id": "4Q8A2DEjsuZO",
        "colab_type": "code",
        "colab": {}
      },
      "source": [
        "def plot_out(df):\n",
        "  fig = plt.figure(figsize=(20,5))\n",
        "  out_point = df[df['out'] == True]\n",
        "  plt.plot(df[by_col],df['y_pred'],label='pred line',color='red')\n",
        "  plt.scatter(df[by_col],df['pca_y'],label='test point')\n",
        "  plt.scatter(out_point[by_col],out_point['pca_y'],label='out point',color='orange')\n",
        "  plt.xlabel(by_col)\n",
        "  plt.ylabel('pca_y')\n",
        "  plt.legend()\n",
        "  plt.show()"
      ],
      "execution_count": 0,
      "outputs": []
    },
    {
      "cell_type": "code",
      "metadata": {
        "id": "wv_MWV1QrvcR",
        "colab_type": "code",
        "outputId": "ff7456a4-746d-491e-a3f8-1a5f95336a6f",
        "colab": {
          "base_uri": "https://localhost:8080/",
          "height": 395
        }
      },
      "source": [
        "plot_out(test_170_point)\n",
        "plt.show()\n",
        "d_out_score(test_170_point)"
      ],
      "execution_count": 28,
      "outputs": [
        {
          "output_type": "display_data",
          "data": {
            "image/png": "[encoded data removed]",
            "text/plain": [
              "<Figure size 1440x360 with 1 Axes>"
            ]
          },
          "metadata": {
            "tags": []
          }
        },
        {
          "output_type": "execute_result",
          "data": {
            "text/html": [
              "<div>\n",
              "<style scoped>\n",
              "    .dataframe tbody tr th:only-of-type {\n",
              "        vertical-align: middle;\n",
              "    }\n",
              "\n",
              "    .dataframe tbody tr th {\n",
              "        vertical-align: top;\n",
              "    }\n",
              "\n",
              "    .dataframe thead th {\n",
              "        text-align: right;\n",
              "    }\n",
              "</style>\n",
              "<table border=\"1\" class=\"dataframe\">\n",
              "  <thead>\n",
              "    <tr style=\"text-align: right;\">\n",
              "      <th></th>\n",
              "      <th>R2</th>\n",
              "      <th>RMSE</th>\n",
              "      <th>mean_absolute_error</th>\n",
              "    </tr>\n",
              "  </thead>\n",
              "  <tbody>\n",
              "    <tr>\n",
              "      <th>score</th>\n",
              "      <td>0.393879</td>\n",
              "      <td>0.461892</td>\n",
              "      <td>0.395046</td>\n",
              "    </tr>\n",
              "  </tbody>\n",
              "</table>\n",
              "</div>"
            ],
            "text/plain": [
              "             R2      RMSE  mean_absolute_error\n",
              "score  0.393879  0.461892             0.395046"
            ]
          },
          "metadata": {
            "tags": []
          },
          "execution_count": 28
        }
      ]
    },
    {
      "cell_type": "code",
      "metadata": {
        "id": "nVOFZy5GsBr4",
        "colab_type": "code",
        "outputId": "5af238ae-f860-471d-9744-93f3f399d0e6",
        "colab": {
          "base_uri": "https://localhost:8080/",
          "height": 395
        }
      },
      "source": [
        "plot_out(test_50_point)\n",
        "plt.show()\n",
        "d_out_score(test_50_point)"
      ],
      "execution_count": 29,
      "outputs": [
        {
          "output_type": "display_data",
          "data": {
            "image/png": "[encoded data removed]",
            "text/plain": [
              "<Figure size 1440x360 with 1 Axes>"
            ]
          },
          "metadata": {
            "tags": []
          }
        },
        {
          "output_type": "execute_result",
          "data": {
            "text/html": [
              "<div>\n",
              "<style scoped>\n",
              "    .dataframe tbody tr th:only-of-type {\n",
              "        vertical-align: middle;\n",
              "    }\n",
              "\n",
              "    .dataframe tbody tr th {\n",
              "        vertical-align: top;\n",
              "    }\n",
              "\n",
              "    .dataframe thead th {\n",
              "        text-align: right;\n",
              "    }\n",
              "</style>\n",
              "<table border=\"1\" class=\"dataframe\">\n",
              "  <thead>\n",
              "    <tr style=\"text-align: right;\">\n",
              "      <th></th>\n",
              "      <th>R2</th>\n",
              "      <th>RMSE</th>\n",
              "      <th>mean_absolute_error</th>\n",
              "    </tr>\n",
              "  </thead>\n",
              "  <tbody>\n",
              "    <tr>\n",
              "      <th>score</th>\n",
              "      <td>0.699897</td>\n",
              "      <td>0.501743</td>\n",
              "      <td>0.380458</td>\n",
              "    </tr>\n",
              "  </tbody>\n",
              "</table>\n",
              "</div>"
            ],
            "text/plain": [
              "             R2      RMSE  mean_absolute_error\n",
              "score  0.699897  0.501743             0.380458"
            ]
          },
          "metadata": {
            "tags": []
          },
          "execution_count": 29
        }
      ]
    },
    {
      "cell_type": "markdown",
      "metadata": {
        "id": "LCbvIP-AtD-_",
        "colab_type": "text"
      },
      "source": [
        "# drop out all score"
      ]
    },
    {
      "cell_type": "code",
      "metadata": {
        "id": "q61mvYK-uPLN",
        "colab_type": "code",
        "outputId": "d42f2f59-65a2-4bb1-a01b-c3d4b92ac072",
        "colab": {
          "base_uri": "https://localhost:8080/",
          "height": 106
        }
      },
      "source": [
        "d_out_all_score(test_170_point)"
      ],
      "execution_count": 30,
      "outputs": [
        {
          "output_type": "execute_result",
          "data": {
            "text/html": [
              "<div>\n",
              "<style scoped>\n",
              "    .dataframe tbody tr th:only-of-type {\n",
              "        vertical-align: middle;\n",
              "    }\n",
              "\n",
              "    .dataframe tbody tr th {\n",
              "        vertical-align: top;\n",
              "    }\n",
              "\n",
              "    .dataframe thead th {\n",
              "        text-align: right;\n",
              "    }\n",
              "</style>\n",
              "<table border=\"1\" class=\"dataframe\">\n",
              "  <thead>\n",
              "    <tr style=\"text-align: right;\">\n",
              "      <th></th>\n",
              "      <th>R2</th>\n",
              "      <th>RMSE</th>\n",
              "      <th>mean_absolute_error</th>\n",
              "    </tr>\n",
              "  </thead>\n",
              "  <tbody>\n",
              "    <tr>\n",
              "      <th>C9A</th>\n",
              "      <td>0.393879</td>\n",
              "      <td>0.461892</td>\n",
              "      <td>0.395046</td>\n",
              "    </tr>\n",
              "    <tr>\n",
              "      <th>AVG</th>\n",
              "      <td>0.393879</td>\n",
              "      <td>0.461892</td>\n",
              "      <td>0.395046</td>\n",
              "    </tr>\n",
              "  </tbody>\n",
              "</table>\n",
              "</div>"
            ],
            "text/plain": [
              "           R2      RMSE  mean_absolute_error\n",
              "C9A  0.393879  0.461892             0.395046\n",
              "AVG  0.393879  0.461892             0.395046"
            ]
          },
          "metadata": {
            "tags": []
          },
          "execution_count": 30
        }
      ]
    },
    {
      "cell_type": "code",
      "metadata": {
        "id": "Mrb0-NQYt_kT",
        "colab_type": "code",
        "outputId": "f7fa228e-120b-4826-9f76-d4dfeee6c426",
        "colab": {
          "base_uri": "https://localhost:8080/",
          "height": 106
        }
      },
      "source": [
        "d_out_all_score(test_50_point)"
      ],
      "execution_count": 31,
      "outputs": [
        {
          "output_type": "execute_result",
          "data": {
            "text/html": [
              "<div>\n",
              "<style scoped>\n",
              "    .dataframe tbody tr th:only-of-type {\n",
              "        vertical-align: middle;\n",
              "    }\n",
              "\n",
              "    .dataframe tbody tr th {\n",
              "        vertical-align: top;\n",
              "    }\n",
              "\n",
              "    .dataframe thead th {\n",
              "        text-align: right;\n",
              "    }\n",
              "</style>\n",
              "<table border=\"1\" class=\"dataframe\">\n",
              "  <thead>\n",
              "    <tr style=\"text-align: right;\">\n",
              "      <th></th>\n",
              "      <th>R2</th>\n",
              "      <th>RMSE</th>\n",
              "      <th>mean_absolute_error</th>\n",
              "    </tr>\n",
              "  </thead>\n",
              "  <tbody>\n",
              "    <tr>\n",
              "      <th>C9A</th>\n",
              "      <td>0.699897</td>\n",
              "      <td>0.501743</td>\n",
              "      <td>0.380458</td>\n",
              "    </tr>\n",
              "    <tr>\n",
              "      <th>AVG</th>\n",
              "      <td>0.699897</td>\n",
              "      <td>0.501743</td>\n",
              "      <td>0.380458</td>\n",
              "    </tr>\n",
              "  </tbody>\n",
              "</table>\n",
              "</div>"
            ],
            "text/plain": [
              "           R2      RMSE  mean_absolute_error\n",
              "C9A  0.699897  0.501743             0.380458\n",
              "AVG  0.699897  0.501743             0.380458"
            ]
          },
          "metadata": {
            "tags": []
          },
          "execution_count": 31
        }
      ]
    },
    {
      "cell_type": "code",
      "metadata": {
        "id": "v6hoOC43vaIQ",
        "colab_type": "code",
        "colab": {}
      },
      "source": [
        ""
      ],
      "execution_count": 0,
      "outputs": []
    }
  ]
}