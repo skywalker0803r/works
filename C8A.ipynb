{
  "nbformat": 4,
  "nbformat_minor": 0,
  "metadata": {
    "colab": {
      "name": "C8A.ipynb",
      "provenance": [],
      "collapsed_sections": [],
      "include_colab_link": true
    },
    "kernelspec": {
      "name": "python3",
      "display_name": "Python 3"
    }
  },
  "cells": [
    {
      "cell_type": "markdown",
      "metadata": {
        "id": "view-in-github",
        "colab_type": "text"
      },
      "source": [
        "<a href=\"https://colab.research.google.com/github/skywalker0803r/works/blob/master/C8A.ipynb\" target=\"_parent\"><img src=\"https://colab.research.google.com/assets/colab-badge.svg\" alt=\"Open In Colab\"/></a>"
      ]
    },
    {
      "cell_type": "code",
      "metadata": {
        "id": "x4wyEqgvdxII",
        "colab_type": "code",
        "outputId": "bba31ec8-f93a-4d17-ff64-2205ed3fecc5",
        "colab": {
          "base_uri": "https://localhost:8080/",
          "height": 35
        }
      },
      "source": [
        "from google.colab import drive\n",
        "drive.mount('/content/drive')\n",
        "import warnings \n",
        "warnings.simplefilter('ignore')"
      ],
      "execution_count": 1,
      "outputs": [
        {
          "output_type": "stream",
          "text": [
            "Drive already mounted at /content/drive; to attempt to forcibly remount, call drive.mount(\"/content/drive\", force_remount=True).\n"
          ],
          "name": "stdout"
        }
      ]
    },
    {
      "cell_type": "markdown",
      "metadata": {
        "id": "1insKjCbQliM",
        "colab_type": "text"
      },
      "source": [
        "# Load data"
      ]
    },
    {
      "cell_type": "code",
      "metadata": {
        "id": "zYzX34f9dyBW",
        "colab_type": "code",
        "colab": {
          "base_uri": "https://localhost:8080/",
          "height": 52
        },
        "outputId": "53f8b603-bd60-4d34-95c8-7344b7de1517"
      },
      "source": [
        "import pandas as pd\n",
        "import seaborn as sns\n",
        "import matplotlib.pyplot as plt\n",
        "\n",
        "train = pd.read_csv('/content/drive/My Drive/台塑輕油案子/data/train_4521.csv',index_col=0).reset_index(drop=True)\n",
        "test = pd.read_csv('/content/drive/My Drive/台塑輕油案子/data/test_250.csv',index_col=0).reset_index(drop=True)\n",
        "mod  = test.index % 5\n",
        "test_add = test.loc[ mod != 0 ,:]\n",
        "test_50 = test.loc[ mod == 0 ,:]\n",
        "train = train.append(test_add)\n",
        "test = test_50\n",
        "print(train.shape)\n",
        "print(test.shape)"
      ],
      "execution_count": 2,
      "outputs": [
        {
          "output_type": "stream",
          "text": [
            "(4721, 27)\n",
            "(50, 27)\n"
          ],
          "name": "stdout"
        }
      ]
    },
    {
      "cell_type": "code",
      "metadata": {
        "id": "lD8X93BM3Fow",
        "colab_type": "code",
        "colab": {}
      },
      "source": [
        "y_name = 'C8A'"
      ],
      "execution_count": 0,
      "outputs": []
    },
    {
      "cell_type": "markdown",
      "metadata": {
        "id": "E0bpRt9A5Sp6",
        "colab_type": "text"
      },
      "source": [
        "# C8A與原始特徵相關係數"
      ]
    },
    {
      "cell_type": "code",
      "metadata": {
        "id": "ieT09-Pp49dX",
        "colab_type": "code",
        "colab": {
          "base_uri": "https://localhost:8080/",
          "height": 76
        },
        "outputId": "1866796a-553f-4031-d82e-42daa70f822e"
      },
      "source": [
        "train.iloc[:,:4].join(train[y_name]).corr().loc[[y_name]]"
      ],
      "execution_count": 4,
      "outputs": [
        {
          "output_type": "execute_result",
          "data": {
            "text/html": [
              "<div>\n",
              "<style scoped>\n",
              "    .dataframe tbody tr th:only-of-type {\n",
              "        vertical-align: middle;\n",
              "    }\n",
              "\n",
              "    .dataframe tbody tr th {\n",
              "        vertical-align: top;\n",
              "    }\n",
              "\n",
              "    .dataframe thead th {\n",
              "        text-align: right;\n",
              "    }\n",
              "</style>\n",
              "<table border=\"1\" class=\"dataframe\">\n",
              "  <thead>\n",
              "    <tr style=\"text-align: right;\">\n",
              "      <th></th>\n",
              "      <th>T10</th>\n",
              "      <th>T50</th>\n",
              "      <th>T90</th>\n",
              "      <th>N+A</th>\n",
              "      <th>C8A</th>\n",
              "    </tr>\n",
              "  </thead>\n",
              "  <tbody>\n",
              "    <tr>\n",
              "      <th>C8A</th>\n",
              "      <td>0.374473</td>\n",
              "      <td>0.396114</td>\n",
              "      <td>0.069561</td>\n",
              "      <td>0.041365</td>\n",
              "      <td>1.0</td>\n",
              "    </tr>\n",
              "  </tbody>\n",
              "</table>\n",
              "</div>"
            ],
            "text/plain": [
              "          T10       T50       T90       N+A  C8A\n",
              "C8A  0.374473  0.396114  0.069561  0.041365  1.0"
            ]
          },
          "metadata": {
            "tags": []
          },
          "execution_count": 4
        }
      ]
    },
    {
      "cell_type": "markdown",
      "metadata": {
        "id": "FE9yNZBM5XWk",
        "colab_type": "text"
      },
      "source": [
        "# C8A與其他Y相關係數"
      ]
    },
    {
      "cell_type": "code",
      "metadata": {
        "id": "aMEnVFO33I5-",
        "colab_type": "code",
        "colab": {
          "base_uri": "https://localhost:8080/",
          "height": 76
        },
        "outputId": "ca49d2fe-0c8b-4ba8-a5ae-522f6d5c4aba"
      },
      "source": [
        "corr_res = abs(train.iloc[:,4:].corr())[[y_name]].sort_values(by=y_name,ascending=False)\n",
        "corr_res.head(5).T"
      ],
      "execution_count": 5,
      "outputs": [
        {
          "output_type": "execute_result",
          "data": {
            "text/html": [
              "<div>\n",
              "<style scoped>\n",
              "    .dataframe tbody tr th:only-of-type {\n",
              "        vertical-align: middle;\n",
              "    }\n",
              "\n",
              "    .dataframe tbody tr th {\n",
              "        vertical-align: top;\n",
              "    }\n",
              "\n",
              "    .dataframe thead th {\n",
              "        text-align: right;\n",
              "    }\n",
              "</style>\n",
              "<table border=\"1\" class=\"dataframe\">\n",
              "  <thead>\n",
              "    <tr style=\"text-align: right;\">\n",
              "      <th></th>\n",
              "      <th>C8A</th>\n",
              "      <th>C9A</th>\n",
              "      <th>C5NP</th>\n",
              "      <th>C6IP</th>\n",
              "      <th>C5IP</th>\n",
              "    </tr>\n",
              "  </thead>\n",
              "  <tbody>\n",
              "    <tr>\n",
              "      <th>C8A</th>\n",
              "      <td>1.0</td>\n",
              "      <td>0.544554</td>\n",
              "      <td>0.425744</td>\n",
              "      <td>0.409445</td>\n",
              "      <td>0.394207</td>\n",
              "    </tr>\n",
              "  </tbody>\n",
              "</table>\n",
              "</div>"
            ],
            "text/plain": [
              "     C8A       C9A      C5NP      C6IP      C5IP\n",
              "C8A  1.0  0.544554  0.425744  0.409445  0.394207"
            ]
          },
          "metadata": {
            "tags": []
          },
          "execution_count": 5
        }
      ]
    },
    {
      "cell_type": "markdown",
      "metadata": {
        "id": "wXFokip03MgF",
        "colab_type": "text"
      },
      "source": [
        "# def features & y_columns"
      ]
    },
    {
      "cell_type": "code",
      "metadata": {
        "id": "3t-rR7UM3M7P",
        "colab_type": "code",
        "colab": {
          "base_uri": "https://localhost:8080/",
          "height": 52
        },
        "outputId": "c12d1d49-31c6-455e-edaf-9754c0bcb0c7"
      },
      "source": [
        "features = ['T10','T50','T90','N+A']\n",
        "y_columns = list(corr_res[corr_res[y_name]>0.8].index)\n",
        "print(features)\n",
        "print(y_columns)"
      ],
      "execution_count": 6,
      "outputs": [
        {
          "output_type": "stream",
          "text": [
            "['T10', 'T50', 'T90', 'N+A']\n",
            "['C8A']\n"
          ],
          "name": "stdout"
        }
      ]
    },
    {
      "cell_type": "markdown",
      "metadata": {
        "id": "K0oV3Qou3ZbR",
        "colab_type": "text"
      },
      "source": [
        "# scaler features"
      ]
    },
    {
      "cell_type": "code",
      "metadata": {
        "id": "Odxmvlov3Z7A",
        "colab_type": "code",
        "colab": {}
      },
      "source": [
        "from sklearn.preprocessing import StandardScaler\n",
        "\n",
        "scaler_x = StandardScaler()\n",
        "\n",
        "train[features] = scaler_x.fit_transform(train[features])\n",
        "test[features] = scaler_x.transform(test[features])"
      ],
      "execution_count": 0,
      "outputs": []
    },
    {
      "cell_type": "markdown",
      "metadata": {
        "id": "rUhK5DLe4YrG",
        "colab_type": "text"
      },
      "source": [
        "# corr"
      ]
    },
    {
      "cell_type": "code",
      "metadata": {
        "id": "aXccLsJx4Y0n",
        "colab_type": "code",
        "colab": {
          "base_uri": "https://localhost:8080/",
          "height": 194
        },
        "outputId": "863053ce-ac67-40d5-ad43-d969030d6421"
      },
      "source": [
        "train[features+[y_name]].corr()"
      ],
      "execution_count": 8,
      "outputs": [
        {
          "output_type": "execute_result",
          "data": {
            "text/html": [
              "<div>\n",
              "<style scoped>\n",
              "    .dataframe tbody tr th:only-of-type {\n",
              "        vertical-align: middle;\n",
              "    }\n",
              "\n",
              "    .dataframe tbody tr th {\n",
              "        vertical-align: top;\n",
              "    }\n",
              "\n",
              "    .dataframe thead th {\n",
              "        text-align: right;\n",
              "    }\n",
              "</style>\n",
              "<table border=\"1\" class=\"dataframe\">\n",
              "  <thead>\n",
              "    <tr style=\"text-align: right;\">\n",
              "      <th></th>\n",
              "      <th>T10</th>\n",
              "      <th>T50</th>\n",
              "      <th>T90</th>\n",
              "      <th>N+A</th>\n",
              "      <th>C8A</th>\n",
              "    </tr>\n",
              "  </thead>\n",
              "  <tbody>\n",
              "    <tr>\n",
              "      <th>T10</th>\n",
              "      <td>1.000000</td>\n",
              "      <td>0.895238</td>\n",
              "      <td>0.222087</td>\n",
              "      <td>-0.262210</td>\n",
              "      <td>0.438734</td>\n",
              "    </tr>\n",
              "    <tr>\n",
              "      <th>T50</th>\n",
              "      <td>0.895238</td>\n",
              "      <td>1.000000</td>\n",
              "      <td>0.533778</td>\n",
              "      <td>-0.371996</td>\n",
              "      <td>0.464433</td>\n",
              "    </tr>\n",
              "    <tr>\n",
              "      <th>T90</th>\n",
              "      <td>0.222087</td>\n",
              "      <td>0.533778</td>\n",
              "      <td>1.000000</td>\n",
              "      <td>-0.217989</td>\n",
              "      <td>0.083671</td>\n",
              "    </tr>\n",
              "    <tr>\n",
              "      <th>N+A</th>\n",
              "      <td>-0.262210</td>\n",
              "      <td>-0.371996</td>\n",
              "      <td>-0.217989</td>\n",
              "      <td>1.000000</td>\n",
              "      <td>0.039550</td>\n",
              "    </tr>\n",
              "    <tr>\n",
              "      <th>C8A</th>\n",
              "      <td>0.438734</td>\n",
              "      <td>0.464433</td>\n",
              "      <td>0.083671</td>\n",
              "      <td>0.039550</td>\n",
              "      <td>1.000000</td>\n",
              "    </tr>\n",
              "  </tbody>\n",
              "</table>\n",
              "</div>"
            ],
            "text/plain": [
              "          T10       T50       T90       N+A       C8A\n",
              "T10  1.000000  0.895238  0.222087 -0.262210  0.438734\n",
              "T50  0.895238  1.000000  0.533778 -0.371996  0.464433\n",
              "T90  0.222087  0.533778  1.000000 -0.217989  0.083671\n",
              "N+A -0.262210 -0.371996 -0.217989  1.000000  0.039550\n",
              "C8A  0.438734  0.464433  0.083671  0.039550  1.000000"
            ]
          },
          "metadata": {
            "tags": []
          },
          "execution_count": 8
        }
      ]
    },
    {
      "cell_type": "markdown",
      "metadata": {
        "id": "UZ6DD5tKSRtP",
        "colab_type": "text"
      },
      "source": [
        "# scatter"
      ]
    },
    {
      "cell_type": "code",
      "metadata": {
        "id": "C6eShoSceLx2",
        "colab_type": "code",
        "outputId": "f83b529d-7ba3-4759-c229-0bc4ca4dc952",
        "colab": {
          "base_uri": "https://localhost:8080/",
          "height": 1000
        }
      },
      "source": [
        "for x_col in features:\n",
        "  sns.scatterplot(x=x_col,y=y_name,data=train,label='train')\n",
        "  sns.scatterplot(x=x_col,y=y_name,data=test,label='test')\n",
        "  plt.legend()\n",
        "  plt.show()"
      ],
      "execution_count": 9,
      "outputs": [
        {
          "output_type": "display_data",
          "data": {
            "image/png": "[encoded data removed]",
            "text/plain": [
              "<Figure size 432x288 with 1 Axes>"
            ]
          },
          "metadata": {
            "tags": []
          }
        },
        {
          "output_type": "display_data",
          "data": {
            "image/png": "[encoded data removed]",
            "text/plain": [
              "<Figure size 432x288 with 1 Axes>"
            ]
          },
          "metadata": {
            "tags": []
          }
        },
        {
          "output_type": "display_data",
          "data": {
            "image/png": "[encoded data removed]",
            "text/plain": [
              "<Figure size 432x288 with 1 Axes>"
            ]
          },
          "metadata": {
            "tags": []
          }
        },
        {
          "output_type": "display_data",
          "data": {
            "image/png": "[encoded data removed]",
            "text/plain": [
              "<Figure size 432x288 with 1 Axes>"
            ]
          },
          "metadata": {
            "tags": []
          }
        }
      ]
    },
    {
      "cell_type": "markdown",
      "metadata": {
        "id": "yxJxYE61T88r",
        "colab_type": "text"
      },
      "source": [
        "# features select"
      ]
    },
    {
      "cell_type": "code",
      "metadata": {
        "id": "SP81zh7eT_AE",
        "colab_type": "code",
        "colab": {}
      },
      "source": [
        "features = ['T50']"
      ],
      "execution_count": 0,
      "outputs": []
    },
    {
      "cell_type": "markdown",
      "metadata": {
        "id": "wz0liy4Aqj8W",
        "colab_type": "text"
      },
      "source": [
        "# features scaling"
      ]
    },
    {
      "cell_type": "code",
      "metadata": {
        "id": "tX7hiKQGlDif",
        "colab_type": "code",
        "outputId": "c5617610-ded9-4ca4-90b0-38b89fa37dfd",
        "colab": {
          "base_uri": "https://localhost:8080/",
          "height": 35
        }
      },
      "source": [
        "from sklearn.preprocessing import StandardScaler\n",
        "\n",
        "scaler = StandardScaler()\n",
        "scaler.fit(train[features].append(test[features]))"
      ],
      "execution_count": 11,
      "outputs": [
        {
          "output_type": "execute_result",
          "data": {
            "text/plain": [
              "StandardScaler(copy=True, with_mean=True, with_std=True)"
            ]
          },
          "metadata": {
            "tags": []
          },
          "execution_count": 11
        }
      ]
    },
    {
      "cell_type": "code",
      "metadata": {
        "id": "QqtyB8zG6ElJ",
        "colab_type": "code",
        "colab": {}
      },
      "source": [
        "train[features] = scaler.transform(train[features])\n",
        "test[features] = scaler.transform(test[features])"
      ],
      "execution_count": 0,
      "outputs": []
    },
    {
      "cell_type": "code",
      "metadata": {
        "id": "CRgwm4AC6Ern",
        "colab_type": "code",
        "colab": {
          "base_uri": "https://localhost:8080/",
          "height": 284
        },
        "outputId": "c2a4310c-dae8-4920-c293-081e83a5974a"
      },
      "source": [
        "plt.scatter(train['T50'],train[y_name])"
      ],
      "execution_count": 13,
      "outputs": [
        {
          "output_type": "execute_result",
          "data": {
            "text/plain": [
              "<matplotlib.collections.PathCollection at 0x7f0c5c706278>"
            ]
          },
          "metadata": {
            "tags": []
          },
          "execution_count": 13
        },
        {
          "output_type": "display_data",
          "data": {
            "image/png": "[encoded data removed]",
            "text/plain": [
              "<Figure size 432x288 with 1 Axes>"
            ]
          },
          "metadata": {
            "tags": []
          }
        }
      ]
    },
    {
      "cell_type": "markdown",
      "metadata": {
        "id": "LdQROmroranC",
        "colab_type": "text"
      },
      "source": [
        "# metric"
      ]
    },
    {
      "cell_type": "code",
      "metadata": {
        "id": "BLVag6Db5IC_",
        "colab_type": "code",
        "colab": {}
      },
      "source": [
        "from sklearn.metrics import r2_score,mean_squared_error,mean_absolute_error\n",
        "from math import sqrt\n",
        "def metric(y_t,y_p):\n",
        "  res = {'R2':r2_score(y_t,y_p),\n",
        "         'RMSE':sqrt(mean_squared_error(y_t,y_p)),\n",
        "         'mean_absolute_error':mean_absolute_error(y_t,y_p)}\n",
        "  return pd.DataFrame(res,index=[y_t.name])"
      ],
      "execution_count": 0,
      "outputs": []
    },
    {
      "cell_type": "markdown",
      "metadata": {
        "id": "dI7Eaut3rcn6",
        "colab_type": "text"
      },
      "source": [
        "# modeling"
      ]
    },
    {
      "cell_type": "code",
      "metadata": {
        "id": "4IENvGdxlmwR",
        "colab_type": "code",
        "outputId": "205d30cb-2937-4bba-a293-a8ed52892bab",
        "colab": {
          "base_uri": "https://localhost:8080/",
          "height": 52
        }
      },
      "source": [
        "import xgboost\n",
        "from sklearn.svm import SVR\n",
        "from math import sqrt\n",
        "from lightgbm import LGBMRegressor\n",
        "from sklearn.ensemble import VotingRegressor\n",
        "from sklearn.model_selection import cross_validate\n",
        "from sklearn.linear_model import LinearRegression,ridge,Lasso\n",
        "from sklearn.tree import DecisionTreeRegressor\n",
        "import warnings \n",
        "warnings.simplefilter('ignore')\n",
        "\n",
        "#model = DecisionTreeRegressor(max_depth=1)\n",
        "#model = xgboost.XGBRegressor(objective='reg:squarederror')\n",
        "model = SVR()\n",
        "#model = LinearRegression()\n",
        "#model = ridge.Ridge()\n",
        "#model = Lasso(alpha=0.01)\n",
        "\n",
        "val_scores = cross_validate(model,train[features],train[y_name],cv=5)\n",
        "\n",
        "print('val_scores:',val_scores['test_score'])\n",
        "print('val_scores.mean:',val_scores['test_score'].mean())\n",
        "\n",
        "# fit \n",
        "model.fit(train[features],train[y_name])\n",
        "# predict\n",
        "test['y_pred'] = model.predict(test[features])\n",
        "train['y_pred'] = model.predict(train[features])"
      ],
      "execution_count": 15,
      "outputs": [
        {
          "output_type": "stream",
          "text": [
            "val_scores: [0.3627187  0.22709151 0.16567673 0.06809147 0.11335874]\n",
            "val_scores.mean: 0.18738742883076265\n"
          ],
          "name": "stdout"
        }
      ]
    },
    {
      "cell_type": "code",
      "metadata": {
        "id": "ODqQhjmUv9El",
        "colab_type": "code",
        "outputId": "41b3b321-2e71-44c7-9007-652c9cc72cd1",
        "colab": {
          "base_uri": "https://localhost:8080/",
          "height": 94
        }
      },
      "source": [
        "print('train_scores:')\n",
        "metric(train[y_name],train['y_pred'])"
      ],
      "execution_count": 16,
      "outputs": [
        {
          "output_type": "stream",
          "text": [
            "train_scores:\n"
          ],
          "name": "stdout"
        },
        {
          "output_type": "execute_result",
          "data": {
            "text/html": [
              "<div>\n",
              "<style scoped>\n",
              "    .dataframe tbody tr th:only-of-type {\n",
              "        vertical-align: middle;\n",
              "    }\n",
              "\n",
              "    .dataframe tbody tr th {\n",
              "        vertical-align: top;\n",
              "    }\n",
              "\n",
              "    .dataframe thead th {\n",
              "        text-align: right;\n",
              "    }\n",
              "</style>\n",
              "<table border=\"1\" class=\"dataframe\">\n",
              "  <thead>\n",
              "    <tr style=\"text-align: right;\">\n",
              "      <th></th>\n",
              "      <th>R2</th>\n",
              "      <th>RMSE</th>\n",
              "      <th>mean_absolute_error</th>\n",
              "    </tr>\n",
              "  </thead>\n",
              "  <tbody>\n",
              "    <tr>\n",
              "      <th>C8A</th>\n",
              "      <td>0.20894</td>\n",
              "      <td>1.402871</td>\n",
              "      <td>0.583316</td>\n",
              "    </tr>\n",
              "  </tbody>\n",
              "</table>\n",
              "</div>"
            ],
            "text/plain": [
              "          R2      RMSE  mean_absolute_error\n",
              "C8A  0.20894  1.402871             0.583316"
            ]
          },
          "metadata": {
            "tags": []
          },
          "execution_count": 16
        }
      ]
    },
    {
      "cell_type": "code",
      "metadata": {
        "id": "9bV7s0xHUhjK",
        "colab_type": "code",
        "outputId": "6adaf18a-c570-4a58-c14c-b1423c1e9488",
        "colab": {
          "base_uri": "https://localhost:8080/",
          "height": 94
        }
      },
      "source": [
        "print('test_scores:')\n",
        "metric(test[y_name],test['y_pred'])"
      ],
      "execution_count": 17,
      "outputs": [
        {
          "output_type": "stream",
          "text": [
            "test_scores:\n"
          ],
          "name": "stdout"
        },
        {
          "output_type": "execute_result",
          "data": {
            "text/html": [
              "<div>\n",
              "<style scoped>\n",
              "    .dataframe tbody tr th:only-of-type {\n",
              "        vertical-align: middle;\n",
              "    }\n",
              "\n",
              "    .dataframe tbody tr th {\n",
              "        vertical-align: top;\n",
              "    }\n",
              "\n",
              "    .dataframe thead th {\n",
              "        text-align: right;\n",
              "    }\n",
              "</style>\n",
              "<table border=\"1\" class=\"dataframe\">\n",
              "  <thead>\n",
              "    <tr style=\"text-align: right;\">\n",
              "      <th></th>\n",
              "      <th>R2</th>\n",
              "      <th>RMSE</th>\n",
              "      <th>mean_absolute_error</th>\n",
              "    </tr>\n",
              "  </thead>\n",
              "  <tbody>\n",
              "    <tr>\n",
              "      <th>C8A</th>\n",
              "      <td>0.560318</td>\n",
              "      <td>1.182411</td>\n",
              "      <td>0.818223</td>\n",
              "    </tr>\n",
              "  </tbody>\n",
              "</table>\n",
              "</div>"
            ],
            "text/plain": [
              "           R2      RMSE  mean_absolute_error\n",
              "C8A  0.560318  1.182411             0.818223"
            ]
          },
          "metadata": {
            "tags": []
          },
          "execution_count": 17
        }
      ]
    },
    {
      "cell_type": "markdown",
      "metadata": {
        "id": "R3qtwcKqsKt6",
        "colab_type": "text"
      },
      "source": [
        "# line plot"
      ]
    },
    {
      "cell_type": "code",
      "metadata": {
        "id": "ql86a67LmV_2",
        "colab_type": "code",
        "outputId": "2616b8bd-1cc2-43b7-cdce-3c1c9a60e86e",
        "colab": {
          "base_uri": "https://localhost:8080/",
          "height": 354
        }
      },
      "source": [
        "by_col = 'T50'\n",
        "fig = plt.figure(figsize=(30,5))\n",
        "test_point = test.sort_values(by = by_col)\n",
        "train_sample_point = train.sample(1000).sort_values(by = by_col)\n",
        "\n",
        "plt.plot(train_sample_point[by_col],train_sample_point['y_pred'],label='train pred line',color='blue')\n",
        "plt.scatter(train_sample_point[by_col],train_sample_point[y_name],label='train point',color='blue')\n",
        "\n",
        "plt.plot(test_point[by_col],test_point['y_pred'],label='test pred line',color='red')\n",
        "plt.scatter(test_point[by_col],test_point[y_name],label='test point',color='red')\n",
        "\n",
        "plt.xlabel(by_col)\n",
        "plt.ylabel(y_name)\n",
        "plt.legend()\n",
        "plt.show()"
      ],
      "execution_count": 18,
      "outputs": [
        {
          "output_type": "display_data",
          "data": {
            "image/png": "[encoded data removed]",
            "text/plain": [
              "<Figure size 2160x360 with 1 Axes>"
            ]
          },
          "metadata": {
            "tags": []
          }
        }
      ]
    },
    {
      "cell_type": "markdown",
      "metadata": {
        "id": "NPtNvdptjTC4",
        "colab_type": "text"
      },
      "source": [
        "# check out"
      ]
    },
    {
      "cell_type": "code",
      "metadata": {
        "id": "-a3vUedX87t8",
        "colab_type": "code",
        "outputId": "96725a5a-b4cc-4e12-c772-5c8f6c0f0181",
        "colab": {
          "base_uri": "https://localhost:8080/",
          "height": 124
        }
      },
      "source": [
        "loss = (test_point[y_name] - test_point['y_pred'])**2 # 平方誤差\n",
        "loss = loss.sort_values(ascending=False)\n",
        "loss.head(5)"
      ],
      "execution_count": 19,
      "outputs": [
        {
          "output_type": "execute_result",
          "data": {
            "text/plain": [
              "240    17.009242\n",
              "230    12.480510\n",
              "60      6.178967\n",
              "50      4.316406\n",
              "70      3.386344\n",
              "dtype: float64"
            ]
          },
          "metadata": {
            "tags": []
          },
          "execution_count": 19
        }
      ]
    },
    {
      "cell_type": "code",
      "metadata": {
        "id": "-WqVscx97vBE",
        "colab_type": "code",
        "colab": {
          "base_uri": "https://localhost:8080/",
          "height": 35
        },
        "outputId": "aa308dca-28af-4e45-901d-554b4beba360"
      },
      "source": [
        "ub = loss.mean() + 1 * loss.std()\n",
        "ub"
      ],
      "execution_count": 20,
      "outputs": [
        {
          "output_type": "execute_result",
          "data": {
            "text/plain": [
              "4.463486197493278"
            ]
          },
          "metadata": {
            "tags": []
          },
          "execution_count": 20
        }
      ]
    },
    {
      "cell_type": "code",
      "metadata": {
        "id": "CT3L-nND7xnz",
        "colab_type": "code",
        "colab": {
          "base_uri": "https://localhost:8080/",
          "height": 35
        },
        "outputId": "9b20e13c-1617-41a3-d166-e9fd81164149"
      },
      "source": [
        "out_index = list(loss[loss >= ub].index)\n",
        "out_index"
      ],
      "execution_count": 21,
      "outputs": [
        {
          "output_type": "execute_result",
          "data": {
            "text/plain": [
              "[240, 230, 60]"
            ]
          },
          "metadata": {
            "tags": []
          },
          "execution_count": 21
        }
      ]
    },
    {
      "cell_type": "markdown",
      "metadata": {
        "id": "F5brTol1kMLj",
        "colab_type": "text"
      },
      "source": [
        "# del out"
      ]
    },
    {
      "cell_type": "code",
      "metadata": {
        "id": "srF0nApphw1q",
        "colab_type": "code",
        "outputId": "c116278c-aa29-4fc8-cdae-462c7eb73e93",
        "colab": {
          "base_uri": "https://localhost:8080/",
          "height": 354
        }
      },
      "source": [
        "import numpy as np\n",
        "\n",
        "#add out columns\n",
        "test_point['out'] = False\n",
        "test_point.loc[out_index,'out'] = True\n",
        "\n",
        "#fig\n",
        "fig = plt.figure(figsize=(30,5))\n",
        "\n",
        "#sort test point\n",
        "test_point = test_point.sort_values(by=by_col)\n",
        "\n",
        "#def out_point\n",
        "out_point = test_point[test_point['out'] == True]\n",
        "\n",
        "#y_pred line\n",
        "plt.plot(test_point[by_col],test_point['y_pred'],label='pred line',color='red')\n",
        "\n",
        "#test point\n",
        "plt.scatter(test_point[by_col],test_point[y_name],label='test point',color='red')\n",
        "\n",
        "#out point\n",
        "plt.scatter(out_point[by_col],out_point[y_name],label='out point',color='black')\n",
        "\n",
        "plt.xlabel(by_col)\n",
        "plt.ylabel(y_name)\n",
        "plt.legend()\n",
        "plt.show()"
      ],
      "execution_count": 22,
      "outputs": [
        {
          "output_type": "display_data",
          "data": {
            "image/png": "[encoded data removed]",
            "text/plain": [
              "<Figure size 2160x360 with 1 Axes>"
            ]
          },
          "metadata": {
            "tags": []
          }
        }
      ]
    },
    {
      "cell_type": "markdown",
      "metadata": {
        "id": "aNWy702t0W0f",
        "colab_type": "text"
      },
      "source": [
        "# del_out_point_scores:"
      ]
    },
    {
      "cell_type": "code",
      "metadata": {
        "id": "_ZxrRO1HiXyi",
        "colab_type": "code",
        "outputId": "b1fb4ca8-565a-44c5-e3f2-5845b0e121cb",
        "colab": {
          "base_uri": "https://localhost:8080/",
          "height": 94
        }
      },
      "source": [
        "print('del_out_point_scores:')\n",
        "metric(test_point.loc[test_point['out'] == False ,y_name],test_point.loc[test_point['out'] == False ,'y_pred'])"
      ],
      "execution_count": 23,
      "outputs": [
        {
          "output_type": "stream",
          "text": [
            "del_out_point_scores:\n"
          ],
          "name": "stdout"
        },
        {
          "output_type": "execute_result",
          "data": {
            "text/html": [
              "<div>\n",
              "<style scoped>\n",
              "    .dataframe tbody tr th:only-of-type {\n",
              "        vertical-align: middle;\n",
              "    }\n",
              "\n",
              "    .dataframe tbody tr th {\n",
              "        vertical-align: top;\n",
              "    }\n",
              "\n",
              "    .dataframe thead th {\n",
              "        text-align: right;\n",
              "    }\n",
              "</style>\n",
              "<table border=\"1\" class=\"dataframe\">\n",
              "  <thead>\n",
              "    <tr style=\"text-align: right;\">\n",
              "      <th></th>\n",
              "      <th>R2</th>\n",
              "      <th>RMSE</th>\n",
              "      <th>mean_absolute_error</th>\n",
              "    </tr>\n",
              "  </thead>\n",
              "  <tbody>\n",
              "    <tr>\n",
              "      <th>C8A</th>\n",
              "      <td>0.6904</td>\n",
              "      <td>0.85348</td>\n",
              "      <td>0.654647</td>\n",
              "    </tr>\n",
              "  </tbody>\n",
              "</table>\n",
              "</div>"
            ],
            "text/plain": [
              "         R2     RMSE  mean_absolute_error\n",
              "C8A  0.6904  0.85348             0.654647"
            ]
          },
          "metadata": {
            "tags": []
          },
          "execution_count": 23
        }
      ]
    },
    {
      "cell_type": "markdown",
      "metadata": {
        "id": "hWCXkAD7SEiU",
        "colab_type": "text"
      },
      "source": [
        "# dump model"
      ]
    },
    {
      "cell_type": "code",
      "metadata": {
        "id": "CEUQGHiYj-ko",
        "colab_type": "code",
        "outputId": "487542b8-6f8c-41e2-dd10-0b40f28000b1",
        "colab": {
          "base_uri": "https://localhost:8080/",
          "height": 35
        }
      },
      "source": [
        "from sklearn.externals import joblib\n",
        "\n",
        "joblib.dump(model, 'model.pkl')"
      ],
      "execution_count": 24,
      "outputs": [
        {
          "output_type": "execute_result",
          "data": {
            "text/plain": [
              "['model.pkl']"
            ]
          },
          "metadata": {
            "tags": []
          },
          "execution_count": 24
        }
      ]
    },
    {
      "cell_type": "code",
      "metadata": {
        "id": "nlG3z-XkDC7K",
        "colab_type": "code",
        "colab": {}
      },
      "source": [
        ""
      ],
      "execution_count": 0,
      "outputs": []
    }
  ]
}