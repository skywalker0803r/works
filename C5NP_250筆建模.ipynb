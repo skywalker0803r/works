{
  "nbformat": 4,
  "nbformat_minor": 0,
  "metadata": {
    "colab": {
      "name": "C5NP_250筆建模.ipynb",
      "provenance": [],
      "collapsed_sections": [],
      "include_colab_link": true
    },
    "kernelspec": {
      "name": "python3",
      "display_name": "Python 3"
    }
  },
  "cells": [
    {
      "cell_type": "markdown",
      "metadata": {
        "id": "view-in-github",
        "colab_type": "text"
      },
      "source": [
        "<a href=\"https://colab.research.google.com/github/skywalker0803r/works/blob/master/C5NP_250%E7%AD%86%E5%BB%BA%E6%A8%A1.ipynb\" target=\"_parent\"><img src=\"https://colab.research.google.com/assets/colab-badge.svg\" alt=\"Open In Colab\"/></a>"
      ]
    },
    {
      "cell_type": "code",
      "metadata": {
        "id": "xTX2C4HX5ZFL",
        "colab_type": "code",
        "outputId": "70ccd14f-f5c3-4f06-f3f3-6c4a1c43c36b",
        "colab": {
          "base_uri": "https://localhost:8080/",
          "height": 35
        }
      },
      "source": [
        "from google.colab import drive\n",
        "drive.mount('/content/drive')\n",
        "import warnings \n",
        "warnings.simplefilter('ignore')"
      ],
      "execution_count": 1,
      "outputs": [
        {
          "output_type": "stream",
          "text": [
            "Drive already mounted at /content/drive; to attempt to forcibly remount, call drive.mount(\"/content/drive\", force_remount=True).\n"
          ],
          "name": "stdout"
        }
      ]
    },
    {
      "cell_type": "markdown",
      "metadata": {
        "id": "ntB8KlJM6gEY",
        "colab_type": "text"
      },
      "source": [
        "# Load"
      ]
    },
    {
      "cell_type": "code",
      "metadata": {
        "id": "no46PF6T5dPn",
        "colab_type": "code",
        "outputId": "9a37670e-bb2c-4062-bca0-0747ceebce96",
        "colab": {
          "base_uri": "https://localhost:8080/",
          "height": 52
        }
      },
      "source": [
        "import pandas as pd\n",
        "\n",
        "data = pd.read_csv('/content/drive/My Drive/台塑輕油案子/data/test_250.csv',index_col=0).reset_index(drop=True)\n",
        "mod  = data.index % 5\n",
        "train = data.loc[ mod != 0 ,:]\n",
        "test = data.loc[ mod == 0 ,:]\n",
        "print(train.shape)\n",
        "print(test.shape)"
      ],
      "execution_count": 2,
      "outputs": [
        {
          "output_type": "stream",
          "text": [
            "(200, 27)\n",
            "(50, 27)\n"
          ],
          "name": "stdout"
        }
      ]
    },
    {
      "cell_type": "markdown",
      "metadata": {
        "id": "PBfuTR7h6dZB",
        "colab_type": "text"
      },
      "source": [
        "# def features & y_name"
      ]
    },
    {
      "cell_type": "code",
      "metadata": {
        "id": "e5BetEQb51Q2",
        "colab_type": "code",
        "outputId": "0cc8c662-7721-4f77-ed08-2cf9396f8f01",
        "colab": {
          "base_uri": "https://localhost:8080/",
          "height": 52
        }
      },
      "source": [
        "features = ['T10','T50','T90','N+A']\n",
        "y_name = 'C5NP'\n",
        "train = train[features+[y_name]]\n",
        "test = test[features+[y_name]]\n",
        "print(train.shape)\n",
        "print(test.shape)"
      ],
      "execution_count": 3,
      "outputs": [
        {
          "output_type": "stream",
          "text": [
            "(200, 5)\n",
            "(50, 5)\n"
          ],
          "name": "stdout"
        }
      ]
    },
    {
      "cell_type": "markdown",
      "metadata": {
        "id": "qVyPE4cW6aVh",
        "colab_type": "text"
      },
      "source": [
        "# info"
      ]
    },
    {
      "cell_type": "code",
      "metadata": {
        "id": "LxgzuM7m5-on",
        "colab_type": "code",
        "outputId": "618e025f-ec85-4f53-cc2d-766b8726fc21",
        "colab": {
          "base_uri": "https://localhost:8080/",
          "height": 282
        }
      },
      "source": [
        "train.describe()"
      ],
      "execution_count": 4,
      "outputs": [
        {
          "output_type": "execute_result",
          "data": {
            "text/html": [
              "<div>\n",
              "<style scoped>\n",
              "    .dataframe tbody tr th:only-of-type {\n",
              "        vertical-align: middle;\n",
              "    }\n",
              "\n",
              "    .dataframe tbody tr th {\n",
              "        vertical-align: top;\n",
              "    }\n",
              "\n",
              "    .dataframe thead th {\n",
              "        text-align: right;\n",
              "    }\n",
              "</style>\n",
              "<table border=\"1\" class=\"dataframe\">\n",
              "  <thead>\n",
              "    <tr style=\"text-align: right;\">\n",
              "      <th></th>\n",
              "      <th>T10</th>\n",
              "      <th>T50</th>\n",
              "      <th>T90</th>\n",
              "      <th>N+A</th>\n",
              "      <th>C5NP</th>\n",
              "    </tr>\n",
              "  </thead>\n",
              "  <tbody>\n",
              "    <tr>\n",
              "      <th>count</th>\n",
              "      <td>200.000000</td>\n",
              "      <td>200.000000</td>\n",
              "      <td>200.000000</td>\n",
              "      <td>200.000000</td>\n",
              "      <td>200.000000</td>\n",
              "    </tr>\n",
              "    <tr>\n",
              "      <th>mean</th>\n",
              "      <td>83.952000</td>\n",
              "      <td>108.532500</td>\n",
              "      <td>143.425000</td>\n",
              "      <td>47.181365</td>\n",
              "      <td>4.447034</td>\n",
              "    </tr>\n",
              "    <tr>\n",
              "      <th>std</th>\n",
              "      <td>16.868257</td>\n",
              "      <td>10.414746</td>\n",
              "      <td>10.241981</td>\n",
              "      <td>8.552356</td>\n",
              "      <td>4.182515</td>\n",
              "    </tr>\n",
              "    <tr>\n",
              "      <th>min</th>\n",
              "      <td>55.300000</td>\n",
              "      <td>84.800000</td>\n",
              "      <td>122.300000</td>\n",
              "      <td>30.718870</td>\n",
              "      <td>0.002000</td>\n",
              "    </tr>\n",
              "    <tr>\n",
              "      <th>25%</th>\n",
              "      <td>65.175000</td>\n",
              "      <td>100.425000</td>\n",
              "      <td>137.875000</td>\n",
              "      <td>39.278638</td>\n",
              "      <td>1.238336</td>\n",
              "    </tr>\n",
              "    <tr>\n",
              "      <th>50%</th>\n",
              "      <td>91.700000</td>\n",
              "      <td>111.400000</td>\n",
              "      <td>142.200000</td>\n",
              "      <td>48.046689</td>\n",
              "      <td>2.043376</td>\n",
              "    </tr>\n",
              "    <tr>\n",
              "      <th>75%</th>\n",
              "      <td>97.200000</td>\n",
              "      <td>115.300000</td>\n",
              "      <td>147.075000</td>\n",
              "      <td>53.986965</td>\n",
              "      <td>8.771517</td>\n",
              "    </tr>\n",
              "    <tr>\n",
              "      <th>max</th>\n",
              "      <td>116.900000</td>\n",
              "      <td>131.700000</td>\n",
              "      <td>198.500000</td>\n",
              "      <td>63.114705</td>\n",
              "      <td>16.611529</td>\n",
              "    </tr>\n",
              "  </tbody>\n",
              "</table>\n",
              "</div>"
            ],
            "text/plain": [
              "              T10         T50         T90         N+A        C5NP\n",
              "count  200.000000  200.000000  200.000000  200.000000  200.000000\n",
              "mean    83.952000  108.532500  143.425000   47.181365    4.447034\n",
              "std     16.868257   10.414746   10.241981    8.552356    4.182515\n",
              "min     55.300000   84.800000  122.300000   30.718870    0.002000\n",
              "25%     65.175000  100.425000  137.875000   39.278638    1.238336\n",
              "50%     91.700000  111.400000  142.200000   48.046689    2.043376\n",
              "75%     97.200000  115.300000  147.075000   53.986965    8.771517\n",
              "max    116.900000  131.700000  198.500000   63.114705   16.611529"
            ]
          },
          "metadata": {
            "tags": []
          },
          "execution_count": 4
        }
      ]
    },
    {
      "cell_type": "code",
      "metadata": {
        "id": "S9GNZJHv6HHl",
        "colab_type": "code",
        "outputId": "f765ac62-85fb-4191-bb65-396c397682eb",
        "colab": {
          "base_uri": "https://localhost:8080/",
          "height": 194
        }
      },
      "source": [
        "train.corr()"
      ],
      "execution_count": 5,
      "outputs": [
        {
          "output_type": "execute_result",
          "data": {
            "text/html": [
              "<div>\n",
              "<style scoped>\n",
              "    .dataframe tbody tr th:only-of-type {\n",
              "        vertical-align: middle;\n",
              "    }\n",
              "\n",
              "    .dataframe tbody tr th {\n",
              "        vertical-align: top;\n",
              "    }\n",
              "\n",
              "    .dataframe thead th {\n",
              "        text-align: right;\n",
              "    }\n",
              "</style>\n",
              "<table border=\"1\" class=\"dataframe\">\n",
              "  <thead>\n",
              "    <tr style=\"text-align: right;\">\n",
              "      <th></th>\n",
              "      <th>T10</th>\n",
              "      <th>T50</th>\n",
              "      <th>T90</th>\n",
              "      <th>N+A</th>\n",
              "      <th>C5NP</th>\n",
              "    </tr>\n",
              "  </thead>\n",
              "  <tbody>\n",
              "    <tr>\n",
              "      <th>T10</th>\n",
              "      <td>1.000000</td>\n",
              "      <td>0.856767</td>\n",
              "      <td>0.102906</td>\n",
              "      <td>0.715846</td>\n",
              "      <td>-0.955820</td>\n",
              "    </tr>\n",
              "    <tr>\n",
              "      <th>T50</th>\n",
              "      <td>0.856767</td>\n",
              "      <td>1.000000</td>\n",
              "      <td>0.524417</td>\n",
              "      <td>0.468263</td>\n",
              "      <td>-0.817769</td>\n",
              "    </tr>\n",
              "    <tr>\n",
              "      <th>T90</th>\n",
              "      <td>0.102906</td>\n",
              "      <td>0.524417</td>\n",
              "      <td>1.000000</td>\n",
              "      <td>-0.136834</td>\n",
              "      <td>-0.070582</td>\n",
              "    </tr>\n",
              "    <tr>\n",
              "      <th>N+A</th>\n",
              "      <td>0.715846</td>\n",
              "      <td>0.468263</td>\n",
              "      <td>-0.136834</td>\n",
              "      <td>1.000000</td>\n",
              "      <td>-0.734279</td>\n",
              "    </tr>\n",
              "    <tr>\n",
              "      <th>C5NP</th>\n",
              "      <td>-0.955820</td>\n",
              "      <td>-0.817769</td>\n",
              "      <td>-0.070582</td>\n",
              "      <td>-0.734279</td>\n",
              "      <td>1.000000</td>\n",
              "    </tr>\n",
              "  </tbody>\n",
              "</table>\n",
              "</div>"
            ],
            "text/plain": [
              "           T10       T50       T90       N+A      C5NP\n",
              "T10   1.000000  0.856767  0.102906  0.715846 -0.955820\n",
              "T50   0.856767  1.000000  0.524417  0.468263 -0.817769\n",
              "T90   0.102906  0.524417  1.000000 -0.136834 -0.070582\n",
              "N+A   0.715846  0.468263 -0.136834  1.000000 -0.734279\n",
              "C5NP -0.955820 -0.817769 -0.070582 -0.734279  1.000000"
            ]
          },
          "metadata": {
            "tags": []
          },
          "execution_count": 5
        }
      ]
    },
    {
      "cell_type": "markdown",
      "metadata": {
        "id": "S_Irb7726U5b",
        "colab_type": "text"
      },
      "source": [
        "# features selected"
      ]
    },
    {
      "cell_type": "code",
      "metadata": {
        "id": "NwXlyiIO6Ish",
        "colab_type": "code",
        "colab": {}
      },
      "source": [
        "features = ['T10']"
      ],
      "execution_count": 0,
      "outputs": []
    },
    {
      "cell_type": "markdown",
      "metadata": {
        "id": "PUVnicYc6Toa",
        "colab_type": "text"
      },
      "source": [
        "# kde"
      ]
    },
    {
      "cell_type": "code",
      "metadata": {
        "id": "Sp0zEsr36LMw",
        "colab_type": "code",
        "outputId": "d8cbfdf9-6ec3-41c2-b196-301b3b1ceb1b",
        "colab": {
          "base_uri": "https://localhost:8080/",
          "height": 541
        }
      },
      "source": [
        "import matplotlib.pyplot as plt\n",
        "import seaborn as sns\n",
        "\n",
        "for col in features+[y_name]:\n",
        "  sns.kdeplot(data = train[col],label='train')\n",
        "  sns.kdeplot(data = test[col],label='test')\n",
        "  plt.legend();plt.xlabel(col);plt.ylabel(y_name)\n",
        "  plt.show()"
      ],
      "execution_count": 7,
      "outputs": [
        {
          "output_type": "display_data",
          "data": {
            "image/png": "[encoded data removed]",
            "text/plain": [
              "<Figure size 432x288 with 1 Axes>"
            ]
          },
          "metadata": {
            "tags": []
          }
        },
        {
          "output_type": "display_data",
          "data": {
            "image/png": "[encoded data removed]",
            "text/plain": [
              "<Figure size 432x288 with 1 Axes>"
            ]
          },
          "metadata": {
            "tags": []
          }
        }
      ]
    },
    {
      "cell_type": "markdown",
      "metadata": {
        "id": "FCqmbzBK6SKr",
        "colab_type": "text"
      },
      "source": [
        "# scatter"
      ]
    },
    {
      "cell_type": "code",
      "metadata": {
        "id": "2FYV2OS36Nq-",
        "colab_type": "code",
        "outputId": "5d717ef8-ce30-4fd9-c113-92a7cc2345ca",
        "colab": {
          "base_uri": "https://localhost:8080/",
          "height": 279
        }
      },
      "source": [
        "for x_col in features:\n",
        "  sns.scatterplot(x=x_col,y=y_name,data=train,label='train')\n",
        "  sns.scatterplot(x=x_col,y=y_name,data=test,label='test')\n",
        "  plt.legend()\n",
        "  plt.show()"
      ],
      "execution_count": 8,
      "outputs": [
        {
          "output_type": "display_data",
          "data": {
            "image/png": "[encoded data removed]",
            "text/plain": [
              "<Figure size 432x288 with 1 Axes>"
            ]
          },
          "metadata": {
            "tags": []
          }
        }
      ]
    },
    {
      "cell_type": "markdown",
      "metadata": {
        "id": "7k0KMhwJ68Su",
        "colab_type": "text"
      },
      "source": [
        "# scaler"
      ]
    },
    {
      "cell_type": "code",
      "metadata": {
        "id": "Ak0H0-0_6RSF",
        "colab_type": "code",
        "colab": {}
      },
      "source": [
        "from sklearn.preprocessing import StandardScaler\n",
        "scaler = StandardScaler()\n",
        "scaler.fit(train[features])\n",
        "\n",
        "train[features] = scaler.transform(train[features])\n",
        "test[features] = scaler.transform(test[features])"
      ],
      "execution_count": 0,
      "outputs": []
    },
    {
      "cell_type": "markdown",
      "metadata": {
        "id": "qHfKFqWe7CV0",
        "colab_type": "text"
      },
      "source": [
        "# metric"
      ]
    },
    {
      "cell_type": "code",
      "metadata": {
        "id": "y89myTL87Azh",
        "colab_type": "code",
        "colab": {}
      },
      "source": [
        "from sklearn.metrics import r2_score,mean_squared_error,mean_absolute_error\n",
        "from math import sqrt\n",
        "def metric(y_t,y_p):\n",
        "  res = {'R2':r2_score(y_t,y_p),\n",
        "         'RMSE':sqrt(mean_squared_error(y_t,y_p)),\n",
        "         'mean_absolute_error':mean_absolute_error(y_t,y_p)}\n",
        "  return pd.DataFrame(res,index=[y_t.name])"
      ],
      "execution_count": 0,
      "outputs": []
    },
    {
      "cell_type": "code",
      "metadata": {
        "id": "_9V_ldau87WU",
        "colab_type": "code",
        "colab": {}
      },
      "source": [
        "def RMSE(y_t,y_p):\n",
        "  return sqrt(mean_squared_error(y_t,y_p))"
      ],
      "execution_count": 0,
      "outputs": []
    },
    {
      "cell_type": "markdown",
      "metadata": {
        "id": "LTucUDAM7KPx",
        "colab_type": "text"
      },
      "source": [
        "# modeling"
      ]
    },
    {
      "cell_type": "code",
      "metadata": {
        "id": "49KI3Hee7JLX",
        "colab_type": "code",
        "colab": {
          "base_uri": "https://localhost:8080/",
          "height": 130
        },
        "outputId": "8980927e-b6ee-4911-cfa4-a731cf4d97a6"
      },
      "source": [
        "import xgboost\n",
        "from sklearn.svm import SVR\n",
        "from sklearn.metrics.scorer import make_scorer\n",
        "from math import sqrt\n",
        "from lightgbm import LGBMRegressor\n",
        "from sklearn.ensemble import VotingRegressor\n",
        "from sklearn.model_selection import cross_validate\n",
        "from sklearn.linear_model import LinearRegression\n",
        "import warnings \n",
        "warnings.simplefilter('ignore')\n",
        "\n",
        "#model = xgboost.XGBRegressor(objective='reg:squarederror')\n",
        "model = SVR(C=2)\n",
        "#model = LinearRegression()\n",
        "\n",
        "#交叉驗證5次\n",
        "val_scores = cross_validate(model,train[features],train[y_name],cv=5,\n",
        "                            scoring = {'rmse': make_scorer(RMSE, greater_is_better=False)})\n",
        "\n",
        "print('val_scores:',val_scores['test_rmse'])\n",
        "print('val_scores.mean:',val_scores['test_rmse'].mean())\n",
        "\n",
        "# fit \n",
        "model.fit(train[features],train[y_name])\n",
        "# predict\n",
        "test['y_pred'] = model.predict(test[features])\n",
        "\n",
        "# metric\n",
        "print('test_scores:')\n",
        "metric(test[y_name],test['y_pred'])"
      ],
      "execution_count": 32,
      "outputs": [
        {
          "output_type": "stream",
          "text": [
            "val_scores: [-1.23702648 -1.90384108 -1.31826415 -0.86551571 -0.50529644]\n",
            "val_scores.mean: -1.165988771496084\n",
            "test_scores:\n"
          ],
          "name": "stdout"
        },
        {
          "output_type": "execute_result",
          "data": {
            "text/html": [
              "<div>\n",
              "<style scoped>\n",
              "    .dataframe tbody tr th:only-of-type {\n",
              "        vertical-align: middle;\n",
              "    }\n",
              "\n",
              "    .dataframe tbody tr th {\n",
              "        vertical-align: top;\n",
              "    }\n",
              "\n",
              "    .dataframe thead th {\n",
              "        text-align: right;\n",
              "    }\n",
              "</style>\n",
              "<table border=\"1\" class=\"dataframe\">\n",
              "  <thead>\n",
              "    <tr style=\"text-align: right;\">\n",
              "      <th></th>\n",
              "      <th>R2</th>\n",
              "      <th>RMSE</th>\n",
              "      <th>mean_absolute_error</th>\n",
              "    </tr>\n",
              "  </thead>\n",
              "  <tbody>\n",
              "    <tr>\n",
              "      <th>C5NP</th>\n",
              "      <td>0.913251</td>\n",
              "      <td>1.14899</td>\n",
              "      <td>0.542693</td>\n",
              "    </tr>\n",
              "  </tbody>\n",
              "</table>\n",
              "</div>"
            ],
            "text/plain": [
              "            R2     RMSE  mean_absolute_error\n",
              "C5NP  0.913251  1.14899             0.542693"
            ]
          },
          "metadata": {
            "tags": []
          },
          "execution_count": 32
        }
      ]
    },
    {
      "cell_type": "markdown",
      "metadata": {
        "id": "7fleJOFK7T9y",
        "colab_type": "text"
      },
      "source": [
        "# line plot"
      ]
    },
    {
      "cell_type": "code",
      "metadata": {
        "id": "bYcpmCrq7ODl",
        "colab_type": "code",
        "colab": {
          "base_uri": "https://localhost:8080/",
          "height": 342
        },
        "outputId": "8d0bd280-db39-4ccc-d5e4-3712bb0b2a16"
      },
      "source": [
        "fig = plt.figure(figsize=(30,5))\n",
        "\n",
        "#sorted point\n",
        "test_point = test.sort_values(by='T10')\n",
        "train_point = train.sort_values(by='T10')\n",
        "\n",
        "#y_pred line\n",
        "plt.plot(test_point['T10'],test_point['y_pred'],label='pred line',color='red')\n",
        "\n",
        "#test point\n",
        "plt.scatter(test_point['T10'],test_point[y_name],label='test point')\n",
        "\n",
        "#train point\n",
        "plt.scatter(train_point['T10'],train_point[y_name],label='train point')\n",
        "\n",
        "plt.legend()\n",
        "plt.show()"
      ],
      "execution_count": 33,
      "outputs": [
        {
          "output_type": "display_data",
          "data": {
            "image/png": "[encoded data removed]",
            "text/plain": [
              "<Figure size 2160x360 with 1 Axes>"
            ]
          },
          "metadata": {
            "tags": []
          }
        }
      ]
    },
    {
      "cell_type": "markdown",
      "metadata": {
        "id": "b9QxwQY-7vYB",
        "colab_type": "text"
      },
      "source": [
        "# check out"
      ]
    },
    {
      "cell_type": "code",
      "metadata": {
        "id": "gPCjgJ8-7XI2",
        "colab_type": "code",
        "colab": {
          "base_uri": "https://localhost:8080/",
          "height": 124
        },
        "outputId": "7926380d-a790-4d21-b3c1-97dc9af3b6ef"
      },
      "source": [
        "loss = (test_point[y_name] - test_point['y_pred'])**2 # 平方誤差\n",
        "loss.sort_values(ascending=False).head(5)"
      ],
      "execution_count": 34,
      "outputs": [
        {
          "output_type": "execute_result",
          "data": {
            "text/plain": [
              "95     44.400460\n",
              "150     5.379265\n",
              "100     2.828297\n",
              "60      2.567176\n",
              "30      1.866617\n",
              "dtype: float64"
            ]
          },
          "metadata": {
            "tags": []
          },
          "execution_count": 34
        }
      ]
    },
    {
      "cell_type": "code",
      "metadata": {
        "id": "pAbyVAsS-ao3",
        "colab_type": "code",
        "colab": {
          "base_uri": "https://localhost:8080/",
          "height": 35
        },
        "outputId": "703672c2-e7aa-4dc1-865f-f798b0071f32"
      },
      "source": [
        "loss.median() + 3 * loss.std()"
      ],
      "execution_count": 42,
      "outputs": [
        {
          "output_type": "execute_result",
          "data": {
            "text/plain": [
              "18.907259384145203"
            ]
          },
          "metadata": {
            "tags": []
          },
          "execution_count": 42
        }
      ]
    },
    {
      "cell_type": "markdown",
      "metadata": {
        "id": "_n3OulSO7ykY",
        "colab_type": "text"
      },
      "source": [
        "# del out"
      ]
    },
    {
      "cell_type": "code",
      "metadata": {
        "id": "VTHNUGq-76v0",
        "colab_type": "code",
        "colab": {}
      },
      "source": [
        "#add out columns\n",
        "test_point['out'] = False\n",
        "test_point.loc[loss.sort_values(ascending=False).head(1).index,'out'] = True\n",
        "\n",
        "#def out_point\n",
        "out_point = test_point[test_point['out'] == True]"
      ],
      "execution_count": 0,
      "outputs": []
    },
    {
      "cell_type": "code",
      "metadata": {
        "id": "EPGnufL47xCL",
        "colab_type": "code",
        "colab": {
          "base_uri": "https://localhost:8080/",
          "height": 340
        },
        "outputId": "e84e484d-2361-496a-f092-1aaaec2eecc1"
      },
      "source": [
        "#fig\n",
        "fig = plt.figure(figsize=(30,5))\n",
        "\n",
        "#y_pred line\n",
        "plt.plot(test_point['T10'],test_point['y_pred'],label='pred line',color='red')\n",
        "\n",
        "#test point\n",
        "plt.scatter(test_point['T10'],test_point[y_name],label='test point')\n",
        "\n",
        "#out point\n",
        "plt.scatter(out_point['T10'],out_point[y_name],label='out point')\n",
        "\n",
        "plt.legend()\n",
        "plt.show()"
      ],
      "execution_count": 36,
      "outputs": [
        {
          "output_type": "display_data",
          "data": {
            "image/png": "[encoded data removed]",
            "text/plain": [
              "<Figure size 2160x360 with 1 Axes>"
            ]
          },
          "metadata": {
            "tags": []
          }
        }
      ]
    },
    {
      "cell_type": "markdown",
      "metadata": {
        "id": "uUsEqY268EtU",
        "colab_type": "text"
      },
      "source": [
        "# del_out_point_scores:"
      ]
    },
    {
      "cell_type": "code",
      "metadata": {
        "id": "dl344bp88A8z",
        "colab_type": "code",
        "colab": {
          "base_uri": "https://localhost:8080/",
          "height": 94
        },
        "outputId": "578eb5dc-bd92-40eb-bc1a-8d663df3260a"
      },
      "source": [
        "print('del_out_point_scores:')\n",
        "metric(test_point.loc[test_point['out'] == False ,y_name],test_point.loc[test_point['out'] == False ,'y_pred'])"
      ],
      "execution_count": 37,
      "outputs": [
        {
          "output_type": "stream",
          "text": [
            "del_out_point_scores:\n"
          ],
          "name": "stdout"
        },
        {
          "output_type": "execute_result",
          "data": {
            "text/html": [
              "<div>\n",
              "<style scoped>\n",
              "    .dataframe tbody tr th:only-of-type {\n",
              "        vertical-align: middle;\n",
              "    }\n",
              "\n",
              "    .dataframe tbody tr th {\n",
              "        vertical-align: top;\n",
              "    }\n",
              "\n",
              "    .dataframe thead th {\n",
              "        text-align: right;\n",
              "    }\n",
              "</style>\n",
              "<table border=\"1\" class=\"dataframe\">\n",
              "  <thead>\n",
              "    <tr style=\"text-align: right;\">\n",
              "      <th></th>\n",
              "      <th>R2</th>\n",
              "      <th>RMSE</th>\n",
              "      <th>mean_absolute_error</th>\n",
              "    </tr>\n",
              "  </thead>\n",
              "  <tbody>\n",
              "    <tr>\n",
              "      <th>C5NP</th>\n",
              "      <td>0.971261</td>\n",
              "      <td>0.66407</td>\n",
              "      <td>0.417782</td>\n",
              "    </tr>\n",
              "  </tbody>\n",
              "</table>\n",
              "</div>"
            ],
            "text/plain": [
              "            R2     RMSE  mean_absolute_error\n",
              "C5NP  0.971261  0.66407             0.417782"
            ]
          },
          "metadata": {
            "tags": []
          },
          "execution_count": 37
        }
      ]
    },
    {
      "cell_type": "code",
      "metadata": {
        "id": "C3UXw-wS8GdT",
        "colab_type": "code",
        "colab": {}
      },
      "source": [
        ""
      ],
      "execution_count": 0,
      "outputs": []
    }
  ]
}