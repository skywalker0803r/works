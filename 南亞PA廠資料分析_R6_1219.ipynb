{
  "nbformat": 4,
  "nbformat_minor": 0,
  "metadata": {
    "colab": {
      "name": "南亞PA廠資料分析_R6_1219.ipynb",
      "provenance": [],
      "collapsed_sections": [],
      "include_colab_link": true
    },
    "kernelspec": {
      "name": "python3",
      "display_name": "Python 3"
    },
    "widgets": {
      "application/vnd.jupyter.widget-state+json": {
        "4144c933f2314c899a274bb65bc33dcb": {
          "model_module": "@jupyter-widgets/controls",
          "model_name": "HBoxModel",
          "state": {
            "_view_name": "HBoxView",
            "_dom_classes": [],
            "_model_name": "HBoxModel",
            "_view_module": "@jupyter-widgets/controls",
            "_model_module_version": "1.5.0",
            "_view_count": null,
            "_view_module_version": "1.5.0",
            "box_style": "",
            "layout": "IPY_MODEL_7e2342b794ea47a1a1cf07a88f0258b3",
            "_model_module": "@jupyter-widgets/controls",
            "children": [
              "IPY_MODEL_ad644503fa224281b67841d55608ce45",
              "IPY_MODEL_80a877733f014b778fc6897b0ac35b7b"
            ]
          }
        },
        "7e2342b794ea47a1a1cf07a88f0258b3": {
          "model_module": "@jupyter-widgets/base",
          "model_name": "LayoutModel",
          "state": {
            "_view_name": "LayoutView",
            "grid_template_rows": null,
            "right": null,
            "justify_content": null,
            "_view_module": "@jupyter-widgets/base",
            "overflow": null,
            "_model_module_version": "1.2.0",
            "_view_count": null,
            "flex_flow": null,
            "width": null,
            "min_width": null,
            "border": null,
            "align_items": null,
            "bottom": null,
            "_model_module": "@jupyter-widgets/base",
            "top": null,
            "grid_column": null,
            "overflow_y": null,
            "overflow_x": null,
            "grid_auto_flow": null,
            "grid_area": null,
            "grid_template_columns": null,
            "flex": null,
            "_model_name": "LayoutModel",
            "justify_items": null,
            "grid_row": null,
            "max_height": null,
            "align_content": null,
            "visibility": null,
            "align_self": null,
            "height": null,
            "min_height": null,
            "padding": null,
            "grid_auto_rows": null,
            "grid_gap": null,
            "max_width": null,
            "order": null,
            "_view_module_version": "1.2.0",
            "grid_template_areas": null,
            "object_position": null,
            "object_fit": null,
            "grid_auto_columns": null,
            "margin": null,
            "display": null,
            "left": null
          }
        },
        "ad644503fa224281b67841d55608ce45": {
          "model_module": "@jupyter-widgets/controls",
          "model_name": "IntProgressModel",
          "state": {
            "_view_name": "ProgressView",
            "style": "IPY_MODEL_62fb3ef7c4e2478a8be88c287ff469a8",
            "_dom_classes": [],
            "description": "",
            "_model_name": "IntProgressModel",
            "bar_style": "success",
            "max": 71,
            "_view_module": "@jupyter-widgets/controls",
            "_model_module_version": "1.5.0",
            "value": 71,
            "_view_count": null,
            "_view_module_version": "1.5.0",
            "orientation": "horizontal",
            "min": 0,
            "description_tooltip": null,
            "_model_module": "@jupyter-widgets/controls",
            "layout": "IPY_MODEL_1e095b76ebeb4057adbbd85b57f744c2"
          }
        },
        "80a877733f014b778fc6897b0ac35b7b": {
          "model_module": "@jupyter-widgets/controls",
          "model_name": "HTMLModel",
          "state": {
            "_view_name": "HTMLView",
            "style": "IPY_MODEL_e7b47657456d4fe9b8f021ed1d42e9c1",
            "_dom_classes": [],
            "description": "",
            "_model_name": "HTMLModel",
            "placeholder": "​",
            "_view_module": "@jupyter-widgets/controls",
            "_model_module_version": "1.5.0",
            "value": "100% 71/71 [00:03&lt;00:00, 18.35it/s]",
            "_view_count": null,
            "_view_module_version": "1.5.0",
            "description_tooltip": null,
            "_model_module": "@jupyter-widgets/controls",
            "layout": "IPY_MODEL_2f904e3ac74541dc840a25f518463ad8"
          }
        },
        "62fb3ef7c4e2478a8be88c287ff469a8": {
          "model_module": "@jupyter-widgets/controls",
          "model_name": "ProgressStyleModel",
          "state": {
            "_view_name": "StyleView",
            "_model_name": "ProgressStyleModel",
            "description_width": "",
            "_view_module": "@jupyter-widgets/base",
            "_model_module_version": "1.5.0",
            "_view_count": null,
            "_view_module_version": "1.2.0",
            "bar_color": null,
            "_model_module": "@jupyter-widgets/controls"
          }
        },
        "1e095b76ebeb4057adbbd85b57f744c2": {
          "model_module": "@jupyter-widgets/base",
          "model_name": "LayoutModel",
          "state": {
            "_view_name": "LayoutView",
            "grid_template_rows": null,
            "right": null,
            "justify_content": null,
            "_view_module": "@jupyter-widgets/base",
            "overflow": null,
            "_model_module_version": "1.2.0",
            "_view_count": null,
            "flex_flow": null,
            "width": null,
            "min_width": null,
            "border": null,
            "align_items": null,
            "bottom": null,
            "_model_module": "@jupyter-widgets/base",
            "top": null,
            "grid_column": null,
            "overflow_y": null,
            "overflow_x": null,
            "grid_auto_flow": null,
            "grid_area": null,
            "grid_template_columns": null,
            "flex": null,
            "_model_name": "LayoutModel",
            "justify_items": null,
            "grid_row": null,
            "max_height": null,
            "align_content": null,
            "visibility": null,
            "align_self": null,
            "height": null,
            "min_height": null,
            "padding": null,
            "grid_auto_rows": null,
            "grid_gap": null,
            "max_width": null,
            "order": null,
            "_view_module_version": "1.2.0",
            "grid_template_areas": null,
            "object_position": null,
            "object_fit": null,
            "grid_auto_columns": null,
            "margin": null,
            "display": null,
            "left": null
          }
        },
        "e7b47657456d4fe9b8f021ed1d42e9c1": {
          "model_module": "@jupyter-widgets/controls",
          "model_name": "DescriptionStyleModel",
          "state": {
            "_view_name": "StyleView",
            "_model_name": "DescriptionStyleModel",
            "description_width": "",
            "_view_module": "@jupyter-widgets/base",
            "_model_module_version": "1.5.0",
            "_view_count": null,
            "_view_module_version": "1.2.0",
            "_model_module": "@jupyter-widgets/controls"
          }
        },
        "2f904e3ac74541dc840a25f518463ad8": {
          "model_module": "@jupyter-widgets/base",
          "model_name": "LayoutModel",
          "state": {
            "_view_name": "LayoutView",
            "grid_template_rows": null,
            "right": null,
            "justify_content": null,
            "_view_module": "@jupyter-widgets/base",
            "overflow": null,
            "_model_module_version": "1.2.0",
            "_view_count": null,
            "flex_flow": null,
            "width": null,
            "min_width": null,
            "border": null,
            "align_items": null,
            "bottom": null,
            "_model_module": "@jupyter-widgets/base",
            "top": null,
            "grid_column": null,
            "overflow_y": null,
            "overflow_x": null,
            "grid_auto_flow": null,
            "grid_area": null,
            "grid_template_columns": null,
            "flex": null,
            "_model_name": "LayoutModel",
            "justify_items": null,
            "grid_row": null,
            "max_height": null,
            "align_content": null,
            "visibility": null,
            "align_self": null,
            "height": null,
            "min_height": null,
            "padding": null,
            "grid_auto_rows": null,
            "grid_gap": null,
            "max_width": null,
            "order": null,
            "_view_module_version": "1.2.0",
            "grid_template_areas": null,
            "object_position": null,
            "object_fit": null,
            "grid_auto_columns": null,
            "margin": null,
            "display": null,
            "left": null
          }
        }
      }
    }
  },
  "cells": [
    {
      "cell_type": "markdown",
      "metadata": {
        "id": "view-in-github",
        "colab_type": "text"
      },
      "source": [
        "<a href=\"https://colab.research.google.com/github/skywalker0803r/works/blob/master/%E5%8D%97%E4%BA%9EPA%E5%BB%A0%E8%B3%87%E6%96%99%E5%88%86%E6%9E%90_R6_1219.ipynb\" target=\"_parent\"><img src=\"https://colab.research.google.com/assets/colab-badge.svg\" alt=\"Open In Colab\"/></a>"
      ]
    },
    {
      "cell_type": "code",
      "metadata": {
        "id": "n2anv5qCIavx",
        "colab_type": "code",
        "outputId": "41c00ea6-738c-4e78-f0ad-e1b2d2b3639a",
        "colab": {
          "base_uri": "https://localhost:8080/",
          "height": 34
        }
      },
      "source": [
        "from google.colab import drive\n",
        "import gc\n",
        "drive.mount('/content/drive')\n",
        "gc.collect()\n",
        "import seaborn as sns\n",
        "import numpy as np"
      ],
      "execution_count": 89,
      "outputs": [
        {
          "output_type": "stream",
          "text": [
            "Drive already mounted at /content/drive; to attempt to forcibly remount, call drive.mount(\"/content/drive\", force_remount=True).\n"
          ],
          "name": "stdout"
        }
      ]
    },
    {
      "cell_type": "markdown",
      "metadata": {
        "id": "W3kuAcKQIs38",
        "colab_type": "text"
      },
      "source": [
        "# Load data"
      ]
    },
    {
      "cell_type": "code",
      "metadata": {
        "id": "nvS8z6N6IiR9",
        "colab_type": "code",
        "outputId": "5ed0578e-b6e4-4d0a-8fe1-d9173c3b400f",
        "colab": {
          "base_uri": "https://localhost:8080/",
          "height": 485,
          "referenced_widgets": [
            "4144c933f2314c899a274bb65bc33dcb",
            "7e2342b794ea47a1a1cf07a88f0258b3",
            "ad644503fa224281b67841d55608ce45",
            "80a877733f014b778fc6897b0ac35b7b",
            "62fb3ef7c4e2478a8be88c287ff469a8",
            "1e095b76ebeb4057adbbd85b57f744c2",
            "e7b47657456d4fe9b8f021ed1d42e9c1",
            "2f904e3ac74541dc840a25f518463ad8"
          ]
        }
      },
      "source": [
        "import pandas as pd\n",
        "from  tqdm import tqdm_notebook as tqdm\n",
        "\n",
        "# load\n",
        "path = '/content/drive/My Drive/南亞PA廠/PA_201605-201909R6.xlsx'\n",
        "df = pd.read_excel(path,index_col=0,parse_dates = True)\n",
        "\n",
        "# columns to_numeric\n",
        "for col in tqdm(df.columns):\n",
        "  df[col] = pd.to_numeric(df[col],errors='coerce')\n",
        "\n",
        "# add target\n",
        "df['target'] =  df['MLPAP_FQ-0619.PV']/df['MLPAP_FQI-0997.PV']\n",
        "\n",
        "gc.collect()\n",
        "\n",
        "# show\n",
        "print(df.shape)\n",
        "df.tail()"
      ],
      "execution_count": 90,
      "outputs": [
        {
          "output_type": "display_data",
          "data": {
            "application/vnd.jupyter.widget-view+json": {
              "model_id": "4144c933f2314c899a274bb65bc33dcb",
              "version_minor": 0,
              "version_major": 2
            },
            "text/plain": [
              "HBox(children=(IntProgress(value=0, max=71), HTML(value='')))"
            ]
          },
          "metadata": {
            "tags": []
          }
        },
        {
          "output_type": "stream",
          "text": [
            "\n",
            "(58081, 72)\n"
          ],
          "name": "stdout"
        },
        {
          "output_type": "execute_result",
          "data": {
            "text/html": [
              "<div>\n",
              "<style scoped>\n",
              "    .dataframe tbody tr th:only-of-type {\n",
              "        vertical-align: middle;\n",
              "    }\n",
              "\n",
              "    .dataframe tbody tr th {\n",
              "        vertical-align: top;\n",
              "    }\n",
              "\n",
              "    .dataframe thead th {\n",
              "        text-align: right;\n",
              "    }\n",
              "</style>\n",
              "<table border=\"1\" class=\"dataframe\">\n",
              "  <thead>\n",
              "    <tr style=\"text-align: right;\">\n",
              "      <th></th>\n",
              "      <th>MLPAP_TI-0706B02</th>\n",
              "      <th>MLPAP_TI-0706B03</th>\n",
              "      <th>MLPAP_TI-0706B04</th>\n",
              "      <th>MLPAP_TI-0706B05</th>\n",
              "      <th>MLPAP_TI-0706B06</th>\n",
              "      <th>MLPAP_TI-0706B07</th>\n",
              "      <th>MLPAP_TI-0706B08</th>\n",
              "      <th>MLPAP_TI-0706B09</th>\n",
              "      <th>MLPAP_TI-0706B10</th>\n",
              "      <th>MLPAP_TI-0706B11</th>\n",
              "      <th>MLPAP_TI-0706B12</th>\n",
              "      <th>MLPAP_TI-0706B13</th>\n",
              "      <th>MLPAP_TI-0706B14</th>\n",
              "      <th>MLPAP_TI-0706B15</th>\n",
              "      <th>MLPAP_TI-0706B16</th>\n",
              "      <th>MLPAP_TI-0706B17</th>\n",
              "      <th>MLPAP_TI-0706B18</th>\n",
              "      <th>MLPAP_TI-0706B19</th>\n",
              "      <th>MLPAP_TI-0706B20</th>\n",
              "      <th>MLPAP_TI-0706B21</th>\n",
              "      <th>MLPAP_TI-0706B22</th>\n",
              "      <th>MLPAP_TI-0706B23</th>\n",
              "      <th>MLPAP_TI-0706B24</th>\n",
              "      <th>MLPAP_TJR-0715A1.PV</th>\n",
              "      <th>MLPAP_TJR-0715A2.PV</th>\n",
              "      <th>MLPAP_TJR-0715B1.PV</th>\n",
              "      <th>MLPAP_TJR-0715B2.PV</th>\n",
              "      <th>MLPAP_TJR-0720A1.PV</th>\n",
              "      <th>MLPAP_TJR-0720A2.PV</th>\n",
              "      <th>MLPAP_TJR-0720B1.PV</th>\n",
              "      <th>MLPAP_TJR-0720B2.PV</th>\n",
              "      <th>MLPAP_TJR-0762A1.PV</th>\n",
              "      <th>MLPAP_TJR-0762A2.PV</th>\n",
              "      <th>MLPAP_TJR-0762B1.PV</th>\n",
              "      <th>MLPAP_TJR-0762B2.PV</th>\n",
              "      <th>MLPAP_TI-0706A02</th>\n",
              "      <th>MLPAP_TI-0706B01</th>\n",
              "      <th>MLPAP_TI-0706C01</th>\n",
              "      <th>MLPAP_TI-0706D01</th>\n",
              "      <th>MLPAP_TI-0716B01</th>\n",
              "      <th>MLPAP_TI-0716C01</th>\n",
              "      <th>MLPAP_TI-0716D01</th>\n",
              "      <th>MLPAP_TI-0716E01</th>\n",
              "      <th>MLPAP_TI-0716A01</th>\n",
              "      <th>MLPAP_TI-0706E01</th>\n",
              "      <th>MLPAP_TI-0706A01</th>\n",
              "      <th>MLPAP_TI-0716D02</th>\n",
              "      <th>MLPAP_TJC-0627.PV</th>\n",
              "      <th>MLPAP_TRC-0610.PV</th>\n",
              "      <th>MLPAP_FR-0632.PV</th>\n",
              "      <th>MLPAP_FQ-0619.PV</th>\n",
              "      <th>MLPAP_TIC-0757A.PV</th>\n",
              "      <th>MLPAP_TI-0757B.PV</th>\n",
              "      <th>MLPAP_PIC-0741.PV</th>\n",
              "      <th>MLPAP_LIC-0738.PV</th>\n",
              "      <th>MLPAP_PIC-0761.PV</th>\n",
              "      <th>MLPAP_TRC-0762.PV</th>\n",
              "      <th>MLPAP_LRC-0729.PV</th>\n",
              "      <th>MLPAP_TIC-1721.PV</th>\n",
              "      <th>MLPAP_TRC-1734.PV</th>\n",
              "      <th>MLPAP_TJR-0721.PV</th>\n",
              "      <th>MLPAP_FQI-0997.PV</th>\n",
              "      <th>DATA OF USE</th>\n",
              "      <th>MLPAP_FR-0755.PV</th>\n",
              "      <th>MLPAP_FR-0755PV(轉換後)</th>\n",
              "      <th>MLPAP_FR-0791.PV</th>\n",
              "      <th>MLPAP_FI-V211.PV</th>\n",
              "      <th>MLPAP_FI-V211.PV(轉換後)</th>\n",
              "      <th>MLPAP_PI-0658.PV</th>\n",
              "      <th>MLPAP_TIC-0757.PV</th>\n",
              "      <th>MLPAP_V125-PHD</th>\n",
              "      <th>target</th>\n",
              "    </tr>\n",
              "  </thead>\n",
              "  <tbody>\n",
              "    <tr>\n",
              "      <th>2019-08-31 22:00:00</th>\n",
              "      <td>88.0</td>\n",
              "      <td>88.0</td>\n",
              "      <td>87.0</td>\n",
              "      <td>88.0</td>\n",
              "      <td>87.0</td>\n",
              "      <td>87.0</td>\n",
              "      <td>87.0</td>\n",
              "      <td>87.0</td>\n",
              "      <td>86.000000</td>\n",
              "      <td>86.0</td>\n",
              "      <td>86.0</td>\n",
              "      <td>86.0</td>\n",
              "      <td>86.0</td>\n",
              "      <td>86.000000</td>\n",
              "      <td>85.0</td>\n",
              "      <td>85.0</td>\n",
              "      <td>84.0</td>\n",
              "      <td>85.0</td>\n",
              "      <td>84.0</td>\n",
              "      <td>82.0</td>\n",
              "      <td>83.0</td>\n",
              "      <td>84.0</td>\n",
              "      <td>83.0</td>\n",
              "      <td>88.251274</td>\n",
              "      <td>82.400002</td>\n",
              "      <td>87.500824</td>\n",
              "      <td>81.800003</td>\n",
              "      <td>0.0</td>\n",
              "      <td>81.048729</td>\n",
              "      <td>83.500000</td>\n",
              "      <td>95.000000</td>\n",
              "      <td>0.0</td>\n",
              "      <td>92.500000</td>\n",
              "      <td>88.900002</td>\n",
              "      <td>87.900002</td>\n",
              "      <td>88.0</td>\n",
              "      <td>81.0</td>\n",
              "      <td>88.0</td>\n",
              "      <td>82.0</td>\n",
              "      <td>93.0</td>\n",
              "      <td>81.0</td>\n",
              "      <td>89.0</td>\n",
              "      <td>106.0</td>\n",
              "      <td>87.0</td>\n",
              "      <td>89.000000</td>\n",
              "      <td>85.0</td>\n",
              "      <td>83.0</td>\n",
              "      <td>29.351271</td>\n",
              "      <td>179.899994</td>\n",
              "      <td>0.0</td>\n",
              "      <td>0.0</td>\n",
              "      <td>50.0</td>\n",
              "      <td>0.0</td>\n",
              "      <td>0.3</td>\n",
              "      <td>86.529999</td>\n",
              "      <td>0.3</td>\n",
              "      <td>92.500000</td>\n",
              "      <td>0.0</td>\n",
              "      <td>61.402542</td>\n",
              "      <td>179.000000</td>\n",
              "      <td>65.900002</td>\n",
              "      <td>0.0</td>\n",
              "      <td>58077</td>\n",
              "      <td>4.53</td>\n",
              "      <td>4.523893</td>\n",
              "      <td>3.084818</td>\n",
              "      <td>128.298767</td>\n",
              "      <td>128.125806</td>\n",
              "      <td>-1.0</td>\n",
              "      <td>-50.0</td>\n",
              "      <td>0.008</td>\n",
              "      <td>NaN</td>\n",
              "    </tr>\n",
              "    <tr>\n",
              "      <th>2019-08-31 22:30:00</th>\n",
              "      <td>88.0</td>\n",
              "      <td>88.0</td>\n",
              "      <td>87.0</td>\n",
              "      <td>88.0</td>\n",
              "      <td>87.0</td>\n",
              "      <td>87.0</td>\n",
              "      <td>87.0</td>\n",
              "      <td>87.0</td>\n",
              "      <td>86.991974</td>\n",
              "      <td>86.0</td>\n",
              "      <td>86.0</td>\n",
              "      <td>86.0</td>\n",
              "      <td>86.0</td>\n",
              "      <td>85.008026</td>\n",
              "      <td>85.0</td>\n",
              "      <td>85.0</td>\n",
              "      <td>84.0</td>\n",
              "      <td>85.0</td>\n",
              "      <td>84.0</td>\n",
              "      <td>82.0</td>\n",
              "      <td>83.0</td>\n",
              "      <td>84.0</td>\n",
              "      <td>83.0</td>\n",
              "      <td>88.402390</td>\n",
              "      <td>82.500801</td>\n",
              "      <td>87.500801</td>\n",
              "      <td>81.699997</td>\n",
              "      <td>0.0</td>\n",
              "      <td>81.199997</td>\n",
              "      <td>83.500801</td>\n",
              "      <td>95.297592</td>\n",
              "      <td>0.0</td>\n",
              "      <td>92.548805</td>\n",
              "      <td>88.702408</td>\n",
              "      <td>87.800003</td>\n",
              "      <td>88.0</td>\n",
              "      <td>81.0</td>\n",
              "      <td>88.0</td>\n",
              "      <td>82.0</td>\n",
              "      <td>93.0</td>\n",
              "      <td>81.0</td>\n",
              "      <td>89.0</td>\n",
              "      <td>106.0</td>\n",
              "      <td>87.0</td>\n",
              "      <td>89.000000</td>\n",
              "      <td>85.0</td>\n",
              "      <td>83.0</td>\n",
              "      <td>29.299999</td>\n",
              "      <td>179.899994</td>\n",
              "      <td>0.0</td>\n",
              "      <td>0.0</td>\n",
              "      <td>50.0</td>\n",
              "      <td>0.0</td>\n",
              "      <td>0.3</td>\n",
              "      <td>86.400002</td>\n",
              "      <td>0.3</td>\n",
              "      <td>92.500000</td>\n",
              "      <td>0.0</td>\n",
              "      <td>59.948807</td>\n",
              "      <td>180.800003</td>\n",
              "      <td>66.000000</td>\n",
              "      <td>0.0</td>\n",
              "      <td>58078</td>\n",
              "      <td>4.40</td>\n",
              "      <td>4.394068</td>\n",
              "      <td>1.527576</td>\n",
              "      <td>130.698090</td>\n",
              "      <td>130.521894</td>\n",
              "      <td>-1.0</td>\n",
              "      <td>-50.0</td>\n",
              "      <td>0.008</td>\n",
              "      <td>NaN</td>\n",
              "    </tr>\n",
              "    <tr>\n",
              "      <th>2019-08-31 23:00:00</th>\n",
              "      <td>88.0</td>\n",
              "      <td>88.0</td>\n",
              "      <td>87.0</td>\n",
              "      <td>88.0</td>\n",
              "      <td>87.0</td>\n",
              "      <td>87.0</td>\n",
              "      <td>87.0</td>\n",
              "      <td>87.0</td>\n",
              "      <td>86.992149</td>\n",
              "      <td>86.0</td>\n",
              "      <td>86.0</td>\n",
              "      <td>86.0</td>\n",
              "      <td>86.0</td>\n",
              "      <td>85.007851</td>\n",
              "      <td>85.0</td>\n",
              "      <td>85.0</td>\n",
              "      <td>84.0</td>\n",
              "      <td>85.0</td>\n",
              "      <td>84.0</td>\n",
              "      <td>82.0</td>\n",
              "      <td>83.0</td>\n",
              "      <td>84.0</td>\n",
              "      <td>83.0</td>\n",
              "      <td>88.295456</td>\n",
              "      <td>82.500000</td>\n",
              "      <td>87.699211</td>\n",
              "      <td>81.699997</td>\n",
              "      <td>0.0</td>\n",
              "      <td>81.204544</td>\n",
              "      <td>83.500786</td>\n",
              "      <td>95.000786</td>\n",
              "      <td>0.0</td>\n",
              "      <td>92.599998</td>\n",
              "      <td>88.900787</td>\n",
              "      <td>87.800003</td>\n",
              "      <td>88.0</td>\n",
              "      <td>81.0</td>\n",
              "      <td>88.0</td>\n",
              "      <td>82.0</td>\n",
              "      <td>93.0</td>\n",
              "      <td>81.0</td>\n",
              "      <td>89.0</td>\n",
              "      <td>106.0</td>\n",
              "      <td>87.0</td>\n",
              "      <td>88.489616</td>\n",
              "      <td>85.0</td>\n",
              "      <td>83.0</td>\n",
              "      <td>29.248865</td>\n",
              "      <td>179.699997</td>\n",
              "      <td>0.0</td>\n",
              "      <td>0.0</td>\n",
              "      <td>50.0</td>\n",
              "      <td>0.0</td>\n",
              "      <td>0.3</td>\n",
              "      <td>86.490005</td>\n",
              "      <td>0.3</td>\n",
              "      <td>92.599998</td>\n",
              "      <td>0.0</td>\n",
              "      <td>60.590916</td>\n",
              "      <td>180.500000</td>\n",
              "      <td>66.099998</td>\n",
              "      <td>0.0</td>\n",
              "      <td>58079</td>\n",
              "      <td>4.57</td>\n",
              "      <td>4.563839</td>\n",
              "      <td>3.129686</td>\n",
              "      <td>129.700394</td>\n",
              "      <td>129.525543</td>\n",
              "      <td>-1.0</td>\n",
              "      <td>-50.0</td>\n",
              "      <td>0.008</td>\n",
              "      <td>NaN</td>\n",
              "    </tr>\n",
              "    <tr>\n",
              "      <th>2019-08-31 23:30:00</th>\n",
              "      <td>88.0</td>\n",
              "      <td>88.0</td>\n",
              "      <td>87.0</td>\n",
              "      <td>88.0</td>\n",
              "      <td>87.0</td>\n",
              "      <td>87.0</td>\n",
              "      <td>87.0</td>\n",
              "      <td>87.0</td>\n",
              "      <td>87.000000</td>\n",
              "      <td>86.0</td>\n",
              "      <td>86.0</td>\n",
              "      <td>86.0</td>\n",
              "      <td>86.0</td>\n",
              "      <td>86.000000</td>\n",
              "      <td>85.0</td>\n",
              "      <td>85.0</td>\n",
              "      <td>84.0</td>\n",
              "      <td>85.0</td>\n",
              "      <td>84.0</td>\n",
              "      <td>82.0</td>\n",
              "      <td>83.0</td>\n",
              "      <td>84.0</td>\n",
              "      <td>83.0</td>\n",
              "      <td>88.248802</td>\n",
              "      <td>82.500000</td>\n",
              "      <td>87.501686</td>\n",
              "      <td>81.800003</td>\n",
              "      <td>0.0</td>\n",
              "      <td>81.199997</td>\n",
              "      <td>83.599998</td>\n",
              "      <td>95.199150</td>\n",
              "      <td>0.0</td>\n",
              "      <td>92.599998</td>\n",
              "      <td>88.999191</td>\n",
              "      <td>87.800003</td>\n",
              "      <td>88.0</td>\n",
              "      <td>81.0</td>\n",
              "      <td>88.0</td>\n",
              "      <td>82.0</td>\n",
              "      <td>93.0</td>\n",
              "      <td>81.0</td>\n",
              "      <td>89.0</td>\n",
              "      <td>106.0</td>\n",
              "      <td>87.0</td>\n",
              "      <td>88.000000</td>\n",
              "      <td>85.0</td>\n",
              "      <td>83.0</td>\n",
              "      <td>29.200001</td>\n",
              "      <td>179.600006</td>\n",
              "      <td>0.0</td>\n",
              "      <td>0.0</td>\n",
              "      <td>50.0</td>\n",
              "      <td>0.0</td>\n",
              "      <td>0.3</td>\n",
              "      <td>86.639999</td>\n",
              "      <td>0.3</td>\n",
              "      <td>92.599998</td>\n",
              "      <td>0.0</td>\n",
              "      <td>60.353588</td>\n",
              "      <td>173.600006</td>\n",
              "      <td>66.099998</td>\n",
              "      <td>0.0</td>\n",
              "      <td>58080</td>\n",
              "      <td>4.48</td>\n",
              "      <td>4.473960</td>\n",
              "      <td>3.697329</td>\n",
              "      <td>129.000000</td>\n",
              "      <td>128.826093</td>\n",
              "      <td>-1.0</td>\n",
              "      <td>-50.0</td>\n",
              "      <td>0.008</td>\n",
              "      <td>NaN</td>\n",
              "    </tr>\n",
              "    <tr>\n",
              "      <th>2019-09-01 00:00:00</th>\n",
              "      <td>88.0</td>\n",
              "      <td>88.0</td>\n",
              "      <td>87.0</td>\n",
              "      <td>88.0</td>\n",
              "      <td>87.0</td>\n",
              "      <td>87.0</td>\n",
              "      <td>87.0</td>\n",
              "      <td>87.0</td>\n",
              "      <td>87.000000</td>\n",
              "      <td>86.0</td>\n",
              "      <td>86.0</td>\n",
              "      <td>86.0</td>\n",
              "      <td>86.0</td>\n",
              "      <td>86.000000</td>\n",
              "      <td>85.0</td>\n",
              "      <td>85.0</td>\n",
              "      <td>84.0</td>\n",
              "      <td>85.0</td>\n",
              "      <td>84.0</td>\n",
              "      <td>82.0</td>\n",
              "      <td>83.0</td>\n",
              "      <td>84.0</td>\n",
              "      <td>83.0</td>\n",
              "      <td>88.199997</td>\n",
              "      <td>82.500824</td>\n",
              "      <td>87.699135</td>\n",
              "      <td>81.699997</td>\n",
              "      <td>0.0</td>\n",
              "      <td>81.253754</td>\n",
              "      <td>83.599998</td>\n",
              "      <td>95.100861</td>\n",
              "      <td>0.0</td>\n",
              "      <td>92.651245</td>\n",
              "      <td>88.900002</td>\n",
              "      <td>87.800003</td>\n",
              "      <td>88.0</td>\n",
              "      <td>81.0</td>\n",
              "      <td>88.0</td>\n",
              "      <td>82.0</td>\n",
              "      <td>93.0</td>\n",
              "      <td>81.0</td>\n",
              "      <td>89.0</td>\n",
              "      <td>106.0</td>\n",
              "      <td>87.0</td>\n",
              "      <td>88.511322</td>\n",
              "      <td>85.0</td>\n",
              "      <td>83.0</td>\n",
              "      <td>29.200001</td>\n",
              "      <td>179.800003</td>\n",
              "      <td>0.0</td>\n",
              "      <td>0.0</td>\n",
              "      <td>50.0</td>\n",
              "      <td>0.0</td>\n",
              "      <td>0.3</td>\n",
              "      <td>86.570000</td>\n",
              "      <td>0.3</td>\n",
              "      <td>92.699135</td>\n",
              "      <td>0.0</td>\n",
              "      <td>59.848751</td>\n",
              "      <td>180.500000</td>\n",
              "      <td>66.099998</td>\n",
              "      <td>0.0</td>\n",
              "      <td>58081</td>\n",
              "      <td>4.50</td>\n",
              "      <td>4.493933</td>\n",
              "      <td>2.785345</td>\n",
              "      <td>130.401550</td>\n",
              "      <td>130.225754</td>\n",
              "      <td>-1.0</td>\n",
              "      <td>-50.0</td>\n",
              "      <td>0.008</td>\n",
              "      <td>NaN</td>\n",
              "    </tr>\n",
              "  </tbody>\n",
              "</table>\n",
              "</div>"
            ],
            "text/plain": [
              "                     MLPAP_TI-0706B02  MLPAP_TI-0706B03  ...  MLPAP_V125-PHD  target\n",
              "2019-08-31 22:00:00              88.0              88.0  ...           0.008     NaN\n",
              "2019-08-31 22:30:00              88.0              88.0  ...           0.008     NaN\n",
              "2019-08-31 23:00:00              88.0              88.0  ...           0.008     NaN\n",
              "2019-08-31 23:30:00              88.0              88.0  ...           0.008     NaN\n",
              "2019-09-01 00:00:00              88.0              88.0  ...           0.008     NaN\n",
              "\n",
              "[5 rows x 72 columns]"
            ]
          },
          "metadata": {
            "tags": []
          },
          "execution_count": 90
        }
      ]
    },
    {
      "cell_type": "markdown",
      "metadata": {
        "id": "bA2_wcCJg70Q",
        "colab_type": "text"
      },
      "source": [
        "# 物理上來看這個目標值 合理範圍應該在0~2 "
      ]
    },
    {
      "cell_type": "code",
      "metadata": {
        "id": "GfFP1Fwf1bdL",
        "colab_type": "code",
        "colab": {
          "base_uri": "https://localhost:8080/",
          "height": 282
        },
        "outputId": "f347316d-d7b8-4bc3-879c-91c14927b35a"
      },
      "source": [
        "sns.kdeplot(df['target'].clip(0,2))"
      ],
      "execution_count": 91,
      "outputs": [
        {
          "output_type": "execute_result",
          "data": {
            "text/plain": [
              "<matplotlib.axes._subplots.AxesSubplot at 0x7f54e7fb0da0>"
            ]
          },
          "metadata": {
            "tags": []
          },
          "execution_count": 91
        },
        {
          "output_type": "display_data",
          "data": {
            "image/png": "[encoded data removed]",
            "text/plain": [
              "<Figure size 432x288 with 1 Axes>"
            ]
          },
          "metadata": {
            "tags": []
          }
        }
      ]
    },
    {
      "cell_type": "markdown",
      "metadata": {
        "id": "ZG7BYy9x4NaT",
        "colab_type": "text"
      },
      "source": [
        "# 看出來目標值大概落在0.9 這裡進一步將期限縮在0.8~1.0之間來看"
      ]
    },
    {
      "cell_type": "code",
      "metadata": {
        "id": "bGpbvDIS3bG7",
        "colab_type": "code",
        "colab": {
          "base_uri": "https://localhost:8080/",
          "height": 282
        },
        "outputId": "d349bc96-1f38-4465-8034-1ac7008bf99d"
      },
      "source": [
        "df = df.loc[(df['target']>0.8)&(df['target']<1.0)]\n",
        "sns.kdeplot(df['target'])"
      ],
      "execution_count": 92,
      "outputs": [
        {
          "output_type": "execute_result",
          "data": {
            "text/plain": [
              "<matplotlib.axes._subplots.AxesSubplot at 0x7f54f30cbb00>"
            ]
          },
          "metadata": {
            "tags": []
          },
          "execution_count": 92
        },
        {
          "output_type": "display_data",
          "data": {
            "image/png": "[encoded data removed]",
            "text/plain": [
              "<Figure size 432x288 with 1 Axes>"
            ]
          },
          "metadata": {
            "tags": []
          }
        }
      ]
    },
    {
      "cell_type": "markdown",
      "metadata": {
        "id": "QWJ0owUE4an2",
        "colab_type": "text"
      },
      "source": [
        "# 根據上面分佈 計算平均值 標準差 lb , ub"
      ]
    },
    {
      "cell_type": "code",
      "metadata": {
        "id": "u10UYI94g7_6",
        "colab_type": "code",
        "outputId": "e4074c71-566c-4265-a2f8-0181c4db3a80",
        "colab": {
          "base_uri": "https://localhost:8080/",
          "height": 300
        }
      },
      "source": [
        "lb = df['target'].mean() - df['target'].std()*3\n",
        "ub = df['target'].mean() + df['target'].std()*3\n",
        "print('lb {} ub {}'.format(lb,ub))\n",
        "df = df.loc[(df['target']>lb)&(df['target']<ub)]\n",
        "sns.kdeplot(df['target'])"
      ],
      "execution_count": 93,
      "outputs": [
        {
          "output_type": "stream",
          "text": [
            "lb 0.8550444731989257 ub 0.9603764550555531\n"
          ],
          "name": "stdout"
        },
        {
          "output_type": "execute_result",
          "data": {
            "text/plain": [
              "<matplotlib.axes._subplots.AxesSubplot at 0x7f54f42fb940>"
            ]
          },
          "metadata": {
            "tags": []
          },
          "execution_count": 93
        },
        {
          "output_type": "display_data",
          "data": {
            "image/png": "[encoded data removed]",
            "text/plain": [
              "<Figure size 432x288 with 1 Axes>"
            ]
          },
          "metadata": {
            "tags": []
          }
        }
      ]
    },
    {
      "cell_type": "markdown",
      "metadata": {
        "id": "9FZ98MmZRv53",
        "colab_type": "text"
      },
      "source": [
        "# Load tag盤點表"
      ]
    },
    {
      "cell_type": "code",
      "metadata": {
        "id": "btrkEFij5q5y",
        "colab_type": "code",
        "colab": {
          "base_uri": "https://localhost:8080/",
          "height": 34
        },
        "outputId": "7b5eb6a0-06f6-42d8-da3c-6945d02f9698"
      },
      "source": [
        "gc.collect()"
      ],
      "execution_count": 49,
      "outputs": [
        {
          "output_type": "execute_result",
          "data": {
            "text/plain": [
              "0"
            ]
          },
          "metadata": {
            "tags": []
          },
          "execution_count": 49
        }
      ]
    },
    {
      "cell_type": "code",
      "metadata": {
        "id": "MXPc3DU-RwDe",
        "colab_type": "code",
        "outputId": "91fc7863-38c9-4313-8513-989778206eb5",
        "colab": {
          "base_uri": "https://localhost:8080/",
          "height": 197
        }
      },
      "source": [
        "tag_sheet = pd.read_excel('/content/drive/My Drive/南亞PA廠/tag盤點表_新.xlsx')\n",
        "chinese_map = dict(zip(tag_sheet['TAG'],tag_sheet['chinese']))\n",
        "tag_sheet.head()"
      ],
      "execution_count": 56,
      "outputs": [
        {
          "output_type": "execute_result",
          "data": {
            "text/html": [
              "<div>\n",
              "<style scoped>\n",
              "    .dataframe tbody tr th:only-of-type {\n",
              "        vertical-align: middle;\n",
              "    }\n",
              "\n",
              "    .dataframe tbody tr th {\n",
              "        vertical-align: top;\n",
              "    }\n",
              "\n",
              "    .dataframe thead th {\n",
              "        text-align: right;\n",
              "    }\n",
              "</style>\n",
              "<table border=\"1\" class=\"dataframe\">\n",
              "  <thead>\n",
              "    <tr style=\"text-align: right;\">\n",
              "      <th></th>\n",
              "      <th>item</th>\n",
              "      <th>TAG</th>\n",
              "      <th>chinese</th>\n",
              "      <th>character</th>\n",
              "      <th>unit</th>\n",
              "      <th>category</th>\n",
              "      <th>period</th>\n",
              "      <th>min</th>\n",
              "      <th>max</th>\n",
              "      <th>推測顯著性(依製程經驗)</th>\n",
              "    </tr>\n",
              "  </thead>\n",
              "  <tbody>\n",
              "    <tr>\n",
              "      <th>0</th>\n",
              "      <td>1</td>\n",
              "      <td>MLPAP_TJC-0627.PV</td>\n",
              "      <td>OX預熱器出口溫度</td>\n",
              "      <td>溫度</td>\n",
              "      <td>℃</td>\n",
              "      <td>可控制因子</td>\n",
              "      <td>1分鐘2筆</td>\n",
              "      <td>140</td>\n",
              "      <td>160</td>\n",
              "      <td>***</td>\n",
              "    </tr>\n",
              "    <tr>\n",
              "      <th>1</th>\n",
              "      <td>2</td>\n",
              "      <td>MLPAP_TRC-0610.PV</td>\n",
              "      <td>空氣預熱器出口溫度</td>\n",
              "      <td>溫度</td>\n",
              "      <td>℃</td>\n",
              "      <td>可控制因子</td>\n",
              "      <td>1分鐘2筆</td>\n",
              "      <td>160</td>\n",
              "      <td>200</td>\n",
              "      <td>***</td>\n",
              "    </tr>\n",
              "    <tr>\n",
              "      <th>2</th>\n",
              "      <td>3</td>\n",
              "      <td>MLPAP_FR-0632.PV</td>\n",
              "      <td>汽機風量</td>\n",
              "      <td>流量</td>\n",
              "      <td>KNM3/HR</td>\n",
              "      <td>可控制因子</td>\n",
              "      <td>1分鐘2筆</td>\n",
              "      <td>30</td>\n",
              "      <td>90</td>\n",
              "      <td>****</td>\n",
              "    </tr>\n",
              "    <tr>\n",
              "      <th>3</th>\n",
              "      <td>4</td>\n",
              "      <td>MLPAP_FQ-0619.PV</td>\n",
              "      <td>OX入料量</td>\n",
              "      <td>流量</td>\n",
              "      <td>kg/HR</td>\n",
              "      <td>可控制因子</td>\n",
              "      <td>1分鐘2筆</td>\n",
              "      <td>2000</td>\n",
              "      <td>8000</td>\n",
              "      <td>****</td>\n",
              "    </tr>\n",
              "    <tr>\n",
              "      <th>4</th>\n",
              "      <td>5</td>\n",
              "      <td>MLPAP_TIC-0757A.PV</td>\n",
              "      <td>反應槽鹽浴溫度</td>\n",
              "      <td>溫度</td>\n",
              "      <td>℃</td>\n",
              "      <td>可控制因子</td>\n",
              "      <td>1分鐘2筆</td>\n",
              "      <td>345</td>\n",
              "      <td>365</td>\n",
              "      <td>****</td>\n",
              "    </tr>\n",
              "  </tbody>\n",
              "</table>\n",
              "</div>"
            ],
            "text/plain": [
              "   item                 TAG    chinese  ...   min   max 推測顯著性(依製程經驗)\n",
              "0     1   MLPAP_TJC-0627.PV  OX預熱器出口溫度  ...   140   160          ***\n",
              "1     2   MLPAP_TRC-0610.PV  空氣預熱器出口溫度  ...   160   200          ***\n",
              "2     3    MLPAP_FR-0632.PV       汽機風量  ...    30    90         ****\n",
              "3     4    MLPAP_FQ-0619.PV      OX入料量  ...  2000  8000         ****\n",
              "4     5  MLPAP_TIC-0757A.PV    反應槽鹽浴溫度  ...   345   365         ****\n",
              "\n",
              "[5 rows x 10 columns]"
            ]
          },
          "metadata": {
            "tags": []
          },
          "execution_count": 56
        }
      ]
    },
    {
      "cell_type": "markdown",
      "metadata": {
        "id": "PBEbuUTHR7jU",
        "colab_type": "text"
      },
      "source": [
        "# 定義可控制因子"
      ]
    },
    {
      "cell_type": "code",
      "metadata": {
        "id": "xAE6hJ5GR7zW",
        "colab_type": "code",
        "outputId": "b204b2b9-96d8-4840-afa7-c8a1b2713fe2",
        "colab": {
          "base_uri": "https://localhost:8080/",
          "height": 34
        }
      },
      "source": [
        "可控制因子 = tag_sheet[tag_sheet.category==\"可控制因子\"]['TAG'].values.tolist()\n",
        "print('可控制因子數量:',len(可控制因子))"
      ],
      "execution_count": 57,
      "outputs": [
        {
          "output_type": "stream",
          "text": [
            "可控制因子數量: 13\n"
          ],
          "name": "stdout"
        }
      ]
    },
    {
      "cell_type": "markdown",
      "metadata": {
        "id": "gr_3OHLpyO-j",
        "colab_type": "text"
      },
      "source": [
        "# 全部欄位線性相關程度"
      ]
    },
    {
      "cell_type": "code",
      "metadata": {
        "id": "MH4AaTKPyPKt",
        "colab_type": "code",
        "outputId": "3f01aedc-a76f-4857-8910-1b5e0336fa56",
        "colab": {
          "base_uri": "https://localhost:8080/",
          "height": 231
        }
      },
      "source": [
        "y_name = 'target'\n",
        "all_corrs = abs(df.corr(method='pearson'))\n",
        "all_corrs = all_corrs[[y_name]].sort_values(by=y_name,ascending=False)\n",
        "all_corrs['中文'] = all_corrs.index.map(chinese_map)\n",
        "all_corrs = all_corrs[['中文',y_name]]\n",
        "all_corrs.index.name = '英文代號'\n",
        "all_corrs.head(10).style.background_gradient()"
      ],
      "execution_count": 60,
      "outputs": [
        {
          "output_type": "execute_result",
          "data": {
            "text/html": [
              "<style  type=\"text/css\" >\n",
              "    #T_ea7107ee_2204_11ea_a49e_0242ac1c0002row0_col1 {\n",
              "            background-color:  #023858;\n",
              "            color:  #f1f1f1;\n",
              "        }    #T_ea7107ee_2204_11ea_a49e_0242ac1c0002row1_col1 {\n",
              "            background-color:  #eee9f3;\n",
              "            color:  #000000;\n",
              "        }    #T_ea7107ee_2204_11ea_a49e_0242ac1c0002row2_col1 {\n",
              "            background-color:  #faf2f8;\n",
              "            color:  #000000;\n",
              "        }    #T_ea7107ee_2204_11ea_a49e_0242ac1c0002row3_col1 {\n",
              "            background-color:  #fbf3f9;\n",
              "            color:  #000000;\n",
              "        }    #T_ea7107ee_2204_11ea_a49e_0242ac1c0002row4_col1 {\n",
              "            background-color:  #fbf3f9;\n",
              "            color:  #000000;\n",
              "        }    #T_ea7107ee_2204_11ea_a49e_0242ac1c0002row5_col1 {\n",
              "            background-color:  #fcf4fa;\n",
              "            color:  #000000;\n",
              "        }    #T_ea7107ee_2204_11ea_a49e_0242ac1c0002row6_col1 {\n",
              "            background-color:  #fcf4fa;\n",
              "            color:  #000000;\n",
              "        }    #T_ea7107ee_2204_11ea_a49e_0242ac1c0002row7_col1 {\n",
              "            background-color:  #fcf4fa;\n",
              "            color:  #000000;\n",
              "        }    #T_ea7107ee_2204_11ea_a49e_0242ac1c0002row8_col1 {\n",
              "            background-color:  #fdf5fa;\n",
              "            color:  #000000;\n",
              "        }    #T_ea7107ee_2204_11ea_a49e_0242ac1c0002row9_col1 {\n",
              "            background-color:  #fff7fb;\n",
              "            color:  #000000;\n",
              "        }</style><table id=\"T_ea7107ee_2204_11ea_a49e_0242ac1c0002\" ><thead>    <tr>        <th class=\"blank level0\" ></th>        <th class=\"col_heading level0 col0\" >中文</th>        <th class=\"col_heading level0 col1\" >target</th>    </tr>    <tr>        <th class=\"index_name level0\" >英文代號</th>        <th class=\"blank\" ></th>        <th class=\"blank\" ></th>    </tr></thead><tbody>\n",
              "                <tr>\n",
              "                        <th id=\"T_ea7107ee_2204_11ea_a49e_0242ac1c0002level0_row0\" class=\"row_heading level0 row0\" >target</th>\n",
              "                        <td id=\"T_ea7107ee_2204_11ea_a49e_0242ac1c0002row0_col0\" class=\"data row0 col0\" >nan</td>\n",
              "                        <td id=\"T_ea7107ee_2204_11ea_a49e_0242ac1c0002row0_col1\" class=\"data row0 col1\" >1</td>\n",
              "            </tr>\n",
              "            <tr>\n",
              "                        <th id=\"T_ea7107ee_2204_11ea_a49e_0242ac1c0002level0_row1\" class=\"row_heading level0 row1\" >MLPAP_LIC-0738.PV</th>\n",
              "                        <td id=\"T_ea7107ee_2204_11ea_a49e_0242ac1c0002row1_col0\" class=\"data row1 col0\" >汽鼓(V211)鍋爐水液位</td>\n",
              "                        <td id=\"T_ea7107ee_2204_11ea_a49e_0242ac1c0002row1_col1\" class=\"data row1 col1\" >0.359697</td>\n",
              "            </tr>\n",
              "            <tr>\n",
              "                        <th id=\"T_ea7107ee_2204_11ea_a49e_0242ac1c0002level0_row2\" class=\"row_heading level0 row2\" >MLPAP_TI-0706A01</th>\n",
              "                        <td id=\"T_ea7107ee_2204_11ea_a49e_0242ac1c0002row2_col0\" class=\"data row2 col0\" >反應槽觸媒溫度(CL1)_高度(1900)</td>\n",
              "                        <td id=\"T_ea7107ee_2204_11ea_a49e_0242ac1c0002row2_col1\" class=\"data row2 col1\" >0.305632</td>\n",
              "            </tr>\n",
              "            <tr>\n",
              "                        <th id=\"T_ea7107ee_2204_11ea_a49e_0242ac1c0002level0_row3\" class=\"row_heading level0 row3\" >MLPAP_FI-V211.PV(轉換後)</th>\n",
              "                        <td id=\"T_ea7107ee_2204_11ea_a49e_0242ac1c0002row3_col0\" class=\"data row3 col0\" >nan</td>\n",
              "                        <td id=\"T_ea7107ee_2204_11ea_a49e_0242ac1c0002row3_col1\" class=\"data row3 col1\" >0.298712</td>\n",
              "            </tr>\n",
              "            <tr>\n",
              "                        <th id=\"T_ea7107ee_2204_11ea_a49e_0242ac1c0002level0_row4\" class=\"row_heading level0 row4\" >MLPAP_FI-V211.PV</th>\n",
              "                        <td id=\"T_ea7107ee_2204_11ea_a49e_0242ac1c0002row4_col0\" class=\"data row4 col0\" >nan</td>\n",
              "                        <td id=\"T_ea7107ee_2204_11ea_a49e_0242ac1c0002row4_col1\" class=\"data row4 col1\" >0.298712</td>\n",
              "            </tr>\n",
              "            <tr>\n",
              "                        <th id=\"T_ea7107ee_2204_11ea_a49e_0242ac1c0002level0_row5\" class=\"row_heading level0 row5\" >MLPAP_TI-0716C01</th>\n",
              "                        <td id=\"T_ea7107ee_2204_11ea_a49e_0242ac1c0002row5_col0\" class=\"data row5 col0\" >反應槽觸媒溫度_高度(2715)</td>\n",
              "                        <td id=\"T_ea7107ee_2204_11ea_a49e_0242ac1c0002row5_col1\" class=\"data row5 col1\" >0.29495</td>\n",
              "            </tr>\n",
              "            <tr>\n",
              "                        <th id=\"T_ea7107ee_2204_11ea_a49e_0242ac1c0002level0_row6\" class=\"row_heading level0 row6\" >MLPAP_TJR-0721.PV</th>\n",
              "                        <td id=\"T_ea7107ee_2204_11ea_a49e_0242ac1c0002row6_col0\" class=\"data row6 col0\" >反應槽出口溫度</td>\n",
              "                        <td id=\"T_ea7107ee_2204_11ea_a49e_0242ac1c0002row6_col1\" class=\"data row6 col1\" >0.2941</td>\n",
              "            </tr>\n",
              "            <tr>\n",
              "                        <th id=\"T_ea7107ee_2204_11ea_a49e_0242ac1c0002level0_row7\" class=\"row_heading level0 row7\" >MLPAP_TI-0706B20</th>\n",
              "                        <td id=\"T_ea7107ee_2204_11ea_a49e_0242ac1c0002row7_col0\" class=\"data row7 col0\" >反應槽溫度_多點式(高度 2050)</td>\n",
              "                        <td id=\"T_ea7107ee_2204_11ea_a49e_0242ac1c0002row7_col1\" class=\"data row7 col1\" >0.292919</td>\n",
              "            </tr>\n",
              "            <tr>\n",
              "                        <th id=\"T_ea7107ee_2204_11ea_a49e_0242ac1c0002level0_row8\" class=\"row_heading level0 row8\" >MLPAP_TJR-0762A1.PV</th>\n",
              "                        <td id=\"T_ea7107ee_2204_11ea_a49e_0242ac1c0002row8_col0\" class=\"data row8 col0\" >鹽浴溫度</td>\n",
              "                        <td id=\"T_ea7107ee_2204_11ea_a49e_0242ac1c0002row8_col1\" class=\"data row8 col1\" >0.292678</td>\n",
              "            </tr>\n",
              "            <tr>\n",
              "                        <th id=\"T_ea7107ee_2204_11ea_a49e_0242ac1c0002level0_row9\" class=\"row_heading level0 row9\" >MLPAP_TI-0716D02</th>\n",
              "                        <td id=\"T_ea7107ee_2204_11ea_a49e_0242ac1c0002row9_col0\" class=\"data row9 col0\" >反應槽觸媒溫度(CL2)_高度(2380)</td>\n",
              "                        <td id=\"T_ea7107ee_2204_11ea_a49e_0242ac1c0002row9_col1\" class=\"data row9 col1\" >0.278681</td>\n",
              "            </tr>\n",
              "    </tbody></table>"
            ],
            "text/plain": [
              "<pandas.io.formats.style.Styler at 0x7f54e49389b0>"
            ]
          },
          "metadata": {
            "tags": []
          },
          "execution_count": 60
        }
      ]
    },
    {
      "cell_type": "markdown",
      "metadata": {
        "id": "X7pyUm7E7QiF",
        "colab_type": "text"
      },
      "source": [
        "# 全部欄位非線性相關程度"
      ]
    },
    {
      "cell_type": "code",
      "metadata": {
        "id": "xxwf2Igo7QtB",
        "colab_type": "code",
        "colab": {
          "base_uri": "https://localhost:8080/",
          "height": 231
        },
        "outputId": "ca3bc1d5-86d8-42e0-9b28-5857cc2adf97"
      },
      "source": [
        "y_name = 'target'\n",
        "all_corrs = abs(df.corr(method='spearman'))\n",
        "all_corrs = all_corrs[[y_name]].sort_values(by=y_name,ascending=False)\n",
        "all_corrs['中文'] = all_corrs.index.map(chinese_map)\n",
        "all_corrs = all_corrs[['中文',y_name]]\n",
        "all_corrs.index.name = '英文代號'\n",
        "all_corrs.head(10).style.background_gradient()"
      ],
      "execution_count": 61,
      "outputs": [
        {
          "output_type": "execute_result",
          "data": {
            "text/html": [
              "<style  type=\"text/css\" >\n",
              "    #T_03b13850_2205_11ea_a49e_0242ac1c0002row0_col1 {\n",
              "            background-color:  #023858;\n",
              "            color:  #f1f1f1;\n",
              "        }    #T_03b13850_2205_11ea_a49e_0242ac1c0002row1_col1 {\n",
              "            background-color:  #f4edf6;\n",
              "            color:  #000000;\n",
              "        }    #T_03b13850_2205_11ea_a49e_0242ac1c0002row2_col1 {\n",
              "            background-color:  #f7f0f7;\n",
              "            color:  #000000;\n",
              "        }    #T_03b13850_2205_11ea_a49e_0242ac1c0002row3_col1 {\n",
              "            background-color:  #fcf4fa;\n",
              "            color:  #000000;\n",
              "        }    #T_03b13850_2205_11ea_a49e_0242ac1c0002row4_col1 {\n",
              "            background-color:  #fdf5fa;\n",
              "            color:  #000000;\n",
              "        }    #T_03b13850_2205_11ea_a49e_0242ac1c0002row5_col1 {\n",
              "            background-color:  #fdf5fa;\n",
              "            color:  #000000;\n",
              "        }    #T_03b13850_2205_11ea_a49e_0242ac1c0002row6_col1 {\n",
              "            background-color:  #fdf5fa;\n",
              "            color:  #000000;\n",
              "        }    #T_03b13850_2205_11ea_a49e_0242ac1c0002row7_col1 {\n",
              "            background-color:  #fef6fa;\n",
              "            color:  #000000;\n",
              "        }    #T_03b13850_2205_11ea_a49e_0242ac1c0002row8_col1 {\n",
              "            background-color:  #fff7fb;\n",
              "            color:  #000000;\n",
              "        }    #T_03b13850_2205_11ea_a49e_0242ac1c0002row9_col1 {\n",
              "            background-color:  #fff7fb;\n",
              "            color:  #000000;\n",
              "        }</style><table id=\"T_03b13850_2205_11ea_a49e_0242ac1c0002\" ><thead>    <tr>        <th class=\"blank level0\" ></th>        <th class=\"col_heading level0 col0\" >中文</th>        <th class=\"col_heading level0 col1\" >target</th>    </tr>    <tr>        <th class=\"index_name level0\" >英文代號</th>        <th class=\"blank\" ></th>        <th class=\"blank\" ></th>    </tr></thead><tbody>\n",
              "                <tr>\n",
              "                        <th id=\"T_03b13850_2205_11ea_a49e_0242ac1c0002level0_row0\" class=\"row_heading level0 row0\" >target</th>\n",
              "                        <td id=\"T_03b13850_2205_11ea_a49e_0242ac1c0002row0_col0\" class=\"data row0 col0\" >nan</td>\n",
              "                        <td id=\"T_03b13850_2205_11ea_a49e_0242ac1c0002row0_col1\" class=\"data row0 col1\" >1</td>\n",
              "            </tr>\n",
              "            <tr>\n",
              "                        <th id=\"T_03b13850_2205_11ea_a49e_0242ac1c0002level0_row1\" class=\"row_heading level0 row1\" >MLPAP_LIC-0738.PV</th>\n",
              "                        <td id=\"T_03b13850_2205_11ea_a49e_0242ac1c0002row1_col0\" class=\"data row1 col0\" >汽鼓(V211)鍋爐水液位</td>\n",
              "                        <td id=\"T_03b13850_2205_11ea_a49e_0242ac1c0002row1_col1\" class=\"data row1 col1\" >0.339793</td>\n",
              "            </tr>\n",
              "            <tr>\n",
              "                        <th id=\"T_03b13850_2205_11ea_a49e_0242ac1c0002level0_row2\" class=\"row_heading level0 row2\" >MLPAP_TI-0706A01</th>\n",
              "                        <td id=\"T_03b13850_2205_11ea_a49e_0242ac1c0002row2_col0\" class=\"data row2 col0\" >反應槽觸媒溫度(CL1)_高度(1900)</td>\n",
              "                        <td id=\"T_03b13850_2205_11ea_a49e_0242ac1c0002row2_col1\" class=\"data row2 col1\" >0.325262</td>\n",
              "            </tr>\n",
              "            <tr>\n",
              "                        <th id=\"T_03b13850_2205_11ea_a49e_0242ac1c0002level0_row3\" class=\"row_heading level0 row3\" >MLPAP_TJR-0721.PV</th>\n",
              "                        <td id=\"T_03b13850_2205_11ea_a49e_0242ac1c0002row3_col0\" class=\"data row3 col0\" >反應槽出口溫度</td>\n",
              "                        <td id=\"T_03b13850_2205_11ea_a49e_0242ac1c0002row3_col1\" class=\"data row3 col1\" >0.300901</td>\n",
              "            </tr>\n",
              "            <tr>\n",
              "                        <th id=\"T_03b13850_2205_11ea_a49e_0242ac1c0002level0_row4\" class=\"row_heading level0 row4\" >MLPAP_FI-V211.PV</th>\n",
              "                        <td id=\"T_03b13850_2205_11ea_a49e_0242ac1c0002row4_col0\" class=\"data row4 col0\" >nan</td>\n",
              "                        <td id=\"T_03b13850_2205_11ea_a49e_0242ac1c0002row4_col1\" class=\"data row4 col1\" >0.29809</td>\n",
              "            </tr>\n",
              "            <tr>\n",
              "                        <th id=\"T_03b13850_2205_11ea_a49e_0242ac1c0002level0_row5\" class=\"row_heading level0 row5\" >MLPAP_FI-V211.PV(轉換後)</th>\n",
              "                        <td id=\"T_03b13850_2205_11ea_a49e_0242ac1c0002row5_col0\" class=\"data row5 col0\" >nan</td>\n",
              "                        <td id=\"T_03b13850_2205_11ea_a49e_0242ac1c0002row5_col1\" class=\"data row5 col1\" >0.29809</td>\n",
              "            </tr>\n",
              "            <tr>\n",
              "                        <th id=\"T_03b13850_2205_11ea_a49e_0242ac1c0002level0_row6\" class=\"row_heading level0 row6\" >MLPAP_TRC-0762.PV</th>\n",
              "                        <td id=\"T_03b13850_2205_11ea_a49e_0242ac1c0002row6_col0\" class=\"data row6 col0\" >鹽浴冷卻器(E112)入口溫度</td>\n",
              "                        <td id=\"T_03b13850_2205_11ea_a49e_0242ac1c0002row6_col1\" class=\"data row6 col1\" >0.29679</td>\n",
              "            </tr>\n",
              "            <tr>\n",
              "                        <th id=\"T_03b13850_2205_11ea_a49e_0242ac1c0002level0_row7\" class=\"row_heading level0 row7\" >MLPAP_TI-0706B20</th>\n",
              "                        <td id=\"T_03b13850_2205_11ea_a49e_0242ac1c0002row7_col0\" class=\"data row7 col0\" >反應槽溫度_多點式(高度 2050)</td>\n",
              "                        <td id=\"T_03b13850_2205_11ea_a49e_0242ac1c0002row7_col1\" class=\"data row7 col1\" >0.289943</td>\n",
              "            </tr>\n",
              "            <tr>\n",
              "                        <th id=\"T_03b13850_2205_11ea_a49e_0242ac1c0002level0_row8\" class=\"row_heading level0 row8\" >MLPAP_TI-0716C01</th>\n",
              "                        <td id=\"T_03b13850_2205_11ea_a49e_0242ac1c0002row8_col0\" class=\"data row8 col0\" >反應槽觸媒溫度_高度(2715)</td>\n",
              "                        <td id=\"T_03b13850_2205_11ea_a49e_0242ac1c0002row8_col1\" class=\"data row8 col1\" >0.286917</td>\n",
              "            </tr>\n",
              "            <tr>\n",
              "                        <th id=\"T_03b13850_2205_11ea_a49e_0242ac1c0002level0_row9\" class=\"row_heading level0 row9\" >MLPAP_TI-0716D02</th>\n",
              "                        <td id=\"T_03b13850_2205_11ea_a49e_0242ac1c0002row9_col0\" class=\"data row9 col0\" >反應槽觸媒溫度(CL2)_高度(2380)</td>\n",
              "                        <td id=\"T_03b13850_2205_11ea_a49e_0242ac1c0002row9_col1\" class=\"data row9 col1\" >0.284238</td>\n",
              "            </tr>\n",
              "    </tbody></table>"
            ],
            "text/plain": [
              "<pandas.io.formats.style.Styler at 0x7f54e49384a8>"
            ]
          },
          "metadata": {
            "tags": []
          },
          "execution_count": 61
        }
      ]
    },
    {
      "cell_type": "markdown",
      "metadata": {
        "id": "kb46h7bsyIMR",
        "colab_type": "text"
      },
      "source": [
        "# 可控制因子 線性相關程度"
      ]
    },
    {
      "cell_type": "code",
      "metadata": {
        "id": "UUu5vQ1FyIVu",
        "colab_type": "code",
        "outputId": "9548f5a1-5952-490a-e953-56688cd24a56",
        "colab": {
          "base_uri": "https://localhost:8080/",
          "height": 231
        }
      },
      "source": [
        "y_name = 'target'\n",
        "可控_corrs = abs(df[可控制因子+[y_name]].corr())\n",
        "可控_corrs = 可控_corrs[[y_name]].sort_values(by=y_name,ascending=False)\n",
        "可控_corrs['中文'] = 可控_corrs.index.map(chinese_map)\n",
        "可控_corrs = 可控_corrs[['中文',y_name]]\n",
        "可控_corrs.index.name = '英文代號'\n",
        "可控_corrs.head(10).style.background_gradient()"
      ],
      "execution_count": 63,
      "outputs": [
        {
          "output_type": "execute_result",
          "data": {
            "text/html": [
              "<style  type=\"text/css\" >\n",
              "    #T_52987956_2205_11ea_a49e_0242ac1c0002row0_col1 {\n",
              "            background-color:  #023858;\n",
              "            color:  #f1f1f1;\n",
              "        }    #T_52987956_2205_11ea_a49e_0242ac1c0002row1_col1 {\n",
              "            background-color:  #c6cce3;\n",
              "            color:  #000000;\n",
              "        }    #T_52987956_2205_11ea_a49e_0242ac1c0002row2_col1 {\n",
              "            background-color:  #e5e1ef;\n",
              "            color:  #000000;\n",
              "        }    #T_52987956_2205_11ea_a49e_0242ac1c0002row3_col1 {\n",
              "            background-color:  #e5e1ef;\n",
              "            color:  #000000;\n",
              "        }    #T_52987956_2205_11ea_a49e_0242ac1c0002row4_col1 {\n",
              "            background-color:  #e7e3f0;\n",
              "            color:  #000000;\n",
              "        }    #T_52987956_2205_11ea_a49e_0242ac1c0002row5_col1 {\n",
              "            background-color:  #ede7f2;\n",
              "            color:  #000000;\n",
              "        }    #T_52987956_2205_11ea_a49e_0242ac1c0002row6_col1 {\n",
              "            background-color:  #f1ebf4;\n",
              "            color:  #000000;\n",
              "        }    #T_52987956_2205_11ea_a49e_0242ac1c0002row7_col1 {\n",
              "            background-color:  #f1ebf5;\n",
              "            color:  #000000;\n",
              "        }    #T_52987956_2205_11ea_a49e_0242ac1c0002row8_col1 {\n",
              "            background-color:  #f5eff6;\n",
              "            color:  #000000;\n",
              "        }    #T_52987956_2205_11ea_a49e_0242ac1c0002row9_col1 {\n",
              "            background-color:  #fff7fb;\n",
              "            color:  #000000;\n",
              "        }</style><table id=\"T_52987956_2205_11ea_a49e_0242ac1c0002\" ><thead>    <tr>        <th class=\"blank level0\" ></th>        <th class=\"col_heading level0 col0\" >中文</th>        <th class=\"col_heading level0 col1\" >target</th>    </tr>    <tr>        <th class=\"index_name level0\" >英文代號</th>        <th class=\"blank\" ></th>        <th class=\"blank\" ></th>    </tr></thead><tbody>\n",
              "                <tr>\n",
              "                        <th id=\"T_52987956_2205_11ea_a49e_0242ac1c0002level0_row0\" class=\"row_heading level0 row0\" >target</th>\n",
              "                        <td id=\"T_52987956_2205_11ea_a49e_0242ac1c0002row0_col0\" class=\"data row0 col0\" >nan</td>\n",
              "                        <td id=\"T_52987956_2205_11ea_a49e_0242ac1c0002row0_col1\" class=\"data row0 col1\" >1</td>\n",
              "            </tr>\n",
              "            <tr>\n",
              "                        <th id=\"T_52987956_2205_11ea_a49e_0242ac1c0002level0_row1\" class=\"row_heading level0 row1\" >MLPAP_LIC-0738.PV</th>\n",
              "                        <td id=\"T_52987956_2205_11ea_a49e_0242ac1c0002row1_col0\" class=\"data row1 col0\" >汽鼓(V211)鍋爐水液位</td>\n",
              "                        <td id=\"T_52987956_2205_11ea_a49e_0242ac1c0002row1_col1\" class=\"data row1 col1\" >0.359697</td>\n",
              "            </tr>\n",
              "            <tr>\n",
              "                        <th id=\"T_52987956_2205_11ea_a49e_0242ac1c0002level0_row2\" class=\"row_heading level0 row2\" >MLPAP_TRC-0762.PV</th>\n",
              "                        <td id=\"T_52987956_2205_11ea_a49e_0242ac1c0002row2_col0\" class=\"data row2 col0\" >鹽浴冷卻器(E112)入口溫度</td>\n",
              "                        <td id=\"T_52987956_2205_11ea_a49e_0242ac1c0002row2_col1\" class=\"data row2 col1\" >0.253555</td>\n",
              "            </tr>\n",
              "            <tr>\n",
              "                        <th id=\"T_52987956_2205_11ea_a49e_0242ac1c0002level0_row3\" class=\"row_heading level0 row3\" >MLPAP_TIC-0757A.PV</th>\n",
              "                        <td id=\"T_52987956_2205_11ea_a49e_0242ac1c0002row3_col0\" class=\"data row3 col0\" >反應槽鹽浴溫度</td>\n",
              "                        <td id=\"T_52987956_2205_11ea_a49e_0242ac1c0002row3_col1\" class=\"data row3 col1\" >0.253197</td>\n",
              "            </tr>\n",
              "            <tr>\n",
              "                        <th id=\"T_52987956_2205_11ea_a49e_0242ac1c0002level0_row4\" class=\"row_heading level0 row4\" >MLPAP_TJC-0627.PV</th>\n",
              "                        <td id=\"T_52987956_2205_11ea_a49e_0242ac1c0002row4_col0\" class=\"data row4 col0\" >OX預熱器出口溫度</td>\n",
              "                        <td id=\"T_52987956_2205_11ea_a49e_0242ac1c0002row4_col1\" class=\"data row4 col1\" >0.244805</td>\n",
              "            </tr>\n",
              "            <tr>\n",
              "                        <th id=\"T_52987956_2205_11ea_a49e_0242ac1c0002level0_row5\" class=\"row_heading level0 row5\" >MLPAP_LRC-0729.PV</th>\n",
              "                        <td id=\"T_52987956_2205_11ea_a49e_0242ac1c0002row5_col0\" class=\"data row5 col0\" >鍋爐水液位控制</td>\n",
              "                        <td id=\"T_52987956_2205_11ea_a49e_0242ac1c0002row5_col1\" class=\"data row5 col1\" >0.224472</td>\n",
              "            </tr>\n",
              "            <tr>\n",
              "                        <th id=\"T_52987956_2205_11ea_a49e_0242ac1c0002level0_row6\" class=\"row_heading level0 row6\" >MLPAP_PIC-0741.PV</th>\n",
              "                        <td id=\"T_52987956_2205_11ea_a49e_0242ac1c0002row6_col0\" class=\"data row6 col0\" >汽鼓(V211)鍋爐水壓力</td>\n",
              "                        <td id=\"T_52987956_2205_11ea_a49e_0242ac1c0002row6_col1\" class=\"data row6 col1\" >0.200097</td>\n",
              "            </tr>\n",
              "            <tr>\n",
              "                        <th id=\"T_52987956_2205_11ea_a49e_0242ac1c0002level0_row7\" class=\"row_heading level0 row7\" >MLPAP_TIC-0757.PV</th>\n",
              "                        <td id=\"T_52987956_2205_11ea_a49e_0242ac1c0002row7_col0\" class=\"data row7 col0\" >反應器A/B側鹽浴溫度差</td>\n",
              "                        <td id=\"T_52987956_2205_11ea_a49e_0242ac1c0002row7_col1\" class=\"data row7 col1\" >0.195741</td>\n",
              "            </tr>\n",
              "            <tr>\n",
              "                        <th id=\"T_52987956_2205_11ea_a49e_0242ac1c0002level0_row8\" class=\"row_heading level0 row8\" >MLPAP_PIC-0761.PV</th>\n",
              "                        <td id=\"T_52987956_2205_11ea_a49e_0242ac1c0002row8_col0\" class=\"data row8 col0\" >鹽浴冷卻器(E112)出口壓力</td>\n",
              "                        <td id=\"T_52987956_2205_11ea_a49e_0242ac1c0002row8_col1\" class=\"data row8 col1\" >0.171847</td>\n",
              "            </tr>\n",
              "            <tr>\n",
              "                        <th id=\"T_52987956_2205_11ea_a49e_0242ac1c0002level0_row9\" class=\"row_heading level0 row9\" >MLPAP_FR-0632.PV</th>\n",
              "                        <td id=\"T_52987956_2205_11ea_a49e_0242ac1c0002row9_col0\" class=\"data row9 col0\" >汽機風量</td>\n",
              "                        <td id=\"T_52987956_2205_11ea_a49e_0242ac1c0002row9_col1\" class=\"data row9 col1\" >0.11391</td>\n",
              "            </tr>\n",
              "    </tbody></table>"
            ],
            "text/plain": [
              "<pandas.io.formats.style.Styler at 0x7f54e3670f98>"
            ]
          },
          "metadata": {
            "tags": []
          },
          "execution_count": 63
        }
      ]
    },
    {
      "cell_type": "markdown",
      "metadata": {
        "id": "1pUZLVvx777p",
        "colab_type": "text"
      },
      "source": [
        "# 可控制因子 非線性相關程度"
      ]
    },
    {
      "cell_type": "code",
      "metadata": {
        "id": "_5iHdI0578EV",
        "colab_type": "code",
        "colab": {
          "base_uri": "https://localhost:8080/",
          "height": 231
        },
        "outputId": "5494bb72-f9cf-4f59-c048-6059de3af47c"
      },
      "source": [
        "y_name = 'target'\n",
        "可控_corrs = abs(df[可控制因子+[y_name]].corr(method='spearman'))\n",
        "可控_corrs = 可控_corrs[[y_name]].sort_values(by=y_name,ascending=False)\n",
        "可控_corrs['中文'] = 可控_corrs.index.map(chinese_map)\n",
        "可控_corrs = 可控_corrs[['中文',y_name]]\n",
        "可控_corrs.index.name = '英文代號'\n",
        "可控_corrs.head(10).style.background_gradient()"
      ],
      "execution_count": 64,
      "outputs": [
        {
          "output_type": "execute_result",
          "data": {
            "text/html": [
              "<style  type=\"text/css\" >\n",
              "    #T_691ab28e_2205_11ea_a49e_0242ac1c0002row0_col1 {\n",
              "            background-color:  #023858;\n",
              "            color:  #f1f1f1;\n",
              "        }    #T_691ab28e_2205_11ea_a49e_0242ac1c0002row1_col1 {\n",
              "            background-color:  #bdc8e1;\n",
              "            color:  #000000;\n",
              "        }    #T_691ab28e_2205_11ea_a49e_0242ac1c0002row2_col1 {\n",
              "            background-color:  #cccfe5;\n",
              "            color:  #000000;\n",
              "        }    #T_691ab28e_2205_11ea_a49e_0242ac1c0002row3_col1 {\n",
              "            background-color:  #d1d2e6;\n",
              "            color:  #000000;\n",
              "        }    #T_691ab28e_2205_11ea_a49e_0242ac1c0002row4_col1 {\n",
              "            background-color:  #d6d6e9;\n",
              "            color:  #000000;\n",
              "        }    #T_691ab28e_2205_11ea_a49e_0242ac1c0002row5_col1 {\n",
              "            background-color:  #e2dfee;\n",
              "            color:  #000000;\n",
              "        }    #T_691ab28e_2205_11ea_a49e_0242ac1c0002row6_col1 {\n",
              "            background-color:  #ece7f2;\n",
              "            color:  #000000;\n",
              "        }    #T_691ab28e_2205_11ea_a49e_0242ac1c0002row7_col1 {\n",
              "            background-color:  #efe9f3;\n",
              "            color:  #000000;\n",
              "        }    #T_691ab28e_2205_11ea_a49e_0242ac1c0002row8_col1 {\n",
              "            background-color:  #f9f2f8;\n",
              "            color:  #000000;\n",
              "        }    #T_691ab28e_2205_11ea_a49e_0242ac1c0002row9_col1 {\n",
              "            background-color:  #fff7fb;\n",
              "            color:  #000000;\n",
              "        }</style><table id=\"T_691ab28e_2205_11ea_a49e_0242ac1c0002\" ><thead>    <tr>        <th class=\"blank level0\" ></th>        <th class=\"col_heading level0 col0\" >中文</th>        <th class=\"col_heading level0 col1\" >target</th>    </tr>    <tr>        <th class=\"index_name level0\" >英文代號</th>        <th class=\"blank\" ></th>        <th class=\"blank\" ></th>    </tr></thead><tbody>\n",
              "                <tr>\n",
              "                        <th id=\"T_691ab28e_2205_11ea_a49e_0242ac1c0002level0_row0\" class=\"row_heading level0 row0\" >target</th>\n",
              "                        <td id=\"T_691ab28e_2205_11ea_a49e_0242ac1c0002row0_col0\" class=\"data row0 col0\" >nan</td>\n",
              "                        <td id=\"T_691ab28e_2205_11ea_a49e_0242ac1c0002row0_col1\" class=\"data row0 col1\" >1</td>\n",
              "            </tr>\n",
              "            <tr>\n",
              "                        <th id=\"T_691ab28e_2205_11ea_a49e_0242ac1c0002level0_row1\" class=\"row_heading level0 row1\" >MLPAP_LIC-0738.PV</th>\n",
              "                        <td id=\"T_691ab28e_2205_11ea_a49e_0242ac1c0002row1_col0\" class=\"data row1 col0\" >汽鼓(V211)鍋爐水液位</td>\n",
              "                        <td id=\"T_691ab28e_2205_11ea_a49e_0242ac1c0002row1_col1\" class=\"data row1 col1\" >0.339793</td>\n",
              "            </tr>\n",
              "            <tr>\n",
              "                        <th id=\"T_691ab28e_2205_11ea_a49e_0242ac1c0002level0_row2\" class=\"row_heading level0 row2\" >MLPAP_TRC-0762.PV</th>\n",
              "                        <td id=\"T_691ab28e_2205_11ea_a49e_0242ac1c0002row2_col0\" class=\"data row2 col0\" >鹽浴冷卻器(E112)入口溫度</td>\n",
              "                        <td id=\"T_691ab28e_2205_11ea_a49e_0242ac1c0002row2_col1\" class=\"data row2 col1\" >0.29679</td>\n",
              "            </tr>\n",
              "            <tr>\n",
              "                        <th id=\"T_691ab28e_2205_11ea_a49e_0242ac1c0002level0_row3\" class=\"row_heading level0 row3\" >MLPAP_TIC-0757A.PV</th>\n",
              "                        <td id=\"T_691ab28e_2205_11ea_a49e_0242ac1c0002row3_col0\" class=\"data row3 col0\" >反應槽鹽浴溫度</td>\n",
              "                        <td id=\"T_691ab28e_2205_11ea_a49e_0242ac1c0002row3_col1\" class=\"data row3 col1\" >0.282602</td>\n",
              "            </tr>\n",
              "            <tr>\n",
              "                        <th id=\"T_691ab28e_2205_11ea_a49e_0242ac1c0002level0_row4\" class=\"row_heading level0 row4\" >MLPAP_TJC-0627.PV</th>\n",
              "                        <td id=\"T_691ab28e_2205_11ea_a49e_0242ac1c0002row4_col0\" class=\"data row4 col0\" >OX預熱器出口溫度</td>\n",
              "                        <td id=\"T_691ab28e_2205_11ea_a49e_0242ac1c0002row4_col1\" class=\"data row4 col1\" >0.261758</td>\n",
              "            </tr>\n",
              "            <tr>\n",
              "                        <th id=\"T_691ab28e_2205_11ea_a49e_0242ac1c0002level0_row5\" class=\"row_heading level0 row5\" >MLPAP_TIC-0757.PV</th>\n",
              "                        <td id=\"T_691ab28e_2205_11ea_a49e_0242ac1c0002row5_col0\" class=\"data row5 col0\" >反應器A/B側鹽浴溫度差</td>\n",
              "                        <td id=\"T_691ab28e_2205_11ea_a49e_0242ac1c0002row5_col1\" class=\"data row5 col1\" >0.209865</td>\n",
              "            </tr>\n",
              "            <tr>\n",
              "                        <th id=\"T_691ab28e_2205_11ea_a49e_0242ac1c0002level0_row6\" class=\"row_heading level0 row6\" >MLPAP_PIC-0761.PV</th>\n",
              "                        <td id=\"T_691ab28e_2205_11ea_a49e_0242ac1c0002row6_col0\" class=\"data row6 col0\" >鹽浴冷卻器(E112)出口壓力</td>\n",
              "                        <td id=\"T_691ab28e_2205_11ea_a49e_0242ac1c0002row6_col1\" class=\"data row6 col1\" >0.166474</td>\n",
              "            </tr>\n",
              "            <tr>\n",
              "                        <th id=\"T_691ab28e_2205_11ea_a49e_0242ac1c0002level0_row7\" class=\"row_heading level0 row7\" >MLPAP_LRC-0729.PV</th>\n",
              "                        <td id=\"T_691ab28e_2205_11ea_a49e_0242ac1c0002row7_col0\" class=\"data row7 col0\" >鍋爐水液位控制</td>\n",
              "                        <td id=\"T_691ab28e_2205_11ea_a49e_0242ac1c0002row7_col1\" class=\"data row7 col1\" >0.150114</td>\n",
              "            </tr>\n",
              "            <tr>\n",
              "                        <th id=\"T_691ab28e_2205_11ea_a49e_0242ac1c0002level0_row8\" class=\"row_heading level0 row8\" >MLPAP_TIC-1721.PV</th>\n",
              "                        <td id=\"T_691ab28e_2205_11ea_a49e_0242ac1c0002row8_col0\" class=\"data row8 col0\" >轉換式冷凝器冷油溫度</td>\n",
              "                        <td id=\"T_691ab28e_2205_11ea_a49e_0242ac1c0002row8_col1\" class=\"data row8 col1\" >0.0841515</td>\n",
              "            </tr>\n",
              "            <tr>\n",
              "                        <th id=\"T_691ab28e_2205_11ea_a49e_0242ac1c0002level0_row9\" class=\"row_heading level0 row9\" >MLPAP_FR-0632.PV</th>\n",
              "                        <td id=\"T_691ab28e_2205_11ea_a49e_0242ac1c0002row9_col0\" class=\"data row9 col0\" >汽機風量</td>\n",
              "                        <td id=\"T_691ab28e_2205_11ea_a49e_0242ac1c0002row9_col1\" class=\"data row9 col1\" >0.0460004</td>\n",
              "            </tr>\n",
              "    </tbody></table>"
            ],
            "text/plain": [
              "<pandas.io.formats.style.Styler at 0x7f54e490d390>"
            ]
          },
          "metadata": {
            "tags": []
          },
          "execution_count": 64
        }
      ]
    },
    {
      "cell_type": "markdown",
      "metadata": {
        "id": "FP_PuwAGJjJ_",
        "colab_type": "text"
      },
      "source": [
        "# kdeplot"
      ]
    },
    {
      "cell_type": "code",
      "metadata": {
        "id": "NhKcKYzsJY6s",
        "colab_type": "code",
        "colab": {}
      },
      "source": [
        "import seaborn as sns\n",
        "import matplotlib.pyplot as plt\n",
        "import warnings;warnings.simplefilter('ignore')\n",
        "\n",
        "def kdeplot(df,x_col,y_col,y_ub,y_lb,x_range=None):\n",
        "  hg = df.loc[df[y_col]>y_ub ,x_col]\n",
        "  lg = df.loc[df[y_col]<y_lb ,x_col]\n",
        "  sns.kdeplot(hg ,label = y_col + '>' +str(y_ub))\n",
        "  sns.kdeplot(lg ,label = y_col + '<' +str(y_lb))\n",
        "  #中文\n",
        "  try:\n",
        "    print(pd.Series(x_col).map(chinese_map))\n",
        "  except:\n",
        "    pass\n",
        "  #調整x軸範圍\n",
        "  if x_range != None:\n",
        "    plt.xlim(x_range)  \n",
        "  #秀圖\n",
        "  plt.legend()   \n",
        "  plt.xlabel(x_col)\n",
        "  plt.ylabel('density')\n",
        "  plt.title(x_col)\n",
        "  plt.show()"
      ],
      "execution_count": 0,
      "outputs": []
    },
    {
      "cell_type": "code",
      "metadata": {
        "id": "lkBIU81WoBnF",
        "colab_type": "code",
        "colab": {
          "base_uri": "https://localhost:8080/",
          "height": 34
        },
        "outputId": "b3b35995-0681-4baf-8164-c323c0e9d829"
      },
      "source": [
        "y_ub = df['target'].quantile(0.75)\n",
        "y_lb = df['target'].quantile(0.25)\n",
        "print(y_lb,y_ub)"
      ],
      "execution_count": 67,
      "outputs": [
        {
          "output_type": "stream",
          "text": [
            "0.9005851230963344 0.9137002341920375\n"
          ],
          "name": "stdout"
        }
      ]
    },
    {
      "cell_type": "markdown",
      "metadata": {
        "id": "PFXmOiy61KNH",
        "colab_type": "text"
      },
      "source": [
        "# 全部欄位排名前10 KDEPLOT"
      ]
    },
    {
      "cell_type": "code",
      "metadata": {
        "id": "2cnI7YM8haDr",
        "colab_type": "code",
        "outputId": "f265e4a1-5a67-4dff-9f53-28b51ea918d9",
        "colab": {
          "base_uri": "https://localhost:8080/",
          "height": 87
        }
      },
      "source": [
        "all_corrs.head(10).index[1:]"
      ],
      "execution_count": 68,
      "outputs": [
        {
          "output_type": "execute_result",
          "data": {
            "text/plain": [
              "Index(['MLPAP_LIC-0738.PV', 'MLPAP_TI-0706A01', 'MLPAP_TJR-0721.PV',\n",
              "       'MLPAP_FI-V211.PV', 'MLPAP_FI-V211.PV(轉換後)', 'MLPAP_TRC-0762.PV',\n",
              "       'MLPAP_TI-0706B20', 'MLPAP_TI-0716C01', 'MLPAP_TI-0716D02'],\n",
              "      dtype='object', name='英文代號')"
            ]
          },
          "metadata": {
            "tags": []
          },
          "execution_count": 68
        }
      ]
    },
    {
      "cell_type": "code",
      "metadata": {
        "id": "Fp2Wbh751KU_",
        "colab_type": "code",
        "outputId": "88f108f8-d424-4184-fb8e-af06220a4419",
        "colab": {
          "base_uri": "https://localhost:8080/",
          "height": 331
        }
      },
      "source": [
        "kdeplot(df,'MLPAP_LIC-0738.PV',y_name,y_ub,y_lb,x_range=(30,60))"
      ],
      "execution_count": 70,
      "outputs": [
        {
          "output_type": "stream",
          "text": [
            "0    汽鼓(V211)鍋爐水液位\n",
            "dtype: object\n"
          ],
          "name": "stdout"
        },
        {
          "output_type": "display_data",
          "data": {
            "image/png": "[encoded data removed]",
            "text/plain": [
              "<Figure size 432x288 with 1 Axes>"
            ]
          },
          "metadata": {
            "tags": []
          }
        }
      ]
    },
    {
      "cell_type": "markdown",
      "metadata": {
        "id": "ML7yOqHsx4fF",
        "colab_type": "text"
      },
      "source": [
        "# 可控制因子 KDEPLOT"
      ]
    },
    {
      "cell_type": "code",
      "metadata": {
        "id": "yQkV5tKAoYSn",
        "colab_type": "code",
        "outputId": "f086af0c-bfe8-44cd-9d94-a64e6d9e87d1",
        "colab": {
          "base_uri": "https://localhost:8080/",
          "height": 123
        }
      },
      "source": [
        "可控_corrs.index[1:]"
      ],
      "execution_count": 71,
      "outputs": [
        {
          "output_type": "execute_result",
          "data": {
            "text/plain": [
              "Index(['MLPAP_LIC-0738.PV', 'MLPAP_TRC-0762.PV', 'MLPAP_TIC-0757A.PV',\n",
              "       'MLPAP_TJC-0627.PV', 'MLPAP_TIC-0757.PV', 'MLPAP_PIC-0761.PV',\n",
              "       'MLPAP_LRC-0729.PV', 'MLPAP_TIC-1721.PV', 'MLPAP_FR-0632.PV',\n",
              "       'MLPAP_TRC-0610.PV', 'MLPAP_FQ-0619.PV', 'MLPAP_PIC-0741.PV',\n",
              "       'MLPAP_TRC-1734.PV'],\n",
              "      dtype='object', name='英文代號')"
            ]
          },
          "metadata": {
            "tags": []
          },
          "execution_count": 71
        }
      ]
    },
    {
      "cell_type": "code",
      "metadata": {
        "id": "gNaR3WRBLUNf",
        "colab_type": "code",
        "outputId": "0766cbfa-ba65-4be6-cd8f-8273a77bbfef",
        "colab": {
          "base_uri": "https://localhost:8080/",
          "height": 331
        }
      },
      "source": [
        "kdeplot(df,'MLPAP_TRC-0762.PV',y_name,y_ub,y_lb,x_range=(340,360))"
      ],
      "execution_count": 73,
      "outputs": [
        {
          "output_type": "stream",
          "text": [
            "0    鹽浴冷卻器(E112)入口溫度\n",
            "dtype: object\n"
          ],
          "name": "stdout"
        },
        {
          "output_type": "display_data",
          "data": {
            "image/png": "[encoded data removed]",
            "text/plain": [
              "<Figure size 432x288 with 1 Axes>"
            ]
          },
          "metadata": {
            "tags": []
          }
        }
      ]
    },
    {
      "cell_type": "markdown",
      "metadata": {
        "id": "-csdXWgvu3md",
        "colab_type": "text"
      },
      "source": [
        "# correlation matrix"
      ]
    },
    {
      "cell_type": "code",
      "metadata": {
        "id": "0vib32egeGCf",
        "colab_type": "code",
        "outputId": "3bf3425d-4806-4b40-89cc-da9bdccd5a2e",
        "colab": {
          "base_uri": "https://localhost:8080/",
          "height": 124
        }
      },
      "source": [
        "n = 5\n",
        "t = abs(df[可控制因子+[y_name]].corr())\n",
        "t = t.sort_values(by='target',ascending=False)\n",
        "t = t.loc[t.head(n).index,t.head(n).index]\n",
        "t.style.background_gradient()"
      ],
      "execution_count": 75,
      "outputs": [
        {
          "output_type": "execute_result",
          "data": {
            "text/html": [
              "<style  type=\"text/css\" >\n",
              "    #T_0cfe8b6e_2206_11ea_a49e_0242ac1c0002row0_col0 {\n",
              "            background-color:  #023858;\n",
              "            color:  #f1f1f1;\n",
              "        }    #T_0cfe8b6e_2206_11ea_a49e_0242ac1c0002row0_col1 {\n",
              "            background-color:  #f7f0f7;\n",
              "            color:  #000000;\n",
              "        }    #T_0cfe8b6e_2206_11ea_a49e_0242ac1c0002row0_col2 {\n",
              "            background-color:  #fff7fb;\n",
              "            color:  #000000;\n",
              "        }    #T_0cfe8b6e_2206_11ea_a49e_0242ac1c0002row0_col3 {\n",
              "            background-color:  #fff7fb;\n",
              "            color:  #000000;\n",
              "        }    #T_0cfe8b6e_2206_11ea_a49e_0242ac1c0002row0_col4 {\n",
              "            background-color:  #fff7fb;\n",
              "            color:  #000000;\n",
              "        }    #T_0cfe8b6e_2206_11ea_a49e_0242ac1c0002row1_col0 {\n",
              "            background-color:  #e7e3f0;\n",
              "            color:  #000000;\n",
              "        }    #T_0cfe8b6e_2206_11ea_a49e_0242ac1c0002row1_col1 {\n",
              "            background-color:  #023858;\n",
              "            color:  #f1f1f1;\n",
              "        }    #T_0cfe8b6e_2206_11ea_a49e_0242ac1c0002row1_col2 {\n",
              "            background-color:  #f1ebf5;\n",
              "            color:  #000000;\n",
              "        }    #T_0cfe8b6e_2206_11ea_a49e_0242ac1c0002row1_col3 {\n",
              "            background-color:  #f1ebf5;\n",
              "            color:  #000000;\n",
              "        }    #T_0cfe8b6e_2206_11ea_a49e_0242ac1c0002row1_col4 {\n",
              "            background-color:  #1b7eb7;\n",
              "            color:  #000000;\n",
              "        }    #T_0cfe8b6e_2206_11ea_a49e_0242ac1c0002row2_col0 {\n",
              "            background-color:  #fef6fa;\n",
              "            color:  #000000;\n",
              "        }    #T_0cfe8b6e_2206_11ea_a49e_0242ac1c0002row2_col1 {\n",
              "            background-color:  #fff7fb;\n",
              "            color:  #000000;\n",
              "        }    #T_0cfe8b6e_2206_11ea_a49e_0242ac1c0002row2_col2 {\n",
              "            background-color:  #023858;\n",
              "            color:  #f1f1f1;\n",
              "        }    #T_0cfe8b6e_2206_11ea_a49e_0242ac1c0002row2_col3 {\n",
              "            background-color:  #034973;\n",
              "            color:  #f1f1f1;\n",
              "        }    #T_0cfe8b6e_2206_11ea_a49e_0242ac1c0002row2_col4 {\n",
              "            background-color:  #c4cbe3;\n",
              "            color:  #000000;\n",
              "        }    #T_0cfe8b6e_2206_11ea_a49e_0242ac1c0002row3_col0 {\n",
              "            background-color:  #fef6fa;\n",
              "            color:  #000000;\n",
              "        }    #T_0cfe8b6e_2206_11ea_a49e_0242ac1c0002row3_col1 {\n",
              "            background-color:  #fff7fb;\n",
              "            color:  #000000;\n",
              "        }    #T_0cfe8b6e_2206_11ea_a49e_0242ac1c0002row3_col2 {\n",
              "            background-color:  #034973;\n",
              "            color:  #f1f1f1;\n",
              "        }    #T_0cfe8b6e_2206_11ea_a49e_0242ac1c0002row3_col3 {\n",
              "            background-color:  #023858;\n",
              "            color:  #f1f1f1;\n",
              "        }    #T_0cfe8b6e_2206_11ea_a49e_0242ac1c0002row3_col4 {\n",
              "            background-color:  #d8d7e9;\n",
              "            color:  #000000;\n",
              "        }    #T_0cfe8b6e_2206_11ea_a49e_0242ac1c0002row4_col0 {\n",
              "            background-color:  #fff7fb;\n",
              "            color:  #000000;\n",
              "        }    #T_0cfe8b6e_2206_11ea_a49e_0242ac1c0002row4_col1 {\n",
              "            background-color:  #2786bb;\n",
              "            color:  #000000;\n",
              "        }    #T_0cfe8b6e_2206_11ea_a49e_0242ac1c0002row4_col2 {\n",
              "            background-color:  #c6cce3;\n",
              "            color:  #000000;\n",
              "        }    #T_0cfe8b6e_2206_11ea_a49e_0242ac1c0002row4_col3 {\n",
              "            background-color:  #d9d8ea;\n",
              "            color:  #000000;\n",
              "        }    #T_0cfe8b6e_2206_11ea_a49e_0242ac1c0002row4_col4 {\n",
              "            background-color:  #023858;\n",
              "            color:  #f1f1f1;\n",
              "        }</style><table id=\"T_0cfe8b6e_2206_11ea_a49e_0242ac1c0002\" ><thead>    <tr>        <th class=\"blank level0\" ></th>        <th class=\"col_heading level0 col0\" >target</th>        <th class=\"col_heading level0 col1\" >MLPAP_LIC-0738.PV</th>        <th class=\"col_heading level0 col2\" >MLPAP_TRC-0762.PV</th>        <th class=\"col_heading level0 col3\" >MLPAP_TIC-0757A.PV</th>        <th class=\"col_heading level0 col4\" >MLPAP_TJC-0627.PV</th>    </tr></thead><tbody>\n",
              "                <tr>\n",
              "                        <th id=\"T_0cfe8b6e_2206_11ea_a49e_0242ac1c0002level0_row0\" class=\"row_heading level0 row0\" >target</th>\n",
              "                        <td id=\"T_0cfe8b6e_2206_11ea_a49e_0242ac1c0002row0_col0\" class=\"data row0 col0\" >1</td>\n",
              "                        <td id=\"T_0cfe8b6e_2206_11ea_a49e_0242ac1c0002row0_col1\" class=\"data row0 col1\" >0.359697</td>\n",
              "                        <td id=\"T_0cfe8b6e_2206_11ea_a49e_0242ac1c0002row0_col2\" class=\"data row0 col2\" >0.253555</td>\n",
              "                        <td id=\"T_0cfe8b6e_2206_11ea_a49e_0242ac1c0002row0_col3\" class=\"data row0 col3\" >0.253197</td>\n",
              "                        <td id=\"T_0cfe8b6e_2206_11ea_a49e_0242ac1c0002row0_col4\" class=\"data row0 col4\" >0.244805</td>\n",
              "            </tr>\n",
              "            <tr>\n",
              "                        <th id=\"T_0cfe8b6e_2206_11ea_a49e_0242ac1c0002level0_row1\" class=\"row_heading level0 row1\" >MLPAP_LIC-0738.PV</th>\n",
              "                        <td id=\"T_0cfe8b6e_2206_11ea_a49e_0242ac1c0002row1_col0\" class=\"data row1 col0\" >0.359697</td>\n",
              "                        <td id=\"T_0cfe8b6e_2206_11ea_a49e_0242ac1c0002row1_col1\" class=\"data row1 col1\" >1</td>\n",
              "                        <td id=\"T_0cfe8b6e_2206_11ea_a49e_0242ac1c0002row1_col2\" class=\"data row1 col2\" >0.320657</td>\n",
              "                        <td id=\"T_0cfe8b6e_2206_11ea_a49e_0242ac1c0002row1_col3\" class=\"data row1 col3\" >0.320812</td>\n",
              "                        <td id=\"T_0cfe8b6e_2206_11ea_a49e_0242ac1c0002row1_col4\" class=\"data row1 col4\" >0.769652</td>\n",
              "            </tr>\n",
              "            <tr>\n",
              "                        <th id=\"T_0cfe8b6e_2206_11ea_a49e_0242ac1c0002level0_row2\" class=\"row_heading level0 row2\" >MLPAP_TRC-0762.PV</th>\n",
              "                        <td id=\"T_0cfe8b6e_2206_11ea_a49e_0242ac1c0002row2_col0\" class=\"data row2 col0\" >0.253555</td>\n",
              "                        <td id=\"T_0cfe8b6e_2206_11ea_a49e_0242ac1c0002row2_col1\" class=\"data row2 col1\" >0.320657</td>\n",
              "                        <td id=\"T_0cfe8b6e_2206_11ea_a49e_0242ac1c0002row2_col2\" class=\"data row2 col2\" >1</td>\n",
              "                        <td id=\"T_0cfe8b6e_2206_11ea_a49e_0242ac1c0002row2_col3\" class=\"data row2 col3\" >0.951154</td>\n",
              "                        <td id=\"T_0cfe8b6e_2206_11ea_a49e_0242ac1c0002row2_col4\" class=\"data row2 col4\" >0.462609</td>\n",
              "            </tr>\n",
              "            <tr>\n",
              "                        <th id=\"T_0cfe8b6e_2206_11ea_a49e_0242ac1c0002level0_row3\" class=\"row_heading level0 row3\" >MLPAP_TIC-0757A.PV</th>\n",
              "                        <td id=\"T_0cfe8b6e_2206_11ea_a49e_0242ac1c0002row3_col0\" class=\"data row3 col0\" >0.253197</td>\n",
              "                        <td id=\"T_0cfe8b6e_2206_11ea_a49e_0242ac1c0002row3_col1\" class=\"data row3 col1\" >0.320812</td>\n",
              "                        <td id=\"T_0cfe8b6e_2206_11ea_a49e_0242ac1c0002row3_col2\" class=\"data row3 col2\" >0.951154</td>\n",
              "                        <td id=\"T_0cfe8b6e_2206_11ea_a49e_0242ac1c0002row3_col3\" class=\"data row3 col3\" >1</td>\n",
              "                        <td id=\"T_0cfe8b6e_2206_11ea_a49e_0242ac1c0002row3_col4\" class=\"data row3 col4\" >0.408643</td>\n",
              "            </tr>\n",
              "            <tr>\n",
              "                        <th id=\"T_0cfe8b6e_2206_11ea_a49e_0242ac1c0002level0_row4\" class=\"row_heading level0 row4\" >MLPAP_TJC-0627.PV</th>\n",
              "                        <td id=\"T_0cfe8b6e_2206_11ea_a49e_0242ac1c0002row4_col0\" class=\"data row4 col0\" >0.244805</td>\n",
              "                        <td id=\"T_0cfe8b6e_2206_11ea_a49e_0242ac1c0002row4_col1\" class=\"data row4 col1\" >0.769652</td>\n",
              "                        <td id=\"T_0cfe8b6e_2206_11ea_a49e_0242ac1c0002row4_col2\" class=\"data row4 col2\" >0.462609</td>\n",
              "                        <td id=\"T_0cfe8b6e_2206_11ea_a49e_0242ac1c0002row4_col3\" class=\"data row4 col3\" >0.408643</td>\n",
              "                        <td id=\"T_0cfe8b6e_2206_11ea_a49e_0242ac1c0002row4_col4\" class=\"data row4 col4\" >1</td>\n",
              "            </tr>\n",
              "    </tbody></table>"
            ],
            "text/plain": [
              "<pandas.io.formats.style.Styler at 0x7f54f30ddfd0>"
            ]
          },
          "metadata": {
            "tags": []
          },
          "execution_count": 75
        }
      ]
    },
    {
      "cell_type": "markdown",
      "metadata": {
        "id": "6CCqBliM8dY_",
        "colab_type": "text"
      },
      "source": [
        "# features selected"
      ]
    },
    {
      "cell_type": "code",
      "metadata": {
        "id": "Af-c3iZK_0Sz",
        "colab_type": "code",
        "outputId": "eb88fe3b-2fb0-4463-ff7d-cbfe55ce9504",
        "colab": {
          "base_uri": "https://localhost:8080/",
          "height": 52
        }
      },
      "source": [
        "features = 可控制因子.copy()\n",
        "need_drop_cols = [y_name,'MLPAP_FQI-0997.PV','MLPAP_FQ-0619.PV']\n",
        "for col_name in need_drop_cols:\n",
        "  if col_name in features:    \n",
        "    features.remove(col_name)\n",
        "    print('移除:',col_name)\n",
        "print('特徵數量:',len(features))"
      ],
      "execution_count": 76,
      "outputs": [
        {
          "output_type": "stream",
          "text": [
            "移除: MLPAP_FQ-0619.PV\n",
            "特徵數量: 12\n"
          ],
          "name": "stdout"
        }
      ]
    },
    {
      "cell_type": "markdown",
      "metadata": {
        "id": "Lh5ZsxFSa5Ww",
        "colab_type": "text"
      },
      "source": [
        "# features scaler"
      ]
    },
    {
      "cell_type": "code",
      "metadata": {
        "id": "zXEngQiea76A",
        "colab_type": "code",
        "colab": {}
      },
      "source": [
        "from sklearn.preprocessing import StandardScaler\n",
        "df= df[features+[y_name]]\n",
        "scaler = StandardScaler()\n",
        "df[features] = scaler.fit_transform(df[features])"
      ],
      "execution_count": 0,
      "outputs": []
    },
    {
      "cell_type": "code",
      "metadata": {
        "id": "E-5YwuF_riPZ",
        "colab_type": "code",
        "outputId": "bf7d8717-b106-4bb0-c39e-3f353b8573ed",
        "colab": {
          "base_uri": "https://localhost:8080/",
          "height": 297
        }
      },
      "source": [
        "df.head()"
      ],
      "execution_count": 78,
      "outputs": [
        {
          "output_type": "execute_result",
          "data": {
            "text/html": [
              "<div>\n",
              "<style scoped>\n",
              "    .dataframe tbody tr th:only-of-type {\n",
              "        vertical-align: middle;\n",
              "    }\n",
              "\n",
              "    .dataframe tbody tr th {\n",
              "        vertical-align: top;\n",
              "    }\n",
              "\n",
              "    .dataframe thead th {\n",
              "        text-align: right;\n",
              "    }\n",
              "</style>\n",
              "<table border=\"1\" class=\"dataframe\">\n",
              "  <thead>\n",
              "    <tr style=\"text-align: right;\">\n",
              "      <th></th>\n",
              "      <th>MLPAP_TJC-0627.PV</th>\n",
              "      <th>MLPAP_TRC-0610.PV</th>\n",
              "      <th>MLPAP_FR-0632.PV</th>\n",
              "      <th>MLPAP_TIC-0757A.PV</th>\n",
              "      <th>MLPAP_PIC-0741.PV</th>\n",
              "      <th>MLPAP_LIC-0738.PV</th>\n",
              "      <th>MLPAP_PIC-0761.PV</th>\n",
              "      <th>MLPAP_TRC-0762.PV</th>\n",
              "      <th>MLPAP_LRC-0729.PV</th>\n",
              "      <th>MLPAP_TIC-1721.PV</th>\n",
              "      <th>MLPAP_TRC-1734.PV</th>\n",
              "      <th>MLPAP_TIC-0757.PV</th>\n",
              "      <th>target</th>\n",
              "    </tr>\n",
              "  </thead>\n",
              "  <tbody>\n",
              "    <tr>\n",
              "      <th>2016-05-10 08:30:00</th>\n",
              "      <td>-1.050220</td>\n",
              "      <td>3.006881</td>\n",
              "      <td>-4.656690</td>\n",
              "      <td>12.379410</td>\n",
              "      <td>NaN</td>\n",
              "      <td>-1.337592</td>\n",
              "      <td>-0.758414</td>\n",
              "      <td>12.453765</td>\n",
              "      <td>0.086952</td>\n",
              "      <td>2.944780</td>\n",
              "      <td>0.159220</td>\n",
              "      <td>-0.968170</td>\n",
              "      <td>0.923057</td>\n",
              "    </tr>\n",
              "    <tr>\n",
              "      <th>2016-05-11 14:30:00</th>\n",
              "      <td>-1.067694</td>\n",
              "      <td>0.944341</td>\n",
              "      <td>-1.986141</td>\n",
              "      <td>9.974620</td>\n",
              "      <td>NaN</td>\n",
              "      <td>-0.356853</td>\n",
              "      <td>-0.660790</td>\n",
              "      <td>10.016352</td>\n",
              "      <td>-0.448794</td>\n",
              "      <td>2.744363</td>\n",
              "      <td>-0.230727</td>\n",
              "      <td>-1.080841</td>\n",
              "      <td>0.916474</td>\n",
              "    </tr>\n",
              "    <tr>\n",
              "      <th>2016-05-13 17:00:00</th>\n",
              "      <td>-1.040036</td>\n",
              "      <td>0.554778</td>\n",
              "      <td>-0.357513</td>\n",
              "      <td>10.008977</td>\n",
              "      <td>NaN</td>\n",
              "      <td>-1.279551</td>\n",
              "      <td>-0.660790</td>\n",
              "      <td>10.020716</td>\n",
              "      <td>-0.219149</td>\n",
              "      <td>3.064118</td>\n",
              "      <td>0.970369</td>\n",
              "      <td>-0.517485</td>\n",
              "      <td>0.922317</td>\n",
              "    </tr>\n",
              "    <tr>\n",
              "      <th>2016-05-17 03:30:00</th>\n",
              "      <td>-1.072257</td>\n",
              "      <td>-0.778442</td>\n",
              "      <td>1.022424</td>\n",
              "      <td>9.665435</td>\n",
              "      <td>NaN</td>\n",
              "      <td>-0.576828</td>\n",
              "      <td>-1.274069</td>\n",
              "      <td>9.837131</td>\n",
              "      <td>-0.739452</td>\n",
              "      <td>2.433029</td>\n",
              "      <td>0.332814</td>\n",
              "      <td>-0.742827</td>\n",
              "      <td>0.896399</td>\n",
              "    </tr>\n",
              "    <tr>\n",
              "      <th>2016-05-17 04:00:00</th>\n",
              "      <td>-0.998715</td>\n",
              "      <td>-0.686500</td>\n",
              "      <td>1.073846</td>\n",
              "      <td>9.631079</td>\n",
              "      <td>NaN</td>\n",
              "      <td>-0.453461</td>\n",
              "      <td>-0.711626</td>\n",
              "      <td>9.870002</td>\n",
              "      <td>-0.672221</td>\n",
              "      <td>2.298297</td>\n",
              "      <td>0.454758</td>\n",
              "      <td>-0.855498</td>\n",
              "      <td>0.891030</td>\n",
              "    </tr>\n",
              "  </tbody>\n",
              "</table>\n",
              "</div>"
            ],
            "text/plain": [
              "                     MLPAP_TJC-0627.PV  ...    target\n",
              "2016-05-10 08:30:00          -1.050220  ...  0.923057\n",
              "2016-05-11 14:30:00          -1.067694  ...  0.916474\n",
              "2016-05-13 17:00:00          -1.040036  ...  0.922317\n",
              "2016-05-17 03:30:00          -1.072257  ...  0.896399\n",
              "2016-05-17 04:00:00          -0.998715  ...  0.891030\n",
              "\n",
              "[5 rows x 13 columns]"
            ]
          },
          "metadata": {
            "tags": []
          },
          "execution_count": 78
        }
      ]
    },
    {
      "cell_type": "markdown",
      "metadata": {
        "id": "3A7nTur3s-Nh",
        "colab_type": "text"
      },
      "source": [
        "# replace inf to np.nan and drop nan"
      ]
    },
    {
      "cell_type": "code",
      "metadata": {
        "id": "6YFsFYHgs8En",
        "colab_type": "code",
        "outputId": "bf566f3a-cefb-4381-b25a-ab0b2b1bfd19",
        "colab": {
          "base_uri": "https://localhost:8080/",
          "height": 176
        }
      },
      "source": [
        "import numpy as np\n",
        "df = df.replace([np.inf,-np.inf],np.nan)\n",
        "df = df.dropna()\n",
        "df[y_name].describe()"
      ],
      "execution_count": 79,
      "outputs": [
        {
          "output_type": "execute_result",
          "data": {
            "text/plain": [
              "count    6242.000000\n",
              "mean        0.912275\n",
              "std         0.007969\n",
              "min         0.890203\n",
              "25%         0.906468\n",
              "50%         0.913108\n",
              "75%         0.918759\n",
              "max         0.925259\n",
              "Name: target, dtype: float64"
            ]
          },
          "metadata": {
            "tags": []
          },
          "execution_count": 79
        }
      ]
    },
    {
      "cell_type": "markdown",
      "metadata": {
        "id": "-b7ml1880TZP",
        "colab_type": "text"
      },
      "source": [
        "# train , test split"
      ]
    },
    {
      "cell_type": "code",
      "metadata": {
        "id": "aI-z3pJr0TtQ",
        "colab_type": "code",
        "outputId": "0771ea68-a389-430d-e182-785f2a69899b",
        "colab": {
          "base_uri": "https://localhost:8080/",
          "height": 52
        }
      },
      "source": [
        "from sklearn.model_selection import train_test_split\n",
        "train ,test = train_test_split(df,test_size=0.2,random_state=42)\n",
        "print(train.shape)\n",
        "print(test.shape)"
      ],
      "execution_count": 80,
      "outputs": [
        {
          "output_type": "stream",
          "text": [
            "(4993, 13)\n",
            "(1249, 13)\n"
          ],
          "name": "stdout"
        }
      ]
    },
    {
      "cell_type": "markdown",
      "metadata": {
        "id": "yPi7bSlLztAr",
        "colab_type": "text"
      },
      "source": [
        "# Modeling"
      ]
    },
    {
      "cell_type": "code",
      "metadata": {
        "id": "ksNyTQGVrqfG",
        "colab_type": "code",
        "colab": {}
      },
      "source": [
        "import lightgbm\n",
        "from sklearn.svm import SVR\n",
        "import xgboost\n",
        "from lightgbm import LGBMRegressor\n",
        "from sklearn.linear_model import Ridge,Lasso\n",
        "from xgboost import XGBRegressor\n",
        "import numpy as np\n",
        "from sklearn.metrics import r2_score,mean_squared_error\n",
        "from math import sqrt"
      ],
      "execution_count": 0,
      "outputs": []
    },
    {
      "cell_type": "code",
      "metadata": {
        "id": "kXukt3Alln6K",
        "colab_type": "code",
        "colab": {}
      },
      "source": [
        "def mape_vectorized_v2(a, b):\n",
        "    a = np.array(a)\n",
        "    b = np.array(b) \n",
        "    mask = a != 0\n",
        "    return (np.fabs(a - b)/a)[mask].mean()"
      ],
      "execution_count": 0,
      "outputs": []
    },
    {
      "cell_type": "code",
      "metadata": {
        "id": "LSswjTHqdK6Q",
        "colab_type": "code",
        "colab": {}
      },
      "source": [
        "def metric(yt,yp,name):\n",
        "  res = pd.DataFrame(index=[name])\n",
        "  res['R2'] = r2_score(yt,yp)\n",
        "  res['RMSE'] = sqrt(mean_squared_error(yt,yp))\n",
        "  res['MAPE'] = mape_vectorized_v2(yt,yp)\n",
        "  return res\n",
        "\n",
        "def plot_imp(model):\n",
        "  imp = pd.DataFrame()\n",
        "  imp['features'] = features\n",
        "  imp['中文'] = imp['features'].map(chinese_map)\n",
        "  imp['imp'] = model.feature_importances_\n",
        "  return imp.sort_values(by='imp',ascending=False)\n",
        "\n",
        "def plot_coef(model):\n",
        "  imp = pd.DataFrame()\n",
        "  imp['features'] = features\n",
        "  imp['中文'] = imp['features'].map(chinese_map)\n",
        "  imp['coef'] = model.coef_\n",
        "  return imp.sort_values(by='coef',ascending=False)\n",
        "\n",
        "def plot_pred(yt,yp):\n",
        "  n = 60\n",
        "  yt = yt.sort_index().rolling(n).mean()\n",
        "  yp = yp.sort_index().rolling(n).mean()\n",
        "  fig = plt.figure(figsize=(10,5))\n",
        "  plt.plot(yt.index,yt.values,label='y_test',color='blue')\n",
        "  plt.plot(yp.index,yp.values,label='y_pred',color='red')\n",
        "  plt.legend()"
      ],
      "execution_count": 0,
      "outputs": []
    },
    {
      "cell_type": "markdown",
      "metadata": {
        "id": "eobZoRVItgYT",
        "colab_type": "text"
      },
      "source": [
        "# Ridge"
      ]
    },
    {
      "cell_type": "code",
      "metadata": {
        "id": "p7BZhs65tgjP",
        "colab_type": "code",
        "outputId": "fbe0938d-0fcd-47a3-dae7-bfe3640e76c6",
        "colab": {
          "base_uri": "https://localhost:8080/",
          "height": 536
        }
      },
      "source": [
        "model = Ridge()\n",
        "model.fit(train[features],train[y_name])\n",
        "y_pred = model.predict(test[features])\n",
        "y_pred = pd.Series(y_pred,index=test.index,name='y_pred')\n",
        "print(metric(test[y_name],y_pred,'Ridge'))\n",
        "plot_pred(test[y_name],y_pred);plt.show()\n",
        "plot_coef(model).head(5)"
      ],
      "execution_count": 84,
      "outputs": [
        {
          "output_type": "stream",
          "text": [
            "             R2      RMSE      MAPE\n",
            "Ridge  0.134462  0.007461  0.006636\n"
          ],
          "name": "stdout"
        },
        {
          "output_type": "display_data",
          "data": {
            "image/png": "[encoded data removed]",
            "text/plain": [
              "<Figure size 720x360 with 1 Axes>"
            ]
          },
          "metadata": {
            "tags": []
          }
        },
        {
          "output_type": "execute_result",
          "data": {
            "text/html": [
              "<div>\n",
              "<style scoped>\n",
              "    .dataframe tbody tr th:only-of-type {\n",
              "        vertical-align: middle;\n",
              "    }\n",
              "\n",
              "    .dataframe tbody tr th {\n",
              "        vertical-align: top;\n",
              "    }\n",
              "\n",
              "    .dataframe thead th {\n",
              "        text-align: right;\n",
              "    }\n",
              "</style>\n",
              "<table border=\"1\" class=\"dataframe\">\n",
              "  <thead>\n",
              "    <tr style=\"text-align: right;\">\n",
              "      <th></th>\n",
              "      <th>features</th>\n",
              "      <th>中文</th>\n",
              "      <th>coef</th>\n",
              "    </tr>\n",
              "  </thead>\n",
              "  <tbody>\n",
              "    <tr>\n",
              "      <th>5</th>\n",
              "      <td>MLPAP_LIC-0738.PV</td>\n",
              "      <td>汽鼓(V211)鍋爐水液位</td>\n",
              "      <td>0.013656</td>\n",
              "    </tr>\n",
              "    <tr>\n",
              "      <th>3</th>\n",
              "      <td>MLPAP_TIC-0757A.PV</td>\n",
              "      <td>反應槽鹽浴溫度</td>\n",
              "      <td>0.006100</td>\n",
              "    </tr>\n",
              "    <tr>\n",
              "      <th>11</th>\n",
              "      <td>MLPAP_TIC-0757.PV</td>\n",
              "      <td>反應器A/B側鹽浴溫度差</td>\n",
              "      <td>0.002540</td>\n",
              "    </tr>\n",
              "    <tr>\n",
              "      <th>6</th>\n",
              "      <td>MLPAP_PIC-0761.PV</td>\n",
              "      <td>鹽浴冷卻器(E112)出口壓力</td>\n",
              "      <td>0.001058</td>\n",
              "    </tr>\n",
              "    <tr>\n",
              "      <th>8</th>\n",
              "      <td>MLPAP_LRC-0729.PV</td>\n",
              "      <td>鍋爐水液位控制</td>\n",
              "      <td>0.000932</td>\n",
              "    </tr>\n",
              "  </tbody>\n",
              "</table>\n",
              "</div>"
            ],
            "text/plain": [
              "              features               中文      coef\n",
              "5    MLPAP_LIC-0738.PV    汽鼓(V211)鍋爐水液位  0.013656\n",
              "3   MLPAP_TIC-0757A.PV          反應槽鹽浴溫度  0.006100\n",
              "11   MLPAP_TIC-0757.PV     反應器A/B側鹽浴溫度差  0.002540\n",
              "6    MLPAP_PIC-0761.PV  鹽浴冷卻器(E112)出口壓力  0.001058\n",
              "8    MLPAP_LRC-0729.PV          鍋爐水液位控制  0.000932"
            ]
          },
          "metadata": {
            "tags": []
          },
          "execution_count": 84
        }
      ]
    },
    {
      "cell_type": "markdown",
      "metadata": {
        "id": "nGFC6d5xupPT",
        "colab_type": "text"
      },
      "source": [
        "# Lasso"
      ]
    },
    {
      "cell_type": "code",
      "metadata": {
        "id": "O5e_7B3-upfN",
        "colab_type": "code",
        "outputId": "0d7527ec-2e7c-42cd-a827-6b9b5439b053",
        "colab": {
          "base_uri": "https://localhost:8080/",
          "height": 536
        }
      },
      "source": [
        "model = Lasso(0.001)\n",
        "model.fit(train[features],train[y_name])\n",
        "y_pred = model.predict(test[features])\n",
        "y_pred = pd.Series(y_pred,index=test.index,name='y_pred')\n",
        "print(metric(test[y_name],y_pred,'Lasso'))\n",
        "plot_pred(test[y_name],y_pred);plt.show()\n",
        "plot_coef(model).head(5)"
      ],
      "execution_count": 85,
      "outputs": [
        {
          "output_type": "stream",
          "text": [
            "             R2      RMSE      MAPE\n",
            "Lasso  0.068692  0.007739  0.007054\n"
          ],
          "name": "stdout"
        },
        {
          "output_type": "display_data",
          "data": {
            "image/png": "[encoded data removed]",
            "text/plain": [
              "<Figure size 720x360 with 1 Axes>"
            ]
          },
          "metadata": {
            "tags": []
          }
        },
        {
          "output_type": "execute_result",
          "data": {
            "text/html": [
              "<div>\n",
              "<style scoped>\n",
              "    .dataframe tbody tr th:only-of-type {\n",
              "        vertical-align: middle;\n",
              "    }\n",
              "\n",
              "    .dataframe tbody tr th {\n",
              "        vertical-align: top;\n",
              "    }\n",
              "\n",
              "    .dataframe thead th {\n",
              "        text-align: right;\n",
              "    }\n",
              "</style>\n",
              "<table border=\"1\" class=\"dataframe\">\n",
              "  <thead>\n",
              "    <tr style=\"text-align: right;\">\n",
              "      <th></th>\n",
              "      <th>features</th>\n",
              "      <th>中文</th>\n",
              "      <th>coef</th>\n",
              "    </tr>\n",
              "  </thead>\n",
              "  <tbody>\n",
              "    <tr>\n",
              "      <th>8</th>\n",
              "      <td>MLPAP_LRC-0729.PV</td>\n",
              "      <td>鍋爐水液位控制</td>\n",
              "      <td>0.001022</td>\n",
              "    </tr>\n",
              "    <tr>\n",
              "      <th>4</th>\n",
              "      <td>MLPAP_PIC-0741.PV</td>\n",
              "      <td>汽鼓(V211)鍋爐水壓力</td>\n",
              "      <td>0.000228</td>\n",
              "    </tr>\n",
              "    <tr>\n",
              "      <th>0</th>\n",
              "      <td>MLPAP_TJC-0627.PV</td>\n",
              "      <td>OX預熱器出口溫度</td>\n",
              "      <td>0.000000</td>\n",
              "    </tr>\n",
              "    <tr>\n",
              "      <th>1</th>\n",
              "      <td>MLPAP_TRC-0610.PV</td>\n",
              "      <td>空氣預熱器出口溫度</td>\n",
              "      <td>-0.000000</td>\n",
              "    </tr>\n",
              "    <tr>\n",
              "      <th>2</th>\n",
              "      <td>MLPAP_FR-0632.PV</td>\n",
              "      <td>汽機風量</td>\n",
              "      <td>-0.000000</td>\n",
              "    </tr>\n",
              "  </tbody>\n",
              "</table>\n",
              "</div>"
            ],
            "text/plain": [
              "            features             中文      coef\n",
              "8  MLPAP_LRC-0729.PV        鍋爐水液位控制  0.001022\n",
              "4  MLPAP_PIC-0741.PV  汽鼓(V211)鍋爐水壓力  0.000228\n",
              "0  MLPAP_TJC-0627.PV      OX預熱器出口溫度  0.000000\n",
              "1  MLPAP_TRC-0610.PV      空氣預熱器出口溫度 -0.000000\n",
              "2   MLPAP_FR-0632.PV           汽機風量 -0.000000"
            ]
          },
          "metadata": {
            "tags": []
          },
          "execution_count": 85
        }
      ]
    },
    {
      "cell_type": "markdown",
      "metadata": {
        "id": "oGocKYDlu_sP",
        "colab_type": "text"
      },
      "source": [
        "# xgboost"
      ]
    },
    {
      "cell_type": "code",
      "metadata": {
        "id": "OgRzQXPevACL",
        "colab_type": "code",
        "outputId": "309bed75-7eb7-4874-f2a4-a37cf9273311",
        "colab": {
          "base_uri": "https://localhost:8080/",
          "height": 814
        }
      },
      "source": [
        "model = XGBRegressor(objective='reg:squarederror')\n",
        "model.fit(train[features],train[y_name])\n",
        "y_pred = model.predict(test[features])\n",
        "y_pred = pd.Series(y_pred,index=test.index,name='y_pred')\n",
        "print(metric(test[y_name],y_pred,'XGB'))\n",
        "xgboost.plot_importance(model);plt.show()\n",
        "plot_pred(test[y_name],y_pred);plt.show()\n",
        "plot_imp(model).head(5)"
      ],
      "execution_count": 86,
      "outputs": [
        {
          "output_type": "stream",
          "text": [
            "          R2     RMSE      MAPE\n",
            "XGB  0.32883  0.00657  0.005523\n"
          ],
          "name": "stdout"
        },
        {
          "output_type": "display_data",
          "data": {
            "image/png": "[encoded data removed]",
            "text/plain": [
              "<Figure size 432x288 with 1 Axes>"
            ]
          },
          "metadata": {
            "tags": []
          }
        },
        {
          "output_type": "display_data",
          "data": {
            "image/png": "[encoded data removed]",
            "text/plain": [
              "<Figure size 720x360 with 1 Axes>"
            ]
          },
          "metadata": {
            "tags": []
          }
        },
        {
          "output_type": "execute_result",
          "data": {
            "text/html": [
              "<div>\n",
              "<style scoped>\n",
              "    .dataframe tbody tr th:only-of-type {\n",
              "        vertical-align: middle;\n",
              "    }\n",
              "\n",
              "    .dataframe tbody tr th {\n",
              "        vertical-align: top;\n",
              "    }\n",
              "\n",
              "    .dataframe thead th {\n",
              "        text-align: right;\n",
              "    }\n",
              "</style>\n",
              "<table border=\"1\" class=\"dataframe\">\n",
              "  <thead>\n",
              "    <tr style=\"text-align: right;\">\n",
              "      <th></th>\n",
              "      <th>features</th>\n",
              "      <th>中文</th>\n",
              "      <th>imp</th>\n",
              "    </tr>\n",
              "  </thead>\n",
              "  <tbody>\n",
              "    <tr>\n",
              "      <th>4</th>\n",
              "      <td>MLPAP_PIC-0741.PV</td>\n",
              "      <td>汽鼓(V211)鍋爐水壓力</td>\n",
              "      <td>0.120565</td>\n",
              "    </tr>\n",
              "    <tr>\n",
              "      <th>11</th>\n",
              "      <td>MLPAP_TIC-0757.PV</td>\n",
              "      <td>反應器A/B側鹽浴溫度差</td>\n",
              "      <td>0.117950</td>\n",
              "    </tr>\n",
              "    <tr>\n",
              "      <th>3</th>\n",
              "      <td>MLPAP_TIC-0757A.PV</td>\n",
              "      <td>反應槽鹽浴溫度</td>\n",
              "      <td>0.113039</td>\n",
              "    </tr>\n",
              "    <tr>\n",
              "      <th>6</th>\n",
              "      <td>MLPAP_PIC-0761.PV</td>\n",
              "      <td>鹽浴冷卻器(E112)出口壓力</td>\n",
              "      <td>0.101630</td>\n",
              "    </tr>\n",
              "    <tr>\n",
              "      <th>2</th>\n",
              "      <td>MLPAP_FR-0632.PV</td>\n",
              "      <td>汽機風量</td>\n",
              "      <td>0.100887</td>\n",
              "    </tr>\n",
              "  </tbody>\n",
              "</table>\n",
              "</div>"
            ],
            "text/plain": [
              "              features               中文       imp\n",
              "4    MLPAP_PIC-0741.PV    汽鼓(V211)鍋爐水壓力  0.120565\n",
              "11   MLPAP_TIC-0757.PV     反應器A/B側鹽浴溫度差  0.117950\n",
              "3   MLPAP_TIC-0757A.PV          反應槽鹽浴溫度  0.113039\n",
              "6    MLPAP_PIC-0761.PV  鹽浴冷卻器(E112)出口壓力  0.101630\n",
              "2     MLPAP_FR-0632.PV             汽機風量  0.100887"
            ]
          },
          "metadata": {
            "tags": []
          },
          "execution_count": 86
        }
      ]
    },
    {
      "cell_type": "markdown",
      "metadata": {
        "id": "zoX5Qsewfk5P",
        "colab_type": "text"
      },
      "source": [
        "# LGBM"
      ]
    },
    {
      "cell_type": "code",
      "metadata": {
        "id": "SOvONyVyblOT",
        "colab_type": "code",
        "outputId": "fdf7a708-5784-4ab5-ebc4-00c78a1a528b",
        "colab": {
          "base_uri": "https://localhost:8080/",
          "height": 814
        }
      },
      "source": [
        "model = LGBMRegressor()\n",
        "model.fit(train[features],train[y_name])\n",
        "y_pred = model.predict(test[features])\n",
        "y_pred = pd.Series(y_pred,index=test.index,name='y_pred')\n",
        "print(metric(test[y_name],y_pred,'LGBM'))\n",
        "graph = lightgbm.create_tree_digraph(model)\n",
        "graph.render(view=True)\n",
        "lightgbm.plot_importance(model);plt.show()\n",
        "plot_pred(test[y_name],y_pred);plt.show()\n",
        "plot_imp(model).head(5)"
      ],
      "execution_count": 87,
      "outputs": [
        {
          "output_type": "stream",
          "text": [
            "            R2      RMSE      MAPE\n",
            "LGBM  0.346059  0.006485  0.005302\n"
          ],
          "name": "stdout"
        },
        {
          "output_type": "display_data",
          "data": {
            "image/png": "[encoded data removed]",
            "text/plain": [
              "<Figure size 432x288 with 1 Axes>"
            ]
          },
          "metadata": {
            "tags": []
          }
        },
        {
          "output_type": "display_data",
          "data": {
            "image/png": "[encoded data removed]",
            "text/plain": [
              "<Figure size 720x360 with 1 Axes>"
            ]
          },
          "metadata": {
            "tags": []
          }
        },
        {
          "output_type": "execute_result",
          "data": {
            "text/html": [
              "<div>\n",
              "<style scoped>\n",
              "    .dataframe tbody tr th:only-of-type {\n",
              "        vertical-align: middle;\n",
              "    }\n",
              "\n",
              "    .dataframe tbody tr th {\n",
              "        vertical-align: top;\n",
              "    }\n",
              "\n",
              "    .dataframe thead th {\n",
              "        text-align: right;\n",
              "    }\n",
              "</style>\n",
              "<table border=\"1\" class=\"dataframe\">\n",
              "  <thead>\n",
              "    <tr style=\"text-align: right;\">\n",
              "      <th></th>\n",
              "      <th>features</th>\n",
              "      <th>中文</th>\n",
              "      <th>imp</th>\n",
              "    </tr>\n",
              "  </thead>\n",
              "  <tbody>\n",
              "    <tr>\n",
              "      <th>2</th>\n",
              "      <td>MLPAP_FR-0632.PV</td>\n",
              "      <td>汽機風量</td>\n",
              "      <td>403</td>\n",
              "    </tr>\n",
              "    <tr>\n",
              "      <th>1</th>\n",
              "      <td>MLPAP_TRC-0610.PV</td>\n",
              "      <td>空氣預熱器出口溫度</td>\n",
              "      <td>332</td>\n",
              "    </tr>\n",
              "    <tr>\n",
              "      <th>3</th>\n",
              "      <td>MLPAP_TIC-0757A.PV</td>\n",
              "      <td>反應槽鹽浴溫度</td>\n",
              "      <td>288</td>\n",
              "    </tr>\n",
              "    <tr>\n",
              "      <th>10</th>\n",
              "      <td>MLPAP_TRC-1734.PV</td>\n",
              "      <td>轉換式冷凝器熱油溫度</td>\n",
              "      <td>266</td>\n",
              "    </tr>\n",
              "    <tr>\n",
              "      <th>7</th>\n",
              "      <td>MLPAP_TRC-0762.PV</td>\n",
              "      <td>鹽浴冷卻器(E112)入口溫度</td>\n",
              "      <td>256</td>\n",
              "    </tr>\n",
              "  </tbody>\n",
              "</table>\n",
              "</div>"
            ],
            "text/plain": [
              "              features               中文  imp\n",
              "2     MLPAP_FR-0632.PV             汽機風量  403\n",
              "1    MLPAP_TRC-0610.PV        空氣預熱器出口溫度  332\n",
              "3   MLPAP_TIC-0757A.PV          反應槽鹽浴溫度  288\n",
              "10   MLPAP_TRC-1734.PV       轉換式冷凝器熱油溫度  266\n",
              "7    MLPAP_TRC-0762.PV  鹽浴冷卻器(E112)入口溫度  256"
            ]
          },
          "metadata": {
            "tags": []
          },
          "execution_count": 87
        }
      ]
    },
    {
      "cell_type": "markdown",
      "metadata": {
        "id": "MudCLQWYwfTm",
        "colab_type": "text"
      },
      "source": [
        "# SVR"
      ]
    },
    {
      "cell_type": "code",
      "metadata": {
        "id": "l7K-iO6DwfiO",
        "colab_type": "code",
        "outputId": "32902ee2-a773-4d69-fe87-f572c977e21d",
        "colab": {
          "base_uri": "https://localhost:8080/",
          "height": 355
        }
      },
      "source": [
        "model = SVR()\n",
        "model.fit(train[features],train[y_name])\n",
        "y_pred = model.predict(test[features])\n",
        "y_pred = pd.Series(y_pred,index=test.index,name='y_pred')\n",
        "print(metric(test[y_name],y_pred,'SVR'))\n",
        "plot_pred(test[y_name],y_pred)\n",
        "plt.show()"
      ],
      "execution_count": 88,
      "outputs": [
        {
          "output_type": "stream",
          "text": [
            "           R2      RMSE      MAPE\n",
            "SVR -0.267444  0.009029  0.008354\n"
          ],
          "name": "stdout"
        },
        {
          "output_type": "display_data",
          "data": {
            "image/png": "[encoded data removed]",
            "text/plain": [
              "<Figure size 720x360 with 1 Axes>"
            ]
          },
          "metadata": {
            "tags": []
          }
        }
      ]
    },
    {
      "cell_type": "code",
      "metadata": {
        "id": "LAueejkRAmLp",
        "colab_type": "code",
        "colab": {}
      },
      "source": [
        ""
      ],
      "execution_count": 0,
      "outputs": []
    }
  ]
}