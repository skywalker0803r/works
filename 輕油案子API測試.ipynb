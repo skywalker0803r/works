{
  "nbformat": 4,
  "nbformat_minor": 0,
  "metadata": {
    "colab": {
      "name": "輕油案子API測試.ipynb",
      "provenance": [],
      "collapsed_sections": [],
      "include_colab_link": true
    },
    "kernelspec": {
      "name": "python2",
      "display_name": "Python 2"
    }
  },
  "cells": [
    {
      "cell_type": "markdown",
      "metadata": {
        "id": "view-in-github",
        "colab_type": "text"
      },
      "source": [
        "<a href=\"https://colab.research.google.com/github/skywalker0803r/works/blob/master/%E8%BC%95%E6%B2%B9%E6%A1%88%E5%AD%90API%E6%B8%AC%E8%A9%A6.ipynb\" target=\"_parent\"><img src=\"https://colab.research.google.com/assets/colab-badge.svg\" alt=\"Open In Colab\"/></a>"
      ]
    },
    {
      "cell_type": "code",
      "metadata": {
        "id": "J6k6SgTzSOPK",
        "colab_type": "code",
        "colab": {}
      },
      "source": [
        "service_url = \"https://ussouthcentral.services.azureml.net/workspaces/214dc9c40ec4459981cb0a7e9b45c00b/services/83557e9cb6984738b651ac1d578696be/execute?api-version=2.0\"\n",
        "api_key = \"eMGkiwrKaQSrSunus2PwpsHduGU2gyxJUgOiLndsEve6VpXLN/YklOcgDinGl3y5iwZd11KpaaQUVwxYvNWPsw==\""
      ],
      "execution_count": 0,
      "outputs": []
    },
    {
      "cell_type": "code",
      "metadata": {
        "id": "pTCq8QpjSbMu",
        "colab_type": "code",
        "outputId": "ed117d16-fc66-4703-d18f-fbdf2edfea54",
        "colab": {
          "base_uri": "https://localhost:8080/",
          "height": 34
        }
      },
      "source": [
        "import urllib2\n",
        "import json\n",
        "\n",
        "#我的資料\n",
        "data = {\"Inputs\": {\"input1\": { \"ColumnNames\": [ \"T10\", \"T50\", \"T90\", \"NA\"],\n",
        "                               \"Values\": [[\"104\", \"122.2\", \"148.1\", \"32.647\"]]}}, # specified feature values\n",
        "        \"GlobalParameters\": {} }\n",
        "\n",
        "#把資料轉換成JSON\n",
        "body = json.dumps(data)\n",
        "\n",
        "#定義headers\n",
        "headers = {'Content-Type':'application/json', 'Authorization':('Bearer '+ api_key)}\n",
        "\n",
        "#發送請求\n",
        "req = urllib2.Request(service_url, body, headers) \n",
        "\n",
        "#嘗試取得回應\n",
        "try:\n",
        "    response = urllib2.urlopen(req)\n",
        "    result = json.loads(response.read())  \n",
        "    print(result['Results']['output1']['value']['Values'][0][0]) # get the returned prediction\n",
        "\n",
        "#如果出問題\n",
        "except urllib2.HTTPError, error:\n",
        "    print(\"The request failed with status code: \" + str(error.code))\n",
        "    print(error.info())\n",
        "    print(json.loads(error.read())) "
      ],
      "execution_count": 31,
      "outputs": [
        {
          "output_type": "stream",
          "text": [
            "0.179\n"
          ],
          "name": "stdout"
        }
      ]
    },
    {
      "cell_type": "code",
      "metadata": {
        "id": "P1qEpQEKWSNp",
        "colab_type": "code",
        "colab": {}
      },
      "source": [
        ""
      ],
      "execution_count": 0,
      "outputs": []
    }
  ]
}