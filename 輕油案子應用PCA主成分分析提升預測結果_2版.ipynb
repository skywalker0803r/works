{
  "nbformat": 4,
  "nbformat_minor": 0,
  "metadata": {
    "colab": {
      "name": "輕油案子應用PCA主成分分析提升預測結果_2版.ipynb",
      "provenance": [],
      "collapsed_sections": [],
      "include_colab_link": true
    },
    "kernelspec": {
      "name": "python3",
      "display_name": "Python 3"
    }
  },
  "cells": [
    {
      "cell_type": "markdown",
      "metadata": {
        "id": "view-in-github",
        "colab_type": "text"
      },
      "source": [
        "<a href=\"https://colab.research.google.com/github/skywalker0803r/works/blob/master/%E8%BC%95%E6%B2%B9%E6%A1%88%E5%AD%90%E6%87%89%E7%94%A8PCA%E4%B8%BB%E6%88%90%E5%88%86%E5%88%86%E6%9E%90%E6%8F%90%E5%8D%87%E9%A0%90%E6%B8%AC%E7%B5%90%E6%9E%9C_2%E7%89%88.ipynb\" target=\"_parent\"><img src=\"https://colab.research.google.com/assets/colab-badge.svg\" alt=\"Open In Colab\"/></a>"
      ]
    },
    {
      "cell_type": "code",
      "metadata": {
        "id": "xTX2C4HX5ZFL",
        "colab_type": "code",
        "outputId": "10084460-6b4a-43a4-af39-25286d9e0eb0",
        "colab": {
          "base_uri": "https://localhost:8080/",
          "height": 35
        }
      },
      "source": [
        "from google.colab import drive\n",
        "drive.mount('/content/drive')\n",
        "import warnings \n",
        "warnings.simplefilter('ignore')"
      ],
      "execution_count": 22,
      "outputs": [
        {
          "output_type": "stream",
          "text": [
            "Drive already mounted at /content/drive; to attempt to forcibly remount, call drive.mount(\"/content/drive\", force_remount=True).\n"
          ],
          "name": "stdout"
        }
      ]
    },
    {
      "cell_type": "markdown",
      "metadata": {
        "id": "ntB8KlJM6gEY",
        "colab_type": "text"
      },
      "source": [
        "# Load data"
      ]
    },
    {
      "cell_type": "code",
      "metadata": {
        "id": "no46PF6T5dPn",
        "colab_type": "code",
        "outputId": "e9a8f0db-9b3a-4b5b-886b-b571017b4bdc",
        "colab": {
          "base_uri": "https://localhost:8080/",
          "height": 52
        }
      },
      "source": [
        "import pandas as pd\n",
        "\n",
        "data = pd.read_csv('/content/drive/My Drive/台塑輕油案子/data/test_250.csv',index_col=0).reset_index(drop=True)\n",
        "mod  = data.index % 5\n",
        "train = data.loc[ mod != 0 ,:]\n",
        "test = data.loc[ mod == 0 ,:]\n",
        "print(train.shape)\n",
        "print(test.shape)"
      ],
      "execution_count": 23,
      "outputs": [
        {
          "output_type": "stream",
          "text": [
            "(200, 27)\n",
            "(50, 27)\n"
          ],
          "name": "stdout"
        }
      ]
    },
    {
      "cell_type": "code",
      "metadata": {
        "id": "xs44aGa_BfGC",
        "colab_type": "code",
        "outputId": "828d53f2-d111-4ae2-dc17-6c53151e013a",
        "colab": {
          "base_uri": "https://localhost:8080/",
          "height": 214
        }
      },
      "source": [
        "train.head()"
      ],
      "execution_count": 24,
      "outputs": [
        {
          "output_type": "execute_result",
          "data": {
            "text/html": [
              "<div>\n",
              "<style scoped>\n",
              "    .dataframe tbody tr th:only-of-type {\n",
              "        vertical-align: middle;\n",
              "    }\n",
              "\n",
              "    .dataframe tbody tr th {\n",
              "        vertical-align: top;\n",
              "    }\n",
              "\n",
              "    .dataframe thead th {\n",
              "        text-align: right;\n",
              "    }\n",
              "</style>\n",
              "<table border=\"1\" class=\"dataframe\">\n",
              "  <thead>\n",
              "    <tr style=\"text-align: right;\">\n",
              "      <th></th>\n",
              "      <th>T10</th>\n",
              "      <th>T50</th>\n",
              "      <th>T90</th>\n",
              "      <th>N+A</th>\n",
              "      <th>C5NP</th>\n",
              "      <th>C5IP</th>\n",
              "      <th>C5N</th>\n",
              "      <th>C6NP</th>\n",
              "      <th>C6IP</th>\n",
              "      <th>C6N</th>\n",
              "      <th>C6A</th>\n",
              "      <th>C7NP</th>\n",
              "      <th>C7IP</th>\n",
              "      <th>C7N</th>\n",
              "      <th>C7A</th>\n",
              "      <th>C8NP</th>\n",
              "      <th>C8IP</th>\n",
              "      <th>C8N</th>\n",
              "      <th>C8A</th>\n",
              "      <th>C9NP</th>\n",
              "      <th>C9IP</th>\n",
              "      <th>C9N</th>\n",
              "      <th>C9A</th>\n",
              "      <th>C10NP</th>\n",
              "      <th>C10IP</th>\n",
              "      <th>C10N</th>\n",
              "      <th>C10A</th>\n",
              "    </tr>\n",
              "  </thead>\n",
              "  <tbody>\n",
              "    <tr>\n",
              "      <th>1</th>\n",
              "      <td>74.9</td>\n",
              "      <td>105.9</td>\n",
              "      <td>138.6</td>\n",
              "      <td>39.082932</td>\n",
              "      <td>6.819271</td>\n",
              "      <td>5.891867</td>\n",
              "      <td>0.771648</td>\n",
              "      <td>5.836773</td>\n",
              "      <td>7.357714</td>\n",
              "      <td>6.355753</td>\n",
              "      <td>0.659941</td>\n",
              "      <td>5.309983</td>\n",
              "      <td>6.537441</td>\n",
              "      <td>11.889440</td>\n",
              "      <td>2.175804</td>\n",
              "      <td>5.337691</td>\n",
              "      <td>8.360263</td>\n",
              "      <td>9.078996</td>\n",
              "      <td>3.419692</td>\n",
              "      <td>2.224309</td>\n",
              "      <td>6.563137</td>\n",
              "      <td>4.008402</td>\n",
              "      <td>0.522953</td>\n",
              "      <td>0.057245</td>\n",
              "      <td>0.621373</td>\n",
              "      <td>0.165602</td>\n",
              "      <td>0.034701</td>\n",
              "    </tr>\n",
              "    <tr>\n",
              "      <th>2</th>\n",
              "      <td>60.4</td>\n",
              "      <td>97.9</td>\n",
              "      <td>144.4</td>\n",
              "      <td>40.934064</td>\n",
              "      <td>12.061397</td>\n",
              "      <td>8.788561</td>\n",
              "      <td>1.018949</td>\n",
              "      <td>6.671666</td>\n",
              "      <td>8.024599</td>\n",
              "      <td>10.116494</td>\n",
              "      <td>3.755812</td>\n",
              "      <td>4.855465</td>\n",
              "      <td>4.197693</td>\n",
              "      <td>12.283775</td>\n",
              "      <td>4.139793</td>\n",
              "      <td>3.781476</td>\n",
              "      <td>4.404284</td>\n",
              "      <td>3.863638</td>\n",
              "      <td>3.345833</td>\n",
              "      <td>2.205359</td>\n",
              "      <td>2.984103</td>\n",
              "      <td>1.368210</td>\n",
              "      <td>0.800960</td>\n",
              "      <td>0.414533</td>\n",
              "      <td>0.676800</td>\n",
              "      <td>0.070908</td>\n",
              "      <td>0.169692</td>\n",
              "    </tr>\n",
              "    <tr>\n",
              "      <th>3</th>\n",
              "      <td>100.4</td>\n",
              "      <td>114.0</td>\n",
              "      <td>137.0</td>\n",
              "      <td>53.849498</td>\n",
              "      <td>0.152985</td>\n",
              "      <td>0.054995</td>\n",
              "      <td>0.125987</td>\n",
              "      <td>2.097767</td>\n",
              "      <td>1.214444</td>\n",
              "      <td>7.428715</td>\n",
              "      <td>2.663734</td>\n",
              "      <td>6.475165</td>\n",
              "      <td>5.259181</td>\n",
              "      <td>15.397940</td>\n",
              "      <td>6.812319</td>\n",
              "      <td>7.602400</td>\n",
              "      <td>9.434827</td>\n",
              "      <td>8.037266</td>\n",
              "      <td>7.481252</td>\n",
              "      <td>3.877234</td>\n",
              "      <td>8.225184</td>\n",
              "      <td>3.917980</td>\n",
              "      <td>1.569843</td>\n",
              "      <td>0.421814</td>\n",
              "      <td>1.334506</td>\n",
              "      <td>0.127167</td>\n",
              "      <td>0.287296</td>\n",
              "    </tr>\n",
              "    <tr>\n",
              "      <th>4</th>\n",
              "      <td>105.7</td>\n",
              "      <td>127.5</td>\n",
              "      <td>154.6</td>\n",
              "      <td>44.225827</td>\n",
              "      <td>0.334270</td>\n",
              "      <td>0.215481</td>\n",
              "      <td>0.153186</td>\n",
              "      <td>2.306365</td>\n",
              "      <td>2.733433</td>\n",
              "      <td>3.013477</td>\n",
              "      <td>0.453959</td>\n",
              "      <td>4.235994</td>\n",
              "      <td>4.640280</td>\n",
              "      <td>8.692144</td>\n",
              "      <td>3.097721</td>\n",
              "      <td>6.825638</td>\n",
              "      <td>9.400184</td>\n",
              "      <td>8.999908</td>\n",
              "      <td>6.979372</td>\n",
              "      <td>5.567792</td>\n",
              "      <td>11.825300</td>\n",
              "      <td>7.673652</td>\n",
              "      <td>3.166715</td>\n",
              "      <td>1.524705</td>\n",
              "      <td>6.164731</td>\n",
              "      <td>0.415157</td>\n",
              "      <td>1.580535</td>\n",
              "    </tr>\n",
              "    <tr>\n",
              "      <th>6</th>\n",
              "      <td>106.0</td>\n",
              "      <td>125.4</td>\n",
              "      <td>159.8</td>\n",
              "      <td>54.454027</td>\n",
              "      <td>0.350789</td>\n",
              "      <td>0.220336</td>\n",
              "      <td>0.130728</td>\n",
              "      <td>1.183945</td>\n",
              "      <td>1.376936</td>\n",
              "      <td>3.548836</td>\n",
              "      <td>0.417912</td>\n",
              "      <td>3.073976</td>\n",
              "      <td>5.860175</td>\n",
              "      <td>12.842276</td>\n",
              "      <td>3.848192</td>\n",
              "      <td>4.339943</td>\n",
              "      <td>8.836537</td>\n",
              "      <td>10.087635</td>\n",
              "      <td>6.383659</td>\n",
              "      <td>3.155302</td>\n",
              "      <td>9.465907</td>\n",
              "      <td>7.226622</td>\n",
              "      <td>5.172914</td>\n",
              "      <td>1.604274</td>\n",
              "      <td>6.077852</td>\n",
              "      <td>0.922120</td>\n",
              "      <td>3.873133</td>\n",
              "    </tr>\n",
              "  </tbody>\n",
              "</table>\n",
              "</div>"
            ],
            "text/plain": [
              "     T10    T50    T90        N+A  ...     C10NP     C10IP      C10N      C10A\n",
              "1   74.9  105.9  138.6  39.082932  ...  0.057245  0.621373  0.165602  0.034701\n",
              "2   60.4   97.9  144.4  40.934064  ...  0.414533  0.676800  0.070908  0.169692\n",
              "3  100.4  114.0  137.0  53.849498  ...  0.421814  1.334506  0.127167  0.287296\n",
              "4  105.7  127.5  154.6  44.225827  ...  1.524705  6.164731  0.415157  1.580535\n",
              "6  106.0  125.4  159.8  54.454027  ...  1.604274  6.077852  0.922120  3.873133\n",
              "\n",
              "[5 rows x 27 columns]"
            ]
          },
          "metadata": {
            "tags": []
          },
          "execution_count": 24
        }
      ]
    },
    {
      "cell_type": "code",
      "metadata": {
        "id": "nid60yDlCq-E",
        "colab_type": "code",
        "colab": {}
      },
      "source": [
        "y_name = 'C6NP'"
      ],
      "execution_count": 0,
      "outputs": []
    },
    {
      "cell_type": "code",
      "metadata": {
        "id": "8iYxbyTuRkzi",
        "colab_type": "code",
        "colab": {
          "base_uri": "https://localhost:8080/",
          "height": 194
        },
        "outputId": "7476feca-1dd8-41cf-8ac5-db1c1c35300d"
      },
      "source": [
        "corr_res = abs(train.iloc[:,4:].corr())[[y_name]].sort_values(by=y_name,ascending=False)\n",
        "corr_res.head(5)"
      ],
      "execution_count": 26,
      "outputs": [
        {
          "output_type": "execute_result",
          "data": {
            "text/html": [
              "<div>\n",
              "<style scoped>\n",
              "    .dataframe tbody tr th:only-of-type {\n",
              "        vertical-align: middle;\n",
              "    }\n",
              "\n",
              "    .dataframe tbody tr th {\n",
              "        vertical-align: top;\n",
              "    }\n",
              "\n",
              "    .dataframe thead th {\n",
              "        text-align: right;\n",
              "    }\n",
              "</style>\n",
              "<table border=\"1\" class=\"dataframe\">\n",
              "  <thead>\n",
              "    <tr style=\"text-align: right;\">\n",
              "      <th></th>\n",
              "      <th>C6NP</th>\n",
              "    </tr>\n",
              "  </thead>\n",
              "  <tbody>\n",
              "    <tr>\n",
              "      <th>C6NP</th>\n",
              "      <td>1.000000</td>\n",
              "    </tr>\n",
              "    <tr>\n",
              "      <th>C6IP</th>\n",
              "      <td>0.945547</td>\n",
              "    </tr>\n",
              "    <tr>\n",
              "      <th>C5N</th>\n",
              "      <td>0.865503</td>\n",
              "    </tr>\n",
              "    <tr>\n",
              "      <th>C5NP</th>\n",
              "      <td>0.827811</td>\n",
              "    </tr>\n",
              "    <tr>\n",
              "      <th>C5IP</th>\n",
              "      <td>0.754047</td>\n",
              "    </tr>\n",
              "  </tbody>\n",
              "</table>\n",
              "</div>"
            ],
            "text/plain": [
              "          C6NP\n",
              "C6NP  1.000000\n",
              "C6IP  0.945547\n",
              "C5N   0.865503\n",
              "C5NP  0.827811\n",
              "C5IP  0.754047"
            ]
          },
          "metadata": {
            "tags": []
          },
          "execution_count": 26
        }
      ]
    },
    {
      "cell_type": "markdown",
      "metadata": {
        "id": "gi59vvbsCRDt",
        "colab_type": "text"
      },
      "source": [
        "# def features & y_columns"
      ]
    },
    {
      "cell_type": "code",
      "metadata": {
        "id": "JTGR8uW3AgaS",
        "colab_type": "code",
        "colab": {
          "base_uri": "https://localhost:8080/",
          "height": 35
        },
        "outputId": "69784b7d-b92b-490e-9c6d-c06eef0e91f1"
      },
      "source": [
        "features = ['T10','T50','T90','N+A']\n",
        "y_columns = list(corr_res[corr_res[y_name]>0.8].index)\n",
        "y_columns"
      ],
      "execution_count": 27,
      "outputs": [
        {
          "output_type": "execute_result",
          "data": {
            "text/plain": [
              "['C6NP', 'C6IP', 'C5N', 'C5NP']"
            ]
          },
          "metadata": {
            "tags": []
          },
          "execution_count": 27
        }
      ]
    },
    {
      "cell_type": "markdown",
      "metadata": {
        "id": "YwrTkRmDDb3C",
        "colab_type": "text"
      },
      "source": [
        "# PCA y_columns"
      ]
    },
    {
      "cell_type": "code",
      "metadata": {
        "id": "r2N1XvFlDKU2",
        "colab_type": "code",
        "colab": {}
      },
      "source": [
        "from sklearn.decomposition import PCA\n",
        "from sklearn.preprocessing import StandardScaler\n",
        "\n",
        "scaler_y = StandardScaler()\n",
        "pca = PCA(n_components=1)\n",
        "\n",
        "train['pca_1'] = pca.fit_transform(scaler_y.fit_transform(train[y_columns]))\n",
        "test['pca_1'] = pca.transform(scaler_y.transform(test[y_columns]))"
      ],
      "execution_count": 0,
      "outputs": []
    },
    {
      "cell_type": "markdown",
      "metadata": {
        "id": "O3av6N69DzsD",
        "colab_type": "text"
      },
      "source": [
        "# scaler features"
      ]
    },
    {
      "cell_type": "code",
      "metadata": {
        "id": "_Cd_zaYXDxjK",
        "colab_type": "code",
        "colab": {}
      },
      "source": [
        "from sklearn.preprocessing import StandardScaler\n",
        "\n",
        "scaler_x = StandardScaler()\n",
        "\n",
        "train[features] = scaler_x.fit_transform(train[features])\n",
        "test[features] = scaler_x.transform(test[features])"
      ],
      "execution_count": 0,
      "outputs": []
    },
    {
      "cell_type": "markdown",
      "metadata": {
        "id": "YGr4otLZD-NJ",
        "colab_type": "text"
      },
      "source": [
        "# metric"
      ]
    },
    {
      "cell_type": "code",
      "metadata": {
        "id": "859tAQaqD7jd",
        "colab_type": "code",
        "colab": {}
      },
      "source": [
        "from sklearn.metrics import r2_score,mean_squared_error,mean_absolute_error\n",
        "from math import sqrt\n",
        "def metric(y_t,y_p):\n",
        "  res = {'R2':r2_score(y_t,y_p),\n",
        "         'RMSE':sqrt(mean_squared_error(y_t,y_p)),\n",
        "         'mean_absolute_error':mean_absolute_error(y_t,y_p)}\n",
        "  return pd.DataFrame(res,index=[y_t.name])"
      ],
      "execution_count": 0,
      "outputs": []
    },
    {
      "cell_type": "markdown",
      "metadata": {
        "id": "X7gtrRFVEBWa",
        "colab_type": "text"
      },
      "source": [
        "# modeling"
      ]
    },
    {
      "cell_type": "code",
      "metadata": {
        "id": "dZ1UOMrPD_3R",
        "colab_type": "code",
        "colab": {
          "base_uri": "https://localhost:8080/",
          "height": 130
        },
        "outputId": "6a8b1973-1b4b-4bf2-bd97-42fb28e13534"
      },
      "source": [
        "from sklearn.svm import SVR\n",
        "from sklearn.model_selection import cross_validate\n",
        "import warnings \n",
        "warnings.simplefilter('ignore')\n",
        "\n",
        "#算法選擇\n",
        "model = SVR(C=1)\n",
        "\n",
        "#交叉驗證表現\n",
        "val_scores = cross_validate(model,train[features],train['pca_1'],cv=5)\n",
        "print('val_scores:',val_scores['test_score'])\n",
        "print('val_scores.mean:',val_scores['test_score'].mean())\n",
        "\n",
        "#測試集表現\n",
        "print('test_scores:')\n",
        "model.fit(train[features],train['pca_1'])\n",
        "test['y_pred'] = model.predict(test[features])\n",
        "metric(test['pca_1'],test['y_pred'])"
      ],
      "execution_count": 35,
      "outputs": [
        {
          "output_type": "stream",
          "text": [
            "val_scores: [0.91587125 0.90583621 0.94042588 0.89592268 0.89154105]\n",
            "val_scores.mean: 0.9099194165845695\n",
            "test_scores:\n"
          ],
          "name": "stdout"
        },
        {
          "output_type": "execute_result",
          "data": {
            "text/html": [
              "<div>\n",
              "<style scoped>\n",
              "    .dataframe tbody tr th:only-of-type {\n",
              "        vertical-align: middle;\n",
              "    }\n",
              "\n",
              "    .dataframe tbody tr th {\n",
              "        vertical-align: top;\n",
              "    }\n",
              "\n",
              "    .dataframe thead th {\n",
              "        text-align: right;\n",
              "    }\n",
              "</style>\n",
              "<table border=\"1\" class=\"dataframe\">\n",
              "  <thead>\n",
              "    <tr style=\"text-align: right;\">\n",
              "      <th></th>\n",
              "      <th>R2</th>\n",
              "      <th>RMSE</th>\n",
              "      <th>mean_absolute_error</th>\n",
              "    </tr>\n",
              "  </thead>\n",
              "  <tbody>\n",
              "    <tr>\n",
              "      <th>pca_1</th>\n",
              "      <td>0.904989</td>\n",
              "      <td>0.580948</td>\n",
              "      <td>0.28019</td>\n",
              "    </tr>\n",
              "  </tbody>\n",
              "</table>\n",
              "</div>"
            ],
            "text/plain": [
              "             R2      RMSE  mean_absolute_error\n",
              "pca_1  0.904989  0.580948              0.28019"
            ]
          },
          "metadata": {
            "tags": []
          },
          "execution_count": 35
        }
      ]
    },
    {
      "cell_type": "markdown",
      "metadata": {
        "id": "Y1yEjz8fEmLj",
        "colab_type": "text"
      },
      "source": [
        "# line plot"
      ]
    },
    {
      "cell_type": "code",
      "metadata": {
        "id": "g6NpsyNGEROi",
        "colab_type": "code",
        "colab": {
          "base_uri": "https://localhost:8080/",
          "height": 354
        },
        "outputId": "2270b574-131a-483b-f3c8-7890f8d22cb7"
      },
      "source": [
        "import matplotlib.pyplot as plt\n",
        "\n",
        "fig = plt.figure(figsize=(30,5))\n",
        "\n",
        "# sorted point\n",
        "test_point = test.sort_values(by='T10')\n",
        "train_point = train.sort_values(by='T10')\n",
        "\n",
        "# y_pred line\n",
        "plt.plot(test_point['T10'],test_point['y_pred'],label='pred line',color='red')\n",
        "\n",
        "# test point\n",
        "plt.scatter(test_point['T10'],test_point['pca_1'],label='test point')\n",
        "\n",
        "# train point\n",
        "plt.scatter(train_point['T10'],train_point['pca_1'],label='train point')\n",
        "\n",
        "plt.legend()\n",
        "plt.xlabel('T10')\n",
        "plt.ylabel('pca_1')\n",
        "plt.show()"
      ],
      "execution_count": 37,
      "outputs": [
        {
          "output_type": "display_data",
          "data": {
            "image/png": "[encoded data removed]",
            "text/plain": [
              "<Figure size 2160x360 with 1 Axes>"
            ]
          },
          "metadata": {
            "tags": []
          }
        }
      ]
    },
    {
      "cell_type": "markdown",
      "metadata": {
        "id": "ASUEGvMQFffU",
        "colab_type": "text"
      },
      "source": [
        "# check out"
      ]
    },
    {
      "cell_type": "code",
      "metadata": {
        "id": "TAcp9GUKEoRx",
        "colab_type": "code",
        "colab": {
          "base_uri": "https://localhost:8080/",
          "height": 124
        },
        "outputId": "de2b1092-643f-4f11-f64a-bd6c0c45774e"
      },
      "source": [
        "loss = (test_point['pca_1'] - test_point['y_pred'])**2 # 平方誤差\n",
        "loss.sort_values(ascending=False).head(5)"
      ],
      "execution_count": 38,
      "outputs": [
        {
          "output_type": "execute_result",
          "data": {
            "text/plain": [
              "95     11.671600\n",
              "100     2.110993\n",
              "150     0.401591\n",
              "60      0.397032\n",
              "90      0.362529\n",
              "dtype: float64"
            ]
          },
          "metadata": {
            "tags": []
          },
          "execution_count": 38
        }
      ]
    },
    {
      "cell_type": "code",
      "metadata": {
        "id": "1hWr4TLKFj9y",
        "colab_type": "code",
        "colab": {
          "base_uri": "https://localhost:8080/",
          "height": 35
        },
        "outputId": "e797e9e1-e53a-4324-a72a-5d322c715e74"
      },
      "source": [
        "ub = loss.mean() + 3 * loss.std()\n",
        "ub"
      ],
      "execution_count": 39,
      "outputs": [
        {
          "output_type": "execute_result",
          "data": {
            "text/plain": [
              "5.329849547569949"
            ]
          },
          "metadata": {
            "tags": []
          },
          "execution_count": 39
        }
      ]
    },
    {
      "cell_type": "code",
      "metadata": {
        "id": "ynas4DMxFli4",
        "colab_type": "code",
        "colab": {
          "base_uri": "https://localhost:8080/",
          "height": 35
        },
        "outputId": "131c5082-7106-4f9d-9aa1-9d0a8715a246"
      },
      "source": [
        "out_index = list(loss[loss>ub].index)\n",
        "out_index"
      ],
      "execution_count": 40,
      "outputs": [
        {
          "output_type": "execute_result",
          "data": {
            "text/plain": [
              "[95]"
            ]
          },
          "metadata": {
            "tags": []
          },
          "execution_count": 40
        }
      ]
    },
    {
      "cell_type": "markdown",
      "metadata": {
        "id": "_jpYu-nOFozd",
        "colab_type": "text"
      },
      "source": [
        "# del out"
      ]
    },
    {
      "cell_type": "code",
      "metadata": {
        "id": "s82mdP4sFnP1",
        "colab_type": "code",
        "colab": {}
      },
      "source": [
        "#add out columns\n",
        "test_point['out'] = False\n",
        "test_point.loc[out_index ,'out'] = True\n",
        "\n",
        "#def out_point\n",
        "out_point = test_point[test_point['out'] == True]"
      ],
      "execution_count": 0,
      "outputs": []
    },
    {
      "cell_type": "code",
      "metadata": {
        "id": "n2mHHn2-Fq9z",
        "colab_type": "code",
        "colab": {
          "base_uri": "https://localhost:8080/",
          "height": 340
        },
        "outputId": "927f8a29-8c24-44df-9bcb-e86f3005868b"
      },
      "source": [
        "#fig\n",
        "fig = plt.figure(figsize=(30,5))\n",
        "\n",
        "#y_pred line\n",
        "plt.plot(test_point['T10'],test_point['y_pred'],label='pred line',color='red')\n",
        "\n",
        "#test point\n",
        "plt.scatter(test_point['T10'],test_point['pca_1'],label='test point')\n",
        "\n",
        "#out point\n",
        "plt.scatter(out_point['T10'],out_point['pca_1'],label='out point')\n",
        "\n",
        "plt.legend()\n",
        "plt.show()"
      ],
      "execution_count": 42,
      "outputs": [
        {
          "output_type": "display_data",
          "data": {
            "image/png": "[encoded data removed]",
            "text/plain": [
              "<Figure size 2160x360 with 1 Axes>"
            ]
          },
          "metadata": {
            "tags": []
          }
        }
      ]
    },
    {
      "cell_type": "markdown",
      "metadata": {
        "id": "kZMB8zHCF0Ap",
        "colab_type": "text"
      },
      "source": [
        "# del_out_point_scores:"
      ]
    },
    {
      "cell_type": "code",
      "metadata": {
        "id": "BWc6GgzqFsjg",
        "colab_type": "code",
        "colab": {
          "base_uri": "https://localhost:8080/",
          "height": 94
        },
        "outputId": "caaa06d7-a598-4cb3-d981-77fde6e95735"
      },
      "source": [
        "print('del_out_point_scores:')\n",
        "metric(test_point.loc[test_point['out'] == False ,'pca_1'],test_point.loc[test_point['out'] == False ,'y_pred'])"
      ],
      "execution_count": 43,
      "outputs": [
        {
          "output_type": "stream",
          "text": [
            "del_out_point_scores:\n"
          ],
          "name": "stdout"
        },
        {
          "output_type": "execute_result",
          "data": {
            "text/html": [
              "<div>\n",
              "<style scoped>\n",
              "    .dataframe tbody tr th:only-of-type {\n",
              "        vertical-align: middle;\n",
              "    }\n",
              "\n",
              "    .dataframe tbody tr th {\n",
              "        vertical-align: top;\n",
              "    }\n",
              "\n",
              "    .dataframe thead th {\n",
              "        text-align: right;\n",
              "    }\n",
              "</style>\n",
              "<table border=\"1\" class=\"dataframe\">\n",
              "  <thead>\n",
              "    <tr style=\"text-align: right;\">\n",
              "      <th></th>\n",
              "      <th>R2</th>\n",
              "      <th>RMSE</th>\n",
              "      <th>mean_absolute_error</th>\n",
              "    </tr>\n",
              "  </thead>\n",
              "  <tbody>\n",
              "    <tr>\n",
              "      <th>pca_1</th>\n",
              "      <td>0.97037</td>\n",
              "      <td>0.325872</td>\n",
              "      <td>0.216186</td>\n",
              "    </tr>\n",
              "  </tbody>\n",
              "</table>\n",
              "</div>"
            ],
            "text/plain": [
              "            R2      RMSE  mean_absolute_error\n",
              "pca_1  0.97037  0.325872             0.216186"
            ]
          },
          "metadata": {
            "tags": []
          },
          "execution_count": 43
        }
      ]
    },
    {
      "cell_type": "markdown",
      "metadata": {
        "id": "PEpSL-RaF_CR",
        "colab_type": "text"
      },
      "source": [
        "# all scores"
      ]
    },
    {
      "cell_type": "code",
      "metadata": {
        "id": "T8kA0F9fF4al",
        "colab_type": "code",
        "colab": {}
      },
      "source": [
        "y_pred_all = pd.DataFrame(scaler_y.inverse_transform(pca.inverse_transform(test[['pca_1']])),index=test.index,columns=y_columns)\n",
        "y_test_all = test[y_columns]"
      ],
      "execution_count": 0,
      "outputs": []
    },
    {
      "cell_type": "code",
      "metadata": {
        "id": "AmbvHku4GFbw",
        "colab_type": "code",
        "colab": {
          "base_uri": "https://localhost:8080/",
          "height": 194
        },
        "outputId": "5b7a8997-0fed-4b3d-d151-ec40fc009423"
      },
      "source": [
        "res = pd.DataFrame()\n",
        "for i in y_columns:\n",
        "  res = res.append(metric(y_test_all[i],y_pred_all[i]))\n",
        "res.loc['AVG'] = res.mean()\n",
        "res"
      ],
      "execution_count": 45,
      "outputs": [
        {
          "output_type": "execute_result",
          "data": {
            "text/html": [
              "<div>\n",
              "<style scoped>\n",
              "    .dataframe tbody tr th:only-of-type {\n",
              "        vertical-align: middle;\n",
              "    }\n",
              "\n",
              "    .dataframe tbody tr th {\n",
              "        vertical-align: top;\n",
              "    }\n",
              "\n",
              "    .dataframe thead th {\n",
              "        text-align: right;\n",
              "    }\n",
              "</style>\n",
              "<table border=\"1\" class=\"dataframe\">\n",
              "  <thead>\n",
              "    <tr style=\"text-align: right;\">\n",
              "      <th></th>\n",
              "      <th>R2</th>\n",
              "      <th>RMSE</th>\n",
              "      <th>mean_absolute_error</th>\n",
              "    </tr>\n",
              "  </thead>\n",
              "  <tbody>\n",
              "    <tr>\n",
              "      <th>C6NP</th>\n",
              "      <td>0.924046</td>\n",
              "      <td>0.634335</td>\n",
              "      <td>0.492838</td>\n",
              "    </tr>\n",
              "    <tr>\n",
              "      <th>C6IP</th>\n",
              "      <td>0.978591</td>\n",
              "      <td>0.390531</td>\n",
              "      <td>0.311802</td>\n",
              "    </tr>\n",
              "    <tr>\n",
              "      <th>C5N</th>\n",
              "      <td>0.947936</td>\n",
              "      <td>0.069953</td>\n",
              "      <td>0.047065</td>\n",
              "    </tr>\n",
              "    <tr>\n",
              "      <th>C5NP</th>\n",
              "      <td>0.922874</td>\n",
              "      <td>1.083387</td>\n",
              "      <td>0.918351</td>\n",
              "    </tr>\n",
              "    <tr>\n",
              "      <th>AVG</th>\n",
              "      <td>0.943362</td>\n",
              "      <td>0.544552</td>\n",
              "      <td>0.442514</td>\n",
              "    </tr>\n",
              "  </tbody>\n",
              "</table>\n",
              "</div>"
            ],
            "text/plain": [
              "            R2      RMSE  mean_absolute_error\n",
              "C6NP  0.924046  0.634335             0.492838\n",
              "C6IP  0.978591  0.390531             0.311802\n",
              "C5N   0.947936  0.069953             0.047065\n",
              "C5NP  0.922874  1.083387             0.918351\n",
              "AVG   0.943362  0.544552             0.442514"
            ]
          },
          "metadata": {
            "tags": []
          },
          "execution_count": 45
        }
      ]
    },
    {
      "cell_type": "markdown",
      "metadata": {
        "id": "UdHltTljGP_c",
        "colab_type": "text"
      },
      "source": [
        "# del out all scores"
      ]
    },
    {
      "cell_type": "code",
      "metadata": {
        "id": "jh6SGinRGGYb",
        "colab_type": "code",
        "colab": {
          "base_uri": "https://localhost:8080/",
          "height": 35
        },
        "outputId": "f4ee7db2-3408-4d26-a062-34d95572c44b"
      },
      "source": [
        "print(out_index)\n",
        "y_pred_all = y_pred_all.drop(out_index,axis=0)\n",
        "y_test_all = y_test_all.drop(out_index,axis=0)"
      ],
      "execution_count": 46,
      "outputs": [
        {
          "output_type": "stream",
          "text": [
            "[95]\n"
          ],
          "name": "stdout"
        }
      ]
    },
    {
      "cell_type": "code",
      "metadata": {
        "id": "xQOwj7_IGR_2",
        "colab_type": "code",
        "colab": {
          "base_uri": "https://localhost:8080/",
          "height": 194
        },
        "outputId": "987a9195-a3db-4789-db63-211bd5b0af73"
      },
      "source": [
        "res = pd.DataFrame()\n",
        "for i in y_columns:\n",
        "  res = res.append(metric(y_test_all[i],y_pred_all[i]))\n",
        "res.loc['AVG'] = res.mean()\n",
        "res"
      ],
      "execution_count": 47,
      "outputs": [
        {
          "output_type": "execute_result",
          "data": {
            "text/html": [
              "<div>\n",
              "<style scoped>\n",
              "    .dataframe tbody tr th:only-of-type {\n",
              "        vertical-align: middle;\n",
              "    }\n",
              "\n",
              "    .dataframe tbody tr th {\n",
              "        vertical-align: top;\n",
              "    }\n",
              "\n",
              "    .dataframe thead th {\n",
              "        text-align: right;\n",
              "    }\n",
              "</style>\n",
              "<table border=\"1\" class=\"dataframe\">\n",
              "  <thead>\n",
              "    <tr style=\"text-align: right;\">\n",
              "      <th></th>\n",
              "      <th>R2</th>\n",
              "      <th>RMSE</th>\n",
              "      <th>mean_absolute_error</th>\n",
              "    </tr>\n",
              "  </thead>\n",
              "  <tbody>\n",
              "    <tr>\n",
              "      <th>C6NP</th>\n",
              "      <td>0.923577</td>\n",
              "      <td>0.640551</td>\n",
              "      <td>0.500473</td>\n",
              "    </tr>\n",
              "    <tr>\n",
              "      <th>C6IP</th>\n",
              "      <td>0.979813</td>\n",
              "      <td>0.382108</td>\n",
              "      <td>0.304153</td>\n",
              "    </tr>\n",
              "    <tr>\n",
              "      <th>C5N</th>\n",
              "      <td>0.948650</td>\n",
              "      <td>0.069323</td>\n",
              "      <td>0.046069</td>\n",
              "    </tr>\n",
              "    <tr>\n",
              "      <th>C5NP</th>\n",
              "      <td>0.921957</td>\n",
              "      <td>1.094321</td>\n",
              "      <td>0.935389</td>\n",
              "    </tr>\n",
              "    <tr>\n",
              "      <th>AVG</th>\n",
              "      <td>0.943499</td>\n",
              "      <td>0.546576</td>\n",
              "      <td>0.446521</td>\n",
              "    </tr>\n",
              "  </tbody>\n",
              "</table>\n",
              "</div>"
            ],
            "text/plain": [
              "            R2      RMSE  mean_absolute_error\n",
              "C6NP  0.923577  0.640551             0.500473\n",
              "C6IP  0.979813  0.382108             0.304153\n",
              "C5N   0.948650  0.069323             0.046069\n",
              "C5NP  0.921957  1.094321             0.935389\n",
              "AVG   0.943499  0.546576             0.446521"
            ]
          },
          "metadata": {
            "tags": []
          },
          "execution_count": 47
        }
      ]
    },
    {
      "cell_type": "code",
      "metadata": {
        "id": "pz5LK6lwGVWh",
        "colab_type": "code",
        "colab": {}
      },
      "source": [
        ""
      ],
      "execution_count": 0,
      "outputs": []
    }
  ]
}