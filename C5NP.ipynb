{
  "nbformat": 4,
  "nbformat_minor": 0,
  "metadata": {
    "colab": {
      "name": "C5NP.ipynb",
      "provenance": [],
      "collapsed_sections": [],
      "include_colab_link": true
    },
    "kernelspec": {
      "name": "python3",
      "display_name": "Python 3"
    }
  },
  "cells": [
    {
      "cell_type": "markdown",
      "metadata": {
        "id": "view-in-github",
        "colab_type": "text"
      },
      "source": [
        "<a href=\"https://colab.research.google.com/github/skywalker0803r/works/blob/master/C5NP.ipynb\" target=\"_parent\"><img src=\"https://colab.research.google.com/assets/colab-badge.svg\" alt=\"Open In Colab\"/></a>"
      ]
    },
    {
      "cell_type": "code",
      "metadata": {
        "id": "x4wyEqgvdxII",
        "colab_type": "code",
        "outputId": "818c53fe-97ce-4414-ce18-0da373a2a4e3",
        "colab": {
          "base_uri": "https://localhost:8080/",
          "height": 35
        }
      },
      "source": [
        "from google.colab import drive\n",
        "drive.mount('/content/drive')\n",
        "import warnings \n",
        "warnings.simplefilter('ignore')"
      ],
      "execution_count": 1,
      "outputs": [
        {
          "output_type": "stream",
          "text": [
            "Drive already mounted at /content/drive; to attempt to forcibly remount, call drive.mount(\"/content/drive\", force_remount=True).\n"
          ],
          "name": "stdout"
        }
      ]
    },
    {
      "cell_type": "markdown",
      "metadata": {
        "id": "1insKjCbQliM",
        "colab_type": "text"
      },
      "source": [
        "# Load data"
      ]
    },
    {
      "cell_type": "code",
      "metadata": {
        "id": "zYzX34f9dyBW",
        "colab_type": "code",
        "colab": {}
      },
      "source": [
        "import pandas as pd\n",
        "\n",
        "train = pd.read_csv('/content/drive/My Drive/台塑輕油案子/data/train_4521.csv',index_col=0).reset_index(drop=True)\n",
        "test = pd.read_csv('/content/drive/My Drive/台塑輕油案子/data/test_250.csv',index_col=0).reset_index(drop=True)\n",
        "mod  = test.index % 5\n",
        "test_add = test.loc[ mod != 0 ,:]\n",
        "test_50 = test.loc[ mod == 0 ,:]"
      ],
      "execution_count": 0,
      "outputs": []
    },
    {
      "cell_type": "markdown",
      "metadata": {
        "id": "RXE1c8qby8uV",
        "colab_type": "text"
      },
      "source": [
        "# def train,test,features,y_name"
      ]
    },
    {
      "cell_type": "code",
      "metadata": {
        "id": "7uZp6aI7y84g",
        "colab_type": "code",
        "outputId": "89e92023-90c8-487a-a4c3-2ecdc34f5b26",
        "colab": {
          "base_uri": "https://localhost:8080/",
          "height": 52
        }
      },
      "source": [
        "features = ['T10','T50','T90','N+A']\n",
        "y_name = 'C5NP'\n",
        "train = train.append(test_add)[features+[y_name]]\n",
        "test = test_50[features+[y_name]]\n",
        "print(train.shape)\n",
        "print(test.shape)"
      ],
      "execution_count": 3,
      "outputs": [
        {
          "output_type": "stream",
          "text": [
            "(4721, 5)\n",
            "(50, 5)\n"
          ],
          "name": "stdout"
        }
      ]
    },
    {
      "cell_type": "markdown",
      "metadata": {
        "id": "19z_n0uhQ23W",
        "colab_type": "text"
      },
      "source": [
        "# describe"
      ]
    },
    {
      "cell_type": "code",
      "metadata": {
        "id": "wNRdN0a8Q3DQ",
        "colab_type": "code",
        "outputId": "a3ec537b-b48c-46f3-dc3d-cbc114eabb54",
        "colab": {
          "base_uri": "https://localhost:8080/",
          "height": 282
        }
      },
      "source": [
        "train.describe()"
      ],
      "execution_count": 4,
      "outputs": [
        {
          "output_type": "execute_result",
          "data": {
            "text/html": [
              "<div>\n",
              "<style scoped>\n",
              "    .dataframe tbody tr th:only-of-type {\n",
              "        vertical-align: middle;\n",
              "    }\n",
              "\n",
              "    .dataframe tbody tr th {\n",
              "        vertical-align: top;\n",
              "    }\n",
              "\n",
              "    .dataframe thead th {\n",
              "        text-align: right;\n",
              "    }\n",
              "</style>\n",
              "<table border=\"1\" class=\"dataframe\">\n",
              "  <thead>\n",
              "    <tr style=\"text-align: right;\">\n",
              "      <th></th>\n",
              "      <th>T10</th>\n",
              "      <th>T50</th>\n",
              "      <th>T90</th>\n",
              "      <th>N+A</th>\n",
              "      <th>C5NP</th>\n",
              "    </tr>\n",
              "  </thead>\n",
              "  <tbody>\n",
              "    <tr>\n",
              "      <th>count</th>\n",
              "      <td>4721.000000</td>\n",
              "      <td>4721.000000</td>\n",
              "      <td>4721.000000</td>\n",
              "      <td>4721.000000</td>\n",
              "      <td>4721.000000</td>\n",
              "    </tr>\n",
              "    <tr>\n",
              "      <th>mean</th>\n",
              "      <td>95.216280</td>\n",
              "      <td>115.395742</td>\n",
              "      <td>144.440530</td>\n",
              "      <td>40.815614</td>\n",
              "      <td>1.800642</td>\n",
              "    </tr>\n",
              "    <tr>\n",
              "      <th>std</th>\n",
              "      <td>11.551752</td>\n",
              "      <td>6.838592</td>\n",
              "      <td>4.683146</td>\n",
              "      <td>8.437211</td>\n",
              "      <td>2.333936</td>\n",
              "    </tr>\n",
              "    <tr>\n",
              "      <th>min</th>\n",
              "      <td>47.100000</td>\n",
              "      <td>83.000000</td>\n",
              "      <td>121.500000</td>\n",
              "      <td>20.570000</td>\n",
              "      <td>0.000000</td>\n",
              "    </tr>\n",
              "    <tr>\n",
              "      <th>25%</th>\n",
              "      <td>91.900000</td>\n",
              "      <td>113.000000</td>\n",
              "      <td>142.500000</td>\n",
              "      <td>33.133000</td>\n",
              "      <td>0.181000</td>\n",
              "    </tr>\n",
              "    <tr>\n",
              "      <th>50%</th>\n",
              "      <td>99.000000</td>\n",
              "      <td>117.500000</td>\n",
              "      <td>144.500000</td>\n",
              "      <td>38.282000</td>\n",
              "      <td>1.025000</td>\n",
              "    </tr>\n",
              "    <tr>\n",
              "      <th>75%</th>\n",
              "      <td>103.700000</td>\n",
              "      <td>119.900000</td>\n",
              "      <td>146.400000</td>\n",
              "      <td>48.938000</td>\n",
              "      <td>2.168000</td>\n",
              "    </tr>\n",
              "    <tr>\n",
              "      <th>max</th>\n",
              "      <td>116.900000</td>\n",
              "      <td>131.700000</td>\n",
              "      <td>198.500000</td>\n",
              "      <td>69.540000</td>\n",
              "      <td>16.611529</td>\n",
              "    </tr>\n",
              "  </tbody>\n",
              "</table>\n",
              "</div>"
            ],
            "text/plain": [
              "               T10          T50          T90          N+A         C5NP\n",
              "count  4721.000000  4721.000000  4721.000000  4721.000000  4721.000000\n",
              "mean     95.216280   115.395742   144.440530    40.815614     1.800642\n",
              "std      11.551752     6.838592     4.683146     8.437211     2.333936\n",
              "min      47.100000    83.000000   121.500000    20.570000     0.000000\n",
              "25%      91.900000   113.000000   142.500000    33.133000     0.181000\n",
              "50%      99.000000   117.500000   144.500000    38.282000     1.025000\n",
              "75%     103.700000   119.900000   146.400000    48.938000     2.168000\n",
              "max     116.900000   131.700000   198.500000    69.540000    16.611529"
            ]
          },
          "metadata": {
            "tags": []
          },
          "execution_count": 4
        }
      ]
    },
    {
      "cell_type": "markdown",
      "metadata": {
        "id": "ht_2Wez1RfDM",
        "colab_type": "text"
      },
      "source": [
        "# corr"
      ]
    },
    {
      "cell_type": "code",
      "metadata": {
        "id": "bYq3W6EpfBRC",
        "colab_type": "code",
        "outputId": "867ce156-ce3e-45a9-a479-7bcefedd263b",
        "colab": {
          "base_uri": "https://localhost:8080/",
          "height": 194
        }
      },
      "source": [
        "train.corr()"
      ],
      "execution_count": 5,
      "outputs": [
        {
          "output_type": "execute_result",
          "data": {
            "text/html": [
              "<div>\n",
              "<style scoped>\n",
              "    .dataframe tbody tr th:only-of-type {\n",
              "        vertical-align: middle;\n",
              "    }\n",
              "\n",
              "    .dataframe tbody tr th {\n",
              "        vertical-align: top;\n",
              "    }\n",
              "\n",
              "    .dataframe thead th {\n",
              "        text-align: right;\n",
              "    }\n",
              "</style>\n",
              "<table border=\"1\" class=\"dataframe\">\n",
              "  <thead>\n",
              "    <tr style=\"text-align: right;\">\n",
              "      <th></th>\n",
              "      <th>T10</th>\n",
              "      <th>T50</th>\n",
              "      <th>T90</th>\n",
              "      <th>N+A</th>\n",
              "      <th>C5NP</th>\n",
              "    </tr>\n",
              "  </thead>\n",
              "  <tbody>\n",
              "    <tr>\n",
              "      <th>T10</th>\n",
              "      <td>1.000000</td>\n",
              "      <td>0.895238</td>\n",
              "      <td>0.222087</td>\n",
              "      <td>-0.262210</td>\n",
              "      <td>-0.938402</td>\n",
              "    </tr>\n",
              "    <tr>\n",
              "      <th>T50</th>\n",
              "      <td>0.895238</td>\n",
              "      <td>1.000000</td>\n",
              "      <td>0.533778</td>\n",
              "      <td>-0.371996</td>\n",
              "      <td>-0.804852</td>\n",
              "    </tr>\n",
              "    <tr>\n",
              "      <th>T90</th>\n",
              "      <td>0.222087</td>\n",
              "      <td>0.533778</td>\n",
              "      <td>1.000000</td>\n",
              "      <td>-0.217989</td>\n",
              "      <td>-0.140439</td>\n",
              "    </tr>\n",
              "    <tr>\n",
              "      <th>N+A</th>\n",
              "      <td>-0.262210</td>\n",
              "      <td>-0.371996</td>\n",
              "      <td>-0.217989</td>\n",
              "      <td>1.000000</td>\n",
              "      <td>0.186861</td>\n",
              "    </tr>\n",
              "    <tr>\n",
              "      <th>C5NP</th>\n",
              "      <td>-0.938402</td>\n",
              "      <td>-0.804852</td>\n",
              "      <td>-0.140439</td>\n",
              "      <td>0.186861</td>\n",
              "      <td>1.000000</td>\n",
              "    </tr>\n",
              "  </tbody>\n",
              "</table>\n",
              "</div>"
            ],
            "text/plain": [
              "           T10       T50       T90       N+A      C5NP\n",
              "T10   1.000000  0.895238  0.222087 -0.262210 -0.938402\n",
              "T50   0.895238  1.000000  0.533778 -0.371996 -0.804852\n",
              "T90   0.222087  0.533778  1.000000 -0.217989 -0.140439\n",
              "N+A  -0.262210 -0.371996 -0.217989  1.000000  0.186861\n",
              "C5NP -0.938402 -0.804852 -0.140439  0.186861  1.000000"
            ]
          },
          "metadata": {
            "tags": []
          },
          "execution_count": 5
        }
      ]
    },
    {
      "cell_type": "code",
      "metadata": {
        "id": "-1z5ihxGdvGw",
        "colab_type": "code",
        "colab": {}
      },
      "source": [
        "#根據corr 選擇重要特徵\n",
        "features = ['T10']"
      ],
      "execution_count": 0,
      "outputs": []
    },
    {
      "cell_type": "markdown",
      "metadata": {
        "id": "5HtEqV1jpbvh",
        "colab_type": "text"
      },
      "source": [
        "# kde"
      ]
    },
    {
      "cell_type": "code",
      "metadata": {
        "id": "R8DUzZJYpb4M",
        "colab_type": "code",
        "outputId": "7786fe05-bfcb-41d0-bb19-5ebf7e442fd1",
        "colab": {
          "base_uri": "https://localhost:8080/",
          "height": 541
        }
      },
      "source": [
        "import matplotlib.pyplot as plt\n",
        "import seaborn as sns\n",
        "\n",
        "for col in features+[y_name]:\n",
        "  sns.kdeplot(data = train[col],label='train')\n",
        "  sns.kdeplot(data = test[col],label='test')\n",
        "  plt.legend();plt.xlabel(col);plt.ylabel(y_name)\n",
        "  plt.show()"
      ],
      "execution_count": 7,
      "outputs": [
        {
          "output_type": "display_data",
          "data": {
            "image/png": "[encoded data removed]",
            "text/plain": [
              "<Figure size 432x288 with 1 Axes>"
            ]
          },
          "metadata": {
            "tags": []
          }
        },
        {
          "output_type": "display_data",
          "data": {
            "image/png": "[encoded data removed]",
            "text/plain": [
              "<Figure size 432x288 with 1 Axes>"
            ]
          },
          "metadata": {
            "tags": []
          }
        }
      ]
    },
    {
      "cell_type": "markdown",
      "metadata": {
        "id": "UZ6DD5tKSRtP",
        "colab_type": "text"
      },
      "source": [
        "# scatter"
      ]
    },
    {
      "cell_type": "code",
      "metadata": {
        "id": "C6eShoSceLx2",
        "colab_type": "code",
        "outputId": "05157110-bb71-4c5f-fa92-17974ef64a1f",
        "colab": {
          "base_uri": "https://localhost:8080/",
          "height": 279
        }
      },
      "source": [
        "for x_col in features:\n",
        "  sns.scatterplot(x=x_col,y=y_name,data=train,label='train')\n",
        "  sns.scatterplot(x=x_col,y=y_name,data=test,label='test')\n",
        "  plt.legend()\n",
        "  plt.show()"
      ],
      "execution_count": 8,
      "outputs": [
        {
          "output_type": "display_data",
          "data": {
            "image/png": "[encoded data removed]",
            "text/plain": [
              "<Figure size 432x288 with 1 Axes>"
            ]
          },
          "metadata": {
            "tags": []
          }
        }
      ]
    },
    {
      "cell_type": "markdown",
      "metadata": {
        "id": "wz0liy4Aqj8W",
        "colab_type": "text"
      },
      "source": [
        "# scaler"
      ]
    },
    {
      "cell_type": "code",
      "metadata": {
        "id": "tX7hiKQGlDif",
        "colab_type": "code",
        "outputId": "eb419073-e65f-49d6-f318-54f5dde40d15",
        "colab": {
          "base_uri": "https://localhost:8080/",
          "height": 35
        }
      },
      "source": [
        "from sklearn.preprocessing import StandardScaler\n",
        "\n",
        "scaler = StandardScaler()\n",
        "scaler.fit(train[features])"
      ],
      "execution_count": 9,
      "outputs": [
        {
          "output_type": "execute_result",
          "data": {
            "text/plain": [
              "StandardScaler(copy=True, with_mean=True, with_std=True)"
            ]
          },
          "metadata": {
            "tags": []
          },
          "execution_count": 9
        }
      ]
    },
    {
      "cell_type": "code",
      "metadata": {
        "id": "WOooyswrrE3G",
        "colab_type": "code",
        "colab": {}
      },
      "source": [
        "train[features] = scaler.transform(train[features])\n",
        "test[features] = scaler.transform(test[features])"
      ],
      "execution_count": 0,
      "outputs": []
    },
    {
      "cell_type": "markdown",
      "metadata": {
        "id": "LdQROmroranC",
        "colab_type": "text"
      },
      "source": [
        "# metric"
      ]
    },
    {
      "cell_type": "code",
      "metadata": {
        "id": "BLVag6Db5IC_",
        "colab_type": "code",
        "colab": {}
      },
      "source": [
        "from sklearn.metrics import r2_score,mean_squared_error,mean_absolute_error\n",
        "from math import sqrt\n",
        "def metric(y_t,y_p):\n",
        "  res = {'R2':r2_score(y_t,y_p),\n",
        "         'RMSE':sqrt(mean_squared_error(y_t,y_p)),\n",
        "         'mean_absolute_error':mean_absolute_error(y_t,y_p)}\n",
        "  return pd.DataFrame(res,index=[y_t.name])"
      ],
      "execution_count": 0,
      "outputs": []
    },
    {
      "cell_type": "markdown",
      "metadata": {
        "id": "dI7Eaut3rcn6",
        "colab_type": "text"
      },
      "source": [
        "# modeling"
      ]
    },
    {
      "cell_type": "code",
      "metadata": {
        "id": "4IENvGdxlmwR",
        "colab_type": "code",
        "outputId": "859ce9e5-e5b2-47e6-c843-637520985205",
        "colab": {
          "base_uri": "https://localhost:8080/",
          "height": 130
        }
      },
      "source": [
        "import xgboost\n",
        "from sklearn.svm import SVR\n",
        "from math import sqrt\n",
        "from lightgbm import LGBMRegressor\n",
        "from sklearn.ensemble import VotingRegressor\n",
        "from sklearn.model_selection import cross_validate\n",
        "from sklearn.linear_model import LinearRegression\n",
        "import warnings \n",
        "warnings.simplefilter('ignore')\n",
        "\n",
        "#model = xgboost.XGBRegressor(objective='reg:squarederror')\n",
        "model = SVR(C=2)\n",
        "#model = LinearRegression()\n",
        "\n",
        "val_scores = cross_validate(model,train[features],train[y_name],cv=5)\n",
        "\n",
        "print('val_scores:',val_scores['test_score'])\n",
        "print('val_scores.mean:',val_scores['test_score'].mean())\n",
        "\n",
        "# fit \n",
        "model.fit(train[features],train[y_name])\n",
        "# predict\n",
        "test['y_pred'] = model.predict(test[features])\n",
        "\n",
        "# metric\n",
        "print('test_scores:')\n",
        "metric(test[y_name],test['y_pred'])\n"
      ],
      "execution_count": 12,
      "outputs": [
        {
          "output_type": "stream",
          "text": [
            "val_scores: [0.85819305 0.70989492 0.96090031 0.92181494 0.92903429]\n",
            "val_scores.mean: 0.8759675024088882\n",
            "test_scores:\n"
          ],
          "name": "stdout"
        },
        {
          "output_type": "execute_result",
          "data": {
            "text/html": [
              "<div>\n",
              "<style scoped>\n",
              "    .dataframe tbody tr th:only-of-type {\n",
              "        vertical-align: middle;\n",
              "    }\n",
              "\n",
              "    .dataframe tbody tr th {\n",
              "        vertical-align: top;\n",
              "    }\n",
              "\n",
              "    .dataframe thead th {\n",
              "        text-align: right;\n",
              "    }\n",
              "</style>\n",
              "<table border=\"1\" class=\"dataframe\">\n",
              "  <thead>\n",
              "    <tr style=\"text-align: right;\">\n",
              "      <th></th>\n",
              "      <th>R2</th>\n",
              "      <th>RMSE</th>\n",
              "      <th>mean_absolute_error</th>\n",
              "    </tr>\n",
              "  </thead>\n",
              "  <tbody>\n",
              "    <tr>\n",
              "      <th>C5NP</th>\n",
              "      <td>0.900071</td>\n",
              "      <td>1.233188</td>\n",
              "      <td>0.658139</td>\n",
              "    </tr>\n",
              "  </tbody>\n",
              "</table>\n",
              "</div>"
            ],
            "text/plain": [
              "            R2      RMSE  mean_absolute_error\n",
              "C5NP  0.900071  1.233188             0.658139"
            ]
          },
          "metadata": {
            "tags": []
          },
          "execution_count": 12
        }
      ]
    },
    {
      "cell_type": "markdown",
      "metadata": {
        "id": "X-1MdsCXsIov",
        "colab_type": "text"
      },
      "source": [
        "# tree"
      ]
    },
    {
      "cell_type": "code",
      "metadata": {
        "id": "IYttyEFoE-PN",
        "colab_type": "code",
        "colab": {}
      },
      "source": [
        "#xgboost.to_graphviz(model)"
      ],
      "execution_count": 0,
      "outputs": []
    },
    {
      "cell_type": "markdown",
      "metadata": {
        "id": "R3qtwcKqsKt6",
        "colab_type": "text"
      },
      "source": [
        "# line plot"
      ]
    },
    {
      "cell_type": "code",
      "metadata": {
        "id": "ql86a67LmV_2",
        "colab_type": "code",
        "outputId": "e57377f4-336a-4c0a-e0c2-448185991b63",
        "colab": {
          "base_uri": "https://localhost:8080/",
          "height": 340
        }
      },
      "source": [
        "fig = plt.figure(figsize=(30,5))\n",
        "\n",
        "test_point = test.sort_values(by='T10')\n",
        "train_sample_point = train.sample(300).sort_values(by='T10')\n",
        "\n",
        "plt.plot(test_point['T10'],test_point['y_pred'],label='pred line',color='red')\n",
        "\n",
        "plt.scatter(test_point['T10'],test_point[y_name],label='test point')\n",
        "\n",
        "plt.scatter(train_sample_point['T10'],train_sample_point[y_name],label='train point')\n",
        "\n",
        "plt.legend()\n",
        "plt.show()"
      ],
      "execution_count": 14,
      "outputs": [
        {
          "output_type": "display_data",
          "data": {
            "image/png": "[encoded data removed]",
            "text/plain": [
              "<Figure size 2160x360 with 1 Axes>"
            ]
          },
          "metadata": {
            "tags": []
          }
        }
      ]
    },
    {
      "cell_type": "markdown",
      "metadata": {
        "id": "NPtNvdptjTC4",
        "colab_type": "text"
      },
      "source": [
        "# check out"
      ]
    },
    {
      "cell_type": "code",
      "metadata": {
        "id": "-a3vUedX87t8",
        "colab_type": "code",
        "outputId": "2caa17cf-8284-4e5e-a554-24209043c78a",
        "colab": {
          "base_uri": "https://localhost:8080/",
          "height": 124
        }
      },
      "source": [
        "loss = (test_point[y_name] - test_point['y_pred'])**2 # 平方誤差\n",
        "loss.sort_values(ascending=False).head(5)"
      ],
      "execution_count": 15,
      "outputs": [
        {
          "output_type": "execute_result",
          "data": {
            "text/plain": [
              "95     46.902675\n",
              "100     5.266154\n",
              "150     4.814340\n",
              "30      2.387610\n",
              "60      2.125880\n",
              "dtype: float64"
            ]
          },
          "metadata": {
            "tags": []
          },
          "execution_count": 15
        }
      ]
    },
    {
      "cell_type": "markdown",
      "metadata": {
        "id": "F5brTol1kMLj",
        "colab_type": "text"
      },
      "source": [
        "# del out"
      ]
    },
    {
      "cell_type": "code",
      "metadata": {
        "id": "srF0nApphw1q",
        "colab_type": "code",
        "outputId": "18891a45-d2ba-4764-abb9-f5280941374f",
        "colab": {
          "base_uri": "https://localhost:8080/",
          "height": 340
        }
      },
      "source": [
        "#add out columns\n",
        "test_point['out'] = False\n",
        "test_point.loc[loss.sort_values(ascending=False).head(1).index,'out'] = True\n",
        "\n",
        "#fig\n",
        "fig = plt.figure(figsize=(30,5))\n",
        "\n",
        "#sort test point\n",
        "test_point = test_point.sort_values(by='T10')\n",
        "\n",
        "#def out_point\n",
        "out_point = test_point[test_point['out'] == True]\n",
        "\n",
        "#y_pred line\n",
        "plt.plot(test_point['T10'],test_point['y_pred'],label='pred line',color='red')\n",
        "\n",
        "#test point\n",
        "plt.scatter(test_point['T10'],test_point[y_name],label='test point')\n",
        "\n",
        "#out point\n",
        "plt.scatter(out_point['T10'],out_point[y_name],label='out point')\n",
        "\n",
        "plt.legend()\n",
        "plt.show()"
      ],
      "execution_count": 16,
      "outputs": [
        {
          "output_type": "display_data",
          "data": {
            "image/png": "[encoded data removed]",
            "text/plain": [
              "<Figure size 2160x360 with 1 Axes>"
            ]
          },
          "metadata": {
            "tags": []
          }
        }
      ]
    },
    {
      "cell_type": "markdown",
      "metadata": {
        "id": "aNWy702t0W0f",
        "colab_type": "text"
      },
      "source": [
        "# del_out_point_scores:"
      ]
    },
    {
      "cell_type": "code",
      "metadata": {
        "id": "_ZxrRO1HiXyi",
        "colab_type": "code",
        "outputId": "8a2fe0e7-226f-4d1c-ca3b-7e2970c45198",
        "colab": {
          "base_uri": "https://localhost:8080/",
          "height": 94
        }
      },
      "source": [
        "print('del_out_point_scores:')\n",
        "metric(test_point.loc[test_point['out'] == False ,y_name],test_point.loc[test_point['out'] == False ,'y_pred'])"
      ],
      "execution_count": 17,
      "outputs": [
        {
          "output_type": "stream",
          "text": [
            "del_out_point_scores:\n"
          ],
          "name": "stdout"
        },
        {
          "output_type": "execute_result",
          "data": {
            "text/html": [
              "<div>\n",
              "<style scoped>\n",
              "    .dataframe tbody tr th:only-of-type {\n",
              "        vertical-align: middle;\n",
              "    }\n",
              "\n",
              "    .dataframe tbody tr th {\n",
              "        vertical-align: top;\n",
              "    }\n",
              "\n",
              "    .dataframe thead th {\n",
              "        text-align: right;\n",
              "    }\n",
              "</style>\n",
              "<table border=\"1\" class=\"dataframe\">\n",
              "  <thead>\n",
              "    <tr style=\"text-align: right;\">\n",
              "      <th></th>\n",
              "      <th>R2</th>\n",
              "      <th>RMSE</th>\n",
              "      <th>mean_absolute_error</th>\n",
              "    </tr>\n",
              "  </thead>\n",
              "  <tbody>\n",
              "    <tr>\n",
              "      <th>C5NP</th>\n",
              "      <td>0.961251</td>\n",
              "      <td>0.771098</td>\n",
              "      <td>0.531804</td>\n",
              "    </tr>\n",
              "  </tbody>\n",
              "</table>\n",
              "</div>"
            ],
            "text/plain": [
              "            R2      RMSE  mean_absolute_error\n",
              "C5NP  0.961251  0.771098             0.531804"
            ]
          },
          "metadata": {
            "tags": []
          },
          "execution_count": 17
        }
      ]
    },
    {
      "cell_type": "code",
      "metadata": {
        "id": "CEUQGHiYj-ko",
        "colab_type": "code",
        "colab": {}
      },
      "source": [
        ""
      ],
      "execution_count": 0,
      "outputs": []
    }
  ]
}