{
  "nbformat": 4,
  "nbformat_minor": 0,
  "metadata": {
    "colab": {
      "name": "輕油案子ART2分群_201909012_特徵工程_序列遞增預測_超參數調整(10次)_knn.ipynb",
      "version": "0.3.2",
      "provenance": [],
      "collapsed_sections": [],
      "include_colab_link": true
    },
    "kernelspec": {
      "name": "python3",
      "display_name": "Python 3"
    },
    "accelerator": "GPU"
  },
  "cells": [
    {
      "cell_type": "markdown",
      "metadata": {
        "id": "view-in-github",
        "colab_type": "text"
      },
      "source": [
        "<a href=\"https://colab.research.google.com/github/skywalker0803r/works/blob/master/%E8%BC%95%E6%B2%B9%E6%A1%88%E5%AD%90ART2%E5%88%86%E7%BE%A4_201909012_%E7%89%B9%E5%BE%B5%E5%B7%A5%E7%A8%8B_%E5%BA%8F%E5%88%97%E9%81%9E%E5%A2%9E%E9%A0%90%E6%B8%AC_%E8%B6%85%E5%8F%83%E6%95%B8%E8%AA%BF%E6%95%B4(10%E6%AC%A1)_knn.ipynb\" target=\"_parent\"><img src=\"https://colab.research.google.com/assets/colab-badge.svg\" alt=\"Open In Colab\"/></a>"
      ]
    },
    {
      "cell_type": "code",
      "metadata": {
        "id": "LpsLnehcyY0b",
        "colab_type": "code",
        "outputId": "8187cb60-b151-4741-fcae-55c0cbd42579",
        "colab": {
          "base_uri": "https://localhost:8080/",
          "height": 33
        }
      },
      "source": [
        "from google.colab import drive\n",
        "drive.mount('/content/drive')"
      ],
      "execution_count": 1,
      "outputs": [
        {
          "output_type": "stream",
          "text": [
            "Drive already mounted at /content/drive; to attempt to forcibly remount, call drive.mount(\"/content/drive\", force_remount=True).\n"
          ],
          "name": "stdout"
        }
      ]
    },
    {
      "cell_type": "code",
      "metadata": {
        "id": "bG-ZjEodynfF",
        "colab_type": "code",
        "colab": {}
      },
      "source": [
        "import ART2_Ricky\n",
        "import pandas as pd\n",
        "import numpy as np"
      ],
      "execution_count": 0,
      "outputs": []
    },
    {
      "cell_type": "code",
      "metadata": {
        "id": "_6LedHztysPT",
        "colab_type": "code",
        "outputId": "0ac673dd-cb45-4ba3-c9e5-9bf5f49a13c0",
        "colab": {
          "base_uri": "https://localhost:8080/",
          "height": 267
        }
      },
      "source": [
        "#載入訓練資料\n",
        "path = '/content/drive/My Drive/台塑輕油案子/輕油實驗數據(保留大部份欄位,三個基本規則清洗過).csv'\n",
        "df = pd.read_csv(path)\n",
        "print(df.shape)\n",
        "df.head()"
      ],
      "execution_count": 3,
      "outputs": [
        {
          "output_type": "stream",
          "text": [
            "(4521, 41)\n"
          ],
          "name": "stdout"
        },
        {
          "output_type": "execute_result",
          "data": {
            "text/html": [
              "<div>\n",
              "<style scoped>\n",
              "    .dataframe tbody tr th:only-of-type {\n",
              "        vertical-align: middle;\n",
              "    }\n",
              "\n",
              "    .dataframe tbody tr th {\n",
              "        vertical-align: top;\n",
              "    }\n",
              "\n",
              "    .dataframe thead th {\n",
              "        text-align: right;\n",
              "    }\n",
              "</style>\n",
              "<table border=\"1\" class=\"dataframe\">\n",
              "  <thead>\n",
              "    <tr style=\"text-align: right;\">\n",
              "      <th></th>\n",
              "      <th>IBP</th>\n",
              "      <th>T10</th>\n",
              "      <th>T30</th>\n",
              "      <th>T50</th>\n",
              "      <th>T70</th>\n",
              "      <th>T90</th>\n",
              "      <th>T95</th>\n",
              "      <th>EBP</th>\n",
              "      <th>Total Paraffins</th>\n",
              "      <th>Total Naphthenes</th>\n",
              "      <th>Total Aromatics</th>\n",
              "      <th>C6- in Feed</th>\n",
              "      <th>C7 in Naphtha Feed</th>\n",
              "      <th>C8 in Naphtha Feed</th>\n",
              "      <th>C9 in Naphtha Feed</th>\n",
              "      <th>C10+ in Naphtha Feed</th>\n",
              "      <th>N+A in Feed</th>\n",
              "      <th>C5NP</th>\n",
              "      <th>C5IP</th>\n",
              "      <th>C5N</th>\n",
              "      <th>C6NP</th>\n",
              "      <th>C6IP</th>\n",
              "      <th>C6N</th>\n",
              "      <th>C6A</th>\n",
              "      <th>C7NP</th>\n",
              "      <th>C7IP</th>\n",
              "      <th>C7N</th>\n",
              "      <th>C7A</th>\n",
              "      <th>C8NP</th>\n",
              "      <th>C8IP</th>\n",
              "      <th>C8N</th>\n",
              "      <th>C8A</th>\n",
              "      <th>C9NP</th>\n",
              "      <th>C9IP</th>\n",
              "      <th>C9N</th>\n",
              "      <th>C9A</th>\n",
              "      <th>C10NP</th>\n",
              "      <th>C10IP</th>\n",
              "      <th>C10N</th>\n",
              "      <th>C10A</th>\n",
              "      <th>Total</th>\n",
              "    </tr>\n",
              "  </thead>\n",
              "  <tbody>\n",
              "    <tr>\n",
              "      <th>0</th>\n",
              "      <td>87.9</td>\n",
              "      <td>100.5</td>\n",
              "      <td>109.2</td>\n",
              "      <td>119.2</td>\n",
              "      <td>131.2</td>\n",
              "      <td>146.5</td>\n",
              "      <td>153.1</td>\n",
              "      <td>162.8</td>\n",
              "      <td>67.815</td>\n",
              "      <td>19.214</td>\n",
              "      <td>12.764</td>\n",
              "      <td>11.639</td>\n",
              "      <td>27.793</td>\n",
              "      <td>28.970</td>\n",
              "      <td>24.415</td>\n",
              "      <td>6.976</td>\n",
              "      <td>31.978</td>\n",
              "      <td>0.272</td>\n",
              "      <td>0.132</td>\n",
              "      <td>0.059</td>\n",
              "      <td>5.293</td>\n",
              "      <td>2.570</td>\n",
              "      <td>2.819</td>\n",
              "      <td>0.494</td>\n",
              "      <td>10.395</td>\n",
              "      <td>8.070</td>\n",
              "      <td>6.411</td>\n",
              "      <td>2.917</td>\n",
              "      <td>9.138</td>\n",
              "      <td>9.649</td>\n",
              "      <td>4.810</td>\n",
              "      <td>5.373</td>\n",
              "      <td>6.405</td>\n",
              "      <td>9.759</td>\n",
              "      <td>4.590</td>\n",
              "      <td>3.661</td>\n",
              "      <td>0.875</td>\n",
              "      <td>5.257</td>\n",
              "      <td>0.525</td>\n",
              "      <td>0.319</td>\n",
              "      <td>99.793</td>\n",
              "    </tr>\n",
              "    <tr>\n",
              "      <th>1</th>\n",
              "      <td>87.3</td>\n",
              "      <td>99.6</td>\n",
              "      <td>108.9</td>\n",
              "      <td>117.9</td>\n",
              "      <td>130.1</td>\n",
              "      <td>145.5</td>\n",
              "      <td>151.6</td>\n",
              "      <td>164.2</td>\n",
              "      <td>67.313</td>\n",
              "      <td>19.434</td>\n",
              "      <td>12.134</td>\n",
              "      <td>11.433</td>\n",
              "      <td>27.321</td>\n",
              "      <td>28.714</td>\n",
              "      <td>23.519</td>\n",
              "      <td>7.894</td>\n",
              "      <td>31.568</td>\n",
              "      <td>0.297</td>\n",
              "      <td>0.151</td>\n",
              "      <td>0.062</td>\n",
              "      <td>5.089</td>\n",
              "      <td>2.531</td>\n",
              "      <td>2.804</td>\n",
              "      <td>0.499</td>\n",
              "      <td>10.074</td>\n",
              "      <td>7.958</td>\n",
              "      <td>6.395</td>\n",
              "      <td>2.894</td>\n",
              "      <td>8.970</td>\n",
              "      <td>9.548</td>\n",
              "      <td>4.753</td>\n",
              "      <td>5.443</td>\n",
              "      <td>6.324</td>\n",
              "      <td>9.899</td>\n",
              "      <td>4.301</td>\n",
              "      <td>2.995</td>\n",
              "      <td>0.881</td>\n",
              "      <td>5.591</td>\n",
              "      <td>1.119</td>\n",
              "      <td>0.303</td>\n",
              "      <td>98.881</td>\n",
              "    </tr>\n",
              "    <tr>\n",
              "      <th>2</th>\n",
              "      <td>88.7</td>\n",
              "      <td>100.0</td>\n",
              "      <td>109.1</td>\n",
              "      <td>118.8</td>\n",
              "      <td>130.7</td>\n",
              "      <td>145.6</td>\n",
              "      <td>152.0</td>\n",
              "      <td>164.0</td>\n",
              "      <td>67.494</td>\n",
              "      <td>19.226</td>\n",
              "      <td>12.118</td>\n",
              "      <td>11.390</td>\n",
              "      <td>27.250</td>\n",
              "      <td>28.843</td>\n",
              "      <td>23.596</td>\n",
              "      <td>7.759</td>\n",
              "      <td>31.344</td>\n",
              "      <td>0.262</td>\n",
              "      <td>0.126</td>\n",
              "      <td>0.061</td>\n",
              "      <td>5.107</td>\n",
              "      <td>2.571</td>\n",
              "      <td>2.771</td>\n",
              "      <td>0.492</td>\n",
              "      <td>10.069</td>\n",
              "      <td>7.913</td>\n",
              "      <td>6.378</td>\n",
              "      <td>2.890</td>\n",
              "      <td>9.006</td>\n",
              "      <td>9.591</td>\n",
              "      <td>4.778</td>\n",
              "      <td>5.468</td>\n",
              "      <td>6.360</td>\n",
              "      <td>9.983</td>\n",
              "      <td>4.274</td>\n",
              "      <td>2.979</td>\n",
              "      <td>0.865</td>\n",
              "      <td>5.641</td>\n",
              "      <td>0.964</td>\n",
              "      <td>0.289</td>\n",
              "      <td>98.838</td>\n",
              "    </tr>\n",
              "    <tr>\n",
              "      <th>3</th>\n",
              "      <td>88.6</td>\n",
              "      <td>100.4</td>\n",
              "      <td>109.1</td>\n",
              "      <td>118.6</td>\n",
              "      <td>129.4</td>\n",
              "      <td>142.9</td>\n",
              "      <td>147.2</td>\n",
              "      <td>159.4</td>\n",
              "      <td>67.354</td>\n",
              "      <td>19.363</td>\n",
              "      <td>12.090</td>\n",
              "      <td>10.899</td>\n",
              "      <td>26.942</td>\n",
              "      <td>29.240</td>\n",
              "      <td>24.010</td>\n",
              "      <td>7.716</td>\n",
              "      <td>31.453</td>\n",
              "      <td>0.224</td>\n",
              "      <td>0.105</td>\n",
              "      <td>0.060</td>\n",
              "      <td>4.894</td>\n",
              "      <td>2.497</td>\n",
              "      <td>2.650</td>\n",
              "      <td>0.469</td>\n",
              "      <td>10.015</td>\n",
              "      <td>7.685</td>\n",
              "      <td>6.376</td>\n",
              "      <td>2.866</td>\n",
              "      <td>9.133</td>\n",
              "      <td>9.708</td>\n",
              "      <td>4.889</td>\n",
              "      <td>5.510</td>\n",
              "      <td>6.444</td>\n",
              "      <td>10.182</td>\n",
              "      <td>4.420</td>\n",
              "      <td>2.964</td>\n",
              "      <td>0.830</td>\n",
              "      <td>5.637</td>\n",
              "      <td>0.968</td>\n",
              "      <td>0.281</td>\n",
              "      <td>98.807</td>\n",
              "    </tr>\n",
              "    <tr>\n",
              "      <th>4</th>\n",
              "      <td>88.4</td>\n",
              "      <td>100.4</td>\n",
              "      <td>108.8</td>\n",
              "      <td>118.1</td>\n",
              "      <td>129.0</td>\n",
              "      <td>142.2</td>\n",
              "      <td>146.5</td>\n",
              "      <td>158.0</td>\n",
              "      <td>66.593</td>\n",
              "      <td>19.321</td>\n",
              "      <td>12.869</td>\n",
              "      <td>11.042</td>\n",
              "      <td>27.089</td>\n",
              "      <td>29.132</td>\n",
              "      <td>24.603</td>\n",
              "      <td>6.917</td>\n",
              "      <td>32.190</td>\n",
              "      <td>0.243</td>\n",
              "      <td>0.117</td>\n",
              "      <td>0.061</td>\n",
              "      <td>4.946</td>\n",
              "      <td>2.503</td>\n",
              "      <td>2.695</td>\n",
              "      <td>0.477</td>\n",
              "      <td>10.053</td>\n",
              "      <td>7.765</td>\n",
              "      <td>6.394</td>\n",
              "      <td>2.877</td>\n",
              "      <td>9.101</td>\n",
              "      <td>9.676</td>\n",
              "      <td>4.855</td>\n",
              "      <td>5.500</td>\n",
              "      <td>6.416</td>\n",
              "      <td>10.115</td>\n",
              "      <td>4.347</td>\n",
              "      <td>3.725</td>\n",
              "      <td>0.835</td>\n",
              "      <td>4.823</td>\n",
              "      <td>0.969</td>\n",
              "      <td>0.290</td>\n",
              "      <td>98.783</td>\n",
              "    </tr>\n",
              "  </tbody>\n",
              "</table>\n",
              "</div>"
            ],
            "text/plain": [
              "    IBP    T10    T30    T50    T70  ...  C10NP  C10IP   C10N   C10A   Total\n",
              "0  87.9  100.5  109.2  119.2  131.2  ...  0.875  5.257  0.525  0.319  99.793\n",
              "1  87.3   99.6  108.9  117.9  130.1  ...  0.881  5.591  1.119  0.303  98.881\n",
              "2  88.7  100.0  109.1  118.8  130.7  ...  0.865  5.641  0.964  0.289  98.838\n",
              "3  88.6  100.4  109.1  118.6  129.4  ...  0.830  5.637  0.968  0.281  98.807\n",
              "4  88.4  100.4  108.8  118.1  129.0  ...  0.835  4.823  0.969  0.290  98.783\n",
              "\n",
              "[5 rows x 41 columns]"
            ]
          },
          "metadata": {
            "tags": []
          },
          "execution_count": 3
        }
      ]
    },
    {
      "cell_type": "code",
      "metadata": {
        "id": "22EzfHGKyueG",
        "colab_type": "code",
        "outputId": "b127c00d-87ea-4485-c106-078550c51e97",
        "colab": {
          "base_uri": "https://localhost:8080/",
          "height": 197
        }
      },
      "source": [
        "x_columns = ['T10','T50','T90','N+A in Feed']\n",
        "y_columns = ['C5NP', 'C5IP', 'C5N', 'C6NP',\n",
        "       'C6IP', 'C6N', 'C6A', 'C7NP', 'C7IP', 'C7N', 'C7A', 'C8NP', 'C8IP',\n",
        "       'C8N', 'C8A', 'C9NP', 'C9IP', 'C9N', 'C9A', 'C10NP', 'C10IP', 'C10N',\n",
        "       'C10A']\n",
        "df = df[x_columns+y_columns]\n",
        "df.head()"
      ],
      "execution_count": 4,
      "outputs": [
        {
          "output_type": "execute_result",
          "data": {
            "text/html": [
              "<div>\n",
              "<style scoped>\n",
              "    .dataframe tbody tr th:only-of-type {\n",
              "        vertical-align: middle;\n",
              "    }\n",
              "\n",
              "    .dataframe tbody tr th {\n",
              "        vertical-align: top;\n",
              "    }\n",
              "\n",
              "    .dataframe thead th {\n",
              "        text-align: right;\n",
              "    }\n",
              "</style>\n",
              "<table border=\"1\" class=\"dataframe\">\n",
              "  <thead>\n",
              "    <tr style=\"text-align: right;\">\n",
              "      <th></th>\n",
              "      <th>T10</th>\n",
              "      <th>T50</th>\n",
              "      <th>T90</th>\n",
              "      <th>N+A in Feed</th>\n",
              "      <th>C5NP</th>\n",
              "      <th>C5IP</th>\n",
              "      <th>C5N</th>\n",
              "      <th>C6NP</th>\n",
              "      <th>C6IP</th>\n",
              "      <th>C6N</th>\n",
              "      <th>C6A</th>\n",
              "      <th>C7NP</th>\n",
              "      <th>C7IP</th>\n",
              "      <th>C7N</th>\n",
              "      <th>C7A</th>\n",
              "      <th>C8NP</th>\n",
              "      <th>C8IP</th>\n",
              "      <th>C8N</th>\n",
              "      <th>C8A</th>\n",
              "      <th>C9NP</th>\n",
              "      <th>C9IP</th>\n",
              "      <th>C9N</th>\n",
              "      <th>C9A</th>\n",
              "      <th>C10NP</th>\n",
              "      <th>C10IP</th>\n",
              "      <th>C10N</th>\n",
              "      <th>C10A</th>\n",
              "    </tr>\n",
              "  </thead>\n",
              "  <tbody>\n",
              "    <tr>\n",
              "      <th>0</th>\n",
              "      <td>100.5</td>\n",
              "      <td>119.2</td>\n",
              "      <td>146.5</td>\n",
              "      <td>31.978</td>\n",
              "      <td>0.272</td>\n",
              "      <td>0.132</td>\n",
              "      <td>0.059</td>\n",
              "      <td>5.293</td>\n",
              "      <td>2.570</td>\n",
              "      <td>2.819</td>\n",
              "      <td>0.494</td>\n",
              "      <td>10.395</td>\n",
              "      <td>8.070</td>\n",
              "      <td>6.411</td>\n",
              "      <td>2.917</td>\n",
              "      <td>9.138</td>\n",
              "      <td>9.649</td>\n",
              "      <td>4.810</td>\n",
              "      <td>5.373</td>\n",
              "      <td>6.405</td>\n",
              "      <td>9.759</td>\n",
              "      <td>4.590</td>\n",
              "      <td>3.661</td>\n",
              "      <td>0.875</td>\n",
              "      <td>5.257</td>\n",
              "      <td>0.525</td>\n",
              "      <td>0.319</td>\n",
              "    </tr>\n",
              "    <tr>\n",
              "      <th>1</th>\n",
              "      <td>99.6</td>\n",
              "      <td>117.9</td>\n",
              "      <td>145.5</td>\n",
              "      <td>31.568</td>\n",
              "      <td>0.297</td>\n",
              "      <td>0.151</td>\n",
              "      <td>0.062</td>\n",
              "      <td>5.089</td>\n",
              "      <td>2.531</td>\n",
              "      <td>2.804</td>\n",
              "      <td>0.499</td>\n",
              "      <td>10.074</td>\n",
              "      <td>7.958</td>\n",
              "      <td>6.395</td>\n",
              "      <td>2.894</td>\n",
              "      <td>8.970</td>\n",
              "      <td>9.548</td>\n",
              "      <td>4.753</td>\n",
              "      <td>5.443</td>\n",
              "      <td>6.324</td>\n",
              "      <td>9.899</td>\n",
              "      <td>4.301</td>\n",
              "      <td>2.995</td>\n",
              "      <td>0.881</td>\n",
              "      <td>5.591</td>\n",
              "      <td>1.119</td>\n",
              "      <td>0.303</td>\n",
              "    </tr>\n",
              "    <tr>\n",
              "      <th>2</th>\n",
              "      <td>100.0</td>\n",
              "      <td>118.8</td>\n",
              "      <td>145.6</td>\n",
              "      <td>31.344</td>\n",
              "      <td>0.262</td>\n",
              "      <td>0.126</td>\n",
              "      <td>0.061</td>\n",
              "      <td>5.107</td>\n",
              "      <td>2.571</td>\n",
              "      <td>2.771</td>\n",
              "      <td>0.492</td>\n",
              "      <td>10.069</td>\n",
              "      <td>7.913</td>\n",
              "      <td>6.378</td>\n",
              "      <td>2.890</td>\n",
              "      <td>9.006</td>\n",
              "      <td>9.591</td>\n",
              "      <td>4.778</td>\n",
              "      <td>5.468</td>\n",
              "      <td>6.360</td>\n",
              "      <td>9.983</td>\n",
              "      <td>4.274</td>\n",
              "      <td>2.979</td>\n",
              "      <td>0.865</td>\n",
              "      <td>5.641</td>\n",
              "      <td>0.964</td>\n",
              "      <td>0.289</td>\n",
              "    </tr>\n",
              "    <tr>\n",
              "      <th>3</th>\n",
              "      <td>100.4</td>\n",
              "      <td>118.6</td>\n",
              "      <td>142.9</td>\n",
              "      <td>31.453</td>\n",
              "      <td>0.224</td>\n",
              "      <td>0.105</td>\n",
              "      <td>0.060</td>\n",
              "      <td>4.894</td>\n",
              "      <td>2.497</td>\n",
              "      <td>2.650</td>\n",
              "      <td>0.469</td>\n",
              "      <td>10.015</td>\n",
              "      <td>7.685</td>\n",
              "      <td>6.376</td>\n",
              "      <td>2.866</td>\n",
              "      <td>9.133</td>\n",
              "      <td>9.708</td>\n",
              "      <td>4.889</td>\n",
              "      <td>5.510</td>\n",
              "      <td>6.444</td>\n",
              "      <td>10.182</td>\n",
              "      <td>4.420</td>\n",
              "      <td>2.964</td>\n",
              "      <td>0.830</td>\n",
              "      <td>5.637</td>\n",
              "      <td>0.968</td>\n",
              "      <td>0.281</td>\n",
              "    </tr>\n",
              "    <tr>\n",
              "      <th>4</th>\n",
              "      <td>100.4</td>\n",
              "      <td>118.1</td>\n",
              "      <td>142.2</td>\n",
              "      <td>32.190</td>\n",
              "      <td>0.243</td>\n",
              "      <td>0.117</td>\n",
              "      <td>0.061</td>\n",
              "      <td>4.946</td>\n",
              "      <td>2.503</td>\n",
              "      <td>2.695</td>\n",
              "      <td>0.477</td>\n",
              "      <td>10.053</td>\n",
              "      <td>7.765</td>\n",
              "      <td>6.394</td>\n",
              "      <td>2.877</td>\n",
              "      <td>9.101</td>\n",
              "      <td>9.676</td>\n",
              "      <td>4.855</td>\n",
              "      <td>5.500</td>\n",
              "      <td>6.416</td>\n",
              "      <td>10.115</td>\n",
              "      <td>4.347</td>\n",
              "      <td>3.725</td>\n",
              "      <td>0.835</td>\n",
              "      <td>4.823</td>\n",
              "      <td>0.969</td>\n",
              "      <td>0.290</td>\n",
              "    </tr>\n",
              "  </tbody>\n",
              "</table>\n",
              "</div>"
            ],
            "text/plain": [
              "     T10    T50    T90  N+A in Feed   C5NP  ...    C9A  C10NP  C10IP   C10N   C10A\n",
              "0  100.5  119.2  146.5       31.978  0.272  ...  3.661  0.875  5.257  0.525  0.319\n",
              "1   99.6  117.9  145.5       31.568  0.297  ...  2.995  0.881  5.591  1.119  0.303\n",
              "2  100.0  118.8  145.6       31.344  0.262  ...  2.979  0.865  5.641  0.964  0.289\n",
              "3  100.4  118.6  142.9       31.453  0.224  ...  2.964  0.830  5.637  0.968  0.281\n",
              "4  100.4  118.1  142.2       32.190  0.243  ...  3.725  0.835  4.823  0.969  0.290\n",
              "\n",
              "[5 rows x 27 columns]"
            ]
          },
          "metadata": {
            "tags": []
          },
          "execution_count": 4
        }
      ]
    },
    {
      "cell_type": "code",
      "metadata": {
        "id": "QXKi_soWyxQL",
        "colab_type": "code",
        "outputId": "96a05dbe-8421-44c6-cf77-7c91f63d2c38",
        "colab": {
          "base_uri": "https://localhost:8080/",
          "height": 197
        }
      },
      "source": [
        "df = df.rename(columns={'N+A in Feed':'NA'})\n",
        "df.head()"
      ],
      "execution_count": 5,
      "outputs": [
        {
          "output_type": "execute_result",
          "data": {
            "text/html": [
              "<div>\n",
              "<style scoped>\n",
              "    .dataframe tbody tr th:only-of-type {\n",
              "        vertical-align: middle;\n",
              "    }\n",
              "\n",
              "    .dataframe tbody tr th {\n",
              "        vertical-align: top;\n",
              "    }\n",
              "\n",
              "    .dataframe thead th {\n",
              "        text-align: right;\n",
              "    }\n",
              "</style>\n",
              "<table border=\"1\" class=\"dataframe\">\n",
              "  <thead>\n",
              "    <tr style=\"text-align: right;\">\n",
              "      <th></th>\n",
              "      <th>T10</th>\n",
              "      <th>T50</th>\n",
              "      <th>T90</th>\n",
              "      <th>NA</th>\n",
              "      <th>C5NP</th>\n",
              "      <th>C5IP</th>\n",
              "      <th>C5N</th>\n",
              "      <th>C6NP</th>\n",
              "      <th>C6IP</th>\n",
              "      <th>C6N</th>\n",
              "      <th>C6A</th>\n",
              "      <th>C7NP</th>\n",
              "      <th>C7IP</th>\n",
              "      <th>C7N</th>\n",
              "      <th>C7A</th>\n",
              "      <th>C8NP</th>\n",
              "      <th>C8IP</th>\n",
              "      <th>C8N</th>\n",
              "      <th>C8A</th>\n",
              "      <th>C9NP</th>\n",
              "      <th>C9IP</th>\n",
              "      <th>C9N</th>\n",
              "      <th>C9A</th>\n",
              "      <th>C10NP</th>\n",
              "      <th>C10IP</th>\n",
              "      <th>C10N</th>\n",
              "      <th>C10A</th>\n",
              "    </tr>\n",
              "  </thead>\n",
              "  <tbody>\n",
              "    <tr>\n",
              "      <th>0</th>\n",
              "      <td>100.5</td>\n",
              "      <td>119.2</td>\n",
              "      <td>146.5</td>\n",
              "      <td>31.978</td>\n",
              "      <td>0.272</td>\n",
              "      <td>0.132</td>\n",
              "      <td>0.059</td>\n",
              "      <td>5.293</td>\n",
              "      <td>2.570</td>\n",
              "      <td>2.819</td>\n",
              "      <td>0.494</td>\n",
              "      <td>10.395</td>\n",
              "      <td>8.070</td>\n",
              "      <td>6.411</td>\n",
              "      <td>2.917</td>\n",
              "      <td>9.138</td>\n",
              "      <td>9.649</td>\n",
              "      <td>4.810</td>\n",
              "      <td>5.373</td>\n",
              "      <td>6.405</td>\n",
              "      <td>9.759</td>\n",
              "      <td>4.590</td>\n",
              "      <td>3.661</td>\n",
              "      <td>0.875</td>\n",
              "      <td>5.257</td>\n",
              "      <td>0.525</td>\n",
              "      <td>0.319</td>\n",
              "    </tr>\n",
              "    <tr>\n",
              "      <th>1</th>\n",
              "      <td>99.6</td>\n",
              "      <td>117.9</td>\n",
              "      <td>145.5</td>\n",
              "      <td>31.568</td>\n",
              "      <td>0.297</td>\n",
              "      <td>0.151</td>\n",
              "      <td>0.062</td>\n",
              "      <td>5.089</td>\n",
              "      <td>2.531</td>\n",
              "      <td>2.804</td>\n",
              "      <td>0.499</td>\n",
              "      <td>10.074</td>\n",
              "      <td>7.958</td>\n",
              "      <td>6.395</td>\n",
              "      <td>2.894</td>\n",
              "      <td>8.970</td>\n",
              "      <td>9.548</td>\n",
              "      <td>4.753</td>\n",
              "      <td>5.443</td>\n",
              "      <td>6.324</td>\n",
              "      <td>9.899</td>\n",
              "      <td>4.301</td>\n",
              "      <td>2.995</td>\n",
              "      <td>0.881</td>\n",
              "      <td>5.591</td>\n",
              "      <td>1.119</td>\n",
              "      <td>0.303</td>\n",
              "    </tr>\n",
              "    <tr>\n",
              "      <th>2</th>\n",
              "      <td>100.0</td>\n",
              "      <td>118.8</td>\n",
              "      <td>145.6</td>\n",
              "      <td>31.344</td>\n",
              "      <td>0.262</td>\n",
              "      <td>0.126</td>\n",
              "      <td>0.061</td>\n",
              "      <td>5.107</td>\n",
              "      <td>2.571</td>\n",
              "      <td>2.771</td>\n",
              "      <td>0.492</td>\n",
              "      <td>10.069</td>\n",
              "      <td>7.913</td>\n",
              "      <td>6.378</td>\n",
              "      <td>2.890</td>\n",
              "      <td>9.006</td>\n",
              "      <td>9.591</td>\n",
              "      <td>4.778</td>\n",
              "      <td>5.468</td>\n",
              "      <td>6.360</td>\n",
              "      <td>9.983</td>\n",
              "      <td>4.274</td>\n",
              "      <td>2.979</td>\n",
              "      <td>0.865</td>\n",
              "      <td>5.641</td>\n",
              "      <td>0.964</td>\n",
              "      <td>0.289</td>\n",
              "    </tr>\n",
              "    <tr>\n",
              "      <th>3</th>\n",
              "      <td>100.4</td>\n",
              "      <td>118.6</td>\n",
              "      <td>142.9</td>\n",
              "      <td>31.453</td>\n",
              "      <td>0.224</td>\n",
              "      <td>0.105</td>\n",
              "      <td>0.060</td>\n",
              "      <td>4.894</td>\n",
              "      <td>2.497</td>\n",
              "      <td>2.650</td>\n",
              "      <td>0.469</td>\n",
              "      <td>10.015</td>\n",
              "      <td>7.685</td>\n",
              "      <td>6.376</td>\n",
              "      <td>2.866</td>\n",
              "      <td>9.133</td>\n",
              "      <td>9.708</td>\n",
              "      <td>4.889</td>\n",
              "      <td>5.510</td>\n",
              "      <td>6.444</td>\n",
              "      <td>10.182</td>\n",
              "      <td>4.420</td>\n",
              "      <td>2.964</td>\n",
              "      <td>0.830</td>\n",
              "      <td>5.637</td>\n",
              "      <td>0.968</td>\n",
              "      <td>0.281</td>\n",
              "    </tr>\n",
              "    <tr>\n",
              "      <th>4</th>\n",
              "      <td>100.4</td>\n",
              "      <td>118.1</td>\n",
              "      <td>142.2</td>\n",
              "      <td>32.190</td>\n",
              "      <td>0.243</td>\n",
              "      <td>0.117</td>\n",
              "      <td>0.061</td>\n",
              "      <td>4.946</td>\n",
              "      <td>2.503</td>\n",
              "      <td>2.695</td>\n",
              "      <td>0.477</td>\n",
              "      <td>10.053</td>\n",
              "      <td>7.765</td>\n",
              "      <td>6.394</td>\n",
              "      <td>2.877</td>\n",
              "      <td>9.101</td>\n",
              "      <td>9.676</td>\n",
              "      <td>4.855</td>\n",
              "      <td>5.500</td>\n",
              "      <td>6.416</td>\n",
              "      <td>10.115</td>\n",
              "      <td>4.347</td>\n",
              "      <td>3.725</td>\n",
              "      <td>0.835</td>\n",
              "      <td>4.823</td>\n",
              "      <td>0.969</td>\n",
              "      <td>0.290</td>\n",
              "    </tr>\n",
              "  </tbody>\n",
              "</table>\n",
              "</div>"
            ],
            "text/plain": [
              "     T10    T50    T90      NA   C5NP  ...    C9A  C10NP  C10IP   C10N   C10A\n",
              "0  100.5  119.2  146.5  31.978  0.272  ...  3.661  0.875  5.257  0.525  0.319\n",
              "1   99.6  117.9  145.5  31.568  0.297  ...  2.995  0.881  5.591  1.119  0.303\n",
              "2  100.0  118.8  145.6  31.344  0.262  ...  2.979  0.865  5.641  0.964  0.289\n",
              "3  100.4  118.6  142.9  31.453  0.224  ...  2.964  0.830  5.637  0.968  0.281\n",
              "4  100.4  118.1  142.2  32.190  0.243  ...  3.725  0.835  4.823  0.969  0.290\n",
              "\n",
              "[5 rows x 27 columns]"
            ]
          },
          "metadata": {
            "tags": []
          },
          "execution_count": 5
        }
      ]
    },
    {
      "cell_type": "code",
      "metadata": {
        "id": "qu_Lg-VRyzft",
        "colab_type": "code",
        "outputId": "097ec8f3-adc7-4057-c51e-161d8051dba0",
        "colab": {
          "base_uri": "https://localhost:8080/",
          "height": 50
        }
      },
      "source": [
        "y_columns = df.columns[4:27].tolist()\n",
        "x_columns = df.drop(y_columns,axis=1).columns.tolist()\n",
        "print(x_columns)\n",
        "print(y_columns)"
      ],
      "execution_count": 6,
      "outputs": [
        {
          "output_type": "stream",
          "text": [
            "['T10', 'T50', 'T90', 'NA']\n",
            "['C5NP', 'C5IP', 'C5N', 'C6NP', 'C6IP', 'C6N', 'C6A', 'C7NP', 'C7IP', 'C7N', 'C7A', 'C8NP', 'C8IP', 'C8N', 'C8A', 'C9NP', 'C9IP', 'C9N', 'C9A', 'C10NP', 'C10IP', 'C10N', 'C10A']\n"
          ],
          "name": "stdout"
        }
      ]
    },
    {
      "cell_type": "markdown",
      "metadata": {
        "id": "nNpOXFb0zAeQ",
        "colab_type": "text"
      },
      "source": [
        "# ART2針對 T10,T50,T90,NA做分群"
      ]
    },
    {
      "cell_type": "code",
      "metadata": {
        "id": "5BoQGUecy5HP",
        "colab_type": "code",
        "outputId": "d8c07764-2670-4097-8bea-67f643b04114",
        "colab": {
          "base_uri": "https://localhost:8080/",
          "height": 33
        }
      },
      "source": [
        "ART2 = ART2_Ricky.ART2(rho=0.97)\n",
        "labels = ART2.fit_transform(X=df[x_columns])\n",
        "df['cluster']=labels\n",
        "df['cluster'].unique()"
      ],
      "execution_count": 7,
      "outputs": [
        {
          "output_type": "execute_result",
          "data": {
            "text/plain": [
              "array([0.])"
            ]
          },
          "metadata": {
            "tags": []
          },
          "execution_count": 7
        }
      ]
    },
    {
      "cell_type": "markdown",
      "metadata": {
        "id": "0wwNBM2HzKy-",
        "colab_type": "text"
      },
      "source": [
        "# 全部都當成一群.....以下降維後再分分看"
      ]
    },
    {
      "cell_type": "code",
      "metadata": {
        "id": "M6WmPe7szCa5",
        "colab_type": "code",
        "outputId": "724019a0-f256-468e-aeee-0027f388f908",
        "colab": {
          "base_uri": "https://localhost:8080/",
          "height": 197
        }
      },
      "source": [
        "from sklearn.manifold import Isomap\n",
        "from sklearn.preprocessing import StandardScaler\n",
        "\n",
        "#原始特徵\n",
        "X = df[x_columns]\n",
        "\n",
        "#特徵縮放\n",
        "scaler = StandardScaler()\n",
        "scaler.fit(X)#fit\n",
        "X_ss = scaler.transform(X)#transform\n",
        "\n",
        "#ISOMAP降維\n",
        "iso = Isomap(n_components=3)\n",
        "iso_features = iso.fit_transform(X_ss)\n",
        "\n",
        "#整理成DataFrame方便觀看\n",
        "iso_3features = pd.DataFrame(iso_features,columns=['iso_1','iso_2','iso_3'])\n",
        "iso_3features.head()"
      ],
      "execution_count": 8,
      "outputs": [
        {
          "output_type": "execute_result",
          "data": {
            "text/html": [
              "<div>\n",
              "<style scoped>\n",
              "    .dataframe tbody tr th:only-of-type {\n",
              "        vertical-align: middle;\n",
              "    }\n",
              "\n",
              "    .dataframe tbody tr th {\n",
              "        vertical-align: top;\n",
              "    }\n",
              "\n",
              "    .dataframe thead th {\n",
              "        text-align: right;\n",
              "    }\n",
              "</style>\n",
              "<table border=\"1\" class=\"dataframe\">\n",
              "  <thead>\n",
              "    <tr style=\"text-align: right;\">\n",
              "      <th></th>\n",
              "      <th>iso_1</th>\n",
              "      <th>iso_2</th>\n",
              "      <th>iso_3</th>\n",
              "    </tr>\n",
              "  </thead>\n",
              "  <tbody>\n",
              "    <tr>\n",
              "      <th>0</th>\n",
              "      <td>-1.532544</td>\n",
              "      <td>1.070935</td>\n",
              "      <td>-0.013678</td>\n",
              "    </tr>\n",
              "    <tr>\n",
              "      <th>1</th>\n",
              "      <td>-1.434140</td>\n",
              "      <td>1.070788</td>\n",
              "      <td>0.367358</td>\n",
              "    </tr>\n",
              "    <tr>\n",
              "      <th>2</th>\n",
              "      <td>-1.590134</td>\n",
              "      <td>1.107424</td>\n",
              "      <td>0.259273</td>\n",
              "    </tr>\n",
              "    <tr>\n",
              "      <th>3</th>\n",
              "      <td>-1.163833</td>\n",
              "      <td>0.833576</td>\n",
              "      <td>0.880827</td>\n",
              "    </tr>\n",
              "    <tr>\n",
              "      <th>4</th>\n",
              "      <td>-0.965729</td>\n",
              "      <td>0.664349</td>\n",
              "      <td>0.986232</td>\n",
              "    </tr>\n",
              "  </tbody>\n",
              "</table>\n",
              "</div>"
            ],
            "text/plain": [
              "      iso_1     iso_2     iso_3\n",
              "0 -1.532544  1.070935 -0.013678\n",
              "1 -1.434140  1.070788  0.367358\n",
              "2 -1.590134  1.107424  0.259273\n",
              "3 -1.163833  0.833576  0.880827\n",
              "4 -0.965729  0.664349  0.986232"
            ]
          },
          "metadata": {
            "tags": []
          },
          "execution_count": 8
        }
      ]
    },
    {
      "cell_type": "code",
      "metadata": {
        "id": "S_UJUgrnzaDZ",
        "colab_type": "code",
        "outputId": "8226b19b-a513-44eb-a844-3256d0497903",
        "colab": {
          "base_uri": "https://localhost:8080/",
          "height": 117
        }
      },
      "source": [
        "ART2 = ART2_Ricky.ART2(rho=0.96)\n",
        "labels = ART2.fit_transform(X=iso_3features)\n",
        "df['cluster']=labels\n",
        "df['cluster'].value_counts()"
      ],
      "execution_count": 9,
      "outputs": [
        {
          "output_type": "execute_result",
          "data": {
            "text/plain": [
              "3.0    1550\n",
              "0.0    1168\n",
              "1.0     923\n",
              "2.0     498\n",
              "4.0     382\n",
              "Name: cluster, dtype: int64"
            ]
          },
          "metadata": {
            "tags": []
          },
          "execution_count": 9
        }
      ]
    },
    {
      "cell_type": "code",
      "metadata": {
        "id": "EVqekaM6zgwJ",
        "colab_type": "code",
        "outputId": "05ea0d3e-2bc6-4105-dd68-87fcd24854fe",
        "colab": {
          "base_uri": "https://localhost:8080/",
          "height": 217
        }
      },
      "source": [
        "df['iso_1'] = iso_3features['iso_1']\n",
        "df['iso_2'] = iso_3features['iso_2']\n",
        "df['iso_3'] = iso_3features['iso_3']\n",
        "df.head()"
      ],
      "execution_count": 10,
      "outputs": [
        {
          "output_type": "execute_result",
          "data": {
            "text/html": [
              "<div>\n",
              "<style scoped>\n",
              "    .dataframe tbody tr th:only-of-type {\n",
              "        vertical-align: middle;\n",
              "    }\n",
              "\n",
              "    .dataframe tbody tr th {\n",
              "        vertical-align: top;\n",
              "    }\n",
              "\n",
              "    .dataframe thead th {\n",
              "        text-align: right;\n",
              "    }\n",
              "</style>\n",
              "<table border=\"1\" class=\"dataframe\">\n",
              "  <thead>\n",
              "    <tr style=\"text-align: right;\">\n",
              "      <th></th>\n",
              "      <th>T10</th>\n",
              "      <th>T50</th>\n",
              "      <th>T90</th>\n",
              "      <th>NA</th>\n",
              "      <th>C5NP</th>\n",
              "      <th>C5IP</th>\n",
              "      <th>C5N</th>\n",
              "      <th>C6NP</th>\n",
              "      <th>C6IP</th>\n",
              "      <th>C6N</th>\n",
              "      <th>C6A</th>\n",
              "      <th>C7NP</th>\n",
              "      <th>C7IP</th>\n",
              "      <th>C7N</th>\n",
              "      <th>C7A</th>\n",
              "      <th>C8NP</th>\n",
              "      <th>C8IP</th>\n",
              "      <th>C8N</th>\n",
              "      <th>C8A</th>\n",
              "      <th>C9NP</th>\n",
              "      <th>C9IP</th>\n",
              "      <th>C9N</th>\n",
              "      <th>C9A</th>\n",
              "      <th>C10NP</th>\n",
              "      <th>C10IP</th>\n",
              "      <th>C10N</th>\n",
              "      <th>C10A</th>\n",
              "      <th>cluster</th>\n",
              "      <th>iso_1</th>\n",
              "      <th>iso_2</th>\n",
              "      <th>iso_3</th>\n",
              "    </tr>\n",
              "  </thead>\n",
              "  <tbody>\n",
              "    <tr>\n",
              "      <th>0</th>\n",
              "      <td>100.5</td>\n",
              "      <td>119.2</td>\n",
              "      <td>146.5</td>\n",
              "      <td>31.978</td>\n",
              "      <td>0.272</td>\n",
              "      <td>0.132</td>\n",
              "      <td>0.059</td>\n",
              "      <td>5.293</td>\n",
              "      <td>2.570</td>\n",
              "      <td>2.819</td>\n",
              "      <td>0.494</td>\n",
              "      <td>10.395</td>\n",
              "      <td>8.070</td>\n",
              "      <td>6.411</td>\n",
              "      <td>2.917</td>\n",
              "      <td>9.138</td>\n",
              "      <td>9.649</td>\n",
              "      <td>4.810</td>\n",
              "      <td>5.373</td>\n",
              "      <td>6.405</td>\n",
              "      <td>9.759</td>\n",
              "      <td>4.590</td>\n",
              "      <td>3.661</td>\n",
              "      <td>0.875</td>\n",
              "      <td>5.257</td>\n",
              "      <td>0.525</td>\n",
              "      <td>0.319</td>\n",
              "      <td>0.0</td>\n",
              "      <td>-1.532544</td>\n",
              "      <td>1.070935</td>\n",
              "      <td>-0.013678</td>\n",
              "    </tr>\n",
              "    <tr>\n",
              "      <th>1</th>\n",
              "      <td>99.6</td>\n",
              "      <td>117.9</td>\n",
              "      <td>145.5</td>\n",
              "      <td>31.568</td>\n",
              "      <td>0.297</td>\n",
              "      <td>0.151</td>\n",
              "      <td>0.062</td>\n",
              "      <td>5.089</td>\n",
              "      <td>2.531</td>\n",
              "      <td>2.804</td>\n",
              "      <td>0.499</td>\n",
              "      <td>10.074</td>\n",
              "      <td>7.958</td>\n",
              "      <td>6.395</td>\n",
              "      <td>2.894</td>\n",
              "      <td>8.970</td>\n",
              "      <td>9.548</td>\n",
              "      <td>4.753</td>\n",
              "      <td>5.443</td>\n",
              "      <td>6.324</td>\n",
              "      <td>9.899</td>\n",
              "      <td>4.301</td>\n",
              "      <td>2.995</td>\n",
              "      <td>0.881</td>\n",
              "      <td>5.591</td>\n",
              "      <td>1.119</td>\n",
              "      <td>0.303</td>\n",
              "      <td>0.0</td>\n",
              "      <td>-1.434140</td>\n",
              "      <td>1.070788</td>\n",
              "      <td>0.367358</td>\n",
              "    </tr>\n",
              "    <tr>\n",
              "      <th>2</th>\n",
              "      <td>100.0</td>\n",
              "      <td>118.8</td>\n",
              "      <td>145.6</td>\n",
              "      <td>31.344</td>\n",
              "      <td>0.262</td>\n",
              "      <td>0.126</td>\n",
              "      <td>0.061</td>\n",
              "      <td>5.107</td>\n",
              "      <td>2.571</td>\n",
              "      <td>2.771</td>\n",
              "      <td>0.492</td>\n",
              "      <td>10.069</td>\n",
              "      <td>7.913</td>\n",
              "      <td>6.378</td>\n",
              "      <td>2.890</td>\n",
              "      <td>9.006</td>\n",
              "      <td>9.591</td>\n",
              "      <td>4.778</td>\n",
              "      <td>5.468</td>\n",
              "      <td>6.360</td>\n",
              "      <td>9.983</td>\n",
              "      <td>4.274</td>\n",
              "      <td>2.979</td>\n",
              "      <td>0.865</td>\n",
              "      <td>5.641</td>\n",
              "      <td>0.964</td>\n",
              "      <td>0.289</td>\n",
              "      <td>0.0</td>\n",
              "      <td>-1.590134</td>\n",
              "      <td>1.107424</td>\n",
              "      <td>0.259273</td>\n",
              "    </tr>\n",
              "    <tr>\n",
              "      <th>3</th>\n",
              "      <td>100.4</td>\n",
              "      <td>118.6</td>\n",
              "      <td>142.9</td>\n",
              "      <td>31.453</td>\n",
              "      <td>0.224</td>\n",
              "      <td>0.105</td>\n",
              "      <td>0.060</td>\n",
              "      <td>4.894</td>\n",
              "      <td>2.497</td>\n",
              "      <td>2.650</td>\n",
              "      <td>0.469</td>\n",
              "      <td>10.015</td>\n",
              "      <td>7.685</td>\n",
              "      <td>6.376</td>\n",
              "      <td>2.866</td>\n",
              "      <td>9.133</td>\n",
              "      <td>9.708</td>\n",
              "      <td>4.889</td>\n",
              "      <td>5.510</td>\n",
              "      <td>6.444</td>\n",
              "      <td>10.182</td>\n",
              "      <td>4.420</td>\n",
              "      <td>2.964</td>\n",
              "      <td>0.830</td>\n",
              "      <td>5.637</td>\n",
              "      <td>0.968</td>\n",
              "      <td>0.281</td>\n",
              "      <td>1.0</td>\n",
              "      <td>-1.163833</td>\n",
              "      <td>0.833576</td>\n",
              "      <td>0.880827</td>\n",
              "    </tr>\n",
              "    <tr>\n",
              "      <th>4</th>\n",
              "      <td>100.4</td>\n",
              "      <td>118.1</td>\n",
              "      <td>142.2</td>\n",
              "      <td>32.190</td>\n",
              "      <td>0.243</td>\n",
              "      <td>0.117</td>\n",
              "      <td>0.061</td>\n",
              "      <td>4.946</td>\n",
              "      <td>2.503</td>\n",
              "      <td>2.695</td>\n",
              "      <td>0.477</td>\n",
              "      <td>10.053</td>\n",
              "      <td>7.765</td>\n",
              "      <td>6.394</td>\n",
              "      <td>2.877</td>\n",
              "      <td>9.101</td>\n",
              "      <td>9.676</td>\n",
              "      <td>4.855</td>\n",
              "      <td>5.500</td>\n",
              "      <td>6.416</td>\n",
              "      <td>10.115</td>\n",
              "      <td>4.347</td>\n",
              "      <td>3.725</td>\n",
              "      <td>0.835</td>\n",
              "      <td>4.823</td>\n",
              "      <td>0.969</td>\n",
              "      <td>0.290</td>\n",
              "      <td>1.0</td>\n",
              "      <td>-0.965729</td>\n",
              "      <td>0.664349</td>\n",
              "      <td>0.986232</td>\n",
              "    </tr>\n",
              "  </tbody>\n",
              "</table>\n",
              "</div>"
            ],
            "text/plain": [
              "     T10    T50    T90      NA  ...  cluster     iso_1     iso_2     iso_3\n",
              "0  100.5  119.2  146.5  31.978  ...      0.0 -1.532544  1.070935 -0.013678\n",
              "1   99.6  117.9  145.5  31.568  ...      0.0 -1.434140  1.070788  0.367358\n",
              "2  100.0  118.8  145.6  31.344  ...      0.0 -1.590134  1.107424  0.259273\n",
              "3  100.4  118.6  142.9  31.453  ...      1.0 -1.163833  0.833576  0.880827\n",
              "4  100.4  118.1  142.2  32.190  ...      1.0 -0.965729  0.664349  0.986232\n",
              "\n",
              "[5 rows x 31 columns]"
            ]
          },
          "metadata": {
            "tags": []
          },
          "execution_count": 10
        }
      ]
    },
    {
      "cell_type": "markdown",
      "metadata": {
        "id": "nhLdeuvJzoCN",
        "colab_type": "text"
      },
      "source": [
        "# 分群結果可視化"
      ]
    },
    {
      "cell_type": "code",
      "metadata": {
        "id": "AChAmrWBzkPg",
        "colab_type": "code",
        "outputId": "8405f280-9a42-4a77-8aeb-9146c85be2f2",
        "colab": {
          "base_uri": "https://localhost:8080/",
          "height": 575
        }
      },
      "source": [
        "import matplotlib\n",
        "import matplotlib.pyplot as plt\n",
        "from mpl_toolkits.mplot3d import Axes3D\n",
        "fig = plt.figure(figsize=(10,10))\n",
        "ax = fig.add_subplot(111, projection='3d')\n",
        "ax.set_xlabel('iso_1')\n",
        "ax.set_ylabel('iso_2')\n",
        "ax.set_zlabel('iso_3')\n",
        "\n",
        "for i in sorted(df['cluster'].unique()):\n",
        "  data = df[df['cluster']==i]\n",
        "  ax.scatter(data['iso_1'],data['iso_2'],data['iso_3'], marker='.',label=str(i))\n",
        "plt.legend()\n",
        "plt.show()"
      ],
      "execution_count": 11,
      "outputs": [
        {
          "output_type": "display_data",
          "data": {
            "image/png": "[encoded data removed]",
            "text/plain": [
              "<Figure size 720x720 with 1 Axes>"
            ]
          },
          "metadata": {
            "tags": []
          }
        }
      ]
    },
    {
      "cell_type": "markdown",
      "metadata": {
        "id": "xoIBFrEA154V",
        "colab_type": "text"
      },
      "source": [
        "# ART2不同警戒值對應的群數"
      ]
    },
    {
      "cell_type": "code",
      "metadata": {
        "id": "HN4sNwXi16C8",
        "colab_type": "code",
        "colab": {}
      },
      "source": [
        "#from tqdm import tqdm\n",
        "#logs = {}\n",
        "#for rho in tqdm(np.arange(0.95,0.99,0.005)):\n",
        "#  ART2 = ART2_Ricky.ART2(rho=rho)\n",
        "#  labels = ART2.fit_transform(X=iso_3features)\n",
        "#  df['cluster']=labels\n",
        "#  logs[rho] = len(df['cluster'].unique())\n",
        "#plt.plot(logs.keys(),logs.values())\n",
        "#plt.title('rho with cluster num:')\n",
        "#plt.show()"
      ],
      "execution_count": 0,
      "outputs": []
    },
    {
      "cell_type": "markdown",
      "metadata": {
        "id": "iYf0fRgcGd2q",
        "colab_type": "text"
      },
      "source": [
        "# ART2權重"
      ]
    },
    {
      "cell_type": "code",
      "metadata": {
        "id": "oUbj3lsSIl0R",
        "colab_type": "code",
        "outputId": "e5aa5517-cc76-4bc6-e993-19390b391390",
        "colab": {
          "base_uri": "https://localhost:8080/",
          "height": 303
        }
      },
      "source": [
        "df['w1'] = ART2.WF1_F2[:,0]\n",
        "df['w2'] = ART2.WF1_F2[:,1]\n",
        "df['w3'] = ART2.WF1_F2[:,2]\n",
        "\n",
        "fig = plt.figure(figsize=(5,5))\n",
        "ax = fig.add_subplot(111, projection='3d')\n",
        "for i in sorted(df['cluster'].unique()):\n",
        "  data = df[df['cluster']==i]\n",
        "  ax.scatter(data['w1'],data['w2'],data['w3'], marker='o',label=str(i))\n",
        "plt.legend()\n",
        "plt.show()"
      ],
      "execution_count": 13,
      "outputs": [
        {
          "output_type": "display_data",
          "data": {
            "image/png": "[encoded data removed]",
            "text/plain": [
              "<Figure size 360x360 with 1 Axes>"
            ]
          },
          "metadata": {
            "tags": []
          }
        }
      ]
    },
    {
      "cell_type": "code",
      "metadata": {
        "id": "XWmckYcaKgH2",
        "colab_type": "code",
        "outputId": "d0736def-16c3-4935-9193-340260ee4204",
        "colab": {
          "base_uri": "https://localhost:8080/",
          "height": 100
        }
      },
      "source": [
        "df = df.drop(['w1','w2','w3'],axis=1)\n",
        "df.columns"
      ],
      "execution_count": 14,
      "outputs": [
        {
          "output_type": "execute_result",
          "data": {
            "text/plain": [
              "Index(['T10', 'T50', 'T90', 'NA', 'C5NP', 'C5IP', 'C5N', 'C6NP', 'C6IP', 'C6N',\n",
              "       'C6A', 'C7NP', 'C7IP', 'C7N', 'C7A', 'C8NP', 'C8IP', 'C8N', 'C8A',\n",
              "       'C9NP', 'C9IP', 'C9N', 'C9A', 'C10NP', 'C10IP', 'C10N', 'C10A',\n",
              "       'cluster', 'iso_1', 'iso_2', 'iso_3'],\n",
              "      dtype='object')"
            ]
          },
          "metadata": {
            "tags": []
          },
          "execution_count": 14
        }
      ]
    },
    {
      "cell_type": "markdown",
      "metadata": {
        "id": "-O9xtU4VzuQt",
        "colab_type": "text"
      },
      "source": [
        "# 針對各群分別建立Model"
      ]
    },
    {
      "cell_type": "code",
      "metadata": {
        "id": "dHrZdVgCzrgu",
        "colab_type": "code",
        "outputId": "51f269b3-dcf6-464a-e65b-79f697c60355",
        "colab": {
          "base_uri": "https://localhost:8080/",
          "height": 67
        }
      },
      "source": [
        "#Modeling工具\n",
        "from sklearn.base import TransformerMixin\n",
        "\n",
        "class ModelTransformer(TransformerMixin):\n",
        "  def __init__(self, model):\n",
        "    self.model = model\n",
        "  def set_params(self,alpha):\n",
        "    self.model.set_params(alpha=alpha)\n",
        "  def fit(self,X,y):\n",
        "    self.model.fit(X,y)\n",
        "    return self\n",
        "  def transform(self,X):\n",
        "    SelectColumn = (abs(self.model.coef_)!=0)\n",
        "    return X[:,SelectColumn]\n",
        "\n",
        "#Lasso特徵篩選器功能測試\n",
        "from sklearn.linear_model import Lasso\n",
        "import numpy as np\n",
        "\n",
        "y_name = 'C5NP'\n",
        "\n",
        "LassoTR = ModelTransformer(Lasso(0.5))\n",
        "LassoTR.fit(np.array(df[x_columns]),np.array(df[y_name]))\n",
        "\n",
        "print(np.array(df[x_columns]).shape)\n",
        "print(\"==After Lasso==\")\n",
        "print(LassoTR.transform(np.array(df[x_columns])).shape)"
      ],
      "execution_count": 15,
      "outputs": [
        {
          "output_type": "stream",
          "text": [
            "(4521, 4)\n",
            "==After Lasso==\n",
            "(4521, 3)\n"
          ],
          "name": "stdout"
        }
      ]
    },
    {
      "cell_type": "markdown",
      "metadata": {
        "id": "ZDmi8ihy08bs",
        "colab_type": "text"
      },
      "source": [
        "# 交互項特徵產生器"
      ]
    },
    {
      "cell_type": "code",
      "metadata": {
        "id": "Sk3UCV1F0574",
        "colab_type": "code",
        "outputId": "820ae67a-985d-45eb-eee2-0383a85fac2a",
        "colab": {
          "base_uri": "https://localhost:8080/",
          "height": 67
        }
      },
      "source": [
        "#交互項特徵產生器\n",
        "from sklearn.preprocessing import PolynomialFeatures\n",
        "\n",
        "class featuresGenerator(TransformerMixin):\n",
        "  def __init__(self):\n",
        "    pass\n",
        "  \n",
        "  def fit(self,X,y):\n",
        "    return self\n",
        "  \n",
        "  def transform(self,X):\n",
        "    #交互項特徵\n",
        "    interaction = PolynomialFeatures(2, interaction_only=True, include_bias=False)\n",
        "    X_transformed = interaction.fit_transform(X) \n",
        "    return X_transformed\n",
        "\n",
        "#交互項特徵產生器功能測試\n",
        "print(np.array(X).shape)\n",
        "f_tr = featuresGenerator()\n",
        "print('==after features generator==')\n",
        "print(f_tr.transform(np.array(X)).shape)"
      ],
      "execution_count": 16,
      "outputs": [
        {
          "output_type": "stream",
          "text": [
            "(4521, 4)\n",
            "==after features generator==\n",
            "(4521, 10)\n"
          ],
          "name": "stdout"
        }
      ]
    },
    {
      "cell_type": "markdown",
      "metadata": {
        "id": "_VDswmeQ1Civ",
        "colab_type": "text"
      },
      "source": [
        "# pipeline input -> StandardScaler -> featuresGenerator -> Lasso -> svr or knn"
      ]
    },
    {
      "cell_type": "code",
      "metadata": {
        "id": "EK7osp640_SE",
        "colab_type": "code",
        "colab": {}
      },
      "source": [
        "from sklearn.pipeline import Pipeline\n",
        "from sklearn import svm\n",
        "from sklearn.preprocessing import StandardScaler\n",
        "from sklearn.neighbors import KNeighborsRegressor\n",
        "\n",
        "scaler = StandardScaler() #特徵縮放\n",
        "f_tr = featuresGenerator() #產生交互項\n",
        "LassoTR = ModelTransformer(Lasso()) #篩選因子\n",
        "svr = svm.SVR()#svr回歸模型\n",
        "knn = KNeighborsRegressor() #knn回歸模型\n",
        "\n",
        "pipeline = Pipeline([('scaler',scaler),\n",
        "                     ('f_tr',f_tr),\n",
        "                     ('LassoTR',LassoTR),\n",
        "                     #('svr',svr)])\n",
        "                     ('knn',knn)])"
      ],
      "execution_count": 0,
      "outputs": []
    },
    {
      "cell_type": "markdown",
      "metadata": {
        "id": "GHOyY9L21Nji",
        "colab_type": "text"
      },
      "source": [
        "# 評分工具"
      ]
    },
    {
      "cell_type": "code",
      "metadata": {
        "id": "xMpQ8f8r1JxR",
        "colab_type": "code",
        "colab": {}
      },
      "source": [
        "from sklearn.metrics import r2_score\n",
        "import numpy as np\n",
        "\n",
        "def rmse(y_true, y_pred):\n",
        "    return np.sqrt(((y_pred - y_true) ** 2).mean())\n",
        "\n",
        "def mape(y_true, y_pred,dropinf=False):\n",
        "    y_true, y_pred = np.array(y_true), np.array(y_pred)\n",
        "    ape = np.abs((y_true - y_pred) / y_true)\n",
        "    if dropinf == True:\n",
        "      ape = ape[np.isfinite(ape)]\n",
        "    return np.mean(ape) * 100"
      ],
      "execution_count": 0,
      "outputs": []
    },
    {
      "cell_type": "markdown",
      "metadata": {
        "id": "ZRs9ElNn2_z5",
        "colab_type": "text"
      },
      "source": [
        "# Modeling之前做特徵工程"
      ]
    },
    {
      "cell_type": "code",
      "metadata": {
        "id": "T4-BSuNZ3ASn",
        "colab_type": "code",
        "outputId": "146001de-7a3b-4099-cad0-e4ce4afd7602",
        "colab": {
          "base_uri": "https://localhost:8080/",
          "height": 251
        }
      },
      "source": [
        "df['T90-T50'] = df['T90']-df['T50']\n",
        "df['T90-T10'] = df['T90']-df['T10']\n",
        "df['T50-T10'] = df['T50']-df['T10']\n",
        "df['(90-50/90-10)*N+A']=(df['T90-T50']/df['T90-T10'])*df['NA']\n",
        "df['(50-10/90-10)*N+A']=(df['T50-T10']/df['T90-T10'])*df['NA']\n",
        "df.head()"
      ],
      "execution_count": 19,
      "outputs": [
        {
          "output_type": "execute_result",
          "data": {
            "text/html": [
              "<div>\n",
              "<style scoped>\n",
              "    .dataframe tbody tr th:only-of-type {\n",
              "        vertical-align: middle;\n",
              "    }\n",
              "\n",
              "    .dataframe tbody tr th {\n",
              "        vertical-align: top;\n",
              "    }\n",
              "\n",
              "    .dataframe thead th {\n",
              "        text-align: right;\n",
              "    }\n",
              "</style>\n",
              "<table border=\"1\" class=\"dataframe\">\n",
              "  <thead>\n",
              "    <tr style=\"text-align: right;\">\n",
              "      <th></th>\n",
              "      <th>T10</th>\n",
              "      <th>T50</th>\n",
              "      <th>T90</th>\n",
              "      <th>NA</th>\n",
              "      <th>C5NP</th>\n",
              "      <th>C5IP</th>\n",
              "      <th>C5N</th>\n",
              "      <th>C6NP</th>\n",
              "      <th>C6IP</th>\n",
              "      <th>C6N</th>\n",
              "      <th>C6A</th>\n",
              "      <th>C7NP</th>\n",
              "      <th>C7IP</th>\n",
              "      <th>C7N</th>\n",
              "      <th>C7A</th>\n",
              "      <th>C8NP</th>\n",
              "      <th>C8IP</th>\n",
              "      <th>C8N</th>\n",
              "      <th>C8A</th>\n",
              "      <th>C9NP</th>\n",
              "      <th>C9IP</th>\n",
              "      <th>C9N</th>\n",
              "      <th>C9A</th>\n",
              "      <th>C10NP</th>\n",
              "      <th>C10IP</th>\n",
              "      <th>C10N</th>\n",
              "      <th>C10A</th>\n",
              "      <th>cluster</th>\n",
              "      <th>iso_1</th>\n",
              "      <th>iso_2</th>\n",
              "      <th>iso_3</th>\n",
              "      <th>T90-T50</th>\n",
              "      <th>T90-T10</th>\n",
              "      <th>T50-T10</th>\n",
              "      <th>(90-50/90-10)*N+A</th>\n",
              "      <th>(50-10/90-10)*N+A</th>\n",
              "    </tr>\n",
              "  </thead>\n",
              "  <tbody>\n",
              "    <tr>\n",
              "      <th>0</th>\n",
              "      <td>100.5</td>\n",
              "      <td>119.2</td>\n",
              "      <td>146.5</td>\n",
              "      <td>31.978</td>\n",
              "      <td>0.272</td>\n",
              "      <td>0.132</td>\n",
              "      <td>0.059</td>\n",
              "      <td>5.293</td>\n",
              "      <td>2.570</td>\n",
              "      <td>2.819</td>\n",
              "      <td>0.494</td>\n",
              "      <td>10.395</td>\n",
              "      <td>8.070</td>\n",
              "      <td>6.411</td>\n",
              "      <td>2.917</td>\n",
              "      <td>9.138</td>\n",
              "      <td>9.649</td>\n",
              "      <td>4.810</td>\n",
              "      <td>5.373</td>\n",
              "      <td>6.405</td>\n",
              "      <td>9.759</td>\n",
              "      <td>4.590</td>\n",
              "      <td>3.661</td>\n",
              "      <td>0.875</td>\n",
              "      <td>5.257</td>\n",
              "      <td>0.525</td>\n",
              "      <td>0.319</td>\n",
              "      <td>0.0</td>\n",
              "      <td>-1.532544</td>\n",
              "      <td>1.070935</td>\n",
              "      <td>-0.013678</td>\n",
              "      <td>27.3</td>\n",
              "      <td>46.0</td>\n",
              "      <td>18.7</td>\n",
              "      <td>18.978248</td>\n",
              "      <td>12.999752</td>\n",
              "    </tr>\n",
              "    <tr>\n",
              "      <th>1</th>\n",
              "      <td>99.6</td>\n",
              "      <td>117.9</td>\n",
              "      <td>145.5</td>\n",
              "      <td>31.568</td>\n",
              "      <td>0.297</td>\n",
              "      <td>0.151</td>\n",
              "      <td>0.062</td>\n",
              "      <td>5.089</td>\n",
              "      <td>2.531</td>\n",
              "      <td>2.804</td>\n",
              "      <td>0.499</td>\n",
              "      <td>10.074</td>\n",
              "      <td>7.958</td>\n",
              "      <td>6.395</td>\n",
              "      <td>2.894</td>\n",
              "      <td>8.970</td>\n",
              "      <td>9.548</td>\n",
              "      <td>4.753</td>\n",
              "      <td>5.443</td>\n",
              "      <td>6.324</td>\n",
              "      <td>9.899</td>\n",
              "      <td>4.301</td>\n",
              "      <td>2.995</td>\n",
              "      <td>0.881</td>\n",
              "      <td>5.591</td>\n",
              "      <td>1.119</td>\n",
              "      <td>0.303</td>\n",
              "      <td>0.0</td>\n",
              "      <td>-1.434140</td>\n",
              "      <td>1.070788</td>\n",
              "      <td>0.367358</td>\n",
              "      <td>27.6</td>\n",
              "      <td>45.9</td>\n",
              "      <td>18.3</td>\n",
              "      <td>18.982065</td>\n",
              "      <td>12.585935</td>\n",
              "    </tr>\n",
              "    <tr>\n",
              "      <th>2</th>\n",
              "      <td>100.0</td>\n",
              "      <td>118.8</td>\n",
              "      <td>145.6</td>\n",
              "      <td>31.344</td>\n",
              "      <td>0.262</td>\n",
              "      <td>0.126</td>\n",
              "      <td>0.061</td>\n",
              "      <td>5.107</td>\n",
              "      <td>2.571</td>\n",
              "      <td>2.771</td>\n",
              "      <td>0.492</td>\n",
              "      <td>10.069</td>\n",
              "      <td>7.913</td>\n",
              "      <td>6.378</td>\n",
              "      <td>2.890</td>\n",
              "      <td>9.006</td>\n",
              "      <td>9.591</td>\n",
              "      <td>4.778</td>\n",
              "      <td>5.468</td>\n",
              "      <td>6.360</td>\n",
              "      <td>9.983</td>\n",
              "      <td>4.274</td>\n",
              "      <td>2.979</td>\n",
              "      <td>0.865</td>\n",
              "      <td>5.641</td>\n",
              "      <td>0.964</td>\n",
              "      <td>0.289</td>\n",
              "      <td>0.0</td>\n",
              "      <td>-1.590134</td>\n",
              "      <td>1.107424</td>\n",
              "      <td>0.259273</td>\n",
              "      <td>26.8</td>\n",
              "      <td>45.6</td>\n",
              "      <td>18.8</td>\n",
              "      <td>18.421474</td>\n",
              "      <td>12.922526</td>\n",
              "    </tr>\n",
              "    <tr>\n",
              "      <th>3</th>\n",
              "      <td>100.4</td>\n",
              "      <td>118.6</td>\n",
              "      <td>142.9</td>\n",
              "      <td>31.453</td>\n",
              "      <td>0.224</td>\n",
              "      <td>0.105</td>\n",
              "      <td>0.060</td>\n",
              "      <td>4.894</td>\n",
              "      <td>2.497</td>\n",
              "      <td>2.650</td>\n",
              "      <td>0.469</td>\n",
              "      <td>10.015</td>\n",
              "      <td>7.685</td>\n",
              "      <td>6.376</td>\n",
              "      <td>2.866</td>\n",
              "      <td>9.133</td>\n",
              "      <td>9.708</td>\n",
              "      <td>4.889</td>\n",
              "      <td>5.510</td>\n",
              "      <td>6.444</td>\n",
              "      <td>10.182</td>\n",
              "      <td>4.420</td>\n",
              "      <td>2.964</td>\n",
              "      <td>0.830</td>\n",
              "      <td>5.637</td>\n",
              "      <td>0.968</td>\n",
              "      <td>0.281</td>\n",
              "      <td>1.0</td>\n",
              "      <td>-1.163833</td>\n",
              "      <td>0.833576</td>\n",
              "      <td>0.880827</td>\n",
              "      <td>24.3</td>\n",
              "      <td>42.5</td>\n",
              "      <td>18.2</td>\n",
              "      <td>17.983715</td>\n",
              "      <td>13.469285</td>\n",
              "    </tr>\n",
              "    <tr>\n",
              "      <th>4</th>\n",
              "      <td>100.4</td>\n",
              "      <td>118.1</td>\n",
              "      <td>142.2</td>\n",
              "      <td>32.190</td>\n",
              "      <td>0.243</td>\n",
              "      <td>0.117</td>\n",
              "      <td>0.061</td>\n",
              "      <td>4.946</td>\n",
              "      <td>2.503</td>\n",
              "      <td>2.695</td>\n",
              "      <td>0.477</td>\n",
              "      <td>10.053</td>\n",
              "      <td>7.765</td>\n",
              "      <td>6.394</td>\n",
              "      <td>2.877</td>\n",
              "      <td>9.101</td>\n",
              "      <td>9.676</td>\n",
              "      <td>4.855</td>\n",
              "      <td>5.500</td>\n",
              "      <td>6.416</td>\n",
              "      <td>10.115</td>\n",
              "      <td>4.347</td>\n",
              "      <td>3.725</td>\n",
              "      <td>0.835</td>\n",
              "      <td>4.823</td>\n",
              "      <td>0.969</td>\n",
              "      <td>0.290</td>\n",
              "      <td>1.0</td>\n",
              "      <td>-0.965729</td>\n",
              "      <td>0.664349</td>\n",
              "      <td>0.986232</td>\n",
              "      <td>24.1</td>\n",
              "      <td>41.8</td>\n",
              "      <td>17.7</td>\n",
              "      <td>18.559306</td>\n",
              "      <td>13.630694</td>\n",
              "    </tr>\n",
              "  </tbody>\n",
              "</table>\n",
              "</div>"
            ],
            "text/plain": [
              "     T10    T50    T90  ...  T50-T10  (90-50/90-10)*N+A  (50-10/90-10)*N+A\n",
              "0  100.5  119.2  146.5  ...     18.7          18.978248          12.999752\n",
              "1   99.6  117.9  145.5  ...     18.3          18.982065          12.585935\n",
              "2  100.0  118.8  145.6  ...     18.8          18.421474          12.922526\n",
              "3  100.4  118.6  142.9  ...     18.2          17.983715          13.469285\n",
              "4  100.4  118.1  142.2  ...     17.7          18.559306          13.630694\n",
              "\n",
              "[5 rows x 36 columns]"
            ]
          },
          "metadata": {
            "tags": []
          },
          "execution_count": 19
        }
      ]
    },
    {
      "cell_type": "code",
      "metadata": {
        "id": "ayibowPg3kg7",
        "colab_type": "code",
        "outputId": "6069cba4-e5c2-4395-8104-27cbb15463e4",
        "colab": {
          "base_uri": "https://localhost:8080/",
          "height": 50
        }
      },
      "source": [
        "x_columns = df.drop(y_columns+['cluster','iso_1','iso_2','iso_3'],axis=1).columns.tolist()\n",
        "print(x_columns)\n",
        "print(y_columns)"
      ],
      "execution_count": 20,
      "outputs": [
        {
          "output_type": "stream",
          "text": [
            "['T10', 'T50', 'T90', 'NA', 'T90-T50', 'T90-T10', 'T50-T10', '(90-50/90-10)*N+A', '(50-10/90-10)*N+A']\n",
            "['C5NP', 'C5IP', 'C5N', 'C6NP', 'C6IP', 'C6N', 'C6A', 'C7NP', 'C7IP', 'C7N', 'C7A', 'C8NP', 'C8IP', 'C8N', 'C8A', 'C9NP', 'C9IP', 'C9N', 'C9A', 'C10NP', 'C10IP', 'C10N', 'C10A']\n"
          ],
          "name": "stdout"
        }
      ]
    },
    {
      "cell_type": "markdown",
      "metadata": {
        "id": "Pp4v4rzC2G8M",
        "colab_type": "text"
      },
      "source": [
        "# Modeling流程"
      ]
    },
    {
      "cell_type": "code",
      "metadata": {
        "id": "k1ZxRlXo1PQU",
        "colab_type": "code",
        "outputId": "087815c9-a3b7-4101-f009-9ce548cebdb5",
        "colab": {
          "base_uri": "https://localhost:8080/",
          "height": 70
        }
      },
      "source": [
        "from sklearn.model_selection import train_test_split\n",
        "from sklearn.externals import joblib\n",
        "from sklearn.model_selection import RandomizedSearchCV\n",
        "from tqdm import tqdm\n",
        "'''\n",
        "訓練流程:\n",
        "1.由原始四個特徵與y1做fit\n",
        "2.由原始四個特徵加上y1與y2做fit\n",
        "3.由原始四個特徵加上y1,y2與y3做fit\n",
        "以下依此類推直到y23\n",
        "23.由原始四個特徵加上y1,y2....y22與y23做fit\n",
        "'''\n",
        "def Sequential_training(data,x_columns,y_columns,cluster_name=None,save=False,Sequential=False,tuning=False,n_iter=None):\n",
        "  '''\n",
        "  輸入:data,特徵欄位,目標欄位\n",
        "  輸出:每個目標欄位的R2,RMSE,MAPE,MAPE修正\n",
        "  '''\n",
        "  \n",
        "  #初始化輸出結果表\n",
        "  result = pd.DataFrame(np.zeros((23,4)),index=y_columns,columns=['R2','RMSE','MAPE','MAPE修正'])\n",
        "\n",
        "  #pipeline fit & score each y\n",
        "  for y_name in tqdm(y_columns):\n",
        "    #split data\n",
        "    X = data[x_columns]\n",
        "    y = data[y_columns]\n",
        "    X_train, X_test, y_train, y_test = train_test_split(X,y,test_size=0.1,random_state=42)\n",
        "    \n",
        "    #Modeling\n",
        "    if tuning == True:\n",
        "      #定義超參數集合\n",
        "      #parameters = {'svr__kernel':('linear','rbf'), \n",
        "      #        'svr__C':[ i for i in range(1,10,1)],\n",
        "      #        'LassoTR__alpha':[ i for i in np.arange(0.01 ,0.05 ,0.01)]}\n",
        "      \n",
        "      parameters = {'knn__n_neighbors':[ i for i in range(1,15) ], \n",
        "              'LassoTR__alpha':[ i for i in np.arange(0.01 ,0.05 ,0.01)]}\n",
        "      #隨機搜索\n",
        "      RCV = RandomizedSearchCV(pipeline ,parameters ,n_iter=n_iter ,cv=3)\n",
        "      RCV.fit(X_train ,y_train[y_name])\n",
        "      print('當前群:{} 當前y:{} 最好參數:{}'.format(cluster_name ,y_name , RCV.best_params_))\n",
        "      model = RCV.best_estimator_#選取最優model\n",
        "        \n",
        "    if tuning == False:\n",
        "      model = pipeline.set_params(LassoTR__alpha=0.01)\n",
        "      model.fit(X_train,y_train[y_name])\n",
        "    \n",
        "    #predict\n",
        "    y_pred = model.predict(X_test)\n",
        "    #R2 = r2_score(y_test[y_name],y_pred)#驗證集R2\n",
        "    R2 = model.score(X_train,y_train[y_name])#訓練集R2\n",
        "    RMSE = rmse(y_test[y_name],y_pred)\n",
        "    MAPE = mape(y_test[y_name],y_pred)\n",
        "    MAPE修正 = mape(y_test[y_name],y_pred,dropinf=True)\n",
        "    result.loc[y_name,:] = [R2,RMSE,MAPE,MAPE修正]\n",
        "    #把當前這個y_name合併到x_columns裡面,讓下一輪預測當作特徵\n",
        "    if Sequential == True:\n",
        "      x_columns.append(y_name)\n",
        "    #保存模型\n",
        "    if save==True:\n",
        "      dir_path = '/content/drive/My Drive/台塑輕油案子/ART2各群Model/群代碼{}_'.format(cluster_name)\n",
        "      file_name = '{}.pkl'.format(y_name)\n",
        "      save_path = dir_path + file_name\n",
        "      joblib.dump(model ,save_path)\n",
        "  result.loc['AVG',:] = result.mean(axis=0)\n",
        "  return result"
      ],
      "execution_count": 21,
      "outputs": [
        {
          "output_type": "stream",
          "text": [
            "/usr/local/lib/python3.6/dist-packages/sklearn/externals/joblib/__init__.py:15: DeprecationWarning: sklearn.externals.joblib is deprecated in 0.21 and will be removed in 0.23. Please import this functionality directly from joblib, which can be installed with: pip install joblib. If this warning is raised when loading pickled models, you may need to re-serialize those models with scikit-learn 0.21+.\n",
            "  warnings.warn(msg, category=DeprecationWarning)\n"
          ],
          "name": "stderr"
        }
      ]
    },
    {
      "cell_type": "markdown",
      "metadata": {
        "id": "doODfk_z5Zwe",
        "colab_type": "text"
      },
      "source": [
        "# 調整y預測順序"
      ]
    },
    {
      "cell_type": "code",
      "metadata": {
        "id": "lPgXmQgq5Nud",
        "colab_type": "code",
        "outputId": "dbdc2bc9-d200-4105-d489-9ae3bfe9fb52",
        "colab": {
          "base_uri": "https://localhost:8080/",
          "height": 400
        }
      },
      "source": [
        "new_y_columns = []\n",
        "for i in y_columns:\n",
        "  if i[-2:] == 'NP':\n",
        "    new_i = i.replace('NP','IP')\n",
        "  elif i[-2:] == 'IP':\n",
        "    new_i = i.replace('IP','NP')\n",
        "  else:\n",
        "    new_i = i\n",
        "  new_y_columns.append(new_i)\n",
        "new_y_columns"
      ],
      "execution_count": 22,
      "outputs": [
        {
          "output_type": "execute_result",
          "data": {
            "text/plain": [
              "['C5IP',\n",
              " 'C5NP',\n",
              " 'C5N',\n",
              " 'C6IP',\n",
              " 'C6NP',\n",
              " 'C6N',\n",
              " 'C6A',\n",
              " 'C7IP',\n",
              " 'C7NP',\n",
              " 'C7N',\n",
              " 'C7A',\n",
              " 'C8IP',\n",
              " 'C8NP',\n",
              " 'C8N',\n",
              " 'C8A',\n",
              " 'C9IP',\n",
              " 'C9NP',\n",
              " 'C9N',\n",
              " 'C9A',\n",
              " 'C10IP',\n",
              " 'C10NP',\n",
              " 'C10N',\n",
              " 'C10A']"
            ]
          },
          "metadata": {
            "tags": []
          },
          "execution_count": 22
        }
      ]
    },
    {
      "cell_type": "code",
      "metadata": {
        "id": "Lxxr3Q6Bhqez",
        "colab_type": "code",
        "colab": {}
      },
      "source": [
        "y_columns = new_y_columns"
      ],
      "execution_count": 0,
      "outputs": []
    },
    {
      "cell_type": "markdown",
      "metadata": {
        "id": "UjWmRunh6uAZ",
        "colab_type": "text"
      },
      "source": [
        "# 分群建模"
      ]
    },
    {
      "cell_type": "code",
      "metadata": {
        "id": "YI2CWzG865Q3",
        "colab_type": "code",
        "outputId": "772002ec-dab5-460c-fb17-5f588eb02aea",
        "colab": {
          "base_uri": "https://localhost:8080/",
          "height": 117
        }
      },
      "source": [
        "df['cluster'].value_counts()"
      ],
      "execution_count": 24,
      "outputs": [
        {
          "output_type": "execute_result",
          "data": {
            "text/plain": [
              "3.0    1550\n",
              "0.0    1168\n",
              "1.0     923\n",
              "2.0     498\n",
              "4.0     382\n",
              "Name: cluster, dtype: int64"
            ]
          },
          "metadata": {
            "tags": []
          },
          "execution_count": 24
        }
      ]
    },
    {
      "cell_type": "code",
      "metadata": {
        "id": "0GsxVVls68FV",
        "colab_type": "code",
        "outputId": "fcfb99e6-8201-44c7-da65-be18b638f509",
        "colab": {
          "base_uri": "https://localhost:8080/",
          "height": 100
        }
      },
      "source": [
        "cluster_datas = [ df[df['cluster']==i] for i in sorted(df['cluster'].unique())]\n",
        "for item in cluster_datas:\n",
        "  print(item.shape)"
      ],
      "execution_count": 25,
      "outputs": [
        {
          "output_type": "stream",
          "text": [
            "(1168, 36)\n",
            "(923, 36)\n",
            "(498, 36)\n",
            "(1550, 36)\n",
            "(382, 36)\n"
          ],
          "name": "stdout"
        }
      ]
    },
    {
      "cell_type": "code",
      "metadata": {
        "id": "wT60I2hP4L0K",
        "colab_type": "code",
        "outputId": "1d305339-5a7e-43f6-941d-39fb7455c5fb",
        "colab": {
          "base_uri": "https://localhost:8080/",
          "height": 1000
        }
      },
      "source": [
        "import warnings \n",
        "warnings.simplefilter('ignore')\n",
        "\n",
        "for index,data in enumerate(cluster_datas):\n",
        "  print('ART群:{}該群validation結果'.format(index))\n",
        "  result = Sequential_training(data,list(x_columns),\n",
        "                            list(y_columns),\n",
        "                            cluster_name=str(index),\n",
        "                            save=True,\n",
        "                            Sequential=True ,\n",
        "                            tuning=True,\n",
        "                              n_iter=10)\n",
        "  print(result)"
      ],
      "execution_count": 26,
      "outputs": [
        {
          "output_type": "stream",
          "text": [
            "ART群:0該群validation結果\n"
          ],
          "name": "stdout"
        },
        {
          "output_type": "stream",
          "text": [
            "  4%|▍         | 1/23 [00:00<00:16,  1.36it/s]"
          ],
          "name": "stderr"
        },
        {
          "output_type": "stream",
          "text": [
            "當前群:0 當前y:C5IP 最好參數:{'knn__n_neighbors': 13, 'LassoTR__alpha': 0.04}\n"
          ],
          "name": "stdout"
        },
        {
          "output_type": "stream",
          "text": [
            "\r  9%|▊         | 2/23 [00:01<00:16,  1.27it/s]"
          ],
          "name": "stderr"
        },
        {
          "output_type": "stream",
          "text": [
            "當前群:0 當前y:C5NP 最好參數:{'knn__n_neighbors': 3, 'LassoTR__alpha': 0.04}\n"
          ],
          "name": "stdout"
        },
        {
          "output_type": "stream",
          "text": [
            "\r 13%|█▎        | 3/23 [00:02<00:16,  1.25it/s]"
          ],
          "name": "stderr"
        },
        {
          "output_type": "stream",
          "text": [
            "當前群:0 當前y:C5N 最好參數:{'knn__n_neighbors': 4, 'LassoTR__alpha': 0.01}\n"
          ],
          "name": "stdout"
        },
        {
          "output_type": "stream",
          "text": [
            "\r 17%|█▋        | 4/23 [00:03<00:19,  1.01s/it]"
          ],
          "name": "stderr"
        },
        {
          "output_type": "stream",
          "text": [
            "當前群:0 當前y:C6IP 最好參數:{'knn__n_neighbors': 2, 'LassoTR__alpha': 0.04}\n"
          ],
          "name": "stdout"
        },
        {
          "output_type": "stream",
          "text": [
            "\r 22%|██▏       | 5/23 [00:05<00:22,  1.27s/it]"
          ],
          "name": "stderr"
        },
        {
          "output_type": "stream",
          "text": [
            "當前群:0 當前y:C6NP 最好參數:{'knn__n_neighbors': 2, 'LassoTR__alpha': 0.02}\n"
          ],
          "name": "stdout"
        },
        {
          "output_type": "stream",
          "text": [
            "\r 26%|██▌       | 6/23 [00:07<00:24,  1.43s/it]"
          ],
          "name": "stderr"
        },
        {
          "output_type": "stream",
          "text": [
            "當前群:0 當前y:C6N 最好參數:{'knn__n_neighbors': 1, 'LassoTR__alpha': 0.03}\n"
          ],
          "name": "stdout"
        },
        {
          "output_type": "stream",
          "text": [
            "\r 30%|███       | 7/23 [00:09<00:26,  1.63s/it]"
          ],
          "name": "stderr"
        },
        {
          "output_type": "stream",
          "text": [
            "當前群:0 當前y:C6A 最好參數:{'knn__n_neighbors': 3, 'LassoTR__alpha': 0.01}\n"
          ],
          "name": "stdout"
        },
        {
          "output_type": "stream",
          "text": [
            "\r 35%|███▍      | 8/23 [00:12<00:31,  2.10s/it]"
          ],
          "name": "stderr"
        },
        {
          "output_type": "stream",
          "text": [
            "當前群:0 當前y:C7IP 最好參數:{'knn__n_neighbors': 3, 'LassoTR__alpha': 0.04}\n"
          ],
          "name": "stdout"
        },
        {
          "output_type": "stream",
          "text": [
            "\r 39%|███▉      | 9/23 [00:15<00:30,  2.19s/it]"
          ],
          "name": "stderr"
        },
        {
          "output_type": "stream",
          "text": [
            "當前群:0 當前y:C7NP 最好參數:{'knn__n_neighbors': 1, 'LassoTR__alpha': 0.03}\n"
          ],
          "name": "stdout"
        },
        {
          "output_type": "stream",
          "text": [
            "\r 43%|████▎     | 10/23 [00:18<00:33,  2.54s/it]"
          ],
          "name": "stderr"
        },
        {
          "output_type": "stream",
          "text": [
            "當前群:0 當前y:C7N 最好參數:{'knn__n_neighbors': 2, 'LassoTR__alpha': 0.04}\n"
          ],
          "name": "stdout"
        },
        {
          "output_type": "stream",
          "text": [
            "\r 48%|████▊     | 11/23 [00:20<00:29,  2.42s/it]"
          ],
          "name": "stderr"
        },
        {
          "output_type": "stream",
          "text": [
            "當前群:0 當前y:C7A 最好參數:{'knn__n_neighbors': 3, 'LassoTR__alpha': 0.03}\n"
          ],
          "name": "stdout"
        },
        {
          "output_type": "stream",
          "text": [
            "\r 52%|█████▏    | 12/23 [00:24<00:29,  2.70s/it]"
          ],
          "name": "stderr"
        },
        {
          "output_type": "stream",
          "text": [
            "當前群:0 當前y:C8IP 最好參數:{'knn__n_neighbors': 3, 'LassoTR__alpha': 0.02}\n"
          ],
          "name": "stdout"
        },
        {
          "output_type": "stream",
          "text": [
            "\r 57%|█████▋    | 13/23 [00:27<00:29,  2.91s/it]"
          ],
          "name": "stderr"
        },
        {
          "output_type": "stream",
          "text": [
            "當前群:0 當前y:C8NP 最好參數:{'knn__n_neighbors': 3, 'LassoTR__alpha': 0.02}\n"
          ],
          "name": "stdout"
        },
        {
          "output_type": "stream",
          "text": [
            "\r 61%|██████    | 14/23 [00:32<00:31,  3.45s/it]"
          ],
          "name": "stderr"
        },
        {
          "output_type": "stream",
          "text": [
            "當前群:0 當前y:C8N 最好參數:{'knn__n_neighbors': 3, 'LassoTR__alpha': 0.03}\n"
          ],
          "name": "stdout"
        },
        {
          "output_type": "stream",
          "text": [
            "\r 65%|██████▌   | 15/23 [00:37<00:31,  3.94s/it]"
          ],
          "name": "stderr"
        },
        {
          "output_type": "stream",
          "text": [
            "當前群:0 當前y:C8A 最好參數:{'knn__n_neighbors': 3, 'LassoTR__alpha': 0.04}\n"
          ],
          "name": "stdout"
        },
        {
          "output_type": "stream",
          "text": [
            "\r 70%|██████▉   | 16/23 [00:41<00:28,  4.10s/it]"
          ],
          "name": "stderr"
        },
        {
          "output_type": "stream",
          "text": [
            "當前群:0 當前y:C9IP 最好參數:{'knn__n_neighbors': 3, 'LassoTR__alpha': 0.03}\n"
          ],
          "name": "stdout"
        },
        {
          "output_type": "stream",
          "text": [
            "\r 74%|███████▍  | 17/23 [00:45<00:23,  3.96s/it]"
          ],
          "name": "stderr"
        },
        {
          "output_type": "stream",
          "text": [
            "當前群:0 當前y:C9NP 最好參數:{'knn__n_neighbors': 5, 'LassoTR__alpha': 0.02}\n"
          ],
          "name": "stdout"
        },
        {
          "output_type": "stream",
          "text": [
            "\r 78%|███████▊  | 18/23 [00:50<00:21,  4.29s/it]"
          ],
          "name": "stderr"
        },
        {
          "output_type": "stream",
          "text": [
            "當前群:0 當前y:C9N 最好參數:{'knn__n_neighbors': 2, 'LassoTR__alpha': 0.02}\n"
          ],
          "name": "stdout"
        },
        {
          "output_type": "stream",
          "text": [
            "\r 83%|████████▎ | 19/23 [00:57<00:19,  4.99s/it]"
          ],
          "name": "stderr"
        },
        {
          "output_type": "stream",
          "text": [
            "當前群:0 當前y:C9A 最好參數:{'knn__n_neighbors': 5, 'LassoTR__alpha': 0.02}\n"
          ],
          "name": "stdout"
        },
        {
          "output_type": "stream",
          "text": [
            "\r 87%|████████▋ | 20/23 [01:03<00:15,  5.30s/it]"
          ],
          "name": "stderr"
        },
        {
          "output_type": "stream",
          "text": [
            "當前群:0 當前y:C10IP 最好參數:{'knn__n_neighbors': 3, 'LassoTR__alpha': 0.03}\n"
          ],
          "name": "stdout"
        },
        {
          "output_type": "stream",
          "text": [
            "\r 91%|█████████▏| 21/23 [01:07<00:10,  5.01s/it]"
          ],
          "name": "stderr"
        },
        {
          "output_type": "stream",
          "text": [
            "當前群:0 當前y:C10NP 最好參數:{'knn__n_neighbors': 1, 'LassoTR__alpha': 0.04}\n"
          ],
          "name": "stdout"
        },
        {
          "output_type": "stream",
          "text": [
            "\r 96%|█████████▌| 22/23 [01:11<00:04,  4.84s/it]"
          ],
          "name": "stderr"
        },
        {
          "output_type": "stream",
          "text": [
            "當前群:0 當前y:C10N 最好參數:{'knn__n_neighbors': 5, 'LassoTR__alpha': 0.01}\n"
          ],
          "name": "stdout"
        },
        {
          "output_type": "stream",
          "text": [
            "100%|██████████| 23/23 [01:16<00:00,  4.73s/it]\n",
            "  0%|          | 0/23 [00:00<?, ?it/s]"
          ],
          "name": "stderr"
        },
        {
          "output_type": "stream",
          "text": [
            "當前群:0 當前y:C10A 最好參數:{'knn__n_neighbors': 3, 'LassoTR__alpha': 0.02}\n",
            "             R2      RMSE        MAPE      MAPE修正\n",
            "C5IP   0.687998  0.204471  339.539366  339.539366\n",
            "C5NP   0.931461  0.254398   65.818210   65.818210\n",
            "C5N    0.800794  0.034346         inf   19.880787\n",
            "C6IP   0.962961  0.335743    9.915580    9.915580\n",
            "C6NP   0.951612  0.326948    6.157333    6.157333\n",
            "C6N    1.000000  0.726233   30.253372   30.253372\n",
            "C6A    0.772331  0.366771         inf   20.447185\n",
            "C7IP   0.915579  0.352349    3.564009    3.564009\n",
            "C7NP   1.000000  0.279199    2.212097    2.212097\n",
            "C7N    0.977770  0.635162    4.919742    4.919742\n",
            "C7A    0.861970  0.367345    7.786543    7.786543\n",
            "C8IP   0.944992  0.564468    4.041641    4.041641\n",
            "C8NP   0.959217  0.249247    2.053072    2.053072\n",
            "C8N    0.937760  0.542377    4.605663    4.605663\n",
            "C8A    0.943719  0.573885    6.061027    6.061027\n",
            "C9IP   0.941064  0.564191    3.539523    3.539523\n",
            "C9NP   0.941792  0.234146    2.617095    2.617095\n",
            "C9N    0.925820  0.361641    4.029038    4.029038\n",
            "C9A    0.585483  0.493672    5.198713    5.198713\n",
            "C10IP  0.764271  0.345623    4.285417    4.285417\n",
            "C10NP  1.000000  0.318786   22.718323   22.718323\n",
            "C10N   0.721575  0.350563   11.630540   11.630540\n",
            "C10A   0.899795  0.258978   22.867439   22.867439\n",
            "AVG    0.888172  0.380023         inf   26.267031\n",
            "ART群:1該群validation結果\n"
          ],
          "name": "stdout"
        },
        {
          "output_type": "stream",
          "text": [
            "\r  4%|▍         | 1/23 [00:00<00:18,  1.20it/s]"
          ],
          "name": "stderr"
        },
        {
          "output_type": "stream",
          "text": [
            "當前群:1 當前y:C5IP 最好參數:{'knn__n_neighbors': 6, 'LassoTR__alpha': 0.02}\n"
          ],
          "name": "stdout"
        },
        {
          "output_type": "stream",
          "text": [
            "\r  9%|▊         | 2/23 [00:01<00:17,  1.22it/s]"
          ],
          "name": "stderr"
        },
        {
          "output_type": "stream",
          "text": [
            "當前群:1 當前y:C5NP 最好參數:{'knn__n_neighbors': 4, 'LassoTR__alpha': 0.01}\n"
          ],
          "name": "stdout"
        },
        {
          "output_type": "stream",
          "text": [
            "\r 13%|█▎        | 3/23 [00:02<00:16,  1.20it/s]"
          ],
          "name": "stderr"
        },
        {
          "output_type": "stream",
          "text": [
            "當前群:1 當前y:C5N 最好參數:{'knn__n_neighbors': 1, 'LassoTR__alpha': 0.04}\n"
          ],
          "name": "stdout"
        },
        {
          "output_type": "stream",
          "text": [
            "\r 17%|█▋        | 4/23 [00:03<00:18,  1.02it/s]"
          ],
          "name": "stderr"
        },
        {
          "output_type": "stream",
          "text": [
            "當前群:1 當前y:C6IP 最好參數:{'knn__n_neighbors': 2, 'LassoTR__alpha': 0.02}\n"
          ],
          "name": "stdout"
        },
        {
          "output_type": "stream",
          "text": [
            "\r 22%|██▏       | 5/23 [00:05<00:22,  1.24s/it]"
          ],
          "name": "stderr"
        },
        {
          "output_type": "stream",
          "text": [
            "當前群:1 當前y:C6NP 最好參數:{'knn__n_neighbors': 1, 'LassoTR__alpha': 0.03}\n"
          ],
          "name": "stdout"
        },
        {
          "output_type": "stream",
          "text": [
            "\r 26%|██▌       | 6/23 [00:07<00:24,  1.46s/it]"
          ],
          "name": "stderr"
        },
        {
          "output_type": "stream",
          "text": [
            "當前群:1 當前y:C6N 最好參數:{'knn__n_neighbors': 1, 'LassoTR__alpha': 0.02}\n"
          ],
          "name": "stdout"
        },
        {
          "output_type": "stream",
          "text": [
            "\r 30%|███       | 7/23 [00:09<00:26,  1.64s/it]"
          ],
          "name": "stderr"
        },
        {
          "output_type": "stream",
          "text": [
            "當前群:1 當前y:C6A 最好參數:{'knn__n_neighbors': 3, 'LassoTR__alpha': 0.02}\n"
          ],
          "name": "stdout"
        },
        {
          "output_type": "stream",
          "text": [
            "\r 35%|███▍      | 8/23 [00:11<00:27,  1.81s/it]"
          ],
          "name": "stderr"
        },
        {
          "output_type": "stream",
          "text": [
            "當前群:1 當前y:C7IP 最好參數:{'knn__n_neighbors': 8, 'LassoTR__alpha': 0.02}\n"
          ],
          "name": "stdout"
        },
        {
          "output_type": "stream",
          "text": [
            "\r 39%|███▉      | 9/23 [00:14<00:27,  1.94s/it]"
          ],
          "name": "stderr"
        },
        {
          "output_type": "stream",
          "text": [
            "當前群:1 當前y:C7NP 最好參數:{'knn__n_neighbors': 4, 'LassoTR__alpha': 0.04}\n"
          ],
          "name": "stdout"
        },
        {
          "output_type": "stream",
          "text": [
            "\r 43%|████▎     | 10/23 [00:17<00:29,  2.23s/it]"
          ],
          "name": "stderr"
        },
        {
          "output_type": "stream",
          "text": [
            "當前群:1 當前y:C7N 最好參數:{'knn__n_neighbors': 2, 'LassoTR__alpha': 0.02}\n"
          ],
          "name": "stdout"
        },
        {
          "output_type": "stream",
          "text": [
            "\r 48%|████▊     | 11/23 [00:19<00:27,  2.30s/it]"
          ],
          "name": "stderr"
        },
        {
          "output_type": "stream",
          "text": [
            "當前群:1 當前y:C7A 最好參數:{'knn__n_neighbors': 6, 'LassoTR__alpha': 0.01}\n"
          ],
          "name": "stdout"
        },
        {
          "output_type": "stream",
          "text": [
            "\r 52%|█████▏    | 12/23 [00:22<00:26,  2.36s/it]"
          ],
          "name": "stderr"
        },
        {
          "output_type": "stream",
          "text": [
            "當前群:1 當前y:C8IP 最好參數:{'knn__n_neighbors': 3, 'LassoTR__alpha': 0.04}\n"
          ],
          "name": "stdout"
        },
        {
          "output_type": "stream",
          "text": [
            "\r 57%|█████▋    | 13/23 [00:25<00:25,  2.57s/it]"
          ],
          "name": "stderr"
        },
        {
          "output_type": "stream",
          "text": [
            "當前群:1 當前y:C8NP 最好參數:{'knn__n_neighbors': 2, 'LassoTR__alpha': 0.03}\n"
          ],
          "name": "stdout"
        },
        {
          "output_type": "stream",
          "text": [
            "\r 61%|██████    | 14/23 [00:27<00:23,  2.65s/it]"
          ],
          "name": "stderr"
        },
        {
          "output_type": "stream",
          "text": [
            "當前群:1 當前y:C8N 最好參數:{'knn__n_neighbors': 4, 'LassoTR__alpha': 0.04}\n"
          ],
          "name": "stdout"
        },
        {
          "output_type": "stream",
          "text": [
            "\r 65%|██████▌   | 15/23 [00:31<00:23,  2.97s/it]"
          ],
          "name": "stderr"
        },
        {
          "output_type": "stream",
          "text": [
            "當前群:1 當前y:C8A 最好參數:{'knn__n_neighbors': 2, 'LassoTR__alpha': 0.01}\n"
          ],
          "name": "stdout"
        },
        {
          "output_type": "stream",
          "text": [
            "\r 70%|██████▉   | 16/23 [00:35<00:22,  3.21s/it]"
          ],
          "name": "stderr"
        },
        {
          "output_type": "stream",
          "text": [
            "當前群:1 當前y:C9IP 最好參數:{'knn__n_neighbors': 1, 'LassoTR__alpha': 0.02}\n"
          ],
          "name": "stdout"
        },
        {
          "output_type": "stream",
          "text": [
            "\r 74%|███████▍  | 17/23 [00:38<00:19,  3.24s/it]"
          ],
          "name": "stderr"
        },
        {
          "output_type": "stream",
          "text": [
            "當前群:1 當前y:C9NP 最好參數:{'knn__n_neighbors': 7, 'LassoTR__alpha': 0.04}\n"
          ],
          "name": "stdout"
        },
        {
          "output_type": "stream",
          "text": [
            "\r 78%|███████▊  | 18/23 [00:42<00:17,  3.46s/it]"
          ],
          "name": "stderr"
        },
        {
          "output_type": "stream",
          "text": [
            "當前群:1 當前y:C9N 最好參數:{'knn__n_neighbors': 1, 'LassoTR__alpha': 0.03}\n"
          ],
          "name": "stdout"
        },
        {
          "output_type": "stream",
          "text": [
            "\r 83%|████████▎ | 19/23 [00:46<00:13,  3.46s/it]"
          ],
          "name": "stderr"
        },
        {
          "output_type": "stream",
          "text": [
            "當前群:1 當前y:C9A 最好參數:{'knn__n_neighbors': 2, 'LassoTR__alpha': 0.04}\n"
          ],
          "name": "stdout"
        },
        {
          "output_type": "stream",
          "text": [
            "\r 87%|████████▋ | 20/23 [00:51<00:11,  3.92s/it]"
          ],
          "name": "stderr"
        },
        {
          "output_type": "stream",
          "text": [
            "當前群:1 當前y:C10IP 最好參數:{'knn__n_neighbors': 3, 'LassoTR__alpha': 0.03}\n"
          ],
          "name": "stdout"
        },
        {
          "output_type": "stream",
          "text": [
            "\r 91%|█████████▏| 21/23 [00:55<00:08,  4.05s/it]"
          ],
          "name": "stderr"
        },
        {
          "output_type": "stream",
          "text": [
            "當前群:1 當前y:C10NP 最好參數:{'knn__n_neighbors': 3, 'LassoTR__alpha': 0.02}\n"
          ],
          "name": "stdout"
        },
        {
          "output_type": "stream",
          "text": [
            "\r 96%|█████████▌| 22/23 [00:58<00:03,  3.83s/it]"
          ],
          "name": "stderr"
        },
        {
          "output_type": "stream",
          "text": [
            "當前群:1 當前y:C10N 最好參數:{'knn__n_neighbors': 7, 'LassoTR__alpha': 0.02}\n"
          ],
          "name": "stdout"
        },
        {
          "output_type": "stream",
          "text": [
            "100%|██████████| 23/23 [01:02<00:00,  3.93s/it]\n",
            "  0%|          | 0/23 [00:00<?, ?it/s]"
          ],
          "name": "stderr"
        },
        {
          "output_type": "stream",
          "text": [
            "當前群:1 當前y:C10A 最好參數:{'knn__n_neighbors': 3, 'LassoTR__alpha': 0.02}\n",
            "             R2      RMSE       MAPE      MAPE修正\n",
            "C5IP   0.522088  0.287921        inf  210.977255\n",
            "C5NP   0.682424  0.389556        inf   80.005387\n",
            "C5N    1.000000  0.411075        inf   89.366724\n",
            "C6IP   0.884213  1.366250  14.684607   14.684607\n",
            "C6NP   1.000000  1.347554   7.209309    7.209309\n",
            "C6N    1.000000  1.624619   8.822286    8.822286\n",
            "C6A    0.764355  0.337003  24.631372   24.631372\n",
            "C7IP   0.609559  0.477153   3.603653    3.603653\n",
            "C7NP   0.752509  0.448605   2.599873    2.599873\n",
            "C7N    0.912256  0.309670   2.194299    2.194299\n",
            "C7A    0.613897  0.323602   5.020153    5.020153\n",
            "C8IP   0.775878  0.615139   8.413674    8.413674\n",
            "C8NP   0.889384  0.551540   8.997410    8.997410\n",
            "C8N    0.729202  0.395664   5.344673    5.344673\n",
            "C8A    0.910167  0.296886  13.511205   13.511205\n",
            "C9IP   1.000000  0.562577   3.629457    3.629457\n",
            "C9NP   0.737137  0.645016  93.017402   93.017402\n",
            "C9N    1.000000  0.487214  50.488337   50.488337\n",
            "C9A    0.932302  0.153843   4.940557    4.940557\n",
            "C10IP  0.863194  0.433674  18.630012   18.630012\n",
            "C10NP  0.741911  0.140830        NaN   24.253446\n",
            "C10N   0.559700  0.103655  77.355002   77.355002\n",
            "C10A   0.853229  0.075228  33.449676   33.449676\n",
            "AVG    0.814496  0.512360        inf   34.397642\n",
            "ART群:2該群validation結果\n"
          ],
          "name": "stdout"
        },
        {
          "output_type": "stream",
          "text": [
            "\r  4%|▍         | 1/23 [00:00<00:14,  1.51it/s]"
          ],
          "name": "stderr"
        },
        {
          "output_type": "stream",
          "text": [
            "當前群:2 當前y:C5IP 最好參數:{'knn__n_neighbors': 5, 'LassoTR__alpha': 0.04}\n"
          ],
          "name": "stdout"
        },
        {
          "output_type": "stream",
          "text": [
            "\r  9%|▊         | 2/23 [00:01<00:13,  1.52it/s]"
          ],
          "name": "stderr"
        },
        {
          "output_type": "stream",
          "text": [
            "當前群:2 當前y:C5NP 最好參數:{'knn__n_neighbors': 1, 'LassoTR__alpha': 0.02}\n"
          ],
          "name": "stdout"
        },
        {
          "output_type": "stream",
          "text": [
            "\r 13%|█▎        | 3/23 [00:01<00:13,  1.54it/s]"
          ],
          "name": "stderr"
        },
        {
          "output_type": "stream",
          "text": [
            "當前群:2 當前y:C5N 最好參數:{'knn__n_neighbors': 3, 'LassoTR__alpha': 0.01}\n"
          ],
          "name": "stdout"
        },
        {
          "output_type": "stream",
          "text": [
            "\r 17%|█▋        | 4/23 [00:02<00:13,  1.38it/s]"
          ],
          "name": "stderr"
        },
        {
          "output_type": "stream",
          "text": [
            "當前群:2 當前y:C6IP 最好參數:{'knn__n_neighbors': 2, 'LassoTR__alpha': 0.01}\n"
          ],
          "name": "stdout"
        },
        {
          "output_type": "stream",
          "text": [
            "\r 22%|██▏       | 5/23 [00:03<00:14,  1.24it/s]"
          ],
          "name": "stderr"
        },
        {
          "output_type": "stream",
          "text": [
            "當前群:2 當前y:C6NP 最好參數:{'knn__n_neighbors': 4, 'LassoTR__alpha': 0.04}\n"
          ],
          "name": "stdout"
        },
        {
          "output_type": "stream",
          "text": [
            "\r 26%|██▌       | 6/23 [00:05<00:16,  1.05it/s]"
          ],
          "name": "stderr"
        },
        {
          "output_type": "stream",
          "text": [
            "當前群:2 當前y:C6N 最好參數:{'knn__n_neighbors': 9, 'LassoTR__alpha': 0.03}\n"
          ],
          "name": "stdout"
        },
        {
          "output_type": "stream",
          "text": [
            "\r 30%|███       | 7/23 [00:06<00:16,  1.01s/it]"
          ],
          "name": "stderr"
        },
        {
          "output_type": "stream",
          "text": [
            "當前群:2 當前y:C6A 最好參數:{'knn__n_neighbors': 5, 'LassoTR__alpha': 0.01}\n"
          ],
          "name": "stdout"
        },
        {
          "output_type": "stream",
          "text": [
            "\r 35%|███▍      | 8/23 [00:07<00:15,  1.03s/it]"
          ],
          "name": "stderr"
        },
        {
          "output_type": "stream",
          "text": [
            "當前群:2 當前y:C7IP 最好參數:{'knn__n_neighbors': 2, 'LassoTR__alpha': 0.04}\n"
          ],
          "name": "stdout"
        },
        {
          "output_type": "stream",
          "text": [
            "\r 39%|███▉      | 9/23 [00:08<00:15,  1.08s/it]"
          ],
          "name": "stderr"
        },
        {
          "output_type": "stream",
          "text": [
            "當前群:2 當前y:C7NP 最好參數:{'knn__n_neighbors': 3, 'LassoTR__alpha': 0.01}\n"
          ],
          "name": "stdout"
        },
        {
          "output_type": "stream",
          "text": [
            "\r 43%|████▎     | 10/23 [00:10<00:17,  1.34s/it]"
          ],
          "name": "stderr"
        },
        {
          "output_type": "stream",
          "text": [
            "當前群:2 當前y:C7N 最好參數:{'knn__n_neighbors': 2, 'LassoTR__alpha': 0.02}\n"
          ],
          "name": "stdout"
        },
        {
          "output_type": "stream",
          "text": [
            "\r 48%|████▊     | 11/23 [00:11<00:16,  1.38s/it]"
          ],
          "name": "stderr"
        },
        {
          "output_type": "stream",
          "text": [
            "當前群:2 當前y:C7A 最好參數:{'knn__n_neighbors': 11, 'LassoTR__alpha': 0.01}\n"
          ],
          "name": "stdout"
        },
        {
          "output_type": "stream",
          "text": [
            "\r 52%|█████▏    | 12/23 [00:14<00:17,  1.64s/it]"
          ],
          "name": "stderr"
        },
        {
          "output_type": "stream",
          "text": [
            "當前群:2 當前y:C8IP 最好參數:{'knn__n_neighbors': 2, 'LassoTR__alpha': 0.03}\n"
          ],
          "name": "stdout"
        },
        {
          "output_type": "stream",
          "text": [
            "\r 57%|█████▋    | 13/23 [00:15<00:15,  1.57s/it]"
          ],
          "name": "stderr"
        },
        {
          "output_type": "stream",
          "text": [
            "當前群:2 當前y:C8NP 最好參數:{'knn__n_neighbors': 2, 'LassoTR__alpha': 0.02}\n"
          ],
          "name": "stdout"
        },
        {
          "output_type": "stream",
          "text": [
            "\r 61%|██████    | 14/23 [00:17<00:15,  1.77s/it]"
          ],
          "name": "stderr"
        },
        {
          "output_type": "stream",
          "text": [
            "當前群:2 當前y:C8N 最好參數:{'knn__n_neighbors': 3, 'LassoTR__alpha': 0.03}\n"
          ],
          "name": "stdout"
        },
        {
          "output_type": "stream",
          "text": [
            "\r 65%|██████▌   | 15/23 [00:20<00:15,  1.91s/it]"
          ],
          "name": "stderr"
        },
        {
          "output_type": "stream",
          "text": [
            "當前群:2 當前y:C8A 最好參數:{'knn__n_neighbors': 4, 'LassoTR__alpha': 0.03}\n"
          ],
          "name": "stdout"
        },
        {
          "output_type": "stream",
          "text": [
            "\r 70%|██████▉   | 16/23 [00:22<00:13,  1.99s/it]"
          ],
          "name": "stderr"
        },
        {
          "output_type": "stream",
          "text": [
            "當前群:2 當前y:C9IP 最好參數:{'knn__n_neighbors': 4, 'LassoTR__alpha': 0.03}\n"
          ],
          "name": "stdout"
        },
        {
          "output_type": "stream",
          "text": [
            "\r 74%|███████▍  | 17/23 [00:25<00:13,  2.27s/it]"
          ],
          "name": "stderr"
        },
        {
          "output_type": "stream",
          "text": [
            "當前群:2 當前y:C9NP 最好參數:{'knn__n_neighbors': 1, 'LassoTR__alpha': 0.01}\n"
          ],
          "name": "stdout"
        },
        {
          "output_type": "stream",
          "text": [
            "\r 78%|███████▊  | 18/23 [00:27<00:11,  2.39s/it]"
          ],
          "name": "stderr"
        },
        {
          "output_type": "stream",
          "text": [
            "當前群:2 當前y:C9N 最好參數:{'knn__n_neighbors': 2, 'LassoTR__alpha': 0.01}\n"
          ],
          "name": "stdout"
        },
        {
          "output_type": "stream",
          "text": [
            "\r 83%|████████▎ | 19/23 [00:29<00:08,  2.22s/it]"
          ],
          "name": "stderr"
        },
        {
          "output_type": "stream",
          "text": [
            "當前群:2 當前y:C9A 最好參數:{'knn__n_neighbors': 2, 'LassoTR__alpha': 0.01}\n"
          ],
          "name": "stdout"
        },
        {
          "output_type": "stream",
          "text": [
            "\r 87%|████████▋ | 20/23 [00:31<00:06,  2.17s/it]"
          ],
          "name": "stderr"
        },
        {
          "output_type": "stream",
          "text": [
            "當前群:2 當前y:C10IP 最好參數:{'knn__n_neighbors': 3, 'LassoTR__alpha': 0.03}\n"
          ],
          "name": "stdout"
        },
        {
          "output_type": "stream",
          "text": [
            "\r 91%|█████████▏| 21/23 [00:33<00:03,  1.97s/it]"
          ],
          "name": "stderr"
        },
        {
          "output_type": "stream",
          "text": [
            "當前群:2 當前y:C10NP 最好參數:{'knn__n_neighbors': 10, 'LassoTR__alpha': 0.02}\n"
          ],
          "name": "stdout"
        },
        {
          "output_type": "stream",
          "text": [
            "\r 96%|█████████▌| 22/23 [00:34<00:01,  1.90s/it]"
          ],
          "name": "stderr"
        },
        {
          "output_type": "stream",
          "text": [
            "當前群:2 當前y:C10N 最好參數:{'knn__n_neighbors': 8, 'LassoTR__alpha': 0.01}\n"
          ],
          "name": "stdout"
        },
        {
          "output_type": "stream",
          "text": [
            "100%|██████████| 23/23 [00:36<00:00,  1.87s/it]\n",
            "  0%|          | 0/23 [00:00<?, ?it/s]"
          ],
          "name": "stderr"
        },
        {
          "output_type": "stream",
          "text": [
            "當前群:2 當前y:C10A 最好參數:{'knn__n_neighbors': 4, 'LassoTR__alpha': 0.03}\n",
            "             R2      RMSE       MAPE      MAPE修正\n",
            "C5IP   0.647395  0.204146        inf  156.807413\n",
            "C5NP   1.000000  0.081030  81.205756   81.205756\n",
            "C5N    0.867277  0.027026        inf   42.018414\n",
            "C6IP   0.974984  0.206010  14.221162   14.221162\n",
            "C6NP   0.871012  0.315640   8.204215    8.204215\n",
            "C6N    0.819959  0.421405   8.620990    8.620990\n",
            "C6A    0.567257  0.572177  26.037679   26.037679\n",
            "C7IP   0.919041  0.359369   3.204231    3.204231\n",
            "C7NP   0.969148  0.237051   1.646531    1.646531\n",
            "C7N    0.938754  0.510376   4.372864    4.372864\n",
            "C7A    0.458098  0.237570   4.371670    4.371670\n",
            "C8IP   0.898004  0.352413   2.589796    2.589796\n",
            "C8NP   0.973979  0.174896   1.472950    1.472950\n",
            "C8N    0.919571  0.288991   3.783362    3.783362\n",
            "C8A    0.799724  0.842730   5.651821    5.651821\n",
            "C9IP   0.884732  0.305308   2.372058    2.372058\n",
            "C9NP   1.000000  0.200406   2.421969    2.421969\n",
            "C9N    0.933020  0.753031   3.427167    3.427167\n",
            "C9A    0.912114  0.331791   6.854879    6.854879\n",
            "C10IP  0.905321  0.232107   3.653932    3.653932\n",
            "C10NP  0.663425  0.177962        inf   11.381643\n",
            "C10N   0.346465  0.232016  17.305595   17.305595\n",
            "C10A   0.688517  0.087751  15.143877   15.143877\n",
            "AVG    0.824252  0.310922        inf   18.555216\n",
            "ART群:3該群validation結果\n"
          ],
          "name": "stdout"
        },
        {
          "output_type": "stream",
          "text": [
            "\r  4%|▍         | 1/23 [00:01<00:28,  1.30s/it]"
          ],
          "name": "stderr"
        },
        {
          "output_type": "stream",
          "text": [
            "當前群:3 當前y:C5IP 最好參數:{'knn__n_neighbors': 8, 'LassoTR__alpha': 0.03}\n"
          ],
          "name": "stdout"
        },
        {
          "output_type": "stream",
          "text": [
            "\r  9%|▊         | 2/23 [00:02<00:27,  1.29s/it]"
          ],
          "name": "stderr"
        },
        {
          "output_type": "stream",
          "text": [
            "當前群:3 當前y:C5NP 最好參數:{'knn__n_neighbors': 5, 'LassoTR__alpha': 0.04}\n"
          ],
          "name": "stdout"
        },
        {
          "output_type": "stream",
          "text": [
            "\r 13%|█▎        | 3/23 [00:04<00:27,  1.36s/it]"
          ],
          "name": "stderr"
        },
        {
          "output_type": "stream",
          "text": [
            "當前群:3 當前y:C5N 最好參數:{'knn__n_neighbors': 14, 'LassoTR__alpha': 0.04}\n"
          ],
          "name": "stdout"
        },
        {
          "output_type": "stream",
          "text": [
            "\r 17%|█▋        | 4/23 [00:05<00:25,  1.36s/it]"
          ],
          "name": "stderr"
        },
        {
          "output_type": "stream",
          "text": [
            "當前群:3 當前y:C6IP 最好參數:{'knn__n_neighbors': 7, 'LassoTR__alpha': 0.03}\n",
            "當前群:3 當前y:C6NP 最好參數:{'knn__n_neighbors': 8, 'LassoTR__alpha': 0.03}\n"
          ],
          "name": "stdout"
        },
        {
          "output_type": "stream",
          "text": [
            "\r 22%|██▏       | 5/23 [00:07<00:26,  1.49s/it]"
          ],
          "name": "stderr"
        },
        {
          "output_type": "stream",
          "text": [
            "當前群:3 當前y:C6N 最好參數:{'knn__n_neighbors': 2, 'LassoTR__alpha': 0.04}\n"
          ],
          "name": "stdout"
        },
        {
          "output_type": "stream",
          "text": [
            "\r 26%|██▌       | 6/23 [00:10<00:36,  2.15s/it]"
          ],
          "name": "stderr"
        },
        {
          "output_type": "stream",
          "text": [
            "當前群:3 當前y:C6A 最好參數:{'knn__n_neighbors': 2, 'LassoTR__alpha': 0.01}\n"
          ],
          "name": "stdout"
        },
        {
          "output_type": "stream",
          "text": [
            "\r 30%|███       | 7/23 [00:14<00:41,  2.56s/it]"
          ],
          "name": "stderr"
        },
        {
          "output_type": "stream",
          "text": [
            "當前群:3 當前y:C7IP 最好參數:{'knn__n_neighbors': 3, 'LassoTR__alpha': 0.02}\n"
          ],
          "name": "stdout"
        },
        {
          "output_type": "stream",
          "text": [
            "\r 35%|███▍      | 8/23 [00:17<00:42,  2.82s/it]"
          ],
          "name": "stderr"
        },
        {
          "output_type": "stream",
          "text": [
            "當前群:3 當前y:C7NP 最好參數:{'knn__n_neighbors': 6, 'LassoTR__alpha': 0.01}\n"
          ],
          "name": "stdout"
        },
        {
          "output_type": "stream",
          "text": [
            "\r 39%|███▉      | 9/23 [00:20<00:39,  2.81s/it]"
          ],
          "name": "stderr"
        },
        {
          "output_type": "stream",
          "text": [
            "當前群:3 當前y:C7N 最好參數:{'knn__n_neighbors': 1, 'LassoTR__alpha': 0.01}\n"
          ],
          "name": "stdout"
        },
        {
          "output_type": "stream",
          "text": [
            "\r 43%|████▎     | 10/23 [00:25<00:45,  3.49s/it]"
          ],
          "name": "stderr"
        },
        {
          "output_type": "stream",
          "text": [
            "當前群:3 當前y:C7A 最好參數:{'knn__n_neighbors': 2, 'LassoTR__alpha': 0.04}\n"
          ],
          "name": "stdout"
        },
        {
          "output_type": "stream",
          "text": [
            "\r 48%|████▊     | 11/23 [00:29<00:43,  3.62s/it]"
          ],
          "name": "stderr"
        },
        {
          "output_type": "stream",
          "text": [
            "當前群:3 當前y:C8IP 最好參數:{'knn__n_neighbors': 3, 'LassoTR__alpha': 0.01}\n"
          ],
          "name": "stdout"
        },
        {
          "output_type": "stream",
          "text": [
            "\r 52%|█████▏    | 12/23 [00:34<00:42,  3.85s/it]"
          ],
          "name": "stderr"
        },
        {
          "output_type": "stream",
          "text": [
            "當前群:3 當前y:C8NP 最好參數:{'knn__n_neighbors': 9, 'LassoTR__alpha': 0.01}\n"
          ],
          "name": "stdout"
        },
        {
          "output_type": "stream",
          "text": [
            "\r 57%|█████▋    | 13/23 [00:37<00:36,  3.70s/it]"
          ],
          "name": "stderr"
        },
        {
          "output_type": "stream",
          "text": [
            "當前群:3 當前y:C8N 最好參數:{'knn__n_neighbors': 2, 'LassoTR__alpha': 0.04}\n"
          ],
          "name": "stdout"
        },
        {
          "output_type": "stream",
          "text": [
            "\r 61%|██████    | 14/23 [00:43<00:39,  4.42s/it]"
          ],
          "name": "stderr"
        },
        {
          "output_type": "stream",
          "text": [
            "當前群:3 當前y:C8A 最好參數:{'knn__n_neighbors': 1, 'LassoTR__alpha': 0.03}\n"
          ],
          "name": "stdout"
        },
        {
          "output_type": "stream",
          "text": [
            "\r 65%|██████▌   | 15/23 [00:49<00:39,  4.93s/it]"
          ],
          "name": "stderr"
        },
        {
          "output_type": "stream",
          "text": [
            "當前群:3 當前y:C9IP 最好參數:{'knn__n_neighbors': 2, 'LassoTR__alpha': 0.04}\n"
          ],
          "name": "stdout"
        },
        {
          "output_type": "stream",
          "text": [
            "\r 70%|██████▉   | 16/23 [00:54<00:34,  4.89s/it]"
          ],
          "name": "stderr"
        },
        {
          "output_type": "stream",
          "text": [
            "當前群:3 當前y:C9NP 最好參數:{'knn__n_neighbors': 3, 'LassoTR__alpha': 0.03}\n"
          ],
          "name": "stdout"
        },
        {
          "output_type": "stream",
          "text": [
            "\r 74%|███████▍  | 17/23 [00:57<00:26,  4.44s/it]"
          ],
          "name": "stderr"
        },
        {
          "output_type": "stream",
          "text": [
            "當前群:3 當前y:C9N 最好參數:{'knn__n_neighbors': 3, 'LassoTR__alpha': 0.02}\n"
          ],
          "name": "stdout"
        },
        {
          "output_type": "stream",
          "text": [
            "\r 78%|███████▊  | 18/23 [01:02<00:23,  4.65s/it]"
          ],
          "name": "stderr"
        },
        {
          "output_type": "stream",
          "text": [
            "當前群:3 當前y:C9A 最好參數:{'knn__n_neighbors': 3, 'LassoTR__alpha': 0.03}\n"
          ],
          "name": "stdout"
        },
        {
          "output_type": "stream",
          "text": [
            "\r 83%|████████▎ | 19/23 [01:06<00:17,  4.28s/it]"
          ],
          "name": "stderr"
        },
        {
          "output_type": "stream",
          "text": [
            "當前群:3 當前y:C10IP 最好參數:{'knn__n_neighbors': 6, 'LassoTR__alpha': 0.02}\n"
          ],
          "name": "stdout"
        },
        {
          "output_type": "stream",
          "text": [
            "\r 87%|████████▋ | 20/23 [01:11<00:13,  4.56s/it]"
          ],
          "name": "stderr"
        },
        {
          "output_type": "stream",
          "text": [
            "當前群:3 當前y:C10NP 最好參數:{'knn__n_neighbors': 3, 'LassoTR__alpha': 0.01}\n"
          ],
          "name": "stdout"
        },
        {
          "output_type": "stream",
          "text": [
            "\r 91%|█████████▏| 21/23 [01:15<00:08,  4.31s/it]"
          ],
          "name": "stderr"
        },
        {
          "output_type": "stream",
          "text": [
            "當前群:3 當前y:C10N 最好參數:{'knn__n_neighbors': 2, 'LassoTR__alpha': 0.01}\n"
          ],
          "name": "stdout"
        },
        {
          "output_type": "stream",
          "text": [
            "\r 96%|█████████▌| 22/23 [01:19<00:04,  4.38s/it]"
          ],
          "name": "stderr"
        },
        {
          "output_type": "stream",
          "text": [
            "當前群:3 當前y:C10A 最好參數:{'knn__n_neighbors': 2, 'LassoTR__alpha': 0.04}\n"
          ],
          "name": "stdout"
        },
        {
          "output_type": "stream",
          "text": [
            "100%|██████████| 23/23 [01:23<00:00,  4.30s/it]\n",
            "  0%|          | 0/23 [00:00<?, ?it/s]"
          ],
          "name": "stderr"
        },
        {
          "output_type": "stream",
          "text": [
            "             R2      RMSE       MAPE      MAPE修正\n",
            "C5IP   0.852289  0.264639  10.398897   10.398897\n",
            "C5NP   0.961923  0.405253   9.867795    9.867795\n",
            "C5N    0.240919  0.197994  24.613631   24.613631\n",
            "C6IP   0.955764  0.396054   8.607661    8.607661\n",
            "C6NP   0.954952  0.284369   6.730972    6.730972\n",
            "C6N    0.941314  0.663820   9.383351    9.383351\n",
            "C6A    0.985990  1.747324        inf   12.698460\n",
            "C7IP   0.920265  0.572904   4.614620    4.614620\n",
            "C7NP   0.832534  0.475584   4.675489    4.675489\n",
            "C7N    1.000000  0.693692   4.367869    4.367869\n",
            "C7A    0.952021  4.120377   4.917722    4.917722\n",
            "C8IP   0.847917  0.695895   8.167703    8.167703\n",
            "C8NP   0.877818  0.423165   7.812438    7.812438\n",
            "C8N    0.953213  1.382850  20.755839   20.755839\n",
            "C8A    1.000000  2.893822  31.629768   31.629768\n",
            "C9IP   0.952475  0.855620  94.714408   94.714408\n",
            "C9NP   0.965353  0.247911        inf    3.662681\n",
            "C9N    0.943266  0.501811        inf   58.177865\n",
            "C9A    0.905274  0.582827        inf    5.918225\n",
            "C10IP  0.915560  0.721389        inf    6.840013\n",
            "C10NP  0.860405  0.183632        inf  184.928439\n",
            "C10N   0.949972  0.672679        inf    7.993520\n",
            "C10A   0.951804  0.177815  15.020055   15.020055\n",
            "AVG    0.900914  0.833106        inf   23.760757\n",
            "ART群:4該群validation結果\n",
            "當前群:4 當前y:C5IP 最好參數:{'knn__n_neighbors': 3, 'LassoTR__alpha': 0.03}\n"
          ],
          "name": "stdout"
        },
        {
          "output_type": "stream",
          "text": [
            "\r  4%|▍         | 1/23 [00:01<00:22,  1.04s/it]"
          ],
          "name": "stderr"
        },
        {
          "output_type": "stream",
          "text": [
            "當前群:4 當前y:C5NP 最好參數:{'knn__n_neighbors': 4, 'LassoTR__alpha': 0.02}\n"
          ],
          "name": "stdout"
        },
        {
          "output_type": "stream",
          "text": [
            "\r  9%|▊         | 2/23 [00:02<00:22,  1.09s/it]"
          ],
          "name": "stderr"
        },
        {
          "output_type": "stream",
          "text": [
            "當前群:4 當前y:C5N 最好參數:{'knn__n_neighbors': 3, 'LassoTR__alpha': 0.02}\n"
          ],
          "name": "stdout"
        },
        {
          "output_type": "stream",
          "text": [
            "\r 13%|█▎        | 3/23 [00:03<00:20,  1.03s/it]"
          ],
          "name": "stderr"
        },
        {
          "output_type": "stream",
          "text": [
            "當前群:4 當前y:C6IP 最好參數:{'knn__n_neighbors': 3, 'LassoTR__alpha': 0.03}\n"
          ],
          "name": "stdout"
        },
        {
          "output_type": "stream",
          "text": [
            "\r 17%|█▋        | 4/23 [00:04<00:19,  1.05s/it]"
          ],
          "name": "stderr"
        },
        {
          "output_type": "stream",
          "text": [
            "當前群:4 當前y:C6NP 最好參數:{'knn__n_neighbors': 2, 'LassoTR__alpha': 0.02}\n"
          ],
          "name": "stdout"
        },
        {
          "output_type": "stream",
          "text": [
            "\r 22%|██▏       | 5/23 [00:05<00:18,  1.03s/it]"
          ],
          "name": "stderr"
        },
        {
          "output_type": "stream",
          "text": [
            "當前群:4 當前y:C6N 最好參數:{'knn__n_neighbors': 3, 'LassoTR__alpha': 0.01}\n"
          ],
          "name": "stdout"
        },
        {
          "output_type": "stream",
          "text": [
            "\r 26%|██▌       | 6/23 [00:06<00:18,  1.07s/it]"
          ],
          "name": "stderr"
        },
        {
          "output_type": "stream",
          "text": [
            "當前群:4 當前y:C6A 最好參數:{'knn__n_neighbors': 1, 'LassoTR__alpha': 0.01}\n"
          ],
          "name": "stdout"
        },
        {
          "output_type": "stream",
          "text": [
            "\r 30%|███       | 7/23 [00:07<00:17,  1.12s/it]"
          ],
          "name": "stderr"
        },
        {
          "output_type": "stream",
          "text": [
            "當前群:4 當前y:C7IP 最好參數:{'knn__n_neighbors': 1, 'LassoTR__alpha': 0.03}\n"
          ],
          "name": "stdout"
        },
        {
          "output_type": "stream",
          "text": [
            "\r 35%|███▍      | 8/23 [00:09<00:19,  1.30s/it]"
          ],
          "name": "stderr"
        },
        {
          "output_type": "stream",
          "text": [
            "當前群:4 當前y:C7NP 最好參數:{'knn__n_neighbors': 7, 'LassoTR__alpha': 0.02}\n"
          ],
          "name": "stdout"
        },
        {
          "output_type": "stream",
          "text": [
            "\r 39%|███▉      | 9/23 [00:10<00:18,  1.30s/it]"
          ],
          "name": "stderr"
        },
        {
          "output_type": "stream",
          "text": [
            "當前群:4 當前y:C7N 最好參數:{'knn__n_neighbors': 1, 'LassoTR__alpha': 0.01}\n"
          ],
          "name": "stdout"
        },
        {
          "output_type": "stream",
          "text": [
            "\r 43%|████▎     | 10/23 [00:12<00:18,  1.39s/it]"
          ],
          "name": "stderr"
        },
        {
          "output_type": "stream",
          "text": [
            "當前群:4 當前y:C7A 最好參數:{'knn__n_neighbors': 3, 'LassoTR__alpha': 0.02}\n"
          ],
          "name": "stdout"
        },
        {
          "output_type": "stream",
          "text": [
            "\r 48%|████▊     | 11/23 [00:13<00:16,  1.40s/it]"
          ],
          "name": "stderr"
        },
        {
          "output_type": "stream",
          "text": [
            "當前群:4 當前y:C8IP 最好參數:{'knn__n_neighbors': 4, 'LassoTR__alpha': 0.01}\n"
          ],
          "name": "stdout"
        },
        {
          "output_type": "stream",
          "text": [
            "\r 52%|█████▏    | 12/23 [00:15<00:16,  1.49s/it]"
          ],
          "name": "stderr"
        },
        {
          "output_type": "stream",
          "text": [
            "當前群:4 當前y:C8NP 最好參數:{'knn__n_neighbors': 1, 'LassoTR__alpha': 0.04}\n"
          ],
          "name": "stdout"
        },
        {
          "output_type": "stream",
          "text": [
            "\r 57%|█████▋    | 13/23 [00:16<00:14,  1.47s/it]"
          ],
          "name": "stderr"
        },
        {
          "output_type": "stream",
          "text": [
            "當前群:4 當前y:C8N 最好參數:{'knn__n_neighbors': 1, 'LassoTR__alpha': 0.01}\n"
          ],
          "name": "stdout"
        },
        {
          "output_type": "stream",
          "text": [
            "\r 61%|██████    | 14/23 [00:18<00:14,  1.66s/it]"
          ],
          "name": "stderr"
        },
        {
          "output_type": "stream",
          "text": [
            "當前群:4 當前y:C8A 最好參數:{'knn__n_neighbors': 4, 'LassoTR__alpha': 0.02}\n"
          ],
          "name": "stdout"
        },
        {
          "output_type": "stream",
          "text": [
            "\r 65%|██████▌   | 15/23 [00:20<00:13,  1.73s/it]"
          ],
          "name": "stderr"
        },
        {
          "output_type": "stream",
          "text": [
            "當前群:4 當前y:C9IP 最好參數:{'knn__n_neighbors': 2, 'LassoTR__alpha': 0.03}\n"
          ],
          "name": "stdout"
        },
        {
          "output_type": "stream",
          "text": [
            "\r 70%|██████▉   | 16/23 [00:22<00:12,  1.83s/it]"
          ],
          "name": "stderr"
        },
        {
          "output_type": "stream",
          "text": [
            "當前群:4 當前y:C9NP 最好參數:{'knn__n_neighbors': 1, 'LassoTR__alpha': 0.03}\n"
          ],
          "name": "stdout"
        },
        {
          "output_type": "stream",
          "text": [
            "\r 74%|███████▍  | 17/23 [00:24<00:10,  1.72s/it]"
          ],
          "name": "stderr"
        },
        {
          "output_type": "stream",
          "text": [
            "當前群:4 當前y:C9N 最好參數:{'knn__n_neighbors': 1, 'LassoTR__alpha': 0.02}\n"
          ],
          "name": "stdout"
        },
        {
          "output_type": "stream",
          "text": [
            "\r 78%|███████▊  | 18/23 [00:26<00:09,  1.83s/it]"
          ],
          "name": "stderr"
        },
        {
          "output_type": "stream",
          "text": [
            "當前群:4 當前y:C9A 最好參數:{'knn__n_neighbors': 5, 'LassoTR__alpha': 0.02}\n"
          ],
          "name": "stdout"
        },
        {
          "output_type": "stream",
          "text": [
            "\r 83%|████████▎ | 19/23 [00:28<00:07,  1.88s/it]"
          ],
          "name": "stderr"
        },
        {
          "output_type": "stream",
          "text": [
            "當前群:4 當前y:C10IP 最好參數:{'knn__n_neighbors': 1, 'LassoTR__alpha': 0.02}\n"
          ],
          "name": "stdout"
        },
        {
          "output_type": "stream",
          "text": [
            "\r 87%|████████▋ | 20/23 [00:30<00:05,  1.95s/it]"
          ],
          "name": "stderr"
        },
        {
          "output_type": "stream",
          "text": [
            "當前群:4 當前y:C10NP 最好參數:{'knn__n_neighbors': 3, 'LassoTR__alpha': 0.02}\n"
          ],
          "name": "stdout"
        },
        {
          "output_type": "stream",
          "text": [
            "\r 91%|█████████▏| 21/23 [00:32<00:03,  1.89s/it]"
          ],
          "name": "stderr"
        },
        {
          "output_type": "stream",
          "text": [
            "當前群:4 當前y:C10N 最好參數:{'knn__n_neighbors': 3, 'LassoTR__alpha': 0.04}\n"
          ],
          "name": "stdout"
        },
        {
          "output_type": "stream",
          "text": [
            "\r 96%|█████████▌| 22/23 [00:33<00:01,  1.81s/it]"
          ],
          "name": "stderr"
        },
        {
          "output_type": "stream",
          "text": [
            "當前群:4 當前y:C10A 最好參數:{'knn__n_neighbors': 5, 'LassoTR__alpha': 0.02}\n"
          ],
          "name": "stdout"
        },
        {
          "output_type": "stream",
          "text": [
            "\r100%|██████████| 23/23 [00:35<00:00,  1.80s/it]"
          ],
          "name": "stderr"
        },
        {
          "output_type": "stream",
          "text": [
            "             R2      RMSE       MAPE     MAPE修正\n",
            "C5IP   0.868859  1.103158  55.587467  55.587467\n",
            "C5NP   0.915131  0.595059  27.794924  27.794924\n",
            "C5N    0.982551  0.036402  11.447098  11.447098\n",
            "C6IP   0.971631  0.595742   8.201070   8.201070\n",
            "C6NP   0.982875  0.333152   4.533395   4.533395\n",
            "C6N    0.948684  0.261636   2.960086   2.960086\n",
            "C6A    1.000000  0.275118  10.961135  10.961135\n",
            "C7IP   1.000000  0.411695   2.776779   2.776779\n",
            "C7NP   0.890049  0.424149   4.408697   4.408697\n",
            "C7N    1.000000  1.176669   3.747550   3.747550\n",
            "C7A    0.955084  0.316386   5.935179   5.935179\n",
            "C8IP   0.918114  0.592594   6.602823   6.602823\n",
            "C8NP   1.000000  0.238027   2.794867   2.794867\n",
            "C8N    1.000000  0.526322   4.278946   4.278946\n",
            "C8A    0.858764  0.435543   5.897658   5.897658\n",
            "C9IP   0.980578  0.527064   5.239017   5.239017\n",
            "C9NP   1.000000  0.095392   2.369112   2.369112\n",
            "C9N    1.000000  0.267265   4.553691   4.553691\n",
            "C9A    0.779470  0.260277   7.906383   7.906383\n",
            "C10IP  1.000000  0.295443   5.583232   5.583232\n",
            "C10NP  0.893153  0.161901  13.511487  13.511487\n",
            "C10N   0.921081  0.081403  12.911271  12.911271\n",
            "C10A   0.955033  0.174970  19.477826  19.477826\n",
            "AVG    0.948742  0.399364   9.977378   9.977378\n"
          ],
          "name": "stdout"
        },
        {
          "output_type": "stream",
          "text": [
            "\n"
          ],
          "name": "stderr"
        }
      ]
    },
    {
      "cell_type": "markdown",
      "metadata": {
        "id": "IS7LPP4E7221",
        "colab_type": "text"
      },
      "source": [
        "至此針對每一群每一個y都各自建了一個Model,總共數量有23(y數量)*5(群數量) = 115"
      ]
    },
    {
      "cell_type": "markdown",
      "metadata": {
        "id": "55z_vH_48NTp",
        "colab_type": "text"
      },
      "source": [
        "y1使用4個特徵,y2使用四個特徵加上y1,依此類推y23使用y1~y22當特徵,"
      ]
    },
    {
      "cell_type": "markdown",
      "metadata": {
        "id": "I8Ml8ipl8R-7",
        "colab_type": "text"
      },
      "source": [
        "其中Lasso以及產生交互項已經包在Pipeline裡面"
      ]
    },
    {
      "cell_type": "markdown",
      "metadata": {
        "id": "PI787isd8jhh",
        "colab_type": "text"
      },
      "source": [
        "115個model以保存"
      ]
    },
    {
      "cell_type": "markdown",
      "metadata": {
        "id": "IdVStePb8fzg",
        "colab_type": "text"
      },
      "source": [
        "# 載入測試資料"
      ]
    },
    {
      "cell_type": "code",
      "metadata": {
        "id": "bKUGDrAa46zg",
        "colab_type": "code",
        "outputId": "da3685b5-9694-4ba5-9211-1e456d6f0342",
        "colab": {
          "base_uri": "https://localhost:8080/",
          "height": 234
        }
      },
      "source": [
        "test_dataset = pd.read_csv('/content/drive/My Drive/台塑輕油案子/test_without_outlier.csv')\n",
        "test_dataset.head()"
      ],
      "execution_count": 45,
      "outputs": [
        {
          "output_type": "execute_result",
          "data": {
            "text/html": [
              "<div>\n",
              "<style scoped>\n",
              "    .dataframe tbody tr th:only-of-type {\n",
              "        vertical-align: middle;\n",
              "    }\n",
              "\n",
              "    .dataframe tbody tr th {\n",
              "        vertical-align: top;\n",
              "    }\n",
              "\n",
              "    .dataframe thead th {\n",
              "        text-align: right;\n",
              "    }\n",
              "</style>\n",
              "<table border=\"1\" class=\"dataframe\">\n",
              "  <thead>\n",
              "    <tr style=\"text-align: right;\">\n",
              "      <th></th>\n",
              "      <th>T10</th>\n",
              "      <th>T50</th>\n",
              "      <th>T90</th>\n",
              "      <th>N+A</th>\n",
              "      <th>C5_n-P</th>\n",
              "      <th>C5_i-P</th>\n",
              "      <th>C5_N</th>\n",
              "      <th>C6_n-P</th>\n",
              "      <th>C6_i-P</th>\n",
              "      <th>C6_N</th>\n",
              "      <th>C6_A</th>\n",
              "      <th>C7_n-P</th>\n",
              "      <th>C7_i-P</th>\n",
              "      <th>C7_N</th>\n",
              "      <th>C7_A</th>\n",
              "      <th>C8_n-P</th>\n",
              "      <th>C8_i-P</th>\n",
              "      <th>C8_N</th>\n",
              "      <th>C8_A</th>\n",
              "      <th>C9_n-P</th>\n",
              "      <th>C9_i-P</th>\n",
              "      <th>C9_N</th>\n",
              "      <th>C9_A</th>\n",
              "      <th>C10_n-P</th>\n",
              "      <th>C10_i-P</th>\n",
              "      <th>C10_N</th>\n",
              "      <th>C10_A</th>\n",
              "    </tr>\n",
              "  </thead>\n",
              "  <tbody>\n",
              "    <tr>\n",
              "      <th>0</th>\n",
              "      <td>98.6</td>\n",
              "      <td>119.2</td>\n",
              "      <td>146.1</td>\n",
              "      <td>40.133</td>\n",
              "      <td>1.142</td>\n",
              "      <td>0.616</td>\n",
              "      <td>0.217</td>\n",
              "      <td>3.745</td>\n",
              "      <td>2.577</td>\n",
              "      <td>4.028</td>\n",
              "      <td>0.557</td>\n",
              "      <td>7.669</td>\n",
              "      <td>5.9900</td>\n",
              "      <td>10.206</td>\n",
              "      <td>3.075</td>\n",
              "      <td>7.920</td>\n",
              "      <td>8.036</td>\n",
              "      <td>7.039</td>\n",
              "      <td>5.438</td>\n",
              "      <td>5.263</td>\n",
              "      <td>9.537</td>\n",
              "      <td>4.877</td>\n",
              "      <td>3.481</td>\n",
              "      <td>1.088</td>\n",
              "      <td>5.652</td>\n",
              "      <td>0.618</td>\n",
              "      <td>0.597</td>\n",
              "    </tr>\n",
              "    <tr>\n",
              "      <th>1</th>\n",
              "      <td>105.4</td>\n",
              "      <td>122.2</td>\n",
              "      <td>148.2</td>\n",
              "      <td>32.175</td>\n",
              "      <td>0.122</td>\n",
              "      <td>0.078</td>\n",
              "      <td>0.029</td>\n",
              "      <td>3.955</td>\n",
              "      <td>1.563</td>\n",
              "      <td>2.407</td>\n",
              "      <td>0.400</td>\n",
              "      <td>10.016</td>\n",
              "      <td>7.2633</td>\n",
              "      <td>6.573</td>\n",
              "      <td>2.809</td>\n",
              "      <td>9.544</td>\n",
              "      <td>9.815</td>\n",
              "      <td>5.135</td>\n",
              "      <td>5.482</td>\n",
              "      <td>6.793</td>\n",
              "      <td>10.850</td>\n",
              "      <td>4.308</td>\n",
              "      <td>3.963</td>\n",
              "      <td>1.069</td>\n",
              "      <td>6.025</td>\n",
              "      <td>0.585</td>\n",
              "      <td>0.484</td>\n",
              "    </tr>\n",
              "    <tr>\n",
              "      <th>2</th>\n",
              "      <td>105.8</td>\n",
              "      <td>122.7</td>\n",
              "      <td>149.2</td>\n",
              "      <td>31.428</td>\n",
              "      <td>0.098</td>\n",
              "      <td>0.064</td>\n",
              "      <td>0.020</td>\n",
              "      <td>3.920</td>\n",
              "      <td>1.447</td>\n",
              "      <td>2.296</td>\n",
              "      <td>0.396</td>\n",
              "      <td>10.236</td>\n",
              "      <td>7.3480</td>\n",
              "      <td>6.259</td>\n",
              "      <td>2.797</td>\n",
              "      <td>9.655</td>\n",
              "      <td>9.986</td>\n",
              "      <td>4.942</td>\n",
              "      <td>5.453</td>\n",
              "      <td>6.947</td>\n",
              "      <td>10.996</td>\n",
              "      <td>4.269</td>\n",
              "      <td>3.997</td>\n",
              "      <td>1.034</td>\n",
              "      <td>6.107</td>\n",
              "      <td>0.543</td>\n",
              "      <td>0.456</td>\n",
              "    </tr>\n",
              "    <tr>\n",
              "      <th>3</th>\n",
              "      <td>105.4</td>\n",
              "      <td>122.4</td>\n",
              "      <td>147.6</td>\n",
              "      <td>31.390</td>\n",
              "      <td>0.122</td>\n",
              "      <td>0.085</td>\n",
              "      <td>0.021</td>\n",
              "      <td>3.900</td>\n",
              "      <td>1.437</td>\n",
              "      <td>2.274</td>\n",
              "      <td>0.397</td>\n",
              "      <td>10.259</td>\n",
              "      <td>7.3560</td>\n",
              "      <td>6.234</td>\n",
              "      <td>2.820</td>\n",
              "      <td>9.670</td>\n",
              "      <td>10.146</td>\n",
              "      <td>4.928</td>\n",
              "      <td>5.476</td>\n",
              "      <td>6.953</td>\n",
              "      <td>11.026</td>\n",
              "      <td>4.264</td>\n",
              "      <td>3.982</td>\n",
              "      <td>1.013</td>\n",
              "      <td>6.054</td>\n",
              "      <td>0.545</td>\n",
              "      <td>0.449</td>\n",
              "    </tr>\n",
              "    <tr>\n",
              "      <th>4</th>\n",
              "      <td>105.4</td>\n",
              "      <td>122.6</td>\n",
              "      <td>148.2</td>\n",
              "      <td>32.418</td>\n",
              "      <td>0.072</td>\n",
              "      <td>0.049</td>\n",
              "      <td>0.015</td>\n",
              "      <td>3.873</td>\n",
              "      <td>1.369</td>\n",
              "      <td>2.206</td>\n",
              "      <td>0.489</td>\n",
              "      <td>10.213</td>\n",
              "      <td>7.3190</td>\n",
              "      <td>6.009</td>\n",
              "      <td>2.968</td>\n",
              "      <td>9.564</td>\n",
              "      <td>10.052</td>\n",
              "      <td>4.769</td>\n",
              "      <td>6.584</td>\n",
              "      <td>6.866</td>\n",
              "      <td>10.892</td>\n",
              "      <td>4.169</td>\n",
              "      <td>4.227</td>\n",
              "      <td>0.930</td>\n",
              "      <td>5.828</td>\n",
              "      <td>0.519</td>\n",
              "      <td>0.463</td>\n",
              "    </tr>\n",
              "  </tbody>\n",
              "</table>\n",
              "</div>"
            ],
            "text/plain": [
              "     T10    T50    T90     N+A  C5_n-P  ...   C9_A  C10_n-P  C10_i-P  C10_N  C10_A\n",
              "0   98.6  119.2  146.1  40.133   1.142  ...  3.481    1.088    5.652  0.618  0.597\n",
              "1  105.4  122.2  148.2  32.175   0.122  ...  3.963    1.069    6.025  0.585  0.484\n",
              "2  105.8  122.7  149.2  31.428   0.098  ...  3.997    1.034    6.107  0.543  0.456\n",
              "3  105.4  122.4  147.6  31.390   0.122  ...  3.982    1.013    6.054  0.545  0.449\n",
              "4  105.4  122.6  148.2  32.418   0.072  ...  4.227    0.930    5.828  0.519  0.463\n",
              "\n",
              "[5 rows x 27 columns]"
            ]
          },
          "metadata": {
            "tags": []
          },
          "execution_count": 45
        }
      ]
    },
    {
      "cell_type": "code",
      "metadata": {
        "id": "z1QrzpjP8oXg",
        "colab_type": "code",
        "outputId": "fbdb8964-5a6f-43e0-b5e2-0e727d9b75e6",
        "colab": {
          "base_uri": "https://localhost:8080/",
          "height": 197
        }
      },
      "source": [
        "test_dataset.columns = df.columns[:27]\n",
        "test_dataset.head()"
      ],
      "execution_count": 46,
      "outputs": [
        {
          "output_type": "execute_result",
          "data": {
            "text/html": [
              "<div>\n",
              "<style scoped>\n",
              "    .dataframe tbody tr th:only-of-type {\n",
              "        vertical-align: middle;\n",
              "    }\n",
              "\n",
              "    .dataframe tbody tr th {\n",
              "        vertical-align: top;\n",
              "    }\n",
              "\n",
              "    .dataframe thead th {\n",
              "        text-align: right;\n",
              "    }\n",
              "</style>\n",
              "<table border=\"1\" class=\"dataframe\">\n",
              "  <thead>\n",
              "    <tr style=\"text-align: right;\">\n",
              "      <th></th>\n",
              "      <th>T10</th>\n",
              "      <th>T50</th>\n",
              "      <th>T90</th>\n",
              "      <th>NA</th>\n",
              "      <th>C5NP</th>\n",
              "      <th>C5IP</th>\n",
              "      <th>C5N</th>\n",
              "      <th>C6NP</th>\n",
              "      <th>C6IP</th>\n",
              "      <th>C6N</th>\n",
              "      <th>C6A</th>\n",
              "      <th>C7NP</th>\n",
              "      <th>C7IP</th>\n",
              "      <th>C7N</th>\n",
              "      <th>C7A</th>\n",
              "      <th>C8NP</th>\n",
              "      <th>C8IP</th>\n",
              "      <th>C8N</th>\n",
              "      <th>C8A</th>\n",
              "      <th>C9NP</th>\n",
              "      <th>C9IP</th>\n",
              "      <th>C9N</th>\n",
              "      <th>C9A</th>\n",
              "      <th>C10NP</th>\n",
              "      <th>C10IP</th>\n",
              "      <th>C10N</th>\n",
              "      <th>C10A</th>\n",
              "    </tr>\n",
              "  </thead>\n",
              "  <tbody>\n",
              "    <tr>\n",
              "      <th>0</th>\n",
              "      <td>98.6</td>\n",
              "      <td>119.2</td>\n",
              "      <td>146.1</td>\n",
              "      <td>40.133</td>\n",
              "      <td>1.142</td>\n",
              "      <td>0.616</td>\n",
              "      <td>0.217</td>\n",
              "      <td>3.745</td>\n",
              "      <td>2.577</td>\n",
              "      <td>4.028</td>\n",
              "      <td>0.557</td>\n",
              "      <td>7.669</td>\n",
              "      <td>5.9900</td>\n",
              "      <td>10.206</td>\n",
              "      <td>3.075</td>\n",
              "      <td>7.920</td>\n",
              "      <td>8.036</td>\n",
              "      <td>7.039</td>\n",
              "      <td>5.438</td>\n",
              "      <td>5.263</td>\n",
              "      <td>9.537</td>\n",
              "      <td>4.877</td>\n",
              "      <td>3.481</td>\n",
              "      <td>1.088</td>\n",
              "      <td>5.652</td>\n",
              "      <td>0.618</td>\n",
              "      <td>0.597</td>\n",
              "    </tr>\n",
              "    <tr>\n",
              "      <th>1</th>\n",
              "      <td>105.4</td>\n",
              "      <td>122.2</td>\n",
              "      <td>148.2</td>\n",
              "      <td>32.175</td>\n",
              "      <td>0.122</td>\n",
              "      <td>0.078</td>\n",
              "      <td>0.029</td>\n",
              "      <td>3.955</td>\n",
              "      <td>1.563</td>\n",
              "      <td>2.407</td>\n",
              "      <td>0.400</td>\n",
              "      <td>10.016</td>\n",
              "      <td>7.2633</td>\n",
              "      <td>6.573</td>\n",
              "      <td>2.809</td>\n",
              "      <td>9.544</td>\n",
              "      <td>9.815</td>\n",
              "      <td>5.135</td>\n",
              "      <td>5.482</td>\n",
              "      <td>6.793</td>\n",
              "      <td>10.850</td>\n",
              "      <td>4.308</td>\n",
              "      <td>3.963</td>\n",
              "      <td>1.069</td>\n",
              "      <td>6.025</td>\n",
              "      <td>0.585</td>\n",
              "      <td>0.484</td>\n",
              "    </tr>\n",
              "    <tr>\n",
              "      <th>2</th>\n",
              "      <td>105.8</td>\n",
              "      <td>122.7</td>\n",
              "      <td>149.2</td>\n",
              "      <td>31.428</td>\n",
              "      <td>0.098</td>\n",
              "      <td>0.064</td>\n",
              "      <td>0.020</td>\n",
              "      <td>3.920</td>\n",
              "      <td>1.447</td>\n",
              "      <td>2.296</td>\n",
              "      <td>0.396</td>\n",
              "      <td>10.236</td>\n",
              "      <td>7.3480</td>\n",
              "      <td>6.259</td>\n",
              "      <td>2.797</td>\n",
              "      <td>9.655</td>\n",
              "      <td>9.986</td>\n",
              "      <td>4.942</td>\n",
              "      <td>5.453</td>\n",
              "      <td>6.947</td>\n",
              "      <td>10.996</td>\n",
              "      <td>4.269</td>\n",
              "      <td>3.997</td>\n",
              "      <td>1.034</td>\n",
              "      <td>6.107</td>\n",
              "      <td>0.543</td>\n",
              "      <td>0.456</td>\n",
              "    </tr>\n",
              "    <tr>\n",
              "      <th>3</th>\n",
              "      <td>105.4</td>\n",
              "      <td>122.4</td>\n",
              "      <td>147.6</td>\n",
              "      <td>31.390</td>\n",
              "      <td>0.122</td>\n",
              "      <td>0.085</td>\n",
              "      <td>0.021</td>\n",
              "      <td>3.900</td>\n",
              "      <td>1.437</td>\n",
              "      <td>2.274</td>\n",
              "      <td>0.397</td>\n",
              "      <td>10.259</td>\n",
              "      <td>7.3560</td>\n",
              "      <td>6.234</td>\n",
              "      <td>2.820</td>\n",
              "      <td>9.670</td>\n",
              "      <td>10.146</td>\n",
              "      <td>4.928</td>\n",
              "      <td>5.476</td>\n",
              "      <td>6.953</td>\n",
              "      <td>11.026</td>\n",
              "      <td>4.264</td>\n",
              "      <td>3.982</td>\n",
              "      <td>1.013</td>\n",
              "      <td>6.054</td>\n",
              "      <td>0.545</td>\n",
              "      <td>0.449</td>\n",
              "    </tr>\n",
              "    <tr>\n",
              "      <th>4</th>\n",
              "      <td>105.4</td>\n",
              "      <td>122.6</td>\n",
              "      <td>148.2</td>\n",
              "      <td>32.418</td>\n",
              "      <td>0.072</td>\n",
              "      <td>0.049</td>\n",
              "      <td>0.015</td>\n",
              "      <td>3.873</td>\n",
              "      <td>1.369</td>\n",
              "      <td>2.206</td>\n",
              "      <td>0.489</td>\n",
              "      <td>10.213</td>\n",
              "      <td>7.3190</td>\n",
              "      <td>6.009</td>\n",
              "      <td>2.968</td>\n",
              "      <td>9.564</td>\n",
              "      <td>10.052</td>\n",
              "      <td>4.769</td>\n",
              "      <td>6.584</td>\n",
              "      <td>6.866</td>\n",
              "      <td>10.892</td>\n",
              "      <td>4.169</td>\n",
              "      <td>4.227</td>\n",
              "      <td>0.930</td>\n",
              "      <td>5.828</td>\n",
              "      <td>0.519</td>\n",
              "      <td>0.463</td>\n",
              "    </tr>\n",
              "  </tbody>\n",
              "</table>\n",
              "</div>"
            ],
            "text/plain": [
              "     T10    T50    T90      NA   C5NP  ...    C9A  C10NP  C10IP   C10N   C10A\n",
              "0   98.6  119.2  146.1  40.133  1.142  ...  3.481  1.088  5.652  0.618  0.597\n",
              "1  105.4  122.2  148.2  32.175  0.122  ...  3.963  1.069  6.025  0.585  0.484\n",
              "2  105.8  122.7  149.2  31.428  0.098  ...  3.997  1.034  6.107  0.543  0.456\n",
              "3  105.4  122.4  147.6  31.390  0.122  ...  3.982  1.013  6.054  0.545  0.449\n",
              "4  105.4  122.6  148.2  32.418  0.072  ...  4.227  0.930  5.828  0.519  0.463\n",
              "\n",
              "[5 rows x 27 columns]"
            ]
          },
          "metadata": {
            "tags": []
          },
          "execution_count": 46
        }
      ]
    },
    {
      "cell_type": "markdown",
      "metadata": {
        "id": "JLS9gMrO8r-z",
        "colab_type": "text"
      },
      "source": [
        "# ISOMAP"
      ]
    },
    {
      "cell_type": "code",
      "metadata": {
        "id": "Rn5wLQw48qNC",
        "colab_type": "code",
        "outputId": "d13bf56a-0d29-4b43-b701-1dbbbc5ceee3",
        "colab": {
          "base_uri": "https://localhost:8080/",
          "height": 197
        }
      },
      "source": [
        "#特徵縮放\n",
        "scaler = StandardScaler()\n",
        "scaler.fit(df[x_columns[:4]])#在4000多筆上做fit\n",
        "X_ss = scaler.transform(test_dataset[x_columns[:4]])#170筆上只做transform\n",
        "\n",
        "#ISOMAP降維,這裡呼叫先前在4000多筆上fit好的iso做transform\n",
        "iso_features = iso.transform(X_ss)\n",
        "\n",
        "#整理成DataFrame方便觀看\n",
        "iso_3features = pd.DataFrame(iso_features,columns=['iso_1','iso_2','iso_3'])\n",
        "iso_3features.head()"
      ],
      "execution_count": 47,
      "outputs": [
        {
          "output_type": "execute_result",
          "data": {
            "text/html": [
              "<div>\n",
              "<style scoped>\n",
              "    .dataframe tbody tr th:only-of-type {\n",
              "        vertical-align: middle;\n",
              "    }\n",
              "\n",
              "    .dataframe tbody tr th {\n",
              "        vertical-align: top;\n",
              "    }\n",
              "\n",
              "    .dataframe thead th {\n",
              "        text-align: right;\n",
              "    }\n",
              "</style>\n",
              "<table border=\"1\" class=\"dataframe\">\n",
              "  <thead>\n",
              "    <tr style=\"text-align: right;\">\n",
              "      <th></th>\n",
              "      <th>iso_1</th>\n",
              "      <th>iso_2</th>\n",
              "      <th>iso_3</th>\n",
              "    </tr>\n",
              "  </thead>\n",
              "  <tbody>\n",
              "    <tr>\n",
              "      <th>0</th>\n",
              "      <td>-1.033308</td>\n",
              "      <td>-0.075719</td>\n",
              "      <td>-0.208149</td>\n",
              "    </tr>\n",
              "    <tr>\n",
              "      <th>1</th>\n",
              "      <td>-2.543243</td>\n",
              "      <td>0.934178</td>\n",
              "      <td>0.007724</td>\n",
              "    </tr>\n",
              "    <tr>\n",
              "      <th>2</th>\n",
              "      <td>-2.691440</td>\n",
              "      <td>0.678440</td>\n",
              "      <td>-0.315618</td>\n",
              "    </tr>\n",
              "    <tr>\n",
              "      <th>3</th>\n",
              "      <td>-2.383537</td>\n",
              "      <td>0.927626</td>\n",
              "      <td>0.063381</td>\n",
              "    </tr>\n",
              "    <tr>\n",
              "      <th>4</th>\n",
              "      <td>-2.494765</td>\n",
              "      <td>0.682252</td>\n",
              "      <td>-0.140703</td>\n",
              "    </tr>\n",
              "  </tbody>\n",
              "</table>\n",
              "</div>"
            ],
            "text/plain": [
              "      iso_1     iso_2     iso_3\n",
              "0 -1.033308 -0.075719 -0.208149\n",
              "1 -2.543243  0.934178  0.007724\n",
              "2 -2.691440  0.678440 -0.315618\n",
              "3 -2.383537  0.927626  0.063381\n",
              "4 -2.494765  0.682252 -0.140703"
            ]
          },
          "metadata": {
            "tags": []
          },
          "execution_count": 47
        }
      ]
    },
    {
      "cell_type": "markdown",
      "metadata": {
        "id": "uYZA9kAw-IZK",
        "colab_type": "text"
      },
      "source": [
        "# 幫各個row用ART2_transform的方法貼上群label"
      ]
    },
    {
      "cell_type": "code",
      "metadata": {
        "id": "JJGdhL1c9BPJ",
        "colab_type": "code",
        "outputId": "1428ead2-af8f-427e-de86-257a3224eef0",
        "colab": {
          "base_uri": "https://localhost:8080/",
          "height": 100
        }
      },
      "source": [
        "labels = ART2.transform(iso_3features)\n",
        "test_dataset['cluster'] = labels\n",
        "test_dataset['cluster'].value_counts()"
      ],
      "execution_count": 48,
      "outputs": [
        {
          "output_type": "execute_result",
          "data": {
            "text/plain": [
              "3.0    77\n",
              "0.0    58\n",
              "1.0    30\n",
              "2.0     5\n",
              "Name: cluster, dtype: int64"
            ]
          },
          "metadata": {
            "tags": []
          },
          "execution_count": 48
        }
      ]
    },
    {
      "cell_type": "markdown",
      "metadata": {
        "id": "yrtyfZEx5APA",
        "colab_type": "text"
      },
      "source": [
        "# 特徵工程"
      ]
    },
    {
      "cell_type": "code",
      "metadata": {
        "id": "VrppGVac5Abp",
        "colab_type": "code",
        "outputId": "30f4dffb-5c99-466f-d46e-445459927b66",
        "colab": {
          "base_uri": "https://localhost:8080/",
          "height": 251
        }
      },
      "source": [
        "test_dataset['T90-T50'] = test_dataset['T90']-test_dataset['T50']\n",
        "test_dataset['T90-T10'] = test_dataset['T90']-test_dataset['T10']\n",
        "test_dataset['T50-T10'] = test_dataset['T50']-test_dataset['T10']\n",
        "test_dataset['(90-50/90-10)*N+A']=(test_dataset['T90-T50']/test_dataset['T90-T10'])*test_dataset['NA']\n",
        "test_dataset['(50-10/90-10)*N+A']=(test_dataset['T50-T10']/test_dataset['T90-T10'])*test_dataset['NA']\n",
        "test_dataset.head()"
      ],
      "execution_count": 49,
      "outputs": [
        {
          "output_type": "execute_result",
          "data": {
            "text/html": [
              "<div>\n",
              "<style scoped>\n",
              "    .dataframe tbody tr th:only-of-type {\n",
              "        vertical-align: middle;\n",
              "    }\n",
              "\n",
              "    .dataframe tbody tr th {\n",
              "        vertical-align: top;\n",
              "    }\n",
              "\n",
              "    .dataframe thead th {\n",
              "        text-align: right;\n",
              "    }\n",
              "</style>\n",
              "<table border=\"1\" class=\"dataframe\">\n",
              "  <thead>\n",
              "    <tr style=\"text-align: right;\">\n",
              "      <th></th>\n",
              "      <th>T10</th>\n",
              "      <th>T50</th>\n",
              "      <th>T90</th>\n",
              "      <th>NA</th>\n",
              "      <th>C5NP</th>\n",
              "      <th>C5IP</th>\n",
              "      <th>C5N</th>\n",
              "      <th>C6NP</th>\n",
              "      <th>C6IP</th>\n",
              "      <th>C6N</th>\n",
              "      <th>C6A</th>\n",
              "      <th>C7NP</th>\n",
              "      <th>C7IP</th>\n",
              "      <th>C7N</th>\n",
              "      <th>C7A</th>\n",
              "      <th>C8NP</th>\n",
              "      <th>C8IP</th>\n",
              "      <th>C8N</th>\n",
              "      <th>C8A</th>\n",
              "      <th>C9NP</th>\n",
              "      <th>C9IP</th>\n",
              "      <th>C9N</th>\n",
              "      <th>C9A</th>\n",
              "      <th>C10NP</th>\n",
              "      <th>C10IP</th>\n",
              "      <th>C10N</th>\n",
              "      <th>C10A</th>\n",
              "      <th>cluster</th>\n",
              "      <th>T90-T50</th>\n",
              "      <th>T90-T10</th>\n",
              "      <th>T50-T10</th>\n",
              "      <th>(90-50/90-10)*N+A</th>\n",
              "      <th>(50-10/90-10)*N+A</th>\n",
              "    </tr>\n",
              "  </thead>\n",
              "  <tbody>\n",
              "    <tr>\n",
              "      <th>0</th>\n",
              "      <td>98.6</td>\n",
              "      <td>119.2</td>\n",
              "      <td>146.1</td>\n",
              "      <td>40.133</td>\n",
              "      <td>1.142</td>\n",
              "      <td>0.616</td>\n",
              "      <td>0.217</td>\n",
              "      <td>3.745</td>\n",
              "      <td>2.577</td>\n",
              "      <td>4.028</td>\n",
              "      <td>0.557</td>\n",
              "      <td>7.669</td>\n",
              "      <td>5.9900</td>\n",
              "      <td>10.206</td>\n",
              "      <td>3.075</td>\n",
              "      <td>7.920</td>\n",
              "      <td>8.036</td>\n",
              "      <td>7.039</td>\n",
              "      <td>5.438</td>\n",
              "      <td>5.263</td>\n",
              "      <td>9.537</td>\n",
              "      <td>4.877</td>\n",
              "      <td>3.481</td>\n",
              "      <td>1.088</td>\n",
              "      <td>5.652</td>\n",
              "      <td>0.618</td>\n",
              "      <td>0.597</td>\n",
              "      <td>0.0</td>\n",
              "      <td>26.9</td>\n",
              "      <td>47.5</td>\n",
              "      <td>20.6</td>\n",
              "      <td>22.727952</td>\n",
              "      <td>17.405048</td>\n",
              "    </tr>\n",
              "    <tr>\n",
              "      <th>1</th>\n",
              "      <td>105.4</td>\n",
              "      <td>122.2</td>\n",
              "      <td>148.2</td>\n",
              "      <td>32.175</td>\n",
              "      <td>0.122</td>\n",
              "      <td>0.078</td>\n",
              "      <td>0.029</td>\n",
              "      <td>3.955</td>\n",
              "      <td>1.563</td>\n",
              "      <td>2.407</td>\n",
              "      <td>0.400</td>\n",
              "      <td>10.016</td>\n",
              "      <td>7.2633</td>\n",
              "      <td>6.573</td>\n",
              "      <td>2.809</td>\n",
              "      <td>9.544</td>\n",
              "      <td>9.815</td>\n",
              "      <td>5.135</td>\n",
              "      <td>5.482</td>\n",
              "      <td>6.793</td>\n",
              "      <td>10.850</td>\n",
              "      <td>4.308</td>\n",
              "      <td>3.963</td>\n",
              "      <td>1.069</td>\n",
              "      <td>6.025</td>\n",
              "      <td>0.585</td>\n",
              "      <td>0.484</td>\n",
              "      <td>0.0</td>\n",
              "      <td>26.0</td>\n",
              "      <td>42.8</td>\n",
              "      <td>16.8</td>\n",
              "      <td>19.545561</td>\n",
              "      <td>12.629439</td>\n",
              "    </tr>\n",
              "    <tr>\n",
              "      <th>2</th>\n",
              "      <td>105.8</td>\n",
              "      <td>122.7</td>\n",
              "      <td>149.2</td>\n",
              "      <td>31.428</td>\n",
              "      <td>0.098</td>\n",
              "      <td>0.064</td>\n",
              "      <td>0.020</td>\n",
              "      <td>3.920</td>\n",
              "      <td>1.447</td>\n",
              "      <td>2.296</td>\n",
              "      <td>0.396</td>\n",
              "      <td>10.236</td>\n",
              "      <td>7.3480</td>\n",
              "      <td>6.259</td>\n",
              "      <td>2.797</td>\n",
              "      <td>9.655</td>\n",
              "      <td>9.986</td>\n",
              "      <td>4.942</td>\n",
              "      <td>5.453</td>\n",
              "      <td>6.947</td>\n",
              "      <td>10.996</td>\n",
              "      <td>4.269</td>\n",
              "      <td>3.997</td>\n",
              "      <td>1.034</td>\n",
              "      <td>6.107</td>\n",
              "      <td>0.543</td>\n",
              "      <td>0.456</td>\n",
              "      <td>0.0</td>\n",
              "      <td>26.5</td>\n",
              "      <td>43.4</td>\n",
              "      <td>16.9</td>\n",
              "      <td>19.189908</td>\n",
              "      <td>12.238092</td>\n",
              "    </tr>\n",
              "    <tr>\n",
              "      <th>3</th>\n",
              "      <td>105.4</td>\n",
              "      <td>122.4</td>\n",
              "      <td>147.6</td>\n",
              "      <td>31.390</td>\n",
              "      <td>0.122</td>\n",
              "      <td>0.085</td>\n",
              "      <td>0.021</td>\n",
              "      <td>3.900</td>\n",
              "      <td>1.437</td>\n",
              "      <td>2.274</td>\n",
              "      <td>0.397</td>\n",
              "      <td>10.259</td>\n",
              "      <td>7.3560</td>\n",
              "      <td>6.234</td>\n",
              "      <td>2.820</td>\n",
              "      <td>9.670</td>\n",
              "      <td>10.146</td>\n",
              "      <td>4.928</td>\n",
              "      <td>5.476</td>\n",
              "      <td>6.953</td>\n",
              "      <td>11.026</td>\n",
              "      <td>4.264</td>\n",
              "      <td>3.982</td>\n",
              "      <td>1.013</td>\n",
              "      <td>6.054</td>\n",
              "      <td>0.545</td>\n",
              "      <td>0.449</td>\n",
              "      <td>0.0</td>\n",
              "      <td>25.2</td>\n",
              "      <td>42.2</td>\n",
              "      <td>17.0</td>\n",
              "      <td>18.744739</td>\n",
              "      <td>12.645261</td>\n",
              "    </tr>\n",
              "    <tr>\n",
              "      <th>4</th>\n",
              "      <td>105.4</td>\n",
              "      <td>122.6</td>\n",
              "      <td>148.2</td>\n",
              "      <td>32.418</td>\n",
              "      <td>0.072</td>\n",
              "      <td>0.049</td>\n",
              "      <td>0.015</td>\n",
              "      <td>3.873</td>\n",
              "      <td>1.369</td>\n",
              "      <td>2.206</td>\n",
              "      <td>0.489</td>\n",
              "      <td>10.213</td>\n",
              "      <td>7.3190</td>\n",
              "      <td>6.009</td>\n",
              "      <td>2.968</td>\n",
              "      <td>9.564</td>\n",
              "      <td>10.052</td>\n",
              "      <td>4.769</td>\n",
              "      <td>6.584</td>\n",
              "      <td>6.866</td>\n",
              "      <td>10.892</td>\n",
              "      <td>4.169</td>\n",
              "      <td>4.227</td>\n",
              "      <td>0.930</td>\n",
              "      <td>5.828</td>\n",
              "      <td>0.519</td>\n",
              "      <td>0.463</td>\n",
              "      <td>0.0</td>\n",
              "      <td>25.6</td>\n",
              "      <td>42.8</td>\n",
              "      <td>17.2</td>\n",
              "      <td>19.390206</td>\n",
              "      <td>13.027794</td>\n",
              "    </tr>\n",
              "  </tbody>\n",
              "</table>\n",
              "</div>"
            ],
            "text/plain": [
              "     T10    T50    T90  ...  T50-T10  (90-50/90-10)*N+A  (50-10/90-10)*N+A\n",
              "0   98.6  119.2  146.1  ...     20.6          22.727952          17.405048\n",
              "1  105.4  122.2  148.2  ...     16.8          19.545561          12.629439\n",
              "2  105.8  122.7  149.2  ...     16.9          19.189908          12.238092\n",
              "3  105.4  122.4  147.6  ...     17.0          18.744739          12.645261\n",
              "4  105.4  122.6  148.2  ...     17.2          19.390206          13.027794\n",
              "\n",
              "[5 rows x 33 columns]"
            ]
          },
          "metadata": {
            "tags": []
          },
          "execution_count": 49
        }
      ]
    },
    {
      "cell_type": "code",
      "metadata": {
        "id": "LJtSoBs_5bPC",
        "colab_type": "code",
        "outputId": "31dcd524-07e8-4f83-a0a8-70ae90802c5e",
        "colab": {
          "base_uri": "https://localhost:8080/",
          "height": 50
        }
      },
      "source": [
        "print(x_columns)\n",
        "print(y_columns)"
      ],
      "execution_count": 50,
      "outputs": [
        {
          "output_type": "stream",
          "text": [
            "['T10', 'T50', 'T90', 'NA', 'T90-T50', 'T90-T10', 'T50-T10', '(90-50/90-10)*N+A', '(50-10/90-10)*N+A']\n",
            "['C5IP', 'C5NP', 'C5N', 'C6IP', 'C6NP', 'C6N', 'C6A', 'C7IP', 'C7NP', 'C7N', 'C7A', 'C8IP', 'C8NP', 'C8N', 'C8A', 'C9IP', 'C9NP', 'C9N', 'C9A', 'C10IP', 'C10NP', 'C10N', 'C10A']\n"
          ],
          "name": "stdout"
        }
      ]
    },
    {
      "cell_type": "markdown",
      "metadata": {
        "id": "ncwIQOfC-M9M",
        "colab_type": "text"
      },
      "source": [
        "# call先前保存好的Model做預測,根據判斷不同的群呼叫model"
      ]
    },
    {
      "cell_type": "code",
      "metadata": {
        "id": "QmPrlePM-KhT",
        "colab_type": "code",
        "colab": {}
      },
      "source": [
        "from tqdm import tqdm\n",
        "\n",
        "def Modeling_for_test170(test_data170,x_columns,y_columns,Sequential=False):\n",
        "  \n",
        "  #初始化預測結果表\n",
        "  predict_table = pd.DataFrame(np.zeros((len(test_data170),len(y_columns))),index=test_data170.index,columns=y_columns)\n",
        "  #加入群label欄位\n",
        "  predict_table['cluster'] = test_data170['cluster']\n",
        "  \n",
        "  #對每一筆樣本作遍歷,判斷所屬的群\n",
        "  for index in tqdm(test_data170.index):\n",
        "    one_row_data = test_data170.loc[[index],x_columns]# one_row_data(一筆資料)\n",
        "    cluster_name = int(test_data170.loc[[index],['cluster']].values[0])#群代碼 int type\n",
        "    #根據cluster_name和y_name呼叫model\n",
        "    for y_name in y_columns:\n",
        "      #呼叫Model\n",
        "      dir_path = '/content/drive/My Drive/台塑輕油案子/ART2各群Model/群代碼{}_'.format(cluster_name)\n",
        "      file_name = '{}.pkl'.format(y_name)\n",
        "      load_path = dir_path + file_name\n",
        "      model = joblib.load(load_path)\n",
        "      #模型預測&填入表格\n",
        "      y_pred = model.predict(one_row_data)\n",
        "      predict_table.loc[[index],[y_name]] = y_pred\n",
        "      #把當前預測的y append到特徵(one_row_data)裡做為下一個y的特徵\n",
        "      if Sequential == True:\n",
        "        one_row_data[y_name] = y_pred\n",
        "  #輸出表格\n",
        "  return predict_table"
      ],
      "execution_count": 0,
      "outputs": []
    },
    {
      "cell_type": "code",
      "metadata": {
        "id": "ZRVqeM6o_lfj",
        "colab_type": "code",
        "outputId": "06f1ab21-fc4a-4abc-da15-b49ecc51d2c2",
        "colab": {
          "base_uri": "https://localhost:8080/",
          "height": 33
        }
      },
      "source": [
        "y_pred_table = Modeling_for_test170(test_dataset,list(x_columns),list(y_columns),Sequential=True)"
      ],
      "execution_count": 52,
      "outputs": [
        {
          "output_type": "stream",
          "text": [
            "100%|██████████| 170/170 [00:54<00:00,  3.04it/s]\n"
          ],
          "name": "stderr"
        }
      ]
    },
    {
      "cell_type": "code",
      "metadata": {
        "id": "gnMKjr_ScBO-",
        "colab_type": "code",
        "outputId": "7bb03734-4971-44e2-a3a1-b94cf70a9d30",
        "colab": {
          "base_uri": "https://localhost:8080/",
          "height": 217
        }
      },
      "source": [
        "y_pred_table.sample(5)"
      ],
      "execution_count": 53,
      "outputs": [
        {
          "output_type": "execute_result",
          "data": {
            "text/html": [
              "<div>\n",
              "<style scoped>\n",
              "    .dataframe tbody tr th:only-of-type {\n",
              "        vertical-align: middle;\n",
              "    }\n",
              "\n",
              "    .dataframe tbody tr th {\n",
              "        vertical-align: top;\n",
              "    }\n",
              "\n",
              "    .dataframe thead th {\n",
              "        text-align: right;\n",
              "    }\n",
              "</style>\n",
              "<table border=\"1\" class=\"dataframe\">\n",
              "  <thead>\n",
              "    <tr style=\"text-align: right;\">\n",
              "      <th></th>\n",
              "      <th>C5IP</th>\n",
              "      <th>C5NP</th>\n",
              "      <th>C5N</th>\n",
              "      <th>C6IP</th>\n",
              "      <th>C6NP</th>\n",
              "      <th>C6N</th>\n",
              "      <th>C6A</th>\n",
              "      <th>C7IP</th>\n",
              "      <th>C7NP</th>\n",
              "      <th>C7N</th>\n",
              "      <th>C7A</th>\n",
              "      <th>C8IP</th>\n",
              "      <th>C8NP</th>\n",
              "      <th>C8N</th>\n",
              "      <th>C8A</th>\n",
              "      <th>C9IP</th>\n",
              "      <th>C9NP</th>\n",
              "      <th>C9N</th>\n",
              "      <th>C9A</th>\n",
              "      <th>C10IP</th>\n",
              "      <th>C10NP</th>\n",
              "      <th>C10N</th>\n",
              "      <th>C10A</th>\n",
              "      <th>cluster</th>\n",
              "    </tr>\n",
              "  </thead>\n",
              "  <tbody>\n",
              "    <tr>\n",
              "      <th>52</th>\n",
              "      <td>1.513375</td>\n",
              "      <td>2.22700</td>\n",
              "      <td>0.327000</td>\n",
              "      <td>3.309143</td>\n",
              "      <td>2.926250</td>\n",
              "      <td>4.466000</td>\n",
              "      <td>0.4685</td>\n",
              "      <td>7.224667</td>\n",
              "      <td>5.723167</td>\n",
              "      <td>19.8860</td>\n",
              "      <td>4.190500</td>\n",
              "      <td>5.872667</td>\n",
              "      <td>4.956444</td>\n",
              "      <td>10.140500</td>\n",
              "      <td>4.74700</td>\n",
              "      <td>8.86400</td>\n",
              "      <td>2.243667</td>\n",
              "      <td>3.038000</td>\n",
              "      <td>1.771667</td>\n",
              "      <td>3.093500</td>\n",
              "      <td>0.737000</td>\n",
              "      <td>0.76650</td>\n",
              "      <td>0.75250</td>\n",
              "      <td>3.0</td>\n",
              "    </tr>\n",
              "    <tr>\n",
              "      <th>116</th>\n",
              "      <td>0.301200</td>\n",
              "      <td>0.43100</td>\n",
              "      <td>0.092333</td>\n",
              "      <td>1.812500</td>\n",
              "      <td>3.696000</td>\n",
              "      <td>3.114111</td>\n",
              "      <td>0.4526</td>\n",
              "      <td>6.626000</td>\n",
              "      <td>9.199000</td>\n",
              "      <td>8.1955</td>\n",
              "      <td>3.048727</td>\n",
              "      <td>9.430500</td>\n",
              "      <td>9.135500</td>\n",
              "      <td>6.038333</td>\n",
              "      <td>5.73825</td>\n",
              "      <td>10.59425</td>\n",
              "      <td>6.322000</td>\n",
              "      <td>4.564500</td>\n",
              "      <td>3.605500</td>\n",
              "      <td>5.585667</td>\n",
              "      <td>0.853890</td>\n",
              "      <td>0.53925</td>\n",
              "      <td>0.37075</td>\n",
              "      <td>2.0</td>\n",
              "    </tr>\n",
              "    <tr>\n",
              "      <th>155</th>\n",
              "      <td>1.618250</td>\n",
              "      <td>2.28040</td>\n",
              "      <td>0.252929</td>\n",
              "      <td>1.900571</td>\n",
              "      <td>1.842625</td>\n",
              "      <td>5.359500</td>\n",
              "      <td>0.7175</td>\n",
              "      <td>7.835000</td>\n",
              "      <td>6.279667</td>\n",
              "      <td>24.4670</td>\n",
              "      <td>5.118500</td>\n",
              "      <td>5.605000</td>\n",
              "      <td>3.848556</td>\n",
              "      <td>9.649500</td>\n",
              "      <td>4.37100</td>\n",
              "      <td>5.36100</td>\n",
              "      <td>1.677000</td>\n",
              "      <td>4.778000</td>\n",
              "      <td>1.636000</td>\n",
              "      <td>2.589000</td>\n",
              "      <td>0.446667</td>\n",
              "      <td>0.64150</td>\n",
              "      <td>0.55400</td>\n",
              "      <td>3.0</td>\n",
              "    </tr>\n",
              "    <tr>\n",
              "      <th>96</th>\n",
              "      <td>1.626625</td>\n",
              "      <td>2.54652</td>\n",
              "      <td>0.321143</td>\n",
              "      <td>3.072000</td>\n",
              "      <td>3.188125</td>\n",
              "      <td>4.701000</td>\n",
              "      <td>0.6965</td>\n",
              "      <td>6.406000</td>\n",
              "      <td>6.172500</td>\n",
              "      <td>16.9290</td>\n",
              "      <td>4.044500</td>\n",
              "      <td>6.688667</td>\n",
              "      <td>5.491444</td>\n",
              "      <td>8.846500</td>\n",
              "      <td>4.84200</td>\n",
              "      <td>7.86200</td>\n",
              "      <td>2.765000</td>\n",
              "      <td>5.354333</td>\n",
              "      <td>1.891000</td>\n",
              "      <td>3.687167</td>\n",
              "      <td>0.785333</td>\n",
              "      <td>0.76800</td>\n",
              "      <td>0.82300</td>\n",
              "      <td>3.0</td>\n",
              "    </tr>\n",
              "    <tr>\n",
              "      <th>165</th>\n",
              "      <td>0.978125</td>\n",
              "      <td>1.40460</td>\n",
              "      <td>0.270571</td>\n",
              "      <td>2.671857</td>\n",
              "      <td>2.859500</td>\n",
              "      <td>5.326000</td>\n",
              "      <td>0.5585</td>\n",
              "      <td>4.321000</td>\n",
              "      <td>4.886500</td>\n",
              "      <td>15.2740</td>\n",
              "      <td>3.538500</td>\n",
              "      <td>6.395667</td>\n",
              "      <td>6.764222</td>\n",
              "      <td>10.276500</td>\n",
              "      <td>6.46200</td>\n",
              "      <td>7.74650</td>\n",
              "      <td>3.757333</td>\n",
              "      <td>6.325667</td>\n",
              "      <td>3.328000</td>\n",
              "      <td>4.178833</td>\n",
              "      <td>1.025333</td>\n",
              "      <td>0.77850</td>\n",
              "      <td>0.64800</td>\n",
              "      <td>3.0</td>\n",
              "    </tr>\n",
              "  </tbody>\n",
              "</table>\n",
              "</div>"
            ],
            "text/plain": [
              "         C5IP     C5NP       C5N      C6IP  ...     C10NP     C10N     C10A  cluster\n",
              "52   1.513375  2.22700  0.327000  3.309143  ...  0.737000  0.76650  0.75250      3.0\n",
              "116  0.301200  0.43100  0.092333  1.812500  ...  0.853890  0.53925  0.37075      2.0\n",
              "155  1.618250  2.28040  0.252929  1.900571  ...  0.446667  0.64150  0.55400      3.0\n",
              "96   1.626625  2.54652  0.321143  3.072000  ...  0.785333  0.76800  0.82300      3.0\n",
              "165  0.978125  1.40460  0.270571  2.671857  ...  1.025333  0.77850  0.64800      3.0\n",
              "\n",
              "[5 rows x 24 columns]"
            ]
          },
          "metadata": {
            "tags": []
          },
          "execution_count": 53
        }
      ]
    },
    {
      "cell_type": "markdown",
      "metadata": {
        "id": "Zm6k95qwcJd0",
        "colab_type": "text"
      },
      "source": [
        "# 每一群分到的測試資料的數量"
      ]
    },
    {
      "cell_type": "code",
      "metadata": {
        "id": "OeT5RmVPcJtP",
        "colab_type": "code",
        "outputId": "c1c18215-9db7-496a-fb81-f9af6ad97518",
        "colab": {
          "base_uri": "https://localhost:8080/",
          "height": 100
        }
      },
      "source": [
        "y_pred_table['cluster'].value_counts()"
      ],
      "execution_count": 54,
      "outputs": [
        {
          "output_type": "execute_result",
          "data": {
            "text/plain": [
              "3.0    77\n",
              "0.0    58\n",
              "1.0    30\n",
              "2.0     5\n",
              "Name: cluster, dtype: int64"
            ]
          },
          "metadata": {
            "tags": []
          },
          "execution_count": 54
        }
      ]
    },
    {
      "cell_type": "markdown",
      "metadata": {
        "id": "WvD5jFm2cqqz",
        "colab_type": "text"
      },
      "source": [
        "# 每一群測試資料個別的誤差, 每一群測試資料整體的RMSE和MAPE..."
      ]
    },
    {
      "cell_type": "code",
      "metadata": {
        "id": "I95hwesBct2M",
        "colab_type": "code",
        "outputId": "d84f07da-4875-42e6-bb59-533405f7598f",
        "colab": {
          "base_uri": "https://localhost:8080/",
          "height": 1000
        }
      },
      "source": [
        "#初始化評估結果表\n",
        "result = pd.DataFrame(np.zeros((23,3)),index=y_columns,columns=['R2','RMSE','MAPE'])\n",
        "\n",
        "for c in sorted(y_pred_table['cluster'].unique()):\n",
        "  cluster_index = y_pred_table[y_pred_table['cluster'] == c].index #該群資料的索引\n",
        "  #對y遍歷計算每個y的RMSE,MAPE\n",
        "  for y_name in y_columns: \n",
        "    y_test = test_dataset.loc[cluster_index,[y_name]]\n",
        "    y_pred = y_pred_table.loc[cluster_index,[y_name]]\n",
        "    R2 = r2_score(y_test,y_pred)\n",
        "    RMSE = rmse(y_test,y_pred)\n",
        "    MAPE = mape(y_test,y_pred)\n",
        "    #在對應的表格填入數值\n",
        "    result.loc[[y_name],:] = [R2,RMSE,MAPE]\n",
        "  #計算AVG\n",
        "  result.loc['AVG',:] = result.mean(axis=0)\n",
        "  #印出該群結果\n",
        "  print('群代碼:{}群數量:{}'.format(c,len(cluster_index)))\n",
        "  print(result)"
      ],
      "execution_count": 55,
      "outputs": [
        {
          "output_type": "stream",
          "text": [
            "群代碼:0.0群數量:58\n",
            "             R2      RMSE       MAPE\n",
            "C5IP   0.912972  0.133452  48.661733\n",
            "C5NP   0.942112  0.155526  27.039722\n",
            "C5N    0.885742  0.028514  21.184147\n",
            "C6IP   0.915915  0.176916   8.998761\n",
            "C6NP  -0.543702  0.425787  10.013610\n",
            "C6N    0.922925  0.198278   5.295030\n",
            "C6A   -4.559828  0.173491  27.177251\n",
            "C7IP   0.627965  0.471379   5.893538\n",
            "C7NP   0.861698  0.545214   5.507990\n",
            "C7N    0.933804  0.480829   4.273916\n",
            "C7A   -0.932403  0.292961   6.992132\n",
            "C8IP   0.911723  0.299359   2.276182\n",
            "C8NP   0.926520  0.247713   2.384756\n",
            "C8N    0.763883  0.510552   5.665068\n",
            "C8A   -0.206314  0.900330   9.245809\n",
            "C9IP   0.785551  0.381976   3.093625\n",
            "C9NP   0.953203  0.188735   2.325014\n",
            "C9N    0.124038  0.483458   7.615056\n",
            "C9A   -3.323060  0.556855  10.420717\n",
            "C10IP  0.405622  0.440006   6.134762\n",
            "C10NP -0.809167  0.267390  14.903215\n",
            "C10N  -0.732632  0.168290  18.026000\n",
            "C10A  -0.889005  0.415981  38.931329\n",
            "AVG   -0.005323  0.345348  12.698233\n",
            "群代碼:1.0群數量:30\n",
            "              R2      RMSE        MAPE\n",
            "C5IP   -5.419028  0.260595  359.252471\n",
            "C5NP    0.309158  0.129690  131.795766\n",
            "C5N    -1.874276  0.033091  228.519423\n",
            "C6IP    0.163466  0.186444   14.535984\n",
            "C6NP   -3.969750  0.319713    7.049519\n",
            "C6N     0.303191  0.141436    5.084049\n",
            "C6A    -4.829317  0.125923   16.467476\n",
            "C7IP   -2.729593  0.399208    3.776183\n",
            "C7NP    0.007590  0.345304    2.685899\n",
            "C7N     0.537805  0.310884    3.683345\n",
            "C7A    -0.693003  0.108840    3.158276\n",
            "C8IP    0.093853  0.257334    1.695022\n",
            "C8NP    0.111175  0.181805    1.325143\n",
            "C8N     0.141953  0.245311    3.252042\n",
            "C8A     0.405343  0.268599    3.653816\n",
            "C9IP   -3.281627  0.396644    2.409091\n",
            "C9NP    0.274213  0.158238    1.942458\n",
            "C9N   -28.273701  0.408945    5.818223\n",
            "C9A    -1.632026  0.333434    7.110909\n",
            "C10IP  -7.679643  0.512326    6.366544\n",
            "C10NP  -2.473396  0.137313   11.035832\n",
            "C10N   -5.646537  0.060035    8.588247\n",
            "C10A   -1.143489  0.083923   15.396784\n",
            "AVG    -2.804290  0.239599   35.720864\n",
            "群代碼:2.0群數量:5\n",
            "               R2      RMSE        MAPE\n",
            "C5IP   -12.882116  0.520334  109.476842\n",
            "C5NP    -8.818539  0.676177  100.211031\n",
            "C5N     -2.136444  0.052886   51.862901\n",
            "C6IP    -0.117800  0.268553   14.115113\n",
            "C6NP   -57.946570  0.492913   10.459620\n",
            "C6N     -0.067204  0.252924    7.319914\n",
            "C6A    -50.893078  0.206935   41.068743\n",
            "C7IP    -0.339142  0.301131    3.871436\n",
            "C7NP     0.116644  0.502321    4.112298\n",
            "C7N     -0.025242  0.591451    5.142997\n",
            "C7A   -497.775038  0.160053    4.472032\n",
            "C8IP     0.630409  0.256044    2.478310\n",
            "C8NP     0.323972  0.290754    2.899906\n",
            "C8N     -3.122246  0.695329    8.334903\n",
            "C8A     -1.719439  0.782218   11.004646\n",
            "C9IP    -2.564345  0.573612    4.821960\n",
            "C9NP     0.565296  0.196636    2.918089\n",
            "C9N    -67.908547  0.654065    8.217980\n",
            "C9A     -5.106908  0.338661    6.372399\n",
            "C10IP   -8.157361  0.372143    4.447744\n",
            "C10NP  -67.045979  0.240362   21.344262\n",
            "C10N    -0.844180  0.045808    7.502903\n",
            "C10A   -18.090064  0.276215   47.461764\n",
            "AVG    -33.613675  0.374464   21.484944\n",
            "群代碼:3.0群數量:77\n",
            "             R2      RMSE       MAPE\n",
            "C5IP  -1.160835  0.357258  24.236143\n",
            "C5NP  -0.008223  0.445121  14.647969\n",
            "C5N   -0.961643  0.078130  12.236828\n",
            "C6IP  -0.271159  0.603371  11.914591\n",
            "C6NP  -0.280796  0.576964  10.174560\n",
            "C6N   -0.403650  1.170666  11.508281\n",
            "C6A   -0.558580  0.187291  17.142918\n",
            "C7IP   0.740432  0.526738   7.398480\n",
            "C7NP   0.705372  0.320185   4.703682\n",
            "C7N    0.451250  1.383195   6.687544\n",
            "C7A   -0.616930  0.523762   8.515880\n",
            "C8IP   0.082958  0.560865   5.338509\n",
            "C8NP   0.866408  0.279081   3.704083\n",
            "C8N    0.165955  0.925100   9.073813\n",
            "C8A    0.660146  0.468443   6.085723\n",
            "C9IP  -0.159315  0.708484   6.819977\n",
            "C9NP   0.784898  0.251171   5.337769\n",
            "C9N   -0.714203  0.799387   9.759546\n",
            "C9A   -0.475388  0.519617  14.759561\n",
            "C10IP  0.164897  0.417362   8.800208\n",
            "C10NP -0.003266  0.209489  17.492693\n",
            "C10N  -1.449512  0.125156  11.957372\n",
            "C10A  -1.279650  0.224325  23.603759\n",
            "AVG   -1.555605  0.501484  11.391035\n"
          ],
          "name": "stdout"
        }
      ]
    },
    {
      "cell_type": "markdown",
      "metadata": {
        "id": "N79wL3Z8_348",
        "colab_type": "text"
      },
      "source": [
        "# 整體評估"
      ]
    },
    {
      "cell_type": "code",
      "metadata": {
        "id": "HwaPXhPh_stw",
        "colab_type": "code",
        "outputId": "348e5d59-9bd6-4ee3-a40f-63a839f0c926",
        "colab": {
          "base_uri": "https://localhost:8080/",
          "height": 767
        }
      },
      "source": [
        "#初始化評估結果表\n",
        "result = pd.DataFrame(np.zeros((23,3)),index=y_columns,columns=['R2','RMSE','MAPE'])\n",
        "\n",
        "for y_name in y_columns:\n",
        "  y_test = test_dataset[y_name]\n",
        "  y_pred = y_pred_table[y_name]\n",
        "  R2 = r2_score(y_test,y_pred)\n",
        "  RMSE = rmse(y_test,y_pred)\n",
        "  MAPE = mape(y_test,y_pred)\n",
        "  #在對應的表格填入數值\n",
        "  result.loc[[y_name],:] = [R2,RMSE,MAPE]\n",
        "\n",
        "result.loc['AVG',:] = result.mean(axis=0)\n",
        "result"
      ],
      "execution_count": 56,
      "outputs": [
        {
          "output_type": "execute_result",
          "data": {
            "text/html": [
              "<div>\n",
              "<style scoped>\n",
              "    .dataframe tbody tr th:only-of-type {\n",
              "        vertical-align: middle;\n",
              "    }\n",
              "\n",
              "    .dataframe tbody tr th {\n",
              "        vertical-align: top;\n",
              "    }\n",
              "\n",
              "    .dataframe thead th {\n",
              "        text-align: right;\n",
              "    }\n",
              "</style>\n",
              "<table border=\"1\" class=\"dataframe\">\n",
              "  <thead>\n",
              "    <tr style=\"text-align: right;\">\n",
              "      <th></th>\n",
              "      <th>R2</th>\n",
              "      <th>RMSE</th>\n",
              "      <th>MAPE</th>\n",
              "    </tr>\n",
              "  </thead>\n",
              "  <tbody>\n",
              "    <tr>\n",
              "      <th>C5IP</th>\n",
              "      <td>0.679856</td>\n",
              "      <td>0.289541</td>\n",
              "      <td>94.197188</td>\n",
              "    </tr>\n",
              "    <tr>\n",
              "      <th>C5NP</th>\n",
              "      <td>0.843341</td>\n",
              "      <td>0.338246</td>\n",
              "      <td>42.065445</td>\n",
              "    </tr>\n",
              "    <tr>\n",
              "      <th>C5N</th>\n",
              "      <td>0.822967</td>\n",
              "      <td>0.057600</td>\n",
              "      <td>54.622432</td>\n",
              "    </tr>\n",
              "    <tr>\n",
              "      <th>C6IP</th>\n",
              "      <td>0.831745</td>\n",
              "      <td>0.428755</td>\n",
              "      <td>11.447098</td>\n",
              "    </tr>\n",
              "    <tr>\n",
              "      <th>C6NP</th>\n",
              "      <td>-0.452910</td>\n",
              "      <td>0.487664</td>\n",
              "      <td>9.576554</td>\n",
              "    </tr>\n",
              "    <tr>\n",
              "      <th>C6N</th>\n",
              "      <td>0.766793</td>\n",
              "      <td>0.799726</td>\n",
              "      <td>8.131591</td>\n",
              "    </tr>\n",
              "    <tr>\n",
              "      <th>C6A</th>\n",
              "      <td>-0.035134</td>\n",
              "      <td>0.173825</td>\n",
              "      <td>21.150901</td>\n",
              "    </tr>\n",
              "    <tr>\n",
              "      <th>C7IP</th>\n",
              "      <td>0.809777</td>\n",
              "      <td>0.481944</td>\n",
              "      <td>6.142064</td>\n",
              "    </tr>\n",
              "    <tr>\n",
              "      <th>C7NP</th>\n",
              "      <td>0.963547</td>\n",
              "      <td>0.419899</td>\n",
              "      <td>4.604620</td>\n",
              "    </tr>\n",
              "    <tr>\n",
              "      <th>C7N</th>\n",
              "      <td>0.943985</td>\n",
              "      <td>0.986308</td>\n",
              "      <td>5.288490</td>\n",
              "    </tr>\n",
              "    <tr>\n",
              "      <th>C7A</th>\n",
              "      <td>0.275891</td>\n",
              "      <td>0.395449</td>\n",
              "      <td>6.931617</td>\n",
              "    </tr>\n",
              "    <tr>\n",
              "      <th>C8IP</th>\n",
              "      <td>0.923425</td>\n",
              "      <td>0.432054</td>\n",
              "      <td>3.566623</td>\n",
              "    </tr>\n",
              "    <tr>\n",
              "      <th>C8NP</th>\n",
              "      <td>0.978395</td>\n",
              "      <td>0.254032</td>\n",
              "      <td>2.810494</td>\n",
              "    </tr>\n",
              "    <tr>\n",
              "      <th>C8N</th>\n",
              "      <td>0.849433</td>\n",
              "      <td>0.708099</td>\n",
              "      <td>6.861725</td>\n",
              "    </tr>\n",
              "    <tr>\n",
              "      <th>C8A</th>\n",
              "      <td>0.384526</td>\n",
              "      <td>0.637712</td>\n",
              "      <td>6.879384</td>\n",
              "    </tr>\n",
              "    <tr>\n",
              "      <th>C9IP</th>\n",
              "      <td>0.874231</td>\n",
              "      <td>0.560869</td>\n",
              "      <td>4.711477</td>\n",
              "    </tr>\n",
              "    <tr>\n",
              "      <th>C9NP</th>\n",
              "      <td>0.981890</td>\n",
              "      <td>0.215136</td>\n",
              "      <td>3.639548</td>\n",
              "    </tr>\n",
              "    <tr>\n",
              "      <th>C9N</th>\n",
              "      <td>0.369315</td>\n",
              "      <td>0.641308</td>\n",
              "      <td>8.287029</td>\n",
              "    </tr>\n",
              "    <tr>\n",
              "      <th>C9A</th>\n",
              "      <td>0.316192</td>\n",
              "      <td>0.501081</td>\n",
              "      <td>11.682806</td>\n",
              "    </tr>\n",
              "    <tr>\n",
              "      <th>C10IP</th>\n",
              "      <td>0.812870</td>\n",
              "      <td>0.441978</td>\n",
              "      <td>7.333337</td>\n",
              "    </tr>\n",
              "    <tr>\n",
              "      <th>C10NP</th>\n",
              "      <td>-0.102945</td>\n",
              "      <td>0.222030</td>\n",
              "      <td>15.583060</td>\n",
              "    </tr>\n",
              "    <tr>\n",
              "      <th>C10N</th>\n",
              "      <td>-0.023829</td>\n",
              "      <td>0.132118</td>\n",
              "      <td>13.302280</td>\n",
              "    </tr>\n",
              "    <tr>\n",
              "      <th>C10A</th>\n",
              "      <td>-0.570401</td>\n",
              "      <td>0.292091</td>\n",
              "      <td>28.086582</td>\n",
              "    </tr>\n",
              "    <tr>\n",
              "      <th>AVG</th>\n",
              "      <td>0.532303</td>\n",
              "      <td>0.430325</td>\n",
              "      <td>16.387058</td>\n",
              "    </tr>\n",
              "  </tbody>\n",
              "</table>\n",
              "</div>"
            ],
            "text/plain": [
              "             R2      RMSE       MAPE\n",
              "C5IP   0.679856  0.289541  94.197188\n",
              "C5NP   0.843341  0.338246  42.065445\n",
              "C5N    0.822967  0.057600  54.622432\n",
              "C6IP   0.831745  0.428755  11.447098\n",
              "C6NP  -0.452910  0.487664   9.576554\n",
              "C6N    0.766793  0.799726   8.131591\n",
              "C6A   -0.035134  0.173825  21.150901\n",
              "C7IP   0.809777  0.481944   6.142064\n",
              "C7NP   0.963547  0.419899   4.604620\n",
              "C7N    0.943985  0.986308   5.288490\n",
              "C7A    0.275891  0.395449   6.931617\n",
              "C8IP   0.923425  0.432054   3.566623\n",
              "C8NP   0.978395  0.254032   2.810494\n",
              "C8N    0.849433  0.708099   6.861725\n",
              "C8A    0.384526  0.637712   6.879384\n",
              "C9IP   0.874231  0.560869   4.711477\n",
              "C9NP   0.981890  0.215136   3.639548\n",
              "C9N    0.369315  0.641308   8.287029\n",
              "C9A    0.316192  0.501081  11.682806\n",
              "C10IP  0.812870  0.441978   7.333337\n",
              "C10NP -0.102945  0.222030  15.583060\n",
              "C10N  -0.023829  0.132118  13.302280\n",
              "C10A  -0.570401  0.292091  28.086582\n",
              "AVG    0.532303  0.430325  16.387058"
            ]
          },
          "metadata": {
            "tags": []
          },
          "execution_count": 56
        }
      ]
    },
    {
      "cell_type": "code",
      "metadata": {
        "id": "b0wJA1OC_6Ah",
        "colab_type": "code",
        "outputId": "959f601d-1fff-42e1-a112-74321ce66ff9",
        "colab": {
          "base_uri": "https://localhost:8080/",
          "height": 33
        }
      },
      "source": [
        "result.to_excel('./結果_輕油案子ART2分群20190830_特徵工程_順序預測_調參.xlsx')\n",
        "print('輸出完成!')"
      ],
      "execution_count": 39,
      "outputs": [
        {
          "output_type": "stream",
          "text": [
            "輸出完成!\n"
          ],
          "name": "stdout"
        }
      ]
    },
    {
      "cell_type": "markdown",
      "metadata": {
        "id": "7UFuL4zUFrit",
        "colab_type": "text"
      },
      "source": [
        "# 加總評估"
      ]
    },
    {
      "cell_type": "code",
      "metadata": {
        "id": "C-fEy26GFr8u",
        "colab_type": "code",
        "outputId": "9c64b86b-339a-433a-e448-b221302d5c29",
        "colab": {
          "base_uri": "https://localhost:8080/",
          "height": 197
        }
      },
      "source": [
        "y_test = pd.DataFrame()\n",
        "y_test['C5_total'] = test_dataset[['C5NP','C5IP','C5N']].sum(axis=1)\n",
        "y_test['C6_total'] = test_dataset[['C6NP','C6IP','C6N','C6A']].sum(axis=1)\n",
        "y_test['C7_total'] = test_dataset[['C7NP','C7IP','C7N','C7A']].sum(axis=1)\n",
        "y_test['C8_total'] = test_dataset[['C8NP','C8IP','C8N','C8A']].sum(axis=1)\n",
        "y_test['C9_total'] = test_dataset[['C9NP','C9IP','C9N','C9A']].sum(axis=1)\n",
        "y_test['C10_total'] = test_dataset[['C10NP','C10IP','C10N','C10A']].sum(axis=1)\n",
        "y_test.head()"
      ],
      "execution_count": 57,
      "outputs": [
        {
          "output_type": "execute_result",
          "data": {
            "text/html": [
              "<div>\n",
              "<style scoped>\n",
              "    .dataframe tbody tr th:only-of-type {\n",
              "        vertical-align: middle;\n",
              "    }\n",
              "\n",
              "    .dataframe tbody tr th {\n",
              "        vertical-align: top;\n",
              "    }\n",
              "\n",
              "    .dataframe thead th {\n",
              "        text-align: right;\n",
              "    }\n",
              "</style>\n",
              "<table border=\"1\" class=\"dataframe\">\n",
              "  <thead>\n",
              "    <tr style=\"text-align: right;\">\n",
              "      <th></th>\n",
              "      <th>C5_total</th>\n",
              "      <th>C6_total</th>\n",
              "      <th>C7_total</th>\n",
              "      <th>C8_total</th>\n",
              "      <th>C9_total</th>\n",
              "      <th>C10_total</th>\n",
              "    </tr>\n",
              "  </thead>\n",
              "  <tbody>\n",
              "    <tr>\n",
              "      <th>0</th>\n",
              "      <td>1.975</td>\n",
              "      <td>10.907</td>\n",
              "      <td>26.9400</td>\n",
              "      <td>28.433</td>\n",
              "      <td>23.158</td>\n",
              "      <td>7.955</td>\n",
              "    </tr>\n",
              "    <tr>\n",
              "      <th>1</th>\n",
              "      <td>0.229</td>\n",
              "      <td>8.325</td>\n",
              "      <td>26.6613</td>\n",
              "      <td>29.976</td>\n",
              "      <td>25.914</td>\n",
              "      <td>8.163</td>\n",
              "    </tr>\n",
              "    <tr>\n",
              "      <th>2</th>\n",
              "      <td>0.182</td>\n",
              "      <td>8.059</td>\n",
              "      <td>26.6400</td>\n",
              "      <td>30.036</td>\n",
              "      <td>26.209</td>\n",
              "      <td>8.140</td>\n",
              "    </tr>\n",
              "    <tr>\n",
              "      <th>3</th>\n",
              "      <td>0.228</td>\n",
              "      <td>8.008</td>\n",
              "      <td>26.6690</td>\n",
              "      <td>30.220</td>\n",
              "      <td>26.225</td>\n",
              "      <td>8.061</td>\n",
              "    </tr>\n",
              "    <tr>\n",
              "      <th>4</th>\n",
              "      <td>0.136</td>\n",
              "      <td>7.937</td>\n",
              "      <td>26.5090</td>\n",
              "      <td>30.969</td>\n",
              "      <td>26.154</td>\n",
              "      <td>7.740</td>\n",
              "    </tr>\n",
              "  </tbody>\n",
              "</table>\n",
              "</div>"
            ],
            "text/plain": [
              "   C5_total  C6_total  C7_total  C8_total  C9_total  C10_total\n",
              "0     1.975    10.907   26.9400    28.433    23.158      7.955\n",
              "1     0.229     8.325   26.6613    29.976    25.914      8.163\n",
              "2     0.182     8.059   26.6400    30.036    26.209      8.140\n",
              "3     0.228     8.008   26.6690    30.220    26.225      8.061\n",
              "4     0.136     7.937   26.5090    30.969    26.154      7.740"
            ]
          },
          "metadata": {
            "tags": []
          },
          "execution_count": 57
        }
      ]
    },
    {
      "cell_type": "code",
      "metadata": {
        "id": "uYDtHAuOzJEE",
        "colab_type": "code",
        "outputId": "ad2d2d08-3429-4fee-c23e-b8846348514f",
        "colab": {
          "base_uri": "https://localhost:8080/",
          "height": 197
        }
      },
      "source": [
        "y_pred = pd.DataFrame()\n",
        "y_pred['C5_total'] = y_pred_table[['C5NP','C5IP','C5N']].sum(axis=1)\n",
        "y_pred['C6_total'] = y_pred_table[['C6NP','C6IP','C6N','C6A']].sum(axis=1)\n",
        "y_pred['C7_total'] = y_pred_table[['C7NP','C7IP','C7N','C7A']].sum(axis=1)\n",
        "y_pred['C8_total'] = y_pred_table[['C8NP','C8IP','C8N','C8A']].sum(axis=1)\n",
        "y_pred['C9_total'] = y_pred_table[['C9NP','C9IP','C9N','C9A']].sum(axis=1)\n",
        "y_pred['C10_total'] = y_pred_table[['C10NP','C10IP','C10N','C10A']].sum(axis=1)\n",
        "y_pred.head()"
      ],
      "execution_count": 58,
      "outputs": [
        {
          "output_type": "execute_result",
          "data": {
            "text/html": [
              "<div>\n",
              "<style scoped>\n",
              "    .dataframe tbody tr th:only-of-type {\n",
              "        vertical-align: middle;\n",
              "    }\n",
              "\n",
              "    .dataframe tbody tr th {\n",
              "        vertical-align: top;\n",
              "    }\n",
              "\n",
              "    .dataframe thead th {\n",
              "        text-align: right;\n",
              "    }\n",
              "</style>\n",
              "<table border=\"1\" class=\"dataframe\">\n",
              "  <thead>\n",
              "    <tr style=\"text-align: right;\">\n",
              "      <th></th>\n",
              "      <th>C5_total</th>\n",
              "      <th>C6_total</th>\n",
              "      <th>C7_total</th>\n",
              "      <th>C8_total</th>\n",
              "      <th>C9_total</th>\n",
              "      <th>C10_total</th>\n",
              "    </tr>\n",
              "  </thead>\n",
              "  <tbody>\n",
              "    <tr>\n",
              "      <th>0</th>\n",
              "      <td>2.469250</td>\n",
              "      <td>9.975167</td>\n",
              "      <td>27.513667</td>\n",
              "      <td>29.462000</td>\n",
              "      <td>22.580467</td>\n",
              "      <td>7.686733</td>\n",
              "    </tr>\n",
              "    <tr>\n",
              "      <th>1</th>\n",
              "      <td>0.194487</td>\n",
              "      <td>7.108000</td>\n",
              "      <td>25.830500</td>\n",
              "      <td>31.183000</td>\n",
              "      <td>25.353867</td>\n",
              "      <td>8.576067</td>\n",
              "    </tr>\n",
              "    <tr>\n",
              "      <th>2</th>\n",
              "      <td>0.177622</td>\n",
              "      <td>6.844167</td>\n",
              "      <td>26.051333</td>\n",
              "      <td>30.669333</td>\n",
              "      <td>25.563733</td>\n",
              "      <td>8.722733</td>\n",
              "    </tr>\n",
              "    <tr>\n",
              "      <th>3</th>\n",
              "      <td>0.174462</td>\n",
              "      <td>8.015000</td>\n",
              "      <td>27.504167</td>\n",
              "      <td>29.676667</td>\n",
              "      <td>25.768733</td>\n",
              "      <td>8.575667</td>\n",
              "    </tr>\n",
              "    <tr>\n",
              "      <th>4</th>\n",
              "      <td>0.196526</td>\n",
              "      <td>7.146167</td>\n",
              "      <td>26.080833</td>\n",
              "      <td>30.887333</td>\n",
              "      <td>25.553133</td>\n",
              "      <td>9.091400</td>\n",
              "    </tr>\n",
              "  </tbody>\n",
              "</table>\n",
              "</div>"
            ],
            "text/plain": [
              "   C5_total  C6_total   C7_total   C8_total   C9_total  C10_total\n",
              "0  2.469250  9.975167  27.513667  29.462000  22.580467   7.686733\n",
              "1  0.194487  7.108000  25.830500  31.183000  25.353867   8.576067\n",
              "2  0.177622  6.844167  26.051333  30.669333  25.563733   8.722733\n",
              "3  0.174462  8.015000  27.504167  29.676667  25.768733   8.575667\n",
              "4  0.196526  7.146167  26.080833  30.887333  25.553133   9.091400"
            ]
          },
          "metadata": {
            "tags": []
          },
          "execution_count": 58
        }
      ]
    },
    {
      "cell_type": "code",
      "metadata": {
        "id": "6AQNfoyhF4bH",
        "colab_type": "code",
        "colab": {}
      },
      "source": [
        "y_group_columns = ['C5_total','C6_total','C7_total','C8_total','C9_total','C10_total']"
      ],
      "execution_count": 0,
      "outputs": []
    },
    {
      "cell_type": "code",
      "metadata": {
        "id": "rMplJzXeF6He",
        "colab_type": "code",
        "outputId": "25099483-334a-416f-d4c2-cbdd46eaad7a",
        "colab": {
          "base_uri": "https://localhost:8080/",
          "height": 257
        }
      },
      "source": [
        "#初始化評估結果表\n",
        "result = pd.DataFrame(np.zeros((6,3)),index=y_group_columns,columns=['R2','RMSE','MAPE'])\n",
        "\n",
        "for y_name in y_group_columns:\n",
        "  y_t = y_test[y_name]\n",
        "  y_p = y_pred[y_name]\n",
        "  R2 = r2_score(y_t,y_p)\n",
        "  RMSE = rmse(y_t,y_p)\n",
        "  MAPE = mape(y_t,y_p)\n",
        "  #在對應的表格填入數值\n",
        "  result.loc[[y_name],:] = [R2,RMSE,MAPE]\n",
        "\n",
        "result.loc['AVG',:] = result.mean(axis=0)\n",
        "result"
      ],
      "execution_count": 60,
      "outputs": [
        {
          "output_type": "execute_result",
          "data": {
            "text/html": [
              "<div>\n",
              "<style scoped>\n",
              "    .dataframe tbody tr th:only-of-type {\n",
              "        vertical-align: middle;\n",
              "    }\n",
              "\n",
              "    .dataframe tbody tr th {\n",
              "        vertical-align: top;\n",
              "    }\n",
              "\n",
              "    .dataframe thead th {\n",
              "        text-align: right;\n",
              "    }\n",
              "</style>\n",
              "<table border=\"1\" class=\"dataframe\">\n",
              "  <thead>\n",
              "    <tr style=\"text-align: right;\">\n",
              "      <th></th>\n",
              "      <th>R2</th>\n",
              "      <th>RMSE</th>\n",
              "      <th>MAPE</th>\n",
              "    </tr>\n",
              "  </thead>\n",
              "  <tbody>\n",
              "    <tr>\n",
              "      <th>C5_total</th>\n",
              "      <td>0.828230</td>\n",
              "      <td>0.617854</td>\n",
              "      <td>56.933190</td>\n",
              "    </tr>\n",
              "    <tr>\n",
              "      <th>C6_total</th>\n",
              "      <td>0.687942</td>\n",
              "      <td>1.600354</td>\n",
              "      <td>7.498854</td>\n",
              "    </tr>\n",
              "    <tr>\n",
              "      <th>C7_total</th>\n",
              "      <td>0.611895</td>\n",
              "      <td>1.623193</td>\n",
              "      <td>3.786370</td>\n",
              "    </tr>\n",
              "    <tr>\n",
              "      <th>C8_total</th>\n",
              "      <td>0.860629</td>\n",
              "      <td>0.845874</td>\n",
              "      <td>2.278319</td>\n",
              "    </tr>\n",
              "    <tr>\n",
              "      <th>C9_total</th>\n",
              "      <td>0.891731</td>\n",
              "      <td>1.026991</td>\n",
              "      <td>3.668114</td>\n",
              "    </tr>\n",
              "    <tr>\n",
              "      <th>C10_total</th>\n",
              "      <td>0.627241</td>\n",
              "      <td>0.700726</td>\n",
              "      <td>7.775756</td>\n",
              "    </tr>\n",
              "    <tr>\n",
              "      <th>AVG</th>\n",
              "      <td>0.751278</td>\n",
              "      <td>1.069165</td>\n",
              "      <td>13.656767</td>\n",
              "    </tr>\n",
              "  </tbody>\n",
              "</table>\n",
              "</div>"
            ],
            "text/plain": [
              "                 R2      RMSE       MAPE\n",
              "C5_total   0.828230  0.617854  56.933190\n",
              "C6_total   0.687942  1.600354   7.498854\n",
              "C7_total   0.611895  1.623193   3.786370\n",
              "C8_total   0.860629  0.845874   2.278319\n",
              "C9_total   0.891731  1.026991   3.668114\n",
              "C10_total  0.627241  0.700726   7.775756\n",
              "AVG        0.751278  1.069165  13.656767"
            ]
          },
          "metadata": {
            "tags": []
          },
          "execution_count": 60
        }
      ]
    },
    {
      "cell_type": "code",
      "metadata": {
        "id": "0R-U6BijLZc6",
        "colab_type": "code",
        "colab": {}
      },
      "source": [
        "#保存\n",
        "result.to_excel('./ART2順序預測加總評估_調參.xlsx')"
      ],
      "execution_count": 0,
      "outputs": []
    },
    {
      "cell_type": "code",
      "metadata": {
        "id": "kJQHmDs4LlZq",
        "colab_type": "code",
        "colab": {}
      },
      "source": [
        ""
      ],
      "execution_count": 0,
      "outputs": []
    }
  ]
}