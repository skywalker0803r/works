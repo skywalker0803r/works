{
  "nbformat": 4,
  "nbformat_minor": 0,
  "metadata": {
    "colab": {
      "name": "C10A.ipynb",
      "provenance": [],
      "collapsed_sections": [],
      "include_colab_link": true
    },
    "kernelspec": {
      "name": "python3",
      "display_name": "Python 3"
    }
  },
  "cells": [
    {
      "cell_type": "markdown",
      "metadata": {
        "id": "view-in-github",
        "colab_type": "text"
      },
      "source": [
        "<a href=\"https://colab.research.google.com/github/skywalker0803r/works/blob/master/C10A.ipynb\" target=\"_parent\"><img src=\"https://colab.research.google.com/assets/colab-badge.svg\" alt=\"Open In Colab\"/></a>"
      ]
    },
    {
      "cell_type": "code",
      "metadata": {
        "id": "Gu_4_rOOcWbx",
        "colab_type": "code",
        "outputId": "4ac925f0-f8ec-4c62-9172-baea5846de23",
        "colab": {
          "base_uri": "https://localhost:8080/",
          "height": 35
        }
      },
      "source": [
        "from google.colab import drive\n",
        "drive.mount('/content/drive')\n",
        "import warnings \n",
        "warnings.simplefilter('ignore')"
      ],
      "execution_count": 141,
      "outputs": [
        {
          "output_type": "stream",
          "text": [
            "Drive already mounted at /content/drive; to attempt to forcibly remount, call drive.mount(\"/content/drive\", force_remount=True).\n"
          ],
          "name": "stdout"
        }
      ]
    },
    {
      "cell_type": "markdown",
      "metadata": {
        "id": "7Ccyt3A8erKg",
        "colab_type": "text"
      },
      "source": [
        "# LOAD"
      ]
    },
    {
      "cell_type": "code",
      "metadata": {
        "id": "h26kZtPtcXNA",
        "colab_type": "code",
        "colab": {}
      },
      "source": [
        "import pandas as pd\n",
        "import seaborn as sns\n",
        "import matplotlib.pyplot as plt\n",
        "\n",
        "train = pd.read_csv('/content/drive/My Drive/台塑輕油案子/data/train_4521.csv',index_col=0).reset_index(drop=True)\n",
        "test_250 = pd.read_csv('/content/drive/My Drive/台塑輕油案子/data/test_250.csv',index_col=0).reset_index(drop=True)\n",
        "test_170 = pd.read_csv('/content/drive/My Drive/台塑輕油案子/data/test_170.csv',index_col=0).reset_index(drop=True)"
      ],
      "execution_count": 0,
      "outputs": []
    },
    {
      "cell_type": "code",
      "metadata": {
        "id": "Mu3x3vWS8v5t",
        "colab_type": "code",
        "outputId": "e40d46e4-c136-4018-d4fb-bb32b68b72f0",
        "colab": {
          "base_uri": "https://localhost:8080/",
          "height": 194
        }
      },
      "source": [
        "train.head()"
      ],
      "execution_count": 143,
      "outputs": [
        {
          "output_type": "execute_result",
          "data": {
            "text/html": [
              "<div>\n",
              "<style scoped>\n",
              "    .dataframe tbody tr th:only-of-type {\n",
              "        vertical-align: middle;\n",
              "    }\n",
              "\n",
              "    .dataframe tbody tr th {\n",
              "        vertical-align: top;\n",
              "    }\n",
              "\n",
              "    .dataframe thead th {\n",
              "        text-align: right;\n",
              "    }\n",
              "</style>\n",
              "<table border=\"1\" class=\"dataframe\">\n",
              "  <thead>\n",
              "    <tr style=\"text-align: right;\">\n",
              "      <th></th>\n",
              "      <th>T10</th>\n",
              "      <th>T50</th>\n",
              "      <th>T90</th>\n",
              "      <th>N+A</th>\n",
              "      <th>C5NP</th>\n",
              "      <th>C5IP</th>\n",
              "      <th>C5N</th>\n",
              "      <th>C6NP</th>\n",
              "      <th>C6IP</th>\n",
              "      <th>C6N</th>\n",
              "      <th>C6A</th>\n",
              "      <th>C7NP</th>\n",
              "      <th>C7IP</th>\n",
              "      <th>C7N</th>\n",
              "      <th>C7A</th>\n",
              "      <th>C8NP</th>\n",
              "      <th>C8IP</th>\n",
              "      <th>C8N</th>\n",
              "      <th>C8A</th>\n",
              "      <th>C9NP</th>\n",
              "      <th>C9IP</th>\n",
              "      <th>C9N</th>\n",
              "      <th>C9A</th>\n",
              "      <th>C10NP</th>\n",
              "      <th>C10IP</th>\n",
              "      <th>C10N</th>\n",
              "      <th>C10A</th>\n",
              "    </tr>\n",
              "  </thead>\n",
              "  <tbody>\n",
              "    <tr>\n",
              "      <th>0</th>\n",
              "      <td>100.5</td>\n",
              "      <td>119.2</td>\n",
              "      <td>146.5</td>\n",
              "      <td>31.978</td>\n",
              "      <td>0.272</td>\n",
              "      <td>0.132</td>\n",
              "      <td>0.059</td>\n",
              "      <td>5.293</td>\n",
              "      <td>2.570</td>\n",
              "      <td>2.819</td>\n",
              "      <td>0.494</td>\n",
              "      <td>10.395</td>\n",
              "      <td>8.070</td>\n",
              "      <td>6.411</td>\n",
              "      <td>2.917</td>\n",
              "      <td>9.138</td>\n",
              "      <td>9.649</td>\n",
              "      <td>4.810</td>\n",
              "      <td>5.373</td>\n",
              "      <td>6.405</td>\n",
              "      <td>9.759</td>\n",
              "      <td>4.590</td>\n",
              "      <td>3.661</td>\n",
              "      <td>0.875</td>\n",
              "      <td>5.257</td>\n",
              "      <td>0.525</td>\n",
              "      <td>0.319</td>\n",
              "    </tr>\n",
              "    <tr>\n",
              "      <th>1</th>\n",
              "      <td>99.6</td>\n",
              "      <td>117.9</td>\n",
              "      <td>145.5</td>\n",
              "      <td>31.568</td>\n",
              "      <td>0.297</td>\n",
              "      <td>0.151</td>\n",
              "      <td>0.062</td>\n",
              "      <td>5.089</td>\n",
              "      <td>2.531</td>\n",
              "      <td>2.804</td>\n",
              "      <td>0.499</td>\n",
              "      <td>10.074</td>\n",
              "      <td>7.958</td>\n",
              "      <td>6.395</td>\n",
              "      <td>2.894</td>\n",
              "      <td>8.970</td>\n",
              "      <td>9.548</td>\n",
              "      <td>4.753</td>\n",
              "      <td>5.443</td>\n",
              "      <td>6.324</td>\n",
              "      <td>9.899</td>\n",
              "      <td>4.301</td>\n",
              "      <td>2.995</td>\n",
              "      <td>0.881</td>\n",
              "      <td>5.591</td>\n",
              "      <td>1.119</td>\n",
              "      <td>0.303</td>\n",
              "    </tr>\n",
              "    <tr>\n",
              "      <th>2</th>\n",
              "      <td>100.0</td>\n",
              "      <td>118.8</td>\n",
              "      <td>145.6</td>\n",
              "      <td>31.344</td>\n",
              "      <td>0.262</td>\n",
              "      <td>0.126</td>\n",
              "      <td>0.061</td>\n",
              "      <td>5.107</td>\n",
              "      <td>2.571</td>\n",
              "      <td>2.771</td>\n",
              "      <td>0.492</td>\n",
              "      <td>10.069</td>\n",
              "      <td>7.913</td>\n",
              "      <td>6.378</td>\n",
              "      <td>2.890</td>\n",
              "      <td>9.006</td>\n",
              "      <td>9.591</td>\n",
              "      <td>4.778</td>\n",
              "      <td>5.468</td>\n",
              "      <td>6.360</td>\n",
              "      <td>9.983</td>\n",
              "      <td>4.274</td>\n",
              "      <td>2.979</td>\n",
              "      <td>0.865</td>\n",
              "      <td>5.641</td>\n",
              "      <td>0.964</td>\n",
              "      <td>0.289</td>\n",
              "    </tr>\n",
              "    <tr>\n",
              "      <th>3</th>\n",
              "      <td>100.4</td>\n",
              "      <td>118.6</td>\n",
              "      <td>142.9</td>\n",
              "      <td>31.453</td>\n",
              "      <td>0.224</td>\n",
              "      <td>0.105</td>\n",
              "      <td>0.060</td>\n",
              "      <td>4.894</td>\n",
              "      <td>2.497</td>\n",
              "      <td>2.650</td>\n",
              "      <td>0.469</td>\n",
              "      <td>10.015</td>\n",
              "      <td>7.685</td>\n",
              "      <td>6.376</td>\n",
              "      <td>2.866</td>\n",
              "      <td>9.133</td>\n",
              "      <td>9.708</td>\n",
              "      <td>4.889</td>\n",
              "      <td>5.510</td>\n",
              "      <td>6.444</td>\n",
              "      <td>10.182</td>\n",
              "      <td>4.420</td>\n",
              "      <td>2.964</td>\n",
              "      <td>0.830</td>\n",
              "      <td>5.637</td>\n",
              "      <td>0.968</td>\n",
              "      <td>0.281</td>\n",
              "    </tr>\n",
              "    <tr>\n",
              "      <th>4</th>\n",
              "      <td>100.4</td>\n",
              "      <td>118.1</td>\n",
              "      <td>142.2</td>\n",
              "      <td>32.190</td>\n",
              "      <td>0.243</td>\n",
              "      <td>0.117</td>\n",
              "      <td>0.061</td>\n",
              "      <td>4.946</td>\n",
              "      <td>2.503</td>\n",
              "      <td>2.695</td>\n",
              "      <td>0.477</td>\n",
              "      <td>10.053</td>\n",
              "      <td>7.765</td>\n",
              "      <td>6.394</td>\n",
              "      <td>2.877</td>\n",
              "      <td>9.101</td>\n",
              "      <td>9.676</td>\n",
              "      <td>4.855</td>\n",
              "      <td>5.500</td>\n",
              "      <td>6.416</td>\n",
              "      <td>10.115</td>\n",
              "      <td>4.347</td>\n",
              "      <td>3.725</td>\n",
              "      <td>0.835</td>\n",
              "      <td>4.823</td>\n",
              "      <td>0.969</td>\n",
              "      <td>0.290</td>\n",
              "    </tr>\n",
              "  </tbody>\n",
              "</table>\n",
              "</div>"
            ],
            "text/plain": [
              "     T10    T50    T90     N+A   C5NP  ...    C9A  C10NP  C10IP   C10N   C10A\n",
              "0  100.5  119.2  146.5  31.978  0.272  ...  3.661  0.875  5.257  0.525  0.319\n",
              "1   99.6  117.9  145.5  31.568  0.297  ...  2.995  0.881  5.591  1.119  0.303\n",
              "2  100.0  118.8  145.6  31.344  0.262  ...  2.979  0.865  5.641  0.964  0.289\n",
              "3  100.4  118.6  142.9  31.453  0.224  ...  2.964  0.830  5.637  0.968  0.281\n",
              "4  100.4  118.1  142.2  32.190  0.243  ...  3.725  0.835  4.823  0.969  0.290\n",
              "\n",
              "[5 rows x 27 columns]"
            ]
          },
          "metadata": {
            "tags": []
          },
          "execution_count": 143
        }
      ]
    },
    {
      "cell_type": "markdown",
      "metadata": {
        "id": "m9YcMTAdepcM",
        "colab_type": "text"
      },
      "source": [
        "# 整理資料"
      ]
    },
    {
      "cell_type": "code",
      "metadata": {
        "id": "psvyukgQczo9",
        "colab_type": "code",
        "outputId": "88c7cf4e-786f-421e-addc-ae649aac6717",
        "colab": {
          "base_uri": "https://localhost:8080/",
          "height": 70
        }
      },
      "source": [
        "test_200 = test_250.loc[ test_250.index % 5 != 0 ,:]#5不可整除\n",
        "test_50 = test_250.loc[ test_250.index % 5 == 0 ,:]#5可以整除\n",
        "train = train.append(test_200)#200筆加入train\n",
        "print(train.shape)#4721\n",
        "print(test_170.shape)#170\n",
        "print(test_50.shape)#50"
      ],
      "execution_count": 144,
      "outputs": [
        {
          "output_type": "stream",
          "text": [
            "(4721, 27)\n",
            "(170, 27)\n",
            "(50, 27)\n"
          ],
          "name": "stdout"
        }
      ]
    },
    {
      "cell_type": "markdown",
      "metadata": {
        "id": "1siqb5STetJ8",
        "colab_type": "text"
      },
      "source": [
        "# def features y_name"
      ]
    },
    {
      "cell_type": "code",
      "metadata": {
        "id": "gcb1TzlPdLqt",
        "colab_type": "code",
        "colab": {}
      },
      "source": [
        "features = ['T10','T50','T90','N+A']\n",
        "y_name = 'C10A'"
      ],
      "execution_count": 0,
      "outputs": []
    },
    {
      "cell_type": "markdown",
      "metadata": {
        "id": "NV57oi9nePTE",
        "colab_type": "text"
      },
      "source": [
        "# features scaler"
      ]
    },
    {
      "cell_type": "code",
      "metadata": {
        "id": "1htHboYzePcD",
        "colab_type": "code",
        "outputId": "ece63d44-20a9-45cc-dc4f-6ccb52b147a1",
        "colab": {
          "base_uri": "https://localhost:8080/",
          "height": 194
        }
      },
      "source": [
        "from sklearn.preprocessing import StandardScaler\n",
        "\n",
        "scaler = StandardScaler().fit(train[features])\n",
        "\n",
        "train[features] = scaler.transform(train[features])\n",
        "test_170[features] = scaler.transform(test_170[features])\n",
        "test_50[features] = scaler.transform(test_50[features])\n",
        "\n",
        "train.head()"
      ],
      "execution_count": 146,
      "outputs": [
        {
          "output_type": "execute_result",
          "data": {
            "text/html": [
              "<div>\n",
              "<style scoped>\n",
              "    .dataframe tbody tr th:only-of-type {\n",
              "        vertical-align: middle;\n",
              "    }\n",
              "\n",
              "    .dataframe tbody tr th {\n",
              "        vertical-align: top;\n",
              "    }\n",
              "\n",
              "    .dataframe thead th {\n",
              "        text-align: right;\n",
              "    }\n",
              "</style>\n",
              "<table border=\"1\" class=\"dataframe\">\n",
              "  <thead>\n",
              "    <tr style=\"text-align: right;\">\n",
              "      <th></th>\n",
              "      <th>T10</th>\n",
              "      <th>T50</th>\n",
              "      <th>T90</th>\n",
              "      <th>N+A</th>\n",
              "      <th>C5NP</th>\n",
              "      <th>C5IP</th>\n",
              "      <th>C5N</th>\n",
              "      <th>C6NP</th>\n",
              "      <th>C6IP</th>\n",
              "      <th>C6N</th>\n",
              "      <th>C6A</th>\n",
              "      <th>C7NP</th>\n",
              "      <th>C7IP</th>\n",
              "      <th>C7N</th>\n",
              "      <th>C7A</th>\n",
              "      <th>C8NP</th>\n",
              "      <th>C8IP</th>\n",
              "      <th>C8N</th>\n",
              "      <th>C8A</th>\n",
              "      <th>C9NP</th>\n",
              "      <th>C9IP</th>\n",
              "      <th>C9N</th>\n",
              "      <th>C9A</th>\n",
              "      <th>C10NP</th>\n",
              "      <th>C10IP</th>\n",
              "      <th>C10N</th>\n",
              "      <th>C10A</th>\n",
              "    </tr>\n",
              "  </thead>\n",
              "  <tbody>\n",
              "    <tr>\n",
              "      <th>0</th>\n",
              "      <td>0.457444</td>\n",
              "      <td>0.556351</td>\n",
              "      <td>0.439809</td>\n",
              "      <td>-1.047568</td>\n",
              "      <td>0.272</td>\n",
              "      <td>0.132</td>\n",
              "      <td>0.059</td>\n",
              "      <td>5.293</td>\n",
              "      <td>2.570</td>\n",
              "      <td>2.819</td>\n",
              "      <td>0.494</td>\n",
              "      <td>10.395</td>\n",
              "      <td>8.070</td>\n",
              "      <td>6.411</td>\n",
              "      <td>2.917</td>\n",
              "      <td>9.138</td>\n",
              "      <td>9.649</td>\n",
              "      <td>4.810</td>\n",
              "      <td>5.373</td>\n",
              "      <td>6.405</td>\n",
              "      <td>9.759</td>\n",
              "      <td>4.590</td>\n",
              "      <td>3.661</td>\n",
              "      <td>0.875</td>\n",
              "      <td>5.257</td>\n",
              "      <td>0.525</td>\n",
              "      <td>0.319</td>\n",
              "    </tr>\n",
              "    <tr>\n",
              "      <th>1</th>\n",
              "      <td>0.379525</td>\n",
              "      <td>0.366234</td>\n",
              "      <td>0.226254</td>\n",
              "      <td>-1.096167</td>\n",
              "      <td>0.297</td>\n",
              "      <td>0.151</td>\n",
              "      <td>0.062</td>\n",
              "      <td>5.089</td>\n",
              "      <td>2.531</td>\n",
              "      <td>2.804</td>\n",
              "      <td>0.499</td>\n",
              "      <td>10.074</td>\n",
              "      <td>7.958</td>\n",
              "      <td>6.395</td>\n",
              "      <td>2.894</td>\n",
              "      <td>8.970</td>\n",
              "      <td>9.548</td>\n",
              "      <td>4.753</td>\n",
              "      <td>5.443</td>\n",
              "      <td>6.324</td>\n",
              "      <td>9.899</td>\n",
              "      <td>4.301</td>\n",
              "      <td>2.995</td>\n",
              "      <td>0.881</td>\n",
              "      <td>5.591</td>\n",
              "      <td>1.119</td>\n",
              "      <td>0.303</td>\n",
              "    </tr>\n",
              "    <tr>\n",
              "      <th>2</th>\n",
              "      <td>0.414156</td>\n",
              "      <td>0.497854</td>\n",
              "      <td>0.247610</td>\n",
              "      <td>-1.122719</td>\n",
              "      <td>0.262</td>\n",
              "      <td>0.126</td>\n",
              "      <td>0.061</td>\n",
              "      <td>5.107</td>\n",
              "      <td>2.571</td>\n",
              "      <td>2.771</td>\n",
              "      <td>0.492</td>\n",
              "      <td>10.069</td>\n",
              "      <td>7.913</td>\n",
              "      <td>6.378</td>\n",
              "      <td>2.890</td>\n",
              "      <td>9.006</td>\n",
              "      <td>9.591</td>\n",
              "      <td>4.778</td>\n",
              "      <td>5.468</td>\n",
              "      <td>6.360</td>\n",
              "      <td>9.983</td>\n",
              "      <td>4.274</td>\n",
              "      <td>2.979</td>\n",
              "      <td>0.865</td>\n",
              "      <td>5.641</td>\n",
              "      <td>0.964</td>\n",
              "      <td>0.289</td>\n",
              "    </tr>\n",
              "    <tr>\n",
              "      <th>3</th>\n",
              "      <td>0.448786</td>\n",
              "      <td>0.468605</td>\n",
              "      <td>-0.328987</td>\n",
              "      <td>-1.109799</td>\n",
              "      <td>0.224</td>\n",
              "      <td>0.105</td>\n",
              "      <td>0.060</td>\n",
              "      <td>4.894</td>\n",
              "      <td>2.497</td>\n",
              "      <td>2.650</td>\n",
              "      <td>0.469</td>\n",
              "      <td>10.015</td>\n",
              "      <td>7.685</td>\n",
              "      <td>6.376</td>\n",
              "      <td>2.866</td>\n",
              "      <td>9.133</td>\n",
              "      <td>9.708</td>\n",
              "      <td>4.889</td>\n",
              "      <td>5.510</td>\n",
              "      <td>6.444</td>\n",
              "      <td>10.182</td>\n",
              "      <td>4.420</td>\n",
              "      <td>2.964</td>\n",
              "      <td>0.830</td>\n",
              "      <td>5.637</td>\n",
              "      <td>0.968</td>\n",
              "      <td>0.281</td>\n",
              "    </tr>\n",
              "    <tr>\n",
              "      <th>4</th>\n",
              "      <td>0.448786</td>\n",
              "      <td>0.395483</td>\n",
              "      <td>-0.478475</td>\n",
              "      <td>-1.022438</td>\n",
              "      <td>0.243</td>\n",
              "      <td>0.117</td>\n",
              "      <td>0.061</td>\n",
              "      <td>4.946</td>\n",
              "      <td>2.503</td>\n",
              "      <td>2.695</td>\n",
              "      <td>0.477</td>\n",
              "      <td>10.053</td>\n",
              "      <td>7.765</td>\n",
              "      <td>6.394</td>\n",
              "      <td>2.877</td>\n",
              "      <td>9.101</td>\n",
              "      <td>9.676</td>\n",
              "      <td>4.855</td>\n",
              "      <td>5.500</td>\n",
              "      <td>6.416</td>\n",
              "      <td>10.115</td>\n",
              "      <td>4.347</td>\n",
              "      <td>3.725</td>\n",
              "      <td>0.835</td>\n",
              "      <td>4.823</td>\n",
              "      <td>0.969</td>\n",
              "      <td>0.290</td>\n",
              "    </tr>\n",
              "  </tbody>\n",
              "</table>\n",
              "</div>"
            ],
            "text/plain": [
              "        T10       T50       T90       N+A  ...  C10NP  C10IP   C10N   C10A\n",
              "0  0.457444  0.556351  0.439809 -1.047568  ...  0.875  5.257  0.525  0.319\n",
              "1  0.379525  0.366234  0.226254 -1.096167  ...  0.881  5.591  1.119  0.303\n",
              "2  0.414156  0.497854  0.247610 -1.122719  ...  0.865  5.641  0.964  0.289\n",
              "3  0.448786  0.468605 -0.328987 -1.109799  ...  0.830  5.637  0.968  0.281\n",
              "4  0.448786  0.395483 -0.478475 -1.022438  ...  0.835  4.823  0.969  0.290\n",
              "\n",
              "[5 rows x 27 columns]"
            ]
          },
          "metadata": {
            "tags": []
          },
          "execution_count": 146
        }
      ]
    },
    {
      "cell_type": "markdown",
      "metadata": {
        "id": "DM89dDVNdyxj",
        "colab_type": "text"
      },
      "source": [
        "# CORR WITH X"
      ]
    },
    {
      "cell_type": "markdown",
      "metadata": {
        "id": "9dUcvQgyqUhF",
        "colab_type": "text"
      },
      "source": [
        "找找高相關特徵"
      ]
    },
    {
      "cell_type": "code",
      "metadata": {
        "id": "76L-I9CZdtwB",
        "colab_type": "code",
        "outputId": "8eb196a2-f740-429a-ce69-61850d2964b7",
        "colab": {
          "base_uri": "https://localhost:8080/",
          "height": 194
        }
      },
      "source": [
        "corr_x = train[features+[y_name]].corr()\n",
        "corr_x"
      ],
      "execution_count": 147,
      "outputs": [
        {
          "output_type": "execute_result",
          "data": {
            "text/html": [
              "<div>\n",
              "<style scoped>\n",
              "    .dataframe tbody tr th:only-of-type {\n",
              "        vertical-align: middle;\n",
              "    }\n",
              "\n",
              "    .dataframe tbody tr th {\n",
              "        vertical-align: top;\n",
              "    }\n",
              "\n",
              "    .dataframe thead th {\n",
              "        text-align: right;\n",
              "    }\n",
              "</style>\n",
              "<table border=\"1\" class=\"dataframe\">\n",
              "  <thead>\n",
              "    <tr style=\"text-align: right;\">\n",
              "      <th></th>\n",
              "      <th>T10</th>\n",
              "      <th>T50</th>\n",
              "      <th>T90</th>\n",
              "      <th>N+A</th>\n",
              "      <th>C10A</th>\n",
              "    </tr>\n",
              "  </thead>\n",
              "  <tbody>\n",
              "    <tr>\n",
              "      <th>T10</th>\n",
              "      <td>1.000000</td>\n",
              "      <td>0.895238</td>\n",
              "      <td>0.222087</td>\n",
              "      <td>-0.262210</td>\n",
              "      <td>-0.196389</td>\n",
              "    </tr>\n",
              "    <tr>\n",
              "      <th>T50</th>\n",
              "      <td>0.895238</td>\n",
              "      <td>1.000000</td>\n",
              "      <td>0.533778</td>\n",
              "      <td>-0.371996</td>\n",
              "      <td>0.028666</td>\n",
              "    </tr>\n",
              "    <tr>\n",
              "      <th>T90</th>\n",
              "      <td>0.222087</td>\n",
              "      <td>0.533778</td>\n",
              "      <td>1.000000</td>\n",
              "      <td>-0.217989</td>\n",
              "      <td>0.601330</td>\n",
              "    </tr>\n",
              "    <tr>\n",
              "      <th>N+A</th>\n",
              "      <td>-0.262210</td>\n",
              "      <td>-0.371996</td>\n",
              "      <td>-0.217989</td>\n",
              "      <td>1.000000</td>\n",
              "      <td>0.169956</td>\n",
              "    </tr>\n",
              "    <tr>\n",
              "      <th>C10A</th>\n",
              "      <td>-0.196389</td>\n",
              "      <td>0.028666</td>\n",
              "      <td>0.601330</td>\n",
              "      <td>0.169956</td>\n",
              "      <td>1.000000</td>\n",
              "    </tr>\n",
              "  </tbody>\n",
              "</table>\n",
              "</div>"
            ],
            "text/plain": [
              "           T10       T50       T90       N+A      C10A\n",
              "T10   1.000000  0.895238  0.222087 -0.262210 -0.196389\n",
              "T50   0.895238  1.000000  0.533778 -0.371996  0.028666\n",
              "T90   0.222087  0.533778  1.000000 -0.217989  0.601330\n",
              "N+A  -0.262210 -0.371996 -0.217989  1.000000  0.169956\n",
              "C10A -0.196389  0.028666  0.601330  0.169956  1.000000"
            ]
          },
          "metadata": {
            "tags": []
          },
          "execution_count": 147
        }
      ]
    },
    {
      "cell_type": "markdown",
      "metadata": {
        "id": "lwoksfZ6d2sy",
        "colab_type": "text"
      },
      "source": [
        "# CORR WITH Y"
      ]
    },
    {
      "cell_type": "markdown",
      "metadata": {
        "id": "P0mvM1SvqXcu",
        "colab_type": "text"
      },
      "source": [
        "找找高相關y"
      ]
    },
    {
      "cell_type": "code",
      "metadata": {
        "id": "wtaThFKPdxzh",
        "colab_type": "code",
        "outputId": "1bf3e08b-8465-49a9-98ad-0c7ae19898a9",
        "colab": {
          "base_uri": "https://localhost:8080/",
          "height": 96
        }
      },
      "source": [
        "corr_y = abs(train.iloc[:,4:].corr())[[y_name]].sort_values(by=y_name,ascending=False).T\n",
        "corr_y"
      ],
      "execution_count": 148,
      "outputs": [
        {
          "output_type": "execute_result",
          "data": {
            "text/html": [
              "<div>\n",
              "<style scoped>\n",
              "    .dataframe tbody tr th:only-of-type {\n",
              "        vertical-align: middle;\n",
              "    }\n",
              "\n",
              "    .dataframe tbody tr th {\n",
              "        vertical-align: top;\n",
              "    }\n",
              "\n",
              "    .dataframe thead th {\n",
              "        text-align: right;\n",
              "    }\n",
              "</style>\n",
              "<table border=\"1\" class=\"dataframe\">\n",
              "  <thead>\n",
              "    <tr style=\"text-align: right;\">\n",
              "      <th></th>\n",
              "      <th>C10A</th>\n",
              "      <th>C10N</th>\n",
              "      <th>C10NP</th>\n",
              "      <th>C7NP</th>\n",
              "      <th>C8NP</th>\n",
              "      <th>C8IP</th>\n",
              "      <th>C10IP</th>\n",
              "      <th>C7IP</th>\n",
              "      <th>C5NP</th>\n",
              "      <th>C9NP</th>\n",
              "      <th>C9IP</th>\n",
              "      <th>C9A</th>\n",
              "      <th>C5IP</th>\n",
              "      <th>C6IP</th>\n",
              "      <th>C7A</th>\n",
              "      <th>C8N</th>\n",
              "      <th>C9N</th>\n",
              "      <th>C6A</th>\n",
              "      <th>C7N</th>\n",
              "      <th>C5N</th>\n",
              "      <th>C8A</th>\n",
              "      <th>C6N</th>\n",
              "      <th>C6NP</th>\n",
              "    </tr>\n",
              "  </thead>\n",
              "  <tbody>\n",
              "    <tr>\n",
              "      <th>C10A</th>\n",
              "      <td>1.0</td>\n",
              "      <td>0.608718</td>\n",
              "      <td>0.495984</td>\n",
              "      <td>0.341963</td>\n",
              "      <td>0.331432</td>\n",
              "      <td>0.290339</td>\n",
              "      <td>0.282703</td>\n",
              "      <td>0.264663</td>\n",
              "      <td>0.223847</td>\n",
              "      <td>0.222245</td>\n",
              "      <td>0.184332</td>\n",
              "      <td>0.151667</td>\n",
              "      <td>0.14791</td>\n",
              "      <td>0.147246</td>\n",
              "      <td>0.143193</td>\n",
              "      <td>0.141746</td>\n",
              "      <td>0.116914</td>\n",
              "      <td>0.105128</td>\n",
              "      <td>0.091675</td>\n",
              "      <td>0.077997</td>\n",
              "      <td>0.070466</td>\n",
              "      <td>0.057961</td>\n",
              "      <td>0.014616</td>\n",
              "    </tr>\n",
              "  </tbody>\n",
              "</table>\n",
              "</div>"
            ],
            "text/plain": [
              "      C10A      C10N     C10NP  ...       C8A       C6N      C6NP\n",
              "C10A   1.0  0.608718  0.495984  ...  0.070466  0.057961  0.014616\n",
              "\n",
              "[1 rows x 23 columns]"
            ]
          },
          "metadata": {
            "tags": []
          },
          "execution_count": 148
        }
      ]
    },
    {
      "cell_type": "markdown",
      "metadata": {
        "id": "JD4OJOIPeGJL",
        "colab_type": "text"
      },
      "source": [
        "# 特徵工程"
      ]
    },
    {
      "cell_type": "code",
      "metadata": {
        "id": "OiOUgsf9d4kt",
        "colab_type": "code",
        "colab": {}
      },
      "source": [
        "train['F1'] = train['T90'] -train['T10']\n",
        "test_170['F1'] = test_170['T90'] -test_170['T10']\n",
        "test_50['F1'] = test_50['T90'] - test_50['T10']"
      ],
      "execution_count": 0,
      "outputs": []
    },
    {
      "cell_type": "markdown",
      "metadata": {
        "id": "ZkM34rwcjcmq",
        "colab_type": "text"
      },
      "source": [
        "# 檢查相關性"
      ]
    },
    {
      "cell_type": "markdown",
      "metadata": {
        "id": "LRyjmSlgqemi",
        "colab_type": "text"
      },
      "source": [
        "這裡希望看到是漂亮的線性相關"
      ]
    },
    {
      "cell_type": "code",
      "metadata": {
        "id": "klofDmm-gY-g",
        "colab_type": "code",
        "outputId": "420fe4ab-e7fd-4b0f-b4d1-74363f57991d",
        "colab": {
          "base_uri": "https://localhost:8080/",
          "height": 368
        }
      },
      "source": [
        "sns.scatterplot(x='F1',y=y_name,data=train)\n",
        "plt.show()\n",
        "train.corr().loc[['F1',y_name],['F1',y_name]]"
      ],
      "execution_count": 150,
      "outputs": [
        {
          "output_type": "display_data",
          "data": {
            "image/png": "[encoded data removed]",
            "text/plain": [
              "<Figure size 432x288 with 1 Axes>"
            ]
          },
          "metadata": {
            "tags": []
          }
        },
        {
          "output_type": "execute_result",
          "data": {
            "text/html": [
              "<div>\n",
              "<style scoped>\n",
              "    .dataframe tbody tr th:only-of-type {\n",
              "        vertical-align: middle;\n",
              "    }\n",
              "\n",
              "    .dataframe tbody tr th {\n",
              "        vertical-align: top;\n",
              "    }\n",
              "\n",
              "    .dataframe thead th {\n",
              "        text-align: right;\n",
              "    }\n",
              "</style>\n",
              "<table border=\"1\" class=\"dataframe\">\n",
              "  <thead>\n",
              "    <tr style=\"text-align: right;\">\n",
              "      <th></th>\n",
              "      <th>F1</th>\n",
              "      <th>C10A</th>\n",
              "    </tr>\n",
              "  </thead>\n",
              "  <tbody>\n",
              "    <tr>\n",
              "      <th>F1</th>\n",
              "      <td>1.000000</td>\n",
              "      <td>0.639542</td>\n",
              "    </tr>\n",
              "    <tr>\n",
              "      <th>C10A</th>\n",
              "      <td>0.639542</td>\n",
              "      <td>1.000000</td>\n",
              "    </tr>\n",
              "  </tbody>\n",
              "</table>\n",
              "</div>"
            ],
            "text/plain": [
              "            F1      C10A\n",
              "F1    1.000000  0.639542\n",
              "C10A  0.639542  1.000000"
            ]
          },
          "metadata": {
            "tags": []
          },
          "execution_count": 150
        }
      ]
    },
    {
      "cell_type": "markdown",
      "metadata": {
        "id": "ISwKDxU9kLtA",
        "colab_type": "text"
      },
      "source": [
        "# modeling"
      ]
    },
    {
      "cell_type": "markdown",
      "metadata": {
        "id": "mPIja4ebqvMv",
        "colab_type": "text"
      },
      "source": [
        "評分指標"
      ]
    },
    {
      "cell_type": "code",
      "metadata": {
        "id": "nsTlh6H3lW9l",
        "colab_type": "code",
        "colab": {}
      },
      "source": [
        "from sklearn.metrics import r2_score,mean_squared_error,mean_absolute_error\n",
        "from math import sqrt\n",
        "def metric(y_t,y_p,name):\n",
        "  res = {'R2':r2_score(y_t,y_p),\n",
        "         'RMSE':sqrt(mean_squared_error(y_t,y_p)),\n",
        "         'mean_absolute_error':mean_absolute_error(y_t,y_p)}\n",
        "  return pd.DataFrame(res,index=[name])"
      ],
      "execution_count": 0,
      "outputs": []
    },
    {
      "cell_type": "code",
      "metadata": {
        "id": "fQMyc1UIjuVg",
        "colab_type": "code",
        "outputId": "7f698e76-7490-4c70-aa59-5ade250508e1",
        "colab": {
          "base_uri": "https://localhost:8080/",
          "height": 52
        }
      },
      "source": [
        "import xgboost\n",
        "from sklearn.svm import SVR\n",
        "from math import sqrt\n",
        "from lightgbm import LGBMRegressor\n",
        "from sklearn.ensemble import VotingRegressor\n",
        "from sklearn.model_selection import cross_validate\n",
        "from sklearn.linear_model import LinearRegression\n",
        "from sklearn.tree import DecisionTreeRegressor\n",
        "import warnings \n",
        "warnings.simplefilter('ignore')\n",
        "\n",
        "#選擇模型\n",
        "#model = DecisionTreeRegressor(max_depth=3)\n",
        "#model = xgboost.XGBRegressor(objective='reg:squarederror')\n",
        "#model = SVR()\n",
        "model = LinearRegression()\n",
        "\n",
        "#交叉驗證\n",
        "val_scores = cross_validate(model,train[['F1']],train[y_name],cv=5)\n",
        "\n",
        "#交叉驗證結果\n",
        "print('交叉驗證分數:',val_scores['test_score'])\n",
        "print('交叉驗證平均分數:',val_scores['test_score'].mean())"
      ],
      "execution_count": 152,
      "outputs": [
        {
          "output_type": "stream",
          "text": [
            "交叉驗證分數: [-0.91433797  0.30269776  0.66337561  0.27993969  0.41633319]\n",
            "交叉驗證平均分數: 0.14960165662000757\n"
          ],
          "name": "stdout"
        }
      ]
    },
    {
      "cell_type": "markdown",
      "metadata": {
        "id": "UPBI1r7uk7j3",
        "colab_type": "text"
      },
      "source": [
        "# fit & predict"
      ]
    },
    {
      "cell_type": "code",
      "metadata": {
        "id": "T5LAaXc4kSAr",
        "colab_type": "code",
        "colab": {}
      },
      "source": [
        "# fit \n",
        "model.fit(train[['F1']],train[y_name])\n",
        "# predict\n",
        "train['y_pred'] = model.predict(train[['F1']])\n",
        "test_170['y_pred'] = model.predict(test_170[['F1']])\n",
        "test_50['y_pred'] = model.predict(test_50[['F1']])"
      ],
      "execution_count": 0,
      "outputs": []
    },
    {
      "cell_type": "markdown",
      "metadata": {
        "id": "_4GSs_xZoQOF",
        "colab_type": "text"
      },
      "source": [
        "# plot"
      ]
    },
    {
      "cell_type": "markdown",
      "metadata": {
        "id": "9rs_qDerpq3e",
        "colab_type": "text"
      },
      "source": [
        "data for plot"
      ]
    },
    {
      "cell_type": "code",
      "metadata": {
        "id": "iCIJO39Rob_L",
        "colab_type": "code",
        "colab": {}
      },
      "source": [
        "by_col = 'F1'\n",
        "train_sample_point = train.sample(1000).sort_values(by = by_col)\n",
        "test_170_point = test_170.sort_values(by = by_col)\n",
        "test_50_point = test_50.sort_values(by = by_col)"
      ],
      "execution_count": 0,
      "outputs": []
    },
    {
      "cell_type": "markdown",
      "metadata": {
        "id": "jG-FvtFfpsTA",
        "colab_type": "text"
      },
      "source": [
        "plot function"
      ]
    },
    {
      "cell_type": "code",
      "metadata": {
        "id": "z8gcWE__o409",
        "colab_type": "code",
        "colab": {}
      },
      "source": [
        "def pred_plot(df,by_col,name):\n",
        "  plt.plot(df[by_col],df['y_pred'],label= name+'_pred',color='red')\n",
        "  plt.scatter(df[by_col],df[y_name],label= name+'_point')\n",
        "  plt.xlabel(by_col)\n",
        "  plt.ylabel(y_name)\n",
        "  plt.legend()"
      ],
      "execution_count": 0,
      "outputs": []
    },
    {
      "cell_type": "code",
      "metadata": {
        "id": "6YKTx82XpdM_",
        "colab_type": "code",
        "outputId": "5c652794-741e-4cdd-ddc8-67994d296c4c",
        "colab": {
          "base_uri": "https://localhost:8080/",
          "height": 452
        }
      },
      "source": [
        "fig = plt.figure(figsize=(20,5))\n",
        "\n",
        "pred_plot(train_sample_point,by_col,name='train')\n",
        "pred_plot(test_170_point,by_col,name='test170')\n",
        "pred_plot(test_50_point,by_col,name='test50')\n",
        "plt.show()\n",
        "\n",
        "metric(train[y_name],train['y_pred'],name='train').append(\n",
        "metric(test_170[y_name],test_170['y_pred'],name='test170')).append(\n",
        "metric(test_50[y_name],test_50['y_pred'],name='test50'))"
      ],
      "execution_count": 156,
      "outputs": [
        {
          "output_type": "display_data",
          "data": {
            "image/png": "[encoded data removed]",
            "text/plain": [
              "<Figure size 1440x360 with 1 Axes>"
            ]
          },
          "metadata": {
            "tags": []
          }
        },
        {
          "output_type": "execute_result",
          "data": {
            "text/html": [
              "<div>\n",
              "<style scoped>\n",
              "    .dataframe tbody tr th:only-of-type {\n",
              "        vertical-align: middle;\n",
              "    }\n",
              "\n",
              "    .dataframe tbody tr th {\n",
              "        vertical-align: top;\n",
              "    }\n",
              "\n",
              "    .dataframe thead th {\n",
              "        text-align: right;\n",
              "    }\n",
              "</style>\n",
              "<table border=\"1\" class=\"dataframe\">\n",
              "  <thead>\n",
              "    <tr style=\"text-align: right;\">\n",
              "      <th></th>\n",
              "      <th>R2</th>\n",
              "      <th>RMSE</th>\n",
              "      <th>mean_absolute_error</th>\n",
              "    </tr>\n",
              "  </thead>\n",
              "  <tbody>\n",
              "    <tr>\n",
              "      <th>train</th>\n",
              "      <td>0.409014</td>\n",
              "      <td>0.414500</td>\n",
              "      <td>0.270201</td>\n",
              "    </tr>\n",
              "    <tr>\n",
              "      <th>test170</th>\n",
              "      <td>0.291016</td>\n",
              "      <td>0.196259</td>\n",
              "      <td>0.133018</td>\n",
              "    </tr>\n",
              "    <tr>\n",
              "      <th>test50</th>\n",
              "      <td>0.379217</td>\n",
              "      <td>0.559284</td>\n",
              "      <td>0.464664</td>\n",
              "    </tr>\n",
              "  </tbody>\n",
              "</table>\n",
              "</div>"
            ],
            "text/plain": [
              "               R2      RMSE  mean_absolute_error\n",
              "train    0.409014  0.414500             0.270201\n",
              "test170  0.291016  0.196259             0.133018\n",
              "test50   0.379217  0.559284             0.464664"
            ]
          },
          "metadata": {
            "tags": []
          },
          "execution_count": 156
        }
      ]
    },
    {
      "cell_type": "markdown",
      "metadata": {
        "id": "pfQ1yPb5rFgU",
        "colab_type": "text"
      },
      "source": [
        "# check outliers"
      ]
    },
    {
      "cell_type": "code",
      "metadata": {
        "id": "J2VOBltdngwI",
        "colab_type": "code",
        "outputId": "8aee2571-0eae-4a8e-f22f-860269c2a569",
        "colab": {
          "base_uri": "https://localhost:8080/",
          "height": 124
        }
      },
      "source": [
        "loss = (test_170_point[y_name] - test_170_point['y_pred'])**2 # 平方誤差\n",
        "loss = loss.sort_values(ascending=False)#排序\n",
        "#新增out欄位\n",
        "test_170_point['out'] = False \n",
        "test_170_point.loc[loss[loss>0.4].index,'out'] = True\n",
        "print(loss.head(5))"
      ],
      "execution_count": 157,
      "outputs": [
        {
          "output_type": "stream",
          "text": [
            "19    0.454729\n",
            "11    0.422203\n",
            "12    0.407514\n",
            "18    0.390993\n",
            "17    0.376196\n",
            "dtype: float64\n"
          ],
          "name": "stdout"
        }
      ]
    },
    {
      "cell_type": "code",
      "metadata": {
        "id": "OR23J1k4rRgD",
        "colab_type": "code",
        "outputId": "6bcf783a-38e3-46e4-9643-9f5314bc9ff4",
        "colab": {
          "base_uri": "https://localhost:8080/",
          "height": 124
        }
      },
      "source": [
        "loss = (test_50_point[y_name] - test_50_point['y_pred'])**2 # 平方誤差\n",
        "loss = loss.sort_values(ascending=False)#排序\n",
        "#新增out欄位\n",
        "test_50_point['out'] = False\n",
        "test_50_point.loc[loss[loss>0.4].index,'out'] = True\n",
        "print(loss.head(5))"
      ],
      "execution_count": 158,
      "outputs": [
        {
          "output_type": "stream",
          "text": [
            "175    1.520609\n",
            "140    1.493509\n",
            "70     1.286644\n",
            "100    1.163803\n",
            "45     1.015760\n",
            "dtype: float64\n"
          ],
          "name": "stdout"
        }
      ]
    },
    {
      "cell_type": "markdown",
      "metadata": {
        "id": "zB8CpMfRryC7",
        "colab_type": "text"
      },
      "source": [
        "# plot out"
      ]
    },
    {
      "cell_type": "code",
      "metadata": {
        "id": "ubjWpaOUxTl7",
        "colab_type": "code",
        "colab": {}
      },
      "source": [
        "def d_out_score(df,name):\n",
        "  df = df.loc[df['out'] == False]\n",
        "  return metric(df[y_name],df['y_pred'],name)"
      ],
      "execution_count": 0,
      "outputs": []
    },
    {
      "cell_type": "code",
      "metadata": {
        "id": "4Q8A2DEjsuZO",
        "colab_type": "code",
        "colab": {}
      },
      "source": [
        "def plot_out(df):\n",
        "  fig = plt.figure(figsize=(20,5))\n",
        "  out_point = df[df['out'] == True]\n",
        "  plt.plot(df[by_col],df['y_pred'],label='pred line',color='red')\n",
        "  plt.scatter(df[by_col],df[y_name],label='test point')\n",
        "  plt.scatter(out_point[by_col],out_point[y_name],label='out point',color='orange')\n",
        "  plt.xlabel(by_col)\n",
        "  plt.ylabel(y_name)\n",
        "  plt.legend()\n",
        "  plt.show()"
      ],
      "execution_count": 0,
      "outputs": []
    },
    {
      "cell_type": "code",
      "metadata": {
        "id": "wv_MWV1QrvcR",
        "colab_type": "code",
        "outputId": "88d5ecd3-4837-4872-d085-8e28e83452a2",
        "colab": {
          "base_uri": "https://localhost:8080/",
          "height": 394
        }
      },
      "source": [
        "plot_out(test_170_point)\n",
        "plt.show()\n",
        "d_out_score(test_170_point,'test170')"
      ],
      "execution_count": 161,
      "outputs": [
        {
          "output_type": "display_data",
          "data": {
            "image/png": "[encoded data removed]",
            "text/plain": [
              "<Figure size 1440x360 with 1 Axes>"
            ]
          },
          "metadata": {
            "tags": []
          }
        },
        {
          "output_type": "execute_result",
          "data": {
            "text/html": [
              "<div>\n",
              "<style scoped>\n",
              "    .dataframe tbody tr th:only-of-type {\n",
              "        vertical-align: middle;\n",
              "    }\n",
              "\n",
              "    .dataframe tbody tr th {\n",
              "        vertical-align: top;\n",
              "    }\n",
              "\n",
              "    .dataframe thead th {\n",
              "        text-align: right;\n",
              "    }\n",
              "</style>\n",
              "<table border=\"1\" class=\"dataframe\">\n",
              "  <thead>\n",
              "    <tr style=\"text-align: right;\">\n",
              "      <th></th>\n",
              "      <th>R2</th>\n",
              "      <th>RMSE</th>\n",
              "      <th>mean_absolute_error</th>\n",
              "    </tr>\n",
              "  </thead>\n",
              "  <tbody>\n",
              "    <tr>\n",
              "      <th>test170</th>\n",
              "      <td>0.31569</td>\n",
              "      <td>0.177534</td>\n",
              "      <td>0.123657</td>\n",
              "    </tr>\n",
              "  </tbody>\n",
              "</table>\n",
              "</div>"
            ],
            "text/plain": [
              "              R2      RMSE  mean_absolute_error\n",
              "test170  0.31569  0.177534             0.123657"
            ]
          },
          "metadata": {
            "tags": []
          },
          "execution_count": 161
        }
      ]
    },
    {
      "cell_type": "code",
      "metadata": {
        "id": "nVOFZy5GsBr4",
        "colab_type": "code",
        "outputId": "08daeb09-de4a-4b7d-81b2-c5646c3c5967",
        "colab": {
          "base_uri": "https://localhost:8080/",
          "height": 394
        }
      },
      "source": [
        "plot_out(test_50_point)\n",
        "plt.show()\n",
        "d_out_score(test_50_point,'test50')"
      ],
      "execution_count": 162,
      "outputs": [
        {
          "output_type": "display_data",
          "data": {
            "image/png": "[encoded data removed]",
            "text/plain": [
              "<Figure size 1440x360 with 1 Axes>"
            ]
          },
          "metadata": {
            "tags": []
          }
        },
        {
          "output_type": "execute_result",
          "data": {
            "text/html": [
              "<div>\n",
              "<style scoped>\n",
              "    .dataframe tbody tr th:only-of-type {\n",
              "        vertical-align: middle;\n",
              "    }\n",
              "\n",
              "    .dataframe tbody tr th {\n",
              "        vertical-align: top;\n",
              "    }\n",
              "\n",
              "    .dataframe thead th {\n",
              "        text-align: right;\n",
              "    }\n",
              "</style>\n",
              "<table border=\"1\" class=\"dataframe\">\n",
              "  <thead>\n",
              "    <tr style=\"text-align: right;\">\n",
              "      <th></th>\n",
              "      <th>R2</th>\n",
              "      <th>RMSE</th>\n",
              "      <th>mean_absolute_error</th>\n",
              "    </tr>\n",
              "  </thead>\n",
              "  <tbody>\n",
              "    <tr>\n",
              "      <th>test50</th>\n",
              "      <td>0.371987</td>\n",
              "      <td>0.363973</td>\n",
              "      <td>0.322337</td>\n",
              "    </tr>\n",
              "  </tbody>\n",
              "</table>\n",
              "</div>"
            ],
            "text/plain": [
              "              R2      RMSE  mean_absolute_error\n",
              "test50  0.371987  0.363973             0.322337"
            ]
          },
          "metadata": {
            "tags": []
          },
          "execution_count": 162
        }
      ]
    },
    {
      "cell_type": "code",
      "metadata": {
        "id": "v6hoOC43vaIQ",
        "colab_type": "code",
        "colab": {}
      },
      "source": [
        ""
      ],
      "execution_count": 0,
      "outputs": []
    }
  ]
}