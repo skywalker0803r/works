{
  "nbformat": 4,
  "nbformat_minor": 0,
  "metadata": {
    "colab": {
      "name": "質量平衡後處理方法.ipynb",
      "provenance": [],
      "collapsed_sections": [],
      "mount_file_id": "1z2hdbYTTcoTiXlUK-QZz9D6ep5X-oZaE",
      "authorship_tag": "ABX9TyNVA7JylBGn8lFqRtN91OnE",
      "include_colab_link": true
    },
    "kernelspec": {
      "name": "python3",
      "display_name": "Python 3"
    }
  },
  "cells": [
    {
      "cell_type": "markdown",
      "metadata": {
        "id": "view-in-github",
        "colab_type": "text"
      },
      "source": [
        "<a href=\"https://colab.research.google.com/github/skywalker0803r/works/blob/master/%E8%B3%AA%E9%87%8F%E5%B9%B3%E8%A1%A1%E5%BE%8C%E8%99%95%E7%90%86%E6%96%B9%E6%B3%95.ipynb\" target=\"_parent\"><img src=\"https://colab.research.google.com/assets/colab-badge.svg\" alt=\"Open In Colab\"/></a>"
      ]
    },
    {
      "cell_type": "code",
      "metadata": {
        "id": "PBHp3fG6u_uv"
      },
      "source": [
        "import pandas as pd"
      ],
      "execution_count": 5,
      "outputs": []
    },
    {
      "cell_type": "code",
      "metadata": {
        "colab": {
          "base_uri": "https://localhost:8080/"
        },
        "id": "geDKRy-rvSgX",
        "outputId": "a4fb78c0-58e6-4f8c-c48b-3e4e4155113f"
      },
      "source": [
        "from google.colab import drive\n",
        "drive.mount('/content/drive')"
      ],
      "execution_count": 6,
      "outputs": [
        {
          "output_type": "stream",
          "text": [
            "Drive already mounted at /content/drive; to attempt to forcibly remount, call drive.mount(\"/content/drive\", force_remount=True).\n"
          ],
          "name": "stdout"
        }
      ]
    },
    {
      "cell_type": "code",
      "metadata": {
        "id": "NmvmOCSqvUAU"
      },
      "source": [
        "train_df = pd.read_csv('/content/drive/MyDrive/台塑輕油案子/data/phase1/train_4565.csv',index_col=0)\n",
        "test_df = pd.read_csv('/content/drive/MyDrive/台塑輕油案子/data/phase1/test_170.csv',index_col=0)"
      ],
      "execution_count": 7,
      "outputs": []
    },
    {
      "cell_type": "code",
      "metadata": {
        "colab": {
          "base_uri": "https://localhost:8080/"
        },
        "id": "E_sewscivmZH",
        "outputId": "8088b225-a6d9-4a5b-94ab-ef21e1ae00fc"
      },
      "source": [
        "from sklearn.preprocessing import StandardScaler\n",
        "from sklearn.pipeline import  Pipeline\n",
        "from sklearn.svm import SVR\n",
        "from sklearn.multioutput import MultiOutputRegressor\n",
        "x_col = train_df.columns.tolist()[:4]\n",
        "y_col = train_df.columns.tolist()[4:]\n",
        "model = Pipeline([('scaler',StandardScaler()),('svr',SVR())])\n",
        "model = MultiOutputRegressor(model)\n",
        "model.fit(train_df[x_col],train_df[y_col])"
      ],
      "execution_count": 10,
      "outputs": [
        {
          "output_type": "execute_result",
          "data": {
            "text/plain": [
              "MultiOutputRegressor(estimator=Pipeline(memory=None,\n",
              "                                        steps=[('scaler',\n",
              "                                                StandardScaler(copy=True,\n",
              "                                                               with_mean=True,\n",
              "                                                               with_std=True)),\n",
              "                                               ('svr',\n",
              "                                                SVR(C=1.0, cache_size=200,\n",
              "                                                    coef0=0.0, degree=3,\n",
              "                                                    epsilon=0.1, gamma='scale',\n",
              "                                                    kernel='rbf', max_iter=-1,\n",
              "                                                    shrinking=True, tol=0.001,\n",
              "                                                    verbose=False))],\n",
              "                                        verbose=False),\n",
              "                     n_jobs=None)"
            ]
          },
          "metadata": {
            "tags": []
          },
          "execution_count": 10
        }
      ]
    },
    {
      "cell_type": "code",
      "metadata": {
        "colab": {
          "base_uri": "https://localhost:8080/"
        },
        "id": "EM3xc6xMwYda",
        "outputId": "44292405-53b9-4d55-e8ef-417fe23b00fd"
      },
      "source": [
        "from sklearn.metrics import r2_score\n",
        "y_pred = model.predict(train_df[x_col])\n",
        "y_real = train_df[y_col].values\n",
        "r2_score(y_real,y_pred)"
      ],
      "execution_count": 16,
      "outputs": [
        {
          "output_type": "execute_result",
          "data": {
            "text/plain": [
              "0.7155869617280353"
            ]
          },
          "metadata": {
            "tags": []
          },
          "execution_count": 16
        }
      ]
    },
    {
      "cell_type": "code",
      "metadata": {
        "colab": {
          "base_uri": "https://localhost:8080/"
        },
        "id": "JPcPbHHrwmFQ",
        "outputId": "4bc56816-3c95-4b05-c792-cbdc29b6f753"
      },
      "source": [
        "y_pred = model.predict(test_df[x_col])\n",
        "y_real = test_df[y_col].values\n",
        "r2_score(y_real,y_pred)"
      ],
      "execution_count": 59,
      "outputs": [
        {
          "output_type": "execute_result",
          "data": {
            "text/plain": [
              "0.7370801524454506"
            ]
          },
          "metadata": {
            "tags": []
          },
          "execution_count": 59
        }
      ]
    },
    {
      "cell_type": "markdown",
      "metadata": {
        "id": "_R63MLjUxAb8"
      },
      "source": [
        "# 後處理"
      ]
    },
    {
      "cell_type": "code",
      "metadata": {
        "colab": {
          "base_uri": "https://localhost:8080/"
        },
        "id": "WTEkbxYTw5BI",
        "outputId": "8757c3c6-39bc-4432-9c6f-5af030b93715"
      },
      "source": [
        "import numpy as np\n",
        "def f(x):\n",
        "  x = np.clip(x,0,100)\n",
        "  x = x / x.sum(axis=1).reshape(-1,1)\n",
        "  x = x * 100\n",
        "  return x\n",
        "x = np.array([[1,2,3],[-3,5,2]])\n",
        "f(x)"
      ],
      "execution_count": 60,
      "outputs": [
        {
          "output_type": "execute_result",
          "data": {
            "text/plain": [
              "array([[16.66666667, 33.33333333, 50.        ],\n",
              "       [ 0.        , 71.42857143, 28.57142857]])"
            ]
          },
          "metadata": {
            "tags": []
          },
          "execution_count": 60
        }
      ]
    },
    {
      "cell_type": "code",
      "metadata": {
        "colab": {
          "base_uri": "https://localhost:8080/"
        },
        "id": "frsC57_LxQh5",
        "outputId": "95b53a36-eb88-493a-a8fc-6798045b9096"
      },
      "source": [
        "y_pred = model.predict(test_df[x_col])\n",
        "y_real = test_df[y_col].values\n",
        "r2_score(y_real,f(y_pred))"
      ],
      "execution_count": 61,
      "outputs": [
        {
          "output_type": "execute_result",
          "data": {
            "text/plain": [
              "0.7365704457644201"
            ]
          },
          "metadata": {
            "tags": []
          },
          "execution_count": 61
        }
      ]
    },
    {
      "cell_type": "code",
      "metadata": {
        "id": "ZZTtPz0qySsW"
      },
      "source": [
        ""
      ],
      "execution_count": null,
      "outputs": []
    }
  ]
}