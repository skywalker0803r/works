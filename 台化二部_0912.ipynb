{
  "nbformat": 4,
  "nbformat_minor": 0,
  "metadata": {
    "colab": {
      "name": "台化二部_0902.ipynb",
      "version": "0.3.2",
      "provenance": [],
      "collapsed_sections": [],
      "include_colab_link": true
    },
    "kernelspec": {
      "name": "python3",
      "display_name": "Python 3"
    },
    "accelerator": "GPU"
  },
  "cells": [
    {
      "cell_type": "markdown",
      "metadata": {
        "id": "view-in-github",
        "colab_type": "text"
      },
      "source": [
        "<a href=\"https://colab.research.google.com/github/skywalker0803r/works/blob/master/%E5%8F%B0%E5%8C%96%E4%BA%8C%E9%83%A8_0912.ipynb\" target=\"_parent\"><img src=\"https://colab.research.google.com/assets/colab-badge.svg\" alt=\"Open In Colab\"/></a>"
      ]
    },
    {
      "cell_type": "code",
      "metadata": {
        "id": "FZWf_o_NaIiw",
        "colab_type": "code",
        "outputId": "d71b48bb-ee9b-463b-b7cd-edbca302f578",
        "colab": {
          "base_uri": "https://localhost:8080/",
          "height": 33
        }
      },
      "source": [
        "import pandas as pd\n",
        "import numpy as np\n",
        "from google.colab import drive\n",
        "drive.mount('/content/gdrive')"
      ],
      "execution_count": 23,
      "outputs": [
        {
          "output_type": "stream",
          "text": [
            "Drive already mounted at /content/gdrive; to attempt to forcibly remount, call drive.mount(\"/content/gdrive\", force_remount=True).\n"
          ],
          "name": "stdout"
        }
      ]
    },
    {
      "cell_type": "code",
      "metadata": {
        "id": "YvrXDtkKaZlr",
        "colab_type": "code",
        "outputId": "97fa90af-4b23-4b65-c620-4912a3a733fb",
        "colab": {
          "base_uri": "https://localhost:8080/",
          "height": 344
        }
      },
      "source": [
        "data_path = '/content/gdrive/My Drive/台化二部/複本 操作與品管數據(20190723提供).xlsx'\n",
        "df = pd.read_excel(data_path,header=2,index_col=0)\n",
        "df = df.drop_duplicates()\n",
        "print(df.shape)\n",
        "df.head()"
      ],
      "execution_count": 24,
      "outputs": [
        {
          "output_type": "stream",
          "text": [
            "(81526, 12)\n"
          ],
          "name": "stdout"
        },
        {
          "output_type": "execute_result",
          "data": {
            "text/html": [
              "<div>\n",
              "<style scoped>\n",
              "    .dataframe tbody tr th:only-of-type {\n",
              "        vertical-align: middle;\n",
              "    }\n",
              "\n",
              "    .dataframe tbody tr th {\n",
              "        vertical-align: top;\n",
              "    }\n",
              "\n",
              "    .dataframe thead th {\n",
              "        text-align: right;\n",
              "    }\n",
              "</style>\n",
              "<table border=\"1\" class=\"dataframe\">\n",
              "  <thead>\n",
              "    <tr style=\"text-align: right;\">\n",
              "      <th></th>\n",
              "      <th>PHL-DCS-FIC1147_PV</th>\n",
              "      <th>PHL-DCS-FIC1149A_PV</th>\n",
              "      <th>PHL-DCS-TIC1163_PV</th>\n",
              "      <th>PHL-DCS-PI1162_PV</th>\n",
              "      <th>PHL-DCS-TI1166_PV</th>\n",
              "      <th>PHL-DCS-TI1167_PV</th>\n",
              "      <th>PHL-DCS-TI1168_PV</th>\n",
              "      <th>PHL-DCS-TI1169_PV</th>\n",
              "      <th>PHL-DCS-TI1170_PV</th>\n",
              "      <th>PHL-DCS-PIC1166_PV</th>\n",
              "      <th>T121 EB含量</th>\n",
              "      <th>DIPB轉化率</th>\n",
              "    </tr>\n",
              "    <tr>\n",
              "      <th>DATE</th>\n",
              "      <th></th>\n",
              "      <th></th>\n",
              "      <th></th>\n",
              "      <th></th>\n",
              "      <th></th>\n",
              "      <th></th>\n",
              "      <th></th>\n",
              "      <th></th>\n",
              "      <th></th>\n",
              "      <th></th>\n",
              "      <th></th>\n",
              "      <th></th>\n",
              "    </tr>\n",
              "  </thead>\n",
              "  <tbody>\n",
              "    <tr>\n",
              "      <th>2013-08-20 10:10:00</th>\n",
              "      <td>31.212050</td>\n",
              "      <td>24.992781</td>\n",
              "      <td>169.893986</td>\n",
              "      <td>NaN</td>\n",
              "      <td>167.057086</td>\n",
              "      <td>166.569303</td>\n",
              "      <td>166.278953</td>\n",
              "      <td>165.041317</td>\n",
              "      <td>NaN</td>\n",
              "      <td>12.297010</td>\n",
              "      <td>NaN</td>\n",
              "      <td>NaN</td>\n",
              "    </tr>\n",
              "    <tr>\n",
              "      <th>2013-08-20 10:20:00</th>\n",
              "      <td>31.223557</td>\n",
              "      <td>25.066836</td>\n",
              "      <td>169.752653</td>\n",
              "      <td>NaN</td>\n",
              "      <td>167.050706</td>\n",
              "      <td>166.575684</td>\n",
              "      <td>166.259814</td>\n",
              "      <td>164.969540</td>\n",
              "      <td>NaN</td>\n",
              "      <td>12.291411</td>\n",
              "      <td>NaN</td>\n",
              "      <td>NaN</td>\n",
              "    </tr>\n",
              "    <tr>\n",
              "      <th>2013-08-20 10:30:00</th>\n",
              "      <td>31.572592</td>\n",
              "      <td>25.163049</td>\n",
              "      <td>169.525828</td>\n",
              "      <td>NaN</td>\n",
              "      <td>167.042458</td>\n",
              "      <td>166.583934</td>\n",
              "      <td>166.235069</td>\n",
              "      <td>164.876743</td>\n",
              "      <td>NaN</td>\n",
              "      <td>12.317545</td>\n",
              "      <td>NaN</td>\n",
              "      <td>NaN</td>\n",
              "    </tr>\n",
              "    <tr>\n",
              "      <th>2013-08-20 10:40:00</th>\n",
              "      <td>31.886214</td>\n",
              "      <td>25.136713</td>\n",
              "      <td>169.316875</td>\n",
              "      <td>NaN</td>\n",
              "      <td>167.034209</td>\n",
              "      <td>166.592183</td>\n",
              "      <td>166.210325</td>\n",
              "      <td>164.783946</td>\n",
              "      <td>NaN</td>\n",
              "      <td>12.317918</td>\n",
              "      <td>NaN</td>\n",
              "      <td>NaN</td>\n",
              "    </tr>\n",
              "    <tr>\n",
              "      <th>2013-08-20 10:50:00</th>\n",
              "      <td>31.855439</td>\n",
              "      <td>25.220729</td>\n",
              "      <td>169.665105</td>\n",
              "      <td>NaN</td>\n",
              "      <td>167.025961</td>\n",
              "      <td>166.600433</td>\n",
              "      <td>166.185580</td>\n",
              "      <td>164.691149</td>\n",
              "      <td>NaN</td>\n",
              "      <td>12.315540</td>\n",
              "      <td>NaN</td>\n",
              "      <td>NaN</td>\n",
              "    </tr>\n",
              "  </tbody>\n",
              "</table>\n",
              "</div>"
            ],
            "text/plain": [
              "                     PHL-DCS-FIC1147_PV  ...  DIPB轉化率\n",
              "DATE                                     ...         \n",
              "2013-08-20 10:10:00           31.212050  ...      NaN\n",
              "2013-08-20 10:20:00           31.223557  ...      NaN\n",
              "2013-08-20 10:30:00           31.572592  ...      NaN\n",
              "2013-08-20 10:40:00           31.886214  ...      NaN\n",
              "2013-08-20 10:50:00           31.855439  ...      NaN\n",
              "\n",
              "[5 rows x 12 columns]"
            ]
          },
          "metadata": {
            "tags": []
          },
          "execution_count": 24
        }
      ]
    },
    {
      "cell_type": "markdown",
      "metadata": {
        "id": "GR_TRO-ibrhi",
        "colab_type": "text"
      },
      "source": [
        "# columns type transform 這裡異常值就會被np.nan取代"
      ]
    },
    {
      "cell_type": "code",
      "metadata": {
        "id": "L-tdkqPMbYgM",
        "colab_type": "code",
        "outputId": "2bca3c60-7a70-4502-aa3c-cb040da18b75",
        "colab": {
          "base_uri": "https://localhost:8080/",
          "height": 233
        }
      },
      "source": [
        "for i in df.columns:\n",
        "  df[i] = pd.to_numeric(df[i],errors='coerce')\n",
        "df.dtypes"
      ],
      "execution_count": 25,
      "outputs": [
        {
          "output_type": "execute_result",
          "data": {
            "text/plain": [
              "PHL-DCS-FIC1147_PV     float64\n",
              "PHL-DCS-FIC1149A_PV    float64\n",
              "PHL-DCS-TIC1163_PV     float64\n",
              "PHL-DCS-PI1162_PV      float64\n",
              "PHL-DCS-TI1166_PV      float64\n",
              "PHL-DCS-TI1167_PV      float64\n",
              "PHL-DCS-TI1168_PV      float64\n",
              "PHL-DCS-TI1169_PV      float64\n",
              "PHL-DCS-TI1170_PV      float64\n",
              "PHL-DCS-PIC1166_PV     float64\n",
              "T121 EB含量              float64\n",
              "DIPB轉化率                float64\n",
              "dtype: object"
            ]
          },
          "metadata": {
            "tags": []
          },
          "execution_count": 25
        }
      ]
    },
    {
      "cell_type": "markdown",
      "metadata": {
        "id": "N7hwnae_bvR3",
        "colab_type": "text"
      },
      "source": [
        "# miss value"
      ]
    },
    {
      "cell_type": "code",
      "metadata": {
        "id": "xFAlPe7QbuEh",
        "colab_type": "code",
        "outputId": "f98df22a-4429-408d-b880-bbb88865370f",
        "colab": {
          "base_uri": "https://localhost:8080/",
          "height": 441
        }
      },
      "source": [
        "# Function to calculate missing values by column# Funct \n",
        "def missing_values_table(df):\n",
        "        # Total missing values\n",
        "        mis_val = df.isnull().sum()\n",
        "        \n",
        "        # Percentage of missing values\n",
        "        mis_val_percent = 100 * df.isnull().sum() / len(df)\n",
        "        \n",
        "        # Make a table with the results\n",
        "        mis_val_table = pd.concat([mis_val, mis_val_percent], axis=1)\n",
        "        \n",
        "        # Rename the columns\n",
        "        mis_val_table_ren_columns = mis_val_table.rename(\n",
        "        columns = {0 : 'Missing Values', 1 : '% of Total Values'})\n",
        "        \n",
        "        # Sort the table by percentage of missing descending\n",
        "        mis_val_table_ren_columns = mis_val_table_ren_columns[\n",
        "            mis_val_table_ren_columns.iloc[:,1] != 0].sort_values(\n",
        "        '% of Total Values', ascending=False).round(1)\n",
        "        \n",
        "        # Print some summary information\n",
        "        print (\"Your selected dataframe has \" + str(df.shape[1]) + \" columns.\\n\"      \n",
        "            \"There are \" + str(mis_val_table_ren_columns.shape[0]) +\n",
        "              \" columns that have missing values.\")\n",
        "        \n",
        "        # Return the dataframe with missing information\n",
        "        return mis_val_table_ren_columns\n",
        "missing_values_table(df)"
      ],
      "execution_count": 26,
      "outputs": [
        {
          "output_type": "stream",
          "text": [
            "Your selected dataframe has 12 columns.\n",
            "There are 12 columns that have missing values.\n"
          ],
          "name": "stdout"
        },
        {
          "output_type": "execute_result",
          "data": {
            "text/html": [
              "<div>\n",
              "<style scoped>\n",
              "    .dataframe tbody tr th:only-of-type {\n",
              "        vertical-align: middle;\n",
              "    }\n",
              "\n",
              "    .dataframe tbody tr th {\n",
              "        vertical-align: top;\n",
              "    }\n",
              "\n",
              "    .dataframe thead th {\n",
              "        text-align: right;\n",
              "    }\n",
              "</style>\n",
              "<table border=\"1\" class=\"dataframe\">\n",
              "  <thead>\n",
              "    <tr style=\"text-align: right;\">\n",
              "      <th></th>\n",
              "      <th>Missing Values</th>\n",
              "      <th>% of Total Values</th>\n",
              "    </tr>\n",
              "  </thead>\n",
              "  <tbody>\n",
              "    <tr>\n",
              "      <th>DIPB轉化率</th>\n",
              "      <td>81038</td>\n",
              "      <td>99.4</td>\n",
              "    </tr>\n",
              "    <tr>\n",
              "      <th>T121 EB含量</th>\n",
              "      <td>79977</td>\n",
              "      <td>98.1</td>\n",
              "    </tr>\n",
              "    <tr>\n",
              "      <th>PHL-DCS-PI1162_PV</th>\n",
              "      <td>45775</td>\n",
              "      <td>56.1</td>\n",
              "    </tr>\n",
              "    <tr>\n",
              "      <th>PHL-DCS-TI1170_PV</th>\n",
              "      <td>45774</td>\n",
              "      <td>56.1</td>\n",
              "    </tr>\n",
              "    <tr>\n",
              "      <th>PHL-DCS-FIC1147_PV</th>\n",
              "      <td>2</td>\n",
              "      <td>0.0</td>\n",
              "    </tr>\n",
              "    <tr>\n",
              "      <th>PHL-DCS-FIC1149A_PV</th>\n",
              "      <td>2</td>\n",
              "      <td>0.0</td>\n",
              "    </tr>\n",
              "    <tr>\n",
              "      <th>PHL-DCS-TIC1163_PV</th>\n",
              "      <td>2</td>\n",
              "      <td>0.0</td>\n",
              "    </tr>\n",
              "    <tr>\n",
              "      <th>PHL-DCS-TI1166_PV</th>\n",
              "      <td>2</td>\n",
              "      <td>0.0</td>\n",
              "    </tr>\n",
              "    <tr>\n",
              "      <th>PHL-DCS-TI1167_PV</th>\n",
              "      <td>2</td>\n",
              "      <td>0.0</td>\n",
              "    </tr>\n",
              "    <tr>\n",
              "      <th>PHL-DCS-TI1168_PV</th>\n",
              "      <td>2</td>\n",
              "      <td>0.0</td>\n",
              "    </tr>\n",
              "    <tr>\n",
              "      <th>PHL-DCS-TI1169_PV</th>\n",
              "      <td>2</td>\n",
              "      <td>0.0</td>\n",
              "    </tr>\n",
              "    <tr>\n",
              "      <th>PHL-DCS-PIC1166_PV</th>\n",
              "      <td>2</td>\n",
              "      <td>0.0</td>\n",
              "    </tr>\n",
              "  </tbody>\n",
              "</table>\n",
              "</div>"
            ],
            "text/plain": [
              "                     Missing Values  % of Total Values\n",
              "DIPB轉化率                       81038               99.4\n",
              "T121 EB含量                     79977               98.1\n",
              "PHL-DCS-PI1162_PV             45775               56.1\n",
              "PHL-DCS-TI1170_PV             45774               56.1\n",
              "PHL-DCS-FIC1147_PV                2                0.0\n",
              "PHL-DCS-FIC1149A_PV               2                0.0\n",
              "PHL-DCS-TIC1163_PV                2                0.0\n",
              "PHL-DCS-TI1166_PV                 2                0.0\n",
              "PHL-DCS-TI1167_PV                 2                0.0\n",
              "PHL-DCS-TI1168_PV                 2                0.0\n",
              "PHL-DCS-TI1169_PV                 2                0.0\n",
              "PHL-DCS-PIC1166_PV                2                0.0"
            ]
          },
          "metadata": {
            "tags": []
          },
          "execution_count": 26
        }
      ]
    },
    {
      "cell_type": "markdown",
      "metadata": {
        "id": "NGXqwYl6tqIF",
        "colab_type": "text"
      },
      "source": [
        "# 看看高缺值的欄位怎麼回事"
      ]
    },
    {
      "cell_type": "code",
      "metadata": {
        "id": "Cwl_PkIStxL8",
        "colab_type": "code",
        "outputId": "c730b280-eac4-47f4-b971-835b3d0eaffc",
        "colab": {
          "base_uri": "https://localhost:8080/",
          "height": 183
        }
      },
      "source": [
        "df_index = df.index\n",
        "DIPB_index = df[df['DIPB轉化率'].isnull()==False].index\n",
        "T121_index = df[df['T121 EB含量'].isnull()==False].index\n",
        "PI1162_index = df[df['PHL-DCS-PI1162_PV'].isnull()==False].index\n",
        "TI1170_index = df[df['PHL-DCS-TI1170_PV'].isnull()==False].index\t\n",
        "\n",
        "for name,index in zip(['df_index','DIPB_index','T121_index','PI1162_index','TI1170_index'],\n",
        "                      [df_index,DIPB_index,T121_index,PI1162_index,TI1170_index]):\n",
        "  print(name)\n",
        "  print('起始時間:{} 結束時間:{} 取樣頻率:{}'.format(index[0],index[-1],index[1]-index[0]))"
      ],
      "execution_count": 27,
      "outputs": [
        {
          "output_type": "stream",
          "text": [
            "df_index\n",
            "起始時間:2013-08-20 10:10:00 結束時間:2015-03-19 23:50:00 取樣頻率:0 days 00:10:00\n",
            "DIPB_index\n",
            "起始時間:2013-08-22 00:00:00 結束時間:2015-02-17 00:00:00 取樣頻率:1 days 00:00:00\n",
            "T121_index\n",
            "起始時間:2013-08-20 16:00:00 結束時間:2015-03-19 16:00:00 取樣頻率:0 days 08:00:00\n",
            "PI1162_index\n",
            "起始時間:2014-07-14 10:40:00 結束時間:2015-03-19 23:50:00 取樣頻率:0 days 00:10:00\n",
            "TI1170_index\n",
            "起始時間:2014-07-14 10:30:00 結束時間:2015-03-19 23:50:00 取樣頻率:0 days 00:10:00\n"
          ],
          "name": "stdout"
        }
      ]
    },
    {
      "cell_type": "markdown",
      "metadata": {
        "id": "01JpkRb_3jY1",
        "colab_type": "text"
      },
      "source": [
        "多數欄位10分鐘取樣一次,1小時就6筆,24小時就24*6 = 144筆"
      ]
    },
    {
      "cell_type": "markdown",
      "metadata": {
        "id": "a4gTDl243ufP",
        "colab_type": "text"
      },
      "source": [
        "DIPB 1天取樣一次所以應該跟前144筆資料有關"
      ]
    },
    {
      "cell_type": "markdown",
      "metadata": {
        "id": "7flT8dP13_nI",
        "colab_type": "text"
      },
      "source": [
        "T121 8小時取樣一次 6*8=48所以T121和前48筆資料有關"
      ]
    },
    {
      "cell_type": "markdown",
      "metadata": {
        "id": "-hDPamBN4J-Q",
        "colab_type": "text"
      },
      "source": [
        "PI1162和TI1170取樣頻率雖然也是10分鐘一筆 但起始時間是2014年開始,可能後來才加裝"
      ]
    },
    {
      "cell_type": "markdown",
      "metadata": {
        "id": "YFNmvwAb4jHv",
        "colab_type": "text"
      },
      "source": [
        "因此可以分兩部分做 先做缺少PI1162和TI1170那段日子的分析,再做加裝後的分析"
      ]
    },
    {
      "cell_type": "markdown",
      "metadata": {
        "id": "Ud6KbcRArNRd",
        "colab_type": "text"
      },
      "source": [
        "# 取加裝前的資料"
      ]
    },
    {
      "cell_type": "code",
      "metadata": {
        "id": "UOtiBkTxm61Y",
        "colab_type": "code",
        "outputId": "eb51f9b3-699b-4723-e97e-baa4a75256db",
        "colab": {
          "base_uri": "https://localhost:8080/",
          "height": 344
        }
      },
      "source": [
        "#df_1:前半段日子,缺少PI1162和TI1170那段日子\n",
        "前半段日子條件 = (df['PHL-DCS-PI1162_PV'].isnull()==True)&(df['PHL-DCS-TI1170_PV'].isnull()==True)\n",
        "df_1 = df[前半段日子條件].dropna(how='all',axis=1)\n",
        "print(df_1.shape)\n",
        "df_1.head()"
      ],
      "execution_count": 28,
      "outputs": [
        {
          "output_type": "stream",
          "text": [
            "(45774, 10)\n"
          ],
          "name": "stdout"
        },
        {
          "output_type": "execute_result",
          "data": {
            "text/html": [
              "<div>\n",
              "<style scoped>\n",
              "    .dataframe tbody tr th:only-of-type {\n",
              "        vertical-align: middle;\n",
              "    }\n",
              "\n",
              "    .dataframe tbody tr th {\n",
              "        vertical-align: top;\n",
              "    }\n",
              "\n",
              "    .dataframe thead th {\n",
              "        text-align: right;\n",
              "    }\n",
              "</style>\n",
              "<table border=\"1\" class=\"dataframe\">\n",
              "  <thead>\n",
              "    <tr style=\"text-align: right;\">\n",
              "      <th></th>\n",
              "      <th>PHL-DCS-FIC1147_PV</th>\n",
              "      <th>PHL-DCS-FIC1149A_PV</th>\n",
              "      <th>PHL-DCS-TIC1163_PV</th>\n",
              "      <th>PHL-DCS-TI1166_PV</th>\n",
              "      <th>PHL-DCS-TI1167_PV</th>\n",
              "      <th>PHL-DCS-TI1168_PV</th>\n",
              "      <th>PHL-DCS-TI1169_PV</th>\n",
              "      <th>PHL-DCS-PIC1166_PV</th>\n",
              "      <th>T121 EB含量</th>\n",
              "      <th>DIPB轉化率</th>\n",
              "    </tr>\n",
              "    <tr>\n",
              "      <th>DATE</th>\n",
              "      <th></th>\n",
              "      <th></th>\n",
              "      <th></th>\n",
              "      <th></th>\n",
              "      <th></th>\n",
              "      <th></th>\n",
              "      <th></th>\n",
              "      <th></th>\n",
              "      <th></th>\n",
              "      <th></th>\n",
              "    </tr>\n",
              "  </thead>\n",
              "  <tbody>\n",
              "    <tr>\n",
              "      <th>2013-08-20 10:10:00</th>\n",
              "      <td>31.212050</td>\n",
              "      <td>24.992781</td>\n",
              "      <td>169.893986</td>\n",
              "      <td>167.057086</td>\n",
              "      <td>166.569303</td>\n",
              "      <td>166.278953</td>\n",
              "      <td>165.041317</td>\n",
              "      <td>12.297010</td>\n",
              "      <td>NaN</td>\n",
              "      <td>NaN</td>\n",
              "    </tr>\n",
              "    <tr>\n",
              "      <th>2013-08-20 10:20:00</th>\n",
              "      <td>31.223557</td>\n",
              "      <td>25.066836</td>\n",
              "      <td>169.752653</td>\n",
              "      <td>167.050706</td>\n",
              "      <td>166.575684</td>\n",
              "      <td>166.259814</td>\n",
              "      <td>164.969540</td>\n",
              "      <td>12.291411</td>\n",
              "      <td>NaN</td>\n",
              "      <td>NaN</td>\n",
              "    </tr>\n",
              "    <tr>\n",
              "      <th>2013-08-20 10:30:00</th>\n",
              "      <td>31.572592</td>\n",
              "      <td>25.163049</td>\n",
              "      <td>169.525828</td>\n",
              "      <td>167.042458</td>\n",
              "      <td>166.583934</td>\n",
              "      <td>166.235069</td>\n",
              "      <td>164.876743</td>\n",
              "      <td>12.317545</td>\n",
              "      <td>NaN</td>\n",
              "      <td>NaN</td>\n",
              "    </tr>\n",
              "    <tr>\n",
              "      <th>2013-08-20 10:40:00</th>\n",
              "      <td>31.886214</td>\n",
              "      <td>25.136713</td>\n",
              "      <td>169.316875</td>\n",
              "      <td>167.034209</td>\n",
              "      <td>166.592183</td>\n",
              "      <td>166.210325</td>\n",
              "      <td>164.783946</td>\n",
              "      <td>12.317918</td>\n",
              "      <td>NaN</td>\n",
              "      <td>NaN</td>\n",
              "    </tr>\n",
              "    <tr>\n",
              "      <th>2013-08-20 10:50:00</th>\n",
              "      <td>31.855439</td>\n",
              "      <td>25.220729</td>\n",
              "      <td>169.665105</td>\n",
              "      <td>167.025961</td>\n",
              "      <td>166.600433</td>\n",
              "      <td>166.185580</td>\n",
              "      <td>164.691149</td>\n",
              "      <td>12.315540</td>\n",
              "      <td>NaN</td>\n",
              "      <td>NaN</td>\n",
              "    </tr>\n",
              "  </tbody>\n",
              "</table>\n",
              "</div>"
            ],
            "text/plain": [
              "                     PHL-DCS-FIC1147_PV  ...  DIPB轉化率\n",
              "DATE                                     ...         \n",
              "2013-08-20 10:10:00           31.212050  ...      NaN\n",
              "2013-08-20 10:20:00           31.223557  ...      NaN\n",
              "2013-08-20 10:30:00           31.572592  ...      NaN\n",
              "2013-08-20 10:40:00           31.886214  ...      NaN\n",
              "2013-08-20 10:50:00           31.855439  ...      NaN\n",
              "\n",
              "[5 rows x 10 columns]"
            ]
          },
          "metadata": {
            "tags": []
          },
          "execution_count": 28
        }
      ]
    },
    {
      "cell_type": "code",
      "metadata": {
        "id": "eGX3ewyX6oEw",
        "colab_type": "code",
        "outputId": "4ee2d79c-f292-4d3f-934e-77625815fd7b",
        "colab": {
          "base_uri": "https://localhost:8080/",
          "height": 287
        }
      },
      "source": [
        "df_1.describe()"
      ],
      "execution_count": 29,
      "outputs": [
        {
          "output_type": "execute_result",
          "data": {
            "text/html": [
              "<div>\n",
              "<style scoped>\n",
              "    .dataframe tbody tr th:only-of-type {\n",
              "        vertical-align: middle;\n",
              "    }\n",
              "\n",
              "    .dataframe tbody tr th {\n",
              "        vertical-align: top;\n",
              "    }\n",
              "\n",
              "    .dataframe thead th {\n",
              "        text-align: right;\n",
              "    }\n",
              "</style>\n",
              "<table border=\"1\" class=\"dataframe\">\n",
              "  <thead>\n",
              "    <tr style=\"text-align: right;\">\n",
              "      <th></th>\n",
              "      <th>PHL-DCS-FIC1147_PV</th>\n",
              "      <th>PHL-DCS-FIC1149A_PV</th>\n",
              "      <th>PHL-DCS-TIC1163_PV</th>\n",
              "      <th>PHL-DCS-TI1166_PV</th>\n",
              "      <th>PHL-DCS-TI1167_PV</th>\n",
              "      <th>PHL-DCS-TI1168_PV</th>\n",
              "      <th>PHL-DCS-TI1169_PV</th>\n",
              "      <th>PHL-DCS-PIC1166_PV</th>\n",
              "      <th>T121 EB含量</th>\n",
              "      <th>DIPB轉化率</th>\n",
              "    </tr>\n",
              "  </thead>\n",
              "  <tbody>\n",
              "    <tr>\n",
              "      <th>count</th>\n",
              "      <td>45772.000000</td>\n",
              "      <td>45772.000000</td>\n",
              "      <td>45772.000000</td>\n",
              "      <td>45772.000000</td>\n",
              "      <td>45772.000000</td>\n",
              "      <td>45772.000000</td>\n",
              "      <td>45772.000000</td>\n",
              "      <td>45772.000000</td>\n",
              "      <td>822.000000</td>\n",
              "      <td>276.000000</td>\n",
              "    </tr>\n",
              "    <tr>\n",
              "      <th>mean</th>\n",
              "      <td>28.237986</td>\n",
              "      <td>21.093750</td>\n",
              "      <td>160.998633</td>\n",
              "      <td>148.777996</td>\n",
              "      <td>148.441374</td>\n",
              "      <td>148.194353</td>\n",
              "      <td>146.217387</td>\n",
              "      <td>10.664256</td>\n",
              "      <td>104.681265</td>\n",
              "      <td>64.351514</td>\n",
              "    </tr>\n",
              "    <tr>\n",
              "      <th>std</th>\n",
              "      <td>11.970688</td>\n",
              "      <td>8.286521</td>\n",
              "      <td>20.576068</td>\n",
              "      <td>45.858156</td>\n",
              "      <td>46.041152</td>\n",
              "      <td>46.097816</td>\n",
              "      <td>46.643249</td>\n",
              "      <td>4.083040</td>\n",
              "      <td>29.400558</td>\n",
              "      <td>10.868958</td>\n",
              "    </tr>\n",
              "    <tr>\n",
              "      <th>min</th>\n",
              "      <td>0.030600</td>\n",
              "      <td>0.000000</td>\n",
              "      <td>110.036342</td>\n",
              "      <td>17.491865</td>\n",
              "      <td>17.297280</td>\n",
              "      <td>17.147366</td>\n",
              "      <td>0.000000</td>\n",
              "      <td>0.000000</td>\n",
              "      <td>12.000000</td>\n",
              "      <td>-1.459854</td>\n",
              "    </tr>\n",
              "    <tr>\n",
              "      <th>25%</th>\n",
              "      <td>29.918217</td>\n",
              "      <td>23.462331</td>\n",
              "      <td>166.540533</td>\n",
              "      <td>163.938281</td>\n",
              "      <td>163.566360</td>\n",
              "      <td>163.275621</td>\n",
              "      <td>161.948781</td>\n",
              "      <td>12.296595</td>\n",
              "      <td>86.000000</td>\n",
              "      <td>64.149195</td>\n",
              "    </tr>\n",
              "    <tr>\n",
              "      <th>50%</th>\n",
              "      <td>31.435306</td>\n",
              "      <td>24.510155</td>\n",
              "      <td>169.100671</td>\n",
              "      <td>166.613922</td>\n",
              "      <td>166.215408</td>\n",
              "      <td>165.887557</td>\n",
              "      <td>164.515760</td>\n",
              "      <td>12.299358</td>\n",
              "      <td>100.000000</td>\n",
              "      <td>67.348782</td>\n",
              "    </tr>\n",
              "    <tr>\n",
              "      <th>75%</th>\n",
              "      <td>33.198007</td>\n",
              "      <td>25.079975</td>\n",
              "      <td>170.502798</td>\n",
              "      <td>167.673223</td>\n",
              "      <td>167.692276</td>\n",
              "      <td>167.458333</td>\n",
              "      <td>166.511186</td>\n",
              "      <td>12.301554</td>\n",
              "      <td>111.000000</td>\n",
              "      <td>69.741737</td>\n",
              "    </tr>\n",
              "    <tr>\n",
              "      <th>max</th>\n",
              "      <td>52.727678</td>\n",
              "      <td>29.718892</td>\n",
              "      <td>184.354069</td>\n",
              "      <td>182.300190</td>\n",
              "      <td>177.200827</td>\n",
              "      <td>187.304338</td>\n",
              "      <td>171.701019</td>\n",
              "      <td>12.486687</td>\n",
              "      <td>283.000000</td>\n",
              "      <td>72.991308</td>\n",
              "    </tr>\n",
              "  </tbody>\n",
              "</table>\n",
              "</div>"
            ],
            "text/plain": [
              "       PHL-DCS-FIC1147_PV  PHL-DCS-FIC1149A_PV  ...   T121 EB含量     DIPB轉化率\n",
              "count        45772.000000         45772.000000  ...  822.000000  276.000000\n",
              "mean            28.237986            21.093750  ...  104.681265   64.351514\n",
              "std             11.970688             8.286521  ...   29.400558   10.868958\n",
              "min              0.030600             0.000000  ...   12.000000   -1.459854\n",
              "25%             29.918217            23.462331  ...   86.000000   64.149195\n",
              "50%             31.435306            24.510155  ...  100.000000   67.348782\n",
              "75%             33.198007            25.079975  ...  111.000000   69.741737\n",
              "max             52.727678            29.718892  ...  283.000000   72.991308\n",
              "\n",
              "[8 rows x 10 columns]"
            ]
          },
          "metadata": {
            "tags": []
          },
          "execution_count": 29
        }
      ]
    },
    {
      "cell_type": "markdown",
      "metadata": {
        "id": "RyEWV2oUrRhG",
        "colab_type": "text"
      },
      "source": [
        "# distplot"
      ]
    },
    {
      "cell_type": "code",
      "metadata": {
        "id": "mSxT2GlR5LMe",
        "colab_type": "code",
        "outputId": "56b0f362-044b-4018-b9c1-0bfab09d8d43",
        "colab": {
          "base_uri": "https://localhost:8080/",
          "height": 1000
        }
      },
      "source": [
        "import seaborn as sns\n",
        "import matplotlib.pyplot as plt\n",
        "for i in df_1.columns:\n",
        "  sns.distplot(df_1[i].dropna())\n",
        "  plt.title(i)\n",
        "  plt.show()"
      ],
      "execution_count": 30,
      "outputs": [
        {
          "output_type": "display_data",
          "data": {
            "image/png": "[encoded data removed]",
            "text/plain": [
              "<Figure size 432x288 with 1 Axes>"
            ]
          },
          "metadata": {
            "tags": []
          }
        },
        {
          "output_type": "display_data",
          "data": {
            "image/png": "[encoded data removed]",
            "text/plain": [
              "<Figure size 432x288 with 1 Axes>"
            ]
          },
          "metadata": {
            "tags": []
          }
        },
        {
          "output_type": "display_data",
          "data": {
            "image/png": "[encoded data removed]",
            "text/plain": [
              "<Figure size 432x288 with 1 Axes>"
            ]
          },
          "metadata": {
            "tags": []
          }
        },
        {
          "output_type": "display_data",
          "data": {
            "image/png": "[encoded data removed]",
            "text/plain": [
              "<Figure size 432x288 with 1 Axes>"
            ]
          },
          "metadata": {
            "tags": []
          }
        },
        {
          "output_type": "display_data",
          "data": {
            "image/png": "[encoded data removed]",
            "text/plain": [
              "<Figure size 432x288 with 1 Axes>"
            ]
          },
          "metadata": {
            "tags": []
          }
        },
        {
          "output_type": "display_data",
          "data": {
            "image/png": "[encoded data removed]",
            "text/plain": [
              "<Figure size 432x288 with 1 Axes>"
            ]
          },
          "metadata": {
            "tags": []
          }
        },
        {
          "output_type": "display_data",
          "data": {
            "image/png": "[encoded data removed]",
            "text/plain": [
              "<Figure size 432x288 with 1 Axes>"
            ]
          },
          "metadata": {
            "tags": []
          }
        },
        {
          "output_type": "display_data",
          "data": {
            "image/png": "[encoded data removed]",
            "text/plain": [
              "<Figure size 432x288 with 1 Axes>"
            ]
          },
          "metadata": {
            "tags": []
          }
        },
        {
          "output_type": "display_data",
          "data": {
            "image/png": "[encoded data removed]",
            "text/plain": [
              "<Figure size 432x288 with 1 Axes>"
            ]
          },
          "metadata": {
            "tags": []
          }
        },
        {
          "output_type": "display_data",
          "data": {
            "image/png": "[encoded data removed]",
            "text/plain": [
              "<Figure size 432x288 with 1 Axes>"
            ]
          },
          "metadata": {
            "tags": []
          }
        }
      ]
    },
    {
      "cell_type": "markdown",
      "metadata": {
        "id": "PAi1skeDrYQH",
        "colab_type": "text"
      },
      "source": [
        "# Xs ys 準備"
      ]
    },
    {
      "cell_type": "code",
      "metadata": {
        "id": "zoibySPDrYZx",
        "colab_type": "code",
        "colab": {
          "base_uri": "https://localhost:8080/",
          "height": 233
        },
        "outputId": "0d7155b7-6c03-476f-e44b-02698f075ab2"
      },
      "source": [
        "from tqdm import tqdm\n",
        "import numpy as np\n",
        "\n",
        "#定義觀察天數,起始index(0),結束index(資料筆數-觀察天數)\n",
        "days = 144\n",
        "b_index = 0\n",
        "f_index = len(df)-days\n",
        "\n",
        "#目標欄位\n",
        "y_name = 'DIPB轉化率'\n",
        "\n",
        "#特徵欄位\n",
        "features = df.drop(y_name,axis=1).columns.tolist()\n",
        "\n",
        "#待存放序列\n",
        "Xs = []\n",
        "ys = []\n",
        "\n",
        "'''\n",
        "若資料筆數100,days=15天,f_index=85,i只會跑到84,i+days=99,features只會跑到98天.\n",
        "若資料筆數100,days=15天,f_index=85+1,i會跑到85,i+days=100,features會跑到99天.\n",
        "'''\n",
        "for i in tqdm(range(b_index ,f_index+1 ,144)):#每次i都會遞增144\n",
        "  X = df.iloc[i:i+days,:][features] #ex:0...14(不含15)之features\n",
        "  y = df.iloc[i+days-1:i+days,:][y_name]#ex:14,y_name\n",
        "  X = np.array(X) # to np_array\n",
        "  Xs.append(X) #加入一筆X\n",
        "  ys.append(y) #加入一筆y\n",
        "  \n",
        "#轉換成np_array\n",
        "Xs = np.array(Xs)\n",
        "ys = np.array(ys)\n",
        "print('準備完成')"
      ],
      "execution_count": 36,
      "outputs": [
        {
          "output_type": "stream",
          "text": [
            "\n",
            "  0%|          | 0/566 [00:00<?, ?it/s]\u001b[A\n",
            "  9%|▉         | 51/566 [00:00<00:01, 501.26it/s]\u001b[A\n",
            " 18%|█▊        | 103/566 [00:00<00:00, 506.33it/s]\u001b[A\n",
            " 27%|██▋       | 153/566 [00:00<00:00, 503.07it/s]\u001b[A\n",
            " 36%|███▋      | 206/566 [00:00<00:00, 510.50it/s]\u001b[A\n",
            " 46%|████▌     | 258/566 [00:00<00:00, 512.29it/s]\u001b[A\n",
            " 55%|█████▌    | 312/566 [00:00<00:00, 519.89it/s]\u001b[A\n",
            " 64%|██████▍   | 365/566 [00:00<00:00, 520.64it/s]\u001b[A\n",
            " 74%|███████▎  | 417/566 [00:00<00:00, 517.93it/s]\u001b[A\n",
            " 83%|████████▎ | 469/566 [00:00<00:00, 516.58it/s]\u001b[A\n",
            " 92%|█████████▏| 521/566 [00:01<00:00, 514.96it/s]\u001b[A\n",
            "100%|██████████| 566/566 [00:01<00:00, 511.24it/s]\u001b[A"
          ],
          "name": "stderr"
        },
        {
          "output_type": "stream",
          "text": [
            "準備完成\n"
          ],
          "name": "stdout"
        }
      ]
    },
    {
      "cell_type": "markdown",
      "metadata": {
        "id": "1sm1MItmghWA",
        "colab_type": "text"
      },
      "source": [
        "# data check"
      ]
    },
    {
      "cell_type": "code",
      "metadata": {
        "id": "HLX-UNIWsXy6",
        "colab_type": "code",
        "colab": {
          "base_uri": "https://localhost:8080/",
          "height": 50
        },
        "outputId": "134cb773-ff8f-42e8-adad-456e42cc99ef"
      },
      "source": [
        "print(Xs.shape)\n",
        "print(ys.shape)"
      ],
      "execution_count": 40,
      "outputs": [
        {
          "output_type": "stream",
          "text": [
            "(566, 144, 11)\n",
            "(566, 1)\n"
          ],
          "name": "stdout"
        }
      ]
    },
    {
      "cell_type": "code",
      "metadata": {
        "id": "QTgE09WQf6vg",
        "colab_type": "code",
        "outputId": "e6de67ea-72cf-4613-ffe4-83d0a7f321e7",
        "colab": {
          "base_uri": "https://localhost:8080/",
          "height": 333
        }
      },
      "source": [
        "ys[:10],ys[-10:]"
      ],
      "execution_count": 42,
      "outputs": [
        {
          "output_type": "execute_result",
          "data": {
            "text/plain": [
              "(array([[nan],\n",
              "        [nan],\n",
              "        [nan],\n",
              "        [nan],\n",
              "        [nan],\n",
              "        [nan],\n",
              "        [nan],\n",
              "        [nan],\n",
              "        [nan],\n",
              "        [nan]]), array([[nan],\n",
              "        [nan],\n",
              "        [nan],\n",
              "        [nan],\n",
              "        [nan],\n",
              "        [nan],\n",
              "        [nan],\n",
              "        [nan],\n",
              "        [nan],\n",
              "        [nan]]))"
            ]
          },
          "metadata": {
            "tags": []
          },
          "execution_count": 42
        }
      ]
    },
    {
      "cell_type": "code",
      "metadata": {
        "id": "jqRl6frOfNR9",
        "colab_type": "code",
        "outputId": "f609b58d-692c-4285-fdb3-4dc1d0074b7c",
        "colab": {
          "base_uri": "https://localhost:8080/",
          "height": 327
        }
      },
      "source": [
        "df_1[(df_1['index']>44291-3)&(df_1['index']<44291+3)]"
      ],
      "execution_count": 14,
      "outputs": [
        {
          "output_type": "execute_result",
          "data": {
            "text/html": [
              "<div>\n",
              "<style scoped>\n",
              "    .dataframe tbody tr th:only-of-type {\n",
              "        vertical-align: middle;\n",
              "    }\n",
              "\n",
              "    .dataframe tbody tr th {\n",
              "        vertical-align: top;\n",
              "    }\n",
              "\n",
              "    .dataframe thead th {\n",
              "        text-align: right;\n",
              "    }\n",
              "</style>\n",
              "<table border=\"1\" class=\"dataframe\">\n",
              "  <thead>\n",
              "    <tr style=\"text-align: right;\">\n",
              "      <th></th>\n",
              "      <th>PHL-DCS-FIC1147_PV</th>\n",
              "      <th>PHL-DCS-FIC1149A_PV</th>\n",
              "      <th>PHL-DCS-TIC1163_PV</th>\n",
              "      <th>PHL-DCS-TI1166_PV</th>\n",
              "      <th>PHL-DCS-TI1167_PV</th>\n",
              "      <th>PHL-DCS-TI1168_PV</th>\n",
              "      <th>PHL-DCS-TI1169_PV</th>\n",
              "      <th>PHL-DCS-PIC1166_PV</th>\n",
              "      <th>T121 EB含量</th>\n",
              "      <th>DIPB轉化率</th>\n",
              "      <th>index</th>\n",
              "    </tr>\n",
              "    <tr>\n",
              "      <th>DATE</th>\n",
              "      <th></th>\n",
              "      <th></th>\n",
              "      <th></th>\n",
              "      <th></th>\n",
              "      <th></th>\n",
              "      <th></th>\n",
              "      <th></th>\n",
              "      <th></th>\n",
              "      <th></th>\n",
              "      <th></th>\n",
              "      <th></th>\n",
              "    </tr>\n",
              "  </thead>\n",
              "  <tbody>\n",
              "    <tr>\n",
              "      <th>2014-07-04 03:10:00</th>\n",
              "      <td>42.421431</td>\n",
              "      <td>25.287783</td>\n",
              "      <td>169.994734</td>\n",
              "      <td>167.360573</td>\n",
              "      <td>167.692276</td>\n",
              "      <td>167.521127</td>\n",
              "      <td>166.528487</td>\n",
              "      <td>12.300882</td>\n",
              "      <td>NaN</td>\n",
              "      <td>NaN</td>\n",
              "      <td>44289</td>\n",
              "    </tr>\n",
              "    <tr>\n",
              "      <th>2014-07-04 03:20:00</th>\n",
              "      <td>42.418787</td>\n",
              "      <td>25.223983</td>\n",
              "      <td>170.000992</td>\n",
              "      <td>167.292573</td>\n",
              "      <td>167.692276</td>\n",
              "      <td>167.528198</td>\n",
              "      <td>166.590485</td>\n",
              "      <td>12.300734</td>\n",
              "      <td>NaN</td>\n",
              "      <td>NaN</td>\n",
              "      <td>44290</td>\n",
              "    </tr>\n",
              "    <tr>\n",
              "      <th>2014-07-04 03:30:00</th>\n",
              "      <td>42.408484</td>\n",
              "      <td>25.229512</td>\n",
              "      <td>170.033805</td>\n",
              "      <td>167.309386</td>\n",
              "      <td>167.701628</td>\n",
              "      <td>167.524760</td>\n",
              "      <td>166.590485</td>\n",
              "      <td>12.303402</td>\n",
              "      <td>NaN</td>\n",
              "      <td>NaN</td>\n",
              "      <td>44291</td>\n",
              "    </tr>\n",
              "    <tr>\n",
              "      <th>2014-07-04 03:40:00</th>\n",
              "      <td>42.394726</td>\n",
              "      <td>25.257953</td>\n",
              "      <td>170.005281</td>\n",
              "      <td>167.357072</td>\n",
              "      <td>167.692276</td>\n",
              "      <td>167.453289</td>\n",
              "      <td>166.612895</td>\n",
              "      <td>12.302337</td>\n",
              "      <td>NaN</td>\n",
              "      <td>NaN</td>\n",
              "      <td>44292</td>\n",
              "    </tr>\n",
              "    <tr>\n",
              "      <th>2014-07-04 03:50:00</th>\n",
              "      <td>42.365479</td>\n",
              "      <td>25.229533</td>\n",
              "      <td>170.031469</td>\n",
              "      <td>167.360531</td>\n",
              "      <td>167.692276</td>\n",
              "      <td>167.469756</td>\n",
              "      <td>166.596279</td>\n",
              "      <td>12.301141</td>\n",
              "      <td>NaN</td>\n",
              "      <td>NaN</td>\n",
              "      <td>44293</td>\n",
              "    </tr>\n",
              "  </tbody>\n",
              "</table>\n",
              "</div>"
            ],
            "text/plain": [
              "                     PHL-DCS-FIC1147_PV  PHL-DCS-FIC1149A_PV  ...  DIPB轉化率  index\n",
              "DATE                                                          ...                \n",
              "2014-07-04 03:10:00           42.421431            25.287783  ...      NaN  44289\n",
              "2014-07-04 03:20:00           42.418787            25.223983  ...      NaN  44290\n",
              "2014-07-04 03:30:00           42.408484            25.229512  ...      NaN  44291\n",
              "2014-07-04 03:40:00           42.394726            25.257953  ...      NaN  44292\n",
              "2014-07-04 03:50:00           42.365479            25.229533  ...      NaN  44293\n",
              "\n",
              "[5 rows x 11 columns]"
            ]
          },
          "metadata": {
            "tags": []
          },
          "execution_count": 14
        }
      ]
    },
    {
      "cell_type": "code",
      "metadata": {
        "id": "wxx4cQxEhCmM",
        "colab_type": "code",
        "outputId": "da84bea8-f015-4c56-9512-6f61bbc1379f",
        "colab": {
          "base_uri": "https://localhost:8080/",
          "height": 327
        }
      },
      "source": [
        "df_1[(df_1['index']>44867-3)&(df_1['index']<44867+3)]"
      ],
      "execution_count": 15,
      "outputs": [
        {
          "output_type": "execute_result",
          "data": {
            "text/html": [
              "<div>\n",
              "<style scoped>\n",
              "    .dataframe tbody tr th:only-of-type {\n",
              "        vertical-align: middle;\n",
              "    }\n",
              "\n",
              "    .dataframe tbody tr th {\n",
              "        vertical-align: top;\n",
              "    }\n",
              "\n",
              "    .dataframe thead th {\n",
              "        text-align: right;\n",
              "    }\n",
              "</style>\n",
              "<table border=\"1\" class=\"dataframe\">\n",
              "  <thead>\n",
              "    <tr style=\"text-align: right;\">\n",
              "      <th></th>\n",
              "      <th>PHL-DCS-FIC1147_PV</th>\n",
              "      <th>PHL-DCS-FIC1149A_PV</th>\n",
              "      <th>PHL-DCS-TIC1163_PV</th>\n",
              "      <th>PHL-DCS-TI1166_PV</th>\n",
              "      <th>PHL-DCS-TI1167_PV</th>\n",
              "      <th>PHL-DCS-TI1168_PV</th>\n",
              "      <th>PHL-DCS-TI1169_PV</th>\n",
              "      <th>PHL-DCS-PIC1166_PV</th>\n",
              "      <th>T121 EB含量</th>\n",
              "      <th>DIPB轉化率</th>\n",
              "      <th>index</th>\n",
              "    </tr>\n",
              "    <tr>\n",
              "      <th>DATE</th>\n",
              "      <th></th>\n",
              "      <th></th>\n",
              "      <th></th>\n",
              "      <th></th>\n",
              "      <th></th>\n",
              "      <th></th>\n",
              "      <th></th>\n",
              "      <th></th>\n",
              "      <th></th>\n",
              "      <th></th>\n",
              "      <th></th>\n",
              "    </tr>\n",
              "  </thead>\n",
              "  <tbody>\n",
              "    <tr>\n",
              "      <th>2014-07-08 03:10:00</th>\n",
              "      <td>42.102894</td>\n",
              "      <td>25.640122</td>\n",
              "      <td>169.950001</td>\n",
              "      <td>167.270325</td>\n",
              "      <td>167.622744</td>\n",
              "      <td>167.375915</td>\n",
              "      <td>166.525364</td>\n",
              "      <td>12.302873</td>\n",
              "      <td>NaN</td>\n",
              "      <td>NaN</td>\n",
              "      <td>44865</td>\n",
              "    </tr>\n",
              "    <tr>\n",
              "      <th>2014-07-08 03:20:00</th>\n",
              "      <td>42.119323</td>\n",
              "      <td>25.720867</td>\n",
              "      <td>169.990944</td>\n",
              "      <td>167.219870</td>\n",
              "      <td>167.677017</td>\n",
              "      <td>167.406384</td>\n",
              "      <td>166.496719</td>\n",
              "      <td>12.300079</td>\n",
              "      <td>NaN</td>\n",
              "      <td>NaN</td>\n",
              "      <td>44866</td>\n",
              "    </tr>\n",
              "    <tr>\n",
              "      <th>2014-07-08 03:30:00</th>\n",
              "      <td>42.194368</td>\n",
              "      <td>25.779293</td>\n",
              "      <td>169.890575</td>\n",
              "      <td>167.224636</td>\n",
              "      <td>167.662971</td>\n",
              "      <td>167.425084</td>\n",
              "      <td>166.496719</td>\n",
              "      <td>12.292807</td>\n",
              "      <td>NaN</td>\n",
              "      <td>NaN</td>\n",
              "      <td>44867</td>\n",
              "    </tr>\n",
              "    <tr>\n",
              "      <th>2014-07-08 03:40:00</th>\n",
              "      <td>42.175819</td>\n",
              "      <td>25.680713</td>\n",
              "      <td>169.942627</td>\n",
              "      <td>167.194162</td>\n",
              "      <td>167.598541</td>\n",
              "      <td>167.434433</td>\n",
              "      <td>166.496719</td>\n",
              "      <td>12.305640</td>\n",
              "      <td>NaN</td>\n",
              "      <td>NaN</td>\n",
              "      <td>44868</td>\n",
              "    </tr>\n",
              "    <tr>\n",
              "      <th>2014-07-08 03:50:00</th>\n",
              "      <td>42.165133</td>\n",
              "      <td>25.734088</td>\n",
              "      <td>170.039742</td>\n",
              "      <td>167.176559</td>\n",
              "      <td>167.598541</td>\n",
              "      <td>167.424849</td>\n",
              "      <td>166.496719</td>\n",
              "      <td>12.298178</td>\n",
              "      <td>NaN</td>\n",
              "      <td>NaN</td>\n",
              "      <td>44869</td>\n",
              "    </tr>\n",
              "  </tbody>\n",
              "</table>\n",
              "</div>"
            ],
            "text/plain": [
              "                     PHL-DCS-FIC1147_PV  PHL-DCS-FIC1149A_PV  ...  DIPB轉化率  index\n",
              "DATE                                                          ...                \n",
              "2014-07-08 03:10:00           42.102894            25.640122  ...      NaN  44865\n",
              "2014-07-08 03:20:00           42.119323            25.720867  ...      NaN  44866\n",
              "2014-07-08 03:30:00           42.194368            25.779293  ...      NaN  44867\n",
              "2014-07-08 03:40:00           42.175819            25.680713  ...      NaN  44868\n",
              "2014-07-08 03:50:00           42.165133            25.734088  ...      NaN  44869\n",
              "\n",
              "[5 rows x 11 columns]"
            ]
          },
          "metadata": {
            "tags": []
          },
          "execution_count": 15
        }
      ]
    },
    {
      "cell_type": "markdown",
      "metadata": {
        "id": "btQNMSNMhjHp",
        "colab_type": "text"
      },
      "source": [
        "發現一個問題DIPB取樣時間是一天是144個row一筆,前面正常,但是到後面幾乎都是NaN"
      ]
    },
    {
      "cell_type": "markdown",
      "metadata": {
        "id": "cyJG113hhxFE",
        "colab_type": "text"
      },
      "source": [
        "量測器壞了?,更改取樣頻率?"
      ]
    },
    {
      "cell_type": "markdown",
      "metadata": {
        "id": "wM50To-1h6a1",
        "colab_type": "text"
      },
      "source": [
        "看看DIPB有多少個值是有值的"
      ]
    },
    {
      "cell_type": "code",
      "metadata": {
        "id": "ScKBO_zuhfs6",
        "colab_type": "code",
        "outputId": "f059d250-1c17-4970-b3de-238cfd397d26",
        "colab": {
          "base_uri": "https://localhost:8080/",
          "height": 33
        }
      },
      "source": [
        "len(pd.Series(y_train).dropna())"
      ],
      "execution_count": 16,
      "outputs": [
        {
          "output_type": "execute_result",
          "data": {
            "text/plain": [
              "81"
            ]
          },
          "metadata": {
            "tags": []
          },
          "execution_count": 16
        }
      ]
    },
    {
      "cell_type": "markdown",
      "metadata": {
        "id": "2lFMaW8RiKrS",
        "colab_type": "text"
      },
      "source": [
        "只有81個y"
      ]
    },
    {
      "cell_type": "code",
      "metadata": {
        "id": "PqVC6geTiA3Q",
        "colab_type": "code",
        "outputId": "d2c5f881-9425-4f4a-e0e6-88ffe453df93",
        "colab": {
          "base_uri": "https://localhost:8080/",
          "height": 50
        }
      },
      "source": [
        "new_X_train = []\n",
        "new_y_train = []\n",
        "for x_data,y_data in zip(X_train,y_train):\n",
        "  if y_data>0:#有值才製作一筆case\n",
        "    new_X_train.append(x_data)\n",
        "    new_y_train.append(y_data)\n",
        "    \n",
        "new_X_train = np.array(new_X_train)\n",
        "new_y_train = np.array(new_y_train)\n",
        "\n",
        "print(new_X_train.shape)\n",
        "print(new_y_train.shape)"
      ],
      "execution_count": 17,
      "outputs": [
        {
          "output_type": "stream",
          "text": [
            "(81, 144, 8)\n",
            "(81,)\n"
          ],
          "name": "stdout"
        }
      ]
    },
    {
      "cell_type": "code",
      "metadata": {
        "id": "oEJVd2pwkW1L",
        "colab_type": "code",
        "colab": {}
      },
      "source": [
        "X_train , y_train = new_X_train ,new_y_train"
      ],
      "execution_count": 0,
      "outputs": []
    },
    {
      "cell_type": "code",
      "metadata": {
        "id": "rfJ5FttdlYbw",
        "colab_type": "code",
        "outputId": "7e61ab23-5319-4a9f-d41f-2ee489ac811e",
        "colab": {
          "base_uri": "https://localhost:8080/",
          "height": 50
        }
      },
      "source": [
        "print(X_train.shape)\n",
        "print(y_train.shape)"
      ],
      "execution_count": 19,
      "outputs": [
        {
          "output_type": "stream",
          "text": [
            "(81, 144, 8)\n",
            "(81,)\n"
          ],
          "name": "stdout"
        }
      ]
    },
    {
      "cell_type": "markdown",
      "metadata": {
        "id": "_iZwoMUdlkkG",
        "colab_type": "text"
      },
      "source": [
        "# LSTM Modeling"
      ]
    },
    {
      "cell_type": "code",
      "metadata": {
        "id": "ALBq88oUlZpM",
        "colab_type": "code",
        "colab": {
          "base_uri": "https://localhost:8080/",
          "height": 270
        },
        "outputId": "b27903e0-9dc9-4fc5-f2eb-7cdc0c2e7d6f"
      },
      "source": [
        "from keras.models import Sequential\n",
        "from keras.layers.core import Dense, Dropout, Activation\n",
        "from keras.layers.recurrent import LSTM\n",
        "import keras\n",
        "\n",
        "def build_model(input_length, input_dim):\n",
        "    d = 0.3\n",
        "    model = Sequential()\n",
        "\n",
        "    model.add(LSTM(256, input_shape=(input_length, input_dim), return_sequences=True))\n",
        "    model.add(Dropout(d))\n",
        "\n",
        "    model.add(LSTM(256, input_shape=(input_length, input_dim), return_sequences=False))\n",
        "    model.add(Dropout(d))\n",
        "\n",
        "    model.add(Dense(16,kernel_initializer=\"uniform\",activation='elu'))\n",
        "    model.add(Dense(1,kernel_initializer=\"uniform\",activation='linear'))\n",
        "\n",
        "    model.compile(loss='mse',optimizer='adam', metrics=['accuracy'])\n",
        "\n",
        "    return model\n",
        "\n",
        "# 144天、8維\n",
        "model = build_model(144,8)"
      ],
      "execution_count": 20,
      "outputs": [
        {
          "output_type": "stream",
          "text": [
            "Using TensorFlow backend.\n"
          ],
          "name": "stderr"
        },
        {
          "output_type": "stream",
          "text": [
            "WARNING:tensorflow:From /usr/local/lib/python3.6/dist-packages/keras/backend/tensorflow_backend.py:66: The name tf.get_default_graph is deprecated. Please use tf.compat.v1.get_default_graph instead.\n",
            "\n",
            "WARNING:tensorflow:From /usr/local/lib/python3.6/dist-packages/keras/backend/tensorflow_backend.py:541: The name tf.placeholder is deprecated. Please use tf.compat.v1.placeholder instead.\n",
            "\n",
            "WARNING:tensorflow:From /usr/local/lib/python3.6/dist-packages/keras/backend/tensorflow_backend.py:4432: The name tf.random_uniform is deprecated. Please use tf.random.uniform instead.\n",
            "\n",
            "WARNING:tensorflow:From /usr/local/lib/python3.6/dist-packages/keras/backend/tensorflow_backend.py:148: The name tf.placeholder_with_default is deprecated. Please use tf.compat.v1.placeholder_with_default instead.\n",
            "\n",
            "WARNING:tensorflow:From /usr/local/lib/python3.6/dist-packages/keras/backend/tensorflow_backend.py:3733: calling dropout (from tensorflow.python.ops.nn_ops) with keep_prob is deprecated and will be removed in a future version.\n",
            "Instructions for updating:\n",
            "Please use `rate` instead of `keep_prob`. Rate should be set to `rate = 1 - keep_prob`.\n",
            "WARNING:tensorflow:From /usr/local/lib/python3.6/dist-packages/keras/optimizers.py:793: The name tf.train.Optimizer is deprecated. Please use tf.compat.v1.train.Optimizer instead.\n",
            "\n"
          ],
          "name": "stdout"
        }
      ]
    },
    {
      "cell_type": "code",
      "metadata": {
        "id": "0TVBr2FPkK02",
        "colab_type": "code",
        "colab": {}
      },
      "source": [
        "from keras.callbacks import EarlyStopping\n",
        "early_stopping = EarlyStopping(monitor='val_loss', patience=50, verbose=2,restore_best_weights=True)"
      ],
      "execution_count": 0,
      "outputs": []
    },
    {
      "cell_type": "code",
      "metadata": {
        "id": "wkz_6FHGjeAu",
        "colab_type": "code",
        "outputId": "5660f954-d4ea-4416-bd96-3026a5916cc0",
        "colab": {
          "base_uri": "https://localhost:8080/",
          "height": 1000
        }
      },
      "source": [
        "history = model.fit( X_train ,y_train ,batch_size=X_train.shape[0] ,epochs=3000 ,validation_split=0.1 ,verbose=1 ,callbacks=[early_stopping])"
      ],
      "execution_count": 0,
      "outputs": [
        {
          "output_type": "stream",
          "text": [
            "Train on 72 samples, validate on 9 samples\n",
            "Epoch 1/3000\n",
            "72/72 [==============================] - 2s 33ms/step - loss: 3571.3516 - acc: 0.0000e+00 - val_loss: 4622.2349 - val_acc: 0.0000e+00\n",
            "Epoch 2/3000\n",
            "72/72 [==============================] - 1s 10ms/step - loss: 3559.1636 - acc: 0.0000e+00 - val_loss: 4607.3687 - val_acc: 0.0000e+00\n",
            "Epoch 3/3000\n",
            "72/72 [==============================] - 1s 10ms/step - loss: 3546.2334 - acc: 0.0000e+00 - val_loss: 4591.8184 - val_acc: 0.0000e+00\n",
            "Epoch 4/3000\n",
            "72/72 [==============================] - 1s 10ms/step - loss: 3532.6296 - acc: 0.0000e+00 - val_loss: 4576.0352 - val_acc: 0.0000e+00\n",
            "Epoch 5/3000\n",
            "72/72 [==============================] - 1s 10ms/step - loss: 3519.1440 - acc: 0.0000e+00 - val_loss: 4559.9287 - val_acc: 0.0000e+00\n",
            "Epoch 6/3000\n",
            "72/72 [==============================] - 1s 10ms/step - loss: 3505.0366 - acc: 0.0000e+00 - val_loss: 4543.0430 - val_acc: 0.0000e+00\n",
            "Epoch 7/3000\n",
            "72/72 [==============================] - 1s 10ms/step - loss: 3489.1787 - acc: 0.0000e+00 - val_loss: 4524.2549 - val_acc: 0.0000e+00\n",
            "Epoch 8/3000\n",
            "72/72 [==============================] - 1s 10ms/step - loss: 3473.7275 - acc: 0.0000e+00 - val_loss: 4503.3394 - val_acc: 0.0000e+00\n",
            "Epoch 9/3000\n",
            "72/72 [==============================] - 1s 10ms/step - loss: 3455.6040 - acc: 0.0000e+00 - val_loss: 4479.1270 - val_acc: 0.0000e+00\n",
            "Epoch 10/3000\n",
            "72/72 [==============================] - 1s 10ms/step - loss: 3434.0398 - acc: 0.0000e+00 - val_loss: 4453.6465 - val_acc: 0.0000e+00\n",
            "Epoch 11/3000\n",
            "72/72 [==============================] - 1s 10ms/step - loss: 3412.9194 - acc: 0.0000e+00 - val_loss: 4428.2324 - val_acc: 0.0000e+00\n",
            "Epoch 12/3000\n",
            "72/72 [==============================] - 1s 11ms/step - loss: 3390.6147 - acc: 0.0000e+00 - val_loss: 4403.0674 - val_acc: 0.0000e+00\n",
            "Epoch 13/3000\n",
            "72/72 [==============================] - 1s 10ms/step - loss: 3368.6104 - acc: 0.0000e+00 - val_loss: 4377.8716 - val_acc: 0.0000e+00\n",
            "Epoch 14/3000\n",
            "72/72 [==============================] - 1s 10ms/step - loss: 3343.6436 - acc: 0.0000e+00 - val_loss: 4352.5884 - val_acc: 0.0000e+00\n",
            "Epoch 15/3000\n",
            "72/72 [==============================] - 1s 10ms/step - loss: 3322.8086 - acc: 0.0000e+00 - val_loss: 4327.0137 - val_acc: 0.0000e+00\n",
            "Epoch 16/3000\n",
            "72/72 [==============================] - 1s 10ms/step - loss: 3303.6685 - acc: 0.0000e+00 - val_loss: 4301.1680 - val_acc: 0.0000e+00\n",
            "Epoch 17/3000\n",
            "72/72 [==============================] - 1s 10ms/step - loss: 3281.3328 - acc: 0.0000e+00 - val_loss: 4274.5679 - val_acc: 0.0000e+00\n",
            "Epoch 18/3000\n",
            "72/72 [==============================] - 1s 10ms/step - loss: 3256.0261 - acc: 0.0000e+00 - val_loss: 4247.2842 - val_acc: 0.0000e+00\n",
            "Epoch 19/3000\n",
            "72/72 [==============================] - 1s 10ms/step - loss: 3230.3037 - acc: 0.0000e+00 - val_loss: 4219.0303 - val_acc: 0.0000e+00\n",
            "Epoch 20/3000\n",
            "72/72 [==============================] - 1s 10ms/step - loss: 3207.6445 - acc: 0.0000e+00 - val_loss: 4190.0332 - val_acc: 0.0000e+00\n",
            "Epoch 21/3000\n",
            "72/72 [==============================] - 1s 10ms/step - loss: 3182.8667 - acc: 0.0000e+00 - val_loss: 4160.3081 - val_acc: 0.0000e+00\n",
            "Epoch 22/3000\n",
            "72/72 [==============================] - 1s 10ms/step - loss: 3156.5769 - acc: 0.0000e+00 - val_loss: 4129.7773 - val_acc: 0.0000e+00\n",
            "Epoch 23/3000\n",
            "72/72 [==============================] - 1s 10ms/step - loss: 3131.8557 - acc: 0.0000e+00 - val_loss: 4098.5034 - val_acc: 0.0000e+00\n",
            "Epoch 24/3000\n",
            "72/72 [==============================] - 1s 10ms/step - loss: 3104.6592 - acc: 0.0000e+00 - val_loss: 4066.2629 - val_acc: 0.0000e+00\n",
            "Epoch 25/3000\n",
            "72/72 [==============================] - 1s 10ms/step - loss: 3078.6021 - acc: 0.0000e+00 - val_loss: 4033.0283 - val_acc: 0.0000e+00\n",
            "Epoch 26/3000\n",
            "72/72 [==============================] - 1s 9ms/step - loss: 3046.9595 - acc: 0.0000e+00 - val_loss: 3998.8174 - val_acc: 0.0000e+00\n",
            "Epoch 27/3000\n",
            "72/72 [==============================] - 1s 10ms/step - loss: 3021.9082 - acc: 0.0000e+00 - val_loss: 3963.6318 - val_acc: 0.0000e+00\n",
            "Epoch 28/3000\n",
            "72/72 [==============================] - 1s 10ms/step - loss: 2988.1958 - acc: 0.0000e+00 - val_loss: 3927.4463 - val_acc: 0.0000e+00\n",
            "Epoch 29/3000\n",
            "72/72 [==============================] - 1s 9ms/step - loss: 2958.6926 - acc: 0.0000e+00 - val_loss: 3890.2690 - val_acc: 0.0000e+00\n",
            "Epoch 30/3000\n",
            "72/72 [==============================] - 1s 10ms/step - loss: 2920.4150 - acc: 0.0000e+00 - val_loss: 3852.0850 - val_acc: 0.0000e+00\n",
            "Epoch 31/3000\n",
            "72/72 [==============================] - 1s 10ms/step - loss: 2890.6560 - acc: 0.0000e+00 - val_loss: 3813.0386 - val_acc: 0.0000e+00\n",
            "Epoch 32/3000\n",
            "72/72 [==============================] - 1s 10ms/step - loss: 2854.6133 - acc: 0.0000e+00 - val_loss: 3773.1909 - val_acc: 0.0000e+00\n",
            "Epoch 33/3000\n",
            "72/72 [==============================] - 1s 10ms/step - loss: 2823.3511 - acc: 0.0000e+00 - val_loss: 3732.4587 - val_acc: 0.0000e+00\n",
            "Epoch 34/3000\n",
            "72/72 [==============================] - 1s 10ms/step - loss: 2791.0208 - acc: 0.0000e+00 - val_loss: 3690.8369 - val_acc: 0.0000e+00\n",
            "Epoch 35/3000\n",
            "72/72 [==============================] - 1s 10ms/step - loss: 2755.9990 - acc: 0.0000e+00 - val_loss: 3648.3398 - val_acc: 0.0000e+00\n",
            "Epoch 36/3000\n",
            "72/72 [==============================] - 1s 10ms/step - loss: 2715.3394 - acc: 0.0000e+00 - val_loss: 3604.9619 - val_acc: 0.0000e+00\n",
            "Epoch 37/3000\n",
            "72/72 [==============================] - 1s 10ms/step - loss: 2677.1863 - acc: 0.0000e+00 - val_loss: 3560.7158 - val_acc: 0.0000e+00\n",
            "Epoch 38/3000\n",
            "72/72 [==============================] - 1s 10ms/step - loss: 2638.6956 - acc: 0.0000e+00 - val_loss: 3515.6091 - val_acc: 0.0000e+00\n",
            "Epoch 39/3000\n",
            "72/72 [==============================] - 1s 10ms/step - loss: 2600.6460 - acc: 0.0000e+00 - val_loss: 3469.6589 - val_acc: 0.0000e+00\n",
            "Epoch 40/3000\n",
            "72/72 [==============================] - 1s 10ms/step - loss: 2567.7080 - acc: 0.0000e+00 - val_loss: 3422.8955 - val_acc: 0.0000e+00\n",
            "Epoch 41/3000\n",
            "72/72 [==============================] - 1s 10ms/step - loss: 2522.8633 - acc: 0.0000e+00 - val_loss: 3375.3333 - val_acc: 0.0000e+00\n",
            "Epoch 42/3000\n",
            "72/72 [==============================] - 1s 10ms/step - loss: 2491.4456 - acc: 0.0000e+00 - val_loss: 3327.0237 - val_acc: 0.0000e+00\n",
            "Epoch 43/3000\n",
            "72/72 [==============================] - 1s 10ms/step - loss: 2460.1191 - acc: 0.0000e+00 - val_loss: 3278.0210 - val_acc: 0.0000e+00\n",
            "Epoch 44/3000\n",
            "72/72 [==============================] - 1s 10ms/step - loss: 2395.9021 - acc: 0.0000e+00 - val_loss: 3228.3152 - val_acc: 0.0000e+00\n",
            "Epoch 45/3000\n",
            "72/72 [==============================] - 1s 11ms/step - loss: 2366.2349 - acc: 0.0000e+00 - val_loss: 3178.0408 - val_acc: 0.0000e+00\n",
            "Epoch 46/3000\n",
            "72/72 [==============================] - 1s 10ms/step - loss: 2314.7041 - acc: 0.0000e+00 - val_loss: 3127.1199 - val_acc: 0.0000e+00\n",
            "Epoch 47/3000\n",
            "72/72 [==============================] - 1s 11ms/step - loss: 2275.3811 - acc: 0.0000e+00 - val_loss: 3075.5942 - val_acc: 0.0000e+00\n",
            "Epoch 48/3000\n",
            "72/72 [==============================] - 1s 10ms/step - loss: 2229.4880 - acc: 0.0000e+00 - val_loss: 3023.4849 - val_acc: 0.0000e+00\n",
            "Epoch 49/3000\n",
            "72/72 [==============================] - 1s 10ms/step - loss: 2188.5481 - acc: 0.0000e+00 - val_loss: 2970.8340 - val_acc: 0.0000e+00\n",
            "Epoch 50/3000\n",
            "72/72 [==============================] - 1s 10ms/step - loss: 2140.9666 - acc: 0.0000e+00 - val_loss: 2917.6707 - val_acc: 0.0000e+00\n",
            "Epoch 51/3000\n",
            "72/72 [==============================] - 1s 10ms/step - loss: 2107.5732 - acc: 0.0000e+00 - val_loss: 2864.0532 - val_acc: 0.0000e+00\n",
            "Epoch 52/3000\n",
            "72/72 [==============================] - 1s 10ms/step - loss: 2063.1653 - acc: 0.0000e+00 - val_loss: 2810.0166 - val_acc: 0.0000e+00\n",
            "Epoch 53/3000\n",
            "72/72 [==============================] - 1s 10ms/step - loss: 2014.0045 - acc: 0.0000e+00 - val_loss: 2755.5876 - val_acc: 0.0000e+00\n",
            "Epoch 54/3000\n",
            "72/72 [==============================] - 1s 9ms/step - loss: 1968.3379 - acc: 0.0000e+00 - val_loss: 2700.8032 - val_acc: 0.0000e+00\n",
            "Epoch 55/3000\n",
            "72/72 [==============================] - 1s 10ms/step - loss: 1921.6127 - acc: 0.0000e+00 - val_loss: 2645.7043 - val_acc: 0.0000e+00\n",
            "Epoch 56/3000\n",
            "72/72 [==============================] - 1s 10ms/step - loss: 1864.6245 - acc: 0.0000e+00 - val_loss: 2590.3042 - val_acc: 0.0000e+00\n",
            "Epoch 57/3000\n",
            "72/72 [==============================] - 1s 10ms/step - loss: 1827.0803 - acc: 0.0000e+00 - val_loss: 2534.6658 - val_acc: 0.0000e+00\n",
            "Epoch 58/3000\n",
            "72/72 [==============================] - 1s 10ms/step - loss: 1776.6532 - acc: 0.0000e+00 - val_loss: 2478.8223 - val_acc: 0.0000e+00\n",
            "Epoch 59/3000\n",
            "72/72 [==============================] - 1s 10ms/step - loss: 1719.4288 - acc: 0.0000e+00 - val_loss: 2422.7979 - val_acc: 0.0000e+00\n",
            "Epoch 60/3000\n",
            "72/72 [==============================] - 1s 10ms/step - loss: 1693.5802 - acc: 0.0000e+00 - val_loss: 2366.6787 - val_acc: 0.0000e+00\n",
            "Epoch 61/3000\n",
            "72/72 [==============================] - 1s 9ms/step - loss: 1648.8701 - acc: 0.0000e+00 - val_loss: 2310.5022 - val_acc: 0.0000e+00\n",
            "Epoch 62/3000\n",
            "72/72 [==============================] - 1s 10ms/step - loss: 1604.3534 - acc: 0.0000e+00 - val_loss: 2254.3127 - val_acc: 0.0000e+00\n",
            "Epoch 63/3000\n",
            "72/72 [==============================] - 1s 10ms/step - loss: 1548.2009 - acc: 0.0000e+00 - val_loss: 2198.1443 - val_acc: 0.0000e+00\n",
            "Epoch 64/3000\n",
            "72/72 [==============================] - 1s 10ms/step - loss: 1496.3513 - acc: 0.0000e+00 - val_loss: 2142.0371 - val_acc: 0.0000e+00\n",
            "Epoch 65/3000\n",
            "72/72 [==============================] - 1s 10ms/step - loss: 1454.7706 - acc: 0.0000e+00 - val_loss: 2086.0466 - val_acc: 0.0000e+00\n",
            "Epoch 66/3000\n",
            "72/72 [==============================] - 1s 10ms/step - loss: 1426.9276 - acc: 0.0000e+00 - val_loss: 2030.2361 - val_acc: 0.0000e+00\n",
            "Epoch 67/3000\n",
            "72/72 [==============================] - 1s 9ms/step - loss: 1377.7338 - acc: 0.0000e+00 - val_loss: 1974.6459 - val_acc: 0.0000e+00\n",
            "Epoch 68/3000\n",
            "72/72 [==============================] - 1s 10ms/step - loss: 1307.1401 - acc: 0.0000e+00 - val_loss: 1919.3003 - val_acc: 0.0000e+00\n",
            "Epoch 69/3000\n",
            "72/72 [==============================] - 1s 10ms/step - loss: 1276.9795 - acc: 0.0000e+00 - val_loss: 1864.2544 - val_acc: 0.0000e+00\n",
            "Epoch 70/3000\n",
            "72/72 [==============================] - 1s 10ms/step - loss: 1224.5869 - acc: 0.0000e+00 - val_loss: 1809.5450 - val_acc: 0.0000e+00\n",
            "Epoch 71/3000\n",
            "72/72 [==============================] - 1s 10ms/step - loss: 1198.1998 - acc: 0.0000e+00 - val_loss: 1755.2388 - val_acc: 0.0000e+00\n",
            "Epoch 72/3000\n",
            "72/72 [==============================] - 1s 10ms/step - loss: 1147.7195 - acc: 0.0000e+00 - val_loss: 1701.3754 - val_acc: 0.0000e+00\n",
            "Epoch 73/3000\n",
            "72/72 [==============================] - 1s 9ms/step - loss: 1096.8969 - acc: 0.0000e+00 - val_loss: 1647.9917 - val_acc: 0.0000e+00\n",
            "Epoch 74/3000\n",
            "72/72 [==============================] - 1s 9ms/step - loss: 1059.0536 - acc: 0.0000e+00 - val_loss: 1595.1376 - val_acc: 0.0000e+00\n",
            "Epoch 75/3000\n",
            "72/72 [==============================] - 1s 10ms/step - loss: 1034.7852 - acc: 0.0000e+00 - val_loss: 1542.8663 - val_acc: 0.0000e+00\n",
            "Epoch 76/3000\n",
            "72/72 [==============================] - 1s 10ms/step - loss: 978.2986 - acc: 0.0000e+00 - val_loss: 1491.2098 - val_acc: 0.0000e+00\n",
            "Epoch 77/3000\n",
            "72/72 [==============================] - 1s 10ms/step - loss: 944.6194 - acc: 0.0000e+00 - val_loss: 1440.2306 - val_acc: 0.0000e+00\n",
            "Epoch 78/3000\n",
            "72/72 [==============================] - 1s 10ms/step - loss: 900.2878 - acc: 0.0000e+00 - val_loss: 1389.9469 - val_acc: 0.0000e+00\n",
            "Epoch 79/3000\n",
            "72/72 [==============================] - 1s 10ms/step - loss: 860.2054 - acc: 0.0000e+00 - val_loss: 1340.3984 - val_acc: 0.0000e+00\n",
            "Epoch 80/3000\n",
            "72/72 [==============================] - 1s 10ms/step - loss: 823.6529 - acc: 0.0000e+00 - val_loss: 1291.6307 - val_acc: 0.0000e+00\n",
            "Epoch 81/3000\n",
            "72/72 [==============================] - 1s 10ms/step - loss: 804.1971 - acc: 0.0000e+00 - val_loss: 1243.6912 - val_acc: 0.0000e+00\n",
            "Epoch 82/3000\n",
            "72/72 [==============================] - 1s 9ms/step - loss: 744.3922 - acc: 0.0000e+00 - val_loss: 1196.6239 - val_acc: 0.0000e+00\n",
            "Epoch 83/3000\n",
            "72/72 [==============================] - 1s 10ms/step - loss: 732.9290 - acc: 0.0000e+00 - val_loss: 1150.4358 - val_acc: 0.0000e+00\n",
            "Epoch 84/3000\n",
            "72/72 [==============================] - 1s 10ms/step - loss: 688.2650 - acc: 0.0000e+00 - val_loss: 1105.1674 - val_acc: 0.0000e+00\n",
            "Epoch 85/3000\n",
            "72/72 [==============================] - 1s 10ms/step - loss: 666.3793 - acc: 0.0000e+00 - val_loss: 1060.8326 - val_acc: 0.0000e+00\n",
            "Epoch 86/3000\n",
            "72/72 [==============================] - 1s 10ms/step - loss: 630.2443 - acc: 0.0000e+00 - val_loss: 1017.4805 - val_acc: 0.0000e+00\n",
            "Epoch 87/3000\n",
            "72/72 [==============================] - 1s 10ms/step - loss: 601.8357 - acc: 0.0000e+00 - val_loss: 975.1176 - val_acc: 0.0000e+00\n",
            "Epoch 88/3000\n",
            "72/72 [==============================] - 1s 10ms/step - loss: 559.3053 - acc: 0.0000e+00 - val_loss: 933.7984 - val_acc: 0.0000e+00\n",
            "Epoch 89/3000\n",
            "72/72 [==============================] - 1s 9ms/step - loss: 533.3355 - acc: 0.0000e+00 - val_loss: 893.5333 - val_acc: 0.0000e+00\n",
            "Epoch 90/3000\n",
            "72/72 [==============================] - 1s 10ms/step - loss: 486.5774 - acc: 0.0000e+00 - val_loss: 854.3689 - val_acc: 0.0000e+00\n",
            "Epoch 91/3000\n",
            "72/72 [==============================] - 1s 10ms/step - loss: 481.2725 - acc: 0.0000e+00 - val_loss: 816.2945 - val_acc: 0.0000e+00\n",
            "Epoch 92/3000\n",
            "72/72 [==============================] - 1s 10ms/step - loss: 442.4280 - acc: 0.0000e+00 - val_loss: 779.3193 - val_acc: 0.0000e+00\n",
            "Epoch 93/3000\n",
            "72/72 [==============================] - 1s 9ms/step - loss: 425.4172 - acc: 0.0000e+00 - val_loss: 743.4617 - val_acc: 0.0000e+00\n",
            "Epoch 94/3000\n",
            "72/72 [==============================] - 1s 10ms/step - loss: 402.5770 - acc: 0.0000e+00 - val_loss: 708.7257 - val_acc: 0.0000e+00\n",
            "Epoch 95/3000\n",
            "72/72 [==============================] - 1s 10ms/step - loss: 368.0465 - acc: 0.0000e+00 - val_loss: 675.1398 - val_acc: 0.0000e+00\n",
            "Epoch 96/3000\n",
            "72/72 [==============================] - 1s 9ms/step - loss: 352.1615 - acc: 0.0000e+00 - val_loss: 642.6882 - val_acc: 0.0000e+00\n",
            "Epoch 97/3000\n",
            "72/72 [==============================] - 1s 10ms/step - loss: 333.3713 - acc: 0.0000e+00 - val_loss: 611.3450 - val_acc: 0.0000e+00\n",
            "Epoch 98/3000\n",
            "72/72 [==============================] - 1s 10ms/step - loss: 309.6667 - acc: 0.0000e+00 - val_loss: 581.1492 - val_acc: 0.0000e+00\n",
            "Epoch 99/3000\n",
            "72/72 [==============================] - 1s 10ms/step - loss: 284.2421 - acc: 0.0000e+00 - val_loss: 552.0920 - val_acc: 0.0000e+00\n",
            "Epoch 100/3000\n",
            "72/72 [==============================] - 1s 10ms/step - loss: 274.4771 - acc: 0.0000e+00 - val_loss: 524.1476 - val_acc: 0.0000e+00\n",
            "Epoch 101/3000\n",
            "72/72 [==============================] - 1s 10ms/step - loss: 253.6141 - acc: 0.0000e+00 - val_loss: 497.3189 - val_acc: 0.0000e+00\n",
            "Epoch 102/3000\n",
            "72/72 [==============================] - 1s 10ms/step - loss: 250.1404 - acc: 0.0000e+00 - val_loss: 471.6129 - val_acc: 0.0000e+00\n",
            "Epoch 103/3000\n",
            "72/72 [==============================] - 1s 9ms/step - loss: 222.7338 - acc: 0.0000e+00 - val_loss: 447.0389 - val_acc: 0.0000e+00\n",
            "Epoch 104/3000\n",
            "72/72 [==============================] - 1s 10ms/step - loss: 204.2388 - acc: 0.0000e+00 - val_loss: 423.5434 - val_acc: 0.0000e+00\n",
            "Epoch 105/3000\n",
            "72/72 [==============================] - 1s 10ms/step - loss: 194.4114 - acc: 0.0000e+00 - val_loss: 401.1222 - val_acc: 0.0000e+00\n",
            "Epoch 106/3000\n",
            "72/72 [==============================] - 1s 10ms/step - loss: 187.0164 - acc: 0.0000e+00 - val_loss: 379.7452 - val_acc: 0.0000e+00\n",
            "Epoch 107/3000\n",
            "72/72 [==============================] - 1s 9ms/step - loss: 193.6558 - acc: 0.0000e+00 - val_loss: 359.3568 - val_acc: 0.0000e+00\n",
            "Epoch 108/3000\n",
            "72/72 [==============================] - 1s 10ms/step - loss: 163.3061 - acc: 0.0000e+00 - val_loss: 339.9823 - val_acc: 0.0000e+00\n",
            "Epoch 109/3000\n",
            "72/72 [==============================] - 1s 10ms/step - loss: 149.6077 - acc: 0.0000e+00 - val_loss: 321.5955 - val_acc: 0.0000e+00\n",
            "Epoch 110/3000\n",
            "72/72 [==============================] - 1s 10ms/step - loss: 144.2563 - acc: 0.0000e+00 - val_loss: 304.1597 - val_acc: 0.0000e+00\n",
            "Epoch 111/3000\n",
            "72/72 [==============================] - 1s 10ms/step - loss: 133.6469 - acc: 0.0000e+00 - val_loss: 287.6896 - val_acc: 0.0000e+00\n",
            "Epoch 112/3000\n",
            "72/72 [==============================] - 1s 10ms/step - loss: 124.5505 - acc: 0.0000e+00 - val_loss: 272.1615 - val_acc: 0.0000e+00\n",
            "Epoch 113/3000\n",
            "72/72 [==============================] - 1s 10ms/step - loss: 122.6986 - acc: 0.0000e+00 - val_loss: 257.4939 - val_acc: 0.0000e+00\n",
            "Epoch 114/3000\n",
            "72/72 [==============================] - 1s 10ms/step - loss: 112.3164 - acc: 0.0000e+00 - val_loss: 243.6864 - val_acc: 0.0000e+00\n",
            "Epoch 115/3000\n",
            "72/72 [==============================] - 1s 9ms/step - loss: 101.2720 - acc: 0.0000e+00 - val_loss: 230.7018 - val_acc: 0.0000e+00\n",
            "Epoch 116/3000\n",
            "72/72 [==============================] - 1s 10ms/step - loss: 98.7719 - acc: 0.0000e+00 - val_loss: 218.4817 - val_acc: 0.0000e+00\n",
            "Epoch 117/3000\n",
            "72/72 [==============================] - 1s 10ms/step - loss: 96.2876 - acc: 0.0000e+00 - val_loss: 207.0012 - val_acc: 0.0000e+00\n",
            "Epoch 118/3000\n",
            "72/72 [==============================] - 1s 10ms/step - loss: 87.0555 - acc: 0.0000e+00 - val_loss: 196.2894 - val_acc: 0.0000e+00\n",
            "Epoch 119/3000\n",
            "72/72 [==============================] - 1s 10ms/step - loss: 88.9998 - acc: 0.0000e+00 - val_loss: 186.2457 - val_acc: 0.0000e+00\n",
            "Epoch 120/3000\n",
            "72/72 [==============================] - 1s 10ms/step - loss: 83.4650 - acc: 0.0000e+00 - val_loss: 176.8543 - val_acc: 0.0000e+00\n",
            "Epoch 121/3000\n",
            "72/72 [==============================] - 1s 10ms/step - loss: 75.8222 - acc: 0.0000e+00 - val_loss: 168.0604 - val_acc: 0.0000e+00\n",
            "Epoch 122/3000\n",
            "72/72 [==============================] - 1s 10ms/step - loss: 82.0545 - acc: 0.0000e+00 - val_loss: 159.8577 - val_acc: 0.0000e+00\n",
            "Epoch 123/3000\n",
            "72/72 [==============================] - 1s 10ms/step - loss: 70.0997 - acc: 0.0000e+00 - val_loss: 152.2397 - val_acc: 0.0000e+00\n",
            "Epoch 124/3000\n",
            "72/72 [==============================] - 1s 9ms/step - loss: 75.6370 - acc: 0.0000e+00 - val_loss: 145.1592 - val_acc: 0.0000e+00\n",
            "Epoch 125/3000\n",
            "72/72 [==============================] - 1s 10ms/step - loss: 62.9267 - acc: 0.0000e+00 - val_loss: 138.6007 - val_acc: 0.0000e+00\n",
            "Epoch 126/3000\n",
            "72/72 [==============================] - 1s 10ms/step - loss: 65.2525 - acc: 0.0000e+00 - val_loss: 132.4922 - val_acc: 0.0000e+00\n",
            "Epoch 127/3000\n",
            "72/72 [==============================] - 1s 10ms/step - loss: 76.1722 - acc: 0.0000e+00 - val_loss: 126.8602 - val_acc: 0.0000e+00\n",
            "Epoch 128/3000\n",
            "72/72 [==============================] - 1s 9ms/step - loss: 68.2874 - acc: 0.0000e+00 - val_loss: 121.6998 - val_acc: 0.0000e+00\n",
            "Epoch 129/3000\n",
            "72/72 [==============================] - 1s 10ms/step - loss: 62.6992 - acc: 0.0000e+00 - val_loss: 116.9656 - val_acc: 0.0000e+00\n",
            "Epoch 130/3000\n",
            "72/72 [==============================] - 1s 10ms/step - loss: 61.5608 - acc: 0.0000e+00 - val_loss: 112.5728 - val_acc: 0.0000e+00\n",
            "Epoch 131/3000\n",
            "72/72 [==============================] - 1s 10ms/step - loss: 60.2772 - acc: 0.0000e+00 - val_loss: 108.5293 - val_acc: 0.0000e+00\n",
            "Epoch 132/3000\n",
            "72/72 [==============================] - 1s 10ms/step - loss: 56.5633 - acc: 0.0000e+00 - val_loss: 104.8493 - val_acc: 0.0000e+00\n",
            "Epoch 133/3000\n",
            "72/72 [==============================] - 1s 9ms/step - loss: 63.8588 - acc: 0.0000e+00 - val_loss: 101.4582 - val_acc: 0.0000e+00\n",
            "Epoch 134/3000\n",
            "72/72 [==============================] - 1s 10ms/step - loss: 67.7899 - acc: 0.0000e+00 - val_loss: 98.3921 - val_acc: 0.0000e+00\n",
            "Epoch 135/3000\n",
            "72/72 [==============================] - 1s 10ms/step - loss: 61.2048 - acc: 0.0000e+00 - val_loss: 95.6343 - val_acc: 0.0000e+00\n",
            "Epoch 136/3000\n",
            "72/72 [==============================] - 1s 10ms/step - loss: 61.9064 - acc: 0.0000e+00 - val_loss: 93.1317 - val_acc: 0.0000e+00\n",
            "Epoch 137/3000\n",
            "72/72 [==============================] - 1s 10ms/step - loss: 66.8370 - acc: 0.0000e+00 - val_loss: 90.8379 - val_acc: 0.0000e+00\n",
            "Epoch 138/3000\n",
            "72/72 [==============================] - 1s 10ms/step - loss: 73.2345 - acc: 0.0000e+00 - val_loss: 88.7819 - val_acc: 0.0000e+00\n",
            "Epoch 139/3000\n",
            "72/72 [==============================] - 1s 10ms/step - loss: 58.3782 - acc: 0.0000e+00 - val_loss: 86.9363 - val_acc: 0.0000e+00\n",
            "Epoch 140/3000\n",
            "72/72 [==============================] - 1s 10ms/step - loss: 60.5997 - acc: 0.0000e+00 - val_loss: 85.2840 - val_acc: 0.0000e+00\n",
            "Epoch 141/3000\n",
            "72/72 [==============================] - 1s 9ms/step - loss: 61.2700 - acc: 0.0000e+00 - val_loss: 83.7829 - val_acc: 0.0000e+00\n",
            "Epoch 142/3000\n",
            "72/72 [==============================] - 1s 10ms/step - loss: 59.9768 - acc: 0.0000e+00 - val_loss: 82.4094 - val_acc: 0.0000e+00\n",
            "Epoch 143/3000\n",
            "72/72 [==============================] - 1s 10ms/step - loss: 57.7237 - acc: 0.0000e+00 - val_loss: 81.2243 - val_acc: 0.0000e+00\n",
            "Epoch 144/3000\n",
            "72/72 [==============================] - 1s 10ms/step - loss: 61.0711 - acc: 0.0000e+00 - val_loss: 80.1891 - val_acc: 0.0000e+00\n",
            "Epoch 145/3000\n",
            "72/72 [==============================] - 1s 10ms/step - loss: 71.8521 - acc: 0.0000e+00 - val_loss: 79.2959 - val_acc: 0.0000e+00\n",
            "Epoch 146/3000\n",
            "72/72 [==============================] - 1s 10ms/step - loss: 65.8091 - acc: 0.0000e+00 - val_loss: 78.5337 - val_acc: 0.0000e+00\n",
            "Epoch 147/3000\n",
            "72/72 [==============================] - 1s 10ms/step - loss: 59.2201 - acc: 0.0000e+00 - val_loss: 77.8997 - val_acc: 0.0000e+00\n",
            "Epoch 148/3000\n",
            "72/72 [==============================] - 1s 10ms/step - loss: 61.3312 - acc: 0.0000e+00 - val_loss: 77.3859 - val_acc: 0.0000e+00\n",
            "Epoch 149/3000\n",
            "72/72 [==============================] - 1s 10ms/step - loss: 63.4598 - acc: 0.0000e+00 - val_loss: 76.9889 - val_acc: 0.0000e+00\n",
            "Epoch 150/3000\n",
            "72/72 [==============================] - 1s 10ms/step - loss: 67.3866 - acc: 0.0000e+00 - val_loss: 76.6892 - val_acc: 0.0000e+00\n",
            "Epoch 151/3000\n",
            "72/72 [==============================] - 1s 10ms/step - loss: 62.5222 - acc: 0.0000e+00 - val_loss: 76.4333 - val_acc: 0.0000e+00\n",
            "Epoch 152/3000\n",
            "72/72 [==============================] - 1s 10ms/step - loss: 60.5361 - acc: 0.0000e+00 - val_loss: 76.2765 - val_acc: 0.0000e+00\n",
            "Epoch 153/3000\n",
            "72/72 [==============================] - 1s 10ms/step - loss: 74.1036 - acc: 0.0000e+00 - val_loss: 76.2189 - val_acc: 0.0000e+00\n",
            "Epoch 154/3000\n",
            "72/72 [==============================] - 1s 9ms/step - loss: 68.5760 - acc: 0.0000e+00 - val_loss: 76.2324 - val_acc: 0.0000e+00\n",
            "Epoch 155/3000\n",
            "72/72 [==============================] - 1s 10ms/step - loss: 59.9510 - acc: 0.0000e+00 - val_loss: 76.2514 - val_acc: 0.0000e+00\n",
            "Epoch 156/3000\n",
            "72/72 [==============================] - 1s 10ms/step - loss: 67.8163 - acc: 0.0000e+00 - val_loss: 76.3344 - val_acc: 0.0000e+00\n",
            "Epoch 157/3000\n",
            "72/72 [==============================] - 1s 10ms/step - loss: 59.9232 - acc: 0.0000e+00 - val_loss: 76.4810 - val_acc: 0.0000e+00\n",
            "Epoch 158/3000\n",
            "72/72 [==============================] - 1s 10ms/step - loss: 56.6786 - acc: 0.0000e+00 - val_loss: 76.6330 - val_acc: 0.0000e+00\n",
            "Epoch 159/3000\n",
            "72/72 [==============================] - 1s 10ms/step - loss: 68.4332 - acc: 0.0000e+00 - val_loss: 76.8506 - val_acc: 0.0000e+00\n",
            "Epoch 160/3000\n",
            "72/72 [==============================] - 1s 10ms/step - loss: 63.0274 - acc: 0.0000e+00 - val_loss: 77.0890 - val_acc: 0.0000e+00\n",
            "Epoch 161/3000\n",
            "72/72 [==============================] - 1s 9ms/step - loss: 65.7623 - acc: 0.0000e+00 - val_loss: 77.3646 - val_acc: 0.0000e+00\n",
            "Epoch 162/3000\n",
            "72/72 [==============================] - 1s 10ms/step - loss: 61.8261 - acc: 0.0000e+00 - val_loss: 77.6329 - val_acc: 0.0000e+00\n",
            "Epoch 163/3000\n",
            "72/72 [==============================] - 1s 10ms/step - loss: 57.6449 - acc: 0.0000e+00 - val_loss: 77.8873 - val_acc: 0.0000e+00\n",
            "Epoch 164/3000\n",
            "72/72 [==============================] - 1s 10ms/step - loss: 58.3640 - acc: 0.0000e+00 - val_loss: 78.1732 - val_acc: 0.0000e+00\n",
            "Epoch 165/3000\n",
            "72/72 [==============================] - 1s 10ms/step - loss: 67.2547 - acc: 0.0000e+00 - val_loss: 78.4382 - val_acc: 0.0000e+00\n",
            "Epoch 166/3000\n",
            "72/72 [==============================] - 1s 9ms/step - loss: 60.5602 - acc: 0.0000e+00 - val_loss: 78.7028 - val_acc: 0.0000e+00\n",
            "Epoch 167/3000\n",
            "72/72 [==============================] - 1s 10ms/step - loss: 56.9073 - acc: 0.0000e+00 - val_loss: 78.9471 - val_acc: 0.0000e+00\n",
            "Epoch 168/3000\n",
            "72/72 [==============================] - 1s 10ms/step - loss: 65.8298 - acc: 0.0000e+00 - val_loss: 79.1917 - val_acc: 0.0000e+00\n",
            "Epoch 169/3000\n",
            "72/72 [==============================] - 1s 10ms/step - loss: 59.6781 - acc: 0.0000e+00 - val_loss: 79.4783 - val_acc: 0.0000e+00\n",
            "Epoch 170/3000\n",
            "72/72 [==============================] - 1s 10ms/step - loss: 64.3575 - acc: 0.0000e+00 - val_loss: 79.7611 - val_acc: 0.0000e+00\n",
            "Epoch 171/3000\n",
            "72/72 [==============================] - 1s 10ms/step - loss: 66.3849 - acc: 0.0000e+00 - val_loss: 80.0402 - val_acc: 0.0000e+00\n",
            "Epoch 172/3000\n",
            "72/72 [==============================] - 1s 10ms/step - loss: 65.3050 - acc: 0.0000e+00 - val_loss: 80.4004 - val_acc: 0.0000e+00\n",
            "Epoch 173/3000\n",
            "72/72 [==============================] - 1s 10ms/step - loss: 64.1109 - acc: 0.0000e+00 - val_loss: 80.7209 - val_acc: 0.0000e+00\n",
            "Epoch 174/3000\n",
            "72/72 [==============================] - 1s 10ms/step - loss: 57.6266 - acc: 0.0000e+00 - val_loss: 81.0424 - val_acc: 0.0000e+00\n",
            "Epoch 175/3000\n",
            "72/72 [==============================] - 1s 10ms/step - loss: 64.9995 - acc: 0.0000e+00 - val_loss: 81.3632 - val_acc: 0.0000e+00\n",
            "Epoch 176/3000\n",
            "72/72 [==============================] - 1s 10ms/step - loss: 60.0171 - acc: 0.0000e+00 - val_loss: 81.6734 - val_acc: 0.0000e+00\n",
            "Epoch 177/3000\n",
            "72/72 [==============================] - 1s 10ms/step - loss: 65.8282 - acc: 0.0000e+00 - val_loss: 81.9705 - val_acc: 0.0000e+00\n",
            "Epoch 178/3000\n",
            "72/72 [==============================] - 1s 10ms/step - loss: 57.4638 - acc: 0.0000e+00 - val_loss: 82.2567 - val_acc: 0.0000e+00\n",
            "Epoch 179/3000\n",
            "72/72 [==============================] - 1s 10ms/step - loss: 64.0882 - acc: 0.0000e+00 - val_loss: 82.4955 - val_acc: 0.0000e+00\n",
            "Epoch 180/3000\n",
            "72/72 [==============================] - 1s 10ms/step - loss: 60.3852 - acc: 0.0000e+00 - val_loss: 82.7602 - val_acc: 0.0000e+00\n",
            "Epoch 181/3000\n",
            "72/72 [==============================] - 1s 10ms/step - loss: 63.6572 - acc: 0.0000e+00 - val_loss: 82.9786 - val_acc: 0.0000e+00\n",
            "Epoch 182/3000\n",
            "72/72 [==============================] - 1s 9ms/step - loss: 65.3138 - acc: 0.0000e+00 - val_loss: 83.2265 - val_acc: 0.0000e+00\n",
            "Epoch 183/3000\n",
            "72/72 [==============================] - 1s 9ms/step - loss: 61.6500 - acc: 0.0000e+00 - val_loss: 83.4269 - val_acc: 0.0000e+00\n",
            "Epoch 184/3000\n",
            "72/72 [==============================] - 1s 10ms/step - loss: 65.1210 - acc: 0.0000e+00 - val_loss: 83.6356 - val_acc: 0.0000e+00\n",
            "Epoch 185/3000\n",
            "72/72 [==============================] - 1s 10ms/step - loss: 59.3465 - acc: 0.0000e+00 - val_loss: 83.8448 - val_acc: 0.0000e+00\n",
            "Epoch 186/3000\n",
            "72/72 [==============================] - 1s 9ms/step - loss: 61.1327 - acc: 0.0000e+00 - val_loss: 84.1036 - val_acc: 0.0000e+00\n",
            "Epoch 187/3000\n",
            "72/72 [==============================] - 1s 10ms/step - loss: 77.8842 - acc: 0.0000e+00 - val_loss: 84.3637 - val_acc: 0.0000e+00\n",
            "Epoch 188/3000\n",
            "72/72 [==============================] - 1s 10ms/step - loss: 61.0185 - acc: 0.0000e+00 - val_loss: 84.5897 - val_acc: 0.0000e+00\n",
            "Epoch 189/3000\n",
            "72/72 [==============================] - 1s 9ms/step - loss: 59.4235 - acc: 0.0000e+00 - val_loss: 84.8223 - val_acc: 0.0000e+00\n",
            "Epoch 190/3000\n",
            "72/72 [==============================] - 1s 10ms/step - loss: 55.6474 - acc: 0.0000e+00 - val_loss: 85.0594 - val_acc: 0.0000e+00\n",
            "Epoch 191/3000\n",
            "72/72 [==============================] - 1s 9ms/step - loss: 62.9304 - acc: 0.0000e+00 - val_loss: 85.3190 - val_acc: 0.0000e+00\n",
            "Epoch 192/3000\n",
            "72/72 [==============================] - 1s 10ms/step - loss: 54.1092 - acc: 0.0000e+00 - val_loss: 85.6146 - val_acc: 0.0000e+00\n",
            "Epoch 193/3000\n",
            "72/72 [==============================] - 1s 10ms/step - loss: 61.4049 - acc: 0.0000e+00 - val_loss: 85.8972 - val_acc: 0.0000e+00\n",
            "Epoch 194/3000\n",
            "72/72 [==============================] - 1s 10ms/step - loss: 70.2284 - acc: 0.0000e+00 - val_loss: 86.1640 - val_acc: 0.0000e+00\n",
            "Epoch 195/3000\n",
            "72/72 [==============================] - 1s 10ms/step - loss: 62.3757 - acc: 0.0000e+00 - val_loss: 86.3877 - val_acc: 0.0000e+00\n",
            "Epoch 196/3000\n",
            "72/72 [==============================] - 1s 9ms/step - loss: 62.1073 - acc: 0.0000e+00 - val_loss: 86.5618 - val_acc: 0.0000e+00\n",
            "Epoch 197/3000\n",
            "72/72 [==============================] - 1s 10ms/step - loss: 63.0258 - acc: 0.0000e+00 - val_loss: 86.7550 - val_acc: 0.0000e+00\n",
            "Epoch 198/3000\n",
            "72/72 [==============================] - 1s 10ms/step - loss: 62.4880 - acc: 0.0000e+00 - val_loss: 86.8950 - val_acc: 0.0000e+00\n",
            "Epoch 199/3000\n",
            "72/72 [==============================] - 1s 10ms/step - loss: 60.7696 - acc: 0.0000e+00 - val_loss: 86.9715 - val_acc: 0.0000e+00\n",
            "Epoch 200/3000\n",
            "72/72 [==============================] - 1s 10ms/step - loss: 67.5238 - acc: 0.0000e+00 - val_loss: 87.1124 - val_acc: 0.0000e+00\n",
            "Epoch 201/3000\n",
            "72/72 [==============================] - 1s 10ms/step - loss: 63.7796 - acc: 0.0000e+00 - val_loss: 87.2114 - val_acc: 0.0000e+00\n",
            "Epoch 202/3000\n",
            "72/72 [==============================] - 1s 10ms/step - loss: 54.4328 - acc: 0.0000e+00 - val_loss: 87.2942 - val_acc: 0.0000e+00\n",
            "Epoch 203/3000\n",
            "72/72 [==============================] - 1s 10ms/step - loss: 72.9942 - acc: 0.0000e+00 - val_loss: 87.3172 - val_acc: 0.0000e+00\n",
            "Restoring model weights from the end of the best epoch\n",
            "Epoch 00203: early stopping\n"
          ],
          "name": "stdout"
        }
      ]
    },
    {
      "cell_type": "code",
      "metadata": {
        "id": "2QY7fsOXkbnv",
        "colab_type": "code",
        "outputId": "4aab8430-c052-4f01-f1be-8b526bcce361",
        "colab": {
          "base_uri": "https://localhost:8080/",
          "height": 269
        }
      },
      "source": [
        "import matplotlib.pyplot as plt\n",
        "fig, ax = plt.subplots(1,1)\n",
        "\n",
        "# 從n次epoch以後開始看\n",
        "n=1\n",
        "\n",
        "ax.plot(history.history['loss'][n:], color='b', label=\"Training loss\")\n",
        "ax.plot(history.history['val_loss'][n:], color='r', label=\"validation loss\")\n",
        "legend = ax.legend(loc='best', shadow=True)"
      ],
      "execution_count": 0,
      "outputs": [
        {
          "output_type": "display_data",
          "data": {
            "image/png": "[encoded data removed]",
            "text/plain": [
              "<Figure size 432x288 with 1 Axes>"
            ]
          },
          "metadata": {
            "tags": []
          }
        }
      ]
    },
    {
      "cell_type": "code",
      "metadata": {
        "id": "gxOKiIFlp1-1",
        "colab_type": "code",
        "colab": {}
      },
      "source": [
        "y_pred = model.predict(X_train)"
      ],
      "execution_count": 0,
      "outputs": []
    },
    {
      "cell_type": "code",
      "metadata": {
        "id": "AExnfD14ps3C",
        "colab_type": "code",
        "outputId": "f1a32d7e-c749-4c13-a1cd-14130c6a81bb",
        "colab": {
          "base_uri": "https://localhost:8080/",
          "height": 269
        }
      },
      "source": [
        "import matplotlib.pyplot as plt \n",
        "\n",
        "plt.plot(y_pred,color='red', label='Prediction')\n",
        "plt.plot(y_train,color='blue', label='Answer')\n",
        "plt.legend(loc='best')\n",
        "plt.show()"
      ],
      "execution_count": 0,
      "outputs": [
        {
          "output_type": "display_data",
          "data": {
            "image/png": "[encoded data removed]",
            "text/plain": [
              "<Figure size 432x288 with 1 Axes>"
            ]
          },
          "metadata": {
            "tags": []
          }
        }
      ]
    },
    {
      "cell_type": "code",
      "metadata": {
        "id": "7rOg2BnBq9dD",
        "colab_type": "code",
        "colab": {}
      },
      "source": [
        ""
      ],
      "execution_count": 0,
      "outputs": []
    }
  ]
}