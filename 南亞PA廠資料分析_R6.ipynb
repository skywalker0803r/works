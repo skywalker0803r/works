{
  "nbformat": 4,
  "nbformat_minor": 0,
  "metadata": {
    "colab": {
      "name": "南亞PA廠資料分析_R6.ipynb",
      "provenance": [],
      "collapsed_sections": [],
      "include_colab_link": true
    },
    "kernelspec": {
      "name": "python3",
      "display_name": "Python 3"
    },
    "widgets": {
      "application/vnd.jupyter.widget-state+json": {
        "9754c1f225cd4b879264dea8c4f2bd36": {
          "model_module": "@jupyter-widgets/controls",
          "model_name": "HBoxModel",
          "state": {
            "_view_name": "HBoxView",
            "_dom_classes": [],
            "_model_name": "HBoxModel",
            "_view_module": "@jupyter-widgets/controls",
            "_model_module_version": "1.5.0",
            "_view_count": null,
            "_view_module_version": "1.5.0",
            "box_style": "",
            "layout": "IPY_MODEL_6f2d4504ce74426399b931f85c52b43b",
            "_model_module": "@jupyter-widgets/controls",
            "children": [
              "IPY_MODEL_21d3e7f63f5c4dedaf71b8758714e05b",
              "IPY_MODEL_200dca8d7be94596a48c9960c36ec1dd"
            ]
          }
        }
      }
    }
  },
  "cells": [
    {
      "cell_type": "markdown",
      "metadata": {
        "id": "view-in-github",
        "colab_type": "text"
      },
      "source": [
        "<a href=\"https://colab.research.google.com/github/skywalker0803r/works/blob/master/%E5%8D%97%E4%BA%9EPA%E5%BB%A0%E8%B3%87%E6%96%99%E5%88%86%E6%9E%90_R6.ipynb\" target=\"_parent\"><img src=\"https://colab.research.google.com/assets/colab-badge.svg\" alt=\"Open In Colab\"/></a>"
      ]
    },
    {
      "cell_type": "code",
      "metadata": {
        "id": "n2anv5qCIavx",
        "colab_type": "code",
        "outputId": "c83477a3-cbd3-4d09-d03c-8d88db68fe5e",
        "colab": {
          "base_uri": "https://localhost:8080/",
          "height": 143
        }
      },
      "source": [
        "from google.colab import drive\n",
        "import gc\n",
        "drive.mount('/content/drive')\n",
        "gc.collect()"
      ],
      "execution_count": 1,
      "outputs": [
        {
          "output_type": "stream",
          "text": [
            "Go to this URL in a browser: https://accounts.google.com/o/oauth2/auth?client_id=947318989803-6bn6qk8qdgf4n4g3pfee6491hc0brc4i.apps.googleusercontent.com&redirect_uri=urn%3aietf%3awg%3aoauth%3a2.0%3aoob&response_type=code&scope=email%20https%3a%2f%2fwww.googleapis.com%2fauth%2fdocs.test%20https%3a%2f%2fwww.googleapis.com%2fauth%2fdrive%20https%3a%2f%2fwww.googleapis.com%2fauth%2fdrive.photos.readonly%20https%3a%2f%2fwww.googleapis.com%2fauth%2fpeopleapi.readonly\n",
            "\n",
            "Enter your authorization code:\n",
            "··········\n",
            "Mounted at /content/drive\n"
          ],
          "name": "stdout"
        },
        {
          "output_type": "execute_result",
          "data": {
            "text/plain": [
              "0"
            ]
          },
          "metadata": {
            "tags": []
          },
          "execution_count": 1
        }
      ]
    },
    {
      "cell_type": "markdown",
      "metadata": {
        "id": "W3kuAcKQIs38",
        "colab_type": "text"
      },
      "source": [
        "# Load data"
      ]
    },
    {
      "cell_type": "code",
      "metadata": {
        "id": "nvS8z6N6IiR9",
        "colab_type": "code",
        "outputId": "4f228445-e933-460c-c427-6a3b510b7aa4",
        "colab": {
          "base_uri": "https://localhost:8080/",
          "height": 453,
          "referenced_widgets": [
            "9754c1f225cd4b879264dea8c4f2bd36"
          ]
        }
      },
      "source": [
        "import pandas as pd\n",
        "from  tqdm import tqdm_notebook as tqdm\n",
        "\n",
        "# load\n",
        "path = '/content/drive/My Drive/南亞PA廠/PA_201605-201909R6.xlsx'\n",
        "df = pd.read_excel(path,index_col=0,parse_dates = True)\n",
        "\n",
        "# columns to_numeric\n",
        "for col in tqdm(df.columns):\n",
        "  df[col] = pd.to_numeric(df[col],errors='coerce')\n",
        "\n",
        "# add target\n",
        "df['target'] = df['MLPAP_FQI-0997.PV'] / df['MLPAP_FQ-0619.PV']\n",
        "\n",
        "gc.collect()\n",
        "# show\n",
        "print(df.shape)\n",
        "df.tail()"
      ],
      "execution_count": 2,
      "outputs": [
        {
          "output_type": "display_data",
          "data": {
            "application/vnd.jupyter.widget-view+json": {
              "model_id": "9754c1f225cd4b879264dea8c4f2bd36",
              "version_minor": 0,
              "version_major": 2
            },
            "text/plain": [
              "HBox(children=(IntProgress(value=0, max=71), HTML(value='')))"
            ]
          },
          "metadata": {
            "tags": []
          }
        },
        {
          "output_type": "stream",
          "text": [
            "\n",
            "(58081, 72)\n"
          ],
          "name": "stdout"
        },
        {
          "output_type": "execute_result",
          "data": {
            "text/html": [
              "<div>\n",
              "<style scoped>\n",
              "    .dataframe tbody tr th:only-of-type {\n",
              "        vertical-align: middle;\n",
              "    }\n",
              "\n",
              "    .dataframe tbody tr th {\n",
              "        vertical-align: top;\n",
              "    }\n",
              "\n",
              "    .dataframe thead th {\n",
              "        text-align: right;\n",
              "    }\n",
              "</style>\n",
              "<table border=\"1\" class=\"dataframe\">\n",
              "  <thead>\n",
              "    <tr style=\"text-align: right;\">\n",
              "      <th></th>\n",
              "      <th>MLPAP_TI-0706B02</th>\n",
              "      <th>MLPAP_TI-0706B03</th>\n",
              "      <th>MLPAP_TI-0706B04</th>\n",
              "      <th>MLPAP_TI-0706B05</th>\n",
              "      <th>MLPAP_TI-0706B06</th>\n",
              "      <th>MLPAP_TI-0706B07</th>\n",
              "      <th>MLPAP_TI-0706B08</th>\n",
              "      <th>MLPAP_TI-0706B09</th>\n",
              "      <th>MLPAP_TI-0706B10</th>\n",
              "      <th>MLPAP_TI-0706B11</th>\n",
              "      <th>MLPAP_TI-0706B12</th>\n",
              "      <th>MLPAP_TI-0706B13</th>\n",
              "      <th>MLPAP_TI-0706B14</th>\n",
              "      <th>MLPAP_TI-0706B15</th>\n",
              "      <th>MLPAP_TI-0706B16</th>\n",
              "      <th>MLPAP_TI-0706B17</th>\n",
              "      <th>MLPAP_TI-0706B18</th>\n",
              "      <th>MLPAP_TI-0706B19</th>\n",
              "      <th>MLPAP_TI-0706B20</th>\n",
              "      <th>MLPAP_TI-0706B21</th>\n",
              "      <th>MLPAP_TI-0706B22</th>\n",
              "      <th>MLPAP_TI-0706B23</th>\n",
              "      <th>MLPAP_TI-0706B24</th>\n",
              "      <th>MLPAP_TJR-0715A1.PV</th>\n",
              "      <th>MLPAP_TJR-0715A2.PV</th>\n",
              "      <th>MLPAP_TJR-0715B1.PV</th>\n",
              "      <th>MLPAP_TJR-0715B2.PV</th>\n",
              "      <th>MLPAP_TJR-0720A1.PV</th>\n",
              "      <th>MLPAP_TJR-0720A2.PV</th>\n",
              "      <th>MLPAP_TJR-0720B1.PV</th>\n",
              "      <th>MLPAP_TJR-0720B2.PV</th>\n",
              "      <th>MLPAP_TJR-0762A1.PV</th>\n",
              "      <th>MLPAP_TJR-0762A2.PV</th>\n",
              "      <th>MLPAP_TJR-0762B1.PV</th>\n",
              "      <th>MLPAP_TJR-0762B2.PV</th>\n",
              "      <th>MLPAP_TI-0706A02</th>\n",
              "      <th>MLPAP_TI-0706B01</th>\n",
              "      <th>MLPAP_TI-0706C01</th>\n",
              "      <th>MLPAP_TI-0706D01</th>\n",
              "      <th>MLPAP_TI-0716B01</th>\n",
              "      <th>MLPAP_TI-0716C01</th>\n",
              "      <th>MLPAP_TI-0716D01</th>\n",
              "      <th>MLPAP_TI-0716E01</th>\n",
              "      <th>MLPAP_TI-0716A01</th>\n",
              "      <th>MLPAP_TI-0706E01</th>\n",
              "      <th>MLPAP_TI-0706A01</th>\n",
              "      <th>MLPAP_TI-0716D02</th>\n",
              "      <th>MLPAP_TJC-0627.PV</th>\n",
              "      <th>MLPAP_TRC-0610.PV</th>\n",
              "      <th>MLPAP_FR-0632.PV</th>\n",
              "      <th>MLPAP_FQ-0619.PV</th>\n",
              "      <th>MLPAP_TIC-0757A.PV</th>\n",
              "      <th>MLPAP_TI-0757B.PV</th>\n",
              "      <th>MLPAP_PIC-0741.PV</th>\n",
              "      <th>MLPAP_LIC-0738.PV</th>\n",
              "      <th>MLPAP_PIC-0761.PV</th>\n",
              "      <th>MLPAP_TRC-0762.PV</th>\n",
              "      <th>MLPAP_LRC-0729.PV</th>\n",
              "      <th>MLPAP_TIC-1721.PV</th>\n",
              "      <th>MLPAP_TRC-1734.PV</th>\n",
              "      <th>MLPAP_TJR-0721.PV</th>\n",
              "      <th>MLPAP_FQI-0997.PV</th>\n",
              "      <th>DATA OF USE</th>\n",
              "      <th>MLPAP_FR-0755.PV</th>\n",
              "      <th>MLPAP_FR-0755PV(轉換後)</th>\n",
              "      <th>MLPAP_FR-0791.PV</th>\n",
              "      <th>MLPAP_FI-V211.PV</th>\n",
              "      <th>MLPAP_FI-V211.PV(轉換後)</th>\n",
              "      <th>MLPAP_PI-0658.PV</th>\n",
              "      <th>MLPAP_TIC-0757.PV</th>\n",
              "      <th>MLPAP_V125-PHD</th>\n",
              "      <th>target</th>\n",
              "    </tr>\n",
              "  </thead>\n",
              "  <tbody>\n",
              "    <tr>\n",
              "      <th>2019-08-31 22:00:00</th>\n",
              "      <td>88.0</td>\n",
              "      <td>88.0</td>\n",
              "      <td>87.0</td>\n",
              "      <td>88.0</td>\n",
              "      <td>87.0</td>\n",
              "      <td>87.0</td>\n",
              "      <td>87.0</td>\n",
              "      <td>87.0</td>\n",
              "      <td>86.000000</td>\n",
              "      <td>86.0</td>\n",
              "      <td>86.0</td>\n",
              "      <td>86.0</td>\n",
              "      <td>86.0</td>\n",
              "      <td>86.000000</td>\n",
              "      <td>85.0</td>\n",
              "      <td>85.0</td>\n",
              "      <td>84.0</td>\n",
              "      <td>85.0</td>\n",
              "      <td>84.0</td>\n",
              "      <td>82.0</td>\n",
              "      <td>83.0</td>\n",
              "      <td>84.0</td>\n",
              "      <td>83.0</td>\n",
              "      <td>88.251274</td>\n",
              "      <td>82.400002</td>\n",
              "      <td>87.500824</td>\n",
              "      <td>81.800003</td>\n",
              "      <td>0.0</td>\n",
              "      <td>81.048729</td>\n",
              "      <td>83.500000</td>\n",
              "      <td>95.000000</td>\n",
              "      <td>0.0</td>\n",
              "      <td>92.500000</td>\n",
              "      <td>88.900002</td>\n",
              "      <td>87.900002</td>\n",
              "      <td>88.0</td>\n",
              "      <td>81.0</td>\n",
              "      <td>88.0</td>\n",
              "      <td>82.0</td>\n",
              "      <td>93.0</td>\n",
              "      <td>81.0</td>\n",
              "      <td>89.0</td>\n",
              "      <td>106.0</td>\n",
              "      <td>87.0</td>\n",
              "      <td>89.000000</td>\n",
              "      <td>85.0</td>\n",
              "      <td>83.0</td>\n",
              "      <td>29.351271</td>\n",
              "      <td>179.899994</td>\n",
              "      <td>0.0</td>\n",
              "      <td>0.0</td>\n",
              "      <td>50.0</td>\n",
              "      <td>0.0</td>\n",
              "      <td>0.3</td>\n",
              "      <td>86.529999</td>\n",
              "      <td>0.3</td>\n",
              "      <td>92.500000</td>\n",
              "      <td>0.0</td>\n",
              "      <td>61.402542</td>\n",
              "      <td>179.000000</td>\n",
              "      <td>65.900002</td>\n",
              "      <td>0.0</td>\n",
              "      <td>58077</td>\n",
              "      <td>4.53</td>\n",
              "      <td>4.523893</td>\n",
              "      <td>3.084818</td>\n",
              "      <td>128.298767</td>\n",
              "      <td>128.125806</td>\n",
              "      <td>-1.0</td>\n",
              "      <td>-50.0</td>\n",
              "      <td>0.008</td>\n",
              "      <td>NaN</td>\n",
              "    </tr>\n",
              "    <tr>\n",
              "      <th>2019-08-31 22:30:00</th>\n",
              "      <td>88.0</td>\n",
              "      <td>88.0</td>\n",
              "      <td>87.0</td>\n",
              "      <td>88.0</td>\n",
              "      <td>87.0</td>\n",
              "      <td>87.0</td>\n",
              "      <td>87.0</td>\n",
              "      <td>87.0</td>\n",
              "      <td>86.991974</td>\n",
              "      <td>86.0</td>\n",
              "      <td>86.0</td>\n",
              "      <td>86.0</td>\n",
              "      <td>86.0</td>\n",
              "      <td>85.008026</td>\n",
              "      <td>85.0</td>\n",
              "      <td>85.0</td>\n",
              "      <td>84.0</td>\n",
              "      <td>85.0</td>\n",
              "      <td>84.0</td>\n",
              "      <td>82.0</td>\n",
              "      <td>83.0</td>\n",
              "      <td>84.0</td>\n",
              "      <td>83.0</td>\n",
              "      <td>88.402390</td>\n",
              "      <td>82.500801</td>\n",
              "      <td>87.500801</td>\n",
              "      <td>81.699997</td>\n",
              "      <td>0.0</td>\n",
              "      <td>81.199997</td>\n",
              "      <td>83.500801</td>\n",
              "      <td>95.297592</td>\n",
              "      <td>0.0</td>\n",
              "      <td>92.548805</td>\n",
              "      <td>88.702408</td>\n",
              "      <td>87.800003</td>\n",
              "      <td>88.0</td>\n",
              "      <td>81.0</td>\n",
              "      <td>88.0</td>\n",
              "      <td>82.0</td>\n",
              "      <td>93.0</td>\n",
              "      <td>81.0</td>\n",
              "      <td>89.0</td>\n",
              "      <td>106.0</td>\n",
              "      <td>87.0</td>\n",
              "      <td>89.000000</td>\n",
              "      <td>85.0</td>\n",
              "      <td>83.0</td>\n",
              "      <td>29.299999</td>\n",
              "      <td>179.899994</td>\n",
              "      <td>0.0</td>\n",
              "      <td>0.0</td>\n",
              "      <td>50.0</td>\n",
              "      <td>0.0</td>\n",
              "      <td>0.3</td>\n",
              "      <td>86.400002</td>\n",
              "      <td>0.3</td>\n",
              "      <td>92.500000</td>\n",
              "      <td>0.0</td>\n",
              "      <td>59.948807</td>\n",
              "      <td>180.800003</td>\n",
              "      <td>66.000000</td>\n",
              "      <td>0.0</td>\n",
              "      <td>58078</td>\n",
              "      <td>4.40</td>\n",
              "      <td>4.394068</td>\n",
              "      <td>1.527576</td>\n",
              "      <td>130.698090</td>\n",
              "      <td>130.521894</td>\n",
              "      <td>-1.0</td>\n",
              "      <td>-50.0</td>\n",
              "      <td>0.008</td>\n",
              "      <td>NaN</td>\n",
              "    </tr>\n",
              "    <tr>\n",
              "      <th>2019-08-31 23:00:00</th>\n",
              "      <td>88.0</td>\n",
              "      <td>88.0</td>\n",
              "      <td>87.0</td>\n",
              "      <td>88.0</td>\n",
              "      <td>87.0</td>\n",
              "      <td>87.0</td>\n",
              "      <td>87.0</td>\n",
              "      <td>87.0</td>\n",
              "      <td>86.992149</td>\n",
              "      <td>86.0</td>\n",
              "      <td>86.0</td>\n",
              "      <td>86.0</td>\n",
              "      <td>86.0</td>\n",
              "      <td>85.007851</td>\n",
              "      <td>85.0</td>\n",
              "      <td>85.0</td>\n",
              "      <td>84.0</td>\n",
              "      <td>85.0</td>\n",
              "      <td>84.0</td>\n",
              "      <td>82.0</td>\n",
              "      <td>83.0</td>\n",
              "      <td>84.0</td>\n",
              "      <td>83.0</td>\n",
              "      <td>88.295456</td>\n",
              "      <td>82.500000</td>\n",
              "      <td>87.699211</td>\n",
              "      <td>81.699997</td>\n",
              "      <td>0.0</td>\n",
              "      <td>81.204544</td>\n",
              "      <td>83.500786</td>\n",
              "      <td>95.000786</td>\n",
              "      <td>0.0</td>\n",
              "      <td>92.599998</td>\n",
              "      <td>88.900787</td>\n",
              "      <td>87.800003</td>\n",
              "      <td>88.0</td>\n",
              "      <td>81.0</td>\n",
              "      <td>88.0</td>\n",
              "      <td>82.0</td>\n",
              "      <td>93.0</td>\n",
              "      <td>81.0</td>\n",
              "      <td>89.0</td>\n",
              "      <td>106.0</td>\n",
              "      <td>87.0</td>\n",
              "      <td>88.489616</td>\n",
              "      <td>85.0</td>\n",
              "      <td>83.0</td>\n",
              "      <td>29.248865</td>\n",
              "      <td>179.699997</td>\n",
              "      <td>0.0</td>\n",
              "      <td>0.0</td>\n",
              "      <td>50.0</td>\n",
              "      <td>0.0</td>\n",
              "      <td>0.3</td>\n",
              "      <td>86.490005</td>\n",
              "      <td>0.3</td>\n",
              "      <td>92.599998</td>\n",
              "      <td>0.0</td>\n",
              "      <td>60.590916</td>\n",
              "      <td>180.500000</td>\n",
              "      <td>66.099998</td>\n",
              "      <td>0.0</td>\n",
              "      <td>58079</td>\n",
              "      <td>4.57</td>\n",
              "      <td>4.563839</td>\n",
              "      <td>3.129686</td>\n",
              "      <td>129.700394</td>\n",
              "      <td>129.525543</td>\n",
              "      <td>-1.0</td>\n",
              "      <td>-50.0</td>\n",
              "      <td>0.008</td>\n",
              "      <td>NaN</td>\n",
              "    </tr>\n",
              "    <tr>\n",
              "      <th>2019-08-31 23:30:00</th>\n",
              "      <td>88.0</td>\n",
              "      <td>88.0</td>\n",
              "      <td>87.0</td>\n",
              "      <td>88.0</td>\n",
              "      <td>87.0</td>\n",
              "      <td>87.0</td>\n",
              "      <td>87.0</td>\n",
              "      <td>87.0</td>\n",
              "      <td>87.000000</td>\n",
              "      <td>86.0</td>\n",
              "      <td>86.0</td>\n",
              "      <td>86.0</td>\n",
              "      <td>86.0</td>\n",
              "      <td>86.000000</td>\n",
              "      <td>85.0</td>\n",
              "      <td>85.0</td>\n",
              "      <td>84.0</td>\n",
              "      <td>85.0</td>\n",
              "      <td>84.0</td>\n",
              "      <td>82.0</td>\n",
              "      <td>83.0</td>\n",
              "      <td>84.0</td>\n",
              "      <td>83.0</td>\n",
              "      <td>88.248802</td>\n",
              "      <td>82.500000</td>\n",
              "      <td>87.501686</td>\n",
              "      <td>81.800003</td>\n",
              "      <td>0.0</td>\n",
              "      <td>81.199997</td>\n",
              "      <td>83.599998</td>\n",
              "      <td>95.199150</td>\n",
              "      <td>0.0</td>\n",
              "      <td>92.599998</td>\n",
              "      <td>88.999191</td>\n",
              "      <td>87.800003</td>\n",
              "      <td>88.0</td>\n",
              "      <td>81.0</td>\n",
              "      <td>88.0</td>\n",
              "      <td>82.0</td>\n",
              "      <td>93.0</td>\n",
              "      <td>81.0</td>\n",
              "      <td>89.0</td>\n",
              "      <td>106.0</td>\n",
              "      <td>87.0</td>\n",
              "      <td>88.000000</td>\n",
              "      <td>85.0</td>\n",
              "      <td>83.0</td>\n",
              "      <td>29.200001</td>\n",
              "      <td>179.600006</td>\n",
              "      <td>0.0</td>\n",
              "      <td>0.0</td>\n",
              "      <td>50.0</td>\n",
              "      <td>0.0</td>\n",
              "      <td>0.3</td>\n",
              "      <td>86.639999</td>\n",
              "      <td>0.3</td>\n",
              "      <td>92.599998</td>\n",
              "      <td>0.0</td>\n",
              "      <td>60.353588</td>\n",
              "      <td>173.600006</td>\n",
              "      <td>66.099998</td>\n",
              "      <td>0.0</td>\n",
              "      <td>58080</td>\n",
              "      <td>4.48</td>\n",
              "      <td>4.473960</td>\n",
              "      <td>3.697329</td>\n",
              "      <td>129.000000</td>\n",
              "      <td>128.826093</td>\n",
              "      <td>-1.0</td>\n",
              "      <td>-50.0</td>\n",
              "      <td>0.008</td>\n",
              "      <td>NaN</td>\n",
              "    </tr>\n",
              "    <tr>\n",
              "      <th>2019-09-01 00:00:00</th>\n",
              "      <td>88.0</td>\n",
              "      <td>88.0</td>\n",
              "      <td>87.0</td>\n",
              "      <td>88.0</td>\n",
              "      <td>87.0</td>\n",
              "      <td>87.0</td>\n",
              "      <td>87.0</td>\n",
              "      <td>87.0</td>\n",
              "      <td>87.000000</td>\n",
              "      <td>86.0</td>\n",
              "      <td>86.0</td>\n",
              "      <td>86.0</td>\n",
              "      <td>86.0</td>\n",
              "      <td>86.000000</td>\n",
              "      <td>85.0</td>\n",
              "      <td>85.0</td>\n",
              "      <td>84.0</td>\n",
              "      <td>85.0</td>\n",
              "      <td>84.0</td>\n",
              "      <td>82.0</td>\n",
              "      <td>83.0</td>\n",
              "      <td>84.0</td>\n",
              "      <td>83.0</td>\n",
              "      <td>88.199997</td>\n",
              "      <td>82.500824</td>\n",
              "      <td>87.699135</td>\n",
              "      <td>81.699997</td>\n",
              "      <td>0.0</td>\n",
              "      <td>81.253754</td>\n",
              "      <td>83.599998</td>\n",
              "      <td>95.100861</td>\n",
              "      <td>0.0</td>\n",
              "      <td>92.651245</td>\n",
              "      <td>88.900002</td>\n",
              "      <td>87.800003</td>\n",
              "      <td>88.0</td>\n",
              "      <td>81.0</td>\n",
              "      <td>88.0</td>\n",
              "      <td>82.0</td>\n",
              "      <td>93.0</td>\n",
              "      <td>81.0</td>\n",
              "      <td>89.0</td>\n",
              "      <td>106.0</td>\n",
              "      <td>87.0</td>\n",
              "      <td>88.511322</td>\n",
              "      <td>85.0</td>\n",
              "      <td>83.0</td>\n",
              "      <td>29.200001</td>\n",
              "      <td>179.800003</td>\n",
              "      <td>0.0</td>\n",
              "      <td>0.0</td>\n",
              "      <td>50.0</td>\n",
              "      <td>0.0</td>\n",
              "      <td>0.3</td>\n",
              "      <td>86.570000</td>\n",
              "      <td>0.3</td>\n",
              "      <td>92.699135</td>\n",
              "      <td>0.0</td>\n",
              "      <td>59.848751</td>\n",
              "      <td>180.500000</td>\n",
              "      <td>66.099998</td>\n",
              "      <td>0.0</td>\n",
              "      <td>58081</td>\n",
              "      <td>4.50</td>\n",
              "      <td>4.493933</td>\n",
              "      <td>2.785345</td>\n",
              "      <td>130.401550</td>\n",
              "      <td>130.225754</td>\n",
              "      <td>-1.0</td>\n",
              "      <td>-50.0</td>\n",
              "      <td>0.008</td>\n",
              "      <td>NaN</td>\n",
              "    </tr>\n",
              "  </tbody>\n",
              "</table>\n",
              "</div>"
            ],
            "text/plain": [
              "                     MLPAP_TI-0706B02  MLPAP_TI-0706B03  ...  MLPAP_V125-PHD  target\n",
              "2019-08-31 22:00:00              88.0              88.0  ...           0.008     NaN\n",
              "2019-08-31 22:30:00              88.0              88.0  ...           0.008     NaN\n",
              "2019-08-31 23:00:00              88.0              88.0  ...           0.008     NaN\n",
              "2019-08-31 23:30:00              88.0              88.0  ...           0.008     NaN\n",
              "2019-09-01 00:00:00              88.0              88.0  ...           0.008     NaN\n",
              "\n",
              "[5 rows x 72 columns]"
            ]
          },
          "metadata": {
            "tags": []
          },
          "execution_count": 2
        }
      ]
    },
    {
      "cell_type": "markdown",
      "metadata": {
        "id": "bA2_wcCJg70Q",
        "colab_type": "text"
      },
      "source": [
        "# 統計資訊"
      ]
    },
    {
      "cell_type": "code",
      "metadata": {
        "id": "u10UYI94g7_6",
        "colab_type": "code",
        "outputId": "e0499d97-248c-4d22-8d1f-129e398ddbc2",
        "colab": {
          "base_uri": "https://localhost:8080/",
          "height": 176
        }
      },
      "source": [
        "df['target'].describe()"
      ],
      "execution_count": 3,
      "outputs": [
        {
          "output_type": "execute_result",
          "data": {
            "text/plain": [
              "count    4.701800e+04\n",
              "mean              inf\n",
              "std               NaN\n",
              "min      0.000000e+00\n",
              "25%      1.091051e+00\n",
              "50%      1.102157e+00\n",
              "75%      1.112404e+00\n",
              "max               inf\n",
              "Name: target, dtype: float64"
            ]
          },
          "metadata": {
            "tags": []
          },
          "execution_count": 3
        }
      ]
    },
    {
      "cell_type": "markdown",
      "metadata": {
        "id": "9FZ98MmZRv53",
        "colab_type": "text"
      },
      "source": [
        "# Load tag盤點表"
      ]
    },
    {
      "cell_type": "code",
      "metadata": {
        "id": "MXPc3DU-RwDe",
        "colab_type": "code",
        "outputId": "dddf3915-aed4-4fc1-a347-16ee0056da11",
        "colab": {
          "base_uri": "https://localhost:8080/",
          "height": 197
        }
      },
      "source": [
        "tag盤點表 = pd.read_excel('/content/drive/My Drive/南亞PA廠/tag盤點表.xlsx')\n",
        "中文map = dict(zip(tag盤點表['TAG'],tag盤點表['chinese']))\n",
        "tag盤點表.head()"
      ],
      "execution_count": 4,
      "outputs": [
        {
          "output_type": "execute_result",
          "data": {
            "text/html": [
              "<div>\n",
              "<style scoped>\n",
              "    .dataframe tbody tr th:only-of-type {\n",
              "        vertical-align: middle;\n",
              "    }\n",
              "\n",
              "    .dataframe tbody tr th {\n",
              "        vertical-align: top;\n",
              "    }\n",
              "\n",
              "    .dataframe thead th {\n",
              "        text-align: right;\n",
              "    }\n",
              "</style>\n",
              "<table border=\"1\" class=\"dataframe\">\n",
              "  <thead>\n",
              "    <tr style=\"text-align: right;\">\n",
              "      <th></th>\n",
              "      <th>item</th>\n",
              "      <th>TAG</th>\n",
              "      <th>chinese</th>\n",
              "      <th>character</th>\n",
              "      <th>unit</th>\n",
              "      <th>category</th>\n",
              "      <th>period</th>\n",
              "      <th>min</th>\n",
              "      <th>max</th>\n",
              "      <th>推測顯著性(依製程經驗)</th>\n",
              "    </tr>\n",
              "  </thead>\n",
              "  <tbody>\n",
              "    <tr>\n",
              "      <th>0</th>\n",
              "      <td>1.0</td>\n",
              "      <td>MLPAP_TJC-0627.PV</td>\n",
              "      <td>OX預熱器出口溫度</td>\n",
              "      <td>溫度</td>\n",
              "      <td>℃</td>\n",
              "      <td>可控制因子</td>\n",
              "      <td>1分鐘2筆</td>\n",
              "      <td>140</td>\n",
              "      <td>160</td>\n",
              "      <td>***</td>\n",
              "    </tr>\n",
              "    <tr>\n",
              "      <th>1</th>\n",
              "      <td>2.0</td>\n",
              "      <td>MLPAP_TRC-0610.PV</td>\n",
              "      <td>空氣預熱器出口溫度</td>\n",
              "      <td>溫度</td>\n",
              "      <td>℃</td>\n",
              "      <td>可控制因子</td>\n",
              "      <td>1分鐘2筆</td>\n",
              "      <td>160</td>\n",
              "      <td>200</td>\n",
              "      <td>***</td>\n",
              "    </tr>\n",
              "    <tr>\n",
              "      <th>2</th>\n",
              "      <td>3.0</td>\n",
              "      <td>MLPAP_FR-0632.PV</td>\n",
              "      <td>汽機風量</td>\n",
              "      <td>流量</td>\n",
              "      <td>KNM3/HR</td>\n",
              "      <td>可控制因子</td>\n",
              "      <td>1分鐘2筆</td>\n",
              "      <td>30</td>\n",
              "      <td>90</td>\n",
              "      <td>****</td>\n",
              "    </tr>\n",
              "    <tr>\n",
              "      <th>3</th>\n",
              "      <td>4.0</td>\n",
              "      <td>MLPAP_FQ-0619.PV</td>\n",
              "      <td>OX入料量</td>\n",
              "      <td>流量</td>\n",
              "      <td>kg/HR</td>\n",
              "      <td>可控制因子</td>\n",
              "      <td>1分鐘2筆</td>\n",
              "      <td>2000</td>\n",
              "      <td>8000</td>\n",
              "      <td>****</td>\n",
              "    </tr>\n",
              "    <tr>\n",
              "      <th>4</th>\n",
              "      <td>5.0</td>\n",
              "      <td>MLPAP_TIC-0757A.PV</td>\n",
              "      <td>反應槽鹽浴溫度</td>\n",
              "      <td>溫度</td>\n",
              "      <td>℃</td>\n",
              "      <td>可控制因子</td>\n",
              "      <td>1分鐘2筆</td>\n",
              "      <td>345</td>\n",
              "      <td>365</td>\n",
              "      <td>****</td>\n",
              "    </tr>\n",
              "  </tbody>\n",
              "</table>\n",
              "</div>"
            ],
            "text/plain": [
              "   item                 TAG    chinese  ...   min   max 推測顯著性(依製程經驗)\n",
              "0   1.0   MLPAP_TJC-0627.PV  OX預熱器出口溫度  ...   140   160          ***\n",
              "1   2.0   MLPAP_TRC-0610.PV  空氣預熱器出口溫度  ...   160   200          ***\n",
              "2   3.0    MLPAP_FR-0632.PV       汽機風量  ...    30    90         ****\n",
              "3   4.0    MLPAP_FQ-0619.PV      OX入料量  ...  2000  8000         ****\n",
              "4   5.0  MLPAP_TIC-0757A.PV    反應槽鹽浴溫度  ...   345   365         ****\n",
              "\n",
              "[5 rows x 10 columns]"
            ]
          },
          "metadata": {
            "tags": []
          },
          "execution_count": 4
        }
      ]
    },
    {
      "cell_type": "markdown",
      "metadata": {
        "id": "PBEbuUTHR7jU",
        "colab_type": "text"
      },
      "source": [
        "# 定義可控制因子"
      ]
    },
    {
      "cell_type": "code",
      "metadata": {
        "id": "xAE6hJ5GR7zW",
        "colab_type": "code",
        "outputId": "e089190b-9101-4e51-824d-9b93bd0b2542",
        "colab": {
          "base_uri": "https://localhost:8080/",
          "height": 34
        }
      },
      "source": [
        "可控制因子 = list(tag盤點表[tag盤點表.category==\"可控制因子\"]['TAG'].values)\n",
        "print('可控制因子數量:',len(可控制因子))"
      ],
      "execution_count": 5,
      "outputs": [
        {
          "output_type": "stream",
          "text": [
            "可控制因子數量: 13\n"
          ],
          "name": "stdout"
        }
      ]
    },
    {
      "cell_type": "markdown",
      "metadata": {
        "id": "gr_3OHLpyO-j",
        "colab_type": "text"
      },
      "source": [
        "# 全部欄位 corr"
      ]
    },
    {
      "cell_type": "code",
      "metadata": {
        "id": "MH4AaTKPyPKt",
        "colab_type": "code",
        "outputId": "72eab086-4312-4915-f6a6-0a4fc3fb0146",
        "colab": {
          "base_uri": "https://localhost:8080/",
          "height": 377
        }
      },
      "source": [
        "y_name = 'target'\n",
        "all_corrs = abs(df.corr())[[y_name]].sort_values(by=y_name,ascending=False)\n",
        "all_corrs['中文'] = all_corrs.index.map(中文map)\n",
        "all_corrs = all_corrs[['中文',y_name]]\n",
        "all_corrs.index.name = '全部欄位相關係數'\n",
        "all_corrs.head(10)"
      ],
      "execution_count": 6,
      "outputs": [
        {
          "output_type": "execute_result",
          "data": {
            "text/html": [
              "<div>\n",
              "<style scoped>\n",
              "    .dataframe tbody tr th:only-of-type {\n",
              "        vertical-align: middle;\n",
              "    }\n",
              "\n",
              "    .dataframe tbody tr th {\n",
              "        vertical-align: top;\n",
              "    }\n",
              "\n",
              "    .dataframe thead th {\n",
              "        text-align: right;\n",
              "    }\n",
              "</style>\n",
              "<table border=\"1\" class=\"dataframe\">\n",
              "  <thead>\n",
              "    <tr style=\"text-align: right;\">\n",
              "      <th></th>\n",
              "      <th>中文</th>\n",
              "      <th>target</th>\n",
              "    </tr>\n",
              "    <tr>\n",
              "      <th>全部欄位相關係數</th>\n",
              "      <th></th>\n",
              "      <th></th>\n",
              "    </tr>\n",
              "  </thead>\n",
              "  <tbody>\n",
              "    <tr>\n",
              "      <th>target</th>\n",
              "      <td>NaN</td>\n",
              "      <td>1.000000</td>\n",
              "    </tr>\n",
              "    <tr>\n",
              "      <th>MLPAP_FQI-0997.PV</th>\n",
              "      <td>粗PA出料量</td>\n",
              "      <td>0.591380</td>\n",
              "    </tr>\n",
              "    <tr>\n",
              "      <th>MLPAP_FQ-0619.PV</th>\n",
              "      <td>OX入料量</td>\n",
              "      <td>0.337525</td>\n",
              "    </tr>\n",
              "    <tr>\n",
              "      <th>MLPAP_FR-0791.PV</th>\n",
              "      <td>反應槽50K蒸氣輸出</td>\n",
              "      <td>0.326117</td>\n",
              "    </tr>\n",
              "    <tr>\n",
              "      <th>MLPAP_TI-0706B09</th>\n",
              "      <td>反應槽溫度_多點式(高度 950)</td>\n",
              "      <td>0.304193</td>\n",
              "    </tr>\n",
              "    <tr>\n",
              "      <th>MLPAP_TI-0706B08</th>\n",
              "      <td>反應槽溫度_多點式(高度 850)</td>\n",
              "      <td>0.275929</td>\n",
              "    </tr>\n",
              "    <tr>\n",
              "      <th>MLPAP_TI-0706B10</th>\n",
              "      <td>反應槽溫度_多點式(高度 1050)</td>\n",
              "      <td>0.247835</td>\n",
              "    </tr>\n",
              "    <tr>\n",
              "      <th>MLPAP_TI-0706E01</th>\n",
              "      <td>反應槽觸媒溫度(CL1)_高度(1310)</td>\n",
              "      <td>0.211496</td>\n",
              "    </tr>\n",
              "    <tr>\n",
              "      <th>MLPAP_FR-0632.PV</th>\n",
              "      <td>汽機風量</td>\n",
              "      <td>0.208166</td>\n",
              "    </tr>\n",
              "    <tr>\n",
              "      <th>MLPAP_TI-0706B07</th>\n",
              "      <td>反應槽溫度_多點式(高度 750)</td>\n",
              "      <td>0.199344</td>\n",
              "    </tr>\n",
              "  </tbody>\n",
              "</table>\n",
              "</div>"
            ],
            "text/plain": [
              "                                      中文    target\n",
              "全部欄位相關係數                                          \n",
              "target                               NaN  1.000000\n",
              "MLPAP_FQI-0997.PV                 粗PA出料量  0.591380\n",
              "MLPAP_FQ-0619.PV                   OX入料量  0.337525\n",
              "MLPAP_FR-0791.PV              反應槽50K蒸氣輸出  0.326117\n",
              "MLPAP_TI-0706B09       反應槽溫度_多點式(高度 950)  0.304193\n",
              "MLPAP_TI-0706B08       反應槽溫度_多點式(高度 850)  0.275929\n",
              "MLPAP_TI-0706B10      反應槽溫度_多點式(高度 1050)  0.247835\n",
              "MLPAP_TI-0706E01   反應槽觸媒溫度(CL1)_高度(1310)  0.211496\n",
              "MLPAP_FR-0632.PV                    汽機風量  0.208166\n",
              "MLPAP_TI-0706B07       反應槽溫度_多點式(高度 750)  0.199344"
            ]
          },
          "metadata": {
            "tags": []
          },
          "execution_count": 6
        }
      ]
    },
    {
      "cell_type": "markdown",
      "metadata": {
        "id": "kb46h7bsyIMR",
        "colab_type": "text"
      },
      "source": [
        "# 可控制因子 corr"
      ]
    },
    {
      "cell_type": "code",
      "metadata": {
        "id": "UUu5vQ1FyIVu",
        "colab_type": "code",
        "outputId": "1ae11a0a-302a-47df-f176-f60d68d30dcc",
        "colab": {
          "base_uri": "https://localhost:8080/",
          "height": 377
        }
      },
      "source": [
        "y_name = 'target'\n",
        "可控_corrs = abs(df[可控制因子+[y_name]].corr())[[y_name]].sort_values(by=y_name,ascending=False)\n",
        "可控_corrs['中文'] = 可控_corrs.index.map(中文map)\n",
        "可控_corrs = 可控_corrs[['中文',y_name]]\n",
        "可控_corrs.index.name = '可控因子相關係數'\n",
        "可控_corrs.head(10)"
      ],
      "execution_count": 7,
      "outputs": [
        {
          "output_type": "execute_result",
          "data": {
            "text/html": [
              "<div>\n",
              "<style scoped>\n",
              "    .dataframe tbody tr th:only-of-type {\n",
              "        vertical-align: middle;\n",
              "    }\n",
              "\n",
              "    .dataframe tbody tr th {\n",
              "        vertical-align: top;\n",
              "    }\n",
              "\n",
              "    .dataframe thead th {\n",
              "        text-align: right;\n",
              "    }\n",
              "</style>\n",
              "<table border=\"1\" class=\"dataframe\">\n",
              "  <thead>\n",
              "    <tr style=\"text-align: right;\">\n",
              "      <th></th>\n",
              "      <th>中文</th>\n",
              "      <th>target</th>\n",
              "    </tr>\n",
              "    <tr>\n",
              "      <th>可控因子相關係數</th>\n",
              "      <th></th>\n",
              "      <th></th>\n",
              "    </tr>\n",
              "  </thead>\n",
              "  <tbody>\n",
              "    <tr>\n",
              "      <th>target</th>\n",
              "      <td>NaN</td>\n",
              "      <td>1.000000</td>\n",
              "    </tr>\n",
              "    <tr>\n",
              "      <th>MLPAP_FQ-0619.PV</th>\n",
              "      <td>OX入料量</td>\n",
              "      <td>0.337525</td>\n",
              "    </tr>\n",
              "    <tr>\n",
              "      <th>MLPAP_FR-0632.PV</th>\n",
              "      <td>汽機風量</td>\n",
              "      <td>0.208166</td>\n",
              "    </tr>\n",
              "    <tr>\n",
              "      <th>MLPAP_PIC-0761.PV</th>\n",
              "      <td>鹽浴冷卻器(E112)出口壓力</td>\n",
              "      <td>0.148769</td>\n",
              "    </tr>\n",
              "    <tr>\n",
              "      <th>MLPAP_TIC-0757A.PV</th>\n",
              "      <td>反應槽鹽浴溫度</td>\n",
              "      <td>0.115184</td>\n",
              "    </tr>\n",
              "    <tr>\n",
              "      <th>MLPAP_TIC-0757.PV</th>\n",
              "      <td>反應器A/B側鹽浴溫度差</td>\n",
              "      <td>0.098067</td>\n",
              "    </tr>\n",
              "    <tr>\n",
              "      <th>MLPAP_TRC-0762.PV</th>\n",
              "      <td>鹽浴冷卻器(E112)入口溫度</td>\n",
              "      <td>0.075499</td>\n",
              "    </tr>\n",
              "    <tr>\n",
              "      <th>MLPAP_LIC-0738.PV</th>\n",
              "      <td>汽鼓(V211)鍋爐水液位</td>\n",
              "      <td>0.061041</td>\n",
              "    </tr>\n",
              "    <tr>\n",
              "      <th>MLPAP_TJC-0627.PV</th>\n",
              "      <td>OX預熱器出口溫度</td>\n",
              "      <td>0.057344</td>\n",
              "    </tr>\n",
              "    <tr>\n",
              "      <th>MLPAP_TRC-0610.PV</th>\n",
              "      <td>空氣預熱器出口溫度</td>\n",
              "      <td>0.049615</td>\n",
              "    </tr>\n",
              "  </tbody>\n",
              "</table>\n",
              "</div>"
            ],
            "text/plain": [
              "                                 中文    target\n",
              "可控因子相關係數                                     \n",
              "target                          NaN  1.000000\n",
              "MLPAP_FQ-0619.PV              OX入料量  0.337525\n",
              "MLPAP_FR-0632.PV               汽機風量  0.208166\n",
              "MLPAP_PIC-0761.PV   鹽浴冷卻器(E112)出口壓力  0.148769\n",
              "MLPAP_TIC-0757A.PV          反應槽鹽浴溫度  0.115184\n",
              "MLPAP_TIC-0757.PV      反應器A/B側鹽浴溫度差  0.098067\n",
              "MLPAP_TRC-0762.PV   鹽浴冷卻器(E112)入口溫度  0.075499\n",
              "MLPAP_LIC-0738.PV     汽鼓(V211)鍋爐水液位  0.061041\n",
              "MLPAP_TJC-0627.PV         OX預熱器出口溫度  0.057344\n",
              "MLPAP_TRC-0610.PV         空氣預熱器出口溫度  0.049615"
            ]
          },
          "metadata": {
            "tags": []
          },
          "execution_count": 7
        }
      ]
    },
    {
      "cell_type": "markdown",
      "metadata": {
        "id": "FP_PuwAGJjJ_",
        "colab_type": "text"
      },
      "source": [
        "# kdeplot"
      ]
    },
    {
      "cell_type": "code",
      "metadata": {
        "id": "NhKcKYzsJY6s",
        "colab_type": "code",
        "colab": {}
      },
      "source": [
        "import seaborn as sns\n",
        "import matplotlib.pyplot as plt\n",
        "import warnings;warnings.simplefilter('ignore')\n",
        "def kdeplot(df,x_col,y_col,y_ub,y_lb,x_range=None):\n",
        "  g1 = df.loc[df[y_col] > y_ub ,x_col]\n",
        "  g2 = df.loc[df[y_col] < y_lb ,x_col]\n",
        "  sns.kdeplot(g1 ,label = y_col + '>' +str(y_ub))\n",
        "  sns.kdeplot(g2 ,label = y_col + '<' +str(y_lb))\n",
        "  #中文\n",
        "  try:\n",
        "    print(pd.Series(x_col).map(中文map))\n",
        "  except:\n",
        "    pass\n",
        "  #調整x軸範圍\n",
        "  if x_range != None:\n",
        "    plt.xlim(x_range)  \n",
        "  #秀圖\n",
        "  plt.legend()   \n",
        "  plt.xlabel(x_col)\n",
        "  plt.ylabel('density')\n",
        "  plt.title(x_col)\n",
        "  plt.show()"
      ],
      "execution_count": 0,
      "outputs": []
    },
    {
      "cell_type": "code",
      "metadata": {
        "id": "lkBIU81WoBnF",
        "colab_type": "code",
        "colab": {}
      },
      "source": [
        "y_ub = 1.12\n",
        "y_lb = 1.09"
      ],
      "execution_count": 0,
      "outputs": []
    },
    {
      "cell_type": "markdown",
      "metadata": {
        "id": "PFXmOiy61KNH",
        "colab_type": "text"
      },
      "source": [
        "# 全部欄位排名前10 KDEPLOT"
      ]
    },
    {
      "cell_type": "code",
      "metadata": {
        "id": "2cnI7YM8haDr",
        "colab_type": "code",
        "outputId": "418604f6-f6fb-4ef1-c676-c3f1908ec7b5",
        "colab": {
          "base_uri": "https://localhost:8080/",
          "height": 87
        }
      },
      "source": [
        "all_corrs.head(10).index[1:]"
      ],
      "execution_count": 10,
      "outputs": [
        {
          "output_type": "execute_result",
          "data": {
            "text/plain": [
              "Index(['MLPAP_FQI-0997.PV', 'MLPAP_FQ-0619.PV', 'MLPAP_FR-0791.PV',\n",
              "       'MLPAP_TI-0706B09', 'MLPAP_TI-0706B08', 'MLPAP_TI-0706B10',\n",
              "       'MLPAP_TI-0706E01', 'MLPAP_FR-0632.PV', 'MLPAP_TI-0706B07'],\n",
              "      dtype='object', name='全部欄位相關係數')"
            ]
          },
          "metadata": {
            "tags": []
          },
          "execution_count": 10
        }
      ]
    },
    {
      "cell_type": "code",
      "metadata": {
        "id": "Fp2Wbh751KU_",
        "colab_type": "code",
        "outputId": "034bb8a4-d88b-4727-8eb6-b8269b5b8972",
        "colab": {
          "base_uri": "https://localhost:8080/",
          "height": 331
        }
      },
      "source": [
        "kdeplot(df,'MLPAP_PIC-0741.PV',y_name,y_ub,y_lb,x_range=(25,30))"
      ],
      "execution_count": 11,
      "outputs": [
        {
          "output_type": "stream",
          "text": [
            "0    汽鼓(V211)鍋爐水壓力\n",
            "dtype: object\n"
          ],
          "name": "stdout"
        },
        {
          "output_type": "display_data",
          "data": {
            "image/png": "[encoded data removed]",
            "text/plain": [
              "<Figure size 432x288 with 1 Axes>"
            ]
          },
          "metadata": {
            "tags": []
          }
        }
      ]
    },
    {
      "cell_type": "markdown",
      "metadata": {
        "id": "ML7yOqHsx4fF",
        "colab_type": "text"
      },
      "source": [
        "# 可控制因子 KDEPLOT"
      ]
    },
    {
      "cell_type": "code",
      "metadata": {
        "id": "yQkV5tKAoYSn",
        "colab_type": "code",
        "outputId": "8cb0681f-fd70-4c60-b3e6-d55931b713e8",
        "colab": {
          "base_uri": "https://localhost:8080/",
          "height": 123
        }
      },
      "source": [
        "可控_corrs.index[1:]"
      ],
      "execution_count": 12,
      "outputs": [
        {
          "output_type": "execute_result",
          "data": {
            "text/plain": [
              "Index(['MLPAP_FQ-0619.PV', 'MLPAP_FR-0632.PV', 'MLPAP_PIC-0761.PV',\n",
              "       'MLPAP_TIC-0757A.PV', 'MLPAP_TIC-0757.PV', 'MLPAP_TRC-0762.PV',\n",
              "       'MLPAP_LIC-0738.PV', 'MLPAP_TJC-0627.PV', 'MLPAP_TRC-0610.PV',\n",
              "       'MLPAP_PIC-0741.PV', 'MLPAP_LRC-0729.PV', 'MLPAP_TRC-1734.PV',\n",
              "       'MLPAP_TIC-1721.PV'],\n",
              "      dtype='object', name='可控因子相關係數')"
            ]
          },
          "metadata": {
            "tags": []
          },
          "execution_count": 12
        }
      ]
    },
    {
      "cell_type": "code",
      "metadata": {
        "id": "gNaR3WRBLUNf",
        "colab_type": "code",
        "outputId": "574fb947-cca2-4a3d-b0d0-6a16de8d5376",
        "colab": {
          "base_uri": "https://localhost:8080/",
          "height": 331
        }
      },
      "source": [
        "kdeplot(df,'MLPAP_TRC-0762.PV',y_name,y_ub,y_lb,x_range=(340,360))"
      ],
      "execution_count": 13,
      "outputs": [
        {
          "output_type": "stream",
          "text": [
            "0    鹽浴冷卻器(E112)入口溫度\n",
            "dtype: object\n"
          ],
          "name": "stdout"
        },
        {
          "output_type": "display_data",
          "data": {
            "image/png": "[encoded data removed]",
            "text/plain": [
              "<Figure size 432x288 with 1 Axes>"
            ]
          },
          "metadata": {
            "tags": []
          }
        }
      ]
    },
    {
      "cell_type": "markdown",
      "metadata": {
        "id": "-csdXWgvu3md",
        "colab_type": "text"
      },
      "source": [
        "# correlation matrix"
      ]
    },
    {
      "cell_type": "code",
      "metadata": {
        "id": "0vib32egeGCf",
        "colab_type": "code",
        "outputId": "21438bad-525d-4694-e4fe-a3772d256c6b",
        "colab": {
          "base_uri": "https://localhost:8080/",
          "height": 124
        }
      },
      "source": [
        "n = 5\n",
        "t = abs(df[可控制因子+[y_name]].corr())\n",
        "t = t.sort_values(by='target',ascending=False)\n",
        "t = t.loc[t.head(n).index,t.head(n).index]\n",
        "t.style.background_gradient()"
      ],
      "execution_count": 14,
      "outputs": [
        {
          "output_type": "execute_result",
          "data": {
            "text/html": [
              "<style  type=\"text/css\" >\n",
              "    #T_c3fc2b84_1fd4_11ea_b47f_0242ac1c0002row0_col0 {\n",
              "            background-color:  #023858;\n",
              "            color:  #f1f1f1;\n",
              "        }    #T_c3fc2b84_1fd4_11ea_b47f_0242ac1c0002row0_col1 {\n",
              "            background-color:  #fff7fb;\n",
              "            color:  #000000;\n",
              "        }    #T_c3fc2b84_1fd4_11ea_b47f_0242ac1c0002row0_col2 {\n",
              "            background-color:  #fff7fb;\n",
              "            color:  #000000;\n",
              "        }    #T_c3fc2b84_1fd4_11ea_b47f_0242ac1c0002row0_col3 {\n",
              "            background-color:  #fff7fb;\n",
              "            color:  #000000;\n",
              "        }    #T_c3fc2b84_1fd4_11ea_b47f_0242ac1c0002row0_col4 {\n",
              "            background-color:  #fff7fb;\n",
              "            color:  #000000;\n",
              "        }    #T_c3fc2b84_1fd4_11ea_b47f_0242ac1c0002row1_col0 {\n",
              "            background-color:  #d0d1e6;\n",
              "            color:  #000000;\n",
              "        }    #T_c3fc2b84_1fd4_11ea_b47f_0242ac1c0002row1_col1 {\n",
              "            background-color:  #023858;\n",
              "            color:  #f1f1f1;\n",
              "        }    #T_c3fc2b84_1fd4_11ea_b47f_0242ac1c0002row1_col2 {\n",
              "            background-color:  #023f64;\n",
              "            color:  #f1f1f1;\n",
              "        }    #T_c3fc2b84_1fd4_11ea_b47f_0242ac1c0002row1_col3 {\n",
              "            background-color:  #0567a2;\n",
              "            color:  #f1f1f1;\n",
              "        }    #T_c3fc2b84_1fd4_11ea_b47f_0242ac1c0002row1_col4 {\n",
              "            background-color:  #04649e;\n",
              "            color:  #f1f1f1;\n",
              "        }    #T_c3fc2b84_1fd4_11ea_b47f_0242ac1c0002row2_col0 {\n",
              "            background-color:  #f0eaf4;\n",
              "            color:  #000000;\n",
              "        }    #T_c3fc2b84_1fd4_11ea_b47f_0242ac1c0002row2_col1 {\n",
              "            background-color:  #034165;\n",
              "            color:  #f1f1f1;\n",
              "        }    #T_c3fc2b84_1fd4_11ea_b47f_0242ac1c0002row2_col2 {\n",
              "            background-color:  #023858;\n",
              "            color:  #f1f1f1;\n",
              "        }    #T_c3fc2b84_1fd4_11ea_b47f_0242ac1c0002row2_col3 {\n",
              "            background-color:  #04649d;\n",
              "            color:  #f1f1f1;\n",
              "        }    #T_c3fc2b84_1fd4_11ea_b47f_0242ac1c0002row2_col4 {\n",
              "            background-color:  #046097;\n",
              "            color:  #f1f1f1;\n",
              "        }    #T_c3fc2b84_1fd4_11ea_b47f_0242ac1c0002row3_col0 {\n",
              "            background-color:  #faf2f8;\n",
              "            color:  #000000;\n",
              "        }    #T_c3fc2b84_1fd4_11ea_b47f_0242ac1c0002row3_col1 {\n",
              "            background-color:  #0872b1;\n",
              "            color:  #f1f1f1;\n",
              "        }    #T_c3fc2b84_1fd4_11ea_b47f_0242ac1c0002row3_col2 {\n",
              "            background-color:  #0566a0;\n",
              "            color:  #f1f1f1;\n",
              "        }    #T_c3fc2b84_1fd4_11ea_b47f_0242ac1c0002row3_col3 {\n",
              "            background-color:  #023858;\n",
              "            color:  #f1f1f1;\n",
              "        }    #T_c3fc2b84_1fd4_11ea_b47f_0242ac1c0002row3_col4 {\n",
              "            background-color:  #03446a;\n",
              "            color:  #f1f1f1;\n",
              "        }    #T_c3fc2b84_1fd4_11ea_b47f_0242ac1c0002row4_col0 {\n",
              "            background-color:  #fff7fb;\n",
              "            color:  #000000;\n",
              "        }    #T_c3fc2b84_1fd4_11ea_b47f_0242ac1c0002row4_col1 {\n",
              "            background-color:  #056faf;\n",
              "            color:  #f1f1f1;\n",
              "        }    #T_c3fc2b84_1fd4_11ea_b47f_0242ac1c0002row4_col2 {\n",
              "            background-color:  #04649d;\n",
              "            color:  #f1f1f1;\n",
              "        }    #T_c3fc2b84_1fd4_11ea_b47f_0242ac1c0002row4_col3 {\n",
              "            background-color:  #03456c;\n",
              "            color:  #f1f1f1;\n",
              "        }    #T_c3fc2b84_1fd4_11ea_b47f_0242ac1c0002row4_col4 {\n",
              "            background-color:  #023858;\n",
              "            color:  #f1f1f1;\n",
              "        }</style><table id=\"T_c3fc2b84_1fd4_11ea_b47f_0242ac1c0002\" ><thead>    <tr>        <th class=\"blank level0\" ></th>        <th class=\"col_heading level0 col0\" >target</th>        <th class=\"col_heading level0 col1\" >MLPAP_FQ-0619.PV</th>        <th class=\"col_heading level0 col2\" >MLPAP_FR-0632.PV</th>        <th class=\"col_heading level0 col3\" >MLPAP_PIC-0761.PV</th>        <th class=\"col_heading level0 col4\" >MLPAP_TIC-0757A.PV</th>    </tr></thead><tbody>\n",
              "                <tr>\n",
              "                        <th id=\"T_c3fc2b84_1fd4_11ea_b47f_0242ac1c0002level0_row0\" class=\"row_heading level0 row0\" >target</th>\n",
              "                        <td id=\"T_c3fc2b84_1fd4_11ea_b47f_0242ac1c0002row0_col0\" class=\"data row0 col0\" >1</td>\n",
              "                        <td id=\"T_c3fc2b84_1fd4_11ea_b47f_0242ac1c0002row0_col1\" class=\"data row0 col1\" >0.337525</td>\n",
              "                        <td id=\"T_c3fc2b84_1fd4_11ea_b47f_0242ac1c0002row0_col2\" class=\"data row0 col2\" >0.208166</td>\n",
              "                        <td id=\"T_c3fc2b84_1fd4_11ea_b47f_0242ac1c0002row0_col3\" class=\"data row0 col3\" >0.148769</td>\n",
              "                        <td id=\"T_c3fc2b84_1fd4_11ea_b47f_0242ac1c0002row0_col4\" class=\"data row0 col4\" >0.115184</td>\n",
              "            </tr>\n",
              "            <tr>\n",
              "                        <th id=\"T_c3fc2b84_1fd4_11ea_b47f_0242ac1c0002level0_row1\" class=\"row_heading level0 row1\" >MLPAP_FQ-0619.PV</th>\n",
              "                        <td id=\"T_c3fc2b84_1fd4_11ea_b47f_0242ac1c0002row1_col0\" class=\"data row1 col0\" >0.337525</td>\n",
              "                        <td id=\"T_c3fc2b84_1fd4_11ea_b47f_0242ac1c0002row1_col1\" class=\"data row1 col1\" >1</td>\n",
              "                        <td id=\"T_c3fc2b84_1fd4_11ea_b47f_0242ac1c0002row1_col2\" class=\"data row1 col2\" >0.977658</td>\n",
              "                        <td id=\"T_c3fc2b84_1fd4_11ea_b47f_0242ac1c0002row1_col3\" class=\"data row1 col3\" >0.828461</td>\n",
              "                        <td id=\"T_c3fc2b84_1fd4_11ea_b47f_0242ac1c0002row1_col4\" class=\"data row1 col4\" >0.834387</td>\n",
              "            </tr>\n",
              "            <tr>\n",
              "                        <th id=\"T_c3fc2b84_1fd4_11ea_b47f_0242ac1c0002level0_row2\" class=\"row_heading level0 row2\" >MLPAP_FR-0632.PV</th>\n",
              "                        <td id=\"T_c3fc2b84_1fd4_11ea_b47f_0242ac1c0002row2_col0\" class=\"data row2 col0\" >0.208166</td>\n",
              "                        <td id=\"T_c3fc2b84_1fd4_11ea_b47f_0242ac1c0002row2_col1\" class=\"data row2 col1\" >0.977658</td>\n",
              "                        <td id=\"T_c3fc2b84_1fd4_11ea_b47f_0242ac1c0002row2_col2\" class=\"data row2 col2\" >1</td>\n",
              "                        <td id=\"T_c3fc2b84_1fd4_11ea_b47f_0242ac1c0002row2_col3\" class=\"data row2 col3\" >0.846401</td>\n",
              "                        <td id=\"T_c3fc2b84_1fd4_11ea_b47f_0242ac1c0002row2_col4\" class=\"data row2 col4\" >0.857347</td>\n",
              "            </tr>\n",
              "            <tr>\n",
              "                        <th id=\"T_c3fc2b84_1fd4_11ea_b47f_0242ac1c0002level0_row3\" class=\"row_heading level0 row3\" >MLPAP_PIC-0761.PV</th>\n",
              "                        <td id=\"T_c3fc2b84_1fd4_11ea_b47f_0242ac1c0002row3_col0\" class=\"data row3 col0\" >0.148769</td>\n",
              "                        <td id=\"T_c3fc2b84_1fd4_11ea_b47f_0242ac1c0002row3_col1\" class=\"data row3 col1\" >0.828461</td>\n",
              "                        <td id=\"T_c3fc2b84_1fd4_11ea_b47f_0242ac1c0002row3_col2\" class=\"data row3 col2\" >0.846401</td>\n",
              "                        <td id=\"T_c3fc2b84_1fd4_11ea_b47f_0242ac1c0002row3_col3\" class=\"data row3 col3\" >1</td>\n",
              "                        <td id=\"T_c3fc2b84_1fd4_11ea_b47f_0242ac1c0002row3_col4\" class=\"data row3 col4\" >0.959616</td>\n",
              "            </tr>\n",
              "            <tr>\n",
              "                        <th id=\"T_c3fc2b84_1fd4_11ea_b47f_0242ac1c0002level0_row4\" class=\"row_heading level0 row4\" >MLPAP_TIC-0757A.PV</th>\n",
              "                        <td id=\"T_c3fc2b84_1fd4_11ea_b47f_0242ac1c0002row4_col0\" class=\"data row4 col0\" >0.115184</td>\n",
              "                        <td id=\"T_c3fc2b84_1fd4_11ea_b47f_0242ac1c0002row4_col1\" class=\"data row4 col1\" >0.834387</td>\n",
              "                        <td id=\"T_c3fc2b84_1fd4_11ea_b47f_0242ac1c0002row4_col2\" class=\"data row4 col2\" >0.857347</td>\n",
              "                        <td id=\"T_c3fc2b84_1fd4_11ea_b47f_0242ac1c0002row4_col3\" class=\"data row4 col3\" >0.959616</td>\n",
              "                        <td id=\"T_c3fc2b84_1fd4_11ea_b47f_0242ac1c0002row4_col4\" class=\"data row4 col4\" >1</td>\n",
              "            </tr>\n",
              "    </tbody></table>"
            ],
            "text/plain": [
              "<pandas.io.formats.style.Styler at 0x7f22c54b24a8>"
            ]
          },
          "metadata": {
            "tags": []
          },
          "execution_count": 14
        }
      ]
    },
    {
      "cell_type": "markdown",
      "metadata": {
        "id": "6CCqBliM8dY_",
        "colab_type": "text"
      },
      "source": [
        "# features selected"
      ]
    },
    {
      "cell_type": "code",
      "metadata": {
        "id": "Af-c3iZK_0Sz",
        "colab_type": "code",
        "outputId": "e030cd8c-651d-49c6-836b-1bf5fade4c74",
        "colab": {
          "base_uri": "https://localhost:8080/",
          "height": 52
        }
      },
      "source": [
        "features = 可控制因子.copy()\n",
        "for col_name in [y_name,'MLPAP_FQI-0997.PV','MLPAP_FQ-0619.PV']:\n",
        "  if col_name in features:    \n",
        "    features.remove(col_name)\n",
        "    print('移除:',col_name)\n",
        "print('特徵數量:',len(features))"
      ],
      "execution_count": 15,
      "outputs": [
        {
          "output_type": "stream",
          "text": [
            "移除: MLPAP_FQ-0619.PV\n",
            "特徵數量: 12\n"
          ],
          "name": "stdout"
        }
      ]
    },
    {
      "cell_type": "markdown",
      "metadata": {
        "id": "Lh5ZsxFSa5Ww",
        "colab_type": "text"
      },
      "source": [
        "# features scaler"
      ]
    },
    {
      "cell_type": "code",
      "metadata": {
        "id": "zXEngQiea76A",
        "colab_type": "code",
        "colab": {}
      },
      "source": [
        "from sklearn.preprocessing import StandardScaler\n",
        "df= df[features+[y_name]]\n",
        "scaler = StandardScaler()\n",
        "df[features] = scaler.fit_transform(df[features])"
      ],
      "execution_count": 0,
      "outputs": []
    },
    {
      "cell_type": "code",
      "metadata": {
        "id": "E-5YwuF_riPZ",
        "colab_type": "code",
        "outputId": "2f9cf571-2f38-403f-c294-eb72c1dc3643",
        "colab": {
          "base_uri": "https://localhost:8080/",
          "height": 297
        }
      },
      "source": [
        "df.head()"
      ],
      "execution_count": 17,
      "outputs": [
        {
          "output_type": "execute_result",
          "data": {
            "text/html": [
              "<div>\n",
              "<style scoped>\n",
              "    .dataframe tbody tr th:only-of-type {\n",
              "        vertical-align: middle;\n",
              "    }\n",
              "\n",
              "    .dataframe tbody tr th {\n",
              "        vertical-align: top;\n",
              "    }\n",
              "\n",
              "    .dataframe thead th {\n",
              "        text-align: right;\n",
              "    }\n",
              "</style>\n",
              "<table border=\"1\" class=\"dataframe\">\n",
              "  <thead>\n",
              "    <tr style=\"text-align: right;\">\n",
              "      <th></th>\n",
              "      <th>MLPAP_TJC-0627.PV</th>\n",
              "      <th>MLPAP_TRC-0610.PV</th>\n",
              "      <th>MLPAP_FR-0632.PV</th>\n",
              "      <th>MLPAP_TIC-0757A.PV</th>\n",
              "      <th>MLPAP_PIC-0741.PV</th>\n",
              "      <th>MLPAP_LIC-0738.PV</th>\n",
              "      <th>MLPAP_PIC-0761.PV</th>\n",
              "      <th>MLPAP_TRC-0762.PV</th>\n",
              "      <th>MLPAP_LRC-0729.PV</th>\n",
              "      <th>MLPAP_TIC-1721.PV</th>\n",
              "      <th>MLPAP_TRC-1734.PV</th>\n",
              "      <th>MLPAP_TIC-0757.PV</th>\n",
              "      <th>target</th>\n",
              "    </tr>\n",
              "  </thead>\n",
              "  <tbody>\n",
              "    <tr>\n",
              "      <th>2016-05-09 00:00:00</th>\n",
              "      <td>-1.834152</td>\n",
              "      <td>1.048090</td>\n",
              "      <td>-2.095487</td>\n",
              "      <td>0.936210</td>\n",
              "      <td>NaN</td>\n",
              "      <td>-2.224990</td>\n",
              "      <td>0.263348</td>\n",
              "      <td>0.964198</td>\n",
              "      <td>-1.815358</td>\n",
              "      <td>0.469889</td>\n",
              "      <td>0.135122</td>\n",
              "      <td>-0.140247</td>\n",
              "      <td>NaN</td>\n",
              "    </tr>\n",
              "    <tr>\n",
              "      <th>2016-05-09 00:30:00</th>\n",
              "      <td>-1.837805</td>\n",
              "      <td>1.101796</td>\n",
              "      <td>-2.095487</td>\n",
              "      <td>0.937245</td>\n",
              "      <td>NaN</td>\n",
              "      <td>-2.220939</td>\n",
              "      <td>0.263348</td>\n",
              "      <td>0.962791</td>\n",
              "      <td>-1.815358</td>\n",
              "      <td>0.435849</td>\n",
              "      <td>-0.205353</td>\n",
              "      <td>-0.140247</td>\n",
              "      <td>NaN</td>\n",
              "    </tr>\n",
              "    <tr>\n",
              "      <th>2016-05-09 01:00:00</th>\n",
              "      <td>-1.841457</td>\n",
              "      <td>1.137600</td>\n",
              "      <td>-2.095487</td>\n",
              "      <td>0.937245</td>\n",
              "      <td>NaN</td>\n",
              "      <td>-2.222072</td>\n",
              "      <td>0.263348</td>\n",
              "      <td>0.962791</td>\n",
              "      <td>-1.815358</td>\n",
              "      <td>0.463690</td>\n",
              "      <td>0.150890</td>\n",
              "      <td>-0.137359</td>\n",
              "      <td>NaN</td>\n",
              "    </tr>\n",
              "    <tr>\n",
              "      <th>2016-05-09 01:30:00</th>\n",
              "      <td>-1.845110</td>\n",
              "      <td>1.159213</td>\n",
              "      <td>-2.095487</td>\n",
              "      <td>0.938280</td>\n",
              "      <td>NaN</td>\n",
              "      <td>-2.220041</td>\n",
              "      <td>0.263348</td>\n",
              "      <td>0.967795</td>\n",
              "      <td>-1.815358</td>\n",
              "      <td>0.646741</td>\n",
              "      <td>-0.177886</td>\n",
              "      <td>-0.137359</td>\n",
              "      <td>NaN</td>\n",
              "    </tr>\n",
              "    <tr>\n",
              "      <th>2016-05-09 02:00:00</th>\n",
              "      <td>-1.847557</td>\n",
              "      <td>1.168929</td>\n",
              "      <td>-2.095487</td>\n",
              "      <td>0.935175</td>\n",
              "      <td>NaN</td>\n",
              "      <td>-2.227711</td>\n",
              "      <td>0.264388</td>\n",
              "      <td>0.959192</td>\n",
              "      <td>-1.815358</td>\n",
              "      <td>0.486144</td>\n",
              "      <td>0.146923</td>\n",
              "      <td>-0.134470</td>\n",
              "      <td>NaN</td>\n",
              "    </tr>\n",
              "  </tbody>\n",
              "</table>\n",
              "</div>"
            ],
            "text/plain": [
              "                     MLPAP_TJC-0627.PV  ...  target\n",
              "2016-05-09 00:00:00          -1.834152  ...     NaN\n",
              "2016-05-09 00:30:00          -1.837805  ...     NaN\n",
              "2016-05-09 01:00:00          -1.841457  ...     NaN\n",
              "2016-05-09 01:30:00          -1.845110  ...     NaN\n",
              "2016-05-09 02:00:00          -1.847557  ...     NaN\n",
              "\n",
              "[5 rows x 13 columns]"
            ]
          },
          "metadata": {
            "tags": []
          },
          "execution_count": 17
        }
      ]
    },
    {
      "cell_type": "markdown",
      "metadata": {
        "id": "ZV1FP4CNssOX",
        "colab_type": "text"
      },
      "source": [
        "# 倒數"
      ]
    },
    {
      "cell_type": "code",
      "metadata": {
        "id": "HO8APpN0ssYW",
        "colab_type": "code",
        "outputId": "26e5eee0-cb74-458e-e24b-5a57973aff6e",
        "colab": {
          "base_uri": "https://localhost:8080/",
          "height": 176
        }
      },
      "source": [
        "df[y_name] = 1/df[y_name]\n",
        "df[y_name].describe()"
      ],
      "execution_count": 18,
      "outputs": [
        {
          "output_type": "execute_result",
          "data": {
            "text/plain": [
              "count    4.701800e+04\n",
              "mean              inf\n",
              "std               NaN\n",
              "min      0.000000e+00\n",
              "25%      8.989539e-01\n",
              "50%      9.073115e-01\n",
              "75%      9.165478e-01\n",
              "max               inf\n",
              "Name: target, dtype: float64"
            ]
          },
          "metadata": {
            "tags": []
          },
          "execution_count": 18
        }
      ]
    },
    {
      "cell_type": "markdown",
      "metadata": {
        "id": "3A7nTur3s-Nh",
        "colab_type": "text"
      },
      "source": [
        "# replace inf to np.nan and drop nan"
      ]
    },
    {
      "cell_type": "code",
      "metadata": {
        "id": "6YFsFYHgs8En",
        "colab_type": "code",
        "outputId": "93d6763c-db65-4568-e108-249f046c0e2d",
        "colab": {
          "base_uri": "https://localhost:8080/",
          "height": 176
        }
      },
      "source": [
        "import numpy as np\n",
        "df = df.replace([np.inf,-np.inf],np.nan)\n",
        "df = df.dropna()\n",
        "df[y_name].describe()"
      ],
      "execution_count": 19,
      "outputs": [
        {
          "output_type": "execute_result",
          "data": {
            "text/plain": [
              "count    8687.000000\n",
              "mean        0.913190\n",
              "std         0.077405\n",
              "min         0.000000\n",
              "25%         0.906647\n",
              "50%         0.915514\n",
              "75%         0.923676\n",
              "max         2.641298\n",
              "Name: target, dtype: float64"
            ]
          },
          "metadata": {
            "tags": []
          },
          "execution_count": 19
        }
      ]
    },
    {
      "cell_type": "markdown",
      "metadata": {
        "id": "-b7ml1880TZP",
        "colab_type": "text"
      },
      "source": [
        "# train , test split"
      ]
    },
    {
      "cell_type": "code",
      "metadata": {
        "id": "aI-z3pJr0TtQ",
        "colab_type": "code",
        "outputId": "6577833f-dc15-41a8-9fcd-7621f690022d",
        "colab": {
          "base_uri": "https://localhost:8080/",
          "height": 52
        }
      },
      "source": [
        "from sklearn.model_selection import train_test_split\n",
        "train ,test = train_test_split(df,test_size=0.2,random_state=42)\n",
        "print(train.shape)\n",
        "print(test.shape)"
      ],
      "execution_count": 20,
      "outputs": [
        {
          "output_type": "stream",
          "text": [
            "(6949, 13)\n",
            "(1738, 13)\n"
          ],
          "name": "stdout"
        }
      ]
    },
    {
      "cell_type": "markdown",
      "metadata": {
        "id": "yPi7bSlLztAr",
        "colab_type": "text"
      },
      "source": [
        "# Modeling"
      ]
    },
    {
      "cell_type": "code",
      "metadata": {
        "id": "ksNyTQGVrqfG",
        "colab_type": "code",
        "colab": {}
      },
      "source": [
        "import lightgbm\n",
        "from sklearn.svm import SVR\n",
        "import xgboost\n",
        "from lightgbm import LGBMRegressor\n",
        "from sklearn.linear_model import Ridge,Lasso\n",
        "from xgboost import XGBRegressor\n",
        "import numpy as np\n",
        "from sklearn.metrics import r2_score,mean_squared_error\n",
        "from math import sqrt"
      ],
      "execution_count": 0,
      "outputs": []
    },
    {
      "cell_type": "code",
      "metadata": {
        "id": "kXukt3Alln6K",
        "colab_type": "code",
        "colab": {}
      },
      "source": [
        "def mape_vectorized_v2(a, b):\n",
        "    a = np.array(a)\n",
        "    b = np.array(b) \n",
        "    mask = a != 0\n",
        "    return (np.fabs(a - b)/a)[mask].mean()"
      ],
      "execution_count": 0,
      "outputs": []
    },
    {
      "cell_type": "code",
      "metadata": {
        "id": "LSswjTHqdK6Q",
        "colab_type": "code",
        "colab": {}
      },
      "source": [
        "def metric(yt,yp,name):\n",
        "  res = pd.DataFrame(index=[name])\n",
        "  res['R2'] = r2_score(yt,yp)\n",
        "  res['RMSE'] = sqrt(mean_squared_error(yt,yp))\n",
        "  res['MAPE'] = mape_vectorized_v2(yt,yp)\n",
        "  return res\n",
        "def plot_imp(model):\n",
        "  imp = pd.DataFrame()\n",
        "  imp['features'] = features\n",
        "  imp['中文'] = imp['features'].map(中文map)\n",
        "  imp['imp'] = model.feature_importances_\n",
        "  return imp.sort_values(by='imp',ascending=False)\n",
        "def plot_coef(model):\n",
        "  imp = pd.DataFrame()\n",
        "  imp['features'] = features\n",
        "  imp['中文'] = imp['features'].map(中文map)\n",
        "  imp['coef'] = model.coef_\n",
        "  return imp.sort_values(by='coef',ascending=False)\n",
        "def plot_pred(yt,yp):\n",
        "  n = 60\n",
        "  yt = yt.sort_index().rolling(n).mean()\n",
        "  yp = yp.sort_index().rolling(n).mean()\n",
        "  fig = plt.figure(figsize=(10,5))\n",
        "  plt.plot(yt.index,yt.values,label='y_test',color='blue')\n",
        "  plt.plot(yp.index,yp.values,label='y_pred',color='red')\n",
        "  plt.legend()"
      ],
      "execution_count": 0,
      "outputs": []
    },
    {
      "cell_type": "markdown",
      "metadata": {
        "id": "eobZoRVItgYT",
        "colab_type": "text"
      },
      "source": [
        "# Ridge"
      ]
    },
    {
      "cell_type": "code",
      "metadata": {
        "id": "p7BZhs65tgjP",
        "colab_type": "code",
        "outputId": "791b4170-e79c-4dde-cbeb-ed40a73d7600",
        "colab": {
          "base_uri": "https://localhost:8080/",
          "height": 536
        }
      },
      "source": [
        "model = Ridge()\n",
        "model.fit(train[features],train[y_name])\n",
        "y_pred = model.predict(test[features])\n",
        "y_pred = pd.Series(y_pred,index=test.index,name='y_pred')\n",
        "print(metric(test[y_name],y_pred,'Ridge'))\n",
        "plot_pred(test[y_name],y_pred);plt.show()\n",
        "plot_coef(model).head(5)"
      ],
      "execution_count": 25,
      "outputs": [
        {
          "output_type": "stream",
          "text": [
            "            R2      RMSE      MAPE\n",
            "Ridge  0.62837  0.050764  0.020119\n"
          ],
          "name": "stdout"
        },
        {
          "output_type": "display_data",
          "data": {
            "image/png": "[encoded data removed]",
            "text/plain": [
              "<Figure size 720x360 with 1 Axes>"
            ]
          },
          "metadata": {
            "tags": []
          }
        },
        {
          "output_type": "execute_result",
          "data": {
            "text/html": [
              "<div>\n",
              "<style scoped>\n",
              "    .dataframe tbody tr th:only-of-type {\n",
              "        vertical-align: middle;\n",
              "    }\n",
              "\n",
              "    .dataframe tbody tr th {\n",
              "        vertical-align: top;\n",
              "    }\n",
              "\n",
              "    .dataframe thead th {\n",
              "        text-align: right;\n",
              "    }\n",
              "</style>\n",
              "<table border=\"1\" class=\"dataframe\">\n",
              "  <thead>\n",
              "    <tr style=\"text-align: right;\">\n",
              "      <th></th>\n",
              "      <th>features</th>\n",
              "      <th>中文</th>\n",
              "      <th>coef</th>\n",
              "    </tr>\n",
              "  </thead>\n",
              "  <tbody>\n",
              "    <tr>\n",
              "      <th>0</th>\n",
              "      <td>MLPAP_TJC-0627.PV</td>\n",
              "      <td>OX預熱器出口溫度</td>\n",
              "      <td>0.545410</td>\n",
              "    </tr>\n",
              "    <tr>\n",
              "      <th>1</th>\n",
              "      <td>MLPAP_TRC-0610.PV</td>\n",
              "      <td>空氣預熱器出口溫度</td>\n",
              "      <td>0.280964</td>\n",
              "    </tr>\n",
              "    <tr>\n",
              "      <th>11</th>\n",
              "      <td>MLPAP_TIC-0757.PV</td>\n",
              "      <td>反應器A/B側鹽浴溫度差</td>\n",
              "      <td>0.152646</td>\n",
              "    </tr>\n",
              "    <tr>\n",
              "      <th>7</th>\n",
              "      <td>MLPAP_TRC-0762.PV</td>\n",
              "      <td>鹽浴冷卻器(E112)入口溫度</td>\n",
              "      <td>0.053755</td>\n",
              "    </tr>\n",
              "    <tr>\n",
              "      <th>4</th>\n",
              "      <td>MLPAP_PIC-0741.PV</td>\n",
              "      <td>汽鼓(V211)鍋爐水壓力</td>\n",
              "      <td>0.047877</td>\n",
              "    </tr>\n",
              "  </tbody>\n",
              "</table>\n",
              "</div>"
            ],
            "text/plain": [
              "             features               中文      coef\n",
              "0   MLPAP_TJC-0627.PV        OX預熱器出口溫度  0.545410\n",
              "1   MLPAP_TRC-0610.PV        空氣預熱器出口溫度  0.280964\n",
              "11  MLPAP_TIC-0757.PV     反應器A/B側鹽浴溫度差  0.152646\n",
              "7   MLPAP_TRC-0762.PV  鹽浴冷卻器(E112)入口溫度  0.053755\n",
              "4   MLPAP_PIC-0741.PV    汽鼓(V211)鍋爐水壓力  0.047877"
            ]
          },
          "metadata": {
            "tags": []
          },
          "execution_count": 25
        }
      ]
    },
    {
      "cell_type": "markdown",
      "metadata": {
        "id": "nGFC6d5xupPT",
        "colab_type": "text"
      },
      "source": [
        "# Lasso"
      ]
    },
    {
      "cell_type": "code",
      "metadata": {
        "id": "O5e_7B3-upfN",
        "colab_type": "code",
        "outputId": "9e4ea49d-e236-4ff2-c203-7e3439ad268b",
        "colab": {
          "base_uri": "https://localhost:8080/",
          "height": 536
        }
      },
      "source": [
        "model = Lasso(0.001)\n",
        "model.fit(train[features],train[y_name])\n",
        "y_pred = model.predict(test[features])\n",
        "y_pred = pd.Series(y_pred,index=test.index,name='y_pred')\n",
        "print(metric(test[y_name],y_pred,'Lasso'))\n",
        "plot_pred(test[y_name],y_pred);plt.show()\n",
        "plot_coef(model).head(5)"
      ],
      "execution_count": 26,
      "outputs": [
        {
          "output_type": "stream",
          "text": [
            "             R2      RMSE      MAPE\n",
            "Lasso  0.605786  0.052283  0.019672\n"
          ],
          "name": "stdout"
        },
        {
          "output_type": "display_data",
          "data": {
            "image/png": "[encoded data removed]",
            "text/plain": [
              "<Figure size 720x360 with 1 Axes>"
            ]
          },
          "metadata": {
            "tags": []
          }
        },
        {
          "output_type": "execute_result",
          "data": {
            "text/html": [
              "<div>\n",
              "<style scoped>\n",
              "    .dataframe tbody tr th:only-of-type {\n",
              "        vertical-align: middle;\n",
              "    }\n",
              "\n",
              "    .dataframe tbody tr th {\n",
              "        vertical-align: top;\n",
              "    }\n",
              "\n",
              "    .dataframe thead th {\n",
              "        text-align: right;\n",
              "    }\n",
              "</style>\n",
              "<table border=\"1\" class=\"dataframe\">\n",
              "  <thead>\n",
              "    <tr style=\"text-align: right;\">\n",
              "      <th></th>\n",
              "      <th>features</th>\n",
              "      <th>中文</th>\n",
              "      <th>coef</th>\n",
              "    </tr>\n",
              "  </thead>\n",
              "  <tbody>\n",
              "    <tr>\n",
              "      <th>0</th>\n",
              "      <td>MLPAP_TJC-0627.PV</td>\n",
              "      <td>OX預熱器出口溫度</td>\n",
              "      <td>0.275983</td>\n",
              "    </tr>\n",
              "    <tr>\n",
              "      <th>1</th>\n",
              "      <td>MLPAP_TRC-0610.PV</td>\n",
              "      <td>空氣預熱器出口溫度</td>\n",
              "      <td>0.111112</td>\n",
              "    </tr>\n",
              "    <tr>\n",
              "      <th>2</th>\n",
              "      <td>MLPAP_FR-0632.PV</td>\n",
              "      <td>汽機風量</td>\n",
              "      <td>0.096961</td>\n",
              "    </tr>\n",
              "    <tr>\n",
              "      <th>4</th>\n",
              "      <td>MLPAP_PIC-0741.PV</td>\n",
              "      <td>汽鼓(V211)鍋爐水壓力</td>\n",
              "      <td>0.009481</td>\n",
              "    </tr>\n",
              "    <tr>\n",
              "      <th>8</th>\n",
              "      <td>MLPAP_LRC-0729.PV</td>\n",
              "      <td>鍋爐水液位控制</td>\n",
              "      <td>0.001528</td>\n",
              "    </tr>\n",
              "  </tbody>\n",
              "</table>\n",
              "</div>"
            ],
            "text/plain": [
              "            features             中文      coef\n",
              "0  MLPAP_TJC-0627.PV      OX預熱器出口溫度  0.275983\n",
              "1  MLPAP_TRC-0610.PV      空氣預熱器出口溫度  0.111112\n",
              "2   MLPAP_FR-0632.PV           汽機風量  0.096961\n",
              "4  MLPAP_PIC-0741.PV  汽鼓(V211)鍋爐水壓力  0.009481\n",
              "8  MLPAP_LRC-0729.PV        鍋爐水液位控制  0.001528"
            ]
          },
          "metadata": {
            "tags": []
          },
          "execution_count": 26
        }
      ]
    },
    {
      "cell_type": "markdown",
      "metadata": {
        "id": "oGocKYDlu_sP",
        "colab_type": "text"
      },
      "source": [
        "# xgboost"
      ]
    },
    {
      "cell_type": "code",
      "metadata": {
        "id": "OgRzQXPevACL",
        "colab_type": "code",
        "outputId": "8e0c230d-d2cd-4a0e-d5c2-38b49f6507fe",
        "colab": {
          "base_uri": "https://localhost:8080/",
          "height": 817
        }
      },
      "source": [
        "model = XGBRegressor(objective='reg:squarederror')\n",
        "model.fit(train[features],train[y_name])\n",
        "y_pred = model.predict(test[features])\n",
        "y_pred = pd.Series(y_pred,index=test.index,name='y_pred')\n",
        "print(metric(test[y_name],y_pred,'XGB'))\n",
        "xgboost.plot_importance(model);plt.show()\n",
        "plot_pred(test[y_name],y_pred);plt.show()\n",
        "plot_imp(model).head(5)"
      ],
      "execution_count": 27,
      "outputs": [
        {
          "output_type": "stream",
          "text": [
            "           R2      RMSE      MAPE\n",
            "XGB  0.396724  0.064678  0.014288\n"
          ],
          "name": "stdout"
        },
        {
          "output_type": "display_data",
          "data": {
            "image/png": "[encoded data removed]",
            "text/plain": [
              "<Figure size 432x288 with 1 Axes>"
            ]
          },
          "metadata": {
            "tags": []
          }
        },
        {
          "output_type": "display_data",
          "data": {
            "image/png": "[encoded data removed]",
            "text/plain": [
              "<Figure size 720x360 with 1 Axes>"
            ]
          },
          "metadata": {
            "tags": []
          }
        },
        {
          "output_type": "execute_result",
          "data": {
            "text/html": [
              "<div>\n",
              "<style scoped>\n",
              "    .dataframe tbody tr th:only-of-type {\n",
              "        vertical-align: middle;\n",
              "    }\n",
              "\n",
              "    .dataframe tbody tr th {\n",
              "        vertical-align: top;\n",
              "    }\n",
              "\n",
              "    .dataframe thead th {\n",
              "        text-align: right;\n",
              "    }\n",
              "</style>\n",
              "<table border=\"1\" class=\"dataframe\">\n",
              "  <thead>\n",
              "    <tr style=\"text-align: right;\">\n",
              "      <th></th>\n",
              "      <th>features</th>\n",
              "      <th>中文</th>\n",
              "      <th>imp</th>\n",
              "    </tr>\n",
              "  </thead>\n",
              "  <tbody>\n",
              "    <tr>\n",
              "      <th>0</th>\n",
              "      <td>MLPAP_TJC-0627.PV</td>\n",
              "      <td>OX預熱器出口溫度</td>\n",
              "      <td>0.727637</td>\n",
              "    </tr>\n",
              "    <tr>\n",
              "      <th>7</th>\n",
              "      <td>MLPAP_TRC-0762.PV</td>\n",
              "      <td>鹽浴冷卻器(E112)入口溫度</td>\n",
              "      <td>0.070813</td>\n",
              "    </tr>\n",
              "    <tr>\n",
              "      <th>2</th>\n",
              "      <td>MLPAP_FR-0632.PV</td>\n",
              "      <td>汽機風量</td>\n",
              "      <td>0.043918</td>\n",
              "    </tr>\n",
              "    <tr>\n",
              "      <th>6</th>\n",
              "      <td>MLPAP_PIC-0761.PV</td>\n",
              "      <td>鹽浴冷卻器(E112)出口壓力</td>\n",
              "      <td>0.037144</td>\n",
              "    </tr>\n",
              "    <tr>\n",
              "      <th>11</th>\n",
              "      <td>MLPAP_TIC-0757.PV</td>\n",
              "      <td>反應器A/B側鹽浴溫度差</td>\n",
              "      <td>0.033153</td>\n",
              "    </tr>\n",
              "  </tbody>\n",
              "</table>\n",
              "</div>"
            ],
            "text/plain": [
              "             features               中文       imp\n",
              "0   MLPAP_TJC-0627.PV        OX預熱器出口溫度  0.727637\n",
              "7   MLPAP_TRC-0762.PV  鹽浴冷卻器(E112)入口溫度  0.070813\n",
              "2    MLPAP_FR-0632.PV             汽機風量  0.043918\n",
              "6   MLPAP_PIC-0761.PV  鹽浴冷卻器(E112)出口壓力  0.037144\n",
              "11  MLPAP_TIC-0757.PV     反應器A/B側鹽浴溫度差  0.033153"
            ]
          },
          "metadata": {
            "tags": []
          },
          "execution_count": 27
        }
      ]
    },
    {
      "cell_type": "markdown",
      "metadata": {
        "id": "zoX5Qsewfk5P",
        "colab_type": "text"
      },
      "source": [
        "# LGBM"
      ]
    },
    {
      "cell_type": "code",
      "metadata": {
        "id": "SOvONyVyblOT",
        "colab_type": "code",
        "outputId": "901868ba-7b4c-4afd-f32b-8d08b67dc3b0",
        "colab": {
          "base_uri": "https://localhost:8080/",
          "height": 814
        }
      },
      "source": [
        "model = LGBMRegressor()\n",
        "model.fit(train[features],train[y_name])\n",
        "y_pred = model.predict(test[features])\n",
        "y_pred = pd.Series(y_pred,index=test.index,name='y_pred')\n",
        "print(metric(test[y_name],y_pred,'LGBM'))\n",
        "graph = lightgbm.create_tree_digraph(model)\n",
        "graph.render(view=True)\n",
        "lightgbm.plot_importance(model);plt.show()\n",
        "plot_pred(test[y_name],y_pred);plt.show()\n",
        "plot_imp(model).head(5)"
      ],
      "execution_count": 28,
      "outputs": [
        {
          "output_type": "stream",
          "text": [
            "            R2     RMSE      MAPE\n",
            "LGBM  0.544185  0.05622  0.014331\n"
          ],
          "name": "stdout"
        },
        {
          "output_type": "display_data",
          "data": {
            "image/png": "[encoded data removed]",
            "text/plain": [
              "<Figure size 432x288 with 1 Axes>"
            ]
          },
          "metadata": {
            "tags": []
          }
        },
        {
          "output_type": "display_data",
          "data": {
            "image/png": "[encoded data removed]",
            "text/plain": [
              "<Figure size 720x360 with 1 Axes>"
            ]
          },
          "metadata": {
            "tags": []
          }
        },
        {
          "output_type": "execute_result",
          "data": {
            "text/html": [
              "<div>\n",
              "<style scoped>\n",
              "    .dataframe tbody tr th:only-of-type {\n",
              "        vertical-align: middle;\n",
              "    }\n",
              "\n",
              "    .dataframe tbody tr th {\n",
              "        vertical-align: top;\n",
              "    }\n",
              "\n",
              "    .dataframe thead th {\n",
              "        text-align: right;\n",
              "    }\n",
              "</style>\n",
              "<table border=\"1\" class=\"dataframe\">\n",
              "  <thead>\n",
              "    <tr style=\"text-align: right;\">\n",
              "      <th></th>\n",
              "      <th>features</th>\n",
              "      <th>中文</th>\n",
              "      <th>imp</th>\n",
              "    </tr>\n",
              "  </thead>\n",
              "  <tbody>\n",
              "    <tr>\n",
              "      <th>6</th>\n",
              "      <td>MLPAP_PIC-0761.PV</td>\n",
              "      <td>鹽浴冷卻器(E112)出口壓力</td>\n",
              "      <td>368</td>\n",
              "    </tr>\n",
              "    <tr>\n",
              "      <th>7</th>\n",
              "      <td>MLPAP_TRC-0762.PV</td>\n",
              "      <td>鹽浴冷卻器(E112)入口溫度</td>\n",
              "      <td>338</td>\n",
              "    </tr>\n",
              "    <tr>\n",
              "      <th>8</th>\n",
              "      <td>MLPAP_LRC-0729.PV</td>\n",
              "      <td>鍋爐水液位控制</td>\n",
              "      <td>305</td>\n",
              "    </tr>\n",
              "    <tr>\n",
              "      <th>1</th>\n",
              "      <td>MLPAP_TRC-0610.PV</td>\n",
              "      <td>空氣預熱器出口溫度</td>\n",
              "      <td>300</td>\n",
              "    </tr>\n",
              "    <tr>\n",
              "      <th>2</th>\n",
              "      <td>MLPAP_FR-0632.PV</td>\n",
              "      <td>汽機風量</td>\n",
              "      <td>300</td>\n",
              "    </tr>\n",
              "  </tbody>\n",
              "</table>\n",
              "</div>"
            ],
            "text/plain": [
              "            features               中文  imp\n",
              "6  MLPAP_PIC-0761.PV  鹽浴冷卻器(E112)出口壓力  368\n",
              "7  MLPAP_TRC-0762.PV  鹽浴冷卻器(E112)入口溫度  338\n",
              "8  MLPAP_LRC-0729.PV          鍋爐水液位控制  305\n",
              "1  MLPAP_TRC-0610.PV        空氣預熱器出口溫度  300\n",
              "2   MLPAP_FR-0632.PV             汽機風量  300"
            ]
          },
          "metadata": {
            "tags": []
          },
          "execution_count": 28
        }
      ]
    },
    {
      "cell_type": "markdown",
      "metadata": {
        "id": "MudCLQWYwfTm",
        "colab_type": "text"
      },
      "source": [
        "# SVR"
      ]
    },
    {
      "cell_type": "code",
      "metadata": {
        "id": "l7K-iO6DwfiO",
        "colab_type": "code",
        "outputId": "f614bd82-f0f6-4455-aaa3-8f03c0c0ec57",
        "colab": {
          "base_uri": "https://localhost:8080/",
          "height": 355
        }
      },
      "source": [
        "model = SVR()\n",
        "model.fit(train[features],train[y_name])\n",
        "y_pred = model.predict(test[features])\n",
        "y_pred = pd.Series(y_pred,index=test.index,name='y_pred')\n",
        "print(metric(test[y_name],y_pred,'SVR'))\n",
        "plot_pred(test[y_name],y_pred)\n",
        "plt.show()"
      ],
      "execution_count": 29,
      "outputs": [
        {
          "output_type": "stream",
          "text": [
            "           R2      RMSE      MAPE\n",
            "SVR  0.721204  0.043968  0.024411\n"
          ],
          "name": "stdout"
        },
        {
          "output_type": "display_data",
          "data": {
            "image/png": "[encoded data removed]",
            "text/plain": [
              "<Figure size 720x360 with 1 Axes>"
            ]
          },
          "metadata": {
            "tags": []
          }
        }
      ]
    },
    {
      "cell_type": "code",
      "metadata": {
        "id": "LAueejkRAmLp",
        "colab_type": "code",
        "colab": {}
      },
      "source": [
        ""
      ],
      "execution_count": 0,
      "outputs": []
    }
  ]
}