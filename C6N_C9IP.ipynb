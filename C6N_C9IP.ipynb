{
  "nbformat": 4,
  "nbformat_minor": 0,
  "metadata": {
    "colab": {
      "name": "C6N_C9IP.ipynb",
      "provenance": [],
      "collapsed_sections": [],
      "include_colab_link": true
    },
    "kernelspec": {
      "name": "python3",
      "display_name": "Python 3"
    }
  },
  "cells": [
    {
      "cell_type": "markdown",
      "metadata": {
        "id": "view-in-github",
        "colab_type": "text"
      },
      "source": [
        "<a href=\"https://colab.research.google.com/github/skywalker0803r/works/blob/master/C6N_C9IP.ipynb\" target=\"_parent\"><img src=\"https://colab.research.google.com/assets/colab-badge.svg\" alt=\"Open In Colab\"/></a>"
      ]
    },
    {
      "cell_type": "code",
      "metadata": {
        "id": "xTX2C4HX5ZFL",
        "colab_type": "code",
        "outputId": "5bab0138-cd8e-4463-83d2-7276973a09ab",
        "colab": {
          "base_uri": "https://localhost:8080/",
          "height": 33
        }
      },
      "source": [
        "from google.colab import drive\n",
        "drive.mount('/content/drive')\n",
        "import warnings \n",
        "warnings.simplefilter('ignore')"
      ],
      "execution_count": 1,
      "outputs": [
        {
          "output_type": "stream",
          "text": [
            "Drive already mounted at /content/drive; to attempt to forcibly remount, call drive.mount(\"/content/drive\", force_remount=True).\n"
          ],
          "name": "stdout"
        }
      ]
    },
    {
      "cell_type": "markdown",
      "metadata": {
        "id": "ntB8KlJM6gEY",
        "colab_type": "text"
      },
      "source": [
        "# Load data"
      ]
    },
    {
      "cell_type": "code",
      "metadata": {
        "id": "no46PF6T5dPn",
        "colab_type": "code",
        "outputId": "c5d0eea9-b20a-465e-8e20-26c518ccfc56",
        "colab": {
          "base_uri": "https://localhost:8080/",
          "height": 67
        }
      },
      "source": [
        "import pandas as pd\n",
        "\n",
        "train = pd.read_csv('/content/drive/My Drive/台塑輕油案子/data/train_4521.csv',index_col=0).reset_index(drop=True)\n",
        "test_170 = pd.read_csv('/content/drive/My Drive/台塑輕油案子/data/test_170.csv',index_col=0).reset_index(drop=True)\n",
        "test_250 = pd.read_csv('/content/drive/My Drive/台塑輕油案子/data/test_250.csv',index_col=0).reset_index(drop=True)\n",
        "\n",
        "test_200 = test_250.loc[ test_250.index % 5 != 0 ,:]\n",
        "test_50 = test_250.loc[ test_250.index % 5 == 0 ,:]\n",
        "\n",
        "train = train.append(test_200)#加入200筆\n",
        "\n",
        "print('train',train.shape)\n",
        "print('test_170',test_170.shape)\n",
        "print('test_50',test_50.shape)"
      ],
      "execution_count": 2,
      "outputs": [
        {
          "output_type": "stream",
          "text": [
            "train (4721, 27)\n",
            "test_170 (170, 27)\n",
            "test_50 (50, 27)\n"
          ],
          "name": "stdout"
        }
      ]
    },
    {
      "cell_type": "code",
      "metadata": {
        "id": "xs44aGa_BfGC",
        "colab_type": "code",
        "outputId": "02f12250-e152-4b2b-eaf2-437389ce7d54",
        "colab": {
          "base_uri": "https://localhost:8080/",
          "height": 197
        }
      },
      "source": [
        "train.head()"
      ],
      "execution_count": 3,
      "outputs": [
        {
          "output_type": "execute_result",
          "data": {
            "text/html": [
              "<div>\n",
              "<style scoped>\n",
              "    .dataframe tbody tr th:only-of-type {\n",
              "        vertical-align: middle;\n",
              "    }\n",
              "\n",
              "    .dataframe tbody tr th {\n",
              "        vertical-align: top;\n",
              "    }\n",
              "\n",
              "    .dataframe thead th {\n",
              "        text-align: right;\n",
              "    }\n",
              "</style>\n",
              "<table border=\"1\" class=\"dataframe\">\n",
              "  <thead>\n",
              "    <tr style=\"text-align: right;\">\n",
              "      <th></th>\n",
              "      <th>T10</th>\n",
              "      <th>T50</th>\n",
              "      <th>T90</th>\n",
              "      <th>N+A</th>\n",
              "      <th>C5NP</th>\n",
              "      <th>C5IP</th>\n",
              "      <th>C5N</th>\n",
              "      <th>C6NP</th>\n",
              "      <th>C6IP</th>\n",
              "      <th>C6N</th>\n",
              "      <th>C6A</th>\n",
              "      <th>C7NP</th>\n",
              "      <th>C7IP</th>\n",
              "      <th>C7N</th>\n",
              "      <th>C7A</th>\n",
              "      <th>C8NP</th>\n",
              "      <th>C8IP</th>\n",
              "      <th>C8N</th>\n",
              "      <th>C8A</th>\n",
              "      <th>C9NP</th>\n",
              "      <th>C9IP</th>\n",
              "      <th>C9N</th>\n",
              "      <th>C9A</th>\n",
              "      <th>C10NP</th>\n",
              "      <th>C10IP</th>\n",
              "      <th>C10N</th>\n",
              "      <th>C10A</th>\n",
              "    </tr>\n",
              "  </thead>\n",
              "  <tbody>\n",
              "    <tr>\n",
              "      <th>0</th>\n",
              "      <td>100.5</td>\n",
              "      <td>119.2</td>\n",
              "      <td>146.5</td>\n",
              "      <td>31.978</td>\n",
              "      <td>0.272</td>\n",
              "      <td>0.132</td>\n",
              "      <td>0.059</td>\n",
              "      <td>5.293</td>\n",
              "      <td>2.570</td>\n",
              "      <td>2.819</td>\n",
              "      <td>0.494</td>\n",
              "      <td>10.395</td>\n",
              "      <td>8.070</td>\n",
              "      <td>6.411</td>\n",
              "      <td>2.917</td>\n",
              "      <td>9.138</td>\n",
              "      <td>9.649</td>\n",
              "      <td>4.810</td>\n",
              "      <td>5.373</td>\n",
              "      <td>6.405</td>\n",
              "      <td>9.759</td>\n",
              "      <td>4.590</td>\n",
              "      <td>3.661</td>\n",
              "      <td>0.875</td>\n",
              "      <td>5.257</td>\n",
              "      <td>0.525</td>\n",
              "      <td>0.319</td>\n",
              "    </tr>\n",
              "    <tr>\n",
              "      <th>1</th>\n",
              "      <td>99.6</td>\n",
              "      <td>117.9</td>\n",
              "      <td>145.5</td>\n",
              "      <td>31.568</td>\n",
              "      <td>0.297</td>\n",
              "      <td>0.151</td>\n",
              "      <td>0.062</td>\n",
              "      <td>5.089</td>\n",
              "      <td>2.531</td>\n",
              "      <td>2.804</td>\n",
              "      <td>0.499</td>\n",
              "      <td>10.074</td>\n",
              "      <td>7.958</td>\n",
              "      <td>6.395</td>\n",
              "      <td>2.894</td>\n",
              "      <td>8.970</td>\n",
              "      <td>9.548</td>\n",
              "      <td>4.753</td>\n",
              "      <td>5.443</td>\n",
              "      <td>6.324</td>\n",
              "      <td>9.899</td>\n",
              "      <td>4.301</td>\n",
              "      <td>2.995</td>\n",
              "      <td>0.881</td>\n",
              "      <td>5.591</td>\n",
              "      <td>1.119</td>\n",
              "      <td>0.303</td>\n",
              "    </tr>\n",
              "    <tr>\n",
              "      <th>2</th>\n",
              "      <td>100.0</td>\n",
              "      <td>118.8</td>\n",
              "      <td>145.6</td>\n",
              "      <td>31.344</td>\n",
              "      <td>0.262</td>\n",
              "      <td>0.126</td>\n",
              "      <td>0.061</td>\n",
              "      <td>5.107</td>\n",
              "      <td>2.571</td>\n",
              "      <td>2.771</td>\n",
              "      <td>0.492</td>\n",
              "      <td>10.069</td>\n",
              "      <td>7.913</td>\n",
              "      <td>6.378</td>\n",
              "      <td>2.890</td>\n",
              "      <td>9.006</td>\n",
              "      <td>9.591</td>\n",
              "      <td>4.778</td>\n",
              "      <td>5.468</td>\n",
              "      <td>6.360</td>\n",
              "      <td>9.983</td>\n",
              "      <td>4.274</td>\n",
              "      <td>2.979</td>\n",
              "      <td>0.865</td>\n",
              "      <td>5.641</td>\n",
              "      <td>0.964</td>\n",
              "      <td>0.289</td>\n",
              "    </tr>\n",
              "    <tr>\n",
              "      <th>3</th>\n",
              "      <td>100.4</td>\n",
              "      <td>118.6</td>\n",
              "      <td>142.9</td>\n",
              "      <td>31.453</td>\n",
              "      <td>0.224</td>\n",
              "      <td>0.105</td>\n",
              "      <td>0.060</td>\n",
              "      <td>4.894</td>\n",
              "      <td>2.497</td>\n",
              "      <td>2.650</td>\n",
              "      <td>0.469</td>\n",
              "      <td>10.015</td>\n",
              "      <td>7.685</td>\n",
              "      <td>6.376</td>\n",
              "      <td>2.866</td>\n",
              "      <td>9.133</td>\n",
              "      <td>9.708</td>\n",
              "      <td>4.889</td>\n",
              "      <td>5.510</td>\n",
              "      <td>6.444</td>\n",
              "      <td>10.182</td>\n",
              "      <td>4.420</td>\n",
              "      <td>2.964</td>\n",
              "      <td>0.830</td>\n",
              "      <td>5.637</td>\n",
              "      <td>0.968</td>\n",
              "      <td>0.281</td>\n",
              "    </tr>\n",
              "    <tr>\n",
              "      <th>4</th>\n",
              "      <td>100.4</td>\n",
              "      <td>118.1</td>\n",
              "      <td>142.2</td>\n",
              "      <td>32.190</td>\n",
              "      <td>0.243</td>\n",
              "      <td>0.117</td>\n",
              "      <td>0.061</td>\n",
              "      <td>4.946</td>\n",
              "      <td>2.503</td>\n",
              "      <td>2.695</td>\n",
              "      <td>0.477</td>\n",
              "      <td>10.053</td>\n",
              "      <td>7.765</td>\n",
              "      <td>6.394</td>\n",
              "      <td>2.877</td>\n",
              "      <td>9.101</td>\n",
              "      <td>9.676</td>\n",
              "      <td>4.855</td>\n",
              "      <td>5.500</td>\n",
              "      <td>6.416</td>\n",
              "      <td>10.115</td>\n",
              "      <td>4.347</td>\n",
              "      <td>3.725</td>\n",
              "      <td>0.835</td>\n",
              "      <td>4.823</td>\n",
              "      <td>0.969</td>\n",
              "      <td>0.290</td>\n",
              "    </tr>\n",
              "  </tbody>\n",
              "</table>\n",
              "</div>"
            ],
            "text/plain": [
              "     T10    T50    T90     N+A   C5NP  ...    C9A  C10NP  C10IP   C10N   C10A\n",
              "0  100.5  119.2  146.5  31.978  0.272  ...  3.661  0.875  5.257  0.525  0.319\n",
              "1   99.6  117.9  145.5  31.568  0.297  ...  2.995  0.881  5.591  1.119  0.303\n",
              "2  100.0  118.8  145.6  31.344  0.262  ...  2.979  0.865  5.641  0.964  0.289\n",
              "3  100.4  118.6  142.9  31.453  0.224  ...  2.964  0.830  5.637  0.968  0.281\n",
              "4  100.4  118.1  142.2  32.190  0.243  ...  3.725  0.835  4.823  0.969  0.290\n",
              "\n",
              "[5 rows x 27 columns]"
            ]
          },
          "metadata": {
            "tags": []
          },
          "execution_count": 3
        }
      ]
    },
    {
      "cell_type": "code",
      "metadata": {
        "id": "nid60yDlCq-E",
        "colab_type": "code",
        "colab": {}
      },
      "source": [
        "features = ['T10','T50','T90','N+A']\n",
        "y_columns = train.columns.tolist()[4:]\n",
        "y_name = 'C6N'"
      ],
      "execution_count": 0,
      "outputs": []
    },
    {
      "cell_type": "markdown",
      "metadata": {
        "id": "TRBCKQB0CfzF",
        "colab_type": "text"
      },
      "source": [
        "# features scaler"
      ]
    },
    {
      "cell_type": "code",
      "metadata": {
        "id": "QexTXoC0CgAB",
        "colab_type": "code",
        "colab": {}
      },
      "source": [
        "from sklearn.preprocessing import StandardScaler\n",
        "\n",
        "scaler = StandardScaler().fit(train[features])\n",
        "\n",
        "train[features] = scaler.transform(train[features])\n",
        "test_170[features] = scaler.transform(test_170[features])\n",
        "test_50[features] = scaler.transform(test_50[features])"
      ],
      "execution_count": 0,
      "outputs": []
    },
    {
      "cell_type": "markdown",
      "metadata": {
        "id": "n23ioYhjCbL4",
        "colab_type": "text"
      },
      "source": [
        "# corr with x"
      ]
    },
    {
      "cell_type": "code",
      "metadata": {
        "id": "8iYxbyTuRkzi",
        "colab_type": "code",
        "outputId": "7940d018-fcc3-4a2a-ed13-4555c7c32c58",
        "colab": {
          "base_uri": "https://localhost:8080/",
          "height": 197
        }
      },
      "source": [
        "corrs = train[features+[y_name]].corr()\n",
        "abs(corrs)"
      ],
      "execution_count": 6,
      "outputs": [
        {
          "output_type": "execute_result",
          "data": {
            "text/html": [
              "<div>\n",
              "<style scoped>\n",
              "    .dataframe tbody tr th:only-of-type {\n",
              "        vertical-align: middle;\n",
              "    }\n",
              "\n",
              "    .dataframe tbody tr th {\n",
              "        vertical-align: top;\n",
              "    }\n",
              "\n",
              "    .dataframe thead th {\n",
              "        text-align: right;\n",
              "    }\n",
              "</style>\n",
              "<table border=\"1\" class=\"dataframe\">\n",
              "  <thead>\n",
              "    <tr style=\"text-align: right;\">\n",
              "      <th></th>\n",
              "      <th>T10</th>\n",
              "      <th>T50</th>\n",
              "      <th>T90</th>\n",
              "      <th>N+A</th>\n",
              "      <th>C6N</th>\n",
              "    </tr>\n",
              "  </thead>\n",
              "  <tbody>\n",
              "    <tr>\n",
              "      <th>T10</th>\n",
              "      <td>1.000000</td>\n",
              "      <td>0.895238</td>\n",
              "      <td>0.222087</td>\n",
              "      <td>0.262210</td>\n",
              "      <td>0.692040</td>\n",
              "    </tr>\n",
              "    <tr>\n",
              "      <th>T50</th>\n",
              "      <td>0.895238</td>\n",
              "      <td>1.000000</td>\n",
              "      <td>0.533778</td>\n",
              "      <td>0.371996</td>\n",
              "      <td>0.764767</td>\n",
              "    </tr>\n",
              "    <tr>\n",
              "      <th>T90</th>\n",
              "      <td>0.222087</td>\n",
              "      <td>0.533778</td>\n",
              "      <td>1.000000</td>\n",
              "      <td>0.217989</td>\n",
              "      <td>0.324837</td>\n",
              "    </tr>\n",
              "    <tr>\n",
              "      <th>N+A</th>\n",
              "      <td>0.262210</td>\n",
              "      <td>0.371996</td>\n",
              "      <td>0.217989</td>\n",
              "      <td>1.000000</td>\n",
              "      <td>0.601822</td>\n",
              "    </tr>\n",
              "    <tr>\n",
              "      <th>C6N</th>\n",
              "      <td>0.692040</td>\n",
              "      <td>0.764767</td>\n",
              "      <td>0.324837</td>\n",
              "      <td>0.601822</td>\n",
              "      <td>1.000000</td>\n",
              "    </tr>\n",
              "  </tbody>\n",
              "</table>\n",
              "</div>"
            ],
            "text/plain": [
              "          T10       T50       T90       N+A       C6N\n",
              "T10  1.000000  0.895238  0.222087  0.262210  0.692040\n",
              "T50  0.895238  1.000000  0.533778  0.371996  0.764767\n",
              "T90  0.222087  0.533778  1.000000  0.217989  0.324837\n",
              "N+A  0.262210  0.371996  0.217989  1.000000  0.601822\n",
              "C6N  0.692040  0.764767  0.324837  0.601822  1.000000"
            ]
          },
          "metadata": {
            "tags": []
          },
          "execution_count": 6
        }
      ]
    },
    {
      "cell_type": "markdown",
      "metadata": {
        "id": "Td3srMukCdDo",
        "colab_type": "text"
      },
      "source": [
        "# corr with y"
      ]
    },
    {
      "cell_type": "code",
      "metadata": {
        "id": "73moSg4fCdNB",
        "colab_type": "code",
        "outputId": "eb02e948-e90d-490b-bb43-9af629149de5",
        "colab": {
          "base_uri": "https://localhost:8080/",
          "height": 197
        }
      },
      "source": [
        "corrs = train[y_columns].corr()[[y_name]]\n",
        "abs(corrs).sort_values(by=y_name,ascending=False).head(5)"
      ],
      "execution_count": 7,
      "outputs": [
        {
          "output_type": "execute_result",
          "data": {
            "text/html": [
              "<div>\n",
              "<style scoped>\n",
              "    .dataframe tbody tr th:only-of-type {\n",
              "        vertical-align: middle;\n",
              "    }\n",
              "\n",
              "    .dataframe tbody tr th {\n",
              "        vertical-align: top;\n",
              "    }\n",
              "\n",
              "    .dataframe thead th {\n",
              "        text-align: right;\n",
              "    }\n",
              "</style>\n",
              "<table border=\"1\" class=\"dataframe\">\n",
              "  <thead>\n",
              "    <tr style=\"text-align: right;\">\n",
              "      <th></th>\n",
              "      <th>C6N</th>\n",
              "    </tr>\n",
              "  </thead>\n",
              "  <tbody>\n",
              "    <tr>\n",
              "      <th>C6N</th>\n",
              "      <td>1.000000</td>\n",
              "    </tr>\n",
              "    <tr>\n",
              "      <th>C9IP</th>\n",
              "      <td>0.806291</td>\n",
              "    </tr>\n",
              "    <tr>\n",
              "      <th>C8NP</th>\n",
              "      <td>0.784720</td>\n",
              "    </tr>\n",
              "    <tr>\n",
              "      <th>C9NP</th>\n",
              "      <td>0.772039</td>\n",
              "    </tr>\n",
              "    <tr>\n",
              "      <th>C8IP</th>\n",
              "      <td>0.762341</td>\n",
              "    </tr>\n",
              "  </tbody>\n",
              "</table>\n",
              "</div>"
            ],
            "text/plain": [
              "           C6N\n",
              "C6N   1.000000\n",
              "C9IP  0.806291\n",
              "C8NP  0.784720\n",
              "C9NP  0.772039\n",
              "C8IP  0.762341"
            ]
          },
          "metadata": {
            "tags": []
          },
          "execution_count": 7
        }
      ]
    },
    {
      "cell_type": "markdown",
      "metadata": {
        "id": "xd091gpaESTk",
        "colab_type": "text"
      },
      "source": [
        "# 特徵工程"
      ]
    },
    {
      "cell_type": "code",
      "metadata": {
        "id": "RcTJI_6yESdk",
        "colab_type": "code",
        "colab": {}
      },
      "source": [
        "#train['F1'] = train['T50']+train['N+A']\n",
        "#test_170['F1'] = test_170['T50']+test_170['N+A']\n",
        "#test_50['F1'] = test_50['T50']+test_50['N+A']"
      ],
      "execution_count": 0,
      "outputs": []
    },
    {
      "cell_type": "markdown",
      "metadata": {
        "id": "uy1szUyEERxn",
        "colab_type": "text"
      },
      "source": [
        "# isomape萃取特徵"
      ]
    },
    {
      "cell_type": "code",
      "metadata": {
        "id": "1Dr7LIYgER7W",
        "colab_type": "code",
        "colab": {
          "base_uri": "https://localhost:8080/",
          "height": 50
        },
        "outputId": "599b8008-7a08-40b1-c009-6f9cf297abd3"
      },
      "source": [
        "from sklearn.manifold import Isomap\n",
        "iso = Isomap(n_components=1)\n",
        "iso_col = ['T50','N+A']\n",
        "iso.fit(train[iso_col])"
      ],
      "execution_count": 9,
      "outputs": [
        {
          "output_type": "execute_result",
          "data": {
            "text/plain": [
              "Isomap(eigen_solver='auto', max_iter=None, n_components=1, n_jobs=None,\n",
              "       n_neighbors=5, neighbors_algorithm='auto', path_method='auto', tol=0)"
            ]
          },
          "metadata": {
            "tags": []
          },
          "execution_count": 9
        }
      ]
    },
    {
      "cell_type": "code",
      "metadata": {
        "id": "cQLlOl7QTFaC",
        "colab_type": "code",
        "colab": {}
      },
      "source": [
        "train['F1'] = iso.transform(train[iso_col])\n",
        "test_170['F1'] = iso.transform(test_170[iso_col])\n",
        "test_50['F1'] = iso.transform(test_50[iso_col])"
      ],
      "execution_count": 0,
      "outputs": []
    },
    {
      "cell_type": "markdown",
      "metadata": {
        "id": "vc89062OSze6",
        "colab_type": "text"
      },
      "source": [
        "# features selected pca_col selected"
      ]
    },
    {
      "cell_type": "code",
      "metadata": {
        "id": "tIj4vt3qSzoD",
        "colab_type": "code",
        "colab": {}
      },
      "source": [
        "features = ['F1']\n",
        "pca_col = ['C6N','C9IP']"
      ],
      "execution_count": 0,
      "outputs": []
    },
    {
      "cell_type": "markdown",
      "metadata": {
        "id": "YwrTkRmDDb3C",
        "colab_type": "text"
      },
      "source": [
        "# PCA y_columns"
      ]
    },
    {
      "cell_type": "code",
      "metadata": {
        "id": "r2N1XvFlDKU2",
        "colab_type": "code",
        "colab": {}
      },
      "source": [
        "from sklearn.decomposition import PCA\n",
        "from sklearn.preprocessing import StandardScaler\n",
        "\n",
        "scaler_y = StandardScaler()\n",
        "pca = PCA(n_components=1)\n",
        "\n",
        "train['pca_1'] = pca.fit_transform(scaler_y.fit_transform(train[pca_col]))\n",
        "test_170['pca_1'] = pca.transform(scaler_y.transform(test_170[pca_col]))\n",
        "test_50['pca_1'] = pca.transform(scaler_y.transform(test_50[pca_col]))"
      ],
      "execution_count": 0,
      "outputs": []
    },
    {
      "cell_type": "markdown",
      "metadata": {
        "id": "DgnbeigQEc3J",
        "colab_type": "text"
      },
      "source": [
        "# corr with x,y"
      ]
    },
    {
      "cell_type": "code",
      "metadata": {
        "id": "GecRPzzYEdFv",
        "colab_type": "code",
        "outputId": "82562dd6-3290-4f82-c6f1-b9a682f53b68",
        "colab": {
          "base_uri": "https://localhost:8080/",
          "height": 279
        }
      },
      "source": [
        "import seaborn as sns\n",
        "import matplotlib.pyplot as plt\n",
        "labels = train[features+['pca_1']].corr().loc['pca_1',features][0]\n",
        "labels = round(labels,3)\n",
        "sns.scatterplot(train[features[0]],train['pca_1'],label=labels)\n",
        "plt.legend()\n",
        "plt.show()"
      ],
      "execution_count": 13,
      "outputs": [
        {
          "output_type": "display_data",
          "data": {
            "image/png": "[encoded data removed]",
            "text/plain": [
              "<Figure size 432x288 with 1 Axes>"
            ]
          },
          "metadata": {
            "tags": []
          }
        }
      ]
    },
    {
      "cell_type": "markdown",
      "metadata": {
        "id": "YGr4otLZD-NJ",
        "colab_type": "text"
      },
      "source": [
        "# metric"
      ]
    },
    {
      "cell_type": "code",
      "metadata": {
        "id": "859tAQaqD7jd",
        "colab_type": "code",
        "colab": {}
      },
      "source": [
        "from sklearn.metrics import mean_squared_error,mean_absolute_error,r2_score\n",
        "import numpy as np\n",
        "from math import sqrt\n",
        "def metric(y_t,y_p,name):\n",
        "  res = {'R2':np.max((r2_score(y_t,y_p),0)),\n",
        "         'RMSE':sqrt(mean_squared_error(y_t,y_p)),\n",
        "         'mean_absolute_error':mean_absolute_error(y_t,y_p)}\n",
        "  return pd.DataFrame(res,index=[name])"
      ],
      "execution_count": 0,
      "outputs": []
    },
    {
      "cell_type": "markdown",
      "metadata": {
        "id": "X7gtrRFVEBWa",
        "colab_type": "text"
      },
      "source": [
        "# modeling"
      ]
    },
    {
      "cell_type": "code",
      "metadata": {
        "id": "dZ1UOMrPD_3R",
        "colab_type": "code",
        "outputId": "7a22f026-57e2-4b88-ea9e-aa6810c02436",
        "colab": {
          "base_uri": "https://localhost:8080/",
          "height": 50
        }
      },
      "source": [
        "from sklearn.svm import SVR\n",
        "from sklearn.linear_model import LinearRegression\n",
        "from sklearn.model_selection import cross_validate\n",
        "import warnings \n",
        "warnings.simplefilter('ignore')\n",
        "\n",
        "#算法選擇\n",
        "model = LinearRegression()\n",
        "#model = SVR()\n",
        "\n",
        "#交叉驗證表現\n",
        "val_scores = cross_validate(model,train[features],train['pca_1'],cv=5)\n",
        "print('交叉驗證分數:',val_scores['test_score'])\n",
        "print('交叉驗證分數平均:',val_scores['test_score'].mean())\n",
        "\n",
        "#fit\n",
        "model.fit(train[features],train['pca_1'])\n",
        "\n",
        "#預測\n",
        "train['y_pred'] = model.predict(train[features])\n",
        "test_170['y_pred'] = model.predict(test_170[features])\n",
        "test_50['y_pred'] = model.predict(test_50[features])"
      ],
      "execution_count": 15,
      "outputs": [
        {
          "output_type": "stream",
          "text": [
            "交叉驗證分數: [0.90505953 0.61545064 0.84731449 0.8834381  0.75739296]\n",
            "交叉驗證分數平均: 0.8017311443175743\n"
          ],
          "name": "stdout"
        }
      ]
    },
    {
      "cell_type": "markdown",
      "metadata": {
        "id": "u95rAAbRMwoH",
        "colab_type": "text"
      },
      "source": [
        "# 分數"
      ]
    },
    {
      "cell_type": "code",
      "metadata": {
        "id": "fIxf6oHFGqwq",
        "colab_type": "code",
        "outputId": "38793e22-fe1d-4e8e-caf1-0bc0e8e874be",
        "colab": {
          "base_uri": "https://localhost:8080/",
          "height": 137
        }
      },
      "source": [
        "metric(train['pca_1'],train['y_pred'],'train').append(\n",
        "    metric(test_170['pca_1'],test_170['y_pred'],'test_170')).append(\n",
        "        metric(test_50['pca_1'],test_50['y_pred'],'test_50'))"
      ],
      "execution_count": 16,
      "outputs": [
        {
          "output_type": "execute_result",
          "data": {
            "text/html": [
              "<div>\n",
              "<style scoped>\n",
              "    .dataframe tbody tr th:only-of-type {\n",
              "        vertical-align: middle;\n",
              "    }\n",
              "\n",
              "    .dataframe tbody tr th {\n",
              "        vertical-align: top;\n",
              "    }\n",
              "\n",
              "    .dataframe thead th {\n",
              "        text-align: right;\n",
              "    }\n",
              "</style>\n",
              "<table border=\"1\" class=\"dataframe\">\n",
              "  <thead>\n",
              "    <tr style=\"text-align: right;\">\n",
              "      <th></th>\n",
              "      <th>R2</th>\n",
              "      <th>RMSE</th>\n",
              "      <th>mean_absolute_error</th>\n",
              "    </tr>\n",
              "  </thead>\n",
              "  <tbody>\n",
              "    <tr>\n",
              "      <th>train</th>\n",
              "      <td>0.829469</td>\n",
              "      <td>0.555003</td>\n",
              "      <td>0.330678</td>\n",
              "    </tr>\n",
              "    <tr>\n",
              "      <th>test_170</th>\n",
              "      <td>0.972367</td>\n",
              "      <td>0.185968</td>\n",
              "      <td>0.132192</td>\n",
              "    </tr>\n",
              "    <tr>\n",
              "      <th>test_50</th>\n",
              "      <td>0.589672</td>\n",
              "      <td>0.964780</td>\n",
              "      <td>0.752753</td>\n",
              "    </tr>\n",
              "  </tbody>\n",
              "</table>\n",
              "</div>"
            ],
            "text/plain": [
              "                R2      RMSE  mean_absolute_error\n",
              "train     0.829469  0.555003             0.330678\n",
              "test_170  0.972367  0.185968             0.132192\n",
              "test_50   0.589672  0.964780             0.752753"
            ]
          },
          "metadata": {
            "tags": []
          },
          "execution_count": 16
        }
      ]
    },
    {
      "cell_type": "markdown",
      "metadata": {
        "id": "PJZMRgxBLc5V",
        "colab_type": "text"
      },
      "source": [
        "# 還原分數"
      ]
    },
    {
      "cell_type": "code",
      "metadata": {
        "id": "cBtXrcroLdEE",
        "colab_type": "code",
        "colab": {}
      },
      "source": [
        "def inverse_pca_score(df):\n",
        "  y_pred_all = pd.DataFrame(scaler_y.inverse_transform(pca.inverse_transform(df[['y_pred']])),index=df.index,columns=pca_col)\n",
        "  y_test_all = df[pca_col]\n",
        "  table = pd.DataFrame()\n",
        "  for col in pca_col:\n",
        "    table = table.append(metric(y_test_all[col],y_pred_all[col],col))\n",
        "  table.loc['AVG'] = table.mean()\n",
        "  return table"
      ],
      "execution_count": 0,
      "outputs": []
    },
    {
      "cell_type": "code",
      "metadata": {
        "id": "7_cwvEWyL8RL",
        "colab_type": "code",
        "outputId": "76da1a01-8407-4ea2-f9ca-c84ca079caa3",
        "colab": {
          "base_uri": "https://localhost:8080/",
          "height": 137
        }
      },
      "source": [
        "inverse_pca_score(train)"
      ],
      "execution_count": 18,
      "outputs": [
        {
          "output_type": "execute_result",
          "data": {
            "text/html": [
              "<div>\n",
              "<style scoped>\n",
              "    .dataframe tbody tr th:only-of-type {\n",
              "        vertical-align: middle;\n",
              "    }\n",
              "\n",
              "    .dataframe tbody tr th {\n",
              "        vertical-align: top;\n",
              "    }\n",
              "\n",
              "    .dataframe thead th {\n",
              "        text-align: right;\n",
              "    }\n",
              "</style>\n",
              "<table border=\"1\" class=\"dataframe\">\n",
              "  <thead>\n",
              "    <tr style=\"text-align: right;\">\n",
              "      <th></th>\n",
              "      <th>R2</th>\n",
              "      <th>RMSE</th>\n",
              "      <th>mean_absolute_error</th>\n",
              "    </tr>\n",
              "  </thead>\n",
              "  <tbody>\n",
              "    <tr>\n",
              "      <th>C6N</th>\n",
              "      <td>0.693974</td>\n",
              "      <td>1.122245</td>\n",
              "      <td>0.551151</td>\n",
              "    </tr>\n",
              "    <tr>\n",
              "      <th>C9IP</th>\n",
              "      <td>0.804289</td>\n",
              "      <td>0.896607</td>\n",
              "      <td>0.636146</td>\n",
              "    </tr>\n",
              "    <tr>\n",
              "      <th>AVG</th>\n",
              "      <td>0.749131</td>\n",
              "      <td>1.009426</td>\n",
              "      <td>0.593648</td>\n",
              "    </tr>\n",
              "  </tbody>\n",
              "</table>\n",
              "</div>"
            ],
            "text/plain": [
              "            R2      RMSE  mean_absolute_error\n",
              "C6N   0.693974  1.122245             0.551151\n",
              "C9IP  0.804289  0.896607             0.636146\n",
              "AVG   0.749131  1.009426             0.593648"
            ]
          },
          "metadata": {
            "tags": []
          },
          "execution_count": 18
        }
      ]
    },
    {
      "cell_type": "code",
      "metadata": {
        "id": "KHb_j4AyOinc",
        "colab_type": "code",
        "outputId": "3c1cf202-d859-4ced-af46-e3be93a83454",
        "colab": {
          "base_uri": "https://localhost:8080/",
          "height": 137
        }
      },
      "source": [
        "inverse_pca_score(test_170)"
      ],
      "execution_count": 19,
      "outputs": [
        {
          "output_type": "execute_result",
          "data": {
            "text/html": [
              "<div>\n",
              "<style scoped>\n",
              "    .dataframe tbody tr th:only-of-type {\n",
              "        vertical-align: middle;\n",
              "    }\n",
              "\n",
              "    .dataframe tbody tr th {\n",
              "        vertical-align: top;\n",
              "    }\n",
              "\n",
              "    .dataframe thead th {\n",
              "        text-align: right;\n",
              "    }\n",
              "</style>\n",
              "<table border=\"1\" class=\"dataframe\">\n",
              "  <thead>\n",
              "    <tr style=\"text-align: right;\">\n",
              "      <th></th>\n",
              "      <th>R2</th>\n",
              "      <th>RMSE</th>\n",
              "      <th>mean_absolute_error</th>\n",
              "    </tr>\n",
              "  </thead>\n",
              "  <tbody>\n",
              "    <tr>\n",
              "      <th>C6N</th>\n",
              "      <td>0.936835</td>\n",
              "      <td>0.416207</td>\n",
              "      <td>0.278768</td>\n",
              "    </tr>\n",
              "    <tr>\n",
              "      <th>C9IP</th>\n",
              "      <td>0.909557</td>\n",
              "      <td>0.475621</td>\n",
              "      <td>0.420999</td>\n",
              "    </tr>\n",
              "    <tr>\n",
              "      <th>AVG</th>\n",
              "      <td>0.923196</td>\n",
              "      <td>0.445914</td>\n",
              "      <td>0.349884</td>\n",
              "    </tr>\n",
              "  </tbody>\n",
              "</table>\n",
              "</div>"
            ],
            "text/plain": [
              "            R2      RMSE  mean_absolute_error\n",
              "C6N   0.936835  0.416207             0.278768\n",
              "C9IP  0.909557  0.475621             0.420999\n",
              "AVG   0.923196  0.445914             0.349884"
            ]
          },
          "metadata": {
            "tags": []
          },
          "execution_count": 19
        }
      ]
    },
    {
      "cell_type": "code",
      "metadata": {
        "id": "LE_AbHJwOiwv",
        "colab_type": "code",
        "outputId": "138c91e4-b01a-4a9a-b2df-bf29b0c842c4",
        "colab": {
          "base_uri": "https://localhost:8080/",
          "height": 137
        }
      },
      "source": [
        "inverse_pca_score(test_50)"
      ],
      "execution_count": 20,
      "outputs": [
        {
          "output_type": "execute_result",
          "data": {
            "text/html": [
              "<div>\n",
              "<style scoped>\n",
              "    .dataframe tbody tr th:only-of-type {\n",
              "        vertical-align: middle;\n",
              "    }\n",
              "\n",
              "    .dataframe tbody tr th {\n",
              "        vertical-align: top;\n",
              "    }\n",
              "\n",
              "    .dataframe thead th {\n",
              "        text-align: right;\n",
              "    }\n",
              "</style>\n",
              "<table border=\"1\" class=\"dataframe\">\n",
              "  <thead>\n",
              "    <tr style=\"text-align: right;\">\n",
              "      <th></th>\n",
              "      <th>R2</th>\n",
              "      <th>RMSE</th>\n",
              "      <th>mean_absolute_error</th>\n",
              "    </tr>\n",
              "  </thead>\n",
              "  <tbody>\n",
              "    <tr>\n",
              "      <th>C6N</th>\n",
              "      <td>0.387822</td>\n",
              "      <td>2.029504</td>\n",
              "      <td>1.408956</td>\n",
              "    </tr>\n",
              "    <tr>\n",
              "      <th>C9IP</th>\n",
              "      <td>0.621446</td>\n",
              "      <td>1.278259</td>\n",
              "      <td>1.049186</td>\n",
              "    </tr>\n",
              "    <tr>\n",
              "      <th>AVG</th>\n",
              "      <td>0.504634</td>\n",
              "      <td>1.653882</td>\n",
              "      <td>1.229071</td>\n",
              "    </tr>\n",
              "  </tbody>\n",
              "</table>\n",
              "</div>"
            ],
            "text/plain": [
              "            R2      RMSE  mean_absolute_error\n",
              "C6N   0.387822  2.029504             1.408956\n",
              "C9IP  0.621446  1.278259             1.049186\n",
              "AVG   0.504634  1.653882             1.229071"
            ]
          },
          "metadata": {
            "tags": []
          },
          "execution_count": 20
        }
      ]
    },
    {
      "cell_type": "markdown",
      "metadata": {
        "id": "Y1yEjz8fEmLj",
        "colab_type": "text"
      },
      "source": [
        "# line plot"
      ]
    },
    {
      "cell_type": "code",
      "metadata": {
        "id": "lPN3Lzt8Hqvz",
        "colab_type": "code",
        "colab": {}
      },
      "source": [
        "by_col = 'F1'\n",
        "train = train.sort_values(by=by_col)\n",
        "test_170 = test_170.sort_values(by=by_col)\n",
        "test_50 = test_50.sort_values(by=by_col)"
      ],
      "execution_count": 0,
      "outputs": []
    },
    {
      "cell_type": "code",
      "metadata": {
        "id": "2WtwhqfZITPX",
        "colab_type": "code",
        "colab": {}
      },
      "source": [
        "def pred_plot(df,name):\n",
        "  plt.plot(df[by_col],df['y_pred'],label = name+'_pred')\n",
        "  plt.scatter(df[by_col],df['pca_1'],label = name+'_data')"
      ],
      "execution_count": 0,
      "outputs": []
    },
    {
      "cell_type": "code",
      "metadata": {
        "id": "g6NpsyNGEROi",
        "colab_type": "code",
        "outputId": "e617b00c-7de8-4ba0-a213-0931446c6939",
        "colab": {
          "base_uri": "https://localhost:8080/",
          "height": 334
        }
      },
      "source": [
        "import matplotlib.pyplot as plt\n",
        "fig = plt.figure(figsize=(10,5))\n",
        "pred_plot(train,'train')\n",
        "pred_plot(test_170,'test_170')\n",
        "pred_plot(test_50,'test_50')\n",
        "plt.legend();plt.xlabel(by_col);plt.ylabel('pca_1')\n",
        "plt.show()"
      ],
      "execution_count": 23,
      "outputs": [
        {
          "output_type": "display_data",
          "data": {
            "image/png": "[encoded data removed]",
            "text/plain": [
              "<Figure size 720x360 with 1 Axes>"
            ]
          },
          "metadata": {
            "tags": []
          }
        }
      ]
    },
    {
      "cell_type": "markdown",
      "metadata": {
        "id": "ASUEGvMQFffU",
        "colab_type": "text"
      },
      "source": [
        "# tag out"
      ]
    },
    {
      "cell_type": "code",
      "metadata": {
        "id": "zpnPjycII97h",
        "colab_type": "code",
        "colab": {}
      },
      "source": [
        "def tag_out(df,閥值=0.5):\n",
        "  df['out'] = False\n",
        "  loss = (df['pca_1']-df['y_pred'])**2\n",
        "  df.loc[list(loss[loss>閥值].index),'out'] = True\n",
        "  return df"
      ],
      "execution_count": 0,
      "outputs": []
    },
    {
      "cell_type": "code",
      "metadata": {
        "id": "kCgwe6ONJgI6",
        "colab_type": "code",
        "colab": {}
      },
      "source": [
        "train = tag_out(train)\n",
        "test_170 = tag_out(test_170)\n",
        "test_50 = tag_out(test_50)"
      ],
      "execution_count": 0,
      "outputs": []
    },
    {
      "cell_type": "code",
      "metadata": {
        "id": "imMbxsl9NrQF",
        "colab_type": "code",
        "outputId": "346ea3ff-f2fd-479b-9730-673ece66834a",
        "colab": {
          "base_uri": "https://localhost:8080/",
          "height": 150
        }
      },
      "source": [
        "print(train['out'].value_counts())\n",
        "print(test_170['out'].value_counts())\n",
        "print(test_50['out'].value_counts())"
      ],
      "execution_count": 26,
      "outputs": [
        {
          "output_type": "stream",
          "text": [
            "False    4193\n",
            "True      528\n",
            "Name: out, dtype: int64\n",
            "False    170\n",
            "Name: out, dtype: int64\n",
            "False    32\n",
            "True     18\n",
            "Name: out, dtype: int64\n"
          ],
          "name": "stdout"
        }
      ]
    },
    {
      "cell_type": "markdown",
      "metadata": {
        "id": "_jpYu-nOFozd",
        "colab_type": "text"
      },
      "source": [
        "# plot out"
      ]
    },
    {
      "cell_type": "code",
      "metadata": {
        "id": "n2mHHn2-Fq9z",
        "colab_type": "code",
        "outputId": "71891f51-1f30-4cba-88fd-8a91b47ab47e",
        "colab": {
          "base_uri": "https://localhost:8080/",
          "height": 334
        }
      },
      "source": [
        "fig = plt.figure(figsize=(10,5))\n",
        "pred_plot(train,'train')\n",
        "pred_plot(train[train.out==True],'train_out')\n",
        "plt.legend();plt.xlabel(by_col);plt.ylabel('pca_1')\n",
        "plt.show()"
      ],
      "execution_count": 27,
      "outputs": [
        {
          "output_type": "display_data",
          "data": {
            "image/png": "[encoded data removed]",
            "text/plain": [
              "<Figure size 720x360 with 1 Axes>"
            ]
          },
          "metadata": {
            "tags": []
          }
        }
      ]
    },
    {
      "cell_type": "code",
      "metadata": {
        "id": "yaVPjwyPK6De",
        "colab_type": "code",
        "outputId": "f29e72a3-17f0-48a3-a351-4d21e9ecb582",
        "colab": {
          "base_uri": "https://localhost:8080/",
          "height": 334
        }
      },
      "source": [
        "fig = plt.figure(figsize=(10,5))\n",
        "pred_plot(test_170,'test_170')\n",
        "pred_plot(test_170[test_170.out==True],'test_170_out')\n",
        "plt.legend();plt.xlabel(by_col);plt.ylabel('pca_1')\n",
        "plt.show()"
      ],
      "execution_count": 28,
      "outputs": [
        {
          "output_type": "display_data",
          "data": {
            "image/png": "[encoded data removed]",
            "text/plain": [
              "<Figure size 720x360 with 1 Axes>"
            ]
          },
          "metadata": {
            "tags": []
          }
        }
      ]
    },
    {
      "cell_type": "code",
      "metadata": {
        "id": "pRUzzD9XK6MC",
        "colab_type": "code",
        "outputId": "a6383b61-14c6-4f52-d2b3-61404b9bb74e",
        "colab": {
          "base_uri": "https://localhost:8080/",
          "height": 334
        }
      },
      "source": [
        "fig = plt.figure(figsize=(10,5))\n",
        "pred_plot(test_50,'test_50')\n",
        "pred_plot(test_50[test_50.out==True],'test_50_out')\n",
        "plt.legend();plt.xlabel(by_col);plt.ylabel('pca_1')\n",
        "plt.show()"
      ],
      "execution_count": 29,
      "outputs": [
        {
          "output_type": "display_data",
          "data": {
            "image/png": "[encoded data removed]",
            "text/plain": [
              "<Figure size 720x360 with 1 Axes>"
            ]
          },
          "metadata": {
            "tags": []
          }
        }
      ]
    },
    {
      "cell_type": "markdown",
      "metadata": {
        "id": "9waJPT5aO96f",
        "colab_type": "text"
      },
      "source": [
        "# del out"
      ]
    },
    {
      "cell_type": "code",
      "metadata": {
        "id": "uUFTOAxFO-CU",
        "colab_type": "code",
        "colab": {}
      },
      "source": [
        "train = train[train.out==False]\n",
        "test_170 = test_170[test_170.out==False]\n",
        "test_50 = test_50[test_50.out==False]"
      ],
      "execution_count": 0,
      "outputs": []
    },
    {
      "cell_type": "markdown",
      "metadata": {
        "id": "UdHltTljGP_c",
        "colab_type": "text"
      },
      "source": [
        "# del out 分數"
      ]
    },
    {
      "cell_type": "code",
      "metadata": {
        "id": "pz5LK6lwGVWh",
        "colab_type": "code",
        "outputId": "e2d7ebf2-655d-4c60-97be-ad1ba19593d1",
        "colab": {
          "base_uri": "https://localhost:8080/",
          "height": 137
        }
      },
      "source": [
        "metric(train['pca_1'],train['y_pred'],'train').append(\n",
        "    metric(test_170['pca_1'],test_170['y_pred'],'test_170')).append(\n",
        "        metric(test_50['pca_1'],test_50['y_pred'],'test_50')\n",
        "    )"
      ],
      "execution_count": 31,
      "outputs": [
        {
          "output_type": "execute_result",
          "data": {
            "text/html": [
              "<div>\n",
              "<style scoped>\n",
              "    .dataframe tbody tr th:only-of-type {\n",
              "        vertical-align: middle;\n",
              "    }\n",
              "\n",
              "    .dataframe tbody tr th {\n",
              "        vertical-align: top;\n",
              "    }\n",
              "\n",
              "    .dataframe thead th {\n",
              "        text-align: right;\n",
              "    }\n",
              "</style>\n",
              "<table border=\"1\" class=\"dataframe\">\n",
              "  <thead>\n",
              "    <tr style=\"text-align: right;\">\n",
              "      <th></th>\n",
              "      <th>R2</th>\n",
              "      <th>RMSE</th>\n",
              "      <th>mean_absolute_error</th>\n",
              "    </tr>\n",
              "  </thead>\n",
              "  <tbody>\n",
              "    <tr>\n",
              "      <th>train</th>\n",
              "      <td>0.949417</td>\n",
              "      <td>0.291650</td>\n",
              "      <td>0.236172</td>\n",
              "    </tr>\n",
              "    <tr>\n",
              "      <th>test_170</th>\n",
              "      <td>0.972367</td>\n",
              "      <td>0.185968</td>\n",
              "      <td>0.132192</td>\n",
              "    </tr>\n",
              "    <tr>\n",
              "      <th>test_50</th>\n",
              "      <td>0.886602</td>\n",
              "      <td>0.460997</td>\n",
              "      <td>0.413652</td>\n",
              "    </tr>\n",
              "  </tbody>\n",
              "</table>\n",
              "</div>"
            ],
            "text/plain": [
              "                R2      RMSE  mean_absolute_error\n",
              "train     0.949417  0.291650             0.236172\n",
              "test_170  0.972367  0.185968             0.132192\n",
              "test_50   0.886602  0.460997             0.413652"
            ]
          },
          "metadata": {
            "tags": []
          },
          "execution_count": 31
        }
      ]
    },
    {
      "cell_type": "markdown",
      "metadata": {
        "id": "RBH3LCw9OqE8",
        "colab_type": "text"
      },
      "source": [
        "# del out 還原分數"
      ]
    },
    {
      "cell_type": "code",
      "metadata": {
        "id": "cqtWaU9cNUwv",
        "colab_type": "code",
        "outputId": "c895ae85-9a11-45d7-88df-8657e9835f59",
        "colab": {
          "base_uri": "https://localhost:8080/",
          "height": 137
        }
      },
      "source": [
        "inverse_pca_score(train)"
      ],
      "execution_count": 32,
      "outputs": [
        {
          "output_type": "execute_result",
          "data": {
            "text/html": [
              "<div>\n",
              "<style scoped>\n",
              "    .dataframe tbody tr th:only-of-type {\n",
              "        vertical-align: middle;\n",
              "    }\n",
              "\n",
              "    .dataframe tbody tr th {\n",
              "        vertical-align: top;\n",
              "    }\n",
              "\n",
              "    .dataframe thead th {\n",
              "        text-align: right;\n",
              "    }\n",
              "</style>\n",
              "<table border=\"1\" class=\"dataframe\">\n",
              "  <thead>\n",
              "    <tr style=\"text-align: right;\">\n",
              "      <th></th>\n",
              "      <th>R2</th>\n",
              "      <th>RMSE</th>\n",
              "      <th>mean_absolute_error</th>\n",
              "    </tr>\n",
              "  </thead>\n",
              "  <tbody>\n",
              "    <tr>\n",
              "      <th>C6N</th>\n",
              "      <td>0.894658</td>\n",
              "      <td>0.614779</td>\n",
              "      <td>0.379464</td>\n",
              "    </tr>\n",
              "    <tr>\n",
              "      <th>C9IP</th>\n",
              "      <td>0.878990</td>\n",
              "      <td>0.679386</td>\n",
              "      <td>0.541728</td>\n",
              "    </tr>\n",
              "    <tr>\n",
              "      <th>AVG</th>\n",
              "      <td>0.886824</td>\n",
              "      <td>0.647083</td>\n",
              "      <td>0.460596</td>\n",
              "    </tr>\n",
              "  </tbody>\n",
              "</table>\n",
              "</div>"
            ],
            "text/plain": [
              "            R2      RMSE  mean_absolute_error\n",
              "C6N   0.894658  0.614779             0.379464\n",
              "C9IP  0.878990  0.679386             0.541728\n",
              "AVG   0.886824  0.647083             0.460596"
            ]
          },
          "metadata": {
            "tags": []
          },
          "execution_count": 32
        }
      ]
    },
    {
      "cell_type": "code",
      "metadata": {
        "id": "TUCf5_-KOvl_",
        "colab_type": "code",
        "outputId": "4465bdb0-ddeb-4eb3-9fb4-e59f2e6d9482",
        "colab": {
          "base_uri": "https://localhost:8080/",
          "height": 137
        }
      },
      "source": [
        "inverse_pca_score(test_170)"
      ],
      "execution_count": 33,
      "outputs": [
        {
          "output_type": "execute_result",
          "data": {
            "text/html": [
              "<div>\n",
              "<style scoped>\n",
              "    .dataframe tbody tr th:only-of-type {\n",
              "        vertical-align: middle;\n",
              "    }\n",
              "\n",
              "    .dataframe tbody tr th {\n",
              "        vertical-align: top;\n",
              "    }\n",
              "\n",
              "    .dataframe thead th {\n",
              "        text-align: right;\n",
              "    }\n",
              "</style>\n",
              "<table border=\"1\" class=\"dataframe\">\n",
              "  <thead>\n",
              "    <tr style=\"text-align: right;\">\n",
              "      <th></th>\n",
              "      <th>R2</th>\n",
              "      <th>RMSE</th>\n",
              "      <th>mean_absolute_error</th>\n",
              "    </tr>\n",
              "  </thead>\n",
              "  <tbody>\n",
              "    <tr>\n",
              "      <th>C6N</th>\n",
              "      <td>0.936835</td>\n",
              "      <td>0.416207</td>\n",
              "      <td>0.278768</td>\n",
              "    </tr>\n",
              "    <tr>\n",
              "      <th>C9IP</th>\n",
              "      <td>0.909557</td>\n",
              "      <td>0.475621</td>\n",
              "      <td>0.420999</td>\n",
              "    </tr>\n",
              "    <tr>\n",
              "      <th>AVG</th>\n",
              "      <td>0.923196</td>\n",
              "      <td>0.445914</td>\n",
              "      <td>0.349884</td>\n",
              "    </tr>\n",
              "  </tbody>\n",
              "</table>\n",
              "</div>"
            ],
            "text/plain": [
              "            R2      RMSE  mean_absolute_error\n",
              "C6N   0.936835  0.416207             0.278768\n",
              "C9IP  0.909557  0.475621             0.420999\n",
              "AVG   0.923196  0.445914             0.349884"
            ]
          },
          "metadata": {
            "tags": []
          },
          "execution_count": 33
        }
      ]
    },
    {
      "cell_type": "code",
      "metadata": {
        "id": "UXuTB6bAOv6B",
        "colab_type": "code",
        "outputId": "6c84cdde-ec2d-4164-a106-b53f19dbf2a3",
        "colab": {
          "base_uri": "https://localhost:8080/",
          "height": 137
        }
      },
      "source": [
        "inverse_pca_score(test_50)"
      ],
      "execution_count": 34,
      "outputs": [
        {
          "output_type": "execute_result",
          "data": {
            "text/html": [
              "<div>\n",
              "<style scoped>\n",
              "    .dataframe tbody tr th:only-of-type {\n",
              "        vertical-align: middle;\n",
              "    }\n",
              "\n",
              "    .dataframe tbody tr th {\n",
              "        vertical-align: top;\n",
              "    }\n",
              "\n",
              "    .dataframe thead th {\n",
              "        text-align: right;\n",
              "    }\n",
              "</style>\n",
              "<table border=\"1\" class=\"dataframe\">\n",
              "  <thead>\n",
              "    <tr style=\"text-align: right;\">\n",
              "      <th></th>\n",
              "      <th>R2</th>\n",
              "      <th>RMSE</th>\n",
              "      <th>mean_absolute_error</th>\n",
              "    </tr>\n",
              "  </thead>\n",
              "  <tbody>\n",
              "    <tr>\n",
              "      <th>C6N</th>\n",
              "      <td>0.764875</td>\n",
              "      <td>0.928065</td>\n",
              "      <td>0.733569</td>\n",
              "    </tr>\n",
              "    <tr>\n",
              "      <th>C9IP</th>\n",
              "      <td>0.801253</td>\n",
              "      <td>0.988423</td>\n",
              "      <td>0.852480</td>\n",
              "    </tr>\n",
              "    <tr>\n",
              "      <th>AVG</th>\n",
              "      <td>0.783064</td>\n",
              "      <td>0.958244</td>\n",
              "      <td>0.793024</td>\n",
              "    </tr>\n",
              "  </tbody>\n",
              "</table>\n",
              "</div>"
            ],
            "text/plain": [
              "            R2      RMSE  mean_absolute_error\n",
              "C6N   0.764875  0.928065             0.733569\n",
              "C9IP  0.801253  0.988423             0.852480\n",
              "AVG   0.783064  0.958244             0.793024"
            ]
          },
          "metadata": {
            "tags": []
          },
          "execution_count": 34
        }
      ]
    },
    {
      "cell_type": "code",
      "metadata": {
        "id": "xke6E2AeOzi5",
        "colab_type": "code",
        "colab": {}
      },
      "source": [
        ""
      ],
      "execution_count": 0,
      "outputs": []
    }
  ]
}