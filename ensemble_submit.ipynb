{
  "nbformat": 4,
  "nbformat_minor": 0,
  "metadata": {
    "colab": {
      "name": "ensemble_submit.ipynb",
      "provenance": [],
      "collapsed_sections": [],
      "toc_visible": true,
      "include_colab_link": true
    },
    "kernelspec": {
      "name": "python3",
      "display_name": "Python 3"
    }
  },
  "cells": [
    {
      "cell_type": "markdown",
      "metadata": {
        "id": "view-in-github",
        "colab_type": "text"
      },
      "source": [
        "<a href=\"https://colab.research.google.com/github/skywalker0803r/works/blob/master/ensemble_submit.ipynb\" target=\"_parent\"><img src=\"https://colab.research.google.com/assets/colab-badge.svg\" alt=\"Open In Colab\"/></a>"
      ]
    },
    {
      "cell_type": "code",
      "metadata": {
        "id": "xQtZ8zps2LlS",
        "colab_type": "code",
        "outputId": "1cf7505b-d489-4438-f97c-e8cc67719954",
        "colab": {
          "base_uri": "https://localhost:8080/",
          "height": 33
        }
      },
      "source": [
        "from google.colab import drive\n",
        "drive.mount('/content/drive')"
      ],
      "execution_count": 1,
      "outputs": [
        {
          "output_type": "stream",
          "text": [
            "Drive already mounted at /content/drive; to attempt to forcibly remount, call drive.mount(\"/content/drive\", force_remount=True).\n"
          ],
          "name": "stdout"
        }
      ]
    },
    {
      "cell_type": "markdown",
      "metadata": {
        "id": "84J9jUizee21",
        "colab_type": "text"
      },
      "source": [
        "# Load"
      ]
    },
    {
      "cell_type": "code",
      "metadata": {
        "id": "HuTdwkHMsGNM",
        "colab_type": "code",
        "outputId": "5200696a-f511-461a-b739-dffe5c0f2880",
        "colab": {
          "base_uri": "https://localhost:8080/",
          "height": 133
        }
      },
      "source": [
        "import os\n",
        "os.chdir('/content/drive/My Drive/玉山人工智慧比賽數據/catboost_result/1106')\n",
        "os.getcwd()\n",
        "files = os.listdir()\n",
        "files"
      ],
      "execution_count": 2,
      "outputs": [
        {
          "output_type": "execute_result",
          "data": {
            "text/plain": [
              "['catboost_Fold0_random42.csv',\n",
              " 'catboost_Fold1_random42.csv',\n",
              " 'catboost_Fold2_random42.csv',\n",
              " 'catboost_Fold3_random42.csv',\n",
              " 'catboost_Fold4_random42.csv',\n",
              " 'catboost_class_weight(1.5)_iter_250_voting_bigthan_0.45',\n",
              " 'catboost_class_weight(1.5)_iter_250_voting_bigthan_0.45.csv']"
            ]
          },
          "metadata": {
            "tags": []
          },
          "execution_count": 2
        }
      ]
    },
    {
      "cell_type": "code",
      "metadata": {
        "id": "DPQvBnBGMK9c",
        "colab_type": "code",
        "colab": {}
      },
      "source": [
        "import pandas as pd\n",
        "\n",
        "dfs = {}\n",
        "for key ,file_path in enumerate(files):\n",
        "  dfs[key] = pd.read_csv(file_path,index_col=0)"
      ],
      "execution_count": 0,
      "outputs": []
    },
    {
      "cell_type": "markdown",
      "metadata": {
        "id": "WbieOnDLegxj",
        "colab_type": "text"
      },
      "source": [
        "# merge"
      ]
    },
    {
      "cell_type": "code",
      "metadata": {
        "id": "NchLctFSNsN9",
        "colab_type": "code",
        "outputId": "bbb0c404-4eed-43d3-bae7-8a8ce99de7e4",
        "colab": {
          "base_uri": "https://localhost:8080/",
          "height": 197
        }
      },
      "source": [
        "merge_table = pd.DataFrame()\n",
        "merge_table['txkey'] = dfs[0]['txkey']\n",
        "\n",
        "for key in dfs.keys():\n",
        "  merge_table[str(key)] = dfs[key]['fraud_ind']\n",
        "merge_table.head()"
      ],
      "execution_count": 4,
      "outputs": [
        {
          "output_type": "execute_result",
          "data": {
            "text/html": [
              "<div>\n",
              "<style scoped>\n",
              "    .dataframe tbody tr th:only-of-type {\n",
              "        vertical-align: middle;\n",
              "    }\n",
              "\n",
              "    .dataframe tbody tr th {\n",
              "        vertical-align: top;\n",
              "    }\n",
              "\n",
              "    .dataframe thead th {\n",
              "        text-align: right;\n",
              "    }\n",
              "</style>\n",
              "<table border=\"1\" class=\"dataframe\">\n",
              "  <thead>\n",
              "    <tr style=\"text-align: right;\">\n",
              "      <th></th>\n",
              "      <th>txkey</th>\n",
              "      <th>0</th>\n",
              "      <th>1</th>\n",
              "      <th>2</th>\n",
              "      <th>3</th>\n",
              "      <th>4</th>\n",
              "      <th>5</th>\n",
              "      <th>6</th>\n",
              "    </tr>\n",
              "  </thead>\n",
              "  <tbody>\n",
              "    <tr>\n",
              "      <th>1521787</th>\n",
              "      <td>592489</td>\n",
              "      <td>0.008184</td>\n",
              "      <td>0.003935</td>\n",
              "      <td>0.007722</td>\n",
              "      <td>0.004107</td>\n",
              "      <td>0.005816</td>\n",
              "      <td>0</td>\n",
              "      <td>0</td>\n",
              "    </tr>\n",
              "    <tr>\n",
              "      <th>1521788</th>\n",
              "      <td>592452</td>\n",
              "      <td>0.008184</td>\n",
              "      <td>0.006965</td>\n",
              "      <td>0.007798</td>\n",
              "      <td>0.004329</td>\n",
              "      <td>0.008981</td>\n",
              "      <td>0</td>\n",
              "      <td>0</td>\n",
              "    </tr>\n",
              "    <tr>\n",
              "      <th>1521789</th>\n",
              "      <td>590212</td>\n",
              "      <td>0.007369</td>\n",
              "      <td>0.004337</td>\n",
              "      <td>0.005512</td>\n",
              "      <td>0.003004</td>\n",
              "      <td>0.005156</td>\n",
              "      <td>0</td>\n",
              "      <td>0</td>\n",
              "    </tr>\n",
              "    <tr>\n",
              "      <th>1521790</th>\n",
              "      <td>590209</td>\n",
              "      <td>0.006163</td>\n",
              "      <td>0.003673</td>\n",
              "      <td>0.004953</td>\n",
              "      <td>0.002962</td>\n",
              "      <td>0.005684</td>\n",
              "      <td>0</td>\n",
              "      <td>0</td>\n",
              "    </tr>\n",
              "    <tr>\n",
              "      <th>1521791</th>\n",
              "      <td>592488</td>\n",
              "      <td>0.006358</td>\n",
              "      <td>0.003888</td>\n",
              "      <td>0.005512</td>\n",
              "      <td>0.003365</td>\n",
              "      <td>0.005162</td>\n",
              "      <td>0</td>\n",
              "      <td>0</td>\n",
              "    </tr>\n",
              "  </tbody>\n",
              "</table>\n",
              "</div>"
            ],
            "text/plain": [
              "          txkey         0         1         2         3         4  5  6\n",
              "1521787  592489  0.008184  0.003935  0.007722  0.004107  0.005816  0  0\n",
              "1521788  592452  0.008184  0.006965  0.007798  0.004329  0.008981  0  0\n",
              "1521789  590212  0.007369  0.004337  0.005512  0.003004  0.005156  0  0\n",
              "1521790  590209  0.006163  0.003673  0.004953  0.002962  0.005684  0  0\n",
              "1521791  592488  0.006358  0.003888  0.005512  0.003365  0.005162  0  0"
            ]
          },
          "metadata": {
            "tags": []
          },
          "execution_count": 4
        }
      ]
    },
    {
      "cell_type": "markdown",
      "metadata": {
        "id": "PgdDx9OFei0l",
        "colab_type": "text"
      },
      "source": [
        "# count mean"
      ]
    },
    {
      "cell_type": "code",
      "metadata": {
        "id": "s5aYwvO-fBfk",
        "colab_type": "code",
        "outputId": "e50fe7a9-a7fb-4e05-ca9c-9d3114ecf55a",
        "colab": {
          "base_uri": "https://localhost:8080/",
          "height": 197
        }
      },
      "source": [
        "merge_table['fraud_ind'] = merge_table.drop('txkey',axis=1).mean(axis=1)\n",
        "merge_table = merge_table[['txkey','fraud_ind']]\n",
        "merge_table.sample(5)"
      ],
      "execution_count": 5,
      "outputs": [
        {
          "output_type": "execute_result",
          "data": {
            "text/html": [
              "<div>\n",
              "<style scoped>\n",
              "    .dataframe tbody tr th:only-of-type {\n",
              "        vertical-align: middle;\n",
              "    }\n",
              "\n",
              "    .dataframe tbody tr th {\n",
              "        vertical-align: top;\n",
              "    }\n",
              "\n",
              "    .dataframe thead th {\n",
              "        text-align: right;\n",
              "    }\n",
              "</style>\n",
              "<table border=\"1\" class=\"dataframe\">\n",
              "  <thead>\n",
              "    <tr style=\"text-align: right;\">\n",
              "      <th></th>\n",
              "      <th>txkey</th>\n",
              "      <th>fraud_ind</th>\n",
              "    </tr>\n",
              "  </thead>\n",
              "  <tbody>\n",
              "    <tr>\n",
              "      <th>1889517</th>\n",
              "      <td>418469</td>\n",
              "      <td>0.000573</td>\n",
              "    </tr>\n",
              "    <tr>\n",
              "      <th>1883199</th>\n",
              "      <td>1250988</td>\n",
              "      <td>0.000556</td>\n",
              "    </tr>\n",
              "    <tr>\n",
              "      <th>1860934</th>\n",
              "      <td>1609541</td>\n",
              "      <td>0.000300</td>\n",
              "    </tr>\n",
              "    <tr>\n",
              "      <th>1607390</th>\n",
              "      <td>1826854</td>\n",
              "      <td>0.000662</td>\n",
              "    </tr>\n",
              "    <tr>\n",
              "      <th>1728017</th>\n",
              "      <td>797154</td>\n",
              "      <td>0.007205</td>\n",
              "    </tr>\n",
              "  </tbody>\n",
              "</table>\n",
              "</div>"
            ],
            "text/plain": [
              "           txkey  fraud_ind\n",
              "1889517   418469   0.000573\n",
              "1883199  1250988   0.000556\n",
              "1860934  1609541   0.000300\n",
              "1607390  1826854   0.000662\n",
              "1728017   797154   0.007205"
            ]
          },
          "metadata": {
            "tags": []
          },
          "execution_count": 5
        }
      ]
    },
    {
      "cell_type": "markdown",
      "metadata": {
        "id": "_vL382q8eogb",
        "colab_type": "text"
      },
      "source": [
        "# value_counts"
      ]
    },
    {
      "cell_type": "code",
      "metadata": {
        "id": "LSSZ9RG57Cxb",
        "colab_type": "code",
        "outputId": "25376d23-fe12-4700-c4bf-4f4ed5d6543d",
        "colab": {
          "base_uri": "https://localhost:8080/",
          "height": 217
        }
      },
      "source": [
        "merge_table['fraud_ind'].value_counts()"
      ],
      "execution_count": 6,
      "outputs": [
        {
          "output_type": "execute_result",
          "data": {
            "text/plain": [
              "0.000538    129\n",
              "0.000464    103\n",
              "0.000566     95\n",
              "0.000509     79\n",
              "0.000478     73\n",
              "           ... \n",
              "0.000600      1\n",
              "0.000504      1\n",
              "0.037656      1\n",
              "0.000300      1\n",
              "0.081247      1\n",
              "Name: fraud_ind, Length: 415143, dtype: int64"
            ]
          },
          "metadata": {
            "tags": []
          },
          "execution_count": 6
        }
      ]
    },
    {
      "cell_type": "code",
      "metadata": {
        "id": "pfmPoqbV7JwZ",
        "colab_type": "code",
        "colab": {}
      },
      "source": [
        "def f(x):\n",
        "  if x>=0.45:\n",
        "    return 1\n",
        "  else:\n",
        "    return 0\n",
        "merge_table['fraud_ind'] = merge_table['fraud_ind'].apply(f)"
      ],
      "execution_count": 0,
      "outputs": []
    },
    {
      "cell_type": "code",
      "metadata": {
        "id": "Bje9VRZ3MhoI",
        "colab_type": "code",
        "outputId": "b893cc7c-816b-4dfc-b872-cf3ff7cda5ab",
        "colab": {
          "base_uri": "https://localhost:8080/",
          "height": 33
        }
      },
      "source": [
        "盜刷比例 = merge_table['fraud_ind'].value_counts()[1] / len(merge_table['fraud_ind'])\n",
        "盜刷比例 = round(盜刷比例,5)*100\n",
        "str(盜刷比例)+'%'"
      ],
      "execution_count": 8,
      "outputs": [
        {
          "output_type": "execute_result",
          "data": {
            "text/plain": [
              "'1.392%'"
            ]
          },
          "metadata": {
            "tags": []
          },
          "execution_count": 8
        }
      ]
    },
    {
      "cell_type": "code",
      "metadata": {
        "id": "OIRiT5JwlGTy",
        "colab_type": "code",
        "outputId": "a6a8e345-bba3-44e4-ed60-e33b8b36015c",
        "colab": {
          "base_uri": "https://localhost:8080/",
          "height": 67
        }
      },
      "source": [
        "print(merge_table[\"fraud_ind\"].value_counts())"
      ],
      "execution_count": 9,
      "outputs": [
        {
          "output_type": "stream",
          "text": [
            "0    415795\n",
            "1      5870\n",
            "Name: fraud_ind, dtype: int64\n"
          ],
          "name": "stdout"
        }
      ]
    },
    {
      "cell_type": "markdown",
      "metadata": {
        "id": "371pfV2OPkLx",
        "colab_type": "text"
      },
      "source": [
        "# 保存預測結果"
      ]
    },
    {
      "cell_type": "code",
      "metadata": {
        "id": "L1GTakycPPdt",
        "colab_type": "code",
        "colab": {}
      },
      "source": [
        "merge_table.to_csv('./catboost_class_weight(1.5)_iter_250_voting_bigthan_0.45.csv')"
      ],
      "execution_count": 0,
      "outputs": []
    },
    {
      "cell_type": "code",
      "metadata": {
        "id": "sG5Nl_D_Pmgn",
        "colab_type": "code",
        "colab": {}
      },
      "source": [
        ""
      ],
      "execution_count": 0,
      "outputs": []
    },
    {
      "cell_type": "code",
      "metadata": {
        "id": "7vmfIjVMPrsn",
        "colab_type": "code",
        "colab": {}
      },
      "source": [
        ""
      ],
      "execution_count": 0,
      "outputs": []
    }
  ]
}