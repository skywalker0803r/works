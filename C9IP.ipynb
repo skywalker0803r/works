{
  "nbformat": 4,
  "nbformat_minor": 0,
  "metadata": {
    "colab": {
      "name": "C9IP.ipynb",
      "provenance": [],
      "collapsed_sections": [],
      "include_colab_link": true
    },
    "kernelspec": {
      "name": "python3",
      "display_name": "Python 3"
    }
  },
  "cells": [
    {
      "cell_type": "markdown",
      "metadata": {
        "id": "view-in-github",
        "colab_type": "text"
      },
      "source": [
        "<a href=\"https://colab.research.google.com/github/skywalker0803r/works/blob/master/C9IP.ipynb\" target=\"_parent\"><img src=\"https://colab.research.google.com/assets/colab-badge.svg\" alt=\"Open In Colab\"/></a>"
      ]
    },
    {
      "cell_type": "code",
      "metadata": {
        "id": "Gu_4_rOOcWbx",
        "colab_type": "code",
        "outputId": "8df1685a-15e0-4f25-c423-385367d2bf1e",
        "colab": {
          "base_uri": "https://localhost:8080/",
          "height": 35
        }
      },
      "source": [
        "from google.colab import drive\n",
        "drive.mount('/content/drive')\n",
        "import warnings \n",
        "warnings.simplefilter('ignore')"
      ],
      "execution_count": 1,
      "outputs": [
        {
          "output_type": "stream",
          "text": [
            "Drive already mounted at /content/drive; to attempt to forcibly remount, call drive.mount(\"/content/drive\", force_remount=True).\n"
          ],
          "name": "stdout"
        }
      ]
    },
    {
      "cell_type": "markdown",
      "metadata": {
        "id": "7Ccyt3A8erKg",
        "colab_type": "text"
      },
      "source": [
        "# LOAD"
      ]
    },
    {
      "cell_type": "code",
      "metadata": {
        "id": "h26kZtPtcXNA",
        "colab_type": "code",
        "colab": {}
      },
      "source": [
        "import pandas as pd\n",
        "import seaborn as sns\n",
        "import matplotlib.pyplot as plt\n",
        "\n",
        "train = pd.read_csv('/content/drive/My Drive/台塑輕油案子/data/train_4521.csv',index_col=0).reset_index(drop=True)\n",
        "test_250 = pd.read_csv('/content/drive/My Drive/台塑輕油案子/data/test_250.csv',index_col=0).reset_index(drop=True)\n",
        "test_170 = pd.read_csv('/content/drive/My Drive/台塑輕油案子/data/test_170.csv',index_col=0).reset_index(drop=True)"
      ],
      "execution_count": 0,
      "outputs": []
    },
    {
      "cell_type": "markdown",
      "metadata": {
        "id": "m9YcMTAdepcM",
        "colab_type": "text"
      },
      "source": [
        "# 整理資料"
      ]
    },
    {
      "cell_type": "code",
      "metadata": {
        "id": "psvyukgQczo9",
        "colab_type": "code",
        "outputId": "1edfc3a7-4d83-494a-de66-a17d25d95d66",
        "colab": {
          "base_uri": "https://localhost:8080/",
          "height": 70
        }
      },
      "source": [
        "test_200 = test_250.loc[ test_250.index % 5 != 0 ,:]#5不可整除\n",
        "test_50 = test_250.loc[ test_250.index % 5 == 0 ,:]#5可以整除\n",
        "train = train.append(test_200)#200筆加入train\n",
        "print(train.shape)\n",
        "print(test_170.shape)\n",
        "print(test_50.shape)"
      ],
      "execution_count": 3,
      "outputs": [
        {
          "output_type": "stream",
          "text": [
            "(4721, 27)\n",
            "(170, 27)\n",
            "(50, 27)\n"
          ],
          "name": "stdout"
        }
      ]
    },
    {
      "cell_type": "markdown",
      "metadata": {
        "id": "1siqb5STetJ8",
        "colab_type": "text"
      },
      "source": [
        "# def features y_name"
      ]
    },
    {
      "cell_type": "code",
      "metadata": {
        "id": "gcb1TzlPdLqt",
        "colab_type": "code",
        "colab": {}
      },
      "source": [
        "features = ['T10','T50','T90','N+A']\n",
        "y_name = 'C9IP'"
      ],
      "execution_count": 0,
      "outputs": []
    },
    {
      "cell_type": "markdown",
      "metadata": {
        "id": "NV57oi9nePTE",
        "colab_type": "text"
      },
      "source": [
        "# features scaler"
      ]
    },
    {
      "cell_type": "code",
      "metadata": {
        "id": "1htHboYzePcD",
        "colab_type": "code",
        "colab": {}
      },
      "source": [
        "from sklearn.preprocessing import StandardScaler\n",
        "\n",
        "scaler = StandardScaler().fit(train[features])\n",
        "\n",
        "train[features] = scaler.transform(train[features])\n",
        "test_170[features] = scaler.transform(test_170[features])\n",
        "test_50[features] = scaler.transform(test_50[features])"
      ],
      "execution_count": 0,
      "outputs": []
    },
    {
      "cell_type": "markdown",
      "metadata": {
        "id": "DM89dDVNdyxj",
        "colab_type": "text"
      },
      "source": [
        "# CORR WITH X"
      ]
    },
    {
      "cell_type": "markdown",
      "metadata": {
        "id": "9dUcvQgyqUhF",
        "colab_type": "text"
      },
      "source": [
        "找找高相關特徵"
      ]
    },
    {
      "cell_type": "code",
      "metadata": {
        "id": "76L-I9CZdtwB",
        "colab_type": "code",
        "outputId": "7a7fad65-6aee-4fed-bc0e-c7b93971a61e",
        "colab": {
          "base_uri": "https://localhost:8080/",
          "height": 76
        }
      },
      "source": [
        "corr_x = abs(train.iloc[:,:4].join(train[y_name]).corr()).loc[[y_name]].T.sort_values(by=y_name,ascending=False).T\n",
        "corr_x"
      ],
      "execution_count": 6,
      "outputs": [
        {
          "output_type": "execute_result",
          "data": {
            "text/html": [
              "<div>\n",
              "<style scoped>\n",
              "    .dataframe tbody tr th:only-of-type {\n",
              "        vertical-align: middle;\n",
              "    }\n",
              "\n",
              "    .dataframe tbody tr th {\n",
              "        vertical-align: top;\n",
              "    }\n",
              "\n",
              "    .dataframe thead th {\n",
              "        text-align: right;\n",
              "    }\n",
              "</style>\n",
              "<table border=\"1\" class=\"dataframe\">\n",
              "  <thead>\n",
              "    <tr style=\"text-align: right;\">\n",
              "      <th></th>\n",
              "      <th>C9IP</th>\n",
              "      <th>T50</th>\n",
              "      <th>T10</th>\n",
              "      <th>N+A</th>\n",
              "      <th>T90</th>\n",
              "    </tr>\n",
              "  </thead>\n",
              "  <tbody>\n",
              "    <tr>\n",
              "      <th>C9IP</th>\n",
              "      <td>1.0</td>\n",
              "      <td>0.65164</td>\n",
              "      <td>0.634649</td>\n",
              "      <td>0.533834</td>\n",
              "      <td>0.25437</td>\n",
              "    </tr>\n",
              "  </tbody>\n",
              "</table>\n",
              "</div>"
            ],
            "text/plain": [
              "      C9IP      T50       T10       N+A      T90\n",
              "C9IP   1.0  0.65164  0.634649  0.533834  0.25437"
            ]
          },
          "metadata": {
            "tags": []
          },
          "execution_count": 6
        }
      ]
    },
    {
      "cell_type": "markdown",
      "metadata": {
        "id": "lwoksfZ6d2sy",
        "colab_type": "text"
      },
      "source": [
        "# CORR WITH Y"
      ]
    },
    {
      "cell_type": "markdown",
      "metadata": {
        "id": "P0mvM1SvqXcu",
        "colab_type": "text"
      },
      "source": [
        "找找高相關y"
      ]
    },
    {
      "cell_type": "code",
      "metadata": {
        "id": "wtaThFKPdxzh",
        "colab_type": "code",
        "outputId": "e11db3c2-efa5-4892-c75e-bc2800a894a9",
        "colab": {
          "base_uri": "https://localhost:8080/",
          "height": 96
        }
      },
      "source": [
        "corr_y = abs(train.iloc[:,4:].corr())[[y_name]].sort_values(by=y_name,ascending=False).T\n",
        "corr_y"
      ],
      "execution_count": 7,
      "outputs": [
        {
          "output_type": "execute_result",
          "data": {
            "text/html": [
              "<div>\n",
              "<style scoped>\n",
              "    .dataframe tbody tr th:only-of-type {\n",
              "        vertical-align: middle;\n",
              "    }\n",
              "\n",
              "    .dataframe tbody tr th {\n",
              "        vertical-align: top;\n",
              "    }\n",
              "\n",
              "    .dataframe thead th {\n",
              "        text-align: right;\n",
              "    }\n",
              "</style>\n",
              "<table border=\"1\" class=\"dataframe\">\n",
              "  <thead>\n",
              "    <tr style=\"text-align: right;\">\n",
              "      <th></th>\n",
              "      <th>C9IP</th>\n",
              "      <th>C8NP</th>\n",
              "      <th>C9NP</th>\n",
              "      <th>C8IP</th>\n",
              "      <th>C6N</th>\n",
              "      <th>C7NP</th>\n",
              "      <th>C6IP</th>\n",
              "      <th>C5NP</th>\n",
              "      <th>C5IP</th>\n",
              "      <th>C10IP</th>\n",
              "      <th>C9A</th>\n",
              "      <th>C5N</th>\n",
              "      <th>C7N</th>\n",
              "      <th>C7IP</th>\n",
              "      <th>C8N</th>\n",
              "      <th>C6A</th>\n",
              "      <th>C6NP</th>\n",
              "      <th>C7A</th>\n",
              "      <th>C8A</th>\n",
              "      <th>C9N</th>\n",
              "      <th>C10A</th>\n",
              "      <th>C10N</th>\n",
              "      <th>C10NP</th>\n",
              "    </tr>\n",
              "  </thead>\n",
              "  <tbody>\n",
              "    <tr>\n",
              "      <th>C9IP</th>\n",
              "      <td>1.0</td>\n",
              "      <td>0.888828</td>\n",
              "      <td>0.881956</td>\n",
              "      <td>0.823955</td>\n",
              "      <td>0.806291</td>\n",
              "      <td>0.797645</td>\n",
              "      <td>0.765319</td>\n",
              "      <td>0.740485</td>\n",
              "      <td>0.730607</td>\n",
              "      <td>0.66422</td>\n",
              "      <td>0.631929</td>\n",
              "      <td>0.592493</td>\n",
              "      <td>0.592481</td>\n",
              "      <td>0.422237</td>\n",
              "      <td>0.392798</td>\n",
              "      <td>0.369814</td>\n",
              "      <td>0.363449</td>\n",
              "      <td>0.316158</td>\n",
              "      <td>0.276271</td>\n",
              "      <td>0.217092</td>\n",
              "      <td>0.184332</td>\n",
              "      <td>0.058966</td>\n",
              "      <td>0.032782</td>\n",
              "    </tr>\n",
              "  </tbody>\n",
              "</table>\n",
              "</div>"
            ],
            "text/plain": [
              "      C9IP      C8NP      C9NP  ...      C10A      C10N     C10NP\n",
              "C9IP   1.0  0.888828  0.881956  ...  0.184332  0.058966  0.032782\n",
              "\n",
              "[1 rows x 23 columns]"
            ]
          },
          "metadata": {
            "tags": []
          },
          "execution_count": 7
        }
      ]
    },
    {
      "cell_type": "markdown",
      "metadata": {
        "id": "JD4OJOIPeGJL",
        "colab_type": "text"
      },
      "source": [
        "# 特徵萃取"
      ]
    },
    {
      "cell_type": "code",
      "metadata": {
        "id": "OiOUgsf9d4kt",
        "colab_type": "code",
        "colab": {}
      },
      "source": [
        "from sklearn.manifold import isomap\n",
        "iso_col = ['T50','N+A']\n",
        "iso = isomap.Isomap(n_components=1).fit(train[iso_col])\n",
        "#轉換\n",
        "train['iso_x'] = iso.transform(train[iso_col])\n",
        "test_170['iso_x'] = iso.transform(test_170[iso_col])\n",
        "test_50['iso_x'] = iso.transform(test_50[iso_col])"
      ],
      "execution_count": 0,
      "outputs": []
    },
    {
      "cell_type": "markdown",
      "metadata": {
        "id": "ZkM34rwcjcmq",
        "colab_type": "text"
      },
      "source": [
        "# 檢查相關性"
      ]
    },
    {
      "cell_type": "code",
      "metadata": {
        "id": "CwaEhECLCR9J",
        "colab_type": "code",
        "colab": {
          "base_uri": "https://localhost:8080/",
          "height": 369
        },
        "outputId": "09468d8e-ad8c-4ec5-dc75-7d54d2cdd53e"
      },
      "source": [
        "sns.scatterplot(x='T50',y=y_name,data=train)\n",
        "plt.show()\n",
        "train.corr().loc[['T50',y_name],['T50',y_name]]"
      ],
      "execution_count": 9,
      "outputs": [
        {
          "output_type": "display_data",
          "data": {
            "image/png": "[encoded data removed]",
            "text/plain": [
              "<Figure size 432x288 with 1 Axes>"
            ]
          },
          "metadata": {
            "tags": []
          }
        },
        {
          "output_type": "execute_result",
          "data": {
            "text/html": [
              "<div>\n",
              "<style scoped>\n",
              "    .dataframe tbody tr th:only-of-type {\n",
              "        vertical-align: middle;\n",
              "    }\n",
              "\n",
              "    .dataframe tbody tr th {\n",
              "        vertical-align: top;\n",
              "    }\n",
              "\n",
              "    .dataframe thead th {\n",
              "        text-align: right;\n",
              "    }\n",
              "</style>\n",
              "<table border=\"1\" class=\"dataframe\">\n",
              "  <thead>\n",
              "    <tr style=\"text-align: right;\">\n",
              "      <th></th>\n",
              "      <th>T50</th>\n",
              "      <th>C9IP</th>\n",
              "    </tr>\n",
              "  </thead>\n",
              "  <tbody>\n",
              "    <tr>\n",
              "      <th>T50</th>\n",
              "      <td>1.000000</td>\n",
              "      <td>0.813202</td>\n",
              "    </tr>\n",
              "    <tr>\n",
              "      <th>C9IP</th>\n",
              "      <td>0.813202</td>\n",
              "      <td>1.000000</td>\n",
              "    </tr>\n",
              "  </tbody>\n",
              "</table>\n",
              "</div>"
            ],
            "text/plain": [
              "           T50      C9IP\n",
              "T50   1.000000  0.813202\n",
              "C9IP  0.813202  1.000000"
            ]
          },
          "metadata": {
            "tags": []
          },
          "execution_count": 9
        }
      ]
    },
    {
      "cell_type": "code",
      "metadata": {
        "id": "ckiGewEQCSFm",
        "colab_type": "code",
        "colab": {
          "base_uri": "https://localhost:8080/",
          "height": 369
        },
        "outputId": "94fdcc5d-370b-4434-d381-cfab4d2b2a7f"
      },
      "source": [
        "sns.scatterplot(x='N+A',y=y_name,data=train)\n",
        "plt.show()\n",
        "train.corr().loc[['N+A',y_name],['N+A',y_name]]"
      ],
      "execution_count": 10,
      "outputs": [
        {
          "output_type": "display_data",
          "data": {
            "image/png": "[encoded data removed]",
            "text/plain": [
              "<Figure size 432x288 with 1 Axes>"
            ]
          },
          "metadata": {
            "tags": []
          }
        },
        {
          "output_type": "execute_result",
          "data": {
            "text/html": [
              "<div>\n",
              "<style scoped>\n",
              "    .dataframe tbody tr th:only-of-type {\n",
              "        vertical-align: middle;\n",
              "    }\n",
              "\n",
              "    .dataframe tbody tr th {\n",
              "        vertical-align: top;\n",
              "    }\n",
              "\n",
              "    .dataframe thead th {\n",
              "        text-align: right;\n",
              "    }\n",
              "</style>\n",
              "<table border=\"1\" class=\"dataframe\">\n",
              "  <thead>\n",
              "    <tr style=\"text-align: right;\">\n",
              "      <th></th>\n",
              "      <th>N+A</th>\n",
              "      <th>C9IP</th>\n",
              "    </tr>\n",
              "  </thead>\n",
              "  <tbody>\n",
              "    <tr>\n",
              "      <th>N+A</th>\n",
              "      <td>1.0000</td>\n",
              "      <td>-0.6552</td>\n",
              "    </tr>\n",
              "    <tr>\n",
              "      <th>C9IP</th>\n",
              "      <td>-0.6552</td>\n",
              "      <td>1.0000</td>\n",
              "    </tr>\n",
              "  </tbody>\n",
              "</table>\n",
              "</div>"
            ],
            "text/plain": [
              "         N+A    C9IP\n",
              "N+A   1.0000 -0.6552\n",
              "C9IP -0.6552  1.0000"
            ]
          },
          "metadata": {
            "tags": []
          },
          "execution_count": 10
        }
      ]
    },
    {
      "cell_type": "markdown",
      "metadata": {
        "id": "LRyjmSlgqemi",
        "colab_type": "text"
      },
      "source": [
        "這裡希望看到是漂亮的線性相關"
      ]
    },
    {
      "cell_type": "code",
      "metadata": {
        "id": "klofDmm-gY-g",
        "colab_type": "code",
        "outputId": "5d234710-428d-4f0a-f785-dadaab968f96",
        "colab": {
          "base_uri": "https://localhost:8080/",
          "height": 370
        }
      },
      "source": [
        "sns.scatterplot(x='iso_x',y=y_name,data=train)\n",
        "plt.show()\n",
        "train.corr().loc[['iso_x',y_name],['iso_x',y_name]]"
      ],
      "execution_count": 11,
      "outputs": [
        {
          "output_type": "display_data",
          "data": {
            "image/png": "[encoded data removed]",
            "text/plain": [
              "<Figure size 432x288 with 1 Axes>"
            ]
          },
          "metadata": {
            "tags": []
          }
        },
        {
          "output_type": "execute_result",
          "data": {
            "text/html": [
              "<div>\n",
              "<style scoped>\n",
              "    .dataframe tbody tr th:only-of-type {\n",
              "        vertical-align: middle;\n",
              "    }\n",
              "\n",
              "    .dataframe tbody tr th {\n",
              "        vertical-align: top;\n",
              "    }\n",
              "\n",
              "    .dataframe thead th {\n",
              "        text-align: right;\n",
              "    }\n",
              "</style>\n",
              "<table border=\"1\" class=\"dataframe\">\n",
              "  <thead>\n",
              "    <tr style=\"text-align: right;\">\n",
              "      <th></th>\n",
              "      <th>iso_x</th>\n",
              "      <th>C9IP</th>\n",
              "    </tr>\n",
              "  </thead>\n",
              "  <tbody>\n",
              "    <tr>\n",
              "      <th>iso_x</th>\n",
              "      <td>1.000000</td>\n",
              "      <td>-0.897387</td>\n",
              "    </tr>\n",
              "    <tr>\n",
              "      <th>C9IP</th>\n",
              "      <td>-0.897387</td>\n",
              "      <td>1.000000</td>\n",
              "    </tr>\n",
              "  </tbody>\n",
              "</table>\n",
              "</div>"
            ],
            "text/plain": [
              "          iso_x      C9IP\n",
              "iso_x  1.000000 -0.897387\n",
              "C9IP  -0.897387  1.000000"
            ]
          },
          "metadata": {
            "tags": []
          },
          "execution_count": 11
        }
      ]
    },
    {
      "cell_type": "code",
      "metadata": {
        "id": "CU62W8b2CzoY",
        "colab_type": "code",
        "colab": {
          "base_uri": "https://localhost:8080/",
          "height": 76
        },
        "outputId": "d6f80733-3214-4d4d-e775-972e521507c2"
      },
      "source": [
        "train[features+[y_name]+['iso_x']].corr().loc[[y_name]]"
      ],
      "execution_count": 12,
      "outputs": [
        {
          "output_type": "execute_result",
          "data": {
            "text/html": [
              "<div>\n",
              "<style scoped>\n",
              "    .dataframe tbody tr th:only-of-type {\n",
              "        vertical-align: middle;\n",
              "    }\n",
              "\n",
              "    .dataframe tbody tr th {\n",
              "        vertical-align: top;\n",
              "    }\n",
              "\n",
              "    .dataframe thead th {\n",
              "        text-align: right;\n",
              "    }\n",
              "</style>\n",
              "<table border=\"1\" class=\"dataframe\">\n",
              "  <thead>\n",
              "    <tr style=\"text-align: right;\">\n",
              "      <th></th>\n",
              "      <th>T10</th>\n",
              "      <th>T50</th>\n",
              "      <th>T90</th>\n",
              "      <th>N+A</th>\n",
              "      <th>C9IP</th>\n",
              "      <th>iso_x</th>\n",
              "    </tr>\n",
              "  </thead>\n",
              "  <tbody>\n",
              "    <tr>\n",
              "      <th>C9IP</th>\n",
              "      <td>0.787824</td>\n",
              "      <td>0.813202</td>\n",
              "      <td>0.29771</td>\n",
              "      <td>-0.6552</td>\n",
              "      <td>1.0</td>\n",
              "      <td>-0.897387</td>\n",
              "    </tr>\n",
              "  </tbody>\n",
              "</table>\n",
              "</div>"
            ],
            "text/plain": [
              "           T10       T50      T90     N+A  C9IP     iso_x\n",
              "C9IP  0.787824  0.813202  0.29771 -0.6552   1.0 -0.897387"
            ]
          },
          "metadata": {
            "tags": []
          },
          "execution_count": 12
        }
      ]
    },
    {
      "cell_type": "markdown",
      "metadata": {
        "id": "ISwKDxU9kLtA",
        "colab_type": "text"
      },
      "source": [
        "# modeling"
      ]
    },
    {
      "cell_type": "markdown",
      "metadata": {
        "id": "mPIja4ebqvMv",
        "colab_type": "text"
      },
      "source": [
        "評分指標"
      ]
    },
    {
      "cell_type": "code",
      "metadata": {
        "id": "nsTlh6H3lW9l",
        "colab_type": "code",
        "colab": {}
      },
      "source": [
        "from sklearn.metrics import r2_score,mean_squared_error,mean_absolute_error\n",
        "from math import sqrt\n",
        "def metric(y_t,y_p,name):\n",
        "  res = {'R2':r2_score(y_t,y_p),\n",
        "         'RMSE':sqrt(mean_squared_error(y_t,y_p)),\n",
        "         'mean_absolute_error':mean_absolute_error(y_t,y_p)}\n",
        "  return pd.DataFrame(res,index=[name])"
      ],
      "execution_count": 0,
      "outputs": []
    },
    {
      "cell_type": "code",
      "metadata": {
        "id": "fQMyc1UIjuVg",
        "colab_type": "code",
        "outputId": "259e25fa-a08a-4d35-f1a1-0084b3abce70",
        "colab": {
          "base_uri": "https://localhost:8080/",
          "height": 52
        }
      },
      "source": [
        "import xgboost\n",
        "from sklearn.svm import SVR\n",
        "from math import sqrt\n",
        "from lightgbm import LGBMRegressor\n",
        "from sklearn.ensemble import VotingRegressor\n",
        "from sklearn.model_selection import cross_validate\n",
        "from sklearn.linear_model import LinearRegression\n",
        "from sklearn.tree import DecisionTreeRegressor\n",
        "import warnings \n",
        "warnings.simplefilter('ignore')\n",
        "\n",
        "#選擇模型\n",
        "#model = DecisionTreeRegressor(max_depth=1)\n",
        "#model = xgboost.XGBRegressor(objective='reg:squarederror')\n",
        "#model = SVR()\n",
        "model = LinearRegression()\n",
        "\n",
        "#交叉驗證\n",
        "val_scores = cross_validate(model,train[['iso_x']],train[y_name],cv=5)\n",
        "\n",
        "#交叉驗證結果\n",
        "print('交叉驗證分數:',val_scores['test_score'])\n",
        "print('交叉驗證平均分數:',val_scores['test_score'].mean())"
      ],
      "execution_count": 14,
      "outputs": [
        {
          "output_type": "stream",
          "text": [
            "交叉驗證分數: [0.86920039 0.65801824 0.81753512 0.68414047 0.81093233]\n",
            "交叉驗證平均分數: 0.7679653084281124\n"
          ],
          "name": "stdout"
        }
      ]
    },
    {
      "cell_type": "markdown",
      "metadata": {
        "id": "UPBI1r7uk7j3",
        "colab_type": "text"
      },
      "source": [
        "# fit & predict"
      ]
    },
    {
      "cell_type": "code",
      "metadata": {
        "id": "T5LAaXc4kSAr",
        "colab_type": "code",
        "colab": {}
      },
      "source": [
        "# fit \n",
        "model.fit(train[['iso_x']],train[y_name])\n",
        "# predict\n",
        "train['y_pred'] = model.predict(train[['iso_x']])\n",
        "test_170['y_pred'] = model.predict(test_170[['iso_x']])\n",
        "test_50['y_pred'] = model.predict(test_50[['iso_x']])"
      ],
      "execution_count": 0,
      "outputs": []
    },
    {
      "cell_type": "markdown",
      "metadata": {
        "id": "_4GSs_xZoQOF",
        "colab_type": "text"
      },
      "source": [
        "# plot"
      ]
    },
    {
      "cell_type": "markdown",
      "metadata": {
        "id": "9rs_qDerpq3e",
        "colab_type": "text"
      },
      "source": [
        "data for plot"
      ]
    },
    {
      "cell_type": "code",
      "metadata": {
        "id": "iCIJO39Rob_L",
        "colab_type": "code",
        "colab": {}
      },
      "source": [
        "by_col = 'iso_x'\n",
        "train_sample_point = train.sample(1000).sort_values(by = by_col)\n",
        "test_170_point = test_170.sort_values(by = by_col)\n",
        "test_50_point = test_50.sort_values(by = by_col)"
      ],
      "execution_count": 0,
      "outputs": []
    },
    {
      "cell_type": "markdown",
      "metadata": {
        "id": "jG-FvtFfpsTA",
        "colab_type": "text"
      },
      "source": [
        "plot function"
      ]
    },
    {
      "cell_type": "code",
      "metadata": {
        "id": "z8gcWE__o409",
        "colab_type": "code",
        "colab": {}
      },
      "source": [
        "def pred_plot(df,by_col,name):\n",
        "  plt.plot(df[by_col],df['y_pred'],label = name+'_pred',color='red')\n",
        "  plt.scatter(df[by_col],df[y_name],label= name+'_data')"
      ],
      "execution_count": 0,
      "outputs": []
    },
    {
      "cell_type": "code",
      "metadata": {
        "id": "6YKTx82XpdM_",
        "colab_type": "code",
        "outputId": "826db049-9ec1-4ce8-aa35-ac72ed76d25d",
        "colab": {
          "base_uri": "https://localhost:8080/",
          "height": 440
        }
      },
      "source": [
        "fig = plt.figure(figsize=(10,5))\n",
        "pred_plot(train_sample_point,by_col,'train')\n",
        "pred_plot(test_170_point,by_col,'test_170')\n",
        "pred_plot(test_50_point,by_col,'test_50')\n",
        "plt.legend()\n",
        "plt.show()\n",
        "metric(train[y_name],train['y_pred'],'train').append(\n",
        "    metric(test_170[y_name],test_170['y_pred'],'test_170')).append(\n",
        "        metric(test_50[y_name],test_50['y_pred'],'test_50'))"
      ],
      "execution_count": 18,
      "outputs": [
        {
          "output_type": "display_data",
          "data": {
            "image/png": "[encoded data removed]",
            "text/plain": [
              "<Figure size 720x360 with 1 Axes>"
            ]
          },
          "metadata": {
            "tags": []
          }
        },
        {
          "output_type": "execute_result",
          "data": {
            "text/html": [
              "<div>\n",
              "<style scoped>\n",
              "    .dataframe tbody tr th:only-of-type {\n",
              "        vertical-align: middle;\n",
              "    }\n",
              "\n",
              "    .dataframe tbody tr th {\n",
              "        vertical-align: top;\n",
              "    }\n",
              "\n",
              "    .dataframe thead th {\n",
              "        text-align: right;\n",
              "    }\n",
              "</style>\n",
              "<table border=\"1\" class=\"dataframe\">\n",
              "  <thead>\n",
              "    <tr style=\"text-align: right;\">\n",
              "      <th></th>\n",
              "      <th>R2</th>\n",
              "      <th>RMSE</th>\n",
              "      <th>mean_absolute_error</th>\n",
              "    </tr>\n",
              "  </thead>\n",
              "  <tbody>\n",
              "    <tr>\n",
              "      <th>train</th>\n",
              "      <td>0.805304</td>\n",
              "      <td>0.894278</td>\n",
              "      <td>0.628800</td>\n",
              "    </tr>\n",
              "    <tr>\n",
              "      <th>test_170</th>\n",
              "      <td>0.910806</td>\n",
              "      <td>0.472326</td>\n",
              "      <td>0.407435</td>\n",
              "    </tr>\n",
              "    <tr>\n",
              "      <th>test_50</th>\n",
              "      <td>0.647693</td>\n",
              "      <td>1.233150</td>\n",
              "      <td>0.995775</td>\n",
              "    </tr>\n",
              "  </tbody>\n",
              "</table>\n",
              "</div>"
            ],
            "text/plain": [
              "                R2      RMSE  mean_absolute_error\n",
              "train     0.805304  0.894278             0.628800\n",
              "test_170  0.910806  0.472326             0.407435\n",
              "test_50   0.647693  1.233150             0.995775"
            ]
          },
          "metadata": {
            "tags": []
          },
          "execution_count": 18
        }
      ]
    },
    {
      "cell_type": "markdown",
      "metadata": {
        "id": "pfQ1yPb5rFgU",
        "colab_type": "text"
      },
      "source": [
        "# check outliers"
      ]
    },
    {
      "cell_type": "code",
      "metadata": {
        "id": "J2VOBltdngwI",
        "colab_type": "code",
        "outputId": "c19106ab-fcb7-4713-9d23-bb3d35505c95",
        "colab": {
          "base_uri": "https://localhost:8080/",
          "height": 124
        }
      },
      "source": [
        "loss = ((test_170_point[y_name] - test_170_point['y_pred'])**2).sort_values(ascending=False)\n",
        "test_170_point['out'] = False\n",
        "test_170_point.loc[loss.head(5).index,'out'] = True\n",
        "print(loss.head(5))"
      ],
      "execution_count": 19,
      "outputs": [
        {
          "output_type": "stream",
          "text": [
            "153    1.231564\n",
            "55     1.208897\n",
            "52     1.064188\n",
            "58     0.920769\n",
            "57     0.862528\n",
            "dtype: float64\n"
          ],
          "name": "stdout"
        }
      ]
    },
    {
      "cell_type": "code",
      "metadata": {
        "id": "OR23J1k4rRgD",
        "colab_type": "code",
        "outputId": "eea69f85-e427-4305-cdb6-f32eb4512a98",
        "colab": {
          "base_uri": "https://localhost:8080/",
          "height": 124
        }
      },
      "source": [
        "loss = ((test_50_point[y_name] - test_50_point['y_pred'])**2).sort_values(ascending=False)\n",
        "test_50_point['out'] = False\n",
        "test_50_point.loc[loss.head(5).index,'out'] = True\n",
        "print(loss.head(5))"
      ],
      "execution_count": 20,
      "outputs": [
        {
          "output_type": "stream",
          "text": [
            "95     8.887147\n",
            "135    8.279337\n",
            "145    6.465112\n",
            "130    4.520910\n",
            "60     3.705142\n",
            "dtype: float64\n"
          ],
          "name": "stdout"
        }
      ]
    },
    {
      "cell_type": "markdown",
      "metadata": {
        "id": "zB8CpMfRryC7",
        "colab_type": "text"
      },
      "source": [
        "# plot out"
      ]
    },
    {
      "cell_type": "code",
      "metadata": {
        "id": "ubjWpaOUxTl7",
        "colab_type": "code",
        "colab": {}
      },
      "source": [
        "def d_out_score(df,name):\n",
        "  df = df.loc[df['out'] == False]\n",
        "  return metric(df[y_name],df['y_pred'],name)"
      ],
      "execution_count": 0,
      "outputs": []
    },
    {
      "cell_type": "code",
      "metadata": {
        "id": "4Q8A2DEjsuZO",
        "colab_type": "code",
        "colab": {}
      },
      "source": [
        "def plot_out(df):\n",
        "  fig = plt.figure(figsize=(10,5))\n",
        "  out_point = df[df['out'] == True]\n",
        "  plt.plot(df[by_col],df['y_pred'],label='pred line',color='red')\n",
        "  plt.scatter(df[by_col],df[y_name],label='test point')\n",
        "  plt.scatter(out_point[by_col],out_point[y_name],label='out point',color='orange')\n",
        "  plt.xlabel(by_col)\n",
        "  plt.ylabel(y_name)\n",
        "  plt.legend()\n",
        "  plt.show()"
      ],
      "execution_count": 0,
      "outputs": []
    },
    {
      "cell_type": "code",
      "metadata": {
        "id": "wv_MWV1QrvcR",
        "colab_type": "code",
        "outputId": "3764eb56-a18b-46c2-cb9a-d55e93e089c6",
        "colab": {
          "base_uri": "https://localhost:8080/",
          "height": 395
        }
      },
      "source": [
        "plot_out(test_170_point)\n",
        "plt.show()\n",
        "d_out_score(test_170_point,'test_170')"
      ],
      "execution_count": 26,
      "outputs": [
        {
          "output_type": "display_data",
          "data": {
            "image/png": "[encoded data removed]",
            "text/plain": [
              "<Figure size 720x360 with 1 Axes>"
            ]
          },
          "metadata": {
            "tags": []
          }
        },
        {
          "output_type": "execute_result",
          "data": {
            "text/html": [
              "<div>\n",
              "<style scoped>\n",
              "    .dataframe tbody tr th:only-of-type {\n",
              "        vertical-align: middle;\n",
              "    }\n",
              "\n",
              "    .dataframe tbody tr th {\n",
              "        vertical-align: top;\n",
              "    }\n",
              "\n",
              "    .dataframe thead th {\n",
              "        text-align: right;\n",
              "    }\n",
              "</style>\n",
              "<table border=\"1\" class=\"dataframe\">\n",
              "  <thead>\n",
              "    <tr style=\"text-align: right;\">\n",
              "      <th></th>\n",
              "      <th>R2</th>\n",
              "      <th>RMSE</th>\n",
              "      <th>mean_absolute_error</th>\n",
              "    </tr>\n",
              "  </thead>\n",
              "  <tbody>\n",
              "    <tr>\n",
              "      <th>test_170</th>\n",
              "      <td>0.920433</td>\n",
              "      <td>0.444752</td>\n",
              "      <td>0.388696</td>\n",
              "    </tr>\n",
              "  </tbody>\n",
              "</table>\n",
              "</div>"
            ],
            "text/plain": [
              "                R2      RMSE  mean_absolute_error\n",
              "test_170  0.920433  0.444752             0.388696"
            ]
          },
          "metadata": {
            "tags": []
          },
          "execution_count": 26
        }
      ]
    },
    {
      "cell_type": "code",
      "metadata": {
        "id": "nVOFZy5GsBr4",
        "colab_type": "code",
        "outputId": "9994b30e-6dd2-4949-b9f0-f085b235b218",
        "colab": {
          "base_uri": "https://localhost:8080/",
          "height": 395
        }
      },
      "source": [
        "plot_out(test_50_point)\n",
        "plt.show()\n",
        "d_out_score(test_50_point,'test_50')"
      ],
      "execution_count": 27,
      "outputs": [
        {
          "output_type": "display_data",
          "data": {
            "image/png": "[encoded data removed]",
            "text/plain": [
              "<Figure size 720x360 with 1 Axes>"
            ]
          },
          "metadata": {
            "tags": []
          }
        },
        {
          "output_type": "execute_result",
          "data": {
            "text/html": [
              "<div>\n",
              "<style scoped>\n",
              "    .dataframe tbody tr th:only-of-type {\n",
              "        vertical-align: middle;\n",
              "    }\n",
              "\n",
              "    .dataframe tbody tr th {\n",
              "        vertical-align: top;\n",
              "    }\n",
              "\n",
              "    .dataframe thead th {\n",
              "        text-align: right;\n",
              "    }\n",
              "</style>\n",
              "<table border=\"1\" class=\"dataframe\">\n",
              "  <thead>\n",
              "    <tr style=\"text-align: right;\">\n",
              "      <th></th>\n",
              "      <th>R2</th>\n",
              "      <th>RMSE</th>\n",
              "      <th>mean_absolute_error</th>\n",
              "    </tr>\n",
              "  </thead>\n",
              "  <tbody>\n",
              "    <tr>\n",
              "      <th>test_50</th>\n",
              "      <td>0.760219</td>\n",
              "      <td>0.990795</td>\n",
              "      <td>0.829699</td>\n",
              "    </tr>\n",
              "  </tbody>\n",
              "</table>\n",
              "</div>"
            ],
            "text/plain": [
              "               R2      RMSE  mean_absolute_error\n",
              "test_50  0.760219  0.990795             0.829699"
            ]
          },
          "metadata": {
            "tags": []
          },
          "execution_count": 27
        }
      ]
    },
    {
      "cell_type": "code",
      "metadata": {
        "id": "v6hoOC43vaIQ",
        "colab_type": "code",
        "colab": {}
      },
      "source": [
        ""
      ],
      "execution_count": 0,
      "outputs": []
    }
  ]
}