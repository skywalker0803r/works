{
  "nbformat": 4,
  "nbformat_minor": 0,
  "metadata": {
    "colab": {
      "name": "輕油案子應用PCA主成分分析提升預測結果.ipynb",
      "provenance": [],
      "collapsed_sections": [],
      "include_colab_link": true
    },
    "kernelspec": {
      "name": "python3",
      "display_name": "Python 3"
    }
  },
  "cells": [
    {
      "cell_type": "markdown",
      "metadata": {
        "id": "view-in-github",
        "colab_type": "text"
      },
      "source": [
        "<a href=\"https://colab.research.google.com/github/skywalker0803r/works/blob/master/%E8%BC%95%E6%B2%B9%E6%A1%88%E5%AD%90%E6%87%89%E7%94%A8PCA%E4%B8%BB%E6%88%90%E5%88%86%E5%88%86%E6%9E%90%E6%8F%90%E5%8D%87%E9%A0%90%E6%B8%AC%E7%B5%90%E6%9E%9C.ipynb\" target=\"_parent\"><img src=\"https://colab.research.google.com/assets/colab-badge.svg\" alt=\"Open In Colab\"/></a>"
      ]
    },
    {
      "cell_type": "code",
      "metadata": {
        "id": "xTX2C4HX5ZFL",
        "colab_type": "code",
        "outputId": "eebba1c3-c93a-485e-def0-ce9f26918dd7",
        "colab": {
          "base_uri": "https://localhost:8080/",
          "height": 35
        }
      },
      "source": [
        "from google.colab import drive\n",
        "drive.mount('/content/drive')\n",
        "import warnings \n",
        "warnings.simplefilter('ignore')"
      ],
      "execution_count": 20,
      "outputs": [
        {
          "output_type": "stream",
          "text": [
            "Drive already mounted at /content/drive; to attempt to forcibly remount, call drive.mount(\"/content/drive\", force_remount=True).\n"
          ],
          "name": "stdout"
        }
      ]
    },
    {
      "cell_type": "markdown",
      "metadata": {
        "id": "ntB8KlJM6gEY",
        "colab_type": "text"
      },
      "source": [
        "# Load data"
      ]
    },
    {
      "cell_type": "code",
      "metadata": {
        "id": "no46PF6T5dPn",
        "colab_type": "code",
        "outputId": "6576957a-72f3-4585-f755-7c9cd8fdbfa2",
        "colab": {
          "base_uri": "https://localhost:8080/",
          "height": 52
        }
      },
      "source": [
        "import pandas as pd\n",
        "\n",
        "data = pd.read_csv('/content/drive/My Drive/台塑輕油案子/data/test_250.csv',index_col=0).reset_index(drop=True)\n",
        "mod  = data.index % 5\n",
        "train = data.loc[ mod != 0 ,:]\n",
        "test = data.loc[ mod == 0 ,:]\n",
        "print(train.shape)\n",
        "print(test.shape)"
      ],
      "execution_count": 21,
      "outputs": [
        {
          "output_type": "stream",
          "text": [
            "(200, 27)\n",
            "(50, 27)\n"
          ],
          "name": "stdout"
        }
      ]
    },
    {
      "cell_type": "code",
      "metadata": {
        "id": "xs44aGa_BfGC",
        "colab_type": "code",
        "outputId": "e8141fee-492a-4c68-883e-40ad25286af3",
        "colab": {
          "base_uri": "https://localhost:8080/",
          "height": 214
        }
      },
      "source": [
        "train.head()"
      ],
      "execution_count": 22,
      "outputs": [
        {
          "output_type": "execute_result",
          "data": {
            "text/html": [
              "<div>\n",
              "<style scoped>\n",
              "    .dataframe tbody tr th:only-of-type {\n",
              "        vertical-align: middle;\n",
              "    }\n",
              "\n",
              "    .dataframe tbody tr th {\n",
              "        vertical-align: top;\n",
              "    }\n",
              "\n",
              "    .dataframe thead th {\n",
              "        text-align: right;\n",
              "    }\n",
              "</style>\n",
              "<table border=\"1\" class=\"dataframe\">\n",
              "  <thead>\n",
              "    <tr style=\"text-align: right;\">\n",
              "      <th></th>\n",
              "      <th>T10</th>\n",
              "      <th>T50</th>\n",
              "      <th>T90</th>\n",
              "      <th>N+A</th>\n",
              "      <th>C5NP</th>\n",
              "      <th>C5IP</th>\n",
              "      <th>C5N</th>\n",
              "      <th>C6NP</th>\n",
              "      <th>C6IP</th>\n",
              "      <th>C6N</th>\n",
              "      <th>C6A</th>\n",
              "      <th>C7NP</th>\n",
              "      <th>C7IP</th>\n",
              "      <th>C7N</th>\n",
              "      <th>C7A</th>\n",
              "      <th>C8NP</th>\n",
              "      <th>C8IP</th>\n",
              "      <th>C8N</th>\n",
              "      <th>C8A</th>\n",
              "      <th>C9NP</th>\n",
              "      <th>C9IP</th>\n",
              "      <th>C9N</th>\n",
              "      <th>C9A</th>\n",
              "      <th>C10NP</th>\n",
              "      <th>C10IP</th>\n",
              "      <th>C10N</th>\n",
              "      <th>C10A</th>\n",
              "    </tr>\n",
              "  </thead>\n",
              "  <tbody>\n",
              "    <tr>\n",
              "      <th>1</th>\n",
              "      <td>74.9</td>\n",
              "      <td>105.9</td>\n",
              "      <td>138.6</td>\n",
              "      <td>39.082932</td>\n",
              "      <td>6.819271</td>\n",
              "      <td>5.891867</td>\n",
              "      <td>0.771648</td>\n",
              "      <td>5.836773</td>\n",
              "      <td>7.357714</td>\n",
              "      <td>6.355753</td>\n",
              "      <td>0.659941</td>\n",
              "      <td>5.309983</td>\n",
              "      <td>6.537441</td>\n",
              "      <td>11.889440</td>\n",
              "      <td>2.175804</td>\n",
              "      <td>5.337691</td>\n",
              "      <td>8.360263</td>\n",
              "      <td>9.078996</td>\n",
              "      <td>3.419692</td>\n",
              "      <td>2.224309</td>\n",
              "      <td>6.563137</td>\n",
              "      <td>4.008402</td>\n",
              "      <td>0.522953</td>\n",
              "      <td>0.057245</td>\n",
              "      <td>0.621373</td>\n",
              "      <td>0.165602</td>\n",
              "      <td>0.034701</td>\n",
              "    </tr>\n",
              "    <tr>\n",
              "      <th>2</th>\n",
              "      <td>60.4</td>\n",
              "      <td>97.9</td>\n",
              "      <td>144.4</td>\n",
              "      <td>40.934064</td>\n",
              "      <td>12.061397</td>\n",
              "      <td>8.788561</td>\n",
              "      <td>1.018949</td>\n",
              "      <td>6.671666</td>\n",
              "      <td>8.024599</td>\n",
              "      <td>10.116494</td>\n",
              "      <td>3.755812</td>\n",
              "      <td>4.855465</td>\n",
              "      <td>4.197693</td>\n",
              "      <td>12.283775</td>\n",
              "      <td>4.139793</td>\n",
              "      <td>3.781476</td>\n",
              "      <td>4.404284</td>\n",
              "      <td>3.863638</td>\n",
              "      <td>3.345833</td>\n",
              "      <td>2.205359</td>\n",
              "      <td>2.984103</td>\n",
              "      <td>1.368210</td>\n",
              "      <td>0.800960</td>\n",
              "      <td>0.414533</td>\n",
              "      <td>0.676800</td>\n",
              "      <td>0.070908</td>\n",
              "      <td>0.169692</td>\n",
              "    </tr>\n",
              "    <tr>\n",
              "      <th>3</th>\n",
              "      <td>100.4</td>\n",
              "      <td>114.0</td>\n",
              "      <td>137.0</td>\n",
              "      <td>53.849498</td>\n",
              "      <td>0.152985</td>\n",
              "      <td>0.054995</td>\n",
              "      <td>0.125987</td>\n",
              "      <td>2.097767</td>\n",
              "      <td>1.214444</td>\n",
              "      <td>7.428715</td>\n",
              "      <td>2.663734</td>\n",
              "      <td>6.475165</td>\n",
              "      <td>5.259181</td>\n",
              "      <td>15.397940</td>\n",
              "      <td>6.812319</td>\n",
              "      <td>7.602400</td>\n",
              "      <td>9.434827</td>\n",
              "      <td>8.037266</td>\n",
              "      <td>7.481252</td>\n",
              "      <td>3.877234</td>\n",
              "      <td>8.225184</td>\n",
              "      <td>3.917980</td>\n",
              "      <td>1.569843</td>\n",
              "      <td>0.421814</td>\n",
              "      <td>1.334506</td>\n",
              "      <td>0.127167</td>\n",
              "      <td>0.287296</td>\n",
              "    </tr>\n",
              "    <tr>\n",
              "      <th>4</th>\n",
              "      <td>105.7</td>\n",
              "      <td>127.5</td>\n",
              "      <td>154.6</td>\n",
              "      <td>44.225827</td>\n",
              "      <td>0.334270</td>\n",
              "      <td>0.215481</td>\n",
              "      <td>0.153186</td>\n",
              "      <td>2.306365</td>\n",
              "      <td>2.733433</td>\n",
              "      <td>3.013477</td>\n",
              "      <td>0.453959</td>\n",
              "      <td>4.235994</td>\n",
              "      <td>4.640280</td>\n",
              "      <td>8.692144</td>\n",
              "      <td>3.097721</td>\n",
              "      <td>6.825638</td>\n",
              "      <td>9.400184</td>\n",
              "      <td>8.999908</td>\n",
              "      <td>6.979372</td>\n",
              "      <td>5.567792</td>\n",
              "      <td>11.825300</td>\n",
              "      <td>7.673652</td>\n",
              "      <td>3.166715</td>\n",
              "      <td>1.524705</td>\n",
              "      <td>6.164731</td>\n",
              "      <td>0.415157</td>\n",
              "      <td>1.580535</td>\n",
              "    </tr>\n",
              "    <tr>\n",
              "      <th>6</th>\n",
              "      <td>106.0</td>\n",
              "      <td>125.4</td>\n",
              "      <td>159.8</td>\n",
              "      <td>54.454027</td>\n",
              "      <td>0.350789</td>\n",
              "      <td>0.220336</td>\n",
              "      <td>0.130728</td>\n",
              "      <td>1.183945</td>\n",
              "      <td>1.376936</td>\n",
              "      <td>3.548836</td>\n",
              "      <td>0.417912</td>\n",
              "      <td>3.073976</td>\n",
              "      <td>5.860175</td>\n",
              "      <td>12.842276</td>\n",
              "      <td>3.848192</td>\n",
              "      <td>4.339943</td>\n",
              "      <td>8.836537</td>\n",
              "      <td>10.087635</td>\n",
              "      <td>6.383659</td>\n",
              "      <td>3.155302</td>\n",
              "      <td>9.465907</td>\n",
              "      <td>7.226622</td>\n",
              "      <td>5.172914</td>\n",
              "      <td>1.604274</td>\n",
              "      <td>6.077852</td>\n",
              "      <td>0.922120</td>\n",
              "      <td>3.873133</td>\n",
              "    </tr>\n",
              "  </tbody>\n",
              "</table>\n",
              "</div>"
            ],
            "text/plain": [
              "     T10    T50    T90        N+A  ...     C10NP     C10IP      C10N      C10A\n",
              "1   74.9  105.9  138.6  39.082932  ...  0.057245  0.621373  0.165602  0.034701\n",
              "2   60.4   97.9  144.4  40.934064  ...  0.414533  0.676800  0.070908  0.169692\n",
              "3  100.4  114.0  137.0  53.849498  ...  0.421814  1.334506  0.127167  0.287296\n",
              "4  105.7  127.5  154.6  44.225827  ...  1.524705  6.164731  0.415157  1.580535\n",
              "6  106.0  125.4  159.8  54.454027  ...  1.604274  6.077852  0.922120  3.873133\n",
              "\n",
              "[5 rows x 27 columns]"
            ]
          },
          "metadata": {
            "tags": []
          },
          "execution_count": 22
        }
      ]
    },
    {
      "cell_type": "markdown",
      "metadata": {
        "id": "PBfuTR7h6dZB",
        "colab_type": "text"
      },
      "source": [
        "# def features & y_columns & y_name"
      ]
    },
    {
      "cell_type": "code",
      "metadata": {
        "id": "e5BetEQb51Q2",
        "colab_type": "code",
        "colab": {}
      },
      "source": [
        "features = ['T10','T50','T90','N+A']\n",
        "y_columns = ['C5NP','C5IP','C5N']\n",
        "y_name = 'V1'"
      ],
      "execution_count": 0,
      "outputs": []
    },
    {
      "cell_type": "markdown",
      "metadata": {
        "id": "yif8tpJcCYi5",
        "colab_type": "text"
      },
      "source": [
        "# 把幾個y 降維成 1個"
      ]
    },
    {
      "cell_type": "code",
      "metadata": {
        "id": "pMefc6_UCYtJ",
        "colab_type": "code",
        "colab": {}
      },
      "source": [
        "from sklearn.decomposition import PCA\n",
        "from sklearn.preprocessing import StandardScaler\n",
        "\n",
        "scaler_y = StandardScaler()\n",
        "pca = PCA(n_components=1)\n",
        "\n",
        "# fit & transform\n",
        "train[y_name] = pca.fit_transform(scaler_y.fit_transform(train[y_columns]))\n",
        "# transform\n",
        "test[y_name] = pca.transform(scaler_y.transform(test[y_columns]))"
      ],
      "execution_count": 0,
      "outputs": []
    },
    {
      "cell_type": "markdown",
      "metadata": {
        "id": "7k0KMhwJ68Su",
        "colab_type": "text"
      },
      "source": [
        "# scaler features"
      ]
    },
    {
      "cell_type": "code",
      "metadata": {
        "id": "Ak0H0-0_6RSF",
        "colab_type": "code",
        "colab": {}
      },
      "source": [
        "from sklearn.preprocessing import StandardScaler\n",
        "\n",
        "scaler_x = StandardScaler()\n",
        "scaler_x.fit(train[features])\n",
        "\n",
        "train[features] = scaler_x.transform(train[features])\n",
        "test[features] = scaler_x.transform(test[features])"
      ],
      "execution_count": 0,
      "outputs": []
    },
    {
      "cell_type": "markdown",
      "metadata": {
        "id": "qHfKFqWe7CV0",
        "colab_type": "text"
      },
      "source": [
        "# metric"
      ]
    },
    {
      "cell_type": "code",
      "metadata": {
        "id": "y89myTL87Azh",
        "colab_type": "code",
        "colab": {}
      },
      "source": [
        "from sklearn.metrics import r2_score,mean_squared_error,mean_absolute_error\n",
        "from math import sqrt\n",
        "def metric(y_t,y_p):\n",
        "  res = {'R2':r2_score(y_t,y_p),\n",
        "         'RMSE':sqrt(mean_squared_error(y_t,y_p)),\n",
        "         'mean_absolute_error':mean_absolute_error(y_t,y_p)}\n",
        "  return pd.DataFrame(res,index=[y_t.name])"
      ],
      "execution_count": 0,
      "outputs": []
    },
    {
      "cell_type": "markdown",
      "metadata": {
        "id": "LTucUDAM7KPx",
        "colab_type": "text"
      },
      "source": [
        "# modeling"
      ]
    },
    {
      "cell_type": "code",
      "metadata": {
        "id": "49KI3Hee7JLX",
        "colab_type": "code",
        "outputId": "338cd690-5208-4949-c00e-a80fec0f7163",
        "colab": {
          "base_uri": "https://localhost:8080/",
          "height": 130
        }
      },
      "source": [
        "import xgboost\n",
        "from sklearn.svm import SVR\n",
        "from sklearn.metrics.scorer import make_scorer\n",
        "from math import sqrt\n",
        "from lightgbm import LGBMRegressor\n",
        "from sklearn.ensemble import VotingRegressor\n",
        "from sklearn.model_selection import cross_validate\n",
        "from sklearn.linear_model import LinearRegression\n",
        "import warnings \n",
        "warnings.simplefilter('ignore')\n",
        "\n",
        "#model = xgboost.XGBRegressor(objective='reg:squarederror')\n",
        "model = SVR()\n",
        "#model = LinearRegression()\n",
        "\n",
        "#交叉驗證5次\n",
        "val_scores = cross_validate(model,train[features],train[y_name],cv=5,\n",
        "                            scoring = {'rmse': make_scorer(RMSE, greater_is_better=False)})\n",
        "\n",
        "print('val_scores:',val_scores['test_rmse'])\n",
        "print('val_scores.mean:',val_scores['test_rmse'].mean())\n",
        "\n",
        "# fit \n",
        "model.fit(train[features],train[y_name])\n",
        "# predict\n",
        "test['y_pred'] = model.predict(test[features])\n",
        "\n",
        "# metric\n",
        "print('test_scores:')\n",
        "metric(test[y_name],test['y_pred'])"
      ],
      "execution_count": 29,
      "outputs": [
        {
          "output_type": "stream",
          "text": [
            "val_scores: [-0.45612861 -0.56529545 -0.33473186 -0.18733698 -0.24042576]\n",
            "val_scores.mean: -0.3567837327707066\n",
            "test_scores:\n"
          ],
          "name": "stdout"
        },
        {
          "output_type": "execute_result",
          "data": {
            "text/html": [
              "<div>\n",
              "<style scoped>\n",
              "    .dataframe tbody tr th:only-of-type {\n",
              "        vertical-align: middle;\n",
              "    }\n",
              "\n",
              "    .dataframe tbody tr th {\n",
              "        vertical-align: top;\n",
              "    }\n",
              "\n",
              "    .dataframe thead th {\n",
              "        text-align: right;\n",
              "    }\n",
              "</style>\n",
              "<table border=\"1\" class=\"dataframe\">\n",
              "  <thead>\n",
              "    <tr style=\"text-align: right;\">\n",
              "      <th></th>\n",
              "      <th>R2</th>\n",
              "      <th>RMSE</th>\n",
              "      <th>mean_absolute_error</th>\n",
              "    </tr>\n",
              "  </thead>\n",
              "  <tbody>\n",
              "    <tr>\n",
              "      <th>V1</th>\n",
              "      <td>0.897437</td>\n",
              "      <td>0.499008</td>\n",
              "      <td>0.249879</td>\n",
              "    </tr>\n",
              "  </tbody>\n",
              "</table>\n",
              "</div>"
            ],
            "text/plain": [
              "          R2      RMSE  mean_absolute_error\n",
              "V1  0.897437  0.499008             0.249879"
            ]
          },
          "metadata": {
            "tags": []
          },
          "execution_count": 29
        }
      ]
    },
    {
      "cell_type": "markdown",
      "metadata": {
        "id": "7fleJOFK7T9y",
        "colab_type": "text"
      },
      "source": [
        "# line plot"
      ]
    },
    {
      "cell_type": "code",
      "metadata": {
        "id": "bYcpmCrq7ODl",
        "colab_type": "code",
        "outputId": "a88cafdd-40ec-4abc-f0ee-08db19948a25",
        "colab": {
          "base_uri": "https://localhost:8080/",
          "height": 340
        }
      },
      "source": [
        "import matplotlib.pyplot as plt\n",
        "\n",
        "fig = plt.figure(figsize=(30,5))\n",
        "\n",
        "#sorted point\n",
        "test_point = test.sort_values(by='T10')\n",
        "train_point = train.sort_values(by='T10')\n",
        "\n",
        "#y_pred line\n",
        "plt.plot(test_point['T10'],test_point['y_pred'],label='pred line',color='red')\n",
        "\n",
        "#test point\n",
        "plt.scatter(test_point['T10'],test_point[y_name],label='test point')\n",
        "\n",
        "#train point\n",
        "plt.scatter(train_point['T10'],train_point[y_name],label='train point')\n",
        "\n",
        "plt.legend()\n",
        "plt.show()"
      ],
      "execution_count": 30,
      "outputs": [
        {
          "output_type": "display_data",
          "data": {
            "image/png": "[encoded data removed]",
            "text/plain": [
              "<Figure size 2160x360 with 1 Axes>"
            ]
          },
          "metadata": {
            "tags": []
          }
        }
      ]
    },
    {
      "cell_type": "markdown",
      "metadata": {
        "id": "b9QxwQY-7vYB",
        "colab_type": "text"
      },
      "source": [
        "# check out"
      ]
    },
    {
      "cell_type": "code",
      "metadata": {
        "id": "gPCjgJ8-7XI2",
        "colab_type": "code",
        "outputId": "fa8d5a53-929b-45e7-c806-099ec299d759",
        "colab": {
          "base_uri": "https://localhost:8080/",
          "height": 124
        }
      },
      "source": [
        "loss = (test_point[y_name] - test_point['y_pred'])**2 # 平方誤差\n",
        "loss.sort_values(ascending=False).head(5)"
      ],
      "execution_count": 31,
      "outputs": [
        {
          "output_type": "execute_result",
          "data": {
            "text/plain": [
              "95     8.629114\n",
              "60     0.636319\n",
              "85     0.497537\n",
              "150    0.479574\n",
              "100    0.393685\n",
              "dtype: float64"
            ]
          },
          "metadata": {
            "tags": []
          },
          "execution_count": 31
        }
      ]
    },
    {
      "cell_type": "code",
      "metadata": {
        "id": "pAbyVAsS-ao3",
        "colab_type": "code",
        "outputId": "93305b01-5d6c-4f62-f0bd-d48b89d0f5f7",
        "colab": {
          "base_uri": "https://localhost:8080/",
          "height": 35
        }
      },
      "source": [
        "ub = loss.mean() + 3 * loss.std()\n",
        "ub"
      ],
      "execution_count": 32,
      "outputs": [
        {
          "output_type": "execute_result",
          "data": {
            "text/plain": [
              "3.90288733421167"
            ]
          },
          "metadata": {
            "tags": []
          },
          "execution_count": 32
        }
      ]
    },
    {
      "cell_type": "code",
      "metadata": {
        "id": "27MUyE7mE5iz",
        "colab_type": "code",
        "outputId": "09a48212-704e-488b-dbb6-b4b37b5489b0",
        "colab": {
          "base_uri": "https://localhost:8080/",
          "height": 35
        }
      },
      "source": [
        "out_index = list(loss[loss>ub].index)\n",
        "out_index"
      ],
      "execution_count": 33,
      "outputs": [
        {
          "output_type": "execute_result",
          "data": {
            "text/plain": [
              "[95]"
            ]
          },
          "metadata": {
            "tags": []
          },
          "execution_count": 33
        }
      ]
    },
    {
      "cell_type": "markdown",
      "metadata": {
        "id": "_n3OulSO7ykY",
        "colab_type": "text"
      },
      "source": [
        "# del out"
      ]
    },
    {
      "cell_type": "code",
      "metadata": {
        "id": "VTHNUGq-76v0",
        "colab_type": "code",
        "colab": {}
      },
      "source": [
        "#add out columns\n",
        "test_point['out'] = False\n",
        "test_point.loc[out_index ,'out'] = True\n",
        "\n",
        "#def out_point\n",
        "out_point = test_point[test_point['out'] == True]"
      ],
      "execution_count": 0,
      "outputs": []
    },
    {
      "cell_type": "code",
      "metadata": {
        "id": "EPGnufL47xCL",
        "colab_type": "code",
        "outputId": "f17f949d-c69d-43c1-cba5-9b81a5c80949",
        "colab": {
          "base_uri": "https://localhost:8080/",
          "height": 340
        }
      },
      "source": [
        "#fig\n",
        "fig = plt.figure(figsize=(30,5))\n",
        "\n",
        "#y_pred line\n",
        "plt.plot(test_point['T10'],test_point['y_pred'],label='pred line',color='red')\n",
        "\n",
        "#test point\n",
        "plt.scatter(test_point['T10'],test_point[y_name],label='test point')\n",
        "\n",
        "#out point\n",
        "plt.scatter(out_point['T10'],out_point[y_name],label='out point')\n",
        "\n",
        "plt.legend()\n",
        "plt.show()"
      ],
      "execution_count": 35,
      "outputs": [
        {
          "output_type": "display_data",
          "data": {
            "image/png": "[encoded data removed]",
            "text/plain": [
              "<Figure size 2160x360 with 1 Axes>"
            ]
          },
          "metadata": {
            "tags": []
          }
        }
      ]
    },
    {
      "cell_type": "markdown",
      "metadata": {
        "id": "uUsEqY268EtU",
        "colab_type": "text"
      },
      "source": [
        "# del_out_point_scores:"
      ]
    },
    {
      "cell_type": "code",
      "metadata": {
        "id": "dl344bp88A8z",
        "colab_type": "code",
        "outputId": "f124a57e-43e4-44b9-e239-bae8eb1c39af",
        "colab": {
          "base_uri": "https://localhost:8080/",
          "height": 94
        }
      },
      "source": [
        "print('del_out_point_scores:')\n",
        "metric(test_point.loc[test_point['out'] == False ,y_name],test_point.loc[test_point['out'] == False ,'y_pred'])"
      ],
      "execution_count": 36,
      "outputs": [
        {
          "output_type": "stream",
          "text": [
            "del_out_point_scores:\n"
          ],
          "name": "stdout"
        },
        {
          "output_type": "execute_result",
          "data": {
            "text/html": [
              "<div>\n",
              "<style scoped>\n",
              "    .dataframe tbody tr th:only-of-type {\n",
              "        vertical-align: middle;\n",
              "    }\n",
              "\n",
              "    .dataframe tbody tr th {\n",
              "        vertical-align: top;\n",
              "    }\n",
              "\n",
              "    .dataframe thead th {\n",
              "        text-align: right;\n",
              "    }\n",
              "</style>\n",
              "<table border=\"1\" class=\"dataframe\">\n",
              "  <thead>\n",
              "    <tr style=\"text-align: right;\">\n",
              "      <th></th>\n",
              "      <th>R2</th>\n",
              "      <th>RMSE</th>\n",
              "      <th>mean_absolute_error</th>\n",
              "    </tr>\n",
              "  </thead>\n",
              "  <tbody>\n",
              "    <tr>\n",
              "      <th>V1</th>\n",
              "      <td>0.968122</td>\n",
              "      <td>0.27926</td>\n",
              "      <td>0.195029</td>\n",
              "    </tr>\n",
              "  </tbody>\n",
              "</table>\n",
              "</div>"
            ],
            "text/plain": [
              "          R2     RMSE  mean_absolute_error\n",
              "V1  0.968122  0.27926             0.195029"
            ]
          },
          "metadata": {
            "tags": []
          },
          "execution_count": 36
        }
      ]
    },
    {
      "cell_type": "markdown",
      "metadata": {
        "id": "Fbwo-4yTWHEx",
        "colab_type": "text"
      },
      "source": [
        "# all scores"
      ]
    },
    {
      "cell_type": "code",
      "metadata": {
        "id": "hRZzRr16Iz5r",
        "colab_type": "code",
        "colab": {}
      },
      "source": [
        "y_pred_all = pd.DataFrame(scaler_y.inverse_transform(pca.inverse_transform(test[[y_name]])),index=test.index,columns=y_columns)\n",
        "y_test_all = test[y_columns]"
      ],
      "execution_count": 0,
      "outputs": []
    },
    {
      "cell_type": "code",
      "metadata": {
        "id": "tYCCpsaGYYfH",
        "colab_type": "code",
        "colab": {
          "base_uri": "https://localhost:8080/",
          "height": 164
        },
        "outputId": "648171d2-6fb8-482b-c0e1-cc8cab3bc99a"
      },
      "source": [
        "res = pd.DataFrame()\n",
        "for i in y_columns:\n",
        "  res = res.append(metric(y_test_all[i],y_pred_all[i]))\n",
        "res.loc['AVG'] = res.mean()\n",
        "res"
      ],
      "execution_count": 38,
      "outputs": [
        {
          "output_type": "execute_result",
          "data": {
            "text/html": [
              "<div>\n",
              "<style scoped>\n",
              "    .dataframe tbody tr th:only-of-type {\n",
              "        vertical-align: middle;\n",
              "    }\n",
              "\n",
              "    .dataframe tbody tr th {\n",
              "        vertical-align: top;\n",
              "    }\n",
              "\n",
              "    .dataframe thead th {\n",
              "        text-align: right;\n",
              "    }\n",
              "</style>\n",
              "<table border=\"1\" class=\"dataframe\">\n",
              "  <thead>\n",
              "    <tr style=\"text-align: right;\">\n",
              "      <th></th>\n",
              "      <th>R2</th>\n",
              "      <th>RMSE</th>\n",
              "      <th>mean_absolute_error</th>\n",
              "    </tr>\n",
              "  </thead>\n",
              "  <tbody>\n",
              "    <tr>\n",
              "      <th>C5NP</th>\n",
              "      <td>0.968140</td>\n",
              "      <td>0.696313</td>\n",
              "      <td>0.529057</td>\n",
              "    </tr>\n",
              "    <tr>\n",
              "      <th>C5IP</th>\n",
              "      <td>0.972815</td>\n",
              "      <td>0.442322</td>\n",
              "      <td>0.320035</td>\n",
              "    </tr>\n",
              "    <tr>\n",
              "      <th>C5N</th>\n",
              "      <td>0.963651</td>\n",
              "      <td>0.058450</td>\n",
              "      <td>0.050356</td>\n",
              "    </tr>\n",
              "    <tr>\n",
              "      <th>AVG</th>\n",
              "      <td>0.968202</td>\n",
              "      <td>0.399028</td>\n",
              "      <td>0.299816</td>\n",
              "    </tr>\n",
              "  </tbody>\n",
              "</table>\n",
              "</div>"
            ],
            "text/plain": [
              "            R2      RMSE  mean_absolute_error\n",
              "C5NP  0.968140  0.696313             0.529057\n",
              "C5IP  0.972815  0.442322             0.320035\n",
              "C5N   0.963651  0.058450             0.050356\n",
              "AVG   0.968202  0.399028             0.299816"
            ]
          },
          "metadata": {
            "tags": []
          },
          "execution_count": 38
        }
      ]
    },
    {
      "cell_type": "markdown",
      "metadata": {
        "id": "Lh0SDPERYZvj",
        "colab_type": "text"
      },
      "source": [
        "# del out all scores"
      ]
    },
    {
      "cell_type": "code",
      "metadata": {
        "id": "ZJxOdpfBSWG8",
        "colab_type": "code",
        "colab": {
          "base_uri": "https://localhost:8080/",
          "height": 35
        },
        "outputId": "403f6362-ede2-4e3b-f858-89cb8123eab0"
      },
      "source": [
        "print(out_index)\n",
        "y_pred_all = y_pred_all.drop(out_index,axis=0)\n",
        "y_test_all = y_test_all.drop(out_index,axis=0)"
      ],
      "execution_count": 39,
      "outputs": [
        {
          "output_type": "stream",
          "text": [
            "[95]\n"
          ],
          "name": "stdout"
        }
      ]
    },
    {
      "cell_type": "code",
      "metadata": {
        "id": "qNAbzcQnRPnh",
        "colab_type": "code",
        "colab": {
          "base_uri": "https://localhost:8080/",
          "height": 164
        },
        "outputId": "05194146-da8a-40be-f459-309705236106"
      },
      "source": [
        "res = pd.DataFrame()\n",
        "for i in y_columns:\n",
        "  res = res.append(metric(y_test_all[i],y_pred_all[i]))\n",
        "res.loc['AVG'] = res.mean()\n",
        "res"
      ],
      "execution_count": 40,
      "outputs": [
        {
          "output_type": "execute_result",
          "data": {
            "text/html": [
              "<div>\n",
              "<style scoped>\n",
              "    .dataframe tbody tr th:only-of-type {\n",
              "        vertical-align: middle;\n",
              "    }\n",
              "\n",
              "    .dataframe tbody tr th {\n",
              "        vertical-align: top;\n",
              "    }\n",
              "\n",
              "    .dataframe thead th {\n",
              "        text-align: right;\n",
              "    }\n",
              "</style>\n",
              "<table border=\"1\" class=\"dataframe\">\n",
              "  <thead>\n",
              "    <tr style=\"text-align: right;\">\n",
              "      <th></th>\n",
              "      <th>R2</th>\n",
              "      <th>RMSE</th>\n",
              "      <th>mean_absolute_error</th>\n",
              "    </tr>\n",
              "  </thead>\n",
              "  <tbody>\n",
              "    <tr>\n",
              "      <th>C5NP</th>\n",
              "      <td>0.967760</td>\n",
              "      <td>0.703357</td>\n",
              "      <td>0.539004</td>\n",
              "    </tr>\n",
              "    <tr>\n",
              "      <th>C5IP</th>\n",
              "      <td>0.974988</td>\n",
              "      <td>0.427681</td>\n",
              "      <td>0.308088</td>\n",
              "    </tr>\n",
              "    <tr>\n",
              "      <th>C5N</th>\n",
              "      <td>0.964846</td>\n",
              "      <td>0.057359</td>\n",
              "      <td>0.049383</td>\n",
              "    </tr>\n",
              "    <tr>\n",
              "      <th>AVG</th>\n",
              "      <td>0.969198</td>\n",
              "      <td>0.396132</td>\n",
              "      <td>0.298825</td>\n",
              "    </tr>\n",
              "  </tbody>\n",
              "</table>\n",
              "</div>"
            ],
            "text/plain": [
              "            R2      RMSE  mean_absolute_error\n",
              "C5NP  0.967760  0.703357             0.539004\n",
              "C5IP  0.974988  0.427681             0.308088\n",
              "C5N   0.964846  0.057359             0.049383\n",
              "AVG   0.969198  0.396132             0.298825"
            ]
          },
          "metadata": {
            "tags": []
          },
          "execution_count": 40
        }
      ]
    },
    {
      "cell_type": "code",
      "metadata": {
        "id": "8iYxbyTuRkzi",
        "colab_type": "code",
        "colab": {}
      },
      "source": [
        ""
      ],
      "execution_count": 0,
      "outputs": []
    }
  ]
}